{
 "cells": [
  {
   "cell_type": "markdown",
   "source": [
    "Examining the co-commit relationship between files,\n",
    "weighted by the number of commits shared, biased\n",
    "to the file's perspective of its neigbors\n",
    "\n",
    "A & B committed 20 times\n",
    "B & C committed 3 times\n",
    "C & D committed 4 times\n",
    "D & B committed 10 times\n",
    "\n",
    "So to A\n",
    "* B is in 100% of its commits\n",
    "\n",
    "To B:\n",
    "* C is in 3/13 commits\n",
    "* D is in 10/13 commits\n",
    "\n",
    "To C:\n",
    "* B is in 3/7 commits\n",
    "* D is in 4/7 commits\n",
    "\n",
    "To D:\n",
    "* C is in 4/14 of commits\n",
    "* B is in 10/14 of commits\n",
    "\n",
    "So the strongest relationships are A to B, B to C, C to D, D to B.\n",
    "None of them are reciprocal, but if you were to edit B, you'd want to check A and C too."
   ],
   "metadata": {
    "collapsed": false
   }
  },
  {
   "cell_type": "code",
   "execution_count": 3,
   "outputs": [],
   "source": [
    "import networkx as nx\n",
    "from gitminer import *\n",
    "from collections import Counter\n",
    "\n",
    "commit_graph = graph_commit_to_file(Repo('./quizzology'))\n"
   ],
   "metadata": {
    "collapsed": false,
    "ExecuteTime": {
     "end_time": "2023-08-18T16:41:30.661064Z",
     "start_time": "2023-08-18T16:41:26.648485Z"
    }
   }
  },
  {
   "cell_type": "code",
   "execution_count": null,
   "outputs": [],
   "source": [
    "august22 = DateRange.last30d(datetime(2022, 8, 31, 12, 00, 23))\n",
    "august_commits: nx.DiGraph  = build_time_limited_commit_graph(commit_graph, august22)\n",
    "print(august_commits.number_of_nodes())"
   ],
   "metadata": {
    "collapsed": false,
    "ExecuteTime": {
     "start_time": "2023-08-18T16:40:44.710928Z"
    }
   }
  },
  {
   "cell_type": "code",
   "execution_count": null,
   "outputs": [],
   "source": [
    "connections_counter = Counter(tuple(sorted(pair)) for pair in file_pairings_from_commit_graph(august_commits))\n"
   ],
   "metadata": {
    "collapsed": false,
    "ExecuteTime": {
     "start_time": "2023-08-18T16:40:44.712128Z"
    }
   }
  },
  {
   "cell_type": "code",
   "execution_count": null,
   "outputs": [],
   "source": [
    "x = [(*pair,count) for (pair,count) in connections_counter.items()]\n",
    "experiment = nx.Graph()\n",
    "experiment.add_weighted_edges_from(x)"
   ],
   "metadata": {
    "collapsed": false,
    "ExecuteTime": {
     "end_time": "2023-08-18T16:40:44.716049Z",
     "start_time": "2023-08-18T16:40:44.713213Z"
    }
   }
  },
  {
   "cell_type": "code",
   "execution_count": null,
   "outputs": [],
   "source": [
    "# Calculate, for a given file, what its primary affinities are?"
   ],
   "metadata": {
    "collapsed": false,
    "ExecuteTime": {
     "start_time": "2023-08-18T16:40:44.713950Z"
    }
   }
  },
  {
   "cell_type": "code",
   "execution_count": null,
   "outputs": [],
   "source": [
    "# What if we drop the minority affinities and graph the remainder?"
   ],
   "metadata": {
    "collapsed": false,
    "ExecuteTime": {
     "start_time": "2023-08-18T16:40:44.714689Z"
    }
   }
  }
 ],
 "metadata": {
  "kernelspec": {
   "name": "myenv",
   "language": "python",
   "display_name": "myenv"
  },
  "language_info": {
   "codemirror_mode": {
    "name": "ipython",
    "version": 2
   },
   "file_extension": ".py",
   "mimetype": "text/x-python",
   "name": "python",
   "nbconvert_exporter": "python",
   "pygments_lexer": "ipython2",
   "version": "2.7.6"
  }
 },
 "nbformat": 4,
 "nbformat_minor": 0
}
