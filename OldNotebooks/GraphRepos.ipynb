{
 "cells": [
  {
   "cell_type": "code",
   "execution_count": 111,
   "id": "a55012cd",
   "metadata": {
    "ExecuteTime": {
     "end_time": "2024-08-08T18:02:23.483155Z",
     "start_time": "2024-08-08T18:02:23.325995Z"
    }
   },
   "outputs": [],
   "source": [
    "import os\n",
    "from datetime import datetime, timedelta\n",
    "\n",
    "import git\n",
    "import pandas as pd\n",
    "import plotly.express as px"
   ]
  },
  {
   "cell_type": "markdown",
   "id": "932b9e73",
   "metadata": {},
   "source": [
    "# here it's good to get our bearings"
   ]
  },
  {
   "cell_type": "code",
   "execution_count": 112,
   "id": "da1d5a1c",
   "metadata": {
    "ExecuteTime": {
     "end_time": "2024-08-08T18:02:23.505640Z",
     "start_time": "2024-08-08T18:02:23.485495Z"
    }
   },
   "outputs": [
    {
     "data": {
      "text/plain": "'/Users/timottinger/Projects/gitminer-jupyter/OldNotebooks'"
     },
     "execution_count": 112,
     "metadata": {},
     "output_type": "execute_result"
    }
   ],
   "source": [
    "os.getcwd()"
   ]
  },
  {
   "cell_type": "markdown",
   "id": "fafdac5a",
   "metadata": {},
   "source": [
    "# read a repository to graph"
   ]
  },
  {
   "cell_type": "code",
   "execution_count": 113,
   "id": "752ad867",
   "metadata": {
    "ExecuteTime": {
     "end_time": "2024-08-08T18:02:23.515100Z",
     "start_time": "2024-08-08T18:02:23.508171Z"
    }
   },
   "outputs": [
    {
     "name": "stdout",
     "output_type": "stream",
     "text": [
      "Okay\n"
     ]
    }
   ],
   "source": [
    "def create_tag_interval_df(repo: git.Repo, since: datetime) -> pd.DataFrame:\n",
    "    source = ((tag_ref.name, tag_ref.commit.authored_datetime) for tag_ref in repo.tags)\n",
    "    raw_df = pd.DataFrame(data=source, columns=[\"name\", \"timestamp\"])\n",
    "    sorted_df = raw_df.sort_values(by=[\"timestamp\"])\n",
    "    graph_df = sorted_df[sorted_df['timestamp'] > since].copy()\n",
    "    graph_df['interval'] = graph_df['timestamp'].diff()\n",
    "    return graph_df\n",
    "\n",
    "\n",
    "print(\"Okay\")"
   ]
  },
  {
   "cell_type": "markdown",
   "id": "284ee25c",
   "metadata": {},
   "source": [
    "we will need to generate a dataframe for the tags, with label and timestamp"
   ]
  },
  {
   "cell_type": "markdown",
   "id": "e4158e7e",
   "metadata": {},
   "source": [
    "Let's filter this down to the given date and later"
   ]
  },
  {
   "cell_type": "code",
   "execution_count": 114,
   "id": "82d777c5",
   "metadata": {
    "ExecuteTime": {
     "end_time": "2024-08-08T18:02:24.204526Z",
     "start_time": "2024-08-08T18:02:23.516137Z"
    }
   },
   "outputs": [
    {
     "data": {
      "text/plain": "                                 name                  timestamp  \\\n390  production/v6.37.0-codepush.v142  2024-06-10 16:11:02-07:00   \n377                 production/6.38.0  2024-06-14 18:55:38+00:00   \n389  production/v6.36.0-codepush.v143  2024-06-14 16:09:18-07:00   \n391  production/v6.37.0-codepush.v144  2024-06-14 16:09:18-07:00   \n394  production/v6.38.0-codepush.v147  2024-06-14 16:09:18-07:00   \n392  production/v6.37.0-codepush.v145  2024-06-17 15:57:43-04:00   \n393  production/v6.38.0-codepush.v146  2024-06-17 15:57:43-04:00   \n865                           v6.39.0  2024-06-21 14:01:35-04:00   \n866                           v6.40.0  2024-06-28 15:35:31-04:00   \n867                           v6.41.0  2024-07-04 10:15:36+02:00   \n868                           v6.42.0  2024-07-08 21:07:37+00:00   \n869                           v6.43.0  2024-07-12 11:26:56+00:00   \n870             v6.43.0-codepush.v148  2024-07-12 09:46:17-05:00   \n871                           v6.44.0  2024-07-12 18:21:18-04:00   \n873                           v6.45.0  2024-07-19 15:25:11+00:00   \n875                           v6.46.0  2024-07-26 10:42:25-07:00   \n872             v6.44.0-codepush.v150  2024-07-31 15:50:09-07:00   \n874             v6.45.0-codepush.v149  2024-07-31 15:50:09-07:00   \n876                           v6.47.0  2024-08-02 15:33:20+02:00   \n877             v6.47.0-codepush.v151  2024-08-02 18:26:19-04:00   \n878                           v6.48.0  2024-08-05 12:55:55+02:00   \n\n           interval  \n390             NaT  \n377 3 days 19:44:36  \n389 0 days 04:13:40  \n391 0 days 00:00:00  \n394 0 days 00:00:00  \n392 2 days 20:48:25  \n393 0 days 00:00:00  \n865 3 days 22:03:52  \n866 7 days 01:33:56  \n867 5 days 12:40:05  \n868 4 days 12:52:01  \n869 3 days 14:19:19  \n870 0 days 03:19:21  \n871 0 days 07:35:01  \n873 6 days 17:03:53  \n875 7 days 02:17:14  \n872 5 days 05:07:44  \n874 0 days 00:00:00  \n876 1 days 14:43:11  \n877 0 days 08:52:59  \n878 2 days 12:29:36  ",
      "text/html": "<div>\n<style scoped>\n    .dataframe tbody tr th:only-of-type {\n        vertical-align: middle;\n    }\n\n    .dataframe tbody tr th {\n        vertical-align: top;\n    }\n\n    .dataframe thead th {\n        text-align: right;\n    }\n</style>\n<table border=\"1\" class=\"dataframe\">\n  <thead>\n    <tr style=\"text-align: right;\">\n      <th></th>\n      <th>name</th>\n      <th>timestamp</th>\n      <th>interval</th>\n    </tr>\n  </thead>\n  <tbody>\n    <tr>\n      <th>390</th>\n      <td>production/v6.37.0-codepush.v142</td>\n      <td>2024-06-10 16:11:02-07:00</td>\n      <td>NaT</td>\n    </tr>\n    <tr>\n      <th>377</th>\n      <td>production/6.38.0</td>\n      <td>2024-06-14 18:55:38+00:00</td>\n      <td>3 days 19:44:36</td>\n    </tr>\n    <tr>\n      <th>389</th>\n      <td>production/v6.36.0-codepush.v143</td>\n      <td>2024-06-14 16:09:18-07:00</td>\n      <td>0 days 04:13:40</td>\n    </tr>\n    <tr>\n      <th>391</th>\n      <td>production/v6.37.0-codepush.v144</td>\n      <td>2024-06-14 16:09:18-07:00</td>\n      <td>0 days 00:00:00</td>\n    </tr>\n    <tr>\n      <th>394</th>\n      <td>production/v6.38.0-codepush.v147</td>\n      <td>2024-06-14 16:09:18-07:00</td>\n      <td>0 days 00:00:00</td>\n    </tr>\n    <tr>\n      <th>392</th>\n      <td>production/v6.37.0-codepush.v145</td>\n      <td>2024-06-17 15:57:43-04:00</td>\n      <td>2 days 20:48:25</td>\n    </tr>\n    <tr>\n      <th>393</th>\n      <td>production/v6.38.0-codepush.v146</td>\n      <td>2024-06-17 15:57:43-04:00</td>\n      <td>0 days 00:00:00</td>\n    </tr>\n    <tr>\n      <th>865</th>\n      <td>v6.39.0</td>\n      <td>2024-06-21 14:01:35-04:00</td>\n      <td>3 days 22:03:52</td>\n    </tr>\n    <tr>\n      <th>866</th>\n      <td>v6.40.0</td>\n      <td>2024-06-28 15:35:31-04:00</td>\n      <td>7 days 01:33:56</td>\n    </tr>\n    <tr>\n      <th>867</th>\n      <td>v6.41.0</td>\n      <td>2024-07-04 10:15:36+02:00</td>\n      <td>5 days 12:40:05</td>\n    </tr>\n    <tr>\n      <th>868</th>\n      <td>v6.42.0</td>\n      <td>2024-07-08 21:07:37+00:00</td>\n      <td>4 days 12:52:01</td>\n    </tr>\n    <tr>\n      <th>869</th>\n      <td>v6.43.0</td>\n      <td>2024-07-12 11:26:56+00:00</td>\n      <td>3 days 14:19:19</td>\n    </tr>\n    <tr>\n      <th>870</th>\n      <td>v6.43.0-codepush.v148</td>\n      <td>2024-07-12 09:46:17-05:00</td>\n      <td>0 days 03:19:21</td>\n    </tr>\n    <tr>\n      <th>871</th>\n      <td>v6.44.0</td>\n      <td>2024-07-12 18:21:18-04:00</td>\n      <td>0 days 07:35:01</td>\n    </tr>\n    <tr>\n      <th>873</th>\n      <td>v6.45.0</td>\n      <td>2024-07-19 15:25:11+00:00</td>\n      <td>6 days 17:03:53</td>\n    </tr>\n    <tr>\n      <th>875</th>\n      <td>v6.46.0</td>\n      <td>2024-07-26 10:42:25-07:00</td>\n      <td>7 days 02:17:14</td>\n    </tr>\n    <tr>\n      <th>872</th>\n      <td>v6.44.0-codepush.v150</td>\n      <td>2024-07-31 15:50:09-07:00</td>\n      <td>5 days 05:07:44</td>\n    </tr>\n    <tr>\n      <th>874</th>\n      <td>v6.45.0-codepush.v149</td>\n      <td>2024-07-31 15:50:09-07:00</td>\n      <td>0 days 00:00:00</td>\n    </tr>\n    <tr>\n      <th>876</th>\n      <td>v6.47.0</td>\n      <td>2024-08-02 15:33:20+02:00</td>\n      <td>1 days 14:43:11</td>\n    </tr>\n    <tr>\n      <th>877</th>\n      <td>v6.47.0-codepush.v151</td>\n      <td>2024-08-02 18:26:19-04:00</td>\n      <td>0 days 08:52:59</td>\n    </tr>\n    <tr>\n      <th>878</th>\n      <td>v6.48.0</td>\n      <td>2024-08-05 12:55:55+02:00</td>\n      <td>2 days 12:29:36</td>\n    </tr>\n  </tbody>\n</table>\n</div>"
     },
     "execution_count": 114,
     "metadata": {},
     "output_type": "execute_result"
    }
   ],
   "source": [
    "repo = git.Repo(\"../../ClassDojo/dojo-android\")\n",
    "start_date = datetime.today().astimezone() - timedelta(days=60)\n",
    "graph_df = create_tag_interval_df(repo, start_date)\n",
    "graph_df"
   ]
  },
  {
   "cell_type": "markdown",
   "id": "67b6eb62",
   "metadata": {},
   "source": [
    "This should give us something to work with"
   ]
  },
  {
   "cell_type": "code",
   "execution_count": 115,
   "id": "6a4f5d7d",
   "metadata": {
    "scrolled": false,
    "ExecuteTime": {
     "end_time": "2024-08-08T18:02:24.317269Z",
     "start_time": "2024-08-08T18:02:24.308025Z"
    }
   },
   "outputs": [
    {
     "data": {
      "application/vnd.plotly.v1+json": {
       "data": [
        {
         "alignmentgroup": "True",
         "hovertemplate": "timestamp=%{x}<br>interval=%{y}<extra></extra>",
         "legendgroup": "",
         "marker": {
          "color": "#636efa",
          "pattern": {
           "shape": ""
          }
         },
         "name": "",
         "offsetgroup": "",
         "orientation": "v",
         "showlegend": false,
         "textposition": "auto",
         "x": [
          "2024-06-10T16:11:02-07:00",
          "2024-06-14T18:55:38+00:00",
          "2024-06-14T16:09:18-07:00",
          "2024-06-14T16:09:18-07:00",
          "2024-06-14T16:09:18-07:00",
          "2024-06-17T15:57:43-04:00",
          "2024-06-17T15:57:43-04:00",
          "2024-06-21T14:01:35-04:00",
          "2024-06-28T15:35:31-04:00",
          "2024-07-04T10:15:36+02:00",
          "2024-07-08T21:07:37+00:00",
          "2024-07-12T11:26:56+00:00",
          "2024-07-12T09:46:17-05:00",
          "2024-07-12T18:21:18-04:00",
          "2024-07-19T15:25:11+00:00",
          "2024-07-26T10:42:25-07:00",
          "2024-07-31T15:50:09-07:00",
          "2024-07-31T15:50:09-07:00",
          "2024-08-02T15:33:20+02:00",
          "2024-08-02T18:26:19-04:00",
          "2024-08-05T12:55:55+02:00"
         ],
         "xaxis": "x",
         "y": [
          null,
          330276000000000,
          15220000000000,
          0,
          0,
          247705000000000,
          0,
          338632000000000,
          610436000000000,
          477605000000000,
          391921000000000,
          310759000000000,
          11961000000000,
          27301000000000,
          579833000000000,
          613034000000000,
          450464000000000,
          0,
          139391000000000,
          31979000000000,
          217776000000000
         ],
         "yaxis": "y",
         "type": "bar"
        }
       ],
       "layout": {
        "template": {
         "data": {
          "histogram2dcontour": [
           {
            "type": "histogram2dcontour",
            "colorbar": {
             "outlinewidth": 0,
             "ticks": ""
            },
            "colorscale": [
             [
              0.0,
              "#0d0887"
             ],
             [
              0.1111111111111111,
              "#46039f"
             ],
             [
              0.2222222222222222,
              "#7201a8"
             ],
             [
              0.3333333333333333,
              "#9c179e"
             ],
             [
              0.4444444444444444,
              "#bd3786"
             ],
             [
              0.5555555555555556,
              "#d8576b"
             ],
             [
              0.6666666666666666,
              "#ed7953"
             ],
             [
              0.7777777777777778,
              "#fb9f3a"
             ],
             [
              0.8888888888888888,
              "#fdca26"
             ],
             [
              1.0,
              "#f0f921"
             ]
            ]
           }
          ],
          "choropleth": [
           {
            "type": "choropleth",
            "colorbar": {
             "outlinewidth": 0,
             "ticks": ""
            }
           }
          ],
          "histogram2d": [
           {
            "type": "histogram2d",
            "colorbar": {
             "outlinewidth": 0,
             "ticks": ""
            },
            "colorscale": [
             [
              0.0,
              "#0d0887"
             ],
             [
              0.1111111111111111,
              "#46039f"
             ],
             [
              0.2222222222222222,
              "#7201a8"
             ],
             [
              0.3333333333333333,
              "#9c179e"
             ],
             [
              0.4444444444444444,
              "#bd3786"
             ],
             [
              0.5555555555555556,
              "#d8576b"
             ],
             [
              0.6666666666666666,
              "#ed7953"
             ],
             [
              0.7777777777777778,
              "#fb9f3a"
             ],
             [
              0.8888888888888888,
              "#fdca26"
             ],
             [
              1.0,
              "#f0f921"
             ]
            ]
           }
          ],
          "heatmap": [
           {
            "type": "heatmap",
            "colorbar": {
             "outlinewidth": 0,
             "ticks": ""
            },
            "colorscale": [
             [
              0.0,
              "#0d0887"
             ],
             [
              0.1111111111111111,
              "#46039f"
             ],
             [
              0.2222222222222222,
              "#7201a8"
             ],
             [
              0.3333333333333333,
              "#9c179e"
             ],
             [
              0.4444444444444444,
              "#bd3786"
             ],
             [
              0.5555555555555556,
              "#d8576b"
             ],
             [
              0.6666666666666666,
              "#ed7953"
             ],
             [
              0.7777777777777778,
              "#fb9f3a"
             ],
             [
              0.8888888888888888,
              "#fdca26"
             ],
             [
              1.0,
              "#f0f921"
             ]
            ]
           }
          ],
          "heatmapgl": [
           {
            "type": "heatmapgl",
            "colorbar": {
             "outlinewidth": 0,
             "ticks": ""
            },
            "colorscale": [
             [
              0.0,
              "#0d0887"
             ],
             [
              0.1111111111111111,
              "#46039f"
             ],
             [
              0.2222222222222222,
              "#7201a8"
             ],
             [
              0.3333333333333333,
              "#9c179e"
             ],
             [
              0.4444444444444444,
              "#bd3786"
             ],
             [
              0.5555555555555556,
              "#d8576b"
             ],
             [
              0.6666666666666666,
              "#ed7953"
             ],
             [
              0.7777777777777778,
              "#fb9f3a"
             ],
             [
              0.8888888888888888,
              "#fdca26"
             ],
             [
              1.0,
              "#f0f921"
             ]
            ]
           }
          ],
          "contourcarpet": [
           {
            "type": "contourcarpet",
            "colorbar": {
             "outlinewidth": 0,
             "ticks": ""
            }
           }
          ],
          "contour": [
           {
            "type": "contour",
            "colorbar": {
             "outlinewidth": 0,
             "ticks": ""
            },
            "colorscale": [
             [
              0.0,
              "#0d0887"
             ],
             [
              0.1111111111111111,
              "#46039f"
             ],
             [
              0.2222222222222222,
              "#7201a8"
             ],
             [
              0.3333333333333333,
              "#9c179e"
             ],
             [
              0.4444444444444444,
              "#bd3786"
             ],
             [
              0.5555555555555556,
              "#d8576b"
             ],
             [
              0.6666666666666666,
              "#ed7953"
             ],
             [
              0.7777777777777778,
              "#fb9f3a"
             ],
             [
              0.8888888888888888,
              "#fdca26"
             ],
             [
              1.0,
              "#f0f921"
             ]
            ]
           }
          ],
          "surface": [
           {
            "type": "surface",
            "colorbar": {
             "outlinewidth": 0,
             "ticks": ""
            },
            "colorscale": [
             [
              0.0,
              "#0d0887"
             ],
             [
              0.1111111111111111,
              "#46039f"
             ],
             [
              0.2222222222222222,
              "#7201a8"
             ],
             [
              0.3333333333333333,
              "#9c179e"
             ],
             [
              0.4444444444444444,
              "#bd3786"
             ],
             [
              0.5555555555555556,
              "#d8576b"
             ],
             [
              0.6666666666666666,
              "#ed7953"
             ],
             [
              0.7777777777777778,
              "#fb9f3a"
             ],
             [
              0.8888888888888888,
              "#fdca26"
             ],
             [
              1.0,
              "#f0f921"
             ]
            ]
           }
          ],
          "mesh3d": [
           {
            "type": "mesh3d",
            "colorbar": {
             "outlinewidth": 0,
             "ticks": ""
            }
           }
          ],
          "scatter": [
           {
            "fillpattern": {
             "fillmode": "overlay",
             "size": 10,
             "solidity": 0.2
            },
            "type": "scatter"
           }
          ],
          "parcoords": [
           {
            "type": "parcoords",
            "line": {
             "colorbar": {
              "outlinewidth": 0,
              "ticks": ""
             }
            }
           }
          ],
          "scatterpolargl": [
           {
            "type": "scatterpolargl",
            "marker": {
             "colorbar": {
              "outlinewidth": 0,
              "ticks": ""
             }
            }
           }
          ],
          "bar": [
           {
            "error_x": {
             "color": "#2a3f5f"
            },
            "error_y": {
             "color": "#2a3f5f"
            },
            "marker": {
             "line": {
              "color": "#E5ECF6",
              "width": 0.5
             },
             "pattern": {
              "fillmode": "overlay",
              "size": 10,
              "solidity": 0.2
             }
            },
            "type": "bar"
           }
          ],
          "scattergeo": [
           {
            "type": "scattergeo",
            "marker": {
             "colorbar": {
              "outlinewidth": 0,
              "ticks": ""
             }
            }
           }
          ],
          "scatterpolar": [
           {
            "type": "scatterpolar",
            "marker": {
             "colorbar": {
              "outlinewidth": 0,
              "ticks": ""
             }
            }
           }
          ],
          "histogram": [
           {
            "marker": {
             "pattern": {
              "fillmode": "overlay",
              "size": 10,
              "solidity": 0.2
             }
            },
            "type": "histogram"
           }
          ],
          "scattergl": [
           {
            "type": "scattergl",
            "marker": {
             "colorbar": {
              "outlinewidth": 0,
              "ticks": ""
             }
            }
           }
          ],
          "scatter3d": [
           {
            "type": "scatter3d",
            "line": {
             "colorbar": {
              "outlinewidth": 0,
              "ticks": ""
             }
            },
            "marker": {
             "colorbar": {
              "outlinewidth": 0,
              "ticks": ""
             }
            }
           }
          ],
          "scattermapbox": [
           {
            "type": "scattermapbox",
            "marker": {
             "colorbar": {
              "outlinewidth": 0,
              "ticks": ""
             }
            }
           }
          ],
          "scatterternary": [
           {
            "type": "scatterternary",
            "marker": {
             "colorbar": {
              "outlinewidth": 0,
              "ticks": ""
             }
            }
           }
          ],
          "scattercarpet": [
           {
            "type": "scattercarpet",
            "marker": {
             "colorbar": {
              "outlinewidth": 0,
              "ticks": ""
             }
            }
           }
          ],
          "carpet": [
           {
            "aaxis": {
             "endlinecolor": "#2a3f5f",
             "gridcolor": "white",
             "linecolor": "white",
             "minorgridcolor": "white",
             "startlinecolor": "#2a3f5f"
            },
            "baxis": {
             "endlinecolor": "#2a3f5f",
             "gridcolor": "white",
             "linecolor": "white",
             "minorgridcolor": "white",
             "startlinecolor": "#2a3f5f"
            },
            "type": "carpet"
           }
          ],
          "table": [
           {
            "cells": {
             "fill": {
              "color": "#EBF0F8"
             },
             "line": {
              "color": "white"
             }
            },
            "header": {
             "fill": {
              "color": "#C8D4E3"
             },
             "line": {
              "color": "white"
             }
            },
            "type": "table"
           }
          ],
          "barpolar": [
           {
            "marker": {
             "line": {
              "color": "#E5ECF6",
              "width": 0.5
             },
             "pattern": {
              "fillmode": "overlay",
              "size": 10,
              "solidity": 0.2
             }
            },
            "type": "barpolar"
           }
          ],
          "pie": [
           {
            "automargin": true,
            "type": "pie"
           }
          ]
         },
         "layout": {
          "autotypenumbers": "strict",
          "colorway": [
           "#636efa",
           "#EF553B",
           "#00cc96",
           "#ab63fa",
           "#FFA15A",
           "#19d3f3",
           "#FF6692",
           "#B6E880",
           "#FF97FF",
           "#FECB52"
          ],
          "font": {
           "color": "#2a3f5f"
          },
          "hovermode": "closest",
          "hoverlabel": {
           "align": "left"
          },
          "paper_bgcolor": "white",
          "plot_bgcolor": "#E5ECF6",
          "polar": {
           "bgcolor": "#E5ECF6",
           "angularaxis": {
            "gridcolor": "white",
            "linecolor": "white",
            "ticks": ""
           },
           "radialaxis": {
            "gridcolor": "white",
            "linecolor": "white",
            "ticks": ""
           }
          },
          "ternary": {
           "bgcolor": "#E5ECF6",
           "aaxis": {
            "gridcolor": "white",
            "linecolor": "white",
            "ticks": ""
           },
           "baxis": {
            "gridcolor": "white",
            "linecolor": "white",
            "ticks": ""
           },
           "caxis": {
            "gridcolor": "white",
            "linecolor": "white",
            "ticks": ""
           }
          },
          "coloraxis": {
           "colorbar": {
            "outlinewidth": 0,
            "ticks": ""
           }
          },
          "colorscale": {
           "sequential": [
            [
             0.0,
             "#0d0887"
            ],
            [
             0.1111111111111111,
             "#46039f"
            ],
            [
             0.2222222222222222,
             "#7201a8"
            ],
            [
             0.3333333333333333,
             "#9c179e"
            ],
            [
             0.4444444444444444,
             "#bd3786"
            ],
            [
             0.5555555555555556,
             "#d8576b"
            ],
            [
             0.6666666666666666,
             "#ed7953"
            ],
            [
             0.7777777777777778,
             "#fb9f3a"
            ],
            [
             0.8888888888888888,
             "#fdca26"
            ],
            [
             1.0,
             "#f0f921"
            ]
           ],
           "sequentialminus": [
            [
             0.0,
             "#0d0887"
            ],
            [
             0.1111111111111111,
             "#46039f"
            ],
            [
             0.2222222222222222,
             "#7201a8"
            ],
            [
             0.3333333333333333,
             "#9c179e"
            ],
            [
             0.4444444444444444,
             "#bd3786"
            ],
            [
             0.5555555555555556,
             "#d8576b"
            ],
            [
             0.6666666666666666,
             "#ed7953"
            ],
            [
             0.7777777777777778,
             "#fb9f3a"
            ],
            [
             0.8888888888888888,
             "#fdca26"
            ],
            [
             1.0,
             "#f0f921"
            ]
           ],
           "diverging": [
            [
             0,
             "#8e0152"
            ],
            [
             0.1,
             "#c51b7d"
            ],
            [
             0.2,
             "#de77ae"
            ],
            [
             0.3,
             "#f1b6da"
            ],
            [
             0.4,
             "#fde0ef"
            ],
            [
             0.5,
             "#f7f7f7"
            ],
            [
             0.6,
             "#e6f5d0"
            ],
            [
             0.7,
             "#b8e186"
            ],
            [
             0.8,
             "#7fbc41"
            ],
            [
             0.9,
             "#4d9221"
            ],
            [
             1,
             "#276419"
            ]
           ]
          },
          "xaxis": {
           "gridcolor": "white",
           "linecolor": "white",
           "ticks": "",
           "title": {
            "standoff": 15
           },
           "zerolinecolor": "white",
           "automargin": true,
           "zerolinewidth": 2
          },
          "yaxis": {
           "gridcolor": "white",
           "linecolor": "white",
           "ticks": "",
           "title": {
            "standoff": 15
           },
           "zerolinecolor": "white",
           "automargin": true,
           "zerolinewidth": 2
          },
          "scene": {
           "xaxis": {
            "backgroundcolor": "#E5ECF6",
            "gridcolor": "white",
            "linecolor": "white",
            "showbackground": true,
            "ticks": "",
            "zerolinecolor": "white",
            "gridwidth": 2
           },
           "yaxis": {
            "backgroundcolor": "#E5ECF6",
            "gridcolor": "white",
            "linecolor": "white",
            "showbackground": true,
            "ticks": "",
            "zerolinecolor": "white",
            "gridwidth": 2
           },
           "zaxis": {
            "backgroundcolor": "#E5ECF6",
            "gridcolor": "white",
            "linecolor": "white",
            "showbackground": true,
            "ticks": "",
            "zerolinecolor": "white",
            "gridwidth": 2
           }
          },
          "shapedefaults": {
           "line": {
            "color": "#2a3f5f"
           }
          },
          "annotationdefaults": {
           "arrowcolor": "#2a3f5f",
           "arrowhead": 0,
           "arrowwidth": 1
          },
          "geo": {
           "bgcolor": "white",
           "landcolor": "#E5ECF6",
           "subunitcolor": "white",
           "showland": true,
           "showlakes": true,
           "lakecolor": "white"
          },
          "title": {
           "x": 0.05
          },
          "mapbox": {
           "style": "light"
          }
         }
        },
        "xaxis": {
         "anchor": "y",
         "domain": [
          0.0,
          1.0
         ],
         "title": {
          "text": "timestamp"
         }
        },
        "yaxis": {
         "anchor": "x",
         "domain": [
          0.0,
          1.0
         ],
         "title": {
          "text": "interval"
         }
        },
        "legend": {
         "tracegroupgap": 0
        },
        "title": {
         "text": "Release Delay"
        },
        "barmode": "relative"
       },
       "config": {
        "plotlyServerURL": "https://plot.ly"
       }
      },
      "text/html": "<div>                            <div id=\"1b8529d5-7ddd-4f85-a694-17d34b141414\" class=\"plotly-graph-div\" style=\"height:525px; width:100%;\"></div>            <script type=\"text/javascript\">                require([\"plotly\"], function(Plotly) {                    window.PLOTLYENV=window.PLOTLYENV || {};                                    if (document.getElementById(\"1b8529d5-7ddd-4f85-a694-17d34b141414\")) {                    Plotly.newPlot(                        \"1b8529d5-7ddd-4f85-a694-17d34b141414\",                        [{\"alignmentgroup\":\"True\",\"hovertemplate\":\"timestamp=%{x}\\u003cbr\\u003einterval=%{y}\\u003cextra\\u003e\\u003c\\u002fextra\\u003e\",\"legendgroup\":\"\",\"marker\":{\"color\":\"#636efa\",\"pattern\":{\"shape\":\"\"}},\"name\":\"\",\"offsetgroup\":\"\",\"orientation\":\"v\",\"showlegend\":false,\"textposition\":\"auto\",\"x\":[\"2024-06-10T16:11:02-07:00\",\"2024-06-14T18:55:38+00:00\",\"2024-06-14T16:09:18-07:00\",\"2024-06-14T16:09:18-07:00\",\"2024-06-14T16:09:18-07:00\",\"2024-06-17T15:57:43-04:00\",\"2024-06-17T15:57:43-04:00\",\"2024-06-21T14:01:35-04:00\",\"2024-06-28T15:35:31-04:00\",\"2024-07-04T10:15:36+02:00\",\"2024-07-08T21:07:37+00:00\",\"2024-07-12T11:26:56+00:00\",\"2024-07-12T09:46:17-05:00\",\"2024-07-12T18:21:18-04:00\",\"2024-07-19T15:25:11+00:00\",\"2024-07-26T10:42:25-07:00\",\"2024-07-31T15:50:09-07:00\",\"2024-07-31T15:50:09-07:00\",\"2024-08-02T15:33:20+02:00\",\"2024-08-02T18:26:19-04:00\",\"2024-08-05T12:55:55+02:00\"],\"xaxis\":\"x\",\"y\":[null,330276000000000,15220000000000,0,0,247705000000000,0,338632000000000,610436000000000,477605000000000,391921000000000,310759000000000,11961000000000,27301000000000,579833000000000,613034000000000,450464000000000,0,139391000000000,31979000000000,217776000000000],\"yaxis\":\"y\",\"type\":\"bar\"}],                        {\"template\":{\"data\":{\"histogram2dcontour\":[{\"type\":\"histogram2dcontour\",\"colorbar\":{\"outlinewidth\":0,\"ticks\":\"\"},\"colorscale\":[[0.0,\"#0d0887\"],[0.1111111111111111,\"#46039f\"],[0.2222222222222222,\"#7201a8\"],[0.3333333333333333,\"#9c179e\"],[0.4444444444444444,\"#bd3786\"],[0.5555555555555556,\"#d8576b\"],[0.6666666666666666,\"#ed7953\"],[0.7777777777777778,\"#fb9f3a\"],[0.8888888888888888,\"#fdca26\"],[1.0,\"#f0f921\"]]}],\"choropleth\":[{\"type\":\"choropleth\",\"colorbar\":{\"outlinewidth\":0,\"ticks\":\"\"}}],\"histogram2d\":[{\"type\":\"histogram2d\",\"colorbar\":{\"outlinewidth\":0,\"ticks\":\"\"},\"colorscale\":[[0.0,\"#0d0887\"],[0.1111111111111111,\"#46039f\"],[0.2222222222222222,\"#7201a8\"],[0.3333333333333333,\"#9c179e\"],[0.4444444444444444,\"#bd3786\"],[0.5555555555555556,\"#d8576b\"],[0.6666666666666666,\"#ed7953\"],[0.7777777777777778,\"#fb9f3a\"],[0.8888888888888888,\"#fdca26\"],[1.0,\"#f0f921\"]]}],\"heatmap\":[{\"type\":\"heatmap\",\"colorbar\":{\"outlinewidth\":0,\"ticks\":\"\"},\"colorscale\":[[0.0,\"#0d0887\"],[0.1111111111111111,\"#46039f\"],[0.2222222222222222,\"#7201a8\"],[0.3333333333333333,\"#9c179e\"],[0.4444444444444444,\"#bd3786\"],[0.5555555555555556,\"#d8576b\"],[0.6666666666666666,\"#ed7953\"],[0.7777777777777778,\"#fb9f3a\"],[0.8888888888888888,\"#fdca26\"],[1.0,\"#f0f921\"]]}],\"heatmapgl\":[{\"type\":\"heatmapgl\",\"colorbar\":{\"outlinewidth\":0,\"ticks\":\"\"},\"colorscale\":[[0.0,\"#0d0887\"],[0.1111111111111111,\"#46039f\"],[0.2222222222222222,\"#7201a8\"],[0.3333333333333333,\"#9c179e\"],[0.4444444444444444,\"#bd3786\"],[0.5555555555555556,\"#d8576b\"],[0.6666666666666666,\"#ed7953\"],[0.7777777777777778,\"#fb9f3a\"],[0.8888888888888888,\"#fdca26\"],[1.0,\"#f0f921\"]]}],\"contourcarpet\":[{\"type\":\"contourcarpet\",\"colorbar\":{\"outlinewidth\":0,\"ticks\":\"\"}}],\"contour\":[{\"type\":\"contour\",\"colorbar\":{\"outlinewidth\":0,\"ticks\":\"\"},\"colorscale\":[[0.0,\"#0d0887\"],[0.1111111111111111,\"#46039f\"],[0.2222222222222222,\"#7201a8\"],[0.3333333333333333,\"#9c179e\"],[0.4444444444444444,\"#bd3786\"],[0.5555555555555556,\"#d8576b\"],[0.6666666666666666,\"#ed7953\"],[0.7777777777777778,\"#fb9f3a\"],[0.8888888888888888,\"#fdca26\"],[1.0,\"#f0f921\"]]}],\"surface\":[{\"type\":\"surface\",\"colorbar\":{\"outlinewidth\":0,\"ticks\":\"\"},\"colorscale\":[[0.0,\"#0d0887\"],[0.1111111111111111,\"#46039f\"],[0.2222222222222222,\"#7201a8\"],[0.3333333333333333,\"#9c179e\"],[0.4444444444444444,\"#bd3786\"],[0.5555555555555556,\"#d8576b\"],[0.6666666666666666,\"#ed7953\"],[0.7777777777777778,\"#fb9f3a\"],[0.8888888888888888,\"#fdca26\"],[1.0,\"#f0f921\"]]}],\"mesh3d\":[{\"type\":\"mesh3d\",\"colorbar\":{\"outlinewidth\":0,\"ticks\":\"\"}}],\"scatter\":[{\"fillpattern\":{\"fillmode\":\"overlay\",\"size\":10,\"solidity\":0.2},\"type\":\"scatter\"}],\"parcoords\":[{\"type\":\"parcoords\",\"line\":{\"colorbar\":{\"outlinewidth\":0,\"ticks\":\"\"}}}],\"scatterpolargl\":[{\"type\":\"scatterpolargl\",\"marker\":{\"colorbar\":{\"outlinewidth\":0,\"ticks\":\"\"}}}],\"bar\":[{\"error_x\":{\"color\":\"#2a3f5f\"},\"error_y\":{\"color\":\"#2a3f5f\"},\"marker\":{\"line\":{\"color\":\"#E5ECF6\",\"width\":0.5},\"pattern\":{\"fillmode\":\"overlay\",\"size\":10,\"solidity\":0.2}},\"type\":\"bar\"}],\"scattergeo\":[{\"type\":\"scattergeo\",\"marker\":{\"colorbar\":{\"outlinewidth\":0,\"ticks\":\"\"}}}],\"scatterpolar\":[{\"type\":\"scatterpolar\",\"marker\":{\"colorbar\":{\"outlinewidth\":0,\"ticks\":\"\"}}}],\"histogram\":[{\"marker\":{\"pattern\":{\"fillmode\":\"overlay\",\"size\":10,\"solidity\":0.2}},\"type\":\"histogram\"}],\"scattergl\":[{\"type\":\"scattergl\",\"marker\":{\"colorbar\":{\"outlinewidth\":0,\"ticks\":\"\"}}}],\"scatter3d\":[{\"type\":\"scatter3d\",\"line\":{\"colorbar\":{\"outlinewidth\":0,\"ticks\":\"\"}},\"marker\":{\"colorbar\":{\"outlinewidth\":0,\"ticks\":\"\"}}}],\"scattermapbox\":[{\"type\":\"scattermapbox\",\"marker\":{\"colorbar\":{\"outlinewidth\":0,\"ticks\":\"\"}}}],\"scatterternary\":[{\"type\":\"scatterternary\",\"marker\":{\"colorbar\":{\"outlinewidth\":0,\"ticks\":\"\"}}}],\"scattercarpet\":[{\"type\":\"scattercarpet\",\"marker\":{\"colorbar\":{\"outlinewidth\":0,\"ticks\":\"\"}}}],\"carpet\":[{\"aaxis\":{\"endlinecolor\":\"#2a3f5f\",\"gridcolor\":\"white\",\"linecolor\":\"white\",\"minorgridcolor\":\"white\",\"startlinecolor\":\"#2a3f5f\"},\"baxis\":{\"endlinecolor\":\"#2a3f5f\",\"gridcolor\":\"white\",\"linecolor\":\"white\",\"minorgridcolor\":\"white\",\"startlinecolor\":\"#2a3f5f\"},\"type\":\"carpet\"}],\"table\":[{\"cells\":{\"fill\":{\"color\":\"#EBF0F8\"},\"line\":{\"color\":\"white\"}},\"header\":{\"fill\":{\"color\":\"#C8D4E3\"},\"line\":{\"color\":\"white\"}},\"type\":\"table\"}],\"barpolar\":[{\"marker\":{\"line\":{\"color\":\"#E5ECF6\",\"width\":0.5},\"pattern\":{\"fillmode\":\"overlay\",\"size\":10,\"solidity\":0.2}},\"type\":\"barpolar\"}],\"pie\":[{\"automargin\":true,\"type\":\"pie\"}]},\"layout\":{\"autotypenumbers\":\"strict\",\"colorway\":[\"#636efa\",\"#EF553B\",\"#00cc96\",\"#ab63fa\",\"#FFA15A\",\"#19d3f3\",\"#FF6692\",\"#B6E880\",\"#FF97FF\",\"#FECB52\"],\"font\":{\"color\":\"#2a3f5f\"},\"hovermode\":\"closest\",\"hoverlabel\":{\"align\":\"left\"},\"paper_bgcolor\":\"white\",\"plot_bgcolor\":\"#E5ECF6\",\"polar\":{\"bgcolor\":\"#E5ECF6\",\"angularaxis\":{\"gridcolor\":\"white\",\"linecolor\":\"white\",\"ticks\":\"\"},\"radialaxis\":{\"gridcolor\":\"white\",\"linecolor\":\"white\",\"ticks\":\"\"}},\"ternary\":{\"bgcolor\":\"#E5ECF6\",\"aaxis\":{\"gridcolor\":\"white\",\"linecolor\":\"white\",\"ticks\":\"\"},\"baxis\":{\"gridcolor\":\"white\",\"linecolor\":\"white\",\"ticks\":\"\"},\"caxis\":{\"gridcolor\":\"white\",\"linecolor\":\"white\",\"ticks\":\"\"}},\"coloraxis\":{\"colorbar\":{\"outlinewidth\":0,\"ticks\":\"\"}},\"colorscale\":{\"sequential\":[[0.0,\"#0d0887\"],[0.1111111111111111,\"#46039f\"],[0.2222222222222222,\"#7201a8\"],[0.3333333333333333,\"#9c179e\"],[0.4444444444444444,\"#bd3786\"],[0.5555555555555556,\"#d8576b\"],[0.6666666666666666,\"#ed7953\"],[0.7777777777777778,\"#fb9f3a\"],[0.8888888888888888,\"#fdca26\"],[1.0,\"#f0f921\"]],\"sequentialminus\":[[0.0,\"#0d0887\"],[0.1111111111111111,\"#46039f\"],[0.2222222222222222,\"#7201a8\"],[0.3333333333333333,\"#9c179e\"],[0.4444444444444444,\"#bd3786\"],[0.5555555555555556,\"#d8576b\"],[0.6666666666666666,\"#ed7953\"],[0.7777777777777778,\"#fb9f3a\"],[0.8888888888888888,\"#fdca26\"],[1.0,\"#f0f921\"]],\"diverging\":[[0,\"#8e0152\"],[0.1,\"#c51b7d\"],[0.2,\"#de77ae\"],[0.3,\"#f1b6da\"],[0.4,\"#fde0ef\"],[0.5,\"#f7f7f7\"],[0.6,\"#e6f5d0\"],[0.7,\"#b8e186\"],[0.8,\"#7fbc41\"],[0.9,\"#4d9221\"],[1,\"#276419\"]]},\"xaxis\":{\"gridcolor\":\"white\",\"linecolor\":\"white\",\"ticks\":\"\",\"title\":{\"standoff\":15},\"zerolinecolor\":\"white\",\"automargin\":true,\"zerolinewidth\":2},\"yaxis\":{\"gridcolor\":\"white\",\"linecolor\":\"white\",\"ticks\":\"\",\"title\":{\"standoff\":15},\"zerolinecolor\":\"white\",\"automargin\":true,\"zerolinewidth\":2},\"scene\":{\"xaxis\":{\"backgroundcolor\":\"#E5ECF6\",\"gridcolor\":\"white\",\"linecolor\":\"white\",\"showbackground\":true,\"ticks\":\"\",\"zerolinecolor\":\"white\",\"gridwidth\":2},\"yaxis\":{\"backgroundcolor\":\"#E5ECF6\",\"gridcolor\":\"white\",\"linecolor\":\"white\",\"showbackground\":true,\"ticks\":\"\",\"zerolinecolor\":\"white\",\"gridwidth\":2},\"zaxis\":{\"backgroundcolor\":\"#E5ECF6\",\"gridcolor\":\"white\",\"linecolor\":\"white\",\"showbackground\":true,\"ticks\":\"\",\"zerolinecolor\":\"white\",\"gridwidth\":2}},\"shapedefaults\":{\"line\":{\"color\":\"#2a3f5f\"}},\"annotationdefaults\":{\"arrowcolor\":\"#2a3f5f\",\"arrowhead\":0,\"arrowwidth\":1},\"geo\":{\"bgcolor\":\"white\",\"landcolor\":\"#E5ECF6\",\"subunitcolor\":\"white\",\"showland\":true,\"showlakes\":true,\"lakecolor\":\"white\"},\"title\":{\"x\":0.05},\"mapbox\":{\"style\":\"light\"}}},\"xaxis\":{\"anchor\":\"y\",\"domain\":[0.0,1.0],\"title\":{\"text\":\"timestamp\"}},\"yaxis\":{\"anchor\":\"x\",\"domain\":[0.0,1.0],\"title\":{\"text\":\"interval\"}},\"legend\":{\"tracegroupgap\":0},\"title\":{\"text\":\"Release Delay\"},\"barmode\":\"relative\"},                        {\"responsive\": true}                    ).then(function(){\n                            \nvar gd = document.getElementById('1b8529d5-7ddd-4f85-a694-17d34b141414');\nvar x = new MutationObserver(function (mutations, observer) {{\n        var display = window.getComputedStyle(gd).display;\n        if (!display || display === 'none') {{\n            console.log([gd, 'removed!']);\n            Plotly.purge(gd);\n            observer.disconnect();\n        }}\n}});\n\n// Listen for the removal of the full notebook cells\nvar notebookContainer = gd.closest('#notebook-container');\nif (notebookContainer) {{\n    x.observe(notebookContainer, {childList: true});\n}}\n\n// Listen for the clearing of the current output cell\nvar outputEl = gd.closest('.output');\nif (outputEl) {{\n    x.observe(outputEl, {childList: true});\n}}\n\n                        })                };                });            </script>        </div>"
     },
     "metadata": {},
     "output_type": "display_data"
    }
   ],
   "source": [
    "figure = px.bar(graph_df, x=\"timestamp\", y=\"interval\", title='Release Delay')\n",
    "figure.show()\n"
   ]
  },
  {
   "cell_type": "code",
   "execution_count": 116,
   "id": "63ec6eb7",
   "metadata": {
    "ExecuteTime": {
     "end_time": "2024-08-08T18:02:26.824151Z",
     "start_time": "2024-08-08T18:02:24.318545Z"
    }
   },
   "outputs": [
    {
     "data": {
      "text/plain": "[0,\n 499,\n 963,\n 607,\n 503,\n 499,\n 501,\n 671,\n 646,\n 859,\n 131,\n 976,\n 2,\n 45,\n 858,\n 1386,\n 1682,\n 858,\n 2003,\n 30,\n 156]"
     },
     "execution_count": 116,
     "metadata": {},
     "output_type": "execute_result"
    }
   ],
   "source": [
    "earlier_label = graph_df.iloc[0]['name']\n",
    "diffcounts = []\n",
    "for index, data in graph_df.iterrows():\n",
    "    current_label = data['name']\n",
    "    diffs = repo.commit(earlier_label).diff(current_label)\n",
    "    diffcounts.append(len(diffs))\n",
    "    earlier_label = current_label\n",
    "\n",
    "diffcounts\n"
   ]
  },
  {
   "cell_type": "code",
   "execution_count": 117,
   "id": "deb44fdc",
   "metadata": {
    "ExecuteTime": {
     "end_time": "2024-08-08T18:02:26.827219Z",
     "start_time": "2024-08-08T18:02:26.825159Z"
    }
   },
   "outputs": [],
   "source": [
    "graph_df['timestamp'] = pd.to_datetime(graph_df['timestamp'], utc=True)"
   ]
  },
  {
   "cell_type": "code",
   "execution_count": 118,
   "id": "14d7c18c",
   "metadata": {
    "ExecuteTime": {
     "end_time": "2024-08-08T18:02:26.829795Z",
     "start_time": "2024-08-08T18:02:26.827663Z"
    }
   },
   "outputs": [],
   "source": [
    "graph_df['diff_counts'] = diffcounts"
   ]
  },
  {
   "cell_type": "code",
   "execution_count": 119,
   "id": "575c7bc6",
   "metadata": {
    "ExecuteTime": {
     "end_time": "2024-08-08T18:02:26.835172Z",
     "start_time": "2024-08-08T18:02:26.831674Z"
    }
   },
   "outputs": [
    {
     "data": {
      "text/plain": "                                 name                 timestamp  \\\n390  production/v6.37.0-codepush.v142 2024-06-10 23:11:02+00:00   \n377                 production/6.38.0 2024-06-14 18:55:38+00:00   \n389  production/v6.36.0-codepush.v143 2024-06-14 23:09:18+00:00   \n391  production/v6.37.0-codepush.v144 2024-06-14 23:09:18+00:00   \n394  production/v6.38.0-codepush.v147 2024-06-14 23:09:18+00:00   \n392  production/v6.37.0-codepush.v145 2024-06-17 19:57:43+00:00   \n393  production/v6.38.0-codepush.v146 2024-06-17 19:57:43+00:00   \n865                           v6.39.0 2024-06-21 18:01:35+00:00   \n866                           v6.40.0 2024-06-28 19:35:31+00:00   \n867                           v6.41.0 2024-07-04 08:15:36+00:00   \n868                           v6.42.0 2024-07-08 21:07:37+00:00   \n869                           v6.43.0 2024-07-12 11:26:56+00:00   \n870             v6.43.0-codepush.v148 2024-07-12 14:46:17+00:00   \n871                           v6.44.0 2024-07-12 22:21:18+00:00   \n873                           v6.45.0 2024-07-19 15:25:11+00:00   \n875                           v6.46.0 2024-07-26 17:42:25+00:00   \n872             v6.44.0-codepush.v150 2024-07-31 22:50:09+00:00   \n874             v6.45.0-codepush.v149 2024-07-31 22:50:09+00:00   \n876                           v6.47.0 2024-08-02 13:33:20+00:00   \n877             v6.47.0-codepush.v151 2024-08-02 22:26:19+00:00   \n878                           v6.48.0 2024-08-05 10:55:55+00:00   \n\n           interval  diff_counts  \n390             NaT            0  \n377 3 days 19:44:36          499  \n389 0 days 04:13:40          963  \n391 0 days 00:00:00          607  \n394 0 days 00:00:00          503  \n392 2 days 20:48:25          499  \n393 0 days 00:00:00          501  \n865 3 days 22:03:52          671  \n866 7 days 01:33:56          646  \n867 5 days 12:40:05          859  \n868 4 days 12:52:01          131  \n869 3 days 14:19:19          976  \n870 0 days 03:19:21            2  \n871 0 days 07:35:01           45  \n873 6 days 17:03:53          858  \n875 7 days 02:17:14         1386  \n872 5 days 05:07:44         1682  \n874 0 days 00:00:00          858  \n876 1 days 14:43:11         2003  \n877 0 days 08:52:59           30  \n878 2 days 12:29:36          156  ",
      "text/html": "<div>\n<style scoped>\n    .dataframe tbody tr th:only-of-type {\n        vertical-align: middle;\n    }\n\n    .dataframe tbody tr th {\n        vertical-align: top;\n    }\n\n    .dataframe thead th {\n        text-align: right;\n    }\n</style>\n<table border=\"1\" class=\"dataframe\">\n  <thead>\n    <tr style=\"text-align: right;\">\n      <th></th>\n      <th>name</th>\n      <th>timestamp</th>\n      <th>interval</th>\n      <th>diff_counts</th>\n    </tr>\n  </thead>\n  <tbody>\n    <tr>\n      <th>390</th>\n      <td>production/v6.37.0-codepush.v142</td>\n      <td>2024-06-10 23:11:02+00:00</td>\n      <td>NaT</td>\n      <td>0</td>\n    </tr>\n    <tr>\n      <th>377</th>\n      <td>production/6.38.0</td>\n      <td>2024-06-14 18:55:38+00:00</td>\n      <td>3 days 19:44:36</td>\n      <td>499</td>\n    </tr>\n    <tr>\n      <th>389</th>\n      <td>production/v6.36.0-codepush.v143</td>\n      <td>2024-06-14 23:09:18+00:00</td>\n      <td>0 days 04:13:40</td>\n      <td>963</td>\n    </tr>\n    <tr>\n      <th>391</th>\n      <td>production/v6.37.0-codepush.v144</td>\n      <td>2024-06-14 23:09:18+00:00</td>\n      <td>0 days 00:00:00</td>\n      <td>607</td>\n    </tr>\n    <tr>\n      <th>394</th>\n      <td>production/v6.38.0-codepush.v147</td>\n      <td>2024-06-14 23:09:18+00:00</td>\n      <td>0 days 00:00:00</td>\n      <td>503</td>\n    </tr>\n    <tr>\n      <th>392</th>\n      <td>production/v6.37.0-codepush.v145</td>\n      <td>2024-06-17 19:57:43+00:00</td>\n      <td>2 days 20:48:25</td>\n      <td>499</td>\n    </tr>\n    <tr>\n      <th>393</th>\n      <td>production/v6.38.0-codepush.v146</td>\n      <td>2024-06-17 19:57:43+00:00</td>\n      <td>0 days 00:00:00</td>\n      <td>501</td>\n    </tr>\n    <tr>\n      <th>865</th>\n      <td>v6.39.0</td>\n      <td>2024-06-21 18:01:35+00:00</td>\n      <td>3 days 22:03:52</td>\n      <td>671</td>\n    </tr>\n    <tr>\n      <th>866</th>\n      <td>v6.40.0</td>\n      <td>2024-06-28 19:35:31+00:00</td>\n      <td>7 days 01:33:56</td>\n      <td>646</td>\n    </tr>\n    <tr>\n      <th>867</th>\n      <td>v6.41.0</td>\n      <td>2024-07-04 08:15:36+00:00</td>\n      <td>5 days 12:40:05</td>\n      <td>859</td>\n    </tr>\n    <tr>\n      <th>868</th>\n      <td>v6.42.0</td>\n      <td>2024-07-08 21:07:37+00:00</td>\n      <td>4 days 12:52:01</td>\n      <td>131</td>\n    </tr>\n    <tr>\n      <th>869</th>\n      <td>v6.43.0</td>\n      <td>2024-07-12 11:26:56+00:00</td>\n      <td>3 days 14:19:19</td>\n      <td>976</td>\n    </tr>\n    <tr>\n      <th>870</th>\n      <td>v6.43.0-codepush.v148</td>\n      <td>2024-07-12 14:46:17+00:00</td>\n      <td>0 days 03:19:21</td>\n      <td>2</td>\n    </tr>\n    <tr>\n      <th>871</th>\n      <td>v6.44.0</td>\n      <td>2024-07-12 22:21:18+00:00</td>\n      <td>0 days 07:35:01</td>\n      <td>45</td>\n    </tr>\n    <tr>\n      <th>873</th>\n      <td>v6.45.0</td>\n      <td>2024-07-19 15:25:11+00:00</td>\n      <td>6 days 17:03:53</td>\n      <td>858</td>\n    </tr>\n    <tr>\n      <th>875</th>\n      <td>v6.46.0</td>\n      <td>2024-07-26 17:42:25+00:00</td>\n      <td>7 days 02:17:14</td>\n      <td>1386</td>\n    </tr>\n    <tr>\n      <th>872</th>\n      <td>v6.44.0-codepush.v150</td>\n      <td>2024-07-31 22:50:09+00:00</td>\n      <td>5 days 05:07:44</td>\n      <td>1682</td>\n    </tr>\n    <tr>\n      <th>874</th>\n      <td>v6.45.0-codepush.v149</td>\n      <td>2024-07-31 22:50:09+00:00</td>\n      <td>0 days 00:00:00</td>\n      <td>858</td>\n    </tr>\n    <tr>\n      <th>876</th>\n      <td>v6.47.0</td>\n      <td>2024-08-02 13:33:20+00:00</td>\n      <td>1 days 14:43:11</td>\n      <td>2003</td>\n    </tr>\n    <tr>\n      <th>877</th>\n      <td>v6.47.0-codepush.v151</td>\n      <td>2024-08-02 22:26:19+00:00</td>\n      <td>0 days 08:52:59</td>\n      <td>30</td>\n    </tr>\n    <tr>\n      <th>878</th>\n      <td>v6.48.0</td>\n      <td>2024-08-05 10:55:55+00:00</td>\n      <td>2 days 12:29:36</td>\n      <td>156</td>\n    </tr>\n  </tbody>\n</table>\n</div>"
     },
     "execution_count": 119,
     "metadata": {},
     "output_type": "execute_result"
    }
   ],
   "source": [
    "graph_df"
   ]
  },
  {
   "cell_type": "code",
   "execution_count": 120,
   "id": "81248fe3",
   "metadata": {
    "scrolled": true,
    "ExecuteTime": {
     "end_time": "2024-08-08T18:02:26.862090Z",
     "start_time": "2024-08-08T18:02:26.852429Z"
    }
   },
   "outputs": [
    {
     "data": {
      "application/vnd.plotly.v1+json": {
       "data": [
        {
         "customdata": [
          [
           "production/v6.37.0-codepush.v142",
           null
          ],
          [
           "production/6.38.0",
           "P3DT19H44M36S"
          ],
          [
           "production/v6.36.0-codepush.v143",
           "P0DT4H13M40S"
          ],
          [
           "production/v6.37.0-codepush.v144",
           "P0DT0H0M0S"
          ],
          [
           "production/v6.38.0-codepush.v147",
           "P0DT0H0M0S"
          ],
          [
           "production/v6.37.0-codepush.v145",
           "P2DT20H48M25S"
          ],
          [
           "production/v6.38.0-codepush.v146",
           "P0DT0H0M0S"
          ],
          [
           "v6.39.0",
           "P3DT22H3M52S"
          ],
          [
           "v6.40.0",
           "P7DT1H33M56S"
          ],
          [
           "v6.41.0",
           "P5DT12H40M5S"
          ],
          [
           "v6.42.0",
           "P4DT12H52M1S"
          ],
          [
           "v6.43.0",
           "P3DT14H19M19S"
          ],
          [
           "v6.43.0-codepush.v148",
           "P0DT3H19M21S"
          ],
          [
           "v6.44.0",
           "P0DT7H35M1S"
          ],
          [
           "v6.45.0",
           "P6DT17H3M53S"
          ],
          [
           "v6.46.0",
           "P7DT2H17M14S"
          ],
          [
           "v6.44.0-codepush.v150",
           "P5DT5H7M44S"
          ],
          [
           "v6.45.0-codepush.v149",
           "P0DT0H0M0S"
          ],
          [
           "v6.47.0",
           "P1DT14H43M11S"
          ],
          [
           "v6.47.0-codepush.v151",
           "P0DT8H52M59S"
          ],
          [
           "v6.48.0",
           "P2DT12H29M36S"
          ]
         ],
         "hovertemplate": "timestamp=%{x}<br>diff_counts=%{marker.color}<br>name=%{customdata[0]}<br>interval=%{customdata[1]}<extra></extra>",
         "legendgroup": "",
         "marker": {
          "color": [
           0,
           499,
           963,
           607,
           503,
           499,
           501,
           671,
           646,
           859,
           131,
           976,
           2,
           45,
           858,
           1386,
           1682,
           858,
           2003,
           30,
           156
          ],
          "coloraxis": "coloraxis",
          "size": [
           0,
           499,
           963,
           607,
           503,
           499,
           501,
           671,
           646,
           859,
           131,
           976,
           2,
           45,
           858,
           1386,
           1682,
           858,
           2003,
           30,
           156
          ],
          "sizemode": "area",
          "sizeref": 5.0075,
          "symbol": "circle"
         },
         "mode": "markers+lines",
         "name": "",
         "orientation": "v",
         "showlegend": false,
         "x": [
          "2024-06-10T23:11:02+00:00",
          "2024-06-14T18:55:38+00:00",
          "2024-06-14T23:09:18+00:00",
          "2024-06-14T23:09:18+00:00",
          "2024-06-14T23:09:18+00:00",
          "2024-06-17T19:57:43+00:00",
          "2024-06-17T19:57:43+00:00",
          "2024-06-21T18:01:35+00:00",
          "2024-06-28T19:35:31+00:00",
          "2024-07-04T08:15:36+00:00",
          "2024-07-08T21:07:37+00:00",
          "2024-07-12T11:26:56+00:00",
          "2024-07-12T14:46:17+00:00",
          "2024-07-12T22:21:18+00:00",
          "2024-07-19T15:25:11+00:00",
          "2024-07-26T17:42:25+00:00",
          "2024-07-31T22:50:09+00:00",
          "2024-07-31T22:50:09+00:00",
          "2024-08-02T13:33:20+00:00",
          "2024-08-02T22:26:19+00:00",
          "2024-08-05T10:55:55+00:00"
         ],
         "xaxis": "x",
         "y": [
          0,
          499,
          963,
          607,
          503,
          499,
          501,
          671,
          646,
          859,
          131,
          976,
          2,
          45,
          858,
          1386,
          1682,
          858,
          2003,
          30,
          156
         ],
         "yaxis": "y",
         "type": "scatter"
        }
       ],
       "layout": {
        "template": {
         "data": {
          "histogram2dcontour": [
           {
            "type": "histogram2dcontour",
            "colorbar": {
             "outlinewidth": 0,
             "ticks": ""
            },
            "colorscale": [
             [
              0.0,
              "#0d0887"
             ],
             [
              0.1111111111111111,
              "#46039f"
             ],
             [
              0.2222222222222222,
              "#7201a8"
             ],
             [
              0.3333333333333333,
              "#9c179e"
             ],
             [
              0.4444444444444444,
              "#bd3786"
             ],
             [
              0.5555555555555556,
              "#d8576b"
             ],
             [
              0.6666666666666666,
              "#ed7953"
             ],
             [
              0.7777777777777778,
              "#fb9f3a"
             ],
             [
              0.8888888888888888,
              "#fdca26"
             ],
             [
              1.0,
              "#f0f921"
             ]
            ]
           }
          ],
          "choropleth": [
           {
            "type": "choropleth",
            "colorbar": {
             "outlinewidth": 0,
             "ticks": ""
            }
           }
          ],
          "histogram2d": [
           {
            "type": "histogram2d",
            "colorbar": {
             "outlinewidth": 0,
             "ticks": ""
            },
            "colorscale": [
             [
              0.0,
              "#0d0887"
             ],
             [
              0.1111111111111111,
              "#46039f"
             ],
             [
              0.2222222222222222,
              "#7201a8"
             ],
             [
              0.3333333333333333,
              "#9c179e"
             ],
             [
              0.4444444444444444,
              "#bd3786"
             ],
             [
              0.5555555555555556,
              "#d8576b"
             ],
             [
              0.6666666666666666,
              "#ed7953"
             ],
             [
              0.7777777777777778,
              "#fb9f3a"
             ],
             [
              0.8888888888888888,
              "#fdca26"
             ],
             [
              1.0,
              "#f0f921"
             ]
            ]
           }
          ],
          "heatmap": [
           {
            "type": "heatmap",
            "colorbar": {
             "outlinewidth": 0,
             "ticks": ""
            },
            "colorscale": [
             [
              0.0,
              "#0d0887"
             ],
             [
              0.1111111111111111,
              "#46039f"
             ],
             [
              0.2222222222222222,
              "#7201a8"
             ],
             [
              0.3333333333333333,
              "#9c179e"
             ],
             [
              0.4444444444444444,
              "#bd3786"
             ],
             [
              0.5555555555555556,
              "#d8576b"
             ],
             [
              0.6666666666666666,
              "#ed7953"
             ],
             [
              0.7777777777777778,
              "#fb9f3a"
             ],
             [
              0.8888888888888888,
              "#fdca26"
             ],
             [
              1.0,
              "#f0f921"
             ]
            ]
           }
          ],
          "heatmapgl": [
           {
            "type": "heatmapgl",
            "colorbar": {
             "outlinewidth": 0,
             "ticks": ""
            },
            "colorscale": [
             [
              0.0,
              "#0d0887"
             ],
             [
              0.1111111111111111,
              "#46039f"
             ],
             [
              0.2222222222222222,
              "#7201a8"
             ],
             [
              0.3333333333333333,
              "#9c179e"
             ],
             [
              0.4444444444444444,
              "#bd3786"
             ],
             [
              0.5555555555555556,
              "#d8576b"
             ],
             [
              0.6666666666666666,
              "#ed7953"
             ],
             [
              0.7777777777777778,
              "#fb9f3a"
             ],
             [
              0.8888888888888888,
              "#fdca26"
             ],
             [
              1.0,
              "#f0f921"
             ]
            ]
           }
          ],
          "contourcarpet": [
           {
            "type": "contourcarpet",
            "colorbar": {
             "outlinewidth": 0,
             "ticks": ""
            }
           }
          ],
          "contour": [
           {
            "type": "contour",
            "colorbar": {
             "outlinewidth": 0,
             "ticks": ""
            },
            "colorscale": [
             [
              0.0,
              "#0d0887"
             ],
             [
              0.1111111111111111,
              "#46039f"
             ],
             [
              0.2222222222222222,
              "#7201a8"
             ],
             [
              0.3333333333333333,
              "#9c179e"
             ],
             [
              0.4444444444444444,
              "#bd3786"
             ],
             [
              0.5555555555555556,
              "#d8576b"
             ],
             [
              0.6666666666666666,
              "#ed7953"
             ],
             [
              0.7777777777777778,
              "#fb9f3a"
             ],
             [
              0.8888888888888888,
              "#fdca26"
             ],
             [
              1.0,
              "#f0f921"
             ]
            ]
           }
          ],
          "surface": [
           {
            "type": "surface",
            "colorbar": {
             "outlinewidth": 0,
             "ticks": ""
            },
            "colorscale": [
             [
              0.0,
              "#0d0887"
             ],
             [
              0.1111111111111111,
              "#46039f"
             ],
             [
              0.2222222222222222,
              "#7201a8"
             ],
             [
              0.3333333333333333,
              "#9c179e"
             ],
             [
              0.4444444444444444,
              "#bd3786"
             ],
             [
              0.5555555555555556,
              "#d8576b"
             ],
             [
              0.6666666666666666,
              "#ed7953"
             ],
             [
              0.7777777777777778,
              "#fb9f3a"
             ],
             [
              0.8888888888888888,
              "#fdca26"
             ],
             [
              1.0,
              "#f0f921"
             ]
            ]
           }
          ],
          "mesh3d": [
           {
            "type": "mesh3d",
            "colorbar": {
             "outlinewidth": 0,
             "ticks": ""
            }
           }
          ],
          "scatter": [
           {
            "fillpattern": {
             "fillmode": "overlay",
             "size": 10,
             "solidity": 0.2
            },
            "type": "scatter"
           }
          ],
          "parcoords": [
           {
            "type": "parcoords",
            "line": {
             "colorbar": {
              "outlinewidth": 0,
              "ticks": ""
             }
            }
           }
          ],
          "scatterpolargl": [
           {
            "type": "scatterpolargl",
            "marker": {
             "colorbar": {
              "outlinewidth": 0,
              "ticks": ""
             }
            }
           }
          ],
          "bar": [
           {
            "error_x": {
             "color": "#2a3f5f"
            },
            "error_y": {
             "color": "#2a3f5f"
            },
            "marker": {
             "line": {
              "color": "#E5ECF6",
              "width": 0.5
             },
             "pattern": {
              "fillmode": "overlay",
              "size": 10,
              "solidity": 0.2
             }
            },
            "type": "bar"
           }
          ],
          "scattergeo": [
           {
            "type": "scattergeo",
            "marker": {
             "colorbar": {
              "outlinewidth": 0,
              "ticks": ""
             }
            }
           }
          ],
          "scatterpolar": [
           {
            "type": "scatterpolar",
            "marker": {
             "colorbar": {
              "outlinewidth": 0,
              "ticks": ""
             }
            }
           }
          ],
          "histogram": [
           {
            "marker": {
             "pattern": {
              "fillmode": "overlay",
              "size": 10,
              "solidity": 0.2
             }
            },
            "type": "histogram"
           }
          ],
          "scattergl": [
           {
            "type": "scattergl",
            "marker": {
             "colorbar": {
              "outlinewidth": 0,
              "ticks": ""
             }
            }
           }
          ],
          "scatter3d": [
           {
            "type": "scatter3d",
            "line": {
             "colorbar": {
              "outlinewidth": 0,
              "ticks": ""
             }
            },
            "marker": {
             "colorbar": {
              "outlinewidth": 0,
              "ticks": ""
             }
            }
           }
          ],
          "scattermapbox": [
           {
            "type": "scattermapbox",
            "marker": {
             "colorbar": {
              "outlinewidth": 0,
              "ticks": ""
             }
            }
           }
          ],
          "scatterternary": [
           {
            "type": "scatterternary",
            "marker": {
             "colorbar": {
              "outlinewidth": 0,
              "ticks": ""
             }
            }
           }
          ],
          "scattercarpet": [
           {
            "type": "scattercarpet",
            "marker": {
             "colorbar": {
              "outlinewidth": 0,
              "ticks": ""
             }
            }
           }
          ],
          "carpet": [
           {
            "aaxis": {
             "endlinecolor": "#2a3f5f",
             "gridcolor": "white",
             "linecolor": "white",
             "minorgridcolor": "white",
             "startlinecolor": "#2a3f5f"
            },
            "baxis": {
             "endlinecolor": "#2a3f5f",
             "gridcolor": "white",
             "linecolor": "white",
             "minorgridcolor": "white",
             "startlinecolor": "#2a3f5f"
            },
            "type": "carpet"
           }
          ],
          "table": [
           {
            "cells": {
             "fill": {
              "color": "#EBF0F8"
             },
             "line": {
              "color": "white"
             }
            },
            "header": {
             "fill": {
              "color": "#C8D4E3"
             },
             "line": {
              "color": "white"
             }
            },
            "type": "table"
           }
          ],
          "barpolar": [
           {
            "marker": {
             "line": {
              "color": "#E5ECF6",
              "width": 0.5
             },
             "pattern": {
              "fillmode": "overlay",
              "size": 10,
              "solidity": 0.2
             }
            },
            "type": "barpolar"
           }
          ],
          "pie": [
           {
            "automargin": true,
            "type": "pie"
           }
          ]
         },
         "layout": {
          "autotypenumbers": "strict",
          "colorway": [
           "#636efa",
           "#EF553B",
           "#00cc96",
           "#ab63fa",
           "#FFA15A",
           "#19d3f3",
           "#FF6692",
           "#B6E880",
           "#FF97FF",
           "#FECB52"
          ],
          "font": {
           "color": "#2a3f5f"
          },
          "hovermode": "closest",
          "hoverlabel": {
           "align": "left"
          },
          "paper_bgcolor": "white",
          "plot_bgcolor": "#E5ECF6",
          "polar": {
           "bgcolor": "#E5ECF6",
           "angularaxis": {
            "gridcolor": "white",
            "linecolor": "white",
            "ticks": ""
           },
           "radialaxis": {
            "gridcolor": "white",
            "linecolor": "white",
            "ticks": ""
           }
          },
          "ternary": {
           "bgcolor": "#E5ECF6",
           "aaxis": {
            "gridcolor": "white",
            "linecolor": "white",
            "ticks": ""
           },
           "baxis": {
            "gridcolor": "white",
            "linecolor": "white",
            "ticks": ""
           },
           "caxis": {
            "gridcolor": "white",
            "linecolor": "white",
            "ticks": ""
           }
          },
          "coloraxis": {
           "colorbar": {
            "outlinewidth": 0,
            "ticks": ""
           }
          },
          "colorscale": {
           "sequential": [
            [
             0.0,
             "#0d0887"
            ],
            [
             0.1111111111111111,
             "#46039f"
            ],
            [
             0.2222222222222222,
             "#7201a8"
            ],
            [
             0.3333333333333333,
             "#9c179e"
            ],
            [
             0.4444444444444444,
             "#bd3786"
            ],
            [
             0.5555555555555556,
             "#d8576b"
            ],
            [
             0.6666666666666666,
             "#ed7953"
            ],
            [
             0.7777777777777778,
             "#fb9f3a"
            ],
            [
             0.8888888888888888,
             "#fdca26"
            ],
            [
             1.0,
             "#f0f921"
            ]
           ],
           "sequentialminus": [
            [
             0.0,
             "#0d0887"
            ],
            [
             0.1111111111111111,
             "#46039f"
            ],
            [
             0.2222222222222222,
             "#7201a8"
            ],
            [
             0.3333333333333333,
             "#9c179e"
            ],
            [
             0.4444444444444444,
             "#bd3786"
            ],
            [
             0.5555555555555556,
             "#d8576b"
            ],
            [
             0.6666666666666666,
             "#ed7953"
            ],
            [
             0.7777777777777778,
             "#fb9f3a"
            ],
            [
             0.8888888888888888,
             "#fdca26"
            ],
            [
             1.0,
             "#f0f921"
            ]
           ],
           "diverging": [
            [
             0,
             "#8e0152"
            ],
            [
             0.1,
             "#c51b7d"
            ],
            [
             0.2,
             "#de77ae"
            ],
            [
             0.3,
             "#f1b6da"
            ],
            [
             0.4,
             "#fde0ef"
            ],
            [
             0.5,
             "#f7f7f7"
            ],
            [
             0.6,
             "#e6f5d0"
            ],
            [
             0.7,
             "#b8e186"
            ],
            [
             0.8,
             "#7fbc41"
            ],
            [
             0.9,
             "#4d9221"
            ],
            [
             1,
             "#276419"
            ]
           ]
          },
          "xaxis": {
           "gridcolor": "white",
           "linecolor": "white",
           "ticks": "",
           "title": {
            "standoff": 15
           },
           "zerolinecolor": "white",
           "automargin": true,
           "zerolinewidth": 2
          },
          "yaxis": {
           "gridcolor": "white",
           "linecolor": "white",
           "ticks": "",
           "title": {
            "standoff": 15
           },
           "zerolinecolor": "white",
           "automargin": true,
           "zerolinewidth": 2
          },
          "scene": {
           "xaxis": {
            "backgroundcolor": "#E5ECF6",
            "gridcolor": "white",
            "linecolor": "white",
            "showbackground": true,
            "ticks": "",
            "zerolinecolor": "white",
            "gridwidth": 2
           },
           "yaxis": {
            "backgroundcolor": "#E5ECF6",
            "gridcolor": "white",
            "linecolor": "white",
            "showbackground": true,
            "ticks": "",
            "zerolinecolor": "white",
            "gridwidth": 2
           },
           "zaxis": {
            "backgroundcolor": "#E5ECF6",
            "gridcolor": "white",
            "linecolor": "white",
            "showbackground": true,
            "ticks": "",
            "zerolinecolor": "white",
            "gridwidth": 2
           }
          },
          "shapedefaults": {
           "line": {
            "color": "#2a3f5f"
           }
          },
          "annotationdefaults": {
           "arrowcolor": "#2a3f5f",
           "arrowhead": 0,
           "arrowwidth": 1
          },
          "geo": {
           "bgcolor": "white",
           "landcolor": "#E5ECF6",
           "subunitcolor": "white",
           "showland": true,
           "showlakes": true,
           "lakecolor": "white"
          },
          "title": {
           "x": 0.05
          },
          "mapbox": {
           "style": "light"
          }
         }
        },
        "xaxis": {
         "anchor": "y",
         "domain": [
          0.0,
          1.0
         ],
         "title": {
          "text": "timestamp"
         }
        },
        "yaxis": {
         "anchor": "x",
         "domain": [
          0.0,
          1.0
         ],
         "title": {
          "text": "diff_counts"
         }
        },
        "coloraxis": {
         "colorbar": {
          "title": {
           "text": "diff_counts"
          }
         },
         "colorscale": [
          [
           0.0,
           "#0d0887"
          ],
          [
           0.1111111111111111,
           "#46039f"
          ],
          [
           0.2222222222222222,
           "#7201a8"
          ],
          [
           0.3333333333333333,
           "#9c179e"
          ],
          [
           0.4444444444444444,
           "#bd3786"
          ],
          [
           0.5555555555555556,
           "#d8576b"
          ],
          [
           0.6666666666666666,
           "#ed7953"
          ],
          [
           0.7777777777777778,
           "#fb9f3a"
          ],
          [
           0.8888888888888888,
           "#fdca26"
          ],
          [
           1.0,
           "#f0f921"
          ]
         ]
        },
        "legend": {
         "tracegroupgap": 0,
         "itemsizing": "constant"
        },
        "title": {
         "text": "Release Size and Frequency"
        },
        "autosize": true
       },
       "config": {
        "plotlyServerURL": "https://plot.ly"
       }
      },
      "text/html": "<div>                            <div id=\"325da9d9-fa99-4854-9661-062a6fb07d36\" class=\"plotly-graph-div\" style=\"height:525px; width:100%;\"></div>            <script type=\"text/javascript\">                require([\"plotly\"], function(Plotly) {                    window.PLOTLYENV=window.PLOTLYENV || {};                                    if (document.getElementById(\"325da9d9-fa99-4854-9661-062a6fb07d36\")) {                    Plotly.newPlot(                        \"325da9d9-fa99-4854-9661-062a6fb07d36\",                        [{\"customdata\":[[\"production\\u002fv6.37.0-codepush.v142\",null],[\"production\\u002f6.38.0\",\"P3DT19H44M36S\"],[\"production\\u002fv6.36.0-codepush.v143\",\"P0DT4H13M40S\"],[\"production\\u002fv6.37.0-codepush.v144\",\"P0DT0H0M0S\"],[\"production\\u002fv6.38.0-codepush.v147\",\"P0DT0H0M0S\"],[\"production\\u002fv6.37.0-codepush.v145\",\"P2DT20H48M25S\"],[\"production\\u002fv6.38.0-codepush.v146\",\"P0DT0H0M0S\"],[\"v6.39.0\",\"P3DT22H3M52S\"],[\"v6.40.0\",\"P7DT1H33M56S\"],[\"v6.41.0\",\"P5DT12H40M5S\"],[\"v6.42.0\",\"P4DT12H52M1S\"],[\"v6.43.0\",\"P3DT14H19M19S\"],[\"v6.43.0-codepush.v148\",\"P0DT3H19M21S\"],[\"v6.44.0\",\"P0DT7H35M1S\"],[\"v6.45.0\",\"P6DT17H3M53S\"],[\"v6.46.0\",\"P7DT2H17M14S\"],[\"v6.44.0-codepush.v150\",\"P5DT5H7M44S\"],[\"v6.45.0-codepush.v149\",\"P0DT0H0M0S\"],[\"v6.47.0\",\"P1DT14H43M11S\"],[\"v6.47.0-codepush.v151\",\"P0DT8H52M59S\"],[\"v6.48.0\",\"P2DT12H29M36S\"]],\"hovertemplate\":\"timestamp=%{x}\\u003cbr\\u003ediff_counts=%{marker.color}\\u003cbr\\u003ename=%{customdata[0]}\\u003cbr\\u003einterval=%{customdata[1]}\\u003cextra\\u003e\\u003c\\u002fextra\\u003e\",\"legendgroup\":\"\",\"marker\":{\"color\":[0,499,963,607,503,499,501,671,646,859,131,976,2,45,858,1386,1682,858,2003,30,156],\"coloraxis\":\"coloraxis\",\"size\":[0,499,963,607,503,499,501,671,646,859,131,976,2,45,858,1386,1682,858,2003,30,156],\"sizemode\":\"area\",\"sizeref\":5.0075,\"symbol\":\"circle\"},\"mode\":\"markers+lines\",\"name\":\"\",\"orientation\":\"v\",\"showlegend\":false,\"x\":[\"2024-06-10T23:11:02+00:00\",\"2024-06-14T18:55:38+00:00\",\"2024-06-14T23:09:18+00:00\",\"2024-06-14T23:09:18+00:00\",\"2024-06-14T23:09:18+00:00\",\"2024-06-17T19:57:43+00:00\",\"2024-06-17T19:57:43+00:00\",\"2024-06-21T18:01:35+00:00\",\"2024-06-28T19:35:31+00:00\",\"2024-07-04T08:15:36+00:00\",\"2024-07-08T21:07:37+00:00\",\"2024-07-12T11:26:56+00:00\",\"2024-07-12T14:46:17+00:00\",\"2024-07-12T22:21:18+00:00\",\"2024-07-19T15:25:11+00:00\",\"2024-07-26T17:42:25+00:00\",\"2024-07-31T22:50:09+00:00\",\"2024-07-31T22:50:09+00:00\",\"2024-08-02T13:33:20+00:00\",\"2024-08-02T22:26:19+00:00\",\"2024-08-05T10:55:55+00:00\"],\"xaxis\":\"x\",\"y\":[0,499,963,607,503,499,501,671,646,859,131,976,2,45,858,1386,1682,858,2003,30,156],\"yaxis\":\"y\",\"type\":\"scatter\"}],                        {\"template\":{\"data\":{\"histogram2dcontour\":[{\"type\":\"histogram2dcontour\",\"colorbar\":{\"outlinewidth\":0,\"ticks\":\"\"},\"colorscale\":[[0.0,\"#0d0887\"],[0.1111111111111111,\"#46039f\"],[0.2222222222222222,\"#7201a8\"],[0.3333333333333333,\"#9c179e\"],[0.4444444444444444,\"#bd3786\"],[0.5555555555555556,\"#d8576b\"],[0.6666666666666666,\"#ed7953\"],[0.7777777777777778,\"#fb9f3a\"],[0.8888888888888888,\"#fdca26\"],[1.0,\"#f0f921\"]]}],\"choropleth\":[{\"type\":\"choropleth\",\"colorbar\":{\"outlinewidth\":0,\"ticks\":\"\"}}],\"histogram2d\":[{\"type\":\"histogram2d\",\"colorbar\":{\"outlinewidth\":0,\"ticks\":\"\"},\"colorscale\":[[0.0,\"#0d0887\"],[0.1111111111111111,\"#46039f\"],[0.2222222222222222,\"#7201a8\"],[0.3333333333333333,\"#9c179e\"],[0.4444444444444444,\"#bd3786\"],[0.5555555555555556,\"#d8576b\"],[0.6666666666666666,\"#ed7953\"],[0.7777777777777778,\"#fb9f3a\"],[0.8888888888888888,\"#fdca26\"],[1.0,\"#f0f921\"]]}],\"heatmap\":[{\"type\":\"heatmap\",\"colorbar\":{\"outlinewidth\":0,\"ticks\":\"\"},\"colorscale\":[[0.0,\"#0d0887\"],[0.1111111111111111,\"#46039f\"],[0.2222222222222222,\"#7201a8\"],[0.3333333333333333,\"#9c179e\"],[0.4444444444444444,\"#bd3786\"],[0.5555555555555556,\"#d8576b\"],[0.6666666666666666,\"#ed7953\"],[0.7777777777777778,\"#fb9f3a\"],[0.8888888888888888,\"#fdca26\"],[1.0,\"#f0f921\"]]}],\"heatmapgl\":[{\"type\":\"heatmapgl\",\"colorbar\":{\"outlinewidth\":0,\"ticks\":\"\"},\"colorscale\":[[0.0,\"#0d0887\"],[0.1111111111111111,\"#46039f\"],[0.2222222222222222,\"#7201a8\"],[0.3333333333333333,\"#9c179e\"],[0.4444444444444444,\"#bd3786\"],[0.5555555555555556,\"#d8576b\"],[0.6666666666666666,\"#ed7953\"],[0.7777777777777778,\"#fb9f3a\"],[0.8888888888888888,\"#fdca26\"],[1.0,\"#f0f921\"]]}],\"contourcarpet\":[{\"type\":\"contourcarpet\",\"colorbar\":{\"outlinewidth\":0,\"ticks\":\"\"}}],\"contour\":[{\"type\":\"contour\",\"colorbar\":{\"outlinewidth\":0,\"ticks\":\"\"},\"colorscale\":[[0.0,\"#0d0887\"],[0.1111111111111111,\"#46039f\"],[0.2222222222222222,\"#7201a8\"],[0.3333333333333333,\"#9c179e\"],[0.4444444444444444,\"#bd3786\"],[0.5555555555555556,\"#d8576b\"],[0.6666666666666666,\"#ed7953\"],[0.7777777777777778,\"#fb9f3a\"],[0.8888888888888888,\"#fdca26\"],[1.0,\"#f0f921\"]]}],\"surface\":[{\"type\":\"surface\",\"colorbar\":{\"outlinewidth\":0,\"ticks\":\"\"},\"colorscale\":[[0.0,\"#0d0887\"],[0.1111111111111111,\"#46039f\"],[0.2222222222222222,\"#7201a8\"],[0.3333333333333333,\"#9c179e\"],[0.4444444444444444,\"#bd3786\"],[0.5555555555555556,\"#d8576b\"],[0.6666666666666666,\"#ed7953\"],[0.7777777777777778,\"#fb9f3a\"],[0.8888888888888888,\"#fdca26\"],[1.0,\"#f0f921\"]]}],\"mesh3d\":[{\"type\":\"mesh3d\",\"colorbar\":{\"outlinewidth\":0,\"ticks\":\"\"}}],\"scatter\":[{\"fillpattern\":{\"fillmode\":\"overlay\",\"size\":10,\"solidity\":0.2},\"type\":\"scatter\"}],\"parcoords\":[{\"type\":\"parcoords\",\"line\":{\"colorbar\":{\"outlinewidth\":0,\"ticks\":\"\"}}}],\"scatterpolargl\":[{\"type\":\"scatterpolargl\",\"marker\":{\"colorbar\":{\"outlinewidth\":0,\"ticks\":\"\"}}}],\"bar\":[{\"error_x\":{\"color\":\"#2a3f5f\"},\"error_y\":{\"color\":\"#2a3f5f\"},\"marker\":{\"line\":{\"color\":\"#E5ECF6\",\"width\":0.5},\"pattern\":{\"fillmode\":\"overlay\",\"size\":10,\"solidity\":0.2}},\"type\":\"bar\"}],\"scattergeo\":[{\"type\":\"scattergeo\",\"marker\":{\"colorbar\":{\"outlinewidth\":0,\"ticks\":\"\"}}}],\"scatterpolar\":[{\"type\":\"scatterpolar\",\"marker\":{\"colorbar\":{\"outlinewidth\":0,\"ticks\":\"\"}}}],\"histogram\":[{\"marker\":{\"pattern\":{\"fillmode\":\"overlay\",\"size\":10,\"solidity\":0.2}},\"type\":\"histogram\"}],\"scattergl\":[{\"type\":\"scattergl\",\"marker\":{\"colorbar\":{\"outlinewidth\":0,\"ticks\":\"\"}}}],\"scatter3d\":[{\"type\":\"scatter3d\",\"line\":{\"colorbar\":{\"outlinewidth\":0,\"ticks\":\"\"}},\"marker\":{\"colorbar\":{\"outlinewidth\":0,\"ticks\":\"\"}}}],\"scattermapbox\":[{\"type\":\"scattermapbox\",\"marker\":{\"colorbar\":{\"outlinewidth\":0,\"ticks\":\"\"}}}],\"scatterternary\":[{\"type\":\"scatterternary\",\"marker\":{\"colorbar\":{\"outlinewidth\":0,\"ticks\":\"\"}}}],\"scattercarpet\":[{\"type\":\"scattercarpet\",\"marker\":{\"colorbar\":{\"outlinewidth\":0,\"ticks\":\"\"}}}],\"carpet\":[{\"aaxis\":{\"endlinecolor\":\"#2a3f5f\",\"gridcolor\":\"white\",\"linecolor\":\"white\",\"minorgridcolor\":\"white\",\"startlinecolor\":\"#2a3f5f\"},\"baxis\":{\"endlinecolor\":\"#2a3f5f\",\"gridcolor\":\"white\",\"linecolor\":\"white\",\"minorgridcolor\":\"white\",\"startlinecolor\":\"#2a3f5f\"},\"type\":\"carpet\"}],\"table\":[{\"cells\":{\"fill\":{\"color\":\"#EBF0F8\"},\"line\":{\"color\":\"white\"}},\"header\":{\"fill\":{\"color\":\"#C8D4E3\"},\"line\":{\"color\":\"white\"}},\"type\":\"table\"}],\"barpolar\":[{\"marker\":{\"line\":{\"color\":\"#E5ECF6\",\"width\":0.5},\"pattern\":{\"fillmode\":\"overlay\",\"size\":10,\"solidity\":0.2}},\"type\":\"barpolar\"}],\"pie\":[{\"automargin\":true,\"type\":\"pie\"}]},\"layout\":{\"autotypenumbers\":\"strict\",\"colorway\":[\"#636efa\",\"#EF553B\",\"#00cc96\",\"#ab63fa\",\"#FFA15A\",\"#19d3f3\",\"#FF6692\",\"#B6E880\",\"#FF97FF\",\"#FECB52\"],\"font\":{\"color\":\"#2a3f5f\"},\"hovermode\":\"closest\",\"hoverlabel\":{\"align\":\"left\"},\"paper_bgcolor\":\"white\",\"plot_bgcolor\":\"#E5ECF6\",\"polar\":{\"bgcolor\":\"#E5ECF6\",\"angularaxis\":{\"gridcolor\":\"white\",\"linecolor\":\"white\",\"ticks\":\"\"},\"radialaxis\":{\"gridcolor\":\"white\",\"linecolor\":\"white\",\"ticks\":\"\"}},\"ternary\":{\"bgcolor\":\"#E5ECF6\",\"aaxis\":{\"gridcolor\":\"white\",\"linecolor\":\"white\",\"ticks\":\"\"},\"baxis\":{\"gridcolor\":\"white\",\"linecolor\":\"white\",\"ticks\":\"\"},\"caxis\":{\"gridcolor\":\"white\",\"linecolor\":\"white\",\"ticks\":\"\"}},\"coloraxis\":{\"colorbar\":{\"outlinewidth\":0,\"ticks\":\"\"}},\"colorscale\":{\"sequential\":[[0.0,\"#0d0887\"],[0.1111111111111111,\"#46039f\"],[0.2222222222222222,\"#7201a8\"],[0.3333333333333333,\"#9c179e\"],[0.4444444444444444,\"#bd3786\"],[0.5555555555555556,\"#d8576b\"],[0.6666666666666666,\"#ed7953\"],[0.7777777777777778,\"#fb9f3a\"],[0.8888888888888888,\"#fdca26\"],[1.0,\"#f0f921\"]],\"sequentialminus\":[[0.0,\"#0d0887\"],[0.1111111111111111,\"#46039f\"],[0.2222222222222222,\"#7201a8\"],[0.3333333333333333,\"#9c179e\"],[0.4444444444444444,\"#bd3786\"],[0.5555555555555556,\"#d8576b\"],[0.6666666666666666,\"#ed7953\"],[0.7777777777777778,\"#fb9f3a\"],[0.8888888888888888,\"#fdca26\"],[1.0,\"#f0f921\"]],\"diverging\":[[0,\"#8e0152\"],[0.1,\"#c51b7d\"],[0.2,\"#de77ae\"],[0.3,\"#f1b6da\"],[0.4,\"#fde0ef\"],[0.5,\"#f7f7f7\"],[0.6,\"#e6f5d0\"],[0.7,\"#b8e186\"],[0.8,\"#7fbc41\"],[0.9,\"#4d9221\"],[1,\"#276419\"]]},\"xaxis\":{\"gridcolor\":\"white\",\"linecolor\":\"white\",\"ticks\":\"\",\"title\":{\"standoff\":15},\"zerolinecolor\":\"white\",\"automargin\":true,\"zerolinewidth\":2},\"yaxis\":{\"gridcolor\":\"white\",\"linecolor\":\"white\",\"ticks\":\"\",\"title\":{\"standoff\":15},\"zerolinecolor\":\"white\",\"automargin\":true,\"zerolinewidth\":2},\"scene\":{\"xaxis\":{\"backgroundcolor\":\"#E5ECF6\",\"gridcolor\":\"white\",\"linecolor\":\"white\",\"showbackground\":true,\"ticks\":\"\",\"zerolinecolor\":\"white\",\"gridwidth\":2},\"yaxis\":{\"backgroundcolor\":\"#E5ECF6\",\"gridcolor\":\"white\",\"linecolor\":\"white\",\"showbackground\":true,\"ticks\":\"\",\"zerolinecolor\":\"white\",\"gridwidth\":2},\"zaxis\":{\"backgroundcolor\":\"#E5ECF6\",\"gridcolor\":\"white\",\"linecolor\":\"white\",\"showbackground\":true,\"ticks\":\"\",\"zerolinecolor\":\"white\",\"gridwidth\":2}},\"shapedefaults\":{\"line\":{\"color\":\"#2a3f5f\"}},\"annotationdefaults\":{\"arrowcolor\":\"#2a3f5f\",\"arrowhead\":0,\"arrowwidth\":1},\"geo\":{\"bgcolor\":\"white\",\"landcolor\":\"#E5ECF6\",\"subunitcolor\":\"white\",\"showland\":true,\"showlakes\":true,\"lakecolor\":\"white\"},\"title\":{\"x\":0.05},\"mapbox\":{\"style\":\"light\"}}},\"xaxis\":{\"anchor\":\"y\",\"domain\":[0.0,1.0],\"title\":{\"text\":\"timestamp\"}},\"yaxis\":{\"anchor\":\"x\",\"domain\":[0.0,1.0],\"title\":{\"text\":\"diff_counts\"}},\"coloraxis\":{\"colorbar\":{\"title\":{\"text\":\"diff_counts\"}},\"colorscale\":[[0.0,\"#0d0887\"],[0.1111111111111111,\"#46039f\"],[0.2222222222222222,\"#7201a8\"],[0.3333333333333333,\"#9c179e\"],[0.4444444444444444,\"#bd3786\"],[0.5555555555555556,\"#d8576b\"],[0.6666666666666666,\"#ed7953\"],[0.7777777777777778,\"#fb9f3a\"],[0.8888888888888888,\"#fdca26\"],[1.0,\"#f0f921\"]]},\"legend\":{\"tracegroupgap\":0,\"itemsizing\":\"constant\"},\"title\":{\"text\":\"Release Size and Frequency\"},\"autosize\":true},                        {\"responsive\": true}                    ).then(function(){\n                            \nvar gd = document.getElementById('325da9d9-fa99-4854-9661-062a6fb07d36');\nvar x = new MutationObserver(function (mutations, observer) {{\n        var display = window.getComputedStyle(gd).display;\n        if (!display || display === 'none') {{\n            console.log([gd, 'removed!']);\n            Plotly.purge(gd);\n            observer.disconnect();\n        }}\n}});\n\n// Listen for the removal of the full notebook cells\nvar notebookContainer = gd.closest('#notebook-container');\nif (notebookContainer) {{\n    x.observe(notebookContainer, {childList: true});\n}}\n\n// Listen for the clearing of the current output cell\nvar outputEl = gd.closest('.output');\nif (outputEl) {{\n    x.observe(outputEl, {childList: true});\n}}\n\n                        })                };                });            </script>        </div>"
     },
     "metadata": {},
     "output_type": "display_data"
    }
   ],
   "source": [
    "figure = px.scatter(\n",
    "    graph_df.iloc[-25:],\n",
    "    x=\"timestamp\",\n",
    "    y=\"diff_counts\",\n",
    "    size=\"diff_counts\",\n",
    "    color=\"diff_counts\",\n",
    "    title='Release Size and Frequency',\n",
    "    hover_data=[\"timestamp\", \"name\", \"interval\"]\n",
    ")\n",
    "figure.update_layout(autosize=True)\n",
    "figure.update_traces(mode=\"markers+lines\")\n",
    "figure.show()"
   ]
  },
  {
   "cell_type": "code",
   "execution_count": 121,
   "id": "526a9b43",
   "metadata": {
    "ExecuteTime": {
     "end_time": "2024-08-08T18:02:26.878574Z",
     "start_time": "2024-08-08T18:02:26.856107Z"
    }
   },
   "outputs": [
    {
     "data": {
      "text/plain": "['__class__',\n '__contains__',\n '__delattr__',\n '__dict__',\n '__dir__',\n '__doc__',\n '__eq__',\n '__format__',\n '__ge__',\n '__getattribute__',\n '__getitem__',\n '__getstate__',\n '__gt__',\n '__hash__',\n '__init__',\n '__init_subclass__',\n '__iter__',\n '__le__',\n '__lt__',\n '__module__',\n '__ne__',\n '__new__',\n '__reduce__',\n '__reduce_ex__',\n '__repr__',\n '__setattr__',\n '__setitem__',\n '__sizeof__',\n '__str__',\n '__subclasshook__',\n '__weakref__',\n '_add_annotation_like',\n '_allow_disable_validation',\n '_animation_duration_validator',\n '_animation_easing_validator',\n '_batch_layout_edits',\n '_batch_trace_edits',\n '_bracket_re',\n '_build_dispatch_plan',\n '_build_update_params_from_batch',\n '_config',\n '_data',\n '_data_defaults',\n '_data_objs',\n '_data_validator',\n '_dispatch_layout_change_callbacks',\n '_dispatch_trace_change_callbacks',\n '_filter_by_selector',\n '_frame_objs',\n '_frames_validator',\n '_get_child_prop_defaults',\n '_get_child_props',\n '_get_subplot_coordinates',\n '_get_subplot_rows_columns',\n '_grid_ref',\n '_grid_str',\n '_has_subplots',\n '_in_batch_mode',\n '_index_is',\n '_init_child_props',\n '_initialize_layout_template',\n '_ipython_display_',\n '_is_dict_list',\n '_is_key_path_compatible',\n '_layout',\n '_layout_defaults',\n '_layout_obj',\n '_layout_validator',\n '_make_axis_spanning_layout_object',\n '_normalize_trace_indexes',\n '_perform_batch_animate',\n '_perform_plotly_relayout',\n '_perform_plotly_restyle',\n '_perform_plotly_update',\n '_perform_select_traces',\n '_perform_update',\n '_process_multiple_axis_spanning_shapes',\n '_px_trendlines',\n '_raise_invalid_rows_cols',\n '_relayout_child',\n '_repr_html_',\n '_repr_mimebundle_',\n '_restyle_child',\n '_select_annotations_like',\n '_select_layout_subplots_by_prefix',\n '_select_subplot_coordinates',\n '_selector_matches',\n '_send_addTraces_msg',\n '_send_animate_msg',\n '_send_deleteTraces_msg',\n '_send_moveTraces_msg',\n '_send_relayout_msg',\n '_send_restyle_msg',\n '_send_update_msg',\n '_set_in',\n '_set_trace_grid_position',\n '_set_trace_uid',\n '_str_to_dict_path',\n '_subplot_not_empty',\n '_to_ordered_dict',\n '_valid_underscore_properties',\n '_validate',\n '_validate_get_grid_ref',\n '_validate_rows_cols',\n 'add_annotation',\n 'add_bar',\n 'add_barpolar',\n 'add_box',\n 'add_candlestick',\n 'add_carpet',\n 'add_choropleth',\n 'add_choroplethmapbox',\n 'add_cone',\n 'add_contour',\n 'add_contourcarpet',\n 'add_densitymapbox',\n 'add_funnel',\n 'add_funnelarea',\n 'add_heatmap',\n 'add_heatmapgl',\n 'add_histogram',\n 'add_histogram2d',\n 'add_histogram2dcontour',\n 'add_hline',\n 'add_hrect',\n 'add_icicle',\n 'add_image',\n 'add_indicator',\n 'add_isosurface',\n 'add_layout_image',\n 'add_mesh3d',\n 'add_ohlc',\n 'add_parcats',\n 'add_parcoords',\n 'add_pie',\n 'add_pointcloud',\n 'add_sankey',\n 'add_scatter',\n 'add_scatter3d',\n 'add_scattercarpet',\n 'add_scattergeo',\n 'add_scattergl',\n 'add_scattermapbox',\n 'add_scatterpolar',\n 'add_scatterpolargl',\n 'add_scattersmith',\n 'add_scatterternary',\n 'add_selection',\n 'add_shape',\n 'add_splom',\n 'add_streamtube',\n 'add_sunburst',\n 'add_surface',\n 'add_table',\n 'add_trace',\n 'add_traces',\n 'add_treemap',\n 'add_violin',\n 'add_vline',\n 'add_volume',\n 'add_vrect',\n 'add_waterfall',\n 'append_trace',\n 'batch_animate',\n 'batch_update',\n 'data',\n 'for_each_annotation',\n 'for_each_coloraxis',\n 'for_each_geo',\n 'for_each_layout_image',\n 'for_each_legend',\n 'for_each_mapbox',\n 'for_each_polar',\n 'for_each_scene',\n 'for_each_selection',\n 'for_each_shape',\n 'for_each_smith',\n 'for_each_ternary',\n 'for_each_trace',\n 'for_each_xaxis',\n 'for_each_yaxis',\n 'frames',\n 'full_figure_for_development',\n 'get_subplot',\n 'layout',\n 'plotly_relayout',\n 'plotly_restyle',\n 'plotly_update',\n 'pop',\n 'print_grid',\n 'select_annotations',\n 'select_coloraxes',\n 'select_geos',\n 'select_layout_images',\n 'select_legends',\n 'select_mapboxes',\n 'select_polars',\n 'select_scenes',\n 'select_selections',\n 'select_shapes',\n 'select_smiths',\n 'select_ternaries',\n 'select_traces',\n 'select_xaxes',\n 'select_yaxes',\n 'set_subplots',\n 'show',\n 'to_dict',\n 'to_html',\n 'to_image',\n 'to_json',\n 'to_ordered_dict',\n 'to_plotly_json',\n 'update',\n 'update_annotations',\n 'update_coloraxes',\n 'update_geos',\n 'update_layout',\n 'update_layout_images',\n 'update_legends',\n 'update_mapboxes',\n 'update_polars',\n 'update_scenes',\n 'update_selections',\n 'update_shapes',\n 'update_smiths',\n 'update_ternaries',\n 'update_traces',\n 'update_xaxes',\n 'update_yaxes',\n 'write_html',\n 'write_image',\n 'write_json']"
     },
     "execution_count": 121,
     "metadata": {},
     "output_type": "execute_result"
    }
   ],
   "source": [
    "dir(figure)"
   ]
  },
  {
   "cell_type": "code",
   "execution_count": 122,
   "id": "bd0fd838",
   "metadata": {
    "ExecuteTime": {
     "end_time": "2024-08-08T18:02:26.890905Z",
     "start_time": "2024-08-08T18:02:26.860774Z"
    }
   },
   "outputs": [
    {
     "data": {
      "application/vnd.plotly.v1+json": {
       "data": [
        {
         "hovertemplate": "<b>%{hovertext}</b><br><br>timestamp=%{x}<br>diff_counts=%{y}<extra></extra>",
         "hovertext": [
          "production/v6.37.0-codepush.v142",
          "production/6.38.0",
          "production/v6.36.0-codepush.v143",
          "production/v6.37.0-codepush.v144",
          "production/v6.38.0-codepush.v147",
          "production/v6.37.0-codepush.v145",
          "production/v6.38.0-codepush.v146",
          "v6.39.0",
          "v6.40.0",
          "v6.41.0",
          "v6.42.0",
          "v6.43.0",
          "v6.43.0-codepush.v148",
          "v6.44.0",
          "v6.45.0",
          "v6.46.0",
          "v6.44.0-codepush.v150",
          "v6.45.0-codepush.v149",
          "v6.47.0",
          "v6.47.0-codepush.v151",
          "v6.48.0"
         ],
         "legendgroup": "",
         "line": {
          "color": "#636efa",
          "dash": "solid"
         },
         "marker": {
          "symbol": "circle"
         },
         "mode": "markers+lines",
         "name": "",
         "orientation": "v",
         "showlegend": false,
         "x": [
          "2024-06-10T23:11:02+00:00",
          "2024-06-14T18:55:38+00:00",
          "2024-06-14T23:09:18+00:00",
          "2024-06-14T23:09:18+00:00",
          "2024-06-14T23:09:18+00:00",
          "2024-06-17T19:57:43+00:00",
          "2024-06-17T19:57:43+00:00",
          "2024-06-21T18:01:35+00:00",
          "2024-06-28T19:35:31+00:00",
          "2024-07-04T08:15:36+00:00",
          "2024-07-08T21:07:37+00:00",
          "2024-07-12T11:26:56+00:00",
          "2024-07-12T14:46:17+00:00",
          "2024-07-12T22:21:18+00:00",
          "2024-07-19T15:25:11+00:00",
          "2024-07-26T17:42:25+00:00",
          "2024-07-31T22:50:09+00:00",
          "2024-07-31T22:50:09+00:00",
          "2024-08-02T13:33:20+00:00",
          "2024-08-02T22:26:19+00:00",
          "2024-08-05T10:55:55+00:00"
         ],
         "xaxis": "x",
         "y": [
          0,
          499,
          963,
          607,
          503,
          499,
          501,
          671,
          646,
          859,
          131,
          976,
          2,
          45,
          858,
          1386,
          1682,
          858,
          2003,
          30,
          156
         ],
         "yaxis": "y",
         "type": "scatter"
        }
       ],
       "layout": {
        "template": {
         "data": {
          "histogram2dcontour": [
           {
            "type": "histogram2dcontour",
            "colorbar": {
             "outlinewidth": 0,
             "ticks": ""
            },
            "colorscale": [
             [
              0.0,
              "#0d0887"
             ],
             [
              0.1111111111111111,
              "#46039f"
             ],
             [
              0.2222222222222222,
              "#7201a8"
             ],
             [
              0.3333333333333333,
              "#9c179e"
             ],
             [
              0.4444444444444444,
              "#bd3786"
             ],
             [
              0.5555555555555556,
              "#d8576b"
             ],
             [
              0.6666666666666666,
              "#ed7953"
             ],
             [
              0.7777777777777778,
              "#fb9f3a"
             ],
             [
              0.8888888888888888,
              "#fdca26"
             ],
             [
              1.0,
              "#f0f921"
             ]
            ]
           }
          ],
          "choropleth": [
           {
            "type": "choropleth",
            "colorbar": {
             "outlinewidth": 0,
             "ticks": ""
            }
           }
          ],
          "histogram2d": [
           {
            "type": "histogram2d",
            "colorbar": {
             "outlinewidth": 0,
             "ticks": ""
            },
            "colorscale": [
             [
              0.0,
              "#0d0887"
             ],
             [
              0.1111111111111111,
              "#46039f"
             ],
             [
              0.2222222222222222,
              "#7201a8"
             ],
             [
              0.3333333333333333,
              "#9c179e"
             ],
             [
              0.4444444444444444,
              "#bd3786"
             ],
             [
              0.5555555555555556,
              "#d8576b"
             ],
             [
              0.6666666666666666,
              "#ed7953"
             ],
             [
              0.7777777777777778,
              "#fb9f3a"
             ],
             [
              0.8888888888888888,
              "#fdca26"
             ],
             [
              1.0,
              "#f0f921"
             ]
            ]
           }
          ],
          "heatmap": [
           {
            "type": "heatmap",
            "colorbar": {
             "outlinewidth": 0,
             "ticks": ""
            },
            "colorscale": [
             [
              0.0,
              "#0d0887"
             ],
             [
              0.1111111111111111,
              "#46039f"
             ],
             [
              0.2222222222222222,
              "#7201a8"
             ],
             [
              0.3333333333333333,
              "#9c179e"
             ],
             [
              0.4444444444444444,
              "#bd3786"
             ],
             [
              0.5555555555555556,
              "#d8576b"
             ],
             [
              0.6666666666666666,
              "#ed7953"
             ],
             [
              0.7777777777777778,
              "#fb9f3a"
             ],
             [
              0.8888888888888888,
              "#fdca26"
             ],
             [
              1.0,
              "#f0f921"
             ]
            ]
           }
          ],
          "heatmapgl": [
           {
            "type": "heatmapgl",
            "colorbar": {
             "outlinewidth": 0,
             "ticks": ""
            },
            "colorscale": [
             [
              0.0,
              "#0d0887"
             ],
             [
              0.1111111111111111,
              "#46039f"
             ],
             [
              0.2222222222222222,
              "#7201a8"
             ],
             [
              0.3333333333333333,
              "#9c179e"
             ],
             [
              0.4444444444444444,
              "#bd3786"
             ],
             [
              0.5555555555555556,
              "#d8576b"
             ],
             [
              0.6666666666666666,
              "#ed7953"
             ],
             [
              0.7777777777777778,
              "#fb9f3a"
             ],
             [
              0.8888888888888888,
              "#fdca26"
             ],
             [
              1.0,
              "#f0f921"
             ]
            ]
           }
          ],
          "contourcarpet": [
           {
            "type": "contourcarpet",
            "colorbar": {
             "outlinewidth": 0,
             "ticks": ""
            }
           }
          ],
          "contour": [
           {
            "type": "contour",
            "colorbar": {
             "outlinewidth": 0,
             "ticks": ""
            },
            "colorscale": [
             [
              0.0,
              "#0d0887"
             ],
             [
              0.1111111111111111,
              "#46039f"
             ],
             [
              0.2222222222222222,
              "#7201a8"
             ],
             [
              0.3333333333333333,
              "#9c179e"
             ],
             [
              0.4444444444444444,
              "#bd3786"
             ],
             [
              0.5555555555555556,
              "#d8576b"
             ],
             [
              0.6666666666666666,
              "#ed7953"
             ],
             [
              0.7777777777777778,
              "#fb9f3a"
             ],
             [
              0.8888888888888888,
              "#fdca26"
             ],
             [
              1.0,
              "#f0f921"
             ]
            ]
           }
          ],
          "surface": [
           {
            "type": "surface",
            "colorbar": {
             "outlinewidth": 0,
             "ticks": ""
            },
            "colorscale": [
             [
              0.0,
              "#0d0887"
             ],
             [
              0.1111111111111111,
              "#46039f"
             ],
             [
              0.2222222222222222,
              "#7201a8"
             ],
             [
              0.3333333333333333,
              "#9c179e"
             ],
             [
              0.4444444444444444,
              "#bd3786"
             ],
             [
              0.5555555555555556,
              "#d8576b"
             ],
             [
              0.6666666666666666,
              "#ed7953"
             ],
             [
              0.7777777777777778,
              "#fb9f3a"
             ],
             [
              0.8888888888888888,
              "#fdca26"
             ],
             [
              1.0,
              "#f0f921"
             ]
            ]
           }
          ],
          "mesh3d": [
           {
            "type": "mesh3d",
            "colorbar": {
             "outlinewidth": 0,
             "ticks": ""
            }
           }
          ],
          "scatter": [
           {
            "fillpattern": {
             "fillmode": "overlay",
             "size": 10,
             "solidity": 0.2
            },
            "type": "scatter"
           }
          ],
          "parcoords": [
           {
            "type": "parcoords",
            "line": {
             "colorbar": {
              "outlinewidth": 0,
              "ticks": ""
             }
            }
           }
          ],
          "scatterpolargl": [
           {
            "type": "scatterpolargl",
            "marker": {
             "colorbar": {
              "outlinewidth": 0,
              "ticks": ""
             }
            }
           }
          ],
          "bar": [
           {
            "error_x": {
             "color": "#2a3f5f"
            },
            "error_y": {
             "color": "#2a3f5f"
            },
            "marker": {
             "line": {
              "color": "#E5ECF6",
              "width": 0.5
             },
             "pattern": {
              "fillmode": "overlay",
              "size": 10,
              "solidity": 0.2
             }
            },
            "type": "bar"
           }
          ],
          "scattergeo": [
           {
            "type": "scattergeo",
            "marker": {
             "colorbar": {
              "outlinewidth": 0,
              "ticks": ""
             }
            }
           }
          ],
          "scatterpolar": [
           {
            "type": "scatterpolar",
            "marker": {
             "colorbar": {
              "outlinewidth": 0,
              "ticks": ""
             }
            }
           }
          ],
          "histogram": [
           {
            "marker": {
             "pattern": {
              "fillmode": "overlay",
              "size": 10,
              "solidity": 0.2
             }
            },
            "type": "histogram"
           }
          ],
          "scattergl": [
           {
            "type": "scattergl",
            "marker": {
             "colorbar": {
              "outlinewidth": 0,
              "ticks": ""
             }
            }
           }
          ],
          "scatter3d": [
           {
            "type": "scatter3d",
            "line": {
             "colorbar": {
              "outlinewidth": 0,
              "ticks": ""
             }
            },
            "marker": {
             "colorbar": {
              "outlinewidth": 0,
              "ticks": ""
             }
            }
           }
          ],
          "scattermapbox": [
           {
            "type": "scattermapbox",
            "marker": {
             "colorbar": {
              "outlinewidth": 0,
              "ticks": ""
             }
            }
           }
          ],
          "scatterternary": [
           {
            "type": "scatterternary",
            "marker": {
             "colorbar": {
              "outlinewidth": 0,
              "ticks": ""
             }
            }
           }
          ],
          "scattercarpet": [
           {
            "type": "scattercarpet",
            "marker": {
             "colorbar": {
              "outlinewidth": 0,
              "ticks": ""
             }
            }
           }
          ],
          "carpet": [
           {
            "aaxis": {
             "endlinecolor": "#2a3f5f",
             "gridcolor": "white",
             "linecolor": "white",
             "minorgridcolor": "white",
             "startlinecolor": "#2a3f5f"
            },
            "baxis": {
             "endlinecolor": "#2a3f5f",
             "gridcolor": "white",
             "linecolor": "white",
             "minorgridcolor": "white",
             "startlinecolor": "#2a3f5f"
            },
            "type": "carpet"
           }
          ],
          "table": [
           {
            "cells": {
             "fill": {
              "color": "#EBF0F8"
             },
             "line": {
              "color": "white"
             }
            },
            "header": {
             "fill": {
              "color": "#C8D4E3"
             },
             "line": {
              "color": "white"
             }
            },
            "type": "table"
           }
          ],
          "barpolar": [
           {
            "marker": {
             "line": {
              "color": "#E5ECF6",
              "width": 0.5
             },
             "pattern": {
              "fillmode": "overlay",
              "size": 10,
              "solidity": 0.2
             }
            },
            "type": "barpolar"
           }
          ],
          "pie": [
           {
            "automargin": true,
            "type": "pie"
           }
          ]
         },
         "layout": {
          "autotypenumbers": "strict",
          "colorway": [
           "#636efa",
           "#EF553B",
           "#00cc96",
           "#ab63fa",
           "#FFA15A",
           "#19d3f3",
           "#FF6692",
           "#B6E880",
           "#FF97FF",
           "#FECB52"
          ],
          "font": {
           "color": "#2a3f5f"
          },
          "hovermode": "closest",
          "hoverlabel": {
           "align": "left"
          },
          "paper_bgcolor": "white",
          "plot_bgcolor": "#E5ECF6",
          "polar": {
           "bgcolor": "#E5ECF6",
           "angularaxis": {
            "gridcolor": "white",
            "linecolor": "white",
            "ticks": ""
           },
           "radialaxis": {
            "gridcolor": "white",
            "linecolor": "white",
            "ticks": ""
           }
          },
          "ternary": {
           "bgcolor": "#E5ECF6",
           "aaxis": {
            "gridcolor": "white",
            "linecolor": "white",
            "ticks": ""
           },
           "baxis": {
            "gridcolor": "white",
            "linecolor": "white",
            "ticks": ""
           },
           "caxis": {
            "gridcolor": "white",
            "linecolor": "white",
            "ticks": ""
           }
          },
          "coloraxis": {
           "colorbar": {
            "outlinewidth": 0,
            "ticks": ""
           }
          },
          "colorscale": {
           "sequential": [
            [
             0.0,
             "#0d0887"
            ],
            [
             0.1111111111111111,
             "#46039f"
            ],
            [
             0.2222222222222222,
             "#7201a8"
            ],
            [
             0.3333333333333333,
             "#9c179e"
            ],
            [
             0.4444444444444444,
             "#bd3786"
            ],
            [
             0.5555555555555556,
             "#d8576b"
            ],
            [
             0.6666666666666666,
             "#ed7953"
            ],
            [
             0.7777777777777778,
             "#fb9f3a"
            ],
            [
             0.8888888888888888,
             "#fdca26"
            ],
            [
             1.0,
             "#f0f921"
            ]
           ],
           "sequentialminus": [
            [
             0.0,
             "#0d0887"
            ],
            [
             0.1111111111111111,
             "#46039f"
            ],
            [
             0.2222222222222222,
             "#7201a8"
            ],
            [
             0.3333333333333333,
             "#9c179e"
            ],
            [
             0.4444444444444444,
             "#bd3786"
            ],
            [
             0.5555555555555556,
             "#d8576b"
            ],
            [
             0.6666666666666666,
             "#ed7953"
            ],
            [
             0.7777777777777778,
             "#fb9f3a"
            ],
            [
             0.8888888888888888,
             "#fdca26"
            ],
            [
             1.0,
             "#f0f921"
            ]
           ],
           "diverging": [
            [
             0,
             "#8e0152"
            ],
            [
             0.1,
             "#c51b7d"
            ],
            [
             0.2,
             "#de77ae"
            ],
            [
             0.3,
             "#f1b6da"
            ],
            [
             0.4,
             "#fde0ef"
            ],
            [
             0.5,
             "#f7f7f7"
            ],
            [
             0.6,
             "#e6f5d0"
            ],
            [
             0.7,
             "#b8e186"
            ],
            [
             0.8,
             "#7fbc41"
            ],
            [
             0.9,
             "#4d9221"
            ],
            [
             1,
             "#276419"
            ]
           ]
          },
          "xaxis": {
           "gridcolor": "white",
           "linecolor": "white",
           "ticks": "",
           "title": {
            "standoff": 15
           },
           "zerolinecolor": "white",
           "automargin": true,
           "zerolinewidth": 2
          },
          "yaxis": {
           "gridcolor": "white",
           "linecolor": "white",
           "ticks": "",
           "title": {
            "standoff": 15
           },
           "zerolinecolor": "white",
           "automargin": true,
           "zerolinewidth": 2
          },
          "scene": {
           "xaxis": {
            "backgroundcolor": "#E5ECF6",
            "gridcolor": "white",
            "linecolor": "white",
            "showbackground": true,
            "ticks": "",
            "zerolinecolor": "white",
            "gridwidth": 2
           },
           "yaxis": {
            "backgroundcolor": "#E5ECF6",
            "gridcolor": "white",
            "linecolor": "white",
            "showbackground": true,
            "ticks": "",
            "zerolinecolor": "white",
            "gridwidth": 2
           },
           "zaxis": {
            "backgroundcolor": "#E5ECF6",
            "gridcolor": "white",
            "linecolor": "white",
            "showbackground": true,
            "ticks": "",
            "zerolinecolor": "white",
            "gridwidth": 2
           }
          },
          "shapedefaults": {
           "line": {
            "color": "#2a3f5f"
           }
          },
          "annotationdefaults": {
           "arrowcolor": "#2a3f5f",
           "arrowhead": 0,
           "arrowwidth": 1
          },
          "geo": {
           "bgcolor": "white",
           "landcolor": "#E5ECF6",
           "subunitcolor": "white",
           "showland": true,
           "showlakes": true,
           "lakecolor": "white"
          },
          "title": {
           "x": 0.05
          },
          "mapbox": {
           "style": "light"
          }
         }
        },
        "xaxis": {
         "anchor": "y",
         "domain": [
          0.0,
          1.0
         ],
         "title": {
          "text": "timestamp"
         }
        },
        "yaxis": {
         "anchor": "x",
         "domain": [
          0.0,
          1.0
         ],
         "title": {
          "text": "diff_counts"
         }
        },
        "legend": {
         "tracegroupgap": 0
        },
        "title": {
         "text": "Release Frequency and Size"
        },
        "hovermode": "x unified"
       },
       "config": {
        "plotlyServerURL": "https://plot.ly"
       }
      },
      "text/html": "<div>                            <div id=\"a3777ef0-a40d-4b17-99cc-fc70692fcbe5\" class=\"plotly-graph-div\" style=\"height:525px; width:100%;\"></div>            <script type=\"text/javascript\">                require([\"plotly\"], function(Plotly) {                    window.PLOTLYENV=window.PLOTLYENV || {};                                    if (document.getElementById(\"a3777ef0-a40d-4b17-99cc-fc70692fcbe5\")) {                    Plotly.newPlot(                        \"a3777ef0-a40d-4b17-99cc-fc70692fcbe5\",                        [{\"hovertemplate\":\"\\u003cb\\u003e%{hovertext}\\u003c\\u002fb\\u003e\\u003cbr\\u003e\\u003cbr\\u003etimestamp=%{x}\\u003cbr\\u003ediff_counts=%{y}\\u003cextra\\u003e\\u003c\\u002fextra\\u003e\",\"hovertext\":[\"production\\u002fv6.37.0-codepush.v142\",\"production\\u002f6.38.0\",\"production\\u002fv6.36.0-codepush.v143\",\"production\\u002fv6.37.0-codepush.v144\",\"production\\u002fv6.38.0-codepush.v147\",\"production\\u002fv6.37.0-codepush.v145\",\"production\\u002fv6.38.0-codepush.v146\",\"v6.39.0\",\"v6.40.0\",\"v6.41.0\",\"v6.42.0\",\"v6.43.0\",\"v6.43.0-codepush.v148\",\"v6.44.0\",\"v6.45.0\",\"v6.46.0\",\"v6.44.0-codepush.v150\",\"v6.45.0-codepush.v149\",\"v6.47.0\",\"v6.47.0-codepush.v151\",\"v6.48.0\"],\"legendgroup\":\"\",\"line\":{\"color\":\"#636efa\",\"dash\":\"solid\"},\"marker\":{\"symbol\":\"circle\"},\"mode\":\"markers+lines\",\"name\":\"\",\"orientation\":\"v\",\"showlegend\":false,\"x\":[\"2024-06-10T23:11:02+00:00\",\"2024-06-14T18:55:38+00:00\",\"2024-06-14T23:09:18+00:00\",\"2024-06-14T23:09:18+00:00\",\"2024-06-14T23:09:18+00:00\",\"2024-06-17T19:57:43+00:00\",\"2024-06-17T19:57:43+00:00\",\"2024-06-21T18:01:35+00:00\",\"2024-06-28T19:35:31+00:00\",\"2024-07-04T08:15:36+00:00\",\"2024-07-08T21:07:37+00:00\",\"2024-07-12T11:26:56+00:00\",\"2024-07-12T14:46:17+00:00\",\"2024-07-12T22:21:18+00:00\",\"2024-07-19T15:25:11+00:00\",\"2024-07-26T17:42:25+00:00\",\"2024-07-31T22:50:09+00:00\",\"2024-07-31T22:50:09+00:00\",\"2024-08-02T13:33:20+00:00\",\"2024-08-02T22:26:19+00:00\",\"2024-08-05T10:55:55+00:00\"],\"xaxis\":\"x\",\"y\":[0,499,963,607,503,499,501,671,646,859,131,976,2,45,858,1386,1682,858,2003,30,156],\"yaxis\":\"y\",\"type\":\"scatter\"}],                        {\"template\":{\"data\":{\"histogram2dcontour\":[{\"type\":\"histogram2dcontour\",\"colorbar\":{\"outlinewidth\":0,\"ticks\":\"\"},\"colorscale\":[[0.0,\"#0d0887\"],[0.1111111111111111,\"#46039f\"],[0.2222222222222222,\"#7201a8\"],[0.3333333333333333,\"#9c179e\"],[0.4444444444444444,\"#bd3786\"],[0.5555555555555556,\"#d8576b\"],[0.6666666666666666,\"#ed7953\"],[0.7777777777777778,\"#fb9f3a\"],[0.8888888888888888,\"#fdca26\"],[1.0,\"#f0f921\"]]}],\"choropleth\":[{\"type\":\"choropleth\",\"colorbar\":{\"outlinewidth\":0,\"ticks\":\"\"}}],\"histogram2d\":[{\"type\":\"histogram2d\",\"colorbar\":{\"outlinewidth\":0,\"ticks\":\"\"},\"colorscale\":[[0.0,\"#0d0887\"],[0.1111111111111111,\"#46039f\"],[0.2222222222222222,\"#7201a8\"],[0.3333333333333333,\"#9c179e\"],[0.4444444444444444,\"#bd3786\"],[0.5555555555555556,\"#d8576b\"],[0.6666666666666666,\"#ed7953\"],[0.7777777777777778,\"#fb9f3a\"],[0.8888888888888888,\"#fdca26\"],[1.0,\"#f0f921\"]]}],\"heatmap\":[{\"type\":\"heatmap\",\"colorbar\":{\"outlinewidth\":0,\"ticks\":\"\"},\"colorscale\":[[0.0,\"#0d0887\"],[0.1111111111111111,\"#46039f\"],[0.2222222222222222,\"#7201a8\"],[0.3333333333333333,\"#9c179e\"],[0.4444444444444444,\"#bd3786\"],[0.5555555555555556,\"#d8576b\"],[0.6666666666666666,\"#ed7953\"],[0.7777777777777778,\"#fb9f3a\"],[0.8888888888888888,\"#fdca26\"],[1.0,\"#f0f921\"]]}],\"heatmapgl\":[{\"type\":\"heatmapgl\",\"colorbar\":{\"outlinewidth\":0,\"ticks\":\"\"},\"colorscale\":[[0.0,\"#0d0887\"],[0.1111111111111111,\"#46039f\"],[0.2222222222222222,\"#7201a8\"],[0.3333333333333333,\"#9c179e\"],[0.4444444444444444,\"#bd3786\"],[0.5555555555555556,\"#d8576b\"],[0.6666666666666666,\"#ed7953\"],[0.7777777777777778,\"#fb9f3a\"],[0.8888888888888888,\"#fdca26\"],[1.0,\"#f0f921\"]]}],\"contourcarpet\":[{\"type\":\"contourcarpet\",\"colorbar\":{\"outlinewidth\":0,\"ticks\":\"\"}}],\"contour\":[{\"type\":\"contour\",\"colorbar\":{\"outlinewidth\":0,\"ticks\":\"\"},\"colorscale\":[[0.0,\"#0d0887\"],[0.1111111111111111,\"#46039f\"],[0.2222222222222222,\"#7201a8\"],[0.3333333333333333,\"#9c179e\"],[0.4444444444444444,\"#bd3786\"],[0.5555555555555556,\"#d8576b\"],[0.6666666666666666,\"#ed7953\"],[0.7777777777777778,\"#fb9f3a\"],[0.8888888888888888,\"#fdca26\"],[1.0,\"#f0f921\"]]}],\"surface\":[{\"type\":\"surface\",\"colorbar\":{\"outlinewidth\":0,\"ticks\":\"\"},\"colorscale\":[[0.0,\"#0d0887\"],[0.1111111111111111,\"#46039f\"],[0.2222222222222222,\"#7201a8\"],[0.3333333333333333,\"#9c179e\"],[0.4444444444444444,\"#bd3786\"],[0.5555555555555556,\"#d8576b\"],[0.6666666666666666,\"#ed7953\"],[0.7777777777777778,\"#fb9f3a\"],[0.8888888888888888,\"#fdca26\"],[1.0,\"#f0f921\"]]}],\"mesh3d\":[{\"type\":\"mesh3d\",\"colorbar\":{\"outlinewidth\":0,\"ticks\":\"\"}}],\"scatter\":[{\"fillpattern\":{\"fillmode\":\"overlay\",\"size\":10,\"solidity\":0.2},\"type\":\"scatter\"}],\"parcoords\":[{\"type\":\"parcoords\",\"line\":{\"colorbar\":{\"outlinewidth\":0,\"ticks\":\"\"}}}],\"scatterpolargl\":[{\"type\":\"scatterpolargl\",\"marker\":{\"colorbar\":{\"outlinewidth\":0,\"ticks\":\"\"}}}],\"bar\":[{\"error_x\":{\"color\":\"#2a3f5f\"},\"error_y\":{\"color\":\"#2a3f5f\"},\"marker\":{\"line\":{\"color\":\"#E5ECF6\",\"width\":0.5},\"pattern\":{\"fillmode\":\"overlay\",\"size\":10,\"solidity\":0.2}},\"type\":\"bar\"}],\"scattergeo\":[{\"type\":\"scattergeo\",\"marker\":{\"colorbar\":{\"outlinewidth\":0,\"ticks\":\"\"}}}],\"scatterpolar\":[{\"type\":\"scatterpolar\",\"marker\":{\"colorbar\":{\"outlinewidth\":0,\"ticks\":\"\"}}}],\"histogram\":[{\"marker\":{\"pattern\":{\"fillmode\":\"overlay\",\"size\":10,\"solidity\":0.2}},\"type\":\"histogram\"}],\"scattergl\":[{\"type\":\"scattergl\",\"marker\":{\"colorbar\":{\"outlinewidth\":0,\"ticks\":\"\"}}}],\"scatter3d\":[{\"type\":\"scatter3d\",\"line\":{\"colorbar\":{\"outlinewidth\":0,\"ticks\":\"\"}},\"marker\":{\"colorbar\":{\"outlinewidth\":0,\"ticks\":\"\"}}}],\"scattermapbox\":[{\"type\":\"scattermapbox\",\"marker\":{\"colorbar\":{\"outlinewidth\":0,\"ticks\":\"\"}}}],\"scatterternary\":[{\"type\":\"scatterternary\",\"marker\":{\"colorbar\":{\"outlinewidth\":0,\"ticks\":\"\"}}}],\"scattercarpet\":[{\"type\":\"scattercarpet\",\"marker\":{\"colorbar\":{\"outlinewidth\":0,\"ticks\":\"\"}}}],\"carpet\":[{\"aaxis\":{\"endlinecolor\":\"#2a3f5f\",\"gridcolor\":\"white\",\"linecolor\":\"white\",\"minorgridcolor\":\"white\",\"startlinecolor\":\"#2a3f5f\"},\"baxis\":{\"endlinecolor\":\"#2a3f5f\",\"gridcolor\":\"white\",\"linecolor\":\"white\",\"minorgridcolor\":\"white\",\"startlinecolor\":\"#2a3f5f\"},\"type\":\"carpet\"}],\"table\":[{\"cells\":{\"fill\":{\"color\":\"#EBF0F8\"},\"line\":{\"color\":\"white\"}},\"header\":{\"fill\":{\"color\":\"#C8D4E3\"},\"line\":{\"color\":\"white\"}},\"type\":\"table\"}],\"barpolar\":[{\"marker\":{\"line\":{\"color\":\"#E5ECF6\",\"width\":0.5},\"pattern\":{\"fillmode\":\"overlay\",\"size\":10,\"solidity\":0.2}},\"type\":\"barpolar\"}],\"pie\":[{\"automargin\":true,\"type\":\"pie\"}]},\"layout\":{\"autotypenumbers\":\"strict\",\"colorway\":[\"#636efa\",\"#EF553B\",\"#00cc96\",\"#ab63fa\",\"#FFA15A\",\"#19d3f3\",\"#FF6692\",\"#B6E880\",\"#FF97FF\",\"#FECB52\"],\"font\":{\"color\":\"#2a3f5f\"},\"hovermode\":\"closest\",\"hoverlabel\":{\"align\":\"left\"},\"paper_bgcolor\":\"white\",\"plot_bgcolor\":\"#E5ECF6\",\"polar\":{\"bgcolor\":\"#E5ECF6\",\"angularaxis\":{\"gridcolor\":\"white\",\"linecolor\":\"white\",\"ticks\":\"\"},\"radialaxis\":{\"gridcolor\":\"white\",\"linecolor\":\"white\",\"ticks\":\"\"}},\"ternary\":{\"bgcolor\":\"#E5ECF6\",\"aaxis\":{\"gridcolor\":\"white\",\"linecolor\":\"white\",\"ticks\":\"\"},\"baxis\":{\"gridcolor\":\"white\",\"linecolor\":\"white\",\"ticks\":\"\"},\"caxis\":{\"gridcolor\":\"white\",\"linecolor\":\"white\",\"ticks\":\"\"}},\"coloraxis\":{\"colorbar\":{\"outlinewidth\":0,\"ticks\":\"\"}},\"colorscale\":{\"sequential\":[[0.0,\"#0d0887\"],[0.1111111111111111,\"#46039f\"],[0.2222222222222222,\"#7201a8\"],[0.3333333333333333,\"#9c179e\"],[0.4444444444444444,\"#bd3786\"],[0.5555555555555556,\"#d8576b\"],[0.6666666666666666,\"#ed7953\"],[0.7777777777777778,\"#fb9f3a\"],[0.8888888888888888,\"#fdca26\"],[1.0,\"#f0f921\"]],\"sequentialminus\":[[0.0,\"#0d0887\"],[0.1111111111111111,\"#46039f\"],[0.2222222222222222,\"#7201a8\"],[0.3333333333333333,\"#9c179e\"],[0.4444444444444444,\"#bd3786\"],[0.5555555555555556,\"#d8576b\"],[0.6666666666666666,\"#ed7953\"],[0.7777777777777778,\"#fb9f3a\"],[0.8888888888888888,\"#fdca26\"],[1.0,\"#f0f921\"]],\"diverging\":[[0,\"#8e0152\"],[0.1,\"#c51b7d\"],[0.2,\"#de77ae\"],[0.3,\"#f1b6da\"],[0.4,\"#fde0ef\"],[0.5,\"#f7f7f7\"],[0.6,\"#e6f5d0\"],[0.7,\"#b8e186\"],[0.8,\"#7fbc41\"],[0.9,\"#4d9221\"],[1,\"#276419\"]]},\"xaxis\":{\"gridcolor\":\"white\",\"linecolor\":\"white\",\"ticks\":\"\",\"title\":{\"standoff\":15},\"zerolinecolor\":\"white\",\"automargin\":true,\"zerolinewidth\":2},\"yaxis\":{\"gridcolor\":\"white\",\"linecolor\":\"white\",\"ticks\":\"\",\"title\":{\"standoff\":15},\"zerolinecolor\":\"white\",\"automargin\":true,\"zerolinewidth\":2},\"scene\":{\"xaxis\":{\"backgroundcolor\":\"#E5ECF6\",\"gridcolor\":\"white\",\"linecolor\":\"white\",\"showbackground\":true,\"ticks\":\"\",\"zerolinecolor\":\"white\",\"gridwidth\":2},\"yaxis\":{\"backgroundcolor\":\"#E5ECF6\",\"gridcolor\":\"white\",\"linecolor\":\"white\",\"showbackground\":true,\"ticks\":\"\",\"zerolinecolor\":\"white\",\"gridwidth\":2},\"zaxis\":{\"backgroundcolor\":\"#E5ECF6\",\"gridcolor\":\"white\",\"linecolor\":\"white\",\"showbackground\":true,\"ticks\":\"\",\"zerolinecolor\":\"white\",\"gridwidth\":2}},\"shapedefaults\":{\"line\":{\"color\":\"#2a3f5f\"}},\"annotationdefaults\":{\"arrowcolor\":\"#2a3f5f\",\"arrowhead\":0,\"arrowwidth\":1},\"geo\":{\"bgcolor\":\"white\",\"landcolor\":\"#E5ECF6\",\"subunitcolor\":\"white\",\"showland\":true,\"showlakes\":true,\"lakecolor\":\"white\"},\"title\":{\"x\":0.05},\"mapbox\":{\"style\":\"light\"}}},\"xaxis\":{\"anchor\":\"y\",\"domain\":[0.0,1.0],\"title\":{\"text\":\"timestamp\"}},\"yaxis\":{\"anchor\":\"x\",\"domain\":[0.0,1.0],\"title\":{\"text\":\"diff_counts\"}},\"legend\":{\"tracegroupgap\":0},\"title\":{\"text\":\"Release Frequency and Size\"},\"hovermode\":\"x unified\"},                        {\"responsive\": true}                    ).then(function(){\n                            \nvar gd = document.getElementById('a3777ef0-a40d-4b17-99cc-fc70692fcbe5');\nvar x = new MutationObserver(function (mutations, observer) {{\n        var display = window.getComputedStyle(gd).display;\n        if (!display || display === 'none') {{\n            console.log([gd, 'removed!']);\n            Plotly.purge(gd);\n            observer.disconnect();\n        }}\n}});\n\n// Listen for the removal of the full notebook cells\nvar notebookContainer = gd.closest('#notebook-container');\nif (notebookContainer) {{\n    x.observe(notebookContainer, {childList: true});\n}}\n\n// Listen for the clearing of the current output cell\nvar outputEl = gd.closest('.output');\nif (outputEl) {{\n    x.observe(outputEl, {childList: true});\n}}\n\n                        })                };                });            </script>        </div>"
     },
     "metadata": {},
     "output_type": "display_data"
    }
   ],
   "source": [
    "hovertemplate = \"%{name}\"\n",
    "figure = px.line(\n",
    "    graph_df,\n",
    "    x=\"timestamp\",\n",
    "    y=\"diff_counts\",\n",
    "    title='Release Frequency and Size',\n",
    "    hover_name=\"name\",\n",
    "    markers=True\n",
    ")\n",
    "#figure.update_traces(mode=\"markers\")\n",
    "figure.update_layout(hovermode=\"x unified\")\n",
    "figure.show()"
   ]
  },
  {
   "cell_type": "code",
   "execution_count": 123,
   "id": "5b2325db",
   "metadata": {
    "ExecuteTime": {
     "end_time": "2024-08-08T18:02:26.895312Z",
     "start_time": "2024-08-08T18:02:26.879113Z"
    }
   },
   "outputs": [
    {
     "name": "stdout",
     "output_type": "stream",
     "text": [
      "<class 'pandas.core.frame.DataFrame'>\n",
      "Index: 21 entries, 390 to 878\n",
      "Data columns (total 4 columns):\n",
      " #   Column       Non-Null Count  Dtype              \n",
      "---  ------       --------------  -----              \n",
      " 0   name         21 non-null     object             \n",
      " 1   timestamp    21 non-null     datetime64[ns, UTC]\n",
      " 2   interval     20 non-null     timedelta64[ns]    \n",
      " 3   diff_counts  21 non-null     int64              \n",
      "dtypes: datetime64[ns, UTC](1), int64(1), object(1), timedelta64[ns](1)\n",
      "memory usage: 840.0+ bytes\n"
     ]
    }
   ],
   "source": [
    "graph_df.info()\n"
   ]
  },
  {
   "cell_type": "code",
   "outputs": [],
   "source": [],
   "metadata": {
    "collapsed": false,
    "ExecuteTime": {
     "end_time": "2024-08-08T18:02:26.895985Z",
     "start_time": "2024-08-08T18:02:26.881139Z"
    }
   },
   "id": "14b74057f12b0350",
   "execution_count": 123
  },
  {
   "cell_type": "markdown",
   "source": [],
   "metadata": {
    "collapsed": false
   },
   "id": "41be635c1499b579"
  },
  {
   "cell_type": "markdown",
   "source": [
    "Add a change-type stacked graph based on diffs.\n"
   ],
   "metadata": {
    "collapsed": false
   },
   "id": "f6e3ef544c3eeb24"
  },
  {
   "cell_type": "code",
   "outputs": [],
   "source": [
    "by_date = lambda x: x.commit.authored_datetime\n",
    "sorted_tags = sorted(repo.tags, key=by_date)"
   ],
   "metadata": {
    "collapsed": false,
    "ExecuteTime": {
     "end_time": "2024-08-08T18:02:27.364571Z",
     "start_time": "2024-08-08T18:02:26.883190Z"
    }
   },
   "id": "272bd672326ad0cc",
   "execution_count": 124
  },
  {
   "cell_type": "code",
   "outputs": [
    {
     "name": "stdout",
     "output_type": "stream",
     "text": [
      "2024-06-14 18:55:38+00:00 production/6.38.0\n",
      "2024-06-14 16:09:18-07:00 production/v6.36.0-codepush.v143\n",
      "2024-06-14 16:09:18-07:00 production/v6.37.0-codepush.v144\n",
      "2024-06-14 16:09:18-07:00 production/v6.38.0-codepush.v147\n",
      "2024-06-17 15:57:43-04:00 production/v6.37.0-codepush.v145\n",
      "2024-06-17 15:57:43-04:00 production/v6.38.0-codepush.v146\n",
      "2024-06-21 14:01:35-04:00 v6.39.0\n",
      "2024-06-28 15:35:31-04:00 v6.40.0\n",
      "2024-07-04 10:15:36+02:00 v6.41.0\n",
      "2024-07-08 21:07:37+00:00 v6.42.0\n",
      "2024-07-12 11:26:56+00:00 v6.43.0\n",
      "2024-07-12 09:46:17-05:00 v6.43.0-codepush.v148\n",
      "2024-07-12 18:21:18-04:00 v6.44.0\n",
      "2024-07-19 15:25:11+00:00 v6.45.0\n",
      "2024-07-26 10:42:25-07:00 v6.46.0\n",
      "2024-07-31 15:50:09-07:00 v6.44.0-codepush.v150\n",
      "2024-07-31 15:50:09-07:00 v6.45.0-codepush.v149\n",
      "2024-08-02 15:33:20+02:00 v6.47.0\n",
      "2024-08-02 18:26:19-04:00 v6.47.0-codepush.v151\n",
      "2024-08-05 12:55:55+02:00 v6.48.0\n"
     ]
    }
   ],
   "source": [
    "\n",
    "last_20 = sorted_tags[-20:]\n",
    "for x in last_20:\n",
    "    print(by_date(x), x)\n"
   ],
   "metadata": {
    "collapsed": false,
    "ExecuteTime": {
     "end_time": "2024-08-08T18:02:27.369199Z",
     "start_time": "2024-08-08T18:02:27.364090Z"
    }
   },
   "id": "31cb96f4ed727592",
   "execution_count": 125
  },
  {
   "cell_type": "code",
   "outputs": [
    {
     "data": {
      "text/plain": "<git.TagReference \"refs/tags/production/6.38.0\">"
     },
     "execution_count": 126,
     "metadata": {},
     "output_type": "execute_result"
    }
   ],
   "source": [
    "\n",
    "start = last_20[0]\n",
    "start\n"
   ],
   "metadata": {
    "collapsed": false,
    "ExecuteTime": {
     "end_time": "2024-08-08T18:02:27.369681Z",
     "start_time": "2024-08-08T18:02:27.367502Z"
    }
   },
   "id": "b04f5b334edbd72",
   "execution_count": 126
  },
  {
   "cell_type": "code",
   "outputs": [
    {
     "data": {
      "text/plain": "          Date                              Name  Files Modified  \\\n0   2024-06-14                 production/6.38.0             NaN   \n1   2024-06-14                 production/6.38.0           683.0   \n2   2024-06-14  production/v6.36.0-codepush.v143           424.0   \n3   2024-06-14  production/v6.37.0-codepush.v144           407.0   \n4   2024-06-17  production/v6.38.0-codepush.v147           403.0   \n5   2024-06-17  production/v6.37.0-codepush.v145           404.0   \n6   2024-06-17  production/v6.38.0-codepush.v146           571.0   \n7   2024-06-21                           v6.39.0           384.0   \n8   2024-06-28                           v6.40.0           460.0   \n9   2024-07-04                           v6.41.0            82.0   \n10  2024-07-08                           v6.42.0           502.0   \n11  2024-07-12                           v6.43.0             2.0   \n12  2024-07-12             v6.43.0-codepush.v148            38.0   \n13  2024-07-12                           v6.44.0           490.0   \n14  2024-07-19                           v6.45.0           602.0   \n15  2024-07-26                           v6.46.0           668.0   \n16  2024-08-01             v6.44.0-codepush.v150           490.0   \n17  2024-07-31             v6.45.0-codepush.v149          1071.0   \n18  2024-08-02                           v6.47.0            11.0   \n19  2024-08-02             v6.47.0-codepush.v151           114.0   \n\n    Files Renamed  Files Deleted  Files Added  \n0             NaN            NaN          NaN  \n1            59.0          103.0        118.0  \n2            41.0           69.0         73.0  \n3            20.0           47.0         29.0  \n4            20.0           29.0         47.0  \n5            20.0           48.0         29.0  \n6            20.0           29.0         51.0  \n7           122.0           39.0        101.0  \n8           206.0           72.0        121.0  \n9             1.0           14.0         34.0  \n10          187.0          198.0         89.0  \n11            NaN            NaN          NaN  \n12            NaN            3.0          4.0  \n13          248.0           49.0         71.0  \n14          700.0           51.0         33.0  \n15          784.0          117.0        113.0  \n16          248.0           49.0         71.0  \n17          734.0           90.0        108.0  \n18            4.0            4.0         11.0  \n19            2.0           31.0          9.0  ",
      "text/html": "<div>\n<style scoped>\n    .dataframe tbody tr th:only-of-type {\n        vertical-align: middle;\n    }\n\n    .dataframe tbody tr th {\n        vertical-align: top;\n    }\n\n    .dataframe thead th {\n        text-align: right;\n    }\n</style>\n<table border=\"1\" class=\"dataframe\">\n  <thead>\n    <tr style=\"text-align: right;\">\n      <th></th>\n      <th>Date</th>\n      <th>Name</th>\n      <th>Files Modified</th>\n      <th>Files Renamed</th>\n      <th>Files Deleted</th>\n      <th>Files Added</th>\n    </tr>\n  </thead>\n  <tbody>\n    <tr>\n      <th>0</th>\n      <td>2024-06-14</td>\n      <td>production/6.38.0</td>\n      <td>NaN</td>\n      <td>NaN</td>\n      <td>NaN</td>\n      <td>NaN</td>\n    </tr>\n    <tr>\n      <th>1</th>\n      <td>2024-06-14</td>\n      <td>production/6.38.0</td>\n      <td>683.0</td>\n      <td>59.0</td>\n      <td>103.0</td>\n      <td>118.0</td>\n    </tr>\n    <tr>\n      <th>2</th>\n      <td>2024-06-14</td>\n      <td>production/v6.36.0-codepush.v143</td>\n      <td>424.0</td>\n      <td>41.0</td>\n      <td>69.0</td>\n      <td>73.0</td>\n    </tr>\n    <tr>\n      <th>3</th>\n      <td>2024-06-14</td>\n      <td>production/v6.37.0-codepush.v144</td>\n      <td>407.0</td>\n      <td>20.0</td>\n      <td>47.0</td>\n      <td>29.0</td>\n    </tr>\n    <tr>\n      <th>4</th>\n      <td>2024-06-17</td>\n      <td>production/v6.38.0-codepush.v147</td>\n      <td>403.0</td>\n      <td>20.0</td>\n      <td>29.0</td>\n      <td>47.0</td>\n    </tr>\n    <tr>\n      <th>5</th>\n      <td>2024-06-17</td>\n      <td>production/v6.37.0-codepush.v145</td>\n      <td>404.0</td>\n      <td>20.0</td>\n      <td>48.0</td>\n      <td>29.0</td>\n    </tr>\n    <tr>\n      <th>6</th>\n      <td>2024-06-17</td>\n      <td>production/v6.38.0-codepush.v146</td>\n      <td>571.0</td>\n      <td>20.0</td>\n      <td>29.0</td>\n      <td>51.0</td>\n    </tr>\n    <tr>\n      <th>7</th>\n      <td>2024-06-21</td>\n      <td>v6.39.0</td>\n      <td>384.0</td>\n      <td>122.0</td>\n      <td>39.0</td>\n      <td>101.0</td>\n    </tr>\n    <tr>\n      <th>8</th>\n      <td>2024-06-28</td>\n      <td>v6.40.0</td>\n      <td>460.0</td>\n      <td>206.0</td>\n      <td>72.0</td>\n      <td>121.0</td>\n    </tr>\n    <tr>\n      <th>9</th>\n      <td>2024-07-04</td>\n      <td>v6.41.0</td>\n      <td>82.0</td>\n      <td>1.0</td>\n      <td>14.0</td>\n      <td>34.0</td>\n    </tr>\n    <tr>\n      <th>10</th>\n      <td>2024-07-08</td>\n      <td>v6.42.0</td>\n      <td>502.0</td>\n      <td>187.0</td>\n      <td>198.0</td>\n      <td>89.0</td>\n    </tr>\n    <tr>\n      <th>11</th>\n      <td>2024-07-12</td>\n      <td>v6.43.0</td>\n      <td>2.0</td>\n      <td>NaN</td>\n      <td>NaN</td>\n      <td>NaN</td>\n    </tr>\n    <tr>\n      <th>12</th>\n      <td>2024-07-12</td>\n      <td>v6.43.0-codepush.v148</td>\n      <td>38.0</td>\n      <td>NaN</td>\n      <td>3.0</td>\n      <td>4.0</td>\n    </tr>\n    <tr>\n      <th>13</th>\n      <td>2024-07-12</td>\n      <td>v6.44.0</td>\n      <td>490.0</td>\n      <td>248.0</td>\n      <td>49.0</td>\n      <td>71.0</td>\n    </tr>\n    <tr>\n      <th>14</th>\n      <td>2024-07-19</td>\n      <td>v6.45.0</td>\n      <td>602.0</td>\n      <td>700.0</td>\n      <td>51.0</td>\n      <td>33.0</td>\n    </tr>\n    <tr>\n      <th>15</th>\n      <td>2024-07-26</td>\n      <td>v6.46.0</td>\n      <td>668.0</td>\n      <td>784.0</td>\n      <td>117.0</td>\n      <td>113.0</td>\n    </tr>\n    <tr>\n      <th>16</th>\n      <td>2024-08-01</td>\n      <td>v6.44.0-codepush.v150</td>\n      <td>490.0</td>\n      <td>248.0</td>\n      <td>49.0</td>\n      <td>71.0</td>\n    </tr>\n    <tr>\n      <th>17</th>\n      <td>2024-07-31</td>\n      <td>v6.45.0-codepush.v149</td>\n      <td>1071.0</td>\n      <td>734.0</td>\n      <td>90.0</td>\n      <td>108.0</td>\n    </tr>\n    <tr>\n      <th>18</th>\n      <td>2024-08-02</td>\n      <td>v6.47.0</td>\n      <td>11.0</td>\n      <td>4.0</td>\n      <td>4.0</td>\n      <td>11.0</td>\n    </tr>\n    <tr>\n      <th>19</th>\n      <td>2024-08-02</td>\n      <td>v6.47.0-codepush.v151</td>\n      <td>114.0</td>\n      <td>2.0</td>\n      <td>31.0</td>\n      <td>9.0</td>\n    </tr>\n  </tbody>\n</table>\n</div>"
     },
     "execution_count": 127,
     "metadata": {},
     "output_type": "execute_result"
    }
   ],
   "source": [
    "from collections import Counter\n",
    "\n",
    "change_name = {\n",
    "    \"A\": \"Files Added\",\n",
    "    \"D\": \"Files Deleted\",\n",
    "    \"R\": \"Files Renamed\",\n",
    "    \"M\": \"Files Modified\"\n",
    "}\n",
    "\n",
    "\n",
    "def change_series(start, last_20):\n",
    "    for tag in last_20:\n",
    "        diffs = start.commit.diff(tag.commit)\n",
    "        yield {\n",
    "            'Date': start.commit.committed_datetime.date(),\n",
    "            'Name': start.name,\n",
    "            **Counter(change_name[x.change_type] for x in diffs)\n",
    "        }\n",
    "        start = tag\n",
    "\n",
    "\n",
    "change_df = pd.DataFrame(change_series(start, last_20))\n",
    "change_df"
   ],
   "metadata": {
    "collapsed": false,
    "ExecuteTime": {
     "end_time": "2024-08-08T18:02:29.913554Z",
     "start_time": "2024-08-08T18:02:27.370705Z"
    }
   },
   "id": "99114d2321bbaa78",
   "execution_count": 127
  },
  {
   "cell_type": "code",
   "outputs": [
    {
     "data": {
      "application/vnd.plotly.v1+json": {
       "data": [
        {
         "alignmentgroup": "True",
         "customdata": [
          [
           "2024-06-14"
          ],
          [
           "2024-06-14"
          ],
          [
           "2024-06-14"
          ],
          [
           "2024-06-14"
          ],
          [
           "2024-06-17"
          ],
          [
           "2024-06-17"
          ],
          [
           "2024-06-17"
          ],
          [
           "2024-06-21"
          ],
          [
           "2024-06-28"
          ],
          [
           "2024-07-04"
          ],
          [
           "2024-07-08"
          ],
          [
           "2024-07-12"
          ],
          [
           "2024-07-12"
          ],
          [
           "2024-07-12"
          ],
          [
           "2024-07-19"
          ],
          [
           "2024-07-26"
          ],
          [
           "2024-08-01"
          ],
          [
           "2024-07-31"
          ],
          [
           "2024-08-02"
          ],
          [
           "2024-08-02"
          ]
         ],
         "hovertemplate": "<b>%{hovertext}</b><br><br>variable=Files Added<br>Name=%{x}<br>value=%{y}<br>Date=%{customdata[0]}<extra></extra>",
         "hovertext": [
          "production/6.38.0",
          "production/6.38.0",
          "production/v6.36.0-codepush.v143",
          "production/v6.37.0-codepush.v144",
          "production/v6.38.0-codepush.v147",
          "production/v6.37.0-codepush.v145",
          "production/v6.38.0-codepush.v146",
          "v6.39.0",
          "v6.40.0",
          "v6.41.0",
          "v6.42.0",
          "v6.43.0",
          "v6.43.0-codepush.v148",
          "v6.44.0",
          "v6.45.0",
          "v6.46.0",
          "v6.44.0-codepush.v150",
          "v6.45.0-codepush.v149",
          "v6.47.0",
          "v6.47.0-codepush.v151"
         ],
         "legendgroup": "Files Added",
         "marker": {
          "color": "#636efa",
          "pattern": {
           "shape": ""
          }
         },
         "name": "Files Added",
         "offsetgroup": "Files Added",
         "orientation": "v",
         "showlegend": true,
         "textposition": "auto",
         "texttemplate": "%{y:.2s}",
         "x": [
          "production/6.38.0",
          "production/6.38.0",
          "production/v6.36.0-codepush.v143",
          "production/v6.37.0-codepush.v144",
          "production/v6.38.0-codepush.v147",
          "production/v6.37.0-codepush.v145",
          "production/v6.38.0-codepush.v146",
          "v6.39.0",
          "v6.40.0",
          "v6.41.0",
          "v6.42.0",
          "v6.43.0",
          "v6.43.0-codepush.v148",
          "v6.44.0",
          "v6.45.0",
          "v6.46.0",
          "v6.44.0-codepush.v150",
          "v6.45.0-codepush.v149",
          "v6.47.0",
          "v6.47.0-codepush.v151"
         ],
         "xaxis": "x",
         "y": [
          null,
          118.0,
          73.0,
          29.0,
          47.0,
          29.0,
          51.0,
          101.0,
          121.0,
          34.0,
          89.0,
          null,
          4.0,
          71.0,
          33.0,
          113.0,
          71.0,
          108.0,
          11.0,
          9.0
         ],
         "yaxis": "y",
         "type": "bar"
        },
        {
         "alignmentgroup": "True",
         "customdata": [
          [
           "2024-06-14"
          ],
          [
           "2024-06-14"
          ],
          [
           "2024-06-14"
          ],
          [
           "2024-06-14"
          ],
          [
           "2024-06-17"
          ],
          [
           "2024-06-17"
          ],
          [
           "2024-06-17"
          ],
          [
           "2024-06-21"
          ],
          [
           "2024-06-28"
          ],
          [
           "2024-07-04"
          ],
          [
           "2024-07-08"
          ],
          [
           "2024-07-12"
          ],
          [
           "2024-07-12"
          ],
          [
           "2024-07-12"
          ],
          [
           "2024-07-19"
          ],
          [
           "2024-07-26"
          ],
          [
           "2024-08-01"
          ],
          [
           "2024-07-31"
          ],
          [
           "2024-08-02"
          ],
          [
           "2024-08-02"
          ]
         ],
         "hovertemplate": "<b>%{hovertext}</b><br><br>variable=Files Deleted<br>Name=%{x}<br>value=%{y}<br>Date=%{customdata[0]}<extra></extra>",
         "hovertext": [
          "production/6.38.0",
          "production/6.38.0",
          "production/v6.36.0-codepush.v143",
          "production/v6.37.0-codepush.v144",
          "production/v6.38.0-codepush.v147",
          "production/v6.37.0-codepush.v145",
          "production/v6.38.0-codepush.v146",
          "v6.39.0",
          "v6.40.0",
          "v6.41.0",
          "v6.42.0",
          "v6.43.0",
          "v6.43.0-codepush.v148",
          "v6.44.0",
          "v6.45.0",
          "v6.46.0",
          "v6.44.0-codepush.v150",
          "v6.45.0-codepush.v149",
          "v6.47.0",
          "v6.47.0-codepush.v151"
         ],
         "legendgroup": "Files Deleted",
         "marker": {
          "color": "#EF553B",
          "pattern": {
           "shape": ""
          }
         },
         "name": "Files Deleted",
         "offsetgroup": "Files Deleted",
         "orientation": "v",
         "showlegend": true,
         "textposition": "auto",
         "texttemplate": "%{y:.2s}",
         "x": [
          "production/6.38.0",
          "production/6.38.0",
          "production/v6.36.0-codepush.v143",
          "production/v6.37.0-codepush.v144",
          "production/v6.38.0-codepush.v147",
          "production/v6.37.0-codepush.v145",
          "production/v6.38.0-codepush.v146",
          "v6.39.0",
          "v6.40.0",
          "v6.41.0",
          "v6.42.0",
          "v6.43.0",
          "v6.43.0-codepush.v148",
          "v6.44.0",
          "v6.45.0",
          "v6.46.0",
          "v6.44.0-codepush.v150",
          "v6.45.0-codepush.v149",
          "v6.47.0",
          "v6.47.0-codepush.v151"
         ],
         "xaxis": "x",
         "y": [
          null,
          103.0,
          69.0,
          47.0,
          29.0,
          48.0,
          29.0,
          39.0,
          72.0,
          14.0,
          198.0,
          null,
          3.0,
          49.0,
          51.0,
          117.0,
          49.0,
          90.0,
          4.0,
          31.0
         ],
         "yaxis": "y",
         "type": "bar"
        },
        {
         "alignmentgroup": "True",
         "customdata": [
          [
           "2024-06-14"
          ],
          [
           "2024-06-14"
          ],
          [
           "2024-06-14"
          ],
          [
           "2024-06-14"
          ],
          [
           "2024-06-17"
          ],
          [
           "2024-06-17"
          ],
          [
           "2024-06-17"
          ],
          [
           "2024-06-21"
          ],
          [
           "2024-06-28"
          ],
          [
           "2024-07-04"
          ],
          [
           "2024-07-08"
          ],
          [
           "2024-07-12"
          ],
          [
           "2024-07-12"
          ],
          [
           "2024-07-12"
          ],
          [
           "2024-07-19"
          ],
          [
           "2024-07-26"
          ],
          [
           "2024-08-01"
          ],
          [
           "2024-07-31"
          ],
          [
           "2024-08-02"
          ],
          [
           "2024-08-02"
          ]
         ],
         "hovertemplate": "<b>%{hovertext}</b><br><br>variable=Files Renamed<br>Name=%{x}<br>value=%{y}<br>Date=%{customdata[0]}<extra></extra>",
         "hovertext": [
          "production/6.38.0",
          "production/6.38.0",
          "production/v6.36.0-codepush.v143",
          "production/v6.37.0-codepush.v144",
          "production/v6.38.0-codepush.v147",
          "production/v6.37.0-codepush.v145",
          "production/v6.38.0-codepush.v146",
          "v6.39.0",
          "v6.40.0",
          "v6.41.0",
          "v6.42.0",
          "v6.43.0",
          "v6.43.0-codepush.v148",
          "v6.44.0",
          "v6.45.0",
          "v6.46.0",
          "v6.44.0-codepush.v150",
          "v6.45.0-codepush.v149",
          "v6.47.0",
          "v6.47.0-codepush.v151"
         ],
         "legendgroup": "Files Renamed",
         "marker": {
          "color": "#00cc96",
          "pattern": {
           "shape": ""
          }
         },
         "name": "Files Renamed",
         "offsetgroup": "Files Renamed",
         "orientation": "v",
         "showlegend": true,
         "textposition": "auto",
         "texttemplate": "%{y:.2s}",
         "x": [
          "production/6.38.0",
          "production/6.38.0",
          "production/v6.36.0-codepush.v143",
          "production/v6.37.0-codepush.v144",
          "production/v6.38.0-codepush.v147",
          "production/v6.37.0-codepush.v145",
          "production/v6.38.0-codepush.v146",
          "v6.39.0",
          "v6.40.0",
          "v6.41.0",
          "v6.42.0",
          "v6.43.0",
          "v6.43.0-codepush.v148",
          "v6.44.0",
          "v6.45.0",
          "v6.46.0",
          "v6.44.0-codepush.v150",
          "v6.45.0-codepush.v149",
          "v6.47.0",
          "v6.47.0-codepush.v151"
         ],
         "xaxis": "x",
         "y": [
          null,
          59.0,
          41.0,
          20.0,
          20.0,
          20.0,
          20.0,
          122.0,
          206.0,
          1.0,
          187.0,
          null,
          null,
          248.0,
          700.0,
          784.0,
          248.0,
          734.0,
          4.0,
          2.0
         ],
         "yaxis": "y",
         "type": "bar"
        },
        {
         "alignmentgroup": "True",
         "customdata": [
          [
           "2024-06-14"
          ],
          [
           "2024-06-14"
          ],
          [
           "2024-06-14"
          ],
          [
           "2024-06-14"
          ],
          [
           "2024-06-17"
          ],
          [
           "2024-06-17"
          ],
          [
           "2024-06-17"
          ],
          [
           "2024-06-21"
          ],
          [
           "2024-06-28"
          ],
          [
           "2024-07-04"
          ],
          [
           "2024-07-08"
          ],
          [
           "2024-07-12"
          ],
          [
           "2024-07-12"
          ],
          [
           "2024-07-12"
          ],
          [
           "2024-07-19"
          ],
          [
           "2024-07-26"
          ],
          [
           "2024-08-01"
          ],
          [
           "2024-07-31"
          ],
          [
           "2024-08-02"
          ],
          [
           "2024-08-02"
          ]
         ],
         "hovertemplate": "<b>%{hovertext}</b><br><br>variable=Files Modified<br>Name=%{x}<br>value=%{y}<br>Date=%{customdata[0]}<extra></extra>",
         "hovertext": [
          "production/6.38.0",
          "production/6.38.0",
          "production/v6.36.0-codepush.v143",
          "production/v6.37.0-codepush.v144",
          "production/v6.38.0-codepush.v147",
          "production/v6.37.0-codepush.v145",
          "production/v6.38.0-codepush.v146",
          "v6.39.0",
          "v6.40.0",
          "v6.41.0",
          "v6.42.0",
          "v6.43.0",
          "v6.43.0-codepush.v148",
          "v6.44.0",
          "v6.45.0",
          "v6.46.0",
          "v6.44.0-codepush.v150",
          "v6.45.0-codepush.v149",
          "v6.47.0",
          "v6.47.0-codepush.v151"
         ],
         "legendgroup": "Files Modified",
         "marker": {
          "color": "#ab63fa",
          "pattern": {
           "shape": ""
          }
         },
         "name": "Files Modified",
         "offsetgroup": "Files Modified",
         "orientation": "v",
         "showlegend": true,
         "textposition": "auto",
         "texttemplate": "%{y:.2s}",
         "x": [
          "production/6.38.0",
          "production/6.38.0",
          "production/v6.36.0-codepush.v143",
          "production/v6.37.0-codepush.v144",
          "production/v6.38.0-codepush.v147",
          "production/v6.37.0-codepush.v145",
          "production/v6.38.0-codepush.v146",
          "v6.39.0",
          "v6.40.0",
          "v6.41.0",
          "v6.42.0",
          "v6.43.0",
          "v6.43.0-codepush.v148",
          "v6.44.0",
          "v6.45.0",
          "v6.46.0",
          "v6.44.0-codepush.v150",
          "v6.45.0-codepush.v149",
          "v6.47.0",
          "v6.47.0-codepush.v151"
         ],
         "xaxis": "x",
         "y": [
          null,
          683.0,
          424.0,
          407.0,
          403.0,
          404.0,
          571.0,
          384.0,
          460.0,
          82.0,
          502.0,
          2.0,
          38.0,
          490.0,
          602.0,
          668.0,
          490.0,
          1071.0,
          11.0,
          114.0
         ],
         "yaxis": "y",
         "type": "bar"
        }
       ],
       "layout": {
        "template": {
         "data": {
          "histogram2dcontour": [
           {
            "type": "histogram2dcontour",
            "colorbar": {
             "outlinewidth": 0,
             "ticks": ""
            },
            "colorscale": [
             [
              0.0,
              "#0d0887"
             ],
             [
              0.1111111111111111,
              "#46039f"
             ],
             [
              0.2222222222222222,
              "#7201a8"
             ],
             [
              0.3333333333333333,
              "#9c179e"
             ],
             [
              0.4444444444444444,
              "#bd3786"
             ],
             [
              0.5555555555555556,
              "#d8576b"
             ],
             [
              0.6666666666666666,
              "#ed7953"
             ],
             [
              0.7777777777777778,
              "#fb9f3a"
             ],
             [
              0.8888888888888888,
              "#fdca26"
             ],
             [
              1.0,
              "#f0f921"
             ]
            ]
           }
          ],
          "choropleth": [
           {
            "type": "choropleth",
            "colorbar": {
             "outlinewidth": 0,
             "ticks": ""
            }
           }
          ],
          "histogram2d": [
           {
            "type": "histogram2d",
            "colorbar": {
             "outlinewidth": 0,
             "ticks": ""
            },
            "colorscale": [
             [
              0.0,
              "#0d0887"
             ],
             [
              0.1111111111111111,
              "#46039f"
             ],
             [
              0.2222222222222222,
              "#7201a8"
             ],
             [
              0.3333333333333333,
              "#9c179e"
             ],
             [
              0.4444444444444444,
              "#bd3786"
             ],
             [
              0.5555555555555556,
              "#d8576b"
             ],
             [
              0.6666666666666666,
              "#ed7953"
             ],
             [
              0.7777777777777778,
              "#fb9f3a"
             ],
             [
              0.8888888888888888,
              "#fdca26"
             ],
             [
              1.0,
              "#f0f921"
             ]
            ]
           }
          ],
          "heatmap": [
           {
            "type": "heatmap",
            "colorbar": {
             "outlinewidth": 0,
             "ticks": ""
            },
            "colorscale": [
             [
              0.0,
              "#0d0887"
             ],
             [
              0.1111111111111111,
              "#46039f"
             ],
             [
              0.2222222222222222,
              "#7201a8"
             ],
             [
              0.3333333333333333,
              "#9c179e"
             ],
             [
              0.4444444444444444,
              "#bd3786"
             ],
             [
              0.5555555555555556,
              "#d8576b"
             ],
             [
              0.6666666666666666,
              "#ed7953"
             ],
             [
              0.7777777777777778,
              "#fb9f3a"
             ],
             [
              0.8888888888888888,
              "#fdca26"
             ],
             [
              1.0,
              "#f0f921"
             ]
            ]
           }
          ],
          "heatmapgl": [
           {
            "type": "heatmapgl",
            "colorbar": {
             "outlinewidth": 0,
             "ticks": ""
            },
            "colorscale": [
             [
              0.0,
              "#0d0887"
             ],
             [
              0.1111111111111111,
              "#46039f"
             ],
             [
              0.2222222222222222,
              "#7201a8"
             ],
             [
              0.3333333333333333,
              "#9c179e"
             ],
             [
              0.4444444444444444,
              "#bd3786"
             ],
             [
              0.5555555555555556,
              "#d8576b"
             ],
             [
              0.6666666666666666,
              "#ed7953"
             ],
             [
              0.7777777777777778,
              "#fb9f3a"
             ],
             [
              0.8888888888888888,
              "#fdca26"
             ],
             [
              1.0,
              "#f0f921"
             ]
            ]
           }
          ],
          "contourcarpet": [
           {
            "type": "contourcarpet",
            "colorbar": {
             "outlinewidth": 0,
             "ticks": ""
            }
           }
          ],
          "contour": [
           {
            "type": "contour",
            "colorbar": {
             "outlinewidth": 0,
             "ticks": ""
            },
            "colorscale": [
             [
              0.0,
              "#0d0887"
             ],
             [
              0.1111111111111111,
              "#46039f"
             ],
             [
              0.2222222222222222,
              "#7201a8"
             ],
             [
              0.3333333333333333,
              "#9c179e"
             ],
             [
              0.4444444444444444,
              "#bd3786"
             ],
             [
              0.5555555555555556,
              "#d8576b"
             ],
             [
              0.6666666666666666,
              "#ed7953"
             ],
             [
              0.7777777777777778,
              "#fb9f3a"
             ],
             [
              0.8888888888888888,
              "#fdca26"
             ],
             [
              1.0,
              "#f0f921"
             ]
            ]
           }
          ],
          "surface": [
           {
            "type": "surface",
            "colorbar": {
             "outlinewidth": 0,
             "ticks": ""
            },
            "colorscale": [
             [
              0.0,
              "#0d0887"
             ],
             [
              0.1111111111111111,
              "#46039f"
             ],
             [
              0.2222222222222222,
              "#7201a8"
             ],
             [
              0.3333333333333333,
              "#9c179e"
             ],
             [
              0.4444444444444444,
              "#bd3786"
             ],
             [
              0.5555555555555556,
              "#d8576b"
             ],
             [
              0.6666666666666666,
              "#ed7953"
             ],
             [
              0.7777777777777778,
              "#fb9f3a"
             ],
             [
              0.8888888888888888,
              "#fdca26"
             ],
             [
              1.0,
              "#f0f921"
             ]
            ]
           }
          ],
          "mesh3d": [
           {
            "type": "mesh3d",
            "colorbar": {
             "outlinewidth": 0,
             "ticks": ""
            }
           }
          ],
          "scatter": [
           {
            "fillpattern": {
             "fillmode": "overlay",
             "size": 10,
             "solidity": 0.2
            },
            "type": "scatter"
           }
          ],
          "parcoords": [
           {
            "type": "parcoords",
            "line": {
             "colorbar": {
              "outlinewidth": 0,
              "ticks": ""
             }
            }
           }
          ],
          "scatterpolargl": [
           {
            "type": "scatterpolargl",
            "marker": {
             "colorbar": {
              "outlinewidth": 0,
              "ticks": ""
             }
            }
           }
          ],
          "bar": [
           {
            "error_x": {
             "color": "#2a3f5f"
            },
            "error_y": {
             "color": "#2a3f5f"
            },
            "marker": {
             "line": {
              "color": "#E5ECF6",
              "width": 0.5
             },
             "pattern": {
              "fillmode": "overlay",
              "size": 10,
              "solidity": 0.2
             }
            },
            "type": "bar"
           }
          ],
          "scattergeo": [
           {
            "type": "scattergeo",
            "marker": {
             "colorbar": {
              "outlinewidth": 0,
              "ticks": ""
             }
            }
           }
          ],
          "scatterpolar": [
           {
            "type": "scatterpolar",
            "marker": {
             "colorbar": {
              "outlinewidth": 0,
              "ticks": ""
             }
            }
           }
          ],
          "histogram": [
           {
            "marker": {
             "pattern": {
              "fillmode": "overlay",
              "size": 10,
              "solidity": 0.2
             }
            },
            "type": "histogram"
           }
          ],
          "scattergl": [
           {
            "type": "scattergl",
            "marker": {
             "colorbar": {
              "outlinewidth": 0,
              "ticks": ""
             }
            }
           }
          ],
          "scatter3d": [
           {
            "type": "scatter3d",
            "line": {
             "colorbar": {
              "outlinewidth": 0,
              "ticks": ""
             }
            },
            "marker": {
             "colorbar": {
              "outlinewidth": 0,
              "ticks": ""
             }
            }
           }
          ],
          "scattermapbox": [
           {
            "type": "scattermapbox",
            "marker": {
             "colorbar": {
              "outlinewidth": 0,
              "ticks": ""
             }
            }
           }
          ],
          "scatterternary": [
           {
            "type": "scatterternary",
            "marker": {
             "colorbar": {
              "outlinewidth": 0,
              "ticks": ""
             }
            }
           }
          ],
          "scattercarpet": [
           {
            "type": "scattercarpet",
            "marker": {
             "colorbar": {
              "outlinewidth": 0,
              "ticks": ""
             }
            }
           }
          ],
          "carpet": [
           {
            "aaxis": {
             "endlinecolor": "#2a3f5f",
             "gridcolor": "white",
             "linecolor": "white",
             "minorgridcolor": "white",
             "startlinecolor": "#2a3f5f"
            },
            "baxis": {
             "endlinecolor": "#2a3f5f",
             "gridcolor": "white",
             "linecolor": "white",
             "minorgridcolor": "white",
             "startlinecolor": "#2a3f5f"
            },
            "type": "carpet"
           }
          ],
          "table": [
           {
            "cells": {
             "fill": {
              "color": "#EBF0F8"
             },
             "line": {
              "color": "white"
             }
            },
            "header": {
             "fill": {
              "color": "#C8D4E3"
             },
             "line": {
              "color": "white"
             }
            },
            "type": "table"
           }
          ],
          "barpolar": [
           {
            "marker": {
             "line": {
              "color": "#E5ECF6",
              "width": 0.5
             },
             "pattern": {
              "fillmode": "overlay",
              "size": 10,
              "solidity": 0.2
             }
            },
            "type": "barpolar"
           }
          ],
          "pie": [
           {
            "automargin": true,
            "type": "pie"
           }
          ]
         },
         "layout": {
          "autotypenumbers": "strict",
          "colorway": [
           "#636efa",
           "#EF553B",
           "#00cc96",
           "#ab63fa",
           "#FFA15A",
           "#19d3f3",
           "#FF6692",
           "#B6E880",
           "#FF97FF",
           "#FECB52"
          ],
          "font": {
           "color": "#2a3f5f"
          },
          "hovermode": "closest",
          "hoverlabel": {
           "align": "left"
          },
          "paper_bgcolor": "white",
          "plot_bgcolor": "#E5ECF6",
          "polar": {
           "bgcolor": "#E5ECF6",
           "angularaxis": {
            "gridcolor": "white",
            "linecolor": "white",
            "ticks": ""
           },
           "radialaxis": {
            "gridcolor": "white",
            "linecolor": "white",
            "ticks": ""
           }
          },
          "ternary": {
           "bgcolor": "#E5ECF6",
           "aaxis": {
            "gridcolor": "white",
            "linecolor": "white",
            "ticks": ""
           },
           "baxis": {
            "gridcolor": "white",
            "linecolor": "white",
            "ticks": ""
           },
           "caxis": {
            "gridcolor": "white",
            "linecolor": "white",
            "ticks": ""
           }
          },
          "coloraxis": {
           "colorbar": {
            "outlinewidth": 0,
            "ticks": ""
           }
          },
          "colorscale": {
           "sequential": [
            [
             0.0,
             "#0d0887"
            ],
            [
             0.1111111111111111,
             "#46039f"
            ],
            [
             0.2222222222222222,
             "#7201a8"
            ],
            [
             0.3333333333333333,
             "#9c179e"
            ],
            [
             0.4444444444444444,
             "#bd3786"
            ],
            [
             0.5555555555555556,
             "#d8576b"
            ],
            [
             0.6666666666666666,
             "#ed7953"
            ],
            [
             0.7777777777777778,
             "#fb9f3a"
            ],
            [
             0.8888888888888888,
             "#fdca26"
            ],
            [
             1.0,
             "#f0f921"
            ]
           ],
           "sequentialminus": [
            [
             0.0,
             "#0d0887"
            ],
            [
             0.1111111111111111,
             "#46039f"
            ],
            [
             0.2222222222222222,
             "#7201a8"
            ],
            [
             0.3333333333333333,
             "#9c179e"
            ],
            [
             0.4444444444444444,
             "#bd3786"
            ],
            [
             0.5555555555555556,
             "#d8576b"
            ],
            [
             0.6666666666666666,
             "#ed7953"
            ],
            [
             0.7777777777777778,
             "#fb9f3a"
            ],
            [
             0.8888888888888888,
             "#fdca26"
            ],
            [
             1.0,
             "#f0f921"
            ]
           ],
           "diverging": [
            [
             0,
             "#8e0152"
            ],
            [
             0.1,
             "#c51b7d"
            ],
            [
             0.2,
             "#de77ae"
            ],
            [
             0.3,
             "#f1b6da"
            ],
            [
             0.4,
             "#fde0ef"
            ],
            [
             0.5,
             "#f7f7f7"
            ],
            [
             0.6,
             "#e6f5d0"
            ],
            [
             0.7,
             "#b8e186"
            ],
            [
             0.8,
             "#7fbc41"
            ],
            [
             0.9,
             "#4d9221"
            ],
            [
             1,
             "#276419"
            ]
           ]
          },
          "xaxis": {
           "gridcolor": "white",
           "linecolor": "white",
           "ticks": "",
           "title": {
            "standoff": 15
           },
           "zerolinecolor": "white",
           "automargin": true,
           "zerolinewidth": 2
          },
          "yaxis": {
           "gridcolor": "white",
           "linecolor": "white",
           "ticks": "",
           "title": {
            "standoff": 15
           },
           "zerolinecolor": "white",
           "automargin": true,
           "zerolinewidth": 2
          },
          "scene": {
           "xaxis": {
            "backgroundcolor": "#E5ECF6",
            "gridcolor": "white",
            "linecolor": "white",
            "showbackground": true,
            "ticks": "",
            "zerolinecolor": "white",
            "gridwidth": 2
           },
           "yaxis": {
            "backgroundcolor": "#E5ECF6",
            "gridcolor": "white",
            "linecolor": "white",
            "showbackground": true,
            "ticks": "",
            "zerolinecolor": "white",
            "gridwidth": 2
           },
           "zaxis": {
            "backgroundcolor": "#E5ECF6",
            "gridcolor": "white",
            "linecolor": "white",
            "showbackground": true,
            "ticks": "",
            "zerolinecolor": "white",
            "gridwidth": 2
           }
          },
          "shapedefaults": {
           "line": {
            "color": "#2a3f5f"
           }
          },
          "annotationdefaults": {
           "arrowcolor": "#2a3f5f",
           "arrowhead": 0,
           "arrowwidth": 1
          },
          "geo": {
           "bgcolor": "white",
           "landcolor": "#E5ECF6",
           "subunitcolor": "white",
           "showland": true,
           "showlakes": true,
           "lakecolor": "white"
          },
          "title": {
           "x": 0.05
          },
          "mapbox": {
           "style": "light"
          }
         }
        },
        "xaxis": {
         "anchor": "y",
         "domain": [
          0.0,
          1.0
         ],
         "title": {
          "text": "Name"
         }
        },
        "yaxis": {
         "anchor": "x",
         "domain": [
          0.0,
          1.0
         ],
         "title": {
          "text": "value"
         }
        },
        "legend": {
         "title": {
          "text": "variable"
         },
         "tracegroupgap": 0
        },
        "title": {
         "text": "Changes Across Tags for dojo-android"
        },
        "barmode": "relative"
       },
       "config": {
        "plotlyServerURL": "https://plot.ly"
       }
      },
      "text/html": "<div>                            <div id=\"bf7b16df-8836-4405-bbfd-ca6486b7c6d7\" class=\"plotly-graph-div\" style=\"height:525px; width:100%;\"></div>            <script type=\"text/javascript\">                require([\"plotly\"], function(Plotly) {                    window.PLOTLYENV=window.PLOTLYENV || {};                                    if (document.getElementById(\"bf7b16df-8836-4405-bbfd-ca6486b7c6d7\")) {                    Plotly.newPlot(                        \"bf7b16df-8836-4405-bbfd-ca6486b7c6d7\",                        [{\"alignmentgroup\":\"True\",\"customdata\":[[\"2024-06-14\"],[\"2024-06-14\"],[\"2024-06-14\"],[\"2024-06-14\"],[\"2024-06-17\"],[\"2024-06-17\"],[\"2024-06-17\"],[\"2024-06-21\"],[\"2024-06-28\"],[\"2024-07-04\"],[\"2024-07-08\"],[\"2024-07-12\"],[\"2024-07-12\"],[\"2024-07-12\"],[\"2024-07-19\"],[\"2024-07-26\"],[\"2024-08-01\"],[\"2024-07-31\"],[\"2024-08-02\"],[\"2024-08-02\"]],\"hovertemplate\":\"\\u003cb\\u003e%{hovertext}\\u003c\\u002fb\\u003e\\u003cbr\\u003e\\u003cbr\\u003evariable=Files Added\\u003cbr\\u003eName=%{x}\\u003cbr\\u003evalue=%{y}\\u003cbr\\u003eDate=%{customdata[0]}\\u003cextra\\u003e\\u003c\\u002fextra\\u003e\",\"hovertext\":[\"production\\u002f6.38.0\",\"production\\u002f6.38.0\",\"production\\u002fv6.36.0-codepush.v143\",\"production\\u002fv6.37.0-codepush.v144\",\"production\\u002fv6.38.0-codepush.v147\",\"production\\u002fv6.37.0-codepush.v145\",\"production\\u002fv6.38.0-codepush.v146\",\"v6.39.0\",\"v6.40.0\",\"v6.41.0\",\"v6.42.0\",\"v6.43.0\",\"v6.43.0-codepush.v148\",\"v6.44.0\",\"v6.45.0\",\"v6.46.0\",\"v6.44.0-codepush.v150\",\"v6.45.0-codepush.v149\",\"v6.47.0\",\"v6.47.0-codepush.v151\"],\"legendgroup\":\"Files Added\",\"marker\":{\"color\":\"#636efa\",\"pattern\":{\"shape\":\"\"}},\"name\":\"Files Added\",\"offsetgroup\":\"Files Added\",\"orientation\":\"v\",\"showlegend\":true,\"textposition\":\"auto\",\"texttemplate\":\"%{y:.2s}\",\"x\":[\"production\\u002f6.38.0\",\"production\\u002f6.38.0\",\"production\\u002fv6.36.0-codepush.v143\",\"production\\u002fv6.37.0-codepush.v144\",\"production\\u002fv6.38.0-codepush.v147\",\"production\\u002fv6.37.0-codepush.v145\",\"production\\u002fv6.38.0-codepush.v146\",\"v6.39.0\",\"v6.40.0\",\"v6.41.0\",\"v6.42.0\",\"v6.43.0\",\"v6.43.0-codepush.v148\",\"v6.44.0\",\"v6.45.0\",\"v6.46.0\",\"v6.44.0-codepush.v150\",\"v6.45.0-codepush.v149\",\"v6.47.0\",\"v6.47.0-codepush.v151\"],\"xaxis\":\"x\",\"y\":[null,118.0,73.0,29.0,47.0,29.0,51.0,101.0,121.0,34.0,89.0,null,4.0,71.0,33.0,113.0,71.0,108.0,11.0,9.0],\"yaxis\":\"y\",\"type\":\"bar\"},{\"alignmentgroup\":\"True\",\"customdata\":[[\"2024-06-14\"],[\"2024-06-14\"],[\"2024-06-14\"],[\"2024-06-14\"],[\"2024-06-17\"],[\"2024-06-17\"],[\"2024-06-17\"],[\"2024-06-21\"],[\"2024-06-28\"],[\"2024-07-04\"],[\"2024-07-08\"],[\"2024-07-12\"],[\"2024-07-12\"],[\"2024-07-12\"],[\"2024-07-19\"],[\"2024-07-26\"],[\"2024-08-01\"],[\"2024-07-31\"],[\"2024-08-02\"],[\"2024-08-02\"]],\"hovertemplate\":\"\\u003cb\\u003e%{hovertext}\\u003c\\u002fb\\u003e\\u003cbr\\u003e\\u003cbr\\u003evariable=Files Deleted\\u003cbr\\u003eName=%{x}\\u003cbr\\u003evalue=%{y}\\u003cbr\\u003eDate=%{customdata[0]}\\u003cextra\\u003e\\u003c\\u002fextra\\u003e\",\"hovertext\":[\"production\\u002f6.38.0\",\"production\\u002f6.38.0\",\"production\\u002fv6.36.0-codepush.v143\",\"production\\u002fv6.37.0-codepush.v144\",\"production\\u002fv6.38.0-codepush.v147\",\"production\\u002fv6.37.0-codepush.v145\",\"production\\u002fv6.38.0-codepush.v146\",\"v6.39.0\",\"v6.40.0\",\"v6.41.0\",\"v6.42.0\",\"v6.43.0\",\"v6.43.0-codepush.v148\",\"v6.44.0\",\"v6.45.0\",\"v6.46.0\",\"v6.44.0-codepush.v150\",\"v6.45.0-codepush.v149\",\"v6.47.0\",\"v6.47.0-codepush.v151\"],\"legendgroup\":\"Files Deleted\",\"marker\":{\"color\":\"#EF553B\",\"pattern\":{\"shape\":\"\"}},\"name\":\"Files Deleted\",\"offsetgroup\":\"Files Deleted\",\"orientation\":\"v\",\"showlegend\":true,\"textposition\":\"auto\",\"texttemplate\":\"%{y:.2s}\",\"x\":[\"production\\u002f6.38.0\",\"production\\u002f6.38.0\",\"production\\u002fv6.36.0-codepush.v143\",\"production\\u002fv6.37.0-codepush.v144\",\"production\\u002fv6.38.0-codepush.v147\",\"production\\u002fv6.37.0-codepush.v145\",\"production\\u002fv6.38.0-codepush.v146\",\"v6.39.0\",\"v6.40.0\",\"v6.41.0\",\"v6.42.0\",\"v6.43.0\",\"v6.43.0-codepush.v148\",\"v6.44.0\",\"v6.45.0\",\"v6.46.0\",\"v6.44.0-codepush.v150\",\"v6.45.0-codepush.v149\",\"v6.47.0\",\"v6.47.0-codepush.v151\"],\"xaxis\":\"x\",\"y\":[null,103.0,69.0,47.0,29.0,48.0,29.0,39.0,72.0,14.0,198.0,null,3.0,49.0,51.0,117.0,49.0,90.0,4.0,31.0],\"yaxis\":\"y\",\"type\":\"bar\"},{\"alignmentgroup\":\"True\",\"customdata\":[[\"2024-06-14\"],[\"2024-06-14\"],[\"2024-06-14\"],[\"2024-06-14\"],[\"2024-06-17\"],[\"2024-06-17\"],[\"2024-06-17\"],[\"2024-06-21\"],[\"2024-06-28\"],[\"2024-07-04\"],[\"2024-07-08\"],[\"2024-07-12\"],[\"2024-07-12\"],[\"2024-07-12\"],[\"2024-07-19\"],[\"2024-07-26\"],[\"2024-08-01\"],[\"2024-07-31\"],[\"2024-08-02\"],[\"2024-08-02\"]],\"hovertemplate\":\"\\u003cb\\u003e%{hovertext}\\u003c\\u002fb\\u003e\\u003cbr\\u003e\\u003cbr\\u003evariable=Files Renamed\\u003cbr\\u003eName=%{x}\\u003cbr\\u003evalue=%{y}\\u003cbr\\u003eDate=%{customdata[0]}\\u003cextra\\u003e\\u003c\\u002fextra\\u003e\",\"hovertext\":[\"production\\u002f6.38.0\",\"production\\u002f6.38.0\",\"production\\u002fv6.36.0-codepush.v143\",\"production\\u002fv6.37.0-codepush.v144\",\"production\\u002fv6.38.0-codepush.v147\",\"production\\u002fv6.37.0-codepush.v145\",\"production\\u002fv6.38.0-codepush.v146\",\"v6.39.0\",\"v6.40.0\",\"v6.41.0\",\"v6.42.0\",\"v6.43.0\",\"v6.43.0-codepush.v148\",\"v6.44.0\",\"v6.45.0\",\"v6.46.0\",\"v6.44.0-codepush.v150\",\"v6.45.0-codepush.v149\",\"v6.47.0\",\"v6.47.0-codepush.v151\"],\"legendgroup\":\"Files Renamed\",\"marker\":{\"color\":\"#00cc96\",\"pattern\":{\"shape\":\"\"}},\"name\":\"Files Renamed\",\"offsetgroup\":\"Files Renamed\",\"orientation\":\"v\",\"showlegend\":true,\"textposition\":\"auto\",\"texttemplate\":\"%{y:.2s}\",\"x\":[\"production\\u002f6.38.0\",\"production\\u002f6.38.0\",\"production\\u002fv6.36.0-codepush.v143\",\"production\\u002fv6.37.0-codepush.v144\",\"production\\u002fv6.38.0-codepush.v147\",\"production\\u002fv6.37.0-codepush.v145\",\"production\\u002fv6.38.0-codepush.v146\",\"v6.39.0\",\"v6.40.0\",\"v6.41.0\",\"v6.42.0\",\"v6.43.0\",\"v6.43.0-codepush.v148\",\"v6.44.0\",\"v6.45.0\",\"v6.46.0\",\"v6.44.0-codepush.v150\",\"v6.45.0-codepush.v149\",\"v6.47.0\",\"v6.47.0-codepush.v151\"],\"xaxis\":\"x\",\"y\":[null,59.0,41.0,20.0,20.0,20.0,20.0,122.0,206.0,1.0,187.0,null,null,248.0,700.0,784.0,248.0,734.0,4.0,2.0],\"yaxis\":\"y\",\"type\":\"bar\"},{\"alignmentgroup\":\"True\",\"customdata\":[[\"2024-06-14\"],[\"2024-06-14\"],[\"2024-06-14\"],[\"2024-06-14\"],[\"2024-06-17\"],[\"2024-06-17\"],[\"2024-06-17\"],[\"2024-06-21\"],[\"2024-06-28\"],[\"2024-07-04\"],[\"2024-07-08\"],[\"2024-07-12\"],[\"2024-07-12\"],[\"2024-07-12\"],[\"2024-07-19\"],[\"2024-07-26\"],[\"2024-08-01\"],[\"2024-07-31\"],[\"2024-08-02\"],[\"2024-08-02\"]],\"hovertemplate\":\"\\u003cb\\u003e%{hovertext}\\u003c\\u002fb\\u003e\\u003cbr\\u003e\\u003cbr\\u003evariable=Files Modified\\u003cbr\\u003eName=%{x}\\u003cbr\\u003evalue=%{y}\\u003cbr\\u003eDate=%{customdata[0]}\\u003cextra\\u003e\\u003c\\u002fextra\\u003e\",\"hovertext\":[\"production\\u002f6.38.0\",\"production\\u002f6.38.0\",\"production\\u002fv6.36.0-codepush.v143\",\"production\\u002fv6.37.0-codepush.v144\",\"production\\u002fv6.38.0-codepush.v147\",\"production\\u002fv6.37.0-codepush.v145\",\"production\\u002fv6.38.0-codepush.v146\",\"v6.39.0\",\"v6.40.0\",\"v6.41.0\",\"v6.42.0\",\"v6.43.0\",\"v6.43.0-codepush.v148\",\"v6.44.0\",\"v6.45.0\",\"v6.46.0\",\"v6.44.0-codepush.v150\",\"v6.45.0-codepush.v149\",\"v6.47.0\",\"v6.47.0-codepush.v151\"],\"legendgroup\":\"Files Modified\",\"marker\":{\"color\":\"#ab63fa\",\"pattern\":{\"shape\":\"\"}},\"name\":\"Files Modified\",\"offsetgroup\":\"Files Modified\",\"orientation\":\"v\",\"showlegend\":true,\"textposition\":\"auto\",\"texttemplate\":\"%{y:.2s}\",\"x\":[\"production\\u002f6.38.0\",\"production\\u002f6.38.0\",\"production\\u002fv6.36.0-codepush.v143\",\"production\\u002fv6.37.0-codepush.v144\",\"production\\u002fv6.38.0-codepush.v147\",\"production\\u002fv6.37.0-codepush.v145\",\"production\\u002fv6.38.0-codepush.v146\",\"v6.39.0\",\"v6.40.0\",\"v6.41.0\",\"v6.42.0\",\"v6.43.0\",\"v6.43.0-codepush.v148\",\"v6.44.0\",\"v6.45.0\",\"v6.46.0\",\"v6.44.0-codepush.v150\",\"v6.45.0-codepush.v149\",\"v6.47.0\",\"v6.47.0-codepush.v151\"],\"xaxis\":\"x\",\"y\":[null,683.0,424.0,407.0,403.0,404.0,571.0,384.0,460.0,82.0,502.0,2.0,38.0,490.0,602.0,668.0,490.0,1071.0,11.0,114.0],\"yaxis\":\"y\",\"type\":\"bar\"}],                        {\"template\":{\"data\":{\"histogram2dcontour\":[{\"type\":\"histogram2dcontour\",\"colorbar\":{\"outlinewidth\":0,\"ticks\":\"\"},\"colorscale\":[[0.0,\"#0d0887\"],[0.1111111111111111,\"#46039f\"],[0.2222222222222222,\"#7201a8\"],[0.3333333333333333,\"#9c179e\"],[0.4444444444444444,\"#bd3786\"],[0.5555555555555556,\"#d8576b\"],[0.6666666666666666,\"#ed7953\"],[0.7777777777777778,\"#fb9f3a\"],[0.8888888888888888,\"#fdca26\"],[1.0,\"#f0f921\"]]}],\"choropleth\":[{\"type\":\"choropleth\",\"colorbar\":{\"outlinewidth\":0,\"ticks\":\"\"}}],\"histogram2d\":[{\"type\":\"histogram2d\",\"colorbar\":{\"outlinewidth\":0,\"ticks\":\"\"},\"colorscale\":[[0.0,\"#0d0887\"],[0.1111111111111111,\"#46039f\"],[0.2222222222222222,\"#7201a8\"],[0.3333333333333333,\"#9c179e\"],[0.4444444444444444,\"#bd3786\"],[0.5555555555555556,\"#d8576b\"],[0.6666666666666666,\"#ed7953\"],[0.7777777777777778,\"#fb9f3a\"],[0.8888888888888888,\"#fdca26\"],[1.0,\"#f0f921\"]]}],\"heatmap\":[{\"type\":\"heatmap\",\"colorbar\":{\"outlinewidth\":0,\"ticks\":\"\"},\"colorscale\":[[0.0,\"#0d0887\"],[0.1111111111111111,\"#46039f\"],[0.2222222222222222,\"#7201a8\"],[0.3333333333333333,\"#9c179e\"],[0.4444444444444444,\"#bd3786\"],[0.5555555555555556,\"#d8576b\"],[0.6666666666666666,\"#ed7953\"],[0.7777777777777778,\"#fb9f3a\"],[0.8888888888888888,\"#fdca26\"],[1.0,\"#f0f921\"]]}],\"heatmapgl\":[{\"type\":\"heatmapgl\",\"colorbar\":{\"outlinewidth\":0,\"ticks\":\"\"},\"colorscale\":[[0.0,\"#0d0887\"],[0.1111111111111111,\"#46039f\"],[0.2222222222222222,\"#7201a8\"],[0.3333333333333333,\"#9c179e\"],[0.4444444444444444,\"#bd3786\"],[0.5555555555555556,\"#d8576b\"],[0.6666666666666666,\"#ed7953\"],[0.7777777777777778,\"#fb9f3a\"],[0.8888888888888888,\"#fdca26\"],[1.0,\"#f0f921\"]]}],\"contourcarpet\":[{\"type\":\"contourcarpet\",\"colorbar\":{\"outlinewidth\":0,\"ticks\":\"\"}}],\"contour\":[{\"type\":\"contour\",\"colorbar\":{\"outlinewidth\":0,\"ticks\":\"\"},\"colorscale\":[[0.0,\"#0d0887\"],[0.1111111111111111,\"#46039f\"],[0.2222222222222222,\"#7201a8\"],[0.3333333333333333,\"#9c179e\"],[0.4444444444444444,\"#bd3786\"],[0.5555555555555556,\"#d8576b\"],[0.6666666666666666,\"#ed7953\"],[0.7777777777777778,\"#fb9f3a\"],[0.8888888888888888,\"#fdca26\"],[1.0,\"#f0f921\"]]}],\"surface\":[{\"type\":\"surface\",\"colorbar\":{\"outlinewidth\":0,\"ticks\":\"\"},\"colorscale\":[[0.0,\"#0d0887\"],[0.1111111111111111,\"#46039f\"],[0.2222222222222222,\"#7201a8\"],[0.3333333333333333,\"#9c179e\"],[0.4444444444444444,\"#bd3786\"],[0.5555555555555556,\"#d8576b\"],[0.6666666666666666,\"#ed7953\"],[0.7777777777777778,\"#fb9f3a\"],[0.8888888888888888,\"#fdca26\"],[1.0,\"#f0f921\"]]}],\"mesh3d\":[{\"type\":\"mesh3d\",\"colorbar\":{\"outlinewidth\":0,\"ticks\":\"\"}}],\"scatter\":[{\"fillpattern\":{\"fillmode\":\"overlay\",\"size\":10,\"solidity\":0.2},\"type\":\"scatter\"}],\"parcoords\":[{\"type\":\"parcoords\",\"line\":{\"colorbar\":{\"outlinewidth\":0,\"ticks\":\"\"}}}],\"scatterpolargl\":[{\"type\":\"scatterpolargl\",\"marker\":{\"colorbar\":{\"outlinewidth\":0,\"ticks\":\"\"}}}],\"bar\":[{\"error_x\":{\"color\":\"#2a3f5f\"},\"error_y\":{\"color\":\"#2a3f5f\"},\"marker\":{\"line\":{\"color\":\"#E5ECF6\",\"width\":0.5},\"pattern\":{\"fillmode\":\"overlay\",\"size\":10,\"solidity\":0.2}},\"type\":\"bar\"}],\"scattergeo\":[{\"type\":\"scattergeo\",\"marker\":{\"colorbar\":{\"outlinewidth\":0,\"ticks\":\"\"}}}],\"scatterpolar\":[{\"type\":\"scatterpolar\",\"marker\":{\"colorbar\":{\"outlinewidth\":0,\"ticks\":\"\"}}}],\"histogram\":[{\"marker\":{\"pattern\":{\"fillmode\":\"overlay\",\"size\":10,\"solidity\":0.2}},\"type\":\"histogram\"}],\"scattergl\":[{\"type\":\"scattergl\",\"marker\":{\"colorbar\":{\"outlinewidth\":0,\"ticks\":\"\"}}}],\"scatter3d\":[{\"type\":\"scatter3d\",\"line\":{\"colorbar\":{\"outlinewidth\":0,\"ticks\":\"\"}},\"marker\":{\"colorbar\":{\"outlinewidth\":0,\"ticks\":\"\"}}}],\"scattermapbox\":[{\"type\":\"scattermapbox\",\"marker\":{\"colorbar\":{\"outlinewidth\":0,\"ticks\":\"\"}}}],\"scatterternary\":[{\"type\":\"scatterternary\",\"marker\":{\"colorbar\":{\"outlinewidth\":0,\"ticks\":\"\"}}}],\"scattercarpet\":[{\"type\":\"scattercarpet\",\"marker\":{\"colorbar\":{\"outlinewidth\":0,\"ticks\":\"\"}}}],\"carpet\":[{\"aaxis\":{\"endlinecolor\":\"#2a3f5f\",\"gridcolor\":\"white\",\"linecolor\":\"white\",\"minorgridcolor\":\"white\",\"startlinecolor\":\"#2a3f5f\"},\"baxis\":{\"endlinecolor\":\"#2a3f5f\",\"gridcolor\":\"white\",\"linecolor\":\"white\",\"minorgridcolor\":\"white\",\"startlinecolor\":\"#2a3f5f\"},\"type\":\"carpet\"}],\"table\":[{\"cells\":{\"fill\":{\"color\":\"#EBF0F8\"},\"line\":{\"color\":\"white\"}},\"header\":{\"fill\":{\"color\":\"#C8D4E3\"},\"line\":{\"color\":\"white\"}},\"type\":\"table\"}],\"barpolar\":[{\"marker\":{\"line\":{\"color\":\"#E5ECF6\",\"width\":0.5},\"pattern\":{\"fillmode\":\"overlay\",\"size\":10,\"solidity\":0.2}},\"type\":\"barpolar\"}],\"pie\":[{\"automargin\":true,\"type\":\"pie\"}]},\"layout\":{\"autotypenumbers\":\"strict\",\"colorway\":[\"#636efa\",\"#EF553B\",\"#00cc96\",\"#ab63fa\",\"#FFA15A\",\"#19d3f3\",\"#FF6692\",\"#B6E880\",\"#FF97FF\",\"#FECB52\"],\"font\":{\"color\":\"#2a3f5f\"},\"hovermode\":\"closest\",\"hoverlabel\":{\"align\":\"left\"},\"paper_bgcolor\":\"white\",\"plot_bgcolor\":\"#E5ECF6\",\"polar\":{\"bgcolor\":\"#E5ECF6\",\"angularaxis\":{\"gridcolor\":\"white\",\"linecolor\":\"white\",\"ticks\":\"\"},\"radialaxis\":{\"gridcolor\":\"white\",\"linecolor\":\"white\",\"ticks\":\"\"}},\"ternary\":{\"bgcolor\":\"#E5ECF6\",\"aaxis\":{\"gridcolor\":\"white\",\"linecolor\":\"white\",\"ticks\":\"\"},\"baxis\":{\"gridcolor\":\"white\",\"linecolor\":\"white\",\"ticks\":\"\"},\"caxis\":{\"gridcolor\":\"white\",\"linecolor\":\"white\",\"ticks\":\"\"}},\"coloraxis\":{\"colorbar\":{\"outlinewidth\":0,\"ticks\":\"\"}},\"colorscale\":{\"sequential\":[[0.0,\"#0d0887\"],[0.1111111111111111,\"#46039f\"],[0.2222222222222222,\"#7201a8\"],[0.3333333333333333,\"#9c179e\"],[0.4444444444444444,\"#bd3786\"],[0.5555555555555556,\"#d8576b\"],[0.6666666666666666,\"#ed7953\"],[0.7777777777777778,\"#fb9f3a\"],[0.8888888888888888,\"#fdca26\"],[1.0,\"#f0f921\"]],\"sequentialminus\":[[0.0,\"#0d0887\"],[0.1111111111111111,\"#46039f\"],[0.2222222222222222,\"#7201a8\"],[0.3333333333333333,\"#9c179e\"],[0.4444444444444444,\"#bd3786\"],[0.5555555555555556,\"#d8576b\"],[0.6666666666666666,\"#ed7953\"],[0.7777777777777778,\"#fb9f3a\"],[0.8888888888888888,\"#fdca26\"],[1.0,\"#f0f921\"]],\"diverging\":[[0,\"#8e0152\"],[0.1,\"#c51b7d\"],[0.2,\"#de77ae\"],[0.3,\"#f1b6da\"],[0.4,\"#fde0ef\"],[0.5,\"#f7f7f7\"],[0.6,\"#e6f5d0\"],[0.7,\"#b8e186\"],[0.8,\"#7fbc41\"],[0.9,\"#4d9221\"],[1,\"#276419\"]]},\"xaxis\":{\"gridcolor\":\"white\",\"linecolor\":\"white\",\"ticks\":\"\",\"title\":{\"standoff\":15},\"zerolinecolor\":\"white\",\"automargin\":true,\"zerolinewidth\":2},\"yaxis\":{\"gridcolor\":\"white\",\"linecolor\":\"white\",\"ticks\":\"\",\"title\":{\"standoff\":15},\"zerolinecolor\":\"white\",\"automargin\":true,\"zerolinewidth\":2},\"scene\":{\"xaxis\":{\"backgroundcolor\":\"#E5ECF6\",\"gridcolor\":\"white\",\"linecolor\":\"white\",\"showbackground\":true,\"ticks\":\"\",\"zerolinecolor\":\"white\",\"gridwidth\":2},\"yaxis\":{\"backgroundcolor\":\"#E5ECF6\",\"gridcolor\":\"white\",\"linecolor\":\"white\",\"showbackground\":true,\"ticks\":\"\",\"zerolinecolor\":\"white\",\"gridwidth\":2},\"zaxis\":{\"backgroundcolor\":\"#E5ECF6\",\"gridcolor\":\"white\",\"linecolor\":\"white\",\"showbackground\":true,\"ticks\":\"\",\"zerolinecolor\":\"white\",\"gridwidth\":2}},\"shapedefaults\":{\"line\":{\"color\":\"#2a3f5f\"}},\"annotationdefaults\":{\"arrowcolor\":\"#2a3f5f\",\"arrowhead\":0,\"arrowwidth\":1},\"geo\":{\"bgcolor\":\"white\",\"landcolor\":\"#E5ECF6\",\"subunitcolor\":\"white\",\"showland\":true,\"showlakes\":true,\"lakecolor\":\"white\"},\"title\":{\"x\":0.05},\"mapbox\":{\"style\":\"light\"}}},\"xaxis\":{\"anchor\":\"y\",\"domain\":[0.0,1.0],\"title\":{\"text\":\"Name\"}},\"yaxis\":{\"anchor\":\"x\",\"domain\":[0.0,1.0],\"title\":{\"text\":\"value\"}},\"legend\":{\"title\":{\"text\":\"variable\"},\"tracegroupgap\":0},\"title\":{\"text\":\"Changes Across Tags for dojo-android\"},\"barmode\":\"relative\"},                        {\"responsive\": true}                    ).then(function(){\n                            \nvar gd = document.getElementById('bf7b16df-8836-4405-bbfd-ca6486b7c6d7');\nvar x = new MutationObserver(function (mutations, observer) {{\n        var display = window.getComputedStyle(gd).display;\n        if (!display || display === 'none') {{\n            console.log([gd, 'removed!']);\n            Plotly.purge(gd);\n            observer.disconnect();\n        }}\n}});\n\n// Listen for the removal of the full notebook cells\nvar notebookContainer = gd.closest('#notebook-container');\nif (notebookContainer) {{\n    x.observe(notebookContainer, {childList: true});\n}}\n\n// Listen for the clearing of the current output cell\nvar outputEl = gd.closest('.output');\nif (outputEl) {{\n    x.observe(outputEl, {childList: true});\n}}\n\n                        })                };                });            </script>        </div>"
     },
     "metadata": {},
     "output_type": "display_data"
    }
   ],
   "source": [
    "figure = px.bar(\n",
    "    change_df,\n",
    "    title=f\"Changes Across Tags for {os.path.basename(os.path.dirname(repo.common_dir))}\",\n",
    "    x=\"Name\",\n",
    "    y=list(change_name.values()),\n",
    "    labels=[\"Added\", \"Deleted\", \"Modified\", \"Removed\"],\n",
    "    hover_name=\"Name\",\n",
    "    hover_data=[\"Date\"],\n",
    "    text_auto='.2s'\n",
    ")\n",
    "figure.show()"
   ],
   "metadata": {
    "collapsed": false,
    "ExecuteTime": {
     "end_time": "2024-08-08T18:02:29.940898Z",
     "start_time": "2024-08-08T18:02:29.917509Z"
    }
   },
   "id": "5da5655644ad0118",
   "execution_count": 128
  },
  {
   "cell_type": "code",
   "outputs": [
    {
     "data": {
      "application/vnd.plotly.v1+json": {
       "data": [
        {
         "customdata": [
          [
           "2024-06-14"
          ],
          [
           "2024-06-14"
          ],
          [
           "2024-06-14"
          ],
          [
           "2024-06-14"
          ],
          [
           "2024-06-17"
          ],
          [
           "2024-06-17"
          ],
          [
           "2024-06-17"
          ],
          [
           "2024-06-21"
          ],
          [
           "2024-06-28"
          ],
          [
           "2024-07-04"
          ],
          [
           "2024-07-08"
          ],
          [
           "2024-07-12"
          ],
          [
           "2024-07-12"
          ],
          [
           "2024-07-12"
          ],
          [
           "2024-07-19"
          ],
          [
           "2024-07-26"
          ],
          [
           "2024-08-01"
          ],
          [
           "2024-07-31"
          ],
          [
           "2024-08-02"
          ],
          [
           "2024-08-02"
          ]
         ],
         "fillpattern": {
          "shape": ""
         },
         "hovertemplate": "<b>%{hovertext}</b><br><br>variable=Files Added<br>Name=%{x}<br>value=%{y}<br>Date=%{customdata[0]}<extra></extra>",
         "hovertext": [
          "production/6.38.0",
          "production/6.38.0",
          "production/v6.36.0-codepush.v143",
          "production/v6.37.0-codepush.v144",
          "production/v6.38.0-codepush.v147",
          "production/v6.37.0-codepush.v145",
          "production/v6.38.0-codepush.v146",
          "v6.39.0",
          "v6.40.0",
          "v6.41.0",
          "v6.42.0",
          "v6.43.0",
          "v6.43.0-codepush.v148",
          "v6.44.0",
          "v6.45.0",
          "v6.46.0",
          "v6.44.0-codepush.v150",
          "v6.45.0-codepush.v149",
          "v6.47.0",
          "v6.47.0-codepush.v151"
         ],
         "legendgroup": "Files Added",
         "line": {
          "color": "#636efa"
         },
         "marker": {
          "symbol": "circle"
         },
         "mode": "lines",
         "name": "Files Added",
         "orientation": "v",
         "showlegend": true,
         "stackgroup": "1",
         "x": [
          "production/6.38.0",
          "production/6.38.0",
          "production/v6.36.0-codepush.v143",
          "production/v6.37.0-codepush.v144",
          "production/v6.38.0-codepush.v147",
          "production/v6.37.0-codepush.v145",
          "production/v6.38.0-codepush.v146",
          "v6.39.0",
          "v6.40.0",
          "v6.41.0",
          "v6.42.0",
          "v6.43.0",
          "v6.43.0-codepush.v148",
          "v6.44.0",
          "v6.45.0",
          "v6.46.0",
          "v6.44.0-codepush.v150",
          "v6.45.0-codepush.v149",
          "v6.47.0",
          "v6.47.0-codepush.v151"
         ],
         "xaxis": "x",
         "y": [
          null,
          118.0,
          73.0,
          29.0,
          47.0,
          29.0,
          51.0,
          101.0,
          121.0,
          34.0,
          89.0,
          null,
          4.0,
          71.0,
          33.0,
          113.0,
          71.0,
          108.0,
          11.0,
          9.0
         ],
         "yaxis": "y",
         "type": "scatter"
        },
        {
         "customdata": [
          [
           "2024-06-14"
          ],
          [
           "2024-06-14"
          ],
          [
           "2024-06-14"
          ],
          [
           "2024-06-14"
          ],
          [
           "2024-06-17"
          ],
          [
           "2024-06-17"
          ],
          [
           "2024-06-17"
          ],
          [
           "2024-06-21"
          ],
          [
           "2024-06-28"
          ],
          [
           "2024-07-04"
          ],
          [
           "2024-07-08"
          ],
          [
           "2024-07-12"
          ],
          [
           "2024-07-12"
          ],
          [
           "2024-07-12"
          ],
          [
           "2024-07-19"
          ],
          [
           "2024-07-26"
          ],
          [
           "2024-08-01"
          ],
          [
           "2024-07-31"
          ],
          [
           "2024-08-02"
          ],
          [
           "2024-08-02"
          ]
         ],
         "fillpattern": {
          "shape": ""
         },
         "hovertemplate": "<b>%{hovertext}</b><br><br>variable=Files Deleted<br>Name=%{x}<br>value=%{y}<br>Date=%{customdata[0]}<extra></extra>",
         "hovertext": [
          "production/6.38.0",
          "production/6.38.0",
          "production/v6.36.0-codepush.v143",
          "production/v6.37.0-codepush.v144",
          "production/v6.38.0-codepush.v147",
          "production/v6.37.0-codepush.v145",
          "production/v6.38.0-codepush.v146",
          "v6.39.0",
          "v6.40.0",
          "v6.41.0",
          "v6.42.0",
          "v6.43.0",
          "v6.43.0-codepush.v148",
          "v6.44.0",
          "v6.45.0",
          "v6.46.0",
          "v6.44.0-codepush.v150",
          "v6.45.0-codepush.v149",
          "v6.47.0",
          "v6.47.0-codepush.v151"
         ],
         "legendgroup": "Files Deleted",
         "line": {
          "color": "#EF553B"
         },
         "marker": {
          "symbol": "circle"
         },
         "mode": "lines",
         "name": "Files Deleted",
         "orientation": "v",
         "showlegend": true,
         "stackgroup": "1",
         "x": [
          "production/6.38.0",
          "production/6.38.0",
          "production/v6.36.0-codepush.v143",
          "production/v6.37.0-codepush.v144",
          "production/v6.38.0-codepush.v147",
          "production/v6.37.0-codepush.v145",
          "production/v6.38.0-codepush.v146",
          "v6.39.0",
          "v6.40.0",
          "v6.41.0",
          "v6.42.0",
          "v6.43.0",
          "v6.43.0-codepush.v148",
          "v6.44.0",
          "v6.45.0",
          "v6.46.0",
          "v6.44.0-codepush.v150",
          "v6.45.0-codepush.v149",
          "v6.47.0",
          "v6.47.0-codepush.v151"
         ],
         "xaxis": "x",
         "y": [
          null,
          103.0,
          69.0,
          47.0,
          29.0,
          48.0,
          29.0,
          39.0,
          72.0,
          14.0,
          198.0,
          null,
          3.0,
          49.0,
          51.0,
          117.0,
          49.0,
          90.0,
          4.0,
          31.0
         ],
         "yaxis": "y",
         "type": "scatter"
        },
        {
         "customdata": [
          [
           "2024-06-14"
          ],
          [
           "2024-06-14"
          ],
          [
           "2024-06-14"
          ],
          [
           "2024-06-14"
          ],
          [
           "2024-06-17"
          ],
          [
           "2024-06-17"
          ],
          [
           "2024-06-17"
          ],
          [
           "2024-06-21"
          ],
          [
           "2024-06-28"
          ],
          [
           "2024-07-04"
          ],
          [
           "2024-07-08"
          ],
          [
           "2024-07-12"
          ],
          [
           "2024-07-12"
          ],
          [
           "2024-07-12"
          ],
          [
           "2024-07-19"
          ],
          [
           "2024-07-26"
          ],
          [
           "2024-08-01"
          ],
          [
           "2024-07-31"
          ],
          [
           "2024-08-02"
          ],
          [
           "2024-08-02"
          ]
         ],
         "fillpattern": {
          "shape": ""
         },
         "hovertemplate": "<b>%{hovertext}</b><br><br>variable=Files Renamed<br>Name=%{x}<br>value=%{y}<br>Date=%{customdata[0]}<extra></extra>",
         "hovertext": [
          "production/6.38.0",
          "production/6.38.0",
          "production/v6.36.0-codepush.v143",
          "production/v6.37.0-codepush.v144",
          "production/v6.38.0-codepush.v147",
          "production/v6.37.0-codepush.v145",
          "production/v6.38.0-codepush.v146",
          "v6.39.0",
          "v6.40.0",
          "v6.41.0",
          "v6.42.0",
          "v6.43.0",
          "v6.43.0-codepush.v148",
          "v6.44.0",
          "v6.45.0",
          "v6.46.0",
          "v6.44.0-codepush.v150",
          "v6.45.0-codepush.v149",
          "v6.47.0",
          "v6.47.0-codepush.v151"
         ],
         "legendgroup": "Files Renamed",
         "line": {
          "color": "#00cc96"
         },
         "marker": {
          "symbol": "circle"
         },
         "mode": "lines",
         "name": "Files Renamed",
         "orientation": "v",
         "showlegend": true,
         "stackgroup": "1",
         "x": [
          "production/6.38.0",
          "production/6.38.0",
          "production/v6.36.0-codepush.v143",
          "production/v6.37.0-codepush.v144",
          "production/v6.38.0-codepush.v147",
          "production/v6.37.0-codepush.v145",
          "production/v6.38.0-codepush.v146",
          "v6.39.0",
          "v6.40.0",
          "v6.41.0",
          "v6.42.0",
          "v6.43.0",
          "v6.43.0-codepush.v148",
          "v6.44.0",
          "v6.45.0",
          "v6.46.0",
          "v6.44.0-codepush.v150",
          "v6.45.0-codepush.v149",
          "v6.47.0",
          "v6.47.0-codepush.v151"
         ],
         "xaxis": "x",
         "y": [
          null,
          59.0,
          41.0,
          20.0,
          20.0,
          20.0,
          20.0,
          122.0,
          206.0,
          1.0,
          187.0,
          null,
          null,
          248.0,
          700.0,
          784.0,
          248.0,
          734.0,
          4.0,
          2.0
         ],
         "yaxis": "y",
         "type": "scatter"
        },
        {
         "customdata": [
          [
           "2024-06-14"
          ],
          [
           "2024-06-14"
          ],
          [
           "2024-06-14"
          ],
          [
           "2024-06-14"
          ],
          [
           "2024-06-17"
          ],
          [
           "2024-06-17"
          ],
          [
           "2024-06-17"
          ],
          [
           "2024-06-21"
          ],
          [
           "2024-06-28"
          ],
          [
           "2024-07-04"
          ],
          [
           "2024-07-08"
          ],
          [
           "2024-07-12"
          ],
          [
           "2024-07-12"
          ],
          [
           "2024-07-12"
          ],
          [
           "2024-07-19"
          ],
          [
           "2024-07-26"
          ],
          [
           "2024-08-01"
          ],
          [
           "2024-07-31"
          ],
          [
           "2024-08-02"
          ],
          [
           "2024-08-02"
          ]
         ],
         "fillpattern": {
          "shape": ""
         },
         "hovertemplate": "<b>%{hovertext}</b><br><br>variable=Files Modified<br>Name=%{x}<br>value=%{y}<br>Date=%{customdata[0]}<extra></extra>",
         "hovertext": [
          "production/6.38.0",
          "production/6.38.0",
          "production/v6.36.0-codepush.v143",
          "production/v6.37.0-codepush.v144",
          "production/v6.38.0-codepush.v147",
          "production/v6.37.0-codepush.v145",
          "production/v6.38.0-codepush.v146",
          "v6.39.0",
          "v6.40.0",
          "v6.41.0",
          "v6.42.0",
          "v6.43.0",
          "v6.43.0-codepush.v148",
          "v6.44.0",
          "v6.45.0",
          "v6.46.0",
          "v6.44.0-codepush.v150",
          "v6.45.0-codepush.v149",
          "v6.47.0",
          "v6.47.0-codepush.v151"
         ],
         "legendgroup": "Files Modified",
         "line": {
          "color": "#ab63fa"
         },
         "marker": {
          "symbol": "circle"
         },
         "mode": "lines",
         "name": "Files Modified",
         "orientation": "v",
         "showlegend": true,
         "stackgroup": "1",
         "x": [
          "production/6.38.0",
          "production/6.38.0",
          "production/v6.36.0-codepush.v143",
          "production/v6.37.0-codepush.v144",
          "production/v6.38.0-codepush.v147",
          "production/v6.37.0-codepush.v145",
          "production/v6.38.0-codepush.v146",
          "v6.39.0",
          "v6.40.0",
          "v6.41.0",
          "v6.42.0",
          "v6.43.0",
          "v6.43.0-codepush.v148",
          "v6.44.0",
          "v6.45.0",
          "v6.46.0",
          "v6.44.0-codepush.v150",
          "v6.45.0-codepush.v149",
          "v6.47.0",
          "v6.47.0-codepush.v151"
         ],
         "xaxis": "x",
         "y": [
          null,
          683.0,
          424.0,
          407.0,
          403.0,
          404.0,
          571.0,
          384.0,
          460.0,
          82.0,
          502.0,
          2.0,
          38.0,
          490.0,
          602.0,
          668.0,
          490.0,
          1071.0,
          11.0,
          114.0
         ],
         "yaxis": "y",
         "type": "scatter"
        }
       ],
       "layout": {
        "template": {
         "data": {
          "histogram2dcontour": [
           {
            "type": "histogram2dcontour",
            "colorbar": {
             "outlinewidth": 0,
             "ticks": ""
            },
            "colorscale": [
             [
              0.0,
              "#0d0887"
             ],
             [
              0.1111111111111111,
              "#46039f"
             ],
             [
              0.2222222222222222,
              "#7201a8"
             ],
             [
              0.3333333333333333,
              "#9c179e"
             ],
             [
              0.4444444444444444,
              "#bd3786"
             ],
             [
              0.5555555555555556,
              "#d8576b"
             ],
             [
              0.6666666666666666,
              "#ed7953"
             ],
             [
              0.7777777777777778,
              "#fb9f3a"
             ],
             [
              0.8888888888888888,
              "#fdca26"
             ],
             [
              1.0,
              "#f0f921"
             ]
            ]
           }
          ],
          "choropleth": [
           {
            "type": "choropleth",
            "colorbar": {
             "outlinewidth": 0,
             "ticks": ""
            }
           }
          ],
          "histogram2d": [
           {
            "type": "histogram2d",
            "colorbar": {
             "outlinewidth": 0,
             "ticks": ""
            },
            "colorscale": [
             [
              0.0,
              "#0d0887"
             ],
             [
              0.1111111111111111,
              "#46039f"
             ],
             [
              0.2222222222222222,
              "#7201a8"
             ],
             [
              0.3333333333333333,
              "#9c179e"
             ],
             [
              0.4444444444444444,
              "#bd3786"
             ],
             [
              0.5555555555555556,
              "#d8576b"
             ],
             [
              0.6666666666666666,
              "#ed7953"
             ],
             [
              0.7777777777777778,
              "#fb9f3a"
             ],
             [
              0.8888888888888888,
              "#fdca26"
             ],
             [
              1.0,
              "#f0f921"
             ]
            ]
           }
          ],
          "heatmap": [
           {
            "type": "heatmap",
            "colorbar": {
             "outlinewidth": 0,
             "ticks": ""
            },
            "colorscale": [
             [
              0.0,
              "#0d0887"
             ],
             [
              0.1111111111111111,
              "#46039f"
             ],
             [
              0.2222222222222222,
              "#7201a8"
             ],
             [
              0.3333333333333333,
              "#9c179e"
             ],
             [
              0.4444444444444444,
              "#bd3786"
             ],
             [
              0.5555555555555556,
              "#d8576b"
             ],
             [
              0.6666666666666666,
              "#ed7953"
             ],
             [
              0.7777777777777778,
              "#fb9f3a"
             ],
             [
              0.8888888888888888,
              "#fdca26"
             ],
             [
              1.0,
              "#f0f921"
             ]
            ]
           }
          ],
          "heatmapgl": [
           {
            "type": "heatmapgl",
            "colorbar": {
             "outlinewidth": 0,
             "ticks": ""
            },
            "colorscale": [
             [
              0.0,
              "#0d0887"
             ],
             [
              0.1111111111111111,
              "#46039f"
             ],
             [
              0.2222222222222222,
              "#7201a8"
             ],
             [
              0.3333333333333333,
              "#9c179e"
             ],
             [
              0.4444444444444444,
              "#bd3786"
             ],
             [
              0.5555555555555556,
              "#d8576b"
             ],
             [
              0.6666666666666666,
              "#ed7953"
             ],
             [
              0.7777777777777778,
              "#fb9f3a"
             ],
             [
              0.8888888888888888,
              "#fdca26"
             ],
             [
              1.0,
              "#f0f921"
             ]
            ]
           }
          ],
          "contourcarpet": [
           {
            "type": "contourcarpet",
            "colorbar": {
             "outlinewidth": 0,
             "ticks": ""
            }
           }
          ],
          "contour": [
           {
            "type": "contour",
            "colorbar": {
             "outlinewidth": 0,
             "ticks": ""
            },
            "colorscale": [
             [
              0.0,
              "#0d0887"
             ],
             [
              0.1111111111111111,
              "#46039f"
             ],
             [
              0.2222222222222222,
              "#7201a8"
             ],
             [
              0.3333333333333333,
              "#9c179e"
             ],
             [
              0.4444444444444444,
              "#bd3786"
             ],
             [
              0.5555555555555556,
              "#d8576b"
             ],
             [
              0.6666666666666666,
              "#ed7953"
             ],
             [
              0.7777777777777778,
              "#fb9f3a"
             ],
             [
              0.8888888888888888,
              "#fdca26"
             ],
             [
              1.0,
              "#f0f921"
             ]
            ]
           }
          ],
          "surface": [
           {
            "type": "surface",
            "colorbar": {
             "outlinewidth": 0,
             "ticks": ""
            },
            "colorscale": [
             [
              0.0,
              "#0d0887"
             ],
             [
              0.1111111111111111,
              "#46039f"
             ],
             [
              0.2222222222222222,
              "#7201a8"
             ],
             [
              0.3333333333333333,
              "#9c179e"
             ],
             [
              0.4444444444444444,
              "#bd3786"
             ],
             [
              0.5555555555555556,
              "#d8576b"
             ],
             [
              0.6666666666666666,
              "#ed7953"
             ],
             [
              0.7777777777777778,
              "#fb9f3a"
             ],
             [
              0.8888888888888888,
              "#fdca26"
             ],
             [
              1.0,
              "#f0f921"
             ]
            ]
           }
          ],
          "mesh3d": [
           {
            "type": "mesh3d",
            "colorbar": {
             "outlinewidth": 0,
             "ticks": ""
            }
           }
          ],
          "scatter": [
           {
            "fillpattern": {
             "fillmode": "overlay",
             "size": 10,
             "solidity": 0.2
            },
            "type": "scatter"
           }
          ],
          "parcoords": [
           {
            "type": "parcoords",
            "line": {
             "colorbar": {
              "outlinewidth": 0,
              "ticks": ""
             }
            }
           }
          ],
          "scatterpolargl": [
           {
            "type": "scatterpolargl",
            "marker": {
             "colorbar": {
              "outlinewidth": 0,
              "ticks": ""
             }
            }
           }
          ],
          "bar": [
           {
            "error_x": {
             "color": "#2a3f5f"
            },
            "error_y": {
             "color": "#2a3f5f"
            },
            "marker": {
             "line": {
              "color": "#E5ECF6",
              "width": 0.5
             },
             "pattern": {
              "fillmode": "overlay",
              "size": 10,
              "solidity": 0.2
             }
            },
            "type": "bar"
           }
          ],
          "scattergeo": [
           {
            "type": "scattergeo",
            "marker": {
             "colorbar": {
              "outlinewidth": 0,
              "ticks": ""
             }
            }
           }
          ],
          "scatterpolar": [
           {
            "type": "scatterpolar",
            "marker": {
             "colorbar": {
              "outlinewidth": 0,
              "ticks": ""
             }
            }
           }
          ],
          "histogram": [
           {
            "marker": {
             "pattern": {
              "fillmode": "overlay",
              "size": 10,
              "solidity": 0.2
             }
            },
            "type": "histogram"
           }
          ],
          "scattergl": [
           {
            "type": "scattergl",
            "marker": {
             "colorbar": {
              "outlinewidth": 0,
              "ticks": ""
             }
            }
           }
          ],
          "scatter3d": [
           {
            "type": "scatter3d",
            "line": {
             "colorbar": {
              "outlinewidth": 0,
              "ticks": ""
             }
            },
            "marker": {
             "colorbar": {
              "outlinewidth": 0,
              "ticks": ""
             }
            }
           }
          ],
          "scattermapbox": [
           {
            "type": "scattermapbox",
            "marker": {
             "colorbar": {
              "outlinewidth": 0,
              "ticks": ""
             }
            }
           }
          ],
          "scatterternary": [
           {
            "type": "scatterternary",
            "marker": {
             "colorbar": {
              "outlinewidth": 0,
              "ticks": ""
             }
            }
           }
          ],
          "scattercarpet": [
           {
            "type": "scattercarpet",
            "marker": {
             "colorbar": {
              "outlinewidth": 0,
              "ticks": ""
             }
            }
           }
          ],
          "carpet": [
           {
            "aaxis": {
             "endlinecolor": "#2a3f5f",
             "gridcolor": "white",
             "linecolor": "white",
             "minorgridcolor": "white",
             "startlinecolor": "#2a3f5f"
            },
            "baxis": {
             "endlinecolor": "#2a3f5f",
             "gridcolor": "white",
             "linecolor": "white",
             "minorgridcolor": "white",
             "startlinecolor": "#2a3f5f"
            },
            "type": "carpet"
           }
          ],
          "table": [
           {
            "cells": {
             "fill": {
              "color": "#EBF0F8"
             },
             "line": {
              "color": "white"
             }
            },
            "header": {
             "fill": {
              "color": "#C8D4E3"
             },
             "line": {
              "color": "white"
             }
            },
            "type": "table"
           }
          ],
          "barpolar": [
           {
            "marker": {
             "line": {
              "color": "#E5ECF6",
              "width": 0.5
             },
             "pattern": {
              "fillmode": "overlay",
              "size": 10,
              "solidity": 0.2
             }
            },
            "type": "barpolar"
           }
          ],
          "pie": [
           {
            "automargin": true,
            "type": "pie"
           }
          ]
         },
         "layout": {
          "autotypenumbers": "strict",
          "colorway": [
           "#636efa",
           "#EF553B",
           "#00cc96",
           "#ab63fa",
           "#FFA15A",
           "#19d3f3",
           "#FF6692",
           "#B6E880",
           "#FF97FF",
           "#FECB52"
          ],
          "font": {
           "color": "#2a3f5f"
          },
          "hovermode": "closest",
          "hoverlabel": {
           "align": "left"
          },
          "paper_bgcolor": "white",
          "plot_bgcolor": "#E5ECF6",
          "polar": {
           "bgcolor": "#E5ECF6",
           "angularaxis": {
            "gridcolor": "white",
            "linecolor": "white",
            "ticks": ""
           },
           "radialaxis": {
            "gridcolor": "white",
            "linecolor": "white",
            "ticks": ""
           }
          },
          "ternary": {
           "bgcolor": "#E5ECF6",
           "aaxis": {
            "gridcolor": "white",
            "linecolor": "white",
            "ticks": ""
           },
           "baxis": {
            "gridcolor": "white",
            "linecolor": "white",
            "ticks": ""
           },
           "caxis": {
            "gridcolor": "white",
            "linecolor": "white",
            "ticks": ""
           }
          },
          "coloraxis": {
           "colorbar": {
            "outlinewidth": 0,
            "ticks": ""
           }
          },
          "colorscale": {
           "sequential": [
            [
             0.0,
             "#0d0887"
            ],
            [
             0.1111111111111111,
             "#46039f"
            ],
            [
             0.2222222222222222,
             "#7201a8"
            ],
            [
             0.3333333333333333,
             "#9c179e"
            ],
            [
             0.4444444444444444,
             "#bd3786"
            ],
            [
             0.5555555555555556,
             "#d8576b"
            ],
            [
             0.6666666666666666,
             "#ed7953"
            ],
            [
             0.7777777777777778,
             "#fb9f3a"
            ],
            [
             0.8888888888888888,
             "#fdca26"
            ],
            [
             1.0,
             "#f0f921"
            ]
           ],
           "sequentialminus": [
            [
             0.0,
             "#0d0887"
            ],
            [
             0.1111111111111111,
             "#46039f"
            ],
            [
             0.2222222222222222,
             "#7201a8"
            ],
            [
             0.3333333333333333,
             "#9c179e"
            ],
            [
             0.4444444444444444,
             "#bd3786"
            ],
            [
             0.5555555555555556,
             "#d8576b"
            ],
            [
             0.6666666666666666,
             "#ed7953"
            ],
            [
             0.7777777777777778,
             "#fb9f3a"
            ],
            [
             0.8888888888888888,
             "#fdca26"
            ],
            [
             1.0,
             "#f0f921"
            ]
           ],
           "diverging": [
            [
             0,
             "#8e0152"
            ],
            [
             0.1,
             "#c51b7d"
            ],
            [
             0.2,
             "#de77ae"
            ],
            [
             0.3,
             "#f1b6da"
            ],
            [
             0.4,
             "#fde0ef"
            ],
            [
             0.5,
             "#f7f7f7"
            ],
            [
             0.6,
             "#e6f5d0"
            ],
            [
             0.7,
             "#b8e186"
            ],
            [
             0.8,
             "#7fbc41"
            ],
            [
             0.9,
             "#4d9221"
            ],
            [
             1,
             "#276419"
            ]
           ]
          },
          "xaxis": {
           "gridcolor": "white",
           "linecolor": "white",
           "ticks": "",
           "title": {
            "standoff": 15
           },
           "zerolinecolor": "white",
           "automargin": true,
           "zerolinewidth": 2
          },
          "yaxis": {
           "gridcolor": "white",
           "linecolor": "white",
           "ticks": "",
           "title": {
            "standoff": 15
           },
           "zerolinecolor": "white",
           "automargin": true,
           "zerolinewidth": 2
          },
          "scene": {
           "xaxis": {
            "backgroundcolor": "#E5ECF6",
            "gridcolor": "white",
            "linecolor": "white",
            "showbackground": true,
            "ticks": "",
            "zerolinecolor": "white",
            "gridwidth": 2
           },
           "yaxis": {
            "backgroundcolor": "#E5ECF6",
            "gridcolor": "white",
            "linecolor": "white",
            "showbackground": true,
            "ticks": "",
            "zerolinecolor": "white",
            "gridwidth": 2
           },
           "zaxis": {
            "backgroundcolor": "#E5ECF6",
            "gridcolor": "white",
            "linecolor": "white",
            "showbackground": true,
            "ticks": "",
            "zerolinecolor": "white",
            "gridwidth": 2
           }
          },
          "shapedefaults": {
           "line": {
            "color": "#2a3f5f"
           }
          },
          "annotationdefaults": {
           "arrowcolor": "#2a3f5f",
           "arrowhead": 0,
           "arrowwidth": 1
          },
          "geo": {
           "bgcolor": "white",
           "landcolor": "#E5ECF6",
           "subunitcolor": "white",
           "showland": true,
           "showlakes": true,
           "lakecolor": "white"
          },
          "title": {
           "x": 0.05
          },
          "mapbox": {
           "style": "light"
          }
         }
        },
        "xaxis": {
         "anchor": "y",
         "domain": [
          0.0,
          1.0
         ],
         "title": {
          "text": "Name"
         }
        },
        "yaxis": {
         "anchor": "x",
         "domain": [
          0.0,
          1.0
         ],
         "title": {
          "text": "value"
         }
        },
        "legend": {
         "title": {
          "text": "variable"
         },
         "tracegroupgap": 0
        },
        "title": {
         "text": "Changes Across Tags for dojo-android"
        }
       },
       "config": {
        "plotlyServerURL": "https://plot.ly"
       }
      },
      "text/html": "<div>                            <div id=\"f28321fa-53a2-4258-a4d7-baed60bdd6f2\" class=\"plotly-graph-div\" style=\"height:525px; width:100%;\"></div>            <script type=\"text/javascript\">                require([\"plotly\"], function(Plotly) {                    window.PLOTLYENV=window.PLOTLYENV || {};                                    if (document.getElementById(\"f28321fa-53a2-4258-a4d7-baed60bdd6f2\")) {                    Plotly.newPlot(                        \"f28321fa-53a2-4258-a4d7-baed60bdd6f2\",                        [{\"customdata\":[[\"2024-06-14\"],[\"2024-06-14\"],[\"2024-06-14\"],[\"2024-06-14\"],[\"2024-06-17\"],[\"2024-06-17\"],[\"2024-06-17\"],[\"2024-06-21\"],[\"2024-06-28\"],[\"2024-07-04\"],[\"2024-07-08\"],[\"2024-07-12\"],[\"2024-07-12\"],[\"2024-07-12\"],[\"2024-07-19\"],[\"2024-07-26\"],[\"2024-08-01\"],[\"2024-07-31\"],[\"2024-08-02\"],[\"2024-08-02\"]],\"fillpattern\":{\"shape\":\"\"},\"hovertemplate\":\"\\u003cb\\u003e%{hovertext}\\u003c\\u002fb\\u003e\\u003cbr\\u003e\\u003cbr\\u003evariable=Files Added\\u003cbr\\u003eName=%{x}\\u003cbr\\u003evalue=%{y}\\u003cbr\\u003eDate=%{customdata[0]}\\u003cextra\\u003e\\u003c\\u002fextra\\u003e\",\"hovertext\":[\"production\\u002f6.38.0\",\"production\\u002f6.38.0\",\"production\\u002fv6.36.0-codepush.v143\",\"production\\u002fv6.37.0-codepush.v144\",\"production\\u002fv6.38.0-codepush.v147\",\"production\\u002fv6.37.0-codepush.v145\",\"production\\u002fv6.38.0-codepush.v146\",\"v6.39.0\",\"v6.40.0\",\"v6.41.0\",\"v6.42.0\",\"v6.43.0\",\"v6.43.0-codepush.v148\",\"v6.44.0\",\"v6.45.0\",\"v6.46.0\",\"v6.44.0-codepush.v150\",\"v6.45.0-codepush.v149\",\"v6.47.0\",\"v6.47.0-codepush.v151\"],\"legendgroup\":\"Files Added\",\"line\":{\"color\":\"#636efa\"},\"marker\":{\"symbol\":\"circle\"},\"mode\":\"lines\",\"name\":\"Files Added\",\"orientation\":\"v\",\"showlegend\":true,\"stackgroup\":\"1\",\"x\":[\"production\\u002f6.38.0\",\"production\\u002f6.38.0\",\"production\\u002fv6.36.0-codepush.v143\",\"production\\u002fv6.37.0-codepush.v144\",\"production\\u002fv6.38.0-codepush.v147\",\"production\\u002fv6.37.0-codepush.v145\",\"production\\u002fv6.38.0-codepush.v146\",\"v6.39.0\",\"v6.40.0\",\"v6.41.0\",\"v6.42.0\",\"v6.43.0\",\"v6.43.0-codepush.v148\",\"v6.44.0\",\"v6.45.0\",\"v6.46.0\",\"v6.44.0-codepush.v150\",\"v6.45.0-codepush.v149\",\"v6.47.0\",\"v6.47.0-codepush.v151\"],\"xaxis\":\"x\",\"y\":[null,118.0,73.0,29.0,47.0,29.0,51.0,101.0,121.0,34.0,89.0,null,4.0,71.0,33.0,113.0,71.0,108.0,11.0,9.0],\"yaxis\":\"y\",\"type\":\"scatter\"},{\"customdata\":[[\"2024-06-14\"],[\"2024-06-14\"],[\"2024-06-14\"],[\"2024-06-14\"],[\"2024-06-17\"],[\"2024-06-17\"],[\"2024-06-17\"],[\"2024-06-21\"],[\"2024-06-28\"],[\"2024-07-04\"],[\"2024-07-08\"],[\"2024-07-12\"],[\"2024-07-12\"],[\"2024-07-12\"],[\"2024-07-19\"],[\"2024-07-26\"],[\"2024-08-01\"],[\"2024-07-31\"],[\"2024-08-02\"],[\"2024-08-02\"]],\"fillpattern\":{\"shape\":\"\"},\"hovertemplate\":\"\\u003cb\\u003e%{hovertext}\\u003c\\u002fb\\u003e\\u003cbr\\u003e\\u003cbr\\u003evariable=Files Deleted\\u003cbr\\u003eName=%{x}\\u003cbr\\u003evalue=%{y}\\u003cbr\\u003eDate=%{customdata[0]}\\u003cextra\\u003e\\u003c\\u002fextra\\u003e\",\"hovertext\":[\"production\\u002f6.38.0\",\"production\\u002f6.38.0\",\"production\\u002fv6.36.0-codepush.v143\",\"production\\u002fv6.37.0-codepush.v144\",\"production\\u002fv6.38.0-codepush.v147\",\"production\\u002fv6.37.0-codepush.v145\",\"production\\u002fv6.38.0-codepush.v146\",\"v6.39.0\",\"v6.40.0\",\"v6.41.0\",\"v6.42.0\",\"v6.43.0\",\"v6.43.0-codepush.v148\",\"v6.44.0\",\"v6.45.0\",\"v6.46.0\",\"v6.44.0-codepush.v150\",\"v6.45.0-codepush.v149\",\"v6.47.0\",\"v6.47.0-codepush.v151\"],\"legendgroup\":\"Files Deleted\",\"line\":{\"color\":\"#EF553B\"},\"marker\":{\"symbol\":\"circle\"},\"mode\":\"lines\",\"name\":\"Files Deleted\",\"orientation\":\"v\",\"showlegend\":true,\"stackgroup\":\"1\",\"x\":[\"production\\u002f6.38.0\",\"production\\u002f6.38.0\",\"production\\u002fv6.36.0-codepush.v143\",\"production\\u002fv6.37.0-codepush.v144\",\"production\\u002fv6.38.0-codepush.v147\",\"production\\u002fv6.37.0-codepush.v145\",\"production\\u002fv6.38.0-codepush.v146\",\"v6.39.0\",\"v6.40.0\",\"v6.41.0\",\"v6.42.0\",\"v6.43.0\",\"v6.43.0-codepush.v148\",\"v6.44.0\",\"v6.45.0\",\"v6.46.0\",\"v6.44.0-codepush.v150\",\"v6.45.0-codepush.v149\",\"v6.47.0\",\"v6.47.0-codepush.v151\"],\"xaxis\":\"x\",\"y\":[null,103.0,69.0,47.0,29.0,48.0,29.0,39.0,72.0,14.0,198.0,null,3.0,49.0,51.0,117.0,49.0,90.0,4.0,31.0],\"yaxis\":\"y\",\"type\":\"scatter\"},{\"customdata\":[[\"2024-06-14\"],[\"2024-06-14\"],[\"2024-06-14\"],[\"2024-06-14\"],[\"2024-06-17\"],[\"2024-06-17\"],[\"2024-06-17\"],[\"2024-06-21\"],[\"2024-06-28\"],[\"2024-07-04\"],[\"2024-07-08\"],[\"2024-07-12\"],[\"2024-07-12\"],[\"2024-07-12\"],[\"2024-07-19\"],[\"2024-07-26\"],[\"2024-08-01\"],[\"2024-07-31\"],[\"2024-08-02\"],[\"2024-08-02\"]],\"fillpattern\":{\"shape\":\"\"},\"hovertemplate\":\"\\u003cb\\u003e%{hovertext}\\u003c\\u002fb\\u003e\\u003cbr\\u003e\\u003cbr\\u003evariable=Files Renamed\\u003cbr\\u003eName=%{x}\\u003cbr\\u003evalue=%{y}\\u003cbr\\u003eDate=%{customdata[0]}\\u003cextra\\u003e\\u003c\\u002fextra\\u003e\",\"hovertext\":[\"production\\u002f6.38.0\",\"production\\u002f6.38.0\",\"production\\u002fv6.36.0-codepush.v143\",\"production\\u002fv6.37.0-codepush.v144\",\"production\\u002fv6.38.0-codepush.v147\",\"production\\u002fv6.37.0-codepush.v145\",\"production\\u002fv6.38.0-codepush.v146\",\"v6.39.0\",\"v6.40.0\",\"v6.41.0\",\"v6.42.0\",\"v6.43.0\",\"v6.43.0-codepush.v148\",\"v6.44.0\",\"v6.45.0\",\"v6.46.0\",\"v6.44.0-codepush.v150\",\"v6.45.0-codepush.v149\",\"v6.47.0\",\"v6.47.0-codepush.v151\"],\"legendgroup\":\"Files Renamed\",\"line\":{\"color\":\"#00cc96\"},\"marker\":{\"symbol\":\"circle\"},\"mode\":\"lines\",\"name\":\"Files Renamed\",\"orientation\":\"v\",\"showlegend\":true,\"stackgroup\":\"1\",\"x\":[\"production\\u002f6.38.0\",\"production\\u002f6.38.0\",\"production\\u002fv6.36.0-codepush.v143\",\"production\\u002fv6.37.0-codepush.v144\",\"production\\u002fv6.38.0-codepush.v147\",\"production\\u002fv6.37.0-codepush.v145\",\"production\\u002fv6.38.0-codepush.v146\",\"v6.39.0\",\"v6.40.0\",\"v6.41.0\",\"v6.42.0\",\"v6.43.0\",\"v6.43.0-codepush.v148\",\"v6.44.0\",\"v6.45.0\",\"v6.46.0\",\"v6.44.0-codepush.v150\",\"v6.45.0-codepush.v149\",\"v6.47.0\",\"v6.47.0-codepush.v151\"],\"xaxis\":\"x\",\"y\":[null,59.0,41.0,20.0,20.0,20.0,20.0,122.0,206.0,1.0,187.0,null,null,248.0,700.0,784.0,248.0,734.0,4.0,2.0],\"yaxis\":\"y\",\"type\":\"scatter\"},{\"customdata\":[[\"2024-06-14\"],[\"2024-06-14\"],[\"2024-06-14\"],[\"2024-06-14\"],[\"2024-06-17\"],[\"2024-06-17\"],[\"2024-06-17\"],[\"2024-06-21\"],[\"2024-06-28\"],[\"2024-07-04\"],[\"2024-07-08\"],[\"2024-07-12\"],[\"2024-07-12\"],[\"2024-07-12\"],[\"2024-07-19\"],[\"2024-07-26\"],[\"2024-08-01\"],[\"2024-07-31\"],[\"2024-08-02\"],[\"2024-08-02\"]],\"fillpattern\":{\"shape\":\"\"},\"hovertemplate\":\"\\u003cb\\u003e%{hovertext}\\u003c\\u002fb\\u003e\\u003cbr\\u003e\\u003cbr\\u003evariable=Files Modified\\u003cbr\\u003eName=%{x}\\u003cbr\\u003evalue=%{y}\\u003cbr\\u003eDate=%{customdata[0]}\\u003cextra\\u003e\\u003c\\u002fextra\\u003e\",\"hovertext\":[\"production\\u002f6.38.0\",\"production\\u002f6.38.0\",\"production\\u002fv6.36.0-codepush.v143\",\"production\\u002fv6.37.0-codepush.v144\",\"production\\u002fv6.38.0-codepush.v147\",\"production\\u002fv6.37.0-codepush.v145\",\"production\\u002fv6.38.0-codepush.v146\",\"v6.39.0\",\"v6.40.0\",\"v6.41.0\",\"v6.42.0\",\"v6.43.0\",\"v6.43.0-codepush.v148\",\"v6.44.0\",\"v6.45.0\",\"v6.46.0\",\"v6.44.0-codepush.v150\",\"v6.45.0-codepush.v149\",\"v6.47.0\",\"v6.47.0-codepush.v151\"],\"legendgroup\":\"Files Modified\",\"line\":{\"color\":\"#ab63fa\"},\"marker\":{\"symbol\":\"circle\"},\"mode\":\"lines\",\"name\":\"Files Modified\",\"orientation\":\"v\",\"showlegend\":true,\"stackgroup\":\"1\",\"x\":[\"production\\u002f6.38.0\",\"production\\u002f6.38.0\",\"production\\u002fv6.36.0-codepush.v143\",\"production\\u002fv6.37.0-codepush.v144\",\"production\\u002fv6.38.0-codepush.v147\",\"production\\u002fv6.37.0-codepush.v145\",\"production\\u002fv6.38.0-codepush.v146\",\"v6.39.0\",\"v6.40.0\",\"v6.41.0\",\"v6.42.0\",\"v6.43.0\",\"v6.43.0-codepush.v148\",\"v6.44.0\",\"v6.45.0\",\"v6.46.0\",\"v6.44.0-codepush.v150\",\"v6.45.0-codepush.v149\",\"v6.47.0\",\"v6.47.0-codepush.v151\"],\"xaxis\":\"x\",\"y\":[null,683.0,424.0,407.0,403.0,404.0,571.0,384.0,460.0,82.0,502.0,2.0,38.0,490.0,602.0,668.0,490.0,1071.0,11.0,114.0],\"yaxis\":\"y\",\"type\":\"scatter\"}],                        {\"template\":{\"data\":{\"histogram2dcontour\":[{\"type\":\"histogram2dcontour\",\"colorbar\":{\"outlinewidth\":0,\"ticks\":\"\"},\"colorscale\":[[0.0,\"#0d0887\"],[0.1111111111111111,\"#46039f\"],[0.2222222222222222,\"#7201a8\"],[0.3333333333333333,\"#9c179e\"],[0.4444444444444444,\"#bd3786\"],[0.5555555555555556,\"#d8576b\"],[0.6666666666666666,\"#ed7953\"],[0.7777777777777778,\"#fb9f3a\"],[0.8888888888888888,\"#fdca26\"],[1.0,\"#f0f921\"]]}],\"choropleth\":[{\"type\":\"choropleth\",\"colorbar\":{\"outlinewidth\":0,\"ticks\":\"\"}}],\"histogram2d\":[{\"type\":\"histogram2d\",\"colorbar\":{\"outlinewidth\":0,\"ticks\":\"\"},\"colorscale\":[[0.0,\"#0d0887\"],[0.1111111111111111,\"#46039f\"],[0.2222222222222222,\"#7201a8\"],[0.3333333333333333,\"#9c179e\"],[0.4444444444444444,\"#bd3786\"],[0.5555555555555556,\"#d8576b\"],[0.6666666666666666,\"#ed7953\"],[0.7777777777777778,\"#fb9f3a\"],[0.8888888888888888,\"#fdca26\"],[1.0,\"#f0f921\"]]}],\"heatmap\":[{\"type\":\"heatmap\",\"colorbar\":{\"outlinewidth\":0,\"ticks\":\"\"},\"colorscale\":[[0.0,\"#0d0887\"],[0.1111111111111111,\"#46039f\"],[0.2222222222222222,\"#7201a8\"],[0.3333333333333333,\"#9c179e\"],[0.4444444444444444,\"#bd3786\"],[0.5555555555555556,\"#d8576b\"],[0.6666666666666666,\"#ed7953\"],[0.7777777777777778,\"#fb9f3a\"],[0.8888888888888888,\"#fdca26\"],[1.0,\"#f0f921\"]]}],\"heatmapgl\":[{\"type\":\"heatmapgl\",\"colorbar\":{\"outlinewidth\":0,\"ticks\":\"\"},\"colorscale\":[[0.0,\"#0d0887\"],[0.1111111111111111,\"#46039f\"],[0.2222222222222222,\"#7201a8\"],[0.3333333333333333,\"#9c179e\"],[0.4444444444444444,\"#bd3786\"],[0.5555555555555556,\"#d8576b\"],[0.6666666666666666,\"#ed7953\"],[0.7777777777777778,\"#fb9f3a\"],[0.8888888888888888,\"#fdca26\"],[1.0,\"#f0f921\"]]}],\"contourcarpet\":[{\"type\":\"contourcarpet\",\"colorbar\":{\"outlinewidth\":0,\"ticks\":\"\"}}],\"contour\":[{\"type\":\"contour\",\"colorbar\":{\"outlinewidth\":0,\"ticks\":\"\"},\"colorscale\":[[0.0,\"#0d0887\"],[0.1111111111111111,\"#46039f\"],[0.2222222222222222,\"#7201a8\"],[0.3333333333333333,\"#9c179e\"],[0.4444444444444444,\"#bd3786\"],[0.5555555555555556,\"#d8576b\"],[0.6666666666666666,\"#ed7953\"],[0.7777777777777778,\"#fb9f3a\"],[0.8888888888888888,\"#fdca26\"],[1.0,\"#f0f921\"]]}],\"surface\":[{\"type\":\"surface\",\"colorbar\":{\"outlinewidth\":0,\"ticks\":\"\"},\"colorscale\":[[0.0,\"#0d0887\"],[0.1111111111111111,\"#46039f\"],[0.2222222222222222,\"#7201a8\"],[0.3333333333333333,\"#9c179e\"],[0.4444444444444444,\"#bd3786\"],[0.5555555555555556,\"#d8576b\"],[0.6666666666666666,\"#ed7953\"],[0.7777777777777778,\"#fb9f3a\"],[0.8888888888888888,\"#fdca26\"],[1.0,\"#f0f921\"]]}],\"mesh3d\":[{\"type\":\"mesh3d\",\"colorbar\":{\"outlinewidth\":0,\"ticks\":\"\"}}],\"scatter\":[{\"fillpattern\":{\"fillmode\":\"overlay\",\"size\":10,\"solidity\":0.2},\"type\":\"scatter\"}],\"parcoords\":[{\"type\":\"parcoords\",\"line\":{\"colorbar\":{\"outlinewidth\":0,\"ticks\":\"\"}}}],\"scatterpolargl\":[{\"type\":\"scatterpolargl\",\"marker\":{\"colorbar\":{\"outlinewidth\":0,\"ticks\":\"\"}}}],\"bar\":[{\"error_x\":{\"color\":\"#2a3f5f\"},\"error_y\":{\"color\":\"#2a3f5f\"},\"marker\":{\"line\":{\"color\":\"#E5ECF6\",\"width\":0.5},\"pattern\":{\"fillmode\":\"overlay\",\"size\":10,\"solidity\":0.2}},\"type\":\"bar\"}],\"scattergeo\":[{\"type\":\"scattergeo\",\"marker\":{\"colorbar\":{\"outlinewidth\":0,\"ticks\":\"\"}}}],\"scatterpolar\":[{\"type\":\"scatterpolar\",\"marker\":{\"colorbar\":{\"outlinewidth\":0,\"ticks\":\"\"}}}],\"histogram\":[{\"marker\":{\"pattern\":{\"fillmode\":\"overlay\",\"size\":10,\"solidity\":0.2}},\"type\":\"histogram\"}],\"scattergl\":[{\"type\":\"scattergl\",\"marker\":{\"colorbar\":{\"outlinewidth\":0,\"ticks\":\"\"}}}],\"scatter3d\":[{\"type\":\"scatter3d\",\"line\":{\"colorbar\":{\"outlinewidth\":0,\"ticks\":\"\"}},\"marker\":{\"colorbar\":{\"outlinewidth\":0,\"ticks\":\"\"}}}],\"scattermapbox\":[{\"type\":\"scattermapbox\",\"marker\":{\"colorbar\":{\"outlinewidth\":0,\"ticks\":\"\"}}}],\"scatterternary\":[{\"type\":\"scatterternary\",\"marker\":{\"colorbar\":{\"outlinewidth\":0,\"ticks\":\"\"}}}],\"scattercarpet\":[{\"type\":\"scattercarpet\",\"marker\":{\"colorbar\":{\"outlinewidth\":0,\"ticks\":\"\"}}}],\"carpet\":[{\"aaxis\":{\"endlinecolor\":\"#2a3f5f\",\"gridcolor\":\"white\",\"linecolor\":\"white\",\"minorgridcolor\":\"white\",\"startlinecolor\":\"#2a3f5f\"},\"baxis\":{\"endlinecolor\":\"#2a3f5f\",\"gridcolor\":\"white\",\"linecolor\":\"white\",\"minorgridcolor\":\"white\",\"startlinecolor\":\"#2a3f5f\"},\"type\":\"carpet\"}],\"table\":[{\"cells\":{\"fill\":{\"color\":\"#EBF0F8\"},\"line\":{\"color\":\"white\"}},\"header\":{\"fill\":{\"color\":\"#C8D4E3\"},\"line\":{\"color\":\"white\"}},\"type\":\"table\"}],\"barpolar\":[{\"marker\":{\"line\":{\"color\":\"#E5ECF6\",\"width\":0.5},\"pattern\":{\"fillmode\":\"overlay\",\"size\":10,\"solidity\":0.2}},\"type\":\"barpolar\"}],\"pie\":[{\"automargin\":true,\"type\":\"pie\"}]},\"layout\":{\"autotypenumbers\":\"strict\",\"colorway\":[\"#636efa\",\"#EF553B\",\"#00cc96\",\"#ab63fa\",\"#FFA15A\",\"#19d3f3\",\"#FF6692\",\"#B6E880\",\"#FF97FF\",\"#FECB52\"],\"font\":{\"color\":\"#2a3f5f\"},\"hovermode\":\"closest\",\"hoverlabel\":{\"align\":\"left\"},\"paper_bgcolor\":\"white\",\"plot_bgcolor\":\"#E5ECF6\",\"polar\":{\"bgcolor\":\"#E5ECF6\",\"angularaxis\":{\"gridcolor\":\"white\",\"linecolor\":\"white\",\"ticks\":\"\"},\"radialaxis\":{\"gridcolor\":\"white\",\"linecolor\":\"white\",\"ticks\":\"\"}},\"ternary\":{\"bgcolor\":\"#E5ECF6\",\"aaxis\":{\"gridcolor\":\"white\",\"linecolor\":\"white\",\"ticks\":\"\"},\"baxis\":{\"gridcolor\":\"white\",\"linecolor\":\"white\",\"ticks\":\"\"},\"caxis\":{\"gridcolor\":\"white\",\"linecolor\":\"white\",\"ticks\":\"\"}},\"coloraxis\":{\"colorbar\":{\"outlinewidth\":0,\"ticks\":\"\"}},\"colorscale\":{\"sequential\":[[0.0,\"#0d0887\"],[0.1111111111111111,\"#46039f\"],[0.2222222222222222,\"#7201a8\"],[0.3333333333333333,\"#9c179e\"],[0.4444444444444444,\"#bd3786\"],[0.5555555555555556,\"#d8576b\"],[0.6666666666666666,\"#ed7953\"],[0.7777777777777778,\"#fb9f3a\"],[0.8888888888888888,\"#fdca26\"],[1.0,\"#f0f921\"]],\"sequentialminus\":[[0.0,\"#0d0887\"],[0.1111111111111111,\"#46039f\"],[0.2222222222222222,\"#7201a8\"],[0.3333333333333333,\"#9c179e\"],[0.4444444444444444,\"#bd3786\"],[0.5555555555555556,\"#d8576b\"],[0.6666666666666666,\"#ed7953\"],[0.7777777777777778,\"#fb9f3a\"],[0.8888888888888888,\"#fdca26\"],[1.0,\"#f0f921\"]],\"diverging\":[[0,\"#8e0152\"],[0.1,\"#c51b7d\"],[0.2,\"#de77ae\"],[0.3,\"#f1b6da\"],[0.4,\"#fde0ef\"],[0.5,\"#f7f7f7\"],[0.6,\"#e6f5d0\"],[0.7,\"#b8e186\"],[0.8,\"#7fbc41\"],[0.9,\"#4d9221\"],[1,\"#276419\"]]},\"xaxis\":{\"gridcolor\":\"white\",\"linecolor\":\"white\",\"ticks\":\"\",\"title\":{\"standoff\":15},\"zerolinecolor\":\"white\",\"automargin\":true,\"zerolinewidth\":2},\"yaxis\":{\"gridcolor\":\"white\",\"linecolor\":\"white\",\"ticks\":\"\",\"title\":{\"standoff\":15},\"zerolinecolor\":\"white\",\"automargin\":true,\"zerolinewidth\":2},\"scene\":{\"xaxis\":{\"backgroundcolor\":\"#E5ECF6\",\"gridcolor\":\"white\",\"linecolor\":\"white\",\"showbackground\":true,\"ticks\":\"\",\"zerolinecolor\":\"white\",\"gridwidth\":2},\"yaxis\":{\"backgroundcolor\":\"#E5ECF6\",\"gridcolor\":\"white\",\"linecolor\":\"white\",\"showbackground\":true,\"ticks\":\"\",\"zerolinecolor\":\"white\",\"gridwidth\":2},\"zaxis\":{\"backgroundcolor\":\"#E5ECF6\",\"gridcolor\":\"white\",\"linecolor\":\"white\",\"showbackground\":true,\"ticks\":\"\",\"zerolinecolor\":\"white\",\"gridwidth\":2}},\"shapedefaults\":{\"line\":{\"color\":\"#2a3f5f\"}},\"annotationdefaults\":{\"arrowcolor\":\"#2a3f5f\",\"arrowhead\":0,\"arrowwidth\":1},\"geo\":{\"bgcolor\":\"white\",\"landcolor\":\"#E5ECF6\",\"subunitcolor\":\"white\",\"showland\":true,\"showlakes\":true,\"lakecolor\":\"white\"},\"title\":{\"x\":0.05},\"mapbox\":{\"style\":\"light\"}}},\"xaxis\":{\"anchor\":\"y\",\"domain\":[0.0,1.0],\"title\":{\"text\":\"Name\"}},\"yaxis\":{\"anchor\":\"x\",\"domain\":[0.0,1.0],\"title\":{\"text\":\"value\"}},\"legend\":{\"title\":{\"text\":\"variable\"},\"tracegroupgap\":0},\"title\":{\"text\":\"Changes Across Tags for dojo-android\"}},                        {\"responsive\": true}                    ).then(function(){\n                            \nvar gd = document.getElementById('f28321fa-53a2-4258-a4d7-baed60bdd6f2');\nvar x = new MutationObserver(function (mutations, observer) {{\n        var display = window.getComputedStyle(gd).display;\n        if (!display || display === 'none') {{\n            console.log([gd, 'removed!']);\n            Plotly.purge(gd);\n            observer.disconnect();\n        }}\n}});\n\n// Listen for the removal of the full notebook cells\nvar notebookContainer = gd.closest('#notebook-container');\nif (notebookContainer) {{\n    x.observe(notebookContainer, {childList: true});\n}}\n\n// Listen for the clearing of the current output cell\nvar outputEl = gd.closest('.output');\nif (outputEl) {{\n    x.observe(outputEl, {childList: true});\n}}\n\n                        })                };                });            </script>        </div>"
     },
     "metadata": {},
     "output_type": "display_data"
    }
   ],
   "source": [
    "figure = px.area(\n",
    "    change_df,\n",
    "    title=f\"Changes Across Tags for {os.path.basename(os.path.dirname(repo.common_dir))}\",\n",
    "    x=\"Name\",\n",
    "    y=list(change_name.values()),\n",
    "    labels=[\"Added\", \"Deleted\", \"Modified\", \"Removed\"],\n",
    "    hover_name=\"Name\",\n",
    "    hover_data=[\"Date\"],\n",
    ")\n",
    "figure.show()"
   ],
   "metadata": {
    "collapsed": false,
    "ExecuteTime": {
     "end_time": "2024-08-08T18:02:29.979747Z",
     "start_time": "2024-08-08T18:02:29.942426Z"
    }
   },
   "id": "7ed181e9b78e0b6a",
   "execution_count": 129
  }
 ],
 "metadata": {
  "kernelspec": {
   "display_name": "miner-kernel",
   "language": "python",
   "name": "miner-kernel"
  },
  "language_info": {
   "codemirror_mode": {
    "name": "ipython",
    "version": 3
   },
   "file_extension": ".py",
   "mimetype": "text/x-python",
   "name": "python",
   "nbconvert_exporter": "python",
   "pygments_lexer": "ipython3",
   "version": "3.11.9"
  }
 },
 "nbformat": 4,
 "nbformat_minor": 5
}
