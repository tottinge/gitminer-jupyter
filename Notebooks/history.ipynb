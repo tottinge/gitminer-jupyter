{
 "cells": [
  {
   "cell_type": "markdown",
   "source": [
    "# Try to recreate the history of a git repo\n",
    "Attach nodes together in networkx\n",
    "Try to get them to form vertical lines with merges and splits"
   ],
   "metadata": {
    "collapsed": false
   },
   "id": "19e785d1fba95eba"
  },
  {
   "cell_type": "code",
   "outputs": [],
   "source": [
    "from datetime import datetime, timedelta\n",
    "\n",
    "import git\n",
    "import networkx as nx\n",
    "\n",
    "repo = git.Repo(\"../../ClassDojo/api\", search_parent_directories=True)\n",
    "days_thirty = datetime.today().astimezone() - timedelta(days=30)\n",
    "\n",
    "graph = nx.Graph()"
   ],
   "metadata": {
    "collapsed": false,
    "ExecuteTime": {
     "end_time": "2024-09-02T19:22:38.010060Z",
     "start_time": "2024-09-02T19:22:37.864744Z"
    }
   },
   "id": "44c187f5af68ac93",
   "execution_count": 1
  },
  {
   "cell_type": "markdown",
   "source": [
    "# Hold on... hard way here\n",
    "for commit in repo.iter_commits():\n",
    "    if commit.committed_datetime >= days_thirty:\n",
    "        for parent in commit.iter_parents():\n",
    "            graph.add_edge(commit, parent)"
   ],
   "metadata": {
    "collapsed": false
   },
   "id": "f3212faa09201f53"
  },
  {
   "cell_type": "code",
   "outputs": [
    {
     "data": {
      "text/plain": "32060196"
     },
     "execution_count": 2,
     "metadata": {},
     "output_type": "execute_result"
    }
   ],
   "source": [
    "# Let's try this in a measured way...\n",
    "recent_commits = (\n",
    "    commit for commit in repo.iter_commits()\n",
    "    if commit.committed_datetime >= days_thirty\n",
    ")\n",
    "pairs = (\n",
    "    (commit, parent)\n",
    "    for commit in recent_commits\n",
    "    for parent in commit.iter_parents()\n",
    ")\n",
    "len(list(pairs))\n"
   ],
   "metadata": {
    "collapsed": false,
    "ExecuteTime": {
     "end_time": "2024-09-02T19:28:14.902305Z",
     "start_time": "2024-09-02T19:22:38.010877Z"
    }
   },
   "id": "1c85babe5c95928c",
   "execution_count": 2
  }
 ],
 "metadata": {
  "kernelspec": {
   "display_name": "Python 3",
   "language": "python",
   "name": "python3"
  },
  "language_info": {
   "codemirror_mode": {
    "name": "ipython",
    "version": 2
   },
   "file_extension": ".py",
   "mimetype": "text/x-python",
   "name": "python",
   "nbconvert_exporter": "python",
   "pygments_lexer": "ipython2",
   "version": "2.7.6"
  }
 },
 "nbformat": 4,
 "nbformat_minor": 5
}
