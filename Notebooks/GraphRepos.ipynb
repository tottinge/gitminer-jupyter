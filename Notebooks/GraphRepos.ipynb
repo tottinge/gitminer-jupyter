{
 "cells": [
  {
   "cell_type": "code",
   "execution_count": 159,
   "id": "a55012cd",
   "metadata": {},
   "outputs": [],
   "source": [
    "import os\n",
    "from datetime import datetime, timedelta\n",
    "\n",
    "import git\n",
    "import pandas as pd\n",
    "import plotly.express as px"
   ]
  },
  {
   "cell_type": "markdown",
   "id": "932b9e73",
   "metadata": {},
   "source": [
    "# here it's good to get our bearings"
   ]
  },
  {
   "cell_type": "code",
   "execution_count": 160,
   "id": "da1d5a1c",
   "metadata": {},
   "outputs": [],
   "source": [
    "os.getcwd()"
   ]
  },
  {
   "cell_type": "markdown",
   "id": "fafdac5a",
   "metadata": {},
   "source": [
    "# read a repository to graph"
   ]
  },
  {
   "cell_type": "code",
   "execution_count": 161,
   "id": "752ad867",
   "metadata": {},
   "outputs": [],
   "source": [
    "def create_tag_interval_df(repo: git.Repo, since: datetime) -> pd.DataFrame:\n",
    "    source = ((tag_ref.name, tag_ref.commit.authored_datetime) for tag_ref in repo.tags)\n",
    "    raw_df = pd.DataFrame(data=source, columns=[\"name\", \"timestamp\"])\n",
    "    if raw_df.empty:\n",
    "        return raw_df\n",
    "    raw_df[\"timestamp\"] = pd.to_datetime(raw_df[\"timestamp\"])\n",
    "    sorted_df = raw_df.sort_values(by=[\"timestamp\"])\n",
    "    graph_df = sorted_df[sorted_df['timestamp'] > since].copy()\n",
    "    graph_df['interval'] = graph_df['timestamp'].diff()\n",
    "    return graph_df\n",
    "\n",
    "\n",
    "print(\"Okay\")"
   ]
  },
  {
   "cell_type": "markdown",
   "id": "284ee25c",
   "metadata": {},
   "source": [
    "we will need to generate a dataframe for the tags, with label and timestamp"
   ]
  },
  {
   "cell_type": "markdown",
   "id": "e4158e7e",
   "metadata": {},
   "source": [
    "Let's filter this down to the given date and later"
   ]
  },
  {
   "cell_type": "code",
   "execution_count": 162,
   "id": "82d777c5",
   "metadata": {},
   "outputs": [],
   "source": [
    "repo = git.Repo(\"/Users/timottinger/Projects/siemens-wfx\")\n",
    "start_date = datetime.today().astimezone() - timedelta(days=60)\n",
    "graph_df = create_tag_interval_df(repo, start_date)\n",
    "graph_df"
   ]
  },
  {
   "cell_type": "markdown",
   "id": "67b6eb62",
   "metadata": {},
   "source": [
    "This should give us something to work with"
   ]
  },
  {
   "cell_type": "code",
   "execution_count": 163,
   "id": "6a4f5d7d",
   "metadata": {
    "scrolled": false
   },
   "outputs": [],
   "source": [
    "figure = px.bar(graph_df, x=\"timestamp\", y=\"interval\", title='Release Delay')\n",
    "figure.show()\n"
   ]
  },
  {
   "cell_type": "code",
   "execution_count": 164,
   "id": "63ec6eb7",
   "metadata": {},
   "outputs": [],
   "source": [
    "earlier_label = graph_df.iloc[0]['name']\n",
    "diffcounts = []\n",
    "for index, data in graph_df.iterrows():\n",
    "    current_label = data['name']\n",
    "    diffs = repo.commit(earlier_label).diff(current_label)\n",
    "    diffcounts.append(len(diffs))\n",
    "    earlier_label = current_label\n",
    "\n",
    "diffcounts\n"
   ]
  },
  {
   "cell_type": "code",
   "execution_count": 165,
   "id": "deb44fdc",
   "metadata": {},
   "outputs": [],
   "source": [
    "graph_df['timestamp'] = pd.to_datetime(graph_df['timestamp'], utc=True)"
   ]
  },
  {
   "cell_type": "code",
   "execution_count": null,
   "id": "14d7c18c",
   "metadata": {},
   "outputs": [],
   "source": [
    "graph_df['diff_counts'] = diffcounts"
   ]
  },
  {
   "cell_type": "code",
   "execution_count": null,
   "id": "575c7bc6",
   "metadata": {},
   "outputs": [],
   "source": [
    "graph_df"
   ]
  },
  {
   "cell_type": "code",
   "execution_count": null,
   "id": "81248fe3",
   "metadata": {
    "scrolled": true
   },
   "outputs": [],
   "source": [
    "figure = px.scatter(\n",
    "    graph_df.iloc[-25:],\n",
    "    x=\"timestamp\",\n",
    "    y=\"diff_counts\",\n",
    "    size=\"diff_counts\",\n",
    "    color=\"diff_counts\",\n",
    "    title='Release Size and Frequency',\n",
    "    hover_data=[\"timestamp\", \"name\", \"interval\"]\n",
    ")\n",
    "figure.update_layout(autosize=True)\n",
    "figure.update_traces(mode=\"markers+lines\")\n",
    "figure.show()"
   ]
  },
  {
   "cell_type": "code",
   "execution_count": null,
   "id": "526a9b43",
   "metadata": {},
   "outputs": [],
   "source": [
    "dir(figure)"
   ]
  },
  {
   "cell_type": "code",
   "execution_count": null,
   "id": "bd0fd838",
   "metadata": {},
   "outputs": [],
   "source": [
    "hovertemplate = \"%{name}\"\n",
    "figure = px.line(\n",
    "    graph_df,\n",
    "    x=\"timestamp\",\n",
    "    y=\"diff_counts\",\n",
    "    title='Release Frequency and Size',\n",
    "    hover_name=\"name\",\n",
    "    markers=True\n",
    ")\n",
    "#figure.update_traces(mode=\"markers\")\n",
    "figure.update_layout(hovermode=\"x unified\")\n",
    "figure.show()"
   ]
  },
  {
   "cell_type": "code",
   "execution_count": null,
   "id": "5b2325db",
   "metadata": {},
   "outputs": [],
   "source": [
    "graph_df.info()\n"
   ]
  },
  {
   "cell_type": "code",
   "outputs": [],
   "source": [],
   "metadata": {
    "collapsed": false
   },
   "id": "14b74057f12b0350",
   "execution_count": null
  },
  {
   "cell_type": "markdown",
   "source": [],
   "metadata": {
    "collapsed": false
   },
   "id": "41be635c1499b579"
  },
  {
   "cell_type": "markdown",
   "source": [
    "Add a change-type stacked graph based on diffs.\n"
   ],
   "metadata": {
    "collapsed": false
   },
   "id": "f6e3ef544c3eeb24"
  },
  {
   "cell_type": "code",
   "outputs": [],
   "source": [
    "by_date = lambda x: x.commit.authored_datetime\n",
    "sorted_tags = sorted(repo.tags, key=by_date)"
   ],
   "metadata": {
    "collapsed": false
   },
   "id": "272bd672326ad0cc",
   "execution_count": null
  },
  {
   "cell_type": "code",
   "outputs": [],
   "source": [
    "\n",
    "last_20 = sorted_tags[-20:]\n",
    "for x in last_20:\n",
    "    print(by_date(x), x)\n"
   ],
   "metadata": {
    "collapsed": false
   },
   "id": "31cb96f4ed727592",
   "execution_count": null
  },
  {
   "cell_type": "code",
   "outputs": [],
   "source": [
    "\n",
    "start = last_20[0]\n",
    "start\n"
   ],
   "metadata": {
    "collapsed": false
   },
   "id": "b04f5b334edbd72",
   "execution_count": null
  },
  {
   "cell_type": "code",
   "outputs": [],
   "source": [
    "from collections import Counter\n",
    "\n",
    "change_name = {\n",
    "    \"A\": \"Files Added\",\n",
    "    \"D\": \"Files Deleted\",\n",
    "    \"R\": \"Files Renamed\",\n",
    "    \"M\": \"Files Modified\"\n",
    "}\n",
    "\n",
    "\n",
    "def change_series(start, last_20):\n",
    "    for tag in last_20:\n",
    "        diffs = start.commit.diff(tag.commit)\n",
    "        yield {\n",
    "            'Date': start.commit.committed_datetime.date(),\n",
    "            'Name': start.name,\n",
    "            **Counter(change_name[x.change_type] for x in diffs)\n",
    "        }\n",
    "        start = tag\n",
    "\n",
    "\n",
    "change_df = pd.DataFrame(change_series(start, last_20))\n",
    "change_df"
   ],
   "metadata": {
    "collapsed": false
   },
   "id": "99114d2321bbaa78",
   "execution_count": null
  },
  {
   "cell_type": "code",
   "outputs": [],
   "source": [
    "figure = px.bar(\n",
    "    change_df,\n",
    "    title=f\"Changes Across Tags for {os.path.basename(os.path.dirname(repo.common_dir))}\",\n",
    "    x=\"Name\",\n",
    "    y=list(change_name.values()),\n",
    "    labels=[\"Added\", \"Deleted\", \"Modified\", \"Removed\"],\n",
    "    hover_name=\"Name\",\n",
    "    hover_data=[\"Date\"],\n",
    "    text_auto='.2s'\n",
    ")\n",
    "figure.show()"
   ],
   "metadata": {
    "collapsed": false
   },
   "id": "5da5655644ad0118",
   "execution_count": null
  },
  {
   "cell_type": "code",
   "outputs": [],
   "source": [
    "figure = px.area(\n",
    "    change_df,\n",
    "    title=f\"Changes Across Tags for {os.path.basename(os.path.dirname(repo.common_dir))}\",\n",
    "    x=\"Name\",\n",
    "    y=list(change_name.values()),\n",
    "    labels=[\"Added\", \"Deleted\", \"Modified\", \"Removed\"],\n",
    "    hover_name=\"Name\",\n",
    "    hover_data=[\"Date\"],\n",
    ")\n",
    "figure.show()"
   ],
   "metadata": {
    "collapsed": false
   },
   "id": "7ed181e9b78e0b6a",
   "execution_count": null
  },
  {
   "cell_type": "code",
   "outputs": [],
   "source": [],
   "metadata": {
    "collapsed": false
   },
   "id": "205dd9013740707f"
  },
  {
   "cell_type": "code",
   "outputs": [],
   "source": [],
   "metadata": {
    "collapsed": false
   },
   "id": "7bb1f8c51f2b5183"
  },
  {
   "cell_type": "code",
   "outputs": [],
   "source": [],
   "metadata": {
    "collapsed": false
   },
   "id": "f5c0eb40ff846e04"
  }
 ],
 "metadata": {
  "kernelspec": {
   "display_name": "miner-kernel",
   "language": "python",
   "name": "miner-kernel"
  },
  "language_info": {
   "codemirror_mode": {
    "name": "ipython",
    "version": 3
   },
   "file_extension": ".py",
   "mimetype": "text/x-python",
   "name": "python",
   "nbconvert_exporter": "python",
   "pygments_lexer": "ipython3",
   "version": "3.11.9"
  }
 },
 "nbformat": 4,
 "nbformat_minor": 5
}
