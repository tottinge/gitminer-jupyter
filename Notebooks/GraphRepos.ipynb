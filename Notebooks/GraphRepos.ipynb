{
 "cells": [
  {
   "cell_type": "code",
   "execution_count": 1,
   "id": "a55012cd",
   "metadata": {
    "ExecuteTime": {
     "end_time": "2024-08-27T14:16:22.363748Z",
     "start_time": "2024-08-27T14:16:22.016464Z"
    }
   },
   "outputs": [],
   "source": [
    "import os\n",
    "from datetime import datetime, timedelta\n",
    "from os.path import dirname, basename\n",
    "\n",
    "import git\n",
    "import pandas as pd\n",
    "import plotly.express as px"
   ]
  },
  {
   "cell_type": "markdown",
   "id": "932b9e73",
   "metadata": {},
   "source": [
    "# here it's good to get our bearings"
   ]
  },
  {
   "cell_type": "code",
   "execution_count": 2,
   "id": "da1d5a1c",
   "metadata": {
    "ExecuteTime": {
     "end_time": "2024-08-27T14:16:22.367537Z",
     "start_time": "2024-08-27T14:16:22.364794Z"
    }
   },
   "outputs": [
    {
     "data": {
      "text/plain": "'/Users/timottinger/Projects/gitminer-jupyter/Notebooks'"
     },
     "execution_count": 2,
     "metadata": {},
     "output_type": "execute_result"
    }
   ],
   "source": [
    "os.getcwd()"
   ]
  },
  {
   "cell_type": "markdown",
   "source": [
    "# read a repository to graph"
   ],
   "metadata": {},
   "id": "fafdac5a"
  },
  {
   "cell_type": "code",
   "outputs": [],
   "source": [
    "wfx = \"/Users/timottinger/Projects/siemens-wfx\"\n",
    "goreleaser = \"/Users/timottinger/Projects/goreleaser\"\n",
    "android = \"../../ClassDojo/dojo-android\"\n",
    "repo = git.Repo(android)"
   ],
   "metadata": {
    "collapsed": false,
    "ExecuteTime": {
     "end_time": "2024-08-27T14:16:22.377936Z",
     "start_time": "2024-08-27T14:16:22.368483Z"
    }
   },
   "id": "32056aa3b89ef992",
   "execution_count": 3
  },
  {
   "cell_type": "code",
   "outputs": [],
   "source": [
    "repo_title = basename(dirname(repo.common_dir))"
   ],
   "metadata": {
    "collapsed": false,
    "ExecuteTime": {
     "end_time": "2024-08-27T14:16:22.380753Z",
     "start_time": "2024-08-27T14:16:22.378603Z"
    }
   },
   "id": "c54dbb3ed1110aeb",
   "execution_count": 4
  },
  {
   "cell_type": "code",
   "outputs": [
    {
     "name": "stdout",
     "output_type": "stream",
     "text": [
      "Okay\n"
     ]
    }
   ],
   "source": [
    "def create_tag_interval_df(repo: git.Repo, since: datetime) -> pd.DataFrame:\n",
    "    source = ((tag_ref.name, tag_ref.commit.authored_datetime) for tag_ref in repo.tags)\n",
    "    raw_df = pd.DataFrame(data=source, columns=[\"name\", \"timestamp\"])\n",
    "    if raw_df.empty:\n",
    "        return raw_df\n",
    "    raw_df[\"timestamp\"] = pd.to_datetime(raw_df[\"timestamp\"], utc=True)\n",
    "    sorted_df = raw_df.sort_values(by=[\"timestamp\"])\n",
    "    graph_df = sorted_df[sorted_df['timestamp'] > since].copy()\n",
    "    graph_df['interval'] = graph_df['timestamp'].diff()\n",
    "    return graph_df\n",
    "\n",
    "\n",
    "print(\"Okay\")"
   ],
   "metadata": {
    "ExecuteTime": {
     "end_time": "2024-08-27T14:16:22.383618Z",
     "start_time": "2024-08-27T14:16:22.381744Z"
    }
   },
   "id": "752ad867",
   "execution_count": 5
  },
  {
   "cell_type": "markdown",
   "source": [
    "we will need to generate a dataframe for the tags, with label and timestamp"
   ],
   "metadata": {},
   "id": "284ee25c"
  },
  {
   "cell_type": "markdown",
   "source": [
    "Let's filter this down to the given date and later"
   ],
   "metadata": {},
   "id": "e4158e7e"
  },
  {
   "cell_type": "code",
   "outputs": [
    {
     "data": {
      "text/plain": "                                 name                 timestamp  \\\n869                           v6.40.0 2024-06-28 19:35:31+00:00   \n871                           v6.41.0 2024-07-04 08:15:36+00:00   \n873                           v6.42.0 2024-07-08 21:07:37+00:00   \n875                           v6.43.0 2024-07-12 11:26:56+00:00   \n876             v6.43.0-codepush.v148 2024-07-12 14:46:17+00:00   \n878                           v6.44.0 2024-07-12 22:21:18+00:00   \n881                           v6.45.0 2024-07-19 15:25:11+00:00   \n884                           v6.46.0 2024-07-26 17:42:25+00:00   \n882             v6.45.0-codepush.v149 2024-07-31 22:50:09+00:00   \n879             v6.44.0-codepush.v150 2024-07-31 22:50:09+00:00   \n886                           v6.47.0 2024-08-02 13:33:20+00:00   \n885             v6.46.0-codepush.v167 2024-08-02 20:54:32+00:00   \n887             v6.47.0-codepush.v151 2024-08-02 22:26:19+00:00   \n889                           v6.48.0 2024-08-05 10:55:55+00:00   \n893                           v6.49.0 2024-08-07 13:53:38+00:00   \n894             v6.49.0-codepush.v152 2024-08-08 20:32:52+00:00   \n896                           v6.50.0 2024-08-09 09:31:18+00:00   \n877             v6.43.0-codepush.v165 2024-08-09 12:56:20+00:00   \n883             v6.45.0-codepush.v168 2024-08-09 12:56:20+00:00   \n899             v6.50.0-codepush.v163 2024-08-09 12:56:20+00:00   \n874             v6.42.0-codepush.v161 2024-08-09 12:56:20+00:00   \n895             v6.49.0-codepush.v163 2024-08-09 12:56:20+00:00   \n888             v6.47.0-codepush.v165 2024-08-09 12:56:20+00:00   \n891             v6.48.0-codepush.v162 2024-08-09 12:56:20+00:00   \n880             v6.44.0-codepush.v167 2024-08-09 12:56:20+00:00   \n897             v6.50.0-codepush.v153 2024-08-09 18:29:27+00:00   \n898             v6.50.0-codepush.v154 2024-08-12 00:46:10+00:00   \n890             v6.48.0-codepush.v155 2024-08-12 00:46:10+00:00   \n902             v6.50.0-codepush.v172 2024-08-12 19:19:36+00:00   \n393  production/v6.37.0-codepush.v156 2024-08-13 00:46:30+00:00   \n872             v6.41.0-codepush.v160 2024-08-13 00:57:50+00:00   \n870             v6.40.0-codepush.v160 2024-08-13 00:57:50+00:00   \n868             v6.39.0-codepush.v158 2024-08-13 00:57:50+00:00   \n396  production/v6.38.0-codepush.v157 2024-08-13 00:57:50+00:00   \n900             v6.50.0-codepush.v170 2024-08-13 18:58:05+00:00   \n892             v6.48.0-codepush.v169 2024-08-13 18:58:05+00:00   \n901             v6.50.0-codepush.v171 2024-08-13 22:33:37+00:00   \n903                           v6.51.0 2024-08-14 02:20:51+00:00   \n904                           v6.52.0 2024-08-14 18:34:39+00:00   \n905                           v6.53.0 2024-08-16 09:06:29+00:00   \n\n           interval  \n869             NaT  \n871 5 days 12:40:05  \n873 4 days 12:52:01  \n875 3 days 14:19:19  \n876 0 days 03:19:21  \n878 0 days 07:35:01  \n881 6 days 17:03:53  \n884 7 days 02:17:14  \n882 5 days 05:07:44  \n879 0 days 00:00:00  \n886 1 days 14:43:11  \n885 0 days 07:21:12  \n887 0 days 01:31:47  \n889 2 days 12:29:36  \n893 2 days 02:57:43  \n894 1 days 06:39:14  \n896 0 days 12:58:26  \n877 0 days 03:25:02  \n883 0 days 00:00:00  \n899 0 days 00:00:00  \n874 0 days 00:00:00  \n895 0 days 00:00:00  \n888 0 days 00:00:00  \n891 0 days 00:00:00  \n880 0 days 00:00:00  \n897 0 days 05:33:07  \n898 2 days 06:16:43  \n890 0 days 00:00:00  \n902 0 days 18:33:26  \n393 0 days 05:26:54  \n872 0 days 00:11:20  \n870 0 days 00:00:00  \n868 0 days 00:00:00  \n396 0 days 00:00:00  \n900 0 days 18:00:15  \n892 0 days 00:00:00  \n901 0 days 03:35:32  \n903 0 days 03:47:14  \n904 0 days 16:13:48  \n905 1 days 14:31:50  ",
      "text/html": "<div>\n<style scoped>\n    .dataframe tbody tr th:only-of-type {\n        vertical-align: middle;\n    }\n\n    .dataframe tbody tr th {\n        vertical-align: top;\n    }\n\n    .dataframe thead th {\n        text-align: right;\n    }\n</style>\n<table border=\"1\" class=\"dataframe\">\n  <thead>\n    <tr style=\"text-align: right;\">\n      <th></th>\n      <th>name</th>\n      <th>timestamp</th>\n      <th>interval</th>\n    </tr>\n  </thead>\n  <tbody>\n    <tr>\n      <th>869</th>\n      <td>v6.40.0</td>\n      <td>2024-06-28 19:35:31+00:00</td>\n      <td>NaT</td>\n    </tr>\n    <tr>\n      <th>871</th>\n      <td>v6.41.0</td>\n      <td>2024-07-04 08:15:36+00:00</td>\n      <td>5 days 12:40:05</td>\n    </tr>\n    <tr>\n      <th>873</th>\n      <td>v6.42.0</td>\n      <td>2024-07-08 21:07:37+00:00</td>\n      <td>4 days 12:52:01</td>\n    </tr>\n    <tr>\n      <th>875</th>\n      <td>v6.43.0</td>\n      <td>2024-07-12 11:26:56+00:00</td>\n      <td>3 days 14:19:19</td>\n    </tr>\n    <tr>\n      <th>876</th>\n      <td>v6.43.0-codepush.v148</td>\n      <td>2024-07-12 14:46:17+00:00</td>\n      <td>0 days 03:19:21</td>\n    </tr>\n    <tr>\n      <th>878</th>\n      <td>v6.44.0</td>\n      <td>2024-07-12 22:21:18+00:00</td>\n      <td>0 days 07:35:01</td>\n    </tr>\n    <tr>\n      <th>881</th>\n      <td>v6.45.0</td>\n      <td>2024-07-19 15:25:11+00:00</td>\n      <td>6 days 17:03:53</td>\n    </tr>\n    <tr>\n      <th>884</th>\n      <td>v6.46.0</td>\n      <td>2024-07-26 17:42:25+00:00</td>\n      <td>7 days 02:17:14</td>\n    </tr>\n    <tr>\n      <th>882</th>\n      <td>v6.45.0-codepush.v149</td>\n      <td>2024-07-31 22:50:09+00:00</td>\n      <td>5 days 05:07:44</td>\n    </tr>\n    <tr>\n      <th>879</th>\n      <td>v6.44.0-codepush.v150</td>\n      <td>2024-07-31 22:50:09+00:00</td>\n      <td>0 days 00:00:00</td>\n    </tr>\n    <tr>\n      <th>886</th>\n      <td>v6.47.0</td>\n      <td>2024-08-02 13:33:20+00:00</td>\n      <td>1 days 14:43:11</td>\n    </tr>\n    <tr>\n      <th>885</th>\n      <td>v6.46.0-codepush.v167</td>\n      <td>2024-08-02 20:54:32+00:00</td>\n      <td>0 days 07:21:12</td>\n    </tr>\n    <tr>\n      <th>887</th>\n      <td>v6.47.0-codepush.v151</td>\n      <td>2024-08-02 22:26:19+00:00</td>\n      <td>0 days 01:31:47</td>\n    </tr>\n    <tr>\n      <th>889</th>\n      <td>v6.48.0</td>\n      <td>2024-08-05 10:55:55+00:00</td>\n      <td>2 days 12:29:36</td>\n    </tr>\n    <tr>\n      <th>893</th>\n      <td>v6.49.0</td>\n      <td>2024-08-07 13:53:38+00:00</td>\n      <td>2 days 02:57:43</td>\n    </tr>\n    <tr>\n      <th>894</th>\n      <td>v6.49.0-codepush.v152</td>\n      <td>2024-08-08 20:32:52+00:00</td>\n      <td>1 days 06:39:14</td>\n    </tr>\n    <tr>\n      <th>896</th>\n      <td>v6.50.0</td>\n      <td>2024-08-09 09:31:18+00:00</td>\n      <td>0 days 12:58:26</td>\n    </tr>\n    <tr>\n      <th>877</th>\n      <td>v6.43.0-codepush.v165</td>\n      <td>2024-08-09 12:56:20+00:00</td>\n      <td>0 days 03:25:02</td>\n    </tr>\n    <tr>\n      <th>883</th>\n      <td>v6.45.0-codepush.v168</td>\n      <td>2024-08-09 12:56:20+00:00</td>\n      <td>0 days 00:00:00</td>\n    </tr>\n    <tr>\n      <th>899</th>\n      <td>v6.50.0-codepush.v163</td>\n      <td>2024-08-09 12:56:20+00:00</td>\n      <td>0 days 00:00:00</td>\n    </tr>\n    <tr>\n      <th>874</th>\n      <td>v6.42.0-codepush.v161</td>\n      <td>2024-08-09 12:56:20+00:00</td>\n      <td>0 days 00:00:00</td>\n    </tr>\n    <tr>\n      <th>895</th>\n      <td>v6.49.0-codepush.v163</td>\n      <td>2024-08-09 12:56:20+00:00</td>\n      <td>0 days 00:00:00</td>\n    </tr>\n    <tr>\n      <th>888</th>\n      <td>v6.47.0-codepush.v165</td>\n      <td>2024-08-09 12:56:20+00:00</td>\n      <td>0 days 00:00:00</td>\n    </tr>\n    <tr>\n      <th>891</th>\n      <td>v6.48.0-codepush.v162</td>\n      <td>2024-08-09 12:56:20+00:00</td>\n      <td>0 days 00:00:00</td>\n    </tr>\n    <tr>\n      <th>880</th>\n      <td>v6.44.0-codepush.v167</td>\n      <td>2024-08-09 12:56:20+00:00</td>\n      <td>0 days 00:00:00</td>\n    </tr>\n    <tr>\n      <th>897</th>\n      <td>v6.50.0-codepush.v153</td>\n      <td>2024-08-09 18:29:27+00:00</td>\n      <td>0 days 05:33:07</td>\n    </tr>\n    <tr>\n      <th>898</th>\n      <td>v6.50.0-codepush.v154</td>\n      <td>2024-08-12 00:46:10+00:00</td>\n      <td>2 days 06:16:43</td>\n    </tr>\n    <tr>\n      <th>890</th>\n      <td>v6.48.0-codepush.v155</td>\n      <td>2024-08-12 00:46:10+00:00</td>\n      <td>0 days 00:00:00</td>\n    </tr>\n    <tr>\n      <th>902</th>\n      <td>v6.50.0-codepush.v172</td>\n      <td>2024-08-12 19:19:36+00:00</td>\n      <td>0 days 18:33:26</td>\n    </tr>\n    <tr>\n      <th>393</th>\n      <td>production/v6.37.0-codepush.v156</td>\n      <td>2024-08-13 00:46:30+00:00</td>\n      <td>0 days 05:26:54</td>\n    </tr>\n    <tr>\n      <th>872</th>\n      <td>v6.41.0-codepush.v160</td>\n      <td>2024-08-13 00:57:50+00:00</td>\n      <td>0 days 00:11:20</td>\n    </tr>\n    <tr>\n      <th>870</th>\n      <td>v6.40.0-codepush.v160</td>\n      <td>2024-08-13 00:57:50+00:00</td>\n      <td>0 days 00:00:00</td>\n    </tr>\n    <tr>\n      <th>868</th>\n      <td>v6.39.0-codepush.v158</td>\n      <td>2024-08-13 00:57:50+00:00</td>\n      <td>0 days 00:00:00</td>\n    </tr>\n    <tr>\n      <th>396</th>\n      <td>production/v6.38.0-codepush.v157</td>\n      <td>2024-08-13 00:57:50+00:00</td>\n      <td>0 days 00:00:00</td>\n    </tr>\n    <tr>\n      <th>900</th>\n      <td>v6.50.0-codepush.v170</td>\n      <td>2024-08-13 18:58:05+00:00</td>\n      <td>0 days 18:00:15</td>\n    </tr>\n    <tr>\n      <th>892</th>\n      <td>v6.48.0-codepush.v169</td>\n      <td>2024-08-13 18:58:05+00:00</td>\n      <td>0 days 00:00:00</td>\n    </tr>\n    <tr>\n      <th>901</th>\n      <td>v6.50.0-codepush.v171</td>\n      <td>2024-08-13 22:33:37+00:00</td>\n      <td>0 days 03:35:32</td>\n    </tr>\n    <tr>\n      <th>903</th>\n      <td>v6.51.0</td>\n      <td>2024-08-14 02:20:51+00:00</td>\n      <td>0 days 03:47:14</td>\n    </tr>\n    <tr>\n      <th>904</th>\n      <td>v6.52.0</td>\n      <td>2024-08-14 18:34:39+00:00</td>\n      <td>0 days 16:13:48</td>\n    </tr>\n    <tr>\n      <th>905</th>\n      <td>v6.53.0</td>\n      <td>2024-08-16 09:06:29+00:00</td>\n      <td>1 days 14:31:50</td>\n    </tr>\n  </tbody>\n</table>\n</div>"
     },
     "execution_count": 6,
     "metadata": {},
     "output_type": "execute_result"
    }
   ],
   "source": [
    "\n",
    "start_date = datetime.today().astimezone() - timedelta(days=60)\n",
    "graph_df = create_tag_interval_df(repo, start_date)\n",
    "graph_df"
   ],
   "metadata": {
    "ExecuteTime": {
     "end_time": "2024-08-27T14:16:22.825624Z",
     "start_time": "2024-08-27T14:16:22.384030Z"
    }
   },
   "id": "82d777c5",
   "execution_count": 6
  },
  {
   "cell_type": "markdown",
   "id": "67b6eb62",
   "metadata": {},
   "source": [
    "This should give us something to work with"
   ]
  },
  {
   "cell_type": "code",
   "execution_count": 22,
   "id": "6a4f5d7d",
   "metadata": {
    "scrolled": false,
    "ExecuteTime": {
     "end_time": "2024-08-27T14:16:55.162726Z",
     "start_time": "2024-08-27T14:16:55.159387Z"
    }
   },
   "outputs": [
    {
     "data": {
      "application/vnd.plotly.v1+json": {
       "data": [
        {
         "alignmentgroup": "True",
         "hovertemplate": "timestamp=%{x}<br>interval=%{y}<extra></extra>",
         "legendgroup": "",
         "marker": {
          "color": "#636efa",
          "pattern": {
           "shape": ""
          }
         },
         "name": "",
         "offsetgroup": "",
         "orientation": "v",
         "showlegend": false,
         "textposition": "auto",
         "x": [
          "2024-06-28T19:35:31+00:00",
          "2024-07-04T08:15:36+00:00",
          "2024-07-08T21:07:37+00:00",
          "2024-07-12T11:26:56+00:00",
          "2024-07-12T14:46:17+00:00",
          "2024-07-12T22:21:18+00:00",
          "2024-07-19T15:25:11+00:00",
          "2024-07-26T17:42:25+00:00",
          "2024-07-31T22:50:09+00:00",
          "2024-07-31T22:50:09+00:00",
          "2024-08-02T13:33:20+00:00",
          "2024-08-02T20:54:32+00:00",
          "2024-08-02T22:26:19+00:00",
          "2024-08-05T10:55:55+00:00",
          "2024-08-07T13:53:38+00:00",
          "2024-08-08T20:32:52+00:00",
          "2024-08-09T09:31:18+00:00",
          "2024-08-09T12:56:20+00:00",
          "2024-08-09T12:56:20+00:00",
          "2024-08-09T12:56:20+00:00",
          "2024-08-09T12:56:20+00:00",
          "2024-08-09T12:56:20+00:00",
          "2024-08-09T12:56:20+00:00",
          "2024-08-09T12:56:20+00:00",
          "2024-08-09T12:56:20+00:00",
          "2024-08-09T18:29:27+00:00",
          "2024-08-12T00:46:10+00:00",
          "2024-08-12T00:46:10+00:00",
          "2024-08-12T19:19:36+00:00",
          "2024-08-13T00:46:30+00:00",
          "2024-08-13T00:57:50+00:00",
          "2024-08-13T00:57:50+00:00",
          "2024-08-13T00:57:50+00:00",
          "2024-08-13T00:57:50+00:00",
          "2024-08-13T18:58:05+00:00",
          "2024-08-13T18:58:05+00:00",
          "2024-08-13T22:33:37+00:00",
          "2024-08-14T02:20:51+00:00",
          "2024-08-14T18:34:39+00:00",
          "2024-08-16T09:06:29+00:00"
         ],
         "xaxis": "x",
         "y": [
          null,
          477605000000000,
          391921000000000,
          310759000000000,
          11961000000000,
          27301000000000,
          579833000000000,
          613034000000000,
          450464000000000,
          0,
          139391000000000,
          26472000000000,
          5507000000000,
          217776000000000,
          183463000000000,
          110354000000000,
          46706000000000,
          12302000000000,
          0,
          0,
          0,
          0,
          0,
          0,
          0,
          19987000000000,
          195403000000000,
          0,
          66806000000000,
          19614000000000,
          680000000000,
          0,
          0,
          0,
          64815000000000,
          0,
          12932000000000,
          13634000000000,
          58428000000000,
          138710000000000
         ],
         "yaxis": "y",
         "type": "bar"
        }
       ],
       "layout": {
        "template": {
         "data": {
          "histogram2dcontour": [
           {
            "type": "histogram2dcontour",
            "colorbar": {
             "outlinewidth": 0,
             "ticks": ""
            },
            "colorscale": [
             [
              0.0,
              "#0d0887"
             ],
             [
              0.1111111111111111,
              "#46039f"
             ],
             [
              0.2222222222222222,
              "#7201a8"
             ],
             [
              0.3333333333333333,
              "#9c179e"
             ],
             [
              0.4444444444444444,
              "#bd3786"
             ],
             [
              0.5555555555555556,
              "#d8576b"
             ],
             [
              0.6666666666666666,
              "#ed7953"
             ],
             [
              0.7777777777777778,
              "#fb9f3a"
             ],
             [
              0.8888888888888888,
              "#fdca26"
             ],
             [
              1.0,
              "#f0f921"
             ]
            ]
           }
          ],
          "choropleth": [
           {
            "type": "choropleth",
            "colorbar": {
             "outlinewidth": 0,
             "ticks": ""
            }
           }
          ],
          "histogram2d": [
           {
            "type": "histogram2d",
            "colorbar": {
             "outlinewidth": 0,
             "ticks": ""
            },
            "colorscale": [
             [
              0.0,
              "#0d0887"
             ],
             [
              0.1111111111111111,
              "#46039f"
             ],
             [
              0.2222222222222222,
              "#7201a8"
             ],
             [
              0.3333333333333333,
              "#9c179e"
             ],
             [
              0.4444444444444444,
              "#bd3786"
             ],
             [
              0.5555555555555556,
              "#d8576b"
             ],
             [
              0.6666666666666666,
              "#ed7953"
             ],
             [
              0.7777777777777778,
              "#fb9f3a"
             ],
             [
              0.8888888888888888,
              "#fdca26"
             ],
             [
              1.0,
              "#f0f921"
             ]
            ]
           }
          ],
          "heatmap": [
           {
            "type": "heatmap",
            "colorbar": {
             "outlinewidth": 0,
             "ticks": ""
            },
            "colorscale": [
             [
              0.0,
              "#0d0887"
             ],
             [
              0.1111111111111111,
              "#46039f"
             ],
             [
              0.2222222222222222,
              "#7201a8"
             ],
             [
              0.3333333333333333,
              "#9c179e"
             ],
             [
              0.4444444444444444,
              "#bd3786"
             ],
             [
              0.5555555555555556,
              "#d8576b"
             ],
             [
              0.6666666666666666,
              "#ed7953"
             ],
             [
              0.7777777777777778,
              "#fb9f3a"
             ],
             [
              0.8888888888888888,
              "#fdca26"
             ],
             [
              1.0,
              "#f0f921"
             ]
            ]
           }
          ],
          "heatmapgl": [
           {
            "type": "heatmapgl",
            "colorbar": {
             "outlinewidth": 0,
             "ticks": ""
            },
            "colorscale": [
             [
              0.0,
              "#0d0887"
             ],
             [
              0.1111111111111111,
              "#46039f"
             ],
             [
              0.2222222222222222,
              "#7201a8"
             ],
             [
              0.3333333333333333,
              "#9c179e"
             ],
             [
              0.4444444444444444,
              "#bd3786"
             ],
             [
              0.5555555555555556,
              "#d8576b"
             ],
             [
              0.6666666666666666,
              "#ed7953"
             ],
             [
              0.7777777777777778,
              "#fb9f3a"
             ],
             [
              0.8888888888888888,
              "#fdca26"
             ],
             [
              1.0,
              "#f0f921"
             ]
            ]
           }
          ],
          "contourcarpet": [
           {
            "type": "contourcarpet",
            "colorbar": {
             "outlinewidth": 0,
             "ticks": ""
            }
           }
          ],
          "contour": [
           {
            "type": "contour",
            "colorbar": {
             "outlinewidth": 0,
             "ticks": ""
            },
            "colorscale": [
             [
              0.0,
              "#0d0887"
             ],
             [
              0.1111111111111111,
              "#46039f"
             ],
             [
              0.2222222222222222,
              "#7201a8"
             ],
             [
              0.3333333333333333,
              "#9c179e"
             ],
             [
              0.4444444444444444,
              "#bd3786"
             ],
             [
              0.5555555555555556,
              "#d8576b"
             ],
             [
              0.6666666666666666,
              "#ed7953"
             ],
             [
              0.7777777777777778,
              "#fb9f3a"
             ],
             [
              0.8888888888888888,
              "#fdca26"
             ],
             [
              1.0,
              "#f0f921"
             ]
            ]
           }
          ],
          "surface": [
           {
            "type": "surface",
            "colorbar": {
             "outlinewidth": 0,
             "ticks": ""
            },
            "colorscale": [
             [
              0.0,
              "#0d0887"
             ],
             [
              0.1111111111111111,
              "#46039f"
             ],
             [
              0.2222222222222222,
              "#7201a8"
             ],
             [
              0.3333333333333333,
              "#9c179e"
             ],
             [
              0.4444444444444444,
              "#bd3786"
             ],
             [
              0.5555555555555556,
              "#d8576b"
             ],
             [
              0.6666666666666666,
              "#ed7953"
             ],
             [
              0.7777777777777778,
              "#fb9f3a"
             ],
             [
              0.8888888888888888,
              "#fdca26"
             ],
             [
              1.0,
              "#f0f921"
             ]
            ]
           }
          ],
          "mesh3d": [
           {
            "type": "mesh3d",
            "colorbar": {
             "outlinewidth": 0,
             "ticks": ""
            }
           }
          ],
          "scatter": [
           {
            "fillpattern": {
             "fillmode": "overlay",
             "size": 10,
             "solidity": 0.2
            },
            "type": "scatter"
           }
          ],
          "parcoords": [
           {
            "type": "parcoords",
            "line": {
             "colorbar": {
              "outlinewidth": 0,
              "ticks": ""
             }
            }
           }
          ],
          "scatterpolargl": [
           {
            "type": "scatterpolargl",
            "marker": {
             "colorbar": {
              "outlinewidth": 0,
              "ticks": ""
             }
            }
           }
          ],
          "bar": [
           {
            "error_x": {
             "color": "#2a3f5f"
            },
            "error_y": {
             "color": "#2a3f5f"
            },
            "marker": {
             "line": {
              "color": "#E5ECF6",
              "width": 0.5
             },
             "pattern": {
              "fillmode": "overlay",
              "size": 10,
              "solidity": 0.2
             }
            },
            "type": "bar"
           }
          ],
          "scattergeo": [
           {
            "type": "scattergeo",
            "marker": {
             "colorbar": {
              "outlinewidth": 0,
              "ticks": ""
             }
            }
           }
          ],
          "scatterpolar": [
           {
            "type": "scatterpolar",
            "marker": {
             "colorbar": {
              "outlinewidth": 0,
              "ticks": ""
             }
            }
           }
          ],
          "histogram": [
           {
            "marker": {
             "pattern": {
              "fillmode": "overlay",
              "size": 10,
              "solidity": 0.2
             }
            },
            "type": "histogram"
           }
          ],
          "scattergl": [
           {
            "type": "scattergl",
            "marker": {
             "colorbar": {
              "outlinewidth": 0,
              "ticks": ""
             }
            }
           }
          ],
          "scatter3d": [
           {
            "type": "scatter3d",
            "line": {
             "colorbar": {
              "outlinewidth": 0,
              "ticks": ""
             }
            },
            "marker": {
             "colorbar": {
              "outlinewidth": 0,
              "ticks": ""
             }
            }
           }
          ],
          "scattermapbox": [
           {
            "type": "scattermapbox",
            "marker": {
             "colorbar": {
              "outlinewidth": 0,
              "ticks": ""
             }
            }
           }
          ],
          "scatterternary": [
           {
            "type": "scatterternary",
            "marker": {
             "colorbar": {
              "outlinewidth": 0,
              "ticks": ""
             }
            }
           }
          ],
          "scattercarpet": [
           {
            "type": "scattercarpet",
            "marker": {
             "colorbar": {
              "outlinewidth": 0,
              "ticks": ""
             }
            }
           }
          ],
          "carpet": [
           {
            "aaxis": {
             "endlinecolor": "#2a3f5f",
             "gridcolor": "white",
             "linecolor": "white",
             "minorgridcolor": "white",
             "startlinecolor": "#2a3f5f"
            },
            "baxis": {
             "endlinecolor": "#2a3f5f",
             "gridcolor": "white",
             "linecolor": "white",
             "minorgridcolor": "white",
             "startlinecolor": "#2a3f5f"
            },
            "type": "carpet"
           }
          ],
          "table": [
           {
            "cells": {
             "fill": {
              "color": "#EBF0F8"
             },
             "line": {
              "color": "white"
             }
            },
            "header": {
             "fill": {
              "color": "#C8D4E3"
             },
             "line": {
              "color": "white"
             }
            },
            "type": "table"
           }
          ],
          "barpolar": [
           {
            "marker": {
             "line": {
              "color": "#E5ECF6",
              "width": 0.5
             },
             "pattern": {
              "fillmode": "overlay",
              "size": 10,
              "solidity": 0.2
             }
            },
            "type": "barpolar"
           }
          ],
          "pie": [
           {
            "automargin": true,
            "type": "pie"
           }
          ]
         },
         "layout": {
          "autotypenumbers": "strict",
          "colorway": [
           "#636efa",
           "#EF553B",
           "#00cc96",
           "#ab63fa",
           "#FFA15A",
           "#19d3f3",
           "#FF6692",
           "#B6E880",
           "#FF97FF",
           "#FECB52"
          ],
          "font": {
           "color": "#2a3f5f"
          },
          "hovermode": "closest",
          "hoverlabel": {
           "align": "left"
          },
          "paper_bgcolor": "white",
          "plot_bgcolor": "#E5ECF6",
          "polar": {
           "bgcolor": "#E5ECF6",
           "angularaxis": {
            "gridcolor": "white",
            "linecolor": "white",
            "ticks": ""
           },
           "radialaxis": {
            "gridcolor": "white",
            "linecolor": "white",
            "ticks": ""
           }
          },
          "ternary": {
           "bgcolor": "#E5ECF6",
           "aaxis": {
            "gridcolor": "white",
            "linecolor": "white",
            "ticks": ""
           },
           "baxis": {
            "gridcolor": "white",
            "linecolor": "white",
            "ticks": ""
           },
           "caxis": {
            "gridcolor": "white",
            "linecolor": "white",
            "ticks": ""
           }
          },
          "coloraxis": {
           "colorbar": {
            "outlinewidth": 0,
            "ticks": ""
           }
          },
          "colorscale": {
           "sequential": [
            [
             0.0,
             "#0d0887"
            ],
            [
             0.1111111111111111,
             "#46039f"
            ],
            [
             0.2222222222222222,
             "#7201a8"
            ],
            [
             0.3333333333333333,
             "#9c179e"
            ],
            [
             0.4444444444444444,
             "#bd3786"
            ],
            [
             0.5555555555555556,
             "#d8576b"
            ],
            [
             0.6666666666666666,
             "#ed7953"
            ],
            [
             0.7777777777777778,
             "#fb9f3a"
            ],
            [
             0.8888888888888888,
             "#fdca26"
            ],
            [
             1.0,
             "#f0f921"
            ]
           ],
           "sequentialminus": [
            [
             0.0,
             "#0d0887"
            ],
            [
             0.1111111111111111,
             "#46039f"
            ],
            [
             0.2222222222222222,
             "#7201a8"
            ],
            [
             0.3333333333333333,
             "#9c179e"
            ],
            [
             0.4444444444444444,
             "#bd3786"
            ],
            [
             0.5555555555555556,
             "#d8576b"
            ],
            [
             0.6666666666666666,
             "#ed7953"
            ],
            [
             0.7777777777777778,
             "#fb9f3a"
            ],
            [
             0.8888888888888888,
             "#fdca26"
            ],
            [
             1.0,
             "#f0f921"
            ]
           ],
           "diverging": [
            [
             0,
             "#8e0152"
            ],
            [
             0.1,
             "#c51b7d"
            ],
            [
             0.2,
             "#de77ae"
            ],
            [
             0.3,
             "#f1b6da"
            ],
            [
             0.4,
             "#fde0ef"
            ],
            [
             0.5,
             "#f7f7f7"
            ],
            [
             0.6,
             "#e6f5d0"
            ],
            [
             0.7,
             "#b8e186"
            ],
            [
             0.8,
             "#7fbc41"
            ],
            [
             0.9,
             "#4d9221"
            ],
            [
             1,
             "#276419"
            ]
           ]
          },
          "xaxis": {
           "gridcolor": "white",
           "linecolor": "white",
           "ticks": "",
           "title": {
            "standoff": 15
           },
           "zerolinecolor": "white",
           "automargin": true,
           "zerolinewidth": 2
          },
          "yaxis": {
           "gridcolor": "white",
           "linecolor": "white",
           "ticks": "",
           "title": {
            "standoff": 15
           },
           "zerolinecolor": "white",
           "automargin": true,
           "zerolinewidth": 2
          },
          "scene": {
           "xaxis": {
            "backgroundcolor": "#E5ECF6",
            "gridcolor": "white",
            "linecolor": "white",
            "showbackground": true,
            "ticks": "",
            "zerolinecolor": "white",
            "gridwidth": 2
           },
           "yaxis": {
            "backgroundcolor": "#E5ECF6",
            "gridcolor": "white",
            "linecolor": "white",
            "showbackground": true,
            "ticks": "",
            "zerolinecolor": "white",
            "gridwidth": 2
           },
           "zaxis": {
            "backgroundcolor": "#E5ECF6",
            "gridcolor": "white",
            "linecolor": "white",
            "showbackground": true,
            "ticks": "",
            "zerolinecolor": "white",
            "gridwidth": 2
           }
          },
          "shapedefaults": {
           "line": {
            "color": "#2a3f5f"
           }
          },
          "annotationdefaults": {
           "arrowcolor": "#2a3f5f",
           "arrowhead": 0,
           "arrowwidth": 1
          },
          "geo": {
           "bgcolor": "white",
           "landcolor": "#E5ECF6",
           "subunitcolor": "white",
           "showland": true,
           "showlakes": true,
           "lakecolor": "white"
          },
          "title": {
           "x": 0.05
          },
          "mapbox": {
           "style": "light"
          }
         }
        },
        "xaxis": {
         "anchor": "y",
         "domain": [
          0.0,
          1.0
         ],
         "title": {
          "text": "timestamp"
         }
        },
        "yaxis": {
         "anchor": "x",
         "domain": [
          0.0,
          1.0
         ],
         "title": {
          "text": "interval"
         }
        },
        "legend": {
         "tracegroupgap": 0
        },
        "title": {
         "text": "Release Delay"
        },
        "barmode": "relative"
       },
       "config": {
        "plotlyServerURL": "https://plot.ly"
       }
      },
      "text/html": "<div>                            <div id=\"b92023b8-edca-4b29-b6a4-7ac6598c80ac\" class=\"plotly-graph-div\" style=\"height:525px; width:100%;\"></div>            <script type=\"text/javascript\">                require([\"plotly\"], function(Plotly) {                    window.PLOTLYENV=window.PLOTLYENV || {};                                    if (document.getElementById(\"b92023b8-edca-4b29-b6a4-7ac6598c80ac\")) {                    Plotly.newPlot(                        \"b92023b8-edca-4b29-b6a4-7ac6598c80ac\",                        [{\"alignmentgroup\":\"True\",\"hovertemplate\":\"timestamp=%{x}\\u003cbr\\u003einterval=%{y}\\u003cextra\\u003e\\u003c\\u002fextra\\u003e\",\"legendgroup\":\"\",\"marker\":{\"color\":\"#636efa\",\"pattern\":{\"shape\":\"\"}},\"name\":\"\",\"offsetgroup\":\"\",\"orientation\":\"v\",\"showlegend\":false,\"textposition\":\"auto\",\"x\":[\"2024-06-28T19:35:31+00:00\",\"2024-07-04T08:15:36+00:00\",\"2024-07-08T21:07:37+00:00\",\"2024-07-12T11:26:56+00:00\",\"2024-07-12T14:46:17+00:00\",\"2024-07-12T22:21:18+00:00\",\"2024-07-19T15:25:11+00:00\",\"2024-07-26T17:42:25+00:00\",\"2024-07-31T22:50:09+00:00\",\"2024-07-31T22:50:09+00:00\",\"2024-08-02T13:33:20+00:00\",\"2024-08-02T20:54:32+00:00\",\"2024-08-02T22:26:19+00:00\",\"2024-08-05T10:55:55+00:00\",\"2024-08-07T13:53:38+00:00\",\"2024-08-08T20:32:52+00:00\",\"2024-08-09T09:31:18+00:00\",\"2024-08-09T12:56:20+00:00\",\"2024-08-09T12:56:20+00:00\",\"2024-08-09T12:56:20+00:00\",\"2024-08-09T12:56:20+00:00\",\"2024-08-09T12:56:20+00:00\",\"2024-08-09T12:56:20+00:00\",\"2024-08-09T12:56:20+00:00\",\"2024-08-09T12:56:20+00:00\",\"2024-08-09T18:29:27+00:00\",\"2024-08-12T00:46:10+00:00\",\"2024-08-12T00:46:10+00:00\",\"2024-08-12T19:19:36+00:00\",\"2024-08-13T00:46:30+00:00\",\"2024-08-13T00:57:50+00:00\",\"2024-08-13T00:57:50+00:00\",\"2024-08-13T00:57:50+00:00\",\"2024-08-13T00:57:50+00:00\",\"2024-08-13T18:58:05+00:00\",\"2024-08-13T18:58:05+00:00\",\"2024-08-13T22:33:37+00:00\",\"2024-08-14T02:20:51+00:00\",\"2024-08-14T18:34:39+00:00\",\"2024-08-16T09:06:29+00:00\"],\"xaxis\":\"x\",\"y\":[null,477605000000000,391921000000000,310759000000000,11961000000000,27301000000000,579833000000000,613034000000000,450464000000000,0,139391000000000,26472000000000,5507000000000,217776000000000,183463000000000,110354000000000,46706000000000,12302000000000,0,0,0,0,0,0,0,19987000000000,195403000000000,0,66806000000000,19614000000000,680000000000,0,0,0,64815000000000,0,12932000000000,13634000000000,58428000000000,138710000000000],\"yaxis\":\"y\",\"type\":\"bar\"}],                        {\"template\":{\"data\":{\"histogram2dcontour\":[{\"type\":\"histogram2dcontour\",\"colorbar\":{\"outlinewidth\":0,\"ticks\":\"\"},\"colorscale\":[[0.0,\"#0d0887\"],[0.1111111111111111,\"#46039f\"],[0.2222222222222222,\"#7201a8\"],[0.3333333333333333,\"#9c179e\"],[0.4444444444444444,\"#bd3786\"],[0.5555555555555556,\"#d8576b\"],[0.6666666666666666,\"#ed7953\"],[0.7777777777777778,\"#fb9f3a\"],[0.8888888888888888,\"#fdca26\"],[1.0,\"#f0f921\"]]}],\"choropleth\":[{\"type\":\"choropleth\",\"colorbar\":{\"outlinewidth\":0,\"ticks\":\"\"}}],\"histogram2d\":[{\"type\":\"histogram2d\",\"colorbar\":{\"outlinewidth\":0,\"ticks\":\"\"},\"colorscale\":[[0.0,\"#0d0887\"],[0.1111111111111111,\"#46039f\"],[0.2222222222222222,\"#7201a8\"],[0.3333333333333333,\"#9c179e\"],[0.4444444444444444,\"#bd3786\"],[0.5555555555555556,\"#d8576b\"],[0.6666666666666666,\"#ed7953\"],[0.7777777777777778,\"#fb9f3a\"],[0.8888888888888888,\"#fdca26\"],[1.0,\"#f0f921\"]]}],\"heatmap\":[{\"type\":\"heatmap\",\"colorbar\":{\"outlinewidth\":0,\"ticks\":\"\"},\"colorscale\":[[0.0,\"#0d0887\"],[0.1111111111111111,\"#46039f\"],[0.2222222222222222,\"#7201a8\"],[0.3333333333333333,\"#9c179e\"],[0.4444444444444444,\"#bd3786\"],[0.5555555555555556,\"#d8576b\"],[0.6666666666666666,\"#ed7953\"],[0.7777777777777778,\"#fb9f3a\"],[0.8888888888888888,\"#fdca26\"],[1.0,\"#f0f921\"]]}],\"heatmapgl\":[{\"type\":\"heatmapgl\",\"colorbar\":{\"outlinewidth\":0,\"ticks\":\"\"},\"colorscale\":[[0.0,\"#0d0887\"],[0.1111111111111111,\"#46039f\"],[0.2222222222222222,\"#7201a8\"],[0.3333333333333333,\"#9c179e\"],[0.4444444444444444,\"#bd3786\"],[0.5555555555555556,\"#d8576b\"],[0.6666666666666666,\"#ed7953\"],[0.7777777777777778,\"#fb9f3a\"],[0.8888888888888888,\"#fdca26\"],[1.0,\"#f0f921\"]]}],\"contourcarpet\":[{\"type\":\"contourcarpet\",\"colorbar\":{\"outlinewidth\":0,\"ticks\":\"\"}}],\"contour\":[{\"type\":\"contour\",\"colorbar\":{\"outlinewidth\":0,\"ticks\":\"\"},\"colorscale\":[[0.0,\"#0d0887\"],[0.1111111111111111,\"#46039f\"],[0.2222222222222222,\"#7201a8\"],[0.3333333333333333,\"#9c179e\"],[0.4444444444444444,\"#bd3786\"],[0.5555555555555556,\"#d8576b\"],[0.6666666666666666,\"#ed7953\"],[0.7777777777777778,\"#fb9f3a\"],[0.8888888888888888,\"#fdca26\"],[1.0,\"#f0f921\"]]}],\"surface\":[{\"type\":\"surface\",\"colorbar\":{\"outlinewidth\":0,\"ticks\":\"\"},\"colorscale\":[[0.0,\"#0d0887\"],[0.1111111111111111,\"#46039f\"],[0.2222222222222222,\"#7201a8\"],[0.3333333333333333,\"#9c179e\"],[0.4444444444444444,\"#bd3786\"],[0.5555555555555556,\"#d8576b\"],[0.6666666666666666,\"#ed7953\"],[0.7777777777777778,\"#fb9f3a\"],[0.8888888888888888,\"#fdca26\"],[1.0,\"#f0f921\"]]}],\"mesh3d\":[{\"type\":\"mesh3d\",\"colorbar\":{\"outlinewidth\":0,\"ticks\":\"\"}}],\"scatter\":[{\"fillpattern\":{\"fillmode\":\"overlay\",\"size\":10,\"solidity\":0.2},\"type\":\"scatter\"}],\"parcoords\":[{\"type\":\"parcoords\",\"line\":{\"colorbar\":{\"outlinewidth\":0,\"ticks\":\"\"}}}],\"scatterpolargl\":[{\"type\":\"scatterpolargl\",\"marker\":{\"colorbar\":{\"outlinewidth\":0,\"ticks\":\"\"}}}],\"bar\":[{\"error_x\":{\"color\":\"#2a3f5f\"},\"error_y\":{\"color\":\"#2a3f5f\"},\"marker\":{\"line\":{\"color\":\"#E5ECF6\",\"width\":0.5},\"pattern\":{\"fillmode\":\"overlay\",\"size\":10,\"solidity\":0.2}},\"type\":\"bar\"}],\"scattergeo\":[{\"type\":\"scattergeo\",\"marker\":{\"colorbar\":{\"outlinewidth\":0,\"ticks\":\"\"}}}],\"scatterpolar\":[{\"type\":\"scatterpolar\",\"marker\":{\"colorbar\":{\"outlinewidth\":0,\"ticks\":\"\"}}}],\"histogram\":[{\"marker\":{\"pattern\":{\"fillmode\":\"overlay\",\"size\":10,\"solidity\":0.2}},\"type\":\"histogram\"}],\"scattergl\":[{\"type\":\"scattergl\",\"marker\":{\"colorbar\":{\"outlinewidth\":0,\"ticks\":\"\"}}}],\"scatter3d\":[{\"type\":\"scatter3d\",\"line\":{\"colorbar\":{\"outlinewidth\":0,\"ticks\":\"\"}},\"marker\":{\"colorbar\":{\"outlinewidth\":0,\"ticks\":\"\"}}}],\"scattermapbox\":[{\"type\":\"scattermapbox\",\"marker\":{\"colorbar\":{\"outlinewidth\":0,\"ticks\":\"\"}}}],\"scatterternary\":[{\"type\":\"scatterternary\",\"marker\":{\"colorbar\":{\"outlinewidth\":0,\"ticks\":\"\"}}}],\"scattercarpet\":[{\"type\":\"scattercarpet\",\"marker\":{\"colorbar\":{\"outlinewidth\":0,\"ticks\":\"\"}}}],\"carpet\":[{\"aaxis\":{\"endlinecolor\":\"#2a3f5f\",\"gridcolor\":\"white\",\"linecolor\":\"white\",\"minorgridcolor\":\"white\",\"startlinecolor\":\"#2a3f5f\"},\"baxis\":{\"endlinecolor\":\"#2a3f5f\",\"gridcolor\":\"white\",\"linecolor\":\"white\",\"minorgridcolor\":\"white\",\"startlinecolor\":\"#2a3f5f\"},\"type\":\"carpet\"}],\"table\":[{\"cells\":{\"fill\":{\"color\":\"#EBF0F8\"},\"line\":{\"color\":\"white\"}},\"header\":{\"fill\":{\"color\":\"#C8D4E3\"},\"line\":{\"color\":\"white\"}},\"type\":\"table\"}],\"barpolar\":[{\"marker\":{\"line\":{\"color\":\"#E5ECF6\",\"width\":0.5},\"pattern\":{\"fillmode\":\"overlay\",\"size\":10,\"solidity\":0.2}},\"type\":\"barpolar\"}],\"pie\":[{\"automargin\":true,\"type\":\"pie\"}]},\"layout\":{\"autotypenumbers\":\"strict\",\"colorway\":[\"#636efa\",\"#EF553B\",\"#00cc96\",\"#ab63fa\",\"#FFA15A\",\"#19d3f3\",\"#FF6692\",\"#B6E880\",\"#FF97FF\",\"#FECB52\"],\"font\":{\"color\":\"#2a3f5f\"},\"hovermode\":\"closest\",\"hoverlabel\":{\"align\":\"left\"},\"paper_bgcolor\":\"white\",\"plot_bgcolor\":\"#E5ECF6\",\"polar\":{\"bgcolor\":\"#E5ECF6\",\"angularaxis\":{\"gridcolor\":\"white\",\"linecolor\":\"white\",\"ticks\":\"\"},\"radialaxis\":{\"gridcolor\":\"white\",\"linecolor\":\"white\",\"ticks\":\"\"}},\"ternary\":{\"bgcolor\":\"#E5ECF6\",\"aaxis\":{\"gridcolor\":\"white\",\"linecolor\":\"white\",\"ticks\":\"\"},\"baxis\":{\"gridcolor\":\"white\",\"linecolor\":\"white\",\"ticks\":\"\"},\"caxis\":{\"gridcolor\":\"white\",\"linecolor\":\"white\",\"ticks\":\"\"}},\"coloraxis\":{\"colorbar\":{\"outlinewidth\":0,\"ticks\":\"\"}},\"colorscale\":{\"sequential\":[[0.0,\"#0d0887\"],[0.1111111111111111,\"#46039f\"],[0.2222222222222222,\"#7201a8\"],[0.3333333333333333,\"#9c179e\"],[0.4444444444444444,\"#bd3786\"],[0.5555555555555556,\"#d8576b\"],[0.6666666666666666,\"#ed7953\"],[0.7777777777777778,\"#fb9f3a\"],[0.8888888888888888,\"#fdca26\"],[1.0,\"#f0f921\"]],\"sequentialminus\":[[0.0,\"#0d0887\"],[0.1111111111111111,\"#46039f\"],[0.2222222222222222,\"#7201a8\"],[0.3333333333333333,\"#9c179e\"],[0.4444444444444444,\"#bd3786\"],[0.5555555555555556,\"#d8576b\"],[0.6666666666666666,\"#ed7953\"],[0.7777777777777778,\"#fb9f3a\"],[0.8888888888888888,\"#fdca26\"],[1.0,\"#f0f921\"]],\"diverging\":[[0,\"#8e0152\"],[0.1,\"#c51b7d\"],[0.2,\"#de77ae\"],[0.3,\"#f1b6da\"],[0.4,\"#fde0ef\"],[0.5,\"#f7f7f7\"],[0.6,\"#e6f5d0\"],[0.7,\"#b8e186\"],[0.8,\"#7fbc41\"],[0.9,\"#4d9221\"],[1,\"#276419\"]]},\"xaxis\":{\"gridcolor\":\"white\",\"linecolor\":\"white\",\"ticks\":\"\",\"title\":{\"standoff\":15},\"zerolinecolor\":\"white\",\"automargin\":true,\"zerolinewidth\":2},\"yaxis\":{\"gridcolor\":\"white\",\"linecolor\":\"white\",\"ticks\":\"\",\"title\":{\"standoff\":15},\"zerolinecolor\":\"white\",\"automargin\":true,\"zerolinewidth\":2},\"scene\":{\"xaxis\":{\"backgroundcolor\":\"#E5ECF6\",\"gridcolor\":\"white\",\"linecolor\":\"white\",\"showbackground\":true,\"ticks\":\"\",\"zerolinecolor\":\"white\",\"gridwidth\":2},\"yaxis\":{\"backgroundcolor\":\"#E5ECF6\",\"gridcolor\":\"white\",\"linecolor\":\"white\",\"showbackground\":true,\"ticks\":\"\",\"zerolinecolor\":\"white\",\"gridwidth\":2},\"zaxis\":{\"backgroundcolor\":\"#E5ECF6\",\"gridcolor\":\"white\",\"linecolor\":\"white\",\"showbackground\":true,\"ticks\":\"\",\"zerolinecolor\":\"white\",\"gridwidth\":2}},\"shapedefaults\":{\"line\":{\"color\":\"#2a3f5f\"}},\"annotationdefaults\":{\"arrowcolor\":\"#2a3f5f\",\"arrowhead\":0,\"arrowwidth\":1},\"geo\":{\"bgcolor\":\"white\",\"landcolor\":\"#E5ECF6\",\"subunitcolor\":\"white\",\"showland\":true,\"showlakes\":true,\"lakecolor\":\"white\"},\"title\":{\"x\":0.05},\"mapbox\":{\"style\":\"light\"}}},\"xaxis\":{\"anchor\":\"y\",\"domain\":[0.0,1.0],\"title\":{\"text\":\"timestamp\"}},\"yaxis\":{\"anchor\":\"x\",\"domain\":[0.0,1.0],\"title\":{\"text\":\"interval\"}},\"legend\":{\"tracegroupgap\":0},\"title\":{\"text\":\"Release Delay\"},\"barmode\":\"relative\"},                        {\"responsive\": true}                    ).then(function(){\n                            \nvar gd = document.getElementById('b92023b8-edca-4b29-b6a4-7ac6598c80ac');\nvar x = new MutationObserver(function (mutations, observer) {{\n        var display = window.getComputedStyle(gd).display;\n        if (!display || display === 'none') {{\n            console.log([gd, 'removed!']);\n            Plotly.purge(gd);\n            observer.disconnect();\n        }}\n}});\n\n// Listen for the removal of the full notebook cells\nvar notebookContainer = gd.closest('#notebook-container');\nif (notebookContainer) {{\n    x.observe(notebookContainer, {childList: true});\n}}\n\n// Listen for the clearing of the current output cell\nvar outputEl = gd.closest('.output');\nif (outputEl) {{\n    x.observe(outputEl, {childList: true});\n}}\n\n                        })                };                });            </script>        </div>"
     },
     "metadata": {},
     "output_type": "display_data"
    }
   ],
   "source": [
    "figure = px.bar(graph_df, x=\"timestamp\", y=\"interval\", title='Release Delay')\n",
    "figure.show()\n"
   ]
  },
  {
   "cell_type": "code",
   "execution_count": null,
   "id": "63ec6eb7",
   "metadata": {
    "is_executing": true
   },
   "outputs": [],
   "source": [
    "earlier_label = graph_df.iloc[0]['name']\n",
    "diffcounts = []\n",
    "for index, data in graph_df.iterrows():\n",
    "    current_label = data['name']\n",
    "    diffs = repo.commit(earlier_label).diff(current_label)\n",
    "    diffcounts.append(len(diffs))\n",
    "    earlier_label = current_label\n",
    "\n",
    "diffcounts\n"
   ]
  },
  {
   "cell_type": "code",
   "execution_count": null,
   "id": "deb44fdc",
   "metadata": {
    "is_executing": true
   },
   "outputs": [],
   "source": [
    "graph_df['timestamp'] = pd.to_datetime(graph_df['timestamp'], utc=True)"
   ]
  },
  {
   "cell_type": "code",
   "execution_count": null,
   "id": "14d7c18c",
   "metadata": {
    "is_executing": true
   },
   "outputs": [],
   "source": [
    "graph_df['diff_counts'] = diffcounts"
   ]
  },
  {
   "cell_type": "code",
   "execution_count": null,
   "id": "575c7bc6",
   "metadata": {
    "is_executing": true
   },
   "outputs": [],
   "source": [
    "graph_df"
   ]
  },
  {
   "cell_type": "code",
   "execution_count": null,
   "id": "81248fe3",
   "metadata": {
    "scrolled": true,
    "is_executing": true
   },
   "outputs": [],
   "source": [
    "figure = px.scatter(\n",
    "    graph_df.iloc[-25:],\n",
    "    x=\"timestamp\",\n",
    "    y=\"diff_counts\",\n",
    "    size=\"diff_counts\",\n",
    "    color=\"diff_counts\",\n",
    "    title=f'{repo_title} Release Size and Frequency',\n",
    "    hover_data=[\"timestamp\", \"name\", \"interval\"]\n",
    ")\n",
    "figure.update_layout(autosize=True)\n",
    "figure.update_traces(mode=\"markers+lines\")\n",
    "figure.show()"
   ]
  },
  {
   "cell_type": "code",
   "execution_count": null,
   "id": "526a9b43",
   "metadata": {
    "is_executing": true
   },
   "outputs": [],
   "source": [
    "dir(figure)"
   ]
  },
  {
   "cell_type": "code",
   "execution_count": 23,
   "id": "bd0fd838",
   "metadata": {
    "ExecuteTime": {
     "end_time": "2024-08-27T14:17:04.052257Z",
     "start_time": "2024-08-27T14:17:04.048729Z"
    }
   },
   "outputs": [
    {
     "data": {
      "application/vnd.plotly.v1+json": {
       "data": [
        {
         "hovertemplate": "<b>%{hovertext}</b><br><br>timestamp=%{x}<br>diff_counts=%{y}<extra></extra>",
         "hovertext": [
          "v6.40.0",
          "v6.41.0",
          "v6.42.0",
          "v6.43.0",
          "v6.43.0-codepush.v148",
          "v6.44.0",
          "v6.45.0",
          "v6.46.0",
          "v6.45.0-codepush.v149",
          "v6.44.0-codepush.v150",
          "v6.47.0",
          "v6.46.0-codepush.v167",
          "v6.47.0-codepush.v151",
          "v6.48.0",
          "v6.49.0",
          "v6.49.0-codepush.v152",
          "v6.50.0",
          "v6.43.0-codepush.v165",
          "v6.45.0-codepush.v168",
          "v6.50.0-codepush.v163",
          "v6.42.0-codepush.v161",
          "v6.49.0-codepush.v163",
          "v6.47.0-codepush.v165",
          "v6.48.0-codepush.v162",
          "v6.44.0-codepush.v167",
          "v6.50.0-codepush.v153",
          "v6.50.0-codepush.v154",
          "v6.48.0-codepush.v155",
          "v6.50.0-codepush.v172",
          "production/v6.37.0-codepush.v156",
          "v6.41.0-codepush.v160",
          "v6.40.0-codepush.v160",
          "v6.39.0-codepush.v158",
          "production/v6.38.0-codepush.v157",
          "v6.50.0-codepush.v170",
          "v6.48.0-codepush.v169",
          "v6.50.0-codepush.v171",
          "v6.51.0",
          "v6.52.0",
          "v6.53.0"
         ],
         "legendgroup": "",
         "line": {
          "color": "#636efa",
          "dash": "solid"
         },
         "marker": {
          "symbol": "circle"
         },
         "mode": "markers+lines",
         "name": "",
         "orientation": "v",
         "showlegend": false,
         "x": [
          "2024-06-28T19:35:31+00:00",
          "2024-07-04T08:15:36+00:00",
          "2024-07-08T21:07:37+00:00",
          "2024-07-12T11:26:56+00:00",
          "2024-07-12T14:46:17+00:00",
          "2024-07-12T22:21:18+00:00",
          "2024-07-19T15:25:11+00:00",
          "2024-07-26T17:42:25+00:00",
          "2024-07-31T22:50:09+00:00",
          "2024-07-31T22:50:09+00:00",
          "2024-08-02T13:33:20+00:00",
          "2024-08-02T20:54:32+00:00",
          "2024-08-02T22:26:19+00:00",
          "2024-08-05T10:55:55+00:00",
          "2024-08-07T13:53:38+00:00",
          "2024-08-08T20:32:52+00:00",
          "2024-08-09T09:31:18+00:00",
          "2024-08-09T12:56:20+00:00",
          "2024-08-09T12:56:20+00:00",
          "2024-08-09T12:56:20+00:00",
          "2024-08-09T12:56:20+00:00",
          "2024-08-09T12:56:20+00:00",
          "2024-08-09T12:56:20+00:00",
          "2024-08-09T12:56:20+00:00",
          "2024-08-09T12:56:20+00:00",
          "2024-08-09T18:29:27+00:00",
          "2024-08-12T00:46:10+00:00",
          "2024-08-12T00:46:10+00:00",
          "2024-08-12T19:19:36+00:00",
          "2024-08-13T00:46:30+00:00",
          "2024-08-13T00:57:50+00:00",
          "2024-08-13T00:57:50+00:00",
          "2024-08-13T00:57:50+00:00",
          "2024-08-13T00:57:50+00:00",
          "2024-08-13T18:58:05+00:00",
          "2024-08-13T18:58:05+00:00",
          "2024-08-13T22:33:37+00:00",
          "2024-08-14T02:20:51+00:00",
          "2024-08-14T18:34:39+00:00",
          "2024-08-16T09:06:29+00:00"
         ],
         "xaxis": "x",
         "y": [
          0,
          859,
          131,
          976,
          2,
          45,
          858,
          1386,
          1386,
          858,
          2205,
          994,
          1018,
          156,
          174,
          2,
          371,
          2375,
          888,
          2185,
          2812,
          2761,
          316,
          157,
          2247,
          2364,
          2,
          473,
          476,
          3536,
          1851,
          859,
          646,
          669,
          3364,
          473,
          473,
          266,
          16,
          245
         ],
         "yaxis": "y",
         "type": "scatter"
        }
       ],
       "layout": {
        "template": {
         "data": {
          "histogram2dcontour": [
           {
            "type": "histogram2dcontour",
            "colorbar": {
             "outlinewidth": 0,
             "ticks": ""
            },
            "colorscale": [
             [
              0.0,
              "#0d0887"
             ],
             [
              0.1111111111111111,
              "#46039f"
             ],
             [
              0.2222222222222222,
              "#7201a8"
             ],
             [
              0.3333333333333333,
              "#9c179e"
             ],
             [
              0.4444444444444444,
              "#bd3786"
             ],
             [
              0.5555555555555556,
              "#d8576b"
             ],
             [
              0.6666666666666666,
              "#ed7953"
             ],
             [
              0.7777777777777778,
              "#fb9f3a"
             ],
             [
              0.8888888888888888,
              "#fdca26"
             ],
             [
              1.0,
              "#f0f921"
             ]
            ]
           }
          ],
          "choropleth": [
           {
            "type": "choropleth",
            "colorbar": {
             "outlinewidth": 0,
             "ticks": ""
            }
           }
          ],
          "histogram2d": [
           {
            "type": "histogram2d",
            "colorbar": {
             "outlinewidth": 0,
             "ticks": ""
            },
            "colorscale": [
             [
              0.0,
              "#0d0887"
             ],
             [
              0.1111111111111111,
              "#46039f"
             ],
             [
              0.2222222222222222,
              "#7201a8"
             ],
             [
              0.3333333333333333,
              "#9c179e"
             ],
             [
              0.4444444444444444,
              "#bd3786"
             ],
             [
              0.5555555555555556,
              "#d8576b"
             ],
             [
              0.6666666666666666,
              "#ed7953"
             ],
             [
              0.7777777777777778,
              "#fb9f3a"
             ],
             [
              0.8888888888888888,
              "#fdca26"
             ],
             [
              1.0,
              "#f0f921"
             ]
            ]
           }
          ],
          "heatmap": [
           {
            "type": "heatmap",
            "colorbar": {
             "outlinewidth": 0,
             "ticks": ""
            },
            "colorscale": [
             [
              0.0,
              "#0d0887"
             ],
             [
              0.1111111111111111,
              "#46039f"
             ],
             [
              0.2222222222222222,
              "#7201a8"
             ],
             [
              0.3333333333333333,
              "#9c179e"
             ],
             [
              0.4444444444444444,
              "#bd3786"
             ],
             [
              0.5555555555555556,
              "#d8576b"
             ],
             [
              0.6666666666666666,
              "#ed7953"
             ],
             [
              0.7777777777777778,
              "#fb9f3a"
             ],
             [
              0.8888888888888888,
              "#fdca26"
             ],
             [
              1.0,
              "#f0f921"
             ]
            ]
           }
          ],
          "heatmapgl": [
           {
            "type": "heatmapgl",
            "colorbar": {
             "outlinewidth": 0,
             "ticks": ""
            },
            "colorscale": [
             [
              0.0,
              "#0d0887"
             ],
             [
              0.1111111111111111,
              "#46039f"
             ],
             [
              0.2222222222222222,
              "#7201a8"
             ],
             [
              0.3333333333333333,
              "#9c179e"
             ],
             [
              0.4444444444444444,
              "#bd3786"
             ],
             [
              0.5555555555555556,
              "#d8576b"
             ],
             [
              0.6666666666666666,
              "#ed7953"
             ],
             [
              0.7777777777777778,
              "#fb9f3a"
             ],
             [
              0.8888888888888888,
              "#fdca26"
             ],
             [
              1.0,
              "#f0f921"
             ]
            ]
           }
          ],
          "contourcarpet": [
           {
            "type": "contourcarpet",
            "colorbar": {
             "outlinewidth": 0,
             "ticks": ""
            }
           }
          ],
          "contour": [
           {
            "type": "contour",
            "colorbar": {
             "outlinewidth": 0,
             "ticks": ""
            },
            "colorscale": [
             [
              0.0,
              "#0d0887"
             ],
             [
              0.1111111111111111,
              "#46039f"
             ],
             [
              0.2222222222222222,
              "#7201a8"
             ],
             [
              0.3333333333333333,
              "#9c179e"
             ],
             [
              0.4444444444444444,
              "#bd3786"
             ],
             [
              0.5555555555555556,
              "#d8576b"
             ],
             [
              0.6666666666666666,
              "#ed7953"
             ],
             [
              0.7777777777777778,
              "#fb9f3a"
             ],
             [
              0.8888888888888888,
              "#fdca26"
             ],
             [
              1.0,
              "#f0f921"
             ]
            ]
           }
          ],
          "surface": [
           {
            "type": "surface",
            "colorbar": {
             "outlinewidth": 0,
             "ticks": ""
            },
            "colorscale": [
             [
              0.0,
              "#0d0887"
             ],
             [
              0.1111111111111111,
              "#46039f"
             ],
             [
              0.2222222222222222,
              "#7201a8"
             ],
             [
              0.3333333333333333,
              "#9c179e"
             ],
             [
              0.4444444444444444,
              "#bd3786"
             ],
             [
              0.5555555555555556,
              "#d8576b"
             ],
             [
              0.6666666666666666,
              "#ed7953"
             ],
             [
              0.7777777777777778,
              "#fb9f3a"
             ],
             [
              0.8888888888888888,
              "#fdca26"
             ],
             [
              1.0,
              "#f0f921"
             ]
            ]
           }
          ],
          "mesh3d": [
           {
            "type": "mesh3d",
            "colorbar": {
             "outlinewidth": 0,
             "ticks": ""
            }
           }
          ],
          "scatter": [
           {
            "fillpattern": {
             "fillmode": "overlay",
             "size": 10,
             "solidity": 0.2
            },
            "type": "scatter"
           }
          ],
          "parcoords": [
           {
            "type": "parcoords",
            "line": {
             "colorbar": {
              "outlinewidth": 0,
              "ticks": ""
             }
            }
           }
          ],
          "scatterpolargl": [
           {
            "type": "scatterpolargl",
            "marker": {
             "colorbar": {
              "outlinewidth": 0,
              "ticks": ""
             }
            }
           }
          ],
          "bar": [
           {
            "error_x": {
             "color": "#2a3f5f"
            },
            "error_y": {
             "color": "#2a3f5f"
            },
            "marker": {
             "line": {
              "color": "#E5ECF6",
              "width": 0.5
             },
             "pattern": {
              "fillmode": "overlay",
              "size": 10,
              "solidity": 0.2
             }
            },
            "type": "bar"
           }
          ],
          "scattergeo": [
           {
            "type": "scattergeo",
            "marker": {
             "colorbar": {
              "outlinewidth": 0,
              "ticks": ""
             }
            }
           }
          ],
          "scatterpolar": [
           {
            "type": "scatterpolar",
            "marker": {
             "colorbar": {
              "outlinewidth": 0,
              "ticks": ""
             }
            }
           }
          ],
          "histogram": [
           {
            "marker": {
             "pattern": {
              "fillmode": "overlay",
              "size": 10,
              "solidity": 0.2
             }
            },
            "type": "histogram"
           }
          ],
          "scattergl": [
           {
            "type": "scattergl",
            "marker": {
             "colorbar": {
              "outlinewidth": 0,
              "ticks": ""
             }
            }
           }
          ],
          "scatter3d": [
           {
            "type": "scatter3d",
            "line": {
             "colorbar": {
              "outlinewidth": 0,
              "ticks": ""
             }
            },
            "marker": {
             "colorbar": {
              "outlinewidth": 0,
              "ticks": ""
             }
            }
           }
          ],
          "scattermapbox": [
           {
            "type": "scattermapbox",
            "marker": {
             "colorbar": {
              "outlinewidth": 0,
              "ticks": ""
             }
            }
           }
          ],
          "scatterternary": [
           {
            "type": "scatterternary",
            "marker": {
             "colorbar": {
              "outlinewidth": 0,
              "ticks": ""
             }
            }
           }
          ],
          "scattercarpet": [
           {
            "type": "scattercarpet",
            "marker": {
             "colorbar": {
              "outlinewidth": 0,
              "ticks": ""
             }
            }
           }
          ],
          "carpet": [
           {
            "aaxis": {
             "endlinecolor": "#2a3f5f",
             "gridcolor": "white",
             "linecolor": "white",
             "minorgridcolor": "white",
             "startlinecolor": "#2a3f5f"
            },
            "baxis": {
             "endlinecolor": "#2a3f5f",
             "gridcolor": "white",
             "linecolor": "white",
             "minorgridcolor": "white",
             "startlinecolor": "#2a3f5f"
            },
            "type": "carpet"
           }
          ],
          "table": [
           {
            "cells": {
             "fill": {
              "color": "#EBF0F8"
             },
             "line": {
              "color": "white"
             }
            },
            "header": {
             "fill": {
              "color": "#C8D4E3"
             },
             "line": {
              "color": "white"
             }
            },
            "type": "table"
           }
          ],
          "barpolar": [
           {
            "marker": {
             "line": {
              "color": "#E5ECF6",
              "width": 0.5
             },
             "pattern": {
              "fillmode": "overlay",
              "size": 10,
              "solidity": 0.2
             }
            },
            "type": "barpolar"
           }
          ],
          "pie": [
           {
            "automargin": true,
            "type": "pie"
           }
          ]
         },
         "layout": {
          "autotypenumbers": "strict",
          "colorway": [
           "#636efa",
           "#EF553B",
           "#00cc96",
           "#ab63fa",
           "#FFA15A",
           "#19d3f3",
           "#FF6692",
           "#B6E880",
           "#FF97FF",
           "#FECB52"
          ],
          "font": {
           "color": "#2a3f5f"
          },
          "hovermode": "closest",
          "hoverlabel": {
           "align": "left"
          },
          "paper_bgcolor": "white",
          "plot_bgcolor": "#E5ECF6",
          "polar": {
           "bgcolor": "#E5ECF6",
           "angularaxis": {
            "gridcolor": "white",
            "linecolor": "white",
            "ticks": ""
           },
           "radialaxis": {
            "gridcolor": "white",
            "linecolor": "white",
            "ticks": ""
           }
          },
          "ternary": {
           "bgcolor": "#E5ECF6",
           "aaxis": {
            "gridcolor": "white",
            "linecolor": "white",
            "ticks": ""
           },
           "baxis": {
            "gridcolor": "white",
            "linecolor": "white",
            "ticks": ""
           },
           "caxis": {
            "gridcolor": "white",
            "linecolor": "white",
            "ticks": ""
           }
          },
          "coloraxis": {
           "colorbar": {
            "outlinewidth": 0,
            "ticks": ""
           }
          },
          "colorscale": {
           "sequential": [
            [
             0.0,
             "#0d0887"
            ],
            [
             0.1111111111111111,
             "#46039f"
            ],
            [
             0.2222222222222222,
             "#7201a8"
            ],
            [
             0.3333333333333333,
             "#9c179e"
            ],
            [
             0.4444444444444444,
             "#bd3786"
            ],
            [
             0.5555555555555556,
             "#d8576b"
            ],
            [
             0.6666666666666666,
             "#ed7953"
            ],
            [
             0.7777777777777778,
             "#fb9f3a"
            ],
            [
             0.8888888888888888,
             "#fdca26"
            ],
            [
             1.0,
             "#f0f921"
            ]
           ],
           "sequentialminus": [
            [
             0.0,
             "#0d0887"
            ],
            [
             0.1111111111111111,
             "#46039f"
            ],
            [
             0.2222222222222222,
             "#7201a8"
            ],
            [
             0.3333333333333333,
             "#9c179e"
            ],
            [
             0.4444444444444444,
             "#bd3786"
            ],
            [
             0.5555555555555556,
             "#d8576b"
            ],
            [
             0.6666666666666666,
             "#ed7953"
            ],
            [
             0.7777777777777778,
             "#fb9f3a"
            ],
            [
             0.8888888888888888,
             "#fdca26"
            ],
            [
             1.0,
             "#f0f921"
            ]
           ],
           "diverging": [
            [
             0,
             "#8e0152"
            ],
            [
             0.1,
             "#c51b7d"
            ],
            [
             0.2,
             "#de77ae"
            ],
            [
             0.3,
             "#f1b6da"
            ],
            [
             0.4,
             "#fde0ef"
            ],
            [
             0.5,
             "#f7f7f7"
            ],
            [
             0.6,
             "#e6f5d0"
            ],
            [
             0.7,
             "#b8e186"
            ],
            [
             0.8,
             "#7fbc41"
            ],
            [
             0.9,
             "#4d9221"
            ],
            [
             1,
             "#276419"
            ]
           ]
          },
          "xaxis": {
           "gridcolor": "white",
           "linecolor": "white",
           "ticks": "",
           "title": {
            "standoff": 15
           },
           "zerolinecolor": "white",
           "automargin": true,
           "zerolinewidth": 2
          },
          "yaxis": {
           "gridcolor": "white",
           "linecolor": "white",
           "ticks": "",
           "title": {
            "standoff": 15
           },
           "zerolinecolor": "white",
           "automargin": true,
           "zerolinewidth": 2
          },
          "scene": {
           "xaxis": {
            "backgroundcolor": "#E5ECF6",
            "gridcolor": "white",
            "linecolor": "white",
            "showbackground": true,
            "ticks": "",
            "zerolinecolor": "white",
            "gridwidth": 2
           },
           "yaxis": {
            "backgroundcolor": "#E5ECF6",
            "gridcolor": "white",
            "linecolor": "white",
            "showbackground": true,
            "ticks": "",
            "zerolinecolor": "white",
            "gridwidth": 2
           },
           "zaxis": {
            "backgroundcolor": "#E5ECF6",
            "gridcolor": "white",
            "linecolor": "white",
            "showbackground": true,
            "ticks": "",
            "zerolinecolor": "white",
            "gridwidth": 2
           }
          },
          "shapedefaults": {
           "line": {
            "color": "#2a3f5f"
           }
          },
          "annotationdefaults": {
           "arrowcolor": "#2a3f5f",
           "arrowhead": 0,
           "arrowwidth": 1
          },
          "geo": {
           "bgcolor": "white",
           "landcolor": "#E5ECF6",
           "subunitcolor": "white",
           "showland": true,
           "showlakes": true,
           "lakecolor": "white"
          },
          "title": {
           "x": 0.05
          },
          "mapbox": {
           "style": "light"
          }
         }
        },
        "xaxis": {
         "anchor": "y",
         "domain": [
          0.0,
          1.0
         ],
         "title": {
          "text": "timestamp"
         }
        },
        "yaxis": {
         "anchor": "x",
         "domain": [
          0.0,
          1.0
         ],
         "title": {
          "text": "diff_counts"
         }
        },
        "legend": {
         "tracegroupgap": 0
        },
        "title": {
         "text": "dojo-android Release Frequency and Size"
        },
        "hovermode": "x unified"
       },
       "config": {
        "plotlyServerURL": "https://plot.ly"
       }
      },
      "text/html": "<div>                            <div id=\"ce06190d-fb6e-4dac-9566-ad4a41fa3ef2\" class=\"plotly-graph-div\" style=\"height:525px; width:100%;\"></div>            <script type=\"text/javascript\">                require([\"plotly\"], function(Plotly) {                    window.PLOTLYENV=window.PLOTLYENV || {};                                    if (document.getElementById(\"ce06190d-fb6e-4dac-9566-ad4a41fa3ef2\")) {                    Plotly.newPlot(                        \"ce06190d-fb6e-4dac-9566-ad4a41fa3ef2\",                        [{\"hovertemplate\":\"\\u003cb\\u003e%{hovertext}\\u003c\\u002fb\\u003e\\u003cbr\\u003e\\u003cbr\\u003etimestamp=%{x}\\u003cbr\\u003ediff_counts=%{y}\\u003cextra\\u003e\\u003c\\u002fextra\\u003e\",\"hovertext\":[\"v6.40.0\",\"v6.41.0\",\"v6.42.0\",\"v6.43.0\",\"v6.43.0-codepush.v148\",\"v6.44.0\",\"v6.45.0\",\"v6.46.0\",\"v6.45.0-codepush.v149\",\"v6.44.0-codepush.v150\",\"v6.47.0\",\"v6.46.0-codepush.v167\",\"v6.47.0-codepush.v151\",\"v6.48.0\",\"v6.49.0\",\"v6.49.0-codepush.v152\",\"v6.50.0\",\"v6.43.0-codepush.v165\",\"v6.45.0-codepush.v168\",\"v6.50.0-codepush.v163\",\"v6.42.0-codepush.v161\",\"v6.49.0-codepush.v163\",\"v6.47.0-codepush.v165\",\"v6.48.0-codepush.v162\",\"v6.44.0-codepush.v167\",\"v6.50.0-codepush.v153\",\"v6.50.0-codepush.v154\",\"v6.48.0-codepush.v155\",\"v6.50.0-codepush.v172\",\"production\\u002fv6.37.0-codepush.v156\",\"v6.41.0-codepush.v160\",\"v6.40.0-codepush.v160\",\"v6.39.0-codepush.v158\",\"production\\u002fv6.38.0-codepush.v157\",\"v6.50.0-codepush.v170\",\"v6.48.0-codepush.v169\",\"v6.50.0-codepush.v171\",\"v6.51.0\",\"v6.52.0\",\"v6.53.0\"],\"legendgroup\":\"\",\"line\":{\"color\":\"#636efa\",\"dash\":\"solid\"},\"marker\":{\"symbol\":\"circle\"},\"mode\":\"markers+lines\",\"name\":\"\",\"orientation\":\"v\",\"showlegend\":false,\"x\":[\"2024-06-28T19:35:31+00:00\",\"2024-07-04T08:15:36+00:00\",\"2024-07-08T21:07:37+00:00\",\"2024-07-12T11:26:56+00:00\",\"2024-07-12T14:46:17+00:00\",\"2024-07-12T22:21:18+00:00\",\"2024-07-19T15:25:11+00:00\",\"2024-07-26T17:42:25+00:00\",\"2024-07-31T22:50:09+00:00\",\"2024-07-31T22:50:09+00:00\",\"2024-08-02T13:33:20+00:00\",\"2024-08-02T20:54:32+00:00\",\"2024-08-02T22:26:19+00:00\",\"2024-08-05T10:55:55+00:00\",\"2024-08-07T13:53:38+00:00\",\"2024-08-08T20:32:52+00:00\",\"2024-08-09T09:31:18+00:00\",\"2024-08-09T12:56:20+00:00\",\"2024-08-09T12:56:20+00:00\",\"2024-08-09T12:56:20+00:00\",\"2024-08-09T12:56:20+00:00\",\"2024-08-09T12:56:20+00:00\",\"2024-08-09T12:56:20+00:00\",\"2024-08-09T12:56:20+00:00\",\"2024-08-09T12:56:20+00:00\",\"2024-08-09T18:29:27+00:00\",\"2024-08-12T00:46:10+00:00\",\"2024-08-12T00:46:10+00:00\",\"2024-08-12T19:19:36+00:00\",\"2024-08-13T00:46:30+00:00\",\"2024-08-13T00:57:50+00:00\",\"2024-08-13T00:57:50+00:00\",\"2024-08-13T00:57:50+00:00\",\"2024-08-13T00:57:50+00:00\",\"2024-08-13T18:58:05+00:00\",\"2024-08-13T18:58:05+00:00\",\"2024-08-13T22:33:37+00:00\",\"2024-08-14T02:20:51+00:00\",\"2024-08-14T18:34:39+00:00\",\"2024-08-16T09:06:29+00:00\"],\"xaxis\":\"x\",\"y\":[0,859,131,976,2,45,858,1386,1386,858,2205,994,1018,156,174,2,371,2375,888,2185,2812,2761,316,157,2247,2364,2,473,476,3536,1851,859,646,669,3364,473,473,266,16,245],\"yaxis\":\"y\",\"type\":\"scatter\"}],                        {\"template\":{\"data\":{\"histogram2dcontour\":[{\"type\":\"histogram2dcontour\",\"colorbar\":{\"outlinewidth\":0,\"ticks\":\"\"},\"colorscale\":[[0.0,\"#0d0887\"],[0.1111111111111111,\"#46039f\"],[0.2222222222222222,\"#7201a8\"],[0.3333333333333333,\"#9c179e\"],[0.4444444444444444,\"#bd3786\"],[0.5555555555555556,\"#d8576b\"],[0.6666666666666666,\"#ed7953\"],[0.7777777777777778,\"#fb9f3a\"],[0.8888888888888888,\"#fdca26\"],[1.0,\"#f0f921\"]]}],\"choropleth\":[{\"type\":\"choropleth\",\"colorbar\":{\"outlinewidth\":0,\"ticks\":\"\"}}],\"histogram2d\":[{\"type\":\"histogram2d\",\"colorbar\":{\"outlinewidth\":0,\"ticks\":\"\"},\"colorscale\":[[0.0,\"#0d0887\"],[0.1111111111111111,\"#46039f\"],[0.2222222222222222,\"#7201a8\"],[0.3333333333333333,\"#9c179e\"],[0.4444444444444444,\"#bd3786\"],[0.5555555555555556,\"#d8576b\"],[0.6666666666666666,\"#ed7953\"],[0.7777777777777778,\"#fb9f3a\"],[0.8888888888888888,\"#fdca26\"],[1.0,\"#f0f921\"]]}],\"heatmap\":[{\"type\":\"heatmap\",\"colorbar\":{\"outlinewidth\":0,\"ticks\":\"\"},\"colorscale\":[[0.0,\"#0d0887\"],[0.1111111111111111,\"#46039f\"],[0.2222222222222222,\"#7201a8\"],[0.3333333333333333,\"#9c179e\"],[0.4444444444444444,\"#bd3786\"],[0.5555555555555556,\"#d8576b\"],[0.6666666666666666,\"#ed7953\"],[0.7777777777777778,\"#fb9f3a\"],[0.8888888888888888,\"#fdca26\"],[1.0,\"#f0f921\"]]}],\"heatmapgl\":[{\"type\":\"heatmapgl\",\"colorbar\":{\"outlinewidth\":0,\"ticks\":\"\"},\"colorscale\":[[0.0,\"#0d0887\"],[0.1111111111111111,\"#46039f\"],[0.2222222222222222,\"#7201a8\"],[0.3333333333333333,\"#9c179e\"],[0.4444444444444444,\"#bd3786\"],[0.5555555555555556,\"#d8576b\"],[0.6666666666666666,\"#ed7953\"],[0.7777777777777778,\"#fb9f3a\"],[0.8888888888888888,\"#fdca26\"],[1.0,\"#f0f921\"]]}],\"contourcarpet\":[{\"type\":\"contourcarpet\",\"colorbar\":{\"outlinewidth\":0,\"ticks\":\"\"}}],\"contour\":[{\"type\":\"contour\",\"colorbar\":{\"outlinewidth\":0,\"ticks\":\"\"},\"colorscale\":[[0.0,\"#0d0887\"],[0.1111111111111111,\"#46039f\"],[0.2222222222222222,\"#7201a8\"],[0.3333333333333333,\"#9c179e\"],[0.4444444444444444,\"#bd3786\"],[0.5555555555555556,\"#d8576b\"],[0.6666666666666666,\"#ed7953\"],[0.7777777777777778,\"#fb9f3a\"],[0.8888888888888888,\"#fdca26\"],[1.0,\"#f0f921\"]]}],\"surface\":[{\"type\":\"surface\",\"colorbar\":{\"outlinewidth\":0,\"ticks\":\"\"},\"colorscale\":[[0.0,\"#0d0887\"],[0.1111111111111111,\"#46039f\"],[0.2222222222222222,\"#7201a8\"],[0.3333333333333333,\"#9c179e\"],[0.4444444444444444,\"#bd3786\"],[0.5555555555555556,\"#d8576b\"],[0.6666666666666666,\"#ed7953\"],[0.7777777777777778,\"#fb9f3a\"],[0.8888888888888888,\"#fdca26\"],[1.0,\"#f0f921\"]]}],\"mesh3d\":[{\"type\":\"mesh3d\",\"colorbar\":{\"outlinewidth\":0,\"ticks\":\"\"}}],\"scatter\":[{\"fillpattern\":{\"fillmode\":\"overlay\",\"size\":10,\"solidity\":0.2},\"type\":\"scatter\"}],\"parcoords\":[{\"type\":\"parcoords\",\"line\":{\"colorbar\":{\"outlinewidth\":0,\"ticks\":\"\"}}}],\"scatterpolargl\":[{\"type\":\"scatterpolargl\",\"marker\":{\"colorbar\":{\"outlinewidth\":0,\"ticks\":\"\"}}}],\"bar\":[{\"error_x\":{\"color\":\"#2a3f5f\"},\"error_y\":{\"color\":\"#2a3f5f\"},\"marker\":{\"line\":{\"color\":\"#E5ECF6\",\"width\":0.5},\"pattern\":{\"fillmode\":\"overlay\",\"size\":10,\"solidity\":0.2}},\"type\":\"bar\"}],\"scattergeo\":[{\"type\":\"scattergeo\",\"marker\":{\"colorbar\":{\"outlinewidth\":0,\"ticks\":\"\"}}}],\"scatterpolar\":[{\"type\":\"scatterpolar\",\"marker\":{\"colorbar\":{\"outlinewidth\":0,\"ticks\":\"\"}}}],\"histogram\":[{\"marker\":{\"pattern\":{\"fillmode\":\"overlay\",\"size\":10,\"solidity\":0.2}},\"type\":\"histogram\"}],\"scattergl\":[{\"type\":\"scattergl\",\"marker\":{\"colorbar\":{\"outlinewidth\":0,\"ticks\":\"\"}}}],\"scatter3d\":[{\"type\":\"scatter3d\",\"line\":{\"colorbar\":{\"outlinewidth\":0,\"ticks\":\"\"}},\"marker\":{\"colorbar\":{\"outlinewidth\":0,\"ticks\":\"\"}}}],\"scattermapbox\":[{\"type\":\"scattermapbox\",\"marker\":{\"colorbar\":{\"outlinewidth\":0,\"ticks\":\"\"}}}],\"scatterternary\":[{\"type\":\"scatterternary\",\"marker\":{\"colorbar\":{\"outlinewidth\":0,\"ticks\":\"\"}}}],\"scattercarpet\":[{\"type\":\"scattercarpet\",\"marker\":{\"colorbar\":{\"outlinewidth\":0,\"ticks\":\"\"}}}],\"carpet\":[{\"aaxis\":{\"endlinecolor\":\"#2a3f5f\",\"gridcolor\":\"white\",\"linecolor\":\"white\",\"minorgridcolor\":\"white\",\"startlinecolor\":\"#2a3f5f\"},\"baxis\":{\"endlinecolor\":\"#2a3f5f\",\"gridcolor\":\"white\",\"linecolor\":\"white\",\"minorgridcolor\":\"white\",\"startlinecolor\":\"#2a3f5f\"},\"type\":\"carpet\"}],\"table\":[{\"cells\":{\"fill\":{\"color\":\"#EBF0F8\"},\"line\":{\"color\":\"white\"}},\"header\":{\"fill\":{\"color\":\"#C8D4E3\"},\"line\":{\"color\":\"white\"}},\"type\":\"table\"}],\"barpolar\":[{\"marker\":{\"line\":{\"color\":\"#E5ECF6\",\"width\":0.5},\"pattern\":{\"fillmode\":\"overlay\",\"size\":10,\"solidity\":0.2}},\"type\":\"barpolar\"}],\"pie\":[{\"automargin\":true,\"type\":\"pie\"}]},\"layout\":{\"autotypenumbers\":\"strict\",\"colorway\":[\"#636efa\",\"#EF553B\",\"#00cc96\",\"#ab63fa\",\"#FFA15A\",\"#19d3f3\",\"#FF6692\",\"#B6E880\",\"#FF97FF\",\"#FECB52\"],\"font\":{\"color\":\"#2a3f5f\"},\"hovermode\":\"closest\",\"hoverlabel\":{\"align\":\"left\"},\"paper_bgcolor\":\"white\",\"plot_bgcolor\":\"#E5ECF6\",\"polar\":{\"bgcolor\":\"#E5ECF6\",\"angularaxis\":{\"gridcolor\":\"white\",\"linecolor\":\"white\",\"ticks\":\"\"},\"radialaxis\":{\"gridcolor\":\"white\",\"linecolor\":\"white\",\"ticks\":\"\"}},\"ternary\":{\"bgcolor\":\"#E5ECF6\",\"aaxis\":{\"gridcolor\":\"white\",\"linecolor\":\"white\",\"ticks\":\"\"},\"baxis\":{\"gridcolor\":\"white\",\"linecolor\":\"white\",\"ticks\":\"\"},\"caxis\":{\"gridcolor\":\"white\",\"linecolor\":\"white\",\"ticks\":\"\"}},\"coloraxis\":{\"colorbar\":{\"outlinewidth\":0,\"ticks\":\"\"}},\"colorscale\":{\"sequential\":[[0.0,\"#0d0887\"],[0.1111111111111111,\"#46039f\"],[0.2222222222222222,\"#7201a8\"],[0.3333333333333333,\"#9c179e\"],[0.4444444444444444,\"#bd3786\"],[0.5555555555555556,\"#d8576b\"],[0.6666666666666666,\"#ed7953\"],[0.7777777777777778,\"#fb9f3a\"],[0.8888888888888888,\"#fdca26\"],[1.0,\"#f0f921\"]],\"sequentialminus\":[[0.0,\"#0d0887\"],[0.1111111111111111,\"#46039f\"],[0.2222222222222222,\"#7201a8\"],[0.3333333333333333,\"#9c179e\"],[0.4444444444444444,\"#bd3786\"],[0.5555555555555556,\"#d8576b\"],[0.6666666666666666,\"#ed7953\"],[0.7777777777777778,\"#fb9f3a\"],[0.8888888888888888,\"#fdca26\"],[1.0,\"#f0f921\"]],\"diverging\":[[0,\"#8e0152\"],[0.1,\"#c51b7d\"],[0.2,\"#de77ae\"],[0.3,\"#f1b6da\"],[0.4,\"#fde0ef\"],[0.5,\"#f7f7f7\"],[0.6,\"#e6f5d0\"],[0.7,\"#b8e186\"],[0.8,\"#7fbc41\"],[0.9,\"#4d9221\"],[1,\"#276419\"]]},\"xaxis\":{\"gridcolor\":\"white\",\"linecolor\":\"white\",\"ticks\":\"\",\"title\":{\"standoff\":15},\"zerolinecolor\":\"white\",\"automargin\":true,\"zerolinewidth\":2},\"yaxis\":{\"gridcolor\":\"white\",\"linecolor\":\"white\",\"ticks\":\"\",\"title\":{\"standoff\":15},\"zerolinecolor\":\"white\",\"automargin\":true,\"zerolinewidth\":2},\"scene\":{\"xaxis\":{\"backgroundcolor\":\"#E5ECF6\",\"gridcolor\":\"white\",\"linecolor\":\"white\",\"showbackground\":true,\"ticks\":\"\",\"zerolinecolor\":\"white\",\"gridwidth\":2},\"yaxis\":{\"backgroundcolor\":\"#E5ECF6\",\"gridcolor\":\"white\",\"linecolor\":\"white\",\"showbackground\":true,\"ticks\":\"\",\"zerolinecolor\":\"white\",\"gridwidth\":2},\"zaxis\":{\"backgroundcolor\":\"#E5ECF6\",\"gridcolor\":\"white\",\"linecolor\":\"white\",\"showbackground\":true,\"ticks\":\"\",\"zerolinecolor\":\"white\",\"gridwidth\":2}},\"shapedefaults\":{\"line\":{\"color\":\"#2a3f5f\"}},\"annotationdefaults\":{\"arrowcolor\":\"#2a3f5f\",\"arrowhead\":0,\"arrowwidth\":1},\"geo\":{\"bgcolor\":\"white\",\"landcolor\":\"#E5ECF6\",\"subunitcolor\":\"white\",\"showland\":true,\"showlakes\":true,\"lakecolor\":\"white\"},\"title\":{\"x\":0.05},\"mapbox\":{\"style\":\"light\"}}},\"xaxis\":{\"anchor\":\"y\",\"domain\":[0.0,1.0],\"title\":{\"text\":\"timestamp\"}},\"yaxis\":{\"anchor\":\"x\",\"domain\":[0.0,1.0],\"title\":{\"text\":\"diff_counts\"}},\"legend\":{\"tracegroupgap\":0},\"title\":{\"text\":\"dojo-android Release Frequency and Size\"},\"hovermode\":\"x unified\"},                        {\"responsive\": true}                    ).then(function(){\n                            \nvar gd = document.getElementById('ce06190d-fb6e-4dac-9566-ad4a41fa3ef2');\nvar x = new MutationObserver(function (mutations, observer) {{\n        var display = window.getComputedStyle(gd).display;\n        if (!display || display === 'none') {{\n            console.log([gd, 'removed!']);\n            Plotly.purge(gd);\n            observer.disconnect();\n        }}\n}});\n\n// Listen for the removal of the full notebook cells\nvar notebookContainer = gd.closest('#notebook-container');\nif (notebookContainer) {{\n    x.observe(notebookContainer, {childList: true});\n}}\n\n// Listen for the clearing of the current output cell\nvar outputEl = gd.closest('.output');\nif (outputEl) {{\n    x.observe(outputEl, {childList: true});\n}}\n\n                        })                };                });            </script>        </div>"
     },
     "metadata": {},
     "output_type": "display_data"
    }
   ],
   "source": [
    "hovertemplate = \"%{name}\"\n",
    "figure = px.line(\n",
    "    graph_df,\n",
    "    title=f'{repo_title} Release Frequency and Size',\n",
    "    x=\"timestamp\",\n",
    "    y=\"diff_counts\",\n",
    "    hover_name=\"name\",\n",
    "    markers=True\n",
    ")\n",
    "#figure.update_traces(mode=\"markers\")\n",
    "figure.update_layout(hovermode=\"x unified\")\n",
    "figure.show()"
   ]
  },
  {
   "cell_type": "code",
   "execution_count": null,
   "id": "5b2325db",
   "metadata": {
    "is_executing": true
   },
   "outputs": [],
   "source": [
    "graph_df.info()\n"
   ]
  },
  {
   "cell_type": "code",
   "outputs": [],
   "source": [],
   "metadata": {
    "collapsed": false,
    "is_executing": true
   },
   "id": "14b74057f12b0350",
   "execution_count": null
  },
  {
   "cell_type": "markdown",
   "source": [],
   "metadata": {
    "collapsed": false
   },
   "id": "41be635c1499b579"
  },
  {
   "cell_type": "markdown",
   "source": [
    "Add a change-type stacked graph based on diffs.\n"
   ],
   "metadata": {
    "collapsed": false
   },
   "id": "f6e3ef544c3eeb24"
  },
  {
   "cell_type": "code",
   "outputs": [],
   "source": [
    "by_date = lambda x: x.commit.authored_datetime\n",
    "sorted_tags = sorted(repo.tags, key=by_date)"
   ],
   "metadata": {
    "collapsed": false,
    "is_executing": true
   },
   "id": "272bd672326ad0cc",
   "execution_count": null
  },
  {
   "cell_type": "code",
   "outputs": [],
   "source": [
    "\n",
    "last_20 = sorted_tags[-20:]\n",
    "for x in last_20:\n",
    "    print(by_date(x), x)\n"
   ],
   "metadata": {
    "collapsed": false,
    "is_executing": true
   },
   "id": "31cb96f4ed727592",
   "execution_count": null
  },
  {
   "cell_type": "code",
   "outputs": [],
   "source": [
    "\n",
    "start = last_20[0]\n",
    "start\n"
   ],
   "metadata": {
    "collapsed": false,
    "is_executing": true
   },
   "id": "b04f5b334edbd72",
   "execution_count": null
  },
  {
   "cell_type": "code",
   "outputs": [],
   "source": [
    "from collections import Counter\n",
    "\n",
    "change_name = {\n",
    "    \"A\": \"Files Added\",\n",
    "    \"D\": \"Files Deleted\",\n",
    "    \"R\": \"Files Renamed\",\n",
    "    \"M\": \"Files Modified\"\n",
    "}\n",
    "\n",
    "\n",
    "def change_series(start, last_20):\n",
    "    for tag in last_20:\n",
    "        diffs = start.commit.diff(tag.commit)\n",
    "        yield {\n",
    "            'Date': start.commit.committed_datetime.date(),\n",
    "            'Name': start.name,\n",
    "            **Counter(change_name[x.change_type] for x in diffs)\n",
    "        }\n",
    "        start = tag\n",
    "\n",
    "\n",
    "change_df = pd.DataFrame(change_series(start, last_20))\n",
    "change_df"
   ],
   "metadata": {
    "collapsed": false,
    "is_executing": true
   },
   "id": "99114d2321bbaa78",
   "execution_count": null
  },
  {
   "cell_type": "code",
   "outputs": [],
   "source": [
    "figure = px.bar(\n",
    "    change_df,\n",
    "    title=f\"Changes Across Tags for {repo_title}\",\n",
    "    x=\"Name\",\n",
    "    y=list(change_name.values()),\n",
    "    labels=[\"Added\", \"Deleted\", \"Modified\", \"Removed\"],\n",
    "    hover_name=\"Name\",\n",
    "    hover_data=[\"Date\"],\n",
    "    text_auto='.2s'\n",
    ")\n",
    "figure.show()"
   ],
   "metadata": {
    "collapsed": false,
    "is_executing": true
   },
   "id": "5da5655644ad0118",
   "execution_count": null
  },
  {
   "cell_type": "code",
   "outputs": [],
   "source": [
    "figure = px.area(\n",
    "    change_df,\n",
    "    title=f\"Changes Across Tags for {repo_title}\",\n",
    "    x=\"Name\",\n",
    "    y=list(change_name.values()),\n",
    "    labels=[\"Added\", \"Deleted\", \"Modified\", \"Removed\"],\n",
    "    hover_name=\"Name\",\n",
    "    hover_data=[\"Date\"],\n",
    ")\n",
    "figure.show()"
   ],
   "metadata": {
    "collapsed": false,
    "is_executing": true
   },
   "id": "7ed181e9b78e0b6a",
   "execution_count": null
  }
 ],
 "metadata": {
  "kernelspec": {
   "display_name": "miner-kernel",
   "language": "python",
   "name": "miner-kernel"
  },
  "language_info": {
   "codemirror_mode": {
    "name": "ipython",
    "version": 3
   },
   "file_extension": ".py",
   "mimetype": "text/x-python",
   "name": "python",
   "nbconvert_exporter": "python",
   "pygments_lexer": "ipython3",
   "version": "3.11.9"
  }
 },
 "nbformat": 4,
 "nbformat_minor": 5
}
