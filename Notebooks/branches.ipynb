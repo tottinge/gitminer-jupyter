{
 "cells": [
  {
   "cell_type": "code",
   "execution_count": 1,
   "id": "initial_id",
   "metadata": {
    "collapsed": true,
    "ExecuteTime": {
     "end_time": "2024-08-19T14:55:03.898469Z",
     "start_time": "2024-08-19T14:55:03.717107Z"
    }
   },
   "outputs": [],
   "source": [
    "from collections import Counter\n",
    "\n",
    "import git\n",
    "import pandas as pd"
   ]
  },
  {
   "cell_type": "code",
   "outputs": [],
   "source": [
    "repo = git.Repo(\"../../ClassDojo/dojo-behavior-ios\")\n"
   ],
   "metadata": {
    "collapsed": false,
    "ExecuteTime": {
     "end_time": "2024-08-19T14:55:03.909766Z",
     "start_time": "2024-08-19T14:55:03.902070Z"
    }
   },
   "id": "dbe9310c4512605d",
   "execution_count": 2
  },
  {
   "cell_type": "code",
   "outputs": [
    {
     "data": {
      "text/plain": "['origin/HEAD',\n 'origin/add/parentCoparentInviteExperiment',\n 'origin/add/recapAsReconnectingV0',\n 'origin/add/recapAsReconnectingV0_1',\n 'origin/add/schoolwidePointsUnitTests',\n 'origin/add/svprogressHUDPresenter',\n 'origin/add/visionOSApp',\n 'origin/ag/add-ui-for-login-codes-experiment',\n 'origin/ag/spike-tfam-conn-card',\n 'origin/banders/newSalesPage20240729',\n 'origin/banders/newSalesPageSuperSelector20240730',\n 'origin/change/RevenueCat5',\n 'origin/concurrency-please-please-please',\n 'origin/conn/deferred-deeplinking-poc',\n 'origin/coredata/missing-school-debugging',\n 'origin/dojoWatch',\n 'origin/events/center-messages-view',\n 'origin/events/more-entrypoint-tweaks',\n 'origin/fix/parentSyncConnectedParents',\n 'origin/fix/revenueCatNetworkErrors',\n 'origin/fix/schoolwidePointsUI',\n 'origin/fix/switchSchoolsFromUL',\n 'origin/infra/feature-switches-package',\n 'origin/infra/webview-ulink',\n 'origin/l10n_master',\n 'origin/landscape-debug',\n 'origin/lg/adminSchoolVerificationRequests',\n 'origin/lg/parse-scanned-class-roster',\n 'origin/lg/school-verification-upload-photo',\n 'origin/master',\n 'origin/mentorsPDModal',\n 'origin/messaging/chat-sui',\n 'origin/messaging/parent-headers-threads-list',\n 'origin/messaging/t-unified-inbox-compose-button',\n 'origin/messaging/t-welcome-modal',\n 'origin/oidc/duplicate-email-error-handling',\n 'origin/oidc/e2e-linking',\n 'origin/oidc/email-first-linking',\n 'origin/oidc/encourage-oidc-banner',\n 'origin/oidc/enter-from-account-switcher',\n 'origin/oidc/fix-happier-classrooms-issue',\n 'origin/oidc/metrics',\n 'origin/oidc/prefil-email-if-skipped',\n 'origin/oidc/simple-e2e-test',\n 'origin/oidc/update-copy-login-to-link',\n 'origin/oidc_steel_thread/via_email_flow',\n 'origin/replace-home-consent-screen',\n 'origin/story/school-alert-fix',\n 'origin/testflight/classcreate-fullscreen-stepper',\n 'origin/testflight/invite-after-story',\n 'origin/tutor/complete-flow',\n 'origin/unreadCounts',\n 'origin/upload-service-concurrency-fixes']"
     },
     "execution_count": 37,
     "metadata": {},
     "output_type": "execute_result"
    }
   ],
   "source": [
    "refs = repo.refs\n",
    "remotes = [ref for ref in repo.refs if 'origin' in ref.name]\n",
    "[x.name for x in remotes]"
   ],
   "metadata": {
    "collapsed": false,
    "ExecuteTime": {
     "end_time": "2024-08-19T15:32:52.492983Z",
     "start_time": "2024-08-19T15:32:52.415329Z"
    }
   },
   "id": "434862853f2751de",
   "execution_count": 37
  },
  {
   "cell_type": "code",
   "outputs": [
    {
     "name": "stdout",
     "output_type": "stream",
     "text": [
      ", CD:2024-08-19, N:origin/HEAD, M:'Crowdin strings update #nochangelog (#13383)'\n",
      ", CD:2023-09-25, N:origin/add/parentCoparentInviteExperiment, M:'changing FS variants'\n",
      ", CD:2024-07-24, N:origin/add/recapAsReconnectingV0, M:'Merge branch 'master' into add/recapAsReconnectingV0'\n",
      ", CD:2024-08-06, N:origin/add/recapAsReconnectingV0_1, M:'Added new button for message teacher in recap-as-reconnecting'\n",
      ", CD:2024-07-26, N:origin/add/schoolwidePointsUnitTests, M:'style: Swiftformat'\n",
      ", CD:2024-08-09, N:origin/add/svprogressHUDPresenter, M:'Adding CDCProgressHUD'\n",
      ", CD:2024-01-02, N:origin/add/visionOSApp, M:'adding better entry point in app'\n",
      ", CD:2023-06-14, N:origin/ag/add-ui-for-login-codes-experiment, M:'Change default value enablesReturnKeyAutomatically back to false to not break existing code'\n",
      ", CD:2022-12-04, N:origin/ag/spike-tfam-conn-card, M:'Spike'\n",
      ", CD:2024-07-31, N:origin/banders/newSalesPage20240729, M:'Merge branch 'master' into banders/newSalesPage20240729'\n",
      ", CD:2024-07-31, N:origin/banders/newSalesPageSuperSelector20240730, M:'style: Swiftformat'\n",
      ", CD:2024-07-24, N:origin/change/RevenueCat5, M:'Merge branch 'master' into change/RevenueCat5'\n",
      ", CD:2024-08-19, N:origin/concurrency-please-please-please, M:'WIP'\n",
      ", CD:2022-11-15, N:origin/conn/deferred-deeplinking-poc, M:'handle the code deeplink'\n",
      ", CD:2024-05-27, N:origin/coredata/missing-school-debugging, M:'WIP'\n",
      ", CD:2024-01-16, N:origin/dojoWatch, M:'Added DojoWatch watchOS target'\n",
      ", CD:2023-12-21, N:origin/events/center-messages-view, M:'always center inbox title'\n",
      ", CD:2024-01-08, N:origin/events/more-entrypoint-tweaks, M:'Update CDTSchoolFeedViewControllerSnapshotTests.swift'\n",
      ", CD:2023-10-27, N:origin/fix/parentSyncConnectedParents, M:'adding back to manager family screen'\n",
      ", CD:2024-08-19, N:origin/fix/revenueCatNetworkErrors, M:'Merge branch 'master' into fix/revenueCatNetworkErrors'\n",
      ", CD:2024-07-29, N:origin/fix/schoolwidePointsUI, M:'Sync classrooms as well for points dashboard'\n",
      ", CD:2024-07-31, N:origin/fix/switchSchoolsFromUL, M:'broken again'\n",
      ", CD:2024-08-16, N:origin/infra/feature-switches-package, M:'feat: CDFeatureSwitches package'\n",
      ", CD:2024-08-16, N:origin/infra/webview-ulink, M:'basic support for auth'd webview universal link'\n",
      ", CD:2024-07-29, N:origin/l10n_master, M:'New translations localizable.xcstrings (Multilingual)'\n",
      ", CD:2024-01-30, N:origin/landscape-debug, M:'Add CDCLandscapeNavigator'\n",
      ", CD:2023-11-17, N:origin/lg/adminSchoolVerificationRequests, M:'Fix localization and image frame'\n",
      ", CD:2024-07-21, N:origin/lg/parse-scanned-class-roster, M:'Finalize navigation flow'\n",
      ", CD:2023-11-29, N:origin/lg/school-verification-upload-photo, M:'Add new schoolVerification attachment type and upload using service'\n",
      ", CD:2024-08-19, N:origin/master, M:'Crowdin strings update #nochangelog (#13383)'\n",
      ", CD:2024-08-01, N:origin/mentorsPDModal, M:'Merge branch 'master' into mentorsPDModal'\n",
      ", CD:2024-07-02, N:origin/messaging/chat-sui, M:'feat(Messaging): Chat view in SwiftUI  After rebase fixes'\n",
      ", CD:2024-07-31, N:origin/messaging/parent-headers-threads-list, M:'feat(Messaging): Parent headers in threads list  Headers as cells in list'\n",
      ", CD:2024-08-15, N:origin/messaging/t-unified-inbox-compose-button, M:'feat(Messaging): T Unified inbox compose button experiment  Event logs'\n",
      ", CD:2024-08-08, N:origin/messaging/t-welcome-modal, M:'feat(Messaging): T Welcome modal view'\n",
      ", CD:2024-07-24, N:origin/oidc/duplicate-email-error-handling, M:'style: Swiftformat'\n",
      ", CD:2024-07-25, N:origin/oidc/e2e-linking, M:'Merge branch 'master' into oidc/e2e-linking'\n",
      ", CD:2024-08-05, N:origin/oidc/email-first-linking, M:'WIP'\n",
      ", CD:2024-08-04, N:origin/oidc/encourage-oidc-banner, M:'WIP'\n",
      ", CD:2024-07-15, N:origin/oidc/enter-from-account-switcher, M:'WIP'\n",
      ", CD:2024-06-06, N:origin/oidc/fix-happier-classrooms-issue, M:'Merge branch 'master' into oidc/fix-happier-classrooms-issue'\n",
      ", CD:2024-07-22, N:origin/oidc/metrics, M:'(T/P) Cleanup account switcher no carrot experiments #removed #thisdoesnotrequiretestsipromise (#13115)'\n",
      ", CD:2024-07-29, N:origin/oidc/prefil-email-if-skipped, M:'style: Swiftformat'\n",
      ", CD:2024-07-10, N:origin/oidc/simple-e2e-test, M:'WIP'\n",
      ", CD:2024-07-23, N:origin/oidc/update-copy-login-to-link, M:'Update copy'\n",
      ", CD:2024-03-21, N:origin/oidc_steel_thread/via_email_flow, M:'WIP'\n",
      ", CD:2024-07-29, N:origin/replace-home-consent-screen, M:'Replace parent Consent modal (Deep Link)'\n",
      ", CD:2024-02-01, N:origin/story/school-alert-fix, M:'Update CDTStoryComposerView.swift'\n",
      ", CD:2023-07-24, N:origin/testflight/classcreate-fullscreen-stepper, M:'showDoneButton'\n",
      ", CD:2024-05-20, N:origin/testflight/invite-after-story, M:'empty commit'\n",
      ", CD:2023-12-09, N:origin/tutor/complete-flow, M:'prepayment view wip'\n",
      ", CD:2024-07-29, N:origin/unreadCounts, M:'Unverified schools filter'\n",
      ", CD:2024-07-08, N:origin/upload-service-concurrency-fixes, M:'Merge branch 'master' into upload-service-concurrency-fixes'\n"
     ]
    }
   ],
   "source": [
    "for x in remotes:\n",
    "    try:\n",
    "        commit = x.object\n",
    "        message = commit.message.replace('\\n', ' ').strip()\n",
    "        print(f\", CD:{commit.committed_datetime.date()}, N:{x.name}, M:'{message}'\")\n",
    "    except ValueError:\n",
    "        print(\"Ref {x} has no commit\")\n",
    "        continue"
   ],
   "metadata": {
    "collapsed": false,
    "ExecuteTime": {
     "end_time": "2024-08-19T15:37:10.069082Z",
     "start_time": "2024-08-19T15:37:09.999475Z"
    }
   },
   "id": "79df7d885ed7bcb1",
   "execution_count": 41
  },
  {
   "cell_type": "code",
   "outputs": [
    {
     "data": {
      "text/plain": "[(datetime.date(2022, 11, 15), 1),\n (datetime.date(2022, 12, 4), 1),\n (datetime.date(2023, 6, 14), 1),\n (datetime.date(2023, 7, 24), 1),\n (datetime.date(2023, 9, 25), 1),\n (datetime.date(2023, 10, 27), 1),\n (datetime.date(2023, 11, 17), 1),\n (datetime.date(2023, 11, 29), 1),\n (datetime.date(2023, 12, 9), 1),\n (datetime.date(2023, 12, 21), 1),\n (datetime.date(2024, 1, 2), 1),\n (datetime.date(2024, 1, 8), 1),\n (datetime.date(2024, 1, 16), 1),\n (datetime.date(2024, 1, 30), 1),\n (datetime.date(2024, 2, 1), 1),\n (datetime.date(2024, 3, 21), 1),\n (datetime.date(2024, 5, 20), 1),\n (datetime.date(2024, 5, 27), 1),\n (datetime.date(2024, 6, 6), 1),\n (datetime.date(2024, 7, 2), 1),\n (datetime.date(2024, 7, 8), 1),\n (datetime.date(2024, 7, 10), 1),\n (datetime.date(2024, 7, 15), 1),\n (datetime.date(2024, 7, 21), 1),\n (datetime.date(2024, 7, 22), 1),\n (datetime.date(2024, 7, 23), 1),\n (datetime.date(2024, 7, 24), 3),\n (datetime.date(2024, 7, 25), 1),\n (datetime.date(2024, 7, 26), 1),\n (datetime.date(2024, 7, 29), 5),\n (datetime.date(2024, 7, 31), 4),\n (datetime.date(2024, 8, 1), 1),\n (datetime.date(2024, 8, 4), 1),\n (datetime.date(2024, 8, 5), 1),\n (datetime.date(2024, 8, 6), 1),\n (datetime.date(2024, 8, 8), 1),\n (datetime.date(2024, 8, 9), 1),\n (datetime.date(2024, 8, 15), 1),\n (datetime.date(2024, 8, 16), 2),\n (datetime.date(2024, 8, 19), 4)]"
     },
     "execution_count": 42,
     "metadata": {},
     "output_type": "execute_result"
    }
   ],
   "source": [
    "branches = sorted(Counter(x.commit.committed_datetime.date() for x in remotes).items())\n",
    "branches"
   ],
   "metadata": {
    "collapsed": false,
    "ExecuteTime": {
     "end_time": "2024-08-19T15:37:14.396370Z",
     "start_time": "2024-08-19T15:37:14.383119Z"
    }
   },
   "id": "1d3b81314c59bbdf",
   "execution_count": 42
  },
  {
   "cell_type": "code",
   "outputs": [
    {
     "data": {
      "text/plain": "          Date  Branches\n0   2022-11-15         1\n1   2022-12-04         1\n2   2023-06-14         1\n3   2023-07-24         1\n4   2023-09-25         1\n5   2023-10-27         1\n6   2023-11-17         1\n7   2023-11-29         1\n8   2023-12-09         1\n9   2023-12-21         1\n10  2024-01-02         1\n11  2024-01-08         1\n12  2024-01-16         1\n13  2024-01-30         1\n14  2024-02-01         1\n15  2024-03-21         1\n16  2024-05-20         1\n17  2024-05-27         1\n18  2024-06-06         1\n19  2024-07-02         1\n20  2024-07-08         1\n21  2024-07-10         1\n22  2024-07-15         1\n23  2024-07-21         1\n24  2024-07-22         1\n25  2024-07-23         1\n26  2024-07-24         3\n27  2024-07-25         1\n28  2024-07-26         1\n29  2024-07-29         5\n30  2024-07-31         4\n31  2024-08-01         1\n32  2024-08-04         1\n33  2024-08-05         1\n34  2024-08-06         1\n35  2024-08-08         1\n36  2024-08-09         1\n37  2024-08-15         1\n38  2024-08-16         2\n39  2024-08-19         4",
      "text/html": "<div>\n<style scoped>\n    .dataframe tbody tr th:only-of-type {\n        vertical-align: middle;\n    }\n\n    .dataframe tbody tr th {\n        vertical-align: top;\n    }\n\n    .dataframe thead th {\n        text-align: right;\n    }\n</style>\n<table border=\"1\" class=\"dataframe\">\n  <thead>\n    <tr style=\"text-align: right;\">\n      <th></th>\n      <th>Date</th>\n      <th>Branches</th>\n    </tr>\n  </thead>\n  <tbody>\n    <tr>\n      <th>0</th>\n      <td>2022-11-15</td>\n      <td>1</td>\n    </tr>\n    <tr>\n      <th>1</th>\n      <td>2022-12-04</td>\n      <td>1</td>\n    </tr>\n    <tr>\n      <th>2</th>\n      <td>2023-06-14</td>\n      <td>1</td>\n    </tr>\n    <tr>\n      <th>3</th>\n      <td>2023-07-24</td>\n      <td>1</td>\n    </tr>\n    <tr>\n      <th>4</th>\n      <td>2023-09-25</td>\n      <td>1</td>\n    </tr>\n    <tr>\n      <th>5</th>\n      <td>2023-10-27</td>\n      <td>1</td>\n    </tr>\n    <tr>\n      <th>6</th>\n      <td>2023-11-17</td>\n      <td>1</td>\n    </tr>\n    <tr>\n      <th>7</th>\n      <td>2023-11-29</td>\n      <td>1</td>\n    </tr>\n    <tr>\n      <th>8</th>\n      <td>2023-12-09</td>\n      <td>1</td>\n    </tr>\n    <tr>\n      <th>9</th>\n      <td>2023-12-21</td>\n      <td>1</td>\n    </tr>\n    <tr>\n      <th>10</th>\n      <td>2024-01-02</td>\n      <td>1</td>\n    </tr>\n    <tr>\n      <th>11</th>\n      <td>2024-01-08</td>\n      <td>1</td>\n    </tr>\n    <tr>\n      <th>12</th>\n      <td>2024-01-16</td>\n      <td>1</td>\n    </tr>\n    <tr>\n      <th>13</th>\n      <td>2024-01-30</td>\n      <td>1</td>\n    </tr>\n    <tr>\n      <th>14</th>\n      <td>2024-02-01</td>\n      <td>1</td>\n    </tr>\n    <tr>\n      <th>15</th>\n      <td>2024-03-21</td>\n      <td>1</td>\n    </tr>\n    <tr>\n      <th>16</th>\n      <td>2024-05-20</td>\n      <td>1</td>\n    </tr>\n    <tr>\n      <th>17</th>\n      <td>2024-05-27</td>\n      <td>1</td>\n    </tr>\n    <tr>\n      <th>18</th>\n      <td>2024-06-06</td>\n      <td>1</td>\n    </tr>\n    <tr>\n      <th>19</th>\n      <td>2024-07-02</td>\n      <td>1</td>\n    </tr>\n    <tr>\n      <th>20</th>\n      <td>2024-07-08</td>\n      <td>1</td>\n    </tr>\n    <tr>\n      <th>21</th>\n      <td>2024-07-10</td>\n      <td>1</td>\n    </tr>\n    <tr>\n      <th>22</th>\n      <td>2024-07-15</td>\n      <td>1</td>\n    </tr>\n    <tr>\n      <th>23</th>\n      <td>2024-07-21</td>\n      <td>1</td>\n    </tr>\n    <tr>\n      <th>24</th>\n      <td>2024-07-22</td>\n      <td>1</td>\n    </tr>\n    <tr>\n      <th>25</th>\n      <td>2024-07-23</td>\n      <td>1</td>\n    </tr>\n    <tr>\n      <th>26</th>\n      <td>2024-07-24</td>\n      <td>3</td>\n    </tr>\n    <tr>\n      <th>27</th>\n      <td>2024-07-25</td>\n      <td>1</td>\n    </tr>\n    <tr>\n      <th>28</th>\n      <td>2024-07-26</td>\n      <td>1</td>\n    </tr>\n    <tr>\n      <th>29</th>\n      <td>2024-07-29</td>\n      <td>5</td>\n    </tr>\n    <tr>\n      <th>30</th>\n      <td>2024-07-31</td>\n      <td>4</td>\n    </tr>\n    <tr>\n      <th>31</th>\n      <td>2024-08-01</td>\n      <td>1</td>\n    </tr>\n    <tr>\n      <th>32</th>\n      <td>2024-08-04</td>\n      <td>1</td>\n    </tr>\n    <tr>\n      <th>33</th>\n      <td>2024-08-05</td>\n      <td>1</td>\n    </tr>\n    <tr>\n      <th>34</th>\n      <td>2024-08-06</td>\n      <td>1</td>\n    </tr>\n    <tr>\n      <th>35</th>\n      <td>2024-08-08</td>\n      <td>1</td>\n    </tr>\n    <tr>\n      <th>36</th>\n      <td>2024-08-09</td>\n      <td>1</td>\n    </tr>\n    <tr>\n      <th>37</th>\n      <td>2024-08-15</td>\n      <td>1</td>\n    </tr>\n    <tr>\n      <th>38</th>\n      <td>2024-08-16</td>\n      <td>2</td>\n    </tr>\n    <tr>\n      <th>39</th>\n      <td>2024-08-19</td>\n      <td>4</td>\n    </tr>\n  </tbody>\n</table>\n</div>"
     },
     "execution_count": 43,
     "metadata": {},
     "output_type": "execute_result"
    }
   ],
   "source": [
    "df = pd.DataFrame(branches, columns=['Date', 'Branches'])\n",
    "df"
   ],
   "metadata": {
    "collapsed": false,
    "ExecuteTime": {
     "end_time": "2024-08-19T15:37:17.748462Z",
     "start_time": "2024-08-19T15:37:17.744552Z"
    }
   },
   "id": "c18eb5a5df5d447d",
   "execution_count": 43
  },
  {
   "cell_type": "code",
   "outputs": [
    {
     "data": {
      "application/vnd.plotly.v1+json": {
       "data": [
        {
         "alignmentgroup": "True",
         "hovertemplate": "Date=%{x}<br>Branches=%{y}<extra></extra>",
         "legendgroup": "",
         "marker": {
          "color": "#636efa",
          "pattern": {
           "shape": ""
          }
         },
         "name": "",
         "offsetgroup": "",
         "orientation": "v",
         "showlegend": false,
         "textposition": "auto",
         "x": [
          "2022-11-15",
          "2022-12-04",
          "2023-06-14",
          "2023-07-24",
          "2023-09-25",
          "2023-10-27",
          "2023-11-17",
          "2023-11-29",
          "2023-12-09",
          "2023-12-21",
          "2024-01-02",
          "2024-01-08",
          "2024-01-16",
          "2024-01-30",
          "2024-02-01",
          "2024-03-21",
          "2024-05-20",
          "2024-05-27",
          "2024-06-06",
          "2024-07-02",
          "2024-07-08",
          "2024-07-10",
          "2024-07-15",
          "2024-07-21",
          "2024-07-22",
          "2024-07-23",
          "2024-07-24",
          "2024-07-25",
          "2024-07-26",
          "2024-07-29",
          "2024-07-31",
          "2024-08-01",
          "2024-08-04",
          "2024-08-05",
          "2024-08-06",
          "2024-08-08",
          "2024-08-09",
          "2024-08-15",
          "2024-08-16",
          "2024-08-19"
         ],
         "xaxis": "x",
         "y": [
          1,
          1,
          1,
          1,
          1,
          1,
          1,
          1,
          1,
          1,
          1,
          1,
          1,
          1,
          1,
          1,
          1,
          1,
          1,
          1,
          1,
          1,
          1,
          1,
          1,
          1,
          3,
          1,
          1,
          5,
          4,
          1,
          1,
          1,
          1,
          1,
          1,
          1,
          2,
          4
         ],
         "yaxis": "y",
         "type": "bar"
        }
       ],
       "layout": {
        "template": {
         "data": {
          "histogram2dcontour": [
           {
            "type": "histogram2dcontour",
            "colorbar": {
             "outlinewidth": 0,
             "ticks": ""
            },
            "colorscale": [
             [
              0.0,
              "#0d0887"
             ],
             [
              0.1111111111111111,
              "#46039f"
             ],
             [
              0.2222222222222222,
              "#7201a8"
             ],
             [
              0.3333333333333333,
              "#9c179e"
             ],
             [
              0.4444444444444444,
              "#bd3786"
             ],
             [
              0.5555555555555556,
              "#d8576b"
             ],
             [
              0.6666666666666666,
              "#ed7953"
             ],
             [
              0.7777777777777778,
              "#fb9f3a"
             ],
             [
              0.8888888888888888,
              "#fdca26"
             ],
             [
              1.0,
              "#f0f921"
             ]
            ]
           }
          ],
          "choropleth": [
           {
            "type": "choropleth",
            "colorbar": {
             "outlinewidth": 0,
             "ticks": ""
            }
           }
          ],
          "histogram2d": [
           {
            "type": "histogram2d",
            "colorbar": {
             "outlinewidth": 0,
             "ticks": ""
            },
            "colorscale": [
             [
              0.0,
              "#0d0887"
             ],
             [
              0.1111111111111111,
              "#46039f"
             ],
             [
              0.2222222222222222,
              "#7201a8"
             ],
             [
              0.3333333333333333,
              "#9c179e"
             ],
             [
              0.4444444444444444,
              "#bd3786"
             ],
             [
              0.5555555555555556,
              "#d8576b"
             ],
             [
              0.6666666666666666,
              "#ed7953"
             ],
             [
              0.7777777777777778,
              "#fb9f3a"
             ],
             [
              0.8888888888888888,
              "#fdca26"
             ],
             [
              1.0,
              "#f0f921"
             ]
            ]
           }
          ],
          "heatmap": [
           {
            "type": "heatmap",
            "colorbar": {
             "outlinewidth": 0,
             "ticks": ""
            },
            "colorscale": [
             [
              0.0,
              "#0d0887"
             ],
             [
              0.1111111111111111,
              "#46039f"
             ],
             [
              0.2222222222222222,
              "#7201a8"
             ],
             [
              0.3333333333333333,
              "#9c179e"
             ],
             [
              0.4444444444444444,
              "#bd3786"
             ],
             [
              0.5555555555555556,
              "#d8576b"
             ],
             [
              0.6666666666666666,
              "#ed7953"
             ],
             [
              0.7777777777777778,
              "#fb9f3a"
             ],
             [
              0.8888888888888888,
              "#fdca26"
             ],
             [
              1.0,
              "#f0f921"
             ]
            ]
           }
          ],
          "heatmapgl": [
           {
            "type": "heatmapgl",
            "colorbar": {
             "outlinewidth": 0,
             "ticks": ""
            },
            "colorscale": [
             [
              0.0,
              "#0d0887"
             ],
             [
              0.1111111111111111,
              "#46039f"
             ],
             [
              0.2222222222222222,
              "#7201a8"
             ],
             [
              0.3333333333333333,
              "#9c179e"
             ],
             [
              0.4444444444444444,
              "#bd3786"
             ],
             [
              0.5555555555555556,
              "#d8576b"
             ],
             [
              0.6666666666666666,
              "#ed7953"
             ],
             [
              0.7777777777777778,
              "#fb9f3a"
             ],
             [
              0.8888888888888888,
              "#fdca26"
             ],
             [
              1.0,
              "#f0f921"
             ]
            ]
           }
          ],
          "contourcarpet": [
           {
            "type": "contourcarpet",
            "colorbar": {
             "outlinewidth": 0,
             "ticks": ""
            }
           }
          ],
          "contour": [
           {
            "type": "contour",
            "colorbar": {
             "outlinewidth": 0,
             "ticks": ""
            },
            "colorscale": [
             [
              0.0,
              "#0d0887"
             ],
             [
              0.1111111111111111,
              "#46039f"
             ],
             [
              0.2222222222222222,
              "#7201a8"
             ],
             [
              0.3333333333333333,
              "#9c179e"
             ],
             [
              0.4444444444444444,
              "#bd3786"
             ],
             [
              0.5555555555555556,
              "#d8576b"
             ],
             [
              0.6666666666666666,
              "#ed7953"
             ],
             [
              0.7777777777777778,
              "#fb9f3a"
             ],
             [
              0.8888888888888888,
              "#fdca26"
             ],
             [
              1.0,
              "#f0f921"
             ]
            ]
           }
          ],
          "surface": [
           {
            "type": "surface",
            "colorbar": {
             "outlinewidth": 0,
             "ticks": ""
            },
            "colorscale": [
             [
              0.0,
              "#0d0887"
             ],
             [
              0.1111111111111111,
              "#46039f"
             ],
             [
              0.2222222222222222,
              "#7201a8"
             ],
             [
              0.3333333333333333,
              "#9c179e"
             ],
             [
              0.4444444444444444,
              "#bd3786"
             ],
             [
              0.5555555555555556,
              "#d8576b"
             ],
             [
              0.6666666666666666,
              "#ed7953"
             ],
             [
              0.7777777777777778,
              "#fb9f3a"
             ],
             [
              0.8888888888888888,
              "#fdca26"
             ],
             [
              1.0,
              "#f0f921"
             ]
            ]
           }
          ],
          "mesh3d": [
           {
            "type": "mesh3d",
            "colorbar": {
             "outlinewidth": 0,
             "ticks": ""
            }
           }
          ],
          "scatter": [
           {
            "fillpattern": {
             "fillmode": "overlay",
             "size": 10,
             "solidity": 0.2
            },
            "type": "scatter"
           }
          ],
          "parcoords": [
           {
            "type": "parcoords",
            "line": {
             "colorbar": {
              "outlinewidth": 0,
              "ticks": ""
             }
            }
           }
          ],
          "scatterpolargl": [
           {
            "type": "scatterpolargl",
            "marker": {
             "colorbar": {
              "outlinewidth": 0,
              "ticks": ""
             }
            }
           }
          ],
          "bar": [
           {
            "error_x": {
             "color": "#2a3f5f"
            },
            "error_y": {
             "color": "#2a3f5f"
            },
            "marker": {
             "line": {
              "color": "#E5ECF6",
              "width": 0.5
             },
             "pattern": {
              "fillmode": "overlay",
              "size": 10,
              "solidity": 0.2
             }
            },
            "type": "bar"
           }
          ],
          "scattergeo": [
           {
            "type": "scattergeo",
            "marker": {
             "colorbar": {
              "outlinewidth": 0,
              "ticks": ""
             }
            }
           }
          ],
          "scatterpolar": [
           {
            "type": "scatterpolar",
            "marker": {
             "colorbar": {
              "outlinewidth": 0,
              "ticks": ""
             }
            }
           }
          ],
          "histogram": [
           {
            "marker": {
             "pattern": {
              "fillmode": "overlay",
              "size": 10,
              "solidity": 0.2
             }
            },
            "type": "histogram"
           }
          ],
          "scattergl": [
           {
            "type": "scattergl",
            "marker": {
             "colorbar": {
              "outlinewidth": 0,
              "ticks": ""
             }
            }
           }
          ],
          "scatter3d": [
           {
            "type": "scatter3d",
            "line": {
             "colorbar": {
              "outlinewidth": 0,
              "ticks": ""
             }
            },
            "marker": {
             "colorbar": {
              "outlinewidth": 0,
              "ticks": ""
             }
            }
           }
          ],
          "scattermapbox": [
           {
            "type": "scattermapbox",
            "marker": {
             "colorbar": {
              "outlinewidth": 0,
              "ticks": ""
             }
            }
           }
          ],
          "scatterternary": [
           {
            "type": "scatterternary",
            "marker": {
             "colorbar": {
              "outlinewidth": 0,
              "ticks": ""
             }
            }
           }
          ],
          "scattercarpet": [
           {
            "type": "scattercarpet",
            "marker": {
             "colorbar": {
              "outlinewidth": 0,
              "ticks": ""
             }
            }
           }
          ],
          "carpet": [
           {
            "aaxis": {
             "endlinecolor": "#2a3f5f",
             "gridcolor": "white",
             "linecolor": "white",
             "minorgridcolor": "white",
             "startlinecolor": "#2a3f5f"
            },
            "baxis": {
             "endlinecolor": "#2a3f5f",
             "gridcolor": "white",
             "linecolor": "white",
             "minorgridcolor": "white",
             "startlinecolor": "#2a3f5f"
            },
            "type": "carpet"
           }
          ],
          "table": [
           {
            "cells": {
             "fill": {
              "color": "#EBF0F8"
             },
             "line": {
              "color": "white"
             }
            },
            "header": {
             "fill": {
              "color": "#C8D4E3"
             },
             "line": {
              "color": "white"
             }
            },
            "type": "table"
           }
          ],
          "barpolar": [
           {
            "marker": {
             "line": {
              "color": "#E5ECF6",
              "width": 0.5
             },
             "pattern": {
              "fillmode": "overlay",
              "size": 10,
              "solidity": 0.2
             }
            },
            "type": "barpolar"
           }
          ],
          "pie": [
           {
            "automargin": true,
            "type": "pie"
           }
          ]
         },
         "layout": {
          "autotypenumbers": "strict",
          "colorway": [
           "#636efa",
           "#EF553B",
           "#00cc96",
           "#ab63fa",
           "#FFA15A",
           "#19d3f3",
           "#FF6692",
           "#B6E880",
           "#FF97FF",
           "#FECB52"
          ],
          "font": {
           "color": "#2a3f5f"
          },
          "hovermode": "closest",
          "hoverlabel": {
           "align": "left"
          },
          "paper_bgcolor": "white",
          "plot_bgcolor": "#E5ECF6",
          "polar": {
           "bgcolor": "#E5ECF6",
           "angularaxis": {
            "gridcolor": "white",
            "linecolor": "white",
            "ticks": ""
           },
           "radialaxis": {
            "gridcolor": "white",
            "linecolor": "white",
            "ticks": ""
           }
          },
          "ternary": {
           "bgcolor": "#E5ECF6",
           "aaxis": {
            "gridcolor": "white",
            "linecolor": "white",
            "ticks": ""
           },
           "baxis": {
            "gridcolor": "white",
            "linecolor": "white",
            "ticks": ""
           },
           "caxis": {
            "gridcolor": "white",
            "linecolor": "white",
            "ticks": ""
           }
          },
          "coloraxis": {
           "colorbar": {
            "outlinewidth": 0,
            "ticks": ""
           }
          },
          "colorscale": {
           "sequential": [
            [
             0.0,
             "#0d0887"
            ],
            [
             0.1111111111111111,
             "#46039f"
            ],
            [
             0.2222222222222222,
             "#7201a8"
            ],
            [
             0.3333333333333333,
             "#9c179e"
            ],
            [
             0.4444444444444444,
             "#bd3786"
            ],
            [
             0.5555555555555556,
             "#d8576b"
            ],
            [
             0.6666666666666666,
             "#ed7953"
            ],
            [
             0.7777777777777778,
             "#fb9f3a"
            ],
            [
             0.8888888888888888,
             "#fdca26"
            ],
            [
             1.0,
             "#f0f921"
            ]
           ],
           "sequentialminus": [
            [
             0.0,
             "#0d0887"
            ],
            [
             0.1111111111111111,
             "#46039f"
            ],
            [
             0.2222222222222222,
             "#7201a8"
            ],
            [
             0.3333333333333333,
             "#9c179e"
            ],
            [
             0.4444444444444444,
             "#bd3786"
            ],
            [
             0.5555555555555556,
             "#d8576b"
            ],
            [
             0.6666666666666666,
             "#ed7953"
            ],
            [
             0.7777777777777778,
             "#fb9f3a"
            ],
            [
             0.8888888888888888,
             "#fdca26"
            ],
            [
             1.0,
             "#f0f921"
            ]
           ],
           "diverging": [
            [
             0,
             "#8e0152"
            ],
            [
             0.1,
             "#c51b7d"
            ],
            [
             0.2,
             "#de77ae"
            ],
            [
             0.3,
             "#f1b6da"
            ],
            [
             0.4,
             "#fde0ef"
            ],
            [
             0.5,
             "#f7f7f7"
            ],
            [
             0.6,
             "#e6f5d0"
            ],
            [
             0.7,
             "#b8e186"
            ],
            [
             0.8,
             "#7fbc41"
            ],
            [
             0.9,
             "#4d9221"
            ],
            [
             1,
             "#276419"
            ]
           ]
          },
          "xaxis": {
           "gridcolor": "white",
           "linecolor": "white",
           "ticks": "",
           "title": {
            "standoff": 15
           },
           "zerolinecolor": "white",
           "automargin": true,
           "zerolinewidth": 2
          },
          "yaxis": {
           "gridcolor": "white",
           "linecolor": "white",
           "ticks": "",
           "title": {
            "standoff": 15
           },
           "zerolinecolor": "white",
           "automargin": true,
           "zerolinewidth": 2
          },
          "scene": {
           "xaxis": {
            "backgroundcolor": "#E5ECF6",
            "gridcolor": "white",
            "linecolor": "white",
            "showbackground": true,
            "ticks": "",
            "zerolinecolor": "white",
            "gridwidth": 2
           },
           "yaxis": {
            "backgroundcolor": "#E5ECF6",
            "gridcolor": "white",
            "linecolor": "white",
            "showbackground": true,
            "ticks": "",
            "zerolinecolor": "white",
            "gridwidth": 2
           },
           "zaxis": {
            "backgroundcolor": "#E5ECF6",
            "gridcolor": "white",
            "linecolor": "white",
            "showbackground": true,
            "ticks": "",
            "zerolinecolor": "white",
            "gridwidth": 2
           }
          },
          "shapedefaults": {
           "line": {
            "color": "#2a3f5f"
           }
          },
          "annotationdefaults": {
           "arrowcolor": "#2a3f5f",
           "arrowhead": 0,
           "arrowwidth": 1
          },
          "geo": {
           "bgcolor": "white",
           "landcolor": "#E5ECF6",
           "subunitcolor": "white",
           "showland": true,
           "showlakes": true,
           "lakecolor": "white"
          },
          "title": {
           "x": 0.05
          },
          "mapbox": {
           "style": "light"
          }
         }
        },
        "xaxis": {
         "anchor": "y",
         "domain": [
          0.0,
          1.0
         ],
         "title": {
          "text": "Date"
         }
        },
        "yaxis": {
         "anchor": "x",
         "domain": [
          0.0,
          1.0
         ],
         "title": {
          "text": "Branches"
         }
        },
        "legend": {
         "tracegroupgap": 0
        },
        "title": {
         "text": "Branch Usage by Date"
        },
        "barmode": "relative"
       },
       "config": {
        "plotlyServerURL": "https://plot.ly"
       }
      },
      "text/html": "<div>                            <div id=\"1201d34e-2d19-44ce-a75a-6d3e4a589619\" class=\"plotly-graph-div\" style=\"height:525px; width:100%;\"></div>            <script type=\"text/javascript\">                require([\"plotly\"], function(Plotly) {                    window.PLOTLYENV=window.PLOTLYENV || {};                                    if (document.getElementById(\"1201d34e-2d19-44ce-a75a-6d3e4a589619\")) {                    Plotly.newPlot(                        \"1201d34e-2d19-44ce-a75a-6d3e4a589619\",                        [{\"alignmentgroup\":\"True\",\"hovertemplate\":\"Date=%{x}\\u003cbr\\u003eBranches=%{y}\\u003cextra\\u003e\\u003c\\u002fextra\\u003e\",\"legendgroup\":\"\",\"marker\":{\"color\":\"#636efa\",\"pattern\":{\"shape\":\"\"}},\"name\":\"\",\"offsetgroup\":\"\",\"orientation\":\"v\",\"showlegend\":false,\"textposition\":\"auto\",\"x\":[\"2022-11-15\",\"2022-12-04\",\"2023-06-14\",\"2023-07-24\",\"2023-09-25\",\"2023-10-27\",\"2023-11-17\",\"2023-11-29\",\"2023-12-09\",\"2023-12-21\",\"2024-01-02\",\"2024-01-08\",\"2024-01-16\",\"2024-01-30\",\"2024-02-01\",\"2024-03-21\",\"2024-05-20\",\"2024-05-27\",\"2024-06-06\",\"2024-07-02\",\"2024-07-08\",\"2024-07-10\",\"2024-07-15\",\"2024-07-21\",\"2024-07-22\",\"2024-07-23\",\"2024-07-24\",\"2024-07-25\",\"2024-07-26\",\"2024-07-29\",\"2024-07-31\",\"2024-08-01\",\"2024-08-04\",\"2024-08-05\",\"2024-08-06\",\"2024-08-08\",\"2024-08-09\",\"2024-08-15\",\"2024-08-16\",\"2024-08-19\"],\"xaxis\":\"x\",\"y\":[1,1,1,1,1,1,1,1,1,1,1,1,1,1,1,1,1,1,1,1,1,1,1,1,1,1,3,1,1,5,4,1,1,1,1,1,1,1,2,4],\"yaxis\":\"y\",\"type\":\"bar\"}],                        {\"template\":{\"data\":{\"histogram2dcontour\":[{\"type\":\"histogram2dcontour\",\"colorbar\":{\"outlinewidth\":0,\"ticks\":\"\"},\"colorscale\":[[0.0,\"#0d0887\"],[0.1111111111111111,\"#46039f\"],[0.2222222222222222,\"#7201a8\"],[0.3333333333333333,\"#9c179e\"],[0.4444444444444444,\"#bd3786\"],[0.5555555555555556,\"#d8576b\"],[0.6666666666666666,\"#ed7953\"],[0.7777777777777778,\"#fb9f3a\"],[0.8888888888888888,\"#fdca26\"],[1.0,\"#f0f921\"]]}],\"choropleth\":[{\"type\":\"choropleth\",\"colorbar\":{\"outlinewidth\":0,\"ticks\":\"\"}}],\"histogram2d\":[{\"type\":\"histogram2d\",\"colorbar\":{\"outlinewidth\":0,\"ticks\":\"\"},\"colorscale\":[[0.0,\"#0d0887\"],[0.1111111111111111,\"#46039f\"],[0.2222222222222222,\"#7201a8\"],[0.3333333333333333,\"#9c179e\"],[0.4444444444444444,\"#bd3786\"],[0.5555555555555556,\"#d8576b\"],[0.6666666666666666,\"#ed7953\"],[0.7777777777777778,\"#fb9f3a\"],[0.8888888888888888,\"#fdca26\"],[1.0,\"#f0f921\"]]}],\"heatmap\":[{\"type\":\"heatmap\",\"colorbar\":{\"outlinewidth\":0,\"ticks\":\"\"},\"colorscale\":[[0.0,\"#0d0887\"],[0.1111111111111111,\"#46039f\"],[0.2222222222222222,\"#7201a8\"],[0.3333333333333333,\"#9c179e\"],[0.4444444444444444,\"#bd3786\"],[0.5555555555555556,\"#d8576b\"],[0.6666666666666666,\"#ed7953\"],[0.7777777777777778,\"#fb9f3a\"],[0.8888888888888888,\"#fdca26\"],[1.0,\"#f0f921\"]]}],\"heatmapgl\":[{\"type\":\"heatmapgl\",\"colorbar\":{\"outlinewidth\":0,\"ticks\":\"\"},\"colorscale\":[[0.0,\"#0d0887\"],[0.1111111111111111,\"#46039f\"],[0.2222222222222222,\"#7201a8\"],[0.3333333333333333,\"#9c179e\"],[0.4444444444444444,\"#bd3786\"],[0.5555555555555556,\"#d8576b\"],[0.6666666666666666,\"#ed7953\"],[0.7777777777777778,\"#fb9f3a\"],[0.8888888888888888,\"#fdca26\"],[1.0,\"#f0f921\"]]}],\"contourcarpet\":[{\"type\":\"contourcarpet\",\"colorbar\":{\"outlinewidth\":0,\"ticks\":\"\"}}],\"contour\":[{\"type\":\"contour\",\"colorbar\":{\"outlinewidth\":0,\"ticks\":\"\"},\"colorscale\":[[0.0,\"#0d0887\"],[0.1111111111111111,\"#46039f\"],[0.2222222222222222,\"#7201a8\"],[0.3333333333333333,\"#9c179e\"],[0.4444444444444444,\"#bd3786\"],[0.5555555555555556,\"#d8576b\"],[0.6666666666666666,\"#ed7953\"],[0.7777777777777778,\"#fb9f3a\"],[0.8888888888888888,\"#fdca26\"],[1.0,\"#f0f921\"]]}],\"surface\":[{\"type\":\"surface\",\"colorbar\":{\"outlinewidth\":0,\"ticks\":\"\"},\"colorscale\":[[0.0,\"#0d0887\"],[0.1111111111111111,\"#46039f\"],[0.2222222222222222,\"#7201a8\"],[0.3333333333333333,\"#9c179e\"],[0.4444444444444444,\"#bd3786\"],[0.5555555555555556,\"#d8576b\"],[0.6666666666666666,\"#ed7953\"],[0.7777777777777778,\"#fb9f3a\"],[0.8888888888888888,\"#fdca26\"],[1.0,\"#f0f921\"]]}],\"mesh3d\":[{\"type\":\"mesh3d\",\"colorbar\":{\"outlinewidth\":0,\"ticks\":\"\"}}],\"scatter\":[{\"fillpattern\":{\"fillmode\":\"overlay\",\"size\":10,\"solidity\":0.2},\"type\":\"scatter\"}],\"parcoords\":[{\"type\":\"parcoords\",\"line\":{\"colorbar\":{\"outlinewidth\":0,\"ticks\":\"\"}}}],\"scatterpolargl\":[{\"type\":\"scatterpolargl\",\"marker\":{\"colorbar\":{\"outlinewidth\":0,\"ticks\":\"\"}}}],\"bar\":[{\"error_x\":{\"color\":\"#2a3f5f\"},\"error_y\":{\"color\":\"#2a3f5f\"},\"marker\":{\"line\":{\"color\":\"#E5ECF6\",\"width\":0.5},\"pattern\":{\"fillmode\":\"overlay\",\"size\":10,\"solidity\":0.2}},\"type\":\"bar\"}],\"scattergeo\":[{\"type\":\"scattergeo\",\"marker\":{\"colorbar\":{\"outlinewidth\":0,\"ticks\":\"\"}}}],\"scatterpolar\":[{\"type\":\"scatterpolar\",\"marker\":{\"colorbar\":{\"outlinewidth\":0,\"ticks\":\"\"}}}],\"histogram\":[{\"marker\":{\"pattern\":{\"fillmode\":\"overlay\",\"size\":10,\"solidity\":0.2}},\"type\":\"histogram\"}],\"scattergl\":[{\"type\":\"scattergl\",\"marker\":{\"colorbar\":{\"outlinewidth\":0,\"ticks\":\"\"}}}],\"scatter3d\":[{\"type\":\"scatter3d\",\"line\":{\"colorbar\":{\"outlinewidth\":0,\"ticks\":\"\"}},\"marker\":{\"colorbar\":{\"outlinewidth\":0,\"ticks\":\"\"}}}],\"scattermapbox\":[{\"type\":\"scattermapbox\",\"marker\":{\"colorbar\":{\"outlinewidth\":0,\"ticks\":\"\"}}}],\"scatterternary\":[{\"type\":\"scatterternary\",\"marker\":{\"colorbar\":{\"outlinewidth\":0,\"ticks\":\"\"}}}],\"scattercarpet\":[{\"type\":\"scattercarpet\",\"marker\":{\"colorbar\":{\"outlinewidth\":0,\"ticks\":\"\"}}}],\"carpet\":[{\"aaxis\":{\"endlinecolor\":\"#2a3f5f\",\"gridcolor\":\"white\",\"linecolor\":\"white\",\"minorgridcolor\":\"white\",\"startlinecolor\":\"#2a3f5f\"},\"baxis\":{\"endlinecolor\":\"#2a3f5f\",\"gridcolor\":\"white\",\"linecolor\":\"white\",\"minorgridcolor\":\"white\",\"startlinecolor\":\"#2a3f5f\"},\"type\":\"carpet\"}],\"table\":[{\"cells\":{\"fill\":{\"color\":\"#EBF0F8\"},\"line\":{\"color\":\"white\"}},\"header\":{\"fill\":{\"color\":\"#C8D4E3\"},\"line\":{\"color\":\"white\"}},\"type\":\"table\"}],\"barpolar\":[{\"marker\":{\"line\":{\"color\":\"#E5ECF6\",\"width\":0.5},\"pattern\":{\"fillmode\":\"overlay\",\"size\":10,\"solidity\":0.2}},\"type\":\"barpolar\"}],\"pie\":[{\"automargin\":true,\"type\":\"pie\"}]},\"layout\":{\"autotypenumbers\":\"strict\",\"colorway\":[\"#636efa\",\"#EF553B\",\"#00cc96\",\"#ab63fa\",\"#FFA15A\",\"#19d3f3\",\"#FF6692\",\"#B6E880\",\"#FF97FF\",\"#FECB52\"],\"font\":{\"color\":\"#2a3f5f\"},\"hovermode\":\"closest\",\"hoverlabel\":{\"align\":\"left\"},\"paper_bgcolor\":\"white\",\"plot_bgcolor\":\"#E5ECF6\",\"polar\":{\"bgcolor\":\"#E5ECF6\",\"angularaxis\":{\"gridcolor\":\"white\",\"linecolor\":\"white\",\"ticks\":\"\"},\"radialaxis\":{\"gridcolor\":\"white\",\"linecolor\":\"white\",\"ticks\":\"\"}},\"ternary\":{\"bgcolor\":\"#E5ECF6\",\"aaxis\":{\"gridcolor\":\"white\",\"linecolor\":\"white\",\"ticks\":\"\"},\"baxis\":{\"gridcolor\":\"white\",\"linecolor\":\"white\",\"ticks\":\"\"},\"caxis\":{\"gridcolor\":\"white\",\"linecolor\":\"white\",\"ticks\":\"\"}},\"coloraxis\":{\"colorbar\":{\"outlinewidth\":0,\"ticks\":\"\"}},\"colorscale\":{\"sequential\":[[0.0,\"#0d0887\"],[0.1111111111111111,\"#46039f\"],[0.2222222222222222,\"#7201a8\"],[0.3333333333333333,\"#9c179e\"],[0.4444444444444444,\"#bd3786\"],[0.5555555555555556,\"#d8576b\"],[0.6666666666666666,\"#ed7953\"],[0.7777777777777778,\"#fb9f3a\"],[0.8888888888888888,\"#fdca26\"],[1.0,\"#f0f921\"]],\"sequentialminus\":[[0.0,\"#0d0887\"],[0.1111111111111111,\"#46039f\"],[0.2222222222222222,\"#7201a8\"],[0.3333333333333333,\"#9c179e\"],[0.4444444444444444,\"#bd3786\"],[0.5555555555555556,\"#d8576b\"],[0.6666666666666666,\"#ed7953\"],[0.7777777777777778,\"#fb9f3a\"],[0.8888888888888888,\"#fdca26\"],[1.0,\"#f0f921\"]],\"diverging\":[[0,\"#8e0152\"],[0.1,\"#c51b7d\"],[0.2,\"#de77ae\"],[0.3,\"#f1b6da\"],[0.4,\"#fde0ef\"],[0.5,\"#f7f7f7\"],[0.6,\"#e6f5d0\"],[0.7,\"#b8e186\"],[0.8,\"#7fbc41\"],[0.9,\"#4d9221\"],[1,\"#276419\"]]},\"xaxis\":{\"gridcolor\":\"white\",\"linecolor\":\"white\",\"ticks\":\"\",\"title\":{\"standoff\":15},\"zerolinecolor\":\"white\",\"automargin\":true,\"zerolinewidth\":2},\"yaxis\":{\"gridcolor\":\"white\",\"linecolor\":\"white\",\"ticks\":\"\",\"title\":{\"standoff\":15},\"zerolinecolor\":\"white\",\"automargin\":true,\"zerolinewidth\":2},\"scene\":{\"xaxis\":{\"backgroundcolor\":\"#E5ECF6\",\"gridcolor\":\"white\",\"linecolor\":\"white\",\"showbackground\":true,\"ticks\":\"\",\"zerolinecolor\":\"white\",\"gridwidth\":2},\"yaxis\":{\"backgroundcolor\":\"#E5ECF6\",\"gridcolor\":\"white\",\"linecolor\":\"white\",\"showbackground\":true,\"ticks\":\"\",\"zerolinecolor\":\"white\",\"gridwidth\":2},\"zaxis\":{\"backgroundcolor\":\"#E5ECF6\",\"gridcolor\":\"white\",\"linecolor\":\"white\",\"showbackground\":true,\"ticks\":\"\",\"zerolinecolor\":\"white\",\"gridwidth\":2}},\"shapedefaults\":{\"line\":{\"color\":\"#2a3f5f\"}},\"annotationdefaults\":{\"arrowcolor\":\"#2a3f5f\",\"arrowhead\":0,\"arrowwidth\":1},\"geo\":{\"bgcolor\":\"white\",\"landcolor\":\"#E5ECF6\",\"subunitcolor\":\"white\",\"showland\":true,\"showlakes\":true,\"lakecolor\":\"white\"},\"title\":{\"x\":0.05},\"mapbox\":{\"style\":\"light\"}}},\"xaxis\":{\"anchor\":\"y\",\"domain\":[0.0,1.0],\"title\":{\"text\":\"Date\"}},\"yaxis\":{\"anchor\":\"x\",\"domain\":[0.0,1.0],\"title\":{\"text\":\"Branches\"}},\"legend\":{\"tracegroupgap\":0},\"title\":{\"text\":\"Branch Usage by Date\"},\"barmode\":\"relative\"},                        {\"responsive\": true}                    ).then(function(){\n                            \nvar gd = document.getElementById('1201d34e-2d19-44ce-a75a-6d3e4a589619');\nvar x = new MutationObserver(function (mutations, observer) {{\n        var display = window.getComputedStyle(gd).display;\n        if (!display || display === 'none') {{\n            console.log([gd, 'removed!']);\n            Plotly.purge(gd);\n            observer.disconnect();\n        }}\n}});\n\n// Listen for the removal of the full notebook cells\nvar notebookContainer = gd.closest('#notebook-container');\nif (notebookContainer) {{\n    x.observe(notebookContainer, {childList: true});\n}}\n\n// Listen for the clearing of the current output cell\nvar outputEl = gd.closest('.output');\nif (outputEl) {{\n    x.observe(outputEl, {childList: true});\n}}\n\n                        })                };                });            </script>        </div>"
     },
     "metadata": {},
     "output_type": "display_data"
    }
   ],
   "source": [
    "import plotly.express as px\n",
    "\n",
    "figure = px.bar(\n",
    "    df,\n",
    "    x=\"Date\",\n",
    "    y=\"Branches\",\n",
    "    hover_data=[\"Date\"],\n",
    "    title=\"Branch Usage by Date\"\n",
    ")\n",
    "figure.show()\n"
   ],
   "metadata": {
    "collapsed": false,
    "ExecuteTime": {
     "end_time": "2024-08-19T15:39:36.905834Z",
     "start_time": "2024-08-19T15:39:36.885143Z"
    }
   },
   "id": "eff414d385c37aad",
   "execution_count": 49
  },
  {
   "cell_type": "code",
   "outputs": [
    {
     "data": {
      "text/plain": "                                              Branch        Date\n0                                        origin/HEAD  2024-08-19\n1                   origin/add/recapAsReconnectingV0  2024-07-24\n2                 origin/add/recapAsReconnectingV0_1  2024-08-06\n3               origin/add/schoolwidePointsUnitTests  2024-07-26\n4                  origin/add/svprogressHUDPresenter  2024-08-09\n5                origin/banders/newSalesPage20240729  2024-07-31\n6   origin/banders/newSalesPageSuperSelector20240730  2024-07-31\n7                          origin/change/RevenueCat5  2024-07-24\n8            origin/concurrency-please-please-please  2024-08-19\n9           origin/coredata/missing-school-debugging  2024-05-27\n10                origin/fix/revenueCatNetworkErrors  2024-08-19\n11                     origin/fix/schoolwidePointsUI  2024-07-29\n12                    origin/fix/switchSchoolsFromUL  2024-07-31\n13             origin/infra/feature-switches-package  2024-08-16\n14                        origin/infra/webview-ulink  2024-08-16\n15                                origin/l10n_master  2024-07-29\n16              origin/lg/parse-scanned-class-roster  2024-07-21\n17                                     origin/master  2024-08-19\n18                             origin/mentorsPDModal  2024-08-01\n19                         origin/messaging/chat-sui  2024-07-02\n20      origin/messaging/parent-headers-threads-list  2024-07-31\n21   origin/messaging/t-unified-inbox-compose-button  2024-08-15\n22                  origin/messaging/t-welcome-modal  2024-08-08\n23        origin/oidc/duplicate-email-error-handling  2024-07-24\n24                           origin/oidc/e2e-linking  2024-07-25\n25                   origin/oidc/email-first-linking  2024-08-05\n26                 origin/oidc/encourage-oidc-banner  2024-08-04\n27           origin/oidc/enter-from-account-switcher  2024-07-15\n28          origin/oidc/fix-happier-classrooms-issue  2024-06-06\n29                               origin/oidc/metrics  2024-07-22\n30               origin/oidc/prefil-email-if-skipped  2024-07-29\n31                       origin/oidc/simple-e2e-test  2024-07-10\n32             origin/oidc/update-copy-login-to-link  2024-07-23\n33           origin/oidc_steel_thread/via_email_flow  2024-03-21\n34                origin/replace-home-consent-screen  2024-07-29\n35              origin/testflight/invite-after-story  2024-05-20\n36                               origin/unreadCounts  2024-07-29\n37           origin/upload-service-concurrency-fixes  2024-07-08",
      "text/html": "<div>\n<style scoped>\n    .dataframe tbody tr th:only-of-type {\n        vertical-align: middle;\n    }\n\n    .dataframe tbody tr th {\n        vertical-align: top;\n    }\n\n    .dataframe thead th {\n        text-align: right;\n    }\n</style>\n<table border=\"1\" class=\"dataframe\">\n  <thead>\n    <tr style=\"text-align: right;\">\n      <th></th>\n      <th>Branch</th>\n      <th>Date</th>\n    </tr>\n  </thead>\n  <tbody>\n    <tr>\n      <th>0</th>\n      <td>origin/HEAD</td>\n      <td>2024-08-19</td>\n    </tr>\n    <tr>\n      <th>1</th>\n      <td>origin/add/recapAsReconnectingV0</td>\n      <td>2024-07-24</td>\n    </tr>\n    <tr>\n      <th>2</th>\n      <td>origin/add/recapAsReconnectingV0_1</td>\n      <td>2024-08-06</td>\n    </tr>\n    <tr>\n      <th>3</th>\n      <td>origin/add/schoolwidePointsUnitTests</td>\n      <td>2024-07-26</td>\n    </tr>\n    <tr>\n      <th>4</th>\n      <td>origin/add/svprogressHUDPresenter</td>\n      <td>2024-08-09</td>\n    </tr>\n    <tr>\n      <th>5</th>\n      <td>origin/banders/newSalesPage20240729</td>\n      <td>2024-07-31</td>\n    </tr>\n    <tr>\n      <th>6</th>\n      <td>origin/banders/newSalesPageSuperSelector20240730</td>\n      <td>2024-07-31</td>\n    </tr>\n    <tr>\n      <th>7</th>\n      <td>origin/change/RevenueCat5</td>\n      <td>2024-07-24</td>\n    </tr>\n    <tr>\n      <th>8</th>\n      <td>origin/concurrency-please-please-please</td>\n      <td>2024-08-19</td>\n    </tr>\n    <tr>\n      <th>9</th>\n      <td>origin/coredata/missing-school-debugging</td>\n      <td>2024-05-27</td>\n    </tr>\n    <tr>\n      <th>10</th>\n      <td>origin/fix/revenueCatNetworkErrors</td>\n      <td>2024-08-19</td>\n    </tr>\n    <tr>\n      <th>11</th>\n      <td>origin/fix/schoolwidePointsUI</td>\n      <td>2024-07-29</td>\n    </tr>\n    <tr>\n      <th>12</th>\n      <td>origin/fix/switchSchoolsFromUL</td>\n      <td>2024-07-31</td>\n    </tr>\n    <tr>\n      <th>13</th>\n      <td>origin/infra/feature-switches-package</td>\n      <td>2024-08-16</td>\n    </tr>\n    <tr>\n      <th>14</th>\n      <td>origin/infra/webview-ulink</td>\n      <td>2024-08-16</td>\n    </tr>\n    <tr>\n      <th>15</th>\n      <td>origin/l10n_master</td>\n      <td>2024-07-29</td>\n    </tr>\n    <tr>\n      <th>16</th>\n      <td>origin/lg/parse-scanned-class-roster</td>\n      <td>2024-07-21</td>\n    </tr>\n    <tr>\n      <th>17</th>\n      <td>origin/master</td>\n      <td>2024-08-19</td>\n    </tr>\n    <tr>\n      <th>18</th>\n      <td>origin/mentorsPDModal</td>\n      <td>2024-08-01</td>\n    </tr>\n    <tr>\n      <th>19</th>\n      <td>origin/messaging/chat-sui</td>\n      <td>2024-07-02</td>\n    </tr>\n    <tr>\n      <th>20</th>\n      <td>origin/messaging/parent-headers-threads-list</td>\n      <td>2024-07-31</td>\n    </tr>\n    <tr>\n      <th>21</th>\n      <td>origin/messaging/t-unified-inbox-compose-button</td>\n      <td>2024-08-15</td>\n    </tr>\n    <tr>\n      <th>22</th>\n      <td>origin/messaging/t-welcome-modal</td>\n      <td>2024-08-08</td>\n    </tr>\n    <tr>\n      <th>23</th>\n      <td>origin/oidc/duplicate-email-error-handling</td>\n      <td>2024-07-24</td>\n    </tr>\n    <tr>\n      <th>24</th>\n      <td>origin/oidc/e2e-linking</td>\n      <td>2024-07-25</td>\n    </tr>\n    <tr>\n      <th>25</th>\n      <td>origin/oidc/email-first-linking</td>\n      <td>2024-08-05</td>\n    </tr>\n    <tr>\n      <th>26</th>\n      <td>origin/oidc/encourage-oidc-banner</td>\n      <td>2024-08-04</td>\n    </tr>\n    <tr>\n      <th>27</th>\n      <td>origin/oidc/enter-from-account-switcher</td>\n      <td>2024-07-15</td>\n    </tr>\n    <tr>\n      <th>28</th>\n      <td>origin/oidc/fix-happier-classrooms-issue</td>\n      <td>2024-06-06</td>\n    </tr>\n    <tr>\n      <th>29</th>\n      <td>origin/oidc/metrics</td>\n      <td>2024-07-22</td>\n    </tr>\n    <tr>\n      <th>30</th>\n      <td>origin/oidc/prefil-email-if-skipped</td>\n      <td>2024-07-29</td>\n    </tr>\n    <tr>\n      <th>31</th>\n      <td>origin/oidc/simple-e2e-test</td>\n      <td>2024-07-10</td>\n    </tr>\n    <tr>\n      <th>32</th>\n      <td>origin/oidc/update-copy-login-to-link</td>\n      <td>2024-07-23</td>\n    </tr>\n    <tr>\n      <th>33</th>\n      <td>origin/oidc_steel_thread/via_email_flow</td>\n      <td>2024-03-21</td>\n    </tr>\n    <tr>\n      <th>34</th>\n      <td>origin/replace-home-consent-screen</td>\n      <td>2024-07-29</td>\n    </tr>\n    <tr>\n      <th>35</th>\n      <td>origin/testflight/invite-after-story</td>\n      <td>2024-05-20</td>\n    </tr>\n    <tr>\n      <th>36</th>\n      <td>origin/unreadCounts</td>\n      <td>2024-07-29</td>\n    </tr>\n    <tr>\n      <th>37</th>\n      <td>origin/upload-service-concurrency-fixes</td>\n      <td>2024-07-08</td>\n    </tr>\n  </tbody>\n</table>\n</div>"
     },
     "execution_count": 50,
     "metadata": {},
     "output_type": "execute_result"
    }
   ],
   "source": [
    "from datetime import datetime, timedelta\n",
    "\n",
    "start_date = datetime.today().astimezone() - timedelta(weeks=26)\n",
    "stuff = [(branch.name, branch.object.committed_datetime.date())\n",
    "         for branch in remotes\n",
    "         if branch.object.committed_datetime >= start_date]\n",
    "stuff_df = pd.DataFrame(stuff, columns=['Branch', 'Date'])\n",
    "stuff_df"
   ],
   "metadata": {
    "collapsed": false,
    "ExecuteTime": {
     "end_time": "2024-08-19T15:39:41.583435Z",
     "start_time": "2024-08-19T15:39:41.566652Z"
    }
   },
   "id": "fff29d9baf17ac66",
   "execution_count": 50
  },
  {
   "cell_type": "code",
   "outputs": [
    {
     "data": {
      "application/vnd.plotly.v1+json": {
       "data": [
        {
         "alignmentgroup": "True",
         "hovertemplate": "<b>%{hovertext}</b><br><br>Date=%{x}<br>count=%{y}<extra></extra>",
         "hovertext": [
          "origin/HEAD",
          "origin/add/recapAsReconnectingV0",
          "origin/add/recapAsReconnectingV0_1",
          "origin/add/schoolwidePointsUnitTests",
          "origin/add/svprogressHUDPresenter",
          "origin/banders/newSalesPage20240729",
          "origin/banders/newSalesPageSuperSelector20240730",
          "origin/change/RevenueCat5",
          "origin/concurrency-please-please-please",
          "origin/coredata/missing-school-debugging",
          "origin/fix/revenueCatNetworkErrors",
          "origin/fix/schoolwidePointsUI",
          "origin/fix/switchSchoolsFromUL",
          "origin/infra/feature-switches-package",
          "origin/infra/webview-ulink",
          "origin/l10n_master",
          "origin/lg/parse-scanned-class-roster",
          "origin/master",
          "origin/mentorsPDModal",
          "origin/messaging/chat-sui",
          "origin/messaging/parent-headers-threads-list",
          "origin/messaging/t-unified-inbox-compose-button",
          "origin/messaging/t-welcome-modal",
          "origin/oidc/duplicate-email-error-handling",
          "origin/oidc/e2e-linking",
          "origin/oidc/email-first-linking",
          "origin/oidc/encourage-oidc-banner",
          "origin/oidc/enter-from-account-switcher",
          "origin/oidc/fix-happier-classrooms-issue",
          "origin/oidc/metrics",
          "origin/oidc/prefil-email-if-skipped",
          "origin/oidc/simple-e2e-test",
          "origin/oidc/update-copy-login-to-link",
          "origin/oidc_steel_thread/via_email_flow",
          "origin/replace-home-consent-screen",
          "origin/testflight/invite-after-story",
          "origin/unreadCounts",
          "origin/upload-service-concurrency-fixes"
         ],
         "legendgroup": "",
         "marker": {
          "color": "#636efa",
          "pattern": {
           "shape": ""
          }
         },
         "name": "",
         "offsetgroup": "",
         "orientation": "v",
         "showlegend": false,
         "textposition": "auto",
         "x": [
          "2024-08-19",
          "2024-07-24",
          "2024-08-06",
          "2024-07-26",
          "2024-08-09",
          "2024-07-31",
          "2024-07-31",
          "2024-07-24",
          "2024-08-19",
          "2024-05-27",
          "2024-08-19",
          "2024-07-29",
          "2024-07-31",
          "2024-08-16",
          "2024-08-16",
          "2024-07-29",
          "2024-07-21",
          "2024-08-19",
          "2024-08-01",
          "2024-07-02",
          "2024-07-31",
          "2024-08-15",
          "2024-08-08",
          "2024-07-24",
          "2024-07-25",
          "2024-08-05",
          "2024-08-04",
          "2024-07-15",
          "2024-06-06",
          "2024-07-22",
          "2024-07-29",
          "2024-07-10",
          "2024-07-23",
          "2024-03-21",
          "2024-07-29",
          "2024-05-20",
          "2024-07-29",
          "2024-07-08"
         ],
         "xaxis": "x",
         "y": [
          1,
          1,
          1,
          1,
          1,
          1,
          1,
          1,
          1,
          1,
          1,
          1,
          1,
          1,
          1,
          1,
          1,
          1,
          1,
          1,
          1,
          1,
          1,
          1,
          1,
          1,
          1,
          1,
          1,
          1,
          1,
          1,
          1,
          1,
          1,
          1,
          1,
          1
         ],
         "yaxis": "y",
         "type": "bar"
        }
       ],
       "layout": {
        "template": {
         "data": {
          "histogram2dcontour": [
           {
            "type": "histogram2dcontour",
            "colorbar": {
             "outlinewidth": 0,
             "ticks": ""
            },
            "colorscale": [
             [
              0.0,
              "#0d0887"
             ],
             [
              0.1111111111111111,
              "#46039f"
             ],
             [
              0.2222222222222222,
              "#7201a8"
             ],
             [
              0.3333333333333333,
              "#9c179e"
             ],
             [
              0.4444444444444444,
              "#bd3786"
             ],
             [
              0.5555555555555556,
              "#d8576b"
             ],
             [
              0.6666666666666666,
              "#ed7953"
             ],
             [
              0.7777777777777778,
              "#fb9f3a"
             ],
             [
              0.8888888888888888,
              "#fdca26"
             ],
             [
              1.0,
              "#f0f921"
             ]
            ]
           }
          ],
          "choropleth": [
           {
            "type": "choropleth",
            "colorbar": {
             "outlinewidth": 0,
             "ticks": ""
            }
           }
          ],
          "histogram2d": [
           {
            "type": "histogram2d",
            "colorbar": {
             "outlinewidth": 0,
             "ticks": ""
            },
            "colorscale": [
             [
              0.0,
              "#0d0887"
             ],
             [
              0.1111111111111111,
              "#46039f"
             ],
             [
              0.2222222222222222,
              "#7201a8"
             ],
             [
              0.3333333333333333,
              "#9c179e"
             ],
             [
              0.4444444444444444,
              "#bd3786"
             ],
             [
              0.5555555555555556,
              "#d8576b"
             ],
             [
              0.6666666666666666,
              "#ed7953"
             ],
             [
              0.7777777777777778,
              "#fb9f3a"
             ],
             [
              0.8888888888888888,
              "#fdca26"
             ],
             [
              1.0,
              "#f0f921"
             ]
            ]
           }
          ],
          "heatmap": [
           {
            "type": "heatmap",
            "colorbar": {
             "outlinewidth": 0,
             "ticks": ""
            },
            "colorscale": [
             [
              0.0,
              "#0d0887"
             ],
             [
              0.1111111111111111,
              "#46039f"
             ],
             [
              0.2222222222222222,
              "#7201a8"
             ],
             [
              0.3333333333333333,
              "#9c179e"
             ],
             [
              0.4444444444444444,
              "#bd3786"
             ],
             [
              0.5555555555555556,
              "#d8576b"
             ],
             [
              0.6666666666666666,
              "#ed7953"
             ],
             [
              0.7777777777777778,
              "#fb9f3a"
             ],
             [
              0.8888888888888888,
              "#fdca26"
             ],
             [
              1.0,
              "#f0f921"
             ]
            ]
           }
          ],
          "heatmapgl": [
           {
            "type": "heatmapgl",
            "colorbar": {
             "outlinewidth": 0,
             "ticks": ""
            },
            "colorscale": [
             [
              0.0,
              "#0d0887"
             ],
             [
              0.1111111111111111,
              "#46039f"
             ],
             [
              0.2222222222222222,
              "#7201a8"
             ],
             [
              0.3333333333333333,
              "#9c179e"
             ],
             [
              0.4444444444444444,
              "#bd3786"
             ],
             [
              0.5555555555555556,
              "#d8576b"
             ],
             [
              0.6666666666666666,
              "#ed7953"
             ],
             [
              0.7777777777777778,
              "#fb9f3a"
             ],
             [
              0.8888888888888888,
              "#fdca26"
             ],
             [
              1.0,
              "#f0f921"
             ]
            ]
           }
          ],
          "contourcarpet": [
           {
            "type": "contourcarpet",
            "colorbar": {
             "outlinewidth": 0,
             "ticks": ""
            }
           }
          ],
          "contour": [
           {
            "type": "contour",
            "colorbar": {
             "outlinewidth": 0,
             "ticks": ""
            },
            "colorscale": [
             [
              0.0,
              "#0d0887"
             ],
             [
              0.1111111111111111,
              "#46039f"
             ],
             [
              0.2222222222222222,
              "#7201a8"
             ],
             [
              0.3333333333333333,
              "#9c179e"
             ],
             [
              0.4444444444444444,
              "#bd3786"
             ],
             [
              0.5555555555555556,
              "#d8576b"
             ],
             [
              0.6666666666666666,
              "#ed7953"
             ],
             [
              0.7777777777777778,
              "#fb9f3a"
             ],
             [
              0.8888888888888888,
              "#fdca26"
             ],
             [
              1.0,
              "#f0f921"
             ]
            ]
           }
          ],
          "surface": [
           {
            "type": "surface",
            "colorbar": {
             "outlinewidth": 0,
             "ticks": ""
            },
            "colorscale": [
             [
              0.0,
              "#0d0887"
             ],
             [
              0.1111111111111111,
              "#46039f"
             ],
             [
              0.2222222222222222,
              "#7201a8"
             ],
             [
              0.3333333333333333,
              "#9c179e"
             ],
             [
              0.4444444444444444,
              "#bd3786"
             ],
             [
              0.5555555555555556,
              "#d8576b"
             ],
             [
              0.6666666666666666,
              "#ed7953"
             ],
             [
              0.7777777777777778,
              "#fb9f3a"
             ],
             [
              0.8888888888888888,
              "#fdca26"
             ],
             [
              1.0,
              "#f0f921"
             ]
            ]
           }
          ],
          "mesh3d": [
           {
            "type": "mesh3d",
            "colorbar": {
             "outlinewidth": 0,
             "ticks": ""
            }
           }
          ],
          "scatter": [
           {
            "fillpattern": {
             "fillmode": "overlay",
             "size": 10,
             "solidity": 0.2
            },
            "type": "scatter"
           }
          ],
          "parcoords": [
           {
            "type": "parcoords",
            "line": {
             "colorbar": {
              "outlinewidth": 0,
              "ticks": ""
             }
            }
           }
          ],
          "scatterpolargl": [
           {
            "type": "scatterpolargl",
            "marker": {
             "colorbar": {
              "outlinewidth": 0,
              "ticks": ""
             }
            }
           }
          ],
          "bar": [
           {
            "error_x": {
             "color": "#2a3f5f"
            },
            "error_y": {
             "color": "#2a3f5f"
            },
            "marker": {
             "line": {
              "color": "#E5ECF6",
              "width": 0.5
             },
             "pattern": {
              "fillmode": "overlay",
              "size": 10,
              "solidity": 0.2
             }
            },
            "type": "bar"
           }
          ],
          "scattergeo": [
           {
            "type": "scattergeo",
            "marker": {
             "colorbar": {
              "outlinewidth": 0,
              "ticks": ""
             }
            }
           }
          ],
          "scatterpolar": [
           {
            "type": "scatterpolar",
            "marker": {
             "colorbar": {
              "outlinewidth": 0,
              "ticks": ""
             }
            }
           }
          ],
          "histogram": [
           {
            "marker": {
             "pattern": {
              "fillmode": "overlay",
              "size": 10,
              "solidity": 0.2
             }
            },
            "type": "histogram"
           }
          ],
          "scattergl": [
           {
            "type": "scattergl",
            "marker": {
             "colorbar": {
              "outlinewidth": 0,
              "ticks": ""
             }
            }
           }
          ],
          "scatter3d": [
           {
            "type": "scatter3d",
            "line": {
             "colorbar": {
              "outlinewidth": 0,
              "ticks": ""
             }
            },
            "marker": {
             "colorbar": {
              "outlinewidth": 0,
              "ticks": ""
             }
            }
           }
          ],
          "scattermapbox": [
           {
            "type": "scattermapbox",
            "marker": {
             "colorbar": {
              "outlinewidth": 0,
              "ticks": ""
             }
            }
           }
          ],
          "scatterternary": [
           {
            "type": "scatterternary",
            "marker": {
             "colorbar": {
              "outlinewidth": 0,
              "ticks": ""
             }
            }
           }
          ],
          "scattercarpet": [
           {
            "type": "scattercarpet",
            "marker": {
             "colorbar": {
              "outlinewidth": 0,
              "ticks": ""
             }
            }
           }
          ],
          "carpet": [
           {
            "aaxis": {
             "endlinecolor": "#2a3f5f",
             "gridcolor": "white",
             "linecolor": "white",
             "minorgridcolor": "white",
             "startlinecolor": "#2a3f5f"
            },
            "baxis": {
             "endlinecolor": "#2a3f5f",
             "gridcolor": "white",
             "linecolor": "white",
             "minorgridcolor": "white",
             "startlinecolor": "#2a3f5f"
            },
            "type": "carpet"
           }
          ],
          "table": [
           {
            "cells": {
             "fill": {
              "color": "#EBF0F8"
             },
             "line": {
              "color": "white"
             }
            },
            "header": {
             "fill": {
              "color": "#C8D4E3"
             },
             "line": {
              "color": "white"
             }
            },
            "type": "table"
           }
          ],
          "barpolar": [
           {
            "marker": {
             "line": {
              "color": "#E5ECF6",
              "width": 0.5
             },
             "pattern": {
              "fillmode": "overlay",
              "size": 10,
              "solidity": 0.2
             }
            },
            "type": "barpolar"
           }
          ],
          "pie": [
           {
            "automargin": true,
            "type": "pie"
           }
          ]
         },
         "layout": {
          "autotypenumbers": "strict",
          "colorway": [
           "#636efa",
           "#EF553B",
           "#00cc96",
           "#ab63fa",
           "#FFA15A",
           "#19d3f3",
           "#FF6692",
           "#B6E880",
           "#FF97FF",
           "#FECB52"
          ],
          "font": {
           "color": "#2a3f5f"
          },
          "hovermode": "closest",
          "hoverlabel": {
           "align": "left"
          },
          "paper_bgcolor": "white",
          "plot_bgcolor": "#E5ECF6",
          "polar": {
           "bgcolor": "#E5ECF6",
           "angularaxis": {
            "gridcolor": "white",
            "linecolor": "white",
            "ticks": ""
           },
           "radialaxis": {
            "gridcolor": "white",
            "linecolor": "white",
            "ticks": ""
           }
          },
          "ternary": {
           "bgcolor": "#E5ECF6",
           "aaxis": {
            "gridcolor": "white",
            "linecolor": "white",
            "ticks": ""
           },
           "baxis": {
            "gridcolor": "white",
            "linecolor": "white",
            "ticks": ""
           },
           "caxis": {
            "gridcolor": "white",
            "linecolor": "white",
            "ticks": ""
           }
          },
          "coloraxis": {
           "colorbar": {
            "outlinewidth": 0,
            "ticks": ""
           }
          },
          "colorscale": {
           "sequential": [
            [
             0.0,
             "#0d0887"
            ],
            [
             0.1111111111111111,
             "#46039f"
            ],
            [
             0.2222222222222222,
             "#7201a8"
            ],
            [
             0.3333333333333333,
             "#9c179e"
            ],
            [
             0.4444444444444444,
             "#bd3786"
            ],
            [
             0.5555555555555556,
             "#d8576b"
            ],
            [
             0.6666666666666666,
             "#ed7953"
            ],
            [
             0.7777777777777778,
             "#fb9f3a"
            ],
            [
             0.8888888888888888,
             "#fdca26"
            ],
            [
             1.0,
             "#f0f921"
            ]
           ],
           "sequentialminus": [
            [
             0.0,
             "#0d0887"
            ],
            [
             0.1111111111111111,
             "#46039f"
            ],
            [
             0.2222222222222222,
             "#7201a8"
            ],
            [
             0.3333333333333333,
             "#9c179e"
            ],
            [
             0.4444444444444444,
             "#bd3786"
            ],
            [
             0.5555555555555556,
             "#d8576b"
            ],
            [
             0.6666666666666666,
             "#ed7953"
            ],
            [
             0.7777777777777778,
             "#fb9f3a"
            ],
            [
             0.8888888888888888,
             "#fdca26"
            ],
            [
             1.0,
             "#f0f921"
            ]
           ],
           "diverging": [
            [
             0,
             "#8e0152"
            ],
            [
             0.1,
             "#c51b7d"
            ],
            [
             0.2,
             "#de77ae"
            ],
            [
             0.3,
             "#f1b6da"
            ],
            [
             0.4,
             "#fde0ef"
            ],
            [
             0.5,
             "#f7f7f7"
            ],
            [
             0.6,
             "#e6f5d0"
            ],
            [
             0.7,
             "#b8e186"
            ],
            [
             0.8,
             "#7fbc41"
            ],
            [
             0.9,
             "#4d9221"
            ],
            [
             1,
             "#276419"
            ]
           ]
          },
          "xaxis": {
           "gridcolor": "white",
           "linecolor": "white",
           "ticks": "",
           "title": {
            "standoff": 15
           },
           "zerolinecolor": "white",
           "automargin": true,
           "zerolinewidth": 2
          },
          "yaxis": {
           "gridcolor": "white",
           "linecolor": "white",
           "ticks": "",
           "title": {
            "standoff": 15
           },
           "zerolinecolor": "white",
           "automargin": true,
           "zerolinewidth": 2
          },
          "scene": {
           "xaxis": {
            "backgroundcolor": "#E5ECF6",
            "gridcolor": "white",
            "linecolor": "white",
            "showbackground": true,
            "ticks": "",
            "zerolinecolor": "white",
            "gridwidth": 2
           },
           "yaxis": {
            "backgroundcolor": "#E5ECF6",
            "gridcolor": "white",
            "linecolor": "white",
            "showbackground": true,
            "ticks": "",
            "zerolinecolor": "white",
            "gridwidth": 2
           },
           "zaxis": {
            "backgroundcolor": "#E5ECF6",
            "gridcolor": "white",
            "linecolor": "white",
            "showbackground": true,
            "ticks": "",
            "zerolinecolor": "white",
            "gridwidth": 2
           }
          },
          "shapedefaults": {
           "line": {
            "color": "#2a3f5f"
           }
          },
          "annotationdefaults": {
           "arrowcolor": "#2a3f5f",
           "arrowhead": 0,
           "arrowwidth": 1
          },
          "geo": {
           "bgcolor": "white",
           "landcolor": "#E5ECF6",
           "subunitcolor": "white",
           "showland": true,
           "showlakes": true,
           "lakecolor": "white"
          },
          "title": {
           "x": 0.05
          },
          "mapbox": {
           "style": "light"
          }
         }
        },
        "xaxis": {
         "anchor": "y",
         "domain": [
          0.0,
          1.0
         ],
         "title": {
          "text": "Date"
         }
        },
        "yaxis": {
         "anchor": "x",
         "domain": [
          0.0,
          1.0
         ],
         "title": {
          "text": "count"
         }
        },
        "legend": {
         "tracegroupgap": 0
        },
        "title": {
         "text": "Most recent commit to a named remote branch"
        },
        "barmode": "relative"
       },
       "config": {
        "plotlyServerURL": "https://plot.ly"
       }
      },
      "text/html": "<div>                            <div id=\"aa22a06a-108d-46c9-b121-aa4867d56dd7\" class=\"plotly-graph-div\" style=\"height:525px; width:100%;\"></div>            <script type=\"text/javascript\">                require([\"plotly\"], function(Plotly) {                    window.PLOTLYENV=window.PLOTLYENV || {};                                    if (document.getElementById(\"aa22a06a-108d-46c9-b121-aa4867d56dd7\")) {                    Plotly.newPlot(                        \"aa22a06a-108d-46c9-b121-aa4867d56dd7\",                        [{\"alignmentgroup\":\"True\",\"hovertemplate\":\"\\u003cb\\u003e%{hovertext}\\u003c\\u002fb\\u003e\\u003cbr\\u003e\\u003cbr\\u003eDate=%{x}\\u003cbr\\u003ecount=%{y}\\u003cextra\\u003e\\u003c\\u002fextra\\u003e\",\"hovertext\":[\"origin\\u002fHEAD\",\"origin\\u002fadd\\u002frecapAsReconnectingV0\",\"origin\\u002fadd\\u002frecapAsReconnectingV0_1\",\"origin\\u002fadd\\u002fschoolwidePointsUnitTests\",\"origin\\u002fadd\\u002fsvprogressHUDPresenter\",\"origin\\u002fbanders\\u002fnewSalesPage20240729\",\"origin\\u002fbanders\\u002fnewSalesPageSuperSelector20240730\",\"origin\\u002fchange\\u002fRevenueCat5\",\"origin\\u002fconcurrency-please-please-please\",\"origin\\u002fcoredata\\u002fmissing-school-debugging\",\"origin\\u002ffix\\u002frevenueCatNetworkErrors\",\"origin\\u002ffix\\u002fschoolwidePointsUI\",\"origin\\u002ffix\\u002fswitchSchoolsFromUL\",\"origin\\u002finfra\\u002ffeature-switches-package\",\"origin\\u002finfra\\u002fwebview-ulink\",\"origin\\u002fl10n_master\",\"origin\\u002flg\\u002fparse-scanned-class-roster\",\"origin\\u002fmaster\",\"origin\\u002fmentorsPDModal\",\"origin\\u002fmessaging\\u002fchat-sui\",\"origin\\u002fmessaging\\u002fparent-headers-threads-list\",\"origin\\u002fmessaging\\u002ft-unified-inbox-compose-button\",\"origin\\u002fmessaging\\u002ft-welcome-modal\",\"origin\\u002foidc\\u002fduplicate-email-error-handling\",\"origin\\u002foidc\\u002fe2e-linking\",\"origin\\u002foidc\\u002femail-first-linking\",\"origin\\u002foidc\\u002fencourage-oidc-banner\",\"origin\\u002foidc\\u002fenter-from-account-switcher\",\"origin\\u002foidc\\u002ffix-happier-classrooms-issue\",\"origin\\u002foidc\\u002fmetrics\",\"origin\\u002foidc\\u002fprefil-email-if-skipped\",\"origin\\u002foidc\\u002fsimple-e2e-test\",\"origin\\u002foidc\\u002fupdate-copy-login-to-link\",\"origin\\u002foidc_steel_thread\\u002fvia_email_flow\",\"origin\\u002freplace-home-consent-screen\",\"origin\\u002ftestflight\\u002finvite-after-story\",\"origin\\u002funreadCounts\",\"origin\\u002fupload-service-concurrency-fixes\"],\"legendgroup\":\"\",\"marker\":{\"color\":\"#636efa\",\"pattern\":{\"shape\":\"\"}},\"name\":\"\",\"offsetgroup\":\"\",\"orientation\":\"v\",\"showlegend\":false,\"textposition\":\"auto\",\"x\":[\"2024-08-19\",\"2024-07-24\",\"2024-08-06\",\"2024-07-26\",\"2024-08-09\",\"2024-07-31\",\"2024-07-31\",\"2024-07-24\",\"2024-08-19\",\"2024-05-27\",\"2024-08-19\",\"2024-07-29\",\"2024-07-31\",\"2024-08-16\",\"2024-08-16\",\"2024-07-29\",\"2024-07-21\",\"2024-08-19\",\"2024-08-01\",\"2024-07-02\",\"2024-07-31\",\"2024-08-15\",\"2024-08-08\",\"2024-07-24\",\"2024-07-25\",\"2024-08-05\",\"2024-08-04\",\"2024-07-15\",\"2024-06-06\",\"2024-07-22\",\"2024-07-29\",\"2024-07-10\",\"2024-07-23\",\"2024-03-21\",\"2024-07-29\",\"2024-05-20\",\"2024-07-29\",\"2024-07-08\"],\"xaxis\":\"x\",\"y\":[1,1,1,1,1,1,1,1,1,1,1,1,1,1,1,1,1,1,1,1,1,1,1,1,1,1,1,1,1,1,1,1,1,1,1,1,1,1],\"yaxis\":\"y\",\"type\":\"bar\"}],                        {\"template\":{\"data\":{\"histogram2dcontour\":[{\"type\":\"histogram2dcontour\",\"colorbar\":{\"outlinewidth\":0,\"ticks\":\"\"},\"colorscale\":[[0.0,\"#0d0887\"],[0.1111111111111111,\"#46039f\"],[0.2222222222222222,\"#7201a8\"],[0.3333333333333333,\"#9c179e\"],[0.4444444444444444,\"#bd3786\"],[0.5555555555555556,\"#d8576b\"],[0.6666666666666666,\"#ed7953\"],[0.7777777777777778,\"#fb9f3a\"],[0.8888888888888888,\"#fdca26\"],[1.0,\"#f0f921\"]]}],\"choropleth\":[{\"type\":\"choropleth\",\"colorbar\":{\"outlinewidth\":0,\"ticks\":\"\"}}],\"histogram2d\":[{\"type\":\"histogram2d\",\"colorbar\":{\"outlinewidth\":0,\"ticks\":\"\"},\"colorscale\":[[0.0,\"#0d0887\"],[0.1111111111111111,\"#46039f\"],[0.2222222222222222,\"#7201a8\"],[0.3333333333333333,\"#9c179e\"],[0.4444444444444444,\"#bd3786\"],[0.5555555555555556,\"#d8576b\"],[0.6666666666666666,\"#ed7953\"],[0.7777777777777778,\"#fb9f3a\"],[0.8888888888888888,\"#fdca26\"],[1.0,\"#f0f921\"]]}],\"heatmap\":[{\"type\":\"heatmap\",\"colorbar\":{\"outlinewidth\":0,\"ticks\":\"\"},\"colorscale\":[[0.0,\"#0d0887\"],[0.1111111111111111,\"#46039f\"],[0.2222222222222222,\"#7201a8\"],[0.3333333333333333,\"#9c179e\"],[0.4444444444444444,\"#bd3786\"],[0.5555555555555556,\"#d8576b\"],[0.6666666666666666,\"#ed7953\"],[0.7777777777777778,\"#fb9f3a\"],[0.8888888888888888,\"#fdca26\"],[1.0,\"#f0f921\"]]}],\"heatmapgl\":[{\"type\":\"heatmapgl\",\"colorbar\":{\"outlinewidth\":0,\"ticks\":\"\"},\"colorscale\":[[0.0,\"#0d0887\"],[0.1111111111111111,\"#46039f\"],[0.2222222222222222,\"#7201a8\"],[0.3333333333333333,\"#9c179e\"],[0.4444444444444444,\"#bd3786\"],[0.5555555555555556,\"#d8576b\"],[0.6666666666666666,\"#ed7953\"],[0.7777777777777778,\"#fb9f3a\"],[0.8888888888888888,\"#fdca26\"],[1.0,\"#f0f921\"]]}],\"contourcarpet\":[{\"type\":\"contourcarpet\",\"colorbar\":{\"outlinewidth\":0,\"ticks\":\"\"}}],\"contour\":[{\"type\":\"contour\",\"colorbar\":{\"outlinewidth\":0,\"ticks\":\"\"},\"colorscale\":[[0.0,\"#0d0887\"],[0.1111111111111111,\"#46039f\"],[0.2222222222222222,\"#7201a8\"],[0.3333333333333333,\"#9c179e\"],[0.4444444444444444,\"#bd3786\"],[0.5555555555555556,\"#d8576b\"],[0.6666666666666666,\"#ed7953\"],[0.7777777777777778,\"#fb9f3a\"],[0.8888888888888888,\"#fdca26\"],[1.0,\"#f0f921\"]]}],\"surface\":[{\"type\":\"surface\",\"colorbar\":{\"outlinewidth\":0,\"ticks\":\"\"},\"colorscale\":[[0.0,\"#0d0887\"],[0.1111111111111111,\"#46039f\"],[0.2222222222222222,\"#7201a8\"],[0.3333333333333333,\"#9c179e\"],[0.4444444444444444,\"#bd3786\"],[0.5555555555555556,\"#d8576b\"],[0.6666666666666666,\"#ed7953\"],[0.7777777777777778,\"#fb9f3a\"],[0.8888888888888888,\"#fdca26\"],[1.0,\"#f0f921\"]]}],\"mesh3d\":[{\"type\":\"mesh3d\",\"colorbar\":{\"outlinewidth\":0,\"ticks\":\"\"}}],\"scatter\":[{\"fillpattern\":{\"fillmode\":\"overlay\",\"size\":10,\"solidity\":0.2},\"type\":\"scatter\"}],\"parcoords\":[{\"type\":\"parcoords\",\"line\":{\"colorbar\":{\"outlinewidth\":0,\"ticks\":\"\"}}}],\"scatterpolargl\":[{\"type\":\"scatterpolargl\",\"marker\":{\"colorbar\":{\"outlinewidth\":0,\"ticks\":\"\"}}}],\"bar\":[{\"error_x\":{\"color\":\"#2a3f5f\"},\"error_y\":{\"color\":\"#2a3f5f\"},\"marker\":{\"line\":{\"color\":\"#E5ECF6\",\"width\":0.5},\"pattern\":{\"fillmode\":\"overlay\",\"size\":10,\"solidity\":0.2}},\"type\":\"bar\"}],\"scattergeo\":[{\"type\":\"scattergeo\",\"marker\":{\"colorbar\":{\"outlinewidth\":0,\"ticks\":\"\"}}}],\"scatterpolar\":[{\"type\":\"scatterpolar\",\"marker\":{\"colorbar\":{\"outlinewidth\":0,\"ticks\":\"\"}}}],\"histogram\":[{\"marker\":{\"pattern\":{\"fillmode\":\"overlay\",\"size\":10,\"solidity\":0.2}},\"type\":\"histogram\"}],\"scattergl\":[{\"type\":\"scattergl\",\"marker\":{\"colorbar\":{\"outlinewidth\":0,\"ticks\":\"\"}}}],\"scatter3d\":[{\"type\":\"scatter3d\",\"line\":{\"colorbar\":{\"outlinewidth\":0,\"ticks\":\"\"}},\"marker\":{\"colorbar\":{\"outlinewidth\":0,\"ticks\":\"\"}}}],\"scattermapbox\":[{\"type\":\"scattermapbox\",\"marker\":{\"colorbar\":{\"outlinewidth\":0,\"ticks\":\"\"}}}],\"scatterternary\":[{\"type\":\"scatterternary\",\"marker\":{\"colorbar\":{\"outlinewidth\":0,\"ticks\":\"\"}}}],\"scattercarpet\":[{\"type\":\"scattercarpet\",\"marker\":{\"colorbar\":{\"outlinewidth\":0,\"ticks\":\"\"}}}],\"carpet\":[{\"aaxis\":{\"endlinecolor\":\"#2a3f5f\",\"gridcolor\":\"white\",\"linecolor\":\"white\",\"minorgridcolor\":\"white\",\"startlinecolor\":\"#2a3f5f\"},\"baxis\":{\"endlinecolor\":\"#2a3f5f\",\"gridcolor\":\"white\",\"linecolor\":\"white\",\"minorgridcolor\":\"white\",\"startlinecolor\":\"#2a3f5f\"},\"type\":\"carpet\"}],\"table\":[{\"cells\":{\"fill\":{\"color\":\"#EBF0F8\"},\"line\":{\"color\":\"white\"}},\"header\":{\"fill\":{\"color\":\"#C8D4E3\"},\"line\":{\"color\":\"white\"}},\"type\":\"table\"}],\"barpolar\":[{\"marker\":{\"line\":{\"color\":\"#E5ECF6\",\"width\":0.5},\"pattern\":{\"fillmode\":\"overlay\",\"size\":10,\"solidity\":0.2}},\"type\":\"barpolar\"}],\"pie\":[{\"automargin\":true,\"type\":\"pie\"}]},\"layout\":{\"autotypenumbers\":\"strict\",\"colorway\":[\"#636efa\",\"#EF553B\",\"#00cc96\",\"#ab63fa\",\"#FFA15A\",\"#19d3f3\",\"#FF6692\",\"#B6E880\",\"#FF97FF\",\"#FECB52\"],\"font\":{\"color\":\"#2a3f5f\"},\"hovermode\":\"closest\",\"hoverlabel\":{\"align\":\"left\"},\"paper_bgcolor\":\"white\",\"plot_bgcolor\":\"#E5ECF6\",\"polar\":{\"bgcolor\":\"#E5ECF6\",\"angularaxis\":{\"gridcolor\":\"white\",\"linecolor\":\"white\",\"ticks\":\"\"},\"radialaxis\":{\"gridcolor\":\"white\",\"linecolor\":\"white\",\"ticks\":\"\"}},\"ternary\":{\"bgcolor\":\"#E5ECF6\",\"aaxis\":{\"gridcolor\":\"white\",\"linecolor\":\"white\",\"ticks\":\"\"},\"baxis\":{\"gridcolor\":\"white\",\"linecolor\":\"white\",\"ticks\":\"\"},\"caxis\":{\"gridcolor\":\"white\",\"linecolor\":\"white\",\"ticks\":\"\"}},\"coloraxis\":{\"colorbar\":{\"outlinewidth\":0,\"ticks\":\"\"}},\"colorscale\":{\"sequential\":[[0.0,\"#0d0887\"],[0.1111111111111111,\"#46039f\"],[0.2222222222222222,\"#7201a8\"],[0.3333333333333333,\"#9c179e\"],[0.4444444444444444,\"#bd3786\"],[0.5555555555555556,\"#d8576b\"],[0.6666666666666666,\"#ed7953\"],[0.7777777777777778,\"#fb9f3a\"],[0.8888888888888888,\"#fdca26\"],[1.0,\"#f0f921\"]],\"sequentialminus\":[[0.0,\"#0d0887\"],[0.1111111111111111,\"#46039f\"],[0.2222222222222222,\"#7201a8\"],[0.3333333333333333,\"#9c179e\"],[0.4444444444444444,\"#bd3786\"],[0.5555555555555556,\"#d8576b\"],[0.6666666666666666,\"#ed7953\"],[0.7777777777777778,\"#fb9f3a\"],[0.8888888888888888,\"#fdca26\"],[1.0,\"#f0f921\"]],\"diverging\":[[0,\"#8e0152\"],[0.1,\"#c51b7d\"],[0.2,\"#de77ae\"],[0.3,\"#f1b6da\"],[0.4,\"#fde0ef\"],[0.5,\"#f7f7f7\"],[0.6,\"#e6f5d0\"],[0.7,\"#b8e186\"],[0.8,\"#7fbc41\"],[0.9,\"#4d9221\"],[1,\"#276419\"]]},\"xaxis\":{\"gridcolor\":\"white\",\"linecolor\":\"white\",\"ticks\":\"\",\"title\":{\"standoff\":15},\"zerolinecolor\":\"white\",\"automargin\":true,\"zerolinewidth\":2},\"yaxis\":{\"gridcolor\":\"white\",\"linecolor\":\"white\",\"ticks\":\"\",\"title\":{\"standoff\":15},\"zerolinecolor\":\"white\",\"automargin\":true,\"zerolinewidth\":2},\"scene\":{\"xaxis\":{\"backgroundcolor\":\"#E5ECF6\",\"gridcolor\":\"white\",\"linecolor\":\"white\",\"showbackground\":true,\"ticks\":\"\",\"zerolinecolor\":\"white\",\"gridwidth\":2},\"yaxis\":{\"backgroundcolor\":\"#E5ECF6\",\"gridcolor\":\"white\",\"linecolor\":\"white\",\"showbackground\":true,\"ticks\":\"\",\"zerolinecolor\":\"white\",\"gridwidth\":2},\"zaxis\":{\"backgroundcolor\":\"#E5ECF6\",\"gridcolor\":\"white\",\"linecolor\":\"white\",\"showbackground\":true,\"ticks\":\"\",\"zerolinecolor\":\"white\",\"gridwidth\":2}},\"shapedefaults\":{\"line\":{\"color\":\"#2a3f5f\"}},\"annotationdefaults\":{\"arrowcolor\":\"#2a3f5f\",\"arrowhead\":0,\"arrowwidth\":1},\"geo\":{\"bgcolor\":\"white\",\"landcolor\":\"#E5ECF6\",\"subunitcolor\":\"white\",\"showland\":true,\"showlakes\":true,\"lakecolor\":\"white\"},\"title\":{\"x\":0.05},\"mapbox\":{\"style\":\"light\"}}},\"xaxis\":{\"anchor\":\"y\",\"domain\":[0.0,1.0],\"title\":{\"text\":\"Date\"}},\"yaxis\":{\"anchor\":\"x\",\"domain\":[0.0,1.0],\"title\":{\"text\":\"count\"}},\"legend\":{\"tracegroupgap\":0},\"title\":{\"text\":\"Most recent commit to a named remote branch\"},\"barmode\":\"relative\"},                        {\"responsive\": true}                    ).then(function(){\n                            \nvar gd = document.getElementById('aa22a06a-108d-46c9-b121-aa4867d56dd7');\nvar x = new MutationObserver(function (mutations, observer) {{\n        var display = window.getComputedStyle(gd).display;\n        if (!display || display === 'none') {{\n            console.log([gd, 'removed!']);\n            Plotly.purge(gd);\n            observer.disconnect();\n        }}\n}});\n\n// Listen for the removal of the full notebook cells\nvar notebookContainer = gd.closest('#notebook-container');\nif (notebookContainer) {{\n    x.observe(notebookContainer, {childList: true});\n}}\n\n// Listen for the clearing of the current output cell\nvar outputEl = gd.closest('.output');\nif (outputEl) {{\n    x.observe(outputEl, {childList: true});\n}}\n\n                        })                };                });            </script>        </div>"
     },
     "metadata": {},
     "output_type": "display_data"
    }
   ],
   "source": [
    "\n",
    "figure = px.bar(\n",
    "    stuff_df,\n",
    "    x=\"Date\",\n",
    "    hover_name='Branch',\n",
    "    title=\"Most recent commit to a named remote branch\")\n",
    "figure.show()\n"
   ],
   "metadata": {
    "collapsed": false,
    "ExecuteTime": {
     "end_time": "2024-08-19T15:52:27.370078Z",
     "start_time": "2024-08-19T15:52:27.308506Z"
    }
   },
   "id": "5cbba356c02e324c",
   "execution_count": 52
  }
 ],
 "metadata": {
  "kernelspec": {
   "display_name": "Python 3",
   "language": "python",
   "name": "python3"
  },
  "language_info": {
   "codemirror_mode": {
    "name": "ipython",
    "version": 2
   },
   "file_extension": ".py",
   "mimetype": "text/x-python",
   "name": "python",
   "nbconvert_exporter": "python",
   "pygments_lexer": "ipython2",
   "version": "2.7.6"
  }
 },
 "nbformat": 4,
 "nbformat_minor": 5
}
