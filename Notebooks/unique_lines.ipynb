{
 "cells": [
  {
   "cell_type": "code",
   "outputs": [
    {
     "data": {
      "text/plain": "'/Users/timottinger/Projects/gitminer-jupyter/Notebooks'"
     },
     "execution_count": 1,
     "metadata": {},
     "output_type": "execute_result"
    }
   ],
   "source": [
    "import os\n",
    "from collections.abc import Iterable\n",
    "from datetime import datetime\n",
    "\n",
    "import git\n",
    "import networkx as nx\n",
    "\n",
    "os.getcwd()"
   ],
   "metadata": {
    "collapsed": false,
    "ExecuteTime": {
     "end_time": "2024-08-19T16:28:23.612389Z",
     "start_time": "2024-08-19T16:28:23.522518Z"
    }
   },
   "id": "970ac3130f09a219",
   "execution_count": 1
  },
  {
   "cell_type": "code",
   "outputs": [],
   "source": [
    "\n",
    "\n",
    "def commits_in_period(repo_to_search: git.Repo, beginning: datetime, ending: datetime) -> Iterable[git.Commit]:\n",
    "    for commit in repo_to_search.iter_commits():\n",
    "        if beginning <= commit.committed_datetime <= ending:\n",
    "            yield commit\n",
    "\n"
   ],
   "metadata": {
    "collapsed": false,
    "ExecuteTime": {
     "end_time": "2024-08-19T16:28:23.612627Z",
     "start_time": "2024-08-19T16:28:23.603963Z"
    }
   },
   "id": "68575ea6dc865d98",
   "execution_count": 2
  },
  {
   "cell_type": "markdown",
   "source": [],
   "metadata": {
    "collapsed": false
   },
   "id": "c0dc10b7013ab7a9"
  },
  {
   "cell_type": "code",
   "outputs": [],
   "source": [
    "repo = git.Repo(\"../../siemens-wfx\")\n",
    "start_date = datetime(month=8, day=1, year=2024).astimezone()  #until_today - timedelta(days=90)\n",
    "end_date = datetime(month=8, day=19, year=2024).astimezone()  #datetime.today().astimezone()\n"
   ],
   "metadata": {
    "collapsed": false,
    "ExecuteTime": {
     "end_time": "2024-08-19T16:28:23.612787Z",
     "start_time": "2024-08-19T16:28:23.606580Z"
    }
   },
   "id": "84270057daca4cf0",
   "execution_count": 3
  },
  {
   "cell_type": "markdown",
   "source": [
    "# Collect the child/parent edges\n",
    "The idea is that each independent (unmerged) thread will not connect to any other \n",
    "threads. Since they are distinct, they will show up as being in different connected\n",
    "groups than the other threads."
   ],
   "metadata": {
    "collapsed": false
   },
   "id": "a24c7152e91f63ee"
  },
  {
   "cell_type": "code",
   "outputs": [
    {
     "name": "stdout",
     "output_type": "stream",
     "text": [
      "1e333824197a9b3590f651eef9ba89bb0cc4aebd 3610638d2585c74137ef843caca253fa168fc09a\n",
      "3610638d2585c74137ef843caca253fa168fc09a 3e5aa42fc7cb91ee918d12be4e3d02cd03754916\n",
      "3e5aa42fc7cb91ee918d12be4e3d02cd03754916 0b3b4c13f3aa27ddf587623346b7e365a38bb75f\n",
      "0b3b4c13f3aa27ddf587623346b7e365a38bb75f 4092c2739bbdf595565fa56f462e09ee51d296b4\n",
      "4092c2739bbdf595565fa56f462e09ee51d296b4 47d4728f1b9331cb2ba5ccdcc5108149a56aeab4\n",
      "47d4728f1b9331cb2ba5ccdcc5108149a56aeab4 7de91a226da545df46821ad7fad4455b103fce20\n",
      "7de91a226da545df46821ad7fad4455b103fce20 b1ffedc69d8fa1a03d9f6c71e0f3f7cacdb74b1d\n"
     ]
    }
   ],
   "source": [
    "commit: git.Commit\n",
    "graph = nx.Graph()\n",
    "for commit in commits_in_period(repo, start_date, end_date):\n",
    "    # Skip the merges, because they connect everything\n",
    "    if len(commit.parents) > 1:\n",
    "        continue\n",
    "    for parent in commit.parents:\n",
    "        print(commit.hexsha, parent.hexsha)\n",
    "        graph.add_edge(commit.hexsha, parent.hexsha)"
   ],
   "metadata": {
    "collapsed": false,
    "ExecuteTime": {
     "end_time": "2024-08-19T16:28:23.664145Z",
     "start_time": "2024-08-19T16:28:23.612986Z"
    }
   },
   "id": "c73678349a5d5964",
   "execution_count": 4
  },
  {
   "cell_type": "code",
   "outputs": [
    {
     "data": {
      "text/plain": "'We identify 1 lines of work from 2024-08-01 through 2024-08-19'"
     },
     "execution_count": 5,
     "metadata": {},
     "output_type": "execute_result"
    }
   ],
   "source": [
    "connected = list(nx.connected_components(graph))\n",
    "f\"We identify {len(connected)} lines of work from {start_date.date()} through {end_date.date()}\"\n"
   ],
   "metadata": {
    "collapsed": false,
    "ExecuteTime": {
     "end_time": "2024-08-19T16:28:23.664437Z",
     "start_time": "2024-08-19T16:28:23.659002Z"
    }
   },
   "id": "e63d670f9a3079c1",
   "execution_count": 5
  },
  {
   "cell_type": "markdown",
   "source": [],
   "metadata": {
    "collapsed": false
   },
   "id": "959c3c29573bd560"
  },
  {
   "cell_type": "code",
   "outputs": [
    {
     "data": {
      "text/plain": "<Figure size 640x480 with 1 Axes>",
      "image/png": "[encoded data removed]"
     },
     "metadata": {},
     "output_type": "display_data"
    }
   ],
   "source": [
    "nx.draw(graph, with_labels=False, node_size=4)"
   ],
   "metadata": {
    "collapsed": false,
    "ExecuteTime": {
     "end_time": "2024-08-19T16:28:23.958604Z",
     "start_time": "2024-08-19T16:28:23.661510Z"
    }
   },
   "id": "6b93e986c4f9d86b",
   "execution_count": 6
  },
  {
   "cell_type": "code",
   "outputs": [
    {
     "name": "stdout",
     "output_type": "stream",
     "text": [
      "There seems to be 1 surviving line of work\n"
     ]
    }
   ],
   "source": [
    "with_merges = nx.Graph()\n",
    "for commit in commits_in_period(repo, start_date, end_date):\n",
    "    for parent in commit.parents:\n",
    "        graph.add_edge(commit.hexsha, parent.hexsha)\n",
    "\n",
    "still_unmerged = list(nx.connected_components(graph))\n",
    "print(f\"There seems to be {len(still_unmerged)} surviving line of work\")"
   ],
   "metadata": {
    "collapsed": false,
    "ExecuteTime": {
     "end_time": "2024-08-19T16:28:23.996120Z",
     "start_time": "2024-08-19T16:28:23.957564Z"
    }
   },
   "id": "291af7917142eba5",
   "execution_count": 7
  }
 ],
 "metadata": {
  "kernelspec": {
   "display_name": "Python 3",
   "language": "python",
   "name": "python3"
  },
  "language_info": {
   "codemirror_mode": {
    "name": "ipython",
    "version": 2
   },
   "file_extension": ".py",
   "mimetype": "text/x-python",
   "name": "python",
   "nbconvert_exporter": "python",
   "pygments_lexer": "ipython2",
   "version": "2.7.6"
  }
 },
 "nbformat": 4,
 "nbformat_minor": 5
}
