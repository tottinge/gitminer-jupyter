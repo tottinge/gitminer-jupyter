{
 "cells": [
  {
   "cell_type": "markdown",
   "source": [
    "This is an exploration of building a time-based graph of activities based\n",
    "on conditional commit nomenclature in the commit messages of a project.\n"
   ],
   "metadata": {
    "collapsed": false
   },
   "id": "5eae2b5dfb7c5fb1"
  },
  {
   "cell_type": "code",
   "outputs": [],
   "source": [
    "import re\n",
    "from datetime import datetime\n",
    "\n",
    "import git"
   ],
   "metadata": {
    "collapsed": false,
    "is_executing": true,
    "ExecuteTime": {
     "start_time": "2024-08-13T09:43:06.405457Z"
    }
   },
   "id": "6b3f314f9793b6b1",
   "execution_count": null
  },
  {
   "cell_type": "code",
   "outputs": [],
   "source": [
    "\n",
    "pattern = re.compile(r'^(\\w+)[\\!(:]')"
   ],
   "metadata": {
    "collapsed": true,
    "is_executing": true
   },
   "id": "initial_id",
   "execution_count": null
  },
  {
   "cell_type": "code",
   "outputs": [],
   "source": [
    "repo = git.Repo(\"/Users/timottinger/Projects/siemens-wfx\")"
   ],
   "metadata": {
    "collapsed": false,
    "is_executing": true
   },
   "id": "97de99827e384301"
  },
  {
   "cell_type": "code",
   "outputs": [],
   "source": [
    "for commit in repo.iter_commits():\n",
    "    parse = pattern.match(commit.message)\n",
    "    reason = parse.group(0) if parse else \"unknown\"\n",
    "    date = datetime(commit.authored_datetime)\n",
    "    print(date, reason)\n",
    "    "
   ],
   "metadata": {
    "collapsed": false,
    "is_executing": true
   },
   "id": "6b92ccb92f97cb7",
   "execution_count": null
  }
 ],
 "metadata": {
  "kernelspec": {
   "display_name": "Python 3",
   "language": "python",
   "name": "python3"
  },
  "language_info": {
   "codemirror_mode": {
    "name": "ipython",
    "version": 2
   },
   "file_extension": ".py",
   "mimetype": "text/x-python",
   "name": "python",
   "nbconvert_exporter": "python",
   "pygments_lexer": "ipython2",
   "version": "2.7.6"
  }
 },
 "nbformat": 4,
 "nbformat_minor": 5
}
