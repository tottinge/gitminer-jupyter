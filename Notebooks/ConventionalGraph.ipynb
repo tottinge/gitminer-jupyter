{
 "cells": [
  {
   "cell_type": "code",
   "execution_count": 1,
   "id": "6869fafd-76d9-4603-9125-65be07fd4cb3",
   "metadata": {
    "ExecuteTime": {
     "end_time": "2024-10-07T15:55:06.460361Z",
     "start_time": "2024-10-07T15:55:06.143199Z"
    }
   },
   "outputs": [],
   "source": [
    "import re\n",
    "from collections import Counter\n",
    "from datetime import datetime, timedelta\n",
    "\n",
    "import git\n",
    "import pandas as pd\n",
    "import plotly.express as px\n",
    "\n",
    "categories = {\"build\", \"chore\", \"ci\", \"docs\", \"feat\", \"fix\", \"merge\", \"perf\", \"refactor\", \"revert\", \"style\", \"test\"}"
   ]
  },
  {
   "cell_type": "code",
   "execution_count": 2,
   "id": "30d3b19c-ff85-4d96-97c8-208dcb2a7b16",
   "metadata": {
    "ExecuteTime": {
     "end_time": "2024-10-07T15:55:06.468743Z",
     "start_time": "2024-10-07T15:55:06.460864Z"
    }
   },
   "outputs": [],
   "source": [
    "wfx = \"/Users/timottinger/Projects/siemens-wfx\"\n",
    "goreleaser = \"/Users/timottinger/Projects/goreleaser\"\n",
    "repo = git.Repo(goreleaser)\n"
   ]
  },
  {
   "cell_type": "code",
   "execution_count": 3,
   "id": "28bcc83f-be2d-4013-b9d7-94471a3c30f3",
   "metadata": {
    "ExecuteTime": {
     "end_time": "2024-10-07T15:55:06.472249Z",
     "start_time": "2024-10-07T15:55:06.469952Z"
    }
   },
   "outputs": [
    {
     "name": "stdout",
     "output_type": "stream",
     "text": [
      "feat\n",
      "feat\n",
      "doc\n",
      "fix\n"
     ]
    }
   ],
   "source": [
    "\n",
    "conventional_commit_match_pattern = re.compile(r'^(\\w+)[\\!\\(:]')\n",
    "for text in [\"feat(this):\", \"feat:\", \"doc(readme): blah\", \"fix(that)!: cozectify the flimble\"]:\n",
    "    print(conventional_commit_match_pattern.search(text).group(1))"
   ]
  },
  {
   "cell_type": "code",
   "outputs": [],
   "source": [
    "exclusions = {\"go.mod\", \"go.sum\", \"Makefile\", \"makefile\"}"
   ],
   "metadata": {
    "collapsed": false,
    "ExecuteTime": {
     "end_time": "2024-10-07T15:55:06.474250Z",
     "start_time": "2024-10-07T15:55:06.472128Z"
    }
   },
   "id": "133af1463af56595",
   "execution_count": 4
  },
  {
   "cell_type": "code",
   "execution_count": 5,
   "id": "cecab7f1a7cc7169",
   "metadata": {
    "collapsed": false,
    "ExecuteTime": {
     "end_time": "2024-10-07T15:55:06.476066Z",
     "start_time": "2024-10-07T15:55:06.474264Z"
    }
   },
   "outputs": [],
   "source": [
    "start = datetime.now().astimezone() - timedelta(weeks=52)"
   ]
  },
  {
   "cell_type": "code",
   "outputs": [
    {
     "data": {
      "text/plain": "Counter({('internal/client/github.go', 'chore'): 4,\n         ('internal/client/github_test.go', 'chore'): 4,\n         ('internal/builders/golang/build.go', 'fix'): 5,\n         ('internal/builders/golang/build_test.go', 'fix'): 4,\n         ('.github/workflows/codeql.yml', 'chore'): 25,\n         ('internal/pipe/ko/ko_test.go', 'test'): 5,\n         ('.github/workflows/build.yml', 'chore'): 58,\n         ('.github/workflows/nightly-oss.yml', 'chore'): 51,\n         ('.github/workflows/release.yml', 'chore'): 56,\n         ('Dockerfile', 'chore'): 20,\n         ('internal/pipe/blob/blob_test.go', 'chore'): 1,\n         ('internal/pipe/blob/upload.go', 'chore'): 1,\n         ('internal/pipe/nfpm/nfpm.go', 'feat'): 9,\n         ('internal/pipe/nfpm/nfpm_test.go', 'feat'): 8,\n         ('internal/pipe/nfpm/testdata/testfile-ppc64.txt', 'feat'): 1,\n         ('internal/pipe/build/build.go', 'feat'): 5,\n         ('internal/pipe/build/build_test.go', 'feat'): 4,\n         ('pkg/config/config.go', 'feat'): 28,\n         ('www/docs/customization/builds.md', 'feat'): 3,\n         ('internal/pipe/blob/blob_minio_test.go', 'build'): 1,\n         ('.golangci.yaml', 'unknown'): 1,\n         ('.goreleaser.yaml', 'unknown'): 2,\n         ('CONTRIBUTING.md', 'unknown'): 1,\n         ('cmd/util_test.go', 'unknown'): 1,\n         ('internal/pipe/gomod/gomod_proxy_test.go', 'unknown'): 1,\n         ('internal/pipe/ko/testdata/app/go.mod', 'unknown'): 1,\n         ('www/docs/contributing.md', 'unknown'): 1,\n         ('www/docs/install.md', 'unknown'): 1,\n         ('.golangci.yaml', 'build'): 3,\n         ('CONTRIBUTING.md', 'build'): 1,\n         ('cmd/util_test.go', 'build'): 1,\n         ('internal/pipe/gomod/gomod_proxy_test.go', 'build'): 1,\n         ('internal/pipe/ko/testdata/app/go.mod', 'build'): 1,\n         ('www/docs/contributing.md', 'build'): 1,\n         ('www/docs/install.md', 'build'): 1,\n         ('.goreleaser.yaml', 'build'): 7,\n         ('.github/workflows/lint.yml', 'build'): 3,\n         ('.goreleaser-nightly.yaml', 'chore'): 1,\n         ('.goreleaser.yaml', 'chore'): 1,\n         ('.github/ISSUE_TEMPLATE/config.yml', 'chore'): 1,\n         ('flake.nix', 'build'): 6,\n         ('internal/pipe/gomod/gomod_proxy_test.go', 'test'): 1,\n         ('www/docs/blog/posts/2024-08-14-v2.2.md', 'docs'): 1,\n         ('flake.lock', 'chore'): 12,\n         ('internal/pipe/nix/licenses.go', 'chore'): 4,\n         ('www/docs/static/latest', 'chore'): 13,\n         ('www/docs/static/latest-pro', 'chore'): 13,\n         ('www/docs/static/releases-pro.json', 'chore'): 13,\n         ('www/docs/static/releases.json', 'chore'): 13,\n         ('www/docs/static/schema.json', 'chore'): 6,\n         ('.github/workflows/dependabot-automation.yml', 'chore'): 1,\n         ('.github/workflows/dependabot-automation.yml', 'ci'): 1,\n         ('www/docs/ci/actions.md', 'docs'): 8,\n         ('internal/pipe/ko/ko.go', 'feat'): 3,\n         ('internal/pipe/ko/ko_test.go', 'feat'): 3,\n         ('www/docs/customization/ko.md', 'feat'): 2,\n         ('www/docs/deprecations.md', 'feat'): 7,\n         ('.github/workflows/build.yml', 'ci'): 1,\n         ('internal/tmpl/tmpl.go', 'fix'): 2,\n         ('internal/tmpl/tmpl_test.go', 'fix'): 2,\n         ('www/htmltest.yml', 'ci'): 1,\n         ('internal/pipe/defaults/defaults.go', 'feat'): 2,\n         ('internal/pipe/defaults/defaults_test.go', 'feat'): 2,\n         ('internal/pipe/dist/dist.go', 'feat'): 3,\n         ('internal/pipe/dist/dist_test.go', 'feat'): 2,\n         ('internal/pipeline/pipeline.go', 'feat'): 8,\n         ('pkg/defaults/defaults.go', 'feat'): 6,\n         ('www/docs/users.md', 'chore'): 3,\n         ('.github/workflows/nightly-oss.yml', 'ci'): 1,\n         ('USERS.md', 'docs'): 11,\n         ('www/docs/customization/nfpm.md', 'docs'): 9,\n         ('www/mkdocs.yml', 'docs'): 17,\n         ('www/docs/customization/nightlies.md', 'docs'): 4,\n         ('www/docs/deprecations.md', 'docs'): 7,\n         ('www/docs/static/schema-pro.json', 'docs'): 15,\n         ('www/docs/customization/snapshots.md', 'docs'): 4,\n         ('README.md', 'docs'): 2,\n         ('www/docs/sponsors.md', 'docs'): 1,\n         ('www/docs/customization/nix.md', 'docs'): 7,\n         ('www/docs/ci/index.md', 'docs'): 2,\n         ('www/docs/customization/partial.md', 'docs'): 4,\n         ('www/docs/install.md', 'docs'): 10,\n         ('www/docs/customization/binary_sign.md', 'docs'): 2,\n         ('www/docs/customization/sign.md', 'docs'): 10,\n         ('www/docs/customization/docker_sign.md', 'docs'): 7,\n         ('internal/pipe/sign/sign.go', 'feat'): 2,\n         ('internal/pipe/sign/sign_binary.go', 'feat'): 1,\n         ('internal/pipe/sign/sign_binary_test.go', 'feat'): 1,\n         ('pkg/healthcheck/healthcheck.go', 'feat'): 2,\n         ('www/docs/customization/binary_sign.md', 'feat'): 1,\n         ('www/docs/customization/sign.md', 'feat'): 1,\n         ('www/mkdocs.yml', 'feat'): 3,\n         ('.gitignore', 'docs'): 1,\n         ('www/docs/cmd/goreleaser_build.md', 'docs'): 7,\n         ('www/docs/cmd/goreleaser_release.md', 'docs'): 14,\n         ('www/docs/customization/templates.md', 'docs'): 6,\n         ('www/docs/overrides/hooks/__pycache__/shortcodes.cpython-311.pyc',\n          'docs'): 2,\n         ('internal/client/gitlab.go', 'unknown'): 1,\n         ('internal/client/gitlab.go', 'fix'): 6,\n         ('.github/workflows/build.yml', 'unknown'): 3,\n         ('.github/workflows/lint.yml', 'unknown'): 2,\n         ('.github/workflows/nightly-oss.yml', 'unknown'): 2,\n         ('.github/workflows/release.yml', 'unknown'): 4,\n         ('.github/workflows/lint.yml', 'chore'): 18,\n         ('.goreleaser.yaml', 'feat'): 4,\n         ('cmd/testdata/good.yml', 'feat'): 1,\n         ('internal/pipe/snapshot/snapshot.go', 'feat'): 2,\n         ('internal/pipe/snapshot/snapshot_test.go', 'feat'): 2,\n         ('internal/pipe/sourcearchive/source.go', 'fix'): 2,\n         ('flake.nix', 'fix'): 2,\n         ('www/docs/overrides/hooks/__pycache__/shortcodes.cpython-311.pyc',\n          'chore'): 1,\n         ('internal/pipe/ko/ko.go', 'fix'): 2,\n         ('internal/pipe/ko/ko_test.go', 'fix'): 1,\n         ('scripts/pages/build.sh', 'docs'): 1,\n         ('www/docs/cookbooks/private-monorepo-public-release.md', 'docs'): 2,\n         ('www/docs/customization/announce/bluesky.md', 'docs'): 5,\n         ('www/docs/customization/announce/discord.md', 'docs'): 3,\n         ('www/docs/customization/announce/linkedin.md', 'docs'): 3,\n         ('www/docs/customization/announce/mastodon.md', 'docs'): 3,\n         ('www/docs/customization/announce/mattermost.md', 'docs'): 3,\n         ('www/docs/customization/announce/opencollective.md', 'docs'): 3,\n         ('www/docs/customization/announce/reddit.md', 'docs'): 3,\n         ('www/docs/customization/announce/slack.md', 'docs'): 3,\n         ('www/docs/customization/announce/smtp.md', 'docs'): 3,\n         ('www/docs/customization/announce/teams.md', 'docs'): 3,\n         ('www/docs/customization/announce/telegram.md', 'docs'): 3,\n         ('www/docs/customization/announce/twitter.md', 'docs'): 3,\n         ('www/docs/customization/announce/webhook.md', 'docs'): 3,\n         ('www/docs/customization/archive.md', 'docs'): 4,\n         ('www/docs/customization/artifactory.md', 'docs'): 4,\n         ('www/docs/customization/aur.md', 'docs'): 7,\n         ('www/docs/customization/beforepublish.md', 'docs'): 4,\n         ('www/docs/customization/blob.md', 'docs'): 7,\n         ('www/docs/customization/builds.md', 'docs'): 9,\n         ('www/docs/customization/checksum.md', 'docs'): 4,\n         ('www/docs/customization/chocolatey.md', 'docs'): 5,\n         ('www/docs/customization/cloudsmith.md', 'docs'): 4,\n         ('www/docs/customization/dmg.md', 'docs'): 4,\n         ('www/docs/customization/docker.md', 'docs'): 5,\n         ('www/docs/customization/docker_manifest.md', 'docs'): 4,\n         ('www/docs/customization/dockerhub.md', 'docs'): 9,\n         ('www/docs/customization/env.md', 'docs'): 2,\n         ('www/docs/customization/fury.md', 'docs'): 5,\n         ('www/docs/customization/git.md', 'docs'): 6,\n         ('www/docs/customization/homebrew.md', 'docs'): 7,\n         ('www/docs/customization/hooks.md', 'docs'): 4,\n         ('www/docs/customization/includes.md', 'docs'): 2,\n         ('www/docs/customization/index.md', 'docs'): 2,\n         ('www/docs/customization/krew.md', 'docs'): 4,\n         ('www/docs/customization/metadata.md', 'docs'): 5,\n         ('www/docs/customization/milestone.md', 'docs'): 3,\n         ('www/docs/customization/monorepo.md', 'docs'): 3,\n         ('www/docs/customization/msi.md', 'docs'): 4,\n         ('www/docs/customization/notarize.md', 'docs'): 6,\n         ('www/docs/customization/publishers.md', 'docs'): 4,\n         ('www/docs/customization/release.md', 'docs'): 5,\n         ('www/docs/customization/scoop.md', 'docs'): 5,\n         ('www/docs/customization/snapcraft.md', 'docs'): 7,\n         ('www/docs/customization/source.md', 'docs'): 4,\n         ('www/docs/customization/templatefiles.md', 'docs'): 4,\n         ('www/docs/customization/universalbinaries.md', 'docs'): 6,\n         ('www/docs/customization/upload.md', 'docs'): 3,\n         ('www/docs/customization/upx.md', 'docs'): 3,\n         ('www/docs/customization/winget.md', 'docs'): 7,\n         ('www/docs/includes/pro.md', 'docs'): 2,\n         ('www/docs/includes/prs.md', 'docs'): 2,\n         ('www/docs/includes/repository.md', 'docs'): 8,\n         ('www/docs/includes/templates.md', 'docs'): 2,\n         ('www/docs/overrides/hooks/shortcodes.py', 'docs'): 1,\n         ('www/docs/errors/dirty.md', 'docs'): 2,\n         ('pkg/config/config.go', 'fix'): 16,\n         ('www/docs/static/schema.json', 'fix'): 5,\n         ('.github/workflows/generate.yml', 'ci'): 1,\n         ('www/docs/blog/posts/2024-07-13-v2.1.md', 'docs'): 1,\n         ('www/docs/static/schema.json', 'docs'): 2,\n         ('internal/pipe/snapcraft/snapcraft.go', 'fix'): 4,\n         ('internal/pipe/snapcraft/snapcraft_test.go', 'fix'): 3,\n         ('Dockerfile', 'unknown'): 2,\n         ('www/docs/customization/snapcraft.md', 'fix'): 1,\n         ('internal/pipe/nfpm/nfpm_test.go', 'test'): 2,\n         ('www/docs/customization/nfpm.md', 'feat'): 5,\n         ('www/docs/cmd/goreleaser.md', 'docs'): 4,\n         ('www/docs/cmd/goreleaser_subscribe.md', 'docs'): 1,\n         ('.github/workflows/generate.yml', 'chore'): 14,\n         ('.github/workflows/grype.yml', 'chore'): 8,\n         ('CONTRIBUTING.md', 'docs'): 4,\n         ('www/docs/contributing.md', 'docs'): 4,\n         ('Taskfile.yml', 'docs'): 3,\n         ('cmd/docs.go', 'docs'): 1,\n         ('www/docs/ci/gitlab.md', 'docs'): 4,\n         ('www/docs/cmd/goreleaser_announce.md', 'docs'): 3,\n         ('www/docs/cmd/goreleaser_changelog.md', 'docs'): 2,\n         ('www/docs/cmd/goreleaser_check.md', 'docs'): 2,\n         ('www/docs/cmd/goreleaser_completion.md', 'docs'): 2,\n         ('www/docs/cmd/goreleaser_completion_bash.md', 'docs'): 2,\n         ('www/docs/cmd/goreleaser_completion_fish.md', 'docs'): 2,\n         ('www/docs/cmd/goreleaser_completion_powershell.md', 'docs'): 2,\n         ('www/docs/cmd/goreleaser_completion_zsh.md', 'docs'): 2,\n         ('www/docs/cmd/goreleaser_continue.md', 'docs'): 2,\n         ('www/docs/cmd/goreleaser_healthcheck.md', 'docs'): 2,\n         ('www/docs/cmd/goreleaser_init.md', 'docs'): 2,\n         ('www/docs/cmd/goreleaser_jsonschema.md', 'docs'): 2,\n         ('www/docs/cmd/goreleaser_publish.md', 'docs'): 2,\n         ('www/docs/cmd/goreleaser_verify-license.md', 'docs'): 3,\n         ('www/docs/cookbooks/build-go-modules.md', 'docs'): 1,\n         ('www/docs/cookbooks/cgo-and-crosscompiling.md', 'docs'): 1,\n         ('www/docs/cookbooks/index.md', 'docs'): 1,\n         ('www/docs/cookbooks/multi-platform-docker-images.md', 'docs'): 1,\n         ('www/docs/cookbooks/publish-to-nexus.md', 'docs'): 1,\n         ('www/docs/cookbooks/using-jfrog-cli-to-publish-to-artifactory.md',\n          'docs'): 1,\n         ('www/docs/cookbooks/using-main.version.md', 'docs'): 2,\n         ('www/docs/customization/announce/index.md', 'docs'): 3,\n         ('www/docs/customization/dist.md', 'docs'): 3,\n         ('www/docs/customization/ko.md', 'docs'): 2,\n         ('www/docs/errors/build.md', 'docs'): 1,\n         ('www/docs/errors/multiple-tokens.md', 'docs'): 2,\n         ('www/docs/errors/no-history.md', 'docs'): 1,\n         ('www/docs/errors/no-main.md', 'docs'): 1,\n         ('www/docs/errors/resource-not-accessible-by-integration.md',\n          'docs'): 2,\n         ('www/docs/errors/scoop-archive.md', 'docs'): 1,\n         ('www/docs/intro.md', 'docs'): 1,\n         ('www/docs/limitations/cgo.md', 'docs'): 1,\n         ('www/docs/limitations/semver.md', 'docs'): 1,\n         ('www/docs/post-checkout.md', 'docs'): 1,\n         ('www/docs/pro.md', 'docs'): 8,\n         ('www/docs/quick-start.md', 'docs'): 2,\n         ('internal/client/github.go', 'fix'): 8,\n         ('www/docs/errors/version.md', 'docs'): 2,\n         ('.github/workflows/build.yml', 'fix'): 1,\n         ('.github/workflows/release.yml', 'fix'): 1,\n         ('internal/semerrgroup/sem.go', 'fix'): 2,\n         ('internal/semerrgroup/sem_test.go', 'fix'): 2,\n         ('internal/pipe/effectiveconfig/config_test.go', 'test'): 1,\n         ('www/docs/overrides/home.html', 'docs'): 3,\n         ('www/docs/index.md', 'docs'): 1,\n         ('www/docs/static/goreleaser.svg', 'docs'): 1,\n         ('internal/pipe/gomod/gomod.go', 'fix'): 4,\n         ('cmd/config.go', 'fix'): 1,\n         ('cmd/root.go', 'fix'): 2,\n         ('internal/middleware/logging/logging.go', 'fix'): 1,\n         ('internal/pipe/changelog/changelog.go', 'fix'): 2,\n         ('internal/pipe/checksums/checksums.go', 'fix'): 2,\n         ('internal/pipe/effectiveconfig/config.go', 'fix'): 1,\n         ('internal/pipe/metadata/metadata.go', 'fix'): 1,\n         ('internal/pipe/release/release.go', 'fix'): 5,\n         ('www/docs/customization/changelog.md', 'docs'): 8,\n         ('www/docs/customization/reportsizes.md', 'docs'): 1,\n         ('www/docs/customization/sbom.md', 'docs'): 2,\n         ('www/docs/customization/verifiable_builds.md', 'docs'): 1,\n         ('www/docs/scm/gitlab.md', 'docs'): 1,\n         ('.github/workflows/nightly-oss.yml', 'build'): 2,\n         ('.goreleaser-nightly.yaml', 'build'): 1,\n         ('internal/client/gitea.go', 'fix'): 4,\n         ('internal/client/gitea_test.go', 'fix'): 1,\n         ('internal/client/gitlab_test.go', 'fix'): 3,\n         ('internal/pipe/changelog/changelog_test.go', 'fix'): 2,\n         ('internal/builders/golang/build.go', 'feat'): 3,\n         ('internal/http/http.go', 'feat'): 4,\n         ('internal/http/http_test.go', 'feat'): 4,\n         ('internal/http/testdata/foo.txt', 'feat'): 1,\n         ('www/docs/customization/artifactory.md', 'feat'): 2,\n         ('www/docs/customization/blob.md', 'feat'): 7,\n         ('www/docs/customization/upload.md', 'feat'): 2,\n         ('.github/workflows/depsreview.yaml', 'chore'): 8,\n         ('.github/workflows/docs.yml', 'chore'): 11,\n         ('.github/workflows/gitleaks.yml', 'chore'): 7,\n         ('internal/pipe/blob/blob.go', 'feat'): 7,\n         ('internal/pipe/blob/blob_minio_test.go', 'feat'): 6,\n         ('internal/pipe/blob/upload.go', 'feat'): 8,\n         ('cmd/build.go', 'feat'): 6,\n         ('cmd/build_test.go', 'feat'): 6,\n         ('cmd/util_test.go', 'feat'): 4,\n         ('internal/pipe/chocolatey/chocolatey.go', 'feat'): 3,\n         ('www/docs/customization/chocolatey.md', 'feat'): 1,\n         ('pkg/archive/archive.go', 'feat'): 3,\n         ('pkg/archive/archive_test.go', 'feat'): 3,\n         ('www/docs/customization/archive.md', 'feat'): 4,\n         ('internal/pipe/archive/archive.go', 'feat'): 5,\n         ('internal/pipe/archive/archive_test.go', 'feat'): 4,\n         ('internal/skips/skips.go', 'feat'): 11,\n         ('internal/pipe/notary/macos.go', 'feat'): 3,\n         ('www/docs/customization/notarize.md', 'feat'): 2,\n         ('internal/pipe/blob/upload.go', 'unknown'): 1,\n         ('pkg/config/config_test.go', 'test'): 1,\n         ('internal/pipe/blob/upload.go', 'fix'): 1,\n         ('www/docs/blog/posts/2024-06-04-goreleaser-v2.md', 'docs'): 5,\n         ('internal/static/config.yaml', 'fix'): 1,\n         ('internal/static/config_test.go', 'fix'): 1,\n         ('pkg/config/config.go', 'docs'): 1,\n         ('.github/workflows/release.yml', 'ci'): 1,\n         ('cmd/root_test.go', 'test'): 1,\n         ('www/docs/users.md', 'docs'): 8,\n         ('.goreleaser.yaml', 'ci'): 2,\n         ('cmd/check.go', 'feat'): 1,\n         ('cmd/config.go', 'feat'): 2,\n         ('cmd/config_test.go', 'feat'): 2,\n         ('cmd/healthcheck.go', 'feat'): 1,\n         ('cmd/helper_test.go', 'feat'): 1,\n         ('cmd/init.go', 'feat'): 1,\n         ('cmd/release.go', 'feat'): 5,\n         ('cmd/release_test.go', 'feat'): 4,\n         ('cmd/root.go', 'feat'): 3,\n         ('cmd/schema.go', 'feat'): 1,\n         ('internal/archivefiles/archivefiles.go', 'feat'): 1,\n         ('internal/archivefiles/archivefiles_test.go', 'feat'): 1,\n         ('internal/artifact/artifact_test.go', 'feat'): 4,\n         ('internal/builders/buildtarget/targets.go', 'feat'): 2,\n         ('internal/builders/buildtarget/targets_test.go', 'feat'): 2,\n         ('internal/builders/golang/build_test.go', 'feat'): 1,\n         ('internal/client/client.go', 'feat'): 4,\n         ('internal/client/client_test.go', 'feat'): 1,\n         ('internal/client/config.go', 'feat'): 2,\n         ('internal/client/config_test.go', 'feat'): 1,\n         ('internal/client/git.go', 'feat'): 2,\n         ('internal/client/git_test.go', 'feat'): 1,\n         ('internal/client/gitea.go', 'feat'): 4,\n         ('internal/client/gitea_test.go', 'feat'): 2,\n         ('internal/client/github.go', 'feat'): 8,\n         ('internal/client/github_test.go', 'feat'): 4,\n         ('internal/client/gitlab.go', 'feat'): 5,\n         ('internal/client/gitlab_test.go', 'feat'): 4,\n         ('internal/client/mock.go', 'feat'): 4,\n         ('internal/client/release_notes.go', 'feat'): 1,\n         ('internal/client/release_notes_test.go', 'feat'): 1,\n         ('internal/commitauthor/author.go', 'feat'): 1,\n         ('internal/commitauthor/author_test.go', 'feat'): 1,\n         ('internal/deprecate/deprecate.go', 'feat'): 1,\n         ('internal/deprecate/deprecate_test.go', 'feat'): 1,\n         ('internal/exec/exec.go', 'feat'): 2,\n         ('internal/exec/exec_test.go', 'feat'): 2,\n         ('internal/extrafiles/extra_files.go', 'feat'): 1,\n         ('internal/extrafiles/extra_files_test.go', 'feat'): 1,\n         ('internal/git/config.go', 'feat'): 1,\n         ('internal/git/config_test.go', 'feat'): 1,\n         ('internal/git/git_test.go', 'feat'): 1,\n         ('internal/logext/writer_test.go', 'feat'): 1,\n         ('internal/middleware/errhandler/error.go', 'feat'): 1,\n         ('internal/middleware/errhandler/error_test.go', 'feat'): 1,\n         ('internal/middleware/logging/logging.go', 'feat'): 1,\n         ('internal/middleware/logging/logging_test.go', 'feat'): 1,\n         ('internal/middleware/middleware.go', 'feat'): 1,\n         ('internal/middleware/skip/skip.go', 'feat'): 1,\n         ('internal/middleware/skip/skip_test.go', 'feat'): 1,\n         ('internal/pipe/announce/announce.go', 'feat'): 2,\n         ('internal/pipe/announce/announce_test.go', 'feat'): 1,\n         ('internal/pipe/archive/archive_meta_test.go', 'feat'): 1,\n         ('internal/pipe/artifactory/artifactory.go', 'feat'): 1,\n         ('internal/pipe/artifactory/artifactory_test.go', 'feat'): 1,\n         ('internal/pipe/aur/aur.go', 'feat'): 3,\n         ('internal/pipe/aur/aur_test.go', 'feat'): 3,\n         ('internal/pipe/before/before.go', 'feat'): 2,\n         ('internal/pipe/before/before_test.go', 'feat'): 2,\n         ('internal/pipe/blob/blob_test.go', 'feat'): 4,\n         ('internal/pipe/bluesky/bluesky.go', 'feat'): 2,\n         ('internal/pipe/bluesky/bluesky_test.go', 'feat'): 2,\n         ('internal/pipe/brew/brew.go', 'feat'): 6,\n         ('internal/pipe/brew/brew_test.go', 'feat'): 6,\n         ('internal/pipe/brew/template.go', 'feat'): 4,\n         ('internal/pipe/build/filter.go', 'feat'): 2,\n         ('internal/pipe/build/filter_test.go', 'feat'): 2,\n         ('internal/pipe/changelog/changelog.go', 'feat'): 5,\n         ('internal/pipe/changelog/changelog_test.go', 'feat'): 5,\n         ('internal/pipe/checksums/checksums.go', 'feat'): 2,\n         ('internal/pipe/checksums/checksums_test.go', 'feat'): 2,\n         ('internal/pipe/chocolatey/chocolatey_test.go', 'feat'): 2,\n         ('internal/pipe/chocolatey/nuspec_test.go', 'feat'): 1,\n         ('internal/pipe/custompublishers/custompublishers.go', 'feat'): 1,\n         ('internal/pipe/custompublishers/custompublishers_test.go',\n          'feat'): 1,\n         ('internal/pipe/discord/discord.go', 'feat'): 1,\n         ('internal/pipe/discord/discord_test.go', 'feat'): 1,\n         ('internal/pipe/docker/api.go', 'feat'): 1,\n         ('internal/pipe/docker/api_docker.go', 'feat'): 1,\n         ('internal/pipe/docker/docker.go', 'feat'): 1,\n         ('internal/pipe/docker/docker_test.go', 'feat'): 1,\n         ('internal/pipe/docker/manifest.go', 'feat'): 1,\n         ('internal/pipe/effectiveconfig/config.go', 'feat'): 1,\n         ('internal/pipe/effectiveconfig/config_test.go', 'feat'): 1,\n         ('internal/pipe/env/env.go', 'feat'): 1,\n         ('internal/pipe/env/env_test.go', 'feat'): 1,\n         ('internal/pipe/git/git.go', 'feat'): 1,\n         ('internal/pipe/git/git_test.go', 'feat'): 1,\n         ('internal/pipe/gomod/gomod.go', 'feat'): 1,\n         ('internal/pipe/gomod/gomod_proxy.go', 'feat'): 2,\n         ('internal/pipe/gomod/gomod_proxy_test.go', 'feat'): 3,\n         ('internal/pipe/gomod/gomod_test.go', 'feat'): 1,\n         ('internal/pipe/krew/krew.go', 'feat'): 3,\n         ('internal/pipe/krew/krew_test.go', 'feat'): 3,\n         ('internal/pipe/linkedin/client.go', 'feat'): 1,\n         ('internal/pipe/linkedin/client_test.go', 'feat'): 1,\n         ('internal/pipe/linkedin/linkedin.go', 'feat'): 1,\n         ('internal/pipe/linkedin/linkedin_test.go', 'feat'): 1,\n         ('internal/pipe/mastodon/mastodon.go', 'feat'): 1,\n         ('internal/pipe/mastodon/mastodon_test.go', 'feat'): 1,\n         ('internal/pipe/mattermost/mattermost.go', 'feat'): 1,\n         ('internal/pipe/mattermost/mattermost_test.go', 'feat'): 1,\n         ('internal/pipe/metadata/metadata.go', 'feat'): 2,\n         ('internal/pipe/metadata/metadata_test.go', 'feat'): 2,\n         ('internal/pipe/milestone/milestone.go', 'feat'): 1,\n         ('internal/pipe/milestone/milestone_test.go', 'feat'): 1,\n         ('internal/pipe/nix/nix.go', 'feat'): 4,\n         ('internal/pipe/nix/nix_test.go', 'feat'): 4,\n         ('internal/pipe/notary/macos_test.go', 'feat'): 2,\n         ('internal/pipe/opencollective/opencollective.go', 'feat'): 1,\n         ('internal/pipe/opencollective/opencollective_test.go', 'feat'): 1,\n         ('internal/pipe/partial/partial.go', 'feat'): 2,\n         ('internal/pipe/partial/partial_test.go', 'feat'): 2,\n         ('internal/pipe/prebuild/prebuild.go', 'feat'): 1,\n         ('internal/pipe/prebuild/prebuild_test.go', 'feat'): 1,\n         ('internal/pipe/project/project.go', 'feat'): 1,\n         ('internal/pipe/project/project_test.go', 'feat'): 1,\n         ('internal/pipe/publish/publish.go', 'feat'): 1,\n         ('internal/pipe/publish/publish_test.go', 'feat'): 1,\n         ('internal/pipe/reddit/reddit.go', 'feat'): 1,\n         ('internal/pipe/reddit/reddit_test.go', 'feat'): 1,\n         ('internal/pipe/release/body.go', 'feat'): 2,\n         ('internal/pipe/release/body_test.go', 'feat'): 2,\n         ('internal/pipe/release/release.go', 'feat'): 3,\n         ('internal/pipe/release/release_test.go', 'feat'): 3,\n         ('internal/pipe/release/scm.go', 'feat'): 1,\n         ('internal/pipe/release/scm_test.go', 'feat'): 1,\n         ('internal/pipe/reportsizes/reportsizes.go', 'feat'): 1,\n         ('internal/pipe/reportsizes/reportsizes_test.go', 'feat'): 1,\n         ('internal/pipe/sbom/sbom.go', 'feat'): 1,\n         ('internal/pipe/sbom/sbom_test.go', 'feat'): 1,\n         ('internal/pipe/scoop/scoop.go', 'feat'): 5,\n         ('internal/pipe/scoop/scoop_test.go', 'feat'): 4,\n         ('internal/pipe/semver/semver.go', 'feat'): 1,\n         ('internal/pipe/semver/semver_test.go', 'feat'): 1,\n         ('internal/pipe/sign/sign_docker.go', 'feat'): 1,\n         ('internal/pipe/sign/sign_docker_test.go', 'feat'): 1,\n         ('internal/pipe/sign/sign_test.go', 'feat'): 1,\n         ('internal/pipe/slack/slack.go', 'feat'): 1,\n         ('internal/pipe/slack/slack_test.go', 'feat'): 1,\n         ('internal/pipe/smtp/smtp.go', 'feat'): 1,\n         ('internal/pipe/smtp/smtp_test.go', 'feat'): 1,\n         ('internal/pipe/snapcraft/snapcraft.go', 'feat'): 2,\n         ('internal/pipe/snapcraft/snapcraft_test.go', 'feat'): 2,\n         ('internal/pipe/sourcearchive/source.go', 'feat'): 2,\n         ('internal/pipe/sourcearchive/source_test.go', 'feat'): 1,\n         ('internal/pipe/teams/teams.go', 'feat'): 1,\n         ('internal/pipe/teams/teams_test.go', 'feat'): 1,\n         ('internal/pipe/telegram/telegram.go', 'feat'): 1,\n         ('internal/pipe/telegram/telegram_test.go', 'feat'): 1,\n         ('internal/pipe/twitter/twitter.go', 'feat'): 1,\n         ('internal/pipe/twitter/twitter_test.go', 'feat'): 1,\n         ('internal/pipe/universalbinary/universalbinary.go', 'feat'): 1,\n         ('internal/pipe/universalbinary/universalbinary_test.go', 'feat'): 1,\n         ('internal/pipe/upload/upload.go', 'feat'): 1,\n         ('internal/pipe/upload/upload_test.go', 'feat'): 1,\n         ('internal/pipe/upx/upx.go', 'feat'): 1,\n         ('internal/pipe/upx/upx_test.go', 'feat'): 1,\n         ('internal/pipe/webhook/webhook.go', 'feat'): 1,\n         ('internal/pipe/webhook/webhook_test.go', 'feat'): 1,\n         ('internal/pipe/winget/template.go', 'feat'): 2,\n         ('internal/pipe/winget/winget.go', 'feat'): 4,\n         ('internal/pipe/winget/winget_test.go', 'feat'): 4,\n         ('internal/semerrgroup/sem.go', 'feat'): 1,\n         ('internal/semerrgroup/sem_test.go', 'feat'): 1,\n         ('internal/shell/shell.go', 'feat'): 2,\n         ('internal/shell/shell_test.go', 'feat'): 2,\n         ('internal/skips/skips_test.go', 'feat'): 1,\n         ('internal/static/config_test.go', 'feat'): 1,\n         ('internal/testctx/testctx.go', 'feat'): 2,\n         ('internal/testlib/git.go', 'feat'): 1,\n         ('internal/testlib/skip.go', 'feat'): 1,\n         ('internal/testlib/skip_test.go', 'feat'): 1,\n         ('internal/testlib/tmpl.go', 'feat'): 1,\n         ('internal/tmpl/tmpl.go', 'feat'): 4,\n         ('internal/tmpl/tmpl_test.go', 'feat'): 4,\n         ('main.go', 'feat'): 1,\n         ('main_test.go', 'feat'): 1,\n         ('pkg/archive/gzip/gzip.go', 'feat'): 1,\n         ('pkg/archive/gzip/gzip_test.go', 'feat'): 1,\n         ('pkg/archive/tar/tar.go', 'feat'): 1,\n         ('pkg/archive/tar/tar_test.go', 'feat'): 1,\n         ('pkg/archive/targz/targz.go', 'feat'): 1,\n         ('pkg/archive/targz/targz_test.go', 'feat'): 1,\n         ('pkg/archive/tarxz/tarxz.go', 'feat'): 1,\n         ('pkg/archive/tarxz/tarxz_test.go', 'feat'): 1,\n         ('pkg/archive/tarzst/tarzst.go', 'feat'): 2,\n         ('pkg/archive/tarzst/tarzst_test.go', 'feat'): 2,\n         ('pkg/archive/zip/zip.go', 'feat'): 1,\n         ('pkg/archive/zip/zip_test.go', 'feat'): 1,\n         ('pkg/build/build.go', 'feat'): 1,\n         ('pkg/build/build_test.go', 'feat'): 1,\n         ('pkg/config/config_archive_files_test.go', 'feat'): 1,\n         ('pkg/config/config_array_test.go', 'feat'): 1,\n         ('pkg/config/config_build_hook_test.go', 'feat'): 1,\n         ('pkg/config/load.go', 'feat'): 2,\n         ('pkg/context/context.go', 'feat'): 3,\n         ('pkg/context/context_test.go', 'feat'): 1,\n         ('pkg/healthcheck/healthcheck_test.go', 'feat'): 1,\n         ('cmd/root_test.go', 'feat'): 1,\n         ('cmd/check_test.go', 'feat'): 1,\n         ('cmd/testdata/unmarshal_error.yml', 'feat'): 1,\n         ('internal/pipe/brew/templates/cask.rb', 'feat'): 1,\n         ('internal/pipe/brew/testdata/TestFullFormulae.rb.golden', 'feat'): 2,\n         ('internal/pipe/brew/testdata/TestFullPipe/custom_block.rb.golden',\n          'feat'): 3,\n         ('internal/pipe/brew/testdata/TestFullPipe/custom_download_strategy.rb.golden',\n          'feat'): 3,\n         ('internal/pipe/brew/testdata/TestFullPipe/custom_require.rb.golden',\n          'feat'): 3,\n         ('internal/pipe/brew/testdata/TestFullPipe/default.rb.golden',\n          'feat'): 3,\n         ('internal/pipe/brew/testdata/TestFullPipe/default_gitlab.rb.golden',\n          'feat'): 3,\n         ('internal/pipe/brew/testdata/TestFullPipe/git_remote.rb.golden',\n          'feat'): 3,\n         ('internal/pipe/brew/testdata/TestFullPipe/open_pr.rb.golden',\n          'feat'): 3,\n         ('internal/pipe/brew/testdata/TestFullPipe/valid_repository_templates.rb.golden',\n          'feat'): 3,\n         ('internal/pipe/brew/testdata/TestFullPipe/with_header.rb.golden',\n          'feat'): 3,\n         ('internal/pipe/brew/testdata/TestFullPipe/with_many_headers.rb.golden',\n          'feat'): 3,\n         ('internal/pipe/brew/testdata/TestRunPipeForMultipleArmVersions/multiple_armv5.rb.golden',\n          'feat'): 2,\n         ('internal/pipe/brew/testdata/TestRunPipeForMultipleArmVersions/multiple_armv6.rb.golden',\n          'feat'): 2,\n         ('internal/pipe/brew/testdata/TestRunPipeForMultipleArmVersions/multiple_armv7.rb.golden',\n          'feat'): 2,\n         ('pkg/config/config_homebrew_dependency_test.go', 'feat'): 1,\n         ('pkg/config/config_test.go', 'feat'): 2,\n         ('pkg/config/testdata/anchor.yaml', 'feat'): 1,\n         ('pkg/config/testdata/invalid.yml', 'feat'): 1,\n         ('pkg/config/testdata/invalid_config.yml', 'feat'): 1,\n         ('www/docs/ci/actions.md', 'fix'): 1,\n         ('internal/builders/golang/build.go', 'unknown'): 2,\n         ('cmd/root_test.go', 'fix'): 1,\n         ('cmd/release.go', 'fix'): 2,\n         ('cmd/release_test.go', 'fix'): 1,\n         ('internal/pipe/release/release.go', 'chore'): 2,\n         ('.gitignore', 'chore'): 1,\n         ('.golangci.yaml', 'fix'): 2,\n         ('cmd/build.go', 'fix'): 4,\n         ('internal/artifact/artifact.go', 'fix'): 4,\n         ('internal/builders/buildtarget/targets.go', 'fix'): 1,\n         ('internal/exec/exec.go', 'fix'): 1,\n         ('internal/exec/exec_mock.go', 'fix'): 1,\n         ('internal/http/http.go', 'fix'): 1,\n         ('internal/pipe/announce/announce.go', 'fix'): 1,\n         ('internal/pipe/archive/archive.go', 'fix'): 1,\n         ('internal/pipe/docker/api.go', 'fix'): 1,\n         ('internal/pipe/docker/docker.go', 'fix'): 3,\n         ('internal/pipe/git/git.go', 'fix'): 1,\n         ('internal/pipe/gomod/gomod_proxy.go', 'fix'): 2,\n         ('internal/pipe/krew/krew.go', 'fix'): 1,\n         ('internal/pipe/sbom/sbom.go', 'fix'): 2,\n         ('internal/pipe/sbom/sbom_test.go', 'fix'): 3,\n         ('internal/pipe/scoop/scoop.go', 'fix'): 1,\n         ('internal/pipe/sign/sign.go', 'fix'): 2,\n         ('internal/pipe/sign/sign_test.go', 'fix'): 2,\n         ('internal/pipe/winget/template.go', 'fix'): 2,\n         ('internal/pipeline/pipeline.go', 'fix'): 1,\n         ('main.go', 'fix'): 1,\n         ('pkg/archive/gzip/gzip_test.go', 'fix'): 1,\n         ('pkg/archive/tar/tar_test.go', 'fix'): 1,\n         ('pkg/archive/targz/targz_test.go', 'fix'): 1,\n         ('pkg/archive/tarxz/tarxz_test.go', 'fix'): 1,\n         ('pkg/archive/tarzst/tarzst_test.go', 'fix'): 1,\n         ('pkg/archive/zip/zip_test.go', 'fix'): 1,\n         ('pkg/build/build.go', 'fix'): 1,\n         ('pkg/defaults/defaults.go', 'fix'): 1,\n         ('pkg/healthcheck/healthcheck.go', 'fix'): 1,\n         ('.golangci.yaml', 'chore'): 2,\n         ('internal/builders/buildtarget/targets.go', 'docs'): 1,\n         ('internal/builders/golang/build_test.go', 'docs'): 1,\n         ('.github/workflows/lint.yml', 'refactor'): 1,\n         ('.golangci.yaml', 'refactor'): 1,\n         ('internal/artifact/artifact.go', 'refactor'): 1,\n         ('internal/artifact/artifact_test.go', 'refactor'): 1,\n         ('internal/exec/exec.go', 'refactor'): 1,\n         ('internal/http/http.go', 'refactor'): 2,\n         ('internal/pipe/archive/archive.go', 'refactor'): 1,\n         ('internal/pipe/artifactory/artifactory.go', 'refactor'): 1,\n         ('internal/pipe/blob/blob.go', 'refactor'): 1,\n         ('internal/pipe/blob/upload.go', 'refactor'): 1,\n         ('internal/pipe/build/build.go', 'refactor'): 1,\n         ('internal/pipe/checksums/checksums.go', 'refactor'): 1,\n         ('internal/pipe/docker/docker.go', 'refactor'): 1,\n         ('internal/pipe/docker/docker_test.go', 'refactor'): 1,\n         ('internal/pipe/docker/manifest.go', 'refactor'): 1,\n         ('internal/pipe/ko/ko_test.go', 'refactor'): 1,\n         ('internal/pipe/nfpm/nfpm.go', 'refactor'): 2,\n         ('internal/pipe/release/body_test.go', 'refactor'): 1,\n         ('internal/pipe/release/release.go', 'refactor'): 1,\n         ('internal/pipe/scoop/scoop_test.go', 'refactor'): 1,\n         ('internal/pipe/snapcraft/snapcraft.go', 'refactor'): 1,\n         ('internal/pipe/universalbinary/universalbinary.go', 'refactor'): 1,\n         ('internal/pipe/upload/upload.go', 'refactor'): 1,\n         ('internal/pipe/upx/upx.go', 'refactor'): 1,\n         ('internal/semerrgroup/sem_test.go', 'refactor'): 1,\n         ('internal/tmpl/tmpl_test.go', 'refactor'): 1,\n         ('main_test.go', 'refactor'): 1,\n         ('pkg/archive/archive_test.go', 'refactor'): 1,\n         ('internal/pipe/blob/blob_minio_test.go', 'fix'): 1,\n         ('internal/pipe/discord/discord.go', 'fix'): 2,\n         ('internal/client/github.go', 'docs'): 1,\n         ('internal/client/github_test.go', 'docs'): 1,\n         ('www/docs/blog/posts/2024-05-11-goreleaser-v1.26.md', 'docs'): 1,\n         ('internal/pipe/pipe.go', 'docs'): 1,\n         ('www/docs/how-it-works.md', 'docs'): 1,\n         ('internal/pipe/blob/blob_test.go', 'test'): 2,\n         ('internal/pipe/blob/blob.go', 'unknown'): 1,\n         ('internal/pipe/blob/blob_test.go', 'unknown'): 1,\n         ('www/docs/customization/blob.md', 'unknown'): 1,\n         ('internal/artifact/artifact.go', 'feat'): 3,\n         ('www/docs/customization/checksum.md', 'feat'): 2,\n         ('.github/workflows/build.yml', 'build'): 2,\n         ('.github/workflows/release.yml', 'build'): 2,\n         ('internal/pipe/snapcraft/snapcraft_test.go', 'unknown'): 1,\n         ('internal/pipe/brew/templates/linux_packages.rb', 'fix'): 2,\n         ('internal/pipe/brew/testdata/TestFullFormulae.rb.golden', 'fix'): 2,\n         ('internal/pipe/brew/testdata/TestFullFormulaeLinuxOnly.rb.golden',\n          'fix'): 2,\n         ('internal/pipe/brew/testdata/TestFullPipe/custom_block.rb.golden',\n          'fix'): 2,\n         ('internal/pipe/brew/testdata/TestFullPipe/custom_download_strategy.rb.golden',\n          'fix'): 2,\n         ('internal/pipe/brew/testdata/TestFullPipe/custom_require.rb.golden',\n          'fix'): 2,\n         ('internal/pipe/brew/testdata/TestFullPipe/default.rb.golden',\n          'fix'): 2,\n         ('internal/pipe/brew/testdata/TestFullPipe/default_gitlab.rb.golden',\n          'fix'): 2,\n         ('internal/pipe/brew/testdata/TestFullPipe/git_remote.rb.golden',\n          'fix'): 2,\n         ('internal/pipe/brew/testdata/TestFullPipe/open_pr.rb.golden',\n          'fix'): 2,\n         ('internal/pipe/brew/testdata/TestFullPipe/valid_repository_templates.rb.golden',\n          'fix'): 2,\n         ('internal/pipe/brew/testdata/TestFullPipe/with_header.rb.golden',\n          'fix'): 2,\n         ('internal/pipe/brew/testdata/TestFullPipe/with_many_headers.rb.golden',\n          'fix'): 2,\n         ('internal/pipe/brew/testdata/TestRunPipeForMultipleAmd64Versions/v1.rb.golden',\n          'fix'): 3,\n         ('internal/pipe/brew/testdata/TestRunPipeForMultipleAmd64Versions/v2.rb.golden',\n          'fix'): 3,\n         ('internal/pipe/brew/testdata/TestRunPipeForMultipleAmd64Versions/v3.rb.golden',\n          'fix'): 3,\n         ('internal/pipe/brew/testdata/TestRunPipeForMultipleAmd64Versions/v4.rb.golden',\n          'fix'): 3,\n         ('internal/pipe/brew/testdata/TestRunPipeForMultipleArmVersions/multiple_armv5.rb.golden',\n          'fix'): 2,\n         ('internal/pipe/brew/testdata/TestRunPipeForMultipleArmVersions/multiple_armv6.rb.golden',\n          'fix'): 2,\n         ('internal/pipe/brew/testdata/TestRunPipeForMultipleArmVersions/multiple_armv7.rb.golden',\n          'fix'): 2,\n         ('.goreleaser.yaml', 'fix'): 1,\n         ('internal/pipe/brew/testdata/TestFullFormulae.rb.golden', 'test'): 1,\n         ('internal/pipe/brew/testdata/TestFullFormulaeLinuxOnly.rb.golden',\n          'test'): 1,\n         ('internal/pipe/brew/testdata/TestFullPipe/custom_block.rb.golden',\n          'test'): 1,\n         ('internal/pipe/brew/testdata/TestFullPipe/custom_download_strategy.rb.golden',\n          'test'): 1,\n         ('internal/pipe/brew/testdata/TestFullPipe/custom_require.rb.golden',\n          'test'): 1,\n         ('internal/pipe/brew/testdata/TestFullPipe/default.rb.golden',\n          'test'): 1,\n         ('internal/pipe/brew/testdata/TestFullPipe/default_gitlab.rb.golden',\n          'test'): 1,\n         ('internal/pipe/brew/testdata/TestFullPipe/git_remote.rb.golden',\n          'test'): 1,\n         ('internal/pipe/brew/testdata/TestFullPipe/open_pr.rb.golden',\n          'test'): 1,\n         ('internal/pipe/brew/testdata/TestFullPipe/valid_repository_templates.rb.golden',\n          'test'): 1,\n         ('internal/pipe/brew/testdata/TestFullPipe/with_header.rb.golden',\n          'test'): 1,\n         ('internal/pipe/brew/testdata/TestFullPipe/with_many_headers.rb.golden',\n          'test'): 1,\n         ('internal/pipe/brew/testdata/TestRunPipeForMultipleAmd64Versions/v1.rb.golden',\n          'test'): 1,\n         ('internal/pipe/brew/testdata/TestRunPipeForMultipleAmd64Versions/v2.rb.golden',\n          'test'): 1,\n         ('internal/pipe/brew/testdata/TestRunPipeForMultipleAmd64Versions/v3.rb.golden',\n          'test'): 1,\n         ('internal/pipe/brew/testdata/TestRunPipeForMultipleAmd64Versions/v4.rb.golden',\n          'test'): 1,\n         ('internal/pipe/brew/testdata/TestRunPipeForMultipleArmVersions/multiple_armv5.rb.golden',\n          'test'): 1,\n         ('internal/pipe/brew/testdata/TestRunPipeForMultipleArmVersions/multiple_armv6.rb.golden',\n          'test'): 1,\n         ('internal/pipe/brew/testdata/TestRunPipeForMultipleArmVersions/multiple_armv7.rb.golden',\n          'test'): 1,\n         ('internal/pipe/brew/templates/linux_packages.rb', 'feat'): 2,\n         ('internal/pipe/brew/templates/macos_packages.rb', 'feat'): 2,\n         ('internal/pipe/brew/testdata/TestFullFormulaeLinuxOnly.rb.golden',\n          'feat'): 1,\n         ('internal/pipe/brew/testdata/TestRunPipeForMultipleAmd64Versions/v1.rb.golden',\n          'feat'): 1,\n         ('internal/pipe/brew/testdata/TestRunPipeForMultipleAmd64Versions/v2.rb.golden',\n          'feat'): 1,\n         ('internal/pipe/brew/testdata/TestRunPipeForMultipleAmd64Versions/v3.rb.golden',\n          'feat'): 1,\n         ('internal/pipe/brew/testdata/TestRunPipeForMultipleAmd64Versions/v4.rb.golden',\n          'feat'): 1,\n         ('internal/pipe/brew/testdata/TestRunPipeNameTemplate.rb.golden',\n          'feat'): 1,\n         ('www/docs/customization/homebrew.md', 'feat'): 4,\n         ('flake.nix', 'chore'): 4,\n         ('internal/pipe/nix/licenses.go', 'fix'): 2,\n         ('internal/pipe/telegram/telegram.go', 'fix'): 2,\n         ('internal/pipe/telegram/telegram_test.go', 'fix'): 1,\n         ('www/docs/customization/announce/telegram.md', 'fix'): 2,\n         ('internal/pipe/brew/templates/macos_packages.rb', 'fix'): 2,\n         ('internal/pipe/brew/testdata/TestFullFormulaeMacOSOnly.rb.golden',\n          'fix'): 2,\n         ('internal/pipe/brew/testdata/TestRunPipeUniversalBinaryNotReplacing.rb.golden',\n          'fix'): 2,\n         ('internal/pipe/nfpm/nfpm.go', 'fix'): 3,\n         ('internal/pipe/nfpm/nfpm_test.go', 'fix'): 2,\n         ('www/docs/customization/nfpm.md', 'fix'): 1,\n         ('pkg/config/config.go', 'unknown'): 2,\n         ('internal/pipe/blob/testdata/credentials.json', 'chore'): 1,\n         ('internal/client/testdata/github/compare.json', 'feat'): 1,\n         ('www/docs/customization/changelog.md', 'feat'): 3,\n         ('internal/pipe/changelog/changelog.go', 'refactor'): 2,\n         ('internal/pipe/changelog/changelog_test.go', 'test'): 2,\n         ('internal/pipe/upx/upx_test.go', 'fix'): 1,\n         ('pkg/config/config_test.go', 'fix'): 1,\n         ('internal/client/gitea_test.go', 'test'): 2,\n         ('internal/pipe/bluesky/bluesky.go', 'fix'): 1,\n         ('internal/pipe/bluesky/bluesky_test.go', 'fix'): 1,\n         ('www/docs/customization/announce/bluesky.md', 'feat'): 1,\n         ('cmd/build.go', 'docs'): 1,\n         ('.github/workflows/depsreview.yaml', 'feat'): 1,\n         ('.github/workflows/release.yml', 'feat'): 1,\n         ('internal/pipe/notary/notary.go', 'feat'): 1,\n         ('www/docs/customization/msi.md', 'feat'): 1,\n         ('internal/pipe/discord/discord.go', 'chore'): 1,\n         ('internal/pipe/linkedin/linkedin.go', 'chore'): 1,\n         ('internal/pipe/mastodon/mastodon.go', 'chore'): 1,\n         ('internal/pipe/mattermost/mattermost.go', 'chore'): 1,\n         ('internal/pipe/opencollective/opencollective.go', 'chore'): 1,\n         ('internal/pipe/reddit/reddit.go', 'chore'): 1,\n         ('internal/pipe/slack/slack.go', 'chore'): 1,\n         ('internal/pipe/smtp/smtp.go', 'chore'): 1,\n         ('internal/pipe/teams/teams.go', 'chore'): 1,\n         ('internal/pipe/telegram/telegram.go', 'chore'): 1,\n         ('internal/pipe/twitter/twitter.go', 'chore'): 1,\n         ('internal/pipe/webhook/webhook.go', 'chore'): 1,\n         ('internal/pipe/winget/winget.go', 'fix'): 2,\n         ('internal/deprecate/deprecate.go', 'refactor'): 1,\n         ('internal/tmpl/tmpl.go', 'refactor'): 2,\n         ('www/docs/customization/templates.md', 'feat'): 5,\n         ('www/docs/customization/sbom.md', 'fix'): 1,\n         ('internal/builders/golang/build_test.go', 'chore'): 1,\n         ('internal/pipe/sign/testdata/README.md', 'chore'): 1,\n         ('www/docs/blog/posts/2023-05-05-goreleaser-v1.18.md', 'chore'): 1,\n         ('www/docs/blog/posts/2023-10-08-slsa-generation-for-your-artifacts.md',\n          'chore'): 1,\n         ('www/docs/blog/posts/2022-02-05-cloud-native-storage.md', 'docs'): 2,\n         ('www/docs/blog/posts/2022-02-20-azure-devops.md', 'docs'): 4,\n         ('www/docs/blog/posts/2023-05-05-goreleaser-v1.18.md', 'docs'): 1,\n         ('www/docs/blog/posts/2023-10-08-slsa-generation-for-your-artifacts.md',\n          'docs'): 3,\n         ('www/docs/errors/docker-build.md', 'docs'): 2,\n         ('internal/pipe/webhook/webhook.go', 'fix'): 1,\n         ('cmd/check.go', 'fix'): 1,\n         ('scripts/test.sh', 'build'): 2,\n         ('internal/pipe/release/release_test.go', 'fix'): 1,\n         ('www/docs/customization/docker.md', 'fix'): 1,\n         ('www/docs/errors/docker-build.md', 'fix'): 1,\n         ('www/docs/blog/posts/2024-04-02-goreleaser-v1.25.md', 'docs'): 1,\n         ('.github/workflows/generate.yml', 'build'): 5,\n         ('Taskfile.yml', 'build'): 4,\n         ('www/docs/static/run', 'fix'): 3,\n         ('internal/pipe/nix/licenses.go', 'feat'): 2,\n         ('flake.lock', 'build'): 4,\n         ('internal/client/mock.go', 'fix'): 1,\n         ('USERS.md', 'feat'): 1,\n         ('www/docs/cmd/goreleaser_announce.md', 'feat'): 1,\n         ('www/docs/cmd/goreleaser_build.md', 'feat'): 1,\n         ('www/docs/cmd/goreleaser_continue.md', 'feat'): 1,\n         ('www/docs/cmd/goreleaser_publish.md', 'feat'): 1,\n         ('www/docs/cmd/goreleaser_release.md', 'feat'): 1,\n         ('www/docs/cookbooks/build-go-modules.md', 'feat'): 1,\n         ('www/docs/customization/aur.md', 'feat'): 2,\n         ('www/docs/customization/docker.md', 'feat'): 1,\n         ('www/docs/customization/krew.md', 'feat'): 1,\n         ('www/docs/customization/metadata.md', 'feat'): 1,\n         ('www/docs/customization/nix.md', 'feat'): 1,\n         ('www/docs/customization/scoop.md', 'feat'): 1,\n         ('www/docs/customization/snapshots.md', 'feat'): 1,\n         ('www/docs/customization/source.md', 'feat'): 1,\n         ('www/docs/customization/templatefiles.md', 'feat'): 1,\n         ('www/docs/customization/winget.md', 'feat'): 1,\n         ('www/docs/errors/docker-build.md', 'feat'): 1,\n         ('www/docs/errors/no-main.md', 'feat'): 1,\n         ('www/docs/static/schema-pro.json', 'feat'): 1,\n         ('internal/pipe/gomod/gomod_test.go', 'fix'): 2,\n         ('www/docs/customization/verifiable_builds.md', 'fix'): 2,\n         ('www/docs/customization/publishers.md', 'feat'): 1,\n         ('www/docs/customization/release.md', 'feat'): 3,\n         ('www/docs/includes/prs.md', 'feat'): 1,\n         ('www/htmltest.yml', 'build'): 1,\n         ('internal/artifact/artifact_test.go', 'fix'): 2,\n         ('internal/pipe/release/body.go', 'fix'): 1,\n         ('internal/pipe/release/body_test.go', 'fix'): 1,\n         ('internal/client/git.go', 'fix'): 1,\n         ('internal/pipe/aur/aur.go', 'fix'): 3,\n         ('internal/pipe/aur/aur_test.go', 'fix'): 2,\n         ('internal/pipe/release/testdata/TestDescribeBodyMultipleChecksums.golden',\n          'feat'): 1,\n         ('internal/builders/golang/build_test.go', 'test'): 3,\n         ('internal/pipe/build/build_test.go', 'test'): 5,\n         ('.github/workflows/codeql.yml', 'unknown'): 1,\n         ('.github/workflows/depsreview.yaml', 'unknown'): 1,\n         ('.github/workflows/docs.yml', 'unknown'): 1,\n         ('.github/workflows/fig.yml', 'unknown'): 1,\n         ('.github/workflows/generate.yml', 'unknown'): 2,\n         ('.github/workflows/gitleaks.yml', 'unknown'): 1,\n         ('.github/workflows/grype.yml', 'unknown'): 1,\n         ('USERS.md', 'unknown'): 2,\n         ('cmd/root.go', 'unknown'): 1,\n         ('flake.lock', 'unknown'): 1,\n         ('flake.nix', 'unknown'): 1,\n         ('internal/builders/golang/build_test.go', 'unknown'): 1,\n         ('internal/middleware/middleware.go', 'unknown'): 1,\n         ('internal/pipe/aur/aur.go', 'unknown'): 1,\n         ('internal/pipe/aur/testdata/TestRunPipe.pkgbuild.golden',\n          'unknown'): 1,\n         ('internal/pipe/aur/testdata/TestRunPipe.srcinfo.golden',\n          'unknown'): 1,\n         ('internal/pipe/build/build.go', 'unknown'): 1,\n         ('internal/pipe/nfpm/nfpm.go', 'unknown'): 1,\n         ('internal/pipe/nfpm/nfpm_test.go', 'unknown'): 1,\n         ('internal/pipe/release/release.go', 'unknown'): 1,\n         ('internal/pipe/winget/winget.go', 'unknown'): 1,\n         ('www/docs/blog/posts/2022-01-23-docker-manifests.md', 'unknown'): 1,\n         ('www/docs/blog/posts/2022-02-20-azure-devops.md', 'unknown'): 1,\n         ('www/docs/blog/posts/2022-03-28-supply-chain-sec.md', 'unknown'): 1,\n         ('www/docs/customization/changelog.md', 'unknown'): 1,\n         ('www/docs/customization/docker_sign.md', 'unknown'): 1,\n         ('www/docs/customization/nix.md', 'unknown'): 1,\n         ('www/docs/deprecations.md', 'unknown'): 1,\n         ('internal/pipe/build/build.go', 'fix'): 1,\n         ('internal/pipe/aur/testdata/TestRunPipe.pkgbuild.golden', 'fix'): 1,\n         ('internal/pipe/aur/testdata/TestRunPipe.srcinfo.golden', 'fix'): 1,\n         ('www/docs/blog/posts/2022-01-23-docker-manifests.md', 'docs'): 2,\n         ('www/docs/blog/posts/2022-03-28-supply-chain-sec.md', 'docs'): 3,\n         ('internal/middleware/middleware.go', 'fix'): 1,\n         ('.github/workflows/fig.yml', 'feat'): 1,\n         ('.github/workflows/fig.yml', 'chore'): 3,\n         ('cmd/release_test.go', 'test'): 2,\n         ('internal/pipe/winget/testdata/TestFormatBinary/TestFormatBinary.installer.yaml.golden',\n          'feat'): 2,\n         ('internal/pipe/winget/testdata/TestFormatBinary/TestFormatBinary.locale.en-US.yaml.golden',\n          'feat'): 2,\n         ('internal/pipe/winget/testdata/TestFormatBinary/TestFormatBinary.yaml.golden',\n          'feat'): 2,\n         ('internal/pipe/winget/testdata/TestRunPipe/bad-commit-msg-tmpl/bad-commit-msg-tmpl.installer.yaml.golden',\n          'feat'): 1,\n         ('internal/pipe/winget/testdata/TestRunPipe/bad-commit-msg-tmpl/bad-commit-msg-tmpl.locale.en-US.yaml.golden',\n          'feat'): 1,\n         ('internal/pipe/winget/testdata/TestRunPipe/bad-commit-msg-tmpl/bad-commit-msg-tmpl.yaml.golden',\n          'feat'): 1,\n         ('internal/pipe/winget/testdata/TestRunPipe/full/full.installer.yaml.golden',\n          'feat'): 1,\n         ('internal/pipe/winget/testdata/TestRunPipe/full/full.locale.en-US.yaml.golden',\n          'feat'): 1,\n         ('internal/pipe/winget/testdata/TestRunPipe/full/full.yaml.golden',\n          'feat'): 1,\n         ('internal/pipe/winget/testdata/TestRunPipe/minimal/minimal.installer.yaml.golden',\n          'feat'): 1,\n         ('internal/pipe/winget/testdata/TestRunPipe/minimal/minimal.locale.en-US.yaml.golden',\n          'feat'): 1,\n         ('internal/pipe/winget/testdata/TestRunPipe/minimal/minimal.yaml.golden',\n          'feat'): 1,\n         ('internal/pipe/winget/testdata/TestRunPipe/open-pr/open-pr.installer.yaml.golden',\n          'feat'): 1,\n         ('internal/pipe/winget/testdata/TestRunPipe/open-pr/open-pr.locale.en-US.yaml.golden',\n          'feat'): 1,\n         ('internal/pipe/winget/testdata/TestRunPipe/open-pr/open-pr.yaml.golden',\n          'feat'): 1,\n         ('internal/pipe/winget/testdata/TestRunPipe/partial/partial.installer.yaml.golden',\n          'feat'): 1,\n         ('internal/pipe/winget/testdata/TestRunPipe/partial/partial.locale.en-US.yaml.golden',\n          'feat'): 1,\n         ('internal/pipe/winget/testdata/TestRunPipe/partial/partial.yaml.golden',\n          'feat'): 1,\n         ('internal/pipe/winget/testdata/TestRunPipe/skip-upload-auto/skip-upload-auto.installer.yaml.golden',\n          'feat'): 1,\n         ('internal/pipe/winget/testdata/TestRunPipe/skip-upload-auto/skip-upload-auto.locale.en-US.yaml.golden',\n          'feat'): 1,\n         ('internal/pipe/winget/testdata/TestRunPipe/skip-upload-auto/skip-upload-auto.yaml.golden',\n          'feat'): 1,\n         ('internal/pipe/winget/testdata/TestRunPipe/skip-upload/skip-upload.installer.yaml.golden',\n          'feat'): 1,\n         ('internal/pipe/winget/testdata/TestRunPipe/skip-upload/skip-upload.locale.en-US.yaml.golden',\n          'feat'): 1,\n         ('internal/pipe/winget/testdata/TestRunPipe/skip-upload/skip-upload.yaml.golden',\n          'feat'): 1,\n         ('internal/pipe/winget/testdata/TestRunPipe/with-deps/with-deps.installer.yaml.golden',\n          'feat'): 1,\n         ('internal/pipe/winget/testdata/TestRunPipe/with-deps/with-deps.locale.en-US.yaml.golden',\n          'feat'): 1,\n         ('internal/pipe/winget/testdata/TestRunPipe/with-deps/with-deps.yaml.golden',\n          'feat'): 1,\n         ('internal/pipe/winget/testdata/TestRunPipe/wrapped-in-dir/wrapped-in-dir.installer.yaml.golden',\n          'feat'): 1,\n         ('internal/pipe/winget/testdata/TestRunPipe/wrapped-in-dir/wrapped-in-dir.locale.en-US.yaml.golden',\n          'feat'): 1,\n         ('internal/pipe/winget/testdata/TestRunPipe/wrapped-in-dir/wrapped-in-dir.yaml.golden',\n          'feat'): 1,\n         ('www/docs/overrides/main.html', 'docs'): 1,\n         ('pkg/config/config.go', 'refactor'): 1,\n         ('pkg/config/load.go', 'refactor'): 1,\n         ('internal/client/git_test.go', 'test'): 1,\n         ('internal/git/git_test.go', 'test'): 1,\n         ('internal/pipe/archive/archive_test.go', 'test'): 1,\n         ('internal/pipe/artifactory/artifactory_test.go', 'test'): 1,\n         ('internal/pipe/before/before_test.go', 'test'): 3,\n         ('internal/pipe/docker/docker_test.go', 'test'): 2,\n         ('internal/pipe/env/env_test.go', 'test'): 1,\n         ('internal/pipe/git/git_test.go', 'test'): 1,\n         ('internal/pipe/pipe_test.go', 'test'): 1,\n         ('internal/pipe/sbom/sbom_test.go', 'test'): 1,\n         ('internal/pipe/semver/semver_test.go', 'test'): 1,\n         ('internal/pipe/sign/sign_test.go', 'test'): 3,\n         ('internal/pipe/snapcraft/snapcraft_test.go', 'test'): 3,\n         ('internal/pipe/universalbinary/universalbinary_test.go', 'test'): 2,\n         ('internal/pipe/upload/upload_test.go', 'test'): 1,\n         ('cmd/build.go', 'chore'): 2,\n         ('cmd/docs.go', 'chore'): 1,\n         ('cmd/healthcheck.go', 'chore'): 1,\n         ('cmd/man.go', 'chore'): 1,\n         ('cmd/schema.go', 'chore'): 1,\n         ('internal/artifact/artifact_test.go', 'chore'): 1,\n         ('internal/client/gitlab.go', 'chore'): 1,\n         ('internal/gio/safe_test.go', 'chore'): 1,\n         ('internal/http/http_test.go', 'chore'): 1,\n         ('internal/middleware/errhandler/error_test.go', 'chore'): 1,\n         ('internal/middleware/logging/logging_test.go', 'chore'): 1,\n         ('internal/pipe/chocolatey/chocolatey_test.go', 'chore'): 1,\n         ('internal/pipe/docker/docker_test.go', 'chore'): 1,\n         ('internal/pipe/gomod/gomod_proxy_test.go', 'chore'): 1,\n         ('internal/pipe/ko/ko.go', 'chore'): 1,\n         ('internal/pipe/linkedin/client_test.go', 'chore'): 1,\n         ('internal/pipe/milestone/milestone.go', 'chore'): 1,\n         ('.golangci.yaml', 'test'): 2,\n         ('www/docs/customization/builds.md', 'fix'): 1,\n         ('scripts/nix-udpate-flake.sh', 'build'): 1,\n         ('internal/pipe/universalbinary/universalbinary.go', 'fix'): 1,\n         ('internal/pipe/universalbinary/universalbinary_test.go', 'fix'): 1,\n         ('www/docs/customization/universalbinaries.md', 'fix'): 1,\n         ('.golangci.yaml', 'feat'): 1,\n         ('CONTRIBUTING.md', 'feat'): 1,\n         ('internal/pipe/ko/testdata/app/go.mod', 'feat'): 1,\n         ('www/docs/install.md', 'feat'): 1,\n         ('internal/pipe/brew/brew.go', 'fix'): 3,\n         ('www/docs/blog/posts/2024-02-05-goreleaser-v1.24.md', 'docs'): 3,\n         ('scripts/get-releases.sh', 'ci'): 1,\n         ('www/docs/static/releases-pro.json', 'ci'): 1,\n         ('www/docs/static/releases.json', 'docs'): 1,\n         ('www/docs/blog/posts/2021-12-21-goreleaser-v1.2.md', 'docs'): 1,\n         ('www/docs/blog/posts/2022-03-26-reproducible-builds.md', 'docs'): 2,\n         ('www/docs/blog/posts/2023-01-10-azure-devops.md', 'docs'): 2,\n         ('www/docs/blog/posts/2023-01-30-goreleaser-ko.md', 'docs'): 2,\n         ('www/docs/blog/posts/2022-03-07-homebrew-gofish.md', 'docs'): 1,\n         ('internal/pipe/linkedin/client.go', 'fix'): 2,\n         ('www/docs/static/schema.json', 'feat'): 2,\n         ('internal/exec/exec.go', 'unknown'): 1,\n         ('internal/pipe/sbom/sbom.go', 'unknown'): 2,\n         ('internal/shell/shell.go', 'unknown'): 1,\n         ('internal/git/config.go', 'fix'): 1,\n         ('internal/git/config_test.go', 'fix'): 1,\n         ('internal/pipe/nix/nix.go', 'fix'): 4,\n         ('internal/pipe/nix/testdata/TestRunPipe/deps_build.nix.golden',\n          'fix'): 3,\n         ('internal/pipe/nix/testdata/TestRunPipe/deps_publish.nix.golden',\n          'fix'): 3,\n         ('internal/pipe/nix/testdata/TestRunPipe/extra-install_build.nix.golden',\n          'fix'): 3,\n         ('internal/pipe/nix/testdata/TestRunPipe/extra-install_publish.nix.golden',\n          'fix'): 3,\n         ('internal/pipe/nix/testdata/TestRunPipe/zip-and-tar_build.nix.golden',\n          'fix'): 4,\n         ('internal/pipe/nix/testdata/TestRunPipe/zip-and-tar_publish.nix.golden',\n          'fix'): 4,\n         ('internal/pipe/nix/testdata/TestRunPipe/zip-with-dependencies_build.nix.golden',\n          'fix'): 3,\n         ('internal/pipe/nix/testdata/TestRunPipe/zip-with-dependencies_publish.nix.golden',\n          'fix'): 3,\n         ('internal/pipe/nix/testdata/TestRunPipe/zip_build.nix.golden',\n          'fix'): 3,\n         ('internal/pipe/nix/testdata/TestRunPipe/zip_publish.nix.golden',\n          'fix'): 3,\n         ('internal/pipe/nix/tmpl.nix', 'fix'): 4,\n         ('internal/pipe/nix/testdata/TestBinInstallFormats/darwin-only-deps.golden',\n          'fix'): 1,\n         ('internal/pipe/nix/testdata/TestBinInstallFormats/linux-only-deps.golden',\n          'fix'): 1,\n         ('internal/pipe/nix/testdata/TestBinInstallFormats/mixed-deps.golden',\n          'fix'): 1,\n         ('internal/pipe/nix/testdata/TestRunPipe/minimal_build.nix.golden',\n          'fix'): 2,\n         ('internal/pipe/nix/testdata/TestRunPipe/minimal_publish.nix.golden',\n          'fix'): 2,\n         ('internal/pipe/nix/testdata/TestRunPipe/open-pr_build.nix.golden',\n          'fix'): 2,\n         ('internal/pipe/nix/testdata/TestRunPipe/open-pr_publish.nix.golden',\n          'fix'): 2,\n         ('internal/pipe/nix/testdata/TestRunPipe/partial_build.nix.golden',\n          'fix'): 2,\n         ('internal/pipe/nix/testdata/TestRunPipe/partial_publish.nix.golden',\n          'fix'): 2,\n         ('internal/pipe/nix/testdata/TestRunPipe/skip-upload-auto_build.nix.golden',\n          'fix'): 2,\n         ('internal/pipe/nix/testdata/TestRunPipe/skip-upload_build.nix.golden',\n          'fix'): 2,\n         ('internal/pipe/nix/testdata/TestRunPipe/unibin-replaces_build.nix.golden',\n          'fix'): 2,\n         ('internal/pipe/nix/testdata/TestRunPipe/unibin-replaces_publish.nix.golden',\n          'fix'): 2,\n         ('internal/pipe/nix/testdata/TestRunPipe/wrapped-in-dir_build.nix.golden',\n          'fix'): 3,\n         ('internal/pipe/nix/testdata/TestRunPipe/wrapped-in-dir_publish.nix.golden',\n          'fix'): 3,\n         ('.editorconfig', 'chore'): 1,\n         ('internal/pipe/docker/api_docker.go', 'fix'): 1,\n         ('internal/pipe/docker/docker_test.go', 'fix'): 1,\n         ('internal/pipe/winget/winget.go', 'refactor'): 1,\n         ('.editorconfig', 'fix'): 1,\n         ('internal/pipe/brew/template.go', 'fix'): 1,\n         ('internal/pipe/brew/templates/cask.rb', 'fix'): 1,\n         ('internal/pipe/brew/testdata/TestRunPipeBinaryRelease.rb.golden',\n          'fix'): 1,\n         ('internal/pipe/brew/testdata/TestRunPipeNameTemplate.rb.golden',\n          'fix'): 1,\n         ('internal/pipe/brew/testdata/TestRunPipePullRequest.rb.golden',\n          'fix'): 1,\n         ('internal/pipe/brew/testdata/TestRunPipeUniversalBinary.rb.golden',\n          'fix'): 1,\n         ('internal/pipe/slack/slack.go', 'fix'): 1,\n         ('internal/pipe/slack/slack_test.go', 'fix'): 1,\n         ('internal/pipe/nix/nix_test.go', 'fix'): 2,\n         ('internal/pipe/nix/template.go', 'fix'): 1,\n         ('www/docs/blog/.authors.yml', 'docs'): 1,\n         ('www/docs/blog/posts/2022-05-22-nightly-actions.md', 'docs'): 1,\n         ('www/htmltest.yml', 'docs'): 1,\n         ('www/README.md', 'docs'): 4,\n         ('internal/skips/skips.go', 'fix'): 1,\n         ('.github/workflows/dependabot.yml', 'ci'): 2,\n         ('.github/dependabot.yml', 'ci'): 1,\n         ('Dockerfile', 'feat'): 8,\n         ('internal/pipe/archive/archive_test.go', 'fix'): 1,\n         ('www/docs/static/schema-pro.json', 'chore'): 4,\n         ('internal/pipe/discord/discord_test.go', 'fix'): 1,\n         ('scripts/cmd_docs.sh', 'build'): 1,\n         ('.github/workflows/generate.yml', 'fix'): 1,\n         ('Taskfile.yml', 'fix'): 1,\n         ('.envrc', 'build'): 1,\n         ('.github/workflows/docs.yml', 'build'): 1,\n         ('.gitignore', 'build'): 1,\n         ('www/docker/Dockerfile', 'build'): 1,\n         ('www/docs/static/run', 'docs'): 1,\n         ('www/docs/blog/posts/2023-12-26-goreleaser-v1.23.md', 'docs'): 1,\n         ('scripts/fury-upload.sh', 'build'): 1,\n         ('scripts/get-releases.sh', 'build'): 1,\n         ('scripts/pages/build.sh', 'build'): 1,\n         ('scripts/pre-commit.sh', 'build'): 1,\n         ('www/docs/links.md', 'docs'): 1,\n         ('.github/workflows/generate.yml', 'feat'): 1,\n         ('Taskfile.yml', 'feat'): 1,\n         ('scripts/gen-nix-licenses.sh', 'feat'): 1,\n         ('internal/pipe/aur/testdata/TestRunPipeWrappedInDirectory.pkgbuild.golden',\n          'fix'): 1,\n         ('internal/pipe/aur/testdata/TestRunPipeWrappedInDirectory.srcinfo.golden',\n          'fix'): 1,\n         ('internal/artifact/artifact_test.go', 'test'): 1,\n         ('internal/client/github_test.go', 'test'): 1,\n         ('internal/commitauthor/author_test.go', 'test'): 1,\n         ('internal/gio/copy_test.go', 'test'): 1,\n         ('internal/middleware/errhandler/error_test.go', 'test'): 1,\n         ('internal/pipe/announce/announce_test.go', 'test'): 1,\n         ('internal/pipe/checksums/checksums_test.go', 'test'): 1,\n         ('internal/pipe/chocolatey/chocolatey_test.go', 'test'): 1,\n         ('internal/pipe/discord/discord_test.go', 'test'): 1,\n         ('internal/pipe/linkedin/linkedin_test.go', 'test'): 1,\n         ('internal/pipe/mastodon/mastodon_test.go', 'test'): 1,\n         ('internal/pipe/mattermost/mattermost_test.go', 'test'): 1,\n         ('internal/pipe/opencollective/opencollective_test.go', 'test'): 1,\n         ('internal/pipe/publish/publish_test.go', 'test'): 1,\n         ('internal/pipe/reddit/reddit_test.go', 'test'): 1,\n         ('internal/pipe/release/release_test.go', 'test'): 1,\n         ('internal/pipe/slack/slack_test.go', 'test'): 1,\n         ('internal/pipe/teams/teams_test.go', 'test'): 1,\n         ('internal/pipe/telegram/telegram_test.go', 'test'): 1,\n         ('internal/pipe/twitter/twitter_test.go', 'test'): 1,\n         ('internal/pipe/upx/upx_test.go', 'test'): 1,\n         ('internal/pipe/webhook/webhook_test.go', 'test'): 1,\n         ('internal/semerrgroup/sem_test.go', 'test'): 1,\n         ('internal/testlib/skip.go', 'test'): 1,\n         ('pkg/archive/gzip/gzip_test.go', 'test'): 1,\n         ('pkg/archive/tar/tar_test.go', 'test'): 1,\n         ('pkg/archive/targz/targz_test.go', 'test'): 1,\n         ('pkg/archive/tarxz/tarxz_test.go', 'test'): 1,\n         ('pkg/archive/zip/zip_test.go', 'test'): 1,\n         ('www/docs/blog/posts/2022-02-12-goreleaser-v1.5.md', 'docs'): 1,\n         ('internal/pipe/aur/testdata/TestFullPipe/custom-dir.pkgbuild.golden',\n          'feat'): 1,\n         ('internal/pipe/aur/testdata/TestFullPipe/custom-dir.srcinfo.golden',\n          'feat'): 1,\n         ('internal/client/github_test.go', 'fix'): 1,\n         ('www/docs/blog/posts/2023-09-27-release-cadence.md', 'docs'): 1,\n         ('internal/pipe/chocolatey/chocolatey.go', 'fix'): 1,\n         ('internal/pipe/chocolatey/chocolatey_test.go', 'fix'): 1,\n         ('www/docs/customization/chocolatey.md', 'fix'): 1,\n         ('internal/pipe/brew/brew.go', 'refactor'): 1,\n         ('internal/pipe/brew/brew_test.go', 'refactor'): 1,\n         ('www/docs/contributing.md', 'feat'): 1,\n         ('internal/pipe/sbom/sbom_test.go', 'unknown'): 1,\n         ('www/docs/customization/sbom.md', 'unknown'): 1,\n         ('.github/workflows/milestone.yml', 'chore'): 2,\n         ('internal/pipe/linkedin/client_test.go', 'fix'): 1,\n         ('www/docs/blog/posts/2023-10-08-slsa-generation-for-your-artifacts.md',\n          'feat'): 1,\n         ('Dockerfile', 'fix'): 1,\n         ('cmd/build_test.go', 'fix'): 3,\n         ('www/docs/static/schema-pro.json', 'build'): 2,\n         ...})"
     },
     "execution_count": 6,
     "metadata": {},
     "output_type": "execute_result"
    }
   ],
   "source": [
    "\n",
    "counter = Counter()\n",
    "for commit in repo.iter_commits():\n",
    "    if commit.committed_datetime < start:\n",
    "        continue\n",
    "    match = conventional_commit_match_pattern.match(commit.message)\n",
    "    intent = \"unknown\"\n",
    "    if match and match.group(1) in categories:\n",
    "        intent = match.group(1)\n",
    "    for filename in commit.stats.files.keys():\n",
    "        if filename in exclusions:\n",
    "            continue\n",
    "        counter[(filename, intent)] += 1\n",
    "\n",
    "counter"
   ],
   "metadata": {
    "ExecuteTime": {
     "end_time": "2024-10-07T15:55:15.374934Z",
     "start_time": "2024-10-07T15:55:06.477602Z"
    }
   },
   "id": "42c65157-35fa-4f32-a057-4ebf703587cf",
   "execution_count": 6
  },
  {
   "cell_type": "code",
   "execution_count": 7,
   "id": "20ab1f8b-ea77-46fa-acc9-b6fc78763d4f",
   "metadata": {
    "ExecuteTime": {
     "end_time": "2024-10-07T15:55:15.391218Z",
     "start_time": "2024-10-07T15:55:15.379247Z"
    }
   },
   "outputs": [
    {
     "data": {
      "text/plain": "[(('.github/workflows/build.yml', 'chore'), 58),\n (('.github/workflows/release.yml', 'chore'), 56),\n (('.github/workflows/nightly-oss.yml', 'chore'), 51),\n (('pkg/config/config.go', 'feat'), 28),\n (('.github/workflows/codeql.yml', 'chore'), 25),\n (('Dockerfile', 'chore'), 20),\n (('.github/workflows/lint.yml', 'chore'), 18),\n (('www/mkdocs.yml', 'docs'), 17),\n (('pkg/config/config.go', 'fix'), 16),\n (('www/docs/static/schema-pro.json', 'docs'), 15),\n (('www/docs/cmd/goreleaser_release.md', 'docs'), 14),\n (('.github/workflows/generate.yml', 'chore'), 14),\n (('www/docs/static/latest', 'chore'), 13),\n (('www/docs/static/latest-pro', 'chore'), 13),\n (('www/docs/static/releases-pro.json', 'chore'), 13),\n (('www/docs/static/releases.json', 'chore'), 13),\n (('flake.lock', 'chore'), 12),\n (('USERS.md', 'docs'), 11),\n (('.github/workflows/docs.yml', 'chore'), 11),\n (('internal/skips/skips.go', 'feat'), 11),\n (('www/docs/install.md', 'docs'), 10),\n (('www/docs/customization/sign.md', 'docs'), 10),\n (('internal/pipe/nfpm/nfpm.go', 'feat'), 9),\n (('www/docs/customization/nfpm.md', 'docs'), 9),\n (('www/docs/customization/builds.md', 'docs'), 9),\n (('www/docs/customization/dockerhub.md', 'docs'), 9),\n (('internal/pipe/nfpm/nfpm_test.go', 'feat'), 8),\n (('www/docs/ci/actions.md', 'docs'), 8),\n (('internal/pipeline/pipeline.go', 'feat'), 8),\n (('www/docs/includes/repository.md', 'docs'), 8),\n (('.github/workflows/grype.yml', 'chore'), 8),\n (('www/docs/pro.md', 'docs'), 8),\n (('internal/client/github.go', 'fix'), 8),\n (('www/docs/customization/changelog.md', 'docs'), 8),\n (('.github/workflows/depsreview.yaml', 'chore'), 8),\n (('internal/pipe/blob/upload.go', 'feat'), 8),\n (('www/docs/users.md', 'docs'), 8),\n (('internal/client/github.go', 'feat'), 8),\n (('Dockerfile', 'feat'), 8),\n (('.goreleaser.yaml', 'build'), 7),\n (('www/docs/deprecations.md', 'feat'), 7),\n (('www/docs/deprecations.md', 'docs'), 7),\n (('www/docs/customization/nix.md', 'docs'), 7),\n (('www/docs/customization/docker_sign.md', 'docs'), 7),\n (('www/docs/cmd/goreleaser_build.md', 'docs'), 7),\n (('www/docs/customization/aur.md', 'docs'), 7),\n (('www/docs/customization/blob.md', 'docs'), 7),\n (('www/docs/customization/homebrew.md', 'docs'), 7),\n (('www/docs/customization/snapcraft.md', 'docs'), 7),\n (('www/docs/customization/winget.md', 'docs'), 7),\n (('www/docs/customization/blob.md', 'feat'), 7),\n (('.github/workflows/gitleaks.yml', 'chore'), 7),\n (('internal/pipe/blob/blob.go', 'feat'), 7),\n (('flake.nix', 'build'), 6),\n (('www/docs/static/schema.json', 'chore'), 6),\n (('pkg/defaults/defaults.go', 'feat'), 6),\n (('www/docs/customization/templates.md', 'docs'), 6),\n (('internal/client/gitlab.go', 'fix'), 6),\n (('www/docs/customization/git.md', 'docs'), 6),\n (('www/docs/customization/notarize.md', 'docs'), 6),\n (('www/docs/customization/universalbinaries.md', 'docs'), 6),\n (('internal/pipe/blob/blob_minio_test.go', 'feat'), 6),\n (('cmd/build.go', 'feat'), 6),\n (('cmd/build_test.go', 'feat'), 6),\n (('internal/pipe/brew/brew.go', 'feat'), 6),\n (('internal/pipe/brew/brew_test.go', 'feat'), 6),\n (('internal/builders/golang/build.go', 'fix'), 5),\n (('internal/pipe/ko/ko_test.go', 'test'), 5),\n (('internal/pipe/build/build.go', 'feat'), 5),\n (('www/docs/customization/announce/bluesky.md', 'docs'), 5),\n (('www/docs/customization/chocolatey.md', 'docs'), 5),\n (('www/docs/customization/docker.md', 'docs'), 5),\n (('www/docs/customization/fury.md', 'docs'), 5),\n (('www/docs/customization/metadata.md', 'docs'), 5),\n (('www/docs/customization/release.md', 'docs'), 5),\n (('www/docs/customization/scoop.md', 'docs'), 5),\n (('www/docs/static/schema.json', 'fix'), 5),\n (('www/docs/customization/nfpm.md', 'feat'), 5),\n (('internal/pipe/release/release.go', 'fix'), 5),\n (('internal/pipe/archive/archive.go', 'feat'), 5),\n (('www/docs/blog/posts/2024-06-04-goreleaser-v2.md', 'docs'), 5),\n (('cmd/release.go', 'feat'), 5),\n (('internal/client/gitlab.go', 'feat'), 5),\n (('internal/pipe/changelog/changelog.go', 'feat'), 5),\n (('internal/pipe/changelog/changelog_test.go', 'feat'), 5),\n (('internal/pipe/scoop/scoop.go', 'feat'), 5),\n (('www/docs/customization/templates.md', 'feat'), 5),\n (('.github/workflows/generate.yml', 'build'), 5),\n (('internal/pipe/build/build_test.go', 'test'), 5),\n (('internal/client/github.go', 'chore'), 4),\n (('internal/client/github_test.go', 'chore'), 4),\n (('internal/builders/golang/build_test.go', 'fix'), 4),\n (('internal/pipe/build/build_test.go', 'feat'), 4),\n (('internal/pipe/nix/licenses.go', 'chore'), 4),\n (('www/docs/customization/nightlies.md', 'docs'), 4),\n (('www/docs/customization/snapshots.md', 'docs'), 4),\n (('www/docs/customization/partial.md', 'docs'), 4),\n (('.github/workflows/release.yml', 'unknown'), 4),\n (('.goreleaser.yaml', 'feat'), 4),\n (('www/docs/customization/archive.md', 'docs'), 4),\n (('www/docs/customization/artifactory.md', 'docs'), 4),\n (('www/docs/customization/beforepublish.md', 'docs'), 4),\n (('www/docs/customization/checksum.md', 'docs'), 4),\n (('www/docs/customization/cloudsmith.md', 'docs'), 4),\n (('www/docs/customization/dmg.md', 'docs'), 4),\n (('www/docs/customization/docker_manifest.md', 'docs'), 4),\n (('www/docs/customization/hooks.md', 'docs'), 4),\n (('www/docs/customization/krew.md', 'docs'), 4),\n (('www/docs/customization/msi.md', 'docs'), 4),\n (('www/docs/customization/publishers.md', 'docs'), 4),\n (('www/docs/customization/source.md', 'docs'), 4),\n (('www/docs/customization/templatefiles.md', 'docs'), 4),\n (('internal/pipe/snapcraft/snapcraft.go', 'fix'), 4),\n (('www/docs/cmd/goreleaser.md', 'docs'), 4),\n (('CONTRIBUTING.md', 'docs'), 4),\n (('www/docs/contributing.md', 'docs'), 4),\n (('www/docs/ci/gitlab.md', 'docs'), 4),\n (('internal/pipe/gomod/gomod.go', 'fix'), 4),\n (('internal/client/gitea.go', 'fix'), 4),\n (('internal/http/http.go', 'feat'), 4),\n (('internal/http/http_test.go', 'feat'), 4),\n (('cmd/util_test.go', 'feat'), 4),\n (('www/docs/customization/archive.md', 'feat'), 4),\n (('internal/pipe/archive/archive_test.go', 'feat'), 4),\n (('cmd/release_test.go', 'feat'), 4),\n (('internal/artifact/artifact_test.go', 'feat'), 4),\n (('internal/client/client.go', 'feat'), 4),\n (('internal/client/gitea.go', 'feat'), 4),\n (('internal/client/github_test.go', 'feat'), 4),\n (('internal/client/gitlab_test.go', 'feat'), 4),\n (('internal/client/mock.go', 'feat'), 4),\n (('internal/pipe/blob/blob_test.go', 'feat'), 4),\n (('internal/pipe/brew/template.go', 'feat'), 4),\n (('internal/pipe/nix/nix.go', 'feat'), 4),\n (('internal/pipe/nix/nix_test.go', 'feat'), 4),\n (('internal/pipe/scoop/scoop_test.go', 'feat'), 4),\n (('internal/pipe/winget/winget.go', 'feat'), 4),\n (('internal/pipe/winget/winget_test.go', 'feat'), 4),\n (('internal/tmpl/tmpl.go', 'feat'), 4),\n (('internal/tmpl/tmpl_test.go', 'feat'), 4),\n (('cmd/build.go', 'fix'), 4),\n (('internal/artifact/artifact.go', 'fix'), 4),\n (('www/docs/customization/homebrew.md', 'feat'), 4),\n (('flake.nix', 'chore'), 4),\n (('www/docs/blog/posts/2022-02-20-azure-devops.md', 'docs'), 4),\n (('Taskfile.yml', 'build'), 4),\n (('flake.lock', 'build'), 4),\n (('internal/pipe/nix/nix.go', 'fix'), 4),\n (('internal/pipe/nix/testdata/TestRunPipe/zip-and-tar_build.nix.golden',\n   'fix'),\n  4),\n (('internal/pipe/nix/testdata/TestRunPipe/zip-and-tar_publish.nix.golden',\n   'fix'),\n  4),\n (('internal/pipe/nix/tmpl.nix', 'fix'), 4),\n (('www/README.md', 'docs'), 4),\n (('www/docs/static/schema-pro.json', 'chore'), 4),\n (('www/docs/customization/builds.md', 'feat'), 3),\n (('.golangci.yaml', 'build'), 3),\n (('.github/workflows/lint.yml', 'build'), 3),\n (('internal/pipe/ko/ko.go', 'feat'), 3),\n (('internal/pipe/ko/ko_test.go', 'feat'), 3),\n (('internal/pipe/dist/dist.go', 'feat'), 3),\n (('www/docs/users.md', 'chore'), 3),\n (('www/mkdocs.yml', 'feat'), 3),\n (('.github/workflows/build.yml', 'unknown'), 3),\n (('www/docs/customization/announce/discord.md', 'docs'), 3),\n (('www/docs/customization/announce/linkedin.md', 'docs'), 3),\n (('www/docs/customization/announce/mastodon.md', 'docs'), 3),\n (('www/docs/customization/announce/mattermost.md', 'docs'), 3),\n (('www/docs/customization/announce/opencollective.md', 'docs'), 3),\n (('www/docs/customization/announce/reddit.md', 'docs'), 3),\n (('www/docs/customization/announce/slack.md', 'docs'), 3),\n (('www/docs/customization/announce/smtp.md', 'docs'), 3),\n (('www/docs/customization/announce/teams.md', 'docs'), 3),\n (('www/docs/customization/announce/telegram.md', 'docs'), 3),\n (('www/docs/customization/announce/twitter.md', 'docs'), 3),\n (('www/docs/customization/announce/webhook.md', 'docs'), 3),\n (('www/docs/customization/milestone.md', 'docs'), 3),\n (('www/docs/customization/monorepo.md', 'docs'), 3),\n (('www/docs/customization/upload.md', 'docs'), 3),\n (('www/docs/customization/upx.md', 'docs'), 3),\n (('internal/pipe/snapcraft/snapcraft_test.go', 'fix'), 3),\n (('Taskfile.yml', 'docs'), 3),\n (('www/docs/cmd/goreleaser_announce.md', 'docs'), 3),\n (('www/docs/cmd/goreleaser_verify-license.md', 'docs'), 3),\n (('www/docs/customization/announce/index.md', 'docs'), 3),\n (('www/docs/customization/dist.md', 'docs'), 3),\n (('www/docs/overrides/home.html', 'docs'), 3),\n (('internal/client/gitlab_test.go', 'fix'), 3),\n (('internal/builders/golang/build.go', 'feat'), 3),\n (('internal/pipe/chocolatey/chocolatey.go', 'feat'), 3),\n (('pkg/archive/archive.go', 'feat'), 3),\n (('pkg/archive/archive_test.go', 'feat'), 3),\n (('internal/pipe/notary/macos.go', 'feat'), 3),\n (('cmd/root.go', 'feat'), 3),\n (('internal/pipe/aur/aur.go', 'feat'), 3),\n (('internal/pipe/aur/aur_test.go', 'feat'), 3),\n (('internal/pipe/gomod/gomod_proxy_test.go', 'feat'), 3),\n (('internal/pipe/krew/krew.go', 'feat'), 3),\n (('internal/pipe/krew/krew_test.go', 'feat'), 3),\n (('internal/pipe/release/release.go', 'feat'), 3),\n (('internal/pipe/release/release_test.go', 'feat'), 3),\n (('pkg/context/context.go', 'feat'), 3),\n (('internal/pipe/brew/testdata/TestFullPipe/custom_block.rb.golden', 'feat'),\n  3),\n (('internal/pipe/brew/testdata/TestFullPipe/custom_download_strategy.rb.golden',\n   'feat'),\n  3),\n (('internal/pipe/brew/testdata/TestFullPipe/custom_require.rb.golden',\n   'feat'),\n  3),\n (('internal/pipe/brew/testdata/TestFullPipe/default.rb.golden', 'feat'), 3),\n (('internal/pipe/brew/testdata/TestFullPipe/default_gitlab.rb.golden',\n   'feat'),\n  3),\n (('internal/pipe/brew/testdata/TestFullPipe/git_remote.rb.golden', 'feat'),\n  3),\n (('internal/pipe/brew/testdata/TestFullPipe/open_pr.rb.golden', 'feat'), 3),\n (('internal/pipe/brew/testdata/TestFullPipe/valid_repository_templates.rb.golden',\n   'feat'),\n  3),\n (('internal/pipe/brew/testdata/TestFullPipe/with_header.rb.golden', 'feat'),\n  3),\n (('internal/pipe/brew/testdata/TestFullPipe/with_many_headers.rb.golden',\n   'feat'),\n  3),\n (('internal/pipe/docker/docker.go', 'fix'), 3),\n (('internal/pipe/sbom/sbom_test.go', 'fix'), 3),\n (('internal/artifact/artifact.go', 'feat'), 3),\n (('internal/pipe/brew/testdata/TestRunPipeForMultipleAmd64Versions/v1.rb.golden',\n   'fix'),\n  3),\n (('internal/pipe/brew/testdata/TestRunPipeForMultipleAmd64Versions/v2.rb.golden',\n   'fix'),\n  3),\n (('internal/pipe/brew/testdata/TestRunPipeForMultipleAmd64Versions/v3.rb.golden',\n   'fix'),\n  3),\n (('internal/pipe/brew/testdata/TestRunPipeForMultipleAmd64Versions/v4.rb.golden',\n   'fix'),\n  3),\n (('internal/pipe/nfpm/nfpm.go', 'fix'), 3),\n (('www/docs/customization/changelog.md', 'feat'), 3),\n (('www/docs/blog/posts/2023-10-08-slsa-generation-for-your-artifacts.md',\n   'docs'),\n  3),\n (('www/docs/static/run', 'fix'), 3),\n (('www/docs/customization/release.md', 'feat'), 3),\n (('internal/pipe/aur/aur.go', 'fix'), 3),\n (('internal/builders/golang/build_test.go', 'test'), 3),\n (('www/docs/blog/posts/2022-03-28-supply-chain-sec.md', 'docs'), 3),\n (('.github/workflows/fig.yml', 'chore'), 3),\n (('internal/pipe/before/before_test.go', 'test'), 3),\n (('internal/pipe/sign/sign_test.go', 'test'), 3),\n (('internal/pipe/snapcraft/snapcraft_test.go', 'test'), 3),\n (('internal/pipe/brew/brew.go', 'fix'), 3),\n (('www/docs/blog/posts/2024-02-05-goreleaser-v1.24.md', 'docs'), 3),\n (('internal/pipe/nix/testdata/TestRunPipe/deps_build.nix.golden', 'fix'), 3),\n (('internal/pipe/nix/testdata/TestRunPipe/deps_publish.nix.golden', 'fix'),\n  3),\n (('internal/pipe/nix/testdata/TestRunPipe/extra-install_build.nix.golden',\n   'fix'),\n  3),\n (('internal/pipe/nix/testdata/TestRunPipe/extra-install_publish.nix.golden',\n   'fix'),\n  3),\n (('internal/pipe/nix/testdata/TestRunPipe/zip-with-dependencies_build.nix.golden',\n   'fix'),\n  3),\n (('internal/pipe/nix/testdata/TestRunPipe/zip-with-dependencies_publish.nix.golden',\n   'fix'),\n  3),\n (('internal/pipe/nix/testdata/TestRunPipe/zip_build.nix.golden', 'fix'), 3),\n (('internal/pipe/nix/testdata/TestRunPipe/zip_publish.nix.golden', 'fix'), 3),\n (('internal/pipe/nix/testdata/TestRunPipe/wrapped-in-dir_build.nix.golden',\n   'fix'),\n  3),\n (('internal/pipe/nix/testdata/TestRunPipe/wrapped-in-dir_publish.nix.golden',\n   'fix'),\n  3),\n (('cmd/build_test.go', 'fix'), 3),\n (('internal/pipe/docker/docker.go', 'unknown'), 3),\n (('.goreleaser.yaml', 'unknown'), 2),\n (('www/docs/customization/ko.md', 'feat'), 2),\n (('internal/tmpl/tmpl.go', 'fix'), 2),\n (('internal/tmpl/tmpl_test.go', 'fix'), 2),\n (('internal/pipe/defaults/defaults.go', 'feat'), 2),\n (('internal/pipe/defaults/defaults_test.go', 'feat'), 2),\n (('internal/pipe/dist/dist_test.go', 'feat'), 2),\n (('README.md', 'docs'), 2),\n (('www/docs/ci/index.md', 'docs'), 2),\n (('www/docs/customization/binary_sign.md', 'docs'), 2),\n (('internal/pipe/sign/sign.go', 'feat'), 2),\n (('pkg/healthcheck/healthcheck.go', 'feat'), 2),\n (('www/docs/overrides/hooks/__pycache__/shortcodes.cpython-311.pyc', 'docs'),\n  2),\n (('.github/workflows/lint.yml', 'unknown'), 2),\n (('.github/workflows/nightly-oss.yml', 'unknown'), 2),\n (('internal/pipe/snapshot/snapshot.go', 'feat'), 2),\n (('internal/pipe/snapshot/snapshot_test.go', 'feat'), 2),\n (('internal/pipe/sourcearchive/source.go', 'fix'), 2),\n (('flake.nix', 'fix'), 2),\n (('internal/pipe/ko/ko.go', 'fix'), 2),\n (('www/docs/cookbooks/private-monorepo-public-release.md', 'docs'), 2),\n (('www/docs/customization/env.md', 'docs'), 2),\n (('www/docs/customization/includes.md', 'docs'), 2),\n (('www/docs/customization/index.md', 'docs'), 2),\n (('www/docs/includes/pro.md', 'docs'), 2),\n (('www/docs/includes/prs.md', 'docs'), 2),\n (('www/docs/includes/templates.md', 'docs'), 2),\n (('www/docs/errors/dirty.md', 'docs'), 2),\n (('www/docs/static/schema.json', 'docs'), 2),\n (('Dockerfile', 'unknown'), 2),\n (('internal/pipe/nfpm/nfpm_test.go', 'test'), 2),\n (('www/docs/cmd/goreleaser_changelog.md', 'docs'), 2),\n (('www/docs/cmd/goreleaser_check.md', 'docs'), 2),\n (('www/docs/cmd/goreleaser_completion.md', 'docs'), 2),\n (('www/docs/cmd/goreleaser_completion_bash.md', 'docs'), 2),\n (('www/docs/cmd/goreleaser_completion_fish.md', 'docs'), 2),\n (('www/docs/cmd/goreleaser_completion_powershell.md', 'docs'), 2),\n (('www/docs/cmd/goreleaser_completion_zsh.md', 'docs'), 2),\n (('www/docs/cmd/goreleaser_continue.md', 'docs'), 2),\n (('www/docs/cmd/goreleaser_healthcheck.md', 'docs'), 2),\n (('www/docs/cmd/goreleaser_init.md', 'docs'), 2),\n (('www/docs/cmd/goreleaser_jsonschema.md', 'docs'), 2),\n (('www/docs/cmd/goreleaser_publish.md', 'docs'), 2),\n (('www/docs/cookbooks/using-main.version.md', 'docs'), 2),\n (('www/docs/customization/ko.md', 'docs'), 2),\n (('www/docs/errors/multiple-tokens.md', 'docs'), 2),\n (('www/docs/errors/resource-not-accessible-by-integration.md', 'docs'), 2),\n (('www/docs/quick-start.md', 'docs'), 2),\n (('www/docs/errors/version.md', 'docs'), 2),\n (('internal/semerrgroup/sem.go', 'fix'), 2),\n (('internal/semerrgroup/sem_test.go', 'fix'), 2),\n (('cmd/root.go', 'fix'), 2),\n (('internal/pipe/changelog/changelog.go', 'fix'), 2),\n (('internal/pipe/checksums/checksums.go', 'fix'), 2),\n (('www/docs/customization/sbom.md', 'docs'), 2),\n (('.github/workflows/nightly-oss.yml', 'build'), 2),\n (('internal/pipe/changelog/changelog_test.go', 'fix'), 2),\n (('www/docs/customization/artifactory.md', 'feat'), 2),\n (('www/docs/customization/upload.md', 'feat'), 2),\n (('www/docs/customization/notarize.md', 'feat'), 2),\n (('.goreleaser.yaml', 'ci'), 2),\n (('cmd/config.go', 'feat'), 2),\n (('cmd/config_test.go', 'feat'), 2),\n (('internal/builders/buildtarget/targets.go', 'feat'), 2),\n (('internal/builders/buildtarget/targets_test.go', 'feat'), 2),\n (('internal/client/config.go', 'feat'), 2),\n (('internal/client/git.go', 'feat'), 2),\n (('internal/client/gitea_test.go', 'feat'), 2),\n (('internal/exec/exec.go', 'feat'), 2),\n (('internal/exec/exec_test.go', 'feat'), 2),\n (('internal/pipe/announce/announce.go', 'feat'), 2),\n (('internal/pipe/before/before.go', 'feat'), 2),\n (('internal/pipe/before/before_test.go', 'feat'), 2),\n (('internal/pipe/bluesky/bluesky.go', 'feat'), 2),\n (('internal/pipe/bluesky/bluesky_test.go', 'feat'), 2),\n (('internal/pipe/build/filter.go', 'feat'), 2),\n (('internal/pipe/build/filter_test.go', 'feat'), 2),\n (('internal/pipe/checksums/checksums.go', 'feat'), 2),\n (('internal/pipe/checksums/checksums_test.go', 'feat'), 2),\n (('internal/pipe/chocolatey/chocolatey_test.go', 'feat'), 2),\n (('internal/pipe/gomod/gomod_proxy.go', 'feat'), 2),\n (('internal/pipe/metadata/metadata.go', 'feat'), 2),\n (('internal/pipe/metadata/metadata_test.go', 'feat'), 2),\n (('internal/pipe/notary/macos_test.go', 'feat'), 2),\n (('internal/pipe/partial/partial.go', 'feat'), 2),\n (('internal/pipe/partial/partial_test.go', 'feat'), 2),\n (('internal/pipe/release/body.go', 'feat'), 2),\n (('internal/pipe/release/body_test.go', 'feat'), 2),\n (('internal/pipe/snapcraft/snapcraft.go', 'feat'), 2),\n (('internal/pipe/snapcraft/snapcraft_test.go', 'feat'), 2),\n (('internal/pipe/sourcearchive/source.go', 'feat'), 2),\n (('internal/pipe/winget/template.go', 'feat'), 2),\n (('internal/shell/shell.go', 'feat'), 2),\n (('internal/shell/shell_test.go', 'feat'), 2),\n (('internal/testctx/testctx.go', 'feat'), 2),\n (('pkg/archive/tarzst/tarzst.go', 'feat'), 2),\n (('pkg/archive/tarzst/tarzst_test.go', 'feat'), 2),\n (('pkg/config/load.go', 'feat'), 2),\n (('internal/pipe/brew/testdata/TestFullFormulae.rb.golden', 'feat'), 2),\n (('internal/pipe/brew/testdata/TestRunPipeForMultipleArmVersions/multiple_armv5.rb.golden',\n   'feat'),\n  2),\n (('internal/pipe/brew/testdata/TestRunPipeForMultipleArmVersions/multiple_armv6.rb.golden',\n   'feat'),\n  2),\n (('internal/pipe/brew/testdata/TestRunPipeForMultipleArmVersions/multiple_armv7.rb.golden',\n   'feat'),\n  2),\n (('pkg/config/config_test.go', 'feat'), 2),\n (('internal/builders/golang/build.go', 'unknown'), 2),\n (('cmd/release.go', 'fix'), 2),\n (('internal/pipe/release/release.go', 'chore'), 2),\n (('.golangci.yaml', 'fix'), 2),\n (('internal/pipe/gomod/gomod_proxy.go', 'fix'), 2),\n (('internal/pipe/sbom/sbom.go', 'fix'), 2),\n (('internal/pipe/sign/sign.go', 'fix'), 2),\n (('internal/pipe/sign/sign_test.go', 'fix'), 2),\n (('internal/pipe/winget/template.go', 'fix'), 2),\n (('.golangci.yaml', 'chore'), 2),\n (('internal/http/http.go', 'refactor'), 2),\n (('internal/pipe/nfpm/nfpm.go', 'refactor'), 2),\n (('internal/pipe/discord/discord.go', 'fix'), 2),\n (('internal/pipe/blob/blob_test.go', 'test'), 2),\n (('www/docs/customization/checksum.md', 'feat'), 2),\n (('.github/workflows/build.yml', 'build'), 2),\n (('.github/workflows/release.yml', 'build'), 2),\n (('internal/pipe/brew/templates/linux_packages.rb', 'fix'), 2),\n (('internal/pipe/brew/testdata/TestFullFormulae.rb.golden', 'fix'), 2),\n (('internal/pipe/brew/testdata/TestFullFormulaeLinuxOnly.rb.golden', 'fix'),\n  2),\n (('internal/pipe/brew/testdata/TestFullPipe/custom_block.rb.golden', 'fix'),\n  2),\n (('internal/pipe/brew/testdata/TestFullPipe/custom_download_strategy.rb.golden',\n   'fix'),\n  2),\n (('internal/pipe/brew/testdata/TestFullPipe/custom_require.rb.golden', 'fix'),\n  2),\n (('internal/pipe/brew/testdata/TestFullPipe/default.rb.golden', 'fix'), 2),\n (('internal/pipe/brew/testdata/TestFullPipe/default_gitlab.rb.golden', 'fix'),\n  2),\n (('internal/pipe/brew/testdata/TestFullPipe/git_remote.rb.golden', 'fix'), 2),\n (('internal/pipe/brew/testdata/TestFullPipe/open_pr.rb.golden', 'fix'), 2),\n (('internal/pipe/brew/testdata/TestFullPipe/valid_repository_templates.rb.golden',\n   'fix'),\n  2),\n (('internal/pipe/brew/testdata/TestFullPipe/with_header.rb.golden', 'fix'),\n  2),\n (('internal/pipe/brew/testdata/TestFullPipe/with_many_headers.rb.golden',\n   'fix'),\n  2),\n (('internal/pipe/brew/testdata/TestRunPipeForMultipleArmVersions/multiple_armv5.rb.golden',\n   'fix'),\n  2),\n (('internal/pipe/brew/testdata/TestRunPipeForMultipleArmVersions/multiple_armv6.rb.golden',\n   'fix'),\n  2),\n (('internal/pipe/brew/testdata/TestRunPipeForMultipleArmVersions/multiple_armv7.rb.golden',\n   'fix'),\n  2),\n (('internal/pipe/brew/templates/linux_packages.rb', 'feat'), 2),\n (('internal/pipe/brew/templates/macos_packages.rb', 'feat'), 2),\n (('internal/pipe/nix/licenses.go', 'fix'), 2),\n (('internal/pipe/telegram/telegram.go', 'fix'), 2),\n (('www/docs/customization/announce/telegram.md', 'fix'), 2),\n (('internal/pipe/brew/templates/macos_packages.rb', 'fix'), 2),\n (('internal/pipe/brew/testdata/TestFullFormulaeMacOSOnly.rb.golden', 'fix'),\n  2),\n (('internal/pipe/brew/testdata/TestRunPipeUniversalBinaryNotReplacing.rb.golden',\n   'fix'),\n  2),\n (('internal/pipe/nfpm/nfpm_test.go', 'fix'), 2),\n (('pkg/config/config.go', 'unknown'), 2),\n (('internal/pipe/changelog/changelog.go', 'refactor'), 2),\n (('internal/pipe/changelog/changelog_test.go', 'test'), 2),\n (('internal/client/gitea_test.go', 'test'), 2),\n (('internal/pipe/winget/winget.go', 'fix'), 2),\n (('internal/tmpl/tmpl.go', 'refactor'), 2),\n (('www/docs/blog/posts/2022-02-05-cloud-native-storage.md', 'docs'), 2),\n (('www/docs/errors/docker-build.md', 'docs'), 2),\n (('scripts/test.sh', 'build'), 2),\n (('internal/pipe/nix/licenses.go', 'feat'), 2),\n (('www/docs/customization/aur.md', 'feat'), 2),\n (('internal/pipe/gomod/gomod_test.go', 'fix'), 2),\n (('www/docs/customization/verifiable_builds.md', 'fix'), 2),\n (('internal/artifact/artifact_test.go', 'fix'), 2),\n (('internal/pipe/aur/aur_test.go', 'fix'), 2),\n (('.github/workflows/generate.yml', 'unknown'), 2),\n (('USERS.md', 'unknown'), 2),\n (('www/docs/blog/posts/2022-01-23-docker-manifests.md', 'docs'), 2),\n (('cmd/release_test.go', 'test'), 2),\n (('internal/pipe/winget/testdata/TestFormatBinary/TestFormatBinary.installer.yaml.golden',\n   'feat'),\n  2),\n (('internal/pipe/winget/testdata/TestFormatBinary/TestFormatBinary.locale.en-US.yaml.golden',\n   'feat'),\n  2),\n (('internal/pipe/winget/testdata/TestFormatBinary/TestFormatBinary.yaml.golden',\n   'feat'),\n  2),\n (('internal/pipe/docker/docker_test.go', 'test'), 2),\n (('internal/pipe/universalbinary/universalbinary_test.go', 'test'), 2),\n (('cmd/build.go', 'chore'), 2),\n (('.golangci.yaml', 'test'), 2),\n (('www/docs/blog/posts/2022-03-26-reproducible-builds.md', 'docs'), 2),\n (('www/docs/blog/posts/2023-01-10-azure-devops.md', 'docs'), 2),\n (('www/docs/blog/posts/2023-01-30-goreleaser-ko.md', 'docs'), 2),\n (('internal/pipe/linkedin/client.go', 'fix'), 2),\n (('www/docs/static/schema.json', 'feat'), 2),\n (('internal/pipe/sbom/sbom.go', 'unknown'), 2),\n (('internal/pipe/nix/testdata/TestRunPipe/minimal_build.nix.golden', 'fix'),\n  2),\n (('internal/pipe/nix/testdata/TestRunPipe/minimal_publish.nix.golden', 'fix'),\n  2),\n (('internal/pipe/nix/testdata/TestRunPipe/open-pr_build.nix.golden', 'fix'),\n  2),\n (('internal/pipe/nix/testdata/TestRunPipe/open-pr_publish.nix.golden', 'fix'),\n  2),\n (('internal/pipe/nix/testdata/TestRunPipe/partial_build.nix.golden', 'fix'),\n  2),\n (('internal/pipe/nix/testdata/TestRunPipe/partial_publish.nix.golden', 'fix'),\n  2),\n (('internal/pipe/nix/testdata/TestRunPipe/skip-upload-auto_build.nix.golden',\n   'fix'),\n  2),\n (('internal/pipe/nix/testdata/TestRunPipe/skip-upload_build.nix.golden',\n   'fix'),\n  2),\n (('internal/pipe/nix/testdata/TestRunPipe/unibin-replaces_build.nix.golden',\n   'fix'),\n  2),\n (('internal/pipe/nix/testdata/TestRunPipe/unibin-replaces_publish.nix.golden',\n   'fix'),\n  2),\n (('internal/pipe/nix/nix_test.go', 'fix'), 2),\n (('.github/workflows/dependabot.yml', 'ci'), 2),\n (('.github/workflows/milestone.yml', 'chore'), 2),\n (('www/docs/static/schema-pro.json', 'build'), 2),\n (('www/docs/errors/docker-build.md', 'unknown'), 2),\n (('internal/pipe/scoop/scoop_test.go', 'test'), 2),\n (('internal/pipe/winget/winget_test.go', 'test'), 2),\n (('internal/pipe/blob/blob_test.go', 'chore'), 1),\n (('internal/pipe/blob/upload.go', 'chore'), 1),\n (('internal/pipe/nfpm/testdata/testfile-ppc64.txt', 'feat'), 1),\n (('internal/pipe/blob/blob_minio_test.go', 'build'), 1),\n (('.golangci.yaml', 'unknown'), 1),\n (('CONTRIBUTING.md', 'unknown'), 1),\n (('cmd/util_test.go', 'unknown'), 1),\n (('internal/pipe/gomod/gomod_proxy_test.go', 'unknown'), 1),\n (('internal/pipe/ko/testdata/app/go.mod', 'unknown'), 1),\n (('www/docs/contributing.md', 'unknown'), 1),\n (('www/docs/install.md', 'unknown'), 1),\n (('CONTRIBUTING.md', 'build'), 1),\n (('cmd/util_test.go', 'build'), 1),\n (('internal/pipe/gomod/gomod_proxy_test.go', 'build'), 1),\n (('internal/pipe/ko/testdata/app/go.mod', 'build'), 1),\n (('www/docs/contributing.md', 'build'), 1),\n (('www/docs/install.md', 'build'), 1),\n (('.goreleaser-nightly.yaml', 'chore'), 1),\n (('.goreleaser.yaml', 'chore'), 1),\n (('.github/ISSUE_TEMPLATE/config.yml', 'chore'), 1),\n (('internal/pipe/gomod/gomod_proxy_test.go', 'test'), 1),\n (('www/docs/blog/posts/2024-08-14-v2.2.md', 'docs'), 1),\n (('.github/workflows/dependabot-automation.yml', 'chore'), 1),\n (('.github/workflows/dependabot-automation.yml', 'ci'), 1),\n (('.github/workflows/build.yml', 'ci'), 1),\n (('www/htmltest.yml', 'ci'), 1),\n (('.github/workflows/nightly-oss.yml', 'ci'), 1),\n (('www/docs/sponsors.md', 'docs'), 1),\n (('internal/pipe/sign/sign_binary.go', 'feat'), 1),\n (('internal/pipe/sign/sign_binary_test.go', 'feat'), 1),\n (('www/docs/customization/binary_sign.md', 'feat'), 1),\n (('www/docs/customization/sign.md', 'feat'), 1),\n (('.gitignore', 'docs'), 1),\n (('internal/client/gitlab.go', 'unknown'), 1),\n (('cmd/testdata/good.yml', 'feat'), 1),\n (('www/docs/overrides/hooks/__pycache__/shortcodes.cpython-311.pyc', 'chore'),\n  1),\n (('internal/pipe/ko/ko_test.go', 'fix'), 1),\n (('scripts/pages/build.sh', 'docs'), 1),\n (('www/docs/overrides/hooks/shortcodes.py', 'docs'), 1),\n (('.github/workflows/generate.yml', 'ci'), 1),\n (('www/docs/blog/posts/2024-07-13-v2.1.md', 'docs'), 1),\n (('www/docs/customization/snapcraft.md', 'fix'), 1),\n (('www/docs/cmd/goreleaser_subscribe.md', 'docs'), 1),\n (('cmd/docs.go', 'docs'), 1),\n (('www/docs/cookbooks/build-go-modules.md', 'docs'), 1),\n (('www/docs/cookbooks/cgo-and-crosscompiling.md', 'docs'), 1),\n (('www/docs/cookbooks/index.md', 'docs'), 1),\n (('www/docs/cookbooks/multi-platform-docker-images.md', 'docs'), 1),\n (('www/docs/cookbooks/publish-to-nexus.md', 'docs'), 1),\n (('www/docs/cookbooks/using-jfrog-cli-to-publish-to-artifactory.md', 'docs'),\n  1),\n (('www/docs/errors/build.md', 'docs'), 1),\n (('www/docs/errors/no-history.md', 'docs'), 1),\n (('www/docs/errors/no-main.md', 'docs'), 1),\n (('www/docs/errors/scoop-archive.md', 'docs'), 1),\n (('www/docs/intro.md', 'docs'), 1),\n (('www/docs/limitations/cgo.md', 'docs'), 1),\n (('www/docs/limitations/semver.md', 'docs'), 1),\n (('www/docs/post-checkout.md', 'docs'), 1),\n (('.github/workflows/build.yml', 'fix'), 1),\n (('.github/workflows/release.yml', 'fix'), 1),\n (('internal/pipe/effectiveconfig/config_test.go', 'test'), 1),\n (('www/docs/index.md', 'docs'), 1),\n (('www/docs/static/goreleaser.svg', 'docs'), 1),\n (('cmd/config.go', 'fix'), 1),\n (('internal/middleware/logging/logging.go', 'fix'), 1),\n (('internal/pipe/effectiveconfig/config.go', 'fix'), 1),\n (('internal/pipe/metadata/metadata.go', 'fix'), 1),\n (('www/docs/customization/reportsizes.md', 'docs'), 1),\n (('www/docs/customization/verifiable_builds.md', 'docs'), 1),\n (('www/docs/scm/gitlab.md', 'docs'), 1),\n (('.goreleaser-nightly.yaml', 'build'), 1),\n (('internal/client/gitea_test.go', 'fix'), 1),\n (('internal/http/testdata/foo.txt', 'feat'), 1),\n (('www/docs/customization/chocolatey.md', 'feat'), 1),\n (('internal/pipe/blob/upload.go', 'unknown'), 1),\n (('pkg/config/config_test.go', 'test'), 1),\n (('internal/pipe/blob/upload.go', 'fix'), 1),\n (('internal/static/config.yaml', 'fix'), 1),\n (('internal/static/config_test.go', 'fix'), 1),\n (('pkg/config/config.go', 'docs'), 1),\n (('.github/workflows/release.yml', 'ci'), 1),\n (('cmd/root_test.go', 'test'), 1),\n (('cmd/check.go', 'feat'), 1),\n (('cmd/healthcheck.go', 'feat'), 1),\n (('cmd/helper_test.go', 'feat'), 1),\n (('cmd/init.go', 'feat'), 1),\n (('cmd/schema.go', 'feat'), 1),\n (('internal/archivefiles/archivefiles.go', 'feat'), 1),\n (('internal/archivefiles/archivefiles_test.go', 'feat'), 1),\n (('internal/builders/golang/build_test.go', 'feat'), 1),\n (('internal/client/client_test.go', 'feat'), 1),\n (('internal/client/config_test.go', 'feat'), 1),\n (('internal/client/git_test.go', 'feat'), 1),\n (('internal/client/release_notes.go', 'feat'), 1),\n (('internal/client/release_notes_test.go', 'feat'), 1),\n (('internal/commitauthor/author.go', 'feat'), 1),\n (('internal/commitauthor/author_test.go', 'feat'), 1),\n (('internal/deprecate/deprecate.go', 'feat'), 1),\n (('internal/deprecate/deprecate_test.go', 'feat'), 1),\n (('internal/extrafiles/extra_files.go', 'feat'), 1),\n (('internal/extrafiles/extra_files_test.go', 'feat'), 1),\n (('internal/git/config.go', 'feat'), 1),\n (('internal/git/config_test.go', 'feat'), 1),\n (('internal/git/git_test.go', 'feat'), 1),\n (('internal/logext/writer_test.go', 'feat'), 1),\n (('internal/middleware/errhandler/error.go', 'feat'), 1),\n (('internal/middleware/errhandler/error_test.go', 'feat'), 1),\n (('internal/middleware/logging/logging.go', 'feat'), 1),\n (('internal/middleware/logging/logging_test.go', 'feat'), 1),\n (('internal/middleware/middleware.go', 'feat'), 1),\n (('internal/middleware/skip/skip.go', 'feat'), 1),\n (('internal/middleware/skip/skip_test.go', 'feat'), 1),\n (('internal/pipe/announce/announce_test.go', 'feat'), 1),\n (('internal/pipe/archive/archive_meta_test.go', 'feat'), 1),\n (('internal/pipe/artifactory/artifactory.go', 'feat'), 1),\n (('internal/pipe/artifactory/artifactory_test.go', 'feat'), 1),\n (('internal/pipe/chocolatey/nuspec_test.go', 'feat'), 1),\n (('internal/pipe/custompublishers/custompublishers.go', 'feat'), 1),\n (('internal/pipe/custompublishers/custompublishers_test.go', 'feat'), 1),\n (('internal/pipe/discord/discord.go', 'feat'), 1),\n (('internal/pipe/discord/discord_test.go', 'feat'), 1),\n (('internal/pipe/docker/api.go', 'feat'), 1),\n (('internal/pipe/docker/api_docker.go', 'feat'), 1),\n (('internal/pipe/docker/docker.go', 'feat'), 1),\n (('internal/pipe/docker/docker_test.go', 'feat'), 1),\n (('internal/pipe/docker/manifest.go', 'feat'), 1),\n (('internal/pipe/effectiveconfig/config.go', 'feat'), 1),\n (('internal/pipe/effectiveconfig/config_test.go', 'feat'), 1),\n (('internal/pipe/env/env.go', 'feat'), 1),\n (('internal/pipe/env/env_test.go', 'feat'), 1),\n (('internal/pipe/git/git.go', 'feat'), 1),\n (('internal/pipe/git/git_test.go', 'feat'), 1),\n (('internal/pipe/gomod/gomod.go', 'feat'), 1),\n (('internal/pipe/gomod/gomod_test.go', 'feat'), 1),\n (('internal/pipe/linkedin/client.go', 'feat'), 1),\n (('internal/pipe/linkedin/client_test.go', 'feat'), 1),\n (('internal/pipe/linkedin/linkedin.go', 'feat'), 1),\n (('internal/pipe/linkedin/linkedin_test.go', 'feat'), 1),\n (('internal/pipe/mastodon/mastodon.go', 'feat'), 1),\n (('internal/pipe/mastodon/mastodon_test.go', 'feat'), 1),\n (('internal/pipe/mattermost/mattermost.go', 'feat'), 1),\n (('internal/pipe/mattermost/mattermost_test.go', 'feat'), 1),\n (('internal/pipe/milestone/milestone.go', 'feat'), 1),\n (('internal/pipe/milestone/milestone_test.go', 'feat'), 1),\n (('internal/pipe/opencollective/opencollective.go', 'feat'), 1),\n (('internal/pipe/opencollective/opencollective_test.go', 'feat'), 1),\n (('internal/pipe/prebuild/prebuild.go', 'feat'), 1),\n (('internal/pipe/prebuild/prebuild_test.go', 'feat'), 1),\n (('internal/pipe/project/project.go', 'feat'), 1),\n (('internal/pipe/project/project_test.go', 'feat'), 1),\n (('internal/pipe/publish/publish.go', 'feat'), 1),\n (('internal/pipe/publish/publish_test.go', 'feat'), 1),\n (('internal/pipe/reddit/reddit.go', 'feat'), 1),\n (('internal/pipe/reddit/reddit_test.go', 'feat'), 1),\n (('internal/pipe/release/scm.go', 'feat'), 1),\n (('internal/pipe/release/scm_test.go', 'feat'), 1),\n (('internal/pipe/reportsizes/reportsizes.go', 'feat'), 1),\n (('internal/pipe/reportsizes/reportsizes_test.go', 'feat'), 1),\n (('internal/pipe/sbom/sbom.go', 'feat'), 1),\n (('internal/pipe/sbom/sbom_test.go', 'feat'), 1),\n (('internal/pipe/semver/semver.go', 'feat'), 1),\n (('internal/pipe/semver/semver_test.go', 'feat'), 1),\n (('internal/pipe/sign/sign_docker.go', 'feat'), 1),\n (('internal/pipe/sign/sign_docker_test.go', 'feat'), 1),\n (('internal/pipe/sign/sign_test.go', 'feat'), 1),\n (('internal/pipe/slack/slack.go', 'feat'), 1),\n (('internal/pipe/slack/slack_test.go', 'feat'), 1),\n (('internal/pipe/smtp/smtp.go', 'feat'), 1),\n (('internal/pipe/smtp/smtp_test.go', 'feat'), 1),\n (('internal/pipe/sourcearchive/source_test.go', 'feat'), 1),\n (('internal/pipe/teams/teams.go', 'feat'), 1),\n (('internal/pipe/teams/teams_test.go', 'feat'), 1),\n (('internal/pipe/telegram/telegram.go', 'feat'), 1),\n (('internal/pipe/telegram/telegram_test.go', 'feat'), 1),\n (('internal/pipe/twitter/twitter.go', 'feat'), 1),\n (('internal/pipe/twitter/twitter_test.go', 'feat'), 1),\n (('internal/pipe/universalbinary/universalbinary.go', 'feat'), 1),\n (('internal/pipe/universalbinary/universalbinary_test.go', 'feat'), 1),\n (('internal/pipe/upload/upload.go', 'feat'), 1),\n (('internal/pipe/upload/upload_test.go', 'feat'), 1),\n (('internal/pipe/upx/upx.go', 'feat'), 1),\n (('internal/pipe/upx/upx_test.go', 'feat'), 1),\n (('internal/pipe/webhook/webhook.go', 'feat'), 1),\n (('internal/pipe/webhook/webhook_test.go', 'feat'), 1),\n (('internal/semerrgroup/sem.go', 'feat'), 1),\n (('internal/semerrgroup/sem_test.go', 'feat'), 1),\n (('internal/skips/skips_test.go', 'feat'), 1),\n (('internal/static/config_test.go', 'feat'), 1),\n (('internal/testlib/git.go', 'feat'), 1),\n (('internal/testlib/skip.go', 'feat'), 1),\n (('internal/testlib/skip_test.go', 'feat'), 1),\n (('internal/testlib/tmpl.go', 'feat'), 1),\n (('main.go', 'feat'), 1),\n (('main_test.go', 'feat'), 1),\n (('pkg/archive/gzip/gzip.go', 'feat'), 1),\n (('pkg/archive/gzip/gzip_test.go', 'feat'), 1),\n (('pkg/archive/tar/tar.go', 'feat'), 1),\n (('pkg/archive/tar/tar_test.go', 'feat'), 1),\n (('pkg/archive/targz/targz.go', 'feat'), 1),\n (('pkg/archive/targz/targz_test.go', 'feat'), 1),\n (('pkg/archive/tarxz/tarxz.go', 'feat'), 1),\n (('pkg/archive/tarxz/tarxz_test.go', 'feat'), 1),\n (('pkg/archive/zip/zip.go', 'feat'), 1),\n (('pkg/archive/zip/zip_test.go', 'feat'), 1),\n (('pkg/build/build.go', 'feat'), 1),\n (('pkg/build/build_test.go', 'feat'), 1),\n (('pkg/config/config_archive_files_test.go', 'feat'), 1),\n (('pkg/config/config_array_test.go', 'feat'), 1),\n (('pkg/config/config_build_hook_test.go', 'feat'), 1),\n (('pkg/context/context_test.go', 'feat'), 1),\n (('pkg/healthcheck/healthcheck_test.go', 'feat'), 1),\n (('cmd/root_test.go', 'feat'), 1),\n (('cmd/check_test.go', 'feat'), 1),\n (('cmd/testdata/unmarshal_error.yml', 'feat'), 1),\n (('internal/pipe/brew/templates/cask.rb', 'feat'), 1),\n (('pkg/config/config_homebrew_dependency_test.go', 'feat'), 1),\n (('pkg/config/testdata/anchor.yaml', 'feat'), 1),\n (('pkg/config/testdata/invalid.yml', 'feat'), 1),\n (('pkg/config/testdata/invalid_config.yml', 'feat'), 1),\n (('www/docs/ci/actions.md', 'fix'), 1),\n (('cmd/root_test.go', 'fix'), 1),\n (('cmd/release_test.go', 'fix'), 1),\n (('.gitignore', 'chore'), 1),\n (('internal/builders/buildtarget/targets.go', 'fix'), 1),\n (('internal/exec/exec.go', 'fix'), 1),\n (('internal/exec/exec_mock.go', 'fix'), 1),\n (('internal/http/http.go', 'fix'), 1),\n (('internal/pipe/announce/announce.go', 'fix'), 1),\n (('internal/pipe/archive/archive.go', 'fix'), 1),\n (('internal/pipe/docker/api.go', 'fix'), 1),\n (('internal/pipe/git/git.go', 'fix'), 1),\n (('internal/pipe/krew/krew.go', 'fix'), 1),\n (('internal/pipe/scoop/scoop.go', 'fix'), 1),\n (('internal/pipeline/pipeline.go', 'fix'), 1),\n (('main.go', 'fix'), 1),\n (('pkg/archive/gzip/gzip_test.go', 'fix'), 1),\n (('pkg/archive/tar/tar_test.go', 'fix'), 1),\n (('pkg/archive/targz/targz_test.go', 'fix'), 1),\n (('pkg/archive/tarxz/tarxz_test.go', 'fix'), 1),\n (('pkg/archive/tarzst/tarzst_test.go', 'fix'), 1),\n (('pkg/archive/zip/zip_test.go', 'fix'), 1),\n (('pkg/build/build.go', 'fix'), 1),\n (('pkg/defaults/defaults.go', 'fix'), 1),\n (('pkg/healthcheck/healthcheck.go', 'fix'), 1),\n (('internal/builders/buildtarget/targets.go', 'docs'), 1),\n (('internal/builders/golang/build_test.go', 'docs'), 1),\n (('.github/workflows/lint.yml', 'refactor'), 1),\n (('.golangci.yaml', 'refactor'), 1),\n (('internal/artifact/artifact.go', 'refactor'), 1),\n (('internal/artifact/artifact_test.go', 'refactor'), 1),\n (('internal/exec/exec.go', 'refactor'), 1),\n (('internal/pipe/archive/archive.go', 'refactor'), 1),\n (('internal/pipe/artifactory/artifactory.go', 'refactor'), 1),\n (('internal/pipe/blob/blob.go', 'refactor'), 1),\n (('internal/pipe/blob/upload.go', 'refactor'), 1),\n (('internal/pipe/build/build.go', 'refactor'), 1),\n (('internal/pipe/checksums/checksums.go', 'refactor'), 1),\n (('internal/pipe/docker/docker.go', 'refactor'), 1),\n (('internal/pipe/docker/docker_test.go', 'refactor'), 1),\n (('internal/pipe/docker/manifest.go', 'refactor'), 1),\n (('internal/pipe/ko/ko_test.go', 'refactor'), 1),\n (('internal/pipe/release/body_test.go', 'refactor'), 1),\n (('internal/pipe/release/release.go', 'refactor'), 1),\n (('internal/pipe/scoop/scoop_test.go', 'refactor'), 1),\n (('internal/pipe/snapcraft/snapcraft.go', 'refactor'), 1),\n (('internal/pipe/universalbinary/universalbinary.go', 'refactor'), 1),\n (('internal/pipe/upload/upload.go', 'refactor'), 1),\n (('internal/pipe/upx/upx.go', 'refactor'), 1),\n (('internal/semerrgroup/sem_test.go', 'refactor'), 1),\n (('internal/tmpl/tmpl_test.go', 'refactor'), 1),\n (('main_test.go', 'refactor'), 1),\n (('pkg/archive/archive_test.go', 'refactor'), 1),\n (('internal/pipe/blob/blob_minio_test.go', 'fix'), 1),\n (('internal/client/github.go', 'docs'), 1),\n (('internal/client/github_test.go', 'docs'), 1),\n (('www/docs/blog/posts/2024-05-11-goreleaser-v1.26.md', 'docs'), 1),\n (('internal/pipe/pipe.go', 'docs'), 1),\n (('www/docs/how-it-works.md', 'docs'), 1),\n (('internal/pipe/blob/blob.go', 'unknown'), 1),\n (('internal/pipe/blob/blob_test.go', 'unknown'), 1),\n (('www/docs/customization/blob.md', 'unknown'), 1),\n (('internal/pipe/snapcraft/snapcraft_test.go', 'unknown'), 1),\n (('.goreleaser.yaml', 'fix'), 1),\n (('internal/pipe/brew/testdata/TestFullFormulae.rb.golden', 'test'), 1),\n (('internal/pipe/brew/testdata/TestFullFormulaeLinuxOnly.rb.golden', 'test'),\n  1),\n (('internal/pipe/brew/testdata/TestFullPipe/custom_block.rb.golden', 'test'),\n  1),\n (('internal/pipe/brew/testdata/TestFullPipe/custom_download_strategy.rb.golden',\n   'test'),\n  1),\n (('internal/pipe/brew/testdata/TestFullPipe/custom_require.rb.golden',\n   'test'),\n  1),\n (('internal/pipe/brew/testdata/TestFullPipe/default.rb.golden', 'test'), 1),\n (('internal/pipe/brew/testdata/TestFullPipe/default_gitlab.rb.golden',\n   'test'),\n  1),\n (('internal/pipe/brew/testdata/TestFullPipe/git_remote.rb.golden', 'test'),\n  1),\n (('internal/pipe/brew/testdata/TestFullPipe/open_pr.rb.golden', 'test'), 1),\n (('internal/pipe/brew/testdata/TestFullPipe/valid_repository_templates.rb.golden',\n   'test'),\n  1),\n (('internal/pipe/brew/testdata/TestFullPipe/with_header.rb.golden', 'test'),\n  1),\n (('internal/pipe/brew/testdata/TestFullPipe/with_many_headers.rb.golden',\n   'test'),\n  1),\n (('internal/pipe/brew/testdata/TestRunPipeForMultipleAmd64Versions/v1.rb.golden',\n   'test'),\n  1),\n (('internal/pipe/brew/testdata/TestRunPipeForMultipleAmd64Versions/v2.rb.golden',\n   'test'),\n  1),\n (('internal/pipe/brew/testdata/TestRunPipeForMultipleAmd64Versions/v3.rb.golden',\n   'test'),\n  1),\n (('internal/pipe/brew/testdata/TestRunPipeForMultipleAmd64Versions/v4.rb.golden',\n   'test'),\n  1),\n (('internal/pipe/brew/testdata/TestRunPipeForMultipleArmVersions/multiple_armv5.rb.golden',\n   'test'),\n  1),\n (('internal/pipe/brew/testdata/TestRunPipeForMultipleArmVersions/multiple_armv6.rb.golden',\n   'test'),\n  1),\n (('internal/pipe/brew/testdata/TestRunPipeForMultipleArmVersions/multiple_armv7.rb.golden',\n   'test'),\n  1),\n (('internal/pipe/brew/testdata/TestFullFormulaeLinuxOnly.rb.golden', 'feat'),\n  1),\n (('internal/pipe/brew/testdata/TestRunPipeForMultipleAmd64Versions/v1.rb.golden',\n   'feat'),\n  1),\n (('internal/pipe/brew/testdata/TestRunPipeForMultipleAmd64Versions/v2.rb.golden',\n   'feat'),\n  1),\n (('internal/pipe/brew/testdata/TestRunPipeForMultipleAmd64Versions/v3.rb.golden',\n   'feat'),\n  1),\n (('internal/pipe/brew/testdata/TestRunPipeForMultipleAmd64Versions/v4.rb.golden',\n   'feat'),\n  1),\n (('internal/pipe/brew/testdata/TestRunPipeNameTemplate.rb.golden', 'feat'),\n  1),\n (('internal/pipe/telegram/telegram_test.go', 'fix'), 1),\n (('www/docs/customization/nfpm.md', 'fix'), 1),\n (('internal/pipe/blob/testdata/credentials.json', 'chore'), 1),\n (('internal/client/testdata/github/compare.json', 'feat'), 1),\n (('internal/pipe/upx/upx_test.go', 'fix'), 1),\n (('pkg/config/config_test.go', 'fix'), 1),\n (('internal/pipe/bluesky/bluesky.go', 'fix'), 1),\n (('internal/pipe/bluesky/bluesky_test.go', 'fix'), 1),\n (('www/docs/customization/announce/bluesky.md', 'feat'), 1),\n (('cmd/build.go', 'docs'), 1),\n (('.github/workflows/depsreview.yaml', 'feat'), 1),\n (('.github/workflows/release.yml', 'feat'), 1),\n (('internal/pipe/notary/notary.go', 'feat'), 1),\n (('www/docs/customization/msi.md', 'feat'), 1),\n (('internal/pipe/discord/discord.go', 'chore'), 1),\n (('internal/pipe/linkedin/linkedin.go', 'chore'), 1),\n (('internal/pipe/mastodon/mastodon.go', 'chore'), 1),\n (('internal/pipe/mattermost/mattermost.go', 'chore'), 1),\n (('internal/pipe/opencollective/opencollective.go', 'chore'), 1),\n (('internal/pipe/reddit/reddit.go', 'chore'), 1),\n (('internal/pipe/slack/slack.go', 'chore'), 1),\n (('internal/pipe/smtp/smtp.go', 'chore'), 1),\n (('internal/pipe/teams/teams.go', 'chore'), 1),\n (('internal/pipe/telegram/telegram.go', 'chore'), 1),\n (('internal/pipe/twitter/twitter.go', 'chore'), 1),\n (('internal/pipe/webhook/webhook.go', 'chore'), 1),\n (('internal/deprecate/deprecate.go', 'refactor'), 1),\n (('www/docs/customization/sbom.md', 'fix'), 1),\n (('internal/builders/golang/build_test.go', 'chore'), 1),\n (('internal/pipe/sign/testdata/README.md', 'chore'), 1),\n (('www/docs/blog/posts/2023-05-05-goreleaser-v1.18.md', 'chore'), 1),\n (('www/docs/blog/posts/2023-10-08-slsa-generation-for-your-artifacts.md',\n   'chore'),\n  1),\n (('www/docs/blog/posts/2023-05-05-goreleaser-v1.18.md', 'docs'), 1),\n (('internal/pipe/webhook/webhook.go', 'fix'), 1),\n (('cmd/check.go', 'fix'), 1),\n (('internal/pipe/release/release_test.go', 'fix'), 1),\n (('www/docs/customization/docker.md', 'fix'), 1),\n (('www/docs/errors/docker-build.md', 'fix'), 1),\n (('www/docs/blog/posts/2024-04-02-goreleaser-v1.25.md', 'docs'), 1),\n (('internal/client/mock.go', 'fix'), 1),\n (('USERS.md', 'feat'), 1),\n (('www/docs/cmd/goreleaser_announce.md', 'feat'), 1),\n (('www/docs/cmd/goreleaser_build.md', 'feat'), 1),\n (('www/docs/cmd/goreleaser_continue.md', 'feat'), 1),\n (('www/docs/cmd/goreleaser_publish.md', 'feat'), 1),\n (('www/docs/cmd/goreleaser_release.md', 'feat'), 1),\n (('www/docs/cookbooks/build-go-modules.md', 'feat'), 1),\n (('www/docs/customization/docker.md', 'feat'), 1),\n (('www/docs/customization/krew.md', 'feat'), 1),\n (('www/docs/customization/metadata.md', 'feat'), 1),\n (('www/docs/customization/nix.md', 'feat'), 1),\n (('www/docs/customization/scoop.md', 'feat'), 1),\n (('www/docs/customization/snapshots.md', 'feat'), 1),\n (('www/docs/customization/source.md', 'feat'), 1),\n (('www/docs/customization/templatefiles.md', 'feat'), 1),\n (('www/docs/customization/winget.md', 'feat'), 1),\n (('www/docs/errors/docker-build.md', 'feat'), 1),\n (('www/docs/errors/no-main.md', 'feat'), 1),\n (('www/docs/static/schema-pro.json', 'feat'), 1),\n (('www/docs/customization/publishers.md', 'feat'), 1),\n (('www/docs/includes/prs.md', 'feat'), 1),\n (('www/htmltest.yml', 'build'), 1),\n (('internal/pipe/release/body.go', 'fix'), 1),\n (('internal/pipe/release/body_test.go', 'fix'), 1),\n (('internal/client/git.go', 'fix'), 1),\n (('internal/pipe/release/testdata/TestDescribeBodyMultipleChecksums.golden',\n   'feat'),\n  1),\n (('.github/workflows/codeql.yml', 'unknown'), 1),\n (('.github/workflows/depsreview.yaml', 'unknown'), 1),\n (('.github/workflows/docs.yml', 'unknown'), 1),\n (('.github/workflows/fig.yml', 'unknown'), 1),\n (('.github/workflows/gitleaks.yml', 'unknown'), 1),\n (('.github/workflows/grype.yml', 'unknown'), 1),\n (('cmd/root.go', 'unknown'), 1),\n (('flake.lock', 'unknown'), 1),\n (('flake.nix', 'unknown'), 1),\n (('internal/builders/golang/build_test.go', 'unknown'), 1),\n (('internal/middleware/middleware.go', 'unknown'), 1),\n (('internal/pipe/aur/aur.go', 'unknown'), 1),\n (('internal/pipe/aur/testdata/TestRunPipe.pkgbuild.golden', 'unknown'), 1),\n (('internal/pipe/aur/testdata/TestRunPipe.srcinfo.golden', 'unknown'), 1),\n (('internal/pipe/build/build.go', 'unknown'), 1),\n (('internal/pipe/nfpm/nfpm.go', 'unknown'), 1),\n (('internal/pipe/nfpm/nfpm_test.go', 'unknown'), 1),\n (('internal/pipe/release/release.go', 'unknown'), 1),\n (('internal/pipe/winget/winget.go', 'unknown'), 1),\n (('www/docs/blog/posts/2022-01-23-docker-manifests.md', 'unknown'), 1),\n (('www/docs/blog/posts/2022-02-20-azure-devops.md', 'unknown'), 1),\n (('www/docs/blog/posts/2022-03-28-supply-chain-sec.md', 'unknown'), 1),\n (('www/docs/customization/changelog.md', 'unknown'), 1),\n (('www/docs/customization/docker_sign.md', 'unknown'), 1),\n (('www/docs/customization/nix.md', 'unknown'), 1),\n (('www/docs/deprecations.md', 'unknown'), 1),\n (('internal/pipe/build/build.go', 'fix'), 1),\n (('internal/pipe/aur/testdata/TestRunPipe.pkgbuild.golden', 'fix'), 1),\n (('internal/pipe/aur/testdata/TestRunPipe.srcinfo.golden', 'fix'), 1),\n (('internal/middleware/middleware.go', 'fix'), 1),\n (('.github/workflows/fig.yml', 'feat'), 1),\n (('internal/pipe/winget/testdata/TestRunPipe/bad-commit-msg-tmpl/bad-commit-msg-tmpl.installer.yaml.golden',\n   'feat'),\n  1),\n (('internal/pipe/winget/testdata/TestRunPipe/bad-commit-msg-tmpl/bad-commit-msg-tmpl.locale.en-US.yaml.golden',\n   'feat'),\n  1),\n (('internal/pipe/winget/testdata/TestRunPipe/bad-commit-msg-tmpl/bad-commit-msg-tmpl.yaml.golden',\n   'feat'),\n  1),\n (('internal/pipe/winget/testdata/TestRunPipe/full/full.installer.yaml.golden',\n   'feat'),\n  1),\n (('internal/pipe/winget/testdata/TestRunPipe/full/full.locale.en-US.yaml.golden',\n   'feat'),\n  1),\n (('internal/pipe/winget/testdata/TestRunPipe/full/full.yaml.golden', 'feat'),\n  1),\n (('internal/pipe/winget/testdata/TestRunPipe/minimal/minimal.installer.yaml.golden',\n   'feat'),\n  1),\n (('internal/pipe/winget/testdata/TestRunPipe/minimal/minimal.locale.en-US.yaml.golden',\n   'feat'),\n  1),\n (('internal/pipe/winget/testdata/TestRunPipe/minimal/minimal.yaml.golden',\n   'feat'),\n  1),\n (('internal/pipe/winget/testdata/TestRunPipe/open-pr/open-pr.installer.yaml.golden',\n   'feat'),\n  1),\n (('internal/pipe/winget/testdata/TestRunPipe/open-pr/open-pr.locale.en-US.yaml.golden',\n   'feat'),\n  1),\n (('internal/pipe/winget/testdata/TestRunPipe/open-pr/open-pr.yaml.golden',\n   'feat'),\n  1),\n (('internal/pipe/winget/testdata/TestRunPipe/partial/partial.installer.yaml.golden',\n   'feat'),\n  1),\n (('internal/pipe/winget/testdata/TestRunPipe/partial/partial.locale.en-US.yaml.golden',\n   'feat'),\n  1),\n (('internal/pipe/winget/testdata/TestRunPipe/partial/partial.yaml.golden',\n   'feat'),\n  1),\n (('internal/pipe/winget/testdata/TestRunPipe/skip-upload-auto/skip-upload-auto.installer.yaml.golden',\n   'feat'),\n  1),\n (('internal/pipe/winget/testdata/TestRunPipe/skip-upload-auto/skip-upload-auto.locale.en-US.yaml.golden',\n   'feat'),\n  1),\n (('internal/pipe/winget/testdata/TestRunPipe/skip-upload-auto/skip-upload-auto.yaml.golden',\n   'feat'),\n  1),\n (('internal/pipe/winget/testdata/TestRunPipe/skip-upload/skip-upload.installer.yaml.golden',\n   'feat'),\n  1),\n (('internal/pipe/winget/testdata/TestRunPipe/skip-upload/skip-upload.locale.en-US.yaml.golden',\n   'feat'),\n  1),\n (('internal/pipe/winget/testdata/TestRunPipe/skip-upload/skip-upload.yaml.golden',\n   'feat'),\n  1),\n (('internal/pipe/winget/testdata/TestRunPipe/with-deps/with-deps.installer.yaml.golden',\n   'feat'),\n  1),\n (('internal/pipe/winget/testdata/TestRunPipe/with-deps/with-deps.locale.en-US.yaml.golden',\n   'feat'),\n  1),\n (('internal/pipe/winget/testdata/TestRunPipe/with-deps/with-deps.yaml.golden',\n   'feat'),\n  1),\n (('internal/pipe/winget/testdata/TestRunPipe/wrapped-in-dir/wrapped-in-dir.installer.yaml.golden',\n   'feat'),\n  1),\n (('internal/pipe/winget/testdata/TestRunPipe/wrapped-in-dir/wrapped-in-dir.locale.en-US.yaml.golden',\n   'feat'),\n  1),\n (('internal/pipe/winget/testdata/TestRunPipe/wrapped-in-dir/wrapped-in-dir.yaml.golden',\n   'feat'),\n  1),\n (('www/docs/overrides/main.html', 'docs'), 1),\n (('pkg/config/config.go', 'refactor'), 1),\n (('pkg/config/load.go', 'refactor'), 1),\n (('internal/client/git_test.go', 'test'), 1),\n (('internal/git/git_test.go', 'test'), 1),\n (('internal/pipe/archive/archive_test.go', 'test'), 1),\n (('internal/pipe/artifactory/artifactory_test.go', 'test'), 1),\n (('internal/pipe/env/env_test.go', 'test'), 1),\n (('internal/pipe/git/git_test.go', 'test'), 1),\n (('internal/pipe/pipe_test.go', 'test'), 1),\n (('internal/pipe/sbom/sbom_test.go', 'test'), 1),\n (('internal/pipe/semver/semver_test.go', 'test'), 1),\n (('internal/pipe/upload/upload_test.go', 'test'), 1),\n (('cmd/docs.go', 'chore'), 1),\n (('cmd/healthcheck.go', 'chore'), 1),\n (('cmd/man.go', 'chore'), 1),\n (('cmd/schema.go', 'chore'), 1),\n (('internal/artifact/artifact_test.go', 'chore'), 1),\n (('internal/client/gitlab.go', 'chore'), 1),\n (('internal/gio/safe_test.go', 'chore'), 1),\n (('internal/http/http_test.go', 'chore'), 1),\n (('internal/middleware/errhandler/error_test.go', 'chore'), 1),\n (('internal/middleware/logging/logging_test.go', 'chore'), 1),\n (('internal/pipe/chocolatey/chocolatey_test.go', 'chore'), 1),\n (('internal/pipe/docker/docker_test.go', 'chore'), 1),\n (('internal/pipe/gomod/gomod_proxy_test.go', 'chore'), 1),\n (('internal/pipe/ko/ko.go', 'chore'), 1),\n (('internal/pipe/linkedin/client_test.go', 'chore'), 1),\n (('internal/pipe/milestone/milestone.go', 'chore'), 1),\n (('www/docs/customization/builds.md', 'fix'), 1),\n (('scripts/nix-udpate-flake.sh', 'build'), 1),\n (('internal/pipe/universalbinary/universalbinary.go', 'fix'), 1),\n (('internal/pipe/universalbinary/universalbinary_test.go', 'fix'), 1),\n (('www/docs/customization/universalbinaries.md', 'fix'), 1),\n (('.golangci.yaml', 'feat'), 1),\n (('CONTRIBUTING.md', 'feat'), 1),\n (('internal/pipe/ko/testdata/app/go.mod', 'feat'), 1),\n (('www/docs/install.md', 'feat'), 1),\n (('scripts/get-releases.sh', 'ci'), 1),\n (('www/docs/static/releases-pro.json', 'ci'), 1),\n (('www/docs/static/releases.json', 'docs'), 1),\n (('www/docs/blog/posts/2021-12-21-goreleaser-v1.2.md', 'docs'), 1),\n (('www/docs/blog/posts/2022-03-07-homebrew-gofish.md', 'docs'), 1),\n (('internal/exec/exec.go', 'unknown'), 1),\n (('internal/shell/shell.go', 'unknown'), 1),\n (('internal/git/config.go', 'fix'), 1),\n (('internal/git/config_test.go', 'fix'), 1),\n (('internal/pipe/nix/testdata/TestBinInstallFormats/darwin-only-deps.golden',\n   'fix'),\n  1),\n (('internal/pipe/nix/testdata/TestBinInstallFormats/linux-only-deps.golden',\n   'fix'),\n  1),\n (('internal/pipe/nix/testdata/TestBinInstallFormats/mixed-deps.golden',\n   'fix'),\n  1),\n (('.editorconfig', 'chore'), 1),\n (('internal/pipe/docker/api_docker.go', 'fix'), 1),\n (('internal/pipe/docker/docker_test.go', 'fix'), 1),\n (('internal/pipe/winget/winget.go', 'refactor'), 1),\n (('.editorconfig', 'fix'), 1),\n (('internal/pipe/brew/template.go', 'fix'), 1),\n (('internal/pipe/brew/templates/cask.rb', 'fix'), 1),\n (('internal/pipe/brew/testdata/TestRunPipeBinaryRelease.rb.golden', 'fix'),\n  1),\n (('internal/pipe/brew/testdata/TestRunPipeNameTemplate.rb.golden', 'fix'), 1),\n (('internal/pipe/brew/testdata/TestRunPipePullRequest.rb.golden', 'fix'), 1),\n (('internal/pipe/brew/testdata/TestRunPipeUniversalBinary.rb.golden', 'fix'),\n  1),\n (('internal/pipe/slack/slack.go', 'fix'), 1),\n (('internal/pipe/slack/slack_test.go', 'fix'), 1),\n (('internal/pipe/nix/template.go', 'fix'), 1),\n (('www/docs/blog/.authors.yml', 'docs'), 1),\n (('www/docs/blog/posts/2022-05-22-nightly-actions.md', 'docs'), 1),\n (('www/htmltest.yml', 'docs'), 1),\n (('internal/skips/skips.go', 'fix'), 1),\n (('.github/dependabot.yml', 'ci'), 1),\n (('internal/pipe/archive/archive_test.go', 'fix'), 1),\n (('internal/pipe/discord/discord_test.go', 'fix'), 1),\n (('scripts/cmd_docs.sh', 'build'), 1),\n (('.github/workflows/generate.yml', 'fix'), 1),\n (('Taskfile.yml', 'fix'), 1),\n (('.envrc', 'build'), 1),\n (('.github/workflows/docs.yml', 'build'), 1),\n (('.gitignore', 'build'), 1),\n (('www/docker/Dockerfile', 'build'), 1),\n (('www/docs/static/run', 'docs'), 1),\n (('www/docs/blog/posts/2023-12-26-goreleaser-v1.23.md', 'docs'), 1),\n (('scripts/fury-upload.sh', 'build'), 1),\n (('scripts/get-releases.sh', 'build'), 1),\n (('scripts/pages/build.sh', 'build'), 1),\n (('scripts/pre-commit.sh', 'build'), 1),\n (('www/docs/links.md', 'docs'), 1),\n (('.github/workflows/generate.yml', 'feat'), 1),\n (('Taskfile.yml', 'feat'), 1),\n (('scripts/gen-nix-licenses.sh', 'feat'), 1),\n (('internal/pipe/aur/testdata/TestRunPipeWrappedInDirectory.pkgbuild.golden',\n   'fix'),\n  1),\n (('internal/pipe/aur/testdata/TestRunPipeWrappedInDirectory.srcinfo.golden',\n   'fix'),\n  1),\n (('internal/artifact/artifact_test.go', 'test'), 1),\n (('internal/client/github_test.go', 'test'), 1),\n (('internal/commitauthor/author_test.go', 'test'), 1),\n (('internal/gio/copy_test.go', 'test'), 1),\n (('internal/middleware/errhandler/error_test.go', 'test'), 1),\n (('internal/pipe/announce/announce_test.go', 'test'), 1),\n (('internal/pipe/checksums/checksums_test.go', 'test'), 1),\n (('internal/pipe/chocolatey/chocolatey_test.go', 'test'), 1),\n (('internal/pipe/discord/discord_test.go', 'test'), 1),\n (('internal/pipe/linkedin/linkedin_test.go', 'test'), 1),\n (('internal/pipe/mastodon/mastodon_test.go', 'test'), 1),\n (('internal/pipe/mattermost/mattermost_test.go', 'test'), 1),\n (('internal/pipe/opencollective/opencollective_test.go', 'test'), 1),\n (('internal/pipe/publish/publish_test.go', 'test'), 1),\n (('internal/pipe/reddit/reddit_test.go', 'test'), 1),\n (('internal/pipe/release/release_test.go', 'test'), 1),\n (('internal/pipe/slack/slack_test.go', 'test'), 1),\n (('internal/pipe/teams/teams_test.go', 'test'), 1),\n (('internal/pipe/telegram/telegram_test.go', 'test'), 1),\n (('internal/pipe/twitter/twitter_test.go', 'test'), 1),\n (('internal/pipe/upx/upx_test.go', 'test'), 1),\n (('internal/pipe/webhook/webhook_test.go', 'test'), 1),\n (('internal/semerrgroup/sem_test.go', 'test'), 1),\n (('internal/testlib/skip.go', 'test'), 1),\n (('pkg/archive/gzip/gzip_test.go', 'test'), 1),\n (('pkg/archive/tar/tar_test.go', 'test'), 1),\n (('pkg/archive/targz/targz_test.go', 'test'), 1),\n (('pkg/archive/tarxz/tarxz_test.go', 'test'), 1),\n (('pkg/archive/zip/zip_test.go', 'test'), 1),\n (('www/docs/blog/posts/2022-02-12-goreleaser-v1.5.md', 'docs'), 1),\n (('internal/pipe/aur/testdata/TestFullPipe/custom-dir.pkgbuild.golden',\n   'feat'),\n  1),\n (('internal/pipe/aur/testdata/TestFullPipe/custom-dir.srcinfo.golden',\n   'feat'),\n  1),\n (('internal/client/github_test.go', 'fix'), 1),\n (('www/docs/blog/posts/2023-09-27-release-cadence.md', 'docs'), 1),\n (('internal/pipe/chocolatey/chocolatey.go', 'fix'), 1),\n (('internal/pipe/chocolatey/chocolatey_test.go', 'fix'), 1),\n (('www/docs/customization/chocolatey.md', 'fix'), 1),\n (('internal/pipe/brew/brew.go', 'refactor'), 1),\n (('internal/pipe/brew/brew_test.go', 'refactor'), 1),\n (('www/docs/contributing.md', 'feat'), 1),\n (('internal/pipe/sbom/sbom_test.go', 'unknown'), 1),\n ...]"
     },
     "execution_count": 7,
     "metadata": {},
     "output_type": "execute_result"
    }
   ],
   "source": [
    "counter.most_common()"
   ]
  },
  {
   "cell_type": "code",
   "execution_count": 8,
   "id": "8df51897a0ba5522",
   "metadata": {
    "collapsed": false,
    "ExecuteTime": {
     "end_time": "2024-10-07T15:55:15.394323Z",
     "start_time": "2024-10-07T15:55:15.391153Z"
    }
   },
   "outputs": [
    {
     "data": {
      "text/plain": "{'.github/workflows/build.yml',\n '.github/workflows/codeql.yml',\n '.github/workflows/docs.yml',\n '.github/workflows/generate.yml',\n '.github/workflows/lint.yml',\n '.github/workflows/nightly-oss.yml',\n '.github/workflows/release.yml',\n '.goreleaser.yaml',\n 'Dockerfile',\n 'USERS.md',\n 'flake.lock',\n 'flake.nix',\n 'internal/client/github.go',\n 'internal/client/gitlab.go',\n 'internal/pipe/nfpm/nfpm.go',\n 'internal/pipe/nfpm/nfpm_test.go',\n 'pkg/config/config.go',\n 'www/docs/cmd/goreleaser_release.md',\n 'www/docs/customization/blob.md',\n 'www/docs/customization/builds.md',\n 'www/docs/customization/nfpm.md',\n 'www/docs/deprecations.md',\n 'www/docs/install.md',\n 'www/docs/static/latest',\n 'www/docs/static/latest-pro',\n 'www/docs/static/releases-pro.json',\n 'www/docs/static/releases.json',\n 'www/docs/static/schema-pro.json',\n 'www/docs/static/schema.json',\n 'www/mkdocs.yml'}"
     },
     "execution_count": 8,
     "metadata": {},
     "output_type": "execute_result"
    }
   ],
   "source": [
    "most_changed_counter = Counter()\n",
    "for (filename, _), count in counter.items():\n",
    "    most_changed_counter[filename] += count\n",
    "file_set = {file for file, reason in most_changed_counter.most_common(30)}\n",
    "file_set"
   ]
  },
  {
   "cell_type": "code",
   "execution_count": 9,
   "id": "ad2d9bd4-e907-4942-85bb-a722bbd303a7",
   "metadata": {
    "ExecuteTime": {
     "end_time": "2024-10-07T15:55:15.417726Z",
     "start_time": "2024-10-07T15:55:15.395287Z"
    }
   },
   "outputs": [
    {
     "data": {
      "text/plain": "[('internal/client/github.go', 'chore', 4),\n ('.github/workflows/codeql.yml', 'chore', 25),\n ('.github/workflows/build.yml', 'chore', 58),\n ('.github/workflows/nightly-oss.yml', 'chore', 51),\n ('.github/workflows/release.yml', 'chore', 56),\n ('Dockerfile', 'chore', 20),\n ('internal/pipe/nfpm/nfpm.go', 'feat', 9),\n ('internal/pipe/nfpm/nfpm_test.go', 'feat', 8),\n ('pkg/config/config.go', 'feat', 28),\n ('www/docs/customization/builds.md', 'feat', 3),\n ('.goreleaser.yaml', 'unknown', 2),\n ('www/docs/install.md', 'unknown', 1),\n ('www/docs/install.md', 'build', 1),\n ('.goreleaser.yaml', 'build', 7),\n ('.github/workflows/lint.yml', 'build', 3),\n ('.goreleaser.yaml', 'chore', 1),\n ('flake.nix', 'build', 6),\n ('flake.lock', 'chore', 12),\n ('www/docs/static/latest', 'chore', 13),\n ('www/docs/static/latest-pro', 'chore', 13),\n ('www/docs/static/releases-pro.json', 'chore', 13),\n ('www/docs/static/releases.json', 'chore', 13),\n ('www/docs/static/schema.json', 'chore', 6),\n ('www/docs/deprecations.md', 'feat', 7),\n ('.github/workflows/build.yml', 'ci', 1),\n ('.github/workflows/nightly-oss.yml', 'ci', 1),\n ('USERS.md', 'docs', 11),\n ('www/docs/customization/nfpm.md', 'docs', 9),\n ('www/mkdocs.yml', 'docs', 17),\n ('www/docs/deprecations.md', 'docs', 7),\n ('www/docs/static/schema-pro.json', 'docs', 15),\n ('www/docs/install.md', 'docs', 10),\n ('www/mkdocs.yml', 'feat', 3),\n ('www/docs/cmd/goreleaser_release.md', 'docs', 14),\n ('internal/client/gitlab.go', 'unknown', 1),\n ('internal/client/gitlab.go', 'fix', 6),\n ('.github/workflows/build.yml', 'unknown', 3),\n ('.github/workflows/lint.yml', 'unknown', 2),\n ('.github/workflows/nightly-oss.yml', 'unknown', 2),\n ('.github/workflows/release.yml', 'unknown', 4),\n ('.github/workflows/lint.yml', 'chore', 18),\n ('.goreleaser.yaml', 'feat', 4),\n ('flake.nix', 'fix', 2),\n ('www/docs/customization/blob.md', 'docs', 7),\n ('www/docs/customization/builds.md', 'docs', 9),\n ('pkg/config/config.go', 'fix', 16),\n ('www/docs/static/schema.json', 'fix', 5),\n ('.github/workflows/generate.yml', 'ci', 1),\n ('www/docs/static/schema.json', 'docs', 2),\n ('Dockerfile', 'unknown', 2),\n ('internal/pipe/nfpm/nfpm_test.go', 'test', 2),\n ('www/docs/customization/nfpm.md', 'feat', 5),\n ('.github/workflows/generate.yml', 'chore', 14),\n ('internal/client/github.go', 'fix', 8),\n ('.github/workflows/build.yml', 'fix', 1),\n ('.github/workflows/release.yml', 'fix', 1),\n ('.github/workflows/nightly-oss.yml', 'build', 2),\n ('www/docs/customization/blob.md', 'feat', 7),\n ('.github/workflows/docs.yml', 'chore', 11),\n ('pkg/config/config.go', 'docs', 1),\n ('.github/workflows/release.yml', 'ci', 1),\n ('.goreleaser.yaml', 'ci', 2),\n ('internal/client/github.go', 'feat', 8),\n ('internal/client/gitlab.go', 'feat', 5),\n ('.github/workflows/lint.yml', 'refactor', 1),\n ('internal/pipe/nfpm/nfpm.go', 'refactor', 2),\n ('internal/client/github.go', 'docs', 1),\n ('www/docs/customization/blob.md', 'unknown', 1),\n ('.github/workflows/build.yml', 'build', 2),\n ('.github/workflows/release.yml', 'build', 2),\n ('.goreleaser.yaml', 'fix', 1),\n ('flake.nix', 'chore', 4),\n ('internal/pipe/nfpm/nfpm.go', 'fix', 3),\n ('internal/pipe/nfpm/nfpm_test.go', 'fix', 2),\n ('www/docs/customization/nfpm.md', 'fix', 1),\n ('pkg/config/config.go', 'unknown', 2),\n ('.github/workflows/release.yml', 'feat', 1),\n ('.github/workflows/generate.yml', 'build', 5),\n ('flake.lock', 'build', 4),\n ('USERS.md', 'feat', 1),\n ('www/docs/cmd/goreleaser_release.md', 'feat', 1),\n ('www/docs/static/schema-pro.json', 'feat', 1),\n ('.github/workflows/codeql.yml', 'unknown', 1),\n ('.github/workflows/docs.yml', 'unknown', 1),\n ('.github/workflows/generate.yml', 'unknown', 2),\n ('USERS.md', 'unknown', 2),\n ('flake.lock', 'unknown', 1),\n ('flake.nix', 'unknown', 1),\n ('internal/pipe/nfpm/nfpm.go', 'unknown', 1),\n ('internal/pipe/nfpm/nfpm_test.go', 'unknown', 1),\n ('www/docs/deprecations.md', 'unknown', 1),\n ('pkg/config/config.go', 'refactor', 1),\n ('internal/client/gitlab.go', 'chore', 1),\n ('www/docs/customization/builds.md', 'fix', 1),\n ('www/docs/install.md', 'feat', 1),\n ('www/docs/static/releases-pro.json', 'ci', 1),\n ('www/docs/static/releases.json', 'docs', 1),\n ('www/docs/static/schema.json', 'feat', 2),\n ('Dockerfile', 'feat', 8),\n ('www/docs/static/schema-pro.json', 'chore', 4),\n ('.github/workflows/generate.yml', 'fix', 1),\n ('.github/workflows/docs.yml', 'build', 1),\n ('.github/workflows/generate.yml', 'feat', 1),\n ('Dockerfile', 'fix', 1),\n ('www/docs/static/schema-pro.json', 'build', 2),\n ('www/docs/static/schema-pro.json', 'unknown', 1),\n ('www/docs/static/schema.json', 'unknown', 1),\n ('www/docs/static/schema.json', 'build', 1),\n ('internal/pipe/nfpm/nfpm_test.go', 'docs', 1),\n ('www/docs/install.md', 'fix', 1),\n ('internal/client/github.go', 'refactor', 1)]"
     },
     "execution_count": 9,
     "metadata": {},
     "output_type": "execute_result"
    }
   ],
   "source": [
    "data_source = [\n",
    "    (filename, reason, value)\n",
    "    for ((filename, reason), value) in counter.items()\n",
    "    if filename in file_set\n",
    "]\n",
    "data_source"
   ]
  },
  {
   "cell_type": "code",
   "execution_count": 10,
   "id": "8b689f85-73fa-470c-b1e2-1a70d7656d3d",
   "metadata": {
    "ExecuteTime": {
     "end_time": "2024-10-07T15:55:15.418729Z",
     "start_time": "2024-10-07T15:55:15.399069Z"
    }
   },
   "outputs": [
    {
     "data": {
      "text/plain": "                                  file    reason  count\n0            internal/client/github.go     chore      4\n1         .github/workflows/codeql.yml     chore     25\n2          .github/workflows/build.yml     chore     58\n3    .github/workflows/nightly-oss.yml     chore     51\n4        .github/workflows/release.yml     chore     56\n..                                 ...       ...    ...\n106        www/docs/static/schema.json   unknown      1\n107        www/docs/static/schema.json     build      1\n108    internal/pipe/nfpm/nfpm_test.go      docs      1\n109                www/docs/install.md       fix      1\n110          internal/client/github.go  refactor      1\n\n[111 rows x 3 columns]",
      "text/html": "<div>\n<style scoped>\n    .dataframe tbody tr th:only-of-type {\n        vertical-align: middle;\n    }\n\n    .dataframe tbody tr th {\n        vertical-align: top;\n    }\n\n    .dataframe thead th {\n        text-align: right;\n    }\n</style>\n<table border=\"1\" class=\"dataframe\">\n  <thead>\n    <tr style=\"text-align: right;\">\n      <th></th>\n      <th>file</th>\n      <th>reason</th>\n      <th>count</th>\n    </tr>\n  </thead>\n  <tbody>\n    <tr>\n      <th>0</th>\n      <td>internal/client/github.go</td>\n      <td>chore</td>\n      <td>4</td>\n    </tr>\n    <tr>\n      <th>1</th>\n      <td>.github/workflows/codeql.yml</td>\n      <td>chore</td>\n      <td>25</td>\n    </tr>\n    <tr>\n      <th>2</th>\n      <td>.github/workflows/build.yml</td>\n      <td>chore</td>\n      <td>58</td>\n    </tr>\n    <tr>\n      <th>3</th>\n      <td>.github/workflows/nightly-oss.yml</td>\n      <td>chore</td>\n      <td>51</td>\n    </tr>\n    <tr>\n      <th>4</th>\n      <td>.github/workflows/release.yml</td>\n      <td>chore</td>\n      <td>56</td>\n    </tr>\n    <tr>\n      <th>...</th>\n      <td>...</td>\n      <td>...</td>\n      <td>...</td>\n    </tr>\n    <tr>\n      <th>106</th>\n      <td>www/docs/static/schema.json</td>\n      <td>unknown</td>\n      <td>1</td>\n    </tr>\n    <tr>\n      <th>107</th>\n      <td>www/docs/static/schema.json</td>\n      <td>build</td>\n      <td>1</td>\n    </tr>\n    <tr>\n      <th>108</th>\n      <td>internal/pipe/nfpm/nfpm_test.go</td>\n      <td>docs</td>\n      <td>1</td>\n    </tr>\n    <tr>\n      <th>109</th>\n      <td>www/docs/install.md</td>\n      <td>fix</td>\n      <td>1</td>\n    </tr>\n    <tr>\n      <th>110</th>\n      <td>internal/client/github.go</td>\n      <td>refactor</td>\n      <td>1</td>\n    </tr>\n  </tbody>\n</table>\n<p>111 rows × 3 columns</p>\n</div>"
     },
     "execution_count": 10,
     "metadata": {},
     "output_type": "execute_result"
    }
   ],
   "source": [
    "df = pd.DataFrame(data_source, columns=[\"file\", \"reason\", \"count\"])\n",
    "df"
   ]
  },
  {
   "cell_type": "code",
   "outputs": [
    {
     "data": {
      "text/plain": "['build', 'chore', 'ci', 'docs', 'feat', 'fix', 'refactor', 'test', 'unknown']"
     },
     "execution_count": 11,
     "metadata": {},
     "output_type": "execute_result"
    }
   ],
   "source": [
    "\n",
    "\n",
    "sorted(df['reason'].unique())"
   ],
   "metadata": {
    "collapsed": false,
    "ExecuteTime": {
     "end_time": "2024-10-07T15:55:15.419098Z",
     "start_time": "2024-10-07T15:55:15.404406Z"
    }
   },
   "id": "363f3a65cf53b0b6",
   "execution_count": 11
  },
  {
   "cell_type": "code",
   "execution_count": 14,
   "id": "f8a663e1-fb22-458c-9008-53007e7b92d7",
   "metadata": {
    "ExecuteTime": {
     "end_time": "2024-10-07T15:55:43.427655Z",
     "start_time": "2024-10-07T15:55:43.423844Z"
    }
   },
   "outputs": [
    {
     "data": {
      "application/vnd.plotly.v1+json": {
       "data": [
        {
         "alignmentgroup": "True",
         "hovertemplate": "reason=chore<br>file=%{x}<br>count=%{y}<extra></extra>",
         "legendgroup": "chore",
         "marker": {
          "color": "rgb(190,186,218)",
          "pattern": {
           "shape": ""
          }
         },
         "name": "chore",
         "offsetgroup": "chore",
         "orientation": "v",
         "showlegend": true,
         "textposition": "auto",
         "x": [
          "internal/client/github.go",
          ".github/workflows/codeql.yml",
          ".github/workflows/build.yml",
          ".github/workflows/nightly-oss.yml",
          ".github/workflows/release.yml",
          "Dockerfile",
          ".goreleaser.yaml",
          "flake.lock",
          "www/docs/static/latest",
          "www/docs/static/latest-pro",
          "www/docs/static/releases-pro.json",
          "www/docs/static/releases.json",
          "www/docs/static/schema.json",
          ".github/workflows/lint.yml",
          ".github/workflows/generate.yml",
          ".github/workflows/docs.yml",
          "flake.nix",
          "internal/client/gitlab.go",
          "www/docs/static/schema-pro.json"
         ],
         "xaxis": "x",
         "y": [
          4,
          25,
          58,
          51,
          56,
          20,
          1,
          12,
          13,
          13,
          13,
          13,
          6,
          18,
          14,
          11,
          4,
          1,
          4
         ],
         "yaxis": "y",
         "type": "bar"
        },
        {
         "alignmentgroup": "True",
         "hovertemplate": "reason=feat<br>file=%{x}<br>count=%{y}<extra></extra>",
         "legendgroup": "feat",
         "marker": {
          "color": "rgb(141,211,199)",
          "pattern": {
           "shape": ""
          }
         },
         "name": "feat",
         "offsetgroup": "feat",
         "orientation": "v",
         "showlegend": true,
         "textposition": "auto",
         "x": [
          "internal/pipe/nfpm/nfpm.go",
          "internal/pipe/nfpm/nfpm_test.go",
          "pkg/config/config.go",
          "www/docs/customization/builds.md",
          "www/docs/deprecations.md",
          "www/mkdocs.yml",
          ".goreleaser.yaml",
          "www/docs/customization/nfpm.md",
          "www/docs/customization/blob.md",
          "internal/client/github.go",
          "internal/client/gitlab.go",
          ".github/workflows/release.yml",
          "USERS.md",
          "www/docs/cmd/goreleaser_release.md",
          "www/docs/static/schema-pro.json",
          "www/docs/install.md",
          "www/docs/static/schema.json",
          "Dockerfile",
          ".github/workflows/generate.yml"
         ],
         "xaxis": "x",
         "y": [
          9,
          8,
          28,
          3,
          7,
          3,
          4,
          5,
          7,
          8,
          5,
          1,
          1,
          1,
          1,
          1,
          2,
          8,
          1
         ],
         "yaxis": "y",
         "type": "bar"
        },
        {
         "alignmentgroup": "True",
         "hovertemplate": "reason=unknown<br>file=%{x}<br>count=%{y}<extra></extra>",
         "legendgroup": "unknown",
         "marker": {
          "color": "rgb(188,128,189)",
          "pattern": {
           "shape": ""
          }
         },
         "name": "unknown",
         "offsetgroup": "unknown",
         "orientation": "v",
         "showlegend": true,
         "textposition": "auto",
         "x": [
          ".goreleaser.yaml",
          "www/docs/install.md",
          "internal/client/gitlab.go",
          ".github/workflows/build.yml",
          ".github/workflows/lint.yml",
          ".github/workflows/nightly-oss.yml",
          ".github/workflows/release.yml",
          "Dockerfile",
          "www/docs/customization/blob.md",
          "pkg/config/config.go",
          ".github/workflows/codeql.yml",
          ".github/workflows/docs.yml",
          ".github/workflows/generate.yml",
          "USERS.md",
          "flake.lock",
          "flake.nix",
          "internal/pipe/nfpm/nfpm.go",
          "internal/pipe/nfpm/nfpm_test.go",
          "www/docs/deprecations.md",
          "www/docs/static/schema-pro.json",
          "www/docs/static/schema.json"
         ],
         "xaxis": "x",
         "y": [
          2,
          1,
          1,
          3,
          2,
          2,
          4,
          2,
          1,
          2,
          1,
          1,
          2,
          2,
          1,
          1,
          1,
          1,
          1,
          1,
          1
         ],
         "yaxis": "y",
         "type": "bar"
        },
        {
         "alignmentgroup": "True",
         "hovertemplate": "reason=build<br>file=%{x}<br>count=%{y}<extra></extra>",
         "legendgroup": "build",
         "marker": {
          "color": "rgb(128,177,211)",
          "pattern": {
           "shape": ""
          }
         },
         "name": "build",
         "offsetgroup": "build",
         "orientation": "v",
         "showlegend": true,
         "textposition": "auto",
         "x": [
          "www/docs/install.md",
          ".goreleaser.yaml",
          ".github/workflows/lint.yml",
          "flake.nix",
          ".github/workflows/nightly-oss.yml",
          ".github/workflows/build.yml",
          ".github/workflows/release.yml",
          ".github/workflows/generate.yml",
          "flake.lock",
          ".github/workflows/docs.yml",
          "www/docs/static/schema-pro.json",
          "www/docs/static/schema.json"
         ],
         "xaxis": "x",
         "y": [
          1,
          7,
          3,
          6,
          2,
          2,
          2,
          5,
          4,
          1,
          2,
          1
         ],
         "yaxis": "y",
         "type": "bar"
        },
        {
         "alignmentgroup": "True",
         "hovertemplate": "reason=ci<br>file=%{x}<br>count=%{y}<extra></extra>",
         "legendgroup": "ci",
         "marker": {
          "color": "rgb(255,255,179)",
          "pattern": {
           "shape": ""
          }
         },
         "name": "ci",
         "offsetgroup": "ci",
         "orientation": "v",
         "showlegend": true,
         "textposition": "auto",
         "x": [
          ".github/workflows/build.yml",
          ".github/workflows/nightly-oss.yml",
          ".github/workflows/generate.yml",
          ".github/workflows/release.yml",
          ".goreleaser.yaml",
          "www/docs/static/releases-pro.json"
         ],
         "xaxis": "x",
         "y": [
          1,
          1,
          1,
          1,
          2,
          1
         ],
         "yaxis": "y",
         "type": "bar"
        },
        {
         "alignmentgroup": "True",
         "hovertemplate": "reason=docs<br>file=%{x}<br>count=%{y}<extra></extra>",
         "legendgroup": "docs",
         "marker": {
          "color": "rgb(253,180,98)",
          "pattern": {
           "shape": ""
          }
         },
         "name": "docs",
         "offsetgroup": "docs",
         "orientation": "v",
         "showlegend": true,
         "textposition": "auto",
         "x": [
          "USERS.md",
          "www/docs/customization/nfpm.md",
          "www/mkdocs.yml",
          "www/docs/deprecations.md",
          "www/docs/static/schema-pro.json",
          "www/docs/install.md",
          "www/docs/cmd/goreleaser_release.md",
          "www/docs/customization/blob.md",
          "www/docs/customization/builds.md",
          "www/docs/static/schema.json",
          "pkg/config/config.go",
          "internal/client/github.go",
          "www/docs/static/releases.json",
          "internal/pipe/nfpm/nfpm_test.go"
         ],
         "xaxis": "x",
         "y": [
          11,
          9,
          17,
          7,
          15,
          10,
          14,
          7,
          9,
          2,
          1,
          1,
          1,
          1
         ],
         "yaxis": "y",
         "type": "bar"
        },
        {
         "alignmentgroup": "True",
         "hovertemplate": "reason=fix<br>file=%{x}<br>count=%{y}<extra></extra>",
         "legendgroup": "fix",
         "marker": {
          "color": "rgb(251,128,114)",
          "pattern": {
           "shape": ""
          }
         },
         "name": "fix",
         "offsetgroup": "fix",
         "orientation": "v",
         "showlegend": true,
         "textposition": "auto",
         "x": [
          "internal/client/gitlab.go",
          "flake.nix",
          "pkg/config/config.go",
          "www/docs/static/schema.json",
          "internal/client/github.go",
          ".github/workflows/build.yml",
          ".github/workflows/release.yml",
          ".goreleaser.yaml",
          "internal/pipe/nfpm/nfpm.go",
          "internal/pipe/nfpm/nfpm_test.go",
          "www/docs/customization/nfpm.md",
          "www/docs/customization/builds.md",
          ".github/workflows/generate.yml",
          "Dockerfile",
          "www/docs/install.md"
         ],
         "xaxis": "x",
         "y": [
          6,
          2,
          16,
          5,
          8,
          1,
          1,
          1,
          3,
          2,
          1,
          1,
          1,
          1,
          1
         ],
         "yaxis": "y",
         "type": "bar"
        },
        {
         "alignmentgroup": "True",
         "hovertemplate": "reason=test<br>file=%{x}<br>count=%{y}<extra></extra>",
         "legendgroup": "test",
         "marker": {
          "color": "rgb(179,222,105)",
          "pattern": {
           "shape": ""
          }
         },
         "name": "test",
         "offsetgroup": "test",
         "orientation": "v",
         "showlegend": true,
         "textposition": "auto",
         "x": [
          "internal/pipe/nfpm/nfpm_test.go"
         ],
         "xaxis": "x",
         "y": [
          2
         ],
         "yaxis": "y",
         "type": "bar"
        },
        {
         "alignmentgroup": "True",
         "hovertemplate": "reason=refactor<br>file=%{x}<br>count=%{y}<extra></extra>",
         "legendgroup": "refactor",
         "marker": {
          "color": "rgb(252,205,229)",
          "pattern": {
           "shape": ""
          }
         },
         "name": "refactor",
         "offsetgroup": "refactor",
         "orientation": "v",
         "showlegend": true,
         "textposition": "auto",
         "x": [
          ".github/workflows/lint.yml",
          "internal/pipe/nfpm/nfpm.go",
          "pkg/config/config.go",
          "internal/client/github.go"
         ],
         "xaxis": "x",
         "y": [
          1,
          2,
          1,
          1
         ],
         "yaxis": "y",
         "type": "bar"
        }
       ],
       "layout": {
        "template": {
         "data": {
          "histogram2dcontour": [
           {
            "type": "histogram2dcontour",
            "colorbar": {
             "outlinewidth": 0,
             "ticks": ""
            },
            "colorscale": [
             [
              0.0,
              "#0d0887"
             ],
             [
              0.1111111111111111,
              "#46039f"
             ],
             [
              0.2222222222222222,
              "#7201a8"
             ],
             [
              0.3333333333333333,
              "#9c179e"
             ],
             [
              0.4444444444444444,
              "#bd3786"
             ],
             [
              0.5555555555555556,
              "#d8576b"
             ],
             [
              0.6666666666666666,
              "#ed7953"
             ],
             [
              0.7777777777777778,
              "#fb9f3a"
             ],
             [
              0.8888888888888888,
              "#fdca26"
             ],
             [
              1.0,
              "#f0f921"
             ]
            ]
           }
          ],
          "choropleth": [
           {
            "type": "choropleth",
            "colorbar": {
             "outlinewidth": 0,
             "ticks": ""
            }
           }
          ],
          "histogram2d": [
           {
            "type": "histogram2d",
            "colorbar": {
             "outlinewidth": 0,
             "ticks": ""
            },
            "colorscale": [
             [
              0.0,
              "#0d0887"
             ],
             [
              0.1111111111111111,
              "#46039f"
             ],
             [
              0.2222222222222222,
              "#7201a8"
             ],
             [
              0.3333333333333333,
              "#9c179e"
             ],
             [
              0.4444444444444444,
              "#bd3786"
             ],
             [
              0.5555555555555556,
              "#d8576b"
             ],
             [
              0.6666666666666666,
              "#ed7953"
             ],
             [
              0.7777777777777778,
              "#fb9f3a"
             ],
             [
              0.8888888888888888,
              "#fdca26"
             ],
             [
              1.0,
              "#f0f921"
             ]
            ]
           }
          ],
          "heatmap": [
           {
            "type": "heatmap",
            "colorbar": {
             "outlinewidth": 0,
             "ticks": ""
            },
            "colorscale": [
             [
              0.0,
              "#0d0887"
             ],
             [
              0.1111111111111111,
              "#46039f"
             ],
             [
              0.2222222222222222,
              "#7201a8"
             ],
             [
              0.3333333333333333,
              "#9c179e"
             ],
             [
              0.4444444444444444,
              "#bd3786"
             ],
             [
              0.5555555555555556,
              "#d8576b"
             ],
             [
              0.6666666666666666,
              "#ed7953"
             ],
             [
              0.7777777777777778,
              "#fb9f3a"
             ],
             [
              0.8888888888888888,
              "#fdca26"
             ],
             [
              1.0,
              "#f0f921"
             ]
            ]
           }
          ],
          "heatmapgl": [
           {
            "type": "heatmapgl",
            "colorbar": {
             "outlinewidth": 0,
             "ticks": ""
            },
            "colorscale": [
             [
              0.0,
              "#0d0887"
             ],
             [
              0.1111111111111111,
              "#46039f"
             ],
             [
              0.2222222222222222,
              "#7201a8"
             ],
             [
              0.3333333333333333,
              "#9c179e"
             ],
             [
              0.4444444444444444,
              "#bd3786"
             ],
             [
              0.5555555555555556,
              "#d8576b"
             ],
             [
              0.6666666666666666,
              "#ed7953"
             ],
             [
              0.7777777777777778,
              "#fb9f3a"
             ],
             [
              0.8888888888888888,
              "#fdca26"
             ],
             [
              1.0,
              "#f0f921"
             ]
            ]
           }
          ],
          "contourcarpet": [
           {
            "type": "contourcarpet",
            "colorbar": {
             "outlinewidth": 0,
             "ticks": ""
            }
           }
          ],
          "contour": [
           {
            "type": "contour",
            "colorbar": {
             "outlinewidth": 0,
             "ticks": ""
            },
            "colorscale": [
             [
              0.0,
              "#0d0887"
             ],
             [
              0.1111111111111111,
              "#46039f"
             ],
             [
              0.2222222222222222,
              "#7201a8"
             ],
             [
              0.3333333333333333,
              "#9c179e"
             ],
             [
              0.4444444444444444,
              "#bd3786"
             ],
             [
              0.5555555555555556,
              "#d8576b"
             ],
             [
              0.6666666666666666,
              "#ed7953"
             ],
             [
              0.7777777777777778,
              "#fb9f3a"
             ],
             [
              0.8888888888888888,
              "#fdca26"
             ],
             [
              1.0,
              "#f0f921"
             ]
            ]
           }
          ],
          "surface": [
           {
            "type": "surface",
            "colorbar": {
             "outlinewidth": 0,
             "ticks": ""
            },
            "colorscale": [
             [
              0.0,
              "#0d0887"
             ],
             [
              0.1111111111111111,
              "#46039f"
             ],
             [
              0.2222222222222222,
              "#7201a8"
             ],
             [
              0.3333333333333333,
              "#9c179e"
             ],
             [
              0.4444444444444444,
              "#bd3786"
             ],
             [
              0.5555555555555556,
              "#d8576b"
             ],
             [
              0.6666666666666666,
              "#ed7953"
             ],
             [
              0.7777777777777778,
              "#fb9f3a"
             ],
             [
              0.8888888888888888,
              "#fdca26"
             ],
             [
              1.0,
              "#f0f921"
             ]
            ]
           }
          ],
          "mesh3d": [
           {
            "type": "mesh3d",
            "colorbar": {
             "outlinewidth": 0,
             "ticks": ""
            }
           }
          ],
          "scatter": [
           {
            "fillpattern": {
             "fillmode": "overlay",
             "size": 10,
             "solidity": 0.2
            },
            "type": "scatter"
           }
          ],
          "parcoords": [
           {
            "type": "parcoords",
            "line": {
             "colorbar": {
              "outlinewidth": 0,
              "ticks": ""
             }
            }
           }
          ],
          "scatterpolargl": [
           {
            "type": "scatterpolargl",
            "marker": {
             "colorbar": {
              "outlinewidth": 0,
              "ticks": ""
             }
            }
           }
          ],
          "bar": [
           {
            "error_x": {
             "color": "#2a3f5f"
            },
            "error_y": {
             "color": "#2a3f5f"
            },
            "marker": {
             "line": {
              "color": "#E5ECF6",
              "width": 0.5
             },
             "pattern": {
              "fillmode": "overlay",
              "size": 10,
              "solidity": 0.2
             }
            },
            "type": "bar"
           }
          ],
          "scattergeo": [
           {
            "type": "scattergeo",
            "marker": {
             "colorbar": {
              "outlinewidth": 0,
              "ticks": ""
             }
            }
           }
          ],
          "scatterpolar": [
           {
            "type": "scatterpolar",
            "marker": {
             "colorbar": {
              "outlinewidth": 0,
              "ticks": ""
             }
            }
           }
          ],
          "histogram": [
           {
            "marker": {
             "pattern": {
              "fillmode": "overlay",
              "size": 10,
              "solidity": 0.2
             }
            },
            "type": "histogram"
           }
          ],
          "scattergl": [
           {
            "type": "scattergl",
            "marker": {
             "colorbar": {
              "outlinewidth": 0,
              "ticks": ""
             }
            }
           }
          ],
          "scatter3d": [
           {
            "type": "scatter3d",
            "line": {
             "colorbar": {
              "outlinewidth": 0,
              "ticks": ""
             }
            },
            "marker": {
             "colorbar": {
              "outlinewidth": 0,
              "ticks": ""
             }
            }
           }
          ],
          "scattermapbox": [
           {
            "type": "scattermapbox",
            "marker": {
             "colorbar": {
              "outlinewidth": 0,
              "ticks": ""
             }
            }
           }
          ],
          "scatterternary": [
           {
            "type": "scatterternary",
            "marker": {
             "colorbar": {
              "outlinewidth": 0,
              "ticks": ""
             }
            }
           }
          ],
          "scattercarpet": [
           {
            "type": "scattercarpet",
            "marker": {
             "colorbar": {
              "outlinewidth": 0,
              "ticks": ""
             }
            }
           }
          ],
          "carpet": [
           {
            "aaxis": {
             "endlinecolor": "#2a3f5f",
             "gridcolor": "white",
             "linecolor": "white",
             "minorgridcolor": "white",
             "startlinecolor": "#2a3f5f"
            },
            "baxis": {
             "endlinecolor": "#2a3f5f",
             "gridcolor": "white",
             "linecolor": "white",
             "minorgridcolor": "white",
             "startlinecolor": "#2a3f5f"
            },
            "type": "carpet"
           }
          ],
          "table": [
           {
            "cells": {
             "fill": {
              "color": "#EBF0F8"
             },
             "line": {
              "color": "white"
             }
            },
            "header": {
             "fill": {
              "color": "#C8D4E3"
             },
             "line": {
              "color": "white"
             }
            },
            "type": "table"
           }
          ],
          "barpolar": [
           {
            "marker": {
             "line": {
              "color": "#E5ECF6",
              "width": 0.5
             },
             "pattern": {
              "fillmode": "overlay",
              "size": 10,
              "solidity": 0.2
             }
            },
            "type": "barpolar"
           }
          ],
          "pie": [
           {
            "automargin": true,
            "type": "pie"
           }
          ]
         },
         "layout": {
          "autotypenumbers": "strict",
          "colorway": [
           "#636efa",
           "#EF553B",
           "#00cc96",
           "#ab63fa",
           "#FFA15A",
           "#19d3f3",
           "#FF6692",
           "#B6E880",
           "#FF97FF",
           "#FECB52"
          ],
          "font": {
           "color": "#2a3f5f"
          },
          "hovermode": "closest",
          "hoverlabel": {
           "align": "left"
          },
          "paper_bgcolor": "white",
          "plot_bgcolor": "#E5ECF6",
          "polar": {
           "bgcolor": "#E5ECF6",
           "angularaxis": {
            "gridcolor": "white",
            "linecolor": "white",
            "ticks": ""
           },
           "radialaxis": {
            "gridcolor": "white",
            "linecolor": "white",
            "ticks": ""
           }
          },
          "ternary": {
           "bgcolor": "#E5ECF6",
           "aaxis": {
            "gridcolor": "white",
            "linecolor": "white",
            "ticks": ""
           },
           "baxis": {
            "gridcolor": "white",
            "linecolor": "white",
            "ticks": ""
           },
           "caxis": {
            "gridcolor": "white",
            "linecolor": "white",
            "ticks": ""
           }
          },
          "coloraxis": {
           "colorbar": {
            "outlinewidth": 0,
            "ticks": ""
           }
          },
          "colorscale": {
           "sequential": [
            [
             0.0,
             "#0d0887"
            ],
            [
             0.1111111111111111,
             "#46039f"
            ],
            [
             0.2222222222222222,
             "#7201a8"
            ],
            [
             0.3333333333333333,
             "#9c179e"
            ],
            [
             0.4444444444444444,
             "#bd3786"
            ],
            [
             0.5555555555555556,
             "#d8576b"
            ],
            [
             0.6666666666666666,
             "#ed7953"
            ],
            [
             0.7777777777777778,
             "#fb9f3a"
            ],
            [
             0.8888888888888888,
             "#fdca26"
            ],
            [
             1.0,
             "#f0f921"
            ]
           ],
           "sequentialminus": [
            [
             0.0,
             "#0d0887"
            ],
            [
             0.1111111111111111,
             "#46039f"
            ],
            [
             0.2222222222222222,
             "#7201a8"
            ],
            [
             0.3333333333333333,
             "#9c179e"
            ],
            [
             0.4444444444444444,
             "#bd3786"
            ],
            [
             0.5555555555555556,
             "#d8576b"
            ],
            [
             0.6666666666666666,
             "#ed7953"
            ],
            [
             0.7777777777777778,
             "#fb9f3a"
            ],
            [
             0.8888888888888888,
             "#fdca26"
            ],
            [
             1.0,
             "#f0f921"
            ]
           ],
           "diverging": [
            [
             0,
             "#8e0152"
            ],
            [
             0.1,
             "#c51b7d"
            ],
            [
             0.2,
             "#de77ae"
            ],
            [
             0.3,
             "#f1b6da"
            ],
            [
             0.4,
             "#fde0ef"
            ],
            [
             0.5,
             "#f7f7f7"
            ],
            [
             0.6,
             "#e6f5d0"
            ],
            [
             0.7,
             "#b8e186"
            ],
            [
             0.8,
             "#7fbc41"
            ],
            [
             0.9,
             "#4d9221"
            ],
            [
             1,
             "#276419"
            ]
           ]
          },
          "xaxis": {
           "gridcolor": "white",
           "linecolor": "white",
           "ticks": "",
           "title": {
            "standoff": 15
           },
           "zerolinecolor": "white",
           "automargin": true,
           "zerolinewidth": 2
          },
          "yaxis": {
           "gridcolor": "white",
           "linecolor": "white",
           "ticks": "",
           "title": {
            "standoff": 15
           },
           "zerolinecolor": "white",
           "automargin": true,
           "zerolinewidth": 2
          },
          "scene": {
           "xaxis": {
            "backgroundcolor": "#E5ECF6",
            "gridcolor": "white",
            "linecolor": "white",
            "showbackground": true,
            "ticks": "",
            "zerolinecolor": "white",
            "gridwidth": 2
           },
           "yaxis": {
            "backgroundcolor": "#E5ECF6",
            "gridcolor": "white",
            "linecolor": "white",
            "showbackground": true,
            "ticks": "",
            "zerolinecolor": "white",
            "gridwidth": 2
           },
           "zaxis": {
            "backgroundcolor": "#E5ECF6",
            "gridcolor": "white",
            "linecolor": "white",
            "showbackground": true,
            "ticks": "",
            "zerolinecolor": "white",
            "gridwidth": 2
           }
          },
          "shapedefaults": {
           "line": {
            "color": "#2a3f5f"
           }
          },
          "annotationdefaults": {
           "arrowcolor": "#2a3f5f",
           "arrowhead": 0,
           "arrowwidth": 1
          },
          "geo": {
           "bgcolor": "white",
           "landcolor": "#E5ECF6",
           "subunitcolor": "white",
           "showland": true,
           "showlakes": true,
           "lakecolor": "white"
          },
          "title": {
           "x": 0.05
          },
          "mapbox": {
           "style": "light"
          }
         }
        },
        "xaxis": {
         "anchor": "y",
         "domain": [
          0.0,
          1.0
         ],
         "title": {
          "text": "file"
         }
        },
        "yaxis": {
         "anchor": "x",
         "domain": [
          0.0,
          1.0
         ],
         "title": {
          "text": "count"
         }
        },
        "legend": {
         "title": {
          "text": "reason"
         },
         "tracegroupgap": 0
        },
        "margin": {
         "t": 60
        },
        "barmode": "relative"
       },
       "config": {
        "plotlyServerURL": "https://plot.ly"
       }
      },
      "text/html": "<div>                            <div id=\"113eb2b6-d7ed-49c3-98f1-c392a4edf962\" class=\"plotly-graph-div\" style=\"height:525px; width:100%;\"></div>            <script type=\"text/javascript\">                require([\"plotly\"], function(Plotly) {                    window.PLOTLYENV=window.PLOTLYENV || {};                                    if (document.getElementById(\"113eb2b6-d7ed-49c3-98f1-c392a4edf962\")) {                    Plotly.newPlot(                        \"113eb2b6-d7ed-49c3-98f1-c392a4edf962\",                        [{\"alignmentgroup\":\"True\",\"hovertemplate\":\"reason=chore\\u003cbr\\u003efile=%{x}\\u003cbr\\u003ecount=%{y}\\u003cextra\\u003e\\u003c\\u002fextra\\u003e\",\"legendgroup\":\"chore\",\"marker\":{\"color\":\"rgb(190,186,218)\",\"pattern\":{\"shape\":\"\"}},\"name\":\"chore\",\"offsetgroup\":\"chore\",\"orientation\":\"v\",\"showlegend\":true,\"textposition\":\"auto\",\"x\":[\"internal\\u002fclient\\u002fgithub.go\",\".github\\u002fworkflows\\u002fcodeql.yml\",\".github\\u002fworkflows\\u002fbuild.yml\",\".github\\u002fworkflows\\u002fnightly-oss.yml\",\".github\\u002fworkflows\\u002frelease.yml\",\"Dockerfile\",\".goreleaser.yaml\",\"flake.lock\",\"www\\u002fdocs\\u002fstatic\\u002flatest\",\"www\\u002fdocs\\u002fstatic\\u002flatest-pro\",\"www\\u002fdocs\\u002fstatic\\u002freleases-pro.json\",\"www\\u002fdocs\\u002fstatic\\u002freleases.json\",\"www\\u002fdocs\\u002fstatic\\u002fschema.json\",\".github\\u002fworkflows\\u002flint.yml\",\".github\\u002fworkflows\\u002fgenerate.yml\",\".github\\u002fworkflows\\u002fdocs.yml\",\"flake.nix\",\"internal\\u002fclient\\u002fgitlab.go\",\"www\\u002fdocs\\u002fstatic\\u002fschema-pro.json\"],\"xaxis\":\"x\",\"y\":[4,25,58,51,56,20,1,12,13,13,13,13,6,18,14,11,4,1,4],\"yaxis\":\"y\",\"type\":\"bar\"},{\"alignmentgroup\":\"True\",\"hovertemplate\":\"reason=feat\\u003cbr\\u003efile=%{x}\\u003cbr\\u003ecount=%{y}\\u003cextra\\u003e\\u003c\\u002fextra\\u003e\",\"legendgroup\":\"feat\",\"marker\":{\"color\":\"rgb(141,211,199)\",\"pattern\":{\"shape\":\"\"}},\"name\":\"feat\",\"offsetgroup\":\"feat\",\"orientation\":\"v\",\"showlegend\":true,\"textposition\":\"auto\",\"x\":[\"internal\\u002fpipe\\u002fnfpm\\u002fnfpm.go\",\"internal\\u002fpipe\\u002fnfpm\\u002fnfpm_test.go\",\"pkg\\u002fconfig\\u002fconfig.go\",\"www\\u002fdocs\\u002fcustomization\\u002fbuilds.md\",\"www\\u002fdocs\\u002fdeprecations.md\",\"www\\u002fmkdocs.yml\",\".goreleaser.yaml\",\"www\\u002fdocs\\u002fcustomization\\u002fnfpm.md\",\"www\\u002fdocs\\u002fcustomization\\u002fblob.md\",\"internal\\u002fclient\\u002fgithub.go\",\"internal\\u002fclient\\u002fgitlab.go\",\".github\\u002fworkflows\\u002frelease.yml\",\"USERS.md\",\"www\\u002fdocs\\u002fcmd\\u002fgoreleaser_release.md\",\"www\\u002fdocs\\u002fstatic\\u002fschema-pro.json\",\"www\\u002fdocs\\u002finstall.md\",\"www\\u002fdocs\\u002fstatic\\u002fschema.json\",\"Dockerfile\",\".github\\u002fworkflows\\u002fgenerate.yml\"],\"xaxis\":\"x\",\"y\":[9,8,28,3,7,3,4,5,7,8,5,1,1,1,1,1,2,8,1],\"yaxis\":\"y\",\"type\":\"bar\"},{\"alignmentgroup\":\"True\",\"hovertemplate\":\"reason=unknown\\u003cbr\\u003efile=%{x}\\u003cbr\\u003ecount=%{y}\\u003cextra\\u003e\\u003c\\u002fextra\\u003e\",\"legendgroup\":\"unknown\",\"marker\":{\"color\":\"rgb(188,128,189)\",\"pattern\":{\"shape\":\"\"}},\"name\":\"unknown\",\"offsetgroup\":\"unknown\",\"orientation\":\"v\",\"showlegend\":true,\"textposition\":\"auto\",\"x\":[\".goreleaser.yaml\",\"www\\u002fdocs\\u002finstall.md\",\"internal\\u002fclient\\u002fgitlab.go\",\".github\\u002fworkflows\\u002fbuild.yml\",\".github\\u002fworkflows\\u002flint.yml\",\".github\\u002fworkflows\\u002fnightly-oss.yml\",\".github\\u002fworkflows\\u002frelease.yml\",\"Dockerfile\",\"www\\u002fdocs\\u002fcustomization\\u002fblob.md\",\"pkg\\u002fconfig\\u002fconfig.go\",\".github\\u002fworkflows\\u002fcodeql.yml\",\".github\\u002fworkflows\\u002fdocs.yml\",\".github\\u002fworkflows\\u002fgenerate.yml\",\"USERS.md\",\"flake.lock\",\"flake.nix\",\"internal\\u002fpipe\\u002fnfpm\\u002fnfpm.go\",\"internal\\u002fpipe\\u002fnfpm\\u002fnfpm_test.go\",\"www\\u002fdocs\\u002fdeprecations.md\",\"www\\u002fdocs\\u002fstatic\\u002fschema-pro.json\",\"www\\u002fdocs\\u002fstatic\\u002fschema.json\"],\"xaxis\":\"x\",\"y\":[2,1,1,3,2,2,4,2,1,2,1,1,2,2,1,1,1,1,1,1,1],\"yaxis\":\"y\",\"type\":\"bar\"},{\"alignmentgroup\":\"True\",\"hovertemplate\":\"reason=build\\u003cbr\\u003efile=%{x}\\u003cbr\\u003ecount=%{y}\\u003cextra\\u003e\\u003c\\u002fextra\\u003e\",\"legendgroup\":\"build\",\"marker\":{\"color\":\"rgb(128,177,211)\",\"pattern\":{\"shape\":\"\"}},\"name\":\"build\",\"offsetgroup\":\"build\",\"orientation\":\"v\",\"showlegend\":true,\"textposition\":\"auto\",\"x\":[\"www\\u002fdocs\\u002finstall.md\",\".goreleaser.yaml\",\".github\\u002fworkflows\\u002flint.yml\",\"flake.nix\",\".github\\u002fworkflows\\u002fnightly-oss.yml\",\".github\\u002fworkflows\\u002fbuild.yml\",\".github\\u002fworkflows\\u002frelease.yml\",\".github\\u002fworkflows\\u002fgenerate.yml\",\"flake.lock\",\".github\\u002fworkflows\\u002fdocs.yml\",\"www\\u002fdocs\\u002fstatic\\u002fschema-pro.json\",\"www\\u002fdocs\\u002fstatic\\u002fschema.json\"],\"xaxis\":\"x\",\"y\":[1,7,3,6,2,2,2,5,4,1,2,1],\"yaxis\":\"y\",\"type\":\"bar\"},{\"alignmentgroup\":\"True\",\"hovertemplate\":\"reason=ci\\u003cbr\\u003efile=%{x}\\u003cbr\\u003ecount=%{y}\\u003cextra\\u003e\\u003c\\u002fextra\\u003e\",\"legendgroup\":\"ci\",\"marker\":{\"color\":\"rgb(255,255,179)\",\"pattern\":{\"shape\":\"\"}},\"name\":\"ci\",\"offsetgroup\":\"ci\",\"orientation\":\"v\",\"showlegend\":true,\"textposition\":\"auto\",\"x\":[\".github\\u002fworkflows\\u002fbuild.yml\",\".github\\u002fworkflows\\u002fnightly-oss.yml\",\".github\\u002fworkflows\\u002fgenerate.yml\",\".github\\u002fworkflows\\u002frelease.yml\",\".goreleaser.yaml\",\"www\\u002fdocs\\u002fstatic\\u002freleases-pro.json\"],\"xaxis\":\"x\",\"y\":[1,1,1,1,2,1],\"yaxis\":\"y\",\"type\":\"bar\"},{\"alignmentgroup\":\"True\",\"hovertemplate\":\"reason=docs\\u003cbr\\u003efile=%{x}\\u003cbr\\u003ecount=%{y}\\u003cextra\\u003e\\u003c\\u002fextra\\u003e\",\"legendgroup\":\"docs\",\"marker\":{\"color\":\"rgb(253,180,98)\",\"pattern\":{\"shape\":\"\"}},\"name\":\"docs\",\"offsetgroup\":\"docs\",\"orientation\":\"v\",\"showlegend\":true,\"textposition\":\"auto\",\"x\":[\"USERS.md\",\"www\\u002fdocs\\u002fcustomization\\u002fnfpm.md\",\"www\\u002fmkdocs.yml\",\"www\\u002fdocs\\u002fdeprecations.md\",\"www\\u002fdocs\\u002fstatic\\u002fschema-pro.json\",\"www\\u002fdocs\\u002finstall.md\",\"www\\u002fdocs\\u002fcmd\\u002fgoreleaser_release.md\",\"www\\u002fdocs\\u002fcustomization\\u002fblob.md\",\"www\\u002fdocs\\u002fcustomization\\u002fbuilds.md\",\"www\\u002fdocs\\u002fstatic\\u002fschema.json\",\"pkg\\u002fconfig\\u002fconfig.go\",\"internal\\u002fclient\\u002fgithub.go\",\"www\\u002fdocs\\u002fstatic\\u002freleases.json\",\"internal\\u002fpipe\\u002fnfpm\\u002fnfpm_test.go\"],\"xaxis\":\"x\",\"y\":[11,9,17,7,15,10,14,7,9,2,1,1,1,1],\"yaxis\":\"y\",\"type\":\"bar\"},{\"alignmentgroup\":\"True\",\"hovertemplate\":\"reason=fix\\u003cbr\\u003efile=%{x}\\u003cbr\\u003ecount=%{y}\\u003cextra\\u003e\\u003c\\u002fextra\\u003e\",\"legendgroup\":\"fix\",\"marker\":{\"color\":\"rgb(251,128,114)\",\"pattern\":{\"shape\":\"\"}},\"name\":\"fix\",\"offsetgroup\":\"fix\",\"orientation\":\"v\",\"showlegend\":true,\"textposition\":\"auto\",\"x\":[\"internal\\u002fclient\\u002fgitlab.go\",\"flake.nix\",\"pkg\\u002fconfig\\u002fconfig.go\",\"www\\u002fdocs\\u002fstatic\\u002fschema.json\",\"internal\\u002fclient\\u002fgithub.go\",\".github\\u002fworkflows\\u002fbuild.yml\",\".github\\u002fworkflows\\u002frelease.yml\",\".goreleaser.yaml\",\"internal\\u002fpipe\\u002fnfpm\\u002fnfpm.go\",\"internal\\u002fpipe\\u002fnfpm\\u002fnfpm_test.go\",\"www\\u002fdocs\\u002fcustomization\\u002fnfpm.md\",\"www\\u002fdocs\\u002fcustomization\\u002fbuilds.md\",\".github\\u002fworkflows\\u002fgenerate.yml\",\"Dockerfile\",\"www\\u002fdocs\\u002finstall.md\"],\"xaxis\":\"x\",\"y\":[6,2,16,5,8,1,1,1,3,2,1,1,1,1,1],\"yaxis\":\"y\",\"type\":\"bar\"},{\"alignmentgroup\":\"True\",\"hovertemplate\":\"reason=test\\u003cbr\\u003efile=%{x}\\u003cbr\\u003ecount=%{y}\\u003cextra\\u003e\\u003c\\u002fextra\\u003e\",\"legendgroup\":\"test\",\"marker\":{\"color\":\"rgb(179,222,105)\",\"pattern\":{\"shape\":\"\"}},\"name\":\"test\",\"offsetgroup\":\"test\",\"orientation\":\"v\",\"showlegend\":true,\"textposition\":\"auto\",\"x\":[\"internal\\u002fpipe\\u002fnfpm\\u002fnfpm_test.go\"],\"xaxis\":\"x\",\"y\":[2],\"yaxis\":\"y\",\"type\":\"bar\"},{\"alignmentgroup\":\"True\",\"hovertemplate\":\"reason=refactor\\u003cbr\\u003efile=%{x}\\u003cbr\\u003ecount=%{y}\\u003cextra\\u003e\\u003c\\u002fextra\\u003e\",\"legendgroup\":\"refactor\",\"marker\":{\"color\":\"rgb(252,205,229)\",\"pattern\":{\"shape\":\"\"}},\"name\":\"refactor\",\"offsetgroup\":\"refactor\",\"orientation\":\"v\",\"showlegend\":true,\"textposition\":\"auto\",\"x\":[\".github\\u002fworkflows\\u002flint.yml\",\"internal\\u002fpipe\\u002fnfpm\\u002fnfpm.go\",\"pkg\\u002fconfig\\u002fconfig.go\",\"internal\\u002fclient\\u002fgithub.go\"],\"xaxis\":\"x\",\"y\":[1,2,1,1],\"yaxis\":\"y\",\"type\":\"bar\"}],                        {\"template\":{\"data\":{\"histogram2dcontour\":[{\"type\":\"histogram2dcontour\",\"colorbar\":{\"outlinewidth\":0,\"ticks\":\"\"},\"colorscale\":[[0.0,\"#0d0887\"],[0.1111111111111111,\"#46039f\"],[0.2222222222222222,\"#7201a8\"],[0.3333333333333333,\"#9c179e\"],[0.4444444444444444,\"#bd3786\"],[0.5555555555555556,\"#d8576b\"],[0.6666666666666666,\"#ed7953\"],[0.7777777777777778,\"#fb9f3a\"],[0.8888888888888888,\"#fdca26\"],[1.0,\"#f0f921\"]]}],\"choropleth\":[{\"type\":\"choropleth\",\"colorbar\":{\"outlinewidth\":0,\"ticks\":\"\"}}],\"histogram2d\":[{\"type\":\"histogram2d\",\"colorbar\":{\"outlinewidth\":0,\"ticks\":\"\"},\"colorscale\":[[0.0,\"#0d0887\"],[0.1111111111111111,\"#46039f\"],[0.2222222222222222,\"#7201a8\"],[0.3333333333333333,\"#9c179e\"],[0.4444444444444444,\"#bd3786\"],[0.5555555555555556,\"#d8576b\"],[0.6666666666666666,\"#ed7953\"],[0.7777777777777778,\"#fb9f3a\"],[0.8888888888888888,\"#fdca26\"],[1.0,\"#f0f921\"]]}],\"heatmap\":[{\"type\":\"heatmap\",\"colorbar\":{\"outlinewidth\":0,\"ticks\":\"\"},\"colorscale\":[[0.0,\"#0d0887\"],[0.1111111111111111,\"#46039f\"],[0.2222222222222222,\"#7201a8\"],[0.3333333333333333,\"#9c179e\"],[0.4444444444444444,\"#bd3786\"],[0.5555555555555556,\"#d8576b\"],[0.6666666666666666,\"#ed7953\"],[0.7777777777777778,\"#fb9f3a\"],[0.8888888888888888,\"#fdca26\"],[1.0,\"#f0f921\"]]}],\"heatmapgl\":[{\"type\":\"heatmapgl\",\"colorbar\":{\"outlinewidth\":0,\"ticks\":\"\"},\"colorscale\":[[0.0,\"#0d0887\"],[0.1111111111111111,\"#46039f\"],[0.2222222222222222,\"#7201a8\"],[0.3333333333333333,\"#9c179e\"],[0.4444444444444444,\"#bd3786\"],[0.5555555555555556,\"#d8576b\"],[0.6666666666666666,\"#ed7953\"],[0.7777777777777778,\"#fb9f3a\"],[0.8888888888888888,\"#fdca26\"],[1.0,\"#f0f921\"]]}],\"contourcarpet\":[{\"type\":\"contourcarpet\",\"colorbar\":{\"outlinewidth\":0,\"ticks\":\"\"}}],\"contour\":[{\"type\":\"contour\",\"colorbar\":{\"outlinewidth\":0,\"ticks\":\"\"},\"colorscale\":[[0.0,\"#0d0887\"],[0.1111111111111111,\"#46039f\"],[0.2222222222222222,\"#7201a8\"],[0.3333333333333333,\"#9c179e\"],[0.4444444444444444,\"#bd3786\"],[0.5555555555555556,\"#d8576b\"],[0.6666666666666666,\"#ed7953\"],[0.7777777777777778,\"#fb9f3a\"],[0.8888888888888888,\"#fdca26\"],[1.0,\"#f0f921\"]]}],\"surface\":[{\"type\":\"surface\",\"colorbar\":{\"outlinewidth\":0,\"ticks\":\"\"},\"colorscale\":[[0.0,\"#0d0887\"],[0.1111111111111111,\"#46039f\"],[0.2222222222222222,\"#7201a8\"],[0.3333333333333333,\"#9c179e\"],[0.4444444444444444,\"#bd3786\"],[0.5555555555555556,\"#d8576b\"],[0.6666666666666666,\"#ed7953\"],[0.7777777777777778,\"#fb9f3a\"],[0.8888888888888888,\"#fdca26\"],[1.0,\"#f0f921\"]]}],\"mesh3d\":[{\"type\":\"mesh3d\",\"colorbar\":{\"outlinewidth\":0,\"ticks\":\"\"}}],\"scatter\":[{\"fillpattern\":{\"fillmode\":\"overlay\",\"size\":10,\"solidity\":0.2},\"type\":\"scatter\"}],\"parcoords\":[{\"type\":\"parcoords\",\"line\":{\"colorbar\":{\"outlinewidth\":0,\"ticks\":\"\"}}}],\"scatterpolargl\":[{\"type\":\"scatterpolargl\",\"marker\":{\"colorbar\":{\"outlinewidth\":0,\"ticks\":\"\"}}}],\"bar\":[{\"error_x\":{\"color\":\"#2a3f5f\"},\"error_y\":{\"color\":\"#2a3f5f\"},\"marker\":{\"line\":{\"color\":\"#E5ECF6\",\"width\":0.5},\"pattern\":{\"fillmode\":\"overlay\",\"size\":10,\"solidity\":0.2}},\"type\":\"bar\"}],\"scattergeo\":[{\"type\":\"scattergeo\",\"marker\":{\"colorbar\":{\"outlinewidth\":0,\"ticks\":\"\"}}}],\"scatterpolar\":[{\"type\":\"scatterpolar\",\"marker\":{\"colorbar\":{\"outlinewidth\":0,\"ticks\":\"\"}}}],\"histogram\":[{\"marker\":{\"pattern\":{\"fillmode\":\"overlay\",\"size\":10,\"solidity\":0.2}},\"type\":\"histogram\"}],\"scattergl\":[{\"type\":\"scattergl\",\"marker\":{\"colorbar\":{\"outlinewidth\":0,\"ticks\":\"\"}}}],\"scatter3d\":[{\"type\":\"scatter3d\",\"line\":{\"colorbar\":{\"outlinewidth\":0,\"ticks\":\"\"}},\"marker\":{\"colorbar\":{\"outlinewidth\":0,\"ticks\":\"\"}}}],\"scattermapbox\":[{\"type\":\"scattermapbox\",\"marker\":{\"colorbar\":{\"outlinewidth\":0,\"ticks\":\"\"}}}],\"scatterternary\":[{\"type\":\"scatterternary\",\"marker\":{\"colorbar\":{\"outlinewidth\":0,\"ticks\":\"\"}}}],\"scattercarpet\":[{\"type\":\"scattercarpet\",\"marker\":{\"colorbar\":{\"outlinewidth\":0,\"ticks\":\"\"}}}],\"carpet\":[{\"aaxis\":{\"endlinecolor\":\"#2a3f5f\",\"gridcolor\":\"white\",\"linecolor\":\"white\",\"minorgridcolor\":\"white\",\"startlinecolor\":\"#2a3f5f\"},\"baxis\":{\"endlinecolor\":\"#2a3f5f\",\"gridcolor\":\"white\",\"linecolor\":\"white\",\"minorgridcolor\":\"white\",\"startlinecolor\":\"#2a3f5f\"},\"type\":\"carpet\"}],\"table\":[{\"cells\":{\"fill\":{\"color\":\"#EBF0F8\"},\"line\":{\"color\":\"white\"}},\"header\":{\"fill\":{\"color\":\"#C8D4E3\"},\"line\":{\"color\":\"white\"}},\"type\":\"table\"}],\"barpolar\":[{\"marker\":{\"line\":{\"color\":\"#E5ECF6\",\"width\":0.5},\"pattern\":{\"fillmode\":\"overlay\",\"size\":10,\"solidity\":0.2}},\"type\":\"barpolar\"}],\"pie\":[{\"automargin\":true,\"type\":\"pie\"}]},\"layout\":{\"autotypenumbers\":\"strict\",\"colorway\":[\"#636efa\",\"#EF553B\",\"#00cc96\",\"#ab63fa\",\"#FFA15A\",\"#19d3f3\",\"#FF6692\",\"#B6E880\",\"#FF97FF\",\"#FECB52\"],\"font\":{\"color\":\"#2a3f5f\"},\"hovermode\":\"closest\",\"hoverlabel\":{\"align\":\"left\"},\"paper_bgcolor\":\"white\",\"plot_bgcolor\":\"#E5ECF6\",\"polar\":{\"bgcolor\":\"#E5ECF6\",\"angularaxis\":{\"gridcolor\":\"white\",\"linecolor\":\"white\",\"ticks\":\"\"},\"radialaxis\":{\"gridcolor\":\"white\",\"linecolor\":\"white\",\"ticks\":\"\"}},\"ternary\":{\"bgcolor\":\"#E5ECF6\",\"aaxis\":{\"gridcolor\":\"white\",\"linecolor\":\"white\",\"ticks\":\"\"},\"baxis\":{\"gridcolor\":\"white\",\"linecolor\":\"white\",\"ticks\":\"\"},\"caxis\":{\"gridcolor\":\"white\",\"linecolor\":\"white\",\"ticks\":\"\"}},\"coloraxis\":{\"colorbar\":{\"outlinewidth\":0,\"ticks\":\"\"}},\"colorscale\":{\"sequential\":[[0.0,\"#0d0887\"],[0.1111111111111111,\"#46039f\"],[0.2222222222222222,\"#7201a8\"],[0.3333333333333333,\"#9c179e\"],[0.4444444444444444,\"#bd3786\"],[0.5555555555555556,\"#d8576b\"],[0.6666666666666666,\"#ed7953\"],[0.7777777777777778,\"#fb9f3a\"],[0.8888888888888888,\"#fdca26\"],[1.0,\"#f0f921\"]],\"sequentialminus\":[[0.0,\"#0d0887\"],[0.1111111111111111,\"#46039f\"],[0.2222222222222222,\"#7201a8\"],[0.3333333333333333,\"#9c179e\"],[0.4444444444444444,\"#bd3786\"],[0.5555555555555556,\"#d8576b\"],[0.6666666666666666,\"#ed7953\"],[0.7777777777777778,\"#fb9f3a\"],[0.8888888888888888,\"#fdca26\"],[1.0,\"#f0f921\"]],\"diverging\":[[0,\"#8e0152\"],[0.1,\"#c51b7d\"],[0.2,\"#de77ae\"],[0.3,\"#f1b6da\"],[0.4,\"#fde0ef\"],[0.5,\"#f7f7f7\"],[0.6,\"#e6f5d0\"],[0.7,\"#b8e186\"],[0.8,\"#7fbc41\"],[0.9,\"#4d9221\"],[1,\"#276419\"]]},\"xaxis\":{\"gridcolor\":\"white\",\"linecolor\":\"white\",\"ticks\":\"\",\"title\":{\"standoff\":15},\"zerolinecolor\":\"white\",\"automargin\":true,\"zerolinewidth\":2},\"yaxis\":{\"gridcolor\":\"white\",\"linecolor\":\"white\",\"ticks\":\"\",\"title\":{\"standoff\":15},\"zerolinecolor\":\"white\",\"automargin\":true,\"zerolinewidth\":2},\"scene\":{\"xaxis\":{\"backgroundcolor\":\"#E5ECF6\",\"gridcolor\":\"white\",\"linecolor\":\"white\",\"showbackground\":true,\"ticks\":\"\",\"zerolinecolor\":\"white\",\"gridwidth\":2},\"yaxis\":{\"backgroundcolor\":\"#E5ECF6\",\"gridcolor\":\"white\",\"linecolor\":\"white\",\"showbackground\":true,\"ticks\":\"\",\"zerolinecolor\":\"white\",\"gridwidth\":2},\"zaxis\":{\"backgroundcolor\":\"#E5ECF6\",\"gridcolor\":\"white\",\"linecolor\":\"white\",\"showbackground\":true,\"ticks\":\"\",\"zerolinecolor\":\"white\",\"gridwidth\":2}},\"shapedefaults\":{\"line\":{\"color\":\"#2a3f5f\"}},\"annotationdefaults\":{\"arrowcolor\":\"#2a3f5f\",\"arrowhead\":0,\"arrowwidth\":1},\"geo\":{\"bgcolor\":\"white\",\"landcolor\":\"#E5ECF6\",\"subunitcolor\":\"white\",\"showland\":true,\"showlakes\":true,\"lakecolor\":\"white\"},\"title\":{\"x\":0.05},\"mapbox\":{\"style\":\"light\"}}},\"xaxis\":{\"anchor\":\"y\",\"domain\":[0.0,1.0],\"title\":{\"text\":\"file\"}},\"yaxis\":{\"anchor\":\"x\",\"domain\":[0.0,1.0],\"title\":{\"text\":\"count\"}},\"legend\":{\"title\":{\"text\":\"reason\"},\"tracegroupgap\":0},\"margin\":{\"t\":60},\"barmode\":\"relative\"},                        {\"responsive\": true}                    ).then(function(){\n                            \nvar gd = document.getElementById('113eb2b6-d7ed-49c3-98f1-c392a4edf962');\nvar x = new MutationObserver(function (mutations, observer) {{\n        var display = window.getComputedStyle(gd).display;\n        if (!display || display === 'none') {{\n            console.log([gd, 'removed!']);\n            Plotly.purge(gd);\n            observer.disconnect();\n        }}\n}});\n\n// Listen for the removal of the full notebook cells\nvar notebookContainer = gd.closest('#notebook-container');\nif (notebookContainer) {{\n    x.observe(notebookContainer, {childList: true});\n}}\n\n// Listen for the clearing of the current output cell\nvar outputEl = gd.closest('.output');\nif (outputEl) {{\n    x.observe(outputEl, {childList: true});\n}}\n\n                        })                };                });            </script>        </div>"
     },
     "metadata": {},
     "output_type": "display_data"
    }
   ],
   "source": [
    "color_choices = {\n",
    "    \"feat\": \"rgb(141,211,199)\",\n",
    "    \"ci\": \"rgb(255,255,179)\",\n",
    "    \"fix\": \"rgb(251,128,114)\",\n",
    "    \"chore\": \"rgb(190,186,218)\",\n",
    "    \"build\": \"rgb(128,177,211)\",\n",
    "    \"docs\": \"rgb(253,180,98)\",\n",
    "    \"test\": \"rgb(179,222,105)\",\n",
    "    \"refactor\": \"rgb(252,205,229)\",\n",
    "    \"unknown\": \"rgb(188,128,189)\",\n",
    "}\n",
    "figure = px.bar(df, x=\"file\", y=\"count\", color=\"reason\",\n",
    "                color_discrete_map=color_choices)\n",
    "figure.show()"
   ]
  },
  {
   "cell_type": "code",
   "outputs": [
    {
     "data": {
      "application/vnd.plotly.v1+json": {
       "data": [
        {
         "alignmentgroup": "True",
         "hovertemplate": "<b>%{hovertext}</b><br><br>reason=%{x}<br>count=%{y}<extra></extra>",
         "hovertext": [
          "internal/client/github.go",
          ".github/workflows/codeql.yml",
          ".github/workflows/build.yml",
          ".github/workflows/nightly-oss.yml",
          ".github/workflows/release.yml",
          "Dockerfile",
          ".goreleaser.yaml",
          "flake.lock",
          "www/docs/static/latest",
          "www/docs/static/latest-pro",
          "www/docs/static/releases-pro.json",
          "www/docs/static/releases.json",
          "www/docs/static/schema.json",
          ".github/workflows/lint.yml",
          ".github/workflows/generate.yml",
          ".github/workflows/docs.yml",
          "flake.nix",
          "internal/client/gitlab.go",
          "www/docs/static/schema-pro.json"
         ],
         "legendgroup": "chore",
         "marker": {
          "color": "rgb(190,186,218)",
          "pattern": {
           "shape": ""
          }
         },
         "name": "chore",
         "offsetgroup": "chore",
         "orientation": "v",
         "showlegend": true,
         "textposition": "auto",
         "x": [
          "chore",
          "chore",
          "chore",
          "chore",
          "chore",
          "chore",
          "chore",
          "chore",
          "chore",
          "chore",
          "chore",
          "chore",
          "chore",
          "chore",
          "chore",
          "chore",
          "chore",
          "chore",
          "chore"
         ],
         "xaxis": "x",
         "y": [
          4,
          25,
          58,
          51,
          56,
          20,
          1,
          12,
          13,
          13,
          13,
          13,
          6,
          18,
          14,
          11,
          4,
          1,
          4
         ],
         "yaxis": "y",
         "type": "bar"
        },
        {
         "alignmentgroup": "True",
         "hovertemplate": "<b>%{hovertext}</b><br><br>reason=%{x}<br>count=%{y}<extra></extra>",
         "hovertext": [
          "internal/pipe/nfpm/nfpm.go",
          "internal/pipe/nfpm/nfpm_test.go",
          "pkg/config/config.go",
          "www/docs/customization/builds.md",
          "www/docs/deprecations.md",
          "www/mkdocs.yml",
          ".goreleaser.yaml",
          "www/docs/customization/nfpm.md",
          "www/docs/customization/blob.md",
          "internal/client/github.go",
          "internal/client/gitlab.go",
          ".github/workflows/release.yml",
          "USERS.md",
          "www/docs/cmd/goreleaser_release.md",
          "www/docs/static/schema-pro.json",
          "www/docs/install.md",
          "www/docs/static/schema.json",
          "Dockerfile",
          ".github/workflows/generate.yml"
         ],
         "legendgroup": "feat",
         "marker": {
          "color": "rgb(141,211,199)",
          "pattern": {
           "shape": ""
          }
         },
         "name": "feat",
         "offsetgroup": "feat",
         "orientation": "v",
         "showlegend": true,
         "textposition": "auto",
         "x": [
          "feat",
          "feat",
          "feat",
          "feat",
          "feat",
          "feat",
          "feat",
          "feat",
          "feat",
          "feat",
          "feat",
          "feat",
          "feat",
          "feat",
          "feat",
          "feat",
          "feat",
          "feat",
          "feat"
         ],
         "xaxis": "x",
         "y": [
          9,
          8,
          28,
          3,
          7,
          3,
          4,
          5,
          7,
          8,
          5,
          1,
          1,
          1,
          1,
          1,
          2,
          8,
          1
         ],
         "yaxis": "y",
         "type": "bar"
        },
        {
         "alignmentgroup": "True",
         "hovertemplate": "<b>%{hovertext}</b><br><br>reason=%{x}<br>count=%{y}<extra></extra>",
         "hovertext": [
          ".goreleaser.yaml",
          "www/docs/install.md",
          "internal/client/gitlab.go",
          ".github/workflows/build.yml",
          ".github/workflows/lint.yml",
          ".github/workflows/nightly-oss.yml",
          ".github/workflows/release.yml",
          "Dockerfile",
          "www/docs/customization/blob.md",
          "pkg/config/config.go",
          ".github/workflows/codeql.yml",
          ".github/workflows/docs.yml",
          ".github/workflows/generate.yml",
          "USERS.md",
          "flake.lock",
          "flake.nix",
          "internal/pipe/nfpm/nfpm.go",
          "internal/pipe/nfpm/nfpm_test.go",
          "www/docs/deprecations.md",
          "www/docs/static/schema-pro.json",
          "www/docs/static/schema.json"
         ],
         "legendgroup": "unknown",
         "marker": {
          "color": "rgb(188,128,189)",
          "pattern": {
           "shape": ""
          }
         },
         "name": "unknown",
         "offsetgroup": "unknown",
         "orientation": "v",
         "showlegend": true,
         "textposition": "auto",
         "x": [
          "unknown",
          "unknown",
          "unknown",
          "unknown",
          "unknown",
          "unknown",
          "unknown",
          "unknown",
          "unknown",
          "unknown",
          "unknown",
          "unknown",
          "unknown",
          "unknown",
          "unknown",
          "unknown",
          "unknown",
          "unknown",
          "unknown",
          "unknown",
          "unknown"
         ],
         "xaxis": "x",
         "y": [
          2,
          1,
          1,
          3,
          2,
          2,
          4,
          2,
          1,
          2,
          1,
          1,
          2,
          2,
          1,
          1,
          1,
          1,
          1,
          1,
          1
         ],
         "yaxis": "y",
         "type": "bar"
        },
        {
         "alignmentgroup": "True",
         "hovertemplate": "<b>%{hovertext}</b><br><br>reason=%{x}<br>count=%{y}<extra></extra>",
         "hovertext": [
          "www/docs/install.md",
          ".goreleaser.yaml",
          ".github/workflows/lint.yml",
          "flake.nix",
          ".github/workflows/nightly-oss.yml",
          ".github/workflows/build.yml",
          ".github/workflows/release.yml",
          ".github/workflows/generate.yml",
          "flake.lock",
          ".github/workflows/docs.yml",
          "www/docs/static/schema-pro.json",
          "www/docs/static/schema.json"
         ],
         "legendgroup": "build",
         "marker": {
          "color": "rgb(128,177,211)",
          "pattern": {
           "shape": ""
          }
         },
         "name": "build",
         "offsetgroup": "build",
         "orientation": "v",
         "showlegend": true,
         "textposition": "auto",
         "x": [
          "build",
          "build",
          "build",
          "build",
          "build",
          "build",
          "build",
          "build",
          "build",
          "build",
          "build",
          "build"
         ],
         "xaxis": "x",
         "y": [
          1,
          7,
          3,
          6,
          2,
          2,
          2,
          5,
          4,
          1,
          2,
          1
         ],
         "yaxis": "y",
         "type": "bar"
        },
        {
         "alignmentgroup": "True",
         "hovertemplate": "<b>%{hovertext}</b><br><br>reason=%{x}<br>count=%{y}<extra></extra>",
         "hovertext": [
          ".github/workflows/build.yml",
          ".github/workflows/nightly-oss.yml",
          ".github/workflows/generate.yml",
          ".github/workflows/release.yml",
          ".goreleaser.yaml",
          "www/docs/static/releases-pro.json"
         ],
         "legendgroup": "ci",
         "marker": {
          "color": "rgb(255,255,179)",
          "pattern": {
           "shape": ""
          }
         },
         "name": "ci",
         "offsetgroup": "ci",
         "orientation": "v",
         "showlegend": true,
         "textposition": "auto",
         "x": [
          "ci",
          "ci",
          "ci",
          "ci",
          "ci",
          "ci"
         ],
         "xaxis": "x",
         "y": [
          1,
          1,
          1,
          1,
          2,
          1
         ],
         "yaxis": "y",
         "type": "bar"
        },
        {
         "alignmentgroup": "True",
         "hovertemplate": "<b>%{hovertext}</b><br><br>reason=%{x}<br>count=%{y}<extra></extra>",
         "hovertext": [
          "USERS.md",
          "www/docs/customization/nfpm.md",
          "www/mkdocs.yml",
          "www/docs/deprecations.md",
          "www/docs/static/schema-pro.json",
          "www/docs/install.md",
          "www/docs/cmd/goreleaser_release.md",
          "www/docs/customization/blob.md",
          "www/docs/customization/builds.md",
          "www/docs/static/schema.json",
          "pkg/config/config.go",
          "internal/client/github.go",
          "www/docs/static/releases.json",
          "internal/pipe/nfpm/nfpm_test.go"
         ],
         "legendgroup": "docs",
         "marker": {
          "color": "rgb(253,180,98)",
          "pattern": {
           "shape": ""
          }
         },
         "name": "docs",
         "offsetgroup": "docs",
         "orientation": "v",
         "showlegend": true,
         "textposition": "auto",
         "x": [
          "docs",
          "docs",
          "docs",
          "docs",
          "docs",
          "docs",
          "docs",
          "docs",
          "docs",
          "docs",
          "docs",
          "docs",
          "docs",
          "docs"
         ],
         "xaxis": "x",
         "y": [
          11,
          9,
          17,
          7,
          15,
          10,
          14,
          7,
          9,
          2,
          1,
          1,
          1,
          1
         ],
         "yaxis": "y",
         "type": "bar"
        },
        {
         "alignmentgroup": "True",
         "hovertemplate": "<b>%{hovertext}</b><br><br>reason=%{x}<br>count=%{y}<extra></extra>",
         "hovertext": [
          "internal/client/gitlab.go",
          "flake.nix",
          "pkg/config/config.go",
          "www/docs/static/schema.json",
          "internal/client/github.go",
          ".github/workflows/build.yml",
          ".github/workflows/release.yml",
          ".goreleaser.yaml",
          "internal/pipe/nfpm/nfpm.go",
          "internal/pipe/nfpm/nfpm_test.go",
          "www/docs/customization/nfpm.md",
          "www/docs/customization/builds.md",
          ".github/workflows/generate.yml",
          "Dockerfile",
          "www/docs/install.md"
         ],
         "legendgroup": "fix",
         "marker": {
          "color": "rgb(251,128,114)",
          "pattern": {
           "shape": ""
          }
         },
         "name": "fix",
         "offsetgroup": "fix",
         "orientation": "v",
         "showlegend": true,
         "textposition": "auto",
         "x": [
          "fix",
          "fix",
          "fix",
          "fix",
          "fix",
          "fix",
          "fix",
          "fix",
          "fix",
          "fix",
          "fix",
          "fix",
          "fix",
          "fix",
          "fix"
         ],
         "xaxis": "x",
         "y": [
          6,
          2,
          16,
          5,
          8,
          1,
          1,
          1,
          3,
          2,
          1,
          1,
          1,
          1,
          1
         ],
         "yaxis": "y",
         "type": "bar"
        },
        {
         "alignmentgroup": "True",
         "hovertemplate": "<b>%{hovertext}</b><br><br>reason=%{x}<br>count=%{y}<extra></extra>",
         "hovertext": [
          "internal/pipe/nfpm/nfpm_test.go"
         ],
         "legendgroup": "test",
         "marker": {
          "color": "rgb(179,222,105)",
          "pattern": {
           "shape": ""
          }
         },
         "name": "test",
         "offsetgroup": "test",
         "orientation": "v",
         "showlegend": true,
         "textposition": "auto",
         "x": [
          "test"
         ],
         "xaxis": "x",
         "y": [
          2
         ],
         "yaxis": "y",
         "type": "bar"
        },
        {
         "alignmentgroup": "True",
         "hovertemplate": "<b>%{hovertext}</b><br><br>reason=%{x}<br>count=%{y}<extra></extra>",
         "hovertext": [
          ".github/workflows/lint.yml",
          "internal/pipe/nfpm/nfpm.go",
          "pkg/config/config.go",
          "internal/client/github.go"
         ],
         "legendgroup": "refactor",
         "marker": {
          "color": "rgb(252,205,229)",
          "pattern": {
           "shape": ""
          }
         },
         "name": "refactor",
         "offsetgroup": "refactor",
         "orientation": "v",
         "showlegend": true,
         "textposition": "auto",
         "x": [
          "refactor",
          "refactor",
          "refactor",
          "refactor"
         ],
         "xaxis": "x",
         "y": [
          1,
          2,
          1,
          1
         ],
         "yaxis": "y",
         "type": "bar"
        }
       ],
       "layout": {
        "template": {
         "data": {
          "histogram2dcontour": [
           {
            "type": "histogram2dcontour",
            "colorbar": {
             "outlinewidth": 0,
             "ticks": ""
            },
            "colorscale": [
             [
              0.0,
              "#0d0887"
             ],
             [
              0.1111111111111111,
              "#46039f"
             ],
             [
              0.2222222222222222,
              "#7201a8"
             ],
             [
              0.3333333333333333,
              "#9c179e"
             ],
             [
              0.4444444444444444,
              "#bd3786"
             ],
             [
              0.5555555555555556,
              "#d8576b"
             ],
             [
              0.6666666666666666,
              "#ed7953"
             ],
             [
              0.7777777777777778,
              "#fb9f3a"
             ],
             [
              0.8888888888888888,
              "#fdca26"
             ],
             [
              1.0,
              "#f0f921"
             ]
            ]
           }
          ],
          "choropleth": [
           {
            "type": "choropleth",
            "colorbar": {
             "outlinewidth": 0,
             "ticks": ""
            }
           }
          ],
          "histogram2d": [
           {
            "type": "histogram2d",
            "colorbar": {
             "outlinewidth": 0,
             "ticks": ""
            },
            "colorscale": [
             [
              0.0,
              "#0d0887"
             ],
             [
              0.1111111111111111,
              "#46039f"
             ],
             [
              0.2222222222222222,
              "#7201a8"
             ],
             [
              0.3333333333333333,
              "#9c179e"
             ],
             [
              0.4444444444444444,
              "#bd3786"
             ],
             [
              0.5555555555555556,
              "#d8576b"
             ],
             [
              0.6666666666666666,
              "#ed7953"
             ],
             [
              0.7777777777777778,
              "#fb9f3a"
             ],
             [
              0.8888888888888888,
              "#fdca26"
             ],
             [
              1.0,
              "#f0f921"
             ]
            ]
           }
          ],
          "heatmap": [
           {
            "type": "heatmap",
            "colorbar": {
             "outlinewidth": 0,
             "ticks": ""
            },
            "colorscale": [
             [
              0.0,
              "#0d0887"
             ],
             [
              0.1111111111111111,
              "#46039f"
             ],
             [
              0.2222222222222222,
              "#7201a8"
             ],
             [
              0.3333333333333333,
              "#9c179e"
             ],
             [
              0.4444444444444444,
              "#bd3786"
             ],
             [
              0.5555555555555556,
              "#d8576b"
             ],
             [
              0.6666666666666666,
              "#ed7953"
             ],
             [
              0.7777777777777778,
              "#fb9f3a"
             ],
             [
              0.8888888888888888,
              "#fdca26"
             ],
             [
              1.0,
              "#f0f921"
             ]
            ]
           }
          ],
          "heatmapgl": [
           {
            "type": "heatmapgl",
            "colorbar": {
             "outlinewidth": 0,
             "ticks": ""
            },
            "colorscale": [
             [
              0.0,
              "#0d0887"
             ],
             [
              0.1111111111111111,
              "#46039f"
             ],
             [
              0.2222222222222222,
              "#7201a8"
             ],
             [
              0.3333333333333333,
              "#9c179e"
             ],
             [
              0.4444444444444444,
              "#bd3786"
             ],
             [
              0.5555555555555556,
              "#d8576b"
             ],
             [
              0.6666666666666666,
              "#ed7953"
             ],
             [
              0.7777777777777778,
              "#fb9f3a"
             ],
             [
              0.8888888888888888,
              "#fdca26"
             ],
             [
              1.0,
              "#f0f921"
             ]
            ]
           }
          ],
          "contourcarpet": [
           {
            "type": "contourcarpet",
            "colorbar": {
             "outlinewidth": 0,
             "ticks": ""
            }
           }
          ],
          "contour": [
           {
            "type": "contour",
            "colorbar": {
             "outlinewidth": 0,
             "ticks": ""
            },
            "colorscale": [
             [
              0.0,
              "#0d0887"
             ],
             [
              0.1111111111111111,
              "#46039f"
             ],
             [
              0.2222222222222222,
              "#7201a8"
             ],
             [
              0.3333333333333333,
              "#9c179e"
             ],
             [
              0.4444444444444444,
              "#bd3786"
             ],
             [
              0.5555555555555556,
              "#d8576b"
             ],
             [
              0.6666666666666666,
              "#ed7953"
             ],
             [
              0.7777777777777778,
              "#fb9f3a"
             ],
             [
              0.8888888888888888,
              "#fdca26"
             ],
             [
              1.0,
              "#f0f921"
             ]
            ]
           }
          ],
          "surface": [
           {
            "type": "surface",
            "colorbar": {
             "outlinewidth": 0,
             "ticks": ""
            },
            "colorscale": [
             [
              0.0,
              "#0d0887"
             ],
             [
              0.1111111111111111,
              "#46039f"
             ],
             [
              0.2222222222222222,
              "#7201a8"
             ],
             [
              0.3333333333333333,
              "#9c179e"
             ],
             [
              0.4444444444444444,
              "#bd3786"
             ],
             [
              0.5555555555555556,
              "#d8576b"
             ],
             [
              0.6666666666666666,
              "#ed7953"
             ],
             [
              0.7777777777777778,
              "#fb9f3a"
             ],
             [
              0.8888888888888888,
              "#fdca26"
             ],
             [
              1.0,
              "#f0f921"
             ]
            ]
           }
          ],
          "mesh3d": [
           {
            "type": "mesh3d",
            "colorbar": {
             "outlinewidth": 0,
             "ticks": ""
            }
           }
          ],
          "scatter": [
           {
            "fillpattern": {
             "fillmode": "overlay",
             "size": 10,
             "solidity": 0.2
            },
            "type": "scatter"
           }
          ],
          "parcoords": [
           {
            "type": "parcoords",
            "line": {
             "colorbar": {
              "outlinewidth": 0,
              "ticks": ""
             }
            }
           }
          ],
          "scatterpolargl": [
           {
            "type": "scatterpolargl",
            "marker": {
             "colorbar": {
              "outlinewidth": 0,
              "ticks": ""
             }
            }
           }
          ],
          "bar": [
           {
            "error_x": {
             "color": "#2a3f5f"
            },
            "error_y": {
             "color": "#2a3f5f"
            },
            "marker": {
             "line": {
              "color": "#E5ECF6",
              "width": 0.5
             },
             "pattern": {
              "fillmode": "overlay",
              "size": 10,
              "solidity": 0.2
             }
            },
            "type": "bar"
           }
          ],
          "scattergeo": [
           {
            "type": "scattergeo",
            "marker": {
             "colorbar": {
              "outlinewidth": 0,
              "ticks": ""
             }
            }
           }
          ],
          "scatterpolar": [
           {
            "type": "scatterpolar",
            "marker": {
             "colorbar": {
              "outlinewidth": 0,
              "ticks": ""
             }
            }
           }
          ],
          "histogram": [
           {
            "marker": {
             "pattern": {
              "fillmode": "overlay",
              "size": 10,
              "solidity": 0.2
             }
            },
            "type": "histogram"
           }
          ],
          "scattergl": [
           {
            "type": "scattergl",
            "marker": {
             "colorbar": {
              "outlinewidth": 0,
              "ticks": ""
             }
            }
           }
          ],
          "scatter3d": [
           {
            "type": "scatter3d",
            "line": {
             "colorbar": {
              "outlinewidth": 0,
              "ticks": ""
             }
            },
            "marker": {
             "colorbar": {
              "outlinewidth": 0,
              "ticks": ""
             }
            }
           }
          ],
          "scattermapbox": [
           {
            "type": "scattermapbox",
            "marker": {
             "colorbar": {
              "outlinewidth": 0,
              "ticks": ""
             }
            }
           }
          ],
          "scatterternary": [
           {
            "type": "scatterternary",
            "marker": {
             "colorbar": {
              "outlinewidth": 0,
              "ticks": ""
             }
            }
           }
          ],
          "scattercarpet": [
           {
            "type": "scattercarpet",
            "marker": {
             "colorbar": {
              "outlinewidth": 0,
              "ticks": ""
             }
            }
           }
          ],
          "carpet": [
           {
            "aaxis": {
             "endlinecolor": "#2a3f5f",
             "gridcolor": "white",
             "linecolor": "white",
             "minorgridcolor": "white",
             "startlinecolor": "#2a3f5f"
            },
            "baxis": {
             "endlinecolor": "#2a3f5f",
             "gridcolor": "white",
             "linecolor": "white",
             "minorgridcolor": "white",
             "startlinecolor": "#2a3f5f"
            },
            "type": "carpet"
           }
          ],
          "table": [
           {
            "cells": {
             "fill": {
              "color": "#EBF0F8"
             },
             "line": {
              "color": "white"
             }
            },
            "header": {
             "fill": {
              "color": "#C8D4E3"
             },
             "line": {
              "color": "white"
             }
            },
            "type": "table"
           }
          ],
          "barpolar": [
           {
            "marker": {
             "line": {
              "color": "#E5ECF6",
              "width": 0.5
             },
             "pattern": {
              "fillmode": "overlay",
              "size": 10,
              "solidity": 0.2
             }
            },
            "type": "barpolar"
           }
          ],
          "pie": [
           {
            "automargin": true,
            "type": "pie"
           }
          ]
         },
         "layout": {
          "autotypenumbers": "strict",
          "colorway": [
           "#636efa",
           "#EF553B",
           "#00cc96",
           "#ab63fa",
           "#FFA15A",
           "#19d3f3",
           "#FF6692",
           "#B6E880",
           "#FF97FF",
           "#FECB52"
          ],
          "font": {
           "color": "#2a3f5f"
          },
          "hovermode": "closest",
          "hoverlabel": {
           "align": "left"
          },
          "paper_bgcolor": "white",
          "plot_bgcolor": "#E5ECF6",
          "polar": {
           "bgcolor": "#E5ECF6",
           "angularaxis": {
            "gridcolor": "white",
            "linecolor": "white",
            "ticks": ""
           },
           "radialaxis": {
            "gridcolor": "white",
            "linecolor": "white",
            "ticks": ""
           }
          },
          "ternary": {
           "bgcolor": "#E5ECF6",
           "aaxis": {
            "gridcolor": "white",
            "linecolor": "white",
            "ticks": ""
           },
           "baxis": {
            "gridcolor": "white",
            "linecolor": "white",
            "ticks": ""
           },
           "caxis": {
            "gridcolor": "white",
            "linecolor": "white",
            "ticks": ""
           }
          },
          "coloraxis": {
           "colorbar": {
            "outlinewidth": 0,
            "ticks": ""
           }
          },
          "colorscale": {
           "sequential": [
            [
             0.0,
             "#0d0887"
            ],
            [
             0.1111111111111111,
             "#46039f"
            ],
            [
             0.2222222222222222,
             "#7201a8"
            ],
            [
             0.3333333333333333,
             "#9c179e"
            ],
            [
             0.4444444444444444,
             "#bd3786"
            ],
            [
             0.5555555555555556,
             "#d8576b"
            ],
            [
             0.6666666666666666,
             "#ed7953"
            ],
            [
             0.7777777777777778,
             "#fb9f3a"
            ],
            [
             0.8888888888888888,
             "#fdca26"
            ],
            [
             1.0,
             "#f0f921"
            ]
           ],
           "sequentialminus": [
            [
             0.0,
             "#0d0887"
            ],
            [
             0.1111111111111111,
             "#46039f"
            ],
            [
             0.2222222222222222,
             "#7201a8"
            ],
            [
             0.3333333333333333,
             "#9c179e"
            ],
            [
             0.4444444444444444,
             "#bd3786"
            ],
            [
             0.5555555555555556,
             "#d8576b"
            ],
            [
             0.6666666666666666,
             "#ed7953"
            ],
            [
             0.7777777777777778,
             "#fb9f3a"
            ],
            [
             0.8888888888888888,
             "#fdca26"
            ],
            [
             1.0,
             "#f0f921"
            ]
           ],
           "diverging": [
            [
             0,
             "#8e0152"
            ],
            [
             0.1,
             "#c51b7d"
            ],
            [
             0.2,
             "#de77ae"
            ],
            [
             0.3,
             "#f1b6da"
            ],
            [
             0.4,
             "#fde0ef"
            ],
            [
             0.5,
             "#f7f7f7"
            ],
            [
             0.6,
             "#e6f5d0"
            ],
            [
             0.7,
             "#b8e186"
            ],
            [
             0.8,
             "#7fbc41"
            ],
            [
             0.9,
             "#4d9221"
            ],
            [
             1,
             "#276419"
            ]
           ]
          },
          "xaxis": {
           "gridcolor": "white",
           "linecolor": "white",
           "ticks": "",
           "title": {
            "standoff": 15
           },
           "zerolinecolor": "white",
           "automargin": true,
           "zerolinewidth": 2
          },
          "yaxis": {
           "gridcolor": "white",
           "linecolor": "white",
           "ticks": "",
           "title": {
            "standoff": 15
           },
           "zerolinecolor": "white",
           "automargin": true,
           "zerolinewidth": 2
          },
          "scene": {
           "xaxis": {
            "backgroundcolor": "#E5ECF6",
            "gridcolor": "white",
            "linecolor": "white",
            "showbackground": true,
            "ticks": "",
            "zerolinecolor": "white",
            "gridwidth": 2
           },
           "yaxis": {
            "backgroundcolor": "#E5ECF6",
            "gridcolor": "white",
            "linecolor": "white",
            "showbackground": true,
            "ticks": "",
            "zerolinecolor": "white",
            "gridwidth": 2
           },
           "zaxis": {
            "backgroundcolor": "#E5ECF6",
            "gridcolor": "white",
            "linecolor": "white",
            "showbackground": true,
            "ticks": "",
            "zerolinecolor": "white",
            "gridwidth": 2
           }
          },
          "shapedefaults": {
           "line": {
            "color": "#2a3f5f"
           }
          },
          "annotationdefaults": {
           "arrowcolor": "#2a3f5f",
           "arrowhead": 0,
           "arrowwidth": 1
          },
          "geo": {
           "bgcolor": "white",
           "landcolor": "#E5ECF6",
           "subunitcolor": "white",
           "showland": true,
           "showlakes": true,
           "lakecolor": "white"
          },
          "title": {
           "x": 0.05
          },
          "mapbox": {
           "style": "light"
          }
         }
        },
        "xaxis": {
         "anchor": "y",
         "domain": [
          0.0,
          1.0
         ],
         "title": {
          "text": "reason"
         },
         "categoryorder": "array",
         "categoryarray": [
          "chore",
          "feat",
          "unknown",
          "build",
          "ci",
          "docs",
          "fix",
          "test",
          "refactor"
         ]
        },
        "yaxis": {
         "anchor": "x",
         "domain": [
          0.0,
          1.0
         ],
         "title": {
          "text": "count"
         }
        },
        "legend": {
         "title": {
          "text": "reason"
         },
         "tracegroupgap": 0
        },
        "margin": {
         "t": 60
        },
        "barmode": "relative",
        "height": 1000
       },
       "config": {
        "plotlyServerURL": "https://plot.ly"
       }
      },
      "text/html": "<div>                            <div id=\"831a60f0-9bee-4fe0-a28c-ceb68700ff09\" class=\"plotly-graph-div\" style=\"height:1000px; width:100%;\"></div>            <script type=\"text/javascript\">                require([\"plotly\"], function(Plotly) {                    window.PLOTLYENV=window.PLOTLYENV || {};                                    if (document.getElementById(\"831a60f0-9bee-4fe0-a28c-ceb68700ff09\")) {                    Plotly.newPlot(                        \"831a60f0-9bee-4fe0-a28c-ceb68700ff09\",                        [{\"alignmentgroup\":\"True\",\"hovertemplate\":\"\\u003cb\\u003e%{hovertext}\\u003c\\u002fb\\u003e\\u003cbr\\u003e\\u003cbr\\u003ereason=%{x}\\u003cbr\\u003ecount=%{y}\\u003cextra\\u003e\\u003c\\u002fextra\\u003e\",\"hovertext\":[\"internal\\u002fclient\\u002fgithub.go\",\".github\\u002fworkflows\\u002fcodeql.yml\",\".github\\u002fworkflows\\u002fbuild.yml\",\".github\\u002fworkflows\\u002fnightly-oss.yml\",\".github\\u002fworkflows\\u002frelease.yml\",\"Dockerfile\",\".goreleaser.yaml\",\"flake.lock\",\"www\\u002fdocs\\u002fstatic\\u002flatest\",\"www\\u002fdocs\\u002fstatic\\u002flatest-pro\",\"www\\u002fdocs\\u002fstatic\\u002freleases-pro.json\",\"www\\u002fdocs\\u002fstatic\\u002freleases.json\",\"www\\u002fdocs\\u002fstatic\\u002fschema.json\",\".github\\u002fworkflows\\u002flint.yml\",\".github\\u002fworkflows\\u002fgenerate.yml\",\".github\\u002fworkflows\\u002fdocs.yml\",\"flake.nix\",\"internal\\u002fclient\\u002fgitlab.go\",\"www\\u002fdocs\\u002fstatic\\u002fschema-pro.json\"],\"legendgroup\":\"chore\",\"marker\":{\"color\":\"rgb(190,186,218)\",\"pattern\":{\"shape\":\"\"}},\"name\":\"chore\",\"offsetgroup\":\"chore\",\"orientation\":\"v\",\"showlegend\":true,\"textposition\":\"auto\",\"x\":[\"chore\",\"chore\",\"chore\",\"chore\",\"chore\",\"chore\",\"chore\",\"chore\",\"chore\",\"chore\",\"chore\",\"chore\",\"chore\",\"chore\",\"chore\",\"chore\",\"chore\",\"chore\",\"chore\"],\"xaxis\":\"x\",\"y\":[4,25,58,51,56,20,1,12,13,13,13,13,6,18,14,11,4,1,4],\"yaxis\":\"y\",\"type\":\"bar\"},{\"alignmentgroup\":\"True\",\"hovertemplate\":\"\\u003cb\\u003e%{hovertext}\\u003c\\u002fb\\u003e\\u003cbr\\u003e\\u003cbr\\u003ereason=%{x}\\u003cbr\\u003ecount=%{y}\\u003cextra\\u003e\\u003c\\u002fextra\\u003e\",\"hovertext\":[\"internal\\u002fpipe\\u002fnfpm\\u002fnfpm.go\",\"internal\\u002fpipe\\u002fnfpm\\u002fnfpm_test.go\",\"pkg\\u002fconfig\\u002fconfig.go\",\"www\\u002fdocs\\u002fcustomization\\u002fbuilds.md\",\"www\\u002fdocs\\u002fdeprecations.md\",\"www\\u002fmkdocs.yml\",\".goreleaser.yaml\",\"www\\u002fdocs\\u002fcustomization\\u002fnfpm.md\",\"www\\u002fdocs\\u002fcustomization\\u002fblob.md\",\"internal\\u002fclient\\u002fgithub.go\",\"internal\\u002fclient\\u002fgitlab.go\",\".github\\u002fworkflows\\u002frelease.yml\",\"USERS.md\",\"www\\u002fdocs\\u002fcmd\\u002fgoreleaser_release.md\",\"www\\u002fdocs\\u002fstatic\\u002fschema-pro.json\",\"www\\u002fdocs\\u002finstall.md\",\"www\\u002fdocs\\u002fstatic\\u002fschema.json\",\"Dockerfile\",\".github\\u002fworkflows\\u002fgenerate.yml\"],\"legendgroup\":\"feat\",\"marker\":{\"color\":\"rgb(141,211,199)\",\"pattern\":{\"shape\":\"\"}},\"name\":\"feat\",\"offsetgroup\":\"feat\",\"orientation\":\"v\",\"showlegend\":true,\"textposition\":\"auto\",\"x\":[\"feat\",\"feat\",\"feat\",\"feat\",\"feat\",\"feat\",\"feat\",\"feat\",\"feat\",\"feat\",\"feat\",\"feat\",\"feat\",\"feat\",\"feat\",\"feat\",\"feat\",\"feat\",\"feat\"],\"xaxis\":\"x\",\"y\":[9,8,28,3,7,3,4,5,7,8,5,1,1,1,1,1,2,8,1],\"yaxis\":\"y\",\"type\":\"bar\"},{\"alignmentgroup\":\"True\",\"hovertemplate\":\"\\u003cb\\u003e%{hovertext}\\u003c\\u002fb\\u003e\\u003cbr\\u003e\\u003cbr\\u003ereason=%{x}\\u003cbr\\u003ecount=%{y}\\u003cextra\\u003e\\u003c\\u002fextra\\u003e\",\"hovertext\":[\".goreleaser.yaml\",\"www\\u002fdocs\\u002finstall.md\",\"internal\\u002fclient\\u002fgitlab.go\",\".github\\u002fworkflows\\u002fbuild.yml\",\".github\\u002fworkflows\\u002flint.yml\",\".github\\u002fworkflows\\u002fnightly-oss.yml\",\".github\\u002fworkflows\\u002frelease.yml\",\"Dockerfile\",\"www\\u002fdocs\\u002fcustomization\\u002fblob.md\",\"pkg\\u002fconfig\\u002fconfig.go\",\".github\\u002fworkflows\\u002fcodeql.yml\",\".github\\u002fworkflows\\u002fdocs.yml\",\".github\\u002fworkflows\\u002fgenerate.yml\",\"USERS.md\",\"flake.lock\",\"flake.nix\",\"internal\\u002fpipe\\u002fnfpm\\u002fnfpm.go\",\"internal\\u002fpipe\\u002fnfpm\\u002fnfpm_test.go\",\"www\\u002fdocs\\u002fdeprecations.md\",\"www\\u002fdocs\\u002fstatic\\u002fschema-pro.json\",\"www\\u002fdocs\\u002fstatic\\u002fschema.json\"],\"legendgroup\":\"unknown\",\"marker\":{\"color\":\"rgb(188,128,189)\",\"pattern\":{\"shape\":\"\"}},\"name\":\"unknown\",\"offsetgroup\":\"unknown\",\"orientation\":\"v\",\"showlegend\":true,\"textposition\":\"auto\",\"x\":[\"unknown\",\"unknown\",\"unknown\",\"unknown\",\"unknown\",\"unknown\",\"unknown\",\"unknown\",\"unknown\",\"unknown\",\"unknown\",\"unknown\",\"unknown\",\"unknown\",\"unknown\",\"unknown\",\"unknown\",\"unknown\",\"unknown\",\"unknown\",\"unknown\"],\"xaxis\":\"x\",\"y\":[2,1,1,3,2,2,4,2,1,2,1,1,2,2,1,1,1,1,1,1,1],\"yaxis\":\"y\",\"type\":\"bar\"},{\"alignmentgroup\":\"True\",\"hovertemplate\":\"\\u003cb\\u003e%{hovertext}\\u003c\\u002fb\\u003e\\u003cbr\\u003e\\u003cbr\\u003ereason=%{x}\\u003cbr\\u003ecount=%{y}\\u003cextra\\u003e\\u003c\\u002fextra\\u003e\",\"hovertext\":[\"www\\u002fdocs\\u002finstall.md\",\".goreleaser.yaml\",\".github\\u002fworkflows\\u002flint.yml\",\"flake.nix\",\".github\\u002fworkflows\\u002fnightly-oss.yml\",\".github\\u002fworkflows\\u002fbuild.yml\",\".github\\u002fworkflows\\u002frelease.yml\",\".github\\u002fworkflows\\u002fgenerate.yml\",\"flake.lock\",\".github\\u002fworkflows\\u002fdocs.yml\",\"www\\u002fdocs\\u002fstatic\\u002fschema-pro.json\",\"www\\u002fdocs\\u002fstatic\\u002fschema.json\"],\"legendgroup\":\"build\",\"marker\":{\"color\":\"rgb(128,177,211)\",\"pattern\":{\"shape\":\"\"}},\"name\":\"build\",\"offsetgroup\":\"build\",\"orientation\":\"v\",\"showlegend\":true,\"textposition\":\"auto\",\"x\":[\"build\",\"build\",\"build\",\"build\",\"build\",\"build\",\"build\",\"build\",\"build\",\"build\",\"build\",\"build\"],\"xaxis\":\"x\",\"y\":[1,7,3,6,2,2,2,5,4,1,2,1],\"yaxis\":\"y\",\"type\":\"bar\"},{\"alignmentgroup\":\"True\",\"hovertemplate\":\"\\u003cb\\u003e%{hovertext}\\u003c\\u002fb\\u003e\\u003cbr\\u003e\\u003cbr\\u003ereason=%{x}\\u003cbr\\u003ecount=%{y}\\u003cextra\\u003e\\u003c\\u002fextra\\u003e\",\"hovertext\":[\".github\\u002fworkflows\\u002fbuild.yml\",\".github\\u002fworkflows\\u002fnightly-oss.yml\",\".github\\u002fworkflows\\u002fgenerate.yml\",\".github\\u002fworkflows\\u002frelease.yml\",\".goreleaser.yaml\",\"www\\u002fdocs\\u002fstatic\\u002freleases-pro.json\"],\"legendgroup\":\"ci\",\"marker\":{\"color\":\"rgb(255,255,179)\",\"pattern\":{\"shape\":\"\"}},\"name\":\"ci\",\"offsetgroup\":\"ci\",\"orientation\":\"v\",\"showlegend\":true,\"textposition\":\"auto\",\"x\":[\"ci\",\"ci\",\"ci\",\"ci\",\"ci\",\"ci\"],\"xaxis\":\"x\",\"y\":[1,1,1,1,2,1],\"yaxis\":\"y\",\"type\":\"bar\"},{\"alignmentgroup\":\"True\",\"hovertemplate\":\"\\u003cb\\u003e%{hovertext}\\u003c\\u002fb\\u003e\\u003cbr\\u003e\\u003cbr\\u003ereason=%{x}\\u003cbr\\u003ecount=%{y}\\u003cextra\\u003e\\u003c\\u002fextra\\u003e\",\"hovertext\":[\"USERS.md\",\"www\\u002fdocs\\u002fcustomization\\u002fnfpm.md\",\"www\\u002fmkdocs.yml\",\"www\\u002fdocs\\u002fdeprecations.md\",\"www\\u002fdocs\\u002fstatic\\u002fschema-pro.json\",\"www\\u002fdocs\\u002finstall.md\",\"www\\u002fdocs\\u002fcmd\\u002fgoreleaser_release.md\",\"www\\u002fdocs\\u002fcustomization\\u002fblob.md\",\"www\\u002fdocs\\u002fcustomization\\u002fbuilds.md\",\"www\\u002fdocs\\u002fstatic\\u002fschema.json\",\"pkg\\u002fconfig\\u002fconfig.go\",\"internal\\u002fclient\\u002fgithub.go\",\"www\\u002fdocs\\u002fstatic\\u002freleases.json\",\"internal\\u002fpipe\\u002fnfpm\\u002fnfpm_test.go\"],\"legendgroup\":\"docs\",\"marker\":{\"color\":\"rgb(253,180,98)\",\"pattern\":{\"shape\":\"\"}},\"name\":\"docs\",\"offsetgroup\":\"docs\",\"orientation\":\"v\",\"showlegend\":true,\"textposition\":\"auto\",\"x\":[\"docs\",\"docs\",\"docs\",\"docs\",\"docs\",\"docs\",\"docs\",\"docs\",\"docs\",\"docs\",\"docs\",\"docs\",\"docs\",\"docs\"],\"xaxis\":\"x\",\"y\":[11,9,17,7,15,10,14,7,9,2,1,1,1,1],\"yaxis\":\"y\",\"type\":\"bar\"},{\"alignmentgroup\":\"True\",\"hovertemplate\":\"\\u003cb\\u003e%{hovertext}\\u003c\\u002fb\\u003e\\u003cbr\\u003e\\u003cbr\\u003ereason=%{x}\\u003cbr\\u003ecount=%{y}\\u003cextra\\u003e\\u003c\\u002fextra\\u003e\",\"hovertext\":[\"internal\\u002fclient\\u002fgitlab.go\",\"flake.nix\",\"pkg\\u002fconfig\\u002fconfig.go\",\"www\\u002fdocs\\u002fstatic\\u002fschema.json\",\"internal\\u002fclient\\u002fgithub.go\",\".github\\u002fworkflows\\u002fbuild.yml\",\".github\\u002fworkflows\\u002frelease.yml\",\".goreleaser.yaml\",\"internal\\u002fpipe\\u002fnfpm\\u002fnfpm.go\",\"internal\\u002fpipe\\u002fnfpm\\u002fnfpm_test.go\",\"www\\u002fdocs\\u002fcustomization\\u002fnfpm.md\",\"www\\u002fdocs\\u002fcustomization\\u002fbuilds.md\",\".github\\u002fworkflows\\u002fgenerate.yml\",\"Dockerfile\",\"www\\u002fdocs\\u002finstall.md\"],\"legendgroup\":\"fix\",\"marker\":{\"color\":\"rgb(251,128,114)\",\"pattern\":{\"shape\":\"\"}},\"name\":\"fix\",\"offsetgroup\":\"fix\",\"orientation\":\"v\",\"showlegend\":true,\"textposition\":\"auto\",\"x\":[\"fix\",\"fix\",\"fix\",\"fix\",\"fix\",\"fix\",\"fix\",\"fix\",\"fix\",\"fix\",\"fix\",\"fix\",\"fix\",\"fix\",\"fix\"],\"xaxis\":\"x\",\"y\":[6,2,16,5,8,1,1,1,3,2,1,1,1,1,1],\"yaxis\":\"y\",\"type\":\"bar\"},{\"alignmentgroup\":\"True\",\"hovertemplate\":\"\\u003cb\\u003e%{hovertext}\\u003c\\u002fb\\u003e\\u003cbr\\u003e\\u003cbr\\u003ereason=%{x}\\u003cbr\\u003ecount=%{y}\\u003cextra\\u003e\\u003c\\u002fextra\\u003e\",\"hovertext\":[\"internal\\u002fpipe\\u002fnfpm\\u002fnfpm_test.go\"],\"legendgroup\":\"test\",\"marker\":{\"color\":\"rgb(179,222,105)\",\"pattern\":{\"shape\":\"\"}},\"name\":\"test\",\"offsetgroup\":\"test\",\"orientation\":\"v\",\"showlegend\":true,\"textposition\":\"auto\",\"x\":[\"test\"],\"xaxis\":\"x\",\"y\":[2],\"yaxis\":\"y\",\"type\":\"bar\"},{\"alignmentgroup\":\"True\",\"hovertemplate\":\"\\u003cb\\u003e%{hovertext}\\u003c\\u002fb\\u003e\\u003cbr\\u003e\\u003cbr\\u003ereason=%{x}\\u003cbr\\u003ecount=%{y}\\u003cextra\\u003e\\u003c\\u002fextra\\u003e\",\"hovertext\":[\".github\\u002fworkflows\\u002flint.yml\",\"internal\\u002fpipe\\u002fnfpm\\u002fnfpm.go\",\"pkg\\u002fconfig\\u002fconfig.go\",\"internal\\u002fclient\\u002fgithub.go\"],\"legendgroup\":\"refactor\",\"marker\":{\"color\":\"rgb(252,205,229)\",\"pattern\":{\"shape\":\"\"}},\"name\":\"refactor\",\"offsetgroup\":\"refactor\",\"orientation\":\"v\",\"showlegend\":true,\"textposition\":\"auto\",\"x\":[\"refactor\",\"refactor\",\"refactor\",\"refactor\"],\"xaxis\":\"x\",\"y\":[1,2,1,1],\"yaxis\":\"y\",\"type\":\"bar\"}],                        {\"template\":{\"data\":{\"histogram2dcontour\":[{\"type\":\"histogram2dcontour\",\"colorbar\":{\"outlinewidth\":0,\"ticks\":\"\"},\"colorscale\":[[0.0,\"#0d0887\"],[0.1111111111111111,\"#46039f\"],[0.2222222222222222,\"#7201a8\"],[0.3333333333333333,\"#9c179e\"],[0.4444444444444444,\"#bd3786\"],[0.5555555555555556,\"#d8576b\"],[0.6666666666666666,\"#ed7953\"],[0.7777777777777778,\"#fb9f3a\"],[0.8888888888888888,\"#fdca26\"],[1.0,\"#f0f921\"]]}],\"choropleth\":[{\"type\":\"choropleth\",\"colorbar\":{\"outlinewidth\":0,\"ticks\":\"\"}}],\"histogram2d\":[{\"type\":\"histogram2d\",\"colorbar\":{\"outlinewidth\":0,\"ticks\":\"\"},\"colorscale\":[[0.0,\"#0d0887\"],[0.1111111111111111,\"#46039f\"],[0.2222222222222222,\"#7201a8\"],[0.3333333333333333,\"#9c179e\"],[0.4444444444444444,\"#bd3786\"],[0.5555555555555556,\"#d8576b\"],[0.6666666666666666,\"#ed7953\"],[0.7777777777777778,\"#fb9f3a\"],[0.8888888888888888,\"#fdca26\"],[1.0,\"#f0f921\"]]}],\"heatmap\":[{\"type\":\"heatmap\",\"colorbar\":{\"outlinewidth\":0,\"ticks\":\"\"},\"colorscale\":[[0.0,\"#0d0887\"],[0.1111111111111111,\"#46039f\"],[0.2222222222222222,\"#7201a8\"],[0.3333333333333333,\"#9c179e\"],[0.4444444444444444,\"#bd3786\"],[0.5555555555555556,\"#d8576b\"],[0.6666666666666666,\"#ed7953\"],[0.7777777777777778,\"#fb9f3a\"],[0.8888888888888888,\"#fdca26\"],[1.0,\"#f0f921\"]]}],\"heatmapgl\":[{\"type\":\"heatmapgl\",\"colorbar\":{\"outlinewidth\":0,\"ticks\":\"\"},\"colorscale\":[[0.0,\"#0d0887\"],[0.1111111111111111,\"#46039f\"],[0.2222222222222222,\"#7201a8\"],[0.3333333333333333,\"#9c179e\"],[0.4444444444444444,\"#bd3786\"],[0.5555555555555556,\"#d8576b\"],[0.6666666666666666,\"#ed7953\"],[0.7777777777777778,\"#fb9f3a\"],[0.8888888888888888,\"#fdca26\"],[1.0,\"#f0f921\"]]}],\"contourcarpet\":[{\"type\":\"contourcarpet\",\"colorbar\":{\"outlinewidth\":0,\"ticks\":\"\"}}],\"contour\":[{\"type\":\"contour\",\"colorbar\":{\"outlinewidth\":0,\"ticks\":\"\"},\"colorscale\":[[0.0,\"#0d0887\"],[0.1111111111111111,\"#46039f\"],[0.2222222222222222,\"#7201a8\"],[0.3333333333333333,\"#9c179e\"],[0.4444444444444444,\"#bd3786\"],[0.5555555555555556,\"#d8576b\"],[0.6666666666666666,\"#ed7953\"],[0.7777777777777778,\"#fb9f3a\"],[0.8888888888888888,\"#fdca26\"],[1.0,\"#f0f921\"]]}],\"surface\":[{\"type\":\"surface\",\"colorbar\":{\"outlinewidth\":0,\"ticks\":\"\"},\"colorscale\":[[0.0,\"#0d0887\"],[0.1111111111111111,\"#46039f\"],[0.2222222222222222,\"#7201a8\"],[0.3333333333333333,\"#9c179e\"],[0.4444444444444444,\"#bd3786\"],[0.5555555555555556,\"#d8576b\"],[0.6666666666666666,\"#ed7953\"],[0.7777777777777778,\"#fb9f3a\"],[0.8888888888888888,\"#fdca26\"],[1.0,\"#f0f921\"]]}],\"mesh3d\":[{\"type\":\"mesh3d\",\"colorbar\":{\"outlinewidth\":0,\"ticks\":\"\"}}],\"scatter\":[{\"fillpattern\":{\"fillmode\":\"overlay\",\"size\":10,\"solidity\":0.2},\"type\":\"scatter\"}],\"parcoords\":[{\"type\":\"parcoords\",\"line\":{\"colorbar\":{\"outlinewidth\":0,\"ticks\":\"\"}}}],\"scatterpolargl\":[{\"type\":\"scatterpolargl\",\"marker\":{\"colorbar\":{\"outlinewidth\":0,\"ticks\":\"\"}}}],\"bar\":[{\"error_x\":{\"color\":\"#2a3f5f\"},\"error_y\":{\"color\":\"#2a3f5f\"},\"marker\":{\"line\":{\"color\":\"#E5ECF6\",\"width\":0.5},\"pattern\":{\"fillmode\":\"overlay\",\"size\":10,\"solidity\":0.2}},\"type\":\"bar\"}],\"scattergeo\":[{\"type\":\"scattergeo\",\"marker\":{\"colorbar\":{\"outlinewidth\":0,\"ticks\":\"\"}}}],\"scatterpolar\":[{\"type\":\"scatterpolar\",\"marker\":{\"colorbar\":{\"outlinewidth\":0,\"ticks\":\"\"}}}],\"histogram\":[{\"marker\":{\"pattern\":{\"fillmode\":\"overlay\",\"size\":10,\"solidity\":0.2}},\"type\":\"histogram\"}],\"scattergl\":[{\"type\":\"scattergl\",\"marker\":{\"colorbar\":{\"outlinewidth\":0,\"ticks\":\"\"}}}],\"scatter3d\":[{\"type\":\"scatter3d\",\"line\":{\"colorbar\":{\"outlinewidth\":0,\"ticks\":\"\"}},\"marker\":{\"colorbar\":{\"outlinewidth\":0,\"ticks\":\"\"}}}],\"scattermapbox\":[{\"type\":\"scattermapbox\",\"marker\":{\"colorbar\":{\"outlinewidth\":0,\"ticks\":\"\"}}}],\"scatterternary\":[{\"type\":\"scatterternary\",\"marker\":{\"colorbar\":{\"outlinewidth\":0,\"ticks\":\"\"}}}],\"scattercarpet\":[{\"type\":\"scattercarpet\",\"marker\":{\"colorbar\":{\"outlinewidth\":0,\"ticks\":\"\"}}}],\"carpet\":[{\"aaxis\":{\"endlinecolor\":\"#2a3f5f\",\"gridcolor\":\"white\",\"linecolor\":\"white\",\"minorgridcolor\":\"white\",\"startlinecolor\":\"#2a3f5f\"},\"baxis\":{\"endlinecolor\":\"#2a3f5f\",\"gridcolor\":\"white\",\"linecolor\":\"white\",\"minorgridcolor\":\"white\",\"startlinecolor\":\"#2a3f5f\"},\"type\":\"carpet\"}],\"table\":[{\"cells\":{\"fill\":{\"color\":\"#EBF0F8\"},\"line\":{\"color\":\"white\"}},\"header\":{\"fill\":{\"color\":\"#C8D4E3\"},\"line\":{\"color\":\"white\"}},\"type\":\"table\"}],\"barpolar\":[{\"marker\":{\"line\":{\"color\":\"#E5ECF6\",\"width\":0.5},\"pattern\":{\"fillmode\":\"overlay\",\"size\":10,\"solidity\":0.2}},\"type\":\"barpolar\"}],\"pie\":[{\"automargin\":true,\"type\":\"pie\"}]},\"layout\":{\"autotypenumbers\":\"strict\",\"colorway\":[\"#636efa\",\"#EF553B\",\"#00cc96\",\"#ab63fa\",\"#FFA15A\",\"#19d3f3\",\"#FF6692\",\"#B6E880\",\"#FF97FF\",\"#FECB52\"],\"font\":{\"color\":\"#2a3f5f\"},\"hovermode\":\"closest\",\"hoverlabel\":{\"align\":\"left\"},\"paper_bgcolor\":\"white\",\"plot_bgcolor\":\"#E5ECF6\",\"polar\":{\"bgcolor\":\"#E5ECF6\",\"angularaxis\":{\"gridcolor\":\"white\",\"linecolor\":\"white\",\"ticks\":\"\"},\"radialaxis\":{\"gridcolor\":\"white\",\"linecolor\":\"white\",\"ticks\":\"\"}},\"ternary\":{\"bgcolor\":\"#E5ECF6\",\"aaxis\":{\"gridcolor\":\"white\",\"linecolor\":\"white\",\"ticks\":\"\"},\"baxis\":{\"gridcolor\":\"white\",\"linecolor\":\"white\",\"ticks\":\"\"},\"caxis\":{\"gridcolor\":\"white\",\"linecolor\":\"white\",\"ticks\":\"\"}},\"coloraxis\":{\"colorbar\":{\"outlinewidth\":0,\"ticks\":\"\"}},\"colorscale\":{\"sequential\":[[0.0,\"#0d0887\"],[0.1111111111111111,\"#46039f\"],[0.2222222222222222,\"#7201a8\"],[0.3333333333333333,\"#9c179e\"],[0.4444444444444444,\"#bd3786\"],[0.5555555555555556,\"#d8576b\"],[0.6666666666666666,\"#ed7953\"],[0.7777777777777778,\"#fb9f3a\"],[0.8888888888888888,\"#fdca26\"],[1.0,\"#f0f921\"]],\"sequentialminus\":[[0.0,\"#0d0887\"],[0.1111111111111111,\"#46039f\"],[0.2222222222222222,\"#7201a8\"],[0.3333333333333333,\"#9c179e\"],[0.4444444444444444,\"#bd3786\"],[0.5555555555555556,\"#d8576b\"],[0.6666666666666666,\"#ed7953\"],[0.7777777777777778,\"#fb9f3a\"],[0.8888888888888888,\"#fdca26\"],[1.0,\"#f0f921\"]],\"diverging\":[[0,\"#8e0152\"],[0.1,\"#c51b7d\"],[0.2,\"#de77ae\"],[0.3,\"#f1b6da\"],[0.4,\"#fde0ef\"],[0.5,\"#f7f7f7\"],[0.6,\"#e6f5d0\"],[0.7,\"#b8e186\"],[0.8,\"#7fbc41\"],[0.9,\"#4d9221\"],[1,\"#276419\"]]},\"xaxis\":{\"gridcolor\":\"white\",\"linecolor\":\"white\",\"ticks\":\"\",\"title\":{\"standoff\":15},\"zerolinecolor\":\"white\",\"automargin\":true,\"zerolinewidth\":2},\"yaxis\":{\"gridcolor\":\"white\",\"linecolor\":\"white\",\"ticks\":\"\",\"title\":{\"standoff\":15},\"zerolinecolor\":\"white\",\"automargin\":true,\"zerolinewidth\":2},\"scene\":{\"xaxis\":{\"backgroundcolor\":\"#E5ECF6\",\"gridcolor\":\"white\",\"linecolor\":\"white\",\"showbackground\":true,\"ticks\":\"\",\"zerolinecolor\":\"white\",\"gridwidth\":2},\"yaxis\":{\"backgroundcolor\":\"#E5ECF6\",\"gridcolor\":\"white\",\"linecolor\":\"white\",\"showbackground\":true,\"ticks\":\"\",\"zerolinecolor\":\"white\",\"gridwidth\":2},\"zaxis\":{\"backgroundcolor\":\"#E5ECF6\",\"gridcolor\":\"white\",\"linecolor\":\"white\",\"showbackground\":true,\"ticks\":\"\",\"zerolinecolor\":\"white\",\"gridwidth\":2}},\"shapedefaults\":{\"line\":{\"color\":\"#2a3f5f\"}},\"annotationdefaults\":{\"arrowcolor\":\"#2a3f5f\",\"arrowhead\":0,\"arrowwidth\":1},\"geo\":{\"bgcolor\":\"white\",\"landcolor\":\"#E5ECF6\",\"subunitcolor\":\"white\",\"showland\":true,\"showlakes\":true,\"lakecolor\":\"white\"},\"title\":{\"x\":0.05},\"mapbox\":{\"style\":\"light\"}}},\"xaxis\":{\"anchor\":\"y\",\"domain\":[0.0,1.0],\"title\":{\"text\":\"reason\"},\"categoryorder\":\"array\",\"categoryarray\":[\"chore\",\"feat\",\"unknown\",\"build\",\"ci\",\"docs\",\"fix\",\"test\",\"refactor\"]},\"yaxis\":{\"anchor\":\"x\",\"domain\":[0.0,1.0],\"title\":{\"text\":\"count\"}},\"legend\":{\"title\":{\"text\":\"reason\"},\"tracegroupgap\":0},\"margin\":{\"t\":60},\"barmode\":\"relative\",\"height\":1000},                        {\"responsive\": true}                    ).then(function(){\n                            \nvar gd = document.getElementById('831a60f0-9bee-4fe0-a28c-ceb68700ff09');\nvar x = new MutationObserver(function (mutations, observer) {{\n        var display = window.getComputedStyle(gd).display;\n        if (!display || display === 'none') {{\n            console.log([gd, 'removed!']);\n            Plotly.purge(gd);\n            observer.disconnect();\n        }}\n}});\n\n// Listen for the removal of the full notebook cells\nvar notebookContainer = gd.closest('#notebook-container');\nif (notebookContainer) {{\n    x.observe(notebookContainer, {childList: true});\n}}\n\n// Listen for the clearing of the current output cell\nvar outputEl = gd.closest('.output');\nif (outputEl) {{\n    x.observe(outputEl, {childList: true});\n}}\n\n                        })                };                });            </script>        </div>"
     },
     "metadata": {},
     "output_type": "display_data"
    }
   ],
   "source": [
    "figure = px.bar(df,\n",
    "                x=\"reason\", y=\"count\",\n",
    "                color=\"reason\",\n",
    "                color_discrete_map=color_choices,\n",
    "                hover_name=\"file\",\n",
    "                height=1000\n",
    "                )\n",
    "figure.show()"
   ],
   "metadata": {
    "collapsed": false,
    "ExecuteTime": {
     "end_time": "2024-10-07T15:56:04.526835Z",
     "start_time": "2024-10-07T15:56:04.491040Z"
    }
   },
   "id": "59596c5e0058faf7",
   "execution_count": 15
  }
 ],
 "metadata": {
  "kernelspec": {
   "display_name": "miner-kernel",
   "language": "python",
   "name": "miner-kernel"
  },
  "language_info": {
   "codemirror_mode": {
    "name": "ipython",
    "version": 3
   },
   "file_extension": ".py",
   "mimetype": "text/x-python",
   "name": "python",
   "nbconvert_exporter": "python",
   "pygments_lexer": "ipython3",
   "version": "3.11.9"
  }
 },
 "nbformat": 4,
 "nbformat_minor": 5
}
