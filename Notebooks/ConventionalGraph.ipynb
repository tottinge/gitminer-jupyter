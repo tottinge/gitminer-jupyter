{
 "cells": [
  {
   "cell_type": "code",
   "execution_count": 82,
   "id": "6869fafd-76d9-4603-9125-65be07fd4cb3",
   "metadata": {
    "ExecuteTime": {
     "end_time": "2024-08-13T10:53:21.456793Z",
     "start_time": "2024-08-13T10:53:21.358311Z"
    }
   },
   "outputs": [],
   "source": [
    "import re\n",
    "from collections import Counter\n",
    "\n",
    "import git\n",
    "import pandas as pd\n",
    "import plotly.express as px"
   ]
  },
  {
   "cell_type": "code",
   "execution_count": 83,
   "id": "30d3b19c-ff85-4d96-97c8-208dcb2a7b16",
   "metadata": {
    "ExecuteTime": {
     "end_time": "2024-08-13T10:53:21.464532Z",
     "start_time": "2024-08-13T10:53:21.459136Z"
    }
   },
   "outputs": [],
   "source": [
    "wfx = \"/Users/timottinger/Projects/siemens-wfx\"\n",
    "goreleaser = \"/Users/timottinger/Projects/goreleaser\"\n",
    "repo = git.Repo(goreleaser)\n"
   ]
  },
  {
   "cell_type": "code",
   "execution_count": 84,
   "id": "28bcc83f-be2d-4013-b9d7-94471a3c30f3",
   "metadata": {
    "ExecuteTime": {
     "end_time": "2024-08-13T10:53:21.466538Z",
     "start_time": "2024-08-13T10:53:21.462462Z"
    }
   },
   "outputs": [
    {
     "name": "stdout",
     "output_type": "stream",
     "text": [
      "feat\n",
      "feat\n",
      "doc\n",
      "fix\n"
     ]
    }
   ],
   "source": [
    "\n",
    "pattern = re.compile(r'^(\\w+)[\\!(:]')\n",
    "for text in [\"feat(this):\", \"feat:\", \"doc(readme): blah\", \"fix(that): cozectify the flimble\"]:\n",
    "    print(pattern.search(text).group(1))"
   ]
  },
  {
   "cell_type": "code",
   "outputs": [],
   "source": [
    "exclusions = {\"go.mod\", \"go.sum\", \"Makefile\", \"makefile\"}"
   ],
   "metadata": {
    "collapsed": false,
    "ExecuteTime": {
     "end_time": "2024-08-13T10:53:21.466825Z",
     "start_time": "2024-08-13T10:53:21.464668Z"
    }
   },
   "id": "133af1463af56595",
   "execution_count": 85
  },
  {
   "cell_type": "code",
   "execution_count": 86,
   "id": "42c65157-35fa-4f32-a057-4ebf703587cf",
   "metadata": {
    "ExecuteTime": {
     "end_time": "2024-08-13T10:54:07.370986Z",
     "start_time": "2024-08-13T10:53:21.468074Z"
    }
   },
   "outputs": [
    {
     "data": {
      "text/plain": "Counter({('.github/workflows/dependabot-automation.yml', 'ci'): 1,\n         ('www/docs/ci/actions.md', 'docs'): 39,\n         ('internal/pipe/ko/ko.go', 'feat'): 7,\n         ('internal/pipe/ko/ko_test.go', 'feat'): 8,\n         ('www/docs/customization/ko.md', 'feat'): 6,\n         ('www/docs/deprecations.md', 'feat'): 33,\n         ('.github/workflows/build.yml', 'ci'): 2,\n         ('internal/tmpl/tmpl.go', 'fix'): 12,\n         ('internal/tmpl/tmpl_test.go', 'fix'): 7,\n         ('internal/pipe/ko/ko_test.go', 'test'): 7,\n         ('www/htmltest.yml', 'ci'): 1,\n         ('.github/workflows/build.yml', 'chore'): 200,\n         ('.github/workflows/nightly-oss.yml', 'chore'): 61,\n         ('.github/workflows/release.yml', 'chore'): 130,\n         ('internal/pipe/defaults/defaults.go', 'feat'): 7,\n         ('internal/pipe/defaults/defaults_test.go', 'feat'): 12,\n         ('internal/pipe/dist/dist.go', 'feat'): 5,\n         ('internal/pipe/dist/dist_test.go', 'feat'): 2,\n         ('internal/pipeline/pipeline.go', 'feat'): 35,\n         ('pkg/defaults/defaults.go', 'feat'): 36,\n         ('www/docs/users.md', 'chore'): 19,\n         ('.github/workflows/nightly-oss.yml', 'ci'): 1,\n         ('.github/workflows/codeql.yml', 'chore'): 84,\n         ('Dockerfile', 'chore'): 24,\n         ('.goreleaser.yaml', 'build'): 22,\n         ('USERS.md', 'docs'): 42,\n         ('www/docs/customization/nfpm.md', 'docs'): 35,\n         ('www/mkdocs.yml', 'docs'): 82,\n         ('www/docs/customization/nightlies.md', 'docs'): 10,\n         ('www/docs/deprecations.md', 'docs'): 31,\n         ('www/docs/static/schema-pro.json', 'docs'): 67,\n         ('www/docs/customization/snapshots.md', 'docs'): 15,\n         ('README.md', 'docs'): 31,\n         ('www/docs/sponsors.md', 'docs'): 10,\n         ('www/docs/customization/nix.md', 'docs'): 11,\n         ('www/docs/ci/index.md', 'docs'): 4,\n         ('www/docs/customization/partial.md', 'docs'): 13,\n         ('www/docs/install.md', 'docs'): 45,\n         ('www/docs/customization/binary_sign.md', 'docs'): 2,\n         ('www/docs/customization/sign.md', 'docs'): 22,\n         ('www/docs/customization/docker_sign.md', 'docs'): 16,\n         ('internal/pipe/sign/sign.go', 'feat'): 26,\n         ('internal/pipe/sign/sign_binary.go', 'feat'): 1,\n         ('internal/pipe/sign/sign_binary_test.go', 'feat'): 1,\n         ('pkg/config/config.go', 'feat'): 247,\n         ('pkg/healthcheck/healthcheck.go', 'feat'): 3,\n         ('www/docs/customization/binary_sign.md', 'feat'): 1,\n         ('www/docs/customization/sign.md', 'feat'): 11,\n         ('www/mkdocs.yml', 'feat'): 33,\n         ('.gitignore', 'docs'): 9,\n         ('www/docs/cmd/goreleaser_build.md', 'docs'): 22,\n         ('www/docs/cmd/goreleaser_release.md', 'docs'): 32,\n         ('www/docs/customization/templates.md', 'docs'): 31,\n         ('www/docs/overrides/hooks/__pycache__/shortcodes.cpython-311.pyc',\n          'docs'): 2,\n         ('internal/client/gitlab.go', 'Merge'): 2,\n         ('internal/client/gitlab.go', 'fix'): 14,\n         ('.github/workflows/build.yml', 'Merge'): 4,\n         ('.github/workflows/lint.yml', 'Merge'): 3,\n         ('.github/workflows/nightly-oss.yml', 'Merge'): 2,\n         ('.github/workflows/release.yml', 'Merge'): 5,\n         ('.github/workflows/lint.yml', 'chore'): 50,\n         ('.goreleaser.yaml', 'feat'): 32,\n         ('cmd/testdata/good.yml', 'feat'): 5,\n         ('internal/pipe/snapshot/snapshot.go', 'feat'): 7,\n         ('internal/pipe/snapshot/snapshot_test.go', 'feat'): 6,\n         ('internal/pipe/sourcearchive/source.go', 'fix'): 6,\n         ('flake.nix', 'fix'): 2,\n         ('www/docs/overrides/hooks/__pycache__/shortcodes.cpython-311.pyc',\n          'chore'): 1,\n         ('internal/pipe/ko/ko.go', 'fix'): 4,\n         ('internal/pipe/ko/ko_test.go', 'fix'): 3,\n         ('scripts/pages/build.sh', 'docs'): 5,\n         ('www/docs/cookbooks/private-monorepo-public-release.md', 'docs'): 3,\n         ('www/docs/customization/announce/bluesky.md', 'docs'): 5,\n         ('www/docs/customization/announce/discord.md', 'docs'): 7,\n         ('www/docs/customization/announce/linkedin.md', 'docs'): 6,\n         ('www/docs/customization/announce/mastodon.md', 'docs'): 5,\n         ('www/docs/customization/announce/mattermost.md', 'docs'): 6,\n         ('www/docs/customization/announce/opencollective.md', 'docs'): 4,\n         ('www/docs/customization/announce/reddit.md', 'docs'): 7,\n         ('www/docs/customization/announce/slack.md', 'docs'): 7,\n         ('www/docs/customization/announce/smtp.md', 'docs'): 7,\n         ('www/docs/customization/announce/teams.md', 'docs'): 7,\n         ('www/docs/customization/announce/telegram.md', 'docs'): 7,\n         ('www/docs/customization/announce/twitter.md', 'docs'): 8,\n         ('www/docs/customization/announce/webhook.md', 'docs'): 6,\n         ('www/docs/customization/archive.md', 'docs'): 24,\n         ('www/docs/customization/artifactory.md', 'docs'): 14,\n         ('www/docs/customization/aur.md', 'docs'): 14,\n         ('www/docs/customization/beforepublish.md', 'docs'): 4,\n         ('www/docs/customization/blob.md', 'docs'): 20,\n         ('www/docs/customization/builds.md', 'docs'): 14,\n         ('www/docs/customization/checksum.md', 'docs'): 15,\n         ('www/docs/customization/chocolatey.md', 'docs'): 7,\n         ('www/docs/customization/cloudsmith.md', 'docs'): 4,\n         ('www/docs/customization/dmg.md', 'docs'): 4,\n         ('www/docs/customization/docker.md', 'docs'): 32,\n         ('www/docs/customization/docker_manifest.md', 'docs'): 19,\n         ('www/docs/customization/dockerhub.md', 'docs'): 9,\n         ('www/docs/customization/env.md', 'docs'): 10,\n         ('www/docs/customization/fury.md', 'docs'): 18,\n         ('www/docs/customization/git.md', 'docs'): 9,\n         ('www/docs/customization/homebrew.md', 'docs'): 34,\n         ('www/docs/customization/hooks.md', 'docs'): 22,\n         ('www/docs/customization/includes.md', 'docs'): 10,\n         ('www/docs/customization/index.md', 'docs'): 11,\n         ('www/docs/customization/krew.md', 'docs'): 12,\n         ('www/docs/customization/metadata.md', 'docs'): 5,\n         ('www/docs/customization/milestone.md', 'docs'): 9,\n         ('www/docs/customization/monorepo.md', 'docs'): 18,\n         ('www/docs/customization/msi.md', 'docs'): 4,\n         ('www/docs/customization/notarize.md', 'docs'): 6,\n         ('www/docs/customization/publishers.md', 'docs'): 17,\n         ('www/docs/customization/release.md', 'docs'): 37,\n         ('www/docs/customization/scoop.md', 'docs'): 26,\n         ('www/docs/customization/snapcraft.md', 'docs'): 22,\n         ('www/docs/customization/source.md', 'docs'): 15,\n         ('www/docs/customization/templatefiles.md', 'docs'): 6,\n         ('www/docs/customization/universalbinaries.md', 'docs'): 15,\n         ('www/docs/customization/upload.md', 'docs'): 12,\n         ('www/docs/customization/upx.md', 'docs'): 5,\n         ('www/docs/customization/winget.md', 'docs'): 7,\n         ('www/docs/includes/pro.md', 'docs'): 2,\n         ('www/docs/includes/prs.md', 'docs'): 3,\n         ('www/docs/includes/repository.md', 'docs'): 10,\n         ('www/docs/includes/templates.md', 'docs'): 2,\n         ('www/docs/overrides/hooks/shortcodes.py', 'docs'): 1,\n         ('www/docs/errors/dirty.md', 'docs'): 5,\n         ('flake.lock', 'chore'): 11,\n         ('pkg/config/config.go', 'fix'): 60,\n         ('www/docs/static/schema.json', 'fix'): 20,\n         ('internal/pipe/nix/licenses.go', 'chore'): 3,\n         ('www/docs/static/latest', 'chore'): 32,\n         ('www/docs/static/latest-pro', 'chore'): 32,\n         ('www/docs/static/releases-pro.json', 'chore'): 35,\n         ('www/docs/static/releases.json', 'chore'): 41,\n         ('.github/workflows/generate.yml', 'ci'): 1,\n         ('www/docs/blog/posts/2024-07-13-v2.1.md', 'docs'): 1,\n         ('www/docs/static/schema.json', 'docs'): 30,\n         ('internal/pipe/snapcraft/snapcraft.go', 'fix'): 40,\n         ('internal/pipe/snapcraft/snapcraft_test.go', 'fix'): 21,\n         ('Dockerfile', 'chore(deps):'): 1,\n         ('www/docs/customization/snapcraft.md', 'fix'): 2,\n         ('internal/pipe/nfpm/nfpm_test.go', 'test'): 12,\n         ('internal/pipe/nfpm/nfpm.go', 'feat'): 57,\n         ('internal/pipe/nfpm/nfpm_test.go', 'feat'): 46,\n         ('www/docs/customization/nfpm.md', 'feat'): 37,\n         ('www/docs/cmd/goreleaser.md', 'docs'): 17,\n         ('www/docs/cmd/goreleaser_subscribe.md', 'docs'): 1,\n         ('.github/workflows/generate.yml', 'chore'): 53,\n         ('.github/workflows/grype.yml', 'chore'): 21,\n         ('internal/client/github.go', 'chore'): 11,\n         ('internal/client/github_test.go', 'chore'): 5,\n         ('CONTRIBUTING.md', 'docs'): 25,\n         ('www/docs/contributing.md', 'docs'): 11,\n         ('Taskfile.yml', 'docs'): 16,\n         ('cmd/docs.go', 'docs'): 3,\n         ('www/docs/ci/gitlab.md', 'docs'): 18,\n         ('www/docs/cmd/goreleaser_announce.md', 'docs'): 8,\n         ('www/docs/cmd/goreleaser_changelog.md', 'docs'): 5,\n         ('www/docs/cmd/goreleaser_check.md', 'docs'): 7,\n         ('www/docs/cmd/goreleaser_completion.md', 'docs'): 7,\n         ('www/docs/cmd/goreleaser_completion_bash.md', 'docs'): 5,\n         ('www/docs/cmd/goreleaser_completion_fish.md', 'docs'): 4,\n         ('www/docs/cmd/goreleaser_completion_powershell.md', 'docs'): 4,\n         ('www/docs/cmd/goreleaser_completion_zsh.md', 'docs'): 6,\n         ('www/docs/cmd/goreleaser_continue.md', 'docs'): 6,\n         ('www/docs/cmd/goreleaser_healthcheck.md', 'docs'): 4,\n         ('www/docs/cmd/goreleaser_init.md', 'docs'): 6,\n         ('www/docs/cmd/goreleaser_jsonschema.md', 'docs'): 5,\n         ('www/docs/cmd/goreleaser_publish.md', 'docs'): 7,\n         ('www/docs/cmd/goreleaser_verify-license.md', 'docs'): 3,\n         ('www/docs/cookbooks/build-go-modules.md', 'docs'): 6,\n         ('www/docs/cookbooks/cgo-and-crosscompiling.md', 'docs'): 5,\n         ('www/docs/cookbooks/index.md', 'docs'): 4,\n         ('www/docs/cookbooks/multi-platform-docker-images.md', 'docs'): 3,\n         ('www/docs/cookbooks/publish-to-nexus.md', 'docs'): 2,\n         ('www/docs/cookbooks/using-jfrog-cli-to-publish-to-artifactory.md',\n          'docs'): 3,\n         ('www/docs/cookbooks/using-main.version.md', 'docs'): 4,\n         ('www/docs/customization/announce/index.md', 'docs'): 6,\n         ('www/docs/customization/dist.md', 'docs'): 6,\n         ('www/docs/customization/ko.md', 'docs'): 5,\n         ('www/docs/errors/build.md', 'docs'): 2,\n         ('www/docs/errors/multiple-tokens.md', 'docs'): 4,\n         ('www/docs/errors/no-history.md', 'docs'): 2,\n         ('www/docs/errors/no-main.md', 'docs'): 4,\n         ('www/docs/errors/resource-not-accessible-by-integration.md',\n          'docs'): 6,\n         ('www/docs/errors/scoop-archive.md', 'docs'): 1,\n         ('www/docs/intro.md', 'docs'): 14,\n         ('www/docs/limitations/cgo.md', 'docs'): 10,\n         ('www/docs/limitations/semver.md', 'docs'): 6,\n         ('www/docs/post-checkout.md', 'docs'): 3,\n         ('www/docs/pro.md', 'docs'): 33,\n         ('www/docs/quick-start.md', 'docs'): 22,\n         ('internal/client/github.go', 'fix'): 40,\n         ('www/docs/errors/version.md', 'docs'): 2,\n         ('.github/workflows/build.yml', 'fix'): 20,\n         ('.github/workflows/release.yml', 'fix'): 3,\n         ('internal/semerrgroup/sem.go', 'fix'): 4,\n         ('internal/semerrgroup/sem_test.go', 'fix'): 4,\n         ('internal/pipe/effectiveconfig/config_test.go', 'test'): 2,\n         ('www/docs/overrides/home.html', 'docs'): 14,\n         ('www/docs/index.md', 'docs'): 2,\n         ('www/docs/static/goreleaser.svg', 'docs'): 1,\n         ('internal/pipe/gomod/gomod.go', 'fix'): 11,\n         ('cmd/config.go', 'fix'): 5,\n         ('cmd/root.go', 'fix'): 9,\n         ('internal/middleware/logging/logging.go', 'fix'): 3,\n         ('internal/pipe/changelog/changelog.go', 'fix'): 19,\n         ('internal/pipe/checksums/checksums.go', 'fix'): 6,\n         ('internal/pipe/effectiveconfig/config.go', 'fix'): 1,\n         ('internal/pipe/metadata/metadata.go', 'fix'): 3,\n         ('internal/pipe/release/release.go', 'fix'): 17,\n         ('www/docs/customization/changelog.md', 'docs'): 20,\n         ('www/docs/customization/reportsizes.md', 'docs'): 2,\n         ('www/docs/customization/sbom.md', 'docs'): 6,\n         ('www/docs/customization/verifiable_builds.md', 'docs'): 6,\n         ('www/docs/scm/gitlab.md', 'docs'): 12,\n         ('.github/workflows/nightly-oss.yml', 'build'): 5,\n         ('.goreleaser-nightly.yaml', 'build'): 2,\n         ('internal/client/gitea.go', 'fix'): 10,\n         ('internal/client/gitea_test.go', 'fix'): 3,\n         ('internal/client/gitlab_test.go', 'fix'): 6,\n         ('internal/pipe/changelog/changelog_test.go', 'fix'): 12,\n         ('internal/builders/golang/build.go', 'feat'): 35,\n         ('internal/http/http.go', 'feat'): 25,\n         ('internal/http/http_test.go', 'feat'): 16,\n         ('internal/http/testdata/foo.txt', 'feat'): 1,\n         ('www/docs/customization/artifactory.md', 'feat'): 4,\n         ('www/docs/customization/blob.md', 'feat'): 12,\n         ('www/docs/customization/upload.md', 'feat'): 6,\n         ('.github/workflows/depsreview.yaml', 'chore'): 22,\n         ('.github/workflows/docs.yml', 'chore'): 48,\n         ('.github/workflows/gitleaks.yml', 'chore'): 24,\n         ('internal/pipe/blob/blob.go', 'feat'): 15,\n         ('internal/pipe/blob/blob_minio_test.go', 'feat'): 14,\n         ('internal/pipe/blob/upload.go', 'feat'): 17,\n         ('cmd/build.go', 'feat'): 20,\n         ('cmd/build_test.go', 'feat'): 12,\n         ('cmd/util_test.go', 'feat'): 12,\n         ('internal/pipe/chocolatey/chocolatey.go', 'feat'): 8,\n         ('www/docs/customization/chocolatey.md', 'feat'): 2,\n         ('pkg/archive/archive.go', 'feat'): 8,\n         ('pkg/archive/archive_test.go', 'feat'): 8,\n         ('www/docs/customization/archive.md', 'feat'): 15,\n         ('internal/pipe/archive/archive.go', 'feat'): 28,\n         ('internal/pipe/archive/archive_test.go', 'feat'): 25,\n         ('internal/skips/skips.go', 'feat'): 12,\n         ('internal/pipe/notary/macos.go', 'feat'): 3,\n         ('www/docs/customization/notarize.md', 'feat'): 2,\n         ('internal/pipe/blob/upload.go', 'Revert'): 1,\n         ('pkg/config/config_test.go', 'test'): 1,\n         ('internal/pipe/blob/upload.go', 'fix'): 8,\n         ('www/docs/blog/posts/2024-06-04-goreleaser-v2.md', 'docs'): 5,\n         ('internal/static/config.yaml', 'fix'): 3,\n         ('internal/static/config_test.go', 'fix'): 2,\n         ('pkg/config/config.go', 'docs'): 3,\n         ('www/docs/static/schema.json', 'chore'): 62,\n         ('.github/workflows/release.yml', 'ci'): 1,\n         ('cmd/root_test.go', 'test'): 2,\n         ('www/docs/users.md', 'docs'): 21,\n         ('.goreleaser.yaml', 'ci'): 3,\n         ('cmd/check.go', 'feat'): 8,\n         ('cmd/config.go', 'feat'): 6,\n         ('cmd/config_test.go', 'feat'): 4,\n         ('cmd/healthcheck.go', 'feat'): 3,\n         ('cmd/helper_test.go', 'feat'): 1,\n         ('cmd/init.go', 'feat'): 10,\n         ('cmd/release.go', 'feat'): 24,\n         ('cmd/release_test.go', 'feat'): 11,\n         ('cmd/root.go', 'feat'): 17,\n         ('cmd/schema.go', 'feat'): 6,\n         ('internal/archivefiles/archivefiles.go', 'feat'): 5,\n         ('internal/archivefiles/archivefiles_test.go', 'feat'): 4,\n         ('internal/artifact/artifact_test.go', 'feat'): 26,\n         ('internal/builders/buildtarget/targets.go', 'feat'): 8,\n         ('internal/builders/buildtarget/targets_test.go', 'feat'): 8,\n         ('internal/builders/golang/build_test.go', 'feat'): 33,\n         ('internal/client/client.go', 'feat'): 20,\n         ('internal/client/client_test.go', 'feat'): 5,\n         ('internal/client/config.go', 'feat'): 6,\n         ('internal/client/config_test.go', 'feat'): 2,\n         ('internal/client/git.go', 'feat'): 4,\n         ('internal/client/git_test.go', 'feat'): 3,\n         ('internal/client/gitea.go', 'feat'): 16,\n         ('internal/client/gitea_test.go', 'feat'): 10,\n         ('internal/client/github.go', 'feat'): 49,\n         ('internal/client/github_test.go', 'feat'): 20,\n         ('internal/client/gitlab.go', 'feat'): 23,\n         ('internal/client/gitlab_test.go', 'feat'): 12,\n         ('internal/client/mock.go', 'feat'): 9,\n         ('internal/client/release_notes.go', 'feat'): 2,\n         ('internal/client/release_notes_test.go', 'feat'): 2,\n         ('internal/commitauthor/author.go', 'feat'): 2,\n         ('internal/commitauthor/author_test.go', 'feat'): 2,\n         ('internal/deprecate/deprecate.go', 'feat'): 7,\n         ('internal/deprecate/deprecate_test.go', 'feat'): 6,\n         ('internal/exec/exec.go', 'feat'): 12,\n         ('internal/exec/exec_test.go', 'feat'): 9,\n         ('internal/extrafiles/extra_files.go', 'feat'): 6,\n         ('internal/extrafiles/extra_files_test.go', 'feat'): 7,\n         ('internal/git/config.go', 'feat'): 6,\n         ('internal/git/config_test.go', 'feat'): 5,\n         ('internal/git/git_test.go', 'feat'): 3,\n         ('internal/logext/writer_test.go', 'feat'): 4,\n         ('internal/middleware/errhandler/error.go', 'feat'): 4,\n         ('internal/middleware/errhandler/error_test.go', 'feat'): 2,\n         ('internal/middleware/logging/logging.go', 'feat'): 4,\n         ('internal/middleware/logging/logging_test.go', 'feat'): 3,\n         ('internal/middleware/middleware.go', 'feat'): 2,\n         ('internal/middleware/skip/skip.go', 'feat'): 4,\n         ('internal/middleware/skip/skip_test.go', 'feat'): 2,\n         ('internal/pipe/announce/announce.go', 'feat'): 17,\n         ('internal/pipe/announce/announce_test.go', 'feat'): 4,\n         ('internal/pipe/archive/archive_meta_test.go', 'feat'): 3,\n         ('internal/pipe/artifactory/artifactory.go', 'feat'): 5,\n         ('internal/pipe/artifactory/artifactory_test.go', 'feat'): 8,\n         ('internal/pipe/aur/aur.go', 'feat'): 12,\n         ('internal/pipe/aur/aur_test.go', 'feat'): 12,\n         ('internal/pipe/before/before.go', 'feat'): 9,\n         ('internal/pipe/before/before_test.go', 'feat'): 9,\n         ('internal/pipe/blob/blob_test.go', 'feat'): 13,\n         ('internal/pipe/bluesky/bluesky.go', 'feat'): 2,\n         ('internal/pipe/bluesky/bluesky_test.go', 'feat'): 2,\n         ('internal/pipe/brew/brew.go', 'feat'): 48,\n         ('internal/pipe/brew/brew_test.go', 'feat'): 45,\n         ('internal/pipe/brew/template.go', 'feat'): 17,\n         ('internal/pipe/build/build.go', 'feat'): 30,\n         ('internal/pipe/build/build_test.go', 'feat'): 28,\n         ('internal/pipe/build/filter.go', 'feat'): 2,\n         ('internal/pipe/build/filter_test.go', 'feat'): 2,\n         ('internal/pipe/changelog/changelog.go', 'feat'): 26,\n         ('internal/pipe/changelog/changelog_test.go', 'feat'): 22,\n         ('internal/pipe/checksums/checksums.go', 'feat'): 15,\n         ('internal/pipe/checksums/checksums_test.go', 'feat'): 13,\n         ('internal/pipe/chocolatey/chocolatey_test.go', 'feat'): 5,\n         ('internal/pipe/chocolatey/nuspec_test.go', 'feat'): 2,\n         ('internal/pipe/custompublishers/custompublishers.go', 'feat'): 3,\n         ('internal/pipe/custompublishers/custompublishers_test.go',\n          'feat'): 2,\n         ('internal/pipe/discord/discord.go', 'feat'): 8,\n         ('internal/pipe/discord/discord_test.go', 'feat'): 5,\n         ('internal/pipe/docker/api.go', 'feat'): 6,\n         ('internal/pipe/docker/api_docker.go', 'feat'): 5,\n         ('internal/pipe/docker/docker.go', 'feat'): 37,\n         ('internal/pipe/docker/docker_test.go', 'feat'): 36,\n         ('internal/pipe/docker/manifest.go', 'feat'): 11,\n         ('internal/pipe/effectiveconfig/config.go', 'feat'): 3,\n         ('internal/pipe/effectiveconfig/config_test.go', 'feat'): 1,\n         ('internal/pipe/env/env.go', 'feat'): 13,\n         ('internal/pipe/env/env_test.go', 'feat'): 9,\n         ('internal/pipe/git/git.go', 'feat'): 22,\n         ('internal/pipe/git/git_test.go', 'feat'): 17,\n         ('internal/pipe/gomod/gomod.go', 'feat'): 6,\n         ('internal/pipe/gomod/gomod_proxy.go', 'feat'): 3,\n         ('internal/pipe/gomod/gomod_proxy_test.go', 'feat'): 6,\n         ('internal/pipe/gomod/gomod_test.go', 'feat'): 5,\n         ('internal/pipe/krew/krew.go', 'feat'): 17,\n         ('internal/pipe/krew/krew_test.go', 'feat'): 12,\n         ('internal/pipe/linkedin/client.go', 'feat'): 2,\n         ('internal/pipe/linkedin/client_test.go', 'feat'): 2,\n         ('internal/pipe/linkedin/linkedin.go', 'feat'): 6,\n         ('internal/pipe/linkedin/linkedin_test.go', 'feat'): 3,\n         ('internal/pipe/mastodon/mastodon.go', 'feat'): 5,\n         ('internal/pipe/mastodon/mastodon_test.go', 'feat'): 3,\n         ('internal/pipe/mattermost/mattermost.go', 'feat'): 7,\n         ('internal/pipe/mattermost/mattermost_test.go', 'feat'): 4,\n         ('internal/pipe/metadata/metadata.go', 'feat'): 6,\n         ('internal/pipe/metadata/metadata_test.go', 'feat'): 5,\n         ('internal/pipe/milestone/milestone.go', 'feat'): 6,\n         ('internal/pipe/milestone/milestone_test.go', 'feat'): 8,\n         ('internal/pipe/nix/nix.go', 'feat'): 13,\n         ('internal/pipe/nix/nix_test.go', 'feat'): 10,\n         ('internal/pipe/notary/macos_test.go', 'feat'): 2,\n         ('internal/pipe/opencollective/opencollective.go', 'feat'): 5,\n         ('internal/pipe/opencollective/opencollective_test.go', 'feat'): 3,\n         ('internal/pipe/partial/partial.go', 'feat'): 2,\n         ('internal/pipe/partial/partial_test.go', 'feat'): 2,\n         ('internal/pipe/prebuild/prebuild.go', 'feat'): 1,\n         ('internal/pipe/prebuild/prebuild_test.go', 'feat'): 2,\n         ('internal/pipe/project/project.go', 'feat'): 2,\n         ('internal/pipe/project/project_test.go', 'feat'): 2,\n         ('internal/pipe/publish/publish.go', 'feat'): 21,\n         ('internal/pipe/publish/publish_test.go', 'feat'): 7,\n         ('internal/pipe/reddit/reddit.go', 'feat'): 8,\n         ('internal/pipe/reddit/reddit_test.go', 'feat'): 5,\n         ('internal/pipe/release/body.go', 'feat'): 9,\n         ('internal/pipe/release/body_test.go', 'feat'): 10,\n         ('internal/pipe/release/release.go', 'feat'): 23,\n         ('internal/pipe/release/release_test.go', 'feat'): 23,\n         ('internal/pipe/release/scm.go', 'feat'): 2,\n         ('internal/pipe/release/scm_test.go', 'feat'): 2,\n         ('internal/pipe/reportsizes/reportsizes.go', 'feat'): 3,\n         ('internal/pipe/reportsizes/reportsizes_test.go', 'feat'): 3,\n         ('internal/pipe/sbom/sbom.go', 'feat'): 7,\n         ('internal/pipe/sbom/sbom_test.go', 'feat'): 5,\n         ('internal/pipe/scoop/scoop.go', 'feat'): 39,\n         ('internal/pipe/scoop/scoop_test.go', 'feat'): 28,\n         ('internal/pipe/semver/semver.go', 'feat'): 3,\n         ('internal/pipe/semver/semver_test.go', 'feat'): 2,\n         ('internal/pipe/sign/sign_docker.go', 'feat'): 6,\n         ('internal/pipe/sign/sign_docker_test.go', 'feat'): 7,\n         ('internal/pipe/sign/sign_test.go', 'feat'): 19,\n         ('internal/pipe/slack/slack.go', 'feat'): 9,\n         ('internal/pipe/slack/slack_test.go', 'feat'): 5,\n         ('internal/pipe/smtp/smtp.go', 'feat'): 8,\n         ('internal/pipe/smtp/smtp_test.go', 'feat'): 2,\n         ('internal/pipe/snapcraft/snapcraft.go', 'feat'): 30,\n         ('internal/pipe/snapcraft/snapcraft_test.go', 'feat'): 21,\n         ('internal/pipe/sourcearchive/source.go', 'feat'): 9,\n         ('internal/pipe/sourcearchive/source_test.go', 'feat'): 5,\n         ('internal/pipe/teams/teams.go', 'feat'): 9,\n         ('internal/pipe/teams/teams_test.go', 'feat'): 4,\n         ('internal/pipe/telegram/telegram.go', 'feat'): 9,\n         ('internal/pipe/telegram/telegram_test.go', 'feat'): 3,\n         ('internal/pipe/twitter/twitter.go', 'feat'): 9,\n         ('internal/pipe/twitter/twitter_test.go', 'feat'): 6,\n         ('internal/pipe/universalbinary/universalbinary.go', 'feat'): 10,\n         ('internal/pipe/universalbinary/universalbinary_test.go', 'feat'): 9,\n         ('internal/pipe/upload/upload.go', 'feat'): 6,\n         ('internal/pipe/upload/upload_test.go', 'feat'): 8,\n         ('internal/pipe/upx/upx.go', 'feat'): 4,\n         ('internal/pipe/upx/upx_test.go', 'feat'): 4,\n         ('internal/pipe/webhook/webhook.go', 'feat'): 7,\n         ('internal/pipe/webhook/webhook_test.go', 'feat'): 3,\n         ('internal/pipe/winget/template.go', 'feat'): 7,\n         ('internal/pipe/winget/winget.go', 'feat'): 10,\n         ('internal/pipe/winget/winget_test.go', 'feat'): 8,\n         ('internal/semerrgroup/sem.go', 'feat'): 2,\n         ('internal/semerrgroup/sem_test.go', 'feat'): 2,\n         ('internal/shell/shell.go', 'feat'): 6,\n         ('internal/shell/shell_test.go', 'feat'): 4,\n         ('internal/skips/skips_test.go', 'feat'): 1,\n         ('internal/static/config_test.go', 'feat'): 2,\n         ('internal/testctx/testctx.go', 'feat'): 2,\n         ('internal/testlib/git.go', 'feat'): 7,\n         ('internal/testlib/skip.go', 'feat'): 2,\n         ('internal/testlib/skip_test.go', 'feat'): 1,\n         ('internal/testlib/tmpl.go', 'feat'): 3,\n         ('internal/tmpl/tmpl.go', 'feat'): 47,\n         ('internal/tmpl/tmpl_test.go', 'feat'): 37,\n         ('main.go', 'feat'): 20,\n         ('main_test.go', 'feat'): 12,\n         ('pkg/archive/gzip/gzip.go', 'feat'): 6,\n         ('pkg/archive/gzip/gzip_test.go', 'feat'): 4,\n         ('pkg/archive/tar/tar.go', 'feat'): 3,\n         ('pkg/archive/tar/tar_test.go', 'feat'): 3,\n         ('pkg/archive/targz/targz.go', 'feat'): 5,\n         ('pkg/archive/targz/targz_test.go', 'feat'): 5,\n         ('pkg/archive/tarxz/tarxz.go', 'feat'): 4,\n         ('pkg/archive/tarxz/tarxz_test.go', 'feat'): 5,\n         ('pkg/archive/tarzst/tarzst.go', 'feat'): 2,\n         ('pkg/archive/tarzst/tarzst_test.go', 'feat'): 2,\n         ('pkg/archive/zip/zip.go', 'feat'): 5,\n         ('pkg/archive/zip/zip_test.go', 'feat'): 5,\n         ('pkg/build/build.go', 'feat'): 4,\n         ('pkg/build/build_test.go', 'feat'): 2,\n         ('pkg/config/config_archive_files_test.go', 'feat'): 4,\n         ('pkg/config/config_array_test.go', 'feat'): 2,\n         ('pkg/config/config_build_hook_test.go', 'feat'): 3,\n         ('pkg/config/load.go', 'feat'): 2,\n         ('pkg/context/context.go', 'feat'): 36,\n         ('pkg/context/context_test.go', 'feat'): 4,\n         ('pkg/healthcheck/healthcheck_test.go', 'feat'): 2,\n         ('cmd/root_test.go', 'feat'): 4,\n         ('cmd/check_test.go', 'feat'): 4,\n         ('cmd/testdata/unmarshal_error.yml', 'feat'): 2,\n         ('internal/pipe/brew/templates/cask.rb', 'feat'): 1,\n         ('internal/pipe/brew/testdata/TestFullFormulae.rb.golden', 'feat'): 4,\n         ('internal/pipe/brew/testdata/TestFullPipe/custom_block.rb.golden',\n          'feat'): 10,\n         ('internal/pipe/brew/testdata/TestFullPipe/custom_download_strategy.rb.golden',\n          'feat'): 10,\n         ('internal/pipe/brew/testdata/TestFullPipe/custom_require.rb.golden',\n          'feat'): 10,\n         ('internal/pipe/brew/testdata/TestFullPipe/default.rb.golden',\n          'feat'): 10,\n         ('internal/pipe/brew/testdata/TestFullPipe/default_gitlab.rb.golden',\n          'feat'): 10,\n         ('internal/pipe/brew/testdata/TestFullPipe/git_remote.rb.golden',\n          'feat'): 5,\n         ('internal/pipe/brew/testdata/TestFullPipe/open_pr.rb.golden',\n          'feat'): 6,\n         ('internal/pipe/brew/testdata/TestFullPipe/valid_repository_templates.rb.golden',\n          'feat'): 4,\n         ('internal/pipe/brew/testdata/TestFullPipe/with_header.rb.golden',\n          'feat'): 3,\n         ('internal/pipe/brew/testdata/TestFullPipe/with_many_headers.rb.golden',\n          'feat'): 3,\n         ('internal/pipe/brew/testdata/TestRunPipeForMultipleArmVersions/multiple_armv5.rb.golden',\n          'feat'): 6,\n         ('internal/pipe/brew/testdata/TestRunPipeForMultipleArmVersions/multiple_armv6.rb.golden',\n          'feat'): 6,\n         ('internal/pipe/brew/testdata/TestRunPipeForMultipleArmVersions/multiple_armv7.rb.golden',\n          'feat'): 6,\n         ('pkg/config/config_homebrew_dependency_test.go', 'feat'): 1,\n         ('pkg/config/config_test.go', 'feat'): 3,\n         ('pkg/config/testdata/anchor.yaml', 'feat'): 1,\n         ('pkg/config/testdata/invalid.yml', 'feat'): 1,\n         ('pkg/config/testdata/invalid_config.yml', 'feat'): 1,\n         ('www/docs/ci/actions.md', 'fix'): 4,\n         ('internal/builders/golang/build.go', 'Merge'): 8,\n         ('cmd/root_test.go', 'fix'): 3,\n         ('internal/builders/golang/build.go', 'fix'): 32,\n         ('internal/builders/golang/build_test.go', 'fix'): 26,\n         ('cmd/release.go', 'fix'): 9,\n         ('cmd/release_test.go', 'fix'): 2,\n         ('internal/pipe/release/release.go', 'chore'): 7,\n         ('.golangci.yaml', 'build'): 4,\n         ('.gitignore', 'chore'): 7,\n         ('.golangci.yaml', 'fix'): 4,\n         ('cmd/build.go', 'fix'): 15,\n         ('internal/artifact/artifact.go', 'fix'): 23,\n         ('internal/builders/buildtarget/targets.go', 'fix'): 4,\n         ('internal/exec/exec.go', 'fix'): 9,\n         ('internal/exec/exec_mock.go', 'fix'): 3,\n         ('internal/http/http.go', 'fix'): 13,\n         ('internal/pipe/announce/announce.go', 'fix'): 2,\n         ('internal/pipe/archive/archive.go', 'fix'): 23,\n         ('internal/pipe/docker/api.go', 'fix'): 8,\n         ('internal/pipe/docker/docker.go', 'fix'): 34,\n         ('internal/pipe/git/git.go', 'fix'): 18,\n         ('internal/pipe/gomod/gomod_proxy.go', 'fix'): 3,\n         ('internal/pipe/krew/krew.go', 'fix'): 8,\n         ('internal/pipe/sbom/sbom.go', 'fix'): 7,\n         ('internal/pipe/sbom/sbom_test.go', 'fix'): 4,\n         ('internal/pipe/scoop/scoop.go', 'fix'): 23,\n         ('internal/pipe/sign/sign.go', 'fix'): 13,\n         ('internal/pipe/sign/sign_test.go', 'fix'): 7,\n         ('internal/pipe/winget/template.go', 'fix'): 5,\n         ('internal/pipeline/pipeline.go', 'fix'): 12,\n         ('main.go', 'fix'): 23,\n         ('pkg/archive/gzip/gzip_test.go', 'fix'): 2,\n         ('pkg/archive/tar/tar_test.go', 'fix'): 3,\n         ('pkg/archive/targz/targz_test.go', 'fix'): 2,\n         ('pkg/archive/tarxz/tarxz_test.go', 'fix'): 2,\n         ('pkg/archive/tarzst/tarzst_test.go', 'fix'): 1,\n         ('pkg/archive/zip/zip_test.go', 'fix'): 6,\n         ('pkg/build/build.go', 'fix'): 2,\n         ('pkg/defaults/defaults.go', 'fix'): 6,\n         ('pkg/healthcheck/healthcheck.go', 'fix'): 3,\n         ('.golangci.yaml', 'chore'): 3,\n         ('internal/builders/buildtarget/targets.go', 'docs'): 1,\n         ('internal/builders/golang/build_test.go', 'docs'): 1,\n         ('.github/workflows/lint.yml', 'refactor'): 1,\n         ('.golangci.yaml', 'refactor'): 1,\n         ('internal/artifact/artifact.go', 'refactor'): 18,\n         ('internal/artifact/artifact_test.go', 'refactor'): 14,\n         ('internal/exec/exec.go', 'refactor'): 1,\n         ('internal/http/http.go', 'refactor'): 9,\n         ('internal/pipe/archive/archive.go', 'refactor'): 11,\n         ('internal/pipe/artifactory/artifactory.go', 'refactor'): 5,\n         ('internal/pipe/blob/blob.go', 'refactor'): 1,\n         ('internal/pipe/blob/upload.go', 'refactor'): 3,\n         ('internal/pipe/build/build.go', 'refactor'): 8,\n         ('internal/pipe/checksums/checksums.go', 'refactor'): 4,\n         ('internal/pipe/docker/docker.go', 'refactor'): 13,\n         ('internal/pipe/docker/docker_test.go', 'refactor'): 16,\n         ('internal/pipe/docker/manifest.go', 'refactor'): 6,\n         ('internal/pipe/ko/ko_test.go', 'refactor'): 2,\n         ('internal/pipe/nfpm/nfpm.go', 'refactor'): 10,\n         ('internal/pipe/release/body_test.go', 'refactor'): 5,\n         ('internal/pipe/release/release.go', 'refactor'): 12,\n         ('internal/pipe/scoop/scoop_test.go', 'refactor'): 12,\n         ('internal/pipe/snapcraft/snapcraft.go', 'refactor'): 7,\n         ('internal/pipe/universalbinary/universalbinary.go', 'refactor'): 3,\n         ('internal/pipe/upload/upload.go', 'refactor'): 2,\n         ('internal/pipe/upx/upx.go', 'refactor'): 1,\n         ('internal/semerrgroup/sem_test.go', 'refactor'): 2,\n         ('internal/tmpl/tmpl_test.go', 'refactor'): 9,\n         ('main_test.go', 'refactor'): 5,\n         ('pkg/archive/archive_test.go', 'refactor'): 5,\n         ('internal/pipe/blob/blob_minio_test.go', 'fix'): 3,\n         ('internal/pipe/discord/discord.go', 'fix'): 5,\n         ('internal/client/github.go', 'docs'): 1,\n         ('internal/client/github_test.go', 'docs'): 1,\n         ('www/docs/blog/posts/2024-05-11-goreleaser-v1.26.md', 'docs'): 1,\n         ('internal/pipe/pipe.go', 'docs'): 1,\n         ('www/docs/how-it-works.md', 'docs'): 5,\n         ('internal/pipe/blob/blob_test.go', 'test'): 5,\n         ('internal/pipe/blob/blob.go', 'blob'): 1,\n         ('internal/pipe/blob/blob_test.go', 'blob'): 1,\n         ('www/docs/customization/blob.md', 'blob'): 1,\n         ('internal/artifact/artifact.go', 'feat'): 44,\n         ('www/docs/customization/checksum.md', 'feat'): 7,\n         ('.github/workflows/build.yml', 'build'): 8,\n         ('.github/workflows/release.yml', 'build'): 7,\n         ('.github/workflows/build.yml', 'Revert'): 2,\n         ('.github/workflows/release.yml', 'Revert'): 1,\n         ('.goreleaser.yaml', 'Revert'): 2,\n         ('internal/pipe/snapcraft/snapcraft_test.go', 'Revert'): 1,\n         ('internal/pipe/brew/templates/linux_packages.rb', 'fix'): 2,\n         ('internal/pipe/brew/testdata/TestFullFormulae.rb.golden', 'fix'): 6,\n         ('internal/pipe/brew/testdata/TestFullFormulaeLinuxOnly.rb.golden',\n          'fix'): 4,\n         ('internal/pipe/brew/testdata/TestFullPipe/custom_block.rb.golden',\n          'fix'): 5,\n         ('internal/pipe/brew/testdata/TestFullPipe/custom_download_strategy.rb.golden',\n          'fix'): 5,\n         ('internal/pipe/brew/testdata/TestFullPipe/custom_require.rb.golden',\n          'fix'): 5,\n         ('internal/pipe/brew/testdata/TestFullPipe/default.rb.golden',\n          'fix'): 5,\n         ('internal/pipe/brew/testdata/TestFullPipe/default_gitlab.rb.golden',\n          'fix'): 5,\n         ('internal/pipe/brew/testdata/TestFullPipe/git_remote.rb.golden',\n          'fix'): 2,\n         ('internal/pipe/brew/testdata/TestFullPipe/open_pr.rb.golden',\n          'fix'): 2,\n         ('internal/pipe/brew/testdata/TestFullPipe/valid_repository_templates.rb.golden',\n          'fix'): 2,\n         ('internal/pipe/brew/testdata/TestFullPipe/with_header.rb.golden',\n          'fix'): 2,\n         ('internal/pipe/brew/testdata/TestFullPipe/with_many_headers.rb.golden',\n          'fix'): 2,\n         ('internal/pipe/brew/testdata/TestRunPipeForMultipleAmd64Versions/v1.rb.golden',\n          'fix'): 5,\n         ('internal/pipe/brew/testdata/TestRunPipeForMultipleAmd64Versions/v2.rb.golden',\n          'fix'): 4,\n         ('internal/pipe/brew/testdata/TestRunPipeForMultipleAmd64Versions/v3.rb.golden',\n          'fix'): 4,\n         ('internal/pipe/brew/testdata/TestRunPipeForMultipleAmd64Versions/v4.rb.golden',\n          'fix'): 5,\n         ('internal/pipe/brew/testdata/TestRunPipeForMultipleArmVersions/multiple_armv5.rb.golden',\n          'fix'): 5,\n         ('internal/pipe/brew/testdata/TestRunPipeForMultipleArmVersions/multiple_armv6.rb.golden',\n          'fix'): 5,\n         ('internal/pipe/brew/testdata/TestRunPipeForMultipleArmVersions/multiple_armv7.rb.golden',\n          'fix'): 5,\n         ('.goreleaser.yaml', 'fix'): 10,\n         ('internal/pipe/brew/testdata/TestFullFormulae.rb.golden', 'test'): 1,\n         ('internal/pipe/brew/testdata/TestFullFormulaeLinuxOnly.rb.golden',\n          'test'): 1,\n         ('internal/pipe/brew/testdata/TestFullPipe/custom_block.rb.golden',\n          'test'): 1,\n         ('internal/pipe/brew/testdata/TestFullPipe/custom_download_strategy.rb.golden',\n          'test'): 1,\n         ('internal/pipe/brew/testdata/TestFullPipe/custom_require.rb.golden',\n          'test'): 1,\n         ('internal/pipe/brew/testdata/TestFullPipe/default.rb.golden',\n          'test'): 1,\n         ('internal/pipe/brew/testdata/TestFullPipe/default_gitlab.rb.golden',\n          'test'): 1,\n         ('internal/pipe/brew/testdata/TestFullPipe/git_remote.rb.golden',\n          'test'): 1,\n         ('internal/pipe/brew/testdata/TestFullPipe/open_pr.rb.golden',\n          'test'): 1,\n         ('internal/pipe/brew/testdata/TestFullPipe/valid_repository_templates.rb.golden',\n          'test'): 1,\n         ('internal/pipe/brew/testdata/TestFullPipe/with_header.rb.golden',\n          'test'): 1,\n         ('internal/pipe/brew/testdata/TestFullPipe/with_many_headers.rb.golden',\n          'test'): 1,\n         ('internal/pipe/brew/testdata/TestRunPipeForMultipleAmd64Versions/v1.rb.golden',\n          'test'): 1,\n         ('internal/pipe/brew/testdata/TestRunPipeForMultipleAmd64Versions/v2.rb.golden',\n          'test'): 1,\n         ('internal/pipe/brew/testdata/TestRunPipeForMultipleAmd64Versions/v3.rb.golden',\n          'test'): 1,\n         ('internal/pipe/brew/testdata/TestRunPipeForMultipleAmd64Versions/v4.rb.golden',\n          'test'): 1,\n         ('internal/pipe/brew/testdata/TestRunPipeForMultipleArmVersions/multiple_armv5.rb.golden',\n          'test'): 1,\n         ('internal/pipe/brew/testdata/TestRunPipeForMultipleArmVersions/multiple_armv6.rb.golden',\n          'test'): 1,\n         ('internal/pipe/brew/testdata/TestRunPipeForMultipleArmVersions/multiple_armv7.rb.golden',\n          'test'): 1,\n         ('internal/pipe/brew/templates/linux_packages.rb', 'feat'): 2,\n         ('internal/pipe/brew/templates/macos_packages.rb', 'feat'): 2,\n         ('internal/pipe/brew/testdata/TestFullFormulaeLinuxOnly.rb.golden',\n          'feat'): 3,\n         ('internal/pipe/brew/testdata/TestRunPipeForMultipleAmd64Versions/v1.rb.golden',\n          'feat'): 2,\n         ('internal/pipe/brew/testdata/TestRunPipeForMultipleAmd64Versions/v2.rb.golden',\n          'feat'): 3,\n         ('internal/pipe/brew/testdata/TestRunPipeForMultipleAmd64Versions/v3.rb.golden',\n          'feat'): 3,\n         ('internal/pipe/brew/testdata/TestRunPipeForMultipleAmd64Versions/v4.rb.golden',\n          'feat'): 2,\n         ('internal/pipe/brew/testdata/TestRunPipeNameTemplate.rb.golden',\n          'feat'): 4,\n         ('www/docs/customization/homebrew.md', 'feat'): 22,\n         ('flake.nix', 'chore'): 4,\n         ('internal/pipe/nix/licenses.go', 'fix'): 2,\n         ('internal/pipe/telegram/telegram.go', 'fix'): 4,\n         ('internal/pipe/telegram/telegram_test.go', 'fix'): 2,\n         ('www/docs/customization/announce/telegram.md', 'fix'): 3,\n         ('internal/pipe/brew/templates/macos_packages.rb', 'fix'): 2,\n         ('internal/pipe/brew/testdata/TestFullFormulaeMacOSOnly.rb.golden',\n          'fix'): 4,\n         ('internal/pipe/brew/testdata/TestRunPipeUniversalBinaryNotReplacing.rb.golden',\n          'fix'): 3,\n         ('internal/pipe/nfpm/nfpm.go', 'fix'): 33,\n         ('internal/pipe/nfpm/nfpm_test.go', 'fix'): 20,\n         ('www/docs/customization/nfpm.md', 'fix'): 5,\n         ('pkg/config/config.go', 'Merge'): 5,\n         ('internal/pipe/blob/testdata/credentials.json', 'chore'): 1,\n         ('internal/client/testdata/github/compare.json', 'feat'): 2,\n         ('www/docs/customization/changelog.md', 'feat'): 9,\n         ('internal/pipe/changelog/changelog.go', 'refactor'): 9,\n         ('internal/pipe/changelog/changelog_test.go', 'test'): 6,\n         ('internal/pipe/upx/upx_test.go', 'fix'): 1,\n         ('pkg/config/config_test.go', 'fix'): 3,\n         ('internal/client/gitea_test.go', 'test'): 4,\n         ('internal/pipe/bluesky/bluesky.go', 'fix'): 1,\n         ('internal/pipe/bluesky/bluesky_test.go', 'fix'): 1,\n         ('www/docs/customization/announce/bluesky.md', 'feat'): 1,\n         ('cmd/build.go', 'docs'): 5,\n         ('.github/workflows/depsreview.yaml', 'feat'): 2,\n         ('.github/workflows/release.yml', 'feat'): 5,\n         ('internal/pipe/notary/notary.go', 'feat'): 1,\n         ('www/docs/customization/msi.md', 'feat'): 1,\n         ('internal/pipe/discord/discord.go', 'chore'): 1,\n         ('internal/pipe/linkedin/linkedin.go', 'chore'): 1,\n         ('internal/pipe/mastodon/mastodon.go', 'chore'): 1,\n         ('internal/pipe/mattermost/mattermost.go', 'chore'): 1,\n         ('internal/pipe/opencollective/opencollective.go', 'chore'): 1,\n         ('internal/pipe/reddit/reddit.go', 'chore'): 2,\n         ('internal/pipe/slack/slack.go', 'chore'): 2,\n         ('internal/pipe/smtp/smtp.go', 'chore'): 1,\n         ('internal/pipe/teams/teams.go', 'chore'): 1,\n         ('internal/pipe/telegram/telegram.go', 'chore'): 1,\n         ('internal/pipe/twitter/twitter.go', 'chore'): 1,\n         ('internal/pipe/webhook/webhook.go', 'chore'): 1,\n         ('internal/pipe/winget/winget.go', 'fix'): 9,\n         ('internal/deprecate/deprecate.go', 'refactor'): 2,\n         ('internal/tmpl/tmpl.go', 'refactor'): 11,\n         ('www/docs/customization/templates.md', 'feat'): 37,\n         ('www/docs/customization/sbom.md', 'fix'): 1,\n         ('internal/builders/golang/build_test.go', 'chore'): 3,\n         ('internal/pipe/sign/testdata/README.md', 'chore'): 1,\n         ('www/docs/blog/posts/2023-05-05-goreleaser-v1.18.md', 'chore'): 1,\n         ('www/docs/blog/posts/2023-10-08-slsa-generation-for-your-artifacts.md',\n          'chore'): 1,\n         ('www/docs/blog/posts/2022-02-05-cloud-native-storage.md', 'docs'): 2,\n         ('www/docs/blog/posts/2022-02-20-azure-devops.md', 'docs'): 4,\n         ('www/docs/blog/posts/2023-05-05-goreleaser-v1.18.md', 'docs'): 2,\n         ('www/docs/blog/posts/2023-10-08-slsa-generation-for-your-artifacts.md',\n          'docs'): 3,\n         ('www/docs/errors/docker-build.md', 'docs'): 2,\n         ('internal/pipe/webhook/webhook.go', 'fix'): 2,\n         ('cmd/check.go', 'fix'): 5,\n         ('scripts/test.sh', 'build'): 2,\n         ('internal/pipe/release/release_test.go', 'fix'): 7,\n         ('www/docs/customization/docker.md', 'fix'): 3,\n         ('www/docs/errors/docker-build.md', 'fix'): 1,\n         ('www/docs/blog/posts/2024-04-02-goreleaser-v1.25.md', 'docs'): 1,\n         ('.github/workflows/generate.yml', 'build'): 7,\n         ('Taskfile.yml', 'build'): 8,\n         ('www/docs/static/run', 'fix'): 7,\n         ('internal/pipe/nix/licenses.go', 'feat'): 2,\n         ('flake.lock', 'build'): 4,\n         ('flake.nix', 'build'): 5,\n         ('internal/client/mock.go', 'fix'): 5,\n         ('USERS.md', 'feat'): 1,\n         ('www/docs/cmd/goreleaser_announce.md', 'feat'): 1,\n         ('www/docs/cmd/goreleaser_build.md', 'feat'): 2,\n         ('www/docs/cmd/goreleaser_continue.md', 'feat'): 1,\n         ('www/docs/cmd/goreleaser_publish.md', 'feat'): 1,\n         ('www/docs/cmd/goreleaser_release.md', 'feat'): 5,\n         ('www/docs/cookbooks/build-go-modules.md', 'feat'): 2,\n         ('www/docs/customization/aur.md', 'feat'): 5,\n         ('www/docs/customization/builds.md', 'feat'): 4,\n         ('www/docs/customization/docker.md', 'feat'): 11,\n         ('www/docs/customization/krew.md', 'feat'): 8,\n         ('www/docs/customization/metadata.md', 'feat'): 2,\n         ('www/docs/customization/nix.md', 'feat'): 7,\n         ('www/docs/customization/scoop.md', 'feat'): 15,\n         ('www/docs/customization/snapshots.md', 'feat'): 4,\n         ('www/docs/customization/source.md', 'feat'): 4,\n         ('www/docs/customization/templatefiles.md', 'feat'): 1,\n         ('www/docs/customization/winget.md', 'feat'): 3,\n         ('www/docs/errors/docker-build.md', 'feat'): 2,\n         ('www/docs/errors/no-main.md', 'feat'): 3,\n         ('www/docs/static/schema-pro.json', 'feat'): 5,\n         ('internal/pipe/gomod/gomod_test.go', 'fix'): 5,\n         ('www/docs/customization/verifiable_builds.md', 'fix'): 3,\n         ('www/docs/customization/publishers.md', 'feat'): 3,\n         ('www/docs/customization/release.md', 'feat'): 17,\n         ('www/docs/includes/prs.md', 'feat'): 1,\n         ('www/htmltest.yml', 'build'): 2,\n         ('internal/artifact/artifact_test.go', 'fix'): 12,\n         ('internal/pipe/release/body.go', 'fix'): 2,\n         ('internal/pipe/release/body_test.go', 'fix'): 1,\n         ('internal/client/git.go', 'fix'): 4,\n         ('internal/pipe/aur/aur.go', 'fix'): 13,\n         ('internal/pipe/aur/aur_test.go', 'fix'): 10,\n         ('internal/pipe/release/testdata/TestDescribeBodyMultipleChecksums.golden',\n          'feat'): 1,\n         ('internal/builders/golang/build_test.go', 'test'): 14,\n         ('internal/pipe/build/build_test.go', 'test'): 12,\n         ('.github/workflows/codeql.yml', 'Merge'): 2,\n         ('.github/workflows/depsreview.yaml', 'Merge'): 2,\n         ('.github/workflows/docs.yml', 'Merge'): 2,\n         ('.github/workflows/fig.yml', 'Merge'): 2,\n         ('.github/workflows/generate.yml', 'Merge'): 3,\n         ('.github/workflows/gitleaks.yml', 'Merge'): 2,\n         ('.github/workflows/grype.yml', 'Merge'): 2,\n         ('Dockerfile', 'Merge'): 2,\n         ('USERS.md', 'Merge'): 2,\n         ('cmd/root.go', 'Merge'): 1,\n         ('flake.lock', 'Merge'): 1,\n         ('flake.nix', 'Merge'): 1,\n         ('internal/builders/golang/build_test.go', 'Merge'): 5,\n         ('internal/middleware/middleware.go', 'Merge'): 1,\n         ('internal/pipe/aur/aur.go', 'Merge'): 1,\n         ('internal/pipe/aur/testdata/TestRunPipe.pkgbuild.golden',\n          'Merge'): 1,\n         ('internal/pipe/aur/testdata/TestRunPipe.srcinfo.golden', 'Merge'): 1,\n         ('internal/pipe/build/build.go', 'Merge'): 2,\n         ('internal/pipe/nfpm/nfpm.go', 'Merge'): 2,\n         ('internal/pipe/nfpm/nfpm_test.go', 'Merge'): 2,\n         ('internal/pipe/release/release.go', 'Merge'): 3,\n         ('internal/pipe/winget/winget.go', 'Merge'): 1,\n         ('www/docs/blog/posts/2022-01-23-docker-manifests.md', 'Merge'): 1,\n         ('www/docs/blog/posts/2022-02-20-azure-devops.md', 'Merge'): 1,\n         ('www/docs/blog/posts/2022-03-28-supply-chain-sec.md', 'Merge'): 1,\n         ('www/docs/customization/changelog.md', 'Merge'): 1,\n         ('www/docs/customization/docker_sign.md', 'Merge'): 1,\n         ('www/docs/customization/nix.md', 'Merge'): 1,\n         ('www/docs/deprecations.md', 'Merge'): 1,\n         ('internal/pipe/build/build.go', 'fix'): 11,\n         ('internal/pipe/aur/testdata/TestRunPipe.pkgbuild.golden', 'fix'): 4,\n         ('internal/pipe/aur/testdata/TestRunPipe.srcinfo.golden', 'fix'): 2,\n         ('www/docs/blog/posts/2022-01-23-docker-manifests.md', 'docs'): 2,\n         ('www/docs/blog/posts/2022-03-28-supply-chain-sec.md', 'docs'): 3,\n         ('internal/middleware/middleware.go', 'fix'): 1,\n         ('.github/workflows/fig.yml', 'feat'): 5,\n         ('.github/workflows/fig.yml', 'chore'): 19,\n         ('cmd/release_test.go', 'test'): 4,\n         ('internal/pipe/winget/testdata/TestFormatBinary/TestFormatBinary.installer.yaml.golden',\n          'feat'): 2,\n         ('internal/pipe/winget/testdata/TestFormatBinary/TestFormatBinary.locale.en-US.yaml.golden',\n          'feat'): 2,\n         ('internal/pipe/winget/testdata/TestFormatBinary/TestFormatBinary.yaml.golden',\n          'feat'): 2,\n         ('internal/pipe/winget/testdata/TestRunPipe/bad-commit-msg-tmpl/bad-commit-msg-tmpl.installer.yaml.golden',\n          'feat'): 5,\n         ('internal/pipe/winget/testdata/TestRunPipe/bad-commit-msg-tmpl/bad-commit-msg-tmpl.locale.en-US.yaml.golden',\n          'feat'): 2,\n         ('internal/pipe/winget/testdata/TestRunPipe/bad-commit-msg-tmpl/bad-commit-msg-tmpl.yaml.golden',\n          'feat'): 3,\n         ('internal/pipe/winget/testdata/TestRunPipe/full/full.installer.yaml.golden',\n          'feat'): 5,\n         ('internal/pipe/winget/testdata/TestRunPipe/full/full.locale.en-US.yaml.golden',\n          'feat'): 2,\n         ('internal/pipe/winget/testdata/TestRunPipe/full/full.yaml.golden',\n          'feat'): 3,\n         ('internal/pipe/winget/testdata/TestRunPipe/minimal/minimal.installer.yaml.golden',\n          'feat'): 5,\n         ('internal/pipe/winget/testdata/TestRunPipe/minimal/minimal.locale.en-US.yaml.golden',\n          'feat'): 2,\n         ('internal/pipe/winget/testdata/TestRunPipe/minimal/minimal.yaml.golden',\n          'feat'): 3,\n         ('internal/pipe/winget/testdata/TestRunPipe/open-pr/open-pr.installer.yaml.golden',\n          'feat'): 5,\n         ('internal/pipe/winget/testdata/TestRunPipe/open-pr/open-pr.locale.en-US.yaml.golden',\n          'feat'): 2,\n         ('internal/pipe/winget/testdata/TestRunPipe/open-pr/open-pr.yaml.golden',\n          'feat'): 3,\n         ('internal/pipe/winget/testdata/TestRunPipe/partial/partial.installer.yaml.golden',\n          'feat'): 4,\n         ('internal/pipe/winget/testdata/TestRunPipe/partial/partial.locale.en-US.yaml.golden',\n          'feat'): 2,\n         ('internal/pipe/winget/testdata/TestRunPipe/partial/partial.yaml.golden',\n          'feat'): 3,\n         ('internal/pipe/winget/testdata/TestRunPipe/skip-upload-auto/skip-upload-auto.installer.yaml.golden',\n          'feat'): 5,\n         ('internal/pipe/winget/testdata/TestRunPipe/skip-upload-auto/skip-upload-auto.locale.en-US.yaml.golden',\n          'feat'): 2,\n         ('internal/pipe/winget/testdata/TestRunPipe/skip-upload-auto/skip-upload-auto.yaml.golden',\n          'feat'): 3,\n         ('internal/pipe/winget/testdata/TestRunPipe/skip-upload/skip-upload.installer.yaml.golden',\n          'feat'): 5,\n         ('internal/pipe/winget/testdata/TestRunPipe/skip-upload/skip-upload.locale.en-US.yaml.golden',\n          'feat'): 2,\n         ('internal/pipe/winget/testdata/TestRunPipe/skip-upload/skip-upload.yaml.golden',\n          'feat'): 3,\n         ('internal/pipe/winget/testdata/TestRunPipe/with-deps/with-deps.installer.yaml.golden',\n          'feat'): 2,\n         ('internal/pipe/winget/testdata/TestRunPipe/with-deps/with-deps.locale.en-US.yaml.golden',\n          'feat'): 2,\n         ('internal/pipe/winget/testdata/TestRunPipe/with-deps/with-deps.yaml.golden',\n          'feat'): 2,\n         ('internal/pipe/winget/testdata/TestRunPipe/wrapped-in-dir/wrapped-in-dir.installer.yaml.golden',\n          'feat'): 5,\n         ('internal/pipe/winget/testdata/TestRunPipe/wrapped-in-dir/wrapped-in-dir.locale.en-US.yaml.golden',\n          'feat'): 2,\n         ('internal/pipe/winget/testdata/TestRunPipe/wrapped-in-dir/wrapped-in-dir.yaml.golden',\n          'feat'): 3,\n         ('www/docs/overrides/main.html', 'docs'): 7,\n         ('pkg/config/config.go', 'refactor'): 11,\n         ('pkg/config/load.go', 'refactor'): 1,\n         ('internal/client/git_test.go', 'test'): 1,\n         ('internal/git/git_test.go', 'test'): 1,\n         ('internal/pipe/archive/archive_test.go', 'test'): 5,\n         ('internal/pipe/artifactory/artifactory_test.go', 'test'): 4,\n         ('internal/pipe/before/before_test.go', 'test'): 4,\n         ('internal/pipe/docker/docker_test.go', 'test'): 14,\n         ('internal/pipe/env/env_test.go', 'test'): 4,\n         ('internal/pipe/git/git_test.go', 'test'): 7,\n         ('internal/pipe/pipe_test.go', 'test'): 1,\n         ('internal/pipe/sbom/sbom_test.go', 'test'): 4,\n         ('internal/pipe/semver/semver_test.go', 'test'): 2,\n         ('internal/pipe/sign/sign_test.go', 'test'): 11,\n         ('internal/pipe/snapcraft/snapcraft_test.go', 'test'): 9,\n         ('internal/pipe/universalbinary/universalbinary_test.go', 'test'): 8,\n         ('internal/pipe/upload/upload_test.go', 'test'): 4,\n         ('cmd/build.go', 'chore'): 3,\n         ('cmd/docs.go', 'chore'): 1,\n         ('cmd/healthcheck.go', 'chore'): 1,\n         ('cmd/man.go', 'chore'): 1,\n         ('cmd/schema.go', 'chore'): 1,\n         ('internal/artifact/artifact_test.go', 'chore'): 1,\n         ('internal/client/gitlab.go', 'chore'): 4,\n         ('internal/gio/safe_test.go', 'chore'): 1,\n         ('internal/http/http_test.go', 'chore'): 3,\n         ('internal/middleware/errhandler/error_test.go', 'chore'): 1,\n         ('internal/middleware/logging/logging_test.go', 'chore'): 1,\n         ('internal/pipe/chocolatey/chocolatey_test.go', 'chore'): 1,\n         ('internal/pipe/docker/docker_test.go', 'chore'): 4,\n         ('internal/pipe/gomod/gomod_proxy_test.go', 'chore'): 1,\n         ('internal/pipe/ko/ko.go', 'chore'): 1,\n         ('internal/pipe/linkedin/client_test.go', 'chore'): 1,\n         ('internal/pipe/milestone/milestone.go', 'chore'): 1,\n         ('.golangci.yaml', 'test'): 2,\n         ('www/docs/customization/builds.md', 'fix'): 1,\n         ('scripts/nix-udpate-flake.sh', 'build'): 1,\n         ('internal/pipe/universalbinary/universalbinary.go', 'fix'): 5,\n         ('internal/pipe/universalbinary/universalbinary_test.go', 'fix'): 5,\n         ('www/docs/customization/universalbinaries.md', 'fix'): 1,\n         ('.golangci.yaml', 'feat'): 3,\n         ('CONTRIBUTING.md', 'feat'): 12,\n         ('internal/pipe/ko/testdata/app/go.mod', 'feat'): 3,\n         ('www/docs/install.md', 'feat'): 8,\n         ('internal/pipe/brew/brew.go', 'fix'): 41,\n         ('www/docs/blog/posts/2024-02-05-goreleaser-v1.24.md', 'docs'): 3,\n         ('scripts/get-releases.sh', 'ci'): 1,\n         ('www/docs/static/releases-pro.json', 'ci'): 1,\n         ('www/docs/static/releases.json', 'docs'): 3,\n         ('www/docs/blog/posts/2021-12-21-goreleaser-v1.2.md', 'docs'): 2,\n         ('www/docs/blog/posts/2022-03-26-reproducible-builds.md', 'docs'): 2,\n         ('www/docs/blog/posts/2023-01-10-azure-devops.md', 'docs'): 2,\n         ('www/docs/blog/posts/2023-01-30-goreleaser-ko.md', 'docs'): 2,\n         ('www/docs/blog/posts/2022-03-07-homebrew-gofish.md', 'docs'): 1,\n         ('internal/pipe/linkedin/client.go', 'fix'): 3,\n         ('www/docs/static/schema.json', 'feat'): 22,\n         ('internal/exec/exec.go', 'Merge'): 1,\n         ('internal/pipe/sbom/sbom.go', 'Merge'): 1,\n         ('internal/shell/shell.go', 'Merge'): 1,\n         ('internal/git/config.go', 'fix'): 8,\n         ('internal/git/config_test.go', 'fix'): 4,\n         ('internal/pipe/nix/nix.go', 'fix'): 13,\n         ('internal/pipe/nix/testdata/TestRunPipe/deps_build.nix.golden',\n          'fix'): 5,\n         ('internal/pipe/nix/testdata/TestRunPipe/deps_publish.nix.golden',\n          'fix'): 5,\n         ('internal/pipe/nix/testdata/TestRunPipe/extra-install_build.nix.golden',\n          'fix'): 5,\n         ('internal/pipe/nix/testdata/TestRunPipe/extra-install_publish.nix.golden',\n          'fix'): 5,\n         ('internal/pipe/nix/testdata/TestRunPipe/zip-and-tar_build.nix.golden',\n          'fix'): 4,\n         ('internal/pipe/nix/testdata/TestRunPipe/zip-and-tar_publish.nix.golden',\n          'fix'): 4,\n         ('internal/pipe/nix/testdata/TestRunPipe/zip-with-dependencies_build.nix.golden',\n          'fix'): 3,\n         ('internal/pipe/nix/testdata/TestRunPipe/zip-with-dependencies_publish.nix.golden',\n          'fix'): 3,\n         ('internal/pipe/nix/testdata/TestRunPipe/zip_build.nix.golden',\n          'fix'): 3,\n         ('internal/pipe/nix/testdata/TestRunPipe/zip_publish.nix.golden',\n          'fix'): 3,\n         ('internal/pipe/nix/tmpl.nix', 'fix'): 7,\n         ('internal/pipe/nix/testdata/TestBinInstallFormats/darwin-only-deps.golden',\n          'fix'): 1,\n         ('internal/pipe/nix/testdata/TestBinInstallFormats/linux-only-deps.golden',\n          'fix'): 1,\n         ('internal/pipe/nix/testdata/TestBinInstallFormats/mixed-deps.golden',\n          'fix'): 1,\n         ('internal/pipe/nix/testdata/TestRunPipe/minimal_build.nix.golden',\n          'fix'): 5,\n         ('internal/pipe/nix/testdata/TestRunPipe/minimal_publish.nix.golden',\n          'fix'): 5,\n         ('internal/pipe/nix/testdata/TestRunPipe/open-pr_build.nix.golden',\n          'fix'): 5,\n         ('internal/pipe/nix/testdata/TestRunPipe/open-pr_publish.nix.golden',\n          'fix'): 5,\n         ('internal/pipe/nix/testdata/TestRunPipe/partial_build.nix.golden',\n          'fix'): 5,\n         ('internal/pipe/nix/testdata/TestRunPipe/partial_publish.nix.golden',\n          'fix'): 5,\n         ('internal/pipe/nix/testdata/TestRunPipe/skip-upload-auto_build.nix.golden',\n          'fix'): 5,\n         ('internal/pipe/nix/testdata/TestRunPipe/skip-upload_build.nix.golden',\n          'fix'): 5,\n         ('internal/pipe/nix/testdata/TestRunPipe/unibin-replaces_build.nix.golden',\n          'fix'): 6,\n         ('internal/pipe/nix/testdata/TestRunPipe/unibin-replaces_publish.nix.golden',\n          'fix'): 6,\n         ('internal/pipe/nix/testdata/TestRunPipe/wrapped-in-dir_build.nix.golden',\n          'fix'): 7,\n         ('internal/pipe/nix/testdata/TestRunPipe/wrapped-in-dir_publish.nix.golden',\n          'fix'): 7,\n         ('.editorconfig', 'chore'): 2,\n         ('internal/pipe/docker/api_docker.go', 'fix'): 7,\n         ('internal/pipe/docker/docker_test.go', 'fix'): 26,\n         ('internal/pipe/winget/winget.go', 'refactor'): 3,\n         ('.editorconfig', 'fix'): 1,\n         ('internal/pipe/brew/template.go', 'fix'): 12,\n         ('internal/pipe/brew/templates/cask.rb', 'fix'): 1,\n         ('internal/pipe/brew/testdata/TestRunPipeBinaryRelease.rb.golden',\n          'fix'): 3,\n         ('internal/pipe/brew/testdata/TestRunPipeNameTemplate.rb.golden',\n          'fix'): 4,\n         ('internal/pipe/brew/testdata/TestRunPipePullRequest.rb.golden',\n          'fix'): 1,\n         ('internal/pipe/brew/testdata/TestRunPipeUniversalBinary.rb.golden',\n          'fix'): 3,\n         ('internal/pipe/slack/slack.go', 'fix'): 3,\n         ('internal/pipe/slack/slack_test.go', 'fix'): 2,\n         ('internal/pipe/nix/nix_test.go', 'fix'): 7,\n         ('internal/pipe/nix/template.go', 'fix'): 1,\n         ('www/docs/blog/.authors.yml', 'docs'): 2,\n         ('www/docs/blog/posts/2022-05-22-nightly-actions.md', 'docs'): 1,\n         ('www/htmltest.yml', 'docs'): 7,\n         ('www/README.md', 'docs'): 4,\n         ('internal/skips/skips.go', 'fix'): 2,\n         ('.github/workflows/dependabot.yml', 'ci'): 2,\n         ('.github/dependabot.yml', 'ci'): 1,\n         ('Dockerfile', 'feat'): 74,\n         ('internal/pipe/archive/archive_test.go', 'fix'): 17,\n         ('www/docs/static/schema-pro.json', 'chore'): 38,\n         ('internal/pipe/discord/discord_test.go', 'fix'): 2,\n         ('scripts/cmd_docs.sh', 'build'): 1,\n         ('.github/workflows/generate.yml', 'fix'): 6,\n         ('Taskfile.yml', 'fix'): 2,\n         ('.envrc', 'build'): 1,\n         ('.github/workflows/docs.yml', 'build'): 3,\n         ('.gitignore', 'build'): 1,\n         ('www/docker/Dockerfile', 'build'): 1,\n         ('www/docs/static/run', 'docs'): 4,\n         ('www/docs/blog/posts/2023-12-26-goreleaser-v1.23.md', 'docs'): 1,\n         ('scripts/fury-upload.sh', 'build'): 1,\n         ('scripts/get-releases.sh', 'build'): 1,\n         ('scripts/pages/build.sh', 'build'): 1,\n         ('scripts/pre-commit.sh', 'build'): 1,\n         ('www/docs/links.md', 'docs'): 14,\n         ('.github/workflows/generate.yml', 'feat'): 7,\n         ('Taskfile.yml', 'feat'): 4,\n         ('scripts/gen-nix-licenses.sh', 'feat'): 1,\n         ('internal/pipe/aur/testdata/TestRunPipeWrappedInDirectory.pkgbuild.golden',\n          'fix'): 1,\n         ('internal/pipe/aur/testdata/TestRunPipeWrappedInDirectory.srcinfo.golden',\n          'fix'): 1,\n         ('internal/artifact/artifact_test.go', 'test'): 4,\n         ('internal/client/github_test.go', 'test'): 5,\n         ('internal/commitauthor/author_test.go', 'test'): 2,\n         ('internal/gio/copy_test.go', 'test'): 2,\n         ('internal/middleware/errhandler/error_test.go', 'test'): 1,\n         ('internal/pipe/announce/announce_test.go', 'test'): 2,\n         ('internal/pipe/checksums/checksums_test.go', 'test'): 4,\n         ('internal/pipe/chocolatey/chocolatey_test.go', 'test'): 2,\n         ('internal/pipe/discord/discord_test.go', 'test'): 2,\n         ('internal/pipe/linkedin/linkedin_test.go', 'test'): 2,\n         ('internal/pipe/mastodon/mastodon_test.go', 'test'): 2,\n         ('internal/pipe/mattermost/mattermost_test.go', 'test'): 2,\n         ('internal/pipe/opencollective/opencollective_test.go', 'test'): 2,\n         ('internal/pipe/publish/publish_test.go', 'test'): 5,\n         ('internal/pipe/reddit/reddit_test.go', 'test'): 2,\n         ('internal/pipe/release/release_test.go', 'test'): 4,\n         ('internal/pipe/slack/slack_test.go', 'test'): 3,\n         ('internal/pipe/teams/teams_test.go', 'test'): 2,\n         ('internal/pipe/telegram/telegram_test.go', 'test'): 2,\n         ('internal/pipe/twitter/twitter_test.go', 'test'): 2,\n         ('internal/pipe/upx/upx_test.go', 'test'): 1,\n         ('internal/pipe/webhook/webhook_test.go', 'test'): 2,\n         ('internal/semerrgroup/sem_test.go', 'test'): 3,\n         ('internal/testlib/skip.go', 'test'): 1,\n         ('pkg/archive/gzip/gzip_test.go', 'test'): 1,\n         ('pkg/archive/tar/tar_test.go', 'test'): 4,\n         ('pkg/archive/targz/targz_test.go', 'test'): 2,\n         ('pkg/archive/tarxz/tarxz_test.go', 'test'): 3,\n         ('pkg/archive/zip/zip_test.go', 'test'): 3,\n         ('www/docs/blog/posts/2022-02-12-goreleaser-v1.5.md', 'docs'): 2,\n         ('internal/pipe/aur/testdata/TestFullPipe/custom-dir.pkgbuild.golden',\n          'feat'): 1,\n         ('internal/pipe/aur/testdata/TestFullPipe/custom-dir.srcinfo.golden',\n          'feat'): 1,\n         ('internal/client/github_test.go', 'fix'): 6,\n         ('www/docs/blog/posts/2023-09-27-release-cadence.md', 'docs'): 2,\n         ('internal/pipe/chocolatey/chocolatey.go', 'fix'): 4,\n         ('internal/pipe/chocolatey/chocolatey_test.go', 'fix'): 4,\n         ('www/docs/customization/chocolatey.md', 'fix'): 2,\n         ('internal/pipe/brew/brew.go', 'refactor'): 11,\n         ('internal/pipe/brew/brew_test.go', 'refactor'): 15,\n         ('.github/workflows/lint.yml', 'build'): 5,\n         ('www/docs/contributing.md', 'feat'): 4,\n         ('internal/pipe/sbom/sbom.go', 'SBOM'): 1,\n         ('internal/pipe/sbom/sbom_test.go', 'SBOM'): 1,\n         ('www/docs/customization/sbom.md', 'SBOM'): 1,\n         ('.github/workflows/milestone.yml', 'chore'): 15,\n         ('internal/pipe/linkedin/client_test.go', 'fix'): 3,\n         ('www/docs/blog/posts/2023-10-08-slsa-generation-for-your-artifacts.md',\n          'feat'): 1,\n         ('Dockerfile', 'fix'): 18,\n         ('cmd/build_test.go', 'fix'): 7,\n         ('www/docs/static/schema-pro.json', 'build'): 2,\n         ('www/docs/blog/posts/2023-11-06-goreleaser-v1.22.md', 'docs'): 1,\n         ('internal/static/config.yaml', 'docs'): 2,\n         ('internal/pipe/gomod/gomod_test.go', 'chore'): 1,\n         ('internal/pipe/docker/docker.go', 'adjusted'): 1,\n         ('internal/pipe/docker/docker.go', 'switched'): 1,\n         ('internal/pipe/docker/docker.go', 'more'): 1,\n         ('www/docs/errors/docker-build.md', 'more'): 1,\n         ('www/docs/errors/docker-build.md', 'spelling'): 1,\n         ('internal/pipe/aur/aur_test.go', 'test'): 3,\n         ('internal/pipe/brew/brew_test.go', 'test'): 3,\n         ('internal/pipe/nix/nix_test.go', 'test'): 1,\n         ('internal/pipe/scoop/scoop_test.go', 'test'): 7,\n         ('internal/pipe/winget/winget_test.go', 'test'): 2,\n         ('.github/workflows/generate-releases.yml', 'Merge'): 2,\n         ('www/docs/static/schema-pro.json', 'Merge'): 2,\n         ('www/docs/static/schema.json', 'Merge'): 3,\n         ('.github/workflows/generate-releases.yml', 'build'): 1,\n         ('www/docs/static/schema.json', 'build'): 1,\n         ('internal/pipe/nfpm/nfpm_test.go', 'docs'): 1,\n         ...})"
     },
     "execution_count": 86,
     "metadata": {},
     "output_type": "execute_result"
    }
   ],
   "source": [
    "counter = Counter()\n",
    "for commit in repo.iter_commits():\n",
    "    match = pattern.match(commit.message)\n",
    "    intent = match.group(1) if match else commit.message.split()[0]\n",
    "    for filename in commit.stats.files.keys():\n",
    "        if filename in exclusions:\n",
    "            continue\n",
    "        counter[(filename, intent)] += 1\n",
    "\n",
    "counter"
   ]
  },
  {
   "cell_type": "code",
   "execution_count": 87,
   "id": "20ab1f8b-ea77-46fa-acc9-b6fc78763d4f",
   "metadata": {
    "ExecuteTime": {
     "end_time": "2024-08-13T10:54:07.387497Z",
     "start_time": "2024-08-13T10:54:07.369907Z"
    }
   },
   "outputs": [
    {
     "data": {
      "text/plain": "[(('pkg/config/config.go', 'feat'), 247),\n (('.github/workflows/build.yml', 'chore'), 200),\n (('.github/workflows/release.yml', 'chore'), 130),\n (('README.md', 'Merge'), 88),\n (('.github/workflows/codeql.yml', 'chore'), 84),\n (('www/mkdocs.yml', 'docs'), 82),\n (('config/config.go', 'Merge'), 82),\n (('Dockerfile', 'feat'), 74),\n (('pipeline/brew/brew.go', 'Merge'), 69),\n (('www/docs/static/schema-pro.json', 'docs'), 67),\n (('www/docs/static/schema.json', 'chore'), 62),\n (('.github/workflows/nightly-oss.yml', 'chore'), 61),\n (('pkg/config/config.go', 'fix'), 60),\n (('internal/pipe/nfpm/nfpm.go', 'feat'), 57),\n (('pipeline/build/build.go', 'Merge'), 56),\n (('.github/workflows/generate.yml', 'chore'), 53),\n (('.github/workflows/lint.yml', 'chore'), 50),\n (('pipeline/brew/brew_test.go', 'Merge'), 50),\n (('pipeline/release/release.go', 'Merge'), 50),\n (('internal/client/github.go', 'feat'), 49),\n (('.github/workflows/docs.yml', 'chore'), 48),\n (('internal/pipe/brew/brew.go', 'feat'), 48),\n (('main.go', 'Merge'), 48),\n (('internal/tmpl/tmpl.go', 'feat'), 47),\n (('internal/pipe/nfpm/nfpm_test.go', 'feat'), 46),\n (('www/docs/install.md', 'docs'), 45),\n (('internal/pipe/brew/brew_test.go', 'feat'), 45),\n (('internal/artifact/artifact.go', 'feat'), 44),\n (('USERS.md', 'docs'), 42),\n (('config/config.go', 'feat'), 42),\n (('www/docs/static/releases.json', 'chore'), 41),\n (('internal/pipe/brew/brew.go', 'fix'), 41),\n (('context/context.go', 'Merge'), 41),\n (('internal/pipe/snapcraft/snapcraft.go', 'fix'), 40),\n (('internal/client/github.go', 'fix'), 40),\n (('www/docs/ci/actions.md', 'docs'), 39),\n (('internal/pipe/scoop/scoop.go', 'feat'), 39),\n (('pipeline/defaults/defaults.go', 'Merge'), 39),\n (('www/docs/static/schema-pro.json', 'chore'), 38),\n (('.goreleaser.yml', 'feat'), 38),\n (('pipeline/git/git.go', 'Merge'), 38),\n (('www/docs/customization/release.md', 'docs'), 37),\n (('www/docs/customization/nfpm.md', 'feat'), 37),\n (('internal/pipe/docker/docker.go', 'feat'), 37),\n (('internal/tmpl/tmpl_test.go', 'feat'), 37),\n (('www/docs/customization/templates.md', 'feat'), 37),\n (('pkg/defaults/defaults.go', 'feat'), 36),\n (('internal/pipe/docker/docker_test.go', 'feat'), 36),\n (('pkg/context/context.go', 'feat'), 36),\n (('pipeline/fpm/fpm.go', 'Merge'), 36),\n (('internal/pipeline/pipeline.go', 'feat'), 35),\n (('www/docs/customization/nfpm.md', 'docs'), 35),\n (('www/docs/static/releases-pro.json', 'chore'), 35),\n (('internal/builders/golang/build.go', 'feat'), 35),\n (('www/docs/customization/homebrew.md', 'docs'), 34),\n (('internal/pipe/docker/docker.go', 'fix'), 34),\n (('www/docs/deprecations.md', 'feat'), 33),\n (('www/mkdocs.yml', 'feat'), 33),\n (('www/docs/pro.md', 'docs'), 33),\n (('internal/builders/golang/build_test.go', 'feat'), 33),\n (('internal/pipe/nfpm/nfpm.go', 'fix'), 33),\n (('.goreleaser.yml', 'fix'), 33),\n (('www/docs/cmd/goreleaser_release.md', 'docs'), 32),\n (('.goreleaser.yaml', 'feat'), 32),\n (('www/docs/customization/docker.md', 'docs'), 32),\n (('www/docs/static/latest', 'chore'), 32),\n (('www/docs/static/latest-pro', 'chore'), 32),\n (('internal/builders/golang/build.go', 'fix'), 32),\n (('www/docs/deprecations.md', 'docs'), 31),\n (('README.md', 'docs'), 31),\n (('www/docs/customization/templates.md', 'docs'), 31),\n (('pipeline/archive/archive.go', 'Merge'), 31),\n (('www/docs/static/schema.json', 'docs'), 30),\n (('internal/pipe/build/build.go', 'feat'), 30),\n (('internal/pipe/snapcraft/snapcraft.go', 'feat'), 30),\n (('Gopkg.lock', 'fix'), 30),\n (('.travis.yml', 'Merge'), 30),\n (('internal/pipe/brew/brew_test.go', 'fix'), 29),\n (('pipeline/build/build_test.go', 'Merge'), 29),\n (('goreleaserlib/goreleaser.go', 'Merge'), 29),\n (('internal/pipe/archive/archive.go', 'feat'), 28),\n (('internal/pipe/build/build_test.go', 'feat'), 28),\n (('internal/pipe/scoop/scoop_test.go', 'feat'), 28),\n (('www/docs/customization/build.md', 'docs'), 28),\n (('internal/pipe/sign/sign.go', 'feat'), 26),\n (('www/docs/customization/scoop.md', 'docs'), 26),\n (('internal/artifact/artifact_test.go', 'feat'), 26),\n (('internal/pipe/changelog/changelog.go', 'feat'), 26),\n (('internal/builders/golang/build_test.go', 'fix'), 26),\n (('internal/pipe/docker/docker_test.go', 'fix'), 26),\n (('CONTRIBUTING.md', 'docs'), 25),\n (('internal/http/http.go', 'feat'), 25),\n (('internal/pipe/archive/archive_test.go', 'feat'), 25),\n (('.github/workflows/build.yml', 'feat'), 25),\n (('.goreleaser.yml', 'chore'), 25),\n (('pipeline/docker/docker.go', 'Merge'), 25),\n (('pipeline/defaults/defaults_test.go', 'Merge'), 25),\n (('goreleaser.yml', 'Merge'), 25),\n (('Dockerfile', 'chore'), 24),\n (('www/docs/customization/archive.md', 'docs'), 24),\n (('.github/workflows/gitleaks.yml', 'chore'), 24),\n (('cmd/release.go', 'feat'), 24),\n (('README.md', 'Update'), 24),\n (('internal/client/gitlab.go', 'feat'), 23),\n (('internal/pipe/release/release.go', 'feat'), 23),\n (('internal/pipe/release/release_test.go', 'feat'), 23),\n (('internal/artifact/artifact.go', 'fix'), 23),\n (('internal/pipe/archive/archive.go', 'fix'), 23),\n (('internal/pipe/scoop/scoop.go', 'fix'), 23),\n (('main.go', 'fix'), 23),\n (('.goreleaser.yaml', 'build'), 22),\n (('www/docs/customization/sign.md', 'docs'), 22),\n (('www/docs/cmd/goreleaser_build.md', 'docs'), 22),\n (('www/docs/customization/hooks.md', 'docs'), 22),\n (('www/docs/customization/snapcraft.md', 'docs'), 22),\n (('www/docs/quick-start.md', 'docs'), 22),\n (('.github/workflows/depsreview.yaml', 'chore'), 22),\n (('internal/pipe/changelog/changelog_test.go', 'feat'), 22),\n (('internal/pipe/git/git.go', 'feat'), 22),\n (('www/docs/customization/homebrew.md', 'feat'), 22),\n (('www/docs/static/schema.json', 'feat'), 22),\n (('www/content/ci.md', 'docs'), 22),\n (('config/config_test.go', 'Merge'), 22),\n (('internal/pipe/snapcraft/snapcraft_test.go', 'fix'), 21),\n (('.github/workflows/grype.yml', 'chore'), 21),\n (('www/docs/users.md', 'docs'), 21),\n (('internal/pipe/publish/publish.go', 'feat'), 21),\n (('internal/pipe/snapcraft/snapcraft_test.go', 'feat'), 21),\n (('.travis.yml', 'chore'), 21),\n (('pipeline/checksums/checksums.go', 'Merge'), 21),\n (('pipeline/release/release_test.go', 'Merge'), 21),\n (('www/docs/customization/blob.md', 'docs'), 20),\n (('www/docs/static/schema.json', 'fix'), 20),\n (('.github/workflows/build.yml', 'fix'), 20),\n (('www/docs/customization/changelog.md', 'docs'), 20),\n (('cmd/build.go', 'feat'), 20),\n (('internal/client/client.go', 'feat'), 20),\n (('internal/client/github_test.go', 'feat'), 20),\n (('main.go', 'feat'), 20),\n (('internal/pipe/nfpm/nfpm_test.go', 'fix'), 20),\n (('internal/client/github.go', 'Merge'), 20),\n (('www/docs/users.md', 'chore'), 19),\n (('www/docs/customization/docker_manifest.md', 'docs'), 19),\n (('internal/pipe/changelog/changelog.go', 'fix'), 19),\n (('internal/pipe/sign/sign_test.go', 'feat'), 19),\n (('.github/workflows/fig.yml', 'chore'), 19),\n (('pipeline/env/env.go', 'Merge'), 19),\n (('www/docs/customization/fury.md', 'docs'), 18),\n (('www/docs/customization/monorepo.md', 'docs'), 18),\n (('www/docs/ci/gitlab.md', 'docs'), 18),\n (('internal/pipe/git/git.go', 'fix'), 18),\n (('internal/artifact/artifact.go', 'refactor'), 18),\n (('Dockerfile', 'fix'), 18),\n (('internal/pipe/scoop/scoop_test.go', 'fix'), 18),\n (('pipeline/snapcraft/snapcraft.go', 'Merge'), 18),\n (('pipeline/archive/archive_test.go', 'Merge'), 18),\n (('pipeline/git/git_test.go', 'Merge'), 18),\n (('pipeline/snapcraft/snapcraft_test.go', 'Merge'), 18),\n (('pipeline/fpm/fpm_test.go', 'Merge'), 18),\n (('www/docs/customization/publishers.md', 'docs'), 17),\n (('www/docs/cmd/goreleaser.md', 'docs'), 17),\n (('internal/pipe/release/release.go', 'fix'), 17),\n (('internal/pipe/blob/upload.go', 'feat'), 17),\n (('cmd/root.go', 'feat'), 17),\n (('internal/pipe/announce/announce.go', 'feat'), 17),\n (('internal/pipe/brew/template.go', 'feat'), 17),\n (('internal/pipe/git/git_test.go', 'feat'), 17),\n (('internal/pipe/krew/krew.go', 'feat'), 17),\n (('www/docs/customization/release.md', 'feat'), 17),\n (('internal/pipe/archive/archive_test.go', 'fix'), 17),\n (('www/docs/customization/build.md', 'feat'), 17),\n (('pipeline/build/name_test.go', 'Merge'), 17),\n (('www/docs/customization/docker_sign.md', 'docs'), 16),\n (('Taskfile.yml', 'docs'), 16),\n (('internal/http/http_test.go', 'feat'), 16),\n (('internal/client/gitea.go', 'feat'), 16),\n (('internal/pipe/docker/docker_test.go', 'refactor'), 16),\n (('www/content/deprecations.md', 'feat'), 16),\n (('pipeline/build/build.go', 'refactor'), 16),\n (('pipeline/brew/brew_test.go', 'fix'), 16),\n (('pipeline/release/body.go', 'Merge'), 16),\n (('.goreleaser.yml', 'Merge'), 16),\n (('www/docs/customization/snapshots.md', 'docs'), 15),\n (('www/docs/customization/checksum.md', 'docs'), 15),\n (('www/docs/customization/source.md', 'docs'), 15),\n (('www/docs/customization/universalbinaries.md', 'docs'), 15),\n (('internal/pipe/blob/blob.go', 'feat'), 15),\n (('www/docs/customization/archive.md', 'feat'), 15),\n (('internal/pipe/checksums/checksums.go', 'feat'), 15),\n (('cmd/build.go', 'fix'), 15),\n (('www/docs/customization/scoop.md', 'feat'), 15),\n (('internal/pipe/brew/brew_test.go', 'refactor'), 15),\n (('.github/workflows/milestone.yml', 'chore'), 15),\n (('CONTRIBUTING.md', 'Merge'), 15),\n (('pipeline/docker/docker.go', 'fix'), 15),\n (('pipeline/checksums/checksums_test.go', 'Merge'), 15),\n (('pipeline/docker/docker_test.go', 'Merge'), 15),\n (('Gopkg.lock', 'Merge'), 15),\n (('context/context_test.go', 'Merge'), 15),\n (('goreleaserlib/goreleaser_test.go', 'Merge'), 15),\n (('internal/client/gitlab.go', 'fix'), 14),\n (('www/docs/customization/artifactory.md', 'docs'), 14),\n (('www/docs/customization/aur.md', 'docs'), 14),\n (('www/docs/customization/builds.md', 'docs'), 14),\n (('www/docs/intro.md', 'docs'), 14),\n (('www/docs/overrides/home.html', 'docs'), 14),\n (('internal/pipe/blob/blob_minio_test.go', 'feat'), 14),\n (('internal/artifact/artifact_test.go', 'refactor'), 14),\n (('internal/builders/golang/build_test.go', 'test'), 14),\n (('internal/pipe/docker/docker_test.go', 'test'), 14),\n (('www/docs/links.md', 'docs'), 14),\n (('internal/pipe/release/release_test.go', 'refactor'), 14),\n (('pipeline/brew/brew.go', 'fix'), 14),\n (('pipeline/docker/docker.go', 'feat'), 14),\n (('pipeline/release/body_test.go', 'Merge'), 14),\n (('www/docs/customization/partial.md', 'docs'), 13),\n (('internal/pipe/blob/blob_test.go', 'feat'), 13),\n (('internal/pipe/checksums/checksums_test.go', 'feat'), 13),\n (('internal/pipe/env/env.go', 'feat'), 13),\n (('internal/pipe/nix/nix.go', 'feat'), 13),\n (('internal/http/http.go', 'fix'), 13),\n (('internal/pipe/sign/sign.go', 'fix'), 13),\n (('internal/pipe/docker/docker.go', 'refactor'), 13),\n (('internal/pipe/aur/aur.go', 'fix'), 13),\n (('internal/pipe/nix/nix.go', 'fix'), 13),\n (('.goreleaser.yaml', 'chore'), 13),\n (('internal/pipe/build/build_test.go', 'fix'), 13),\n (('Taskfile.yml', 'chore'), 13),\n (('www/content/actions.md', 'docs'), 13),\n (('pipeline/build/name.go', 'Merge'), 13),\n (('README.md', 'readme'), 13),\n (('pipeline/compress/compress.go', 'Merge'), 13),\n (('internal/tmpl/tmpl.go', 'fix'), 12),\n (('internal/pipe/defaults/defaults_test.go', 'feat'), 12),\n (('www/docs/customization/krew.md', 'docs'), 12),\n (('www/docs/customization/upload.md', 'docs'), 12),\n (('internal/pipe/nfpm/nfpm_test.go', 'test'), 12),\n (('www/docs/scm/gitlab.md', 'docs'), 12),\n (('internal/pipe/changelog/changelog_test.go', 'fix'), 12),\n (('www/docs/customization/blob.md', 'feat'), 12),\n (('cmd/build_test.go', 'feat'), 12),\n (('cmd/util_test.go', 'feat'), 12),\n (('internal/skips/skips.go', 'feat'), 12),\n (('internal/client/gitlab_test.go', 'feat'), 12),\n (('internal/exec/exec.go', 'feat'), 12),\n (('internal/pipe/aur/aur.go', 'feat'), 12),\n (('internal/pipe/aur/aur_test.go', 'feat'), 12),\n (('internal/pipe/krew/krew_test.go', 'feat'), 12),\n (('main_test.go', 'feat'), 12),\n (('internal/pipeline/pipeline.go', 'fix'), 12),\n (('internal/pipe/release/release.go', 'refactor'), 12),\n (('internal/pipe/scoop/scoop_test.go', 'refactor'), 12),\n (('internal/artifact/artifact_test.go', 'fix'), 12),\n (('internal/pipe/build/build_test.go', 'test'), 12),\n (('CONTRIBUTING.md', 'feat'), 12),\n (('internal/pipe/brew/template.go', 'fix'), 12),\n (('www/content/quick-start.md', 'docs'), 12),\n (('www/content/release.md', 'docs'), 12),\n (('pipeline/archive/archive.go', 'refactor'), 12),\n (('pipeline/defaults/defaults.go', 'feat'), 12),\n (('www/docs/customization/nix.md', 'docs'), 11),\n (('www/docs/customization/sign.md', 'feat'), 11),\n (('www/docs/customization/index.md', 'docs'), 11),\n (('flake.lock', 'chore'), 11),\n (('internal/client/github.go', 'chore'), 11),\n (('www/docs/contributing.md', 'docs'), 11),\n (('internal/pipe/gomod/gomod.go', 'fix'), 11),\n (('cmd/release_test.go', 'feat'), 11),\n (('internal/pipe/docker/manifest.go', 'feat'), 11),\n (('internal/pipe/archive/archive.go', 'refactor'), 11),\n (('internal/tmpl/tmpl.go', 'refactor'), 11),\n (('www/docs/customization/docker.md', 'feat'), 11),\n (('internal/pipe/build/build.go', 'fix'), 11),\n (('pkg/config/config.go', 'refactor'), 11),\n (('internal/pipe/sign/sign_test.go', 'test'), 11),\n (('internal/pipe/brew/brew.go', 'refactor'), 11),\n (('internal/pipe/git/git_test.go', 'fix'), 11),\n (('internal/pipe/scoop/scoop.go', 'refactor'), 11),\n (('internal/builders/golang/build_test.go', 'refactor'), 11),\n (('.github/workflows/gosum.yml', 'chore'), 11),\n (('.travis.yml', 'docs'), 11),\n (('www/content/build.md', 'docs'), 11),\n (('pipeline/build/build_test.go', 'test'), 11),\n (('pipeline/docker/docker_test.go', 'test'), 11),\n (('www/docs/customization/nightlies.md', 'docs'), 10),\n (('www/docs/sponsors.md', 'docs'), 10),\n (('www/docs/customization/env.md', 'docs'), 10),\n (('www/docs/customization/includes.md', 'docs'), 10),\n (('www/docs/includes/repository.md', 'docs'), 10),\n (('www/docs/limitations/cgo.md', 'docs'), 10),\n (('internal/client/gitea.go', 'fix'), 10),\n (('cmd/init.go', 'feat'), 10),\n (('internal/client/gitea_test.go', 'feat'), 10),\n (('internal/pipe/nix/nix_test.go', 'feat'), 10),\n (('internal/pipe/release/body_test.go', 'feat'), 10),\n (('internal/pipe/universalbinary/universalbinary.go', 'feat'), 10),\n (('internal/pipe/winget/winget.go', 'feat'), 10),\n (('internal/pipe/brew/testdata/TestFullPipe/custom_block.rb.golden', 'feat'),\n  10),\n (('internal/pipe/brew/testdata/TestFullPipe/custom_download_strategy.rb.golden',\n   'feat'),\n  10),\n (('internal/pipe/brew/testdata/TestFullPipe/custom_require.rb.golden',\n   'feat'),\n  10),\n (('internal/pipe/brew/testdata/TestFullPipe/default.rb.golden', 'feat'), 10),\n (('internal/pipe/brew/testdata/TestFullPipe/default_gitlab.rb.golden',\n   'feat'),\n  10),\n (('internal/pipe/nfpm/nfpm.go', 'refactor'), 10),\n (('.goreleaser.yaml', 'fix'), 10),\n (('internal/pipe/aur/aur_test.go', 'fix'), 10),\n (('.github/ISSUE_TEMPLATE/bug.yaml', 'docs'), 10),\n (('.github/workflows/lock.yml', 'chore'), 10),\n (('internal/pipe/gofish/gofish.go', 'feat'), 10),\n (('internal/pipe/archive/archive_test.go', 'refactor'), 10),\n (('www/content/archive.md', 'docs'), 10),\n (('www/content/build.md', 'feat'), 10),\n (('Gopkg.lock', 'bump'), 10),\n (('Gopkg.toml', 'Merge'), 10),\n (('internal/name/name_test.go', 'Merge'), 10),\n (('pipeline/env/env_test.go', 'Merge'), 10),\n (('pipeline/build/target.go', 'Merge'), 10),\n (('pipeline/source/source.go', 'Merge'), 10),\n (('pipeline/repos/repos.go', 'Merge'), 10),\n (('.gitignore', 'docs'), 9),\n (('www/docs/customization/dockerhub.md', 'docs'), 9),\n (('www/docs/customization/git.md', 'docs'), 9),\n (('www/docs/customization/milestone.md', 'docs'), 9),\n (('cmd/root.go', 'fix'), 9),\n (('internal/client/mock.go', 'feat'), 9),\n (('internal/exec/exec_test.go', 'feat'), 9),\n (('internal/pipe/before/before.go', 'feat'), 9),\n (('internal/pipe/before/before_test.go', 'feat'), 9),\n (('internal/pipe/env/env_test.go', 'feat'), 9),\n (('internal/pipe/release/body.go', 'feat'), 9),\n (('internal/pipe/slack/slack.go', 'feat'), 9),\n (('internal/pipe/sourcearchive/source.go', 'feat'), 9),\n (('internal/pipe/teams/teams.go', 'feat'), 9),\n (('internal/pipe/telegram/telegram.go', 'feat'), 9),\n (('internal/pipe/twitter/twitter.go', 'feat'), 9),\n (('internal/pipe/universalbinary/universalbinary_test.go', 'feat'), 9),\n (('cmd/release.go', 'fix'), 9),\n (('internal/exec/exec.go', 'fix'), 9),\n (('internal/http/http.go', 'refactor'), 9),\n (('internal/tmpl/tmpl_test.go', 'refactor'), 9),\n (('www/docs/customization/changelog.md', 'feat'), 9),\n (('internal/pipe/changelog/changelog.go', 'refactor'), 9),\n (('internal/pipe/winget/winget.go', 'fix'), 9),\n (('internal/pipe/snapcraft/snapcraft_test.go', 'test'), 9),\n (('internal/pipe/git/git.go', 'refactor'), 9),\n (('.github/workflows/generate-releases.yml', 'chore'), 9),\n (('www/docs/customization/snapcraft.md', 'feat'), 9),\n (('internal/builders/golang/build.go', 'refactor'), 9),\n (('www/docs/cookbooks/blog-posts.md', 'docs'), 9),\n (('www/docs/ci/actions.md', 'feat'), 9),\n (('internal/pipeline/pipeline.go', 'refactor'), 9),\n (('internal/static/config.go', 'fix'), 9),\n (('.golangci.yml', 'chore'), 9),\n (('internal/pipe/checksums/checksums_test.go', 'refactor'), 9),\n (('internal/pipe/build/build_test.go', 'refactor'), 9),\n (('internal/builders/golang/targets.go', 'feat'), 9),\n (('internal/builders/golang/targets_test.go', 'feat'), 9),\n (('www/content/docker.md', 'docs'), 9),\n (('www/content/environment.md', 'docs'), 9),\n (('www/themes/hugo-apex-theme', 'docs'), 9),\n (('pipeline/build/build_test.go', 'refactor'), 9),\n (('pipeline/checksums/checksums.go', 'refactor'), 9),\n (('pipeline/docker/docker.go', 'refactor'), 9),\n (('pipeline/docker/docker_test.go', 'feat'), 9),\n (('pipeline/artifactory/artifactory.go', 'fix'), 9),\n (('docs/020-environment.md', 'docs'), 9),\n (('pipeline/build/ldflags.go', 'Merge'), 9),\n (('pipeline/build/ldflags_test.go', 'Merge'), 9),\n (('config/config.go', 'added'), 9),\n (('internal/pipe/ko/ko_test.go', 'feat'), 8),\n (('www/docs/customization/announce/twitter.md', 'docs'), 8),\n (('www/docs/cmd/goreleaser_announce.md', 'docs'), 8),\n (('internal/pipe/chocolatey/chocolatey.go', 'feat'), 8),\n (('pkg/archive/archive.go', 'feat'), 8),\n (('pkg/archive/archive_test.go', 'feat'), 8),\n (('internal/pipe/blob/upload.go', 'fix'), 8),\n (('cmd/check.go', 'feat'), 8),\n (('internal/builders/buildtarget/targets.go', 'feat'), 8),\n (('internal/builders/buildtarget/targets_test.go', 'feat'), 8),\n (('internal/pipe/artifactory/artifactory_test.go', 'feat'), 8),\n (('internal/pipe/discord/discord.go', 'feat'), 8),\n (('internal/pipe/milestone/milestone_test.go', 'feat'), 8),\n (('internal/pipe/reddit/reddit.go', 'feat'), 8),\n (('internal/pipe/smtp/smtp.go', 'feat'), 8),\n (('internal/pipe/upload/upload_test.go', 'feat'), 8),\n (('internal/pipe/winget/winget_test.go', 'feat'), 8),\n (('internal/builders/golang/build.go', 'Merge'), 8),\n (('internal/pipe/docker/api.go', 'fix'), 8),\n (('internal/pipe/krew/krew.go', 'fix'), 8),\n (('internal/pipe/build/build.go', 'refactor'), 8),\n (('.github/workflows/build.yml', 'build'), 8),\n (('Taskfile.yml', 'build'), 8),\n (('www/docs/customization/krew.md', 'feat'), 8),\n (('internal/pipe/universalbinary/universalbinary_test.go', 'test'), 8),\n (('www/docs/install.md', 'feat'), 8),\n (('internal/git/config.go', 'fix'), 8),\n (('internal/git/git.go', 'fix'), 8),\n (('internal/pipe/nfpm/nfpm_test.go', 'refactor'), 8),\n (('internal/pipe/publish/publish.go', 'refactor'), 8),\n (('internal/pipe/sign/sign_test.go', 'refactor'), 8),\n (('internal/pipe/brew/testdata/TestFullPipe/valid_tap_templates.rb.golden',\n   'feat'),\n  8),\n (('pkg/context/context.go', 'fix'), 8),\n (('.github/workflows/lint.yml', 'feat'), 8),\n (('internal/pipe/docker/manifest.go', 'fix'), 8),\n (('internal/pipe/archive/archive.go', 'chore'), 8),\n (('internal/pipe/gofish/gofish_test.go', 'feat'), 8),\n (('internal/pipe/brew/testdata/custom_download_strategy.rb.golden', 'fix'),\n  8),\n (('internal/pipe/brew/testdata/custom_require.rb.golden', 'fix'), 8),\n (('www/content/introduction.md', 'docs'), 8),\n (('www/static/apple-touch-icon.png', 'docs'), 8),\n (('.travis.yml', 'fix'), 8),\n (('www/content/homebrew.md', 'feat'), 8),\n (('.gitignore', 'Merge'), 8),\n (('pipeline/snapcraft/snapcraft.go', 'refactor'), 8),\n (('pipeline/brew/brew_test.go', 'feat'), 8),\n (('config/config.go', 'fix'), 8),\n (('Gopkg.lock', 'feat'), 8),\n (('docs/000-introduction.md', 'docs'), 8),\n (('docs/130-docker.md', 'docs'), 8),\n (('pipeline/archive/archive.go', 'fix'), 8),\n (('pipeline/defaults/remote_test.go', 'Merge'), 8),\n (('pipeline/pipe.go', 'Merge'), 8),\n (('pipeline/brew/brew.go', 'fixed'), 8),\n (('README.md', 'Add'), 8),\n (('README.md', 'added'), 8),\n (('clients/github.go', 'Merge'), 8),\n (('internal/pipe/ko/ko.go', 'feat'), 7),\n (('internal/tmpl/tmpl_test.go', 'fix'), 7),\n (('internal/pipe/ko/ko_test.go', 'test'), 7),\n (('internal/pipe/defaults/defaults.go', 'feat'), 7),\n (('internal/pipe/snapshot/snapshot.go', 'feat'), 7),\n (('www/docs/customization/announce/discord.md', 'docs'), 7),\n (('www/docs/customization/announce/reddit.md', 'docs'), 7),\n (('www/docs/customization/announce/slack.md', 'docs'), 7),\n (('www/docs/customization/announce/smtp.md', 'docs'), 7),\n (('www/docs/customization/announce/teams.md', 'docs'), 7),\n (('www/docs/customization/announce/telegram.md', 'docs'), 7),\n (('www/docs/customization/chocolatey.md', 'docs'), 7),\n (('www/docs/customization/winget.md', 'docs'), 7),\n (('www/docs/cmd/goreleaser_check.md', 'docs'), 7),\n (('www/docs/cmd/goreleaser_completion.md', 'docs'), 7),\n (('www/docs/cmd/goreleaser_publish.md', 'docs'), 7),\n (('internal/deprecate/deprecate.go', 'feat'), 7),\n (('internal/extrafiles/extra_files_test.go', 'feat'), 7),\n (('internal/pipe/mattermost/mattermost.go', 'feat'), 7),\n (('internal/pipe/publish/publish_test.go', 'feat'), 7),\n (('internal/pipe/sbom/sbom.go', 'feat'), 7),\n (('internal/pipe/sign/sign_docker_test.go', 'feat'), 7),\n (('internal/pipe/webhook/webhook.go', 'feat'), 7),\n (('internal/pipe/winget/template.go', 'feat'), 7),\n (('internal/testlib/git.go', 'feat'), 7),\n (('internal/pipe/release/release.go', 'chore'), 7),\n (('.gitignore', 'chore'), 7),\n (('internal/pipe/sbom/sbom.go', 'fix'), 7),\n (('internal/pipe/sign/sign_test.go', 'fix'), 7),\n (('internal/pipe/snapcraft/snapcraft.go', 'refactor'), 7),\n (('www/docs/customization/checksum.md', 'feat'), 7),\n (('.github/workflows/release.yml', 'build'), 7),\n (('internal/pipe/release/release_test.go', 'fix'), 7),\n (('.github/workflows/generate.yml', 'build'), 7),\n (('www/docs/static/run', 'fix'), 7),\n (('www/docs/customization/nix.md', 'feat'), 7),\n (('www/docs/overrides/main.html', 'docs'), 7),\n (('internal/pipe/git/git_test.go', 'test'), 7),\n (('internal/pipe/nix/tmpl.nix', 'fix'), 7),\n (('internal/pipe/nix/testdata/TestRunPipe/wrapped-in-dir_build.nix.golden',\n   'fix'),\n  7),\n (('internal/pipe/nix/testdata/TestRunPipe/wrapped-in-dir_publish.nix.golden',\n   'fix'),\n  7),\n (('internal/pipe/docker/api_docker.go', 'fix'), 7),\n (('internal/pipe/nix/nix_test.go', 'fix'), 7),\n (('www/htmltest.yml', 'docs'), 7),\n (('.github/workflows/generate.yml', 'feat'), 7),\n (('cmd/build_test.go', 'fix'), 7),\n (('internal/pipe/scoop/scoop_test.go', 'test'), 7),\n (('internal/pipe/brew/brew.go', 'chore'), 7),\n (('internal/pipe/env/env_test.go', 'refactor'), 7),\n (('internal/pipe/git/git_test.go', 'refactor'), 7),\n (('internal/pipe/env/env.go', 'fix'), 7),\n (('internal/client/gitlab_test.go', 'test'), 7),\n (('internal/golden/golden.go', 'feat'), 7),\n (('www/docs/ci/codefresh.md', 'feat'), 7),\n (('internal/pipe/changelog/changelog_test.go', 'refactor'), 7),\n (('www/docs/customization/build.md', 'fix'), 7),\n (('scripts/entrypoint.sh', 'fix'), 7),\n (('pkg/defaults/defaults.go', 'chore'), 7),\n (('internal/http/http_test.go', 'refactor'), 7),\n (('internal/builders/golang/targets.go', 'fix'), 7),\n (('internal/pipe/brew/testdata/test.rb.golden', 'feat'), 7),\n (('internal/pipe/brew/testdata/custom_block.rb.golden', 'fix'), 7),\n (('internal/pipe/brew/testdata/default.rb.golden', 'fix'), 7),\n (('internal/pipe/brew/testdata/test.rb.golden', 'fix'), 7),\n (('internal/pipe/artifactory/artifactory_test.go', 'refactor'), 7),\n (('internal/http/http_test.go', 'fix'), 7),\n (('www/content/deprecations.md', 'docs'), 7),\n (('www/content/tutorials.md', 'docs'), 7),\n (('www/content/templates.md', 'feat'), 7),\n (('www/content/scoop.md', 'feat'), 7),\n (('www/content/release.md', 'feat'), 7),\n (('pipeline/artifactory/artifactory.go', 'refactor'), 7),\n (('pipeline/fpm/fpm.go', 'refactor'), 7),\n (('pipeline/brew/brew.go', 'feat'), 7),\n (('pipeline/snapcraft/snapcraft.go', 'fix'), 7),\n (('pipeline/build/build.go', 'fix'), 7),\n (('internal/git/git.go', 'Merge'), 7),\n (('pipeline/brew/template.go', 'fix'), 7),\n (('context/context.go', 'feat'), 7),\n (('Gopkg.toml', 'feat'), 7),\n (('.github/ISSUE_TEMPLATE.md', 'docs'), 7),\n (('docs/140-ci.md', 'docs'), 7),\n (('pipeline/release/release.go', 'fix'), 7),\n (('Gopkg.toml', 'fix'), 7),\n (('pipeline/fpm/fpm.go', 'fix'), 7),\n (('goreleaserlib/goreleaser.go', 'fix'), 7),\n (('pipeline/artifactory/artifactory_test.go', 'test'), 7),\n (('docs/130-docker.md', 'Merge'), 7),\n (('docs/115-release.md', 'Merge'), 7),\n (('checksum/checksum.go', 'Merge'), 7),\n (('docs/120-homebrew.md', 'Merge'), 7),\n (('client/github.go', 'Merge'), 7),\n (('www/docs/customization/ko.md', 'feat'), 6),\n (('internal/pipe/snapshot/snapshot_test.go', 'feat'), 6),\n (('internal/pipe/sourcearchive/source.go', 'fix'), 6),\n (('www/docs/customization/announce/linkedin.md', 'docs'), 6),\n (('www/docs/customization/announce/mattermost.md', 'docs'), 6),\n (('www/docs/customization/announce/webhook.md', 'docs'), 6),\n (('www/docs/customization/notarize.md', 'docs'), 6),\n (('www/docs/customization/templatefiles.md', 'docs'), 6),\n (('www/docs/cmd/goreleaser_completion_zsh.md', 'docs'), 6),\n (('www/docs/cmd/goreleaser_continue.md', 'docs'), 6),\n (('www/docs/cmd/goreleaser_init.md', 'docs'), 6),\n (('www/docs/cookbooks/build-go-modules.md', 'docs'), 6),\n (('www/docs/customization/announce/index.md', 'docs'), 6),\n (('www/docs/customization/dist.md', 'docs'), 6),\n (('www/docs/errors/resource-not-accessible-by-integration.md', 'docs'), 6),\n (('www/docs/limitations/semver.md', 'docs'), 6),\n (('internal/pipe/checksums/checksums.go', 'fix'), 6),\n (('www/docs/customization/sbom.md', 'docs'), 6),\n (('www/docs/customization/verifiable_builds.md', 'docs'), 6),\n (('internal/client/gitlab_test.go', 'fix'), 6),\n (('www/docs/customization/upload.md', 'feat'), 6),\n (('cmd/config.go', 'feat'), 6),\n (('cmd/schema.go', 'feat'), 6),\n (('internal/client/config.go', 'feat'), 6),\n (('internal/deprecate/deprecate_test.go', 'feat'), 6),\n (('internal/extrafiles/extra_files.go', 'feat'), 6),\n (('internal/git/config.go', 'feat'), 6),\n (('internal/pipe/docker/api.go', 'feat'), 6),\n (('internal/pipe/gomod/gomod.go', 'feat'), 6),\n (('internal/pipe/gomod/gomod_proxy_test.go', 'feat'), 6),\n (('internal/pipe/linkedin/linkedin.go', 'feat'), 6),\n (('internal/pipe/metadata/metadata.go', 'feat'), 6),\n (('internal/pipe/milestone/milestone.go', 'feat'), 6),\n (('internal/pipe/sign/sign_docker.go', 'feat'), 6),\n (('internal/pipe/twitter/twitter_test.go', 'feat'), 6),\n (('internal/pipe/upload/upload.go', 'feat'), 6),\n (('internal/shell/shell.go', 'feat'), 6),\n (('pkg/archive/gzip/gzip.go', 'feat'), 6),\n (('internal/pipe/brew/testdata/TestFullPipe/open_pr.rb.golden', 'feat'), 6),\n (('internal/pipe/brew/testdata/TestRunPipeForMultipleArmVersions/multiple_armv5.rb.golden',\n   'feat'),\n  6),\n (('internal/pipe/brew/testdata/TestRunPipeForMultipleArmVersions/multiple_armv6.rb.golden',\n   'feat'),\n  6),\n (('internal/pipe/brew/testdata/TestRunPipeForMultipleArmVersions/multiple_armv7.rb.golden',\n   'feat'),\n  6),\n (('pkg/archive/zip/zip_test.go', 'fix'), 6),\n (('pkg/defaults/defaults.go', 'fix'), 6),\n (('internal/pipe/docker/manifest.go', 'refactor'), 6),\n (('internal/pipe/brew/testdata/TestFullFormulae.rb.golden', 'fix'), 6),\n (('internal/pipe/changelog/changelog_test.go', 'test'), 6),\n (('internal/pipe/nix/testdata/TestRunPipe/unibin-replaces_build.nix.golden',\n   'fix'),\n  6),\n (('internal/pipe/nix/testdata/TestRunPipe/unibin-replaces_publish.nix.golden',\n   'fix'),\n  6),\n (('.github/workflows/generate.yml', 'fix'), 6),\n (('internal/client/github_test.go', 'fix'), 6),\n (('internal/client/github.go', 'refactor'), 6),\n (('internal/testlib/git.go', 'refactor'), 6),\n (('internal/pipe/sign/sign.go', 'refactor'), 6),\n (('internal/pipe/snapshot/snapshot.go', 'fix'), 6),\n (('internal/client/client.go', 'fix'), 6),\n (('internal/pipe/winget/winget_test.go', 'fix'), 6),\n (('internal/pipe/blob/blob_minio_test.go', 'test'), 6),\n (('www/docs/customization/docker_manifest.md', 'feat'), 6),\n (('www/docs/ci/azurepipelines.md', 'docs'), 6),\n (('pkg/archive/zip/zip.go', 'fix'), 6),\n (('.github/workflows/docs.yml', 'fix'), 6),\n (('internal/deprecate/deprecate.go', 'fix'), 6),\n (('.github/workflows/docs.yml', 'feat'), 6),\n (('internal/pipe/publish/publish.go', 'fix'), 6),\n (('internal/git/git.go', 'refactor'), 6),\n (('www/docs/ci/circle.md', 'feat'), 6),\n (('.github/ISSUE_TEMPLATE/Feature_request.md', 'docs'), 6),\n (('internal/linux/arch.go', 'fix'), 6),\n (('internal/client/client.go', 'refactor'), 6),\n (('www/docs/customization/announce.md', 'feat'), 6),\n (('internal/http/http.go', 'chore'), 6),\n (('internal/pipe/snapcraft/snapcraft.go', 'chore'), 6),\n (('internal/pipe/nfpm/nfpm.go', 'chore'), 6),\n (('Dockerfile.cgo', 'feat'), 6),\n (('www/content/homebrew.md', 'docs'), 6),\n (('www/content/install.md', 'docs'), 6),\n (('internal/pipe/blob/openbucket.go', 'feat'), 6),\n (('.travis.yml', 'feat'), 6),\n (('.github/ISSUE_TEMPLATE/Bug_report.md', 'docs'), 6),\n (('.travis.yml', 'Revert'), 6),\n (('www/content/snapcraft.md', 'feat'), 6),\n (('www/content/s3.md', 'docs'), 6),\n (('Gopkg.lock', 'chore'), 6),\n (('main.go', 'refactor'), 6),\n (('config/config.go', 'refactor'), 6),\n (('pipeline/brew/brew.go', 'refactor'), 6),\n (('pipeline/release/release.go', 'refactor'), 6),\n (('pipeline/checksums/checksums.go', 'fix'), 6),\n (('pipeline/s3/s3_test.go', 'test'), 6),\n (('pipeline/nfpm/nfpm.go', 'feat'), 6),\n (('docs/120-homebrew.md', 'docs'), 6),\n (('pipeline/release/release_test.go', 'fix'), 6),\n (('pipeline/brew/testdata/test.rb.golden', 'fix'), 6),\n (('docs/115-release.md', 'docs'), 6),\n (('goreleaserlib/goreleaser.go', 'feat'), 6),\n (('internal/ext/ext.go', 'Merge'), 6),\n (('internal/git/git_test.go', 'Merge'), 6),\n (('config/testdata/invalid_config.yml', 'Merge'), 6),\n (('pipeline/fpm/fpm.go', 'feat'), 6),\n (('docs/000-introduction.md', 'Merge'), 6),\n (('internal/name/name.go', 'Merge'), 6),\n (('pipeline/defaults/remote.go', 'Merge'), 6),\n (('config/config.go', 'Add'), 6),\n (('pipeline/brew/brew_test.go', 'fixed'), 6),\n (('pipeline/release/release_test.go', 'fixed'), 6),\n (('pipeline/build/target_test.go', 'Merge'), 6),\n (('pipeline/build/valid_os.go', 'Merge'), 6),\n (('glide.lock', 'Merge'), 6),\n (('glide.yaml', 'Merge'), 6),\n (('internal/pipe/dist/dist.go', 'feat'), 5),\n (('.github/workflows/release.yml', 'Merge'), 5),\n (('cmd/testdata/good.yml', 'feat'), 5),\n (('scripts/pages/build.sh', 'docs'), 5),\n (('www/docs/customization/announce/bluesky.md', 'docs'), 5),\n (('www/docs/customization/announce/mastodon.md', 'docs'), 5),\n (('www/docs/customization/metadata.md', 'docs'), 5),\n (('www/docs/customization/upx.md', 'docs'), 5),\n (('www/docs/errors/dirty.md', 'docs'), 5),\n (('internal/client/github_test.go', 'chore'), 5),\n (('www/docs/cmd/goreleaser_changelog.md', 'docs'), 5),\n (('www/docs/cmd/goreleaser_completion_bash.md', 'docs'), 5),\n (('www/docs/cmd/goreleaser_jsonschema.md', 'docs'), 5),\n (('www/docs/cookbooks/cgo-and-crosscompiling.md', 'docs'), 5),\n (('www/docs/customization/ko.md', 'docs'), 5),\n (('cmd/config.go', 'fix'), 5),\n (('.github/workflows/nightly-oss.yml', 'build'), 5),\n (('www/docs/blog/posts/2024-06-04-goreleaser-v2.md', 'docs'), 5),\n (('internal/archivefiles/archivefiles.go', 'feat'), 5),\n (('internal/client/client_test.go', 'feat'), 5),\n (('internal/git/config_test.go', 'feat'), 5),\n (('internal/pipe/artifactory/artifactory.go', 'feat'), 5),\n (('internal/pipe/chocolatey/chocolatey_test.go', 'feat'), 5),\n (('internal/pipe/discord/discord_test.go', 'feat'), 5),\n (('internal/pipe/docker/api_docker.go', 'feat'), 5),\n (('internal/pipe/gomod/gomod_test.go', 'feat'), 5),\n (('internal/pipe/mastodon/mastodon.go', 'feat'), 5),\n (('internal/pipe/metadata/metadata_test.go', 'feat'), 5),\n (('internal/pipe/opencollective/opencollective.go', 'feat'), 5),\n (('internal/pipe/reddit/reddit_test.go', 'feat'), 5),\n (('internal/pipe/sbom/sbom_test.go', 'feat'), 5),\n (('internal/pipe/slack/slack_test.go', 'feat'), 5),\n (('internal/pipe/sourcearchive/source_test.go', 'feat'), 5),\n (('pkg/archive/targz/targz.go', 'feat'), 5),\n (('pkg/archive/targz/targz_test.go', 'feat'), 5),\n (('pkg/archive/tarxz/tarxz_test.go', 'feat'), 5),\n (('pkg/archive/zip/zip.go', 'feat'), 5),\n (('pkg/archive/zip/zip_test.go', 'feat'), 5),\n (('internal/pipe/brew/testdata/TestFullPipe/git_remote.rb.golden', 'feat'),\n  5),\n (('internal/pipe/winget/template.go', 'fix'), 5),\n (('internal/pipe/artifactory/artifactory.go', 'refactor'), 5),\n (('internal/pipe/release/body_test.go', 'refactor'), 5),\n (('main_test.go', 'refactor'), 5),\n (('pkg/archive/archive_test.go', 'refactor'), 5),\n (('internal/pipe/discord/discord.go', 'fix'), 5),\n (('www/docs/how-it-works.md', 'docs'), 5),\n (('internal/pipe/blob/blob_test.go', 'test'), 5),\n (('internal/pipe/brew/testdata/TestFullPipe/custom_block.rb.golden', 'fix'),\n  5),\n (('internal/pipe/brew/testdata/TestFullPipe/custom_download_strategy.rb.golden',\n   'fix'),\n  5),\n (('internal/pipe/brew/testdata/TestFullPipe/custom_require.rb.golden', 'fix'),\n  5),\n (('internal/pipe/brew/testdata/TestFullPipe/default.rb.golden', 'fix'), 5),\n (('internal/pipe/brew/testdata/TestFullPipe/default_gitlab.rb.golden', 'fix'),\n  5),\n (('internal/pipe/brew/testdata/TestRunPipeForMultipleAmd64Versions/v1.rb.golden',\n   'fix'),\n  5),\n (('internal/pipe/brew/testdata/TestRunPipeForMultipleAmd64Versions/v4.rb.golden',\n   'fix'),\n  5),\n (('internal/pipe/brew/testdata/TestRunPipeForMultipleArmVersions/multiple_armv5.rb.golden',\n   'fix'),\n  5),\n (('internal/pipe/brew/testdata/TestRunPipeForMultipleArmVersions/multiple_armv6.rb.golden',\n   'fix'),\n  5),\n (('internal/pipe/brew/testdata/TestRunPipeForMultipleArmVersions/multiple_armv7.rb.golden',\n   'fix'),\n  5),\n (('www/docs/customization/nfpm.md', 'fix'), 5),\n (('pkg/config/config.go', 'Merge'), 5),\n (('cmd/build.go', 'docs'), 5),\n (('.github/workflows/release.yml', 'feat'), 5),\n (('cmd/check.go', 'fix'), 5),\n (('flake.nix', 'build'), 5),\n (('internal/client/mock.go', 'fix'), 5),\n (('www/docs/cmd/goreleaser_release.md', 'feat'), 5),\n (('www/docs/customization/aur.md', 'feat'), 5),\n (('www/docs/static/schema-pro.json', 'feat'), 5),\n (('internal/pipe/gomod/gomod_test.go', 'fix'), 5),\n (('internal/builders/golang/build_test.go', 'Merge'), 5),\n (('.github/workflows/fig.yml', 'feat'), 5),\n (('internal/pipe/winget/testdata/TestRunPipe/bad-commit-msg-tmpl/bad-commit-msg-tmpl.installer.yaml.golden',\n   'feat'),\n  5),\n (('internal/pipe/winget/testdata/TestRunPipe/full/full.installer.yaml.golden',\n   'feat'),\n  5),\n (('internal/pipe/winget/testdata/TestRunPipe/minimal/minimal.installer.yaml.golden',\n   'feat'),\n  5),\n (('internal/pipe/winget/testdata/TestRunPipe/open-pr/open-pr.installer.yaml.golden',\n   'feat'),\n  5),\n (('internal/pipe/winget/testdata/TestRunPipe/skip-upload-auto/skip-upload-auto.installer.yaml.golden',\n   'feat'),\n  5),\n (('internal/pipe/winget/testdata/TestRunPipe/skip-upload/skip-upload.installer.yaml.golden',\n   'feat'),\n  5),\n (('internal/pipe/winget/testdata/TestRunPipe/wrapped-in-dir/wrapped-in-dir.installer.yaml.golden',\n   'feat'),\n  5),\n (('internal/pipe/archive/archive_test.go', 'test'), 5),\n (('internal/pipe/universalbinary/universalbinary.go', 'fix'), 5),\n (('internal/pipe/universalbinary/universalbinary_test.go', 'fix'), 5),\n (('internal/pipe/nix/testdata/TestRunPipe/deps_build.nix.golden', 'fix'), 5),\n (('internal/pipe/nix/testdata/TestRunPipe/deps_publish.nix.golden', 'fix'),\n  5),\n (('internal/pipe/nix/testdata/TestRunPipe/extra-install_build.nix.golden',\n   'fix'),\n  5),\n (('internal/pipe/nix/testdata/TestRunPipe/extra-install_publish.nix.golden',\n   'fix'),\n  5),\n (('internal/pipe/nix/testdata/TestRunPipe/minimal_build.nix.golden', 'fix'),\n  5),\n (('internal/pipe/nix/testdata/TestRunPipe/minimal_publish.nix.golden', 'fix'),\n  5),\n (('internal/pipe/nix/testdata/TestRunPipe/open-pr_build.nix.golden', 'fix'),\n  5),\n (('internal/pipe/nix/testdata/TestRunPipe/open-pr_publish.nix.golden', 'fix'),\n  5),\n (('internal/pipe/nix/testdata/TestRunPipe/partial_build.nix.golden', 'fix'),\n  5),\n (('internal/pipe/nix/testdata/TestRunPipe/partial_publish.nix.golden', 'fix'),\n  5),\n (('internal/pipe/nix/testdata/TestRunPipe/skip-upload-auto_build.nix.golden',\n   'fix'),\n  5),\n (('internal/pipe/nix/testdata/TestRunPipe/skip-upload_build.nix.golden',\n   'fix'),\n  5),\n (('internal/client/github_test.go', 'test'), 5),\n (('internal/pipe/publish/publish_test.go', 'test'), 5),\n (('.github/workflows/lint.yml', 'build'), 5),\n (('internal/pipe/nix/testdata/TestRunPipe/minimal_publish.nix.golden',\n   'feat'),\n  5),\n (('internal/pipe/nix/testdata/TestRunPipe/open-pr_publish.nix.golden',\n   'feat'),\n  5),\n (('internal/pipe/nix/testdata/TestRunPipe/unibin-replaces_publish.nix.golden',\n   'feat'),\n  5),\n (('internal/pipe/nix/testdata/TestRunPipe/wrapped-in-dir_publish.nix.golden',\n   'feat'),\n  5),\n (('SECURITY.md', 'docs'), 5),\n (('internal/pipe/krew/krew_test.go', 'fix'), 5),\n (('internal/testlib/git.go', 'fix'), 5),\n (('main.go', 'chore'), 5),\n (('internal/archivefiles/archivefiles.go', 'fix'), 5),\n (('cmd/man.go', 'feat'), 5),\n (('internal/pipe/release/testdata/TestDescribeBodyWithHeaderAndFooter.golden',\n   'feat'),\n  5),\n (('internal/git/git.go', 'feat'), 5),\n (('www/docs/customization/docker_sign.md', 'feat'), 5),\n (('internal/pipe/before/before.go', 'fix'), 5),\n (('scripts/get-releases.sh', 'docs'), 5),\n (('www/docs/scm/gitea.md', 'docs'), 5),\n (('www/docs/scm/github.md', 'docs'), 5),\n (('www/mkdocs.yml', 'fix'), 5),\n (('internal/pipe/blob/blob_minio_test.go', 'refactor'), 5),\n (('internal/pipe/artifactory/artifactory.go', 'fix'), 5),\n (('internal/pipe/artifactory/artifactory_test.go', 'fix'), 5),\n (('internal/git/git_test.go', 'refactor'), 5),\n (('www/docs/ci/drone.md', 'docs'), 5),\n (('www/docs/ci/semaphore.md', 'docs'), 5),\n (('internal/logext/writer.go', 'feat'), 5),\n (('www/docs/customization/gomod.md', 'docs'), 5),\n (('www/docs/customization/gofish.md', 'docs'), 5),\n (('.gitignore', 'feat'), 5),\n (('.github/dependabot.yml', 'chore'), 5),\n (('www/htmltest.yml', 'fix'), 5),\n (('www/htmltest.yml', 'chore'), 5),\n (('internal/pipe/snapcraft/snapcraft_test.go', 'refactor'), 5),\n (('internal/linux/arch_test.go', 'fix'), 5),\n (('www/docs/customization/announce.md', 'docs'), 5),\n (('pkg/archive/zip/zip_test.go', 'refactor'), 5),\n (('internal/pipe/brew/testdata/custom_block.rb.golden', 'feat'), 5),\n (('internal/pipe/brew/testdata/custom_require.rb.golden', 'feat'), 5),\n (('internal/pipe/brew/testdata/foo_is_bar.rb.golden', 'fix'), 5),\n (('internal/pipe/brew/testdata/multiple_armv5.rb.golden', 'fix'), 5),\n (('internal/pipe/brew/testdata/multiple_armv6.rb.golden', 'fix'), 5),\n (('internal/pipe/brew/testdata/multiple_armv7.rb.golden', 'fix'), 5),\n (('internal/client/gitea_test.go', 'chore'), 5),\n (('internal/git/git.go', 'chore'), 5),\n (('internal/pipe/blob/blob.go', 'fix'), 5),\n (('www/docs/tutorials.md', 'docs'), 5),\n (('Dockerfile.cgo', 'fix'), 5),\n (('internal/pipe/docker/docker.go', 'chore'), 5),\n (('docs/static/apple-touch-icon.png', 'docs'), 5),\n (('mkdocs.yml', 'docs'), 5),\n (('www/config.toml', 'docs'), 5),\n (('www/content/artifactory.md', 'docs'), 5),\n (('www/content/links.md', 'docs'), 5),\n (('www/content/sign.md', 'docs'), 5),\n (('www/content/snapcraft.md', 'docs'), 5),\n (('www/content/snapshots.md', 'docs'), 5),\n (('www/content/nfpm.md', 'feat'), 5),\n (('www/content/docker.md', 'feat'), 5),\n (('www/content/put.md', 'feat'), 5),\n (('internal/pipe/put/put.go', 'fix'), 5),\n (('README.md', 'Fix'), 5),\n (('pipeline/git/git.go', 'refactor'), 5),\n (('pipeline/nfpm/nfpm.go', 'refactor'), 5),\n (('pipeline/s3/s3.go', 'feat'), 5),\n (('pipeline/docker/docker_test.go', 'fix'), 5),\n (('internal/nametemplate/name.go', 'Merge'), 5),\n (('pipeline/sign/sign.go', 'Merge'), 5),\n (('pipeline/release/body.go', 'fix'), 5),\n (('pipeline/scoop/scoop.go', 'fix'), 5),\n (('pipeline/artifactory/artifactory_test.go', 'fix'), 5),\n (('pipeline/nfpm/nfpm_test.go', 'feat'), 5),\n (('pipeline/build/build_test.go', 'feat'), 5),\n (('docs/123-release.md', 'docs'), 5),\n (('docs/125-artifactory.md', 'docs'), 5),\n (('docs/999-links.md', 'docs'), 5),\n (('pipeline/build/build.go', 'feat'), 5),\n (('pipeline/scoop/scoop_test.go', 'add'), 5),\n (('internal/buildtarget/targets.go', 'Merge'), 5),\n (('internal/buildtarget/targets_test.go', 'Merge'), 5),\n (('pipeline/build/build.go', 'wip'), 5),\n (('docs/060-archive.md', 'Merge'), 5),\n (('docs/110-snapcraft.md', 'Merge'), 5),\n (('docs/010-quick-start.md', 'Merge'), 5),\n (('pipeline/release/testdata/release1.txt', 'Merge'), 5),\n (('docs/115-release.md', 'feat'), 5),\n (('README.md', 'improved'), 5),\n (('pipeline/brew/brew.go', 'improved'), 5),\n (('pipeline/brew/brew.go', 'wip'), 5),\n (('CONTRIBUTING.md', 'Update'), 5),\n (('pipeline/build/build_test.go', 'more'), 5),\n (('pipeline/brew/brew.go', 'renamed'), 5),\n (('pipeline/archive/tar/tar.go', 'Merge'), 5),\n (('pipeline/archive/zip/zip.go', 'Merge'), 5),\n (('www/docs/ci/index.md', 'docs'), 4),\n (('.github/workflows/build.yml', 'Merge'), 4),\n (('internal/pipe/ko/ko.go', 'fix'), 4),\n (('www/docs/customization/announce/opencollective.md', 'docs'), 4),\n (('www/docs/customization/beforepublish.md', 'docs'), 4),\n (('www/docs/customization/cloudsmith.md', 'docs'), 4),\n (('www/docs/customization/dmg.md', 'docs'), 4),\n (('www/docs/customization/msi.md', 'docs'), 4),\n (('www/docs/cmd/goreleaser_completion_fish.md', 'docs'), 4),\n (('www/docs/cmd/goreleaser_completion_powershell.md', 'docs'), 4),\n (('www/docs/cmd/goreleaser_healthcheck.md', 'docs'), 4),\n (('www/docs/cookbooks/index.md', 'docs'), 4),\n (('www/docs/cookbooks/using-main.version.md', 'docs'), 4),\n (('www/docs/errors/multiple-tokens.md', 'docs'), 4),\n (('www/docs/errors/no-main.md', 'docs'), 4),\n (('internal/semerrgroup/sem.go', 'fix'), 4),\n (('internal/semerrgroup/sem_test.go', 'fix'), 4),\n (('www/docs/customization/artifactory.md', 'feat'), 4),\n (('cmd/config_test.go', 'feat'), 4),\n (('internal/archivefiles/archivefiles_test.go', 'feat'), 4),\n (('internal/client/git.go', 'feat'), 4),\n (('internal/logext/writer_test.go', 'feat'), 4),\n (('internal/middleware/errhandler/error.go', 'feat'), 4),\n (('internal/middleware/logging/logging.go', 'feat'), 4),\n (('internal/middleware/skip/skip.go', 'feat'), 4),\n (('internal/pipe/announce/announce_test.go', 'feat'), 4),\n (('internal/pipe/mattermost/mattermost_test.go', 'feat'), 4),\n (('internal/pipe/teams/teams_test.go', 'feat'), 4),\n (('internal/pipe/upx/upx.go', 'feat'), 4),\n (('internal/pipe/upx/upx_test.go', 'feat'), 4),\n (('internal/shell/shell_test.go', 'feat'), 4),\n (('pkg/archive/gzip/gzip_test.go', 'feat'), 4),\n (('pkg/archive/tarxz/tarxz.go', 'feat'), 4),\n (('pkg/build/build.go', 'feat'), 4),\n (('pkg/config/config_archive_files_test.go', 'feat'), 4),\n (('pkg/context/context_test.go', 'feat'), 4),\n (('cmd/root_test.go', 'feat'), 4),\n (('cmd/check_test.go', 'feat'), 4),\n (('internal/pipe/brew/testdata/TestFullFormulae.rb.golden', 'feat'), 4),\n (('internal/pipe/brew/testdata/TestFullPipe/valid_repository_templates.rb.golden',\n   'feat'),\n  4),\n (('www/docs/ci/actions.md', 'fix'), 4),\n (('.golangci.yaml', 'build'), 4),\n (('.golangci.yaml', 'fix'), 4),\n (('internal/builders/buildtarget/targets.go', 'fix'), 4),\n (('internal/pipe/sbom/sbom_test.go', 'fix'), 4),\n (('internal/pipe/checksums/checksums.go', 'refactor'), 4),\n (('internal/pipe/brew/testdata/TestFullFormulaeLinuxOnly.rb.golden', 'fix'),\n  4),\n (('internal/pipe/brew/testdata/TestRunPipeForMultipleAmd64Versions/v2.rb.golden',\n   'fix'),\n  4),\n (('internal/pipe/brew/testdata/TestRunPipeForMultipleAmd64Versions/v3.rb.golden',\n   'fix'),\n  4),\n (('internal/pipe/brew/testdata/TestRunPipeNameTemplate.rb.golden', 'feat'),\n  4),\n (('flake.nix', 'chore'), 4),\n (('internal/pipe/telegram/telegram.go', 'fix'), 4),\n (('internal/pipe/brew/testdata/TestFullFormulaeMacOSOnly.rb.golden', 'fix'),\n  4),\n (('internal/client/gitea_test.go', 'test'), 4),\n (('www/docs/blog/posts/2022-02-20-azure-devops.md', 'docs'), 4),\n (('flake.lock', 'build'), 4),\n (('www/docs/customization/builds.md', 'feat'), 4),\n (('www/docs/customization/snapshots.md', 'feat'), 4),\n (('www/docs/customization/source.md', 'feat'), 4),\n (('internal/client/git.go', 'fix'), 4),\n (('internal/pipe/aur/testdata/TestRunPipe.pkgbuild.golden', 'fix'), 4),\n (('cmd/release_test.go', 'test'), 4),\n (('internal/pipe/winget/testdata/TestRunPipe/partial/partial.installer.yaml.golden',\n   'feat'),\n  4),\n (('internal/pipe/artifactory/artifactory_test.go', 'test'), 4),\n (('internal/pipe/before/before_test.go', 'test'), 4),\n (('internal/pipe/env/env_test.go', 'test'), 4),\n (('internal/pipe/sbom/sbom_test.go', 'test'), 4),\n (('internal/pipe/upload/upload_test.go', 'test'), 4),\n (('internal/client/gitlab.go', 'chore'), 4),\n (('internal/pipe/docker/docker_test.go', 'chore'), 4),\n (('internal/git/config_test.go', 'fix'), 4),\n (('internal/pipe/nix/testdata/TestRunPipe/zip-and-tar_build.nix.golden',\n   'fix'),\n  4),\n (('internal/pipe/nix/testdata/TestRunPipe/zip-and-tar_publish.nix.golden',\n   'fix'),\n  4),\n (('internal/pipe/brew/testdata/TestRunPipeNameTemplate.rb.golden', 'fix'), 4),\n (('www/README.md', 'docs'), 4),\n (('www/docs/static/run', 'docs'), 4),\n (('Taskfile.yml', 'feat'), 4),\n (('internal/artifact/artifact_test.go', 'test'), 4),\n (('internal/pipe/checksums/checksums_test.go', 'test'), 4),\n (('internal/pipe/release/release_test.go', 'test'), 4),\n (('pkg/archive/tar/tar_test.go', 'test'), 4),\n (('internal/pipe/chocolatey/chocolatey.go', 'fix'), 4),\n (('internal/pipe/chocolatey/chocolatey_test.go', 'fix'), 4),\n (('www/docs/contributing.md', 'feat'), 4),\n (('internal/pipe/checksums/checksums_test.go', 'fix'), 4),\n (('internal/pipe/nix/testdata/TestRunPipe/deps_publish.nix.golden', 'feat'),\n  4),\n (('internal/pipe/nix/testdata/TestRunPipe/minimal_build.nix.golden', 'feat'),\n  4),\n (('internal/pipe/nix/testdata/TestRunPipe/open-pr_build.nix.golden', 'feat'),\n  4),\n (('internal/pipe/nix/testdata/TestRunPipe/partial_build.nix.golden', 'feat'),\n  4),\n (('internal/pipe/nix/testdata/TestRunPipe/partial_publish.nix.golden',\n   'feat'),\n  4),\n (('internal/pipe/nix/testdata/TestRunPipe/skip-upload-auto_build.nix.golden',\n   'feat'),\n  4),\n (('internal/pipe/nix/testdata/TestRunPipe/skip-upload_build.nix.golden',\n   'feat'),\n  4),\n (('internal/pipe/nix/testdata/TestRunPipe/unibin-replaces_build.nix.golden',\n   'feat'),\n  4),\n (('internal/pipe/nix/testdata/TestRunPipe/wrapped-in-dir_build.nix.golden',\n   'feat'),\n  4),\n (('internal/pipe/nix/tmpl.nix', 'feat'), 4),\n (('cmd/release.go', 'refactor'), 4),\n (('internal/pipe/env/env.go', 'refactor'), 4),\n (('pkg/context/context.go', 'refactor'), 4),\n (('internal/pipe/git/errors.go', 'feat'), 4),\n (('www/docs/contributing.md', 'chore'), 4),\n (('internal/pipe/nix/testdata/TestRunPipe/unibin_build.nix.golden', 'fix'),\n  4),\n (('internal/pipe/nix/testdata/TestRunPipe/unibin_publish.nix.golden', 'fix'),\n  4),\n (('internal/pipe/nix/testdata/TestRunPipe/unibin_publish.nix.golden', 'feat'),\n  4),\n (('internal/deprecate/testdata/TestNotice.txt.golden', 'feat'), 4),\n (('www/docs/customization/universalbinaries.md', 'feat'), 4),\n (('.github/ISSUE_TEMPLATE/feature.yaml', 'docs'), 4),\n (('www/docs/deprecations.md', 'fix'), 4),\n (('www/docs/cookbooks/contributing.md', 'docs'), 4),\n (('pkg/archive/tar/tar.go', 'fix'), 4),\n (('internal/pipe/upload/upload_test.go', 'refactor'), 4),\n (('internal/pipe/git/git.go', 'Merge'), 4),\n (('internal/gio/copy.go', 'fix'), 4),\n (('.github/workflows/codeql.yml', 'fix'), 4),\n (('.github/workflows/lint.yml', 'fix'), 4),\n (('internal/deprecate/deprecate_test.go', 'test'), 4),\n (('internal/pipe/defaults/defaults_test.go', 'test'), 4),\n (('internal/tmpl/tmpl_test.go', 'test'), 4),\n (('www/docs/ci/codefresh.md', 'docs'), 4),\n (('www/docs/cookbooks/override-image-name.md', 'docs'), 4),\n (('www/docs/cookbooks/semantic-release.md', 'docs'), 4),\n (('internal/static/config.go', 'feat'), 4),\n (('.mailmap', 'chore'), 4),\n (('internal/pipe/docker/api_buildpack.go', 'feat'), 4),\n (('internal/pipe/gofish/food_template.go', 'feat'), 4),\n (('scripts/entrypoint.sh', 'feat'), 4),\n (('internal/client/github.go', 'Revert'), 4),\n (('internal/deprecate/deprecate_test.go', 'fix'), 4),\n (('internal/pipe/defaults/defaults_test.go', 'refactor'), 4),\n (('www/docs/ci/circle.md', 'docs'), 4),\n (('pkg/config/config_test.go', 'refactor'), 4),\n (('internal/pipe/announce/announce.go', 'chore'), 4),\n (('internal/exec/exec_test.go', 'refactor'), 4),\n (('internal/pipe/env/env_test.go', 'fix'), 4),\n (('internal/builders/golang/targets_test.go', 'refactor'), 4),\n (('internal/pipe/archive/archive_test.go', 'chore'), 4),\n (('www/docs/environment.md', 'docs'), 4),\n (('internal/pipe/brew/testdata/custom_download_strategy.rb.golden', 'feat'),\n  4),\n (('internal/pipe/brew/testdata/default.rb.golden', 'feat'), 4),\n (('internal/pipe/brew/testdata/default_gitlab.rb.golden', 'feat'), 4),\n (('internal/pipe/brew/testdata/default_gitlab.rb.golden', 'fix'), 4),\n (('internal/artifact/artifact.go', 'chore'), 4),\n (('internal/pipe/blob/blob_test.go', 'refactor'), 4),\n (('internal/pipe/effectiveconfig/config_test.go', 'refactor'), 4),\n (('www/docs/customization/bintray.md', 'docs'), 4),\n (('internal/pipe/git/git.go', 'Revert'), 4),\n (('internal/builders/golang/targets.go', 'chore'), 4),\n (('internal/client/client.go', 'chore'), 4),\n (('internal/client/gitea.go', 'chore'), 4),\n (('internal/tmpl/tmpl.go', 'chore'), 4),\n (('www/content/hooks.md', 'docs'), 4),\n (('www/content/nfpm.md', 'docs'), 4),\n (('www/content/templates.md', 'docs'), 4),\n (('www/content/sign.md', 'feat'), 4),\n (('www/content/archive.md', 'feat'), 4),\n (('www/content/build.md', 'fix'), 4),\n (('www/content/blob.md', 'feat'), 4),\n (('www/content/s3.md', 'feat'), 4),\n (('internal/pipe/s3/s3_test.go', 'refactor'), 4),\n (('pkg/config/config.go', 'clean'), 4),\n (('www/content/deprecations.md', 'clean'), 4),\n (('www/content/put.md', 'docs'), 4),\n (('www/content/contrib.md', 'docs'), 4),\n (('context/context.go', 'refactor'), 4),\n (('pipeline/archive/archive_test.go', 'refactor'), 4),\n (('pipeline/artifactory/artifactory_test.go', 'refactor'), 4),\n (('pipeline/brew/brew_test.go', 'refactor'), 4),\n (('pipeline/changelog/changelog.go', 'refactor'), 4),\n (('pipeline/changelog/changelog_test.go', 'refactor'), 4),\n (('pipeline/defaults/defaults.go', 'refactor'), 4),\n (('pipeline/git/git_test.go', 'refactor'), 4),\n (('pipeline/nfpm/nfpm_test.go', 'refactor'), 4),\n (('pipeline/release/release_test.go', 'refactor'), 4),\n (('pipeline/s3/s3.go', 'refactor'), 4),\n (('internal/nametemplate/name_test.go', 'Merge'), 4),\n (('pipeline/build/build_test.go', 'fix'), 4),\n (('pipeline/archive/archive_test.go', 'test'), 4),\n (('internal/nametemplate/name.go', 'refactor'), 4),\n (('internal/nametemplate/name.go', 'fix'), 4),\n (('pipeline/env/env.go', 'fix'), 4),\n (('pipeline/changelog/changelog.go', 'feat'), 4),\n (('pipeline/changelog/changelog_test.go', 'feat'), 4),\n (('docs/060-archive.md', 'docs'), 4),\n (('docs/100-linux-packages.md', 'docs'), 4),\n (('pipeline/release/release.go', 'feat'), 4),\n (('pipeline/nfpm/nfpm.go', 'fix'), 4),\n (('pipeline/defaults/defaults.go', 'fix'), 4),\n ...]"
     },
     "execution_count": 87,
     "metadata": {},
     "output_type": "execute_result"
    }
   ],
   "source": [
    "counter.most_common()"
   ]
  },
  {
   "cell_type": "code",
   "execution_count": 88,
   "id": "8df51897a0ba5522",
   "metadata": {
    "collapsed": false,
    "ExecuteTime": {
     "end_time": "2024-08-13T10:54:07.397752Z",
     "start_time": "2024-08-13T10:54:07.388556Z"
    }
   },
   "outputs": [
    {
     "data": {
      "text/plain": "{'.github/workflows/build.yml',\n '.github/workflows/codeql.yml',\n '.github/workflows/release.yml',\n '.goreleaser.yml',\n '.travis.yml',\n 'Dockerfile',\n 'README.md',\n 'config/config.go',\n 'context/context.go',\n 'internal/artifact/artifact.go',\n 'internal/builders/golang/build.go',\n 'internal/builders/golang/build_test.go',\n 'internal/client/github.go',\n 'internal/pipe/brew/brew.go',\n 'internal/pipe/brew/brew_test.go',\n 'internal/pipe/docker/docker.go',\n 'internal/pipe/docker/docker_test.go',\n 'internal/pipe/nfpm/nfpm.go',\n 'internal/pipe/nfpm/nfpm_test.go',\n 'main.go',\n 'pipeline/brew/brew.go',\n 'pipeline/brew/brew_test.go',\n 'pipeline/build/build.go',\n 'pipeline/defaults/defaults.go',\n 'pipeline/fpm/fpm.go',\n 'pipeline/release/release.go',\n 'pkg/config/config.go',\n 'www/docs/static/schema-pro.json',\n 'www/docs/static/schema.json',\n 'www/mkdocs.yml'}"
     },
     "execution_count": 88,
     "metadata": {},
     "output_type": "execute_result"
    }
   ],
   "source": [
    "most_changed_counter = Counter()\n",
    "for (filename, _), count in counter.items():\n",
    "    most_changed_counter[filename] += count\n",
    "file_set = {file for file, reason in most_changed_counter.most_common(30)}\n",
    "file_set"
   ]
  },
  {
   "cell_type": "code",
   "execution_count": 89,
   "id": "ad2d9bd4-e907-4942-85bb-a722bbd303a7",
   "metadata": {
    "ExecuteTime": {
     "end_time": "2024-08-13T10:54:07.402452Z",
     "start_time": "2024-08-13T10:54:07.400114Z"
    }
   },
   "outputs": [
    {
     "data": {
      "text/plain": "[('.github/workflows/build.yml', 'ci', 2),\n ('.github/workflows/build.yml', 'chore', 200),\n ('.github/workflows/release.yml', 'chore', 130),\n ('.github/workflows/codeql.yml', 'chore', 84),\n ('Dockerfile', 'chore', 24),\n ('www/mkdocs.yml', 'docs', 82),\n ('www/docs/static/schema-pro.json', 'docs', 67),\n ('README.md', 'docs', 31),\n ('pkg/config/config.go', 'feat', 247),\n ('www/mkdocs.yml', 'feat', 33),\n ('.github/workflows/build.yml', 'Merge', 4),\n ('.github/workflows/release.yml', 'Merge', 5),\n ('pkg/config/config.go', 'fix', 60),\n ('www/docs/static/schema.json', 'fix', 20),\n ('www/docs/static/schema.json', 'docs', 30),\n ('Dockerfile', 'chore(deps):', 1),\n ('internal/pipe/nfpm/nfpm_test.go', 'test', 12),\n ('internal/pipe/nfpm/nfpm.go', 'feat', 57),\n ('internal/pipe/nfpm/nfpm_test.go', 'feat', 46),\n ('internal/client/github.go', 'chore', 11),\n ('internal/client/github.go', 'fix', 40),\n ('.github/workflows/build.yml', 'fix', 20),\n ('.github/workflows/release.yml', 'fix', 3),\n ('internal/builders/golang/build.go', 'feat', 35),\n ('pkg/config/config.go', 'docs', 3),\n ('www/docs/static/schema.json', 'chore', 62),\n ('.github/workflows/release.yml', 'ci', 1),\n ('internal/builders/golang/build_test.go', 'feat', 33),\n ('internal/client/github.go', 'feat', 49),\n ('internal/pipe/brew/brew.go', 'feat', 48),\n ('internal/pipe/brew/brew_test.go', 'feat', 45),\n ('internal/pipe/docker/docker.go', 'feat', 37),\n ('internal/pipe/docker/docker_test.go', 'feat', 36),\n ('main.go', 'feat', 20),\n ('internal/builders/golang/build.go', 'Merge', 8),\n ('internal/builders/golang/build.go', 'fix', 32),\n ('internal/builders/golang/build_test.go', 'fix', 26),\n ('internal/artifact/artifact.go', 'fix', 23),\n ('internal/pipe/docker/docker.go', 'fix', 34),\n ('main.go', 'fix', 23),\n ('internal/builders/golang/build_test.go', 'docs', 1),\n ('internal/artifact/artifact.go', 'refactor', 18),\n ('internal/pipe/docker/docker.go', 'refactor', 13),\n ('internal/pipe/docker/docker_test.go', 'refactor', 16),\n ('internal/pipe/nfpm/nfpm.go', 'refactor', 10),\n ('internal/client/github.go', 'docs', 1),\n ('internal/artifact/artifact.go', 'feat', 44),\n ('.github/workflows/build.yml', 'build', 8),\n ('.github/workflows/release.yml', 'build', 7),\n ('.github/workflows/build.yml', 'Revert', 2),\n ('.github/workflows/release.yml', 'Revert', 1),\n ('internal/pipe/nfpm/nfpm.go', 'fix', 33),\n ('internal/pipe/nfpm/nfpm_test.go', 'fix', 20),\n ('pkg/config/config.go', 'Merge', 5),\n ('.github/workflows/release.yml', 'feat', 5),\n ('internal/builders/golang/build_test.go', 'chore', 3),\n ('www/docs/static/schema-pro.json', 'feat', 5),\n ('internal/builders/golang/build_test.go', 'test', 14),\n ('.github/workflows/codeql.yml', 'Merge', 2),\n ('Dockerfile', 'Merge', 2),\n ('internal/builders/golang/build_test.go', 'Merge', 5),\n ('internal/pipe/nfpm/nfpm.go', 'Merge', 2),\n ('internal/pipe/nfpm/nfpm_test.go', 'Merge', 2),\n ('pkg/config/config.go', 'refactor', 11),\n ('internal/pipe/docker/docker_test.go', 'test', 14),\n ('internal/pipe/docker/docker_test.go', 'chore', 4),\n ('internal/pipe/brew/brew.go', 'fix', 41),\n ('www/docs/static/schema.json', 'feat', 22),\n ('internal/pipe/docker/docker_test.go', 'fix', 26),\n ('Dockerfile', 'feat', 74),\n ('www/docs/static/schema-pro.json', 'chore', 38),\n ('internal/pipe/brew/brew.go', 'refactor', 11),\n ('internal/pipe/brew/brew_test.go', 'refactor', 15),\n ('Dockerfile', 'fix', 18),\n ('www/docs/static/schema-pro.json', 'build', 2),\n ('internal/pipe/docker/docker.go', 'adjusted', 1),\n ('internal/pipe/docker/docker.go', 'switched', 1),\n ('internal/pipe/docker/docker.go', 'more', 1),\n ('internal/pipe/brew/brew_test.go', 'test', 3),\n ('www/docs/static/schema-pro.json', 'Merge', 2),\n ('www/docs/static/schema.json', 'Merge', 3),\n ('www/docs/static/schema.json', 'build', 1),\n ('internal/pipe/nfpm/nfpm_test.go', 'docs', 1),\n ('internal/client/github.go', 'refactor', 6),\n ('internal/pipe/brew/brew_test.go', 'fix', 29),\n ('internal/pipe/brew/brew.go', 'chore', 7),\n ('internal/pipe/nfpm/nfpm_test.go', 'refactor', 8),\n ('www/docs/static/schema-pro.json', 'fix', 3),\n ('internal/pipe/docker/docker.go', 'test', 3),\n ('main.go', 'chore', 5),\n ('internal/builders/golang/build.go', 'refactor', 9),\n ('internal/client/github.go', 'Support', 1),\n ('pkg/config/config.go', 'Support', 1),\n ('.github/workflows/build.yml', 'feat', 25),\n ('.github/workflows/codeql.yml', 'fix', 4),\n ('.github/workflows/codeql.yml', 'build', 2),\n ('Dockerfile', 'build', 1),\n ('internal/pipe/nfpm/nfpm.go', 'test', 1),\n ('www/docs/static/schema-pro.json', 'refactor', 2),\n ('www/docs/static/schema.json', 'refactor', 1),\n ('.github/workflows/release.yml', 'docs', 2),\n ('www/mkdocs.yml', 'fix', 5),\n ('.github/workflows/codeql.yml', 'feat', 1),\n ('internal/client/github.go', 'revert', 1),\n ('internal/pipe/nfpm/nfpm.go', 'feat:', 1),\n ('internal/pipe/nfpm/nfpm.go', 'docs', 1),\n ('internal/artifact/artifact.go', 'refactory', 1),\n ('internal/client/github.go', 'Revert', 4),\n ('internal/pipe/brew/brew.go', 'Merge', 2),\n ('internal/pipe/brew/brew_test.go', 'Merge', 2),\n ('internal/artifact/artifact.go', 'test', 1),\n ('.goreleaser.yml', 'chore', 25),\n ('.goreleaser.yml', 'feat', 38),\n ('README.md', 'feat', 1),\n ('www/mkdocs.yml', 'chore', 1),\n ('internal/builders/golang/build_test.go', 'refactor', 11),\n ('.goreleaser.yml', 'fix', 33),\n ('pkg/config/config.go', 'Add', 1),\n ('www/mkdocs.yml', 'Add', 1),\n ('internal/builders/golang/build.go', 'test', 1),\n ('.goreleaser.yml', 'ci', 2),\n ('main.go', 'test', 1),\n ('.goreleaser.yml', 'refactor', 3),\n ('internal/artifact/artifact.go', 'chore', 4),\n ('internal/pipe/brew/brew_test.go', 'chore', 3),\n ('internal/client/github.go', 'Do', 1),\n ('internal/client/github.go', 'Merge', 20),\n ('internal/pipe/nfpm/nfpm.go', 'chore', 6),\n ('.goreleaser.yml', 'docs', 2),\n ('internal/pipe/nfpm/nfpm_test.go', 'chore', 2),\n ('internal/builders/golang/build.go', 'chore', 3),\n ('www/mkdocs.yml', 'add', 1),\n ('pkg/config/config.go', 'chore', 3),\n ('.github/workflows/build.yml', 'docs', 1),\n ('internal/pipe/docker/docker.go', 'chore', 5),\n ('.travis.yml', 'chore', 21),\n ('.travis.yml', 'docs', 11),\n ('.travis.yml', 'feat', 6),\n ('.travis.yml', 'fix', 8),\n ('internal/pipe/nfpm/nfpm.go', 'Use', 1),\n ('internal/pipe/nfpm/nfpm_test.go', 'Use', 1),\n ('internal/pipe/brew/brew.go', 'docs', 1),\n ('Dockerfile', 'Fix', 1),\n ('internal/pipe/docker/docker_test.go', 'clean', 2),\n ('internal/client/github.go', '&base', 1),\n ('.goreleaser.yml', 'Revert', 2),\n ('internal/pipe/docker/docker.go', 'clean', 1),\n ('pkg/config/config.go', 'clean', 4),\n ('README.md', 'Fix', 5),\n ('.travis.yml', 'Revert', 6),\n ('.travis.yml', 'ci', 1),\n ('pkg/config/config.go', 'feat:', 1),\n ('.goreleaser.yml', 'Set', 1),\n ('main.go', 'refactor/fix:', 1),\n ('Dockerfile', 'Optimized', 1),\n ('internal/pipe/brew/brew.go', 'wip', 1),\n ('internal/pipe/docker/docker.go', 'Merge', 1),\n ('internal/pipe/docker/docker_test.go', 'Merge', 1),\n ('main.go', 'Merge', 48),\n ('main.go', 'refactor', 6),\n ('config/config.go', 'refactor', 6),\n ('context/context.go', 'refactor', 4),\n ('pipeline/brew/brew.go', 'refactor', 6),\n ('pipeline/brew/brew_test.go', 'refactor', 4),\n ('pipeline/build/build.go', 'refactor', 16),\n ('pipeline/defaults/defaults.go', 'refactor', 4),\n ('pipeline/fpm/fpm.go', 'refactor', 7),\n ('pipeline/release/release.go', 'refactor', 6),\n ('pipeline/brew/brew_test.go', 'fix', 16),\n ('config/config.go', 'feat', 42),\n ('pipeline/brew/brew.go', 'feat', 7),\n ('pipeline/brew/brew_test.go', 'feat', 8),\n ('config/config.go', 'chore', 1),\n ('pipeline/brew/brew.go', 'Merge', 69),\n ('pipeline/brew/brew_test.go', 'Merge', 50),\n ('pipeline/brew/brew.go', 'fix', 14),\n ('pipeline/brew/brew_test.go', 'test', 2),\n ('pipeline/build/build.go', 'Merge', 56),\n ('pipeline/release/release.go', 'Merge', 50),\n ('pipeline/build/build.go', 'fix', 7),\n ('.travis.yml', 'Merge', 30),\n ('.travis.yml', 'bump', 1),\n ('config/config.go', 'fix', 8),\n ('context/context.go', 'feat', 7),\n ('README.md', 'fix', 2),\n ('pipeline/defaults/defaults.go', 'feat', 12),\n ('pipeline/release/release.go', 'feat', 4),\n ('pipeline/defaults/defaults.go', 'fix', 4),\n ('pipeline/release/release.go', 'fix', 7),\n ('pipeline/brew/brew.go', 'chore', 1),\n ('pipeline/brew/brew_test.go', 'chore', 1),\n ('main.go', 'style', 2),\n ('pipeline/defaults/defaults.go', 'style', 2),\n ('.travis.yml', 'refactor', 2),\n ('pipeline/release/release.go', '*', 1),\n ('.travis.yml', 'style', 1),\n ('pipeline/fpm/fpm.go', 'fix', 7),\n ('internal/client/github.go', 'style', 1),\n ('pipeline/build/build.go', 'feat', 5),\n ('.goreleaser.yml', 'add', 2),\n ('config/config.go', 'add', 2),\n ('pipeline/defaults/defaults.go', 'add', 1),\n ('internal/client/github.go', 'update', 1),\n ('config/config.go', 'style', 4),\n ('config/config.go', 'Merge', 82),\n ('internal/builders/golang/build.go', 'style', 2),\n ('internal/builders/golang/build_test.go', 'style', 1),\n ('pipeline/build/build.go', 'style', 2),\n ('README.md', 'Merge', 88),\n ('README.md', 'Added', 1),\n ('context/context.go', 'Merge', 41),\n ('context/context.go', 'style', 1),\n ('internal/builders/golang/build.go', 'wip', 1),\n ('pipeline/build/build.go', 'wip', 5),\n ('.goreleaser.yml', 'Merge', 16),\n ('pipeline/fpm/fpm.go', 'Merge', 36),\n ('pipeline/fpm/fpm.go', 'feat', 6),\n ('pipeline/fpm/fpm.go', 'remove', 1),\n ('pipeline/fpm/fpm.go', 'style', 1),\n ('pipeline/defaults/defaults.go', 'Merge', 39),\n ('internal/artifact/artifact.go', 'Merge', 1),\n ('internal/artifact/artifact.go', 'Revert', 1),\n ('pipeline/release/release.go', 'chore', 1),\n ('context/context.go', 'fix', 4),\n ('pipeline/fpm/fpm.go', 'test', 1),\n ('pipeline/release/release.go', 'test', 1),\n ('pipeline/defaults/defaults.go', 'test', 1),\n ('pipeline/build/build.go', 'test', 1),\n ('pipeline/build/build.go', 'chore', 1),\n ('pipeline/fpm/fpm.go', 'chore', 2),\n ('pipeline/defaults/defaults.go', 'Remove', 1),\n ('config/config.go', 'Add', 6),\n ('internal/client/github.go', 'Add', 1),\n ('pipeline/defaults/defaults.go', 'Add', 2),\n ('pipeline/brew/brew_test.go', 'removing', 1),\n ('pipeline/brew/brew_test.go', 'unit', 1),\n ('pipeline/brew/brew.go', 'fixed', 8),\n ('pipeline/release/release.go', 'fixed', 4),\n ('.travis.yml', 'lint', 1),\n ('config/config.go', 'github', 1),\n ('internal/client/github.go', 'github', 1),\n ('pipeline/brew/brew.go', 'github', 2),\n ('config/config.go', 'allows', 1),\n ('pipeline/brew/brew_test.go', 'fixing', 1),\n ('internal/client/github.go', 'merge', 1),\n ('config/config.go', 'support', 3),\n ('internal/client/github.go', 'support', 2),\n ('pipeline/brew/brew.go', 'support', 2),\n ('pipeline/release/release.go', 'support', 2),\n ('config/config.go', 'fixed', 2),\n ('internal/client/github.go', 'fixed', 1),\n ('.goreleaser.yml', 'push', 1),\n ('context/context.go', 'adding', 2),\n ('config/config.go', 'rm', 1),\n ('internal/client/github.go', 'todo', 1),\n ('pipeline/defaults/defaults.go', 'enabled', 1),\n ('pipeline/fpm/fpm.go', 'enabled', 1),\n ('config/config.go', 'also', 1),\n ('.travis.yml', 'using', 1),\n ('.travis.yml', 'enable', 1),\n ('.goreleaser.yml', 'restore', 1),\n ('.goreleaser.yml', 'improvements', 1),\n ('config/config.go', 'improvements', 1),\n ('pipeline/defaults/defaults.go', 'improvements', 1),\n ('.goreleaser.yml', 'draft', 1),\n ('Dockerfile', 'draft', 1),\n ('config/config.go', 'draft', 1),\n ('README.md', 'readme', 13),\n ('README.md', 'new', 1),\n ('.goreleaser.yml', 'checksums', 1),\n ('README.md', 'checksums', 1),\n ('config/config.go', 'checksums', 1),\n ('pipeline/defaults/defaults.go', 'checksums', 1),\n ('pipeline/fpm/fpm.go', 'fixed', 4),\n ('README.md', 'improved', 5),\n ('context/context.go', 'improved', 3),\n ('pipeline/brew/brew_test.go', 'fixed', 6),\n ('pipeline/brew/brew.go', 'skipped', 1),\n ('pipeline/fpm/fpm.go', 'skipped', 1),\n ('pipeline/release/release.go', 'skipped', 1),\n ('.travis.yml', 'testing', 1),\n ('.goreleaser.yml', 'building', 1),\n ('.travis.yml', 'building', 1),\n ('pipeline/fpm/fpm.go', 'building', 1),\n ('pipeline/fpm/fpm.go', 'code', 2),\n ('pipeline/fpm/fpm.go', 'improved', 2),\n ('README.md', 'Add', 8),\n ('pipeline/fpm/fpm.go', 'Add', 4),\n ('README.md', 'allow', 1),\n ('config/config.go', 'allow', 3),\n ('README.md', 'spaces', 1),\n ('config/config.go', 'Allow', 4),\n ('config/config.go', 'fixes', 4),\n ('.travis.yml', 'export', 1),\n ('.travis.yml', 'install', 1),\n ('pipeline/brew/brew.go', 'cleanup', 1),\n ('pipeline/brew/brew_test.go', 'cleanup', 2),\n ('pipeline/brew/brew.go', 'improved', 5),\n ('pipeline/brew/brew_test.go', 'improved', 3),\n ('.goreleaser.yml', 'git', 1),\n ('pipeline/brew/brew.go', 'revert', 1),\n ('pipeline/brew/brew.go', 'template', 2),\n ('pipeline/brew/brew_test.go', 'template', 1),\n ('pipeline/brew/brew.go', 'wip', 5),\n ('pipeline/brew/brew_test.go', 'wip', 1),\n ('.goreleaser.yml', 'homebrew', 1),\n ('README.md', 'homebrew', 2),\n ('config/config.go', 'homebrew', 2),\n ('pipeline/brew/brew.go', 'homebrew', 4),\n ('pipeline/brew/brew_test.go', 'homebrew', 3),\n ('config/config.go', 'cleanup', 1),\n ('context/context.go', 'allow', 1),\n ('main.go', 'allow', 2),\n ('pipeline/build/build.go', 'allow', 2),\n ('pipeline/release/release.go', 'allow', 1),\n ('main.go', 'Fixes', 1),\n ('context/context.go', 'coverage', 1),\n ('context/context.go', 'renamed', 4),\n ('pipeline/brew/brew_test.go', 'skipped', 1),\n ('context/context.go', 'fixed', 2),\n ('context/context.go', 'multiple', 1),\n ('pipeline/brew/brew.go', 'multiple', 1),\n ('pipeline/build/build.go', 'multiple', 1),\n ('pipeline/fpm/fpm.go', 'multiple', 1),\n ('pipeline/build/build.go', 'moving', 1),\n ('config/config.go', 'format', 1),\n ('.goreleaser.yml', 'breaking', 1),\n ('config/config.go', 'breaking', 1),\n ('README.md', 'Update', 24),\n ('pipeline/build/build.go', 'fixes', 2),\n ('pipeline/brew/brew_test.go', 'gometalinter', 1),\n ('pipeline/build/build.go', 'gometalinter', 1),\n ('pipeline/build/build.go', 'refactoring', 1),\n ('.goreleaser.yml', 'defaulting', 1),\n ('config/config.go', 'defaulting', 1),\n ('main.go', 'defaulting', 1),\n ('main.go', 'improved', 4),\n ('context/context.go', 'rm', 1),\n ('main.go', 'rm', 1),\n ('pipeline/release/release.go', 'throttling', 1),\n ('pipeline/brew/brew_test.go', 'coverage', 1),\n ('context/context.go', 'fixes', 1),\n ('internal/client/github.go', 'using', 1),\n ('pipeline/brew/brew.go', 'archive', 1),\n ('pipeline/brew/brew_test.go', 'archive', 1),\n ('README.md', 'project', 1),\n ('config/config.go', 'project', 1),\n ('internal/client/github.go', 'project', 1),\n ('pipeline/brew/brew.go', 'project', 1),\n ('pipeline/defaults/defaults.go', 'project', 1),\n ('pipeline/fpm/fpm.go', 'project', 1),\n ('pipeline/defaults/defaults.go', 'fixing', 3),\n ('pipeline/defaults/defaults.go', 'cleaning', 1),\n ('context/context.go', 'cleaning', 1),\n ('pipeline/build/build.go', 'cleaning', 1),\n ('config/config.go', 'added', 9),\n ('pipeline/defaults/defaults.go', 'added', 4),\n ('pipeline/defaults/defaults.go', 'defaults', 2),\n ('pipeline/brew/brew.go', 'brew', 2),\n ('pipeline/brew/brew_test.go', 'brew', 2),\n ('pipeline/fpm/fpm.go', 'fpm', 1),\n ('pipeline/fpm/fpm.go', 'fixes', 1),\n ('context/context.go', 'archive', 1),\n ('pipeline/build/build.go', 'archive', 1),\n ('pipeline/brew/brew.go', 'renamed', 5),\n ('pipeline/fpm/fpm.go', 'renamed', 3),\n ('pipeline/build/build.go', 'improved', 3),\n ('config/config.go', 'fixing', 1),\n ('pipeline/brew/brew.go', 'fixing', 2),\n ('pipeline/build/build.go', 'fixing', 1),\n ('pipeline/fpm/fpm.go', 'fixing', 2),\n ('config/config.go', 'wip', 4),\n ('internal/client/github.go', 'wip', 1),\n ('pipeline/defaults/defaults.go', 'wip', 3),\n ('pipeline/build/build.go', 'merge', 1),\n ('pipeline/brew/brew.go', 'logs', 1),\n ('pipeline/build/build.go', 'logs', 1),\n ('pipeline/fpm/fpm.go', 'logs', 1),\n ('internal/client/github.go', 'improved', 1),\n ('pipeline/release/release.go', 'improved', 1),\n ('main.go', 'improvements', 3),\n ('main.go', 'debug,', 2),\n ('pipeline/brew/brew.go', 'debug,', 2),\n ('pipeline/build/build.go', 'debug,', 2),\n ('pipeline/release/release.go', 'debug,', 2),\n ('context/context.go', 'apex', 2),\n ('internal/client/github.go', 'apex', 2),\n ('main.go', 'apex', 2),\n ('pipeline/brew/brew.go', 'apex', 2),\n ('pipeline/build/build.go', 'apex', 2),\n ('pipeline/fpm/fpm.go', 'apex', 2),\n ('pipeline/release/release.go', 'apex', 2),\n ('README.md', 'removed', 1),\n ('README.md', 'Use', 2),\n ('config/config.go', 'Use', 1),\n ('pipeline/brew/brew.go', 'Use', 1),\n ('pipeline/brew/brew_test.go', 'Use', 1),\n ('pipeline/build/build.go', 'Use', 2),\n ('pipeline/fpm/fpm.go', 'Use', 1),\n ('pipeline/brew/brew_test.go', 'Improve', 1),\n ('pipeline/brew/brew.go', 'Add', 1),\n ('pipeline/build/build.go', 'Add', 1),\n ('.travis.yml', 'Update', 1),\n ('README.md', 'typo,', 1),\n ('pipeline/build/build.go', 'Clearify', 1),\n ('README.md', 'Mention', 3),\n ('README.md', 'added', 8),\n ('pipeline/defaults/defaults.go', 'deleting', 1),\n ('README.md', 'breaking', 1),\n ('config/config.go', 'imports', 1),\n ('config/config.go', 'improved', 2),\n ('internal/client/github.go', 'moving', 1),\n ('pipeline/brew/brew.go', 'moving', 1),\n ('pipeline/release/release.go', 'moving', 1),\n ('pipeline/build/build.go', 'reorder', 1),\n ('README.md', 'custom', 1),\n ('config/config.go', 'custom', 1),\n ('pipeline/build/build.go', 'custom', 1),\n ('pipeline/build/build.go', 'support', 2),\n ('pipeline/defaults/defaults.go', 'support', 1),\n ('config/config.go', 'gofmt,', 1),\n ('pipeline/build/build.go', 'detailed', 1),\n ('README.md', 'updated', 1),\n ('config/config.go', 'gofmt', 1),\n ('README.md', 'simplify', 1),\n ('README.md', 'improving', 2),\n ('.travis.yml', 'go', 2),\n ('pipeline/defaults/defaults.go', 'improved', 1),\n ('context/context.go', 'Add', 1),\n ('main.go', 'Add', 1),\n ('README.md', 'fixed', 3),\n ('config/config.go', 'cleaner', 1),\n ('main.go', 'Incorporate', 1),\n ('config/config.go', 'Run', 1),\n ('main.go', 'Run', 1),\n ('config/config.go', 'Draft', 1),\n ('main.go', 'Draft', 1),\n ('README.md', 'broken', 1),\n ('pipeline/build/build.go', 'added', 3),\n ('README.md', 'h3', 1),\n ('README.md', 'fixes', 2),\n ('README.md', 'a', 1),\n ('.travis.yml', 'make', 1),\n ('main.go', 'make', 1),\n ('README.md', 'go', 2),\n ('README.md', 'badge', 1),\n ('.travis.yml', 'switching', 1),\n ('README.md', 'allowing', 1),\n ('config/config.go', 'allowing', 1),\n ('pipeline/brew/brew.go', 'allowing', 1),\n ('pipeline/brew/brew_test.go', 'allowing', 1),\n ('README.md', 'make', 1),\n ('config/config.go', 'make', 1),\n ('pipeline/brew/brew.go', 'make', 1),\n ('pipeline/brew/brew_test.go', 'make', 1),\n ('pipeline/fpm/fpm.go', 'make', 1),\n ('.travis.yml', 'fixed', 1),\n ('pipeline/build/build.go', 'cleaner', 1),\n ('.travis.yml', 'avoid', 1),\n ('.travis.yml', 'covered', 1),\n ('main.go', 'covered', 1),\n ('pipeline/build/build.go', 'fixed', 4),\n ('config/config.go', 'removed', 1),\n ('pipeline/brew/brew.go', 'removed', 2),\n ('pipeline/defaults/defaults.go', 'removed', 1),\n ('.travis.yml', 'typo', 2),\n ('.travis.yml', 'actually', 1),\n ('pipeline/brew/brew_test.go', 'added', 2),\n ('pipeline/brew/brew.go', 'logging', 1),\n ('pipeline/release/release.go', 'logging', 1),\n ('pipeline/build/build.go', 'Reduce', 1),\n ('main.go', 'log', 2),\n ('pipeline/release/release.go', 'more', 2),\n ('main.go', 'cleanup', 1),\n ('pipeline/defaults/defaults.go', 'cleanup', 1),\n ('context/context.go', 'improvements', 1),\n ('context/context.go', 'added', 2),\n ('main.go', 'added', 4),\n ('pipeline/release/release.go', 'added', 3),\n ('context/context.go', 'skip', 1),\n ('main.go', 'skip', 2),\n ('pipeline/brew/brew.go', 'skip', 1),\n ('pipeline/brew/brew_test.go', 'skip', 1),\n ('pipeline/release/release.go', 'skip', 1),\n ('main.go', 'fixed', 3),\n ('main.go', 'checksum', 1),\n ('main.go', 'moved', 1),\n ('.travis.yml', 'added', 2),\n ('.travis.yml', 'removed', 2),\n ('.travis.yml', 'oops', 1),\n ('.travis.yml', 'sudo', 1),\n ('pipeline/brew/brew.go', 'singularized', 1),\n ('pipeline/brew/brew_test.go', 'singularized', 1),\n ('pipeline/release/release.go', 'singularized', 1),\n ('pipeline/brew/brew_test.go', 'more', 2),\n ('README.md', 'adding', 2),\n ('config/config.go', 'adding', 1),\n ('pipeline/brew/brew.go', 'adding', 1),\n ('pipeline/build/build.go', 'adding', 2),\n ('pipeline/defaults/defaults.go', 'adding', 1),\n ('pipeline/fpm/fpm.go', 'adding', 1),\n ('pipeline/release/release.go', 'adding', 1),\n ('main.go', 'checksumming', 1),\n ('pipeline/release/release.go', 'removed', 3),\n ('.travis.yml', 'trying', 1),\n ('main.go', 'revert', 2),\n ('pipeline/build/build.go', 'removed', 1),\n ('pipeline/release/release.go', 'release', 3),\n ('pipeline/brew/brew.go', 'client', 1),\n ('pipeline/release/release.go', 'client', 1),\n ('config/config.go', 'docs', 2),\n ('config/config.go', 'renamed', 2),\n ('pipeline/build/build.go', 'renamed', 4),\n ('pipeline/defaults/defaults.go', 'renamed', 4),\n ('pipeline/release/release.go', 'renamed', 3),\n ('config/config.go', 'more', 1),\n ('pipeline/brew/brew.go', 'more', 1),\n ('pipeline/build/build.go', 'more', 1),\n ('pipeline/defaults/defaults.go', 'more', 1),\n ('pipeline/fpm/fpm.go', 'more', 1),\n ('pipeline/build/build.go', 'improving', 1),\n ('main.go', 'removed', 1),\n ('main.go', 'clean', 1),\n ('README.md', 'ldflags', 1),\n ('context/context.go', 'ldflags', 1),\n ('main.go', 'ldflags', 1),\n ('pipeline/build/build.go', 'ldflags', 1),\n ('pipeline/defaults/defaults.go', 'ldflags', 1),\n ('pipeline/build/build.go', 'err', 1),\n ('pipeline/brew/brew_test.go', 'govet', 1),\n ('config/config.go', 'typo', 2),\n ('pipeline/defaults/defaults.go', 'fixed', 1),\n ('.travis.yml', 'temporarely', 1),\n ('README.md', 'renamed', 3),\n ('pipeline/brew/brew_test.go', 'renamed', 1),\n ('README.md', 'changing', 2),\n ('config/config.go', 'changing', 1),\n ('context/context.go', 'changing', 1),\n ('main.go', 'changing', 1),\n ('pipeline/brew/brew.go', 'changing', 1),\n ('pipeline/brew/brew_test.go', 'changing', 1),\n ('pipeline/defaults/defaults.go', 'changing', 2),\n ('pipeline/release/release.go', 'changing', 1),\n ('pipeline/build/build.go', 'skip', 1),\n ('pipeline/defaults/defaults.go', 'homebrew', 1),\n ('context/context.go', 'context', 1),\n ('pipeline/brew/brew.go', 'context', 1),\n ('pipeline/release/release.go', 'context', 1),\n ('pipeline/build/build.go', 'using', 4),\n ('README.md', 'support', 1),\n ('README.md', 'First', 1),\n ('config/config.go', 'First', 1),\n ('pipeline/brew/brew.go', 'First', 1),\n ('pipeline/brew/brew_test.go', 'First', 1),\n ('README.md', 'coveralls', 1),\n ('.travis.yml', 'goveralls', 1),\n ('config/config.go', 'adds', 1),\n ('pipeline/brew/brew.go', 'adds', 1),\n ('pipeline/brew/brew_test.go', 'adds', 1),\n ('pipeline/fpm/fpm.go', 'adds', 1),\n ('.travis.yml', 'git', 1),\n ('pipeline/fpm/fpm.go', 'concurrency', 1),\n ('.travis.yml', 'debug', 3),\n ('README.md', 'note', 1),\n ('pipeline/release/release.go', 'comment', 1),\n ('pipeline/fpm/fpm.go', 'using', 2),\n ('.travis.yml', 'travis', 1),\n ('pipeline/fpm/fpm.go', 'added', 2),\n ('config/config.go', 'code', 1),\n ('pipeline/release/release.go', 'code', 2),\n ('pipeline/brew/brew.go', 'added', 3),\n ('README.md', 'Link', 2),\n ('main.go', 'source', 1),\n ('pipeline/build/build.go', 'changed', 1),\n ('pipeline/build/build.go', 'simplified', 1),\n ('README.md', 'better', 1),\n ('README.md', 'formulae', 1),\n ('README.md', 'update', 1),\n ('main.go', 'dont', 1),\n ('README.md', 'small', 2),\n ('README.md', 'mv', 1),\n ('README.md', 'Typo', 1),\n ('pipeline/brew/brew.go', 'Clean', 1),\n ('pipeline/brew/brew_test.go', 'Clean', 1),\n ('pipeline/build/build.go', 'Clean', 1),\n ('pipeline/defaults/defaults.go', 'Clean', 1),\n ('pipeline/release/release.go', 'Clean', 1),\n ('main.go', 'Always', 1),\n ('context/context.go', 'removed', 1),\n ('pipeline/brew/brew.go', 'remove', 1),\n ('pipeline/brew/brew_test.go', 'remove', 1),\n ('pipeline/brew/brew.go', 'missing', 1),\n ('pipeline/brew/brew_test.go', 'missing', 1),\n ('pipeline/brew/brew.go', 'fail', 1),\n ('config/config.go', 'strip', 1),\n ('context/context.go', 'strip', 1),\n ('context/context.go', 'golint', 1),\n ('main.go', 'goimports', 1),\n ('main.go', 'renamed', 2),\n ('config/config.go', 'organized', 1),\n ('context/context.go', 'organized', 1),\n ('main.go', 'organized', 2),\n ('pipeline/brew/brew.go', 'organized', 1),\n ('pipeline/build/build.go', 'organized', 1),\n ('pipeline/defaults/defaults.go', 'organized', 1),\n ('pipeline/release/release.go', 'organized', 1),\n ('pipeline/brew/brew.go', 'Github', 1),\n ('pipeline/release/release.go', 'Github', 1),\n ('README.md', 'Improved', 1),\n ('pipeline/brew/brew.go', 'Fixing', 1),\n ('pipeline/build/build.go', 'Fixing', 1),\n ('pipeline/defaults/defaults.go', 'Fixing', 1),\n ('pipeline/release/release.go', 'Fixing', 1),\n ('main.go', 'Config', 1),\n ('pipeline/defaults/defaults.go', 'Default', 2),\n ('pipeline/defaults/defaults.go', 'lowercase', 1),\n ('context/context.go', 'even', 1),\n ('pipeline/brew/brew.go', 'even', 2),\n ('pipeline/build/build.go', 'even', 1),\n ('pipeline/release/release.go', 'github', 1),\n ('pipeline/defaults/defaults.go', 'tests', 1),\n ('context/context.go', 'wip', 2),\n ('main.go', 'wip', 3),\n ('pipeline/release/release.go', 'wip', 1),\n ('pipeline/build/build.go', 'buidl', 1),\n ('README.md', 'create', 1),\n ('config/config.go', 'create', 1),\n ('pipeline/brew/brew.go', 'create', 1),\n ('pipeline/release/release.go', 'lint', 1),\n ('pipeline/release/release.go', 'update', 1),\n ('README.md', 'document', 2),\n ('README.md', 'homebrew-formulae', 1),\n ('pipeline/build/build.go', 'cleanup', 1),\n ('README.md', 'customize', 1),\n ('config/config.go', 'customize', 1),\n ('pipeline/build/build.go', 'customize', 1),\n ('README.md', 'tabs', 1),\n ('config/config.go', 'refactory', 1),\n ('pipeline/brew/brew.go', 'refactory', 1),\n ('pipeline/build/build.go', 'refactory', 1),\n ('pipeline/release/release.go', 'refactory', 1),\n ('pipeline/brew/brew.go', 'fixes', 2),\n ('pipeline/brew/brew_test.go', 'fixes', 2),\n ('pipeline/release/release.go', 'fixes', 1),\n ('pipeline/brew/brew.go', 'simplify', 1),\n ('pipeline/brew/brew_test.go', 'simplify', 1),\n ('pipeline/brew/brew.go', 'release', 1),\n ('config/config.go', 'zip', 2),\n ('config/config.go', 'Revert', 1),\n ('config/config.go', 'config', 3),\n ('config/config.go', 'go', 1),\n ('pipeline/brew/brew.go', 'gofmt', 1),\n ('pipeline/brew/brew_test.go', 'gofmt', 1),\n ('config/config.go', 'continuing', 1),\n ('pipeline/brew/brew.go', 'continuing', 1),\n ('pipeline/brew/brew_test.go', 'continuing', 1),\n ('pipeline/build/build.go', 'continuing', 1),\n ('pipeline/release/release.go', 'continuing', 1),\n ('pipeline/build/build.go', 'imports', 1),\n ('pipeline/release/release.go', 'imports', 1),\n ('config/config.go', 'name', 1),\n ('pipeline/build/build.go', 'name', 1),\n ('pipeline/release/release.go', 'name', 1),\n ('config/config.go', 'simplified', 1),\n ('.travis.yml', '?', 1),\n ('.travis.yml', 'makefile', 1),\n ('README.md', 'makefile', 1),\n ('.travis.yml', 'misspell', 1),\n ('.travis.yml', 'duplicated', 1),\n ('.travis.yml', 'gofmt', 1),\n ('.travis.yml', 'gometalinter', 1),\n ('config/config.go', 'gometalinter', 1),\n ('README.md', ':lipstick:', 1),\n ('pipeline/brew/brew_test.go', 'empty', 1),\n ('pipeline/brew/brew.go', 'got', 1),\n ('pipeline/brew/brew.go', 'url', 1),\n ('main.go', 'gofmt', 1),\n ('config/config.go', 'Glob', 1),\n ('README.md', 'grammar', 1),\n ('config/config.go', 'golint', 1),\n ('main.go', 'golint', 1),\n ('pipeline/brew/brew.go', 'golint', 1),\n ('pipeline/build/build.go', 'golint', 1),\n ('pipeline/release/release.go', 'golint', 1),\n ('pipeline/release/release.go', 'gofmt', 1),\n ('pipeline/release/release.go', 'better', 1),\n ('pipeline/brew/brew.go', 'wrong', 1),\n ('pipeline/build/build.go', 'bos', 1),\n ('pipeline/brew/brew.go', 'code', 1),\n ('config/config.go', 'reorganized', 1),\n ('main.go', 'reorganized', 1),\n ('pipeline/brew/brew.go', 'reorganized', 1),\n ('pipeline/brew/brew_test.go', 'reorganized', 1),\n ('pipeline/build/build.go', 'reorganized', 1),\n ('pipeline/release/release.go', 'reorganized', 1),\n ('config/config.go', 'changed', 1),\n ('config/config.go', 'main.go', 1),\n ('main.go', 'brew', 1),\n ('config/config.go', 'wtfff', 1),\n ('main.go', 'wtfff', 1),\n ('.travis.yml', 'moving', 1),\n ('main.go', 'release', 1),\n ('README.md', 'readme,', 1),\n ('README.md', 'zip', 1),\n ('main.go', 'main', 1),\n ('main.go', 'git', 1),\n ('main.go', 'fixes', 1),\n ('main.go', 'config', 1)]"
     },
     "execution_count": 89,
     "metadata": {},
     "output_type": "execute_result"
    }
   ],
   "source": [
    "data_source = [\n",
    "    (filename, reason, value)\n",
    "    for ((filename, reason), value) in counter.items()\n",
    "    if filename in file_set\n",
    "]\n",
    "data_source"
   ]
  },
  {
   "cell_type": "code",
   "execution_count": 90,
   "id": "8b689f85-73fa-470c-b1e2-1a70d7656d3d",
   "metadata": {
    "ExecuteTime": {
     "end_time": "2024-08-13T10:54:07.406909Z",
     "start_time": "2024-08-13T10:54:07.405015Z"
    }
   },
   "outputs": [
    {
     "data": {
      "text/plain": "                              file  reason  count\n0      .github/workflows/build.yml      ci      2\n1      .github/workflows/build.yml   chore    200\n2    .github/workflows/release.yml   chore    130\n3     .github/workflows/codeql.yml   chore     84\n4                       Dockerfile   chore     24\n..                             ...     ...    ...\n703                      README.md     zip      1\n704                        main.go    main      1\n705                        main.go     git      1\n706                        main.go   fixes      1\n707                        main.go  config      1\n\n[708 rows x 3 columns]",
      "text/html": "<div>\n<style scoped>\n    .dataframe tbody tr th:only-of-type {\n        vertical-align: middle;\n    }\n\n    .dataframe tbody tr th {\n        vertical-align: top;\n    }\n\n    .dataframe thead th {\n        text-align: right;\n    }\n</style>\n<table border=\"1\" class=\"dataframe\">\n  <thead>\n    <tr style=\"text-align: right;\">\n      <th></th>\n      <th>file</th>\n      <th>reason</th>\n      <th>count</th>\n    </tr>\n  </thead>\n  <tbody>\n    <tr>\n      <th>0</th>\n      <td>.github/workflows/build.yml</td>\n      <td>ci</td>\n      <td>2</td>\n    </tr>\n    <tr>\n      <th>1</th>\n      <td>.github/workflows/build.yml</td>\n      <td>chore</td>\n      <td>200</td>\n    </tr>\n    <tr>\n      <th>2</th>\n      <td>.github/workflows/release.yml</td>\n      <td>chore</td>\n      <td>130</td>\n    </tr>\n    <tr>\n      <th>3</th>\n      <td>.github/workflows/codeql.yml</td>\n      <td>chore</td>\n      <td>84</td>\n    </tr>\n    <tr>\n      <th>4</th>\n      <td>Dockerfile</td>\n      <td>chore</td>\n      <td>24</td>\n    </tr>\n    <tr>\n      <th>...</th>\n      <td>...</td>\n      <td>...</td>\n      <td>...</td>\n    </tr>\n    <tr>\n      <th>703</th>\n      <td>README.md</td>\n      <td>zip</td>\n      <td>1</td>\n    </tr>\n    <tr>\n      <th>704</th>\n      <td>main.go</td>\n      <td>main</td>\n      <td>1</td>\n    </tr>\n    <tr>\n      <th>705</th>\n      <td>main.go</td>\n      <td>git</td>\n      <td>1</td>\n    </tr>\n    <tr>\n      <th>706</th>\n      <td>main.go</td>\n      <td>fixes</td>\n      <td>1</td>\n    </tr>\n    <tr>\n      <th>707</th>\n      <td>main.go</td>\n      <td>config</td>\n      <td>1</td>\n    </tr>\n  </tbody>\n</table>\n<p>708 rows × 3 columns</p>\n</div>"
     },
     "execution_count": 90,
     "metadata": {},
     "output_type": "execute_result"
    }
   ],
   "source": [
    "df = pd.DataFrame(data_source, columns=[\"file\", \"reason\", \"count\"])\n",
    "df"
   ]
  },
  {
   "cell_type": "code",
   "execution_count": 91,
   "id": "f8a663e1-fb22-458c-9008-53007e7b92d7",
   "metadata": {
    "ExecuteTime": {
     "end_time": "2024-08-13T10:54:07.641027Z",
     "start_time": "2024-08-13T10:54:07.409059Z"
    }
   },
   "outputs": [
    {
     "data": {
      "application/vnd.plotly.v1+json": {
       "data": [
        {
         "alignmentgroup": "True",
         "hovertemplate": "reason=ci<br>file=%{x}<br>count=%{y}<extra></extra>",
         "legendgroup": "ci",
         "marker": {
          "color": "#636efa",
          "pattern": {
           "shape": ""
          }
         },
         "name": "ci",
         "offsetgroup": "ci",
         "orientation": "v",
         "showlegend": true,
         "textposition": "auto",
         "x": [
          ".github/workflows/build.yml",
          ".github/workflows/release.yml",
          ".goreleaser.yml",
          ".travis.yml"
         ],
         "xaxis": "x",
         "y": [
          2,
          1,
          2,
          1
         ],
         "yaxis": "y",
         "type": "bar"
        },
        {
         "alignmentgroup": "True",
         "hovertemplate": "reason=chore<br>file=%{x}<br>count=%{y}<extra></extra>",
         "legendgroup": "chore",
         "marker": {
          "color": "#EF553B",
          "pattern": {
           "shape": ""
          }
         },
         "name": "chore",
         "offsetgroup": "chore",
         "orientation": "v",
         "showlegend": true,
         "textposition": "auto",
         "x": [
          ".github/workflows/build.yml",
          ".github/workflows/release.yml",
          ".github/workflows/codeql.yml",
          "Dockerfile",
          "internal/client/github.go",
          "www/docs/static/schema.json",
          "internal/builders/golang/build_test.go",
          "internal/pipe/docker/docker_test.go",
          "www/docs/static/schema-pro.json",
          "internal/pipe/brew/brew.go",
          "main.go",
          ".goreleaser.yml",
          "www/mkdocs.yml",
          "internal/artifact/artifact.go",
          "internal/pipe/brew/brew_test.go",
          "internal/pipe/nfpm/nfpm.go",
          "internal/pipe/nfpm/nfpm_test.go",
          "internal/builders/golang/build.go",
          "pkg/config/config.go",
          "internal/pipe/docker/docker.go",
          ".travis.yml",
          "config/config.go",
          "pipeline/brew/brew.go",
          "pipeline/brew/brew_test.go",
          "pipeline/release/release.go",
          "pipeline/build/build.go",
          "pipeline/fpm/fpm.go"
         ],
         "xaxis": "x",
         "y": [
          200,
          130,
          84,
          24,
          11,
          62,
          3,
          4,
          38,
          7,
          5,
          25,
          1,
          4,
          3,
          6,
          2,
          3,
          3,
          5,
          21,
          1,
          1,
          1,
          1,
          1,
          2
         ],
         "yaxis": "y",
         "type": "bar"
        },
        {
         "alignmentgroup": "True",
         "hovertemplate": "reason=docs<br>file=%{x}<br>count=%{y}<extra></extra>",
         "legendgroup": "docs",
         "marker": {
          "color": "#00cc96",
          "pattern": {
           "shape": ""
          }
         },
         "name": "docs",
         "offsetgroup": "docs",
         "orientation": "v",
         "showlegend": true,
         "textposition": "auto",
         "x": [
          "www/mkdocs.yml",
          "www/docs/static/schema-pro.json",
          "README.md",
          "www/docs/static/schema.json",
          "pkg/config/config.go",
          "internal/builders/golang/build_test.go",
          "internal/client/github.go",
          "internal/pipe/nfpm/nfpm_test.go",
          ".github/workflows/release.yml",
          "internal/pipe/nfpm/nfpm.go",
          ".goreleaser.yml",
          ".github/workflows/build.yml",
          ".travis.yml",
          "internal/pipe/brew/brew.go",
          "config/config.go"
         ],
         "xaxis": "x",
         "y": [
          82,
          67,
          31,
          30,
          3,
          1,
          1,
          1,
          2,
          1,
          2,
          1,
          11,
          1,
          2
         ],
         "yaxis": "y",
         "type": "bar"
        },
        {
         "alignmentgroup": "True",
         "hovertemplate": "reason=feat<br>file=%{x}<br>count=%{y}<extra></extra>",
         "legendgroup": "feat",
         "marker": {
          "color": "#ab63fa",
          "pattern": {
           "shape": ""
          }
         },
         "name": "feat",
         "offsetgroup": "feat",
         "orientation": "v",
         "showlegend": true,
         "textposition": "auto",
         "x": [
          "pkg/config/config.go",
          "www/mkdocs.yml",
          "internal/pipe/nfpm/nfpm.go",
          "internal/pipe/nfpm/nfpm_test.go",
          "internal/builders/golang/build.go",
          "internal/builders/golang/build_test.go",
          "internal/client/github.go",
          "internal/pipe/brew/brew.go",
          "internal/pipe/brew/brew_test.go",
          "internal/pipe/docker/docker.go",
          "internal/pipe/docker/docker_test.go",
          "main.go",
          "internal/artifact/artifact.go",
          ".github/workflows/release.yml",
          "www/docs/static/schema-pro.json",
          "www/docs/static/schema.json",
          "Dockerfile",
          ".github/workflows/build.yml",
          ".github/workflows/codeql.yml",
          ".goreleaser.yml",
          "README.md",
          ".travis.yml",
          "config/config.go",
          "pipeline/brew/brew.go",
          "pipeline/brew/brew_test.go",
          "context/context.go",
          "pipeline/defaults/defaults.go",
          "pipeline/release/release.go",
          "pipeline/build/build.go",
          "pipeline/fpm/fpm.go"
         ],
         "xaxis": "x",
         "y": [
          247,
          33,
          57,
          46,
          35,
          33,
          49,
          48,
          45,
          37,
          36,
          20,
          44,
          5,
          5,
          22,
          74,
          25,
          1,
          38,
          1,
          6,
          42,
          7,
          8,
          7,
          12,
          4,
          5,
          6
         ],
         "yaxis": "y",
         "type": "bar"
        },
        {
         "alignmentgroup": "True",
         "hovertemplate": "reason=Merge<br>file=%{x}<br>count=%{y}<extra></extra>",
         "legendgroup": "Merge",
         "marker": {
          "color": "#FFA15A",
          "pattern": {
           "shape": ""
          }
         },
         "name": "Merge",
         "offsetgroup": "Merge",
         "orientation": "v",
         "showlegend": true,
         "textposition": "auto",
         "x": [
          ".github/workflows/build.yml",
          ".github/workflows/release.yml",
          "internal/builders/golang/build.go",
          "pkg/config/config.go",
          ".github/workflows/codeql.yml",
          "Dockerfile",
          "internal/builders/golang/build_test.go",
          "internal/pipe/nfpm/nfpm.go",
          "internal/pipe/nfpm/nfpm_test.go",
          "www/docs/static/schema-pro.json",
          "www/docs/static/schema.json",
          "internal/pipe/brew/brew.go",
          "internal/pipe/brew/brew_test.go",
          "internal/client/github.go",
          "internal/pipe/docker/docker.go",
          "internal/pipe/docker/docker_test.go",
          "main.go",
          "pipeline/brew/brew.go",
          "pipeline/brew/brew_test.go",
          "pipeline/build/build.go",
          "pipeline/release/release.go",
          ".travis.yml",
          "config/config.go",
          "README.md",
          "context/context.go",
          ".goreleaser.yml",
          "pipeline/fpm/fpm.go",
          "pipeline/defaults/defaults.go",
          "internal/artifact/artifact.go"
         ],
         "xaxis": "x",
         "y": [
          4,
          5,
          8,
          5,
          2,
          2,
          5,
          2,
          2,
          2,
          3,
          2,
          2,
          20,
          1,
          1,
          48,
          69,
          50,
          56,
          50,
          30,
          82,
          88,
          41,
          16,
          36,
          39,
          1
         ],
         "yaxis": "y",
         "type": "bar"
        },
        {
         "alignmentgroup": "True",
         "hovertemplate": "reason=fix<br>file=%{x}<br>count=%{y}<extra></extra>",
         "legendgroup": "fix",
         "marker": {
          "color": "#19d3f3",
          "pattern": {
           "shape": ""
          }
         },
         "name": "fix",
         "offsetgroup": "fix",
         "orientation": "v",
         "showlegend": true,
         "textposition": "auto",
         "x": [
          "pkg/config/config.go",
          "www/docs/static/schema.json",
          "internal/client/github.go",
          ".github/workflows/build.yml",
          ".github/workflows/release.yml",
          "internal/builders/golang/build.go",
          "internal/builders/golang/build_test.go",
          "internal/artifact/artifact.go",
          "internal/pipe/docker/docker.go",
          "main.go",
          "internal/pipe/nfpm/nfpm.go",
          "internal/pipe/nfpm/nfpm_test.go",
          "internal/pipe/brew/brew.go",
          "internal/pipe/docker/docker_test.go",
          "Dockerfile",
          "internal/pipe/brew/brew_test.go",
          "www/docs/static/schema-pro.json",
          ".github/workflows/codeql.yml",
          "www/mkdocs.yml",
          ".goreleaser.yml",
          ".travis.yml",
          "pipeline/brew/brew_test.go",
          "pipeline/brew/brew.go",
          "pipeline/build/build.go",
          "config/config.go",
          "README.md",
          "pipeline/defaults/defaults.go",
          "pipeline/release/release.go",
          "pipeline/fpm/fpm.go",
          "context/context.go"
         ],
         "xaxis": "x",
         "y": [
          60,
          20,
          40,
          20,
          3,
          32,
          26,
          23,
          34,
          23,
          33,
          20,
          41,
          26,
          18,
          29,
          3,
          4,
          5,
          33,
          8,
          16,
          14,
          7,
          8,
          2,
          4,
          7,
          7,
          4
         ],
         "yaxis": "y",
         "type": "bar"
        },
        {
         "alignmentgroup": "True",
         "hovertemplate": "reason=chore(deps):<br>file=%{x}<br>count=%{y}<extra></extra>",
         "legendgroup": "chore(deps):",
         "marker": {
          "color": "#FF6692",
          "pattern": {
           "shape": ""
          }
         },
         "name": "chore(deps):",
         "offsetgroup": "chore(deps):",
         "orientation": "v",
         "showlegend": true,
         "textposition": "auto",
         "x": [
          "Dockerfile"
         ],
         "xaxis": "x",
         "y": [
          1
         ],
         "yaxis": "y",
         "type": "bar"
        },
        {
         "alignmentgroup": "True",
         "hovertemplate": "reason=test<br>file=%{x}<br>count=%{y}<extra></extra>",
         "legendgroup": "test",
         "marker": {
          "color": "#B6E880",
          "pattern": {
           "shape": ""
          }
         },
         "name": "test",
         "offsetgroup": "test",
         "orientation": "v",
         "showlegend": true,
         "textposition": "auto",
         "x": [
          "internal/pipe/nfpm/nfpm_test.go",
          "internal/builders/golang/build_test.go",
          "internal/pipe/docker/docker_test.go",
          "internal/pipe/brew/brew_test.go",
          "internal/pipe/docker/docker.go",
          "internal/pipe/nfpm/nfpm.go",
          "internal/artifact/artifact.go",
          "internal/builders/golang/build.go",
          "main.go",
          "pipeline/brew/brew_test.go",
          "pipeline/fpm/fpm.go",
          "pipeline/release/release.go",
          "pipeline/defaults/defaults.go",
          "pipeline/build/build.go"
         ],
         "xaxis": "x",
         "y": [
          12,
          14,
          14,
          3,
          3,
          1,
          1,
          1,
          1,
          2,
          1,
          1,
          1,
          1
         ],
         "yaxis": "y",
         "type": "bar"
        },
        {
         "alignmentgroup": "True",
         "hovertemplate": "reason=refactor<br>file=%{x}<br>count=%{y}<extra></extra>",
         "legendgroup": "refactor",
         "marker": {
          "color": "#FF97FF",
          "pattern": {
           "shape": ""
          }
         },
         "name": "refactor",
         "offsetgroup": "refactor",
         "orientation": "v",
         "showlegend": true,
         "textposition": "auto",
         "x": [
          "internal/artifact/artifact.go",
          "internal/pipe/docker/docker.go",
          "internal/pipe/docker/docker_test.go",
          "internal/pipe/nfpm/nfpm.go",
          "pkg/config/config.go",
          "internal/pipe/brew/brew.go",
          "internal/pipe/brew/brew_test.go",
          "internal/client/github.go",
          "internal/pipe/nfpm/nfpm_test.go",
          "internal/builders/golang/build.go",
          "www/docs/static/schema-pro.json",
          "www/docs/static/schema.json",
          "internal/builders/golang/build_test.go",
          ".goreleaser.yml",
          "main.go",
          "config/config.go",
          "context/context.go",
          "pipeline/brew/brew.go",
          "pipeline/brew/brew_test.go",
          "pipeline/build/build.go",
          "pipeline/defaults/defaults.go",
          "pipeline/fpm/fpm.go",
          "pipeline/release/release.go",
          ".travis.yml"
         ],
         "xaxis": "x",
         "y": [
          18,
          13,
          16,
          10,
          11,
          11,
          15,
          6,
          8,
          9,
          2,
          1,
          11,
          3,
          6,
          6,
          4,
          6,
          4,
          16,
          4,
          7,
          6,
          2
         ],
         "yaxis": "y",
         "type": "bar"
        },
        {
         "alignmentgroup": "True",
         "hovertemplate": "reason=build<br>file=%{x}<br>count=%{y}<extra></extra>",
         "legendgroup": "build",
         "marker": {
          "color": "#FECB52",
          "pattern": {
           "shape": ""
          }
         },
         "name": "build",
         "offsetgroup": "build",
         "orientation": "v",
         "showlegend": true,
         "textposition": "auto",
         "x": [
          ".github/workflows/build.yml",
          ".github/workflows/release.yml",
          "www/docs/static/schema-pro.json",
          "www/docs/static/schema.json",
          ".github/workflows/codeql.yml",
          "Dockerfile"
         ],
         "xaxis": "x",
         "y": [
          8,
          7,
          2,
          1,
          2,
          1
         ],
         "yaxis": "y",
         "type": "bar"
        },
        {
         "alignmentgroup": "True",
         "hovertemplate": "reason=Revert<br>file=%{x}<br>count=%{y}<extra></extra>",
         "legendgroup": "Revert",
         "marker": {
          "color": "#636efa",
          "pattern": {
           "shape": ""
          }
         },
         "name": "Revert",
         "offsetgroup": "Revert",
         "orientation": "v",
         "showlegend": true,
         "textposition": "auto",
         "x": [
          ".github/workflows/build.yml",
          ".github/workflows/release.yml",
          "internal/client/github.go",
          ".goreleaser.yml",
          ".travis.yml",
          "internal/artifact/artifact.go",
          "config/config.go"
         ],
         "xaxis": "x",
         "y": [
          2,
          1,
          4,
          2,
          6,
          1,
          1
         ],
         "yaxis": "y",
         "type": "bar"
        },
        {
         "alignmentgroup": "True",
         "hovertemplate": "reason=adjusted<br>file=%{x}<br>count=%{y}<extra></extra>",
         "legendgroup": "adjusted",
         "marker": {
          "color": "#EF553B",
          "pattern": {
           "shape": ""
          }
         },
         "name": "adjusted",
         "offsetgroup": "adjusted",
         "orientation": "v",
         "showlegend": true,
         "textposition": "auto",
         "x": [
          "internal/pipe/docker/docker.go"
         ],
         "xaxis": "x",
         "y": [
          1
         ],
         "yaxis": "y",
         "type": "bar"
        },
        {
         "alignmentgroup": "True",
         "hovertemplate": "reason=switched<br>file=%{x}<br>count=%{y}<extra></extra>",
         "legendgroup": "switched",
         "marker": {
          "color": "#00cc96",
          "pattern": {
           "shape": ""
          }
         },
         "name": "switched",
         "offsetgroup": "switched",
         "orientation": "v",
         "showlegend": true,
         "textposition": "auto",
         "x": [
          "internal/pipe/docker/docker.go"
         ],
         "xaxis": "x",
         "y": [
          1
         ],
         "yaxis": "y",
         "type": "bar"
        },
        {
         "alignmentgroup": "True",
         "hovertemplate": "reason=more<br>file=%{x}<br>count=%{y}<extra></extra>",
         "legendgroup": "more",
         "marker": {
          "color": "#ab63fa",
          "pattern": {
           "shape": ""
          }
         },
         "name": "more",
         "offsetgroup": "more",
         "orientation": "v",
         "showlegend": true,
         "textposition": "auto",
         "x": [
          "internal/pipe/docker/docker.go",
          "pipeline/release/release.go",
          "pipeline/brew/brew_test.go",
          "config/config.go",
          "pipeline/brew/brew.go",
          "pipeline/build/build.go",
          "pipeline/defaults/defaults.go",
          "pipeline/fpm/fpm.go"
         ],
         "xaxis": "x",
         "y": [
          1,
          2,
          2,
          1,
          1,
          1,
          1,
          1
         ],
         "yaxis": "y",
         "type": "bar"
        },
        {
         "alignmentgroup": "True",
         "hovertemplate": "reason=Support<br>file=%{x}<br>count=%{y}<extra></extra>",
         "legendgroup": "Support",
         "marker": {
          "color": "#FFA15A",
          "pattern": {
           "shape": ""
          }
         },
         "name": "Support",
         "offsetgroup": "Support",
         "orientation": "v",
         "showlegend": true,
         "textposition": "auto",
         "x": [
          "internal/client/github.go",
          "pkg/config/config.go"
         ],
         "xaxis": "x",
         "y": [
          1,
          1
         ],
         "yaxis": "y",
         "type": "bar"
        },
        {
         "alignmentgroup": "True",
         "hovertemplate": "reason=revert<br>file=%{x}<br>count=%{y}<extra></extra>",
         "legendgroup": "revert",
         "marker": {
          "color": "#19d3f3",
          "pattern": {
           "shape": ""
          }
         },
         "name": "revert",
         "offsetgroup": "revert",
         "orientation": "v",
         "showlegend": true,
         "textposition": "auto",
         "x": [
          "internal/client/github.go",
          "pipeline/brew/brew.go",
          "main.go"
         ],
         "xaxis": "x",
         "y": [
          1,
          1,
          2
         ],
         "yaxis": "y",
         "type": "bar"
        },
        {
         "alignmentgroup": "True",
         "hovertemplate": "reason=feat:<br>file=%{x}<br>count=%{y}<extra></extra>",
         "legendgroup": "feat:",
         "marker": {
          "color": "#FF6692",
          "pattern": {
           "shape": ""
          }
         },
         "name": "feat:",
         "offsetgroup": "feat:",
         "orientation": "v",
         "showlegend": true,
         "textposition": "auto",
         "x": [
          "internal/pipe/nfpm/nfpm.go",
          "pkg/config/config.go"
         ],
         "xaxis": "x",
         "y": [
          1,
          1
         ],
         "yaxis": "y",
         "type": "bar"
        },
        {
         "alignmentgroup": "True",
         "hovertemplate": "reason=refactory<br>file=%{x}<br>count=%{y}<extra></extra>",
         "legendgroup": "refactory",
         "marker": {
          "color": "#B6E880",
          "pattern": {
           "shape": ""
          }
         },
         "name": "refactory",
         "offsetgroup": "refactory",
         "orientation": "v",
         "showlegend": true,
         "textposition": "auto",
         "x": [
          "internal/artifact/artifact.go",
          "config/config.go",
          "pipeline/brew/brew.go",
          "pipeline/build/build.go",
          "pipeline/release/release.go"
         ],
         "xaxis": "x",
         "y": [
          1,
          1,
          1,
          1,
          1
         ],
         "yaxis": "y",
         "type": "bar"
        },
        {
         "alignmentgroup": "True",
         "hovertemplate": "reason=Add<br>file=%{x}<br>count=%{y}<extra></extra>",
         "legendgroup": "Add",
         "marker": {
          "color": "#FF97FF",
          "pattern": {
           "shape": ""
          }
         },
         "name": "Add",
         "offsetgroup": "Add",
         "orientation": "v",
         "showlegend": true,
         "textposition": "auto",
         "x": [
          "pkg/config/config.go",
          "www/mkdocs.yml",
          "config/config.go",
          "internal/client/github.go",
          "pipeline/defaults/defaults.go",
          "README.md",
          "pipeline/fpm/fpm.go",
          "pipeline/brew/brew.go",
          "pipeline/build/build.go",
          "context/context.go",
          "main.go"
         ],
         "xaxis": "x",
         "y": [
          1,
          1,
          6,
          1,
          2,
          8,
          4,
          1,
          1,
          1,
          1
         ],
         "yaxis": "y",
         "type": "bar"
        },
        {
         "alignmentgroup": "True",
         "hovertemplate": "reason=Do<br>file=%{x}<br>count=%{y}<extra></extra>",
         "legendgroup": "Do",
         "marker": {
          "color": "#FECB52",
          "pattern": {
           "shape": ""
          }
         },
         "name": "Do",
         "offsetgroup": "Do",
         "orientation": "v",
         "showlegend": true,
         "textposition": "auto",
         "x": [
          "internal/client/github.go"
         ],
         "xaxis": "x",
         "y": [
          1
         ],
         "yaxis": "y",
         "type": "bar"
        },
        {
         "alignmentgroup": "True",
         "hovertemplate": "reason=add<br>file=%{x}<br>count=%{y}<extra></extra>",
         "legendgroup": "add",
         "marker": {
          "color": "#636efa",
          "pattern": {
           "shape": ""
          }
         },
         "name": "add",
         "offsetgroup": "add",
         "orientation": "v",
         "showlegend": true,
         "textposition": "auto",
         "x": [
          "www/mkdocs.yml",
          ".goreleaser.yml",
          "config/config.go",
          "pipeline/defaults/defaults.go"
         ],
         "xaxis": "x",
         "y": [
          1,
          2,
          2,
          1
         ],
         "yaxis": "y",
         "type": "bar"
        },
        {
         "alignmentgroup": "True",
         "hovertemplate": "reason=Use<br>file=%{x}<br>count=%{y}<extra></extra>",
         "legendgroup": "Use",
         "marker": {
          "color": "#EF553B",
          "pattern": {
           "shape": ""
          }
         },
         "name": "Use",
         "offsetgroup": "Use",
         "orientation": "v",
         "showlegend": true,
         "textposition": "auto",
         "x": [
          "internal/pipe/nfpm/nfpm.go",
          "internal/pipe/nfpm/nfpm_test.go",
          "README.md",
          "config/config.go",
          "pipeline/brew/brew.go",
          "pipeline/brew/brew_test.go",
          "pipeline/build/build.go",
          "pipeline/fpm/fpm.go"
         ],
         "xaxis": "x",
         "y": [
          1,
          1,
          2,
          1,
          1,
          1,
          2,
          1
         ],
         "yaxis": "y",
         "type": "bar"
        },
        {
         "alignmentgroup": "True",
         "hovertemplate": "reason=Fix<br>file=%{x}<br>count=%{y}<extra></extra>",
         "legendgroup": "Fix",
         "marker": {
          "color": "#00cc96",
          "pattern": {
           "shape": ""
          }
         },
         "name": "Fix",
         "offsetgroup": "Fix",
         "orientation": "v",
         "showlegend": true,
         "textposition": "auto",
         "x": [
          "Dockerfile",
          "README.md"
         ],
         "xaxis": "x",
         "y": [
          1,
          5
         ],
         "yaxis": "y",
         "type": "bar"
        },
        {
         "alignmentgroup": "True",
         "hovertemplate": "reason=clean<br>file=%{x}<br>count=%{y}<extra></extra>",
         "legendgroup": "clean",
         "marker": {
          "color": "#ab63fa",
          "pattern": {
           "shape": ""
          }
         },
         "name": "clean",
         "offsetgroup": "clean",
         "orientation": "v",
         "showlegend": true,
         "textposition": "auto",
         "x": [
          "internal/pipe/docker/docker_test.go",
          "internal/pipe/docker/docker.go",
          "pkg/config/config.go",
          "main.go"
         ],
         "xaxis": "x",
         "y": [
          2,
          1,
          4,
          1
         ],
         "yaxis": "y",
         "type": "bar"
        },
        {
         "alignmentgroup": "True",
         "hovertemplate": "reason=&base<br>file=%{x}<br>count=%{y}<extra></extra>",
         "legendgroup": "&base",
         "marker": {
          "color": "#FFA15A",
          "pattern": {
           "shape": ""
          }
         },
         "name": "&base",
         "offsetgroup": "&base",
         "orientation": "v",
         "showlegend": true,
         "textposition": "auto",
         "x": [
          "internal/client/github.go"
         ],
         "xaxis": "x",
         "y": [
          1
         ],
         "yaxis": "y",
         "type": "bar"
        },
        {
         "alignmentgroup": "True",
         "hovertemplate": "reason=Set<br>file=%{x}<br>count=%{y}<extra></extra>",
         "legendgroup": "Set",
         "marker": {
          "color": "#19d3f3",
          "pattern": {
           "shape": ""
          }
         },
         "name": "Set",
         "offsetgroup": "Set",
         "orientation": "v",
         "showlegend": true,
         "textposition": "auto",
         "x": [
          ".goreleaser.yml"
         ],
         "xaxis": "x",
         "y": [
          1
         ],
         "yaxis": "y",
         "type": "bar"
        },
        {
         "alignmentgroup": "True",
         "hovertemplate": "reason=refactor/fix:<br>file=%{x}<br>count=%{y}<extra></extra>",
         "legendgroup": "refactor/fix:",
         "marker": {
          "color": "#FF6692",
          "pattern": {
           "shape": ""
          }
         },
         "name": "refactor/fix:",
         "offsetgroup": "refactor/fix:",
         "orientation": "v",
         "showlegend": true,
         "textposition": "auto",
         "x": [
          "main.go"
         ],
         "xaxis": "x",
         "y": [
          1
         ],
         "yaxis": "y",
         "type": "bar"
        },
        {
         "alignmentgroup": "True",
         "hovertemplate": "reason=Optimized<br>file=%{x}<br>count=%{y}<extra></extra>",
         "legendgroup": "Optimized",
         "marker": {
          "color": "#B6E880",
          "pattern": {
           "shape": ""
          }
         },
         "name": "Optimized",
         "offsetgroup": "Optimized",
         "orientation": "v",
         "showlegend": true,
         "textposition": "auto",
         "x": [
          "Dockerfile"
         ],
         "xaxis": "x",
         "y": [
          1
         ],
         "yaxis": "y",
         "type": "bar"
        },
        {
         "alignmentgroup": "True",
         "hovertemplate": "reason=wip<br>file=%{x}<br>count=%{y}<extra></extra>",
         "legendgroup": "wip",
         "marker": {
          "color": "#FF97FF",
          "pattern": {
           "shape": ""
          }
         },
         "name": "wip",
         "offsetgroup": "wip",
         "orientation": "v",
         "showlegend": true,
         "textposition": "auto",
         "x": [
          "internal/pipe/brew/brew.go",
          "internal/builders/golang/build.go",
          "pipeline/build/build.go",
          "pipeline/brew/brew.go",
          "pipeline/brew/brew_test.go",
          "config/config.go",
          "internal/client/github.go",
          "pipeline/defaults/defaults.go",
          "context/context.go",
          "main.go",
          "pipeline/release/release.go"
         ],
         "xaxis": "x",
         "y": [
          1,
          1,
          5,
          5,
          1,
          4,
          1,
          3,
          2,
          3,
          1
         ],
         "yaxis": "y",
         "type": "bar"
        },
        {
         "alignmentgroup": "True",
         "hovertemplate": "reason=bump<br>file=%{x}<br>count=%{y}<extra></extra>",
         "legendgroup": "bump",
         "marker": {
          "color": "#FECB52",
          "pattern": {
           "shape": ""
          }
         },
         "name": "bump",
         "offsetgroup": "bump",
         "orientation": "v",
         "showlegend": true,
         "textposition": "auto",
         "x": [
          ".travis.yml"
         ],
         "xaxis": "x",
         "y": [
          1
         ],
         "yaxis": "y",
         "type": "bar"
        },
        {
         "alignmentgroup": "True",
         "hovertemplate": "reason=style<br>file=%{x}<br>count=%{y}<extra></extra>",
         "legendgroup": "style",
         "marker": {
          "color": "#636efa",
          "pattern": {
           "shape": ""
          }
         },
         "name": "style",
         "offsetgroup": "style",
         "orientation": "v",
         "showlegend": true,
         "textposition": "auto",
         "x": [
          "main.go",
          "pipeline/defaults/defaults.go",
          ".travis.yml",
          "internal/client/github.go",
          "config/config.go",
          "internal/builders/golang/build.go",
          "internal/builders/golang/build_test.go",
          "pipeline/build/build.go",
          "context/context.go",
          "pipeline/fpm/fpm.go"
         ],
         "xaxis": "x",
         "y": [
          2,
          2,
          1,
          1,
          4,
          2,
          1,
          2,
          1,
          1
         ],
         "yaxis": "y",
         "type": "bar"
        },
        {
         "alignmentgroup": "True",
         "hovertemplate": "reason=*<br>file=%{x}<br>count=%{y}<extra></extra>",
         "legendgroup": "*",
         "marker": {
          "color": "#EF553B",
          "pattern": {
           "shape": ""
          }
         },
         "name": "*",
         "offsetgroup": "*",
         "orientation": "v",
         "showlegend": true,
         "textposition": "auto",
         "x": [
          "pipeline/release/release.go"
         ],
         "xaxis": "x",
         "y": [
          1
         ],
         "yaxis": "y",
         "type": "bar"
        },
        {
         "alignmentgroup": "True",
         "hovertemplate": "reason=update<br>file=%{x}<br>count=%{y}<extra></extra>",
         "legendgroup": "update",
         "marker": {
          "color": "#00cc96",
          "pattern": {
           "shape": ""
          }
         },
         "name": "update",
         "offsetgroup": "update",
         "orientation": "v",
         "showlegend": true,
         "textposition": "auto",
         "x": [
          "internal/client/github.go",
          "README.md",
          "pipeline/release/release.go"
         ],
         "xaxis": "x",
         "y": [
          1,
          1,
          1
         ],
         "yaxis": "y",
         "type": "bar"
        },
        {
         "alignmentgroup": "True",
         "hovertemplate": "reason=Added<br>file=%{x}<br>count=%{y}<extra></extra>",
         "legendgroup": "Added",
         "marker": {
          "color": "#ab63fa",
          "pattern": {
           "shape": ""
          }
         },
         "name": "Added",
         "offsetgroup": "Added",
         "orientation": "v",
         "showlegend": true,
         "textposition": "auto",
         "x": [
          "README.md"
         ],
         "xaxis": "x",
         "y": [
          1
         ],
         "yaxis": "y",
         "type": "bar"
        },
        {
         "alignmentgroup": "True",
         "hovertemplate": "reason=remove<br>file=%{x}<br>count=%{y}<extra></extra>",
         "legendgroup": "remove",
         "marker": {
          "color": "#FFA15A",
          "pattern": {
           "shape": ""
          }
         },
         "name": "remove",
         "offsetgroup": "remove",
         "orientation": "v",
         "showlegend": true,
         "textposition": "auto",
         "x": [
          "pipeline/fpm/fpm.go",
          "pipeline/brew/brew.go",
          "pipeline/brew/brew_test.go"
         ],
         "xaxis": "x",
         "y": [
          1,
          1,
          1
         ],
         "yaxis": "y",
         "type": "bar"
        },
        {
         "alignmentgroup": "True",
         "hovertemplate": "reason=Remove<br>file=%{x}<br>count=%{y}<extra></extra>",
         "legendgroup": "Remove",
         "marker": {
          "color": "#19d3f3",
          "pattern": {
           "shape": ""
          }
         },
         "name": "Remove",
         "offsetgroup": "Remove",
         "orientation": "v",
         "showlegend": true,
         "textposition": "auto",
         "x": [
          "pipeline/defaults/defaults.go"
         ],
         "xaxis": "x",
         "y": [
          1
         ],
         "yaxis": "y",
         "type": "bar"
        },
        {
         "alignmentgroup": "True",
         "hovertemplate": "reason=removing<br>file=%{x}<br>count=%{y}<extra></extra>",
         "legendgroup": "removing",
         "marker": {
          "color": "#FF6692",
          "pattern": {
           "shape": ""
          }
         },
         "name": "removing",
         "offsetgroup": "removing",
         "orientation": "v",
         "showlegend": true,
         "textposition": "auto",
         "x": [
          "pipeline/brew/brew_test.go"
         ],
         "xaxis": "x",
         "y": [
          1
         ],
         "yaxis": "y",
         "type": "bar"
        },
        {
         "alignmentgroup": "True",
         "hovertemplate": "reason=unit<br>file=%{x}<br>count=%{y}<extra></extra>",
         "legendgroup": "unit",
         "marker": {
          "color": "#B6E880",
          "pattern": {
           "shape": ""
          }
         },
         "name": "unit",
         "offsetgroup": "unit",
         "orientation": "v",
         "showlegend": true,
         "textposition": "auto",
         "x": [
          "pipeline/brew/brew_test.go"
         ],
         "xaxis": "x",
         "y": [
          1
         ],
         "yaxis": "y",
         "type": "bar"
        },
        {
         "alignmentgroup": "True",
         "hovertemplate": "reason=fixed<br>file=%{x}<br>count=%{y}<extra></extra>",
         "legendgroup": "fixed",
         "marker": {
          "color": "#FF97FF",
          "pattern": {
           "shape": ""
          }
         },
         "name": "fixed",
         "offsetgroup": "fixed",
         "orientation": "v",
         "showlegend": true,
         "textposition": "auto",
         "x": [
          "pipeline/brew/brew.go",
          "pipeline/release/release.go",
          "config/config.go",
          "internal/client/github.go",
          "pipeline/fpm/fpm.go",
          "pipeline/brew/brew_test.go",
          "context/context.go",
          "README.md",
          ".travis.yml",
          "pipeline/build/build.go",
          "main.go",
          "pipeline/defaults/defaults.go"
         ],
         "xaxis": "x",
         "y": [
          8,
          4,
          2,
          1,
          4,
          6,
          2,
          3,
          1,
          4,
          3,
          1
         ],
         "yaxis": "y",
         "type": "bar"
        },
        {
         "alignmentgroup": "True",
         "hovertemplate": "reason=lint<br>file=%{x}<br>count=%{y}<extra></extra>",
         "legendgroup": "lint",
         "marker": {
          "color": "#FECB52",
          "pattern": {
           "shape": ""
          }
         },
         "name": "lint",
         "offsetgroup": "lint",
         "orientation": "v",
         "showlegend": true,
         "textposition": "auto",
         "x": [
          ".travis.yml",
          "pipeline/release/release.go"
         ],
         "xaxis": "x",
         "y": [
          1,
          1
         ],
         "yaxis": "y",
         "type": "bar"
        },
        {
         "alignmentgroup": "True",
         "hovertemplate": "reason=github<br>file=%{x}<br>count=%{y}<extra></extra>",
         "legendgroup": "github",
         "marker": {
          "color": "#636efa",
          "pattern": {
           "shape": ""
          }
         },
         "name": "github",
         "offsetgroup": "github",
         "orientation": "v",
         "showlegend": true,
         "textposition": "auto",
         "x": [
          "config/config.go",
          "internal/client/github.go",
          "pipeline/brew/brew.go",
          "pipeline/release/release.go"
         ],
         "xaxis": "x",
         "y": [
          1,
          1,
          2,
          1
         ],
         "yaxis": "y",
         "type": "bar"
        },
        {
         "alignmentgroup": "True",
         "hovertemplate": "reason=allows<br>file=%{x}<br>count=%{y}<extra></extra>",
         "legendgroup": "allows",
         "marker": {
          "color": "#EF553B",
          "pattern": {
           "shape": ""
          }
         },
         "name": "allows",
         "offsetgroup": "allows",
         "orientation": "v",
         "showlegend": true,
         "textposition": "auto",
         "x": [
          "config/config.go"
         ],
         "xaxis": "x",
         "y": [
          1
         ],
         "yaxis": "y",
         "type": "bar"
        },
        {
         "alignmentgroup": "True",
         "hovertemplate": "reason=fixing<br>file=%{x}<br>count=%{y}<extra></extra>",
         "legendgroup": "fixing",
         "marker": {
          "color": "#00cc96",
          "pattern": {
           "shape": ""
          }
         },
         "name": "fixing",
         "offsetgroup": "fixing",
         "orientation": "v",
         "showlegend": true,
         "textposition": "auto",
         "x": [
          "pipeline/brew/brew_test.go",
          "pipeline/defaults/defaults.go",
          "config/config.go",
          "pipeline/brew/brew.go",
          "pipeline/build/build.go",
          "pipeline/fpm/fpm.go"
         ],
         "xaxis": "x",
         "y": [
          1,
          3,
          1,
          2,
          1,
          2
         ],
         "yaxis": "y",
         "type": "bar"
        },
        {
         "alignmentgroup": "True",
         "hovertemplate": "reason=merge<br>file=%{x}<br>count=%{y}<extra></extra>",
         "legendgroup": "merge",
         "marker": {
          "color": "#ab63fa",
          "pattern": {
           "shape": ""
          }
         },
         "name": "merge",
         "offsetgroup": "merge",
         "orientation": "v",
         "showlegend": true,
         "textposition": "auto",
         "x": [
          "internal/client/github.go",
          "pipeline/build/build.go"
         ],
         "xaxis": "x",
         "y": [
          1,
          1
         ],
         "yaxis": "y",
         "type": "bar"
        },
        {
         "alignmentgroup": "True",
         "hovertemplate": "reason=support<br>file=%{x}<br>count=%{y}<extra></extra>",
         "legendgroup": "support",
         "marker": {
          "color": "#FFA15A",
          "pattern": {
           "shape": ""
          }
         },
         "name": "support",
         "offsetgroup": "support",
         "orientation": "v",
         "showlegend": true,
         "textposition": "auto",
         "x": [
          "config/config.go",
          "internal/client/github.go",
          "pipeline/brew/brew.go",
          "pipeline/release/release.go",
          "pipeline/build/build.go",
          "pipeline/defaults/defaults.go",
          "README.md"
         ],
         "xaxis": "x",
         "y": [
          3,
          2,
          2,
          2,
          2,
          1,
          1
         ],
         "yaxis": "y",
         "type": "bar"
        },
        {
         "alignmentgroup": "True",
         "hovertemplate": "reason=push<br>file=%{x}<br>count=%{y}<extra></extra>",
         "legendgroup": "push",
         "marker": {
          "color": "#19d3f3",
          "pattern": {
           "shape": ""
          }
         },
         "name": "push",
         "offsetgroup": "push",
         "orientation": "v",
         "showlegend": true,
         "textposition": "auto",
         "x": [
          ".goreleaser.yml"
         ],
         "xaxis": "x",
         "y": [
          1
         ],
         "yaxis": "y",
         "type": "bar"
        },
        {
         "alignmentgroup": "True",
         "hovertemplate": "reason=adding<br>file=%{x}<br>count=%{y}<extra></extra>",
         "legendgroup": "adding",
         "marker": {
          "color": "#FF6692",
          "pattern": {
           "shape": ""
          }
         },
         "name": "adding",
         "offsetgroup": "adding",
         "orientation": "v",
         "showlegend": true,
         "textposition": "auto",
         "x": [
          "context/context.go",
          "README.md",
          "config/config.go",
          "pipeline/brew/brew.go",
          "pipeline/build/build.go",
          "pipeline/defaults/defaults.go",
          "pipeline/fpm/fpm.go",
          "pipeline/release/release.go"
         ],
         "xaxis": "x",
         "y": [
          2,
          2,
          1,
          1,
          2,
          1,
          1,
          1
         ],
         "yaxis": "y",
         "type": "bar"
        },
        {
         "alignmentgroup": "True",
         "hovertemplate": "reason=rm<br>file=%{x}<br>count=%{y}<extra></extra>",
         "legendgroup": "rm",
         "marker": {
          "color": "#B6E880",
          "pattern": {
           "shape": ""
          }
         },
         "name": "rm",
         "offsetgroup": "rm",
         "orientation": "v",
         "showlegend": true,
         "textposition": "auto",
         "x": [
          "config/config.go",
          "context/context.go",
          "main.go"
         ],
         "xaxis": "x",
         "y": [
          1,
          1,
          1
         ],
         "yaxis": "y",
         "type": "bar"
        },
        {
         "alignmentgroup": "True",
         "hovertemplate": "reason=todo<br>file=%{x}<br>count=%{y}<extra></extra>",
         "legendgroup": "todo",
         "marker": {
          "color": "#FF97FF",
          "pattern": {
           "shape": ""
          }
         },
         "name": "todo",
         "offsetgroup": "todo",
         "orientation": "v",
         "showlegend": true,
         "textposition": "auto",
         "x": [
          "internal/client/github.go"
         ],
         "xaxis": "x",
         "y": [
          1
         ],
         "yaxis": "y",
         "type": "bar"
        },
        {
         "alignmentgroup": "True",
         "hovertemplate": "reason=enabled<br>file=%{x}<br>count=%{y}<extra></extra>",
         "legendgroup": "enabled",
         "marker": {
          "color": "#FECB52",
          "pattern": {
           "shape": ""
          }
         },
         "name": "enabled",
         "offsetgroup": "enabled",
         "orientation": "v",
         "showlegend": true,
         "textposition": "auto",
         "x": [
          "pipeline/defaults/defaults.go",
          "pipeline/fpm/fpm.go"
         ],
         "xaxis": "x",
         "y": [
          1,
          1
         ],
         "yaxis": "y",
         "type": "bar"
        },
        {
         "alignmentgroup": "True",
         "hovertemplate": "reason=also<br>file=%{x}<br>count=%{y}<extra></extra>",
         "legendgroup": "also",
         "marker": {
          "color": "#636efa",
          "pattern": {
           "shape": ""
          }
         },
         "name": "also",
         "offsetgroup": "also",
         "orientation": "v",
         "showlegend": true,
         "textposition": "auto",
         "x": [
          "config/config.go"
         ],
         "xaxis": "x",
         "y": [
          1
         ],
         "yaxis": "y",
         "type": "bar"
        },
        {
         "alignmentgroup": "True",
         "hovertemplate": "reason=using<br>file=%{x}<br>count=%{y}<extra></extra>",
         "legendgroup": "using",
         "marker": {
          "color": "#EF553B",
          "pattern": {
           "shape": ""
          }
         },
         "name": "using",
         "offsetgroup": "using",
         "orientation": "v",
         "showlegend": true,
         "textposition": "auto",
         "x": [
          ".travis.yml",
          "internal/client/github.go",
          "pipeline/build/build.go",
          "pipeline/fpm/fpm.go"
         ],
         "xaxis": "x",
         "y": [
          1,
          1,
          4,
          2
         ],
         "yaxis": "y",
         "type": "bar"
        },
        {
         "alignmentgroup": "True",
         "hovertemplate": "reason=enable<br>file=%{x}<br>count=%{y}<extra></extra>",
         "legendgroup": "enable",
         "marker": {
          "color": "#00cc96",
          "pattern": {
           "shape": ""
          }
         },
         "name": "enable",
         "offsetgroup": "enable",
         "orientation": "v",
         "showlegend": true,
         "textposition": "auto",
         "x": [
          ".travis.yml"
         ],
         "xaxis": "x",
         "y": [
          1
         ],
         "yaxis": "y",
         "type": "bar"
        },
        {
         "alignmentgroup": "True",
         "hovertemplate": "reason=restore<br>file=%{x}<br>count=%{y}<extra></extra>",
         "legendgroup": "restore",
         "marker": {
          "color": "#ab63fa",
          "pattern": {
           "shape": ""
          }
         },
         "name": "restore",
         "offsetgroup": "restore",
         "orientation": "v",
         "showlegend": true,
         "textposition": "auto",
         "x": [
          ".goreleaser.yml"
         ],
         "xaxis": "x",
         "y": [
          1
         ],
         "yaxis": "y",
         "type": "bar"
        },
        {
         "alignmentgroup": "True",
         "hovertemplate": "reason=improvements<br>file=%{x}<br>count=%{y}<extra></extra>",
         "legendgroup": "improvements",
         "marker": {
          "color": "#FFA15A",
          "pattern": {
           "shape": ""
          }
         },
         "name": "improvements",
         "offsetgroup": "improvements",
         "orientation": "v",
         "showlegend": true,
         "textposition": "auto",
         "x": [
          ".goreleaser.yml",
          "config/config.go",
          "pipeline/defaults/defaults.go",
          "main.go",
          "context/context.go"
         ],
         "xaxis": "x",
         "y": [
          1,
          1,
          1,
          3,
          1
         ],
         "yaxis": "y",
         "type": "bar"
        },
        {
         "alignmentgroup": "True",
         "hovertemplate": "reason=draft<br>file=%{x}<br>count=%{y}<extra></extra>",
         "legendgroup": "draft",
         "marker": {
          "color": "#19d3f3",
          "pattern": {
           "shape": ""
          }
         },
         "name": "draft",
         "offsetgroup": "draft",
         "orientation": "v",
         "showlegend": true,
         "textposition": "auto",
         "x": [
          ".goreleaser.yml",
          "Dockerfile",
          "config/config.go"
         ],
         "xaxis": "x",
         "y": [
          1,
          1,
          1
         ],
         "yaxis": "y",
         "type": "bar"
        },
        {
         "alignmentgroup": "True",
         "hovertemplate": "reason=readme<br>file=%{x}<br>count=%{y}<extra></extra>",
         "legendgroup": "readme",
         "marker": {
          "color": "#FF6692",
          "pattern": {
           "shape": ""
          }
         },
         "name": "readme",
         "offsetgroup": "readme",
         "orientation": "v",
         "showlegend": true,
         "textposition": "auto",
         "x": [
          "README.md"
         ],
         "xaxis": "x",
         "y": [
          13
         ],
         "yaxis": "y",
         "type": "bar"
        },
        {
         "alignmentgroup": "True",
         "hovertemplate": "reason=new<br>file=%{x}<br>count=%{y}<extra></extra>",
         "legendgroup": "new",
         "marker": {
          "color": "#B6E880",
          "pattern": {
           "shape": ""
          }
         },
         "name": "new",
         "offsetgroup": "new",
         "orientation": "v",
         "showlegend": true,
         "textposition": "auto",
         "x": [
          "README.md"
         ],
         "xaxis": "x",
         "y": [
          1
         ],
         "yaxis": "y",
         "type": "bar"
        },
        {
         "alignmentgroup": "True",
         "hovertemplate": "reason=checksums<br>file=%{x}<br>count=%{y}<extra></extra>",
         "legendgroup": "checksums",
         "marker": {
          "color": "#FF97FF",
          "pattern": {
           "shape": ""
          }
         },
         "name": "checksums",
         "offsetgroup": "checksums",
         "orientation": "v",
         "showlegend": true,
         "textposition": "auto",
         "x": [
          ".goreleaser.yml",
          "README.md",
          "config/config.go",
          "pipeline/defaults/defaults.go"
         ],
         "xaxis": "x",
         "y": [
          1,
          1,
          1,
          1
         ],
         "yaxis": "y",
         "type": "bar"
        },
        {
         "alignmentgroup": "True",
         "hovertemplate": "reason=improved<br>file=%{x}<br>count=%{y}<extra></extra>",
         "legendgroup": "improved",
         "marker": {
          "color": "#FECB52",
          "pattern": {
           "shape": ""
          }
         },
         "name": "improved",
         "offsetgroup": "improved",
         "orientation": "v",
         "showlegend": true,
         "textposition": "auto",
         "x": [
          "README.md",
          "context/context.go",
          "pipeline/fpm/fpm.go",
          "pipeline/brew/brew.go",
          "pipeline/brew/brew_test.go",
          "main.go",
          "pipeline/build/build.go",
          "internal/client/github.go",
          "pipeline/release/release.go",
          "config/config.go",
          "pipeline/defaults/defaults.go"
         ],
         "xaxis": "x",
         "y": [
          5,
          3,
          2,
          5,
          3,
          4,
          3,
          1,
          1,
          2,
          1
         ],
         "yaxis": "y",
         "type": "bar"
        },
        {
         "alignmentgroup": "True",
         "hovertemplate": "reason=skipped<br>file=%{x}<br>count=%{y}<extra></extra>",
         "legendgroup": "skipped",
         "marker": {
          "color": "#636efa",
          "pattern": {
           "shape": ""
          }
         },
         "name": "skipped",
         "offsetgroup": "skipped",
         "orientation": "v",
         "showlegend": true,
         "textposition": "auto",
         "x": [
          "pipeline/brew/brew.go",
          "pipeline/fpm/fpm.go",
          "pipeline/release/release.go",
          "pipeline/brew/brew_test.go"
         ],
         "xaxis": "x",
         "y": [
          1,
          1,
          1,
          1
         ],
         "yaxis": "y",
         "type": "bar"
        },
        {
         "alignmentgroup": "True",
         "hovertemplate": "reason=testing<br>file=%{x}<br>count=%{y}<extra></extra>",
         "legendgroup": "testing",
         "marker": {
          "color": "#EF553B",
          "pattern": {
           "shape": ""
          }
         },
         "name": "testing",
         "offsetgroup": "testing",
         "orientation": "v",
         "showlegend": true,
         "textposition": "auto",
         "x": [
          ".travis.yml"
         ],
         "xaxis": "x",
         "y": [
          1
         ],
         "yaxis": "y",
         "type": "bar"
        },
        {
         "alignmentgroup": "True",
         "hovertemplate": "reason=building<br>file=%{x}<br>count=%{y}<extra></extra>",
         "legendgroup": "building",
         "marker": {
          "color": "#00cc96",
          "pattern": {
           "shape": ""
          }
         },
         "name": "building",
         "offsetgroup": "building",
         "orientation": "v",
         "showlegend": true,
         "textposition": "auto",
         "x": [
          ".goreleaser.yml",
          ".travis.yml",
          "pipeline/fpm/fpm.go"
         ],
         "xaxis": "x",
         "y": [
          1,
          1,
          1
         ],
         "yaxis": "y",
         "type": "bar"
        },
        {
         "alignmentgroup": "True",
         "hovertemplate": "reason=code<br>file=%{x}<br>count=%{y}<extra></extra>",
         "legendgroup": "code",
         "marker": {
          "color": "#ab63fa",
          "pattern": {
           "shape": ""
          }
         },
         "name": "code",
         "offsetgroup": "code",
         "orientation": "v",
         "showlegend": true,
         "textposition": "auto",
         "x": [
          "pipeline/fpm/fpm.go",
          "config/config.go",
          "pipeline/release/release.go",
          "pipeline/brew/brew.go"
         ],
         "xaxis": "x",
         "y": [
          2,
          1,
          2,
          1
         ],
         "yaxis": "y",
         "type": "bar"
        },
        {
         "alignmentgroup": "True",
         "hovertemplate": "reason=allow<br>file=%{x}<br>count=%{y}<extra></extra>",
         "legendgroup": "allow",
         "marker": {
          "color": "#FFA15A",
          "pattern": {
           "shape": ""
          }
         },
         "name": "allow",
         "offsetgroup": "allow",
         "orientation": "v",
         "showlegend": true,
         "textposition": "auto",
         "x": [
          "README.md",
          "config/config.go",
          "context/context.go",
          "main.go",
          "pipeline/build/build.go",
          "pipeline/release/release.go"
         ],
         "xaxis": "x",
         "y": [
          1,
          3,
          1,
          2,
          2,
          1
         ],
         "yaxis": "y",
         "type": "bar"
        },
        {
         "alignmentgroup": "True",
         "hovertemplate": "reason=spaces<br>file=%{x}<br>count=%{y}<extra></extra>",
         "legendgroup": "spaces",
         "marker": {
          "color": "#19d3f3",
          "pattern": {
           "shape": ""
          }
         },
         "name": "spaces",
         "offsetgroup": "spaces",
         "orientation": "v",
         "showlegend": true,
         "textposition": "auto",
         "x": [
          "README.md"
         ],
         "xaxis": "x",
         "y": [
          1
         ],
         "yaxis": "y",
         "type": "bar"
        },
        {
         "alignmentgroup": "True",
         "hovertemplate": "reason=Allow<br>file=%{x}<br>count=%{y}<extra></extra>",
         "legendgroup": "Allow",
         "marker": {
          "color": "#FF6692",
          "pattern": {
           "shape": ""
          }
         },
         "name": "Allow",
         "offsetgroup": "Allow",
         "orientation": "v",
         "showlegend": true,
         "textposition": "auto",
         "x": [
          "config/config.go"
         ],
         "xaxis": "x",
         "y": [
          4
         ],
         "yaxis": "y",
         "type": "bar"
        },
        {
         "alignmentgroup": "True",
         "hovertemplate": "reason=fixes<br>file=%{x}<br>count=%{y}<extra></extra>",
         "legendgroup": "fixes",
         "marker": {
          "color": "#B6E880",
          "pattern": {
           "shape": ""
          }
         },
         "name": "fixes",
         "offsetgroup": "fixes",
         "orientation": "v",
         "showlegend": true,
         "textposition": "auto",
         "x": [
          "config/config.go",
          "pipeline/build/build.go",
          "context/context.go",
          "pipeline/fpm/fpm.go",
          "README.md",
          "pipeline/brew/brew.go",
          "pipeline/brew/brew_test.go",
          "pipeline/release/release.go",
          "main.go"
         ],
         "xaxis": "x",
         "y": [
          4,
          2,
          1,
          1,
          2,
          2,
          2,
          1,
          1
         ],
         "yaxis": "y",
         "type": "bar"
        },
        {
         "alignmentgroup": "True",
         "hovertemplate": "reason=export<br>file=%{x}<br>count=%{y}<extra></extra>",
         "legendgroup": "export",
         "marker": {
          "color": "#FF97FF",
          "pattern": {
           "shape": ""
          }
         },
         "name": "export",
         "offsetgroup": "export",
         "orientation": "v",
         "showlegend": true,
         "textposition": "auto",
         "x": [
          ".travis.yml"
         ],
         "xaxis": "x",
         "y": [
          1
         ],
         "yaxis": "y",
         "type": "bar"
        },
        {
         "alignmentgroup": "True",
         "hovertemplate": "reason=install<br>file=%{x}<br>count=%{y}<extra></extra>",
         "legendgroup": "install",
         "marker": {
          "color": "#FECB52",
          "pattern": {
           "shape": ""
          }
         },
         "name": "install",
         "offsetgroup": "install",
         "orientation": "v",
         "showlegend": true,
         "textposition": "auto",
         "x": [
          ".travis.yml"
         ],
         "xaxis": "x",
         "y": [
          1
         ],
         "yaxis": "y",
         "type": "bar"
        },
        {
         "alignmentgroup": "True",
         "hovertemplate": "reason=cleanup<br>file=%{x}<br>count=%{y}<extra></extra>",
         "legendgroup": "cleanup",
         "marker": {
          "color": "#636efa",
          "pattern": {
           "shape": ""
          }
         },
         "name": "cleanup",
         "offsetgroup": "cleanup",
         "orientation": "v",
         "showlegend": true,
         "textposition": "auto",
         "x": [
          "pipeline/brew/brew.go",
          "pipeline/brew/brew_test.go",
          "config/config.go",
          "main.go",
          "pipeline/defaults/defaults.go",
          "pipeline/build/build.go"
         ],
         "xaxis": "x",
         "y": [
          1,
          2,
          1,
          1,
          1,
          1
         ],
         "yaxis": "y",
         "type": "bar"
        },
        {
         "alignmentgroup": "True",
         "hovertemplate": "reason=git<br>file=%{x}<br>count=%{y}<extra></extra>",
         "legendgroup": "git",
         "marker": {
          "color": "#EF553B",
          "pattern": {
           "shape": ""
          }
         },
         "name": "git",
         "offsetgroup": "git",
         "orientation": "v",
         "showlegend": true,
         "textposition": "auto",
         "x": [
          ".goreleaser.yml",
          ".travis.yml",
          "main.go"
         ],
         "xaxis": "x",
         "y": [
          1,
          1,
          1
         ],
         "yaxis": "y",
         "type": "bar"
        },
        {
         "alignmentgroup": "True",
         "hovertemplate": "reason=template<br>file=%{x}<br>count=%{y}<extra></extra>",
         "legendgroup": "template",
         "marker": {
          "color": "#00cc96",
          "pattern": {
           "shape": ""
          }
         },
         "name": "template",
         "offsetgroup": "template",
         "orientation": "v",
         "showlegend": true,
         "textposition": "auto",
         "x": [
          "pipeline/brew/brew.go",
          "pipeline/brew/brew_test.go"
         ],
         "xaxis": "x",
         "y": [
          2,
          1
         ],
         "yaxis": "y",
         "type": "bar"
        },
        {
         "alignmentgroup": "True",
         "hovertemplate": "reason=homebrew<br>file=%{x}<br>count=%{y}<extra></extra>",
         "legendgroup": "homebrew",
         "marker": {
          "color": "#ab63fa",
          "pattern": {
           "shape": ""
          }
         },
         "name": "homebrew",
         "offsetgroup": "homebrew",
         "orientation": "v",
         "showlegend": true,
         "textposition": "auto",
         "x": [
          ".goreleaser.yml",
          "README.md",
          "config/config.go",
          "pipeline/brew/brew.go",
          "pipeline/brew/brew_test.go",
          "pipeline/defaults/defaults.go"
         ],
         "xaxis": "x",
         "y": [
          1,
          2,
          2,
          4,
          3,
          1
         ],
         "yaxis": "y",
         "type": "bar"
        },
        {
         "alignmentgroup": "True",
         "hovertemplate": "reason=Fixes<br>file=%{x}<br>count=%{y}<extra></extra>",
         "legendgroup": "Fixes",
         "marker": {
          "color": "#FFA15A",
          "pattern": {
           "shape": ""
          }
         },
         "name": "Fixes",
         "offsetgroup": "Fixes",
         "orientation": "v",
         "showlegend": true,
         "textposition": "auto",
         "x": [
          "main.go"
         ],
         "xaxis": "x",
         "y": [
          1
         ],
         "yaxis": "y",
         "type": "bar"
        },
        {
         "alignmentgroup": "True",
         "hovertemplate": "reason=coverage<br>file=%{x}<br>count=%{y}<extra></extra>",
         "legendgroup": "coverage",
         "marker": {
          "color": "#19d3f3",
          "pattern": {
           "shape": ""
          }
         },
         "name": "coverage",
         "offsetgroup": "coverage",
         "orientation": "v",
         "showlegend": true,
         "textposition": "auto",
         "x": [
          "context/context.go",
          "pipeline/brew/brew_test.go"
         ],
         "xaxis": "x",
         "y": [
          1,
          1
         ],
         "yaxis": "y",
         "type": "bar"
        },
        {
         "alignmentgroup": "True",
         "hovertemplate": "reason=renamed<br>file=%{x}<br>count=%{y}<extra></extra>",
         "legendgroup": "renamed",
         "marker": {
          "color": "#FF6692",
          "pattern": {
           "shape": ""
          }
         },
         "name": "renamed",
         "offsetgroup": "renamed",
         "orientation": "v",
         "showlegend": true,
         "textposition": "auto",
         "x": [
          "context/context.go",
          "pipeline/brew/brew.go",
          "pipeline/fpm/fpm.go",
          "config/config.go",
          "pipeline/build/build.go",
          "pipeline/defaults/defaults.go",
          "pipeline/release/release.go",
          "README.md",
          "pipeline/brew/brew_test.go",
          "main.go"
         ],
         "xaxis": "x",
         "y": [
          4,
          5,
          3,
          2,
          4,
          4,
          3,
          3,
          1,
          2
         ],
         "yaxis": "y",
         "type": "bar"
        },
        {
         "alignmentgroup": "True",
         "hovertemplate": "reason=multiple<br>file=%{x}<br>count=%{y}<extra></extra>",
         "legendgroup": "multiple",
         "marker": {
          "color": "#B6E880",
          "pattern": {
           "shape": ""
          }
         },
         "name": "multiple",
         "offsetgroup": "multiple",
         "orientation": "v",
         "showlegend": true,
         "textposition": "auto",
         "x": [
          "context/context.go",
          "pipeline/brew/brew.go",
          "pipeline/build/build.go",
          "pipeline/fpm/fpm.go"
         ],
         "xaxis": "x",
         "y": [
          1,
          1,
          1,
          1
         ],
         "yaxis": "y",
         "type": "bar"
        },
        {
         "alignmentgroup": "True",
         "hovertemplate": "reason=moving<br>file=%{x}<br>count=%{y}<extra></extra>",
         "legendgroup": "moving",
         "marker": {
          "color": "#FF97FF",
          "pattern": {
           "shape": ""
          }
         },
         "name": "moving",
         "offsetgroup": "moving",
         "orientation": "v",
         "showlegend": true,
         "textposition": "auto",
         "x": [
          "pipeline/build/build.go",
          "internal/client/github.go",
          "pipeline/brew/brew.go",
          "pipeline/release/release.go",
          ".travis.yml"
         ],
         "xaxis": "x",
         "y": [
          1,
          1,
          1,
          1,
          1
         ],
         "yaxis": "y",
         "type": "bar"
        },
        {
         "alignmentgroup": "True",
         "hovertemplate": "reason=format<br>file=%{x}<br>count=%{y}<extra></extra>",
         "legendgroup": "format",
         "marker": {
          "color": "#FECB52",
          "pattern": {
           "shape": ""
          }
         },
         "name": "format",
         "offsetgroup": "format",
         "orientation": "v",
         "showlegend": true,
         "textposition": "auto",
         "x": [
          "config/config.go"
         ],
         "xaxis": "x",
         "y": [
          1
         ],
         "yaxis": "y",
         "type": "bar"
        },
        {
         "alignmentgroup": "True",
         "hovertemplate": "reason=breaking<br>file=%{x}<br>count=%{y}<extra></extra>",
         "legendgroup": "breaking",
         "marker": {
          "color": "#636efa",
          "pattern": {
           "shape": ""
          }
         },
         "name": "breaking",
         "offsetgroup": "breaking",
         "orientation": "v",
         "showlegend": true,
         "textposition": "auto",
         "x": [
          ".goreleaser.yml",
          "config/config.go",
          "README.md"
         ],
         "xaxis": "x",
         "y": [
          1,
          1,
          1
         ],
         "yaxis": "y",
         "type": "bar"
        },
        {
         "alignmentgroup": "True",
         "hovertemplate": "reason=Update<br>file=%{x}<br>count=%{y}<extra></extra>",
         "legendgroup": "Update",
         "marker": {
          "color": "#EF553B",
          "pattern": {
           "shape": ""
          }
         },
         "name": "Update",
         "offsetgroup": "Update",
         "orientation": "v",
         "showlegend": true,
         "textposition": "auto",
         "x": [
          "README.md",
          ".travis.yml"
         ],
         "xaxis": "x",
         "y": [
          24,
          1
         ],
         "yaxis": "y",
         "type": "bar"
        },
        {
         "alignmentgroup": "True",
         "hovertemplate": "reason=gometalinter<br>file=%{x}<br>count=%{y}<extra></extra>",
         "legendgroup": "gometalinter",
         "marker": {
          "color": "#00cc96",
          "pattern": {
           "shape": ""
          }
         },
         "name": "gometalinter",
         "offsetgroup": "gometalinter",
         "orientation": "v",
         "showlegend": true,
         "textposition": "auto",
         "x": [
          "pipeline/brew/brew_test.go",
          "pipeline/build/build.go",
          ".travis.yml",
          "config/config.go"
         ],
         "xaxis": "x",
         "y": [
          1,
          1,
          1,
          1
         ],
         "yaxis": "y",
         "type": "bar"
        },
        {
         "alignmentgroup": "True",
         "hovertemplate": "reason=refactoring<br>file=%{x}<br>count=%{y}<extra></extra>",
         "legendgroup": "refactoring",
         "marker": {
          "color": "#ab63fa",
          "pattern": {
           "shape": ""
          }
         },
         "name": "refactoring",
         "offsetgroup": "refactoring",
         "orientation": "v",
         "showlegend": true,
         "textposition": "auto",
         "x": [
          "pipeline/build/build.go"
         ],
         "xaxis": "x",
         "y": [
          1
         ],
         "yaxis": "y",
         "type": "bar"
        },
        {
         "alignmentgroup": "True",
         "hovertemplate": "reason=defaulting<br>file=%{x}<br>count=%{y}<extra></extra>",
         "legendgroup": "defaulting",
         "marker": {
          "color": "#FFA15A",
          "pattern": {
           "shape": ""
          }
         },
         "name": "defaulting",
         "offsetgroup": "defaulting",
         "orientation": "v",
         "showlegend": true,
         "textposition": "auto",
         "x": [
          ".goreleaser.yml",
          "config/config.go",
          "main.go"
         ],
         "xaxis": "x",
         "y": [
          1,
          1,
          1
         ],
         "yaxis": "y",
         "type": "bar"
        },
        {
         "alignmentgroup": "True",
         "hovertemplate": "reason=throttling<br>file=%{x}<br>count=%{y}<extra></extra>",
         "legendgroup": "throttling",
         "marker": {
          "color": "#19d3f3",
          "pattern": {
           "shape": ""
          }
         },
         "name": "throttling",
         "offsetgroup": "throttling",
         "orientation": "v",
         "showlegend": true,
         "textposition": "auto",
         "x": [
          "pipeline/release/release.go"
         ],
         "xaxis": "x",
         "y": [
          1
         ],
         "yaxis": "y",
         "type": "bar"
        },
        {
         "alignmentgroup": "True",
         "hovertemplate": "reason=archive<br>file=%{x}<br>count=%{y}<extra></extra>",
         "legendgroup": "archive",
         "marker": {
          "color": "#FF6692",
          "pattern": {
           "shape": ""
          }
         },
         "name": "archive",
         "offsetgroup": "archive",
         "orientation": "v",
         "showlegend": true,
         "textposition": "auto",
         "x": [
          "pipeline/brew/brew.go",
          "pipeline/brew/brew_test.go",
          "context/context.go",
          "pipeline/build/build.go"
         ],
         "xaxis": "x",
         "y": [
          1,
          1,
          1,
          1
         ],
         "yaxis": "y",
         "type": "bar"
        },
        {
         "alignmentgroup": "True",
         "hovertemplate": "reason=project<br>file=%{x}<br>count=%{y}<extra></extra>",
         "legendgroup": "project",
         "marker": {
          "color": "#B6E880",
          "pattern": {
           "shape": ""
          }
         },
         "name": "project",
         "offsetgroup": "project",
         "orientation": "v",
         "showlegend": true,
         "textposition": "auto",
         "x": [
          "README.md",
          "config/config.go",
          "internal/client/github.go",
          "pipeline/brew/brew.go",
          "pipeline/defaults/defaults.go",
          "pipeline/fpm/fpm.go"
         ],
         "xaxis": "x",
         "y": [
          1,
          1,
          1,
          1,
          1,
          1
         ],
         "yaxis": "y",
         "type": "bar"
        },
        {
         "alignmentgroup": "True",
         "hovertemplate": "reason=cleaning<br>file=%{x}<br>count=%{y}<extra></extra>",
         "legendgroup": "cleaning",
         "marker": {
          "color": "#FF97FF",
          "pattern": {
           "shape": ""
          }
         },
         "name": "cleaning",
         "offsetgroup": "cleaning",
         "orientation": "v",
         "showlegend": true,
         "textposition": "auto",
         "x": [
          "pipeline/defaults/defaults.go",
          "context/context.go",
          "pipeline/build/build.go"
         ],
         "xaxis": "x",
         "y": [
          1,
          1,
          1
         ],
         "yaxis": "y",
         "type": "bar"
        },
        {
         "alignmentgroup": "True",
         "hovertemplate": "reason=added<br>file=%{x}<br>count=%{y}<extra></extra>",
         "legendgroup": "added",
         "marker": {
          "color": "#FECB52",
          "pattern": {
           "shape": ""
          }
         },
         "name": "added",
         "offsetgroup": "added",
         "orientation": "v",
         "showlegend": true,
         "textposition": "auto",
         "x": [
          "config/config.go",
          "pipeline/defaults/defaults.go",
          "README.md",
          "pipeline/build/build.go",
          "pipeline/brew/brew_test.go",
          "context/context.go",
          "main.go",
          "pipeline/release/release.go",
          ".travis.yml",
          "pipeline/fpm/fpm.go",
          "pipeline/brew/brew.go"
         ],
         "xaxis": "x",
         "y": [
          9,
          4,
          8,
          3,
          2,
          2,
          4,
          3,
          2,
          2,
          3
         ],
         "yaxis": "y",
         "type": "bar"
        },
        {
         "alignmentgroup": "True",
         "hovertemplate": "reason=defaults<br>file=%{x}<br>count=%{y}<extra></extra>",
         "legendgroup": "defaults",
         "marker": {
          "color": "#636efa",
          "pattern": {
           "shape": ""
          }
         },
         "name": "defaults",
         "offsetgroup": "defaults",
         "orientation": "v",
         "showlegend": true,
         "textposition": "auto",
         "x": [
          "pipeline/defaults/defaults.go"
         ],
         "xaxis": "x",
         "y": [
          2
         ],
         "yaxis": "y",
         "type": "bar"
        },
        {
         "alignmentgroup": "True",
         "hovertemplate": "reason=brew<br>file=%{x}<br>count=%{y}<extra></extra>",
         "legendgroup": "brew",
         "marker": {
          "color": "#EF553B",
          "pattern": {
           "shape": ""
          }
         },
         "name": "brew",
         "offsetgroup": "brew",
         "orientation": "v",
         "showlegend": true,
         "textposition": "auto",
         "x": [
          "pipeline/brew/brew.go",
          "pipeline/brew/brew_test.go",
          "main.go"
         ],
         "xaxis": "x",
         "y": [
          2,
          2,
          1
         ],
         "yaxis": "y",
         "type": "bar"
        },
        {
         "alignmentgroup": "True",
         "hovertemplate": "reason=fpm<br>file=%{x}<br>count=%{y}<extra></extra>",
         "legendgroup": "fpm",
         "marker": {
          "color": "#00cc96",
          "pattern": {
           "shape": ""
          }
         },
         "name": "fpm",
         "offsetgroup": "fpm",
         "orientation": "v",
         "showlegend": true,
         "textposition": "auto",
         "x": [
          "pipeline/fpm/fpm.go"
         ],
         "xaxis": "x",
         "y": [
          1
         ],
         "yaxis": "y",
         "type": "bar"
        },
        {
         "alignmentgroup": "True",
         "hovertemplate": "reason=logs<br>file=%{x}<br>count=%{y}<extra></extra>",
         "legendgroup": "logs",
         "marker": {
          "color": "#ab63fa",
          "pattern": {
           "shape": ""
          }
         },
         "name": "logs",
         "offsetgroup": "logs",
         "orientation": "v",
         "showlegend": true,
         "textposition": "auto",
         "x": [
          "pipeline/brew/brew.go",
          "pipeline/build/build.go",
          "pipeline/fpm/fpm.go"
         ],
         "xaxis": "x",
         "y": [
          1,
          1,
          1
         ],
         "yaxis": "y",
         "type": "bar"
        },
        {
         "alignmentgroup": "True",
         "hovertemplate": "reason=debug,<br>file=%{x}<br>count=%{y}<extra></extra>",
         "legendgroup": "debug,",
         "marker": {
          "color": "#FFA15A",
          "pattern": {
           "shape": ""
          }
         },
         "name": "debug,",
         "offsetgroup": "debug,",
         "orientation": "v",
         "showlegend": true,
         "textposition": "auto",
         "x": [
          "main.go",
          "pipeline/brew/brew.go",
          "pipeline/build/build.go",
          "pipeline/release/release.go"
         ],
         "xaxis": "x",
         "y": [
          2,
          2,
          2,
          2
         ],
         "yaxis": "y",
         "type": "bar"
        },
        {
         "alignmentgroup": "True",
         "hovertemplate": "reason=apex<br>file=%{x}<br>count=%{y}<extra></extra>",
         "legendgroup": "apex",
         "marker": {
          "color": "#19d3f3",
          "pattern": {
           "shape": ""
          }
         },
         "name": "apex",
         "offsetgroup": "apex",
         "orientation": "v",
         "showlegend": true,
         "textposition": "auto",
         "x": [
          "context/context.go",
          "internal/client/github.go",
          "main.go",
          "pipeline/brew/brew.go",
          "pipeline/build/build.go",
          "pipeline/fpm/fpm.go",
          "pipeline/release/release.go"
         ],
         "xaxis": "x",
         "y": [
          2,
          2,
          2,
          2,
          2,
          2,
          2
         ],
         "yaxis": "y",
         "type": "bar"
        },
        {
         "alignmentgroup": "True",
         "hovertemplate": "reason=removed<br>file=%{x}<br>count=%{y}<extra></extra>",
         "legendgroup": "removed",
         "marker": {
          "color": "#FF6692",
          "pattern": {
           "shape": ""
          }
         },
         "name": "removed",
         "offsetgroup": "removed",
         "orientation": "v",
         "showlegend": true,
         "textposition": "auto",
         "x": [
          "README.md",
          "config/config.go",
          "pipeline/brew/brew.go",
          "pipeline/defaults/defaults.go",
          ".travis.yml",
          "pipeline/release/release.go",
          "pipeline/build/build.go",
          "main.go",
          "context/context.go"
         ],
         "xaxis": "x",
         "y": [
          1,
          1,
          2,
          1,
          2,
          3,
          1,
          1,
          1
         ],
         "yaxis": "y",
         "type": "bar"
        },
        {
         "alignmentgroup": "True",
         "hovertemplate": "reason=Improve<br>file=%{x}<br>count=%{y}<extra></extra>",
         "legendgroup": "Improve",
         "marker": {
          "color": "#B6E880",
          "pattern": {
           "shape": ""
          }
         },
         "name": "Improve",
         "offsetgroup": "Improve",
         "orientation": "v",
         "showlegend": true,
         "textposition": "auto",
         "x": [
          "pipeline/brew/brew_test.go"
         ],
         "xaxis": "x",
         "y": [
          1
         ],
         "yaxis": "y",
         "type": "bar"
        },
        {
         "alignmentgroup": "True",
         "hovertemplate": "reason=typo,<br>file=%{x}<br>count=%{y}<extra></extra>",
         "legendgroup": "typo,",
         "marker": {
          "color": "#FF97FF",
          "pattern": {
           "shape": ""
          }
         },
         "name": "typo,",
         "offsetgroup": "typo,",
         "orientation": "v",
         "showlegend": true,
         "textposition": "auto",
         "x": [
          "README.md"
         ],
         "xaxis": "x",
         "y": [
          1
         ],
         "yaxis": "y",
         "type": "bar"
        },
        {
         "alignmentgroup": "True",
         "hovertemplate": "reason=Clearify<br>file=%{x}<br>count=%{y}<extra></extra>",
         "legendgroup": "Clearify",
         "marker": {
          "color": "#FECB52",
          "pattern": {
           "shape": ""
          }
         },
         "name": "Clearify",
         "offsetgroup": "Clearify",
         "orientation": "v",
         "showlegend": true,
         "textposition": "auto",
         "x": [
          "pipeline/build/build.go"
         ],
         "xaxis": "x",
         "y": [
          1
         ],
         "yaxis": "y",
         "type": "bar"
        },
        {
         "alignmentgroup": "True",
         "hovertemplate": "reason=Mention<br>file=%{x}<br>count=%{y}<extra></extra>",
         "legendgroup": "Mention",
         "marker": {
          "color": "#636efa",
          "pattern": {
           "shape": ""
          }
         },
         "name": "Mention",
         "offsetgroup": "Mention",
         "orientation": "v",
         "showlegend": true,
         "textposition": "auto",
         "x": [
          "README.md"
         ],
         "xaxis": "x",
         "y": [
          3
         ],
         "yaxis": "y",
         "type": "bar"
        },
        {
         "alignmentgroup": "True",
         "hovertemplate": "reason=deleting<br>file=%{x}<br>count=%{y}<extra></extra>",
         "legendgroup": "deleting",
         "marker": {
          "color": "#EF553B",
          "pattern": {
           "shape": ""
          }
         },
         "name": "deleting",
         "offsetgroup": "deleting",
         "orientation": "v",
         "showlegend": true,
         "textposition": "auto",
         "x": [
          "pipeline/defaults/defaults.go"
         ],
         "xaxis": "x",
         "y": [
          1
         ],
         "yaxis": "y",
         "type": "bar"
        },
        {
         "alignmentgroup": "True",
         "hovertemplate": "reason=imports<br>file=%{x}<br>count=%{y}<extra></extra>",
         "legendgroup": "imports",
         "marker": {
          "color": "#00cc96",
          "pattern": {
           "shape": ""
          }
         },
         "name": "imports",
         "offsetgroup": "imports",
         "orientation": "v",
         "showlegend": true,
         "textposition": "auto",
         "x": [
          "config/config.go",
          "pipeline/build/build.go",
          "pipeline/release/release.go"
         ],
         "xaxis": "x",
         "y": [
          1,
          1,
          1
         ],
         "yaxis": "y",
         "type": "bar"
        },
        {
         "alignmentgroup": "True",
         "hovertemplate": "reason=reorder<br>file=%{x}<br>count=%{y}<extra></extra>",
         "legendgroup": "reorder",
         "marker": {
          "color": "#ab63fa",
          "pattern": {
           "shape": ""
          }
         },
         "name": "reorder",
         "offsetgroup": "reorder",
         "orientation": "v",
         "showlegend": true,
         "textposition": "auto",
         "x": [
          "pipeline/build/build.go"
         ],
         "xaxis": "x",
         "y": [
          1
         ],
         "yaxis": "y",
         "type": "bar"
        },
        {
         "alignmentgroup": "True",
         "hovertemplate": "reason=custom<br>file=%{x}<br>count=%{y}<extra></extra>",
         "legendgroup": "custom",
         "marker": {
          "color": "#FFA15A",
          "pattern": {
           "shape": ""
          }
         },
         "name": "custom",
         "offsetgroup": "custom",
         "orientation": "v",
         "showlegend": true,
         "textposition": "auto",
         "x": [
          "README.md",
          "config/config.go",
          "pipeline/build/build.go"
         ],
         "xaxis": "x",
         "y": [
          1,
          1,
          1
         ],
         "yaxis": "y",
         "type": "bar"
        },
        {
         "alignmentgroup": "True",
         "hovertemplate": "reason=gofmt,<br>file=%{x}<br>count=%{y}<extra></extra>",
         "legendgroup": "gofmt,",
         "marker": {
          "color": "#19d3f3",
          "pattern": {
           "shape": ""
          }
         },
         "name": "gofmt,",
         "offsetgroup": "gofmt,",
         "orientation": "v",
         "showlegend": true,
         "textposition": "auto",
         "x": [
          "config/config.go"
         ],
         "xaxis": "x",
         "y": [
          1
         ],
         "yaxis": "y",
         "type": "bar"
        },
        {
         "alignmentgroup": "True",
         "hovertemplate": "reason=detailed<br>file=%{x}<br>count=%{y}<extra></extra>",
         "legendgroup": "detailed",
         "marker": {
          "color": "#FF6692",
          "pattern": {
           "shape": ""
          }
         },
         "name": "detailed",
         "offsetgroup": "detailed",
         "orientation": "v",
         "showlegend": true,
         "textposition": "auto",
         "x": [
          "pipeline/build/build.go"
         ],
         "xaxis": "x",
         "y": [
          1
         ],
         "yaxis": "y",
         "type": "bar"
        },
        {
         "alignmentgroup": "True",
         "hovertemplate": "reason=updated<br>file=%{x}<br>count=%{y}<extra></extra>",
         "legendgroup": "updated",
         "marker": {
          "color": "#B6E880",
          "pattern": {
           "shape": ""
          }
         },
         "name": "updated",
         "offsetgroup": "updated",
         "orientation": "v",
         "showlegend": true,
         "textposition": "auto",
         "x": [
          "README.md"
         ],
         "xaxis": "x",
         "y": [
          1
         ],
         "yaxis": "y",
         "type": "bar"
        },
        {
         "alignmentgroup": "True",
         "hovertemplate": "reason=gofmt<br>file=%{x}<br>count=%{y}<extra></extra>",
         "legendgroup": "gofmt",
         "marker": {
          "color": "#FF97FF",
          "pattern": {
           "shape": ""
          }
         },
         "name": "gofmt",
         "offsetgroup": "gofmt",
         "orientation": "v",
         "showlegend": true,
         "textposition": "auto",
         "x": [
          "config/config.go",
          "pipeline/brew/brew.go",
          "pipeline/brew/brew_test.go",
          ".travis.yml",
          "main.go",
          "pipeline/release/release.go"
         ],
         "xaxis": "x",
         "y": [
          1,
          1,
          1,
          1,
          1,
          1
         ],
         "yaxis": "y",
         "type": "bar"
        },
        {
         "alignmentgroup": "True",
         "hovertemplate": "reason=simplify<br>file=%{x}<br>count=%{y}<extra></extra>",
         "legendgroup": "simplify",
         "marker": {
          "color": "#FECB52",
          "pattern": {
           "shape": ""
          }
         },
         "name": "simplify",
         "offsetgroup": "simplify",
         "orientation": "v",
         "showlegend": true,
         "textposition": "auto",
         "x": [
          "README.md",
          "pipeline/brew/brew.go",
          "pipeline/brew/brew_test.go"
         ],
         "xaxis": "x",
         "y": [
          1,
          1,
          1
         ],
         "yaxis": "y",
         "type": "bar"
        },
        {
         "alignmentgroup": "True",
         "hovertemplate": "reason=improving<br>file=%{x}<br>count=%{y}<extra></extra>",
         "legendgroup": "improving",
         "marker": {
          "color": "#636efa",
          "pattern": {
           "shape": ""
          }
         },
         "name": "improving",
         "offsetgroup": "improving",
         "orientation": "v",
         "showlegend": true,
         "textposition": "auto",
         "x": [
          "README.md",
          "pipeline/build/build.go"
         ],
         "xaxis": "x",
         "y": [
          2,
          1
         ],
         "yaxis": "y",
         "type": "bar"
        },
        {
         "alignmentgroup": "True",
         "hovertemplate": "reason=go<br>file=%{x}<br>count=%{y}<extra></extra>",
         "legendgroup": "go",
         "marker": {
          "color": "#EF553B",
          "pattern": {
           "shape": ""
          }
         },
         "name": "go",
         "offsetgroup": "go",
         "orientation": "v",
         "showlegend": true,
         "textposition": "auto",
         "x": [
          ".travis.yml",
          "README.md",
          "config/config.go"
         ],
         "xaxis": "x",
         "y": [
          2,
          2,
          1
         ],
         "yaxis": "y",
         "type": "bar"
        },
        {
         "alignmentgroup": "True",
         "hovertemplate": "reason=cleaner<br>file=%{x}<br>count=%{y}<extra></extra>",
         "legendgroup": "cleaner",
         "marker": {
          "color": "#00cc96",
          "pattern": {
           "shape": ""
          }
         },
         "name": "cleaner",
         "offsetgroup": "cleaner",
         "orientation": "v",
         "showlegend": true,
         "textposition": "auto",
         "x": [
          "config/config.go",
          "pipeline/build/build.go"
         ],
         "xaxis": "x",
         "y": [
          1,
          1
         ],
         "yaxis": "y",
         "type": "bar"
        },
        {
         "alignmentgroup": "True",
         "hovertemplate": "reason=Incorporate<br>file=%{x}<br>count=%{y}<extra></extra>",
         "legendgroup": "Incorporate",
         "marker": {
          "color": "#ab63fa",
          "pattern": {
           "shape": ""
          }
         },
         "name": "Incorporate",
         "offsetgroup": "Incorporate",
         "orientation": "v",
         "showlegend": true,
         "textposition": "auto",
         "x": [
          "main.go"
         ],
         "xaxis": "x",
         "y": [
          1
         ],
         "yaxis": "y",
         "type": "bar"
        },
        {
         "alignmentgroup": "True",
         "hovertemplate": "reason=Run<br>file=%{x}<br>count=%{y}<extra></extra>",
         "legendgroup": "Run",
         "marker": {
          "color": "#FFA15A",
          "pattern": {
           "shape": ""
          }
         },
         "name": "Run",
         "offsetgroup": "Run",
         "orientation": "v",
         "showlegend": true,
         "textposition": "auto",
         "x": [
          "config/config.go",
          "main.go"
         ],
         "xaxis": "x",
         "y": [
          1,
          1
         ],
         "yaxis": "y",
         "type": "bar"
        },
        {
         "alignmentgroup": "True",
         "hovertemplate": "reason=Draft<br>file=%{x}<br>count=%{y}<extra></extra>",
         "legendgroup": "Draft",
         "marker": {
          "color": "#19d3f3",
          "pattern": {
           "shape": ""
          }
         },
         "name": "Draft",
         "offsetgroup": "Draft",
         "orientation": "v",
         "showlegend": true,
         "textposition": "auto",
         "x": [
          "config/config.go",
          "main.go"
         ],
         "xaxis": "x",
         "y": [
          1,
          1
         ],
         "yaxis": "y",
         "type": "bar"
        },
        {
         "alignmentgroup": "True",
         "hovertemplate": "reason=broken<br>file=%{x}<br>count=%{y}<extra></extra>",
         "legendgroup": "broken",
         "marker": {
          "color": "#FF6692",
          "pattern": {
           "shape": ""
          }
         },
         "name": "broken",
         "offsetgroup": "broken",
         "orientation": "v",
         "showlegend": true,
         "textposition": "auto",
         "x": [
          "README.md"
         ],
         "xaxis": "x",
         "y": [
          1
         ],
         "yaxis": "y",
         "type": "bar"
        },
        {
         "alignmentgroup": "True",
         "hovertemplate": "reason=h3<br>file=%{x}<br>count=%{y}<extra></extra>",
         "legendgroup": "h3",
         "marker": {
          "color": "#B6E880",
          "pattern": {
           "shape": ""
          }
         },
         "name": "h3",
         "offsetgroup": "h3",
         "orientation": "v",
         "showlegend": true,
         "textposition": "auto",
         "x": [
          "README.md"
         ],
         "xaxis": "x",
         "y": [
          1
         ],
         "yaxis": "y",
         "type": "bar"
        },
        {
         "alignmentgroup": "True",
         "hovertemplate": "reason=a<br>file=%{x}<br>count=%{y}<extra></extra>",
         "legendgroup": "a",
         "marker": {
          "color": "#FF97FF",
          "pattern": {
           "shape": ""
          }
         },
         "name": "a",
         "offsetgroup": "a",
         "orientation": "v",
         "showlegend": true,
         "textposition": "auto",
         "x": [
          "README.md"
         ],
         "xaxis": "x",
         "y": [
          1
         ],
         "yaxis": "y",
         "type": "bar"
        },
        {
         "alignmentgroup": "True",
         "hovertemplate": "reason=make<br>file=%{x}<br>count=%{y}<extra></extra>",
         "legendgroup": "make",
         "marker": {
          "color": "#FECB52",
          "pattern": {
           "shape": ""
          }
         },
         "name": "make",
         "offsetgroup": "make",
         "orientation": "v",
         "showlegend": true,
         "textposition": "auto",
         "x": [
          ".travis.yml",
          "main.go",
          "README.md",
          "config/config.go",
          "pipeline/brew/brew.go",
          "pipeline/brew/brew_test.go",
          "pipeline/fpm/fpm.go"
         ],
         "xaxis": "x",
         "y": [
          1,
          1,
          1,
          1,
          1,
          1,
          1
         ],
         "yaxis": "y",
         "type": "bar"
        },
        {
         "alignmentgroup": "True",
         "hovertemplate": "reason=badge<br>file=%{x}<br>count=%{y}<extra></extra>",
         "legendgroup": "badge",
         "marker": {
          "color": "#636efa",
          "pattern": {
           "shape": ""
          }
         },
         "name": "badge",
         "offsetgroup": "badge",
         "orientation": "v",
         "showlegend": true,
         "textposition": "auto",
         "x": [
          "README.md"
         ],
         "xaxis": "x",
         "y": [
          1
         ],
         "yaxis": "y",
         "type": "bar"
        },
        {
         "alignmentgroup": "True",
         "hovertemplate": "reason=switching<br>file=%{x}<br>count=%{y}<extra></extra>",
         "legendgroup": "switching",
         "marker": {
          "color": "#EF553B",
          "pattern": {
           "shape": ""
          }
         },
         "name": "switching",
         "offsetgroup": "switching",
         "orientation": "v",
         "showlegend": true,
         "textposition": "auto",
         "x": [
          ".travis.yml"
         ],
         "xaxis": "x",
         "y": [
          1
         ],
         "yaxis": "y",
         "type": "bar"
        },
        {
         "alignmentgroup": "True",
         "hovertemplate": "reason=allowing<br>file=%{x}<br>count=%{y}<extra></extra>",
         "legendgroup": "allowing",
         "marker": {
          "color": "#00cc96",
          "pattern": {
           "shape": ""
          }
         },
         "name": "allowing",
         "offsetgroup": "allowing",
         "orientation": "v",
         "showlegend": true,
         "textposition": "auto",
         "x": [
          "README.md",
          "config/config.go",
          "pipeline/brew/brew.go",
          "pipeline/brew/brew_test.go"
         ],
         "xaxis": "x",
         "y": [
          1,
          1,
          1,
          1
         ],
         "yaxis": "y",
         "type": "bar"
        },
        {
         "alignmentgroup": "True",
         "hovertemplate": "reason=avoid<br>file=%{x}<br>count=%{y}<extra></extra>",
         "legendgroup": "avoid",
         "marker": {
          "color": "#ab63fa",
          "pattern": {
           "shape": ""
          }
         },
         "name": "avoid",
         "offsetgroup": "avoid",
         "orientation": "v",
         "showlegend": true,
         "textposition": "auto",
         "x": [
          ".travis.yml"
         ],
         "xaxis": "x",
         "y": [
          1
         ],
         "yaxis": "y",
         "type": "bar"
        },
        {
         "alignmentgroup": "True",
         "hovertemplate": "reason=covered<br>file=%{x}<br>count=%{y}<extra></extra>",
         "legendgroup": "covered",
         "marker": {
          "color": "#FFA15A",
          "pattern": {
           "shape": ""
          }
         },
         "name": "covered",
         "offsetgroup": "covered",
         "orientation": "v",
         "showlegend": true,
         "textposition": "auto",
         "x": [
          ".travis.yml",
          "main.go"
         ],
         "xaxis": "x",
         "y": [
          1,
          1
         ],
         "yaxis": "y",
         "type": "bar"
        },
        {
         "alignmentgroup": "True",
         "hovertemplate": "reason=typo<br>file=%{x}<br>count=%{y}<extra></extra>",
         "legendgroup": "typo",
         "marker": {
          "color": "#19d3f3",
          "pattern": {
           "shape": ""
          }
         },
         "name": "typo",
         "offsetgroup": "typo",
         "orientation": "v",
         "showlegend": true,
         "textposition": "auto",
         "x": [
          ".travis.yml",
          "config/config.go"
         ],
         "xaxis": "x",
         "y": [
          2,
          2
         ],
         "yaxis": "y",
         "type": "bar"
        },
        {
         "alignmentgroup": "True",
         "hovertemplate": "reason=actually<br>file=%{x}<br>count=%{y}<extra></extra>",
         "legendgroup": "actually",
         "marker": {
          "color": "#FF6692",
          "pattern": {
           "shape": ""
          }
         },
         "name": "actually",
         "offsetgroup": "actually",
         "orientation": "v",
         "showlegend": true,
         "textposition": "auto",
         "x": [
          ".travis.yml"
         ],
         "xaxis": "x",
         "y": [
          1
         ],
         "yaxis": "y",
         "type": "bar"
        },
        {
         "alignmentgroup": "True",
         "hovertemplate": "reason=logging<br>file=%{x}<br>count=%{y}<extra></extra>",
         "legendgroup": "logging",
         "marker": {
          "color": "#B6E880",
          "pattern": {
           "shape": ""
          }
         },
         "name": "logging",
         "offsetgroup": "logging",
         "orientation": "v",
         "showlegend": true,
         "textposition": "auto",
         "x": [
          "pipeline/brew/brew.go",
          "pipeline/release/release.go"
         ],
         "xaxis": "x",
         "y": [
          1,
          1
         ],
         "yaxis": "y",
         "type": "bar"
        },
        {
         "alignmentgroup": "True",
         "hovertemplate": "reason=Reduce<br>file=%{x}<br>count=%{y}<extra></extra>",
         "legendgroup": "Reduce",
         "marker": {
          "color": "#FF97FF",
          "pattern": {
           "shape": ""
          }
         },
         "name": "Reduce",
         "offsetgroup": "Reduce",
         "orientation": "v",
         "showlegend": true,
         "textposition": "auto",
         "x": [
          "pipeline/build/build.go"
         ],
         "xaxis": "x",
         "y": [
          1
         ],
         "yaxis": "y",
         "type": "bar"
        },
        {
         "alignmentgroup": "True",
         "hovertemplate": "reason=log<br>file=%{x}<br>count=%{y}<extra></extra>",
         "legendgroup": "log",
         "marker": {
          "color": "#FECB52",
          "pattern": {
           "shape": ""
          }
         },
         "name": "log",
         "offsetgroup": "log",
         "orientation": "v",
         "showlegend": true,
         "textposition": "auto",
         "x": [
          "main.go"
         ],
         "xaxis": "x",
         "y": [
          2
         ],
         "yaxis": "y",
         "type": "bar"
        },
        {
         "alignmentgroup": "True",
         "hovertemplate": "reason=skip<br>file=%{x}<br>count=%{y}<extra></extra>",
         "legendgroup": "skip",
         "marker": {
          "color": "#636efa",
          "pattern": {
           "shape": ""
          }
         },
         "name": "skip",
         "offsetgroup": "skip",
         "orientation": "v",
         "showlegend": true,
         "textposition": "auto",
         "x": [
          "context/context.go",
          "main.go",
          "pipeline/brew/brew.go",
          "pipeline/brew/brew_test.go",
          "pipeline/release/release.go",
          "pipeline/build/build.go"
         ],
         "xaxis": "x",
         "y": [
          1,
          2,
          1,
          1,
          1,
          1
         ],
         "yaxis": "y",
         "type": "bar"
        },
        {
         "alignmentgroup": "True",
         "hovertemplate": "reason=checksum<br>file=%{x}<br>count=%{y}<extra></extra>",
         "legendgroup": "checksum",
         "marker": {
          "color": "#EF553B",
          "pattern": {
           "shape": ""
          }
         },
         "name": "checksum",
         "offsetgroup": "checksum",
         "orientation": "v",
         "showlegend": true,
         "textposition": "auto",
         "x": [
          "main.go"
         ],
         "xaxis": "x",
         "y": [
          1
         ],
         "yaxis": "y",
         "type": "bar"
        },
        {
         "alignmentgroup": "True",
         "hovertemplate": "reason=moved<br>file=%{x}<br>count=%{y}<extra></extra>",
         "legendgroup": "moved",
         "marker": {
          "color": "#00cc96",
          "pattern": {
           "shape": ""
          }
         },
         "name": "moved",
         "offsetgroup": "moved",
         "orientation": "v",
         "showlegend": true,
         "textposition": "auto",
         "x": [
          "main.go"
         ],
         "xaxis": "x",
         "y": [
          1
         ],
         "yaxis": "y",
         "type": "bar"
        },
        {
         "alignmentgroup": "True",
         "hovertemplate": "reason=oops<br>file=%{x}<br>count=%{y}<extra></extra>",
         "legendgroup": "oops",
         "marker": {
          "color": "#ab63fa",
          "pattern": {
           "shape": ""
          }
         },
         "name": "oops",
         "offsetgroup": "oops",
         "orientation": "v",
         "showlegend": true,
         "textposition": "auto",
         "x": [
          ".travis.yml"
         ],
         "xaxis": "x",
         "y": [
          1
         ],
         "yaxis": "y",
         "type": "bar"
        },
        {
         "alignmentgroup": "True",
         "hovertemplate": "reason=sudo<br>file=%{x}<br>count=%{y}<extra></extra>",
         "legendgroup": "sudo",
         "marker": {
          "color": "#FFA15A",
          "pattern": {
           "shape": ""
          }
         },
         "name": "sudo",
         "offsetgroup": "sudo",
         "orientation": "v",
         "showlegend": true,
         "textposition": "auto",
         "x": [
          ".travis.yml"
         ],
         "xaxis": "x",
         "y": [
          1
         ],
         "yaxis": "y",
         "type": "bar"
        },
        {
         "alignmentgroup": "True",
         "hovertemplate": "reason=singularized<br>file=%{x}<br>count=%{y}<extra></extra>",
         "legendgroup": "singularized",
         "marker": {
          "color": "#19d3f3",
          "pattern": {
           "shape": ""
          }
         },
         "name": "singularized",
         "offsetgroup": "singularized",
         "orientation": "v",
         "showlegend": true,
         "textposition": "auto",
         "x": [
          "pipeline/brew/brew.go",
          "pipeline/brew/brew_test.go",
          "pipeline/release/release.go"
         ],
         "xaxis": "x",
         "y": [
          1,
          1,
          1
         ],
         "yaxis": "y",
         "type": "bar"
        },
        {
         "alignmentgroup": "True",
         "hovertemplate": "reason=checksumming<br>file=%{x}<br>count=%{y}<extra></extra>",
         "legendgroup": "checksumming",
         "marker": {
          "color": "#FF6692",
          "pattern": {
           "shape": ""
          }
         },
         "name": "checksumming",
         "offsetgroup": "checksumming",
         "orientation": "v",
         "showlegend": true,
         "textposition": "auto",
         "x": [
          "main.go"
         ],
         "xaxis": "x",
         "y": [
          1
         ],
         "yaxis": "y",
         "type": "bar"
        },
        {
         "alignmentgroup": "True",
         "hovertemplate": "reason=trying<br>file=%{x}<br>count=%{y}<extra></extra>",
         "legendgroup": "trying",
         "marker": {
          "color": "#B6E880",
          "pattern": {
           "shape": ""
          }
         },
         "name": "trying",
         "offsetgroup": "trying",
         "orientation": "v",
         "showlegend": true,
         "textposition": "auto",
         "x": [
          ".travis.yml"
         ],
         "xaxis": "x",
         "y": [
          1
         ],
         "yaxis": "y",
         "type": "bar"
        },
        {
         "alignmentgroup": "True",
         "hovertemplate": "reason=release<br>file=%{x}<br>count=%{y}<extra></extra>",
         "legendgroup": "release",
         "marker": {
          "color": "#FF97FF",
          "pattern": {
           "shape": ""
          }
         },
         "name": "release",
         "offsetgroup": "release",
         "orientation": "v",
         "showlegend": true,
         "textposition": "auto",
         "x": [
          "pipeline/release/release.go",
          "pipeline/brew/brew.go",
          "main.go"
         ],
         "xaxis": "x",
         "y": [
          3,
          1,
          1
         ],
         "yaxis": "y",
         "type": "bar"
        },
        {
         "alignmentgroup": "True",
         "hovertemplate": "reason=client<br>file=%{x}<br>count=%{y}<extra></extra>",
         "legendgroup": "client",
         "marker": {
          "color": "#FECB52",
          "pattern": {
           "shape": ""
          }
         },
         "name": "client",
         "offsetgroup": "client",
         "orientation": "v",
         "showlegend": true,
         "textposition": "auto",
         "x": [
          "pipeline/brew/brew.go",
          "pipeline/release/release.go"
         ],
         "xaxis": "x",
         "y": [
          1,
          1
         ],
         "yaxis": "y",
         "type": "bar"
        },
        {
         "alignmentgroup": "True",
         "hovertemplate": "reason=ldflags<br>file=%{x}<br>count=%{y}<extra></extra>",
         "legendgroup": "ldflags",
         "marker": {
          "color": "#636efa",
          "pattern": {
           "shape": ""
          }
         },
         "name": "ldflags",
         "offsetgroup": "ldflags",
         "orientation": "v",
         "showlegend": true,
         "textposition": "auto",
         "x": [
          "README.md",
          "context/context.go",
          "main.go",
          "pipeline/build/build.go",
          "pipeline/defaults/defaults.go"
         ],
         "xaxis": "x",
         "y": [
          1,
          1,
          1,
          1,
          1
         ],
         "yaxis": "y",
         "type": "bar"
        },
        {
         "alignmentgroup": "True",
         "hovertemplate": "reason=err<br>file=%{x}<br>count=%{y}<extra></extra>",
         "legendgroup": "err",
         "marker": {
          "color": "#EF553B",
          "pattern": {
           "shape": ""
          }
         },
         "name": "err",
         "offsetgroup": "err",
         "orientation": "v",
         "showlegend": true,
         "textposition": "auto",
         "x": [
          "pipeline/build/build.go"
         ],
         "xaxis": "x",
         "y": [
          1
         ],
         "yaxis": "y",
         "type": "bar"
        },
        {
         "alignmentgroup": "True",
         "hovertemplate": "reason=govet<br>file=%{x}<br>count=%{y}<extra></extra>",
         "legendgroup": "govet",
         "marker": {
          "color": "#00cc96",
          "pattern": {
           "shape": ""
          }
         },
         "name": "govet",
         "offsetgroup": "govet",
         "orientation": "v",
         "showlegend": true,
         "textposition": "auto",
         "x": [
          "pipeline/brew/brew_test.go"
         ],
         "xaxis": "x",
         "y": [
          1
         ],
         "yaxis": "y",
         "type": "bar"
        },
        {
         "alignmentgroup": "True",
         "hovertemplate": "reason=temporarely<br>file=%{x}<br>count=%{y}<extra></extra>",
         "legendgroup": "temporarely",
         "marker": {
          "color": "#ab63fa",
          "pattern": {
           "shape": ""
          }
         },
         "name": "temporarely",
         "offsetgroup": "temporarely",
         "orientation": "v",
         "showlegend": true,
         "textposition": "auto",
         "x": [
          ".travis.yml"
         ],
         "xaxis": "x",
         "y": [
          1
         ],
         "yaxis": "y",
         "type": "bar"
        },
        {
         "alignmentgroup": "True",
         "hovertemplate": "reason=changing<br>file=%{x}<br>count=%{y}<extra></extra>",
         "legendgroup": "changing",
         "marker": {
          "color": "#FFA15A",
          "pattern": {
           "shape": ""
          }
         },
         "name": "changing",
         "offsetgroup": "changing",
         "orientation": "v",
         "showlegend": true,
         "textposition": "auto",
         "x": [
          "README.md",
          "config/config.go",
          "context/context.go",
          "main.go",
          "pipeline/brew/brew.go",
          "pipeline/brew/brew_test.go",
          "pipeline/defaults/defaults.go",
          "pipeline/release/release.go"
         ],
         "xaxis": "x",
         "y": [
          2,
          1,
          1,
          1,
          1,
          1,
          2,
          1
         ],
         "yaxis": "y",
         "type": "bar"
        },
        {
         "alignmentgroup": "True",
         "hovertemplate": "reason=context<br>file=%{x}<br>count=%{y}<extra></extra>",
         "legendgroup": "context",
         "marker": {
          "color": "#19d3f3",
          "pattern": {
           "shape": ""
          }
         },
         "name": "context",
         "offsetgroup": "context",
         "orientation": "v",
         "showlegend": true,
         "textposition": "auto",
         "x": [
          "context/context.go",
          "pipeline/brew/brew.go",
          "pipeline/release/release.go"
         ],
         "xaxis": "x",
         "y": [
          1,
          1,
          1
         ],
         "yaxis": "y",
         "type": "bar"
        },
        {
         "alignmentgroup": "True",
         "hovertemplate": "reason=First<br>file=%{x}<br>count=%{y}<extra></extra>",
         "legendgroup": "First",
         "marker": {
          "color": "#FF6692",
          "pattern": {
           "shape": ""
          }
         },
         "name": "First",
         "offsetgroup": "First",
         "orientation": "v",
         "showlegend": true,
         "textposition": "auto",
         "x": [
          "README.md",
          "config/config.go",
          "pipeline/brew/brew.go",
          "pipeline/brew/brew_test.go"
         ],
         "xaxis": "x",
         "y": [
          1,
          1,
          1,
          1
         ],
         "yaxis": "y",
         "type": "bar"
        },
        {
         "alignmentgroup": "True",
         "hovertemplate": "reason=coveralls<br>file=%{x}<br>count=%{y}<extra></extra>",
         "legendgroup": "coveralls",
         "marker": {
          "color": "#B6E880",
          "pattern": {
           "shape": ""
          }
         },
         "name": "coveralls",
         "offsetgroup": "coveralls",
         "orientation": "v",
         "showlegend": true,
         "textposition": "auto",
         "x": [
          "README.md"
         ],
         "xaxis": "x",
         "y": [
          1
         ],
         "yaxis": "y",
         "type": "bar"
        },
        {
         "alignmentgroup": "True",
         "hovertemplate": "reason=goveralls<br>file=%{x}<br>count=%{y}<extra></extra>",
         "legendgroup": "goveralls",
         "marker": {
          "color": "#FF97FF",
          "pattern": {
           "shape": ""
          }
         },
         "name": "goveralls",
         "offsetgroup": "goveralls",
         "orientation": "v",
         "showlegend": true,
         "textposition": "auto",
         "x": [
          ".travis.yml"
         ],
         "xaxis": "x",
         "y": [
          1
         ],
         "yaxis": "y",
         "type": "bar"
        },
        {
         "alignmentgroup": "True",
         "hovertemplate": "reason=adds<br>file=%{x}<br>count=%{y}<extra></extra>",
         "legendgroup": "adds",
         "marker": {
          "color": "#FECB52",
          "pattern": {
           "shape": ""
          }
         },
         "name": "adds",
         "offsetgroup": "adds",
         "orientation": "v",
         "showlegend": true,
         "textposition": "auto",
         "x": [
          "config/config.go",
          "pipeline/brew/brew.go",
          "pipeline/brew/brew_test.go",
          "pipeline/fpm/fpm.go"
         ],
         "xaxis": "x",
         "y": [
          1,
          1,
          1,
          1
         ],
         "yaxis": "y",
         "type": "bar"
        },
        {
         "alignmentgroup": "True",
         "hovertemplate": "reason=concurrency<br>file=%{x}<br>count=%{y}<extra></extra>",
         "legendgroup": "concurrency",
         "marker": {
          "color": "#636efa",
          "pattern": {
           "shape": ""
          }
         },
         "name": "concurrency",
         "offsetgroup": "concurrency",
         "orientation": "v",
         "showlegend": true,
         "textposition": "auto",
         "x": [
          "pipeline/fpm/fpm.go"
         ],
         "xaxis": "x",
         "y": [
          1
         ],
         "yaxis": "y",
         "type": "bar"
        },
        {
         "alignmentgroup": "True",
         "hovertemplate": "reason=debug<br>file=%{x}<br>count=%{y}<extra></extra>",
         "legendgroup": "debug",
         "marker": {
          "color": "#EF553B",
          "pattern": {
           "shape": ""
          }
         },
         "name": "debug",
         "offsetgroup": "debug",
         "orientation": "v",
         "showlegend": true,
         "textposition": "auto",
         "x": [
          ".travis.yml"
         ],
         "xaxis": "x",
         "y": [
          3
         ],
         "yaxis": "y",
         "type": "bar"
        },
        {
         "alignmentgroup": "True",
         "hovertemplate": "reason=note<br>file=%{x}<br>count=%{y}<extra></extra>",
         "legendgroup": "note",
         "marker": {
          "color": "#00cc96",
          "pattern": {
           "shape": ""
          }
         },
         "name": "note",
         "offsetgroup": "note",
         "orientation": "v",
         "showlegend": true,
         "textposition": "auto",
         "x": [
          "README.md"
         ],
         "xaxis": "x",
         "y": [
          1
         ],
         "yaxis": "y",
         "type": "bar"
        },
        {
         "alignmentgroup": "True",
         "hovertemplate": "reason=comment<br>file=%{x}<br>count=%{y}<extra></extra>",
         "legendgroup": "comment",
         "marker": {
          "color": "#ab63fa",
          "pattern": {
           "shape": ""
          }
         },
         "name": "comment",
         "offsetgroup": "comment",
         "orientation": "v",
         "showlegend": true,
         "textposition": "auto",
         "x": [
          "pipeline/release/release.go"
         ],
         "xaxis": "x",
         "y": [
          1
         ],
         "yaxis": "y",
         "type": "bar"
        },
        {
         "alignmentgroup": "True",
         "hovertemplate": "reason=travis<br>file=%{x}<br>count=%{y}<extra></extra>",
         "legendgroup": "travis",
         "marker": {
          "color": "#FFA15A",
          "pattern": {
           "shape": ""
          }
         },
         "name": "travis",
         "offsetgroup": "travis",
         "orientation": "v",
         "showlegend": true,
         "textposition": "auto",
         "x": [
          ".travis.yml"
         ],
         "xaxis": "x",
         "y": [
          1
         ],
         "yaxis": "y",
         "type": "bar"
        },
        {
         "alignmentgroup": "True",
         "hovertemplate": "reason=Link<br>file=%{x}<br>count=%{y}<extra></extra>",
         "legendgroup": "Link",
         "marker": {
          "color": "#19d3f3",
          "pattern": {
           "shape": ""
          }
         },
         "name": "Link",
         "offsetgroup": "Link",
         "orientation": "v",
         "showlegend": true,
         "textposition": "auto",
         "x": [
          "README.md"
         ],
         "xaxis": "x",
         "y": [
          2
         ],
         "yaxis": "y",
         "type": "bar"
        },
        {
         "alignmentgroup": "True",
         "hovertemplate": "reason=source<br>file=%{x}<br>count=%{y}<extra></extra>",
         "legendgroup": "source",
         "marker": {
          "color": "#FF6692",
          "pattern": {
           "shape": ""
          }
         },
         "name": "source",
         "offsetgroup": "source",
         "orientation": "v",
         "showlegend": true,
         "textposition": "auto",
         "x": [
          "main.go"
         ],
         "xaxis": "x",
         "y": [
          1
         ],
         "yaxis": "y",
         "type": "bar"
        },
        {
         "alignmentgroup": "True",
         "hovertemplate": "reason=changed<br>file=%{x}<br>count=%{y}<extra></extra>",
         "legendgroup": "changed",
         "marker": {
          "color": "#B6E880",
          "pattern": {
           "shape": ""
          }
         },
         "name": "changed",
         "offsetgroup": "changed",
         "orientation": "v",
         "showlegend": true,
         "textposition": "auto",
         "x": [
          "pipeline/build/build.go",
          "config/config.go"
         ],
         "xaxis": "x",
         "y": [
          1,
          1
         ],
         "yaxis": "y",
         "type": "bar"
        },
        {
         "alignmentgroup": "True",
         "hovertemplate": "reason=simplified<br>file=%{x}<br>count=%{y}<extra></extra>",
         "legendgroup": "simplified",
         "marker": {
          "color": "#FF97FF",
          "pattern": {
           "shape": ""
          }
         },
         "name": "simplified",
         "offsetgroup": "simplified",
         "orientation": "v",
         "showlegend": true,
         "textposition": "auto",
         "x": [
          "pipeline/build/build.go",
          "config/config.go"
         ],
         "xaxis": "x",
         "y": [
          1,
          1
         ],
         "yaxis": "y",
         "type": "bar"
        },
        {
         "alignmentgroup": "True",
         "hovertemplate": "reason=better<br>file=%{x}<br>count=%{y}<extra></extra>",
         "legendgroup": "better",
         "marker": {
          "color": "#FECB52",
          "pattern": {
           "shape": ""
          }
         },
         "name": "better",
         "offsetgroup": "better",
         "orientation": "v",
         "showlegend": true,
         "textposition": "auto",
         "x": [
          "README.md",
          "pipeline/release/release.go"
         ],
         "xaxis": "x",
         "y": [
          1,
          1
         ],
         "yaxis": "y",
         "type": "bar"
        },
        {
         "alignmentgroup": "True",
         "hovertemplate": "reason=formulae<br>file=%{x}<br>count=%{y}<extra></extra>",
         "legendgroup": "formulae",
         "marker": {
          "color": "#636efa",
          "pattern": {
           "shape": ""
          }
         },
         "name": "formulae",
         "offsetgroup": "formulae",
         "orientation": "v",
         "showlegend": true,
         "textposition": "auto",
         "x": [
          "README.md"
         ],
         "xaxis": "x",
         "y": [
          1
         ],
         "yaxis": "y",
         "type": "bar"
        },
        {
         "alignmentgroup": "True",
         "hovertemplate": "reason=dont<br>file=%{x}<br>count=%{y}<extra></extra>",
         "legendgroup": "dont",
         "marker": {
          "color": "#EF553B",
          "pattern": {
           "shape": ""
          }
         },
         "name": "dont",
         "offsetgroup": "dont",
         "orientation": "v",
         "showlegend": true,
         "textposition": "auto",
         "x": [
          "main.go"
         ],
         "xaxis": "x",
         "y": [
          1
         ],
         "yaxis": "y",
         "type": "bar"
        },
        {
         "alignmentgroup": "True",
         "hovertemplate": "reason=small<br>file=%{x}<br>count=%{y}<extra></extra>",
         "legendgroup": "small",
         "marker": {
          "color": "#00cc96",
          "pattern": {
           "shape": ""
          }
         },
         "name": "small",
         "offsetgroup": "small",
         "orientation": "v",
         "showlegend": true,
         "textposition": "auto",
         "x": [
          "README.md"
         ],
         "xaxis": "x",
         "y": [
          2
         ],
         "yaxis": "y",
         "type": "bar"
        },
        {
         "alignmentgroup": "True",
         "hovertemplate": "reason=mv<br>file=%{x}<br>count=%{y}<extra></extra>",
         "legendgroup": "mv",
         "marker": {
          "color": "#ab63fa",
          "pattern": {
           "shape": ""
          }
         },
         "name": "mv",
         "offsetgroup": "mv",
         "orientation": "v",
         "showlegend": true,
         "textposition": "auto",
         "x": [
          "README.md"
         ],
         "xaxis": "x",
         "y": [
          1
         ],
         "yaxis": "y",
         "type": "bar"
        },
        {
         "alignmentgroup": "True",
         "hovertemplate": "reason=Typo<br>file=%{x}<br>count=%{y}<extra></extra>",
         "legendgroup": "Typo",
         "marker": {
          "color": "#FFA15A",
          "pattern": {
           "shape": ""
          }
         },
         "name": "Typo",
         "offsetgroup": "Typo",
         "orientation": "v",
         "showlegend": true,
         "textposition": "auto",
         "x": [
          "README.md"
         ],
         "xaxis": "x",
         "y": [
          1
         ],
         "yaxis": "y",
         "type": "bar"
        },
        {
         "alignmentgroup": "True",
         "hovertemplate": "reason=Clean<br>file=%{x}<br>count=%{y}<extra></extra>",
         "legendgroup": "Clean",
         "marker": {
          "color": "#19d3f3",
          "pattern": {
           "shape": ""
          }
         },
         "name": "Clean",
         "offsetgroup": "Clean",
         "orientation": "v",
         "showlegend": true,
         "textposition": "auto",
         "x": [
          "pipeline/brew/brew.go",
          "pipeline/brew/brew_test.go",
          "pipeline/build/build.go",
          "pipeline/defaults/defaults.go",
          "pipeline/release/release.go"
         ],
         "xaxis": "x",
         "y": [
          1,
          1,
          1,
          1,
          1
         ],
         "yaxis": "y",
         "type": "bar"
        },
        {
         "alignmentgroup": "True",
         "hovertemplate": "reason=Always<br>file=%{x}<br>count=%{y}<extra></extra>",
         "legendgroup": "Always",
         "marker": {
          "color": "#FF6692",
          "pattern": {
           "shape": ""
          }
         },
         "name": "Always",
         "offsetgroup": "Always",
         "orientation": "v",
         "showlegend": true,
         "textposition": "auto",
         "x": [
          "main.go"
         ],
         "xaxis": "x",
         "y": [
          1
         ],
         "yaxis": "y",
         "type": "bar"
        },
        {
         "alignmentgroup": "True",
         "hovertemplate": "reason=missing<br>file=%{x}<br>count=%{y}<extra></extra>",
         "legendgroup": "missing",
         "marker": {
          "color": "#B6E880",
          "pattern": {
           "shape": ""
          }
         },
         "name": "missing",
         "offsetgroup": "missing",
         "orientation": "v",
         "showlegend": true,
         "textposition": "auto",
         "x": [
          "pipeline/brew/brew.go",
          "pipeline/brew/brew_test.go"
         ],
         "xaxis": "x",
         "y": [
          1,
          1
         ],
         "yaxis": "y",
         "type": "bar"
        },
        {
         "alignmentgroup": "True",
         "hovertemplate": "reason=fail<br>file=%{x}<br>count=%{y}<extra></extra>",
         "legendgroup": "fail",
         "marker": {
          "color": "#FF97FF",
          "pattern": {
           "shape": ""
          }
         },
         "name": "fail",
         "offsetgroup": "fail",
         "orientation": "v",
         "showlegend": true,
         "textposition": "auto",
         "x": [
          "pipeline/brew/brew.go"
         ],
         "xaxis": "x",
         "y": [
          1
         ],
         "yaxis": "y",
         "type": "bar"
        },
        {
         "alignmentgroup": "True",
         "hovertemplate": "reason=strip<br>file=%{x}<br>count=%{y}<extra></extra>",
         "legendgroup": "strip",
         "marker": {
          "color": "#FECB52",
          "pattern": {
           "shape": ""
          }
         },
         "name": "strip",
         "offsetgroup": "strip",
         "orientation": "v",
         "showlegend": true,
         "textposition": "auto",
         "x": [
          "config/config.go",
          "context/context.go"
         ],
         "xaxis": "x",
         "y": [
          1,
          1
         ],
         "yaxis": "y",
         "type": "bar"
        },
        {
         "alignmentgroup": "True",
         "hovertemplate": "reason=golint<br>file=%{x}<br>count=%{y}<extra></extra>",
         "legendgroup": "golint",
         "marker": {
          "color": "#636efa",
          "pattern": {
           "shape": ""
          }
         },
         "name": "golint",
         "offsetgroup": "golint",
         "orientation": "v",
         "showlegend": true,
         "textposition": "auto",
         "x": [
          "context/context.go",
          "config/config.go",
          "main.go",
          "pipeline/brew/brew.go",
          "pipeline/build/build.go",
          "pipeline/release/release.go"
         ],
         "xaxis": "x",
         "y": [
          1,
          1,
          1,
          1,
          1,
          1
         ],
         "yaxis": "y",
         "type": "bar"
        },
        {
         "alignmentgroup": "True",
         "hovertemplate": "reason=goimports<br>file=%{x}<br>count=%{y}<extra></extra>",
         "legendgroup": "goimports",
         "marker": {
          "color": "#EF553B",
          "pattern": {
           "shape": ""
          }
         },
         "name": "goimports",
         "offsetgroup": "goimports",
         "orientation": "v",
         "showlegend": true,
         "textposition": "auto",
         "x": [
          "main.go"
         ],
         "xaxis": "x",
         "y": [
          1
         ],
         "yaxis": "y",
         "type": "bar"
        },
        {
         "alignmentgroup": "True",
         "hovertemplate": "reason=organized<br>file=%{x}<br>count=%{y}<extra></extra>",
         "legendgroup": "organized",
         "marker": {
          "color": "#00cc96",
          "pattern": {
           "shape": ""
          }
         },
         "name": "organized",
         "offsetgroup": "organized",
         "orientation": "v",
         "showlegend": true,
         "textposition": "auto",
         "x": [
          "config/config.go",
          "context/context.go",
          "main.go",
          "pipeline/brew/brew.go",
          "pipeline/build/build.go",
          "pipeline/defaults/defaults.go",
          "pipeline/release/release.go"
         ],
         "xaxis": "x",
         "y": [
          1,
          1,
          2,
          1,
          1,
          1,
          1
         ],
         "yaxis": "y",
         "type": "bar"
        },
        {
         "alignmentgroup": "True",
         "hovertemplate": "reason=Github<br>file=%{x}<br>count=%{y}<extra></extra>",
         "legendgroup": "Github",
         "marker": {
          "color": "#ab63fa",
          "pattern": {
           "shape": ""
          }
         },
         "name": "Github",
         "offsetgroup": "Github",
         "orientation": "v",
         "showlegend": true,
         "textposition": "auto",
         "x": [
          "pipeline/brew/brew.go",
          "pipeline/release/release.go"
         ],
         "xaxis": "x",
         "y": [
          1,
          1
         ],
         "yaxis": "y",
         "type": "bar"
        },
        {
         "alignmentgroup": "True",
         "hovertemplate": "reason=Improved<br>file=%{x}<br>count=%{y}<extra></extra>",
         "legendgroup": "Improved",
         "marker": {
          "color": "#FFA15A",
          "pattern": {
           "shape": ""
          }
         },
         "name": "Improved",
         "offsetgroup": "Improved",
         "orientation": "v",
         "showlegend": true,
         "textposition": "auto",
         "x": [
          "README.md"
         ],
         "xaxis": "x",
         "y": [
          1
         ],
         "yaxis": "y",
         "type": "bar"
        },
        {
         "alignmentgroup": "True",
         "hovertemplate": "reason=Fixing<br>file=%{x}<br>count=%{y}<extra></extra>",
         "legendgroup": "Fixing",
         "marker": {
          "color": "#19d3f3",
          "pattern": {
           "shape": ""
          }
         },
         "name": "Fixing",
         "offsetgroup": "Fixing",
         "orientation": "v",
         "showlegend": true,
         "textposition": "auto",
         "x": [
          "pipeline/brew/brew.go",
          "pipeline/build/build.go",
          "pipeline/defaults/defaults.go",
          "pipeline/release/release.go"
         ],
         "xaxis": "x",
         "y": [
          1,
          1,
          1,
          1
         ],
         "yaxis": "y",
         "type": "bar"
        },
        {
         "alignmentgroup": "True",
         "hovertemplate": "reason=Config<br>file=%{x}<br>count=%{y}<extra></extra>",
         "legendgroup": "Config",
         "marker": {
          "color": "#FF6692",
          "pattern": {
           "shape": ""
          }
         },
         "name": "Config",
         "offsetgroup": "Config",
         "orientation": "v",
         "showlegend": true,
         "textposition": "auto",
         "x": [
          "main.go"
         ],
         "xaxis": "x",
         "y": [
          1
         ],
         "yaxis": "y",
         "type": "bar"
        },
        {
         "alignmentgroup": "True",
         "hovertemplate": "reason=Default<br>file=%{x}<br>count=%{y}<extra></extra>",
         "legendgroup": "Default",
         "marker": {
          "color": "#B6E880",
          "pattern": {
           "shape": ""
          }
         },
         "name": "Default",
         "offsetgroup": "Default",
         "orientation": "v",
         "showlegend": true,
         "textposition": "auto",
         "x": [
          "pipeline/defaults/defaults.go"
         ],
         "xaxis": "x",
         "y": [
          2
         ],
         "yaxis": "y",
         "type": "bar"
        },
        {
         "alignmentgroup": "True",
         "hovertemplate": "reason=lowercase<br>file=%{x}<br>count=%{y}<extra></extra>",
         "legendgroup": "lowercase",
         "marker": {
          "color": "#FF97FF",
          "pattern": {
           "shape": ""
          }
         },
         "name": "lowercase",
         "offsetgroup": "lowercase",
         "orientation": "v",
         "showlegend": true,
         "textposition": "auto",
         "x": [
          "pipeline/defaults/defaults.go"
         ],
         "xaxis": "x",
         "y": [
          1
         ],
         "yaxis": "y",
         "type": "bar"
        },
        {
         "alignmentgroup": "True",
         "hovertemplate": "reason=even<br>file=%{x}<br>count=%{y}<extra></extra>",
         "legendgroup": "even",
         "marker": {
          "color": "#FECB52",
          "pattern": {
           "shape": ""
          }
         },
         "name": "even",
         "offsetgroup": "even",
         "orientation": "v",
         "showlegend": true,
         "textposition": "auto",
         "x": [
          "context/context.go",
          "pipeline/brew/brew.go",
          "pipeline/build/build.go"
         ],
         "xaxis": "x",
         "y": [
          1,
          2,
          1
         ],
         "yaxis": "y",
         "type": "bar"
        },
        {
         "alignmentgroup": "True",
         "hovertemplate": "reason=tests<br>file=%{x}<br>count=%{y}<extra></extra>",
         "legendgroup": "tests",
         "marker": {
          "color": "#636efa",
          "pattern": {
           "shape": ""
          }
         },
         "name": "tests",
         "offsetgroup": "tests",
         "orientation": "v",
         "showlegend": true,
         "textposition": "auto",
         "x": [
          "pipeline/defaults/defaults.go"
         ],
         "xaxis": "x",
         "y": [
          1
         ],
         "yaxis": "y",
         "type": "bar"
        },
        {
         "alignmentgroup": "True",
         "hovertemplate": "reason=buidl<br>file=%{x}<br>count=%{y}<extra></extra>",
         "legendgroup": "buidl",
         "marker": {
          "color": "#EF553B",
          "pattern": {
           "shape": ""
          }
         },
         "name": "buidl",
         "offsetgroup": "buidl",
         "orientation": "v",
         "showlegend": true,
         "textposition": "auto",
         "x": [
          "pipeline/build/build.go"
         ],
         "xaxis": "x",
         "y": [
          1
         ],
         "yaxis": "y",
         "type": "bar"
        },
        {
         "alignmentgroup": "True",
         "hovertemplate": "reason=create<br>file=%{x}<br>count=%{y}<extra></extra>",
         "legendgroup": "create",
         "marker": {
          "color": "#00cc96",
          "pattern": {
           "shape": ""
          }
         },
         "name": "create",
         "offsetgroup": "create",
         "orientation": "v",
         "showlegend": true,
         "textposition": "auto",
         "x": [
          "README.md",
          "config/config.go",
          "pipeline/brew/brew.go"
         ],
         "xaxis": "x",
         "y": [
          1,
          1,
          1
         ],
         "yaxis": "y",
         "type": "bar"
        },
        {
         "alignmentgroup": "True",
         "hovertemplate": "reason=document<br>file=%{x}<br>count=%{y}<extra></extra>",
         "legendgroup": "document",
         "marker": {
          "color": "#ab63fa",
          "pattern": {
           "shape": ""
          }
         },
         "name": "document",
         "offsetgroup": "document",
         "orientation": "v",
         "showlegend": true,
         "textposition": "auto",
         "x": [
          "README.md"
         ],
         "xaxis": "x",
         "y": [
          2
         ],
         "yaxis": "y",
         "type": "bar"
        },
        {
         "alignmentgroup": "True",
         "hovertemplate": "reason=homebrew-formulae<br>file=%{x}<br>count=%{y}<extra></extra>",
         "legendgroup": "homebrew-formulae",
         "marker": {
          "color": "#FFA15A",
          "pattern": {
           "shape": ""
          }
         },
         "name": "homebrew-formulae",
         "offsetgroup": "homebrew-formulae",
         "orientation": "v",
         "showlegend": true,
         "textposition": "auto",
         "x": [
          "README.md"
         ],
         "xaxis": "x",
         "y": [
          1
         ],
         "yaxis": "y",
         "type": "bar"
        },
        {
         "alignmentgroup": "True",
         "hovertemplate": "reason=customize<br>file=%{x}<br>count=%{y}<extra></extra>",
         "legendgroup": "customize",
         "marker": {
          "color": "#19d3f3",
          "pattern": {
           "shape": ""
          }
         },
         "name": "customize",
         "offsetgroup": "customize",
         "orientation": "v",
         "showlegend": true,
         "textposition": "auto",
         "x": [
          "README.md",
          "config/config.go",
          "pipeline/build/build.go"
         ],
         "xaxis": "x",
         "y": [
          1,
          1,
          1
         ],
         "yaxis": "y",
         "type": "bar"
        },
        {
         "alignmentgroup": "True",
         "hovertemplate": "reason=tabs<br>file=%{x}<br>count=%{y}<extra></extra>",
         "legendgroup": "tabs",
         "marker": {
          "color": "#FF6692",
          "pattern": {
           "shape": ""
          }
         },
         "name": "tabs",
         "offsetgroup": "tabs",
         "orientation": "v",
         "showlegend": true,
         "textposition": "auto",
         "x": [
          "README.md"
         ],
         "xaxis": "x",
         "y": [
          1
         ],
         "yaxis": "y",
         "type": "bar"
        },
        {
         "alignmentgroup": "True",
         "hovertemplate": "reason=zip<br>file=%{x}<br>count=%{y}<extra></extra>",
         "legendgroup": "zip",
         "marker": {
          "color": "#B6E880",
          "pattern": {
           "shape": ""
          }
         },
         "name": "zip",
         "offsetgroup": "zip",
         "orientation": "v",
         "showlegend": true,
         "textposition": "auto",
         "x": [
          "config/config.go",
          "README.md"
         ],
         "xaxis": "x",
         "y": [
          2,
          1
         ],
         "yaxis": "y",
         "type": "bar"
        },
        {
         "alignmentgroup": "True",
         "hovertemplate": "reason=config<br>file=%{x}<br>count=%{y}<extra></extra>",
         "legendgroup": "config",
         "marker": {
          "color": "#FF97FF",
          "pattern": {
           "shape": ""
          }
         },
         "name": "config",
         "offsetgroup": "config",
         "orientation": "v",
         "showlegend": true,
         "textposition": "auto",
         "x": [
          "config/config.go",
          "main.go"
         ],
         "xaxis": "x",
         "y": [
          3,
          1
         ],
         "yaxis": "y",
         "type": "bar"
        },
        {
         "alignmentgroup": "True",
         "hovertemplate": "reason=continuing<br>file=%{x}<br>count=%{y}<extra></extra>",
         "legendgroup": "continuing",
         "marker": {
          "color": "#FECB52",
          "pattern": {
           "shape": ""
          }
         },
         "name": "continuing",
         "offsetgroup": "continuing",
         "orientation": "v",
         "showlegend": true,
         "textposition": "auto",
         "x": [
          "config/config.go",
          "pipeline/brew/brew.go",
          "pipeline/brew/brew_test.go",
          "pipeline/build/build.go",
          "pipeline/release/release.go"
         ],
         "xaxis": "x",
         "y": [
          1,
          1,
          1,
          1,
          1
         ],
         "yaxis": "y",
         "type": "bar"
        },
        {
         "alignmentgroup": "True",
         "hovertemplate": "reason=name<br>file=%{x}<br>count=%{y}<extra></extra>",
         "legendgroup": "name",
         "marker": {
          "color": "#636efa",
          "pattern": {
           "shape": ""
          }
         },
         "name": "name",
         "offsetgroup": "name",
         "orientation": "v",
         "showlegend": true,
         "textposition": "auto",
         "x": [
          "config/config.go",
          "pipeline/build/build.go",
          "pipeline/release/release.go"
         ],
         "xaxis": "x",
         "y": [
          1,
          1,
          1
         ],
         "yaxis": "y",
         "type": "bar"
        },
        {
         "alignmentgroup": "True",
         "hovertemplate": "reason=?<br>file=%{x}<br>count=%{y}<extra></extra>",
         "legendgroup": "?",
         "marker": {
          "color": "#EF553B",
          "pattern": {
           "shape": ""
          }
         },
         "name": "?",
         "offsetgroup": "?",
         "orientation": "v",
         "showlegend": true,
         "textposition": "auto",
         "x": [
          ".travis.yml"
         ],
         "xaxis": "x",
         "y": [
          1
         ],
         "yaxis": "y",
         "type": "bar"
        },
        {
         "alignmentgroup": "True",
         "hovertemplate": "reason=makefile<br>file=%{x}<br>count=%{y}<extra></extra>",
         "legendgroup": "makefile",
         "marker": {
          "color": "#00cc96",
          "pattern": {
           "shape": ""
          }
         },
         "name": "makefile",
         "offsetgroup": "makefile",
         "orientation": "v",
         "showlegend": true,
         "textposition": "auto",
         "x": [
          ".travis.yml",
          "README.md"
         ],
         "xaxis": "x",
         "y": [
          1,
          1
         ],
         "yaxis": "y",
         "type": "bar"
        },
        {
         "alignmentgroup": "True",
         "hovertemplate": "reason=misspell<br>file=%{x}<br>count=%{y}<extra></extra>",
         "legendgroup": "misspell",
         "marker": {
          "color": "#ab63fa",
          "pattern": {
           "shape": ""
          }
         },
         "name": "misspell",
         "offsetgroup": "misspell",
         "orientation": "v",
         "showlegend": true,
         "textposition": "auto",
         "x": [
          ".travis.yml"
         ],
         "xaxis": "x",
         "y": [
          1
         ],
         "yaxis": "y",
         "type": "bar"
        },
        {
         "alignmentgroup": "True",
         "hovertemplate": "reason=duplicated<br>file=%{x}<br>count=%{y}<extra></extra>",
         "legendgroup": "duplicated",
         "marker": {
          "color": "#FFA15A",
          "pattern": {
           "shape": ""
          }
         },
         "name": "duplicated",
         "offsetgroup": "duplicated",
         "orientation": "v",
         "showlegend": true,
         "textposition": "auto",
         "x": [
          ".travis.yml"
         ],
         "xaxis": "x",
         "y": [
          1
         ],
         "yaxis": "y",
         "type": "bar"
        },
        {
         "alignmentgroup": "True",
         "hovertemplate": "reason=:lipstick:<br>file=%{x}<br>count=%{y}<extra></extra>",
         "legendgroup": ":lipstick:",
         "marker": {
          "color": "#19d3f3",
          "pattern": {
           "shape": ""
          }
         },
         "name": ":lipstick:",
         "offsetgroup": ":lipstick:",
         "orientation": "v",
         "showlegend": true,
         "textposition": "auto",
         "x": [
          "README.md"
         ],
         "xaxis": "x",
         "y": [
          1
         ],
         "yaxis": "y",
         "type": "bar"
        },
        {
         "alignmentgroup": "True",
         "hovertemplate": "reason=empty<br>file=%{x}<br>count=%{y}<extra></extra>",
         "legendgroup": "empty",
         "marker": {
          "color": "#FF6692",
          "pattern": {
           "shape": ""
          }
         },
         "name": "empty",
         "offsetgroup": "empty",
         "orientation": "v",
         "showlegend": true,
         "textposition": "auto",
         "x": [
          "pipeline/brew/brew_test.go"
         ],
         "xaxis": "x",
         "y": [
          1
         ],
         "yaxis": "y",
         "type": "bar"
        },
        {
         "alignmentgroup": "True",
         "hovertemplate": "reason=got<br>file=%{x}<br>count=%{y}<extra></extra>",
         "legendgroup": "got",
         "marker": {
          "color": "#B6E880",
          "pattern": {
           "shape": ""
          }
         },
         "name": "got",
         "offsetgroup": "got",
         "orientation": "v",
         "showlegend": true,
         "textposition": "auto",
         "x": [
          "pipeline/brew/brew.go"
         ],
         "xaxis": "x",
         "y": [
          1
         ],
         "yaxis": "y",
         "type": "bar"
        },
        {
         "alignmentgroup": "True",
         "hovertemplate": "reason=url<br>file=%{x}<br>count=%{y}<extra></extra>",
         "legendgroup": "url",
         "marker": {
          "color": "#FF97FF",
          "pattern": {
           "shape": ""
          }
         },
         "name": "url",
         "offsetgroup": "url",
         "orientation": "v",
         "showlegend": true,
         "textposition": "auto",
         "x": [
          "pipeline/brew/brew.go"
         ],
         "xaxis": "x",
         "y": [
          1
         ],
         "yaxis": "y",
         "type": "bar"
        },
        {
         "alignmentgroup": "True",
         "hovertemplate": "reason=Glob<br>file=%{x}<br>count=%{y}<extra></extra>",
         "legendgroup": "Glob",
         "marker": {
          "color": "#FECB52",
          "pattern": {
           "shape": ""
          }
         },
         "name": "Glob",
         "offsetgroup": "Glob",
         "orientation": "v",
         "showlegend": true,
         "textposition": "auto",
         "x": [
          "config/config.go"
         ],
         "xaxis": "x",
         "y": [
          1
         ],
         "yaxis": "y",
         "type": "bar"
        },
        {
         "alignmentgroup": "True",
         "hovertemplate": "reason=grammar<br>file=%{x}<br>count=%{y}<extra></extra>",
         "legendgroup": "grammar",
         "marker": {
          "color": "#636efa",
          "pattern": {
           "shape": ""
          }
         },
         "name": "grammar",
         "offsetgroup": "grammar",
         "orientation": "v",
         "showlegend": true,
         "textposition": "auto",
         "x": [
          "README.md"
         ],
         "xaxis": "x",
         "y": [
          1
         ],
         "yaxis": "y",
         "type": "bar"
        },
        {
         "alignmentgroup": "True",
         "hovertemplate": "reason=wrong<br>file=%{x}<br>count=%{y}<extra></extra>",
         "legendgroup": "wrong",
         "marker": {
          "color": "#EF553B",
          "pattern": {
           "shape": ""
          }
         },
         "name": "wrong",
         "offsetgroup": "wrong",
         "orientation": "v",
         "showlegend": true,
         "textposition": "auto",
         "x": [
          "pipeline/brew/brew.go"
         ],
         "xaxis": "x",
         "y": [
          1
         ],
         "yaxis": "y",
         "type": "bar"
        },
        {
         "alignmentgroup": "True",
         "hovertemplate": "reason=bos<br>file=%{x}<br>count=%{y}<extra></extra>",
         "legendgroup": "bos",
         "marker": {
          "color": "#00cc96",
          "pattern": {
           "shape": ""
          }
         },
         "name": "bos",
         "offsetgroup": "bos",
         "orientation": "v",
         "showlegend": true,
         "textposition": "auto",
         "x": [
          "pipeline/build/build.go"
         ],
         "xaxis": "x",
         "y": [
          1
         ],
         "yaxis": "y",
         "type": "bar"
        },
        {
         "alignmentgroup": "True",
         "hovertemplate": "reason=reorganized<br>file=%{x}<br>count=%{y}<extra></extra>",
         "legendgroup": "reorganized",
         "marker": {
          "color": "#ab63fa",
          "pattern": {
           "shape": ""
          }
         },
         "name": "reorganized",
         "offsetgroup": "reorganized",
         "orientation": "v",
         "showlegend": true,
         "textposition": "auto",
         "x": [
          "config/config.go",
          "main.go",
          "pipeline/brew/brew.go",
          "pipeline/brew/brew_test.go",
          "pipeline/build/build.go",
          "pipeline/release/release.go"
         ],
         "xaxis": "x",
         "y": [
          1,
          1,
          1,
          1,
          1,
          1
         ],
         "yaxis": "y",
         "type": "bar"
        },
        {
         "alignmentgroup": "True",
         "hovertemplate": "reason=main.go<br>file=%{x}<br>count=%{y}<extra></extra>",
         "legendgroup": "main.go",
         "marker": {
          "color": "#FFA15A",
          "pattern": {
           "shape": ""
          }
         },
         "name": "main.go",
         "offsetgroup": "main.go",
         "orientation": "v",
         "showlegend": true,
         "textposition": "auto",
         "x": [
          "config/config.go"
         ],
         "xaxis": "x",
         "y": [
          1
         ],
         "yaxis": "y",
         "type": "bar"
        },
        {
         "alignmentgroup": "True",
         "hovertemplate": "reason=wtfff<br>file=%{x}<br>count=%{y}<extra></extra>",
         "legendgroup": "wtfff",
         "marker": {
          "color": "#19d3f3",
          "pattern": {
           "shape": ""
          }
         },
         "name": "wtfff",
         "offsetgroup": "wtfff",
         "orientation": "v",
         "showlegend": true,
         "textposition": "auto",
         "x": [
          "config/config.go",
          "main.go"
         ],
         "xaxis": "x",
         "y": [
          1,
          1
         ],
         "yaxis": "y",
         "type": "bar"
        },
        {
         "alignmentgroup": "True",
         "hovertemplate": "reason=readme,<br>file=%{x}<br>count=%{y}<extra></extra>",
         "legendgroup": "readme,",
         "marker": {
          "color": "#FF6692",
          "pattern": {
           "shape": ""
          }
         },
         "name": "readme,",
         "offsetgroup": "readme,",
         "orientation": "v",
         "showlegend": true,
         "textposition": "auto",
         "x": [
          "README.md"
         ],
         "xaxis": "x",
         "y": [
          1
         ],
         "yaxis": "y",
         "type": "bar"
        },
        {
         "alignmentgroup": "True",
         "hovertemplate": "reason=main<br>file=%{x}<br>count=%{y}<extra></extra>",
         "legendgroup": "main",
         "marker": {
          "color": "#B6E880",
          "pattern": {
           "shape": ""
          }
         },
         "name": "main",
         "offsetgroup": "main",
         "orientation": "v",
         "showlegend": true,
         "textposition": "auto",
         "x": [
          "main.go"
         ],
         "xaxis": "x",
         "y": [
          1
         ],
         "yaxis": "y",
         "type": "bar"
        }
       ],
       "layout": {
        "template": {
         "data": {
          "histogram2dcontour": [
           {
            "type": "histogram2dcontour",
            "colorbar": {
             "outlinewidth": 0,
             "ticks": ""
            },
            "colorscale": [
             [
              0.0,
              "#0d0887"
             ],
             [
              0.1111111111111111,
              "#46039f"
             ],
             [
              0.2222222222222222,
              "#7201a8"
             ],
             [
              0.3333333333333333,
              "#9c179e"
             ],
             [
              0.4444444444444444,
              "#bd3786"
             ],
             [
              0.5555555555555556,
              "#d8576b"
             ],
             [
              0.6666666666666666,
              "#ed7953"
             ],
             [
              0.7777777777777778,
              "#fb9f3a"
             ],
             [
              0.8888888888888888,
              "#fdca26"
             ],
             [
              1.0,
              "#f0f921"
             ]
            ]
           }
          ],
          "choropleth": [
           {
            "type": "choropleth",
            "colorbar": {
             "outlinewidth": 0,
             "ticks": ""
            }
           }
          ],
          "histogram2d": [
           {
            "type": "histogram2d",
            "colorbar": {
             "outlinewidth": 0,
             "ticks": ""
            },
            "colorscale": [
             [
              0.0,
              "#0d0887"
             ],
             [
              0.1111111111111111,
              "#46039f"
             ],
             [
              0.2222222222222222,
              "#7201a8"
             ],
             [
              0.3333333333333333,
              "#9c179e"
             ],
             [
              0.4444444444444444,
              "#bd3786"
             ],
             [
              0.5555555555555556,
              "#d8576b"
             ],
             [
              0.6666666666666666,
              "#ed7953"
             ],
             [
              0.7777777777777778,
              "#fb9f3a"
             ],
             [
              0.8888888888888888,
              "#fdca26"
             ],
             [
              1.0,
              "#f0f921"
             ]
            ]
           }
          ],
          "heatmap": [
           {
            "type": "heatmap",
            "colorbar": {
             "outlinewidth": 0,
             "ticks": ""
            },
            "colorscale": [
             [
              0.0,
              "#0d0887"
             ],
             [
              0.1111111111111111,
              "#46039f"
             ],
             [
              0.2222222222222222,
              "#7201a8"
             ],
             [
              0.3333333333333333,
              "#9c179e"
             ],
             [
              0.4444444444444444,
              "#bd3786"
             ],
             [
              0.5555555555555556,
              "#d8576b"
             ],
             [
              0.6666666666666666,
              "#ed7953"
             ],
             [
              0.7777777777777778,
              "#fb9f3a"
             ],
             [
              0.8888888888888888,
              "#fdca26"
             ],
             [
              1.0,
              "#f0f921"
             ]
            ]
           }
          ],
          "heatmapgl": [
           {
            "type": "heatmapgl",
            "colorbar": {
             "outlinewidth": 0,
             "ticks": ""
            },
            "colorscale": [
             [
              0.0,
              "#0d0887"
             ],
             [
              0.1111111111111111,
              "#46039f"
             ],
             [
              0.2222222222222222,
              "#7201a8"
             ],
             [
              0.3333333333333333,
              "#9c179e"
             ],
             [
              0.4444444444444444,
              "#bd3786"
             ],
             [
              0.5555555555555556,
              "#d8576b"
             ],
             [
              0.6666666666666666,
              "#ed7953"
             ],
             [
              0.7777777777777778,
              "#fb9f3a"
             ],
             [
              0.8888888888888888,
              "#fdca26"
             ],
             [
              1.0,
              "#f0f921"
             ]
            ]
           }
          ],
          "contourcarpet": [
           {
            "type": "contourcarpet",
            "colorbar": {
             "outlinewidth": 0,
             "ticks": ""
            }
           }
          ],
          "contour": [
           {
            "type": "contour",
            "colorbar": {
             "outlinewidth": 0,
             "ticks": ""
            },
            "colorscale": [
             [
              0.0,
              "#0d0887"
             ],
             [
              0.1111111111111111,
              "#46039f"
             ],
             [
              0.2222222222222222,
              "#7201a8"
             ],
             [
              0.3333333333333333,
              "#9c179e"
             ],
             [
              0.4444444444444444,
              "#bd3786"
             ],
             [
              0.5555555555555556,
              "#d8576b"
             ],
             [
              0.6666666666666666,
              "#ed7953"
             ],
             [
              0.7777777777777778,
              "#fb9f3a"
             ],
             [
              0.8888888888888888,
              "#fdca26"
             ],
             [
              1.0,
              "#f0f921"
             ]
            ]
           }
          ],
          "surface": [
           {
            "type": "surface",
            "colorbar": {
             "outlinewidth": 0,
             "ticks": ""
            },
            "colorscale": [
             [
              0.0,
              "#0d0887"
             ],
             [
              0.1111111111111111,
              "#46039f"
             ],
             [
              0.2222222222222222,
              "#7201a8"
             ],
             [
              0.3333333333333333,
              "#9c179e"
             ],
             [
              0.4444444444444444,
              "#bd3786"
             ],
             [
              0.5555555555555556,
              "#d8576b"
             ],
             [
              0.6666666666666666,
              "#ed7953"
             ],
             [
              0.7777777777777778,
              "#fb9f3a"
             ],
             [
              0.8888888888888888,
              "#fdca26"
             ],
             [
              1.0,
              "#f0f921"
             ]
            ]
           }
          ],
          "mesh3d": [
           {
            "type": "mesh3d",
            "colorbar": {
             "outlinewidth": 0,
             "ticks": ""
            }
           }
          ],
          "scatter": [
           {
            "fillpattern": {
             "fillmode": "overlay",
             "size": 10,
             "solidity": 0.2
            },
            "type": "scatter"
           }
          ],
          "parcoords": [
           {
            "type": "parcoords",
            "line": {
             "colorbar": {
              "outlinewidth": 0,
              "ticks": ""
             }
            }
           }
          ],
          "scatterpolargl": [
           {
            "type": "scatterpolargl",
            "marker": {
             "colorbar": {
              "outlinewidth": 0,
              "ticks": ""
             }
            }
           }
          ],
          "bar": [
           {
            "error_x": {
             "color": "#2a3f5f"
            },
            "error_y": {
             "color": "#2a3f5f"
            },
            "marker": {
             "line": {
              "color": "#E5ECF6",
              "width": 0.5
             },
             "pattern": {
              "fillmode": "overlay",
              "size": 10,
              "solidity": 0.2
             }
            },
            "type": "bar"
           }
          ],
          "scattergeo": [
           {
            "type": "scattergeo",
            "marker": {
             "colorbar": {
              "outlinewidth": 0,
              "ticks": ""
             }
            }
           }
          ],
          "scatterpolar": [
           {
            "type": "scatterpolar",
            "marker": {
             "colorbar": {
              "outlinewidth": 0,
              "ticks": ""
             }
            }
           }
          ],
          "histogram": [
           {
            "marker": {
             "pattern": {
              "fillmode": "overlay",
              "size": 10,
              "solidity": 0.2
             }
            },
            "type": "histogram"
           }
          ],
          "scattergl": [
           {
            "type": "scattergl",
            "marker": {
             "colorbar": {
              "outlinewidth": 0,
              "ticks": ""
             }
            }
           }
          ],
          "scatter3d": [
           {
            "type": "scatter3d",
            "line": {
             "colorbar": {
              "outlinewidth": 0,
              "ticks": ""
             }
            },
            "marker": {
             "colorbar": {
              "outlinewidth": 0,
              "ticks": ""
             }
            }
           }
          ],
          "scattermapbox": [
           {
            "type": "scattermapbox",
            "marker": {
             "colorbar": {
              "outlinewidth": 0,
              "ticks": ""
             }
            }
           }
          ],
          "scatterternary": [
           {
            "type": "scatterternary",
            "marker": {
             "colorbar": {
              "outlinewidth": 0,
              "ticks": ""
             }
            }
           }
          ],
          "scattercarpet": [
           {
            "type": "scattercarpet",
            "marker": {
             "colorbar": {
              "outlinewidth": 0,
              "ticks": ""
             }
            }
           }
          ],
          "carpet": [
           {
            "aaxis": {
             "endlinecolor": "#2a3f5f",
             "gridcolor": "white",
             "linecolor": "white",
             "minorgridcolor": "white",
             "startlinecolor": "#2a3f5f"
            },
            "baxis": {
             "endlinecolor": "#2a3f5f",
             "gridcolor": "white",
             "linecolor": "white",
             "minorgridcolor": "white",
             "startlinecolor": "#2a3f5f"
            },
            "type": "carpet"
           }
          ],
          "table": [
           {
            "cells": {
             "fill": {
              "color": "#EBF0F8"
             },
             "line": {
              "color": "white"
             }
            },
            "header": {
             "fill": {
              "color": "#C8D4E3"
             },
             "line": {
              "color": "white"
             }
            },
            "type": "table"
           }
          ],
          "barpolar": [
           {
            "marker": {
             "line": {
              "color": "#E5ECF6",
              "width": 0.5
             },
             "pattern": {
              "fillmode": "overlay",
              "size": 10,
              "solidity": 0.2
             }
            },
            "type": "barpolar"
           }
          ],
          "pie": [
           {
            "automargin": true,
            "type": "pie"
           }
          ]
         },
         "layout": {
          "autotypenumbers": "strict",
          "colorway": [
           "#636efa",
           "#EF553B",
           "#00cc96",
           "#ab63fa",
           "#FFA15A",
           "#19d3f3",
           "#FF6692",
           "#B6E880",
           "#FF97FF",
           "#FECB52"
          ],
          "font": {
           "color": "#2a3f5f"
          },
          "hovermode": "closest",
          "hoverlabel": {
           "align": "left"
          },
          "paper_bgcolor": "white",
          "plot_bgcolor": "#E5ECF6",
          "polar": {
           "bgcolor": "#E5ECF6",
           "angularaxis": {
            "gridcolor": "white",
            "linecolor": "white",
            "ticks": ""
           },
           "radialaxis": {
            "gridcolor": "white",
            "linecolor": "white",
            "ticks": ""
           }
          },
          "ternary": {
           "bgcolor": "#E5ECF6",
           "aaxis": {
            "gridcolor": "white",
            "linecolor": "white",
            "ticks": ""
           },
           "baxis": {
            "gridcolor": "white",
            "linecolor": "white",
            "ticks": ""
           },
           "caxis": {
            "gridcolor": "white",
            "linecolor": "white",
            "ticks": ""
           }
          },
          "coloraxis": {
           "colorbar": {
            "outlinewidth": 0,
            "ticks": ""
           }
          },
          "colorscale": {
           "sequential": [
            [
             0.0,
             "#0d0887"
            ],
            [
             0.1111111111111111,
             "#46039f"
            ],
            [
             0.2222222222222222,
             "#7201a8"
            ],
            [
             0.3333333333333333,
             "#9c179e"
            ],
            [
             0.4444444444444444,
             "#bd3786"
            ],
            [
             0.5555555555555556,
             "#d8576b"
            ],
            [
             0.6666666666666666,
             "#ed7953"
            ],
            [
             0.7777777777777778,
             "#fb9f3a"
            ],
            [
             0.8888888888888888,
             "#fdca26"
            ],
            [
             1.0,
             "#f0f921"
            ]
           ],
           "sequentialminus": [
            [
             0.0,
             "#0d0887"
            ],
            [
             0.1111111111111111,
             "#46039f"
            ],
            [
             0.2222222222222222,
             "#7201a8"
            ],
            [
             0.3333333333333333,
             "#9c179e"
            ],
            [
             0.4444444444444444,
             "#bd3786"
            ],
            [
             0.5555555555555556,
             "#d8576b"
            ],
            [
             0.6666666666666666,
             "#ed7953"
            ],
            [
             0.7777777777777778,
             "#fb9f3a"
            ],
            [
             0.8888888888888888,
             "#fdca26"
            ],
            [
             1.0,
             "#f0f921"
            ]
           ],
           "diverging": [
            [
             0,
             "#8e0152"
            ],
            [
             0.1,
             "#c51b7d"
            ],
            [
             0.2,
             "#de77ae"
            ],
            [
             0.3,
             "#f1b6da"
            ],
            [
             0.4,
             "#fde0ef"
            ],
            [
             0.5,
             "#f7f7f7"
            ],
            [
             0.6,
             "#e6f5d0"
            ],
            [
             0.7,
             "#b8e186"
            ],
            [
             0.8,
             "#7fbc41"
            ],
            [
             0.9,
             "#4d9221"
            ],
            [
             1,
             "#276419"
            ]
           ]
          },
          "xaxis": {
           "gridcolor": "white",
           "linecolor": "white",
           "ticks": "",
           "title": {
            "standoff": 15
           },
           "zerolinecolor": "white",
           "automargin": true,
           "zerolinewidth": 2
          },
          "yaxis": {
           "gridcolor": "white",
           "linecolor": "white",
           "ticks": "",
           "title": {
            "standoff": 15
           },
           "zerolinecolor": "white",
           "automargin": true,
           "zerolinewidth": 2
          },
          "scene": {
           "xaxis": {
            "backgroundcolor": "#E5ECF6",
            "gridcolor": "white",
            "linecolor": "white",
            "showbackground": true,
            "ticks": "",
            "zerolinecolor": "white",
            "gridwidth": 2
           },
           "yaxis": {
            "backgroundcolor": "#E5ECF6",
            "gridcolor": "white",
            "linecolor": "white",
            "showbackground": true,
            "ticks": "",
            "zerolinecolor": "white",
            "gridwidth": 2
           },
           "zaxis": {
            "backgroundcolor": "#E5ECF6",
            "gridcolor": "white",
            "linecolor": "white",
            "showbackground": true,
            "ticks": "",
            "zerolinecolor": "white",
            "gridwidth": 2
           }
          },
          "shapedefaults": {
           "line": {
            "color": "#2a3f5f"
           }
          },
          "annotationdefaults": {
           "arrowcolor": "#2a3f5f",
           "arrowhead": 0,
           "arrowwidth": 1
          },
          "geo": {
           "bgcolor": "white",
           "landcolor": "#E5ECF6",
           "subunitcolor": "white",
           "showland": true,
           "showlakes": true,
           "lakecolor": "white"
          },
          "title": {
           "x": 0.05
          },
          "mapbox": {
           "style": "light"
          }
         }
        },
        "xaxis": {
         "anchor": "y",
         "domain": [
          0.0,
          1.0
         ],
         "title": {
          "text": "file"
         }
        },
        "yaxis": {
         "anchor": "x",
         "domain": [
          0.0,
          1.0
         ],
         "title": {
          "text": "count"
         }
        },
        "legend": {
         "title": {
          "text": "reason"
         },
         "tracegroupgap": 0
        },
        "margin": {
         "t": 60
        },
        "barmode": "relative",
        "height": 700
       },
       "config": {
        "plotlyServerURL": "https://plot.ly"
       }
      },
      "text/html": "<div>                            <div id=\"d2293d9c-98d9-4891-9d89-5d6c9b50c473\" class=\"plotly-graph-div\" style=\"height:700px; width:100%;\"></div>            <script type=\"text/javascript\">                require([\"plotly\"], function(Plotly) {                    window.PLOTLYENV=window.PLOTLYENV || {};                                    if (document.getElementById(\"d2293d9c-98d9-4891-9d89-5d6c9b50c473\")) {                    Plotly.newPlot(                        \"d2293d9c-98d9-4891-9d89-5d6c9b50c473\",                        [{\"alignmentgroup\":\"True\",\"hovertemplate\":\"reason=ci\\u003cbr\\u003efile=%{x}\\u003cbr\\u003ecount=%{y}\\u003cextra\\u003e\\u003c\\u002fextra\\u003e\",\"legendgroup\":\"ci\",\"marker\":{\"color\":\"#636efa\",\"pattern\":{\"shape\":\"\"}},\"name\":\"ci\",\"offsetgroup\":\"ci\",\"orientation\":\"v\",\"showlegend\":true,\"textposition\":\"auto\",\"x\":[\".github\\u002fworkflows\\u002fbuild.yml\",\".github\\u002fworkflows\\u002frelease.yml\",\".goreleaser.yml\",\".travis.yml\"],\"xaxis\":\"x\",\"y\":[2,1,2,1],\"yaxis\":\"y\",\"type\":\"bar\"},{\"alignmentgroup\":\"True\",\"hovertemplate\":\"reason=chore\\u003cbr\\u003efile=%{x}\\u003cbr\\u003ecount=%{y}\\u003cextra\\u003e\\u003c\\u002fextra\\u003e\",\"legendgroup\":\"chore\",\"marker\":{\"color\":\"#EF553B\",\"pattern\":{\"shape\":\"\"}},\"name\":\"chore\",\"offsetgroup\":\"chore\",\"orientation\":\"v\",\"showlegend\":true,\"textposition\":\"auto\",\"x\":[\".github\\u002fworkflows\\u002fbuild.yml\",\".github\\u002fworkflows\\u002frelease.yml\",\".github\\u002fworkflows\\u002fcodeql.yml\",\"Dockerfile\",\"internal\\u002fclient\\u002fgithub.go\",\"www\\u002fdocs\\u002fstatic\\u002fschema.json\",\"internal\\u002fbuilders\\u002fgolang\\u002fbuild_test.go\",\"internal\\u002fpipe\\u002fdocker\\u002fdocker_test.go\",\"www\\u002fdocs\\u002fstatic\\u002fschema-pro.json\",\"internal\\u002fpipe\\u002fbrew\\u002fbrew.go\",\"main.go\",\".goreleaser.yml\",\"www\\u002fmkdocs.yml\",\"internal\\u002fartifact\\u002fartifact.go\",\"internal\\u002fpipe\\u002fbrew\\u002fbrew_test.go\",\"internal\\u002fpipe\\u002fnfpm\\u002fnfpm.go\",\"internal\\u002fpipe\\u002fnfpm\\u002fnfpm_test.go\",\"internal\\u002fbuilders\\u002fgolang\\u002fbuild.go\",\"pkg\\u002fconfig\\u002fconfig.go\",\"internal\\u002fpipe\\u002fdocker\\u002fdocker.go\",\".travis.yml\",\"config\\u002fconfig.go\",\"pipeline\\u002fbrew\\u002fbrew.go\",\"pipeline\\u002fbrew\\u002fbrew_test.go\",\"pipeline\\u002frelease\\u002frelease.go\",\"pipeline\\u002fbuild\\u002fbuild.go\",\"pipeline\\u002ffpm\\u002ffpm.go\"],\"xaxis\":\"x\",\"y\":[200,130,84,24,11,62,3,4,38,7,5,25,1,4,3,6,2,3,3,5,21,1,1,1,1,1,2],\"yaxis\":\"y\",\"type\":\"bar\"},{\"alignmentgroup\":\"True\",\"hovertemplate\":\"reason=docs\\u003cbr\\u003efile=%{x}\\u003cbr\\u003ecount=%{y}\\u003cextra\\u003e\\u003c\\u002fextra\\u003e\",\"legendgroup\":\"docs\",\"marker\":{\"color\":\"#00cc96\",\"pattern\":{\"shape\":\"\"}},\"name\":\"docs\",\"offsetgroup\":\"docs\",\"orientation\":\"v\",\"showlegend\":true,\"textposition\":\"auto\",\"x\":[\"www\\u002fmkdocs.yml\",\"www\\u002fdocs\\u002fstatic\\u002fschema-pro.json\",\"README.md\",\"www\\u002fdocs\\u002fstatic\\u002fschema.json\",\"pkg\\u002fconfig\\u002fconfig.go\",\"internal\\u002fbuilders\\u002fgolang\\u002fbuild_test.go\",\"internal\\u002fclient\\u002fgithub.go\",\"internal\\u002fpipe\\u002fnfpm\\u002fnfpm_test.go\",\".github\\u002fworkflows\\u002frelease.yml\",\"internal\\u002fpipe\\u002fnfpm\\u002fnfpm.go\",\".goreleaser.yml\",\".github\\u002fworkflows\\u002fbuild.yml\",\".travis.yml\",\"internal\\u002fpipe\\u002fbrew\\u002fbrew.go\",\"config\\u002fconfig.go\"],\"xaxis\":\"x\",\"y\":[82,67,31,30,3,1,1,1,2,1,2,1,11,1,2],\"yaxis\":\"y\",\"type\":\"bar\"},{\"alignmentgroup\":\"True\",\"hovertemplate\":\"reason=feat\\u003cbr\\u003efile=%{x}\\u003cbr\\u003ecount=%{y}\\u003cextra\\u003e\\u003c\\u002fextra\\u003e\",\"legendgroup\":\"feat\",\"marker\":{\"color\":\"#ab63fa\",\"pattern\":{\"shape\":\"\"}},\"name\":\"feat\",\"offsetgroup\":\"feat\",\"orientation\":\"v\",\"showlegend\":true,\"textposition\":\"auto\",\"x\":[\"pkg\\u002fconfig\\u002fconfig.go\",\"www\\u002fmkdocs.yml\",\"internal\\u002fpipe\\u002fnfpm\\u002fnfpm.go\",\"internal\\u002fpipe\\u002fnfpm\\u002fnfpm_test.go\",\"internal\\u002fbuilders\\u002fgolang\\u002fbuild.go\",\"internal\\u002fbuilders\\u002fgolang\\u002fbuild_test.go\",\"internal\\u002fclient\\u002fgithub.go\",\"internal\\u002fpipe\\u002fbrew\\u002fbrew.go\",\"internal\\u002fpipe\\u002fbrew\\u002fbrew_test.go\",\"internal\\u002fpipe\\u002fdocker\\u002fdocker.go\",\"internal\\u002fpipe\\u002fdocker\\u002fdocker_test.go\",\"main.go\",\"internal\\u002fartifact\\u002fartifact.go\",\".github\\u002fworkflows\\u002frelease.yml\",\"www\\u002fdocs\\u002fstatic\\u002fschema-pro.json\",\"www\\u002fdocs\\u002fstatic\\u002fschema.json\",\"Dockerfile\",\".github\\u002fworkflows\\u002fbuild.yml\",\".github\\u002fworkflows\\u002fcodeql.yml\",\".goreleaser.yml\",\"README.md\",\".travis.yml\",\"config\\u002fconfig.go\",\"pipeline\\u002fbrew\\u002fbrew.go\",\"pipeline\\u002fbrew\\u002fbrew_test.go\",\"context\\u002fcontext.go\",\"pipeline\\u002fdefaults\\u002fdefaults.go\",\"pipeline\\u002frelease\\u002frelease.go\",\"pipeline\\u002fbuild\\u002fbuild.go\",\"pipeline\\u002ffpm\\u002ffpm.go\"],\"xaxis\":\"x\",\"y\":[247,33,57,46,35,33,49,48,45,37,36,20,44,5,5,22,74,25,1,38,1,6,42,7,8,7,12,4,5,6],\"yaxis\":\"y\",\"type\":\"bar\"},{\"alignmentgroup\":\"True\",\"hovertemplate\":\"reason=Merge\\u003cbr\\u003efile=%{x}\\u003cbr\\u003ecount=%{y}\\u003cextra\\u003e\\u003c\\u002fextra\\u003e\",\"legendgroup\":\"Merge\",\"marker\":{\"color\":\"#FFA15A\",\"pattern\":{\"shape\":\"\"}},\"name\":\"Merge\",\"offsetgroup\":\"Merge\",\"orientation\":\"v\",\"showlegend\":true,\"textposition\":\"auto\",\"x\":[\".github\\u002fworkflows\\u002fbuild.yml\",\".github\\u002fworkflows\\u002frelease.yml\",\"internal\\u002fbuilders\\u002fgolang\\u002fbuild.go\",\"pkg\\u002fconfig\\u002fconfig.go\",\".github\\u002fworkflows\\u002fcodeql.yml\",\"Dockerfile\",\"internal\\u002fbuilders\\u002fgolang\\u002fbuild_test.go\",\"internal\\u002fpipe\\u002fnfpm\\u002fnfpm.go\",\"internal\\u002fpipe\\u002fnfpm\\u002fnfpm_test.go\",\"www\\u002fdocs\\u002fstatic\\u002fschema-pro.json\",\"www\\u002fdocs\\u002fstatic\\u002fschema.json\",\"internal\\u002fpipe\\u002fbrew\\u002fbrew.go\",\"internal\\u002fpipe\\u002fbrew\\u002fbrew_test.go\",\"internal\\u002fclient\\u002fgithub.go\",\"internal\\u002fpipe\\u002fdocker\\u002fdocker.go\",\"internal\\u002fpipe\\u002fdocker\\u002fdocker_test.go\",\"main.go\",\"pipeline\\u002fbrew\\u002fbrew.go\",\"pipeline\\u002fbrew\\u002fbrew_test.go\",\"pipeline\\u002fbuild\\u002fbuild.go\",\"pipeline\\u002frelease\\u002frelease.go\",\".travis.yml\",\"config\\u002fconfig.go\",\"README.md\",\"context\\u002fcontext.go\",\".goreleaser.yml\",\"pipeline\\u002ffpm\\u002ffpm.go\",\"pipeline\\u002fdefaults\\u002fdefaults.go\",\"internal\\u002fartifact\\u002fartifact.go\"],\"xaxis\":\"x\",\"y\":[4,5,8,5,2,2,5,2,2,2,3,2,2,20,1,1,48,69,50,56,50,30,82,88,41,16,36,39,1],\"yaxis\":\"y\",\"type\":\"bar\"},{\"alignmentgroup\":\"True\",\"hovertemplate\":\"reason=fix\\u003cbr\\u003efile=%{x}\\u003cbr\\u003ecount=%{y}\\u003cextra\\u003e\\u003c\\u002fextra\\u003e\",\"legendgroup\":\"fix\",\"marker\":{\"color\":\"#19d3f3\",\"pattern\":{\"shape\":\"\"}},\"name\":\"fix\",\"offsetgroup\":\"fix\",\"orientation\":\"v\",\"showlegend\":true,\"textposition\":\"auto\",\"x\":[\"pkg\\u002fconfig\\u002fconfig.go\",\"www\\u002fdocs\\u002fstatic\\u002fschema.json\",\"internal\\u002fclient\\u002fgithub.go\",\".github\\u002fworkflows\\u002fbuild.yml\",\".github\\u002fworkflows\\u002frelease.yml\",\"internal\\u002fbuilders\\u002fgolang\\u002fbuild.go\",\"internal\\u002fbuilders\\u002fgolang\\u002fbuild_test.go\",\"internal\\u002fartifact\\u002fartifact.go\",\"internal\\u002fpipe\\u002fdocker\\u002fdocker.go\",\"main.go\",\"internal\\u002fpipe\\u002fnfpm\\u002fnfpm.go\",\"internal\\u002fpipe\\u002fnfpm\\u002fnfpm_test.go\",\"internal\\u002fpipe\\u002fbrew\\u002fbrew.go\",\"internal\\u002fpipe\\u002fdocker\\u002fdocker_test.go\",\"Dockerfile\",\"internal\\u002fpipe\\u002fbrew\\u002fbrew_test.go\",\"www\\u002fdocs\\u002fstatic\\u002fschema-pro.json\",\".github\\u002fworkflows\\u002fcodeql.yml\",\"www\\u002fmkdocs.yml\",\".goreleaser.yml\",\".travis.yml\",\"pipeline\\u002fbrew\\u002fbrew_test.go\",\"pipeline\\u002fbrew\\u002fbrew.go\",\"pipeline\\u002fbuild\\u002fbuild.go\",\"config\\u002fconfig.go\",\"README.md\",\"pipeline\\u002fdefaults\\u002fdefaults.go\",\"pipeline\\u002frelease\\u002frelease.go\",\"pipeline\\u002ffpm\\u002ffpm.go\",\"context\\u002fcontext.go\"],\"xaxis\":\"x\",\"y\":[60,20,40,20,3,32,26,23,34,23,33,20,41,26,18,29,3,4,5,33,8,16,14,7,8,2,4,7,7,4],\"yaxis\":\"y\",\"type\":\"bar\"},{\"alignmentgroup\":\"True\",\"hovertemplate\":\"reason=chore(deps):\\u003cbr\\u003efile=%{x}\\u003cbr\\u003ecount=%{y}\\u003cextra\\u003e\\u003c\\u002fextra\\u003e\",\"legendgroup\":\"chore(deps):\",\"marker\":{\"color\":\"#FF6692\",\"pattern\":{\"shape\":\"\"}},\"name\":\"chore(deps):\",\"offsetgroup\":\"chore(deps):\",\"orientation\":\"v\",\"showlegend\":true,\"textposition\":\"auto\",\"x\":[\"Dockerfile\"],\"xaxis\":\"x\",\"y\":[1],\"yaxis\":\"y\",\"type\":\"bar\"},{\"alignmentgroup\":\"True\",\"hovertemplate\":\"reason=test\\u003cbr\\u003efile=%{x}\\u003cbr\\u003ecount=%{y}\\u003cextra\\u003e\\u003c\\u002fextra\\u003e\",\"legendgroup\":\"test\",\"marker\":{\"color\":\"#B6E880\",\"pattern\":{\"shape\":\"\"}},\"name\":\"test\",\"offsetgroup\":\"test\",\"orientation\":\"v\",\"showlegend\":true,\"textposition\":\"auto\",\"x\":[\"internal\\u002fpipe\\u002fnfpm\\u002fnfpm_test.go\",\"internal\\u002fbuilders\\u002fgolang\\u002fbuild_test.go\",\"internal\\u002fpipe\\u002fdocker\\u002fdocker_test.go\",\"internal\\u002fpipe\\u002fbrew\\u002fbrew_test.go\",\"internal\\u002fpipe\\u002fdocker\\u002fdocker.go\",\"internal\\u002fpipe\\u002fnfpm\\u002fnfpm.go\",\"internal\\u002fartifact\\u002fartifact.go\",\"internal\\u002fbuilders\\u002fgolang\\u002fbuild.go\",\"main.go\",\"pipeline\\u002fbrew\\u002fbrew_test.go\",\"pipeline\\u002ffpm\\u002ffpm.go\",\"pipeline\\u002frelease\\u002frelease.go\",\"pipeline\\u002fdefaults\\u002fdefaults.go\",\"pipeline\\u002fbuild\\u002fbuild.go\"],\"xaxis\":\"x\",\"y\":[12,14,14,3,3,1,1,1,1,2,1,1,1,1],\"yaxis\":\"y\",\"type\":\"bar\"},{\"alignmentgroup\":\"True\",\"hovertemplate\":\"reason=refactor\\u003cbr\\u003efile=%{x}\\u003cbr\\u003ecount=%{y}\\u003cextra\\u003e\\u003c\\u002fextra\\u003e\",\"legendgroup\":\"refactor\",\"marker\":{\"color\":\"#FF97FF\",\"pattern\":{\"shape\":\"\"}},\"name\":\"refactor\",\"offsetgroup\":\"refactor\",\"orientation\":\"v\",\"showlegend\":true,\"textposition\":\"auto\",\"x\":[\"internal\\u002fartifact\\u002fartifact.go\",\"internal\\u002fpipe\\u002fdocker\\u002fdocker.go\",\"internal\\u002fpipe\\u002fdocker\\u002fdocker_test.go\",\"internal\\u002fpipe\\u002fnfpm\\u002fnfpm.go\",\"pkg\\u002fconfig\\u002fconfig.go\",\"internal\\u002fpipe\\u002fbrew\\u002fbrew.go\",\"internal\\u002fpipe\\u002fbrew\\u002fbrew_test.go\",\"internal\\u002fclient\\u002fgithub.go\",\"internal\\u002fpipe\\u002fnfpm\\u002fnfpm_test.go\",\"internal\\u002fbuilders\\u002fgolang\\u002fbuild.go\",\"www\\u002fdocs\\u002fstatic\\u002fschema-pro.json\",\"www\\u002fdocs\\u002fstatic\\u002fschema.json\",\"internal\\u002fbuilders\\u002fgolang\\u002fbuild_test.go\",\".goreleaser.yml\",\"main.go\",\"config\\u002fconfig.go\",\"context\\u002fcontext.go\",\"pipeline\\u002fbrew\\u002fbrew.go\",\"pipeline\\u002fbrew\\u002fbrew_test.go\",\"pipeline\\u002fbuild\\u002fbuild.go\",\"pipeline\\u002fdefaults\\u002fdefaults.go\",\"pipeline\\u002ffpm\\u002ffpm.go\",\"pipeline\\u002frelease\\u002frelease.go\",\".travis.yml\"],\"xaxis\":\"x\",\"y\":[18,13,16,10,11,11,15,6,8,9,2,1,11,3,6,6,4,6,4,16,4,7,6,2],\"yaxis\":\"y\",\"type\":\"bar\"},{\"alignmentgroup\":\"True\",\"hovertemplate\":\"reason=build\\u003cbr\\u003efile=%{x}\\u003cbr\\u003ecount=%{y}\\u003cextra\\u003e\\u003c\\u002fextra\\u003e\",\"legendgroup\":\"build\",\"marker\":{\"color\":\"#FECB52\",\"pattern\":{\"shape\":\"\"}},\"name\":\"build\",\"offsetgroup\":\"build\",\"orientation\":\"v\",\"showlegend\":true,\"textposition\":\"auto\",\"x\":[\".github\\u002fworkflows\\u002fbuild.yml\",\".github\\u002fworkflows\\u002frelease.yml\",\"www\\u002fdocs\\u002fstatic\\u002fschema-pro.json\",\"www\\u002fdocs\\u002fstatic\\u002fschema.json\",\".github\\u002fworkflows\\u002fcodeql.yml\",\"Dockerfile\"],\"xaxis\":\"x\",\"y\":[8,7,2,1,2,1],\"yaxis\":\"y\",\"type\":\"bar\"},{\"alignmentgroup\":\"True\",\"hovertemplate\":\"reason=Revert\\u003cbr\\u003efile=%{x}\\u003cbr\\u003ecount=%{y}\\u003cextra\\u003e\\u003c\\u002fextra\\u003e\",\"legendgroup\":\"Revert\",\"marker\":{\"color\":\"#636efa\",\"pattern\":{\"shape\":\"\"}},\"name\":\"Revert\",\"offsetgroup\":\"Revert\",\"orientation\":\"v\",\"showlegend\":true,\"textposition\":\"auto\",\"x\":[\".github\\u002fworkflows\\u002fbuild.yml\",\".github\\u002fworkflows\\u002frelease.yml\",\"internal\\u002fclient\\u002fgithub.go\",\".goreleaser.yml\",\".travis.yml\",\"internal\\u002fartifact\\u002fartifact.go\",\"config\\u002fconfig.go\"],\"xaxis\":\"x\",\"y\":[2,1,4,2,6,1,1],\"yaxis\":\"y\",\"type\":\"bar\"},{\"alignmentgroup\":\"True\",\"hovertemplate\":\"reason=adjusted\\u003cbr\\u003efile=%{x}\\u003cbr\\u003ecount=%{y}\\u003cextra\\u003e\\u003c\\u002fextra\\u003e\",\"legendgroup\":\"adjusted\",\"marker\":{\"color\":\"#EF553B\",\"pattern\":{\"shape\":\"\"}},\"name\":\"adjusted\",\"offsetgroup\":\"adjusted\",\"orientation\":\"v\",\"showlegend\":true,\"textposition\":\"auto\",\"x\":[\"internal\\u002fpipe\\u002fdocker\\u002fdocker.go\"],\"xaxis\":\"x\",\"y\":[1],\"yaxis\":\"y\",\"type\":\"bar\"},{\"alignmentgroup\":\"True\",\"hovertemplate\":\"reason=switched\\u003cbr\\u003efile=%{x}\\u003cbr\\u003ecount=%{y}\\u003cextra\\u003e\\u003c\\u002fextra\\u003e\",\"legendgroup\":\"switched\",\"marker\":{\"color\":\"#00cc96\",\"pattern\":{\"shape\":\"\"}},\"name\":\"switched\",\"offsetgroup\":\"switched\",\"orientation\":\"v\",\"showlegend\":true,\"textposition\":\"auto\",\"x\":[\"internal\\u002fpipe\\u002fdocker\\u002fdocker.go\"],\"xaxis\":\"x\",\"y\":[1],\"yaxis\":\"y\",\"type\":\"bar\"},{\"alignmentgroup\":\"True\",\"hovertemplate\":\"reason=more\\u003cbr\\u003efile=%{x}\\u003cbr\\u003ecount=%{y}\\u003cextra\\u003e\\u003c\\u002fextra\\u003e\",\"legendgroup\":\"more\",\"marker\":{\"color\":\"#ab63fa\",\"pattern\":{\"shape\":\"\"}},\"name\":\"more\",\"offsetgroup\":\"more\",\"orientation\":\"v\",\"showlegend\":true,\"textposition\":\"auto\",\"x\":[\"internal\\u002fpipe\\u002fdocker\\u002fdocker.go\",\"pipeline\\u002frelease\\u002frelease.go\",\"pipeline\\u002fbrew\\u002fbrew_test.go\",\"config\\u002fconfig.go\",\"pipeline\\u002fbrew\\u002fbrew.go\",\"pipeline\\u002fbuild\\u002fbuild.go\",\"pipeline\\u002fdefaults\\u002fdefaults.go\",\"pipeline\\u002ffpm\\u002ffpm.go\"],\"xaxis\":\"x\",\"y\":[1,2,2,1,1,1,1,1],\"yaxis\":\"y\",\"type\":\"bar\"},{\"alignmentgroup\":\"True\",\"hovertemplate\":\"reason=Support\\u003cbr\\u003efile=%{x}\\u003cbr\\u003ecount=%{y}\\u003cextra\\u003e\\u003c\\u002fextra\\u003e\",\"legendgroup\":\"Support\",\"marker\":{\"color\":\"#FFA15A\",\"pattern\":{\"shape\":\"\"}},\"name\":\"Support\",\"offsetgroup\":\"Support\",\"orientation\":\"v\",\"showlegend\":true,\"textposition\":\"auto\",\"x\":[\"internal\\u002fclient\\u002fgithub.go\",\"pkg\\u002fconfig\\u002fconfig.go\"],\"xaxis\":\"x\",\"y\":[1,1],\"yaxis\":\"y\",\"type\":\"bar\"},{\"alignmentgroup\":\"True\",\"hovertemplate\":\"reason=revert\\u003cbr\\u003efile=%{x}\\u003cbr\\u003ecount=%{y}\\u003cextra\\u003e\\u003c\\u002fextra\\u003e\",\"legendgroup\":\"revert\",\"marker\":{\"color\":\"#19d3f3\",\"pattern\":{\"shape\":\"\"}},\"name\":\"revert\",\"offsetgroup\":\"revert\",\"orientation\":\"v\",\"showlegend\":true,\"textposition\":\"auto\",\"x\":[\"internal\\u002fclient\\u002fgithub.go\",\"pipeline\\u002fbrew\\u002fbrew.go\",\"main.go\"],\"xaxis\":\"x\",\"y\":[1,1,2],\"yaxis\":\"y\",\"type\":\"bar\"},{\"alignmentgroup\":\"True\",\"hovertemplate\":\"reason=feat:\\u003cbr\\u003efile=%{x}\\u003cbr\\u003ecount=%{y}\\u003cextra\\u003e\\u003c\\u002fextra\\u003e\",\"legendgroup\":\"feat:\",\"marker\":{\"color\":\"#FF6692\",\"pattern\":{\"shape\":\"\"}},\"name\":\"feat:\",\"offsetgroup\":\"feat:\",\"orientation\":\"v\",\"showlegend\":true,\"textposition\":\"auto\",\"x\":[\"internal\\u002fpipe\\u002fnfpm\\u002fnfpm.go\",\"pkg\\u002fconfig\\u002fconfig.go\"],\"xaxis\":\"x\",\"y\":[1,1],\"yaxis\":\"y\",\"type\":\"bar\"},{\"alignmentgroup\":\"True\",\"hovertemplate\":\"reason=refactory\\u003cbr\\u003efile=%{x}\\u003cbr\\u003ecount=%{y}\\u003cextra\\u003e\\u003c\\u002fextra\\u003e\",\"legendgroup\":\"refactory\",\"marker\":{\"color\":\"#B6E880\",\"pattern\":{\"shape\":\"\"}},\"name\":\"refactory\",\"offsetgroup\":\"refactory\",\"orientation\":\"v\",\"showlegend\":true,\"textposition\":\"auto\",\"x\":[\"internal\\u002fartifact\\u002fartifact.go\",\"config\\u002fconfig.go\",\"pipeline\\u002fbrew\\u002fbrew.go\",\"pipeline\\u002fbuild\\u002fbuild.go\",\"pipeline\\u002frelease\\u002frelease.go\"],\"xaxis\":\"x\",\"y\":[1,1,1,1,1],\"yaxis\":\"y\",\"type\":\"bar\"},{\"alignmentgroup\":\"True\",\"hovertemplate\":\"reason=Add\\u003cbr\\u003efile=%{x}\\u003cbr\\u003ecount=%{y}\\u003cextra\\u003e\\u003c\\u002fextra\\u003e\",\"legendgroup\":\"Add\",\"marker\":{\"color\":\"#FF97FF\",\"pattern\":{\"shape\":\"\"}},\"name\":\"Add\",\"offsetgroup\":\"Add\",\"orientation\":\"v\",\"showlegend\":true,\"textposition\":\"auto\",\"x\":[\"pkg\\u002fconfig\\u002fconfig.go\",\"www\\u002fmkdocs.yml\",\"config\\u002fconfig.go\",\"internal\\u002fclient\\u002fgithub.go\",\"pipeline\\u002fdefaults\\u002fdefaults.go\",\"README.md\",\"pipeline\\u002ffpm\\u002ffpm.go\",\"pipeline\\u002fbrew\\u002fbrew.go\",\"pipeline\\u002fbuild\\u002fbuild.go\",\"context\\u002fcontext.go\",\"main.go\"],\"xaxis\":\"x\",\"y\":[1,1,6,1,2,8,4,1,1,1,1],\"yaxis\":\"y\",\"type\":\"bar\"},{\"alignmentgroup\":\"True\",\"hovertemplate\":\"reason=Do\\u003cbr\\u003efile=%{x}\\u003cbr\\u003ecount=%{y}\\u003cextra\\u003e\\u003c\\u002fextra\\u003e\",\"legendgroup\":\"Do\",\"marker\":{\"color\":\"#FECB52\",\"pattern\":{\"shape\":\"\"}},\"name\":\"Do\",\"offsetgroup\":\"Do\",\"orientation\":\"v\",\"showlegend\":true,\"textposition\":\"auto\",\"x\":[\"internal\\u002fclient\\u002fgithub.go\"],\"xaxis\":\"x\",\"y\":[1],\"yaxis\":\"y\",\"type\":\"bar\"},{\"alignmentgroup\":\"True\",\"hovertemplate\":\"reason=add\\u003cbr\\u003efile=%{x}\\u003cbr\\u003ecount=%{y}\\u003cextra\\u003e\\u003c\\u002fextra\\u003e\",\"legendgroup\":\"add\",\"marker\":{\"color\":\"#636efa\",\"pattern\":{\"shape\":\"\"}},\"name\":\"add\",\"offsetgroup\":\"add\",\"orientation\":\"v\",\"showlegend\":true,\"textposition\":\"auto\",\"x\":[\"www\\u002fmkdocs.yml\",\".goreleaser.yml\",\"config\\u002fconfig.go\",\"pipeline\\u002fdefaults\\u002fdefaults.go\"],\"xaxis\":\"x\",\"y\":[1,2,2,1],\"yaxis\":\"y\",\"type\":\"bar\"},{\"alignmentgroup\":\"True\",\"hovertemplate\":\"reason=Use\\u003cbr\\u003efile=%{x}\\u003cbr\\u003ecount=%{y}\\u003cextra\\u003e\\u003c\\u002fextra\\u003e\",\"legendgroup\":\"Use\",\"marker\":{\"color\":\"#EF553B\",\"pattern\":{\"shape\":\"\"}},\"name\":\"Use\",\"offsetgroup\":\"Use\",\"orientation\":\"v\",\"showlegend\":true,\"textposition\":\"auto\",\"x\":[\"internal\\u002fpipe\\u002fnfpm\\u002fnfpm.go\",\"internal\\u002fpipe\\u002fnfpm\\u002fnfpm_test.go\",\"README.md\",\"config\\u002fconfig.go\",\"pipeline\\u002fbrew\\u002fbrew.go\",\"pipeline\\u002fbrew\\u002fbrew_test.go\",\"pipeline\\u002fbuild\\u002fbuild.go\",\"pipeline\\u002ffpm\\u002ffpm.go\"],\"xaxis\":\"x\",\"y\":[1,1,2,1,1,1,2,1],\"yaxis\":\"y\",\"type\":\"bar\"},{\"alignmentgroup\":\"True\",\"hovertemplate\":\"reason=Fix\\u003cbr\\u003efile=%{x}\\u003cbr\\u003ecount=%{y}\\u003cextra\\u003e\\u003c\\u002fextra\\u003e\",\"legendgroup\":\"Fix\",\"marker\":{\"color\":\"#00cc96\",\"pattern\":{\"shape\":\"\"}},\"name\":\"Fix\",\"offsetgroup\":\"Fix\",\"orientation\":\"v\",\"showlegend\":true,\"textposition\":\"auto\",\"x\":[\"Dockerfile\",\"README.md\"],\"xaxis\":\"x\",\"y\":[1,5],\"yaxis\":\"y\",\"type\":\"bar\"},{\"alignmentgroup\":\"True\",\"hovertemplate\":\"reason=clean\\u003cbr\\u003efile=%{x}\\u003cbr\\u003ecount=%{y}\\u003cextra\\u003e\\u003c\\u002fextra\\u003e\",\"legendgroup\":\"clean\",\"marker\":{\"color\":\"#ab63fa\",\"pattern\":{\"shape\":\"\"}},\"name\":\"clean\",\"offsetgroup\":\"clean\",\"orientation\":\"v\",\"showlegend\":true,\"textposition\":\"auto\",\"x\":[\"internal\\u002fpipe\\u002fdocker\\u002fdocker_test.go\",\"internal\\u002fpipe\\u002fdocker\\u002fdocker.go\",\"pkg\\u002fconfig\\u002fconfig.go\",\"main.go\"],\"xaxis\":\"x\",\"y\":[2,1,4,1],\"yaxis\":\"y\",\"type\":\"bar\"},{\"alignmentgroup\":\"True\",\"hovertemplate\":\"reason=&base\\u003cbr\\u003efile=%{x}\\u003cbr\\u003ecount=%{y}\\u003cextra\\u003e\\u003c\\u002fextra\\u003e\",\"legendgroup\":\"&base\",\"marker\":{\"color\":\"#FFA15A\",\"pattern\":{\"shape\":\"\"}},\"name\":\"&base\",\"offsetgroup\":\"&base\",\"orientation\":\"v\",\"showlegend\":true,\"textposition\":\"auto\",\"x\":[\"internal\\u002fclient\\u002fgithub.go\"],\"xaxis\":\"x\",\"y\":[1],\"yaxis\":\"y\",\"type\":\"bar\"},{\"alignmentgroup\":\"True\",\"hovertemplate\":\"reason=Set\\u003cbr\\u003efile=%{x}\\u003cbr\\u003ecount=%{y}\\u003cextra\\u003e\\u003c\\u002fextra\\u003e\",\"legendgroup\":\"Set\",\"marker\":{\"color\":\"#19d3f3\",\"pattern\":{\"shape\":\"\"}},\"name\":\"Set\",\"offsetgroup\":\"Set\",\"orientation\":\"v\",\"showlegend\":true,\"textposition\":\"auto\",\"x\":[\".goreleaser.yml\"],\"xaxis\":\"x\",\"y\":[1],\"yaxis\":\"y\",\"type\":\"bar\"},{\"alignmentgroup\":\"True\",\"hovertemplate\":\"reason=refactor\\u002ffix:\\u003cbr\\u003efile=%{x}\\u003cbr\\u003ecount=%{y}\\u003cextra\\u003e\\u003c\\u002fextra\\u003e\",\"legendgroup\":\"refactor\\u002ffix:\",\"marker\":{\"color\":\"#FF6692\",\"pattern\":{\"shape\":\"\"}},\"name\":\"refactor\\u002ffix:\",\"offsetgroup\":\"refactor\\u002ffix:\",\"orientation\":\"v\",\"showlegend\":true,\"textposition\":\"auto\",\"x\":[\"main.go\"],\"xaxis\":\"x\",\"y\":[1],\"yaxis\":\"y\",\"type\":\"bar\"},{\"alignmentgroup\":\"True\",\"hovertemplate\":\"reason=Optimized\\u003cbr\\u003efile=%{x}\\u003cbr\\u003ecount=%{y}\\u003cextra\\u003e\\u003c\\u002fextra\\u003e\",\"legendgroup\":\"Optimized\",\"marker\":{\"color\":\"#B6E880\",\"pattern\":{\"shape\":\"\"}},\"name\":\"Optimized\",\"offsetgroup\":\"Optimized\",\"orientation\":\"v\",\"showlegend\":true,\"textposition\":\"auto\",\"x\":[\"Dockerfile\"],\"xaxis\":\"x\",\"y\":[1],\"yaxis\":\"y\",\"type\":\"bar\"},{\"alignmentgroup\":\"True\",\"hovertemplate\":\"reason=wip\\u003cbr\\u003efile=%{x}\\u003cbr\\u003ecount=%{y}\\u003cextra\\u003e\\u003c\\u002fextra\\u003e\",\"legendgroup\":\"wip\",\"marker\":{\"color\":\"#FF97FF\",\"pattern\":{\"shape\":\"\"}},\"name\":\"wip\",\"offsetgroup\":\"wip\",\"orientation\":\"v\",\"showlegend\":true,\"textposition\":\"auto\",\"x\":[\"internal\\u002fpipe\\u002fbrew\\u002fbrew.go\",\"internal\\u002fbuilders\\u002fgolang\\u002fbuild.go\",\"pipeline\\u002fbuild\\u002fbuild.go\",\"pipeline\\u002fbrew\\u002fbrew.go\",\"pipeline\\u002fbrew\\u002fbrew_test.go\",\"config\\u002fconfig.go\",\"internal\\u002fclient\\u002fgithub.go\",\"pipeline\\u002fdefaults\\u002fdefaults.go\",\"context\\u002fcontext.go\",\"main.go\",\"pipeline\\u002frelease\\u002frelease.go\"],\"xaxis\":\"x\",\"y\":[1,1,5,5,1,4,1,3,2,3,1],\"yaxis\":\"y\",\"type\":\"bar\"},{\"alignmentgroup\":\"True\",\"hovertemplate\":\"reason=bump\\u003cbr\\u003efile=%{x}\\u003cbr\\u003ecount=%{y}\\u003cextra\\u003e\\u003c\\u002fextra\\u003e\",\"legendgroup\":\"bump\",\"marker\":{\"color\":\"#FECB52\",\"pattern\":{\"shape\":\"\"}},\"name\":\"bump\",\"offsetgroup\":\"bump\",\"orientation\":\"v\",\"showlegend\":true,\"textposition\":\"auto\",\"x\":[\".travis.yml\"],\"xaxis\":\"x\",\"y\":[1],\"yaxis\":\"y\",\"type\":\"bar\"},{\"alignmentgroup\":\"True\",\"hovertemplate\":\"reason=style\\u003cbr\\u003efile=%{x}\\u003cbr\\u003ecount=%{y}\\u003cextra\\u003e\\u003c\\u002fextra\\u003e\",\"legendgroup\":\"style\",\"marker\":{\"color\":\"#636efa\",\"pattern\":{\"shape\":\"\"}},\"name\":\"style\",\"offsetgroup\":\"style\",\"orientation\":\"v\",\"showlegend\":true,\"textposition\":\"auto\",\"x\":[\"main.go\",\"pipeline\\u002fdefaults\\u002fdefaults.go\",\".travis.yml\",\"internal\\u002fclient\\u002fgithub.go\",\"config\\u002fconfig.go\",\"internal\\u002fbuilders\\u002fgolang\\u002fbuild.go\",\"internal\\u002fbuilders\\u002fgolang\\u002fbuild_test.go\",\"pipeline\\u002fbuild\\u002fbuild.go\",\"context\\u002fcontext.go\",\"pipeline\\u002ffpm\\u002ffpm.go\"],\"xaxis\":\"x\",\"y\":[2,2,1,1,4,2,1,2,1,1],\"yaxis\":\"y\",\"type\":\"bar\"},{\"alignmentgroup\":\"True\",\"hovertemplate\":\"reason=*\\u003cbr\\u003efile=%{x}\\u003cbr\\u003ecount=%{y}\\u003cextra\\u003e\\u003c\\u002fextra\\u003e\",\"legendgroup\":\"*\",\"marker\":{\"color\":\"#EF553B\",\"pattern\":{\"shape\":\"\"}},\"name\":\"*\",\"offsetgroup\":\"*\",\"orientation\":\"v\",\"showlegend\":true,\"textposition\":\"auto\",\"x\":[\"pipeline\\u002frelease\\u002frelease.go\"],\"xaxis\":\"x\",\"y\":[1],\"yaxis\":\"y\",\"type\":\"bar\"},{\"alignmentgroup\":\"True\",\"hovertemplate\":\"reason=update\\u003cbr\\u003efile=%{x}\\u003cbr\\u003ecount=%{y}\\u003cextra\\u003e\\u003c\\u002fextra\\u003e\",\"legendgroup\":\"update\",\"marker\":{\"color\":\"#00cc96\",\"pattern\":{\"shape\":\"\"}},\"name\":\"update\",\"offsetgroup\":\"update\",\"orientation\":\"v\",\"showlegend\":true,\"textposition\":\"auto\",\"x\":[\"internal\\u002fclient\\u002fgithub.go\",\"README.md\",\"pipeline\\u002frelease\\u002frelease.go\"],\"xaxis\":\"x\",\"y\":[1,1,1],\"yaxis\":\"y\",\"type\":\"bar\"},{\"alignmentgroup\":\"True\",\"hovertemplate\":\"reason=Added\\u003cbr\\u003efile=%{x}\\u003cbr\\u003ecount=%{y}\\u003cextra\\u003e\\u003c\\u002fextra\\u003e\",\"legendgroup\":\"Added\",\"marker\":{\"color\":\"#ab63fa\",\"pattern\":{\"shape\":\"\"}},\"name\":\"Added\",\"offsetgroup\":\"Added\",\"orientation\":\"v\",\"showlegend\":true,\"textposition\":\"auto\",\"x\":[\"README.md\"],\"xaxis\":\"x\",\"y\":[1],\"yaxis\":\"y\",\"type\":\"bar\"},{\"alignmentgroup\":\"True\",\"hovertemplate\":\"reason=remove\\u003cbr\\u003efile=%{x}\\u003cbr\\u003ecount=%{y}\\u003cextra\\u003e\\u003c\\u002fextra\\u003e\",\"legendgroup\":\"remove\",\"marker\":{\"color\":\"#FFA15A\",\"pattern\":{\"shape\":\"\"}},\"name\":\"remove\",\"offsetgroup\":\"remove\",\"orientation\":\"v\",\"showlegend\":true,\"textposition\":\"auto\",\"x\":[\"pipeline\\u002ffpm\\u002ffpm.go\",\"pipeline\\u002fbrew\\u002fbrew.go\",\"pipeline\\u002fbrew\\u002fbrew_test.go\"],\"xaxis\":\"x\",\"y\":[1,1,1],\"yaxis\":\"y\",\"type\":\"bar\"},{\"alignmentgroup\":\"True\",\"hovertemplate\":\"reason=Remove\\u003cbr\\u003efile=%{x}\\u003cbr\\u003ecount=%{y}\\u003cextra\\u003e\\u003c\\u002fextra\\u003e\",\"legendgroup\":\"Remove\",\"marker\":{\"color\":\"#19d3f3\",\"pattern\":{\"shape\":\"\"}},\"name\":\"Remove\",\"offsetgroup\":\"Remove\",\"orientation\":\"v\",\"showlegend\":true,\"textposition\":\"auto\",\"x\":[\"pipeline\\u002fdefaults\\u002fdefaults.go\"],\"xaxis\":\"x\",\"y\":[1],\"yaxis\":\"y\",\"type\":\"bar\"},{\"alignmentgroup\":\"True\",\"hovertemplate\":\"reason=removing\\u003cbr\\u003efile=%{x}\\u003cbr\\u003ecount=%{y}\\u003cextra\\u003e\\u003c\\u002fextra\\u003e\",\"legendgroup\":\"removing\",\"marker\":{\"color\":\"#FF6692\",\"pattern\":{\"shape\":\"\"}},\"name\":\"removing\",\"offsetgroup\":\"removing\",\"orientation\":\"v\",\"showlegend\":true,\"textposition\":\"auto\",\"x\":[\"pipeline\\u002fbrew\\u002fbrew_test.go\"],\"xaxis\":\"x\",\"y\":[1],\"yaxis\":\"y\",\"type\":\"bar\"},{\"alignmentgroup\":\"True\",\"hovertemplate\":\"reason=unit\\u003cbr\\u003efile=%{x}\\u003cbr\\u003ecount=%{y}\\u003cextra\\u003e\\u003c\\u002fextra\\u003e\",\"legendgroup\":\"unit\",\"marker\":{\"color\":\"#B6E880\",\"pattern\":{\"shape\":\"\"}},\"name\":\"unit\",\"offsetgroup\":\"unit\",\"orientation\":\"v\",\"showlegend\":true,\"textposition\":\"auto\",\"x\":[\"pipeline\\u002fbrew\\u002fbrew_test.go\"],\"xaxis\":\"x\",\"y\":[1],\"yaxis\":\"y\",\"type\":\"bar\"},{\"alignmentgroup\":\"True\",\"hovertemplate\":\"reason=fixed\\u003cbr\\u003efile=%{x}\\u003cbr\\u003ecount=%{y}\\u003cextra\\u003e\\u003c\\u002fextra\\u003e\",\"legendgroup\":\"fixed\",\"marker\":{\"color\":\"#FF97FF\",\"pattern\":{\"shape\":\"\"}},\"name\":\"fixed\",\"offsetgroup\":\"fixed\",\"orientation\":\"v\",\"showlegend\":true,\"textposition\":\"auto\",\"x\":[\"pipeline\\u002fbrew\\u002fbrew.go\",\"pipeline\\u002frelease\\u002frelease.go\",\"config\\u002fconfig.go\",\"internal\\u002fclient\\u002fgithub.go\",\"pipeline\\u002ffpm\\u002ffpm.go\",\"pipeline\\u002fbrew\\u002fbrew_test.go\",\"context\\u002fcontext.go\",\"README.md\",\".travis.yml\",\"pipeline\\u002fbuild\\u002fbuild.go\",\"main.go\",\"pipeline\\u002fdefaults\\u002fdefaults.go\"],\"xaxis\":\"x\",\"y\":[8,4,2,1,4,6,2,3,1,4,3,1],\"yaxis\":\"y\",\"type\":\"bar\"},{\"alignmentgroup\":\"True\",\"hovertemplate\":\"reason=lint\\u003cbr\\u003efile=%{x}\\u003cbr\\u003ecount=%{y}\\u003cextra\\u003e\\u003c\\u002fextra\\u003e\",\"legendgroup\":\"lint\",\"marker\":{\"color\":\"#FECB52\",\"pattern\":{\"shape\":\"\"}},\"name\":\"lint\",\"offsetgroup\":\"lint\",\"orientation\":\"v\",\"showlegend\":true,\"textposition\":\"auto\",\"x\":[\".travis.yml\",\"pipeline\\u002frelease\\u002frelease.go\"],\"xaxis\":\"x\",\"y\":[1,1],\"yaxis\":\"y\",\"type\":\"bar\"},{\"alignmentgroup\":\"True\",\"hovertemplate\":\"reason=github\\u003cbr\\u003efile=%{x}\\u003cbr\\u003ecount=%{y}\\u003cextra\\u003e\\u003c\\u002fextra\\u003e\",\"legendgroup\":\"github\",\"marker\":{\"color\":\"#636efa\",\"pattern\":{\"shape\":\"\"}},\"name\":\"github\",\"offsetgroup\":\"github\",\"orientation\":\"v\",\"showlegend\":true,\"textposition\":\"auto\",\"x\":[\"config\\u002fconfig.go\",\"internal\\u002fclient\\u002fgithub.go\",\"pipeline\\u002fbrew\\u002fbrew.go\",\"pipeline\\u002frelease\\u002frelease.go\"],\"xaxis\":\"x\",\"y\":[1,1,2,1],\"yaxis\":\"y\",\"type\":\"bar\"},{\"alignmentgroup\":\"True\",\"hovertemplate\":\"reason=allows\\u003cbr\\u003efile=%{x}\\u003cbr\\u003ecount=%{y}\\u003cextra\\u003e\\u003c\\u002fextra\\u003e\",\"legendgroup\":\"allows\",\"marker\":{\"color\":\"#EF553B\",\"pattern\":{\"shape\":\"\"}},\"name\":\"allows\",\"offsetgroup\":\"allows\",\"orientation\":\"v\",\"showlegend\":true,\"textposition\":\"auto\",\"x\":[\"config\\u002fconfig.go\"],\"xaxis\":\"x\",\"y\":[1],\"yaxis\":\"y\",\"type\":\"bar\"},{\"alignmentgroup\":\"True\",\"hovertemplate\":\"reason=fixing\\u003cbr\\u003efile=%{x}\\u003cbr\\u003ecount=%{y}\\u003cextra\\u003e\\u003c\\u002fextra\\u003e\",\"legendgroup\":\"fixing\",\"marker\":{\"color\":\"#00cc96\",\"pattern\":{\"shape\":\"\"}},\"name\":\"fixing\",\"offsetgroup\":\"fixing\",\"orientation\":\"v\",\"showlegend\":true,\"textposition\":\"auto\",\"x\":[\"pipeline\\u002fbrew\\u002fbrew_test.go\",\"pipeline\\u002fdefaults\\u002fdefaults.go\",\"config\\u002fconfig.go\",\"pipeline\\u002fbrew\\u002fbrew.go\",\"pipeline\\u002fbuild\\u002fbuild.go\",\"pipeline\\u002ffpm\\u002ffpm.go\"],\"xaxis\":\"x\",\"y\":[1,3,1,2,1,2],\"yaxis\":\"y\",\"type\":\"bar\"},{\"alignmentgroup\":\"True\",\"hovertemplate\":\"reason=merge\\u003cbr\\u003efile=%{x}\\u003cbr\\u003ecount=%{y}\\u003cextra\\u003e\\u003c\\u002fextra\\u003e\",\"legendgroup\":\"merge\",\"marker\":{\"color\":\"#ab63fa\",\"pattern\":{\"shape\":\"\"}},\"name\":\"merge\",\"offsetgroup\":\"merge\",\"orientation\":\"v\",\"showlegend\":true,\"textposition\":\"auto\",\"x\":[\"internal\\u002fclient\\u002fgithub.go\",\"pipeline\\u002fbuild\\u002fbuild.go\"],\"xaxis\":\"x\",\"y\":[1,1],\"yaxis\":\"y\",\"type\":\"bar\"},{\"alignmentgroup\":\"True\",\"hovertemplate\":\"reason=support\\u003cbr\\u003efile=%{x}\\u003cbr\\u003ecount=%{y}\\u003cextra\\u003e\\u003c\\u002fextra\\u003e\",\"legendgroup\":\"support\",\"marker\":{\"color\":\"#FFA15A\",\"pattern\":{\"shape\":\"\"}},\"name\":\"support\",\"offsetgroup\":\"support\",\"orientation\":\"v\",\"showlegend\":true,\"textposition\":\"auto\",\"x\":[\"config\\u002fconfig.go\",\"internal\\u002fclient\\u002fgithub.go\",\"pipeline\\u002fbrew\\u002fbrew.go\",\"pipeline\\u002frelease\\u002frelease.go\",\"pipeline\\u002fbuild\\u002fbuild.go\",\"pipeline\\u002fdefaults\\u002fdefaults.go\",\"README.md\"],\"xaxis\":\"x\",\"y\":[3,2,2,2,2,1,1],\"yaxis\":\"y\",\"type\":\"bar\"},{\"alignmentgroup\":\"True\",\"hovertemplate\":\"reason=push\\u003cbr\\u003efile=%{x}\\u003cbr\\u003ecount=%{y}\\u003cextra\\u003e\\u003c\\u002fextra\\u003e\",\"legendgroup\":\"push\",\"marker\":{\"color\":\"#19d3f3\",\"pattern\":{\"shape\":\"\"}},\"name\":\"push\",\"offsetgroup\":\"push\",\"orientation\":\"v\",\"showlegend\":true,\"textposition\":\"auto\",\"x\":[\".goreleaser.yml\"],\"xaxis\":\"x\",\"y\":[1],\"yaxis\":\"y\",\"type\":\"bar\"},{\"alignmentgroup\":\"True\",\"hovertemplate\":\"reason=adding\\u003cbr\\u003efile=%{x}\\u003cbr\\u003ecount=%{y}\\u003cextra\\u003e\\u003c\\u002fextra\\u003e\",\"legendgroup\":\"adding\",\"marker\":{\"color\":\"#FF6692\",\"pattern\":{\"shape\":\"\"}},\"name\":\"adding\",\"offsetgroup\":\"adding\",\"orientation\":\"v\",\"showlegend\":true,\"textposition\":\"auto\",\"x\":[\"context\\u002fcontext.go\",\"README.md\",\"config\\u002fconfig.go\",\"pipeline\\u002fbrew\\u002fbrew.go\",\"pipeline\\u002fbuild\\u002fbuild.go\",\"pipeline\\u002fdefaults\\u002fdefaults.go\",\"pipeline\\u002ffpm\\u002ffpm.go\",\"pipeline\\u002frelease\\u002frelease.go\"],\"xaxis\":\"x\",\"y\":[2,2,1,1,2,1,1,1],\"yaxis\":\"y\",\"type\":\"bar\"},{\"alignmentgroup\":\"True\",\"hovertemplate\":\"reason=rm\\u003cbr\\u003efile=%{x}\\u003cbr\\u003ecount=%{y}\\u003cextra\\u003e\\u003c\\u002fextra\\u003e\",\"legendgroup\":\"rm\",\"marker\":{\"color\":\"#B6E880\",\"pattern\":{\"shape\":\"\"}},\"name\":\"rm\",\"offsetgroup\":\"rm\",\"orientation\":\"v\",\"showlegend\":true,\"textposition\":\"auto\",\"x\":[\"config\\u002fconfig.go\",\"context\\u002fcontext.go\",\"main.go\"],\"xaxis\":\"x\",\"y\":[1,1,1],\"yaxis\":\"y\",\"type\":\"bar\"},{\"alignmentgroup\":\"True\",\"hovertemplate\":\"reason=todo\\u003cbr\\u003efile=%{x}\\u003cbr\\u003ecount=%{y}\\u003cextra\\u003e\\u003c\\u002fextra\\u003e\",\"legendgroup\":\"todo\",\"marker\":{\"color\":\"#FF97FF\",\"pattern\":{\"shape\":\"\"}},\"name\":\"todo\",\"offsetgroup\":\"todo\",\"orientation\":\"v\",\"showlegend\":true,\"textposition\":\"auto\",\"x\":[\"internal\\u002fclient\\u002fgithub.go\"],\"xaxis\":\"x\",\"y\":[1],\"yaxis\":\"y\",\"type\":\"bar\"},{\"alignmentgroup\":\"True\",\"hovertemplate\":\"reason=enabled\\u003cbr\\u003efile=%{x}\\u003cbr\\u003ecount=%{y}\\u003cextra\\u003e\\u003c\\u002fextra\\u003e\",\"legendgroup\":\"enabled\",\"marker\":{\"color\":\"#FECB52\",\"pattern\":{\"shape\":\"\"}},\"name\":\"enabled\",\"offsetgroup\":\"enabled\",\"orientation\":\"v\",\"showlegend\":true,\"textposition\":\"auto\",\"x\":[\"pipeline\\u002fdefaults\\u002fdefaults.go\",\"pipeline\\u002ffpm\\u002ffpm.go\"],\"xaxis\":\"x\",\"y\":[1,1],\"yaxis\":\"y\",\"type\":\"bar\"},{\"alignmentgroup\":\"True\",\"hovertemplate\":\"reason=also\\u003cbr\\u003efile=%{x}\\u003cbr\\u003ecount=%{y}\\u003cextra\\u003e\\u003c\\u002fextra\\u003e\",\"legendgroup\":\"also\",\"marker\":{\"color\":\"#636efa\",\"pattern\":{\"shape\":\"\"}},\"name\":\"also\",\"offsetgroup\":\"also\",\"orientation\":\"v\",\"showlegend\":true,\"textposition\":\"auto\",\"x\":[\"config\\u002fconfig.go\"],\"xaxis\":\"x\",\"y\":[1],\"yaxis\":\"y\",\"type\":\"bar\"},{\"alignmentgroup\":\"True\",\"hovertemplate\":\"reason=using\\u003cbr\\u003efile=%{x}\\u003cbr\\u003ecount=%{y}\\u003cextra\\u003e\\u003c\\u002fextra\\u003e\",\"legendgroup\":\"using\",\"marker\":{\"color\":\"#EF553B\",\"pattern\":{\"shape\":\"\"}},\"name\":\"using\",\"offsetgroup\":\"using\",\"orientation\":\"v\",\"showlegend\":true,\"textposition\":\"auto\",\"x\":[\".travis.yml\",\"internal\\u002fclient\\u002fgithub.go\",\"pipeline\\u002fbuild\\u002fbuild.go\",\"pipeline\\u002ffpm\\u002ffpm.go\"],\"xaxis\":\"x\",\"y\":[1,1,4,2],\"yaxis\":\"y\",\"type\":\"bar\"},{\"alignmentgroup\":\"True\",\"hovertemplate\":\"reason=enable\\u003cbr\\u003efile=%{x}\\u003cbr\\u003ecount=%{y}\\u003cextra\\u003e\\u003c\\u002fextra\\u003e\",\"legendgroup\":\"enable\",\"marker\":{\"color\":\"#00cc96\",\"pattern\":{\"shape\":\"\"}},\"name\":\"enable\",\"offsetgroup\":\"enable\",\"orientation\":\"v\",\"showlegend\":true,\"textposition\":\"auto\",\"x\":[\".travis.yml\"],\"xaxis\":\"x\",\"y\":[1],\"yaxis\":\"y\",\"type\":\"bar\"},{\"alignmentgroup\":\"True\",\"hovertemplate\":\"reason=restore\\u003cbr\\u003efile=%{x}\\u003cbr\\u003ecount=%{y}\\u003cextra\\u003e\\u003c\\u002fextra\\u003e\",\"legendgroup\":\"restore\",\"marker\":{\"color\":\"#ab63fa\",\"pattern\":{\"shape\":\"\"}},\"name\":\"restore\",\"offsetgroup\":\"restore\",\"orientation\":\"v\",\"showlegend\":true,\"textposition\":\"auto\",\"x\":[\".goreleaser.yml\"],\"xaxis\":\"x\",\"y\":[1],\"yaxis\":\"y\",\"type\":\"bar\"},{\"alignmentgroup\":\"True\",\"hovertemplate\":\"reason=improvements\\u003cbr\\u003efile=%{x}\\u003cbr\\u003ecount=%{y}\\u003cextra\\u003e\\u003c\\u002fextra\\u003e\",\"legendgroup\":\"improvements\",\"marker\":{\"color\":\"#FFA15A\",\"pattern\":{\"shape\":\"\"}},\"name\":\"improvements\",\"offsetgroup\":\"improvements\",\"orientation\":\"v\",\"showlegend\":true,\"textposition\":\"auto\",\"x\":[\".goreleaser.yml\",\"config\\u002fconfig.go\",\"pipeline\\u002fdefaults\\u002fdefaults.go\",\"main.go\",\"context\\u002fcontext.go\"],\"xaxis\":\"x\",\"y\":[1,1,1,3,1],\"yaxis\":\"y\",\"type\":\"bar\"},{\"alignmentgroup\":\"True\",\"hovertemplate\":\"reason=draft\\u003cbr\\u003efile=%{x}\\u003cbr\\u003ecount=%{y}\\u003cextra\\u003e\\u003c\\u002fextra\\u003e\",\"legendgroup\":\"draft\",\"marker\":{\"color\":\"#19d3f3\",\"pattern\":{\"shape\":\"\"}},\"name\":\"draft\",\"offsetgroup\":\"draft\",\"orientation\":\"v\",\"showlegend\":true,\"textposition\":\"auto\",\"x\":[\".goreleaser.yml\",\"Dockerfile\",\"config\\u002fconfig.go\"],\"xaxis\":\"x\",\"y\":[1,1,1],\"yaxis\":\"y\",\"type\":\"bar\"},{\"alignmentgroup\":\"True\",\"hovertemplate\":\"reason=readme\\u003cbr\\u003efile=%{x}\\u003cbr\\u003ecount=%{y}\\u003cextra\\u003e\\u003c\\u002fextra\\u003e\",\"legendgroup\":\"readme\",\"marker\":{\"color\":\"#FF6692\",\"pattern\":{\"shape\":\"\"}},\"name\":\"readme\",\"offsetgroup\":\"readme\",\"orientation\":\"v\",\"showlegend\":true,\"textposition\":\"auto\",\"x\":[\"README.md\"],\"xaxis\":\"x\",\"y\":[13],\"yaxis\":\"y\",\"type\":\"bar\"},{\"alignmentgroup\":\"True\",\"hovertemplate\":\"reason=new\\u003cbr\\u003efile=%{x}\\u003cbr\\u003ecount=%{y}\\u003cextra\\u003e\\u003c\\u002fextra\\u003e\",\"legendgroup\":\"new\",\"marker\":{\"color\":\"#B6E880\",\"pattern\":{\"shape\":\"\"}},\"name\":\"new\",\"offsetgroup\":\"new\",\"orientation\":\"v\",\"showlegend\":true,\"textposition\":\"auto\",\"x\":[\"README.md\"],\"xaxis\":\"x\",\"y\":[1],\"yaxis\":\"y\",\"type\":\"bar\"},{\"alignmentgroup\":\"True\",\"hovertemplate\":\"reason=checksums\\u003cbr\\u003efile=%{x}\\u003cbr\\u003ecount=%{y}\\u003cextra\\u003e\\u003c\\u002fextra\\u003e\",\"legendgroup\":\"checksums\",\"marker\":{\"color\":\"#FF97FF\",\"pattern\":{\"shape\":\"\"}},\"name\":\"checksums\",\"offsetgroup\":\"checksums\",\"orientation\":\"v\",\"showlegend\":true,\"textposition\":\"auto\",\"x\":[\".goreleaser.yml\",\"README.md\",\"config\\u002fconfig.go\",\"pipeline\\u002fdefaults\\u002fdefaults.go\"],\"xaxis\":\"x\",\"y\":[1,1,1,1],\"yaxis\":\"y\",\"type\":\"bar\"},{\"alignmentgroup\":\"True\",\"hovertemplate\":\"reason=improved\\u003cbr\\u003efile=%{x}\\u003cbr\\u003ecount=%{y}\\u003cextra\\u003e\\u003c\\u002fextra\\u003e\",\"legendgroup\":\"improved\",\"marker\":{\"color\":\"#FECB52\",\"pattern\":{\"shape\":\"\"}},\"name\":\"improved\",\"offsetgroup\":\"improved\",\"orientation\":\"v\",\"showlegend\":true,\"textposition\":\"auto\",\"x\":[\"README.md\",\"context\\u002fcontext.go\",\"pipeline\\u002ffpm\\u002ffpm.go\",\"pipeline\\u002fbrew\\u002fbrew.go\",\"pipeline\\u002fbrew\\u002fbrew_test.go\",\"main.go\",\"pipeline\\u002fbuild\\u002fbuild.go\",\"internal\\u002fclient\\u002fgithub.go\",\"pipeline\\u002frelease\\u002frelease.go\",\"config\\u002fconfig.go\",\"pipeline\\u002fdefaults\\u002fdefaults.go\"],\"xaxis\":\"x\",\"y\":[5,3,2,5,3,4,3,1,1,2,1],\"yaxis\":\"y\",\"type\":\"bar\"},{\"alignmentgroup\":\"True\",\"hovertemplate\":\"reason=skipped\\u003cbr\\u003efile=%{x}\\u003cbr\\u003ecount=%{y}\\u003cextra\\u003e\\u003c\\u002fextra\\u003e\",\"legendgroup\":\"skipped\",\"marker\":{\"color\":\"#636efa\",\"pattern\":{\"shape\":\"\"}},\"name\":\"skipped\",\"offsetgroup\":\"skipped\",\"orientation\":\"v\",\"showlegend\":true,\"textposition\":\"auto\",\"x\":[\"pipeline\\u002fbrew\\u002fbrew.go\",\"pipeline\\u002ffpm\\u002ffpm.go\",\"pipeline\\u002frelease\\u002frelease.go\",\"pipeline\\u002fbrew\\u002fbrew_test.go\"],\"xaxis\":\"x\",\"y\":[1,1,1,1],\"yaxis\":\"y\",\"type\":\"bar\"},{\"alignmentgroup\":\"True\",\"hovertemplate\":\"reason=testing\\u003cbr\\u003efile=%{x}\\u003cbr\\u003ecount=%{y}\\u003cextra\\u003e\\u003c\\u002fextra\\u003e\",\"legendgroup\":\"testing\",\"marker\":{\"color\":\"#EF553B\",\"pattern\":{\"shape\":\"\"}},\"name\":\"testing\",\"offsetgroup\":\"testing\",\"orientation\":\"v\",\"showlegend\":true,\"textposition\":\"auto\",\"x\":[\".travis.yml\"],\"xaxis\":\"x\",\"y\":[1],\"yaxis\":\"y\",\"type\":\"bar\"},{\"alignmentgroup\":\"True\",\"hovertemplate\":\"reason=building\\u003cbr\\u003efile=%{x}\\u003cbr\\u003ecount=%{y}\\u003cextra\\u003e\\u003c\\u002fextra\\u003e\",\"legendgroup\":\"building\",\"marker\":{\"color\":\"#00cc96\",\"pattern\":{\"shape\":\"\"}},\"name\":\"building\",\"offsetgroup\":\"building\",\"orientation\":\"v\",\"showlegend\":true,\"textposition\":\"auto\",\"x\":[\".goreleaser.yml\",\".travis.yml\",\"pipeline\\u002ffpm\\u002ffpm.go\"],\"xaxis\":\"x\",\"y\":[1,1,1],\"yaxis\":\"y\",\"type\":\"bar\"},{\"alignmentgroup\":\"True\",\"hovertemplate\":\"reason=code\\u003cbr\\u003efile=%{x}\\u003cbr\\u003ecount=%{y}\\u003cextra\\u003e\\u003c\\u002fextra\\u003e\",\"legendgroup\":\"code\",\"marker\":{\"color\":\"#ab63fa\",\"pattern\":{\"shape\":\"\"}},\"name\":\"code\",\"offsetgroup\":\"code\",\"orientation\":\"v\",\"showlegend\":true,\"textposition\":\"auto\",\"x\":[\"pipeline\\u002ffpm\\u002ffpm.go\",\"config\\u002fconfig.go\",\"pipeline\\u002frelease\\u002frelease.go\",\"pipeline\\u002fbrew\\u002fbrew.go\"],\"xaxis\":\"x\",\"y\":[2,1,2,1],\"yaxis\":\"y\",\"type\":\"bar\"},{\"alignmentgroup\":\"True\",\"hovertemplate\":\"reason=allow\\u003cbr\\u003efile=%{x}\\u003cbr\\u003ecount=%{y}\\u003cextra\\u003e\\u003c\\u002fextra\\u003e\",\"legendgroup\":\"allow\",\"marker\":{\"color\":\"#FFA15A\",\"pattern\":{\"shape\":\"\"}},\"name\":\"allow\",\"offsetgroup\":\"allow\",\"orientation\":\"v\",\"showlegend\":true,\"textposition\":\"auto\",\"x\":[\"README.md\",\"config\\u002fconfig.go\",\"context\\u002fcontext.go\",\"main.go\",\"pipeline\\u002fbuild\\u002fbuild.go\",\"pipeline\\u002frelease\\u002frelease.go\"],\"xaxis\":\"x\",\"y\":[1,3,1,2,2,1],\"yaxis\":\"y\",\"type\":\"bar\"},{\"alignmentgroup\":\"True\",\"hovertemplate\":\"reason=spaces\\u003cbr\\u003efile=%{x}\\u003cbr\\u003ecount=%{y}\\u003cextra\\u003e\\u003c\\u002fextra\\u003e\",\"legendgroup\":\"spaces\",\"marker\":{\"color\":\"#19d3f3\",\"pattern\":{\"shape\":\"\"}},\"name\":\"spaces\",\"offsetgroup\":\"spaces\",\"orientation\":\"v\",\"showlegend\":true,\"textposition\":\"auto\",\"x\":[\"README.md\"],\"xaxis\":\"x\",\"y\":[1],\"yaxis\":\"y\",\"type\":\"bar\"},{\"alignmentgroup\":\"True\",\"hovertemplate\":\"reason=Allow\\u003cbr\\u003efile=%{x}\\u003cbr\\u003ecount=%{y}\\u003cextra\\u003e\\u003c\\u002fextra\\u003e\",\"legendgroup\":\"Allow\",\"marker\":{\"color\":\"#FF6692\",\"pattern\":{\"shape\":\"\"}},\"name\":\"Allow\",\"offsetgroup\":\"Allow\",\"orientation\":\"v\",\"showlegend\":true,\"textposition\":\"auto\",\"x\":[\"config\\u002fconfig.go\"],\"xaxis\":\"x\",\"y\":[4],\"yaxis\":\"y\",\"type\":\"bar\"},{\"alignmentgroup\":\"True\",\"hovertemplate\":\"reason=fixes\\u003cbr\\u003efile=%{x}\\u003cbr\\u003ecount=%{y}\\u003cextra\\u003e\\u003c\\u002fextra\\u003e\",\"legendgroup\":\"fixes\",\"marker\":{\"color\":\"#B6E880\",\"pattern\":{\"shape\":\"\"}},\"name\":\"fixes\",\"offsetgroup\":\"fixes\",\"orientation\":\"v\",\"showlegend\":true,\"textposition\":\"auto\",\"x\":[\"config\\u002fconfig.go\",\"pipeline\\u002fbuild\\u002fbuild.go\",\"context\\u002fcontext.go\",\"pipeline\\u002ffpm\\u002ffpm.go\",\"README.md\",\"pipeline\\u002fbrew\\u002fbrew.go\",\"pipeline\\u002fbrew\\u002fbrew_test.go\",\"pipeline\\u002frelease\\u002frelease.go\",\"main.go\"],\"xaxis\":\"x\",\"y\":[4,2,1,1,2,2,2,1,1],\"yaxis\":\"y\",\"type\":\"bar\"},{\"alignmentgroup\":\"True\",\"hovertemplate\":\"reason=export\\u003cbr\\u003efile=%{x}\\u003cbr\\u003ecount=%{y}\\u003cextra\\u003e\\u003c\\u002fextra\\u003e\",\"legendgroup\":\"export\",\"marker\":{\"color\":\"#FF97FF\",\"pattern\":{\"shape\":\"\"}},\"name\":\"export\",\"offsetgroup\":\"export\",\"orientation\":\"v\",\"showlegend\":true,\"textposition\":\"auto\",\"x\":[\".travis.yml\"],\"xaxis\":\"x\",\"y\":[1],\"yaxis\":\"y\",\"type\":\"bar\"},{\"alignmentgroup\":\"True\",\"hovertemplate\":\"reason=install\\u003cbr\\u003efile=%{x}\\u003cbr\\u003ecount=%{y}\\u003cextra\\u003e\\u003c\\u002fextra\\u003e\",\"legendgroup\":\"install\",\"marker\":{\"color\":\"#FECB52\",\"pattern\":{\"shape\":\"\"}},\"name\":\"install\",\"offsetgroup\":\"install\",\"orientation\":\"v\",\"showlegend\":true,\"textposition\":\"auto\",\"x\":[\".travis.yml\"],\"xaxis\":\"x\",\"y\":[1],\"yaxis\":\"y\",\"type\":\"bar\"},{\"alignmentgroup\":\"True\",\"hovertemplate\":\"reason=cleanup\\u003cbr\\u003efile=%{x}\\u003cbr\\u003ecount=%{y}\\u003cextra\\u003e\\u003c\\u002fextra\\u003e\",\"legendgroup\":\"cleanup\",\"marker\":{\"color\":\"#636efa\",\"pattern\":{\"shape\":\"\"}},\"name\":\"cleanup\",\"offsetgroup\":\"cleanup\",\"orientation\":\"v\",\"showlegend\":true,\"textposition\":\"auto\",\"x\":[\"pipeline\\u002fbrew\\u002fbrew.go\",\"pipeline\\u002fbrew\\u002fbrew_test.go\",\"config\\u002fconfig.go\",\"main.go\",\"pipeline\\u002fdefaults\\u002fdefaults.go\",\"pipeline\\u002fbuild\\u002fbuild.go\"],\"xaxis\":\"x\",\"y\":[1,2,1,1,1,1],\"yaxis\":\"y\",\"type\":\"bar\"},{\"alignmentgroup\":\"True\",\"hovertemplate\":\"reason=git\\u003cbr\\u003efile=%{x}\\u003cbr\\u003ecount=%{y}\\u003cextra\\u003e\\u003c\\u002fextra\\u003e\",\"legendgroup\":\"git\",\"marker\":{\"color\":\"#EF553B\",\"pattern\":{\"shape\":\"\"}},\"name\":\"git\",\"offsetgroup\":\"git\",\"orientation\":\"v\",\"showlegend\":true,\"textposition\":\"auto\",\"x\":[\".goreleaser.yml\",\".travis.yml\",\"main.go\"],\"xaxis\":\"x\",\"y\":[1,1,1],\"yaxis\":\"y\",\"type\":\"bar\"},{\"alignmentgroup\":\"True\",\"hovertemplate\":\"reason=template\\u003cbr\\u003efile=%{x}\\u003cbr\\u003ecount=%{y}\\u003cextra\\u003e\\u003c\\u002fextra\\u003e\",\"legendgroup\":\"template\",\"marker\":{\"color\":\"#00cc96\",\"pattern\":{\"shape\":\"\"}},\"name\":\"template\",\"offsetgroup\":\"template\",\"orientation\":\"v\",\"showlegend\":true,\"textposition\":\"auto\",\"x\":[\"pipeline\\u002fbrew\\u002fbrew.go\",\"pipeline\\u002fbrew\\u002fbrew_test.go\"],\"xaxis\":\"x\",\"y\":[2,1],\"yaxis\":\"y\",\"type\":\"bar\"},{\"alignmentgroup\":\"True\",\"hovertemplate\":\"reason=homebrew\\u003cbr\\u003efile=%{x}\\u003cbr\\u003ecount=%{y}\\u003cextra\\u003e\\u003c\\u002fextra\\u003e\",\"legendgroup\":\"homebrew\",\"marker\":{\"color\":\"#ab63fa\",\"pattern\":{\"shape\":\"\"}},\"name\":\"homebrew\",\"offsetgroup\":\"homebrew\",\"orientation\":\"v\",\"showlegend\":true,\"textposition\":\"auto\",\"x\":[\".goreleaser.yml\",\"README.md\",\"config\\u002fconfig.go\",\"pipeline\\u002fbrew\\u002fbrew.go\",\"pipeline\\u002fbrew\\u002fbrew_test.go\",\"pipeline\\u002fdefaults\\u002fdefaults.go\"],\"xaxis\":\"x\",\"y\":[1,2,2,4,3,1],\"yaxis\":\"y\",\"type\":\"bar\"},{\"alignmentgroup\":\"True\",\"hovertemplate\":\"reason=Fixes\\u003cbr\\u003efile=%{x}\\u003cbr\\u003ecount=%{y}\\u003cextra\\u003e\\u003c\\u002fextra\\u003e\",\"legendgroup\":\"Fixes\",\"marker\":{\"color\":\"#FFA15A\",\"pattern\":{\"shape\":\"\"}},\"name\":\"Fixes\",\"offsetgroup\":\"Fixes\",\"orientation\":\"v\",\"showlegend\":true,\"textposition\":\"auto\",\"x\":[\"main.go\"],\"xaxis\":\"x\",\"y\":[1],\"yaxis\":\"y\",\"type\":\"bar\"},{\"alignmentgroup\":\"True\",\"hovertemplate\":\"reason=coverage\\u003cbr\\u003efile=%{x}\\u003cbr\\u003ecount=%{y}\\u003cextra\\u003e\\u003c\\u002fextra\\u003e\",\"legendgroup\":\"coverage\",\"marker\":{\"color\":\"#19d3f3\",\"pattern\":{\"shape\":\"\"}},\"name\":\"coverage\",\"offsetgroup\":\"coverage\",\"orientation\":\"v\",\"showlegend\":true,\"textposition\":\"auto\",\"x\":[\"context\\u002fcontext.go\",\"pipeline\\u002fbrew\\u002fbrew_test.go\"],\"xaxis\":\"x\",\"y\":[1,1],\"yaxis\":\"y\",\"type\":\"bar\"},{\"alignmentgroup\":\"True\",\"hovertemplate\":\"reason=renamed\\u003cbr\\u003efile=%{x}\\u003cbr\\u003ecount=%{y}\\u003cextra\\u003e\\u003c\\u002fextra\\u003e\",\"legendgroup\":\"renamed\",\"marker\":{\"color\":\"#FF6692\",\"pattern\":{\"shape\":\"\"}},\"name\":\"renamed\",\"offsetgroup\":\"renamed\",\"orientation\":\"v\",\"showlegend\":true,\"textposition\":\"auto\",\"x\":[\"context\\u002fcontext.go\",\"pipeline\\u002fbrew\\u002fbrew.go\",\"pipeline\\u002ffpm\\u002ffpm.go\",\"config\\u002fconfig.go\",\"pipeline\\u002fbuild\\u002fbuild.go\",\"pipeline\\u002fdefaults\\u002fdefaults.go\",\"pipeline\\u002frelease\\u002frelease.go\",\"README.md\",\"pipeline\\u002fbrew\\u002fbrew_test.go\",\"main.go\"],\"xaxis\":\"x\",\"y\":[4,5,3,2,4,4,3,3,1,2],\"yaxis\":\"y\",\"type\":\"bar\"},{\"alignmentgroup\":\"True\",\"hovertemplate\":\"reason=multiple\\u003cbr\\u003efile=%{x}\\u003cbr\\u003ecount=%{y}\\u003cextra\\u003e\\u003c\\u002fextra\\u003e\",\"legendgroup\":\"multiple\",\"marker\":{\"color\":\"#B6E880\",\"pattern\":{\"shape\":\"\"}},\"name\":\"multiple\",\"offsetgroup\":\"multiple\",\"orientation\":\"v\",\"showlegend\":true,\"textposition\":\"auto\",\"x\":[\"context\\u002fcontext.go\",\"pipeline\\u002fbrew\\u002fbrew.go\",\"pipeline\\u002fbuild\\u002fbuild.go\",\"pipeline\\u002ffpm\\u002ffpm.go\"],\"xaxis\":\"x\",\"y\":[1,1,1,1],\"yaxis\":\"y\",\"type\":\"bar\"},{\"alignmentgroup\":\"True\",\"hovertemplate\":\"reason=moving\\u003cbr\\u003efile=%{x}\\u003cbr\\u003ecount=%{y}\\u003cextra\\u003e\\u003c\\u002fextra\\u003e\",\"legendgroup\":\"moving\",\"marker\":{\"color\":\"#FF97FF\",\"pattern\":{\"shape\":\"\"}},\"name\":\"moving\",\"offsetgroup\":\"moving\",\"orientation\":\"v\",\"showlegend\":true,\"textposition\":\"auto\",\"x\":[\"pipeline\\u002fbuild\\u002fbuild.go\",\"internal\\u002fclient\\u002fgithub.go\",\"pipeline\\u002fbrew\\u002fbrew.go\",\"pipeline\\u002frelease\\u002frelease.go\",\".travis.yml\"],\"xaxis\":\"x\",\"y\":[1,1,1,1,1],\"yaxis\":\"y\",\"type\":\"bar\"},{\"alignmentgroup\":\"True\",\"hovertemplate\":\"reason=format\\u003cbr\\u003efile=%{x}\\u003cbr\\u003ecount=%{y}\\u003cextra\\u003e\\u003c\\u002fextra\\u003e\",\"legendgroup\":\"format\",\"marker\":{\"color\":\"#FECB52\",\"pattern\":{\"shape\":\"\"}},\"name\":\"format\",\"offsetgroup\":\"format\",\"orientation\":\"v\",\"showlegend\":true,\"textposition\":\"auto\",\"x\":[\"config\\u002fconfig.go\"],\"xaxis\":\"x\",\"y\":[1],\"yaxis\":\"y\",\"type\":\"bar\"},{\"alignmentgroup\":\"True\",\"hovertemplate\":\"reason=breaking\\u003cbr\\u003efile=%{x}\\u003cbr\\u003ecount=%{y}\\u003cextra\\u003e\\u003c\\u002fextra\\u003e\",\"legendgroup\":\"breaking\",\"marker\":{\"color\":\"#636efa\",\"pattern\":{\"shape\":\"\"}},\"name\":\"breaking\",\"offsetgroup\":\"breaking\",\"orientation\":\"v\",\"showlegend\":true,\"textposition\":\"auto\",\"x\":[\".goreleaser.yml\",\"config\\u002fconfig.go\",\"README.md\"],\"xaxis\":\"x\",\"y\":[1,1,1],\"yaxis\":\"y\",\"type\":\"bar\"},{\"alignmentgroup\":\"True\",\"hovertemplate\":\"reason=Update\\u003cbr\\u003efile=%{x}\\u003cbr\\u003ecount=%{y}\\u003cextra\\u003e\\u003c\\u002fextra\\u003e\",\"legendgroup\":\"Update\",\"marker\":{\"color\":\"#EF553B\",\"pattern\":{\"shape\":\"\"}},\"name\":\"Update\",\"offsetgroup\":\"Update\",\"orientation\":\"v\",\"showlegend\":true,\"textposition\":\"auto\",\"x\":[\"README.md\",\".travis.yml\"],\"xaxis\":\"x\",\"y\":[24,1],\"yaxis\":\"y\",\"type\":\"bar\"},{\"alignmentgroup\":\"True\",\"hovertemplate\":\"reason=gometalinter\\u003cbr\\u003efile=%{x}\\u003cbr\\u003ecount=%{y}\\u003cextra\\u003e\\u003c\\u002fextra\\u003e\",\"legendgroup\":\"gometalinter\",\"marker\":{\"color\":\"#00cc96\",\"pattern\":{\"shape\":\"\"}},\"name\":\"gometalinter\",\"offsetgroup\":\"gometalinter\",\"orientation\":\"v\",\"showlegend\":true,\"textposition\":\"auto\",\"x\":[\"pipeline\\u002fbrew\\u002fbrew_test.go\",\"pipeline\\u002fbuild\\u002fbuild.go\",\".travis.yml\",\"config\\u002fconfig.go\"],\"xaxis\":\"x\",\"y\":[1,1,1,1],\"yaxis\":\"y\",\"type\":\"bar\"},{\"alignmentgroup\":\"True\",\"hovertemplate\":\"reason=refactoring\\u003cbr\\u003efile=%{x}\\u003cbr\\u003ecount=%{y}\\u003cextra\\u003e\\u003c\\u002fextra\\u003e\",\"legendgroup\":\"refactoring\",\"marker\":{\"color\":\"#ab63fa\",\"pattern\":{\"shape\":\"\"}},\"name\":\"refactoring\",\"offsetgroup\":\"refactoring\",\"orientation\":\"v\",\"showlegend\":true,\"textposition\":\"auto\",\"x\":[\"pipeline\\u002fbuild\\u002fbuild.go\"],\"xaxis\":\"x\",\"y\":[1],\"yaxis\":\"y\",\"type\":\"bar\"},{\"alignmentgroup\":\"True\",\"hovertemplate\":\"reason=defaulting\\u003cbr\\u003efile=%{x}\\u003cbr\\u003ecount=%{y}\\u003cextra\\u003e\\u003c\\u002fextra\\u003e\",\"legendgroup\":\"defaulting\",\"marker\":{\"color\":\"#FFA15A\",\"pattern\":{\"shape\":\"\"}},\"name\":\"defaulting\",\"offsetgroup\":\"defaulting\",\"orientation\":\"v\",\"showlegend\":true,\"textposition\":\"auto\",\"x\":[\".goreleaser.yml\",\"config\\u002fconfig.go\",\"main.go\"],\"xaxis\":\"x\",\"y\":[1,1,1],\"yaxis\":\"y\",\"type\":\"bar\"},{\"alignmentgroup\":\"True\",\"hovertemplate\":\"reason=throttling\\u003cbr\\u003efile=%{x}\\u003cbr\\u003ecount=%{y}\\u003cextra\\u003e\\u003c\\u002fextra\\u003e\",\"legendgroup\":\"throttling\",\"marker\":{\"color\":\"#19d3f3\",\"pattern\":{\"shape\":\"\"}},\"name\":\"throttling\",\"offsetgroup\":\"throttling\",\"orientation\":\"v\",\"showlegend\":true,\"textposition\":\"auto\",\"x\":[\"pipeline\\u002frelease\\u002frelease.go\"],\"xaxis\":\"x\",\"y\":[1],\"yaxis\":\"y\",\"type\":\"bar\"},{\"alignmentgroup\":\"True\",\"hovertemplate\":\"reason=archive\\u003cbr\\u003efile=%{x}\\u003cbr\\u003ecount=%{y}\\u003cextra\\u003e\\u003c\\u002fextra\\u003e\",\"legendgroup\":\"archive\",\"marker\":{\"color\":\"#FF6692\",\"pattern\":{\"shape\":\"\"}},\"name\":\"archive\",\"offsetgroup\":\"archive\",\"orientation\":\"v\",\"showlegend\":true,\"textposition\":\"auto\",\"x\":[\"pipeline\\u002fbrew\\u002fbrew.go\",\"pipeline\\u002fbrew\\u002fbrew_test.go\",\"context\\u002fcontext.go\",\"pipeline\\u002fbuild\\u002fbuild.go\"],\"xaxis\":\"x\",\"y\":[1,1,1,1],\"yaxis\":\"y\",\"type\":\"bar\"},{\"alignmentgroup\":\"True\",\"hovertemplate\":\"reason=project\\u003cbr\\u003efile=%{x}\\u003cbr\\u003ecount=%{y}\\u003cextra\\u003e\\u003c\\u002fextra\\u003e\",\"legendgroup\":\"project\",\"marker\":{\"color\":\"#B6E880\",\"pattern\":{\"shape\":\"\"}},\"name\":\"project\",\"offsetgroup\":\"project\",\"orientation\":\"v\",\"showlegend\":true,\"textposition\":\"auto\",\"x\":[\"README.md\",\"config\\u002fconfig.go\",\"internal\\u002fclient\\u002fgithub.go\",\"pipeline\\u002fbrew\\u002fbrew.go\",\"pipeline\\u002fdefaults\\u002fdefaults.go\",\"pipeline\\u002ffpm\\u002ffpm.go\"],\"xaxis\":\"x\",\"y\":[1,1,1,1,1,1],\"yaxis\":\"y\",\"type\":\"bar\"},{\"alignmentgroup\":\"True\",\"hovertemplate\":\"reason=cleaning\\u003cbr\\u003efile=%{x}\\u003cbr\\u003ecount=%{y}\\u003cextra\\u003e\\u003c\\u002fextra\\u003e\",\"legendgroup\":\"cleaning\",\"marker\":{\"color\":\"#FF97FF\",\"pattern\":{\"shape\":\"\"}},\"name\":\"cleaning\",\"offsetgroup\":\"cleaning\",\"orientation\":\"v\",\"showlegend\":true,\"textposition\":\"auto\",\"x\":[\"pipeline\\u002fdefaults\\u002fdefaults.go\",\"context\\u002fcontext.go\",\"pipeline\\u002fbuild\\u002fbuild.go\"],\"xaxis\":\"x\",\"y\":[1,1,1],\"yaxis\":\"y\",\"type\":\"bar\"},{\"alignmentgroup\":\"True\",\"hovertemplate\":\"reason=added\\u003cbr\\u003efile=%{x}\\u003cbr\\u003ecount=%{y}\\u003cextra\\u003e\\u003c\\u002fextra\\u003e\",\"legendgroup\":\"added\",\"marker\":{\"color\":\"#FECB52\",\"pattern\":{\"shape\":\"\"}},\"name\":\"added\",\"offsetgroup\":\"added\",\"orientation\":\"v\",\"showlegend\":true,\"textposition\":\"auto\",\"x\":[\"config\\u002fconfig.go\",\"pipeline\\u002fdefaults\\u002fdefaults.go\",\"README.md\",\"pipeline\\u002fbuild\\u002fbuild.go\",\"pipeline\\u002fbrew\\u002fbrew_test.go\",\"context\\u002fcontext.go\",\"main.go\",\"pipeline\\u002frelease\\u002frelease.go\",\".travis.yml\",\"pipeline\\u002ffpm\\u002ffpm.go\",\"pipeline\\u002fbrew\\u002fbrew.go\"],\"xaxis\":\"x\",\"y\":[9,4,8,3,2,2,4,3,2,2,3],\"yaxis\":\"y\",\"type\":\"bar\"},{\"alignmentgroup\":\"True\",\"hovertemplate\":\"reason=defaults\\u003cbr\\u003efile=%{x}\\u003cbr\\u003ecount=%{y}\\u003cextra\\u003e\\u003c\\u002fextra\\u003e\",\"legendgroup\":\"defaults\",\"marker\":{\"color\":\"#636efa\",\"pattern\":{\"shape\":\"\"}},\"name\":\"defaults\",\"offsetgroup\":\"defaults\",\"orientation\":\"v\",\"showlegend\":true,\"textposition\":\"auto\",\"x\":[\"pipeline\\u002fdefaults\\u002fdefaults.go\"],\"xaxis\":\"x\",\"y\":[2],\"yaxis\":\"y\",\"type\":\"bar\"},{\"alignmentgroup\":\"True\",\"hovertemplate\":\"reason=brew\\u003cbr\\u003efile=%{x}\\u003cbr\\u003ecount=%{y}\\u003cextra\\u003e\\u003c\\u002fextra\\u003e\",\"legendgroup\":\"brew\",\"marker\":{\"color\":\"#EF553B\",\"pattern\":{\"shape\":\"\"}},\"name\":\"brew\",\"offsetgroup\":\"brew\",\"orientation\":\"v\",\"showlegend\":true,\"textposition\":\"auto\",\"x\":[\"pipeline\\u002fbrew\\u002fbrew.go\",\"pipeline\\u002fbrew\\u002fbrew_test.go\",\"main.go\"],\"xaxis\":\"x\",\"y\":[2,2,1],\"yaxis\":\"y\",\"type\":\"bar\"},{\"alignmentgroup\":\"True\",\"hovertemplate\":\"reason=fpm\\u003cbr\\u003efile=%{x}\\u003cbr\\u003ecount=%{y}\\u003cextra\\u003e\\u003c\\u002fextra\\u003e\",\"legendgroup\":\"fpm\",\"marker\":{\"color\":\"#00cc96\",\"pattern\":{\"shape\":\"\"}},\"name\":\"fpm\",\"offsetgroup\":\"fpm\",\"orientation\":\"v\",\"showlegend\":true,\"textposition\":\"auto\",\"x\":[\"pipeline\\u002ffpm\\u002ffpm.go\"],\"xaxis\":\"x\",\"y\":[1],\"yaxis\":\"y\",\"type\":\"bar\"},{\"alignmentgroup\":\"True\",\"hovertemplate\":\"reason=logs\\u003cbr\\u003efile=%{x}\\u003cbr\\u003ecount=%{y}\\u003cextra\\u003e\\u003c\\u002fextra\\u003e\",\"legendgroup\":\"logs\",\"marker\":{\"color\":\"#ab63fa\",\"pattern\":{\"shape\":\"\"}},\"name\":\"logs\",\"offsetgroup\":\"logs\",\"orientation\":\"v\",\"showlegend\":true,\"textposition\":\"auto\",\"x\":[\"pipeline\\u002fbrew\\u002fbrew.go\",\"pipeline\\u002fbuild\\u002fbuild.go\",\"pipeline\\u002ffpm\\u002ffpm.go\"],\"xaxis\":\"x\",\"y\":[1,1,1],\"yaxis\":\"y\",\"type\":\"bar\"},{\"alignmentgroup\":\"True\",\"hovertemplate\":\"reason=debug,\\u003cbr\\u003efile=%{x}\\u003cbr\\u003ecount=%{y}\\u003cextra\\u003e\\u003c\\u002fextra\\u003e\",\"legendgroup\":\"debug,\",\"marker\":{\"color\":\"#FFA15A\",\"pattern\":{\"shape\":\"\"}},\"name\":\"debug,\",\"offsetgroup\":\"debug,\",\"orientation\":\"v\",\"showlegend\":true,\"textposition\":\"auto\",\"x\":[\"main.go\",\"pipeline\\u002fbrew\\u002fbrew.go\",\"pipeline\\u002fbuild\\u002fbuild.go\",\"pipeline\\u002frelease\\u002frelease.go\"],\"xaxis\":\"x\",\"y\":[2,2,2,2],\"yaxis\":\"y\",\"type\":\"bar\"},{\"alignmentgroup\":\"True\",\"hovertemplate\":\"reason=apex\\u003cbr\\u003efile=%{x}\\u003cbr\\u003ecount=%{y}\\u003cextra\\u003e\\u003c\\u002fextra\\u003e\",\"legendgroup\":\"apex\",\"marker\":{\"color\":\"#19d3f3\",\"pattern\":{\"shape\":\"\"}},\"name\":\"apex\",\"offsetgroup\":\"apex\",\"orientation\":\"v\",\"showlegend\":true,\"textposition\":\"auto\",\"x\":[\"context\\u002fcontext.go\",\"internal\\u002fclient\\u002fgithub.go\",\"main.go\",\"pipeline\\u002fbrew\\u002fbrew.go\",\"pipeline\\u002fbuild\\u002fbuild.go\",\"pipeline\\u002ffpm\\u002ffpm.go\",\"pipeline\\u002frelease\\u002frelease.go\"],\"xaxis\":\"x\",\"y\":[2,2,2,2,2,2,2],\"yaxis\":\"y\",\"type\":\"bar\"},{\"alignmentgroup\":\"True\",\"hovertemplate\":\"reason=removed\\u003cbr\\u003efile=%{x}\\u003cbr\\u003ecount=%{y}\\u003cextra\\u003e\\u003c\\u002fextra\\u003e\",\"legendgroup\":\"removed\",\"marker\":{\"color\":\"#FF6692\",\"pattern\":{\"shape\":\"\"}},\"name\":\"removed\",\"offsetgroup\":\"removed\",\"orientation\":\"v\",\"showlegend\":true,\"textposition\":\"auto\",\"x\":[\"README.md\",\"config\\u002fconfig.go\",\"pipeline\\u002fbrew\\u002fbrew.go\",\"pipeline\\u002fdefaults\\u002fdefaults.go\",\".travis.yml\",\"pipeline\\u002frelease\\u002frelease.go\",\"pipeline\\u002fbuild\\u002fbuild.go\",\"main.go\",\"context\\u002fcontext.go\"],\"xaxis\":\"x\",\"y\":[1,1,2,1,2,3,1,1,1],\"yaxis\":\"y\",\"type\":\"bar\"},{\"alignmentgroup\":\"True\",\"hovertemplate\":\"reason=Improve\\u003cbr\\u003efile=%{x}\\u003cbr\\u003ecount=%{y}\\u003cextra\\u003e\\u003c\\u002fextra\\u003e\",\"legendgroup\":\"Improve\",\"marker\":{\"color\":\"#B6E880\",\"pattern\":{\"shape\":\"\"}},\"name\":\"Improve\",\"offsetgroup\":\"Improve\",\"orientation\":\"v\",\"showlegend\":true,\"textposition\":\"auto\",\"x\":[\"pipeline\\u002fbrew\\u002fbrew_test.go\"],\"xaxis\":\"x\",\"y\":[1],\"yaxis\":\"y\",\"type\":\"bar\"},{\"alignmentgroup\":\"True\",\"hovertemplate\":\"reason=typo,\\u003cbr\\u003efile=%{x}\\u003cbr\\u003ecount=%{y}\\u003cextra\\u003e\\u003c\\u002fextra\\u003e\",\"legendgroup\":\"typo,\",\"marker\":{\"color\":\"#FF97FF\",\"pattern\":{\"shape\":\"\"}},\"name\":\"typo,\",\"offsetgroup\":\"typo,\",\"orientation\":\"v\",\"showlegend\":true,\"textposition\":\"auto\",\"x\":[\"README.md\"],\"xaxis\":\"x\",\"y\":[1],\"yaxis\":\"y\",\"type\":\"bar\"},{\"alignmentgroup\":\"True\",\"hovertemplate\":\"reason=Clearify\\u003cbr\\u003efile=%{x}\\u003cbr\\u003ecount=%{y}\\u003cextra\\u003e\\u003c\\u002fextra\\u003e\",\"legendgroup\":\"Clearify\",\"marker\":{\"color\":\"#FECB52\",\"pattern\":{\"shape\":\"\"}},\"name\":\"Clearify\",\"offsetgroup\":\"Clearify\",\"orientation\":\"v\",\"showlegend\":true,\"textposition\":\"auto\",\"x\":[\"pipeline\\u002fbuild\\u002fbuild.go\"],\"xaxis\":\"x\",\"y\":[1],\"yaxis\":\"y\",\"type\":\"bar\"},{\"alignmentgroup\":\"True\",\"hovertemplate\":\"reason=Mention\\u003cbr\\u003efile=%{x}\\u003cbr\\u003ecount=%{y}\\u003cextra\\u003e\\u003c\\u002fextra\\u003e\",\"legendgroup\":\"Mention\",\"marker\":{\"color\":\"#636efa\",\"pattern\":{\"shape\":\"\"}},\"name\":\"Mention\",\"offsetgroup\":\"Mention\",\"orientation\":\"v\",\"showlegend\":true,\"textposition\":\"auto\",\"x\":[\"README.md\"],\"xaxis\":\"x\",\"y\":[3],\"yaxis\":\"y\",\"type\":\"bar\"},{\"alignmentgroup\":\"True\",\"hovertemplate\":\"reason=deleting\\u003cbr\\u003efile=%{x}\\u003cbr\\u003ecount=%{y}\\u003cextra\\u003e\\u003c\\u002fextra\\u003e\",\"legendgroup\":\"deleting\",\"marker\":{\"color\":\"#EF553B\",\"pattern\":{\"shape\":\"\"}},\"name\":\"deleting\",\"offsetgroup\":\"deleting\",\"orientation\":\"v\",\"showlegend\":true,\"textposition\":\"auto\",\"x\":[\"pipeline\\u002fdefaults\\u002fdefaults.go\"],\"xaxis\":\"x\",\"y\":[1],\"yaxis\":\"y\",\"type\":\"bar\"},{\"alignmentgroup\":\"True\",\"hovertemplate\":\"reason=imports\\u003cbr\\u003efile=%{x}\\u003cbr\\u003ecount=%{y}\\u003cextra\\u003e\\u003c\\u002fextra\\u003e\",\"legendgroup\":\"imports\",\"marker\":{\"color\":\"#00cc96\",\"pattern\":{\"shape\":\"\"}},\"name\":\"imports\",\"offsetgroup\":\"imports\",\"orientation\":\"v\",\"showlegend\":true,\"textposition\":\"auto\",\"x\":[\"config\\u002fconfig.go\",\"pipeline\\u002fbuild\\u002fbuild.go\",\"pipeline\\u002frelease\\u002frelease.go\"],\"xaxis\":\"x\",\"y\":[1,1,1],\"yaxis\":\"y\",\"type\":\"bar\"},{\"alignmentgroup\":\"True\",\"hovertemplate\":\"reason=reorder\\u003cbr\\u003efile=%{x}\\u003cbr\\u003ecount=%{y}\\u003cextra\\u003e\\u003c\\u002fextra\\u003e\",\"legendgroup\":\"reorder\",\"marker\":{\"color\":\"#ab63fa\",\"pattern\":{\"shape\":\"\"}},\"name\":\"reorder\",\"offsetgroup\":\"reorder\",\"orientation\":\"v\",\"showlegend\":true,\"textposition\":\"auto\",\"x\":[\"pipeline\\u002fbuild\\u002fbuild.go\"],\"xaxis\":\"x\",\"y\":[1],\"yaxis\":\"y\",\"type\":\"bar\"},{\"alignmentgroup\":\"True\",\"hovertemplate\":\"reason=custom\\u003cbr\\u003efile=%{x}\\u003cbr\\u003ecount=%{y}\\u003cextra\\u003e\\u003c\\u002fextra\\u003e\",\"legendgroup\":\"custom\",\"marker\":{\"color\":\"#FFA15A\",\"pattern\":{\"shape\":\"\"}},\"name\":\"custom\",\"offsetgroup\":\"custom\",\"orientation\":\"v\",\"showlegend\":true,\"textposition\":\"auto\",\"x\":[\"README.md\",\"config\\u002fconfig.go\",\"pipeline\\u002fbuild\\u002fbuild.go\"],\"xaxis\":\"x\",\"y\":[1,1,1],\"yaxis\":\"y\",\"type\":\"bar\"},{\"alignmentgroup\":\"True\",\"hovertemplate\":\"reason=gofmt,\\u003cbr\\u003efile=%{x}\\u003cbr\\u003ecount=%{y}\\u003cextra\\u003e\\u003c\\u002fextra\\u003e\",\"legendgroup\":\"gofmt,\",\"marker\":{\"color\":\"#19d3f3\",\"pattern\":{\"shape\":\"\"}},\"name\":\"gofmt,\",\"offsetgroup\":\"gofmt,\",\"orientation\":\"v\",\"showlegend\":true,\"textposition\":\"auto\",\"x\":[\"config\\u002fconfig.go\"],\"xaxis\":\"x\",\"y\":[1],\"yaxis\":\"y\",\"type\":\"bar\"},{\"alignmentgroup\":\"True\",\"hovertemplate\":\"reason=detailed\\u003cbr\\u003efile=%{x}\\u003cbr\\u003ecount=%{y}\\u003cextra\\u003e\\u003c\\u002fextra\\u003e\",\"legendgroup\":\"detailed\",\"marker\":{\"color\":\"#FF6692\",\"pattern\":{\"shape\":\"\"}},\"name\":\"detailed\",\"offsetgroup\":\"detailed\",\"orientation\":\"v\",\"showlegend\":true,\"textposition\":\"auto\",\"x\":[\"pipeline\\u002fbuild\\u002fbuild.go\"],\"xaxis\":\"x\",\"y\":[1],\"yaxis\":\"y\",\"type\":\"bar\"},{\"alignmentgroup\":\"True\",\"hovertemplate\":\"reason=updated\\u003cbr\\u003efile=%{x}\\u003cbr\\u003ecount=%{y}\\u003cextra\\u003e\\u003c\\u002fextra\\u003e\",\"legendgroup\":\"updated\",\"marker\":{\"color\":\"#B6E880\",\"pattern\":{\"shape\":\"\"}},\"name\":\"updated\",\"offsetgroup\":\"updated\",\"orientation\":\"v\",\"showlegend\":true,\"textposition\":\"auto\",\"x\":[\"README.md\"],\"xaxis\":\"x\",\"y\":[1],\"yaxis\":\"y\",\"type\":\"bar\"},{\"alignmentgroup\":\"True\",\"hovertemplate\":\"reason=gofmt\\u003cbr\\u003efile=%{x}\\u003cbr\\u003ecount=%{y}\\u003cextra\\u003e\\u003c\\u002fextra\\u003e\",\"legendgroup\":\"gofmt\",\"marker\":{\"color\":\"#FF97FF\",\"pattern\":{\"shape\":\"\"}},\"name\":\"gofmt\",\"offsetgroup\":\"gofmt\",\"orientation\":\"v\",\"showlegend\":true,\"textposition\":\"auto\",\"x\":[\"config\\u002fconfig.go\",\"pipeline\\u002fbrew\\u002fbrew.go\",\"pipeline\\u002fbrew\\u002fbrew_test.go\",\".travis.yml\",\"main.go\",\"pipeline\\u002frelease\\u002frelease.go\"],\"xaxis\":\"x\",\"y\":[1,1,1,1,1,1],\"yaxis\":\"y\",\"type\":\"bar\"},{\"alignmentgroup\":\"True\",\"hovertemplate\":\"reason=simplify\\u003cbr\\u003efile=%{x}\\u003cbr\\u003ecount=%{y}\\u003cextra\\u003e\\u003c\\u002fextra\\u003e\",\"legendgroup\":\"simplify\",\"marker\":{\"color\":\"#FECB52\",\"pattern\":{\"shape\":\"\"}},\"name\":\"simplify\",\"offsetgroup\":\"simplify\",\"orientation\":\"v\",\"showlegend\":true,\"textposition\":\"auto\",\"x\":[\"README.md\",\"pipeline\\u002fbrew\\u002fbrew.go\",\"pipeline\\u002fbrew\\u002fbrew_test.go\"],\"xaxis\":\"x\",\"y\":[1,1,1],\"yaxis\":\"y\",\"type\":\"bar\"},{\"alignmentgroup\":\"True\",\"hovertemplate\":\"reason=improving\\u003cbr\\u003efile=%{x}\\u003cbr\\u003ecount=%{y}\\u003cextra\\u003e\\u003c\\u002fextra\\u003e\",\"legendgroup\":\"improving\",\"marker\":{\"color\":\"#636efa\",\"pattern\":{\"shape\":\"\"}},\"name\":\"improving\",\"offsetgroup\":\"improving\",\"orientation\":\"v\",\"showlegend\":true,\"textposition\":\"auto\",\"x\":[\"README.md\",\"pipeline\\u002fbuild\\u002fbuild.go\"],\"xaxis\":\"x\",\"y\":[2,1],\"yaxis\":\"y\",\"type\":\"bar\"},{\"alignmentgroup\":\"True\",\"hovertemplate\":\"reason=go\\u003cbr\\u003efile=%{x}\\u003cbr\\u003ecount=%{y}\\u003cextra\\u003e\\u003c\\u002fextra\\u003e\",\"legendgroup\":\"go\",\"marker\":{\"color\":\"#EF553B\",\"pattern\":{\"shape\":\"\"}},\"name\":\"go\",\"offsetgroup\":\"go\",\"orientation\":\"v\",\"showlegend\":true,\"textposition\":\"auto\",\"x\":[\".travis.yml\",\"README.md\",\"config\\u002fconfig.go\"],\"xaxis\":\"x\",\"y\":[2,2,1],\"yaxis\":\"y\",\"type\":\"bar\"},{\"alignmentgroup\":\"True\",\"hovertemplate\":\"reason=cleaner\\u003cbr\\u003efile=%{x}\\u003cbr\\u003ecount=%{y}\\u003cextra\\u003e\\u003c\\u002fextra\\u003e\",\"legendgroup\":\"cleaner\",\"marker\":{\"color\":\"#00cc96\",\"pattern\":{\"shape\":\"\"}},\"name\":\"cleaner\",\"offsetgroup\":\"cleaner\",\"orientation\":\"v\",\"showlegend\":true,\"textposition\":\"auto\",\"x\":[\"config\\u002fconfig.go\",\"pipeline\\u002fbuild\\u002fbuild.go\"],\"xaxis\":\"x\",\"y\":[1,1],\"yaxis\":\"y\",\"type\":\"bar\"},{\"alignmentgroup\":\"True\",\"hovertemplate\":\"reason=Incorporate\\u003cbr\\u003efile=%{x}\\u003cbr\\u003ecount=%{y}\\u003cextra\\u003e\\u003c\\u002fextra\\u003e\",\"legendgroup\":\"Incorporate\",\"marker\":{\"color\":\"#ab63fa\",\"pattern\":{\"shape\":\"\"}},\"name\":\"Incorporate\",\"offsetgroup\":\"Incorporate\",\"orientation\":\"v\",\"showlegend\":true,\"textposition\":\"auto\",\"x\":[\"main.go\"],\"xaxis\":\"x\",\"y\":[1],\"yaxis\":\"y\",\"type\":\"bar\"},{\"alignmentgroup\":\"True\",\"hovertemplate\":\"reason=Run\\u003cbr\\u003efile=%{x}\\u003cbr\\u003ecount=%{y}\\u003cextra\\u003e\\u003c\\u002fextra\\u003e\",\"legendgroup\":\"Run\",\"marker\":{\"color\":\"#FFA15A\",\"pattern\":{\"shape\":\"\"}},\"name\":\"Run\",\"offsetgroup\":\"Run\",\"orientation\":\"v\",\"showlegend\":true,\"textposition\":\"auto\",\"x\":[\"config\\u002fconfig.go\",\"main.go\"],\"xaxis\":\"x\",\"y\":[1,1],\"yaxis\":\"y\",\"type\":\"bar\"},{\"alignmentgroup\":\"True\",\"hovertemplate\":\"reason=Draft\\u003cbr\\u003efile=%{x}\\u003cbr\\u003ecount=%{y}\\u003cextra\\u003e\\u003c\\u002fextra\\u003e\",\"legendgroup\":\"Draft\",\"marker\":{\"color\":\"#19d3f3\",\"pattern\":{\"shape\":\"\"}},\"name\":\"Draft\",\"offsetgroup\":\"Draft\",\"orientation\":\"v\",\"showlegend\":true,\"textposition\":\"auto\",\"x\":[\"config\\u002fconfig.go\",\"main.go\"],\"xaxis\":\"x\",\"y\":[1,1],\"yaxis\":\"y\",\"type\":\"bar\"},{\"alignmentgroup\":\"True\",\"hovertemplate\":\"reason=broken\\u003cbr\\u003efile=%{x}\\u003cbr\\u003ecount=%{y}\\u003cextra\\u003e\\u003c\\u002fextra\\u003e\",\"legendgroup\":\"broken\",\"marker\":{\"color\":\"#FF6692\",\"pattern\":{\"shape\":\"\"}},\"name\":\"broken\",\"offsetgroup\":\"broken\",\"orientation\":\"v\",\"showlegend\":true,\"textposition\":\"auto\",\"x\":[\"README.md\"],\"xaxis\":\"x\",\"y\":[1],\"yaxis\":\"y\",\"type\":\"bar\"},{\"alignmentgroup\":\"True\",\"hovertemplate\":\"reason=h3\\u003cbr\\u003efile=%{x}\\u003cbr\\u003ecount=%{y}\\u003cextra\\u003e\\u003c\\u002fextra\\u003e\",\"legendgroup\":\"h3\",\"marker\":{\"color\":\"#B6E880\",\"pattern\":{\"shape\":\"\"}},\"name\":\"h3\",\"offsetgroup\":\"h3\",\"orientation\":\"v\",\"showlegend\":true,\"textposition\":\"auto\",\"x\":[\"README.md\"],\"xaxis\":\"x\",\"y\":[1],\"yaxis\":\"y\",\"type\":\"bar\"},{\"alignmentgroup\":\"True\",\"hovertemplate\":\"reason=a\\u003cbr\\u003efile=%{x}\\u003cbr\\u003ecount=%{y}\\u003cextra\\u003e\\u003c\\u002fextra\\u003e\",\"legendgroup\":\"a\",\"marker\":{\"color\":\"#FF97FF\",\"pattern\":{\"shape\":\"\"}},\"name\":\"a\",\"offsetgroup\":\"a\",\"orientation\":\"v\",\"showlegend\":true,\"textposition\":\"auto\",\"x\":[\"README.md\"],\"xaxis\":\"x\",\"y\":[1],\"yaxis\":\"y\",\"type\":\"bar\"},{\"alignmentgroup\":\"True\",\"hovertemplate\":\"reason=make\\u003cbr\\u003efile=%{x}\\u003cbr\\u003ecount=%{y}\\u003cextra\\u003e\\u003c\\u002fextra\\u003e\",\"legendgroup\":\"make\",\"marker\":{\"color\":\"#FECB52\",\"pattern\":{\"shape\":\"\"}},\"name\":\"make\",\"offsetgroup\":\"make\",\"orientation\":\"v\",\"showlegend\":true,\"textposition\":\"auto\",\"x\":[\".travis.yml\",\"main.go\",\"README.md\",\"config\\u002fconfig.go\",\"pipeline\\u002fbrew\\u002fbrew.go\",\"pipeline\\u002fbrew\\u002fbrew_test.go\",\"pipeline\\u002ffpm\\u002ffpm.go\"],\"xaxis\":\"x\",\"y\":[1,1,1,1,1,1,1],\"yaxis\":\"y\",\"type\":\"bar\"},{\"alignmentgroup\":\"True\",\"hovertemplate\":\"reason=badge\\u003cbr\\u003efile=%{x}\\u003cbr\\u003ecount=%{y}\\u003cextra\\u003e\\u003c\\u002fextra\\u003e\",\"legendgroup\":\"badge\",\"marker\":{\"color\":\"#636efa\",\"pattern\":{\"shape\":\"\"}},\"name\":\"badge\",\"offsetgroup\":\"badge\",\"orientation\":\"v\",\"showlegend\":true,\"textposition\":\"auto\",\"x\":[\"README.md\"],\"xaxis\":\"x\",\"y\":[1],\"yaxis\":\"y\",\"type\":\"bar\"},{\"alignmentgroup\":\"True\",\"hovertemplate\":\"reason=switching\\u003cbr\\u003efile=%{x}\\u003cbr\\u003ecount=%{y}\\u003cextra\\u003e\\u003c\\u002fextra\\u003e\",\"legendgroup\":\"switching\",\"marker\":{\"color\":\"#EF553B\",\"pattern\":{\"shape\":\"\"}},\"name\":\"switching\",\"offsetgroup\":\"switching\",\"orientation\":\"v\",\"showlegend\":true,\"textposition\":\"auto\",\"x\":[\".travis.yml\"],\"xaxis\":\"x\",\"y\":[1],\"yaxis\":\"y\",\"type\":\"bar\"},{\"alignmentgroup\":\"True\",\"hovertemplate\":\"reason=allowing\\u003cbr\\u003efile=%{x}\\u003cbr\\u003ecount=%{y}\\u003cextra\\u003e\\u003c\\u002fextra\\u003e\",\"legendgroup\":\"allowing\",\"marker\":{\"color\":\"#00cc96\",\"pattern\":{\"shape\":\"\"}},\"name\":\"allowing\",\"offsetgroup\":\"allowing\",\"orientation\":\"v\",\"showlegend\":true,\"textposition\":\"auto\",\"x\":[\"README.md\",\"config\\u002fconfig.go\",\"pipeline\\u002fbrew\\u002fbrew.go\",\"pipeline\\u002fbrew\\u002fbrew_test.go\"],\"xaxis\":\"x\",\"y\":[1,1,1,1],\"yaxis\":\"y\",\"type\":\"bar\"},{\"alignmentgroup\":\"True\",\"hovertemplate\":\"reason=avoid\\u003cbr\\u003efile=%{x}\\u003cbr\\u003ecount=%{y}\\u003cextra\\u003e\\u003c\\u002fextra\\u003e\",\"legendgroup\":\"avoid\",\"marker\":{\"color\":\"#ab63fa\",\"pattern\":{\"shape\":\"\"}},\"name\":\"avoid\",\"offsetgroup\":\"avoid\",\"orientation\":\"v\",\"showlegend\":true,\"textposition\":\"auto\",\"x\":[\".travis.yml\"],\"xaxis\":\"x\",\"y\":[1],\"yaxis\":\"y\",\"type\":\"bar\"},{\"alignmentgroup\":\"True\",\"hovertemplate\":\"reason=covered\\u003cbr\\u003efile=%{x}\\u003cbr\\u003ecount=%{y}\\u003cextra\\u003e\\u003c\\u002fextra\\u003e\",\"legendgroup\":\"covered\",\"marker\":{\"color\":\"#FFA15A\",\"pattern\":{\"shape\":\"\"}},\"name\":\"covered\",\"offsetgroup\":\"covered\",\"orientation\":\"v\",\"showlegend\":true,\"textposition\":\"auto\",\"x\":[\".travis.yml\",\"main.go\"],\"xaxis\":\"x\",\"y\":[1,1],\"yaxis\":\"y\",\"type\":\"bar\"},{\"alignmentgroup\":\"True\",\"hovertemplate\":\"reason=typo\\u003cbr\\u003efile=%{x}\\u003cbr\\u003ecount=%{y}\\u003cextra\\u003e\\u003c\\u002fextra\\u003e\",\"legendgroup\":\"typo\",\"marker\":{\"color\":\"#19d3f3\",\"pattern\":{\"shape\":\"\"}},\"name\":\"typo\",\"offsetgroup\":\"typo\",\"orientation\":\"v\",\"showlegend\":true,\"textposition\":\"auto\",\"x\":[\".travis.yml\",\"config\\u002fconfig.go\"],\"xaxis\":\"x\",\"y\":[2,2],\"yaxis\":\"y\",\"type\":\"bar\"},{\"alignmentgroup\":\"True\",\"hovertemplate\":\"reason=actually\\u003cbr\\u003efile=%{x}\\u003cbr\\u003ecount=%{y}\\u003cextra\\u003e\\u003c\\u002fextra\\u003e\",\"legendgroup\":\"actually\",\"marker\":{\"color\":\"#FF6692\",\"pattern\":{\"shape\":\"\"}},\"name\":\"actually\",\"offsetgroup\":\"actually\",\"orientation\":\"v\",\"showlegend\":true,\"textposition\":\"auto\",\"x\":[\".travis.yml\"],\"xaxis\":\"x\",\"y\":[1],\"yaxis\":\"y\",\"type\":\"bar\"},{\"alignmentgroup\":\"True\",\"hovertemplate\":\"reason=logging\\u003cbr\\u003efile=%{x}\\u003cbr\\u003ecount=%{y}\\u003cextra\\u003e\\u003c\\u002fextra\\u003e\",\"legendgroup\":\"logging\",\"marker\":{\"color\":\"#B6E880\",\"pattern\":{\"shape\":\"\"}},\"name\":\"logging\",\"offsetgroup\":\"logging\",\"orientation\":\"v\",\"showlegend\":true,\"textposition\":\"auto\",\"x\":[\"pipeline\\u002fbrew\\u002fbrew.go\",\"pipeline\\u002frelease\\u002frelease.go\"],\"xaxis\":\"x\",\"y\":[1,1],\"yaxis\":\"y\",\"type\":\"bar\"},{\"alignmentgroup\":\"True\",\"hovertemplate\":\"reason=Reduce\\u003cbr\\u003efile=%{x}\\u003cbr\\u003ecount=%{y}\\u003cextra\\u003e\\u003c\\u002fextra\\u003e\",\"legendgroup\":\"Reduce\",\"marker\":{\"color\":\"#FF97FF\",\"pattern\":{\"shape\":\"\"}},\"name\":\"Reduce\",\"offsetgroup\":\"Reduce\",\"orientation\":\"v\",\"showlegend\":true,\"textposition\":\"auto\",\"x\":[\"pipeline\\u002fbuild\\u002fbuild.go\"],\"xaxis\":\"x\",\"y\":[1],\"yaxis\":\"y\",\"type\":\"bar\"},{\"alignmentgroup\":\"True\",\"hovertemplate\":\"reason=log\\u003cbr\\u003efile=%{x}\\u003cbr\\u003ecount=%{y}\\u003cextra\\u003e\\u003c\\u002fextra\\u003e\",\"legendgroup\":\"log\",\"marker\":{\"color\":\"#FECB52\",\"pattern\":{\"shape\":\"\"}},\"name\":\"log\",\"offsetgroup\":\"log\",\"orientation\":\"v\",\"showlegend\":true,\"textposition\":\"auto\",\"x\":[\"main.go\"],\"xaxis\":\"x\",\"y\":[2],\"yaxis\":\"y\",\"type\":\"bar\"},{\"alignmentgroup\":\"True\",\"hovertemplate\":\"reason=skip\\u003cbr\\u003efile=%{x}\\u003cbr\\u003ecount=%{y}\\u003cextra\\u003e\\u003c\\u002fextra\\u003e\",\"legendgroup\":\"skip\",\"marker\":{\"color\":\"#636efa\",\"pattern\":{\"shape\":\"\"}},\"name\":\"skip\",\"offsetgroup\":\"skip\",\"orientation\":\"v\",\"showlegend\":true,\"textposition\":\"auto\",\"x\":[\"context\\u002fcontext.go\",\"main.go\",\"pipeline\\u002fbrew\\u002fbrew.go\",\"pipeline\\u002fbrew\\u002fbrew_test.go\",\"pipeline\\u002frelease\\u002frelease.go\",\"pipeline\\u002fbuild\\u002fbuild.go\"],\"xaxis\":\"x\",\"y\":[1,2,1,1,1,1],\"yaxis\":\"y\",\"type\":\"bar\"},{\"alignmentgroup\":\"True\",\"hovertemplate\":\"reason=checksum\\u003cbr\\u003efile=%{x}\\u003cbr\\u003ecount=%{y}\\u003cextra\\u003e\\u003c\\u002fextra\\u003e\",\"legendgroup\":\"checksum\",\"marker\":{\"color\":\"#EF553B\",\"pattern\":{\"shape\":\"\"}},\"name\":\"checksum\",\"offsetgroup\":\"checksum\",\"orientation\":\"v\",\"showlegend\":true,\"textposition\":\"auto\",\"x\":[\"main.go\"],\"xaxis\":\"x\",\"y\":[1],\"yaxis\":\"y\",\"type\":\"bar\"},{\"alignmentgroup\":\"True\",\"hovertemplate\":\"reason=moved\\u003cbr\\u003efile=%{x}\\u003cbr\\u003ecount=%{y}\\u003cextra\\u003e\\u003c\\u002fextra\\u003e\",\"legendgroup\":\"moved\",\"marker\":{\"color\":\"#00cc96\",\"pattern\":{\"shape\":\"\"}},\"name\":\"moved\",\"offsetgroup\":\"moved\",\"orientation\":\"v\",\"showlegend\":true,\"textposition\":\"auto\",\"x\":[\"main.go\"],\"xaxis\":\"x\",\"y\":[1],\"yaxis\":\"y\",\"type\":\"bar\"},{\"alignmentgroup\":\"True\",\"hovertemplate\":\"reason=oops\\u003cbr\\u003efile=%{x}\\u003cbr\\u003ecount=%{y}\\u003cextra\\u003e\\u003c\\u002fextra\\u003e\",\"legendgroup\":\"oops\",\"marker\":{\"color\":\"#ab63fa\",\"pattern\":{\"shape\":\"\"}},\"name\":\"oops\",\"offsetgroup\":\"oops\",\"orientation\":\"v\",\"showlegend\":true,\"textposition\":\"auto\",\"x\":[\".travis.yml\"],\"xaxis\":\"x\",\"y\":[1],\"yaxis\":\"y\",\"type\":\"bar\"},{\"alignmentgroup\":\"True\",\"hovertemplate\":\"reason=sudo\\u003cbr\\u003efile=%{x}\\u003cbr\\u003ecount=%{y}\\u003cextra\\u003e\\u003c\\u002fextra\\u003e\",\"legendgroup\":\"sudo\",\"marker\":{\"color\":\"#FFA15A\",\"pattern\":{\"shape\":\"\"}},\"name\":\"sudo\",\"offsetgroup\":\"sudo\",\"orientation\":\"v\",\"showlegend\":true,\"textposition\":\"auto\",\"x\":[\".travis.yml\"],\"xaxis\":\"x\",\"y\":[1],\"yaxis\":\"y\",\"type\":\"bar\"},{\"alignmentgroup\":\"True\",\"hovertemplate\":\"reason=singularized\\u003cbr\\u003efile=%{x}\\u003cbr\\u003ecount=%{y}\\u003cextra\\u003e\\u003c\\u002fextra\\u003e\",\"legendgroup\":\"singularized\",\"marker\":{\"color\":\"#19d3f3\",\"pattern\":{\"shape\":\"\"}},\"name\":\"singularized\",\"offsetgroup\":\"singularized\",\"orientation\":\"v\",\"showlegend\":true,\"textposition\":\"auto\",\"x\":[\"pipeline\\u002fbrew\\u002fbrew.go\",\"pipeline\\u002fbrew\\u002fbrew_test.go\",\"pipeline\\u002frelease\\u002frelease.go\"],\"xaxis\":\"x\",\"y\":[1,1,1],\"yaxis\":\"y\",\"type\":\"bar\"},{\"alignmentgroup\":\"True\",\"hovertemplate\":\"reason=checksumming\\u003cbr\\u003efile=%{x}\\u003cbr\\u003ecount=%{y}\\u003cextra\\u003e\\u003c\\u002fextra\\u003e\",\"legendgroup\":\"checksumming\",\"marker\":{\"color\":\"#FF6692\",\"pattern\":{\"shape\":\"\"}},\"name\":\"checksumming\",\"offsetgroup\":\"checksumming\",\"orientation\":\"v\",\"showlegend\":true,\"textposition\":\"auto\",\"x\":[\"main.go\"],\"xaxis\":\"x\",\"y\":[1],\"yaxis\":\"y\",\"type\":\"bar\"},{\"alignmentgroup\":\"True\",\"hovertemplate\":\"reason=trying\\u003cbr\\u003efile=%{x}\\u003cbr\\u003ecount=%{y}\\u003cextra\\u003e\\u003c\\u002fextra\\u003e\",\"legendgroup\":\"trying\",\"marker\":{\"color\":\"#B6E880\",\"pattern\":{\"shape\":\"\"}},\"name\":\"trying\",\"offsetgroup\":\"trying\",\"orientation\":\"v\",\"showlegend\":true,\"textposition\":\"auto\",\"x\":[\".travis.yml\"],\"xaxis\":\"x\",\"y\":[1],\"yaxis\":\"y\",\"type\":\"bar\"},{\"alignmentgroup\":\"True\",\"hovertemplate\":\"reason=release\\u003cbr\\u003efile=%{x}\\u003cbr\\u003ecount=%{y}\\u003cextra\\u003e\\u003c\\u002fextra\\u003e\",\"legendgroup\":\"release\",\"marker\":{\"color\":\"#FF97FF\",\"pattern\":{\"shape\":\"\"}},\"name\":\"release\",\"offsetgroup\":\"release\",\"orientation\":\"v\",\"showlegend\":true,\"textposition\":\"auto\",\"x\":[\"pipeline\\u002frelease\\u002frelease.go\",\"pipeline\\u002fbrew\\u002fbrew.go\",\"main.go\"],\"xaxis\":\"x\",\"y\":[3,1,1],\"yaxis\":\"y\",\"type\":\"bar\"},{\"alignmentgroup\":\"True\",\"hovertemplate\":\"reason=client\\u003cbr\\u003efile=%{x}\\u003cbr\\u003ecount=%{y}\\u003cextra\\u003e\\u003c\\u002fextra\\u003e\",\"legendgroup\":\"client\",\"marker\":{\"color\":\"#FECB52\",\"pattern\":{\"shape\":\"\"}},\"name\":\"client\",\"offsetgroup\":\"client\",\"orientation\":\"v\",\"showlegend\":true,\"textposition\":\"auto\",\"x\":[\"pipeline\\u002fbrew\\u002fbrew.go\",\"pipeline\\u002frelease\\u002frelease.go\"],\"xaxis\":\"x\",\"y\":[1,1],\"yaxis\":\"y\",\"type\":\"bar\"},{\"alignmentgroup\":\"True\",\"hovertemplate\":\"reason=ldflags\\u003cbr\\u003efile=%{x}\\u003cbr\\u003ecount=%{y}\\u003cextra\\u003e\\u003c\\u002fextra\\u003e\",\"legendgroup\":\"ldflags\",\"marker\":{\"color\":\"#636efa\",\"pattern\":{\"shape\":\"\"}},\"name\":\"ldflags\",\"offsetgroup\":\"ldflags\",\"orientation\":\"v\",\"showlegend\":true,\"textposition\":\"auto\",\"x\":[\"README.md\",\"context\\u002fcontext.go\",\"main.go\",\"pipeline\\u002fbuild\\u002fbuild.go\",\"pipeline\\u002fdefaults\\u002fdefaults.go\"],\"xaxis\":\"x\",\"y\":[1,1,1,1,1],\"yaxis\":\"y\",\"type\":\"bar\"},{\"alignmentgroup\":\"True\",\"hovertemplate\":\"reason=err\\u003cbr\\u003efile=%{x}\\u003cbr\\u003ecount=%{y}\\u003cextra\\u003e\\u003c\\u002fextra\\u003e\",\"legendgroup\":\"err\",\"marker\":{\"color\":\"#EF553B\",\"pattern\":{\"shape\":\"\"}},\"name\":\"err\",\"offsetgroup\":\"err\",\"orientation\":\"v\",\"showlegend\":true,\"textposition\":\"auto\",\"x\":[\"pipeline\\u002fbuild\\u002fbuild.go\"],\"xaxis\":\"x\",\"y\":[1],\"yaxis\":\"y\",\"type\":\"bar\"},{\"alignmentgroup\":\"True\",\"hovertemplate\":\"reason=govet\\u003cbr\\u003efile=%{x}\\u003cbr\\u003ecount=%{y}\\u003cextra\\u003e\\u003c\\u002fextra\\u003e\",\"legendgroup\":\"govet\",\"marker\":{\"color\":\"#00cc96\",\"pattern\":{\"shape\":\"\"}},\"name\":\"govet\",\"offsetgroup\":\"govet\",\"orientation\":\"v\",\"showlegend\":true,\"textposition\":\"auto\",\"x\":[\"pipeline\\u002fbrew\\u002fbrew_test.go\"],\"xaxis\":\"x\",\"y\":[1],\"yaxis\":\"y\",\"type\":\"bar\"},{\"alignmentgroup\":\"True\",\"hovertemplate\":\"reason=temporarely\\u003cbr\\u003efile=%{x}\\u003cbr\\u003ecount=%{y}\\u003cextra\\u003e\\u003c\\u002fextra\\u003e\",\"legendgroup\":\"temporarely\",\"marker\":{\"color\":\"#ab63fa\",\"pattern\":{\"shape\":\"\"}},\"name\":\"temporarely\",\"offsetgroup\":\"temporarely\",\"orientation\":\"v\",\"showlegend\":true,\"textposition\":\"auto\",\"x\":[\".travis.yml\"],\"xaxis\":\"x\",\"y\":[1],\"yaxis\":\"y\",\"type\":\"bar\"},{\"alignmentgroup\":\"True\",\"hovertemplate\":\"reason=changing\\u003cbr\\u003efile=%{x}\\u003cbr\\u003ecount=%{y}\\u003cextra\\u003e\\u003c\\u002fextra\\u003e\",\"legendgroup\":\"changing\",\"marker\":{\"color\":\"#FFA15A\",\"pattern\":{\"shape\":\"\"}},\"name\":\"changing\",\"offsetgroup\":\"changing\",\"orientation\":\"v\",\"showlegend\":true,\"textposition\":\"auto\",\"x\":[\"README.md\",\"config\\u002fconfig.go\",\"context\\u002fcontext.go\",\"main.go\",\"pipeline\\u002fbrew\\u002fbrew.go\",\"pipeline\\u002fbrew\\u002fbrew_test.go\",\"pipeline\\u002fdefaults\\u002fdefaults.go\",\"pipeline\\u002frelease\\u002frelease.go\"],\"xaxis\":\"x\",\"y\":[2,1,1,1,1,1,2,1],\"yaxis\":\"y\",\"type\":\"bar\"},{\"alignmentgroup\":\"True\",\"hovertemplate\":\"reason=context\\u003cbr\\u003efile=%{x}\\u003cbr\\u003ecount=%{y}\\u003cextra\\u003e\\u003c\\u002fextra\\u003e\",\"legendgroup\":\"context\",\"marker\":{\"color\":\"#19d3f3\",\"pattern\":{\"shape\":\"\"}},\"name\":\"context\",\"offsetgroup\":\"context\",\"orientation\":\"v\",\"showlegend\":true,\"textposition\":\"auto\",\"x\":[\"context\\u002fcontext.go\",\"pipeline\\u002fbrew\\u002fbrew.go\",\"pipeline\\u002frelease\\u002frelease.go\"],\"xaxis\":\"x\",\"y\":[1,1,1],\"yaxis\":\"y\",\"type\":\"bar\"},{\"alignmentgroup\":\"True\",\"hovertemplate\":\"reason=First\\u003cbr\\u003efile=%{x}\\u003cbr\\u003ecount=%{y}\\u003cextra\\u003e\\u003c\\u002fextra\\u003e\",\"legendgroup\":\"First\",\"marker\":{\"color\":\"#FF6692\",\"pattern\":{\"shape\":\"\"}},\"name\":\"First\",\"offsetgroup\":\"First\",\"orientation\":\"v\",\"showlegend\":true,\"textposition\":\"auto\",\"x\":[\"README.md\",\"config\\u002fconfig.go\",\"pipeline\\u002fbrew\\u002fbrew.go\",\"pipeline\\u002fbrew\\u002fbrew_test.go\"],\"xaxis\":\"x\",\"y\":[1,1,1,1],\"yaxis\":\"y\",\"type\":\"bar\"},{\"alignmentgroup\":\"True\",\"hovertemplate\":\"reason=coveralls\\u003cbr\\u003efile=%{x}\\u003cbr\\u003ecount=%{y}\\u003cextra\\u003e\\u003c\\u002fextra\\u003e\",\"legendgroup\":\"coveralls\",\"marker\":{\"color\":\"#B6E880\",\"pattern\":{\"shape\":\"\"}},\"name\":\"coveralls\",\"offsetgroup\":\"coveralls\",\"orientation\":\"v\",\"showlegend\":true,\"textposition\":\"auto\",\"x\":[\"README.md\"],\"xaxis\":\"x\",\"y\":[1],\"yaxis\":\"y\",\"type\":\"bar\"},{\"alignmentgroup\":\"True\",\"hovertemplate\":\"reason=goveralls\\u003cbr\\u003efile=%{x}\\u003cbr\\u003ecount=%{y}\\u003cextra\\u003e\\u003c\\u002fextra\\u003e\",\"legendgroup\":\"goveralls\",\"marker\":{\"color\":\"#FF97FF\",\"pattern\":{\"shape\":\"\"}},\"name\":\"goveralls\",\"offsetgroup\":\"goveralls\",\"orientation\":\"v\",\"showlegend\":true,\"textposition\":\"auto\",\"x\":[\".travis.yml\"],\"xaxis\":\"x\",\"y\":[1],\"yaxis\":\"y\",\"type\":\"bar\"},{\"alignmentgroup\":\"True\",\"hovertemplate\":\"reason=adds\\u003cbr\\u003efile=%{x}\\u003cbr\\u003ecount=%{y}\\u003cextra\\u003e\\u003c\\u002fextra\\u003e\",\"legendgroup\":\"adds\",\"marker\":{\"color\":\"#FECB52\",\"pattern\":{\"shape\":\"\"}},\"name\":\"adds\",\"offsetgroup\":\"adds\",\"orientation\":\"v\",\"showlegend\":true,\"textposition\":\"auto\",\"x\":[\"config\\u002fconfig.go\",\"pipeline\\u002fbrew\\u002fbrew.go\",\"pipeline\\u002fbrew\\u002fbrew_test.go\",\"pipeline\\u002ffpm\\u002ffpm.go\"],\"xaxis\":\"x\",\"y\":[1,1,1,1],\"yaxis\":\"y\",\"type\":\"bar\"},{\"alignmentgroup\":\"True\",\"hovertemplate\":\"reason=concurrency\\u003cbr\\u003efile=%{x}\\u003cbr\\u003ecount=%{y}\\u003cextra\\u003e\\u003c\\u002fextra\\u003e\",\"legendgroup\":\"concurrency\",\"marker\":{\"color\":\"#636efa\",\"pattern\":{\"shape\":\"\"}},\"name\":\"concurrency\",\"offsetgroup\":\"concurrency\",\"orientation\":\"v\",\"showlegend\":true,\"textposition\":\"auto\",\"x\":[\"pipeline\\u002ffpm\\u002ffpm.go\"],\"xaxis\":\"x\",\"y\":[1],\"yaxis\":\"y\",\"type\":\"bar\"},{\"alignmentgroup\":\"True\",\"hovertemplate\":\"reason=debug\\u003cbr\\u003efile=%{x}\\u003cbr\\u003ecount=%{y}\\u003cextra\\u003e\\u003c\\u002fextra\\u003e\",\"legendgroup\":\"debug\",\"marker\":{\"color\":\"#EF553B\",\"pattern\":{\"shape\":\"\"}},\"name\":\"debug\",\"offsetgroup\":\"debug\",\"orientation\":\"v\",\"showlegend\":true,\"textposition\":\"auto\",\"x\":[\".travis.yml\"],\"xaxis\":\"x\",\"y\":[3],\"yaxis\":\"y\",\"type\":\"bar\"},{\"alignmentgroup\":\"True\",\"hovertemplate\":\"reason=note\\u003cbr\\u003efile=%{x}\\u003cbr\\u003ecount=%{y}\\u003cextra\\u003e\\u003c\\u002fextra\\u003e\",\"legendgroup\":\"note\",\"marker\":{\"color\":\"#00cc96\",\"pattern\":{\"shape\":\"\"}},\"name\":\"note\",\"offsetgroup\":\"note\",\"orientation\":\"v\",\"showlegend\":true,\"textposition\":\"auto\",\"x\":[\"README.md\"],\"xaxis\":\"x\",\"y\":[1],\"yaxis\":\"y\",\"type\":\"bar\"},{\"alignmentgroup\":\"True\",\"hovertemplate\":\"reason=comment\\u003cbr\\u003efile=%{x}\\u003cbr\\u003ecount=%{y}\\u003cextra\\u003e\\u003c\\u002fextra\\u003e\",\"legendgroup\":\"comment\",\"marker\":{\"color\":\"#ab63fa\",\"pattern\":{\"shape\":\"\"}},\"name\":\"comment\",\"offsetgroup\":\"comment\",\"orientation\":\"v\",\"showlegend\":true,\"textposition\":\"auto\",\"x\":[\"pipeline\\u002frelease\\u002frelease.go\"],\"xaxis\":\"x\",\"y\":[1],\"yaxis\":\"y\",\"type\":\"bar\"},{\"alignmentgroup\":\"True\",\"hovertemplate\":\"reason=travis\\u003cbr\\u003efile=%{x}\\u003cbr\\u003ecount=%{y}\\u003cextra\\u003e\\u003c\\u002fextra\\u003e\",\"legendgroup\":\"travis\",\"marker\":{\"color\":\"#FFA15A\",\"pattern\":{\"shape\":\"\"}},\"name\":\"travis\",\"offsetgroup\":\"travis\",\"orientation\":\"v\",\"showlegend\":true,\"textposition\":\"auto\",\"x\":[\".travis.yml\"],\"xaxis\":\"x\",\"y\":[1],\"yaxis\":\"y\",\"type\":\"bar\"},{\"alignmentgroup\":\"True\",\"hovertemplate\":\"reason=Link\\u003cbr\\u003efile=%{x}\\u003cbr\\u003ecount=%{y}\\u003cextra\\u003e\\u003c\\u002fextra\\u003e\",\"legendgroup\":\"Link\",\"marker\":{\"color\":\"#19d3f3\",\"pattern\":{\"shape\":\"\"}},\"name\":\"Link\",\"offsetgroup\":\"Link\",\"orientation\":\"v\",\"showlegend\":true,\"textposition\":\"auto\",\"x\":[\"README.md\"],\"xaxis\":\"x\",\"y\":[2],\"yaxis\":\"y\",\"type\":\"bar\"},{\"alignmentgroup\":\"True\",\"hovertemplate\":\"reason=source\\u003cbr\\u003efile=%{x}\\u003cbr\\u003ecount=%{y}\\u003cextra\\u003e\\u003c\\u002fextra\\u003e\",\"legendgroup\":\"source\",\"marker\":{\"color\":\"#FF6692\",\"pattern\":{\"shape\":\"\"}},\"name\":\"source\",\"offsetgroup\":\"source\",\"orientation\":\"v\",\"showlegend\":true,\"textposition\":\"auto\",\"x\":[\"main.go\"],\"xaxis\":\"x\",\"y\":[1],\"yaxis\":\"y\",\"type\":\"bar\"},{\"alignmentgroup\":\"True\",\"hovertemplate\":\"reason=changed\\u003cbr\\u003efile=%{x}\\u003cbr\\u003ecount=%{y}\\u003cextra\\u003e\\u003c\\u002fextra\\u003e\",\"legendgroup\":\"changed\",\"marker\":{\"color\":\"#B6E880\",\"pattern\":{\"shape\":\"\"}},\"name\":\"changed\",\"offsetgroup\":\"changed\",\"orientation\":\"v\",\"showlegend\":true,\"textposition\":\"auto\",\"x\":[\"pipeline\\u002fbuild\\u002fbuild.go\",\"config\\u002fconfig.go\"],\"xaxis\":\"x\",\"y\":[1,1],\"yaxis\":\"y\",\"type\":\"bar\"},{\"alignmentgroup\":\"True\",\"hovertemplate\":\"reason=simplified\\u003cbr\\u003efile=%{x}\\u003cbr\\u003ecount=%{y}\\u003cextra\\u003e\\u003c\\u002fextra\\u003e\",\"legendgroup\":\"simplified\",\"marker\":{\"color\":\"#FF97FF\",\"pattern\":{\"shape\":\"\"}},\"name\":\"simplified\",\"offsetgroup\":\"simplified\",\"orientation\":\"v\",\"showlegend\":true,\"textposition\":\"auto\",\"x\":[\"pipeline\\u002fbuild\\u002fbuild.go\",\"config\\u002fconfig.go\"],\"xaxis\":\"x\",\"y\":[1,1],\"yaxis\":\"y\",\"type\":\"bar\"},{\"alignmentgroup\":\"True\",\"hovertemplate\":\"reason=better\\u003cbr\\u003efile=%{x}\\u003cbr\\u003ecount=%{y}\\u003cextra\\u003e\\u003c\\u002fextra\\u003e\",\"legendgroup\":\"better\",\"marker\":{\"color\":\"#FECB52\",\"pattern\":{\"shape\":\"\"}},\"name\":\"better\",\"offsetgroup\":\"better\",\"orientation\":\"v\",\"showlegend\":true,\"textposition\":\"auto\",\"x\":[\"README.md\",\"pipeline\\u002frelease\\u002frelease.go\"],\"xaxis\":\"x\",\"y\":[1,1],\"yaxis\":\"y\",\"type\":\"bar\"},{\"alignmentgroup\":\"True\",\"hovertemplate\":\"reason=formulae\\u003cbr\\u003efile=%{x}\\u003cbr\\u003ecount=%{y}\\u003cextra\\u003e\\u003c\\u002fextra\\u003e\",\"legendgroup\":\"formulae\",\"marker\":{\"color\":\"#636efa\",\"pattern\":{\"shape\":\"\"}},\"name\":\"formulae\",\"offsetgroup\":\"formulae\",\"orientation\":\"v\",\"showlegend\":true,\"textposition\":\"auto\",\"x\":[\"README.md\"],\"xaxis\":\"x\",\"y\":[1],\"yaxis\":\"y\",\"type\":\"bar\"},{\"alignmentgroup\":\"True\",\"hovertemplate\":\"reason=dont\\u003cbr\\u003efile=%{x}\\u003cbr\\u003ecount=%{y}\\u003cextra\\u003e\\u003c\\u002fextra\\u003e\",\"legendgroup\":\"dont\",\"marker\":{\"color\":\"#EF553B\",\"pattern\":{\"shape\":\"\"}},\"name\":\"dont\",\"offsetgroup\":\"dont\",\"orientation\":\"v\",\"showlegend\":true,\"textposition\":\"auto\",\"x\":[\"main.go\"],\"xaxis\":\"x\",\"y\":[1],\"yaxis\":\"y\",\"type\":\"bar\"},{\"alignmentgroup\":\"True\",\"hovertemplate\":\"reason=small\\u003cbr\\u003efile=%{x}\\u003cbr\\u003ecount=%{y}\\u003cextra\\u003e\\u003c\\u002fextra\\u003e\",\"legendgroup\":\"small\",\"marker\":{\"color\":\"#00cc96\",\"pattern\":{\"shape\":\"\"}},\"name\":\"small\",\"offsetgroup\":\"small\",\"orientation\":\"v\",\"showlegend\":true,\"textposition\":\"auto\",\"x\":[\"README.md\"],\"xaxis\":\"x\",\"y\":[2],\"yaxis\":\"y\",\"type\":\"bar\"},{\"alignmentgroup\":\"True\",\"hovertemplate\":\"reason=mv\\u003cbr\\u003efile=%{x}\\u003cbr\\u003ecount=%{y}\\u003cextra\\u003e\\u003c\\u002fextra\\u003e\",\"legendgroup\":\"mv\",\"marker\":{\"color\":\"#ab63fa\",\"pattern\":{\"shape\":\"\"}},\"name\":\"mv\",\"offsetgroup\":\"mv\",\"orientation\":\"v\",\"showlegend\":true,\"textposition\":\"auto\",\"x\":[\"README.md\"],\"xaxis\":\"x\",\"y\":[1],\"yaxis\":\"y\",\"type\":\"bar\"},{\"alignmentgroup\":\"True\",\"hovertemplate\":\"reason=Typo\\u003cbr\\u003efile=%{x}\\u003cbr\\u003ecount=%{y}\\u003cextra\\u003e\\u003c\\u002fextra\\u003e\",\"legendgroup\":\"Typo\",\"marker\":{\"color\":\"#FFA15A\",\"pattern\":{\"shape\":\"\"}},\"name\":\"Typo\",\"offsetgroup\":\"Typo\",\"orientation\":\"v\",\"showlegend\":true,\"textposition\":\"auto\",\"x\":[\"README.md\"],\"xaxis\":\"x\",\"y\":[1],\"yaxis\":\"y\",\"type\":\"bar\"},{\"alignmentgroup\":\"True\",\"hovertemplate\":\"reason=Clean\\u003cbr\\u003efile=%{x}\\u003cbr\\u003ecount=%{y}\\u003cextra\\u003e\\u003c\\u002fextra\\u003e\",\"legendgroup\":\"Clean\",\"marker\":{\"color\":\"#19d3f3\",\"pattern\":{\"shape\":\"\"}},\"name\":\"Clean\",\"offsetgroup\":\"Clean\",\"orientation\":\"v\",\"showlegend\":true,\"textposition\":\"auto\",\"x\":[\"pipeline\\u002fbrew\\u002fbrew.go\",\"pipeline\\u002fbrew\\u002fbrew_test.go\",\"pipeline\\u002fbuild\\u002fbuild.go\",\"pipeline\\u002fdefaults\\u002fdefaults.go\",\"pipeline\\u002frelease\\u002frelease.go\"],\"xaxis\":\"x\",\"y\":[1,1,1,1,1],\"yaxis\":\"y\",\"type\":\"bar\"},{\"alignmentgroup\":\"True\",\"hovertemplate\":\"reason=Always\\u003cbr\\u003efile=%{x}\\u003cbr\\u003ecount=%{y}\\u003cextra\\u003e\\u003c\\u002fextra\\u003e\",\"legendgroup\":\"Always\",\"marker\":{\"color\":\"#FF6692\",\"pattern\":{\"shape\":\"\"}},\"name\":\"Always\",\"offsetgroup\":\"Always\",\"orientation\":\"v\",\"showlegend\":true,\"textposition\":\"auto\",\"x\":[\"main.go\"],\"xaxis\":\"x\",\"y\":[1],\"yaxis\":\"y\",\"type\":\"bar\"},{\"alignmentgroup\":\"True\",\"hovertemplate\":\"reason=missing\\u003cbr\\u003efile=%{x}\\u003cbr\\u003ecount=%{y}\\u003cextra\\u003e\\u003c\\u002fextra\\u003e\",\"legendgroup\":\"missing\",\"marker\":{\"color\":\"#B6E880\",\"pattern\":{\"shape\":\"\"}},\"name\":\"missing\",\"offsetgroup\":\"missing\",\"orientation\":\"v\",\"showlegend\":true,\"textposition\":\"auto\",\"x\":[\"pipeline\\u002fbrew\\u002fbrew.go\",\"pipeline\\u002fbrew\\u002fbrew_test.go\"],\"xaxis\":\"x\",\"y\":[1,1],\"yaxis\":\"y\",\"type\":\"bar\"},{\"alignmentgroup\":\"True\",\"hovertemplate\":\"reason=fail\\u003cbr\\u003efile=%{x}\\u003cbr\\u003ecount=%{y}\\u003cextra\\u003e\\u003c\\u002fextra\\u003e\",\"legendgroup\":\"fail\",\"marker\":{\"color\":\"#FF97FF\",\"pattern\":{\"shape\":\"\"}},\"name\":\"fail\",\"offsetgroup\":\"fail\",\"orientation\":\"v\",\"showlegend\":true,\"textposition\":\"auto\",\"x\":[\"pipeline\\u002fbrew\\u002fbrew.go\"],\"xaxis\":\"x\",\"y\":[1],\"yaxis\":\"y\",\"type\":\"bar\"},{\"alignmentgroup\":\"True\",\"hovertemplate\":\"reason=strip\\u003cbr\\u003efile=%{x}\\u003cbr\\u003ecount=%{y}\\u003cextra\\u003e\\u003c\\u002fextra\\u003e\",\"legendgroup\":\"strip\",\"marker\":{\"color\":\"#FECB52\",\"pattern\":{\"shape\":\"\"}},\"name\":\"strip\",\"offsetgroup\":\"strip\",\"orientation\":\"v\",\"showlegend\":true,\"textposition\":\"auto\",\"x\":[\"config\\u002fconfig.go\",\"context\\u002fcontext.go\"],\"xaxis\":\"x\",\"y\":[1,1],\"yaxis\":\"y\",\"type\":\"bar\"},{\"alignmentgroup\":\"True\",\"hovertemplate\":\"reason=golint\\u003cbr\\u003efile=%{x}\\u003cbr\\u003ecount=%{y}\\u003cextra\\u003e\\u003c\\u002fextra\\u003e\",\"legendgroup\":\"golint\",\"marker\":{\"color\":\"#636efa\",\"pattern\":{\"shape\":\"\"}},\"name\":\"golint\",\"offsetgroup\":\"golint\",\"orientation\":\"v\",\"showlegend\":true,\"textposition\":\"auto\",\"x\":[\"context\\u002fcontext.go\",\"config\\u002fconfig.go\",\"main.go\",\"pipeline\\u002fbrew\\u002fbrew.go\",\"pipeline\\u002fbuild\\u002fbuild.go\",\"pipeline\\u002frelease\\u002frelease.go\"],\"xaxis\":\"x\",\"y\":[1,1,1,1,1,1],\"yaxis\":\"y\",\"type\":\"bar\"},{\"alignmentgroup\":\"True\",\"hovertemplate\":\"reason=goimports\\u003cbr\\u003efile=%{x}\\u003cbr\\u003ecount=%{y}\\u003cextra\\u003e\\u003c\\u002fextra\\u003e\",\"legendgroup\":\"goimports\",\"marker\":{\"color\":\"#EF553B\",\"pattern\":{\"shape\":\"\"}},\"name\":\"goimports\",\"offsetgroup\":\"goimports\",\"orientation\":\"v\",\"showlegend\":true,\"textposition\":\"auto\",\"x\":[\"main.go\"],\"xaxis\":\"x\",\"y\":[1],\"yaxis\":\"y\",\"type\":\"bar\"},{\"alignmentgroup\":\"True\",\"hovertemplate\":\"reason=organized\\u003cbr\\u003efile=%{x}\\u003cbr\\u003ecount=%{y}\\u003cextra\\u003e\\u003c\\u002fextra\\u003e\",\"legendgroup\":\"organized\",\"marker\":{\"color\":\"#00cc96\",\"pattern\":{\"shape\":\"\"}},\"name\":\"organized\",\"offsetgroup\":\"organized\",\"orientation\":\"v\",\"showlegend\":true,\"textposition\":\"auto\",\"x\":[\"config\\u002fconfig.go\",\"context\\u002fcontext.go\",\"main.go\",\"pipeline\\u002fbrew\\u002fbrew.go\",\"pipeline\\u002fbuild\\u002fbuild.go\",\"pipeline\\u002fdefaults\\u002fdefaults.go\",\"pipeline\\u002frelease\\u002frelease.go\"],\"xaxis\":\"x\",\"y\":[1,1,2,1,1,1,1],\"yaxis\":\"y\",\"type\":\"bar\"},{\"alignmentgroup\":\"True\",\"hovertemplate\":\"reason=Github\\u003cbr\\u003efile=%{x}\\u003cbr\\u003ecount=%{y}\\u003cextra\\u003e\\u003c\\u002fextra\\u003e\",\"legendgroup\":\"Github\",\"marker\":{\"color\":\"#ab63fa\",\"pattern\":{\"shape\":\"\"}},\"name\":\"Github\",\"offsetgroup\":\"Github\",\"orientation\":\"v\",\"showlegend\":true,\"textposition\":\"auto\",\"x\":[\"pipeline\\u002fbrew\\u002fbrew.go\",\"pipeline\\u002frelease\\u002frelease.go\"],\"xaxis\":\"x\",\"y\":[1,1],\"yaxis\":\"y\",\"type\":\"bar\"},{\"alignmentgroup\":\"True\",\"hovertemplate\":\"reason=Improved\\u003cbr\\u003efile=%{x}\\u003cbr\\u003ecount=%{y}\\u003cextra\\u003e\\u003c\\u002fextra\\u003e\",\"legendgroup\":\"Improved\",\"marker\":{\"color\":\"#FFA15A\",\"pattern\":{\"shape\":\"\"}},\"name\":\"Improved\",\"offsetgroup\":\"Improved\",\"orientation\":\"v\",\"showlegend\":true,\"textposition\":\"auto\",\"x\":[\"README.md\"],\"xaxis\":\"x\",\"y\":[1],\"yaxis\":\"y\",\"type\":\"bar\"},{\"alignmentgroup\":\"True\",\"hovertemplate\":\"reason=Fixing\\u003cbr\\u003efile=%{x}\\u003cbr\\u003ecount=%{y}\\u003cextra\\u003e\\u003c\\u002fextra\\u003e\",\"legendgroup\":\"Fixing\",\"marker\":{\"color\":\"#19d3f3\",\"pattern\":{\"shape\":\"\"}},\"name\":\"Fixing\",\"offsetgroup\":\"Fixing\",\"orientation\":\"v\",\"showlegend\":true,\"textposition\":\"auto\",\"x\":[\"pipeline\\u002fbrew\\u002fbrew.go\",\"pipeline\\u002fbuild\\u002fbuild.go\",\"pipeline\\u002fdefaults\\u002fdefaults.go\",\"pipeline\\u002frelease\\u002frelease.go\"],\"xaxis\":\"x\",\"y\":[1,1,1,1],\"yaxis\":\"y\",\"type\":\"bar\"},{\"alignmentgroup\":\"True\",\"hovertemplate\":\"reason=Config\\u003cbr\\u003efile=%{x}\\u003cbr\\u003ecount=%{y}\\u003cextra\\u003e\\u003c\\u002fextra\\u003e\",\"legendgroup\":\"Config\",\"marker\":{\"color\":\"#FF6692\",\"pattern\":{\"shape\":\"\"}},\"name\":\"Config\",\"offsetgroup\":\"Config\",\"orientation\":\"v\",\"showlegend\":true,\"textposition\":\"auto\",\"x\":[\"main.go\"],\"xaxis\":\"x\",\"y\":[1],\"yaxis\":\"y\",\"type\":\"bar\"},{\"alignmentgroup\":\"True\",\"hovertemplate\":\"reason=Default\\u003cbr\\u003efile=%{x}\\u003cbr\\u003ecount=%{y}\\u003cextra\\u003e\\u003c\\u002fextra\\u003e\",\"legendgroup\":\"Default\",\"marker\":{\"color\":\"#B6E880\",\"pattern\":{\"shape\":\"\"}},\"name\":\"Default\",\"offsetgroup\":\"Default\",\"orientation\":\"v\",\"showlegend\":true,\"textposition\":\"auto\",\"x\":[\"pipeline\\u002fdefaults\\u002fdefaults.go\"],\"xaxis\":\"x\",\"y\":[2],\"yaxis\":\"y\",\"type\":\"bar\"},{\"alignmentgroup\":\"True\",\"hovertemplate\":\"reason=lowercase\\u003cbr\\u003efile=%{x}\\u003cbr\\u003ecount=%{y}\\u003cextra\\u003e\\u003c\\u002fextra\\u003e\",\"legendgroup\":\"lowercase\",\"marker\":{\"color\":\"#FF97FF\",\"pattern\":{\"shape\":\"\"}},\"name\":\"lowercase\",\"offsetgroup\":\"lowercase\",\"orientation\":\"v\",\"showlegend\":true,\"textposition\":\"auto\",\"x\":[\"pipeline\\u002fdefaults\\u002fdefaults.go\"],\"xaxis\":\"x\",\"y\":[1],\"yaxis\":\"y\",\"type\":\"bar\"},{\"alignmentgroup\":\"True\",\"hovertemplate\":\"reason=even\\u003cbr\\u003efile=%{x}\\u003cbr\\u003ecount=%{y}\\u003cextra\\u003e\\u003c\\u002fextra\\u003e\",\"legendgroup\":\"even\",\"marker\":{\"color\":\"#FECB52\",\"pattern\":{\"shape\":\"\"}},\"name\":\"even\",\"offsetgroup\":\"even\",\"orientation\":\"v\",\"showlegend\":true,\"textposition\":\"auto\",\"x\":[\"context\\u002fcontext.go\",\"pipeline\\u002fbrew\\u002fbrew.go\",\"pipeline\\u002fbuild\\u002fbuild.go\"],\"xaxis\":\"x\",\"y\":[1,2,1],\"yaxis\":\"y\",\"type\":\"bar\"},{\"alignmentgroup\":\"True\",\"hovertemplate\":\"reason=tests\\u003cbr\\u003efile=%{x}\\u003cbr\\u003ecount=%{y}\\u003cextra\\u003e\\u003c\\u002fextra\\u003e\",\"legendgroup\":\"tests\",\"marker\":{\"color\":\"#636efa\",\"pattern\":{\"shape\":\"\"}},\"name\":\"tests\",\"offsetgroup\":\"tests\",\"orientation\":\"v\",\"showlegend\":true,\"textposition\":\"auto\",\"x\":[\"pipeline\\u002fdefaults\\u002fdefaults.go\"],\"xaxis\":\"x\",\"y\":[1],\"yaxis\":\"y\",\"type\":\"bar\"},{\"alignmentgroup\":\"True\",\"hovertemplate\":\"reason=buidl\\u003cbr\\u003efile=%{x}\\u003cbr\\u003ecount=%{y}\\u003cextra\\u003e\\u003c\\u002fextra\\u003e\",\"legendgroup\":\"buidl\",\"marker\":{\"color\":\"#EF553B\",\"pattern\":{\"shape\":\"\"}},\"name\":\"buidl\",\"offsetgroup\":\"buidl\",\"orientation\":\"v\",\"showlegend\":true,\"textposition\":\"auto\",\"x\":[\"pipeline\\u002fbuild\\u002fbuild.go\"],\"xaxis\":\"x\",\"y\":[1],\"yaxis\":\"y\",\"type\":\"bar\"},{\"alignmentgroup\":\"True\",\"hovertemplate\":\"reason=create\\u003cbr\\u003efile=%{x}\\u003cbr\\u003ecount=%{y}\\u003cextra\\u003e\\u003c\\u002fextra\\u003e\",\"legendgroup\":\"create\",\"marker\":{\"color\":\"#00cc96\",\"pattern\":{\"shape\":\"\"}},\"name\":\"create\",\"offsetgroup\":\"create\",\"orientation\":\"v\",\"showlegend\":true,\"textposition\":\"auto\",\"x\":[\"README.md\",\"config\\u002fconfig.go\",\"pipeline\\u002fbrew\\u002fbrew.go\"],\"xaxis\":\"x\",\"y\":[1,1,1],\"yaxis\":\"y\",\"type\":\"bar\"},{\"alignmentgroup\":\"True\",\"hovertemplate\":\"reason=document\\u003cbr\\u003efile=%{x}\\u003cbr\\u003ecount=%{y}\\u003cextra\\u003e\\u003c\\u002fextra\\u003e\",\"legendgroup\":\"document\",\"marker\":{\"color\":\"#ab63fa\",\"pattern\":{\"shape\":\"\"}},\"name\":\"document\",\"offsetgroup\":\"document\",\"orientation\":\"v\",\"showlegend\":true,\"textposition\":\"auto\",\"x\":[\"README.md\"],\"xaxis\":\"x\",\"y\":[2],\"yaxis\":\"y\",\"type\":\"bar\"},{\"alignmentgroup\":\"True\",\"hovertemplate\":\"reason=homebrew-formulae\\u003cbr\\u003efile=%{x}\\u003cbr\\u003ecount=%{y}\\u003cextra\\u003e\\u003c\\u002fextra\\u003e\",\"legendgroup\":\"homebrew-formulae\",\"marker\":{\"color\":\"#FFA15A\",\"pattern\":{\"shape\":\"\"}},\"name\":\"homebrew-formulae\",\"offsetgroup\":\"homebrew-formulae\",\"orientation\":\"v\",\"showlegend\":true,\"textposition\":\"auto\",\"x\":[\"README.md\"],\"xaxis\":\"x\",\"y\":[1],\"yaxis\":\"y\",\"type\":\"bar\"},{\"alignmentgroup\":\"True\",\"hovertemplate\":\"reason=customize\\u003cbr\\u003efile=%{x}\\u003cbr\\u003ecount=%{y}\\u003cextra\\u003e\\u003c\\u002fextra\\u003e\",\"legendgroup\":\"customize\",\"marker\":{\"color\":\"#19d3f3\",\"pattern\":{\"shape\":\"\"}},\"name\":\"customize\",\"offsetgroup\":\"customize\",\"orientation\":\"v\",\"showlegend\":true,\"textposition\":\"auto\",\"x\":[\"README.md\",\"config\\u002fconfig.go\",\"pipeline\\u002fbuild\\u002fbuild.go\"],\"xaxis\":\"x\",\"y\":[1,1,1],\"yaxis\":\"y\",\"type\":\"bar\"},{\"alignmentgroup\":\"True\",\"hovertemplate\":\"reason=tabs\\u003cbr\\u003efile=%{x}\\u003cbr\\u003ecount=%{y}\\u003cextra\\u003e\\u003c\\u002fextra\\u003e\",\"legendgroup\":\"tabs\",\"marker\":{\"color\":\"#FF6692\",\"pattern\":{\"shape\":\"\"}},\"name\":\"tabs\",\"offsetgroup\":\"tabs\",\"orientation\":\"v\",\"showlegend\":true,\"textposition\":\"auto\",\"x\":[\"README.md\"],\"xaxis\":\"x\",\"y\":[1],\"yaxis\":\"y\",\"type\":\"bar\"},{\"alignmentgroup\":\"True\",\"hovertemplate\":\"reason=zip\\u003cbr\\u003efile=%{x}\\u003cbr\\u003ecount=%{y}\\u003cextra\\u003e\\u003c\\u002fextra\\u003e\",\"legendgroup\":\"zip\",\"marker\":{\"color\":\"#B6E880\",\"pattern\":{\"shape\":\"\"}},\"name\":\"zip\",\"offsetgroup\":\"zip\",\"orientation\":\"v\",\"showlegend\":true,\"textposition\":\"auto\",\"x\":[\"config\\u002fconfig.go\",\"README.md\"],\"xaxis\":\"x\",\"y\":[2,1],\"yaxis\":\"y\",\"type\":\"bar\"},{\"alignmentgroup\":\"True\",\"hovertemplate\":\"reason=config\\u003cbr\\u003efile=%{x}\\u003cbr\\u003ecount=%{y}\\u003cextra\\u003e\\u003c\\u002fextra\\u003e\",\"legendgroup\":\"config\",\"marker\":{\"color\":\"#FF97FF\",\"pattern\":{\"shape\":\"\"}},\"name\":\"config\",\"offsetgroup\":\"config\",\"orientation\":\"v\",\"showlegend\":true,\"textposition\":\"auto\",\"x\":[\"config\\u002fconfig.go\",\"main.go\"],\"xaxis\":\"x\",\"y\":[3,1],\"yaxis\":\"y\",\"type\":\"bar\"},{\"alignmentgroup\":\"True\",\"hovertemplate\":\"reason=continuing\\u003cbr\\u003efile=%{x}\\u003cbr\\u003ecount=%{y}\\u003cextra\\u003e\\u003c\\u002fextra\\u003e\",\"legendgroup\":\"continuing\",\"marker\":{\"color\":\"#FECB52\",\"pattern\":{\"shape\":\"\"}},\"name\":\"continuing\",\"offsetgroup\":\"continuing\",\"orientation\":\"v\",\"showlegend\":true,\"textposition\":\"auto\",\"x\":[\"config\\u002fconfig.go\",\"pipeline\\u002fbrew\\u002fbrew.go\",\"pipeline\\u002fbrew\\u002fbrew_test.go\",\"pipeline\\u002fbuild\\u002fbuild.go\",\"pipeline\\u002frelease\\u002frelease.go\"],\"xaxis\":\"x\",\"y\":[1,1,1,1,1],\"yaxis\":\"y\",\"type\":\"bar\"},{\"alignmentgroup\":\"True\",\"hovertemplate\":\"reason=name\\u003cbr\\u003efile=%{x}\\u003cbr\\u003ecount=%{y}\\u003cextra\\u003e\\u003c\\u002fextra\\u003e\",\"legendgroup\":\"name\",\"marker\":{\"color\":\"#636efa\",\"pattern\":{\"shape\":\"\"}},\"name\":\"name\",\"offsetgroup\":\"name\",\"orientation\":\"v\",\"showlegend\":true,\"textposition\":\"auto\",\"x\":[\"config\\u002fconfig.go\",\"pipeline\\u002fbuild\\u002fbuild.go\",\"pipeline\\u002frelease\\u002frelease.go\"],\"xaxis\":\"x\",\"y\":[1,1,1],\"yaxis\":\"y\",\"type\":\"bar\"},{\"alignmentgroup\":\"True\",\"hovertemplate\":\"reason=?\\u003cbr\\u003efile=%{x}\\u003cbr\\u003ecount=%{y}\\u003cextra\\u003e\\u003c\\u002fextra\\u003e\",\"legendgroup\":\"?\",\"marker\":{\"color\":\"#EF553B\",\"pattern\":{\"shape\":\"\"}},\"name\":\"?\",\"offsetgroup\":\"?\",\"orientation\":\"v\",\"showlegend\":true,\"textposition\":\"auto\",\"x\":[\".travis.yml\"],\"xaxis\":\"x\",\"y\":[1],\"yaxis\":\"y\",\"type\":\"bar\"},{\"alignmentgroup\":\"True\",\"hovertemplate\":\"reason=makefile\\u003cbr\\u003efile=%{x}\\u003cbr\\u003ecount=%{y}\\u003cextra\\u003e\\u003c\\u002fextra\\u003e\",\"legendgroup\":\"makefile\",\"marker\":{\"color\":\"#00cc96\",\"pattern\":{\"shape\":\"\"}},\"name\":\"makefile\",\"offsetgroup\":\"makefile\",\"orientation\":\"v\",\"showlegend\":true,\"textposition\":\"auto\",\"x\":[\".travis.yml\",\"README.md\"],\"xaxis\":\"x\",\"y\":[1,1],\"yaxis\":\"y\",\"type\":\"bar\"},{\"alignmentgroup\":\"True\",\"hovertemplate\":\"reason=misspell\\u003cbr\\u003efile=%{x}\\u003cbr\\u003ecount=%{y}\\u003cextra\\u003e\\u003c\\u002fextra\\u003e\",\"legendgroup\":\"misspell\",\"marker\":{\"color\":\"#ab63fa\",\"pattern\":{\"shape\":\"\"}},\"name\":\"misspell\",\"offsetgroup\":\"misspell\",\"orientation\":\"v\",\"showlegend\":true,\"textposition\":\"auto\",\"x\":[\".travis.yml\"],\"xaxis\":\"x\",\"y\":[1],\"yaxis\":\"y\",\"type\":\"bar\"},{\"alignmentgroup\":\"True\",\"hovertemplate\":\"reason=duplicated\\u003cbr\\u003efile=%{x}\\u003cbr\\u003ecount=%{y}\\u003cextra\\u003e\\u003c\\u002fextra\\u003e\",\"legendgroup\":\"duplicated\",\"marker\":{\"color\":\"#FFA15A\",\"pattern\":{\"shape\":\"\"}},\"name\":\"duplicated\",\"offsetgroup\":\"duplicated\",\"orientation\":\"v\",\"showlegend\":true,\"textposition\":\"auto\",\"x\":[\".travis.yml\"],\"xaxis\":\"x\",\"y\":[1],\"yaxis\":\"y\",\"type\":\"bar\"},{\"alignmentgroup\":\"True\",\"hovertemplate\":\"reason=:lipstick:\\u003cbr\\u003efile=%{x}\\u003cbr\\u003ecount=%{y}\\u003cextra\\u003e\\u003c\\u002fextra\\u003e\",\"legendgroup\":\":lipstick:\",\"marker\":{\"color\":\"#19d3f3\",\"pattern\":{\"shape\":\"\"}},\"name\":\":lipstick:\",\"offsetgroup\":\":lipstick:\",\"orientation\":\"v\",\"showlegend\":true,\"textposition\":\"auto\",\"x\":[\"README.md\"],\"xaxis\":\"x\",\"y\":[1],\"yaxis\":\"y\",\"type\":\"bar\"},{\"alignmentgroup\":\"True\",\"hovertemplate\":\"reason=empty\\u003cbr\\u003efile=%{x}\\u003cbr\\u003ecount=%{y}\\u003cextra\\u003e\\u003c\\u002fextra\\u003e\",\"legendgroup\":\"empty\",\"marker\":{\"color\":\"#FF6692\",\"pattern\":{\"shape\":\"\"}},\"name\":\"empty\",\"offsetgroup\":\"empty\",\"orientation\":\"v\",\"showlegend\":true,\"textposition\":\"auto\",\"x\":[\"pipeline\\u002fbrew\\u002fbrew_test.go\"],\"xaxis\":\"x\",\"y\":[1],\"yaxis\":\"y\",\"type\":\"bar\"},{\"alignmentgroup\":\"True\",\"hovertemplate\":\"reason=got\\u003cbr\\u003efile=%{x}\\u003cbr\\u003ecount=%{y}\\u003cextra\\u003e\\u003c\\u002fextra\\u003e\",\"legendgroup\":\"got\",\"marker\":{\"color\":\"#B6E880\",\"pattern\":{\"shape\":\"\"}},\"name\":\"got\",\"offsetgroup\":\"got\",\"orientation\":\"v\",\"showlegend\":true,\"textposition\":\"auto\",\"x\":[\"pipeline\\u002fbrew\\u002fbrew.go\"],\"xaxis\":\"x\",\"y\":[1],\"yaxis\":\"y\",\"type\":\"bar\"},{\"alignmentgroup\":\"True\",\"hovertemplate\":\"reason=url\\u003cbr\\u003efile=%{x}\\u003cbr\\u003ecount=%{y}\\u003cextra\\u003e\\u003c\\u002fextra\\u003e\",\"legendgroup\":\"url\",\"marker\":{\"color\":\"#FF97FF\",\"pattern\":{\"shape\":\"\"}},\"name\":\"url\",\"offsetgroup\":\"url\",\"orientation\":\"v\",\"showlegend\":true,\"textposition\":\"auto\",\"x\":[\"pipeline\\u002fbrew\\u002fbrew.go\"],\"xaxis\":\"x\",\"y\":[1],\"yaxis\":\"y\",\"type\":\"bar\"},{\"alignmentgroup\":\"True\",\"hovertemplate\":\"reason=Glob\\u003cbr\\u003efile=%{x}\\u003cbr\\u003ecount=%{y}\\u003cextra\\u003e\\u003c\\u002fextra\\u003e\",\"legendgroup\":\"Glob\",\"marker\":{\"color\":\"#FECB52\",\"pattern\":{\"shape\":\"\"}},\"name\":\"Glob\",\"offsetgroup\":\"Glob\",\"orientation\":\"v\",\"showlegend\":true,\"textposition\":\"auto\",\"x\":[\"config\\u002fconfig.go\"],\"xaxis\":\"x\",\"y\":[1],\"yaxis\":\"y\",\"type\":\"bar\"},{\"alignmentgroup\":\"True\",\"hovertemplate\":\"reason=grammar\\u003cbr\\u003efile=%{x}\\u003cbr\\u003ecount=%{y}\\u003cextra\\u003e\\u003c\\u002fextra\\u003e\",\"legendgroup\":\"grammar\",\"marker\":{\"color\":\"#636efa\",\"pattern\":{\"shape\":\"\"}},\"name\":\"grammar\",\"offsetgroup\":\"grammar\",\"orientation\":\"v\",\"showlegend\":true,\"textposition\":\"auto\",\"x\":[\"README.md\"],\"xaxis\":\"x\",\"y\":[1],\"yaxis\":\"y\",\"type\":\"bar\"},{\"alignmentgroup\":\"True\",\"hovertemplate\":\"reason=wrong\\u003cbr\\u003efile=%{x}\\u003cbr\\u003ecount=%{y}\\u003cextra\\u003e\\u003c\\u002fextra\\u003e\",\"legendgroup\":\"wrong\",\"marker\":{\"color\":\"#EF553B\",\"pattern\":{\"shape\":\"\"}},\"name\":\"wrong\",\"offsetgroup\":\"wrong\",\"orientation\":\"v\",\"showlegend\":true,\"textposition\":\"auto\",\"x\":[\"pipeline\\u002fbrew\\u002fbrew.go\"],\"xaxis\":\"x\",\"y\":[1],\"yaxis\":\"y\",\"type\":\"bar\"},{\"alignmentgroup\":\"True\",\"hovertemplate\":\"reason=bos\\u003cbr\\u003efile=%{x}\\u003cbr\\u003ecount=%{y}\\u003cextra\\u003e\\u003c\\u002fextra\\u003e\",\"legendgroup\":\"bos\",\"marker\":{\"color\":\"#00cc96\",\"pattern\":{\"shape\":\"\"}},\"name\":\"bos\",\"offsetgroup\":\"bos\",\"orientation\":\"v\",\"showlegend\":true,\"textposition\":\"auto\",\"x\":[\"pipeline\\u002fbuild\\u002fbuild.go\"],\"xaxis\":\"x\",\"y\":[1],\"yaxis\":\"y\",\"type\":\"bar\"},{\"alignmentgroup\":\"True\",\"hovertemplate\":\"reason=reorganized\\u003cbr\\u003efile=%{x}\\u003cbr\\u003ecount=%{y}\\u003cextra\\u003e\\u003c\\u002fextra\\u003e\",\"legendgroup\":\"reorganized\",\"marker\":{\"color\":\"#ab63fa\",\"pattern\":{\"shape\":\"\"}},\"name\":\"reorganized\",\"offsetgroup\":\"reorganized\",\"orientation\":\"v\",\"showlegend\":true,\"textposition\":\"auto\",\"x\":[\"config\\u002fconfig.go\",\"main.go\",\"pipeline\\u002fbrew\\u002fbrew.go\",\"pipeline\\u002fbrew\\u002fbrew_test.go\",\"pipeline\\u002fbuild\\u002fbuild.go\",\"pipeline\\u002frelease\\u002frelease.go\"],\"xaxis\":\"x\",\"y\":[1,1,1,1,1,1],\"yaxis\":\"y\",\"type\":\"bar\"},{\"alignmentgroup\":\"True\",\"hovertemplate\":\"reason=main.go\\u003cbr\\u003efile=%{x}\\u003cbr\\u003ecount=%{y}\\u003cextra\\u003e\\u003c\\u002fextra\\u003e\",\"legendgroup\":\"main.go\",\"marker\":{\"color\":\"#FFA15A\",\"pattern\":{\"shape\":\"\"}},\"name\":\"main.go\",\"offsetgroup\":\"main.go\",\"orientation\":\"v\",\"showlegend\":true,\"textposition\":\"auto\",\"x\":[\"config\\u002fconfig.go\"],\"xaxis\":\"x\",\"y\":[1],\"yaxis\":\"y\",\"type\":\"bar\"},{\"alignmentgroup\":\"True\",\"hovertemplate\":\"reason=wtfff\\u003cbr\\u003efile=%{x}\\u003cbr\\u003ecount=%{y}\\u003cextra\\u003e\\u003c\\u002fextra\\u003e\",\"legendgroup\":\"wtfff\",\"marker\":{\"color\":\"#19d3f3\",\"pattern\":{\"shape\":\"\"}},\"name\":\"wtfff\",\"offsetgroup\":\"wtfff\",\"orientation\":\"v\",\"showlegend\":true,\"textposition\":\"auto\",\"x\":[\"config\\u002fconfig.go\",\"main.go\"],\"xaxis\":\"x\",\"y\":[1,1],\"yaxis\":\"y\",\"type\":\"bar\"},{\"alignmentgroup\":\"True\",\"hovertemplate\":\"reason=readme,\\u003cbr\\u003efile=%{x}\\u003cbr\\u003ecount=%{y}\\u003cextra\\u003e\\u003c\\u002fextra\\u003e\",\"legendgroup\":\"readme,\",\"marker\":{\"color\":\"#FF6692\",\"pattern\":{\"shape\":\"\"}},\"name\":\"readme,\",\"offsetgroup\":\"readme,\",\"orientation\":\"v\",\"showlegend\":true,\"textposition\":\"auto\",\"x\":[\"README.md\"],\"xaxis\":\"x\",\"y\":[1],\"yaxis\":\"y\",\"type\":\"bar\"},{\"alignmentgroup\":\"True\",\"hovertemplate\":\"reason=main\\u003cbr\\u003efile=%{x}\\u003cbr\\u003ecount=%{y}\\u003cextra\\u003e\\u003c\\u002fextra\\u003e\",\"legendgroup\":\"main\",\"marker\":{\"color\":\"#B6E880\",\"pattern\":{\"shape\":\"\"}},\"name\":\"main\",\"offsetgroup\":\"main\",\"orientation\":\"v\",\"showlegend\":true,\"textposition\":\"auto\",\"x\":[\"main.go\"],\"xaxis\":\"x\",\"y\":[1],\"yaxis\":\"y\",\"type\":\"bar\"}],                        {\"template\":{\"data\":{\"histogram2dcontour\":[{\"type\":\"histogram2dcontour\",\"colorbar\":{\"outlinewidth\":0,\"ticks\":\"\"},\"colorscale\":[[0.0,\"#0d0887\"],[0.1111111111111111,\"#46039f\"],[0.2222222222222222,\"#7201a8\"],[0.3333333333333333,\"#9c179e\"],[0.4444444444444444,\"#bd3786\"],[0.5555555555555556,\"#d8576b\"],[0.6666666666666666,\"#ed7953\"],[0.7777777777777778,\"#fb9f3a\"],[0.8888888888888888,\"#fdca26\"],[1.0,\"#f0f921\"]]}],\"choropleth\":[{\"type\":\"choropleth\",\"colorbar\":{\"outlinewidth\":0,\"ticks\":\"\"}}],\"histogram2d\":[{\"type\":\"histogram2d\",\"colorbar\":{\"outlinewidth\":0,\"ticks\":\"\"},\"colorscale\":[[0.0,\"#0d0887\"],[0.1111111111111111,\"#46039f\"],[0.2222222222222222,\"#7201a8\"],[0.3333333333333333,\"#9c179e\"],[0.4444444444444444,\"#bd3786\"],[0.5555555555555556,\"#d8576b\"],[0.6666666666666666,\"#ed7953\"],[0.7777777777777778,\"#fb9f3a\"],[0.8888888888888888,\"#fdca26\"],[1.0,\"#f0f921\"]]}],\"heatmap\":[{\"type\":\"heatmap\",\"colorbar\":{\"outlinewidth\":0,\"ticks\":\"\"},\"colorscale\":[[0.0,\"#0d0887\"],[0.1111111111111111,\"#46039f\"],[0.2222222222222222,\"#7201a8\"],[0.3333333333333333,\"#9c179e\"],[0.4444444444444444,\"#bd3786\"],[0.5555555555555556,\"#d8576b\"],[0.6666666666666666,\"#ed7953\"],[0.7777777777777778,\"#fb9f3a\"],[0.8888888888888888,\"#fdca26\"],[1.0,\"#f0f921\"]]}],\"heatmapgl\":[{\"type\":\"heatmapgl\",\"colorbar\":{\"outlinewidth\":0,\"ticks\":\"\"},\"colorscale\":[[0.0,\"#0d0887\"],[0.1111111111111111,\"#46039f\"],[0.2222222222222222,\"#7201a8\"],[0.3333333333333333,\"#9c179e\"],[0.4444444444444444,\"#bd3786\"],[0.5555555555555556,\"#d8576b\"],[0.6666666666666666,\"#ed7953\"],[0.7777777777777778,\"#fb9f3a\"],[0.8888888888888888,\"#fdca26\"],[1.0,\"#f0f921\"]]}],\"contourcarpet\":[{\"type\":\"contourcarpet\",\"colorbar\":{\"outlinewidth\":0,\"ticks\":\"\"}}],\"contour\":[{\"type\":\"contour\",\"colorbar\":{\"outlinewidth\":0,\"ticks\":\"\"},\"colorscale\":[[0.0,\"#0d0887\"],[0.1111111111111111,\"#46039f\"],[0.2222222222222222,\"#7201a8\"],[0.3333333333333333,\"#9c179e\"],[0.4444444444444444,\"#bd3786\"],[0.5555555555555556,\"#d8576b\"],[0.6666666666666666,\"#ed7953\"],[0.7777777777777778,\"#fb9f3a\"],[0.8888888888888888,\"#fdca26\"],[1.0,\"#f0f921\"]]}],\"surface\":[{\"type\":\"surface\",\"colorbar\":{\"outlinewidth\":0,\"ticks\":\"\"},\"colorscale\":[[0.0,\"#0d0887\"],[0.1111111111111111,\"#46039f\"],[0.2222222222222222,\"#7201a8\"],[0.3333333333333333,\"#9c179e\"],[0.4444444444444444,\"#bd3786\"],[0.5555555555555556,\"#d8576b\"],[0.6666666666666666,\"#ed7953\"],[0.7777777777777778,\"#fb9f3a\"],[0.8888888888888888,\"#fdca26\"],[1.0,\"#f0f921\"]]}],\"mesh3d\":[{\"type\":\"mesh3d\",\"colorbar\":{\"outlinewidth\":0,\"ticks\":\"\"}}],\"scatter\":[{\"fillpattern\":{\"fillmode\":\"overlay\",\"size\":10,\"solidity\":0.2},\"type\":\"scatter\"}],\"parcoords\":[{\"type\":\"parcoords\",\"line\":{\"colorbar\":{\"outlinewidth\":0,\"ticks\":\"\"}}}],\"scatterpolargl\":[{\"type\":\"scatterpolargl\",\"marker\":{\"colorbar\":{\"outlinewidth\":0,\"ticks\":\"\"}}}],\"bar\":[{\"error_x\":{\"color\":\"#2a3f5f\"},\"error_y\":{\"color\":\"#2a3f5f\"},\"marker\":{\"line\":{\"color\":\"#E5ECF6\",\"width\":0.5},\"pattern\":{\"fillmode\":\"overlay\",\"size\":10,\"solidity\":0.2}},\"type\":\"bar\"}],\"scattergeo\":[{\"type\":\"scattergeo\",\"marker\":{\"colorbar\":{\"outlinewidth\":0,\"ticks\":\"\"}}}],\"scatterpolar\":[{\"type\":\"scatterpolar\",\"marker\":{\"colorbar\":{\"outlinewidth\":0,\"ticks\":\"\"}}}],\"histogram\":[{\"marker\":{\"pattern\":{\"fillmode\":\"overlay\",\"size\":10,\"solidity\":0.2}},\"type\":\"histogram\"}],\"scattergl\":[{\"type\":\"scattergl\",\"marker\":{\"colorbar\":{\"outlinewidth\":0,\"ticks\":\"\"}}}],\"scatter3d\":[{\"type\":\"scatter3d\",\"line\":{\"colorbar\":{\"outlinewidth\":0,\"ticks\":\"\"}},\"marker\":{\"colorbar\":{\"outlinewidth\":0,\"ticks\":\"\"}}}],\"scattermapbox\":[{\"type\":\"scattermapbox\",\"marker\":{\"colorbar\":{\"outlinewidth\":0,\"ticks\":\"\"}}}],\"scatterternary\":[{\"type\":\"scatterternary\",\"marker\":{\"colorbar\":{\"outlinewidth\":0,\"ticks\":\"\"}}}],\"scattercarpet\":[{\"type\":\"scattercarpet\",\"marker\":{\"colorbar\":{\"outlinewidth\":0,\"ticks\":\"\"}}}],\"carpet\":[{\"aaxis\":{\"endlinecolor\":\"#2a3f5f\",\"gridcolor\":\"white\",\"linecolor\":\"white\",\"minorgridcolor\":\"white\",\"startlinecolor\":\"#2a3f5f\"},\"baxis\":{\"endlinecolor\":\"#2a3f5f\",\"gridcolor\":\"white\",\"linecolor\":\"white\",\"minorgridcolor\":\"white\",\"startlinecolor\":\"#2a3f5f\"},\"type\":\"carpet\"}],\"table\":[{\"cells\":{\"fill\":{\"color\":\"#EBF0F8\"},\"line\":{\"color\":\"white\"}},\"header\":{\"fill\":{\"color\":\"#C8D4E3\"},\"line\":{\"color\":\"white\"}},\"type\":\"table\"}],\"barpolar\":[{\"marker\":{\"line\":{\"color\":\"#E5ECF6\",\"width\":0.5},\"pattern\":{\"fillmode\":\"overlay\",\"size\":10,\"solidity\":0.2}},\"type\":\"barpolar\"}],\"pie\":[{\"automargin\":true,\"type\":\"pie\"}]},\"layout\":{\"autotypenumbers\":\"strict\",\"colorway\":[\"#636efa\",\"#EF553B\",\"#00cc96\",\"#ab63fa\",\"#FFA15A\",\"#19d3f3\",\"#FF6692\",\"#B6E880\",\"#FF97FF\",\"#FECB52\"],\"font\":{\"color\":\"#2a3f5f\"},\"hovermode\":\"closest\",\"hoverlabel\":{\"align\":\"left\"},\"paper_bgcolor\":\"white\",\"plot_bgcolor\":\"#E5ECF6\",\"polar\":{\"bgcolor\":\"#E5ECF6\",\"angularaxis\":{\"gridcolor\":\"white\",\"linecolor\":\"white\",\"ticks\":\"\"},\"radialaxis\":{\"gridcolor\":\"white\",\"linecolor\":\"white\",\"ticks\":\"\"}},\"ternary\":{\"bgcolor\":\"#E5ECF6\",\"aaxis\":{\"gridcolor\":\"white\",\"linecolor\":\"white\",\"ticks\":\"\"},\"baxis\":{\"gridcolor\":\"white\",\"linecolor\":\"white\",\"ticks\":\"\"},\"caxis\":{\"gridcolor\":\"white\",\"linecolor\":\"white\",\"ticks\":\"\"}},\"coloraxis\":{\"colorbar\":{\"outlinewidth\":0,\"ticks\":\"\"}},\"colorscale\":{\"sequential\":[[0.0,\"#0d0887\"],[0.1111111111111111,\"#46039f\"],[0.2222222222222222,\"#7201a8\"],[0.3333333333333333,\"#9c179e\"],[0.4444444444444444,\"#bd3786\"],[0.5555555555555556,\"#d8576b\"],[0.6666666666666666,\"#ed7953\"],[0.7777777777777778,\"#fb9f3a\"],[0.8888888888888888,\"#fdca26\"],[1.0,\"#f0f921\"]],\"sequentialminus\":[[0.0,\"#0d0887\"],[0.1111111111111111,\"#46039f\"],[0.2222222222222222,\"#7201a8\"],[0.3333333333333333,\"#9c179e\"],[0.4444444444444444,\"#bd3786\"],[0.5555555555555556,\"#d8576b\"],[0.6666666666666666,\"#ed7953\"],[0.7777777777777778,\"#fb9f3a\"],[0.8888888888888888,\"#fdca26\"],[1.0,\"#f0f921\"]],\"diverging\":[[0,\"#8e0152\"],[0.1,\"#c51b7d\"],[0.2,\"#de77ae\"],[0.3,\"#f1b6da\"],[0.4,\"#fde0ef\"],[0.5,\"#f7f7f7\"],[0.6,\"#e6f5d0\"],[0.7,\"#b8e186\"],[0.8,\"#7fbc41\"],[0.9,\"#4d9221\"],[1,\"#276419\"]]},\"xaxis\":{\"gridcolor\":\"white\",\"linecolor\":\"white\",\"ticks\":\"\",\"title\":{\"standoff\":15},\"zerolinecolor\":\"white\",\"automargin\":true,\"zerolinewidth\":2},\"yaxis\":{\"gridcolor\":\"white\",\"linecolor\":\"white\",\"ticks\":\"\",\"title\":{\"standoff\":15},\"zerolinecolor\":\"white\",\"automargin\":true,\"zerolinewidth\":2},\"scene\":{\"xaxis\":{\"backgroundcolor\":\"#E5ECF6\",\"gridcolor\":\"white\",\"linecolor\":\"white\",\"showbackground\":true,\"ticks\":\"\",\"zerolinecolor\":\"white\",\"gridwidth\":2},\"yaxis\":{\"backgroundcolor\":\"#E5ECF6\",\"gridcolor\":\"white\",\"linecolor\":\"white\",\"showbackground\":true,\"ticks\":\"\",\"zerolinecolor\":\"white\",\"gridwidth\":2},\"zaxis\":{\"backgroundcolor\":\"#E5ECF6\",\"gridcolor\":\"white\",\"linecolor\":\"white\",\"showbackground\":true,\"ticks\":\"\",\"zerolinecolor\":\"white\",\"gridwidth\":2}},\"shapedefaults\":{\"line\":{\"color\":\"#2a3f5f\"}},\"annotationdefaults\":{\"arrowcolor\":\"#2a3f5f\",\"arrowhead\":0,\"arrowwidth\":1},\"geo\":{\"bgcolor\":\"white\",\"landcolor\":\"#E5ECF6\",\"subunitcolor\":\"white\",\"showland\":true,\"showlakes\":true,\"lakecolor\":\"white\"},\"title\":{\"x\":0.05},\"mapbox\":{\"style\":\"light\"}}},\"xaxis\":{\"anchor\":\"y\",\"domain\":[0.0,1.0],\"title\":{\"text\":\"file\"}},\"yaxis\":{\"anchor\":\"x\",\"domain\":[0.0,1.0],\"title\":{\"text\":\"count\"}},\"legend\":{\"title\":{\"text\":\"reason\"},\"tracegroupgap\":0},\"margin\":{\"t\":60},\"barmode\":\"relative\",\"height\":700},                        {\"responsive\": true}                    ).then(function(){\n                            \nvar gd = document.getElementById('d2293d9c-98d9-4891-9d89-5d6c9b50c473');\nvar x = new MutationObserver(function (mutations, observer) {{\n        var display = window.getComputedStyle(gd).display;\n        if (!display || display === 'none') {{\n            console.log([gd, 'removed!']);\n            Plotly.purge(gd);\n            observer.disconnect();\n        }}\n}});\n\n// Listen for the removal of the full notebook cells\nvar notebookContainer = gd.closest('#notebook-container');\nif (notebookContainer) {{\n    x.observe(notebookContainer, {childList: true});\n}}\n\n// Listen for the clearing of the current output cell\nvar outputEl = gd.closest('.output');\nif (outputEl) {{\n    x.observe(outputEl, {childList: true});\n}}\n\n                        })                };                });            </script>        </div>"
     },
     "metadata": {},
     "output_type": "display_data"
    }
   ],
   "source": [
    "figure = px.bar(df, x=\"file\", y=\"count\", color=\"reason\", height=700)\n",
    "figure.show()"
   ]
  },
  {
   "cell_type": "code",
   "outputs": [
    {
     "data": {
      "application/vnd.plotly.v1+json": {
       "data": [
        {
         "alignmentgroup": "True",
         "hovertemplate": "<b>%{hovertext}</b><br><br>reason=%{x}<br>count=%{y}<extra></extra>",
         "hovertext": [
          ".github/workflows/build.yml",
          ".github/workflows/release.yml",
          ".goreleaser.yml",
          ".travis.yml"
         ],
         "legendgroup": "ci",
         "marker": {
          "color": "#636efa",
          "pattern": {
           "shape": ""
          }
         },
         "name": "ci",
         "offsetgroup": "ci",
         "orientation": "v",
         "showlegend": true,
         "textposition": "auto",
         "x": [
          "ci",
          "ci",
          "ci",
          "ci"
         ],
         "xaxis": "x",
         "y": [
          2,
          1,
          2,
          1
         ],
         "yaxis": "y",
         "type": "bar"
        },
        {
         "alignmentgroup": "True",
         "hovertemplate": "<b>%{hovertext}</b><br><br>reason=%{x}<br>count=%{y}<extra></extra>",
         "hovertext": [
          ".github/workflows/build.yml",
          ".github/workflows/release.yml",
          ".github/workflows/codeql.yml",
          "Dockerfile",
          "internal/client/github.go",
          "www/docs/static/schema.json",
          "internal/builders/golang/build_test.go",
          "internal/pipe/docker/docker_test.go",
          "www/docs/static/schema-pro.json",
          "internal/pipe/brew/brew.go",
          "main.go",
          ".goreleaser.yml",
          "www/mkdocs.yml",
          "internal/artifact/artifact.go",
          "internal/pipe/brew/brew_test.go",
          "internal/pipe/nfpm/nfpm.go",
          "internal/pipe/nfpm/nfpm_test.go",
          "internal/builders/golang/build.go",
          "pkg/config/config.go",
          "internal/pipe/docker/docker.go",
          ".travis.yml",
          "config/config.go",
          "pipeline/brew/brew.go",
          "pipeline/brew/brew_test.go",
          "pipeline/release/release.go",
          "pipeline/build/build.go",
          "pipeline/fpm/fpm.go"
         ],
         "legendgroup": "chore",
         "marker": {
          "color": "#EF553B",
          "pattern": {
           "shape": ""
          }
         },
         "name": "chore",
         "offsetgroup": "chore",
         "orientation": "v",
         "showlegend": true,
         "textposition": "auto",
         "x": [
          "chore",
          "chore",
          "chore",
          "chore",
          "chore",
          "chore",
          "chore",
          "chore",
          "chore",
          "chore",
          "chore",
          "chore",
          "chore",
          "chore",
          "chore",
          "chore",
          "chore",
          "chore",
          "chore",
          "chore",
          "chore",
          "chore",
          "chore",
          "chore",
          "chore",
          "chore",
          "chore"
         ],
         "xaxis": "x",
         "y": [
          200,
          130,
          84,
          24,
          11,
          62,
          3,
          4,
          38,
          7,
          5,
          25,
          1,
          4,
          3,
          6,
          2,
          3,
          3,
          5,
          21,
          1,
          1,
          1,
          1,
          1,
          2
         ],
         "yaxis": "y",
         "type": "bar"
        },
        {
         "alignmentgroup": "True",
         "hovertemplate": "<b>%{hovertext}</b><br><br>reason=%{x}<br>count=%{y}<extra></extra>",
         "hovertext": [
          "www/mkdocs.yml",
          "www/docs/static/schema-pro.json",
          "README.md",
          "www/docs/static/schema.json",
          "pkg/config/config.go",
          "internal/builders/golang/build_test.go",
          "internal/client/github.go",
          "internal/pipe/nfpm/nfpm_test.go",
          ".github/workflows/release.yml",
          "internal/pipe/nfpm/nfpm.go",
          ".goreleaser.yml",
          ".github/workflows/build.yml",
          ".travis.yml",
          "internal/pipe/brew/brew.go",
          "config/config.go"
         ],
         "legendgroup": "docs",
         "marker": {
          "color": "#00cc96",
          "pattern": {
           "shape": ""
          }
         },
         "name": "docs",
         "offsetgroup": "docs",
         "orientation": "v",
         "showlegend": true,
         "textposition": "auto",
         "x": [
          "docs",
          "docs",
          "docs",
          "docs",
          "docs",
          "docs",
          "docs",
          "docs",
          "docs",
          "docs",
          "docs",
          "docs",
          "docs",
          "docs",
          "docs"
         ],
         "xaxis": "x",
         "y": [
          82,
          67,
          31,
          30,
          3,
          1,
          1,
          1,
          2,
          1,
          2,
          1,
          11,
          1,
          2
         ],
         "yaxis": "y",
         "type": "bar"
        },
        {
         "alignmentgroup": "True",
         "hovertemplate": "<b>%{hovertext}</b><br><br>reason=%{x}<br>count=%{y}<extra></extra>",
         "hovertext": [
          "pkg/config/config.go",
          "www/mkdocs.yml",
          "internal/pipe/nfpm/nfpm.go",
          "internal/pipe/nfpm/nfpm_test.go",
          "internal/builders/golang/build.go",
          "internal/builders/golang/build_test.go",
          "internal/client/github.go",
          "internal/pipe/brew/brew.go",
          "internal/pipe/brew/brew_test.go",
          "internal/pipe/docker/docker.go",
          "internal/pipe/docker/docker_test.go",
          "main.go",
          "internal/artifact/artifact.go",
          ".github/workflows/release.yml",
          "www/docs/static/schema-pro.json",
          "www/docs/static/schema.json",
          "Dockerfile",
          ".github/workflows/build.yml",
          ".github/workflows/codeql.yml",
          ".goreleaser.yml",
          "README.md",
          ".travis.yml",
          "config/config.go",
          "pipeline/brew/brew.go",
          "pipeline/brew/brew_test.go",
          "context/context.go",
          "pipeline/defaults/defaults.go",
          "pipeline/release/release.go",
          "pipeline/build/build.go",
          "pipeline/fpm/fpm.go"
         ],
         "legendgroup": "feat",
         "marker": {
          "color": "#ab63fa",
          "pattern": {
           "shape": ""
          }
         },
         "name": "feat",
         "offsetgroup": "feat",
         "orientation": "v",
         "showlegend": true,
         "textposition": "auto",
         "x": [
          "feat",
          "feat",
          "feat",
          "feat",
          "feat",
          "feat",
          "feat",
          "feat",
          "feat",
          "feat",
          "feat",
          "feat",
          "feat",
          "feat",
          "feat",
          "feat",
          "feat",
          "feat",
          "feat",
          "feat",
          "feat",
          "feat",
          "feat",
          "feat",
          "feat",
          "feat",
          "feat",
          "feat",
          "feat",
          "feat"
         ],
         "xaxis": "x",
         "y": [
          247,
          33,
          57,
          46,
          35,
          33,
          49,
          48,
          45,
          37,
          36,
          20,
          44,
          5,
          5,
          22,
          74,
          25,
          1,
          38,
          1,
          6,
          42,
          7,
          8,
          7,
          12,
          4,
          5,
          6
         ],
         "yaxis": "y",
         "type": "bar"
        },
        {
         "alignmentgroup": "True",
         "hovertemplate": "<b>%{hovertext}</b><br><br>reason=%{x}<br>count=%{y}<extra></extra>",
         "hovertext": [
          ".github/workflows/build.yml",
          ".github/workflows/release.yml",
          "internal/builders/golang/build.go",
          "pkg/config/config.go",
          ".github/workflows/codeql.yml",
          "Dockerfile",
          "internal/builders/golang/build_test.go",
          "internal/pipe/nfpm/nfpm.go",
          "internal/pipe/nfpm/nfpm_test.go",
          "www/docs/static/schema-pro.json",
          "www/docs/static/schema.json",
          "internal/pipe/brew/brew.go",
          "internal/pipe/brew/brew_test.go",
          "internal/client/github.go",
          "internal/pipe/docker/docker.go",
          "internal/pipe/docker/docker_test.go",
          "main.go",
          "pipeline/brew/brew.go",
          "pipeline/brew/brew_test.go",
          "pipeline/build/build.go",
          "pipeline/release/release.go",
          ".travis.yml",
          "config/config.go",
          "README.md",
          "context/context.go",
          ".goreleaser.yml",
          "pipeline/fpm/fpm.go",
          "pipeline/defaults/defaults.go",
          "internal/artifact/artifact.go"
         ],
         "legendgroup": "Merge",
         "marker": {
          "color": "#FFA15A",
          "pattern": {
           "shape": ""
          }
         },
         "name": "Merge",
         "offsetgroup": "Merge",
         "orientation": "v",
         "showlegend": true,
         "textposition": "auto",
         "x": [
          "Merge",
          "Merge",
          "Merge",
          "Merge",
          "Merge",
          "Merge",
          "Merge",
          "Merge",
          "Merge",
          "Merge",
          "Merge",
          "Merge",
          "Merge",
          "Merge",
          "Merge",
          "Merge",
          "Merge",
          "Merge",
          "Merge",
          "Merge",
          "Merge",
          "Merge",
          "Merge",
          "Merge",
          "Merge",
          "Merge",
          "Merge",
          "Merge",
          "Merge"
         ],
         "xaxis": "x",
         "y": [
          4,
          5,
          8,
          5,
          2,
          2,
          5,
          2,
          2,
          2,
          3,
          2,
          2,
          20,
          1,
          1,
          48,
          69,
          50,
          56,
          50,
          30,
          82,
          88,
          41,
          16,
          36,
          39,
          1
         ],
         "yaxis": "y",
         "type": "bar"
        },
        {
         "alignmentgroup": "True",
         "hovertemplate": "<b>%{hovertext}</b><br><br>reason=%{x}<br>count=%{y}<extra></extra>",
         "hovertext": [
          "pkg/config/config.go",
          "www/docs/static/schema.json",
          "internal/client/github.go",
          ".github/workflows/build.yml",
          ".github/workflows/release.yml",
          "internal/builders/golang/build.go",
          "internal/builders/golang/build_test.go",
          "internal/artifact/artifact.go",
          "internal/pipe/docker/docker.go",
          "main.go",
          "internal/pipe/nfpm/nfpm.go",
          "internal/pipe/nfpm/nfpm_test.go",
          "internal/pipe/brew/brew.go",
          "internal/pipe/docker/docker_test.go",
          "Dockerfile",
          "internal/pipe/brew/brew_test.go",
          "www/docs/static/schema-pro.json",
          ".github/workflows/codeql.yml",
          "www/mkdocs.yml",
          ".goreleaser.yml",
          ".travis.yml",
          "pipeline/brew/brew_test.go",
          "pipeline/brew/brew.go",
          "pipeline/build/build.go",
          "config/config.go",
          "README.md",
          "pipeline/defaults/defaults.go",
          "pipeline/release/release.go",
          "pipeline/fpm/fpm.go",
          "context/context.go"
         ],
         "legendgroup": "fix",
         "marker": {
          "color": "#19d3f3",
          "pattern": {
           "shape": ""
          }
         },
         "name": "fix",
         "offsetgroup": "fix",
         "orientation": "v",
         "showlegend": true,
         "textposition": "auto",
         "x": [
          "fix",
          "fix",
          "fix",
          "fix",
          "fix",
          "fix",
          "fix",
          "fix",
          "fix",
          "fix",
          "fix",
          "fix",
          "fix",
          "fix",
          "fix",
          "fix",
          "fix",
          "fix",
          "fix",
          "fix",
          "fix",
          "fix",
          "fix",
          "fix",
          "fix",
          "fix",
          "fix",
          "fix",
          "fix",
          "fix"
         ],
         "xaxis": "x",
         "y": [
          60,
          20,
          40,
          20,
          3,
          32,
          26,
          23,
          34,
          23,
          33,
          20,
          41,
          26,
          18,
          29,
          3,
          4,
          5,
          33,
          8,
          16,
          14,
          7,
          8,
          2,
          4,
          7,
          7,
          4
         ],
         "yaxis": "y",
         "type": "bar"
        },
        {
         "alignmentgroup": "True",
         "hovertemplate": "<b>%{hovertext}</b><br><br>reason=%{x}<br>count=%{y}<extra></extra>",
         "hovertext": [
          "Dockerfile"
         ],
         "legendgroup": "chore(deps):",
         "marker": {
          "color": "#FF6692",
          "pattern": {
           "shape": ""
          }
         },
         "name": "chore(deps):",
         "offsetgroup": "chore(deps):",
         "orientation": "v",
         "showlegend": true,
         "textposition": "auto",
         "x": [
          "chore(deps):"
         ],
         "xaxis": "x",
         "y": [
          1
         ],
         "yaxis": "y",
         "type": "bar"
        },
        {
         "alignmentgroup": "True",
         "hovertemplate": "<b>%{hovertext}</b><br><br>reason=%{x}<br>count=%{y}<extra></extra>",
         "hovertext": [
          "internal/pipe/nfpm/nfpm_test.go",
          "internal/builders/golang/build_test.go",
          "internal/pipe/docker/docker_test.go",
          "internal/pipe/brew/brew_test.go",
          "internal/pipe/docker/docker.go",
          "internal/pipe/nfpm/nfpm.go",
          "internal/artifact/artifact.go",
          "internal/builders/golang/build.go",
          "main.go",
          "pipeline/brew/brew_test.go",
          "pipeline/fpm/fpm.go",
          "pipeline/release/release.go",
          "pipeline/defaults/defaults.go",
          "pipeline/build/build.go"
         ],
         "legendgroup": "test",
         "marker": {
          "color": "#B6E880",
          "pattern": {
           "shape": ""
          }
         },
         "name": "test",
         "offsetgroup": "test",
         "orientation": "v",
         "showlegend": true,
         "textposition": "auto",
         "x": [
          "test",
          "test",
          "test",
          "test",
          "test",
          "test",
          "test",
          "test",
          "test",
          "test",
          "test",
          "test",
          "test",
          "test"
         ],
         "xaxis": "x",
         "y": [
          12,
          14,
          14,
          3,
          3,
          1,
          1,
          1,
          1,
          2,
          1,
          1,
          1,
          1
         ],
         "yaxis": "y",
         "type": "bar"
        },
        {
         "alignmentgroup": "True",
         "hovertemplate": "<b>%{hovertext}</b><br><br>reason=%{x}<br>count=%{y}<extra></extra>",
         "hovertext": [
          "internal/artifact/artifact.go",
          "internal/pipe/docker/docker.go",
          "internal/pipe/docker/docker_test.go",
          "internal/pipe/nfpm/nfpm.go",
          "pkg/config/config.go",
          "internal/pipe/brew/brew.go",
          "internal/pipe/brew/brew_test.go",
          "internal/client/github.go",
          "internal/pipe/nfpm/nfpm_test.go",
          "internal/builders/golang/build.go",
          "www/docs/static/schema-pro.json",
          "www/docs/static/schema.json",
          "internal/builders/golang/build_test.go",
          ".goreleaser.yml",
          "main.go",
          "config/config.go",
          "context/context.go",
          "pipeline/brew/brew.go",
          "pipeline/brew/brew_test.go",
          "pipeline/build/build.go",
          "pipeline/defaults/defaults.go",
          "pipeline/fpm/fpm.go",
          "pipeline/release/release.go",
          ".travis.yml"
         ],
         "legendgroup": "refactor",
         "marker": {
          "color": "#FF97FF",
          "pattern": {
           "shape": ""
          }
         },
         "name": "refactor",
         "offsetgroup": "refactor",
         "orientation": "v",
         "showlegend": true,
         "textposition": "auto",
         "x": [
          "refactor",
          "refactor",
          "refactor",
          "refactor",
          "refactor",
          "refactor",
          "refactor",
          "refactor",
          "refactor",
          "refactor",
          "refactor",
          "refactor",
          "refactor",
          "refactor",
          "refactor",
          "refactor",
          "refactor",
          "refactor",
          "refactor",
          "refactor",
          "refactor",
          "refactor",
          "refactor",
          "refactor"
         ],
         "xaxis": "x",
         "y": [
          18,
          13,
          16,
          10,
          11,
          11,
          15,
          6,
          8,
          9,
          2,
          1,
          11,
          3,
          6,
          6,
          4,
          6,
          4,
          16,
          4,
          7,
          6,
          2
         ],
         "yaxis": "y",
         "type": "bar"
        },
        {
         "alignmentgroup": "True",
         "hovertemplate": "<b>%{hovertext}</b><br><br>reason=%{x}<br>count=%{y}<extra></extra>",
         "hovertext": [
          ".github/workflows/build.yml",
          ".github/workflows/release.yml",
          "www/docs/static/schema-pro.json",
          "www/docs/static/schema.json",
          ".github/workflows/codeql.yml",
          "Dockerfile"
         ],
         "legendgroup": "build",
         "marker": {
          "color": "#FECB52",
          "pattern": {
           "shape": ""
          }
         },
         "name": "build",
         "offsetgroup": "build",
         "orientation": "v",
         "showlegend": true,
         "textposition": "auto",
         "x": [
          "build",
          "build",
          "build",
          "build",
          "build",
          "build"
         ],
         "xaxis": "x",
         "y": [
          8,
          7,
          2,
          1,
          2,
          1
         ],
         "yaxis": "y",
         "type": "bar"
        },
        {
         "alignmentgroup": "True",
         "hovertemplate": "<b>%{hovertext}</b><br><br>reason=%{x}<br>count=%{y}<extra></extra>",
         "hovertext": [
          ".github/workflows/build.yml",
          ".github/workflows/release.yml",
          "internal/client/github.go",
          ".goreleaser.yml",
          ".travis.yml",
          "internal/artifact/artifact.go",
          "config/config.go"
         ],
         "legendgroup": "Revert",
         "marker": {
          "color": "#636efa",
          "pattern": {
           "shape": ""
          }
         },
         "name": "Revert",
         "offsetgroup": "Revert",
         "orientation": "v",
         "showlegend": true,
         "textposition": "auto",
         "x": [
          "Revert",
          "Revert",
          "Revert",
          "Revert",
          "Revert",
          "Revert",
          "Revert"
         ],
         "xaxis": "x",
         "y": [
          2,
          1,
          4,
          2,
          6,
          1,
          1
         ],
         "yaxis": "y",
         "type": "bar"
        },
        {
         "alignmentgroup": "True",
         "hovertemplate": "<b>%{hovertext}</b><br><br>reason=%{x}<br>count=%{y}<extra></extra>",
         "hovertext": [
          "internal/pipe/docker/docker.go"
         ],
         "legendgroup": "adjusted",
         "marker": {
          "color": "#EF553B",
          "pattern": {
           "shape": ""
          }
         },
         "name": "adjusted",
         "offsetgroup": "adjusted",
         "orientation": "v",
         "showlegend": true,
         "textposition": "auto",
         "x": [
          "adjusted"
         ],
         "xaxis": "x",
         "y": [
          1
         ],
         "yaxis": "y",
         "type": "bar"
        },
        {
         "alignmentgroup": "True",
         "hovertemplate": "<b>%{hovertext}</b><br><br>reason=%{x}<br>count=%{y}<extra></extra>",
         "hovertext": [
          "internal/pipe/docker/docker.go"
         ],
         "legendgroup": "switched",
         "marker": {
          "color": "#00cc96",
          "pattern": {
           "shape": ""
          }
         },
         "name": "switched",
         "offsetgroup": "switched",
         "orientation": "v",
         "showlegend": true,
         "textposition": "auto",
         "x": [
          "switched"
         ],
         "xaxis": "x",
         "y": [
          1
         ],
         "yaxis": "y",
         "type": "bar"
        },
        {
         "alignmentgroup": "True",
         "hovertemplate": "<b>%{hovertext}</b><br><br>reason=%{x}<br>count=%{y}<extra></extra>",
         "hovertext": [
          "internal/pipe/docker/docker.go",
          "pipeline/release/release.go",
          "pipeline/brew/brew_test.go",
          "config/config.go",
          "pipeline/brew/brew.go",
          "pipeline/build/build.go",
          "pipeline/defaults/defaults.go",
          "pipeline/fpm/fpm.go"
         ],
         "legendgroup": "more",
         "marker": {
          "color": "#ab63fa",
          "pattern": {
           "shape": ""
          }
         },
         "name": "more",
         "offsetgroup": "more",
         "orientation": "v",
         "showlegend": true,
         "textposition": "auto",
         "x": [
          "more",
          "more",
          "more",
          "more",
          "more",
          "more",
          "more",
          "more"
         ],
         "xaxis": "x",
         "y": [
          1,
          2,
          2,
          1,
          1,
          1,
          1,
          1
         ],
         "yaxis": "y",
         "type": "bar"
        },
        {
         "alignmentgroup": "True",
         "hovertemplate": "<b>%{hovertext}</b><br><br>reason=%{x}<br>count=%{y}<extra></extra>",
         "hovertext": [
          "internal/client/github.go",
          "pkg/config/config.go"
         ],
         "legendgroup": "Support",
         "marker": {
          "color": "#FFA15A",
          "pattern": {
           "shape": ""
          }
         },
         "name": "Support",
         "offsetgroup": "Support",
         "orientation": "v",
         "showlegend": true,
         "textposition": "auto",
         "x": [
          "Support",
          "Support"
         ],
         "xaxis": "x",
         "y": [
          1,
          1
         ],
         "yaxis": "y",
         "type": "bar"
        },
        {
         "alignmentgroup": "True",
         "hovertemplate": "<b>%{hovertext}</b><br><br>reason=%{x}<br>count=%{y}<extra></extra>",
         "hovertext": [
          "internal/client/github.go",
          "pipeline/brew/brew.go",
          "main.go"
         ],
         "legendgroup": "revert",
         "marker": {
          "color": "#19d3f3",
          "pattern": {
           "shape": ""
          }
         },
         "name": "revert",
         "offsetgroup": "revert",
         "orientation": "v",
         "showlegend": true,
         "textposition": "auto",
         "x": [
          "revert",
          "revert",
          "revert"
         ],
         "xaxis": "x",
         "y": [
          1,
          1,
          2
         ],
         "yaxis": "y",
         "type": "bar"
        },
        {
         "alignmentgroup": "True",
         "hovertemplate": "<b>%{hovertext}</b><br><br>reason=%{x}<br>count=%{y}<extra></extra>",
         "hovertext": [
          "internal/pipe/nfpm/nfpm.go",
          "pkg/config/config.go"
         ],
         "legendgroup": "feat:",
         "marker": {
          "color": "#FF6692",
          "pattern": {
           "shape": ""
          }
         },
         "name": "feat:",
         "offsetgroup": "feat:",
         "orientation": "v",
         "showlegend": true,
         "textposition": "auto",
         "x": [
          "feat:",
          "feat:"
         ],
         "xaxis": "x",
         "y": [
          1,
          1
         ],
         "yaxis": "y",
         "type": "bar"
        },
        {
         "alignmentgroup": "True",
         "hovertemplate": "<b>%{hovertext}</b><br><br>reason=%{x}<br>count=%{y}<extra></extra>",
         "hovertext": [
          "internal/artifact/artifact.go",
          "config/config.go",
          "pipeline/brew/brew.go",
          "pipeline/build/build.go",
          "pipeline/release/release.go"
         ],
         "legendgroup": "refactory",
         "marker": {
          "color": "#B6E880",
          "pattern": {
           "shape": ""
          }
         },
         "name": "refactory",
         "offsetgroup": "refactory",
         "orientation": "v",
         "showlegend": true,
         "textposition": "auto",
         "x": [
          "refactory",
          "refactory",
          "refactory",
          "refactory",
          "refactory"
         ],
         "xaxis": "x",
         "y": [
          1,
          1,
          1,
          1,
          1
         ],
         "yaxis": "y",
         "type": "bar"
        },
        {
         "alignmentgroup": "True",
         "hovertemplate": "<b>%{hovertext}</b><br><br>reason=%{x}<br>count=%{y}<extra></extra>",
         "hovertext": [
          "pkg/config/config.go",
          "www/mkdocs.yml",
          "config/config.go",
          "internal/client/github.go",
          "pipeline/defaults/defaults.go",
          "README.md",
          "pipeline/fpm/fpm.go",
          "pipeline/brew/brew.go",
          "pipeline/build/build.go",
          "context/context.go",
          "main.go"
         ],
         "legendgroup": "Add",
         "marker": {
          "color": "#FF97FF",
          "pattern": {
           "shape": ""
          }
         },
         "name": "Add",
         "offsetgroup": "Add",
         "orientation": "v",
         "showlegend": true,
         "textposition": "auto",
         "x": [
          "Add",
          "Add",
          "Add",
          "Add",
          "Add",
          "Add",
          "Add",
          "Add",
          "Add",
          "Add",
          "Add"
         ],
         "xaxis": "x",
         "y": [
          1,
          1,
          6,
          1,
          2,
          8,
          4,
          1,
          1,
          1,
          1
         ],
         "yaxis": "y",
         "type": "bar"
        },
        {
         "alignmentgroup": "True",
         "hovertemplate": "<b>%{hovertext}</b><br><br>reason=%{x}<br>count=%{y}<extra></extra>",
         "hovertext": [
          "internal/client/github.go"
         ],
         "legendgroup": "Do",
         "marker": {
          "color": "#FECB52",
          "pattern": {
           "shape": ""
          }
         },
         "name": "Do",
         "offsetgroup": "Do",
         "orientation": "v",
         "showlegend": true,
         "textposition": "auto",
         "x": [
          "Do"
         ],
         "xaxis": "x",
         "y": [
          1
         ],
         "yaxis": "y",
         "type": "bar"
        },
        {
         "alignmentgroup": "True",
         "hovertemplate": "<b>%{hovertext}</b><br><br>reason=%{x}<br>count=%{y}<extra></extra>",
         "hovertext": [
          "www/mkdocs.yml",
          ".goreleaser.yml",
          "config/config.go",
          "pipeline/defaults/defaults.go"
         ],
         "legendgroup": "add",
         "marker": {
          "color": "#636efa",
          "pattern": {
           "shape": ""
          }
         },
         "name": "add",
         "offsetgroup": "add",
         "orientation": "v",
         "showlegend": true,
         "textposition": "auto",
         "x": [
          "add",
          "add",
          "add",
          "add"
         ],
         "xaxis": "x",
         "y": [
          1,
          2,
          2,
          1
         ],
         "yaxis": "y",
         "type": "bar"
        },
        {
         "alignmentgroup": "True",
         "hovertemplate": "<b>%{hovertext}</b><br><br>reason=%{x}<br>count=%{y}<extra></extra>",
         "hovertext": [
          "internal/pipe/nfpm/nfpm.go",
          "internal/pipe/nfpm/nfpm_test.go",
          "README.md",
          "config/config.go",
          "pipeline/brew/brew.go",
          "pipeline/brew/brew_test.go",
          "pipeline/build/build.go",
          "pipeline/fpm/fpm.go"
         ],
         "legendgroup": "Use",
         "marker": {
          "color": "#EF553B",
          "pattern": {
           "shape": ""
          }
         },
         "name": "Use",
         "offsetgroup": "Use",
         "orientation": "v",
         "showlegend": true,
         "textposition": "auto",
         "x": [
          "Use",
          "Use",
          "Use",
          "Use",
          "Use",
          "Use",
          "Use",
          "Use"
         ],
         "xaxis": "x",
         "y": [
          1,
          1,
          2,
          1,
          1,
          1,
          2,
          1
         ],
         "yaxis": "y",
         "type": "bar"
        },
        {
         "alignmentgroup": "True",
         "hovertemplate": "<b>%{hovertext}</b><br><br>reason=%{x}<br>count=%{y}<extra></extra>",
         "hovertext": [
          "Dockerfile",
          "README.md"
         ],
         "legendgroup": "Fix",
         "marker": {
          "color": "#00cc96",
          "pattern": {
           "shape": ""
          }
         },
         "name": "Fix",
         "offsetgroup": "Fix",
         "orientation": "v",
         "showlegend": true,
         "textposition": "auto",
         "x": [
          "Fix",
          "Fix"
         ],
         "xaxis": "x",
         "y": [
          1,
          5
         ],
         "yaxis": "y",
         "type": "bar"
        },
        {
         "alignmentgroup": "True",
         "hovertemplate": "<b>%{hovertext}</b><br><br>reason=%{x}<br>count=%{y}<extra></extra>",
         "hovertext": [
          "internal/pipe/docker/docker_test.go",
          "internal/pipe/docker/docker.go",
          "pkg/config/config.go",
          "main.go"
         ],
         "legendgroup": "clean",
         "marker": {
          "color": "#ab63fa",
          "pattern": {
           "shape": ""
          }
         },
         "name": "clean",
         "offsetgroup": "clean",
         "orientation": "v",
         "showlegend": true,
         "textposition": "auto",
         "x": [
          "clean",
          "clean",
          "clean",
          "clean"
         ],
         "xaxis": "x",
         "y": [
          2,
          1,
          4,
          1
         ],
         "yaxis": "y",
         "type": "bar"
        },
        {
         "alignmentgroup": "True",
         "hovertemplate": "<b>%{hovertext}</b><br><br>reason=%{x}<br>count=%{y}<extra></extra>",
         "hovertext": [
          "internal/client/github.go"
         ],
         "legendgroup": "&base",
         "marker": {
          "color": "#FFA15A",
          "pattern": {
           "shape": ""
          }
         },
         "name": "&base",
         "offsetgroup": "&base",
         "orientation": "v",
         "showlegend": true,
         "textposition": "auto",
         "x": [
          "&base"
         ],
         "xaxis": "x",
         "y": [
          1
         ],
         "yaxis": "y",
         "type": "bar"
        },
        {
         "alignmentgroup": "True",
         "hovertemplate": "<b>%{hovertext}</b><br><br>reason=%{x}<br>count=%{y}<extra></extra>",
         "hovertext": [
          ".goreleaser.yml"
         ],
         "legendgroup": "Set",
         "marker": {
          "color": "#19d3f3",
          "pattern": {
           "shape": ""
          }
         },
         "name": "Set",
         "offsetgroup": "Set",
         "orientation": "v",
         "showlegend": true,
         "textposition": "auto",
         "x": [
          "Set"
         ],
         "xaxis": "x",
         "y": [
          1
         ],
         "yaxis": "y",
         "type": "bar"
        },
        {
         "alignmentgroup": "True",
         "hovertemplate": "<b>%{hovertext}</b><br><br>reason=%{x}<br>count=%{y}<extra></extra>",
         "hovertext": [
          "main.go"
         ],
         "legendgroup": "refactor/fix:",
         "marker": {
          "color": "#FF6692",
          "pattern": {
           "shape": ""
          }
         },
         "name": "refactor/fix:",
         "offsetgroup": "refactor/fix:",
         "orientation": "v",
         "showlegend": true,
         "textposition": "auto",
         "x": [
          "refactor/fix:"
         ],
         "xaxis": "x",
         "y": [
          1
         ],
         "yaxis": "y",
         "type": "bar"
        },
        {
         "alignmentgroup": "True",
         "hovertemplate": "<b>%{hovertext}</b><br><br>reason=%{x}<br>count=%{y}<extra></extra>",
         "hovertext": [
          "Dockerfile"
         ],
         "legendgroup": "Optimized",
         "marker": {
          "color": "#B6E880",
          "pattern": {
           "shape": ""
          }
         },
         "name": "Optimized",
         "offsetgroup": "Optimized",
         "orientation": "v",
         "showlegend": true,
         "textposition": "auto",
         "x": [
          "Optimized"
         ],
         "xaxis": "x",
         "y": [
          1
         ],
         "yaxis": "y",
         "type": "bar"
        },
        {
         "alignmentgroup": "True",
         "hovertemplate": "<b>%{hovertext}</b><br><br>reason=%{x}<br>count=%{y}<extra></extra>",
         "hovertext": [
          "internal/pipe/brew/brew.go",
          "internal/builders/golang/build.go",
          "pipeline/build/build.go",
          "pipeline/brew/brew.go",
          "pipeline/brew/brew_test.go",
          "config/config.go",
          "internal/client/github.go",
          "pipeline/defaults/defaults.go",
          "context/context.go",
          "main.go",
          "pipeline/release/release.go"
         ],
         "legendgroup": "wip",
         "marker": {
          "color": "#FF97FF",
          "pattern": {
           "shape": ""
          }
         },
         "name": "wip",
         "offsetgroup": "wip",
         "orientation": "v",
         "showlegend": true,
         "textposition": "auto",
         "x": [
          "wip",
          "wip",
          "wip",
          "wip",
          "wip",
          "wip",
          "wip",
          "wip",
          "wip",
          "wip",
          "wip"
         ],
         "xaxis": "x",
         "y": [
          1,
          1,
          5,
          5,
          1,
          4,
          1,
          3,
          2,
          3,
          1
         ],
         "yaxis": "y",
         "type": "bar"
        },
        {
         "alignmentgroup": "True",
         "hovertemplate": "<b>%{hovertext}</b><br><br>reason=%{x}<br>count=%{y}<extra></extra>",
         "hovertext": [
          ".travis.yml"
         ],
         "legendgroup": "bump",
         "marker": {
          "color": "#FECB52",
          "pattern": {
           "shape": ""
          }
         },
         "name": "bump",
         "offsetgroup": "bump",
         "orientation": "v",
         "showlegend": true,
         "textposition": "auto",
         "x": [
          "bump"
         ],
         "xaxis": "x",
         "y": [
          1
         ],
         "yaxis": "y",
         "type": "bar"
        },
        {
         "alignmentgroup": "True",
         "hovertemplate": "<b>%{hovertext}</b><br><br>reason=%{x}<br>count=%{y}<extra></extra>",
         "hovertext": [
          "main.go",
          "pipeline/defaults/defaults.go",
          ".travis.yml",
          "internal/client/github.go",
          "config/config.go",
          "internal/builders/golang/build.go",
          "internal/builders/golang/build_test.go",
          "pipeline/build/build.go",
          "context/context.go",
          "pipeline/fpm/fpm.go"
         ],
         "legendgroup": "style",
         "marker": {
          "color": "#636efa",
          "pattern": {
           "shape": ""
          }
         },
         "name": "style",
         "offsetgroup": "style",
         "orientation": "v",
         "showlegend": true,
         "textposition": "auto",
         "x": [
          "style",
          "style",
          "style",
          "style",
          "style",
          "style",
          "style",
          "style",
          "style",
          "style"
         ],
         "xaxis": "x",
         "y": [
          2,
          2,
          1,
          1,
          4,
          2,
          1,
          2,
          1,
          1
         ],
         "yaxis": "y",
         "type": "bar"
        },
        {
         "alignmentgroup": "True",
         "hovertemplate": "<b>%{hovertext}</b><br><br>reason=%{x}<br>count=%{y}<extra></extra>",
         "hovertext": [
          "pipeline/release/release.go"
         ],
         "legendgroup": "*",
         "marker": {
          "color": "#EF553B",
          "pattern": {
           "shape": ""
          }
         },
         "name": "*",
         "offsetgroup": "*",
         "orientation": "v",
         "showlegend": true,
         "textposition": "auto",
         "x": [
          "*"
         ],
         "xaxis": "x",
         "y": [
          1
         ],
         "yaxis": "y",
         "type": "bar"
        },
        {
         "alignmentgroup": "True",
         "hovertemplate": "<b>%{hovertext}</b><br><br>reason=%{x}<br>count=%{y}<extra></extra>",
         "hovertext": [
          "internal/client/github.go",
          "README.md",
          "pipeline/release/release.go"
         ],
         "legendgroup": "update",
         "marker": {
          "color": "#00cc96",
          "pattern": {
           "shape": ""
          }
         },
         "name": "update",
         "offsetgroup": "update",
         "orientation": "v",
         "showlegend": true,
         "textposition": "auto",
         "x": [
          "update",
          "update",
          "update"
         ],
         "xaxis": "x",
         "y": [
          1,
          1,
          1
         ],
         "yaxis": "y",
         "type": "bar"
        },
        {
         "alignmentgroup": "True",
         "hovertemplate": "<b>%{hovertext}</b><br><br>reason=%{x}<br>count=%{y}<extra></extra>",
         "hovertext": [
          "README.md"
         ],
         "legendgroup": "Added",
         "marker": {
          "color": "#ab63fa",
          "pattern": {
           "shape": ""
          }
         },
         "name": "Added",
         "offsetgroup": "Added",
         "orientation": "v",
         "showlegend": true,
         "textposition": "auto",
         "x": [
          "Added"
         ],
         "xaxis": "x",
         "y": [
          1
         ],
         "yaxis": "y",
         "type": "bar"
        },
        {
         "alignmentgroup": "True",
         "hovertemplate": "<b>%{hovertext}</b><br><br>reason=%{x}<br>count=%{y}<extra></extra>",
         "hovertext": [
          "pipeline/fpm/fpm.go",
          "pipeline/brew/brew.go",
          "pipeline/brew/brew_test.go"
         ],
         "legendgroup": "remove",
         "marker": {
          "color": "#FFA15A",
          "pattern": {
           "shape": ""
          }
         },
         "name": "remove",
         "offsetgroup": "remove",
         "orientation": "v",
         "showlegend": true,
         "textposition": "auto",
         "x": [
          "remove",
          "remove",
          "remove"
         ],
         "xaxis": "x",
         "y": [
          1,
          1,
          1
         ],
         "yaxis": "y",
         "type": "bar"
        },
        {
         "alignmentgroup": "True",
         "hovertemplate": "<b>%{hovertext}</b><br><br>reason=%{x}<br>count=%{y}<extra></extra>",
         "hovertext": [
          "pipeline/defaults/defaults.go"
         ],
         "legendgroup": "Remove",
         "marker": {
          "color": "#19d3f3",
          "pattern": {
           "shape": ""
          }
         },
         "name": "Remove",
         "offsetgroup": "Remove",
         "orientation": "v",
         "showlegend": true,
         "textposition": "auto",
         "x": [
          "Remove"
         ],
         "xaxis": "x",
         "y": [
          1
         ],
         "yaxis": "y",
         "type": "bar"
        },
        {
         "alignmentgroup": "True",
         "hovertemplate": "<b>%{hovertext}</b><br><br>reason=%{x}<br>count=%{y}<extra></extra>",
         "hovertext": [
          "pipeline/brew/brew_test.go"
         ],
         "legendgroup": "removing",
         "marker": {
          "color": "#FF6692",
          "pattern": {
           "shape": ""
          }
         },
         "name": "removing",
         "offsetgroup": "removing",
         "orientation": "v",
         "showlegend": true,
         "textposition": "auto",
         "x": [
          "removing"
         ],
         "xaxis": "x",
         "y": [
          1
         ],
         "yaxis": "y",
         "type": "bar"
        },
        {
         "alignmentgroup": "True",
         "hovertemplate": "<b>%{hovertext}</b><br><br>reason=%{x}<br>count=%{y}<extra></extra>",
         "hovertext": [
          "pipeline/brew/brew_test.go"
         ],
         "legendgroup": "unit",
         "marker": {
          "color": "#B6E880",
          "pattern": {
           "shape": ""
          }
         },
         "name": "unit",
         "offsetgroup": "unit",
         "orientation": "v",
         "showlegend": true,
         "textposition": "auto",
         "x": [
          "unit"
         ],
         "xaxis": "x",
         "y": [
          1
         ],
         "yaxis": "y",
         "type": "bar"
        },
        {
         "alignmentgroup": "True",
         "hovertemplate": "<b>%{hovertext}</b><br><br>reason=%{x}<br>count=%{y}<extra></extra>",
         "hovertext": [
          "pipeline/brew/brew.go",
          "pipeline/release/release.go",
          "config/config.go",
          "internal/client/github.go",
          "pipeline/fpm/fpm.go",
          "pipeline/brew/brew_test.go",
          "context/context.go",
          "README.md",
          ".travis.yml",
          "pipeline/build/build.go",
          "main.go",
          "pipeline/defaults/defaults.go"
         ],
         "legendgroup": "fixed",
         "marker": {
          "color": "#FF97FF",
          "pattern": {
           "shape": ""
          }
         },
         "name": "fixed",
         "offsetgroup": "fixed",
         "orientation": "v",
         "showlegend": true,
         "textposition": "auto",
         "x": [
          "fixed",
          "fixed",
          "fixed",
          "fixed",
          "fixed",
          "fixed",
          "fixed",
          "fixed",
          "fixed",
          "fixed",
          "fixed",
          "fixed"
         ],
         "xaxis": "x",
         "y": [
          8,
          4,
          2,
          1,
          4,
          6,
          2,
          3,
          1,
          4,
          3,
          1
         ],
         "yaxis": "y",
         "type": "bar"
        },
        {
         "alignmentgroup": "True",
         "hovertemplate": "<b>%{hovertext}</b><br><br>reason=%{x}<br>count=%{y}<extra></extra>",
         "hovertext": [
          ".travis.yml",
          "pipeline/release/release.go"
         ],
         "legendgroup": "lint",
         "marker": {
          "color": "#FECB52",
          "pattern": {
           "shape": ""
          }
         },
         "name": "lint",
         "offsetgroup": "lint",
         "orientation": "v",
         "showlegend": true,
         "textposition": "auto",
         "x": [
          "lint",
          "lint"
         ],
         "xaxis": "x",
         "y": [
          1,
          1
         ],
         "yaxis": "y",
         "type": "bar"
        },
        {
         "alignmentgroup": "True",
         "hovertemplate": "<b>%{hovertext}</b><br><br>reason=%{x}<br>count=%{y}<extra></extra>",
         "hovertext": [
          "config/config.go",
          "internal/client/github.go",
          "pipeline/brew/brew.go",
          "pipeline/release/release.go"
         ],
         "legendgroup": "github",
         "marker": {
          "color": "#636efa",
          "pattern": {
           "shape": ""
          }
         },
         "name": "github",
         "offsetgroup": "github",
         "orientation": "v",
         "showlegend": true,
         "textposition": "auto",
         "x": [
          "github",
          "github",
          "github",
          "github"
         ],
         "xaxis": "x",
         "y": [
          1,
          1,
          2,
          1
         ],
         "yaxis": "y",
         "type": "bar"
        },
        {
         "alignmentgroup": "True",
         "hovertemplate": "<b>%{hovertext}</b><br><br>reason=%{x}<br>count=%{y}<extra></extra>",
         "hovertext": [
          "config/config.go"
         ],
         "legendgroup": "allows",
         "marker": {
          "color": "#EF553B",
          "pattern": {
           "shape": ""
          }
         },
         "name": "allows",
         "offsetgroup": "allows",
         "orientation": "v",
         "showlegend": true,
         "textposition": "auto",
         "x": [
          "allows"
         ],
         "xaxis": "x",
         "y": [
          1
         ],
         "yaxis": "y",
         "type": "bar"
        },
        {
         "alignmentgroup": "True",
         "hovertemplate": "<b>%{hovertext}</b><br><br>reason=%{x}<br>count=%{y}<extra></extra>",
         "hovertext": [
          "pipeline/brew/brew_test.go",
          "pipeline/defaults/defaults.go",
          "config/config.go",
          "pipeline/brew/brew.go",
          "pipeline/build/build.go",
          "pipeline/fpm/fpm.go"
         ],
         "legendgroup": "fixing",
         "marker": {
          "color": "#00cc96",
          "pattern": {
           "shape": ""
          }
         },
         "name": "fixing",
         "offsetgroup": "fixing",
         "orientation": "v",
         "showlegend": true,
         "textposition": "auto",
         "x": [
          "fixing",
          "fixing",
          "fixing",
          "fixing",
          "fixing",
          "fixing"
         ],
         "xaxis": "x",
         "y": [
          1,
          3,
          1,
          2,
          1,
          2
         ],
         "yaxis": "y",
         "type": "bar"
        },
        {
         "alignmentgroup": "True",
         "hovertemplate": "<b>%{hovertext}</b><br><br>reason=%{x}<br>count=%{y}<extra></extra>",
         "hovertext": [
          "internal/client/github.go",
          "pipeline/build/build.go"
         ],
         "legendgroup": "merge",
         "marker": {
          "color": "#ab63fa",
          "pattern": {
           "shape": ""
          }
         },
         "name": "merge",
         "offsetgroup": "merge",
         "orientation": "v",
         "showlegend": true,
         "textposition": "auto",
         "x": [
          "merge",
          "merge"
         ],
         "xaxis": "x",
         "y": [
          1,
          1
         ],
         "yaxis": "y",
         "type": "bar"
        },
        {
         "alignmentgroup": "True",
         "hovertemplate": "<b>%{hovertext}</b><br><br>reason=%{x}<br>count=%{y}<extra></extra>",
         "hovertext": [
          "config/config.go",
          "internal/client/github.go",
          "pipeline/brew/brew.go",
          "pipeline/release/release.go",
          "pipeline/build/build.go",
          "pipeline/defaults/defaults.go",
          "README.md"
         ],
         "legendgroup": "support",
         "marker": {
          "color": "#FFA15A",
          "pattern": {
           "shape": ""
          }
         },
         "name": "support",
         "offsetgroup": "support",
         "orientation": "v",
         "showlegend": true,
         "textposition": "auto",
         "x": [
          "support",
          "support",
          "support",
          "support",
          "support",
          "support",
          "support"
         ],
         "xaxis": "x",
         "y": [
          3,
          2,
          2,
          2,
          2,
          1,
          1
         ],
         "yaxis": "y",
         "type": "bar"
        },
        {
         "alignmentgroup": "True",
         "hovertemplate": "<b>%{hovertext}</b><br><br>reason=%{x}<br>count=%{y}<extra></extra>",
         "hovertext": [
          ".goreleaser.yml"
         ],
         "legendgroup": "push",
         "marker": {
          "color": "#19d3f3",
          "pattern": {
           "shape": ""
          }
         },
         "name": "push",
         "offsetgroup": "push",
         "orientation": "v",
         "showlegend": true,
         "textposition": "auto",
         "x": [
          "push"
         ],
         "xaxis": "x",
         "y": [
          1
         ],
         "yaxis": "y",
         "type": "bar"
        },
        {
         "alignmentgroup": "True",
         "hovertemplate": "<b>%{hovertext}</b><br><br>reason=%{x}<br>count=%{y}<extra></extra>",
         "hovertext": [
          "context/context.go",
          "README.md",
          "config/config.go",
          "pipeline/brew/brew.go",
          "pipeline/build/build.go",
          "pipeline/defaults/defaults.go",
          "pipeline/fpm/fpm.go",
          "pipeline/release/release.go"
         ],
         "legendgroup": "adding",
         "marker": {
          "color": "#FF6692",
          "pattern": {
           "shape": ""
          }
         },
         "name": "adding",
         "offsetgroup": "adding",
         "orientation": "v",
         "showlegend": true,
         "textposition": "auto",
         "x": [
          "adding",
          "adding",
          "adding",
          "adding",
          "adding",
          "adding",
          "adding",
          "adding"
         ],
         "xaxis": "x",
         "y": [
          2,
          2,
          1,
          1,
          2,
          1,
          1,
          1
         ],
         "yaxis": "y",
         "type": "bar"
        },
        {
         "alignmentgroup": "True",
         "hovertemplate": "<b>%{hovertext}</b><br><br>reason=%{x}<br>count=%{y}<extra></extra>",
         "hovertext": [
          "config/config.go",
          "context/context.go",
          "main.go"
         ],
         "legendgroup": "rm",
         "marker": {
          "color": "#B6E880",
          "pattern": {
           "shape": ""
          }
         },
         "name": "rm",
         "offsetgroup": "rm",
         "orientation": "v",
         "showlegend": true,
         "textposition": "auto",
         "x": [
          "rm",
          "rm",
          "rm"
         ],
         "xaxis": "x",
         "y": [
          1,
          1,
          1
         ],
         "yaxis": "y",
         "type": "bar"
        },
        {
         "alignmentgroup": "True",
         "hovertemplate": "<b>%{hovertext}</b><br><br>reason=%{x}<br>count=%{y}<extra></extra>",
         "hovertext": [
          "internal/client/github.go"
         ],
         "legendgroup": "todo",
         "marker": {
          "color": "#FF97FF",
          "pattern": {
           "shape": ""
          }
         },
         "name": "todo",
         "offsetgroup": "todo",
         "orientation": "v",
         "showlegend": true,
         "textposition": "auto",
         "x": [
          "todo"
         ],
         "xaxis": "x",
         "y": [
          1
         ],
         "yaxis": "y",
         "type": "bar"
        },
        {
         "alignmentgroup": "True",
         "hovertemplate": "<b>%{hovertext}</b><br><br>reason=%{x}<br>count=%{y}<extra></extra>",
         "hovertext": [
          "pipeline/defaults/defaults.go",
          "pipeline/fpm/fpm.go"
         ],
         "legendgroup": "enabled",
         "marker": {
          "color": "#FECB52",
          "pattern": {
           "shape": ""
          }
         },
         "name": "enabled",
         "offsetgroup": "enabled",
         "orientation": "v",
         "showlegend": true,
         "textposition": "auto",
         "x": [
          "enabled",
          "enabled"
         ],
         "xaxis": "x",
         "y": [
          1,
          1
         ],
         "yaxis": "y",
         "type": "bar"
        },
        {
         "alignmentgroup": "True",
         "hovertemplate": "<b>%{hovertext}</b><br><br>reason=%{x}<br>count=%{y}<extra></extra>",
         "hovertext": [
          "config/config.go"
         ],
         "legendgroup": "also",
         "marker": {
          "color": "#636efa",
          "pattern": {
           "shape": ""
          }
         },
         "name": "also",
         "offsetgroup": "also",
         "orientation": "v",
         "showlegend": true,
         "textposition": "auto",
         "x": [
          "also"
         ],
         "xaxis": "x",
         "y": [
          1
         ],
         "yaxis": "y",
         "type": "bar"
        },
        {
         "alignmentgroup": "True",
         "hovertemplate": "<b>%{hovertext}</b><br><br>reason=%{x}<br>count=%{y}<extra></extra>",
         "hovertext": [
          ".travis.yml",
          "internal/client/github.go",
          "pipeline/build/build.go",
          "pipeline/fpm/fpm.go"
         ],
         "legendgroup": "using",
         "marker": {
          "color": "#EF553B",
          "pattern": {
           "shape": ""
          }
         },
         "name": "using",
         "offsetgroup": "using",
         "orientation": "v",
         "showlegend": true,
         "textposition": "auto",
         "x": [
          "using",
          "using",
          "using",
          "using"
         ],
         "xaxis": "x",
         "y": [
          1,
          1,
          4,
          2
         ],
         "yaxis": "y",
         "type": "bar"
        },
        {
         "alignmentgroup": "True",
         "hovertemplate": "<b>%{hovertext}</b><br><br>reason=%{x}<br>count=%{y}<extra></extra>",
         "hovertext": [
          ".travis.yml"
         ],
         "legendgroup": "enable",
         "marker": {
          "color": "#00cc96",
          "pattern": {
           "shape": ""
          }
         },
         "name": "enable",
         "offsetgroup": "enable",
         "orientation": "v",
         "showlegend": true,
         "textposition": "auto",
         "x": [
          "enable"
         ],
         "xaxis": "x",
         "y": [
          1
         ],
         "yaxis": "y",
         "type": "bar"
        },
        {
         "alignmentgroup": "True",
         "hovertemplate": "<b>%{hovertext}</b><br><br>reason=%{x}<br>count=%{y}<extra></extra>",
         "hovertext": [
          ".goreleaser.yml"
         ],
         "legendgroup": "restore",
         "marker": {
          "color": "#ab63fa",
          "pattern": {
           "shape": ""
          }
         },
         "name": "restore",
         "offsetgroup": "restore",
         "orientation": "v",
         "showlegend": true,
         "textposition": "auto",
         "x": [
          "restore"
         ],
         "xaxis": "x",
         "y": [
          1
         ],
         "yaxis": "y",
         "type": "bar"
        },
        {
         "alignmentgroup": "True",
         "hovertemplate": "<b>%{hovertext}</b><br><br>reason=%{x}<br>count=%{y}<extra></extra>",
         "hovertext": [
          ".goreleaser.yml",
          "config/config.go",
          "pipeline/defaults/defaults.go",
          "main.go",
          "context/context.go"
         ],
         "legendgroup": "improvements",
         "marker": {
          "color": "#FFA15A",
          "pattern": {
           "shape": ""
          }
         },
         "name": "improvements",
         "offsetgroup": "improvements",
         "orientation": "v",
         "showlegend": true,
         "textposition": "auto",
         "x": [
          "improvements",
          "improvements",
          "improvements",
          "improvements",
          "improvements"
         ],
         "xaxis": "x",
         "y": [
          1,
          1,
          1,
          3,
          1
         ],
         "yaxis": "y",
         "type": "bar"
        },
        {
         "alignmentgroup": "True",
         "hovertemplate": "<b>%{hovertext}</b><br><br>reason=%{x}<br>count=%{y}<extra></extra>",
         "hovertext": [
          ".goreleaser.yml",
          "Dockerfile",
          "config/config.go"
         ],
         "legendgroup": "draft",
         "marker": {
          "color": "#19d3f3",
          "pattern": {
           "shape": ""
          }
         },
         "name": "draft",
         "offsetgroup": "draft",
         "orientation": "v",
         "showlegend": true,
         "textposition": "auto",
         "x": [
          "draft",
          "draft",
          "draft"
         ],
         "xaxis": "x",
         "y": [
          1,
          1,
          1
         ],
         "yaxis": "y",
         "type": "bar"
        },
        {
         "alignmentgroup": "True",
         "hovertemplate": "<b>%{hovertext}</b><br><br>reason=%{x}<br>count=%{y}<extra></extra>",
         "hovertext": [
          "README.md"
         ],
         "legendgroup": "readme",
         "marker": {
          "color": "#FF6692",
          "pattern": {
           "shape": ""
          }
         },
         "name": "readme",
         "offsetgroup": "readme",
         "orientation": "v",
         "showlegend": true,
         "textposition": "auto",
         "x": [
          "readme"
         ],
         "xaxis": "x",
         "y": [
          13
         ],
         "yaxis": "y",
         "type": "bar"
        },
        {
         "alignmentgroup": "True",
         "hovertemplate": "<b>%{hovertext}</b><br><br>reason=%{x}<br>count=%{y}<extra></extra>",
         "hovertext": [
          "README.md"
         ],
         "legendgroup": "new",
         "marker": {
          "color": "#B6E880",
          "pattern": {
           "shape": ""
          }
         },
         "name": "new",
         "offsetgroup": "new",
         "orientation": "v",
         "showlegend": true,
         "textposition": "auto",
         "x": [
          "new"
         ],
         "xaxis": "x",
         "y": [
          1
         ],
         "yaxis": "y",
         "type": "bar"
        },
        {
         "alignmentgroup": "True",
         "hovertemplate": "<b>%{hovertext}</b><br><br>reason=%{x}<br>count=%{y}<extra></extra>",
         "hovertext": [
          ".goreleaser.yml",
          "README.md",
          "config/config.go",
          "pipeline/defaults/defaults.go"
         ],
         "legendgroup": "checksums",
         "marker": {
          "color": "#FF97FF",
          "pattern": {
           "shape": ""
          }
         },
         "name": "checksums",
         "offsetgroup": "checksums",
         "orientation": "v",
         "showlegend": true,
         "textposition": "auto",
         "x": [
          "checksums",
          "checksums",
          "checksums",
          "checksums"
         ],
         "xaxis": "x",
         "y": [
          1,
          1,
          1,
          1
         ],
         "yaxis": "y",
         "type": "bar"
        },
        {
         "alignmentgroup": "True",
         "hovertemplate": "<b>%{hovertext}</b><br><br>reason=%{x}<br>count=%{y}<extra></extra>",
         "hovertext": [
          "README.md",
          "context/context.go",
          "pipeline/fpm/fpm.go",
          "pipeline/brew/brew.go",
          "pipeline/brew/brew_test.go",
          "main.go",
          "pipeline/build/build.go",
          "internal/client/github.go",
          "pipeline/release/release.go",
          "config/config.go",
          "pipeline/defaults/defaults.go"
         ],
         "legendgroup": "improved",
         "marker": {
          "color": "#FECB52",
          "pattern": {
           "shape": ""
          }
         },
         "name": "improved",
         "offsetgroup": "improved",
         "orientation": "v",
         "showlegend": true,
         "textposition": "auto",
         "x": [
          "improved",
          "improved",
          "improved",
          "improved",
          "improved",
          "improved",
          "improved",
          "improved",
          "improved",
          "improved",
          "improved"
         ],
         "xaxis": "x",
         "y": [
          5,
          3,
          2,
          5,
          3,
          4,
          3,
          1,
          1,
          2,
          1
         ],
         "yaxis": "y",
         "type": "bar"
        },
        {
         "alignmentgroup": "True",
         "hovertemplate": "<b>%{hovertext}</b><br><br>reason=%{x}<br>count=%{y}<extra></extra>",
         "hovertext": [
          "pipeline/brew/brew.go",
          "pipeline/fpm/fpm.go",
          "pipeline/release/release.go",
          "pipeline/brew/brew_test.go"
         ],
         "legendgroup": "skipped",
         "marker": {
          "color": "#636efa",
          "pattern": {
           "shape": ""
          }
         },
         "name": "skipped",
         "offsetgroup": "skipped",
         "orientation": "v",
         "showlegend": true,
         "textposition": "auto",
         "x": [
          "skipped",
          "skipped",
          "skipped",
          "skipped"
         ],
         "xaxis": "x",
         "y": [
          1,
          1,
          1,
          1
         ],
         "yaxis": "y",
         "type": "bar"
        },
        {
         "alignmentgroup": "True",
         "hovertemplate": "<b>%{hovertext}</b><br><br>reason=%{x}<br>count=%{y}<extra></extra>",
         "hovertext": [
          ".travis.yml"
         ],
         "legendgroup": "testing",
         "marker": {
          "color": "#EF553B",
          "pattern": {
           "shape": ""
          }
         },
         "name": "testing",
         "offsetgroup": "testing",
         "orientation": "v",
         "showlegend": true,
         "textposition": "auto",
         "x": [
          "testing"
         ],
         "xaxis": "x",
         "y": [
          1
         ],
         "yaxis": "y",
         "type": "bar"
        },
        {
         "alignmentgroup": "True",
         "hovertemplate": "<b>%{hovertext}</b><br><br>reason=%{x}<br>count=%{y}<extra></extra>",
         "hovertext": [
          ".goreleaser.yml",
          ".travis.yml",
          "pipeline/fpm/fpm.go"
         ],
         "legendgroup": "building",
         "marker": {
          "color": "#00cc96",
          "pattern": {
           "shape": ""
          }
         },
         "name": "building",
         "offsetgroup": "building",
         "orientation": "v",
         "showlegend": true,
         "textposition": "auto",
         "x": [
          "building",
          "building",
          "building"
         ],
         "xaxis": "x",
         "y": [
          1,
          1,
          1
         ],
         "yaxis": "y",
         "type": "bar"
        },
        {
         "alignmentgroup": "True",
         "hovertemplate": "<b>%{hovertext}</b><br><br>reason=%{x}<br>count=%{y}<extra></extra>",
         "hovertext": [
          "pipeline/fpm/fpm.go",
          "config/config.go",
          "pipeline/release/release.go",
          "pipeline/brew/brew.go"
         ],
         "legendgroup": "code",
         "marker": {
          "color": "#ab63fa",
          "pattern": {
           "shape": ""
          }
         },
         "name": "code",
         "offsetgroup": "code",
         "orientation": "v",
         "showlegend": true,
         "textposition": "auto",
         "x": [
          "code",
          "code",
          "code",
          "code"
         ],
         "xaxis": "x",
         "y": [
          2,
          1,
          2,
          1
         ],
         "yaxis": "y",
         "type": "bar"
        },
        {
         "alignmentgroup": "True",
         "hovertemplate": "<b>%{hovertext}</b><br><br>reason=%{x}<br>count=%{y}<extra></extra>",
         "hovertext": [
          "README.md",
          "config/config.go",
          "context/context.go",
          "main.go",
          "pipeline/build/build.go",
          "pipeline/release/release.go"
         ],
         "legendgroup": "allow",
         "marker": {
          "color": "#FFA15A",
          "pattern": {
           "shape": ""
          }
         },
         "name": "allow",
         "offsetgroup": "allow",
         "orientation": "v",
         "showlegend": true,
         "textposition": "auto",
         "x": [
          "allow",
          "allow",
          "allow",
          "allow",
          "allow",
          "allow"
         ],
         "xaxis": "x",
         "y": [
          1,
          3,
          1,
          2,
          2,
          1
         ],
         "yaxis": "y",
         "type": "bar"
        },
        {
         "alignmentgroup": "True",
         "hovertemplate": "<b>%{hovertext}</b><br><br>reason=%{x}<br>count=%{y}<extra></extra>",
         "hovertext": [
          "README.md"
         ],
         "legendgroup": "spaces",
         "marker": {
          "color": "#19d3f3",
          "pattern": {
           "shape": ""
          }
         },
         "name": "spaces",
         "offsetgroup": "spaces",
         "orientation": "v",
         "showlegend": true,
         "textposition": "auto",
         "x": [
          "spaces"
         ],
         "xaxis": "x",
         "y": [
          1
         ],
         "yaxis": "y",
         "type": "bar"
        },
        {
         "alignmentgroup": "True",
         "hovertemplate": "<b>%{hovertext}</b><br><br>reason=%{x}<br>count=%{y}<extra></extra>",
         "hovertext": [
          "config/config.go"
         ],
         "legendgroup": "Allow",
         "marker": {
          "color": "#FF6692",
          "pattern": {
           "shape": ""
          }
         },
         "name": "Allow",
         "offsetgroup": "Allow",
         "orientation": "v",
         "showlegend": true,
         "textposition": "auto",
         "x": [
          "Allow"
         ],
         "xaxis": "x",
         "y": [
          4
         ],
         "yaxis": "y",
         "type": "bar"
        },
        {
         "alignmentgroup": "True",
         "hovertemplate": "<b>%{hovertext}</b><br><br>reason=%{x}<br>count=%{y}<extra></extra>",
         "hovertext": [
          "config/config.go",
          "pipeline/build/build.go",
          "context/context.go",
          "pipeline/fpm/fpm.go",
          "README.md",
          "pipeline/brew/brew.go",
          "pipeline/brew/brew_test.go",
          "pipeline/release/release.go",
          "main.go"
         ],
         "legendgroup": "fixes",
         "marker": {
          "color": "#B6E880",
          "pattern": {
           "shape": ""
          }
         },
         "name": "fixes",
         "offsetgroup": "fixes",
         "orientation": "v",
         "showlegend": true,
         "textposition": "auto",
         "x": [
          "fixes",
          "fixes",
          "fixes",
          "fixes",
          "fixes",
          "fixes",
          "fixes",
          "fixes",
          "fixes"
         ],
         "xaxis": "x",
         "y": [
          4,
          2,
          1,
          1,
          2,
          2,
          2,
          1,
          1
         ],
         "yaxis": "y",
         "type": "bar"
        },
        {
         "alignmentgroup": "True",
         "hovertemplate": "<b>%{hovertext}</b><br><br>reason=%{x}<br>count=%{y}<extra></extra>",
         "hovertext": [
          ".travis.yml"
         ],
         "legendgroup": "export",
         "marker": {
          "color": "#FF97FF",
          "pattern": {
           "shape": ""
          }
         },
         "name": "export",
         "offsetgroup": "export",
         "orientation": "v",
         "showlegend": true,
         "textposition": "auto",
         "x": [
          "export"
         ],
         "xaxis": "x",
         "y": [
          1
         ],
         "yaxis": "y",
         "type": "bar"
        },
        {
         "alignmentgroup": "True",
         "hovertemplate": "<b>%{hovertext}</b><br><br>reason=%{x}<br>count=%{y}<extra></extra>",
         "hovertext": [
          ".travis.yml"
         ],
         "legendgroup": "install",
         "marker": {
          "color": "#FECB52",
          "pattern": {
           "shape": ""
          }
         },
         "name": "install",
         "offsetgroup": "install",
         "orientation": "v",
         "showlegend": true,
         "textposition": "auto",
         "x": [
          "install"
         ],
         "xaxis": "x",
         "y": [
          1
         ],
         "yaxis": "y",
         "type": "bar"
        },
        {
         "alignmentgroup": "True",
         "hovertemplate": "<b>%{hovertext}</b><br><br>reason=%{x}<br>count=%{y}<extra></extra>",
         "hovertext": [
          "pipeline/brew/brew.go",
          "pipeline/brew/brew_test.go",
          "config/config.go",
          "main.go",
          "pipeline/defaults/defaults.go",
          "pipeline/build/build.go"
         ],
         "legendgroup": "cleanup",
         "marker": {
          "color": "#636efa",
          "pattern": {
           "shape": ""
          }
         },
         "name": "cleanup",
         "offsetgroup": "cleanup",
         "orientation": "v",
         "showlegend": true,
         "textposition": "auto",
         "x": [
          "cleanup",
          "cleanup",
          "cleanup",
          "cleanup",
          "cleanup",
          "cleanup"
         ],
         "xaxis": "x",
         "y": [
          1,
          2,
          1,
          1,
          1,
          1
         ],
         "yaxis": "y",
         "type": "bar"
        },
        {
         "alignmentgroup": "True",
         "hovertemplate": "<b>%{hovertext}</b><br><br>reason=%{x}<br>count=%{y}<extra></extra>",
         "hovertext": [
          ".goreleaser.yml",
          ".travis.yml",
          "main.go"
         ],
         "legendgroup": "git",
         "marker": {
          "color": "#EF553B",
          "pattern": {
           "shape": ""
          }
         },
         "name": "git",
         "offsetgroup": "git",
         "orientation": "v",
         "showlegend": true,
         "textposition": "auto",
         "x": [
          "git",
          "git",
          "git"
         ],
         "xaxis": "x",
         "y": [
          1,
          1,
          1
         ],
         "yaxis": "y",
         "type": "bar"
        },
        {
         "alignmentgroup": "True",
         "hovertemplate": "<b>%{hovertext}</b><br><br>reason=%{x}<br>count=%{y}<extra></extra>",
         "hovertext": [
          "pipeline/brew/brew.go",
          "pipeline/brew/brew_test.go"
         ],
         "legendgroup": "template",
         "marker": {
          "color": "#00cc96",
          "pattern": {
           "shape": ""
          }
         },
         "name": "template",
         "offsetgroup": "template",
         "orientation": "v",
         "showlegend": true,
         "textposition": "auto",
         "x": [
          "template",
          "template"
         ],
         "xaxis": "x",
         "y": [
          2,
          1
         ],
         "yaxis": "y",
         "type": "bar"
        },
        {
         "alignmentgroup": "True",
         "hovertemplate": "<b>%{hovertext}</b><br><br>reason=%{x}<br>count=%{y}<extra></extra>",
         "hovertext": [
          ".goreleaser.yml",
          "README.md",
          "config/config.go",
          "pipeline/brew/brew.go",
          "pipeline/brew/brew_test.go",
          "pipeline/defaults/defaults.go"
         ],
         "legendgroup": "homebrew",
         "marker": {
          "color": "#ab63fa",
          "pattern": {
           "shape": ""
          }
         },
         "name": "homebrew",
         "offsetgroup": "homebrew",
         "orientation": "v",
         "showlegend": true,
         "textposition": "auto",
         "x": [
          "homebrew",
          "homebrew",
          "homebrew",
          "homebrew",
          "homebrew",
          "homebrew"
         ],
         "xaxis": "x",
         "y": [
          1,
          2,
          2,
          4,
          3,
          1
         ],
         "yaxis": "y",
         "type": "bar"
        },
        {
         "alignmentgroup": "True",
         "hovertemplate": "<b>%{hovertext}</b><br><br>reason=%{x}<br>count=%{y}<extra></extra>",
         "hovertext": [
          "main.go"
         ],
         "legendgroup": "Fixes",
         "marker": {
          "color": "#FFA15A",
          "pattern": {
           "shape": ""
          }
         },
         "name": "Fixes",
         "offsetgroup": "Fixes",
         "orientation": "v",
         "showlegend": true,
         "textposition": "auto",
         "x": [
          "Fixes"
         ],
         "xaxis": "x",
         "y": [
          1
         ],
         "yaxis": "y",
         "type": "bar"
        },
        {
         "alignmentgroup": "True",
         "hovertemplate": "<b>%{hovertext}</b><br><br>reason=%{x}<br>count=%{y}<extra></extra>",
         "hovertext": [
          "context/context.go",
          "pipeline/brew/brew_test.go"
         ],
         "legendgroup": "coverage",
         "marker": {
          "color": "#19d3f3",
          "pattern": {
           "shape": ""
          }
         },
         "name": "coverage",
         "offsetgroup": "coverage",
         "orientation": "v",
         "showlegend": true,
         "textposition": "auto",
         "x": [
          "coverage",
          "coverage"
         ],
         "xaxis": "x",
         "y": [
          1,
          1
         ],
         "yaxis": "y",
         "type": "bar"
        },
        {
         "alignmentgroup": "True",
         "hovertemplate": "<b>%{hovertext}</b><br><br>reason=%{x}<br>count=%{y}<extra></extra>",
         "hovertext": [
          "context/context.go",
          "pipeline/brew/brew.go",
          "pipeline/fpm/fpm.go",
          "config/config.go",
          "pipeline/build/build.go",
          "pipeline/defaults/defaults.go",
          "pipeline/release/release.go",
          "README.md",
          "pipeline/brew/brew_test.go",
          "main.go"
         ],
         "legendgroup": "renamed",
         "marker": {
          "color": "#FF6692",
          "pattern": {
           "shape": ""
          }
         },
         "name": "renamed",
         "offsetgroup": "renamed",
         "orientation": "v",
         "showlegend": true,
         "textposition": "auto",
         "x": [
          "renamed",
          "renamed",
          "renamed",
          "renamed",
          "renamed",
          "renamed",
          "renamed",
          "renamed",
          "renamed",
          "renamed"
         ],
         "xaxis": "x",
         "y": [
          4,
          5,
          3,
          2,
          4,
          4,
          3,
          3,
          1,
          2
         ],
         "yaxis": "y",
         "type": "bar"
        },
        {
         "alignmentgroup": "True",
         "hovertemplate": "<b>%{hovertext}</b><br><br>reason=%{x}<br>count=%{y}<extra></extra>",
         "hovertext": [
          "context/context.go",
          "pipeline/brew/brew.go",
          "pipeline/build/build.go",
          "pipeline/fpm/fpm.go"
         ],
         "legendgroup": "multiple",
         "marker": {
          "color": "#B6E880",
          "pattern": {
           "shape": ""
          }
         },
         "name": "multiple",
         "offsetgroup": "multiple",
         "orientation": "v",
         "showlegend": true,
         "textposition": "auto",
         "x": [
          "multiple",
          "multiple",
          "multiple",
          "multiple"
         ],
         "xaxis": "x",
         "y": [
          1,
          1,
          1,
          1
         ],
         "yaxis": "y",
         "type": "bar"
        },
        {
         "alignmentgroup": "True",
         "hovertemplate": "<b>%{hovertext}</b><br><br>reason=%{x}<br>count=%{y}<extra></extra>",
         "hovertext": [
          "pipeline/build/build.go",
          "internal/client/github.go",
          "pipeline/brew/brew.go",
          "pipeline/release/release.go",
          ".travis.yml"
         ],
         "legendgroup": "moving",
         "marker": {
          "color": "#FF97FF",
          "pattern": {
           "shape": ""
          }
         },
         "name": "moving",
         "offsetgroup": "moving",
         "orientation": "v",
         "showlegend": true,
         "textposition": "auto",
         "x": [
          "moving",
          "moving",
          "moving",
          "moving",
          "moving"
         ],
         "xaxis": "x",
         "y": [
          1,
          1,
          1,
          1,
          1
         ],
         "yaxis": "y",
         "type": "bar"
        },
        {
         "alignmentgroup": "True",
         "hovertemplate": "<b>%{hovertext}</b><br><br>reason=%{x}<br>count=%{y}<extra></extra>",
         "hovertext": [
          "config/config.go"
         ],
         "legendgroup": "format",
         "marker": {
          "color": "#FECB52",
          "pattern": {
           "shape": ""
          }
         },
         "name": "format",
         "offsetgroup": "format",
         "orientation": "v",
         "showlegend": true,
         "textposition": "auto",
         "x": [
          "format"
         ],
         "xaxis": "x",
         "y": [
          1
         ],
         "yaxis": "y",
         "type": "bar"
        },
        {
         "alignmentgroup": "True",
         "hovertemplate": "<b>%{hovertext}</b><br><br>reason=%{x}<br>count=%{y}<extra></extra>",
         "hovertext": [
          ".goreleaser.yml",
          "config/config.go",
          "README.md"
         ],
         "legendgroup": "breaking",
         "marker": {
          "color": "#636efa",
          "pattern": {
           "shape": ""
          }
         },
         "name": "breaking",
         "offsetgroup": "breaking",
         "orientation": "v",
         "showlegend": true,
         "textposition": "auto",
         "x": [
          "breaking",
          "breaking",
          "breaking"
         ],
         "xaxis": "x",
         "y": [
          1,
          1,
          1
         ],
         "yaxis": "y",
         "type": "bar"
        },
        {
         "alignmentgroup": "True",
         "hovertemplate": "<b>%{hovertext}</b><br><br>reason=%{x}<br>count=%{y}<extra></extra>",
         "hovertext": [
          "README.md",
          ".travis.yml"
         ],
         "legendgroup": "Update",
         "marker": {
          "color": "#EF553B",
          "pattern": {
           "shape": ""
          }
         },
         "name": "Update",
         "offsetgroup": "Update",
         "orientation": "v",
         "showlegend": true,
         "textposition": "auto",
         "x": [
          "Update",
          "Update"
         ],
         "xaxis": "x",
         "y": [
          24,
          1
         ],
         "yaxis": "y",
         "type": "bar"
        },
        {
         "alignmentgroup": "True",
         "hovertemplate": "<b>%{hovertext}</b><br><br>reason=%{x}<br>count=%{y}<extra></extra>",
         "hovertext": [
          "pipeline/brew/brew_test.go",
          "pipeline/build/build.go",
          ".travis.yml",
          "config/config.go"
         ],
         "legendgroup": "gometalinter",
         "marker": {
          "color": "#00cc96",
          "pattern": {
           "shape": ""
          }
         },
         "name": "gometalinter",
         "offsetgroup": "gometalinter",
         "orientation": "v",
         "showlegend": true,
         "textposition": "auto",
         "x": [
          "gometalinter",
          "gometalinter",
          "gometalinter",
          "gometalinter"
         ],
         "xaxis": "x",
         "y": [
          1,
          1,
          1,
          1
         ],
         "yaxis": "y",
         "type": "bar"
        },
        {
         "alignmentgroup": "True",
         "hovertemplate": "<b>%{hovertext}</b><br><br>reason=%{x}<br>count=%{y}<extra></extra>",
         "hovertext": [
          "pipeline/build/build.go"
         ],
         "legendgroup": "refactoring",
         "marker": {
          "color": "#ab63fa",
          "pattern": {
           "shape": ""
          }
         },
         "name": "refactoring",
         "offsetgroup": "refactoring",
         "orientation": "v",
         "showlegend": true,
         "textposition": "auto",
         "x": [
          "refactoring"
         ],
         "xaxis": "x",
         "y": [
          1
         ],
         "yaxis": "y",
         "type": "bar"
        },
        {
         "alignmentgroup": "True",
         "hovertemplate": "<b>%{hovertext}</b><br><br>reason=%{x}<br>count=%{y}<extra></extra>",
         "hovertext": [
          ".goreleaser.yml",
          "config/config.go",
          "main.go"
         ],
         "legendgroup": "defaulting",
         "marker": {
          "color": "#FFA15A",
          "pattern": {
           "shape": ""
          }
         },
         "name": "defaulting",
         "offsetgroup": "defaulting",
         "orientation": "v",
         "showlegend": true,
         "textposition": "auto",
         "x": [
          "defaulting",
          "defaulting",
          "defaulting"
         ],
         "xaxis": "x",
         "y": [
          1,
          1,
          1
         ],
         "yaxis": "y",
         "type": "bar"
        },
        {
         "alignmentgroup": "True",
         "hovertemplate": "<b>%{hovertext}</b><br><br>reason=%{x}<br>count=%{y}<extra></extra>",
         "hovertext": [
          "pipeline/release/release.go"
         ],
         "legendgroup": "throttling",
         "marker": {
          "color": "#19d3f3",
          "pattern": {
           "shape": ""
          }
         },
         "name": "throttling",
         "offsetgroup": "throttling",
         "orientation": "v",
         "showlegend": true,
         "textposition": "auto",
         "x": [
          "throttling"
         ],
         "xaxis": "x",
         "y": [
          1
         ],
         "yaxis": "y",
         "type": "bar"
        },
        {
         "alignmentgroup": "True",
         "hovertemplate": "<b>%{hovertext}</b><br><br>reason=%{x}<br>count=%{y}<extra></extra>",
         "hovertext": [
          "pipeline/brew/brew.go",
          "pipeline/brew/brew_test.go",
          "context/context.go",
          "pipeline/build/build.go"
         ],
         "legendgroup": "archive",
         "marker": {
          "color": "#FF6692",
          "pattern": {
           "shape": ""
          }
         },
         "name": "archive",
         "offsetgroup": "archive",
         "orientation": "v",
         "showlegend": true,
         "textposition": "auto",
         "x": [
          "archive",
          "archive",
          "archive",
          "archive"
         ],
         "xaxis": "x",
         "y": [
          1,
          1,
          1,
          1
         ],
         "yaxis": "y",
         "type": "bar"
        },
        {
         "alignmentgroup": "True",
         "hovertemplate": "<b>%{hovertext}</b><br><br>reason=%{x}<br>count=%{y}<extra></extra>",
         "hovertext": [
          "README.md",
          "config/config.go",
          "internal/client/github.go",
          "pipeline/brew/brew.go",
          "pipeline/defaults/defaults.go",
          "pipeline/fpm/fpm.go"
         ],
         "legendgroup": "project",
         "marker": {
          "color": "#B6E880",
          "pattern": {
           "shape": ""
          }
         },
         "name": "project",
         "offsetgroup": "project",
         "orientation": "v",
         "showlegend": true,
         "textposition": "auto",
         "x": [
          "project",
          "project",
          "project",
          "project",
          "project",
          "project"
         ],
         "xaxis": "x",
         "y": [
          1,
          1,
          1,
          1,
          1,
          1
         ],
         "yaxis": "y",
         "type": "bar"
        },
        {
         "alignmentgroup": "True",
         "hovertemplate": "<b>%{hovertext}</b><br><br>reason=%{x}<br>count=%{y}<extra></extra>",
         "hovertext": [
          "pipeline/defaults/defaults.go",
          "context/context.go",
          "pipeline/build/build.go"
         ],
         "legendgroup": "cleaning",
         "marker": {
          "color": "#FF97FF",
          "pattern": {
           "shape": ""
          }
         },
         "name": "cleaning",
         "offsetgroup": "cleaning",
         "orientation": "v",
         "showlegend": true,
         "textposition": "auto",
         "x": [
          "cleaning",
          "cleaning",
          "cleaning"
         ],
         "xaxis": "x",
         "y": [
          1,
          1,
          1
         ],
         "yaxis": "y",
         "type": "bar"
        },
        {
         "alignmentgroup": "True",
         "hovertemplate": "<b>%{hovertext}</b><br><br>reason=%{x}<br>count=%{y}<extra></extra>",
         "hovertext": [
          "config/config.go",
          "pipeline/defaults/defaults.go",
          "README.md",
          "pipeline/build/build.go",
          "pipeline/brew/brew_test.go",
          "context/context.go",
          "main.go",
          "pipeline/release/release.go",
          ".travis.yml",
          "pipeline/fpm/fpm.go",
          "pipeline/brew/brew.go"
         ],
         "legendgroup": "added",
         "marker": {
          "color": "#FECB52",
          "pattern": {
           "shape": ""
          }
         },
         "name": "added",
         "offsetgroup": "added",
         "orientation": "v",
         "showlegend": true,
         "textposition": "auto",
         "x": [
          "added",
          "added",
          "added",
          "added",
          "added",
          "added",
          "added",
          "added",
          "added",
          "added",
          "added"
         ],
         "xaxis": "x",
         "y": [
          9,
          4,
          8,
          3,
          2,
          2,
          4,
          3,
          2,
          2,
          3
         ],
         "yaxis": "y",
         "type": "bar"
        },
        {
         "alignmentgroup": "True",
         "hovertemplate": "<b>%{hovertext}</b><br><br>reason=%{x}<br>count=%{y}<extra></extra>",
         "hovertext": [
          "pipeline/defaults/defaults.go"
         ],
         "legendgroup": "defaults",
         "marker": {
          "color": "#636efa",
          "pattern": {
           "shape": ""
          }
         },
         "name": "defaults",
         "offsetgroup": "defaults",
         "orientation": "v",
         "showlegend": true,
         "textposition": "auto",
         "x": [
          "defaults"
         ],
         "xaxis": "x",
         "y": [
          2
         ],
         "yaxis": "y",
         "type": "bar"
        },
        {
         "alignmentgroup": "True",
         "hovertemplate": "<b>%{hovertext}</b><br><br>reason=%{x}<br>count=%{y}<extra></extra>",
         "hovertext": [
          "pipeline/brew/brew.go",
          "pipeline/brew/brew_test.go",
          "main.go"
         ],
         "legendgroup": "brew",
         "marker": {
          "color": "#EF553B",
          "pattern": {
           "shape": ""
          }
         },
         "name": "brew",
         "offsetgroup": "brew",
         "orientation": "v",
         "showlegend": true,
         "textposition": "auto",
         "x": [
          "brew",
          "brew",
          "brew"
         ],
         "xaxis": "x",
         "y": [
          2,
          2,
          1
         ],
         "yaxis": "y",
         "type": "bar"
        },
        {
         "alignmentgroup": "True",
         "hovertemplate": "<b>%{hovertext}</b><br><br>reason=%{x}<br>count=%{y}<extra></extra>",
         "hovertext": [
          "pipeline/fpm/fpm.go"
         ],
         "legendgroup": "fpm",
         "marker": {
          "color": "#00cc96",
          "pattern": {
           "shape": ""
          }
         },
         "name": "fpm",
         "offsetgroup": "fpm",
         "orientation": "v",
         "showlegend": true,
         "textposition": "auto",
         "x": [
          "fpm"
         ],
         "xaxis": "x",
         "y": [
          1
         ],
         "yaxis": "y",
         "type": "bar"
        },
        {
         "alignmentgroup": "True",
         "hovertemplate": "<b>%{hovertext}</b><br><br>reason=%{x}<br>count=%{y}<extra></extra>",
         "hovertext": [
          "pipeline/brew/brew.go",
          "pipeline/build/build.go",
          "pipeline/fpm/fpm.go"
         ],
         "legendgroup": "logs",
         "marker": {
          "color": "#ab63fa",
          "pattern": {
           "shape": ""
          }
         },
         "name": "logs",
         "offsetgroup": "logs",
         "orientation": "v",
         "showlegend": true,
         "textposition": "auto",
         "x": [
          "logs",
          "logs",
          "logs"
         ],
         "xaxis": "x",
         "y": [
          1,
          1,
          1
         ],
         "yaxis": "y",
         "type": "bar"
        },
        {
         "alignmentgroup": "True",
         "hovertemplate": "<b>%{hovertext}</b><br><br>reason=%{x}<br>count=%{y}<extra></extra>",
         "hovertext": [
          "main.go",
          "pipeline/brew/brew.go",
          "pipeline/build/build.go",
          "pipeline/release/release.go"
         ],
         "legendgroup": "debug,",
         "marker": {
          "color": "#FFA15A",
          "pattern": {
           "shape": ""
          }
         },
         "name": "debug,",
         "offsetgroup": "debug,",
         "orientation": "v",
         "showlegend": true,
         "textposition": "auto",
         "x": [
          "debug,",
          "debug,",
          "debug,",
          "debug,"
         ],
         "xaxis": "x",
         "y": [
          2,
          2,
          2,
          2
         ],
         "yaxis": "y",
         "type": "bar"
        },
        {
         "alignmentgroup": "True",
         "hovertemplate": "<b>%{hovertext}</b><br><br>reason=%{x}<br>count=%{y}<extra></extra>",
         "hovertext": [
          "context/context.go",
          "internal/client/github.go",
          "main.go",
          "pipeline/brew/brew.go",
          "pipeline/build/build.go",
          "pipeline/fpm/fpm.go",
          "pipeline/release/release.go"
         ],
         "legendgroup": "apex",
         "marker": {
          "color": "#19d3f3",
          "pattern": {
           "shape": ""
          }
         },
         "name": "apex",
         "offsetgroup": "apex",
         "orientation": "v",
         "showlegend": true,
         "textposition": "auto",
         "x": [
          "apex",
          "apex",
          "apex",
          "apex",
          "apex",
          "apex",
          "apex"
         ],
         "xaxis": "x",
         "y": [
          2,
          2,
          2,
          2,
          2,
          2,
          2
         ],
         "yaxis": "y",
         "type": "bar"
        },
        {
         "alignmentgroup": "True",
         "hovertemplate": "<b>%{hovertext}</b><br><br>reason=%{x}<br>count=%{y}<extra></extra>",
         "hovertext": [
          "README.md",
          "config/config.go",
          "pipeline/brew/brew.go",
          "pipeline/defaults/defaults.go",
          ".travis.yml",
          "pipeline/release/release.go",
          "pipeline/build/build.go",
          "main.go",
          "context/context.go"
         ],
         "legendgroup": "removed",
         "marker": {
          "color": "#FF6692",
          "pattern": {
           "shape": ""
          }
         },
         "name": "removed",
         "offsetgroup": "removed",
         "orientation": "v",
         "showlegend": true,
         "textposition": "auto",
         "x": [
          "removed",
          "removed",
          "removed",
          "removed",
          "removed",
          "removed",
          "removed",
          "removed",
          "removed"
         ],
         "xaxis": "x",
         "y": [
          1,
          1,
          2,
          1,
          2,
          3,
          1,
          1,
          1
         ],
         "yaxis": "y",
         "type": "bar"
        },
        {
         "alignmentgroup": "True",
         "hovertemplate": "<b>%{hovertext}</b><br><br>reason=%{x}<br>count=%{y}<extra></extra>",
         "hovertext": [
          "pipeline/brew/brew_test.go"
         ],
         "legendgroup": "Improve",
         "marker": {
          "color": "#B6E880",
          "pattern": {
           "shape": ""
          }
         },
         "name": "Improve",
         "offsetgroup": "Improve",
         "orientation": "v",
         "showlegend": true,
         "textposition": "auto",
         "x": [
          "Improve"
         ],
         "xaxis": "x",
         "y": [
          1
         ],
         "yaxis": "y",
         "type": "bar"
        },
        {
         "alignmentgroup": "True",
         "hovertemplate": "<b>%{hovertext}</b><br><br>reason=%{x}<br>count=%{y}<extra></extra>",
         "hovertext": [
          "README.md"
         ],
         "legendgroup": "typo,",
         "marker": {
          "color": "#FF97FF",
          "pattern": {
           "shape": ""
          }
         },
         "name": "typo,",
         "offsetgroup": "typo,",
         "orientation": "v",
         "showlegend": true,
         "textposition": "auto",
         "x": [
          "typo,"
         ],
         "xaxis": "x",
         "y": [
          1
         ],
         "yaxis": "y",
         "type": "bar"
        },
        {
         "alignmentgroup": "True",
         "hovertemplate": "<b>%{hovertext}</b><br><br>reason=%{x}<br>count=%{y}<extra></extra>",
         "hovertext": [
          "pipeline/build/build.go"
         ],
         "legendgroup": "Clearify",
         "marker": {
          "color": "#FECB52",
          "pattern": {
           "shape": ""
          }
         },
         "name": "Clearify",
         "offsetgroup": "Clearify",
         "orientation": "v",
         "showlegend": true,
         "textposition": "auto",
         "x": [
          "Clearify"
         ],
         "xaxis": "x",
         "y": [
          1
         ],
         "yaxis": "y",
         "type": "bar"
        },
        {
         "alignmentgroup": "True",
         "hovertemplate": "<b>%{hovertext}</b><br><br>reason=%{x}<br>count=%{y}<extra></extra>",
         "hovertext": [
          "README.md"
         ],
         "legendgroup": "Mention",
         "marker": {
          "color": "#636efa",
          "pattern": {
           "shape": ""
          }
         },
         "name": "Mention",
         "offsetgroup": "Mention",
         "orientation": "v",
         "showlegend": true,
         "textposition": "auto",
         "x": [
          "Mention"
         ],
         "xaxis": "x",
         "y": [
          3
         ],
         "yaxis": "y",
         "type": "bar"
        },
        {
         "alignmentgroup": "True",
         "hovertemplate": "<b>%{hovertext}</b><br><br>reason=%{x}<br>count=%{y}<extra></extra>",
         "hovertext": [
          "pipeline/defaults/defaults.go"
         ],
         "legendgroup": "deleting",
         "marker": {
          "color": "#EF553B",
          "pattern": {
           "shape": ""
          }
         },
         "name": "deleting",
         "offsetgroup": "deleting",
         "orientation": "v",
         "showlegend": true,
         "textposition": "auto",
         "x": [
          "deleting"
         ],
         "xaxis": "x",
         "y": [
          1
         ],
         "yaxis": "y",
         "type": "bar"
        },
        {
         "alignmentgroup": "True",
         "hovertemplate": "<b>%{hovertext}</b><br><br>reason=%{x}<br>count=%{y}<extra></extra>",
         "hovertext": [
          "config/config.go",
          "pipeline/build/build.go",
          "pipeline/release/release.go"
         ],
         "legendgroup": "imports",
         "marker": {
          "color": "#00cc96",
          "pattern": {
           "shape": ""
          }
         },
         "name": "imports",
         "offsetgroup": "imports",
         "orientation": "v",
         "showlegend": true,
         "textposition": "auto",
         "x": [
          "imports",
          "imports",
          "imports"
         ],
         "xaxis": "x",
         "y": [
          1,
          1,
          1
         ],
         "yaxis": "y",
         "type": "bar"
        },
        {
         "alignmentgroup": "True",
         "hovertemplate": "<b>%{hovertext}</b><br><br>reason=%{x}<br>count=%{y}<extra></extra>",
         "hovertext": [
          "pipeline/build/build.go"
         ],
         "legendgroup": "reorder",
         "marker": {
          "color": "#ab63fa",
          "pattern": {
           "shape": ""
          }
         },
         "name": "reorder",
         "offsetgroup": "reorder",
         "orientation": "v",
         "showlegend": true,
         "textposition": "auto",
         "x": [
          "reorder"
         ],
         "xaxis": "x",
         "y": [
          1
         ],
         "yaxis": "y",
         "type": "bar"
        },
        {
         "alignmentgroup": "True",
         "hovertemplate": "<b>%{hovertext}</b><br><br>reason=%{x}<br>count=%{y}<extra></extra>",
         "hovertext": [
          "README.md",
          "config/config.go",
          "pipeline/build/build.go"
         ],
         "legendgroup": "custom",
         "marker": {
          "color": "#FFA15A",
          "pattern": {
           "shape": ""
          }
         },
         "name": "custom",
         "offsetgroup": "custom",
         "orientation": "v",
         "showlegend": true,
         "textposition": "auto",
         "x": [
          "custom",
          "custom",
          "custom"
         ],
         "xaxis": "x",
         "y": [
          1,
          1,
          1
         ],
         "yaxis": "y",
         "type": "bar"
        },
        {
         "alignmentgroup": "True",
         "hovertemplate": "<b>%{hovertext}</b><br><br>reason=%{x}<br>count=%{y}<extra></extra>",
         "hovertext": [
          "config/config.go"
         ],
         "legendgroup": "gofmt,",
         "marker": {
          "color": "#19d3f3",
          "pattern": {
           "shape": ""
          }
         },
         "name": "gofmt,",
         "offsetgroup": "gofmt,",
         "orientation": "v",
         "showlegend": true,
         "textposition": "auto",
         "x": [
          "gofmt,"
         ],
         "xaxis": "x",
         "y": [
          1
         ],
         "yaxis": "y",
         "type": "bar"
        },
        {
         "alignmentgroup": "True",
         "hovertemplate": "<b>%{hovertext}</b><br><br>reason=%{x}<br>count=%{y}<extra></extra>",
         "hovertext": [
          "pipeline/build/build.go"
         ],
         "legendgroup": "detailed",
         "marker": {
          "color": "#FF6692",
          "pattern": {
           "shape": ""
          }
         },
         "name": "detailed",
         "offsetgroup": "detailed",
         "orientation": "v",
         "showlegend": true,
         "textposition": "auto",
         "x": [
          "detailed"
         ],
         "xaxis": "x",
         "y": [
          1
         ],
         "yaxis": "y",
         "type": "bar"
        },
        {
         "alignmentgroup": "True",
         "hovertemplate": "<b>%{hovertext}</b><br><br>reason=%{x}<br>count=%{y}<extra></extra>",
         "hovertext": [
          "README.md"
         ],
         "legendgroup": "updated",
         "marker": {
          "color": "#B6E880",
          "pattern": {
           "shape": ""
          }
         },
         "name": "updated",
         "offsetgroup": "updated",
         "orientation": "v",
         "showlegend": true,
         "textposition": "auto",
         "x": [
          "updated"
         ],
         "xaxis": "x",
         "y": [
          1
         ],
         "yaxis": "y",
         "type": "bar"
        },
        {
         "alignmentgroup": "True",
         "hovertemplate": "<b>%{hovertext}</b><br><br>reason=%{x}<br>count=%{y}<extra></extra>",
         "hovertext": [
          "config/config.go",
          "pipeline/brew/brew.go",
          "pipeline/brew/brew_test.go",
          ".travis.yml",
          "main.go",
          "pipeline/release/release.go"
         ],
         "legendgroup": "gofmt",
         "marker": {
          "color": "#FF97FF",
          "pattern": {
           "shape": ""
          }
         },
         "name": "gofmt",
         "offsetgroup": "gofmt",
         "orientation": "v",
         "showlegend": true,
         "textposition": "auto",
         "x": [
          "gofmt",
          "gofmt",
          "gofmt",
          "gofmt",
          "gofmt",
          "gofmt"
         ],
         "xaxis": "x",
         "y": [
          1,
          1,
          1,
          1,
          1,
          1
         ],
         "yaxis": "y",
         "type": "bar"
        },
        {
         "alignmentgroup": "True",
         "hovertemplate": "<b>%{hovertext}</b><br><br>reason=%{x}<br>count=%{y}<extra></extra>",
         "hovertext": [
          "README.md",
          "pipeline/brew/brew.go",
          "pipeline/brew/brew_test.go"
         ],
         "legendgroup": "simplify",
         "marker": {
          "color": "#FECB52",
          "pattern": {
           "shape": ""
          }
         },
         "name": "simplify",
         "offsetgroup": "simplify",
         "orientation": "v",
         "showlegend": true,
         "textposition": "auto",
         "x": [
          "simplify",
          "simplify",
          "simplify"
         ],
         "xaxis": "x",
         "y": [
          1,
          1,
          1
         ],
         "yaxis": "y",
         "type": "bar"
        },
        {
         "alignmentgroup": "True",
         "hovertemplate": "<b>%{hovertext}</b><br><br>reason=%{x}<br>count=%{y}<extra></extra>",
         "hovertext": [
          "README.md",
          "pipeline/build/build.go"
         ],
         "legendgroup": "improving",
         "marker": {
          "color": "#636efa",
          "pattern": {
           "shape": ""
          }
         },
         "name": "improving",
         "offsetgroup": "improving",
         "orientation": "v",
         "showlegend": true,
         "textposition": "auto",
         "x": [
          "improving",
          "improving"
         ],
         "xaxis": "x",
         "y": [
          2,
          1
         ],
         "yaxis": "y",
         "type": "bar"
        },
        {
         "alignmentgroup": "True",
         "hovertemplate": "<b>%{hovertext}</b><br><br>reason=%{x}<br>count=%{y}<extra></extra>",
         "hovertext": [
          ".travis.yml",
          "README.md",
          "config/config.go"
         ],
         "legendgroup": "go",
         "marker": {
          "color": "#EF553B",
          "pattern": {
           "shape": ""
          }
         },
         "name": "go",
         "offsetgroup": "go",
         "orientation": "v",
         "showlegend": true,
         "textposition": "auto",
         "x": [
          "go",
          "go",
          "go"
         ],
         "xaxis": "x",
         "y": [
          2,
          2,
          1
         ],
         "yaxis": "y",
         "type": "bar"
        },
        {
         "alignmentgroup": "True",
         "hovertemplate": "<b>%{hovertext}</b><br><br>reason=%{x}<br>count=%{y}<extra></extra>",
         "hovertext": [
          "config/config.go",
          "pipeline/build/build.go"
         ],
         "legendgroup": "cleaner",
         "marker": {
          "color": "#00cc96",
          "pattern": {
           "shape": ""
          }
         },
         "name": "cleaner",
         "offsetgroup": "cleaner",
         "orientation": "v",
         "showlegend": true,
         "textposition": "auto",
         "x": [
          "cleaner",
          "cleaner"
         ],
         "xaxis": "x",
         "y": [
          1,
          1
         ],
         "yaxis": "y",
         "type": "bar"
        },
        {
         "alignmentgroup": "True",
         "hovertemplate": "<b>%{hovertext}</b><br><br>reason=%{x}<br>count=%{y}<extra></extra>",
         "hovertext": [
          "main.go"
         ],
         "legendgroup": "Incorporate",
         "marker": {
          "color": "#ab63fa",
          "pattern": {
           "shape": ""
          }
         },
         "name": "Incorporate",
         "offsetgroup": "Incorporate",
         "orientation": "v",
         "showlegend": true,
         "textposition": "auto",
         "x": [
          "Incorporate"
         ],
         "xaxis": "x",
         "y": [
          1
         ],
         "yaxis": "y",
         "type": "bar"
        },
        {
         "alignmentgroup": "True",
         "hovertemplate": "<b>%{hovertext}</b><br><br>reason=%{x}<br>count=%{y}<extra></extra>",
         "hovertext": [
          "config/config.go",
          "main.go"
         ],
         "legendgroup": "Run",
         "marker": {
          "color": "#FFA15A",
          "pattern": {
           "shape": ""
          }
         },
         "name": "Run",
         "offsetgroup": "Run",
         "orientation": "v",
         "showlegend": true,
         "textposition": "auto",
         "x": [
          "Run",
          "Run"
         ],
         "xaxis": "x",
         "y": [
          1,
          1
         ],
         "yaxis": "y",
         "type": "bar"
        },
        {
         "alignmentgroup": "True",
         "hovertemplate": "<b>%{hovertext}</b><br><br>reason=%{x}<br>count=%{y}<extra></extra>",
         "hovertext": [
          "config/config.go",
          "main.go"
         ],
         "legendgroup": "Draft",
         "marker": {
          "color": "#19d3f3",
          "pattern": {
           "shape": ""
          }
         },
         "name": "Draft",
         "offsetgroup": "Draft",
         "orientation": "v",
         "showlegend": true,
         "textposition": "auto",
         "x": [
          "Draft",
          "Draft"
         ],
         "xaxis": "x",
         "y": [
          1,
          1
         ],
         "yaxis": "y",
         "type": "bar"
        },
        {
         "alignmentgroup": "True",
         "hovertemplate": "<b>%{hovertext}</b><br><br>reason=%{x}<br>count=%{y}<extra></extra>",
         "hovertext": [
          "README.md"
         ],
         "legendgroup": "broken",
         "marker": {
          "color": "#FF6692",
          "pattern": {
           "shape": ""
          }
         },
         "name": "broken",
         "offsetgroup": "broken",
         "orientation": "v",
         "showlegend": true,
         "textposition": "auto",
         "x": [
          "broken"
         ],
         "xaxis": "x",
         "y": [
          1
         ],
         "yaxis": "y",
         "type": "bar"
        },
        {
         "alignmentgroup": "True",
         "hovertemplate": "<b>%{hovertext}</b><br><br>reason=%{x}<br>count=%{y}<extra></extra>",
         "hovertext": [
          "README.md"
         ],
         "legendgroup": "h3",
         "marker": {
          "color": "#B6E880",
          "pattern": {
           "shape": ""
          }
         },
         "name": "h3",
         "offsetgroup": "h3",
         "orientation": "v",
         "showlegend": true,
         "textposition": "auto",
         "x": [
          "h3"
         ],
         "xaxis": "x",
         "y": [
          1
         ],
         "yaxis": "y",
         "type": "bar"
        },
        {
         "alignmentgroup": "True",
         "hovertemplate": "<b>%{hovertext}</b><br><br>reason=%{x}<br>count=%{y}<extra></extra>",
         "hovertext": [
          "README.md"
         ],
         "legendgroup": "a",
         "marker": {
          "color": "#FF97FF",
          "pattern": {
           "shape": ""
          }
         },
         "name": "a",
         "offsetgroup": "a",
         "orientation": "v",
         "showlegend": true,
         "textposition": "auto",
         "x": [
          "a"
         ],
         "xaxis": "x",
         "y": [
          1
         ],
         "yaxis": "y",
         "type": "bar"
        },
        {
         "alignmentgroup": "True",
         "hovertemplate": "<b>%{hovertext}</b><br><br>reason=%{x}<br>count=%{y}<extra></extra>",
         "hovertext": [
          ".travis.yml",
          "main.go",
          "README.md",
          "config/config.go",
          "pipeline/brew/brew.go",
          "pipeline/brew/brew_test.go",
          "pipeline/fpm/fpm.go"
         ],
         "legendgroup": "make",
         "marker": {
          "color": "#FECB52",
          "pattern": {
           "shape": ""
          }
         },
         "name": "make",
         "offsetgroup": "make",
         "orientation": "v",
         "showlegend": true,
         "textposition": "auto",
         "x": [
          "make",
          "make",
          "make",
          "make",
          "make",
          "make",
          "make"
         ],
         "xaxis": "x",
         "y": [
          1,
          1,
          1,
          1,
          1,
          1,
          1
         ],
         "yaxis": "y",
         "type": "bar"
        },
        {
         "alignmentgroup": "True",
         "hovertemplate": "<b>%{hovertext}</b><br><br>reason=%{x}<br>count=%{y}<extra></extra>",
         "hovertext": [
          "README.md"
         ],
         "legendgroup": "badge",
         "marker": {
          "color": "#636efa",
          "pattern": {
           "shape": ""
          }
         },
         "name": "badge",
         "offsetgroup": "badge",
         "orientation": "v",
         "showlegend": true,
         "textposition": "auto",
         "x": [
          "badge"
         ],
         "xaxis": "x",
         "y": [
          1
         ],
         "yaxis": "y",
         "type": "bar"
        },
        {
         "alignmentgroup": "True",
         "hovertemplate": "<b>%{hovertext}</b><br><br>reason=%{x}<br>count=%{y}<extra></extra>",
         "hovertext": [
          ".travis.yml"
         ],
         "legendgroup": "switching",
         "marker": {
          "color": "#EF553B",
          "pattern": {
           "shape": ""
          }
         },
         "name": "switching",
         "offsetgroup": "switching",
         "orientation": "v",
         "showlegend": true,
         "textposition": "auto",
         "x": [
          "switching"
         ],
         "xaxis": "x",
         "y": [
          1
         ],
         "yaxis": "y",
         "type": "bar"
        },
        {
         "alignmentgroup": "True",
         "hovertemplate": "<b>%{hovertext}</b><br><br>reason=%{x}<br>count=%{y}<extra></extra>",
         "hovertext": [
          "README.md",
          "config/config.go",
          "pipeline/brew/brew.go",
          "pipeline/brew/brew_test.go"
         ],
         "legendgroup": "allowing",
         "marker": {
          "color": "#00cc96",
          "pattern": {
           "shape": ""
          }
         },
         "name": "allowing",
         "offsetgroup": "allowing",
         "orientation": "v",
         "showlegend": true,
         "textposition": "auto",
         "x": [
          "allowing",
          "allowing",
          "allowing",
          "allowing"
         ],
         "xaxis": "x",
         "y": [
          1,
          1,
          1,
          1
         ],
         "yaxis": "y",
         "type": "bar"
        },
        {
         "alignmentgroup": "True",
         "hovertemplate": "<b>%{hovertext}</b><br><br>reason=%{x}<br>count=%{y}<extra></extra>",
         "hovertext": [
          ".travis.yml"
         ],
         "legendgroup": "avoid",
         "marker": {
          "color": "#ab63fa",
          "pattern": {
           "shape": ""
          }
         },
         "name": "avoid",
         "offsetgroup": "avoid",
         "orientation": "v",
         "showlegend": true,
         "textposition": "auto",
         "x": [
          "avoid"
         ],
         "xaxis": "x",
         "y": [
          1
         ],
         "yaxis": "y",
         "type": "bar"
        },
        {
         "alignmentgroup": "True",
         "hovertemplate": "<b>%{hovertext}</b><br><br>reason=%{x}<br>count=%{y}<extra></extra>",
         "hovertext": [
          ".travis.yml",
          "main.go"
         ],
         "legendgroup": "covered",
         "marker": {
          "color": "#FFA15A",
          "pattern": {
           "shape": ""
          }
         },
         "name": "covered",
         "offsetgroup": "covered",
         "orientation": "v",
         "showlegend": true,
         "textposition": "auto",
         "x": [
          "covered",
          "covered"
         ],
         "xaxis": "x",
         "y": [
          1,
          1
         ],
         "yaxis": "y",
         "type": "bar"
        },
        {
         "alignmentgroup": "True",
         "hovertemplate": "<b>%{hovertext}</b><br><br>reason=%{x}<br>count=%{y}<extra></extra>",
         "hovertext": [
          ".travis.yml",
          "config/config.go"
         ],
         "legendgroup": "typo",
         "marker": {
          "color": "#19d3f3",
          "pattern": {
           "shape": ""
          }
         },
         "name": "typo",
         "offsetgroup": "typo",
         "orientation": "v",
         "showlegend": true,
         "textposition": "auto",
         "x": [
          "typo",
          "typo"
         ],
         "xaxis": "x",
         "y": [
          2,
          2
         ],
         "yaxis": "y",
         "type": "bar"
        },
        {
         "alignmentgroup": "True",
         "hovertemplate": "<b>%{hovertext}</b><br><br>reason=%{x}<br>count=%{y}<extra></extra>",
         "hovertext": [
          ".travis.yml"
         ],
         "legendgroup": "actually",
         "marker": {
          "color": "#FF6692",
          "pattern": {
           "shape": ""
          }
         },
         "name": "actually",
         "offsetgroup": "actually",
         "orientation": "v",
         "showlegend": true,
         "textposition": "auto",
         "x": [
          "actually"
         ],
         "xaxis": "x",
         "y": [
          1
         ],
         "yaxis": "y",
         "type": "bar"
        },
        {
         "alignmentgroup": "True",
         "hovertemplate": "<b>%{hovertext}</b><br><br>reason=%{x}<br>count=%{y}<extra></extra>",
         "hovertext": [
          "pipeline/brew/brew.go",
          "pipeline/release/release.go"
         ],
         "legendgroup": "logging",
         "marker": {
          "color": "#B6E880",
          "pattern": {
           "shape": ""
          }
         },
         "name": "logging",
         "offsetgroup": "logging",
         "orientation": "v",
         "showlegend": true,
         "textposition": "auto",
         "x": [
          "logging",
          "logging"
         ],
         "xaxis": "x",
         "y": [
          1,
          1
         ],
         "yaxis": "y",
         "type": "bar"
        },
        {
         "alignmentgroup": "True",
         "hovertemplate": "<b>%{hovertext}</b><br><br>reason=%{x}<br>count=%{y}<extra></extra>",
         "hovertext": [
          "pipeline/build/build.go"
         ],
         "legendgroup": "Reduce",
         "marker": {
          "color": "#FF97FF",
          "pattern": {
           "shape": ""
          }
         },
         "name": "Reduce",
         "offsetgroup": "Reduce",
         "orientation": "v",
         "showlegend": true,
         "textposition": "auto",
         "x": [
          "Reduce"
         ],
         "xaxis": "x",
         "y": [
          1
         ],
         "yaxis": "y",
         "type": "bar"
        },
        {
         "alignmentgroup": "True",
         "hovertemplate": "<b>%{hovertext}</b><br><br>reason=%{x}<br>count=%{y}<extra></extra>",
         "hovertext": [
          "main.go"
         ],
         "legendgroup": "log",
         "marker": {
          "color": "#FECB52",
          "pattern": {
           "shape": ""
          }
         },
         "name": "log",
         "offsetgroup": "log",
         "orientation": "v",
         "showlegend": true,
         "textposition": "auto",
         "x": [
          "log"
         ],
         "xaxis": "x",
         "y": [
          2
         ],
         "yaxis": "y",
         "type": "bar"
        },
        {
         "alignmentgroup": "True",
         "hovertemplate": "<b>%{hovertext}</b><br><br>reason=%{x}<br>count=%{y}<extra></extra>",
         "hovertext": [
          "context/context.go",
          "main.go",
          "pipeline/brew/brew.go",
          "pipeline/brew/brew_test.go",
          "pipeline/release/release.go",
          "pipeline/build/build.go"
         ],
         "legendgroup": "skip",
         "marker": {
          "color": "#636efa",
          "pattern": {
           "shape": ""
          }
         },
         "name": "skip",
         "offsetgroup": "skip",
         "orientation": "v",
         "showlegend": true,
         "textposition": "auto",
         "x": [
          "skip",
          "skip",
          "skip",
          "skip",
          "skip",
          "skip"
         ],
         "xaxis": "x",
         "y": [
          1,
          2,
          1,
          1,
          1,
          1
         ],
         "yaxis": "y",
         "type": "bar"
        },
        {
         "alignmentgroup": "True",
         "hovertemplate": "<b>%{hovertext}</b><br><br>reason=%{x}<br>count=%{y}<extra></extra>",
         "hovertext": [
          "main.go"
         ],
         "legendgroup": "checksum",
         "marker": {
          "color": "#EF553B",
          "pattern": {
           "shape": ""
          }
         },
         "name": "checksum",
         "offsetgroup": "checksum",
         "orientation": "v",
         "showlegend": true,
         "textposition": "auto",
         "x": [
          "checksum"
         ],
         "xaxis": "x",
         "y": [
          1
         ],
         "yaxis": "y",
         "type": "bar"
        },
        {
         "alignmentgroup": "True",
         "hovertemplate": "<b>%{hovertext}</b><br><br>reason=%{x}<br>count=%{y}<extra></extra>",
         "hovertext": [
          "main.go"
         ],
         "legendgroup": "moved",
         "marker": {
          "color": "#00cc96",
          "pattern": {
           "shape": ""
          }
         },
         "name": "moved",
         "offsetgroup": "moved",
         "orientation": "v",
         "showlegend": true,
         "textposition": "auto",
         "x": [
          "moved"
         ],
         "xaxis": "x",
         "y": [
          1
         ],
         "yaxis": "y",
         "type": "bar"
        },
        {
         "alignmentgroup": "True",
         "hovertemplate": "<b>%{hovertext}</b><br><br>reason=%{x}<br>count=%{y}<extra></extra>",
         "hovertext": [
          ".travis.yml"
         ],
         "legendgroup": "oops",
         "marker": {
          "color": "#ab63fa",
          "pattern": {
           "shape": ""
          }
         },
         "name": "oops",
         "offsetgroup": "oops",
         "orientation": "v",
         "showlegend": true,
         "textposition": "auto",
         "x": [
          "oops"
         ],
         "xaxis": "x",
         "y": [
          1
         ],
         "yaxis": "y",
         "type": "bar"
        },
        {
         "alignmentgroup": "True",
         "hovertemplate": "<b>%{hovertext}</b><br><br>reason=%{x}<br>count=%{y}<extra></extra>",
         "hovertext": [
          ".travis.yml"
         ],
         "legendgroup": "sudo",
         "marker": {
          "color": "#FFA15A",
          "pattern": {
           "shape": ""
          }
         },
         "name": "sudo",
         "offsetgroup": "sudo",
         "orientation": "v",
         "showlegend": true,
         "textposition": "auto",
         "x": [
          "sudo"
         ],
         "xaxis": "x",
         "y": [
          1
         ],
         "yaxis": "y",
         "type": "bar"
        },
        {
         "alignmentgroup": "True",
         "hovertemplate": "<b>%{hovertext}</b><br><br>reason=%{x}<br>count=%{y}<extra></extra>",
         "hovertext": [
          "pipeline/brew/brew.go",
          "pipeline/brew/brew_test.go",
          "pipeline/release/release.go"
         ],
         "legendgroup": "singularized",
         "marker": {
          "color": "#19d3f3",
          "pattern": {
           "shape": ""
          }
         },
         "name": "singularized",
         "offsetgroup": "singularized",
         "orientation": "v",
         "showlegend": true,
         "textposition": "auto",
         "x": [
          "singularized",
          "singularized",
          "singularized"
         ],
         "xaxis": "x",
         "y": [
          1,
          1,
          1
         ],
         "yaxis": "y",
         "type": "bar"
        },
        {
         "alignmentgroup": "True",
         "hovertemplate": "<b>%{hovertext}</b><br><br>reason=%{x}<br>count=%{y}<extra></extra>",
         "hovertext": [
          "main.go"
         ],
         "legendgroup": "checksumming",
         "marker": {
          "color": "#FF6692",
          "pattern": {
           "shape": ""
          }
         },
         "name": "checksumming",
         "offsetgroup": "checksumming",
         "orientation": "v",
         "showlegend": true,
         "textposition": "auto",
         "x": [
          "checksumming"
         ],
         "xaxis": "x",
         "y": [
          1
         ],
         "yaxis": "y",
         "type": "bar"
        },
        {
         "alignmentgroup": "True",
         "hovertemplate": "<b>%{hovertext}</b><br><br>reason=%{x}<br>count=%{y}<extra></extra>",
         "hovertext": [
          ".travis.yml"
         ],
         "legendgroup": "trying",
         "marker": {
          "color": "#B6E880",
          "pattern": {
           "shape": ""
          }
         },
         "name": "trying",
         "offsetgroup": "trying",
         "orientation": "v",
         "showlegend": true,
         "textposition": "auto",
         "x": [
          "trying"
         ],
         "xaxis": "x",
         "y": [
          1
         ],
         "yaxis": "y",
         "type": "bar"
        },
        {
         "alignmentgroup": "True",
         "hovertemplate": "<b>%{hovertext}</b><br><br>reason=%{x}<br>count=%{y}<extra></extra>",
         "hovertext": [
          "pipeline/release/release.go",
          "pipeline/brew/brew.go",
          "main.go"
         ],
         "legendgroup": "release",
         "marker": {
          "color": "#FF97FF",
          "pattern": {
           "shape": ""
          }
         },
         "name": "release",
         "offsetgroup": "release",
         "orientation": "v",
         "showlegend": true,
         "textposition": "auto",
         "x": [
          "release",
          "release",
          "release"
         ],
         "xaxis": "x",
         "y": [
          3,
          1,
          1
         ],
         "yaxis": "y",
         "type": "bar"
        },
        {
         "alignmentgroup": "True",
         "hovertemplate": "<b>%{hovertext}</b><br><br>reason=%{x}<br>count=%{y}<extra></extra>",
         "hovertext": [
          "pipeline/brew/brew.go",
          "pipeline/release/release.go"
         ],
         "legendgroup": "client",
         "marker": {
          "color": "#FECB52",
          "pattern": {
           "shape": ""
          }
         },
         "name": "client",
         "offsetgroup": "client",
         "orientation": "v",
         "showlegend": true,
         "textposition": "auto",
         "x": [
          "client",
          "client"
         ],
         "xaxis": "x",
         "y": [
          1,
          1
         ],
         "yaxis": "y",
         "type": "bar"
        },
        {
         "alignmentgroup": "True",
         "hovertemplate": "<b>%{hovertext}</b><br><br>reason=%{x}<br>count=%{y}<extra></extra>",
         "hovertext": [
          "README.md",
          "context/context.go",
          "main.go",
          "pipeline/build/build.go",
          "pipeline/defaults/defaults.go"
         ],
         "legendgroup": "ldflags",
         "marker": {
          "color": "#636efa",
          "pattern": {
           "shape": ""
          }
         },
         "name": "ldflags",
         "offsetgroup": "ldflags",
         "orientation": "v",
         "showlegend": true,
         "textposition": "auto",
         "x": [
          "ldflags",
          "ldflags",
          "ldflags",
          "ldflags",
          "ldflags"
         ],
         "xaxis": "x",
         "y": [
          1,
          1,
          1,
          1,
          1
         ],
         "yaxis": "y",
         "type": "bar"
        },
        {
         "alignmentgroup": "True",
         "hovertemplate": "<b>%{hovertext}</b><br><br>reason=%{x}<br>count=%{y}<extra></extra>",
         "hovertext": [
          "pipeline/build/build.go"
         ],
         "legendgroup": "err",
         "marker": {
          "color": "#EF553B",
          "pattern": {
           "shape": ""
          }
         },
         "name": "err",
         "offsetgroup": "err",
         "orientation": "v",
         "showlegend": true,
         "textposition": "auto",
         "x": [
          "err"
         ],
         "xaxis": "x",
         "y": [
          1
         ],
         "yaxis": "y",
         "type": "bar"
        },
        {
         "alignmentgroup": "True",
         "hovertemplate": "<b>%{hovertext}</b><br><br>reason=%{x}<br>count=%{y}<extra></extra>",
         "hovertext": [
          "pipeline/brew/brew_test.go"
         ],
         "legendgroup": "govet",
         "marker": {
          "color": "#00cc96",
          "pattern": {
           "shape": ""
          }
         },
         "name": "govet",
         "offsetgroup": "govet",
         "orientation": "v",
         "showlegend": true,
         "textposition": "auto",
         "x": [
          "govet"
         ],
         "xaxis": "x",
         "y": [
          1
         ],
         "yaxis": "y",
         "type": "bar"
        },
        {
         "alignmentgroup": "True",
         "hovertemplate": "<b>%{hovertext}</b><br><br>reason=%{x}<br>count=%{y}<extra></extra>",
         "hovertext": [
          ".travis.yml"
         ],
         "legendgroup": "temporarely",
         "marker": {
          "color": "#ab63fa",
          "pattern": {
           "shape": ""
          }
         },
         "name": "temporarely",
         "offsetgroup": "temporarely",
         "orientation": "v",
         "showlegend": true,
         "textposition": "auto",
         "x": [
          "temporarely"
         ],
         "xaxis": "x",
         "y": [
          1
         ],
         "yaxis": "y",
         "type": "bar"
        },
        {
         "alignmentgroup": "True",
         "hovertemplate": "<b>%{hovertext}</b><br><br>reason=%{x}<br>count=%{y}<extra></extra>",
         "hovertext": [
          "README.md",
          "config/config.go",
          "context/context.go",
          "main.go",
          "pipeline/brew/brew.go",
          "pipeline/brew/brew_test.go",
          "pipeline/defaults/defaults.go",
          "pipeline/release/release.go"
         ],
         "legendgroup": "changing",
         "marker": {
          "color": "#FFA15A",
          "pattern": {
           "shape": ""
          }
         },
         "name": "changing",
         "offsetgroup": "changing",
         "orientation": "v",
         "showlegend": true,
         "textposition": "auto",
         "x": [
          "changing",
          "changing",
          "changing",
          "changing",
          "changing",
          "changing",
          "changing",
          "changing"
         ],
         "xaxis": "x",
         "y": [
          2,
          1,
          1,
          1,
          1,
          1,
          2,
          1
         ],
         "yaxis": "y",
         "type": "bar"
        },
        {
         "alignmentgroup": "True",
         "hovertemplate": "<b>%{hovertext}</b><br><br>reason=%{x}<br>count=%{y}<extra></extra>",
         "hovertext": [
          "context/context.go",
          "pipeline/brew/brew.go",
          "pipeline/release/release.go"
         ],
         "legendgroup": "context",
         "marker": {
          "color": "#19d3f3",
          "pattern": {
           "shape": ""
          }
         },
         "name": "context",
         "offsetgroup": "context",
         "orientation": "v",
         "showlegend": true,
         "textposition": "auto",
         "x": [
          "context",
          "context",
          "context"
         ],
         "xaxis": "x",
         "y": [
          1,
          1,
          1
         ],
         "yaxis": "y",
         "type": "bar"
        },
        {
         "alignmentgroup": "True",
         "hovertemplate": "<b>%{hovertext}</b><br><br>reason=%{x}<br>count=%{y}<extra></extra>",
         "hovertext": [
          "README.md",
          "config/config.go",
          "pipeline/brew/brew.go",
          "pipeline/brew/brew_test.go"
         ],
         "legendgroup": "First",
         "marker": {
          "color": "#FF6692",
          "pattern": {
           "shape": ""
          }
         },
         "name": "First",
         "offsetgroup": "First",
         "orientation": "v",
         "showlegend": true,
         "textposition": "auto",
         "x": [
          "First",
          "First",
          "First",
          "First"
         ],
         "xaxis": "x",
         "y": [
          1,
          1,
          1,
          1
         ],
         "yaxis": "y",
         "type": "bar"
        },
        {
         "alignmentgroup": "True",
         "hovertemplate": "<b>%{hovertext}</b><br><br>reason=%{x}<br>count=%{y}<extra></extra>",
         "hovertext": [
          "README.md"
         ],
         "legendgroup": "coveralls",
         "marker": {
          "color": "#B6E880",
          "pattern": {
           "shape": ""
          }
         },
         "name": "coveralls",
         "offsetgroup": "coveralls",
         "orientation": "v",
         "showlegend": true,
         "textposition": "auto",
         "x": [
          "coveralls"
         ],
         "xaxis": "x",
         "y": [
          1
         ],
         "yaxis": "y",
         "type": "bar"
        },
        {
         "alignmentgroup": "True",
         "hovertemplate": "<b>%{hovertext}</b><br><br>reason=%{x}<br>count=%{y}<extra></extra>",
         "hovertext": [
          ".travis.yml"
         ],
         "legendgroup": "goveralls",
         "marker": {
          "color": "#FF97FF",
          "pattern": {
           "shape": ""
          }
         },
         "name": "goveralls",
         "offsetgroup": "goveralls",
         "orientation": "v",
         "showlegend": true,
         "textposition": "auto",
         "x": [
          "goveralls"
         ],
         "xaxis": "x",
         "y": [
          1
         ],
         "yaxis": "y",
         "type": "bar"
        },
        {
         "alignmentgroup": "True",
         "hovertemplate": "<b>%{hovertext}</b><br><br>reason=%{x}<br>count=%{y}<extra></extra>",
         "hovertext": [
          "config/config.go",
          "pipeline/brew/brew.go",
          "pipeline/brew/brew_test.go",
          "pipeline/fpm/fpm.go"
         ],
         "legendgroup": "adds",
         "marker": {
          "color": "#FECB52",
          "pattern": {
           "shape": ""
          }
         },
         "name": "adds",
         "offsetgroup": "adds",
         "orientation": "v",
         "showlegend": true,
         "textposition": "auto",
         "x": [
          "adds",
          "adds",
          "adds",
          "adds"
         ],
         "xaxis": "x",
         "y": [
          1,
          1,
          1,
          1
         ],
         "yaxis": "y",
         "type": "bar"
        },
        {
         "alignmentgroup": "True",
         "hovertemplate": "<b>%{hovertext}</b><br><br>reason=%{x}<br>count=%{y}<extra></extra>",
         "hovertext": [
          "pipeline/fpm/fpm.go"
         ],
         "legendgroup": "concurrency",
         "marker": {
          "color": "#636efa",
          "pattern": {
           "shape": ""
          }
         },
         "name": "concurrency",
         "offsetgroup": "concurrency",
         "orientation": "v",
         "showlegend": true,
         "textposition": "auto",
         "x": [
          "concurrency"
         ],
         "xaxis": "x",
         "y": [
          1
         ],
         "yaxis": "y",
         "type": "bar"
        },
        {
         "alignmentgroup": "True",
         "hovertemplate": "<b>%{hovertext}</b><br><br>reason=%{x}<br>count=%{y}<extra></extra>",
         "hovertext": [
          ".travis.yml"
         ],
         "legendgroup": "debug",
         "marker": {
          "color": "#EF553B",
          "pattern": {
           "shape": ""
          }
         },
         "name": "debug",
         "offsetgroup": "debug",
         "orientation": "v",
         "showlegend": true,
         "textposition": "auto",
         "x": [
          "debug"
         ],
         "xaxis": "x",
         "y": [
          3
         ],
         "yaxis": "y",
         "type": "bar"
        },
        {
         "alignmentgroup": "True",
         "hovertemplate": "<b>%{hovertext}</b><br><br>reason=%{x}<br>count=%{y}<extra></extra>",
         "hovertext": [
          "README.md"
         ],
         "legendgroup": "note",
         "marker": {
          "color": "#00cc96",
          "pattern": {
           "shape": ""
          }
         },
         "name": "note",
         "offsetgroup": "note",
         "orientation": "v",
         "showlegend": true,
         "textposition": "auto",
         "x": [
          "note"
         ],
         "xaxis": "x",
         "y": [
          1
         ],
         "yaxis": "y",
         "type": "bar"
        },
        {
         "alignmentgroup": "True",
         "hovertemplate": "<b>%{hovertext}</b><br><br>reason=%{x}<br>count=%{y}<extra></extra>",
         "hovertext": [
          "pipeline/release/release.go"
         ],
         "legendgroup": "comment",
         "marker": {
          "color": "#ab63fa",
          "pattern": {
           "shape": ""
          }
         },
         "name": "comment",
         "offsetgroup": "comment",
         "orientation": "v",
         "showlegend": true,
         "textposition": "auto",
         "x": [
          "comment"
         ],
         "xaxis": "x",
         "y": [
          1
         ],
         "yaxis": "y",
         "type": "bar"
        },
        {
         "alignmentgroup": "True",
         "hovertemplate": "<b>%{hovertext}</b><br><br>reason=%{x}<br>count=%{y}<extra></extra>",
         "hovertext": [
          ".travis.yml"
         ],
         "legendgroup": "travis",
         "marker": {
          "color": "#FFA15A",
          "pattern": {
           "shape": ""
          }
         },
         "name": "travis",
         "offsetgroup": "travis",
         "orientation": "v",
         "showlegend": true,
         "textposition": "auto",
         "x": [
          "travis"
         ],
         "xaxis": "x",
         "y": [
          1
         ],
         "yaxis": "y",
         "type": "bar"
        },
        {
         "alignmentgroup": "True",
         "hovertemplate": "<b>%{hovertext}</b><br><br>reason=%{x}<br>count=%{y}<extra></extra>",
         "hovertext": [
          "README.md"
         ],
         "legendgroup": "Link",
         "marker": {
          "color": "#19d3f3",
          "pattern": {
           "shape": ""
          }
         },
         "name": "Link",
         "offsetgroup": "Link",
         "orientation": "v",
         "showlegend": true,
         "textposition": "auto",
         "x": [
          "Link"
         ],
         "xaxis": "x",
         "y": [
          2
         ],
         "yaxis": "y",
         "type": "bar"
        },
        {
         "alignmentgroup": "True",
         "hovertemplate": "<b>%{hovertext}</b><br><br>reason=%{x}<br>count=%{y}<extra></extra>",
         "hovertext": [
          "main.go"
         ],
         "legendgroup": "source",
         "marker": {
          "color": "#FF6692",
          "pattern": {
           "shape": ""
          }
         },
         "name": "source",
         "offsetgroup": "source",
         "orientation": "v",
         "showlegend": true,
         "textposition": "auto",
         "x": [
          "source"
         ],
         "xaxis": "x",
         "y": [
          1
         ],
         "yaxis": "y",
         "type": "bar"
        },
        {
         "alignmentgroup": "True",
         "hovertemplate": "<b>%{hovertext}</b><br><br>reason=%{x}<br>count=%{y}<extra></extra>",
         "hovertext": [
          "pipeline/build/build.go",
          "config/config.go"
         ],
         "legendgroup": "changed",
         "marker": {
          "color": "#B6E880",
          "pattern": {
           "shape": ""
          }
         },
         "name": "changed",
         "offsetgroup": "changed",
         "orientation": "v",
         "showlegend": true,
         "textposition": "auto",
         "x": [
          "changed",
          "changed"
         ],
         "xaxis": "x",
         "y": [
          1,
          1
         ],
         "yaxis": "y",
         "type": "bar"
        },
        {
         "alignmentgroup": "True",
         "hovertemplate": "<b>%{hovertext}</b><br><br>reason=%{x}<br>count=%{y}<extra></extra>",
         "hovertext": [
          "pipeline/build/build.go",
          "config/config.go"
         ],
         "legendgroup": "simplified",
         "marker": {
          "color": "#FF97FF",
          "pattern": {
           "shape": ""
          }
         },
         "name": "simplified",
         "offsetgroup": "simplified",
         "orientation": "v",
         "showlegend": true,
         "textposition": "auto",
         "x": [
          "simplified",
          "simplified"
         ],
         "xaxis": "x",
         "y": [
          1,
          1
         ],
         "yaxis": "y",
         "type": "bar"
        },
        {
         "alignmentgroup": "True",
         "hovertemplate": "<b>%{hovertext}</b><br><br>reason=%{x}<br>count=%{y}<extra></extra>",
         "hovertext": [
          "README.md",
          "pipeline/release/release.go"
         ],
         "legendgroup": "better",
         "marker": {
          "color": "#FECB52",
          "pattern": {
           "shape": ""
          }
         },
         "name": "better",
         "offsetgroup": "better",
         "orientation": "v",
         "showlegend": true,
         "textposition": "auto",
         "x": [
          "better",
          "better"
         ],
         "xaxis": "x",
         "y": [
          1,
          1
         ],
         "yaxis": "y",
         "type": "bar"
        },
        {
         "alignmentgroup": "True",
         "hovertemplate": "<b>%{hovertext}</b><br><br>reason=%{x}<br>count=%{y}<extra></extra>",
         "hovertext": [
          "README.md"
         ],
         "legendgroup": "formulae",
         "marker": {
          "color": "#636efa",
          "pattern": {
           "shape": ""
          }
         },
         "name": "formulae",
         "offsetgroup": "formulae",
         "orientation": "v",
         "showlegend": true,
         "textposition": "auto",
         "x": [
          "formulae"
         ],
         "xaxis": "x",
         "y": [
          1
         ],
         "yaxis": "y",
         "type": "bar"
        },
        {
         "alignmentgroup": "True",
         "hovertemplate": "<b>%{hovertext}</b><br><br>reason=%{x}<br>count=%{y}<extra></extra>",
         "hovertext": [
          "main.go"
         ],
         "legendgroup": "dont",
         "marker": {
          "color": "#EF553B",
          "pattern": {
           "shape": ""
          }
         },
         "name": "dont",
         "offsetgroup": "dont",
         "orientation": "v",
         "showlegend": true,
         "textposition": "auto",
         "x": [
          "dont"
         ],
         "xaxis": "x",
         "y": [
          1
         ],
         "yaxis": "y",
         "type": "bar"
        },
        {
         "alignmentgroup": "True",
         "hovertemplate": "<b>%{hovertext}</b><br><br>reason=%{x}<br>count=%{y}<extra></extra>",
         "hovertext": [
          "README.md"
         ],
         "legendgroup": "small",
         "marker": {
          "color": "#00cc96",
          "pattern": {
           "shape": ""
          }
         },
         "name": "small",
         "offsetgroup": "small",
         "orientation": "v",
         "showlegend": true,
         "textposition": "auto",
         "x": [
          "small"
         ],
         "xaxis": "x",
         "y": [
          2
         ],
         "yaxis": "y",
         "type": "bar"
        },
        {
         "alignmentgroup": "True",
         "hovertemplate": "<b>%{hovertext}</b><br><br>reason=%{x}<br>count=%{y}<extra></extra>",
         "hovertext": [
          "README.md"
         ],
         "legendgroup": "mv",
         "marker": {
          "color": "#ab63fa",
          "pattern": {
           "shape": ""
          }
         },
         "name": "mv",
         "offsetgroup": "mv",
         "orientation": "v",
         "showlegend": true,
         "textposition": "auto",
         "x": [
          "mv"
         ],
         "xaxis": "x",
         "y": [
          1
         ],
         "yaxis": "y",
         "type": "bar"
        },
        {
         "alignmentgroup": "True",
         "hovertemplate": "<b>%{hovertext}</b><br><br>reason=%{x}<br>count=%{y}<extra></extra>",
         "hovertext": [
          "README.md"
         ],
         "legendgroup": "Typo",
         "marker": {
          "color": "#FFA15A",
          "pattern": {
           "shape": ""
          }
         },
         "name": "Typo",
         "offsetgroup": "Typo",
         "orientation": "v",
         "showlegend": true,
         "textposition": "auto",
         "x": [
          "Typo"
         ],
         "xaxis": "x",
         "y": [
          1
         ],
         "yaxis": "y",
         "type": "bar"
        },
        {
         "alignmentgroup": "True",
         "hovertemplate": "<b>%{hovertext}</b><br><br>reason=%{x}<br>count=%{y}<extra></extra>",
         "hovertext": [
          "pipeline/brew/brew.go",
          "pipeline/brew/brew_test.go",
          "pipeline/build/build.go",
          "pipeline/defaults/defaults.go",
          "pipeline/release/release.go"
         ],
         "legendgroup": "Clean",
         "marker": {
          "color": "#19d3f3",
          "pattern": {
           "shape": ""
          }
         },
         "name": "Clean",
         "offsetgroup": "Clean",
         "orientation": "v",
         "showlegend": true,
         "textposition": "auto",
         "x": [
          "Clean",
          "Clean",
          "Clean",
          "Clean",
          "Clean"
         ],
         "xaxis": "x",
         "y": [
          1,
          1,
          1,
          1,
          1
         ],
         "yaxis": "y",
         "type": "bar"
        },
        {
         "alignmentgroup": "True",
         "hovertemplate": "<b>%{hovertext}</b><br><br>reason=%{x}<br>count=%{y}<extra></extra>",
         "hovertext": [
          "main.go"
         ],
         "legendgroup": "Always",
         "marker": {
          "color": "#FF6692",
          "pattern": {
           "shape": ""
          }
         },
         "name": "Always",
         "offsetgroup": "Always",
         "orientation": "v",
         "showlegend": true,
         "textposition": "auto",
         "x": [
          "Always"
         ],
         "xaxis": "x",
         "y": [
          1
         ],
         "yaxis": "y",
         "type": "bar"
        },
        {
         "alignmentgroup": "True",
         "hovertemplate": "<b>%{hovertext}</b><br><br>reason=%{x}<br>count=%{y}<extra></extra>",
         "hovertext": [
          "pipeline/brew/brew.go",
          "pipeline/brew/brew_test.go"
         ],
         "legendgroup": "missing",
         "marker": {
          "color": "#B6E880",
          "pattern": {
           "shape": ""
          }
         },
         "name": "missing",
         "offsetgroup": "missing",
         "orientation": "v",
         "showlegend": true,
         "textposition": "auto",
         "x": [
          "missing",
          "missing"
         ],
         "xaxis": "x",
         "y": [
          1,
          1
         ],
         "yaxis": "y",
         "type": "bar"
        },
        {
         "alignmentgroup": "True",
         "hovertemplate": "<b>%{hovertext}</b><br><br>reason=%{x}<br>count=%{y}<extra></extra>",
         "hovertext": [
          "pipeline/brew/brew.go"
         ],
         "legendgroup": "fail",
         "marker": {
          "color": "#FF97FF",
          "pattern": {
           "shape": ""
          }
         },
         "name": "fail",
         "offsetgroup": "fail",
         "orientation": "v",
         "showlegend": true,
         "textposition": "auto",
         "x": [
          "fail"
         ],
         "xaxis": "x",
         "y": [
          1
         ],
         "yaxis": "y",
         "type": "bar"
        },
        {
         "alignmentgroup": "True",
         "hovertemplate": "<b>%{hovertext}</b><br><br>reason=%{x}<br>count=%{y}<extra></extra>",
         "hovertext": [
          "config/config.go",
          "context/context.go"
         ],
         "legendgroup": "strip",
         "marker": {
          "color": "#FECB52",
          "pattern": {
           "shape": ""
          }
         },
         "name": "strip",
         "offsetgroup": "strip",
         "orientation": "v",
         "showlegend": true,
         "textposition": "auto",
         "x": [
          "strip",
          "strip"
         ],
         "xaxis": "x",
         "y": [
          1,
          1
         ],
         "yaxis": "y",
         "type": "bar"
        },
        {
         "alignmentgroup": "True",
         "hovertemplate": "<b>%{hovertext}</b><br><br>reason=%{x}<br>count=%{y}<extra></extra>",
         "hovertext": [
          "context/context.go",
          "config/config.go",
          "main.go",
          "pipeline/brew/brew.go",
          "pipeline/build/build.go",
          "pipeline/release/release.go"
         ],
         "legendgroup": "golint",
         "marker": {
          "color": "#636efa",
          "pattern": {
           "shape": ""
          }
         },
         "name": "golint",
         "offsetgroup": "golint",
         "orientation": "v",
         "showlegend": true,
         "textposition": "auto",
         "x": [
          "golint",
          "golint",
          "golint",
          "golint",
          "golint",
          "golint"
         ],
         "xaxis": "x",
         "y": [
          1,
          1,
          1,
          1,
          1,
          1
         ],
         "yaxis": "y",
         "type": "bar"
        },
        {
         "alignmentgroup": "True",
         "hovertemplate": "<b>%{hovertext}</b><br><br>reason=%{x}<br>count=%{y}<extra></extra>",
         "hovertext": [
          "main.go"
         ],
         "legendgroup": "goimports",
         "marker": {
          "color": "#EF553B",
          "pattern": {
           "shape": ""
          }
         },
         "name": "goimports",
         "offsetgroup": "goimports",
         "orientation": "v",
         "showlegend": true,
         "textposition": "auto",
         "x": [
          "goimports"
         ],
         "xaxis": "x",
         "y": [
          1
         ],
         "yaxis": "y",
         "type": "bar"
        },
        {
         "alignmentgroup": "True",
         "hovertemplate": "<b>%{hovertext}</b><br><br>reason=%{x}<br>count=%{y}<extra></extra>",
         "hovertext": [
          "config/config.go",
          "context/context.go",
          "main.go",
          "pipeline/brew/brew.go",
          "pipeline/build/build.go",
          "pipeline/defaults/defaults.go",
          "pipeline/release/release.go"
         ],
         "legendgroup": "organized",
         "marker": {
          "color": "#00cc96",
          "pattern": {
           "shape": ""
          }
         },
         "name": "organized",
         "offsetgroup": "organized",
         "orientation": "v",
         "showlegend": true,
         "textposition": "auto",
         "x": [
          "organized",
          "organized",
          "organized",
          "organized",
          "organized",
          "organized",
          "organized"
         ],
         "xaxis": "x",
         "y": [
          1,
          1,
          2,
          1,
          1,
          1,
          1
         ],
         "yaxis": "y",
         "type": "bar"
        },
        {
         "alignmentgroup": "True",
         "hovertemplate": "<b>%{hovertext}</b><br><br>reason=%{x}<br>count=%{y}<extra></extra>",
         "hovertext": [
          "pipeline/brew/brew.go",
          "pipeline/release/release.go"
         ],
         "legendgroup": "Github",
         "marker": {
          "color": "#ab63fa",
          "pattern": {
           "shape": ""
          }
         },
         "name": "Github",
         "offsetgroup": "Github",
         "orientation": "v",
         "showlegend": true,
         "textposition": "auto",
         "x": [
          "Github",
          "Github"
         ],
         "xaxis": "x",
         "y": [
          1,
          1
         ],
         "yaxis": "y",
         "type": "bar"
        },
        {
         "alignmentgroup": "True",
         "hovertemplate": "<b>%{hovertext}</b><br><br>reason=%{x}<br>count=%{y}<extra></extra>",
         "hovertext": [
          "README.md"
         ],
         "legendgroup": "Improved",
         "marker": {
          "color": "#FFA15A",
          "pattern": {
           "shape": ""
          }
         },
         "name": "Improved",
         "offsetgroup": "Improved",
         "orientation": "v",
         "showlegend": true,
         "textposition": "auto",
         "x": [
          "Improved"
         ],
         "xaxis": "x",
         "y": [
          1
         ],
         "yaxis": "y",
         "type": "bar"
        },
        {
         "alignmentgroup": "True",
         "hovertemplate": "<b>%{hovertext}</b><br><br>reason=%{x}<br>count=%{y}<extra></extra>",
         "hovertext": [
          "pipeline/brew/brew.go",
          "pipeline/build/build.go",
          "pipeline/defaults/defaults.go",
          "pipeline/release/release.go"
         ],
         "legendgroup": "Fixing",
         "marker": {
          "color": "#19d3f3",
          "pattern": {
           "shape": ""
          }
         },
         "name": "Fixing",
         "offsetgroup": "Fixing",
         "orientation": "v",
         "showlegend": true,
         "textposition": "auto",
         "x": [
          "Fixing",
          "Fixing",
          "Fixing",
          "Fixing"
         ],
         "xaxis": "x",
         "y": [
          1,
          1,
          1,
          1
         ],
         "yaxis": "y",
         "type": "bar"
        },
        {
         "alignmentgroup": "True",
         "hovertemplate": "<b>%{hovertext}</b><br><br>reason=%{x}<br>count=%{y}<extra></extra>",
         "hovertext": [
          "main.go"
         ],
         "legendgroup": "Config",
         "marker": {
          "color": "#FF6692",
          "pattern": {
           "shape": ""
          }
         },
         "name": "Config",
         "offsetgroup": "Config",
         "orientation": "v",
         "showlegend": true,
         "textposition": "auto",
         "x": [
          "Config"
         ],
         "xaxis": "x",
         "y": [
          1
         ],
         "yaxis": "y",
         "type": "bar"
        },
        {
         "alignmentgroup": "True",
         "hovertemplate": "<b>%{hovertext}</b><br><br>reason=%{x}<br>count=%{y}<extra></extra>",
         "hovertext": [
          "pipeline/defaults/defaults.go"
         ],
         "legendgroup": "Default",
         "marker": {
          "color": "#B6E880",
          "pattern": {
           "shape": ""
          }
         },
         "name": "Default",
         "offsetgroup": "Default",
         "orientation": "v",
         "showlegend": true,
         "textposition": "auto",
         "x": [
          "Default"
         ],
         "xaxis": "x",
         "y": [
          2
         ],
         "yaxis": "y",
         "type": "bar"
        },
        {
         "alignmentgroup": "True",
         "hovertemplate": "<b>%{hovertext}</b><br><br>reason=%{x}<br>count=%{y}<extra></extra>",
         "hovertext": [
          "pipeline/defaults/defaults.go"
         ],
         "legendgroup": "lowercase",
         "marker": {
          "color": "#FF97FF",
          "pattern": {
           "shape": ""
          }
         },
         "name": "lowercase",
         "offsetgroup": "lowercase",
         "orientation": "v",
         "showlegend": true,
         "textposition": "auto",
         "x": [
          "lowercase"
         ],
         "xaxis": "x",
         "y": [
          1
         ],
         "yaxis": "y",
         "type": "bar"
        },
        {
         "alignmentgroup": "True",
         "hovertemplate": "<b>%{hovertext}</b><br><br>reason=%{x}<br>count=%{y}<extra></extra>",
         "hovertext": [
          "context/context.go",
          "pipeline/brew/brew.go",
          "pipeline/build/build.go"
         ],
         "legendgroup": "even",
         "marker": {
          "color": "#FECB52",
          "pattern": {
           "shape": ""
          }
         },
         "name": "even",
         "offsetgroup": "even",
         "orientation": "v",
         "showlegend": true,
         "textposition": "auto",
         "x": [
          "even",
          "even",
          "even"
         ],
         "xaxis": "x",
         "y": [
          1,
          2,
          1
         ],
         "yaxis": "y",
         "type": "bar"
        },
        {
         "alignmentgroup": "True",
         "hovertemplate": "<b>%{hovertext}</b><br><br>reason=%{x}<br>count=%{y}<extra></extra>",
         "hovertext": [
          "pipeline/defaults/defaults.go"
         ],
         "legendgroup": "tests",
         "marker": {
          "color": "#636efa",
          "pattern": {
           "shape": ""
          }
         },
         "name": "tests",
         "offsetgroup": "tests",
         "orientation": "v",
         "showlegend": true,
         "textposition": "auto",
         "x": [
          "tests"
         ],
         "xaxis": "x",
         "y": [
          1
         ],
         "yaxis": "y",
         "type": "bar"
        },
        {
         "alignmentgroup": "True",
         "hovertemplate": "<b>%{hovertext}</b><br><br>reason=%{x}<br>count=%{y}<extra></extra>",
         "hovertext": [
          "pipeline/build/build.go"
         ],
         "legendgroup": "buidl",
         "marker": {
          "color": "#EF553B",
          "pattern": {
           "shape": ""
          }
         },
         "name": "buidl",
         "offsetgroup": "buidl",
         "orientation": "v",
         "showlegend": true,
         "textposition": "auto",
         "x": [
          "buidl"
         ],
         "xaxis": "x",
         "y": [
          1
         ],
         "yaxis": "y",
         "type": "bar"
        },
        {
         "alignmentgroup": "True",
         "hovertemplate": "<b>%{hovertext}</b><br><br>reason=%{x}<br>count=%{y}<extra></extra>",
         "hovertext": [
          "README.md",
          "config/config.go",
          "pipeline/brew/brew.go"
         ],
         "legendgroup": "create",
         "marker": {
          "color": "#00cc96",
          "pattern": {
           "shape": ""
          }
         },
         "name": "create",
         "offsetgroup": "create",
         "orientation": "v",
         "showlegend": true,
         "textposition": "auto",
         "x": [
          "create",
          "create",
          "create"
         ],
         "xaxis": "x",
         "y": [
          1,
          1,
          1
         ],
         "yaxis": "y",
         "type": "bar"
        },
        {
         "alignmentgroup": "True",
         "hovertemplate": "<b>%{hovertext}</b><br><br>reason=%{x}<br>count=%{y}<extra></extra>",
         "hovertext": [
          "README.md"
         ],
         "legendgroup": "document",
         "marker": {
          "color": "#ab63fa",
          "pattern": {
           "shape": ""
          }
         },
         "name": "document",
         "offsetgroup": "document",
         "orientation": "v",
         "showlegend": true,
         "textposition": "auto",
         "x": [
          "document"
         ],
         "xaxis": "x",
         "y": [
          2
         ],
         "yaxis": "y",
         "type": "bar"
        },
        {
         "alignmentgroup": "True",
         "hovertemplate": "<b>%{hovertext}</b><br><br>reason=%{x}<br>count=%{y}<extra></extra>",
         "hovertext": [
          "README.md"
         ],
         "legendgroup": "homebrew-formulae",
         "marker": {
          "color": "#FFA15A",
          "pattern": {
           "shape": ""
          }
         },
         "name": "homebrew-formulae",
         "offsetgroup": "homebrew-formulae",
         "orientation": "v",
         "showlegend": true,
         "textposition": "auto",
         "x": [
          "homebrew-formulae"
         ],
         "xaxis": "x",
         "y": [
          1
         ],
         "yaxis": "y",
         "type": "bar"
        },
        {
         "alignmentgroup": "True",
         "hovertemplate": "<b>%{hovertext}</b><br><br>reason=%{x}<br>count=%{y}<extra></extra>",
         "hovertext": [
          "README.md",
          "config/config.go",
          "pipeline/build/build.go"
         ],
         "legendgroup": "customize",
         "marker": {
          "color": "#19d3f3",
          "pattern": {
           "shape": ""
          }
         },
         "name": "customize",
         "offsetgroup": "customize",
         "orientation": "v",
         "showlegend": true,
         "textposition": "auto",
         "x": [
          "customize",
          "customize",
          "customize"
         ],
         "xaxis": "x",
         "y": [
          1,
          1,
          1
         ],
         "yaxis": "y",
         "type": "bar"
        },
        {
         "alignmentgroup": "True",
         "hovertemplate": "<b>%{hovertext}</b><br><br>reason=%{x}<br>count=%{y}<extra></extra>",
         "hovertext": [
          "README.md"
         ],
         "legendgroup": "tabs",
         "marker": {
          "color": "#FF6692",
          "pattern": {
           "shape": ""
          }
         },
         "name": "tabs",
         "offsetgroup": "tabs",
         "orientation": "v",
         "showlegend": true,
         "textposition": "auto",
         "x": [
          "tabs"
         ],
         "xaxis": "x",
         "y": [
          1
         ],
         "yaxis": "y",
         "type": "bar"
        },
        {
         "alignmentgroup": "True",
         "hovertemplate": "<b>%{hovertext}</b><br><br>reason=%{x}<br>count=%{y}<extra></extra>",
         "hovertext": [
          "config/config.go",
          "README.md"
         ],
         "legendgroup": "zip",
         "marker": {
          "color": "#B6E880",
          "pattern": {
           "shape": ""
          }
         },
         "name": "zip",
         "offsetgroup": "zip",
         "orientation": "v",
         "showlegend": true,
         "textposition": "auto",
         "x": [
          "zip",
          "zip"
         ],
         "xaxis": "x",
         "y": [
          2,
          1
         ],
         "yaxis": "y",
         "type": "bar"
        },
        {
         "alignmentgroup": "True",
         "hovertemplate": "<b>%{hovertext}</b><br><br>reason=%{x}<br>count=%{y}<extra></extra>",
         "hovertext": [
          "config/config.go",
          "main.go"
         ],
         "legendgroup": "config",
         "marker": {
          "color": "#FF97FF",
          "pattern": {
           "shape": ""
          }
         },
         "name": "config",
         "offsetgroup": "config",
         "orientation": "v",
         "showlegend": true,
         "textposition": "auto",
         "x": [
          "config",
          "config"
         ],
         "xaxis": "x",
         "y": [
          3,
          1
         ],
         "yaxis": "y",
         "type": "bar"
        },
        {
         "alignmentgroup": "True",
         "hovertemplate": "<b>%{hovertext}</b><br><br>reason=%{x}<br>count=%{y}<extra></extra>",
         "hovertext": [
          "config/config.go",
          "pipeline/brew/brew.go",
          "pipeline/brew/brew_test.go",
          "pipeline/build/build.go",
          "pipeline/release/release.go"
         ],
         "legendgroup": "continuing",
         "marker": {
          "color": "#FECB52",
          "pattern": {
           "shape": ""
          }
         },
         "name": "continuing",
         "offsetgroup": "continuing",
         "orientation": "v",
         "showlegend": true,
         "textposition": "auto",
         "x": [
          "continuing",
          "continuing",
          "continuing",
          "continuing",
          "continuing"
         ],
         "xaxis": "x",
         "y": [
          1,
          1,
          1,
          1,
          1
         ],
         "yaxis": "y",
         "type": "bar"
        },
        {
         "alignmentgroup": "True",
         "hovertemplate": "<b>%{hovertext}</b><br><br>reason=%{x}<br>count=%{y}<extra></extra>",
         "hovertext": [
          "config/config.go",
          "pipeline/build/build.go",
          "pipeline/release/release.go"
         ],
         "legendgroup": "name",
         "marker": {
          "color": "#636efa",
          "pattern": {
           "shape": ""
          }
         },
         "name": "name",
         "offsetgroup": "name",
         "orientation": "v",
         "showlegend": true,
         "textposition": "auto",
         "x": [
          "name",
          "name",
          "name"
         ],
         "xaxis": "x",
         "y": [
          1,
          1,
          1
         ],
         "yaxis": "y",
         "type": "bar"
        },
        {
         "alignmentgroup": "True",
         "hovertemplate": "<b>%{hovertext}</b><br><br>reason=%{x}<br>count=%{y}<extra></extra>",
         "hovertext": [
          ".travis.yml"
         ],
         "legendgroup": "?",
         "marker": {
          "color": "#EF553B",
          "pattern": {
           "shape": ""
          }
         },
         "name": "?",
         "offsetgroup": "?",
         "orientation": "v",
         "showlegend": true,
         "textposition": "auto",
         "x": [
          "?"
         ],
         "xaxis": "x",
         "y": [
          1
         ],
         "yaxis": "y",
         "type": "bar"
        },
        {
         "alignmentgroup": "True",
         "hovertemplate": "<b>%{hovertext}</b><br><br>reason=%{x}<br>count=%{y}<extra></extra>",
         "hovertext": [
          ".travis.yml",
          "README.md"
         ],
         "legendgroup": "makefile",
         "marker": {
          "color": "#00cc96",
          "pattern": {
           "shape": ""
          }
         },
         "name": "makefile",
         "offsetgroup": "makefile",
         "orientation": "v",
         "showlegend": true,
         "textposition": "auto",
         "x": [
          "makefile",
          "makefile"
         ],
         "xaxis": "x",
         "y": [
          1,
          1
         ],
         "yaxis": "y",
         "type": "bar"
        },
        {
         "alignmentgroup": "True",
         "hovertemplate": "<b>%{hovertext}</b><br><br>reason=%{x}<br>count=%{y}<extra></extra>",
         "hovertext": [
          ".travis.yml"
         ],
         "legendgroup": "misspell",
         "marker": {
          "color": "#ab63fa",
          "pattern": {
           "shape": ""
          }
         },
         "name": "misspell",
         "offsetgroup": "misspell",
         "orientation": "v",
         "showlegend": true,
         "textposition": "auto",
         "x": [
          "misspell"
         ],
         "xaxis": "x",
         "y": [
          1
         ],
         "yaxis": "y",
         "type": "bar"
        },
        {
         "alignmentgroup": "True",
         "hovertemplate": "<b>%{hovertext}</b><br><br>reason=%{x}<br>count=%{y}<extra></extra>",
         "hovertext": [
          ".travis.yml"
         ],
         "legendgroup": "duplicated",
         "marker": {
          "color": "#FFA15A",
          "pattern": {
           "shape": ""
          }
         },
         "name": "duplicated",
         "offsetgroup": "duplicated",
         "orientation": "v",
         "showlegend": true,
         "textposition": "auto",
         "x": [
          "duplicated"
         ],
         "xaxis": "x",
         "y": [
          1
         ],
         "yaxis": "y",
         "type": "bar"
        },
        {
         "alignmentgroup": "True",
         "hovertemplate": "<b>%{hovertext}</b><br><br>reason=%{x}<br>count=%{y}<extra></extra>",
         "hovertext": [
          "README.md"
         ],
         "legendgroup": ":lipstick:",
         "marker": {
          "color": "#19d3f3",
          "pattern": {
           "shape": ""
          }
         },
         "name": ":lipstick:",
         "offsetgroup": ":lipstick:",
         "orientation": "v",
         "showlegend": true,
         "textposition": "auto",
         "x": [
          ":lipstick:"
         ],
         "xaxis": "x",
         "y": [
          1
         ],
         "yaxis": "y",
         "type": "bar"
        },
        {
         "alignmentgroup": "True",
         "hovertemplate": "<b>%{hovertext}</b><br><br>reason=%{x}<br>count=%{y}<extra></extra>",
         "hovertext": [
          "pipeline/brew/brew_test.go"
         ],
         "legendgroup": "empty",
         "marker": {
          "color": "#FF6692",
          "pattern": {
           "shape": ""
          }
         },
         "name": "empty",
         "offsetgroup": "empty",
         "orientation": "v",
         "showlegend": true,
         "textposition": "auto",
         "x": [
          "empty"
         ],
         "xaxis": "x",
         "y": [
          1
         ],
         "yaxis": "y",
         "type": "bar"
        },
        {
         "alignmentgroup": "True",
         "hovertemplate": "<b>%{hovertext}</b><br><br>reason=%{x}<br>count=%{y}<extra></extra>",
         "hovertext": [
          "pipeline/brew/brew.go"
         ],
         "legendgroup": "got",
         "marker": {
          "color": "#B6E880",
          "pattern": {
           "shape": ""
          }
         },
         "name": "got",
         "offsetgroup": "got",
         "orientation": "v",
         "showlegend": true,
         "textposition": "auto",
         "x": [
          "got"
         ],
         "xaxis": "x",
         "y": [
          1
         ],
         "yaxis": "y",
         "type": "bar"
        },
        {
         "alignmentgroup": "True",
         "hovertemplate": "<b>%{hovertext}</b><br><br>reason=%{x}<br>count=%{y}<extra></extra>",
         "hovertext": [
          "pipeline/brew/brew.go"
         ],
         "legendgroup": "url",
         "marker": {
          "color": "#FF97FF",
          "pattern": {
           "shape": ""
          }
         },
         "name": "url",
         "offsetgroup": "url",
         "orientation": "v",
         "showlegend": true,
         "textposition": "auto",
         "x": [
          "url"
         ],
         "xaxis": "x",
         "y": [
          1
         ],
         "yaxis": "y",
         "type": "bar"
        },
        {
         "alignmentgroup": "True",
         "hovertemplate": "<b>%{hovertext}</b><br><br>reason=%{x}<br>count=%{y}<extra></extra>",
         "hovertext": [
          "config/config.go"
         ],
         "legendgroup": "Glob",
         "marker": {
          "color": "#FECB52",
          "pattern": {
           "shape": ""
          }
         },
         "name": "Glob",
         "offsetgroup": "Glob",
         "orientation": "v",
         "showlegend": true,
         "textposition": "auto",
         "x": [
          "Glob"
         ],
         "xaxis": "x",
         "y": [
          1
         ],
         "yaxis": "y",
         "type": "bar"
        },
        {
         "alignmentgroup": "True",
         "hovertemplate": "<b>%{hovertext}</b><br><br>reason=%{x}<br>count=%{y}<extra></extra>",
         "hovertext": [
          "README.md"
         ],
         "legendgroup": "grammar",
         "marker": {
          "color": "#636efa",
          "pattern": {
           "shape": ""
          }
         },
         "name": "grammar",
         "offsetgroup": "grammar",
         "orientation": "v",
         "showlegend": true,
         "textposition": "auto",
         "x": [
          "grammar"
         ],
         "xaxis": "x",
         "y": [
          1
         ],
         "yaxis": "y",
         "type": "bar"
        },
        {
         "alignmentgroup": "True",
         "hovertemplate": "<b>%{hovertext}</b><br><br>reason=%{x}<br>count=%{y}<extra></extra>",
         "hovertext": [
          "pipeline/brew/brew.go"
         ],
         "legendgroup": "wrong",
         "marker": {
          "color": "#EF553B",
          "pattern": {
           "shape": ""
          }
         },
         "name": "wrong",
         "offsetgroup": "wrong",
         "orientation": "v",
         "showlegend": true,
         "textposition": "auto",
         "x": [
          "wrong"
         ],
         "xaxis": "x",
         "y": [
          1
         ],
         "yaxis": "y",
         "type": "bar"
        },
        {
         "alignmentgroup": "True",
         "hovertemplate": "<b>%{hovertext}</b><br><br>reason=%{x}<br>count=%{y}<extra></extra>",
         "hovertext": [
          "pipeline/build/build.go"
         ],
         "legendgroup": "bos",
         "marker": {
          "color": "#00cc96",
          "pattern": {
           "shape": ""
          }
         },
         "name": "bos",
         "offsetgroup": "bos",
         "orientation": "v",
         "showlegend": true,
         "textposition": "auto",
         "x": [
          "bos"
         ],
         "xaxis": "x",
         "y": [
          1
         ],
         "yaxis": "y",
         "type": "bar"
        },
        {
         "alignmentgroup": "True",
         "hovertemplate": "<b>%{hovertext}</b><br><br>reason=%{x}<br>count=%{y}<extra></extra>",
         "hovertext": [
          "config/config.go",
          "main.go",
          "pipeline/brew/brew.go",
          "pipeline/brew/brew_test.go",
          "pipeline/build/build.go",
          "pipeline/release/release.go"
         ],
         "legendgroup": "reorganized",
         "marker": {
          "color": "#ab63fa",
          "pattern": {
           "shape": ""
          }
         },
         "name": "reorganized",
         "offsetgroup": "reorganized",
         "orientation": "v",
         "showlegend": true,
         "textposition": "auto",
         "x": [
          "reorganized",
          "reorganized",
          "reorganized",
          "reorganized",
          "reorganized",
          "reorganized"
         ],
         "xaxis": "x",
         "y": [
          1,
          1,
          1,
          1,
          1,
          1
         ],
         "yaxis": "y",
         "type": "bar"
        },
        {
         "alignmentgroup": "True",
         "hovertemplate": "<b>%{hovertext}</b><br><br>reason=%{x}<br>count=%{y}<extra></extra>",
         "hovertext": [
          "config/config.go"
         ],
         "legendgroup": "main.go",
         "marker": {
          "color": "#FFA15A",
          "pattern": {
           "shape": ""
          }
         },
         "name": "main.go",
         "offsetgroup": "main.go",
         "orientation": "v",
         "showlegend": true,
         "textposition": "auto",
         "x": [
          "main.go"
         ],
         "xaxis": "x",
         "y": [
          1
         ],
         "yaxis": "y",
         "type": "bar"
        },
        {
         "alignmentgroup": "True",
         "hovertemplate": "<b>%{hovertext}</b><br><br>reason=%{x}<br>count=%{y}<extra></extra>",
         "hovertext": [
          "config/config.go",
          "main.go"
         ],
         "legendgroup": "wtfff",
         "marker": {
          "color": "#19d3f3",
          "pattern": {
           "shape": ""
          }
         },
         "name": "wtfff",
         "offsetgroup": "wtfff",
         "orientation": "v",
         "showlegend": true,
         "textposition": "auto",
         "x": [
          "wtfff",
          "wtfff"
         ],
         "xaxis": "x",
         "y": [
          1,
          1
         ],
         "yaxis": "y",
         "type": "bar"
        },
        {
         "alignmentgroup": "True",
         "hovertemplate": "<b>%{hovertext}</b><br><br>reason=%{x}<br>count=%{y}<extra></extra>",
         "hovertext": [
          "README.md"
         ],
         "legendgroup": "readme,",
         "marker": {
          "color": "#FF6692",
          "pattern": {
           "shape": ""
          }
         },
         "name": "readme,",
         "offsetgroup": "readme,",
         "orientation": "v",
         "showlegend": true,
         "textposition": "auto",
         "x": [
          "readme,"
         ],
         "xaxis": "x",
         "y": [
          1
         ],
         "yaxis": "y",
         "type": "bar"
        },
        {
         "alignmentgroup": "True",
         "hovertemplate": "<b>%{hovertext}</b><br><br>reason=%{x}<br>count=%{y}<extra></extra>",
         "hovertext": [
          "main.go"
         ],
         "legendgroup": "main",
         "marker": {
          "color": "#B6E880",
          "pattern": {
           "shape": ""
          }
         },
         "name": "main",
         "offsetgroup": "main",
         "orientation": "v",
         "showlegend": true,
         "textposition": "auto",
         "x": [
          "main"
         ],
         "xaxis": "x",
         "y": [
          1
         ],
         "yaxis": "y",
         "type": "bar"
        }
       ],
       "layout": {
        "template": {
         "data": {
          "histogram2dcontour": [
           {
            "type": "histogram2dcontour",
            "colorbar": {
             "outlinewidth": 0,
             "ticks": ""
            },
            "colorscale": [
             [
              0.0,
              "#0d0887"
             ],
             [
              0.1111111111111111,
              "#46039f"
             ],
             [
              0.2222222222222222,
              "#7201a8"
             ],
             [
              0.3333333333333333,
              "#9c179e"
             ],
             [
              0.4444444444444444,
              "#bd3786"
             ],
             [
              0.5555555555555556,
              "#d8576b"
             ],
             [
              0.6666666666666666,
              "#ed7953"
             ],
             [
              0.7777777777777778,
              "#fb9f3a"
             ],
             [
              0.8888888888888888,
              "#fdca26"
             ],
             [
              1.0,
              "#f0f921"
             ]
            ]
           }
          ],
          "choropleth": [
           {
            "type": "choropleth",
            "colorbar": {
             "outlinewidth": 0,
             "ticks": ""
            }
           }
          ],
          "histogram2d": [
           {
            "type": "histogram2d",
            "colorbar": {
             "outlinewidth": 0,
             "ticks": ""
            },
            "colorscale": [
             [
              0.0,
              "#0d0887"
             ],
             [
              0.1111111111111111,
              "#46039f"
             ],
             [
              0.2222222222222222,
              "#7201a8"
             ],
             [
              0.3333333333333333,
              "#9c179e"
             ],
             [
              0.4444444444444444,
              "#bd3786"
             ],
             [
              0.5555555555555556,
              "#d8576b"
             ],
             [
              0.6666666666666666,
              "#ed7953"
             ],
             [
              0.7777777777777778,
              "#fb9f3a"
             ],
             [
              0.8888888888888888,
              "#fdca26"
             ],
             [
              1.0,
              "#f0f921"
             ]
            ]
           }
          ],
          "heatmap": [
           {
            "type": "heatmap",
            "colorbar": {
             "outlinewidth": 0,
             "ticks": ""
            },
            "colorscale": [
             [
              0.0,
              "#0d0887"
             ],
             [
              0.1111111111111111,
              "#46039f"
             ],
             [
              0.2222222222222222,
              "#7201a8"
             ],
             [
              0.3333333333333333,
              "#9c179e"
             ],
             [
              0.4444444444444444,
              "#bd3786"
             ],
             [
              0.5555555555555556,
              "#d8576b"
             ],
             [
              0.6666666666666666,
              "#ed7953"
             ],
             [
              0.7777777777777778,
              "#fb9f3a"
             ],
             [
              0.8888888888888888,
              "#fdca26"
             ],
             [
              1.0,
              "#f0f921"
             ]
            ]
           }
          ],
          "heatmapgl": [
           {
            "type": "heatmapgl",
            "colorbar": {
             "outlinewidth": 0,
             "ticks": ""
            },
            "colorscale": [
             [
              0.0,
              "#0d0887"
             ],
             [
              0.1111111111111111,
              "#46039f"
             ],
             [
              0.2222222222222222,
              "#7201a8"
             ],
             [
              0.3333333333333333,
              "#9c179e"
             ],
             [
              0.4444444444444444,
              "#bd3786"
             ],
             [
              0.5555555555555556,
              "#d8576b"
             ],
             [
              0.6666666666666666,
              "#ed7953"
             ],
             [
              0.7777777777777778,
              "#fb9f3a"
             ],
             [
              0.8888888888888888,
              "#fdca26"
             ],
             [
              1.0,
              "#f0f921"
             ]
            ]
           }
          ],
          "contourcarpet": [
           {
            "type": "contourcarpet",
            "colorbar": {
             "outlinewidth": 0,
             "ticks": ""
            }
           }
          ],
          "contour": [
           {
            "type": "contour",
            "colorbar": {
             "outlinewidth": 0,
             "ticks": ""
            },
            "colorscale": [
             [
              0.0,
              "#0d0887"
             ],
             [
              0.1111111111111111,
              "#46039f"
             ],
             [
              0.2222222222222222,
              "#7201a8"
             ],
             [
              0.3333333333333333,
              "#9c179e"
             ],
             [
              0.4444444444444444,
              "#bd3786"
             ],
             [
              0.5555555555555556,
              "#d8576b"
             ],
             [
              0.6666666666666666,
              "#ed7953"
             ],
             [
              0.7777777777777778,
              "#fb9f3a"
             ],
             [
              0.8888888888888888,
              "#fdca26"
             ],
             [
              1.0,
              "#f0f921"
             ]
            ]
           }
          ],
          "surface": [
           {
            "type": "surface",
            "colorbar": {
             "outlinewidth": 0,
             "ticks": ""
            },
            "colorscale": [
             [
              0.0,
              "#0d0887"
             ],
             [
              0.1111111111111111,
              "#46039f"
             ],
             [
              0.2222222222222222,
              "#7201a8"
             ],
             [
              0.3333333333333333,
              "#9c179e"
             ],
             [
              0.4444444444444444,
              "#bd3786"
             ],
             [
              0.5555555555555556,
              "#d8576b"
             ],
             [
              0.6666666666666666,
              "#ed7953"
             ],
             [
              0.7777777777777778,
              "#fb9f3a"
             ],
             [
              0.8888888888888888,
              "#fdca26"
             ],
             [
              1.0,
              "#f0f921"
             ]
            ]
           }
          ],
          "mesh3d": [
           {
            "type": "mesh3d",
            "colorbar": {
             "outlinewidth": 0,
             "ticks": ""
            }
           }
          ],
          "scatter": [
           {
            "fillpattern": {
             "fillmode": "overlay",
             "size": 10,
             "solidity": 0.2
            },
            "type": "scatter"
           }
          ],
          "parcoords": [
           {
            "type": "parcoords",
            "line": {
             "colorbar": {
              "outlinewidth": 0,
              "ticks": ""
             }
            }
           }
          ],
          "scatterpolargl": [
           {
            "type": "scatterpolargl",
            "marker": {
             "colorbar": {
              "outlinewidth": 0,
              "ticks": ""
             }
            }
           }
          ],
          "bar": [
           {
            "error_x": {
             "color": "#2a3f5f"
            },
            "error_y": {
             "color": "#2a3f5f"
            },
            "marker": {
             "line": {
              "color": "#E5ECF6",
              "width": 0.5
             },
             "pattern": {
              "fillmode": "overlay",
              "size": 10,
              "solidity": 0.2
             }
            },
            "type": "bar"
           }
          ],
          "scattergeo": [
           {
            "type": "scattergeo",
            "marker": {
             "colorbar": {
              "outlinewidth": 0,
              "ticks": ""
             }
            }
           }
          ],
          "scatterpolar": [
           {
            "type": "scatterpolar",
            "marker": {
             "colorbar": {
              "outlinewidth": 0,
              "ticks": ""
             }
            }
           }
          ],
          "histogram": [
           {
            "marker": {
             "pattern": {
              "fillmode": "overlay",
              "size": 10,
              "solidity": 0.2
             }
            },
            "type": "histogram"
           }
          ],
          "scattergl": [
           {
            "type": "scattergl",
            "marker": {
             "colorbar": {
              "outlinewidth": 0,
              "ticks": ""
             }
            }
           }
          ],
          "scatter3d": [
           {
            "type": "scatter3d",
            "line": {
             "colorbar": {
              "outlinewidth": 0,
              "ticks": ""
             }
            },
            "marker": {
             "colorbar": {
              "outlinewidth": 0,
              "ticks": ""
             }
            }
           }
          ],
          "scattermapbox": [
           {
            "type": "scattermapbox",
            "marker": {
             "colorbar": {
              "outlinewidth": 0,
              "ticks": ""
             }
            }
           }
          ],
          "scatterternary": [
           {
            "type": "scatterternary",
            "marker": {
             "colorbar": {
              "outlinewidth": 0,
              "ticks": ""
             }
            }
           }
          ],
          "scattercarpet": [
           {
            "type": "scattercarpet",
            "marker": {
             "colorbar": {
              "outlinewidth": 0,
              "ticks": ""
             }
            }
           }
          ],
          "carpet": [
           {
            "aaxis": {
             "endlinecolor": "#2a3f5f",
             "gridcolor": "white",
             "linecolor": "white",
             "minorgridcolor": "white",
             "startlinecolor": "#2a3f5f"
            },
            "baxis": {
             "endlinecolor": "#2a3f5f",
             "gridcolor": "white",
             "linecolor": "white",
             "minorgridcolor": "white",
             "startlinecolor": "#2a3f5f"
            },
            "type": "carpet"
           }
          ],
          "table": [
           {
            "cells": {
             "fill": {
              "color": "#EBF0F8"
             },
             "line": {
              "color": "white"
             }
            },
            "header": {
             "fill": {
              "color": "#C8D4E3"
             },
             "line": {
              "color": "white"
             }
            },
            "type": "table"
           }
          ],
          "barpolar": [
           {
            "marker": {
             "line": {
              "color": "#E5ECF6",
              "width": 0.5
             },
             "pattern": {
              "fillmode": "overlay",
              "size": 10,
              "solidity": 0.2
             }
            },
            "type": "barpolar"
           }
          ],
          "pie": [
           {
            "automargin": true,
            "type": "pie"
           }
          ]
         },
         "layout": {
          "autotypenumbers": "strict",
          "colorway": [
           "#636efa",
           "#EF553B",
           "#00cc96",
           "#ab63fa",
           "#FFA15A",
           "#19d3f3",
           "#FF6692",
           "#B6E880",
           "#FF97FF",
           "#FECB52"
          ],
          "font": {
           "color": "#2a3f5f"
          },
          "hovermode": "closest",
          "hoverlabel": {
           "align": "left"
          },
          "paper_bgcolor": "white",
          "plot_bgcolor": "#E5ECF6",
          "polar": {
           "bgcolor": "#E5ECF6",
           "angularaxis": {
            "gridcolor": "white",
            "linecolor": "white",
            "ticks": ""
           },
           "radialaxis": {
            "gridcolor": "white",
            "linecolor": "white",
            "ticks": ""
           }
          },
          "ternary": {
           "bgcolor": "#E5ECF6",
           "aaxis": {
            "gridcolor": "white",
            "linecolor": "white",
            "ticks": ""
           },
           "baxis": {
            "gridcolor": "white",
            "linecolor": "white",
            "ticks": ""
           },
           "caxis": {
            "gridcolor": "white",
            "linecolor": "white",
            "ticks": ""
           }
          },
          "coloraxis": {
           "colorbar": {
            "outlinewidth": 0,
            "ticks": ""
           }
          },
          "colorscale": {
           "sequential": [
            [
             0.0,
             "#0d0887"
            ],
            [
             0.1111111111111111,
             "#46039f"
            ],
            [
             0.2222222222222222,
             "#7201a8"
            ],
            [
             0.3333333333333333,
             "#9c179e"
            ],
            [
             0.4444444444444444,
             "#bd3786"
            ],
            [
             0.5555555555555556,
             "#d8576b"
            ],
            [
             0.6666666666666666,
             "#ed7953"
            ],
            [
             0.7777777777777778,
             "#fb9f3a"
            ],
            [
             0.8888888888888888,
             "#fdca26"
            ],
            [
             1.0,
             "#f0f921"
            ]
           ],
           "sequentialminus": [
            [
             0.0,
             "#0d0887"
            ],
            [
             0.1111111111111111,
             "#46039f"
            ],
            [
             0.2222222222222222,
             "#7201a8"
            ],
            [
             0.3333333333333333,
             "#9c179e"
            ],
            [
             0.4444444444444444,
             "#bd3786"
            ],
            [
             0.5555555555555556,
             "#d8576b"
            ],
            [
             0.6666666666666666,
             "#ed7953"
            ],
            [
             0.7777777777777778,
             "#fb9f3a"
            ],
            [
             0.8888888888888888,
             "#fdca26"
            ],
            [
             1.0,
             "#f0f921"
            ]
           ],
           "diverging": [
            [
             0,
             "#8e0152"
            ],
            [
             0.1,
             "#c51b7d"
            ],
            [
             0.2,
             "#de77ae"
            ],
            [
             0.3,
             "#f1b6da"
            ],
            [
             0.4,
             "#fde0ef"
            ],
            [
             0.5,
             "#f7f7f7"
            ],
            [
             0.6,
             "#e6f5d0"
            ],
            [
             0.7,
             "#b8e186"
            ],
            [
             0.8,
             "#7fbc41"
            ],
            [
             0.9,
             "#4d9221"
            ],
            [
             1,
             "#276419"
            ]
           ]
          },
          "xaxis": {
           "gridcolor": "white",
           "linecolor": "white",
           "ticks": "",
           "title": {
            "standoff": 15
           },
           "zerolinecolor": "white",
           "automargin": true,
           "zerolinewidth": 2
          },
          "yaxis": {
           "gridcolor": "white",
           "linecolor": "white",
           "ticks": "",
           "title": {
            "standoff": 15
           },
           "zerolinecolor": "white",
           "automargin": true,
           "zerolinewidth": 2
          },
          "scene": {
           "xaxis": {
            "backgroundcolor": "#E5ECF6",
            "gridcolor": "white",
            "linecolor": "white",
            "showbackground": true,
            "ticks": "",
            "zerolinecolor": "white",
            "gridwidth": 2
           },
           "yaxis": {
            "backgroundcolor": "#E5ECF6",
            "gridcolor": "white",
            "linecolor": "white",
            "showbackground": true,
            "ticks": "",
            "zerolinecolor": "white",
            "gridwidth": 2
           },
           "zaxis": {
            "backgroundcolor": "#E5ECF6",
            "gridcolor": "white",
            "linecolor": "white",
            "showbackground": true,
            "ticks": "",
            "zerolinecolor": "white",
            "gridwidth": 2
           }
          },
          "shapedefaults": {
           "line": {
            "color": "#2a3f5f"
           }
          },
          "annotationdefaults": {
           "arrowcolor": "#2a3f5f",
           "arrowhead": 0,
           "arrowwidth": 1
          },
          "geo": {
           "bgcolor": "white",
           "landcolor": "#E5ECF6",
           "subunitcolor": "white",
           "showland": true,
           "showlakes": true,
           "lakecolor": "white"
          },
          "title": {
           "x": 0.05
          },
          "mapbox": {
           "style": "light"
          }
         }
        },
        "xaxis": {
         "anchor": "y",
         "domain": [
          0.0,
          1.0
         ],
         "title": {
          "text": "reason"
         },
         "categoryorder": "array",
         "categoryarray": [
          "ci",
          "chore",
          "docs",
          "feat",
          "Merge",
          "fix",
          "chore(deps):",
          "test",
          "refactor",
          "build",
          "Revert",
          "adjusted",
          "switched",
          "more",
          "Support",
          "revert",
          "feat:",
          "refactory",
          "Add",
          "Do",
          "add",
          "Use",
          "Fix",
          "clean",
          "&base",
          "Set",
          "refactor/fix:",
          "Optimized",
          "wip",
          "bump",
          "style",
          "*",
          "update",
          "Added",
          "remove",
          "Remove",
          "removing",
          "unit",
          "fixed",
          "lint",
          "github",
          "allows",
          "fixing",
          "merge",
          "support",
          "push",
          "adding",
          "rm",
          "todo",
          "enabled",
          "also",
          "using",
          "enable",
          "restore",
          "improvements",
          "draft",
          "readme",
          "new",
          "checksums",
          "improved",
          "skipped",
          "testing",
          "building",
          "code",
          "allow",
          "spaces",
          "Allow",
          "fixes",
          "export",
          "install",
          "cleanup",
          "git",
          "template",
          "homebrew",
          "Fixes",
          "coverage",
          "renamed",
          "multiple",
          "moving",
          "format",
          "breaking",
          "Update",
          "gometalinter",
          "refactoring",
          "defaulting",
          "throttling",
          "archive",
          "project",
          "cleaning",
          "added",
          "defaults",
          "brew",
          "fpm",
          "logs",
          "debug,",
          "apex",
          "removed",
          "Improve",
          "typo,",
          "Clearify",
          "Mention",
          "deleting",
          "imports",
          "reorder",
          "custom",
          "gofmt,",
          "detailed",
          "updated",
          "gofmt",
          "simplify",
          "improving",
          "go",
          "cleaner",
          "Incorporate",
          "Run",
          "Draft",
          "broken",
          "h3",
          "a",
          "make",
          "badge",
          "switching",
          "allowing",
          "avoid",
          "covered",
          "typo",
          "actually",
          "logging",
          "Reduce",
          "log",
          "skip",
          "checksum",
          "moved",
          "oops",
          "sudo",
          "singularized",
          "checksumming",
          "trying",
          "release",
          "client",
          "ldflags",
          "err",
          "govet",
          "temporarely",
          "changing",
          "context",
          "First",
          "coveralls",
          "goveralls",
          "adds",
          "concurrency",
          "debug",
          "note",
          "comment",
          "travis",
          "Link",
          "source",
          "changed",
          "simplified",
          "better",
          "formulae",
          "dont",
          "small",
          "mv",
          "Typo",
          "Clean",
          "Always",
          "missing",
          "fail",
          "strip",
          "golint",
          "goimports",
          "organized",
          "Github",
          "Improved",
          "Fixing",
          "Config",
          "Default",
          "lowercase",
          "even",
          "tests",
          "buidl",
          "create",
          "document",
          "homebrew-formulae",
          "customize",
          "tabs",
          "zip",
          "config",
          "continuing",
          "name",
          "?",
          "makefile",
          "misspell",
          "duplicated",
          ":lipstick:",
          "empty",
          "got",
          "url",
          "Glob",
          "grammar",
          "wrong",
          "bos",
          "reorganized",
          "main.go",
          "wtfff",
          "readme,",
          "main"
         ]
        },
        "yaxis": {
         "anchor": "x",
         "domain": [
          0.0,
          1.0
         ],
         "title": {
          "text": "count"
         }
        },
        "legend": {
         "title": {
          "text": "reason"
         },
         "tracegroupgap": 0
        },
        "margin": {
         "t": 60
        },
        "barmode": "relative",
        "height": 500
       },
       "config": {
        "plotlyServerURL": "https://plot.ly"
       }
      },
      "text/html": "<div>                            <div id=\"d11391ae-3c9d-417f-abd3-1a4f7bf7a25d\" class=\"plotly-graph-div\" style=\"height:500px; width:100%;\"></div>            <script type=\"text/javascript\">                require([\"plotly\"], function(Plotly) {                    window.PLOTLYENV=window.PLOTLYENV || {};                                    if (document.getElementById(\"d11391ae-3c9d-417f-abd3-1a4f7bf7a25d\")) {                    Plotly.newPlot(                        \"d11391ae-3c9d-417f-abd3-1a4f7bf7a25d\",                        [{\"alignmentgroup\":\"True\",\"hovertemplate\":\"\\u003cb\\u003e%{hovertext}\\u003c\\u002fb\\u003e\\u003cbr\\u003e\\u003cbr\\u003ereason=%{x}\\u003cbr\\u003ecount=%{y}\\u003cextra\\u003e\\u003c\\u002fextra\\u003e\",\"hovertext\":[\".github\\u002fworkflows\\u002fbuild.yml\",\".github\\u002fworkflows\\u002frelease.yml\",\".goreleaser.yml\",\".travis.yml\"],\"legendgroup\":\"ci\",\"marker\":{\"color\":\"#636efa\",\"pattern\":{\"shape\":\"\"}},\"name\":\"ci\",\"offsetgroup\":\"ci\",\"orientation\":\"v\",\"showlegend\":true,\"textposition\":\"auto\",\"x\":[\"ci\",\"ci\",\"ci\",\"ci\"],\"xaxis\":\"x\",\"y\":[2,1,2,1],\"yaxis\":\"y\",\"type\":\"bar\"},{\"alignmentgroup\":\"True\",\"hovertemplate\":\"\\u003cb\\u003e%{hovertext}\\u003c\\u002fb\\u003e\\u003cbr\\u003e\\u003cbr\\u003ereason=%{x}\\u003cbr\\u003ecount=%{y}\\u003cextra\\u003e\\u003c\\u002fextra\\u003e\",\"hovertext\":[\".github\\u002fworkflows\\u002fbuild.yml\",\".github\\u002fworkflows\\u002frelease.yml\",\".github\\u002fworkflows\\u002fcodeql.yml\",\"Dockerfile\",\"internal\\u002fclient\\u002fgithub.go\",\"www\\u002fdocs\\u002fstatic\\u002fschema.json\",\"internal\\u002fbuilders\\u002fgolang\\u002fbuild_test.go\",\"internal\\u002fpipe\\u002fdocker\\u002fdocker_test.go\",\"www\\u002fdocs\\u002fstatic\\u002fschema-pro.json\",\"internal\\u002fpipe\\u002fbrew\\u002fbrew.go\",\"main.go\",\".goreleaser.yml\",\"www\\u002fmkdocs.yml\",\"internal\\u002fartifact\\u002fartifact.go\",\"internal\\u002fpipe\\u002fbrew\\u002fbrew_test.go\",\"internal\\u002fpipe\\u002fnfpm\\u002fnfpm.go\",\"internal\\u002fpipe\\u002fnfpm\\u002fnfpm_test.go\",\"internal\\u002fbuilders\\u002fgolang\\u002fbuild.go\",\"pkg\\u002fconfig\\u002fconfig.go\",\"internal\\u002fpipe\\u002fdocker\\u002fdocker.go\",\".travis.yml\",\"config\\u002fconfig.go\",\"pipeline\\u002fbrew\\u002fbrew.go\",\"pipeline\\u002fbrew\\u002fbrew_test.go\",\"pipeline\\u002frelease\\u002frelease.go\",\"pipeline\\u002fbuild\\u002fbuild.go\",\"pipeline\\u002ffpm\\u002ffpm.go\"],\"legendgroup\":\"chore\",\"marker\":{\"color\":\"#EF553B\",\"pattern\":{\"shape\":\"\"}},\"name\":\"chore\",\"offsetgroup\":\"chore\",\"orientation\":\"v\",\"showlegend\":true,\"textposition\":\"auto\",\"x\":[\"chore\",\"chore\",\"chore\",\"chore\",\"chore\",\"chore\",\"chore\",\"chore\",\"chore\",\"chore\",\"chore\",\"chore\",\"chore\",\"chore\",\"chore\",\"chore\",\"chore\",\"chore\",\"chore\",\"chore\",\"chore\",\"chore\",\"chore\",\"chore\",\"chore\",\"chore\",\"chore\"],\"xaxis\":\"x\",\"y\":[200,130,84,24,11,62,3,4,38,7,5,25,1,4,3,6,2,3,3,5,21,1,1,1,1,1,2],\"yaxis\":\"y\",\"type\":\"bar\"},{\"alignmentgroup\":\"True\",\"hovertemplate\":\"\\u003cb\\u003e%{hovertext}\\u003c\\u002fb\\u003e\\u003cbr\\u003e\\u003cbr\\u003ereason=%{x}\\u003cbr\\u003ecount=%{y}\\u003cextra\\u003e\\u003c\\u002fextra\\u003e\",\"hovertext\":[\"www\\u002fmkdocs.yml\",\"www\\u002fdocs\\u002fstatic\\u002fschema-pro.json\",\"README.md\",\"www\\u002fdocs\\u002fstatic\\u002fschema.json\",\"pkg\\u002fconfig\\u002fconfig.go\",\"internal\\u002fbuilders\\u002fgolang\\u002fbuild_test.go\",\"internal\\u002fclient\\u002fgithub.go\",\"internal\\u002fpipe\\u002fnfpm\\u002fnfpm_test.go\",\".github\\u002fworkflows\\u002frelease.yml\",\"internal\\u002fpipe\\u002fnfpm\\u002fnfpm.go\",\".goreleaser.yml\",\".github\\u002fworkflows\\u002fbuild.yml\",\".travis.yml\",\"internal\\u002fpipe\\u002fbrew\\u002fbrew.go\",\"config\\u002fconfig.go\"],\"legendgroup\":\"docs\",\"marker\":{\"color\":\"#00cc96\",\"pattern\":{\"shape\":\"\"}},\"name\":\"docs\",\"offsetgroup\":\"docs\",\"orientation\":\"v\",\"showlegend\":true,\"textposition\":\"auto\",\"x\":[\"docs\",\"docs\",\"docs\",\"docs\",\"docs\",\"docs\",\"docs\",\"docs\",\"docs\",\"docs\",\"docs\",\"docs\",\"docs\",\"docs\",\"docs\"],\"xaxis\":\"x\",\"y\":[82,67,31,30,3,1,1,1,2,1,2,1,11,1,2],\"yaxis\":\"y\",\"type\":\"bar\"},{\"alignmentgroup\":\"True\",\"hovertemplate\":\"\\u003cb\\u003e%{hovertext}\\u003c\\u002fb\\u003e\\u003cbr\\u003e\\u003cbr\\u003ereason=%{x}\\u003cbr\\u003ecount=%{y}\\u003cextra\\u003e\\u003c\\u002fextra\\u003e\",\"hovertext\":[\"pkg\\u002fconfig\\u002fconfig.go\",\"www\\u002fmkdocs.yml\",\"internal\\u002fpipe\\u002fnfpm\\u002fnfpm.go\",\"internal\\u002fpipe\\u002fnfpm\\u002fnfpm_test.go\",\"internal\\u002fbuilders\\u002fgolang\\u002fbuild.go\",\"internal\\u002fbuilders\\u002fgolang\\u002fbuild_test.go\",\"internal\\u002fclient\\u002fgithub.go\",\"internal\\u002fpipe\\u002fbrew\\u002fbrew.go\",\"internal\\u002fpipe\\u002fbrew\\u002fbrew_test.go\",\"internal\\u002fpipe\\u002fdocker\\u002fdocker.go\",\"internal\\u002fpipe\\u002fdocker\\u002fdocker_test.go\",\"main.go\",\"internal\\u002fartifact\\u002fartifact.go\",\".github\\u002fworkflows\\u002frelease.yml\",\"www\\u002fdocs\\u002fstatic\\u002fschema-pro.json\",\"www\\u002fdocs\\u002fstatic\\u002fschema.json\",\"Dockerfile\",\".github\\u002fworkflows\\u002fbuild.yml\",\".github\\u002fworkflows\\u002fcodeql.yml\",\".goreleaser.yml\",\"README.md\",\".travis.yml\",\"config\\u002fconfig.go\",\"pipeline\\u002fbrew\\u002fbrew.go\",\"pipeline\\u002fbrew\\u002fbrew_test.go\",\"context\\u002fcontext.go\",\"pipeline\\u002fdefaults\\u002fdefaults.go\",\"pipeline\\u002frelease\\u002frelease.go\",\"pipeline\\u002fbuild\\u002fbuild.go\",\"pipeline\\u002ffpm\\u002ffpm.go\"],\"legendgroup\":\"feat\",\"marker\":{\"color\":\"#ab63fa\",\"pattern\":{\"shape\":\"\"}},\"name\":\"feat\",\"offsetgroup\":\"feat\",\"orientation\":\"v\",\"showlegend\":true,\"textposition\":\"auto\",\"x\":[\"feat\",\"feat\",\"feat\",\"feat\",\"feat\",\"feat\",\"feat\",\"feat\",\"feat\",\"feat\",\"feat\",\"feat\",\"feat\",\"feat\",\"feat\",\"feat\",\"feat\",\"feat\",\"feat\",\"feat\",\"feat\",\"feat\",\"feat\",\"feat\",\"feat\",\"feat\",\"feat\",\"feat\",\"feat\",\"feat\"],\"xaxis\":\"x\",\"y\":[247,33,57,46,35,33,49,48,45,37,36,20,44,5,5,22,74,25,1,38,1,6,42,7,8,7,12,4,5,6],\"yaxis\":\"y\",\"type\":\"bar\"},{\"alignmentgroup\":\"True\",\"hovertemplate\":\"\\u003cb\\u003e%{hovertext}\\u003c\\u002fb\\u003e\\u003cbr\\u003e\\u003cbr\\u003ereason=%{x}\\u003cbr\\u003ecount=%{y}\\u003cextra\\u003e\\u003c\\u002fextra\\u003e\",\"hovertext\":[\".github\\u002fworkflows\\u002fbuild.yml\",\".github\\u002fworkflows\\u002frelease.yml\",\"internal\\u002fbuilders\\u002fgolang\\u002fbuild.go\",\"pkg\\u002fconfig\\u002fconfig.go\",\".github\\u002fworkflows\\u002fcodeql.yml\",\"Dockerfile\",\"internal\\u002fbuilders\\u002fgolang\\u002fbuild_test.go\",\"internal\\u002fpipe\\u002fnfpm\\u002fnfpm.go\",\"internal\\u002fpipe\\u002fnfpm\\u002fnfpm_test.go\",\"www\\u002fdocs\\u002fstatic\\u002fschema-pro.json\",\"www\\u002fdocs\\u002fstatic\\u002fschema.json\",\"internal\\u002fpipe\\u002fbrew\\u002fbrew.go\",\"internal\\u002fpipe\\u002fbrew\\u002fbrew_test.go\",\"internal\\u002fclient\\u002fgithub.go\",\"internal\\u002fpipe\\u002fdocker\\u002fdocker.go\",\"internal\\u002fpipe\\u002fdocker\\u002fdocker_test.go\",\"main.go\",\"pipeline\\u002fbrew\\u002fbrew.go\",\"pipeline\\u002fbrew\\u002fbrew_test.go\",\"pipeline\\u002fbuild\\u002fbuild.go\",\"pipeline\\u002frelease\\u002frelease.go\",\".travis.yml\",\"config\\u002fconfig.go\",\"README.md\",\"context\\u002fcontext.go\",\".goreleaser.yml\",\"pipeline\\u002ffpm\\u002ffpm.go\",\"pipeline\\u002fdefaults\\u002fdefaults.go\",\"internal\\u002fartifact\\u002fartifact.go\"],\"legendgroup\":\"Merge\",\"marker\":{\"color\":\"#FFA15A\",\"pattern\":{\"shape\":\"\"}},\"name\":\"Merge\",\"offsetgroup\":\"Merge\",\"orientation\":\"v\",\"showlegend\":true,\"textposition\":\"auto\",\"x\":[\"Merge\",\"Merge\",\"Merge\",\"Merge\",\"Merge\",\"Merge\",\"Merge\",\"Merge\",\"Merge\",\"Merge\",\"Merge\",\"Merge\",\"Merge\",\"Merge\",\"Merge\",\"Merge\",\"Merge\",\"Merge\",\"Merge\",\"Merge\",\"Merge\",\"Merge\",\"Merge\",\"Merge\",\"Merge\",\"Merge\",\"Merge\",\"Merge\",\"Merge\"],\"xaxis\":\"x\",\"y\":[4,5,8,5,2,2,5,2,2,2,3,2,2,20,1,1,48,69,50,56,50,30,82,88,41,16,36,39,1],\"yaxis\":\"y\",\"type\":\"bar\"},{\"alignmentgroup\":\"True\",\"hovertemplate\":\"\\u003cb\\u003e%{hovertext}\\u003c\\u002fb\\u003e\\u003cbr\\u003e\\u003cbr\\u003ereason=%{x}\\u003cbr\\u003ecount=%{y}\\u003cextra\\u003e\\u003c\\u002fextra\\u003e\",\"hovertext\":[\"pkg\\u002fconfig\\u002fconfig.go\",\"www\\u002fdocs\\u002fstatic\\u002fschema.json\",\"internal\\u002fclient\\u002fgithub.go\",\".github\\u002fworkflows\\u002fbuild.yml\",\".github\\u002fworkflows\\u002frelease.yml\",\"internal\\u002fbuilders\\u002fgolang\\u002fbuild.go\",\"internal\\u002fbuilders\\u002fgolang\\u002fbuild_test.go\",\"internal\\u002fartifact\\u002fartifact.go\",\"internal\\u002fpipe\\u002fdocker\\u002fdocker.go\",\"main.go\",\"internal\\u002fpipe\\u002fnfpm\\u002fnfpm.go\",\"internal\\u002fpipe\\u002fnfpm\\u002fnfpm_test.go\",\"internal\\u002fpipe\\u002fbrew\\u002fbrew.go\",\"internal\\u002fpipe\\u002fdocker\\u002fdocker_test.go\",\"Dockerfile\",\"internal\\u002fpipe\\u002fbrew\\u002fbrew_test.go\",\"www\\u002fdocs\\u002fstatic\\u002fschema-pro.json\",\".github\\u002fworkflows\\u002fcodeql.yml\",\"www\\u002fmkdocs.yml\",\".goreleaser.yml\",\".travis.yml\",\"pipeline\\u002fbrew\\u002fbrew_test.go\",\"pipeline\\u002fbrew\\u002fbrew.go\",\"pipeline\\u002fbuild\\u002fbuild.go\",\"config\\u002fconfig.go\",\"README.md\",\"pipeline\\u002fdefaults\\u002fdefaults.go\",\"pipeline\\u002frelease\\u002frelease.go\",\"pipeline\\u002ffpm\\u002ffpm.go\",\"context\\u002fcontext.go\"],\"legendgroup\":\"fix\",\"marker\":{\"color\":\"#19d3f3\",\"pattern\":{\"shape\":\"\"}},\"name\":\"fix\",\"offsetgroup\":\"fix\",\"orientation\":\"v\",\"showlegend\":true,\"textposition\":\"auto\",\"x\":[\"fix\",\"fix\",\"fix\",\"fix\",\"fix\",\"fix\",\"fix\",\"fix\",\"fix\",\"fix\",\"fix\",\"fix\",\"fix\",\"fix\",\"fix\",\"fix\",\"fix\",\"fix\",\"fix\",\"fix\",\"fix\",\"fix\",\"fix\",\"fix\",\"fix\",\"fix\",\"fix\",\"fix\",\"fix\",\"fix\"],\"xaxis\":\"x\",\"y\":[60,20,40,20,3,32,26,23,34,23,33,20,41,26,18,29,3,4,5,33,8,16,14,7,8,2,4,7,7,4],\"yaxis\":\"y\",\"type\":\"bar\"},{\"alignmentgroup\":\"True\",\"hovertemplate\":\"\\u003cb\\u003e%{hovertext}\\u003c\\u002fb\\u003e\\u003cbr\\u003e\\u003cbr\\u003ereason=%{x}\\u003cbr\\u003ecount=%{y}\\u003cextra\\u003e\\u003c\\u002fextra\\u003e\",\"hovertext\":[\"Dockerfile\"],\"legendgroup\":\"chore(deps):\",\"marker\":{\"color\":\"#FF6692\",\"pattern\":{\"shape\":\"\"}},\"name\":\"chore(deps):\",\"offsetgroup\":\"chore(deps):\",\"orientation\":\"v\",\"showlegend\":true,\"textposition\":\"auto\",\"x\":[\"chore(deps):\"],\"xaxis\":\"x\",\"y\":[1],\"yaxis\":\"y\",\"type\":\"bar\"},{\"alignmentgroup\":\"True\",\"hovertemplate\":\"\\u003cb\\u003e%{hovertext}\\u003c\\u002fb\\u003e\\u003cbr\\u003e\\u003cbr\\u003ereason=%{x}\\u003cbr\\u003ecount=%{y}\\u003cextra\\u003e\\u003c\\u002fextra\\u003e\",\"hovertext\":[\"internal\\u002fpipe\\u002fnfpm\\u002fnfpm_test.go\",\"internal\\u002fbuilders\\u002fgolang\\u002fbuild_test.go\",\"internal\\u002fpipe\\u002fdocker\\u002fdocker_test.go\",\"internal\\u002fpipe\\u002fbrew\\u002fbrew_test.go\",\"internal\\u002fpipe\\u002fdocker\\u002fdocker.go\",\"internal\\u002fpipe\\u002fnfpm\\u002fnfpm.go\",\"internal\\u002fartifact\\u002fartifact.go\",\"internal\\u002fbuilders\\u002fgolang\\u002fbuild.go\",\"main.go\",\"pipeline\\u002fbrew\\u002fbrew_test.go\",\"pipeline\\u002ffpm\\u002ffpm.go\",\"pipeline\\u002frelease\\u002frelease.go\",\"pipeline\\u002fdefaults\\u002fdefaults.go\",\"pipeline\\u002fbuild\\u002fbuild.go\"],\"legendgroup\":\"test\",\"marker\":{\"color\":\"#B6E880\",\"pattern\":{\"shape\":\"\"}},\"name\":\"test\",\"offsetgroup\":\"test\",\"orientation\":\"v\",\"showlegend\":true,\"textposition\":\"auto\",\"x\":[\"test\",\"test\",\"test\",\"test\",\"test\",\"test\",\"test\",\"test\",\"test\",\"test\",\"test\",\"test\",\"test\",\"test\"],\"xaxis\":\"x\",\"y\":[12,14,14,3,3,1,1,1,1,2,1,1,1,1],\"yaxis\":\"y\",\"type\":\"bar\"},{\"alignmentgroup\":\"True\",\"hovertemplate\":\"\\u003cb\\u003e%{hovertext}\\u003c\\u002fb\\u003e\\u003cbr\\u003e\\u003cbr\\u003ereason=%{x}\\u003cbr\\u003ecount=%{y}\\u003cextra\\u003e\\u003c\\u002fextra\\u003e\",\"hovertext\":[\"internal\\u002fartifact\\u002fartifact.go\",\"internal\\u002fpipe\\u002fdocker\\u002fdocker.go\",\"internal\\u002fpipe\\u002fdocker\\u002fdocker_test.go\",\"internal\\u002fpipe\\u002fnfpm\\u002fnfpm.go\",\"pkg\\u002fconfig\\u002fconfig.go\",\"internal\\u002fpipe\\u002fbrew\\u002fbrew.go\",\"internal\\u002fpipe\\u002fbrew\\u002fbrew_test.go\",\"internal\\u002fclient\\u002fgithub.go\",\"internal\\u002fpipe\\u002fnfpm\\u002fnfpm_test.go\",\"internal\\u002fbuilders\\u002fgolang\\u002fbuild.go\",\"www\\u002fdocs\\u002fstatic\\u002fschema-pro.json\",\"www\\u002fdocs\\u002fstatic\\u002fschema.json\",\"internal\\u002fbuilders\\u002fgolang\\u002fbuild_test.go\",\".goreleaser.yml\",\"main.go\",\"config\\u002fconfig.go\",\"context\\u002fcontext.go\",\"pipeline\\u002fbrew\\u002fbrew.go\",\"pipeline\\u002fbrew\\u002fbrew_test.go\",\"pipeline\\u002fbuild\\u002fbuild.go\",\"pipeline\\u002fdefaults\\u002fdefaults.go\",\"pipeline\\u002ffpm\\u002ffpm.go\",\"pipeline\\u002frelease\\u002frelease.go\",\".travis.yml\"],\"legendgroup\":\"refactor\",\"marker\":{\"color\":\"#FF97FF\",\"pattern\":{\"shape\":\"\"}},\"name\":\"refactor\",\"offsetgroup\":\"refactor\",\"orientation\":\"v\",\"showlegend\":true,\"textposition\":\"auto\",\"x\":[\"refactor\",\"refactor\",\"refactor\",\"refactor\",\"refactor\",\"refactor\",\"refactor\",\"refactor\",\"refactor\",\"refactor\",\"refactor\",\"refactor\",\"refactor\",\"refactor\",\"refactor\",\"refactor\",\"refactor\",\"refactor\",\"refactor\",\"refactor\",\"refactor\",\"refactor\",\"refactor\",\"refactor\"],\"xaxis\":\"x\",\"y\":[18,13,16,10,11,11,15,6,8,9,2,1,11,3,6,6,4,6,4,16,4,7,6,2],\"yaxis\":\"y\",\"type\":\"bar\"},{\"alignmentgroup\":\"True\",\"hovertemplate\":\"\\u003cb\\u003e%{hovertext}\\u003c\\u002fb\\u003e\\u003cbr\\u003e\\u003cbr\\u003ereason=%{x}\\u003cbr\\u003ecount=%{y}\\u003cextra\\u003e\\u003c\\u002fextra\\u003e\",\"hovertext\":[\".github\\u002fworkflows\\u002fbuild.yml\",\".github\\u002fworkflows\\u002frelease.yml\",\"www\\u002fdocs\\u002fstatic\\u002fschema-pro.json\",\"www\\u002fdocs\\u002fstatic\\u002fschema.json\",\".github\\u002fworkflows\\u002fcodeql.yml\",\"Dockerfile\"],\"legendgroup\":\"build\",\"marker\":{\"color\":\"#FECB52\",\"pattern\":{\"shape\":\"\"}},\"name\":\"build\",\"offsetgroup\":\"build\",\"orientation\":\"v\",\"showlegend\":true,\"textposition\":\"auto\",\"x\":[\"build\",\"build\",\"build\",\"build\",\"build\",\"build\"],\"xaxis\":\"x\",\"y\":[8,7,2,1,2,1],\"yaxis\":\"y\",\"type\":\"bar\"},{\"alignmentgroup\":\"True\",\"hovertemplate\":\"\\u003cb\\u003e%{hovertext}\\u003c\\u002fb\\u003e\\u003cbr\\u003e\\u003cbr\\u003ereason=%{x}\\u003cbr\\u003ecount=%{y}\\u003cextra\\u003e\\u003c\\u002fextra\\u003e\",\"hovertext\":[\".github\\u002fworkflows\\u002fbuild.yml\",\".github\\u002fworkflows\\u002frelease.yml\",\"internal\\u002fclient\\u002fgithub.go\",\".goreleaser.yml\",\".travis.yml\",\"internal\\u002fartifact\\u002fartifact.go\",\"config\\u002fconfig.go\"],\"legendgroup\":\"Revert\",\"marker\":{\"color\":\"#636efa\",\"pattern\":{\"shape\":\"\"}},\"name\":\"Revert\",\"offsetgroup\":\"Revert\",\"orientation\":\"v\",\"showlegend\":true,\"textposition\":\"auto\",\"x\":[\"Revert\",\"Revert\",\"Revert\",\"Revert\",\"Revert\",\"Revert\",\"Revert\"],\"xaxis\":\"x\",\"y\":[2,1,4,2,6,1,1],\"yaxis\":\"y\",\"type\":\"bar\"},{\"alignmentgroup\":\"True\",\"hovertemplate\":\"\\u003cb\\u003e%{hovertext}\\u003c\\u002fb\\u003e\\u003cbr\\u003e\\u003cbr\\u003ereason=%{x}\\u003cbr\\u003ecount=%{y}\\u003cextra\\u003e\\u003c\\u002fextra\\u003e\",\"hovertext\":[\"internal\\u002fpipe\\u002fdocker\\u002fdocker.go\"],\"legendgroup\":\"adjusted\",\"marker\":{\"color\":\"#EF553B\",\"pattern\":{\"shape\":\"\"}},\"name\":\"adjusted\",\"offsetgroup\":\"adjusted\",\"orientation\":\"v\",\"showlegend\":true,\"textposition\":\"auto\",\"x\":[\"adjusted\"],\"xaxis\":\"x\",\"y\":[1],\"yaxis\":\"y\",\"type\":\"bar\"},{\"alignmentgroup\":\"True\",\"hovertemplate\":\"\\u003cb\\u003e%{hovertext}\\u003c\\u002fb\\u003e\\u003cbr\\u003e\\u003cbr\\u003ereason=%{x}\\u003cbr\\u003ecount=%{y}\\u003cextra\\u003e\\u003c\\u002fextra\\u003e\",\"hovertext\":[\"internal\\u002fpipe\\u002fdocker\\u002fdocker.go\"],\"legendgroup\":\"switched\",\"marker\":{\"color\":\"#00cc96\",\"pattern\":{\"shape\":\"\"}},\"name\":\"switched\",\"offsetgroup\":\"switched\",\"orientation\":\"v\",\"showlegend\":true,\"textposition\":\"auto\",\"x\":[\"switched\"],\"xaxis\":\"x\",\"y\":[1],\"yaxis\":\"y\",\"type\":\"bar\"},{\"alignmentgroup\":\"True\",\"hovertemplate\":\"\\u003cb\\u003e%{hovertext}\\u003c\\u002fb\\u003e\\u003cbr\\u003e\\u003cbr\\u003ereason=%{x}\\u003cbr\\u003ecount=%{y}\\u003cextra\\u003e\\u003c\\u002fextra\\u003e\",\"hovertext\":[\"internal\\u002fpipe\\u002fdocker\\u002fdocker.go\",\"pipeline\\u002frelease\\u002frelease.go\",\"pipeline\\u002fbrew\\u002fbrew_test.go\",\"config\\u002fconfig.go\",\"pipeline\\u002fbrew\\u002fbrew.go\",\"pipeline\\u002fbuild\\u002fbuild.go\",\"pipeline\\u002fdefaults\\u002fdefaults.go\",\"pipeline\\u002ffpm\\u002ffpm.go\"],\"legendgroup\":\"more\",\"marker\":{\"color\":\"#ab63fa\",\"pattern\":{\"shape\":\"\"}},\"name\":\"more\",\"offsetgroup\":\"more\",\"orientation\":\"v\",\"showlegend\":true,\"textposition\":\"auto\",\"x\":[\"more\",\"more\",\"more\",\"more\",\"more\",\"more\",\"more\",\"more\"],\"xaxis\":\"x\",\"y\":[1,2,2,1,1,1,1,1],\"yaxis\":\"y\",\"type\":\"bar\"},{\"alignmentgroup\":\"True\",\"hovertemplate\":\"\\u003cb\\u003e%{hovertext}\\u003c\\u002fb\\u003e\\u003cbr\\u003e\\u003cbr\\u003ereason=%{x}\\u003cbr\\u003ecount=%{y}\\u003cextra\\u003e\\u003c\\u002fextra\\u003e\",\"hovertext\":[\"internal\\u002fclient\\u002fgithub.go\",\"pkg\\u002fconfig\\u002fconfig.go\"],\"legendgroup\":\"Support\",\"marker\":{\"color\":\"#FFA15A\",\"pattern\":{\"shape\":\"\"}},\"name\":\"Support\",\"offsetgroup\":\"Support\",\"orientation\":\"v\",\"showlegend\":true,\"textposition\":\"auto\",\"x\":[\"Support\",\"Support\"],\"xaxis\":\"x\",\"y\":[1,1],\"yaxis\":\"y\",\"type\":\"bar\"},{\"alignmentgroup\":\"True\",\"hovertemplate\":\"\\u003cb\\u003e%{hovertext}\\u003c\\u002fb\\u003e\\u003cbr\\u003e\\u003cbr\\u003ereason=%{x}\\u003cbr\\u003ecount=%{y}\\u003cextra\\u003e\\u003c\\u002fextra\\u003e\",\"hovertext\":[\"internal\\u002fclient\\u002fgithub.go\",\"pipeline\\u002fbrew\\u002fbrew.go\",\"main.go\"],\"legendgroup\":\"revert\",\"marker\":{\"color\":\"#19d3f3\",\"pattern\":{\"shape\":\"\"}},\"name\":\"revert\",\"offsetgroup\":\"revert\",\"orientation\":\"v\",\"showlegend\":true,\"textposition\":\"auto\",\"x\":[\"revert\",\"revert\",\"revert\"],\"xaxis\":\"x\",\"y\":[1,1,2],\"yaxis\":\"y\",\"type\":\"bar\"},{\"alignmentgroup\":\"True\",\"hovertemplate\":\"\\u003cb\\u003e%{hovertext}\\u003c\\u002fb\\u003e\\u003cbr\\u003e\\u003cbr\\u003ereason=%{x}\\u003cbr\\u003ecount=%{y}\\u003cextra\\u003e\\u003c\\u002fextra\\u003e\",\"hovertext\":[\"internal\\u002fpipe\\u002fnfpm\\u002fnfpm.go\",\"pkg\\u002fconfig\\u002fconfig.go\"],\"legendgroup\":\"feat:\",\"marker\":{\"color\":\"#FF6692\",\"pattern\":{\"shape\":\"\"}},\"name\":\"feat:\",\"offsetgroup\":\"feat:\",\"orientation\":\"v\",\"showlegend\":true,\"textposition\":\"auto\",\"x\":[\"feat:\",\"feat:\"],\"xaxis\":\"x\",\"y\":[1,1],\"yaxis\":\"y\",\"type\":\"bar\"},{\"alignmentgroup\":\"True\",\"hovertemplate\":\"\\u003cb\\u003e%{hovertext}\\u003c\\u002fb\\u003e\\u003cbr\\u003e\\u003cbr\\u003ereason=%{x}\\u003cbr\\u003ecount=%{y}\\u003cextra\\u003e\\u003c\\u002fextra\\u003e\",\"hovertext\":[\"internal\\u002fartifact\\u002fartifact.go\",\"config\\u002fconfig.go\",\"pipeline\\u002fbrew\\u002fbrew.go\",\"pipeline\\u002fbuild\\u002fbuild.go\",\"pipeline\\u002frelease\\u002frelease.go\"],\"legendgroup\":\"refactory\",\"marker\":{\"color\":\"#B6E880\",\"pattern\":{\"shape\":\"\"}},\"name\":\"refactory\",\"offsetgroup\":\"refactory\",\"orientation\":\"v\",\"showlegend\":true,\"textposition\":\"auto\",\"x\":[\"refactory\",\"refactory\",\"refactory\",\"refactory\",\"refactory\"],\"xaxis\":\"x\",\"y\":[1,1,1,1,1],\"yaxis\":\"y\",\"type\":\"bar\"},{\"alignmentgroup\":\"True\",\"hovertemplate\":\"\\u003cb\\u003e%{hovertext}\\u003c\\u002fb\\u003e\\u003cbr\\u003e\\u003cbr\\u003ereason=%{x}\\u003cbr\\u003ecount=%{y}\\u003cextra\\u003e\\u003c\\u002fextra\\u003e\",\"hovertext\":[\"pkg\\u002fconfig\\u002fconfig.go\",\"www\\u002fmkdocs.yml\",\"config\\u002fconfig.go\",\"internal\\u002fclient\\u002fgithub.go\",\"pipeline\\u002fdefaults\\u002fdefaults.go\",\"README.md\",\"pipeline\\u002ffpm\\u002ffpm.go\",\"pipeline\\u002fbrew\\u002fbrew.go\",\"pipeline\\u002fbuild\\u002fbuild.go\",\"context\\u002fcontext.go\",\"main.go\"],\"legendgroup\":\"Add\",\"marker\":{\"color\":\"#FF97FF\",\"pattern\":{\"shape\":\"\"}},\"name\":\"Add\",\"offsetgroup\":\"Add\",\"orientation\":\"v\",\"showlegend\":true,\"textposition\":\"auto\",\"x\":[\"Add\",\"Add\",\"Add\",\"Add\",\"Add\",\"Add\",\"Add\",\"Add\",\"Add\",\"Add\",\"Add\"],\"xaxis\":\"x\",\"y\":[1,1,6,1,2,8,4,1,1,1,1],\"yaxis\":\"y\",\"type\":\"bar\"},{\"alignmentgroup\":\"True\",\"hovertemplate\":\"\\u003cb\\u003e%{hovertext}\\u003c\\u002fb\\u003e\\u003cbr\\u003e\\u003cbr\\u003ereason=%{x}\\u003cbr\\u003ecount=%{y}\\u003cextra\\u003e\\u003c\\u002fextra\\u003e\",\"hovertext\":[\"internal\\u002fclient\\u002fgithub.go\"],\"legendgroup\":\"Do\",\"marker\":{\"color\":\"#FECB52\",\"pattern\":{\"shape\":\"\"}},\"name\":\"Do\",\"offsetgroup\":\"Do\",\"orientation\":\"v\",\"showlegend\":true,\"textposition\":\"auto\",\"x\":[\"Do\"],\"xaxis\":\"x\",\"y\":[1],\"yaxis\":\"y\",\"type\":\"bar\"},{\"alignmentgroup\":\"True\",\"hovertemplate\":\"\\u003cb\\u003e%{hovertext}\\u003c\\u002fb\\u003e\\u003cbr\\u003e\\u003cbr\\u003ereason=%{x}\\u003cbr\\u003ecount=%{y}\\u003cextra\\u003e\\u003c\\u002fextra\\u003e\",\"hovertext\":[\"www\\u002fmkdocs.yml\",\".goreleaser.yml\",\"config\\u002fconfig.go\",\"pipeline\\u002fdefaults\\u002fdefaults.go\"],\"legendgroup\":\"add\",\"marker\":{\"color\":\"#636efa\",\"pattern\":{\"shape\":\"\"}},\"name\":\"add\",\"offsetgroup\":\"add\",\"orientation\":\"v\",\"showlegend\":true,\"textposition\":\"auto\",\"x\":[\"add\",\"add\",\"add\",\"add\"],\"xaxis\":\"x\",\"y\":[1,2,2,1],\"yaxis\":\"y\",\"type\":\"bar\"},{\"alignmentgroup\":\"True\",\"hovertemplate\":\"\\u003cb\\u003e%{hovertext}\\u003c\\u002fb\\u003e\\u003cbr\\u003e\\u003cbr\\u003ereason=%{x}\\u003cbr\\u003ecount=%{y}\\u003cextra\\u003e\\u003c\\u002fextra\\u003e\",\"hovertext\":[\"internal\\u002fpipe\\u002fnfpm\\u002fnfpm.go\",\"internal\\u002fpipe\\u002fnfpm\\u002fnfpm_test.go\",\"README.md\",\"config\\u002fconfig.go\",\"pipeline\\u002fbrew\\u002fbrew.go\",\"pipeline\\u002fbrew\\u002fbrew_test.go\",\"pipeline\\u002fbuild\\u002fbuild.go\",\"pipeline\\u002ffpm\\u002ffpm.go\"],\"legendgroup\":\"Use\",\"marker\":{\"color\":\"#EF553B\",\"pattern\":{\"shape\":\"\"}},\"name\":\"Use\",\"offsetgroup\":\"Use\",\"orientation\":\"v\",\"showlegend\":true,\"textposition\":\"auto\",\"x\":[\"Use\",\"Use\",\"Use\",\"Use\",\"Use\",\"Use\",\"Use\",\"Use\"],\"xaxis\":\"x\",\"y\":[1,1,2,1,1,1,2,1],\"yaxis\":\"y\",\"type\":\"bar\"},{\"alignmentgroup\":\"True\",\"hovertemplate\":\"\\u003cb\\u003e%{hovertext}\\u003c\\u002fb\\u003e\\u003cbr\\u003e\\u003cbr\\u003ereason=%{x}\\u003cbr\\u003ecount=%{y}\\u003cextra\\u003e\\u003c\\u002fextra\\u003e\",\"hovertext\":[\"Dockerfile\",\"README.md\"],\"legendgroup\":\"Fix\",\"marker\":{\"color\":\"#00cc96\",\"pattern\":{\"shape\":\"\"}},\"name\":\"Fix\",\"offsetgroup\":\"Fix\",\"orientation\":\"v\",\"showlegend\":true,\"textposition\":\"auto\",\"x\":[\"Fix\",\"Fix\"],\"xaxis\":\"x\",\"y\":[1,5],\"yaxis\":\"y\",\"type\":\"bar\"},{\"alignmentgroup\":\"True\",\"hovertemplate\":\"\\u003cb\\u003e%{hovertext}\\u003c\\u002fb\\u003e\\u003cbr\\u003e\\u003cbr\\u003ereason=%{x}\\u003cbr\\u003ecount=%{y}\\u003cextra\\u003e\\u003c\\u002fextra\\u003e\",\"hovertext\":[\"internal\\u002fpipe\\u002fdocker\\u002fdocker_test.go\",\"internal\\u002fpipe\\u002fdocker\\u002fdocker.go\",\"pkg\\u002fconfig\\u002fconfig.go\",\"main.go\"],\"legendgroup\":\"clean\",\"marker\":{\"color\":\"#ab63fa\",\"pattern\":{\"shape\":\"\"}},\"name\":\"clean\",\"offsetgroup\":\"clean\",\"orientation\":\"v\",\"showlegend\":true,\"textposition\":\"auto\",\"x\":[\"clean\",\"clean\",\"clean\",\"clean\"],\"xaxis\":\"x\",\"y\":[2,1,4,1],\"yaxis\":\"y\",\"type\":\"bar\"},{\"alignmentgroup\":\"True\",\"hovertemplate\":\"\\u003cb\\u003e%{hovertext}\\u003c\\u002fb\\u003e\\u003cbr\\u003e\\u003cbr\\u003ereason=%{x}\\u003cbr\\u003ecount=%{y}\\u003cextra\\u003e\\u003c\\u002fextra\\u003e\",\"hovertext\":[\"internal\\u002fclient\\u002fgithub.go\"],\"legendgroup\":\"&base\",\"marker\":{\"color\":\"#FFA15A\",\"pattern\":{\"shape\":\"\"}},\"name\":\"&base\",\"offsetgroup\":\"&base\",\"orientation\":\"v\",\"showlegend\":true,\"textposition\":\"auto\",\"x\":[\"&base\"],\"xaxis\":\"x\",\"y\":[1],\"yaxis\":\"y\",\"type\":\"bar\"},{\"alignmentgroup\":\"True\",\"hovertemplate\":\"\\u003cb\\u003e%{hovertext}\\u003c\\u002fb\\u003e\\u003cbr\\u003e\\u003cbr\\u003ereason=%{x}\\u003cbr\\u003ecount=%{y}\\u003cextra\\u003e\\u003c\\u002fextra\\u003e\",\"hovertext\":[\".goreleaser.yml\"],\"legendgroup\":\"Set\",\"marker\":{\"color\":\"#19d3f3\",\"pattern\":{\"shape\":\"\"}},\"name\":\"Set\",\"offsetgroup\":\"Set\",\"orientation\":\"v\",\"showlegend\":true,\"textposition\":\"auto\",\"x\":[\"Set\"],\"xaxis\":\"x\",\"y\":[1],\"yaxis\":\"y\",\"type\":\"bar\"},{\"alignmentgroup\":\"True\",\"hovertemplate\":\"\\u003cb\\u003e%{hovertext}\\u003c\\u002fb\\u003e\\u003cbr\\u003e\\u003cbr\\u003ereason=%{x}\\u003cbr\\u003ecount=%{y}\\u003cextra\\u003e\\u003c\\u002fextra\\u003e\",\"hovertext\":[\"main.go\"],\"legendgroup\":\"refactor\\u002ffix:\",\"marker\":{\"color\":\"#FF6692\",\"pattern\":{\"shape\":\"\"}},\"name\":\"refactor\\u002ffix:\",\"offsetgroup\":\"refactor\\u002ffix:\",\"orientation\":\"v\",\"showlegend\":true,\"textposition\":\"auto\",\"x\":[\"refactor\\u002ffix:\"],\"xaxis\":\"x\",\"y\":[1],\"yaxis\":\"y\",\"type\":\"bar\"},{\"alignmentgroup\":\"True\",\"hovertemplate\":\"\\u003cb\\u003e%{hovertext}\\u003c\\u002fb\\u003e\\u003cbr\\u003e\\u003cbr\\u003ereason=%{x}\\u003cbr\\u003ecount=%{y}\\u003cextra\\u003e\\u003c\\u002fextra\\u003e\",\"hovertext\":[\"Dockerfile\"],\"legendgroup\":\"Optimized\",\"marker\":{\"color\":\"#B6E880\",\"pattern\":{\"shape\":\"\"}},\"name\":\"Optimized\",\"offsetgroup\":\"Optimized\",\"orientation\":\"v\",\"showlegend\":true,\"textposition\":\"auto\",\"x\":[\"Optimized\"],\"xaxis\":\"x\",\"y\":[1],\"yaxis\":\"y\",\"type\":\"bar\"},{\"alignmentgroup\":\"True\",\"hovertemplate\":\"\\u003cb\\u003e%{hovertext}\\u003c\\u002fb\\u003e\\u003cbr\\u003e\\u003cbr\\u003ereason=%{x}\\u003cbr\\u003ecount=%{y}\\u003cextra\\u003e\\u003c\\u002fextra\\u003e\",\"hovertext\":[\"internal\\u002fpipe\\u002fbrew\\u002fbrew.go\",\"internal\\u002fbuilders\\u002fgolang\\u002fbuild.go\",\"pipeline\\u002fbuild\\u002fbuild.go\",\"pipeline\\u002fbrew\\u002fbrew.go\",\"pipeline\\u002fbrew\\u002fbrew_test.go\",\"config\\u002fconfig.go\",\"internal\\u002fclient\\u002fgithub.go\",\"pipeline\\u002fdefaults\\u002fdefaults.go\",\"context\\u002fcontext.go\",\"main.go\",\"pipeline\\u002frelease\\u002frelease.go\"],\"legendgroup\":\"wip\",\"marker\":{\"color\":\"#FF97FF\",\"pattern\":{\"shape\":\"\"}},\"name\":\"wip\",\"offsetgroup\":\"wip\",\"orientation\":\"v\",\"showlegend\":true,\"textposition\":\"auto\",\"x\":[\"wip\",\"wip\",\"wip\",\"wip\",\"wip\",\"wip\",\"wip\",\"wip\",\"wip\",\"wip\",\"wip\"],\"xaxis\":\"x\",\"y\":[1,1,5,5,1,4,1,3,2,3,1],\"yaxis\":\"y\",\"type\":\"bar\"},{\"alignmentgroup\":\"True\",\"hovertemplate\":\"\\u003cb\\u003e%{hovertext}\\u003c\\u002fb\\u003e\\u003cbr\\u003e\\u003cbr\\u003ereason=%{x}\\u003cbr\\u003ecount=%{y}\\u003cextra\\u003e\\u003c\\u002fextra\\u003e\",\"hovertext\":[\".travis.yml\"],\"legendgroup\":\"bump\",\"marker\":{\"color\":\"#FECB52\",\"pattern\":{\"shape\":\"\"}},\"name\":\"bump\",\"offsetgroup\":\"bump\",\"orientation\":\"v\",\"showlegend\":true,\"textposition\":\"auto\",\"x\":[\"bump\"],\"xaxis\":\"x\",\"y\":[1],\"yaxis\":\"y\",\"type\":\"bar\"},{\"alignmentgroup\":\"True\",\"hovertemplate\":\"\\u003cb\\u003e%{hovertext}\\u003c\\u002fb\\u003e\\u003cbr\\u003e\\u003cbr\\u003ereason=%{x}\\u003cbr\\u003ecount=%{y}\\u003cextra\\u003e\\u003c\\u002fextra\\u003e\",\"hovertext\":[\"main.go\",\"pipeline\\u002fdefaults\\u002fdefaults.go\",\".travis.yml\",\"internal\\u002fclient\\u002fgithub.go\",\"config\\u002fconfig.go\",\"internal\\u002fbuilders\\u002fgolang\\u002fbuild.go\",\"internal\\u002fbuilders\\u002fgolang\\u002fbuild_test.go\",\"pipeline\\u002fbuild\\u002fbuild.go\",\"context\\u002fcontext.go\",\"pipeline\\u002ffpm\\u002ffpm.go\"],\"legendgroup\":\"style\",\"marker\":{\"color\":\"#636efa\",\"pattern\":{\"shape\":\"\"}},\"name\":\"style\",\"offsetgroup\":\"style\",\"orientation\":\"v\",\"showlegend\":true,\"textposition\":\"auto\",\"x\":[\"style\",\"style\",\"style\",\"style\",\"style\",\"style\",\"style\",\"style\",\"style\",\"style\"],\"xaxis\":\"x\",\"y\":[2,2,1,1,4,2,1,2,1,1],\"yaxis\":\"y\",\"type\":\"bar\"},{\"alignmentgroup\":\"True\",\"hovertemplate\":\"\\u003cb\\u003e%{hovertext}\\u003c\\u002fb\\u003e\\u003cbr\\u003e\\u003cbr\\u003ereason=%{x}\\u003cbr\\u003ecount=%{y}\\u003cextra\\u003e\\u003c\\u002fextra\\u003e\",\"hovertext\":[\"pipeline\\u002frelease\\u002frelease.go\"],\"legendgroup\":\"*\",\"marker\":{\"color\":\"#EF553B\",\"pattern\":{\"shape\":\"\"}},\"name\":\"*\",\"offsetgroup\":\"*\",\"orientation\":\"v\",\"showlegend\":true,\"textposition\":\"auto\",\"x\":[\"*\"],\"xaxis\":\"x\",\"y\":[1],\"yaxis\":\"y\",\"type\":\"bar\"},{\"alignmentgroup\":\"True\",\"hovertemplate\":\"\\u003cb\\u003e%{hovertext}\\u003c\\u002fb\\u003e\\u003cbr\\u003e\\u003cbr\\u003ereason=%{x}\\u003cbr\\u003ecount=%{y}\\u003cextra\\u003e\\u003c\\u002fextra\\u003e\",\"hovertext\":[\"internal\\u002fclient\\u002fgithub.go\",\"README.md\",\"pipeline\\u002frelease\\u002frelease.go\"],\"legendgroup\":\"update\",\"marker\":{\"color\":\"#00cc96\",\"pattern\":{\"shape\":\"\"}},\"name\":\"update\",\"offsetgroup\":\"update\",\"orientation\":\"v\",\"showlegend\":true,\"textposition\":\"auto\",\"x\":[\"update\",\"update\",\"update\"],\"xaxis\":\"x\",\"y\":[1,1,1],\"yaxis\":\"y\",\"type\":\"bar\"},{\"alignmentgroup\":\"True\",\"hovertemplate\":\"\\u003cb\\u003e%{hovertext}\\u003c\\u002fb\\u003e\\u003cbr\\u003e\\u003cbr\\u003ereason=%{x}\\u003cbr\\u003ecount=%{y}\\u003cextra\\u003e\\u003c\\u002fextra\\u003e\",\"hovertext\":[\"README.md\"],\"legendgroup\":\"Added\",\"marker\":{\"color\":\"#ab63fa\",\"pattern\":{\"shape\":\"\"}},\"name\":\"Added\",\"offsetgroup\":\"Added\",\"orientation\":\"v\",\"showlegend\":true,\"textposition\":\"auto\",\"x\":[\"Added\"],\"xaxis\":\"x\",\"y\":[1],\"yaxis\":\"y\",\"type\":\"bar\"},{\"alignmentgroup\":\"True\",\"hovertemplate\":\"\\u003cb\\u003e%{hovertext}\\u003c\\u002fb\\u003e\\u003cbr\\u003e\\u003cbr\\u003ereason=%{x}\\u003cbr\\u003ecount=%{y}\\u003cextra\\u003e\\u003c\\u002fextra\\u003e\",\"hovertext\":[\"pipeline\\u002ffpm\\u002ffpm.go\",\"pipeline\\u002fbrew\\u002fbrew.go\",\"pipeline\\u002fbrew\\u002fbrew_test.go\"],\"legendgroup\":\"remove\",\"marker\":{\"color\":\"#FFA15A\",\"pattern\":{\"shape\":\"\"}},\"name\":\"remove\",\"offsetgroup\":\"remove\",\"orientation\":\"v\",\"showlegend\":true,\"textposition\":\"auto\",\"x\":[\"remove\",\"remove\",\"remove\"],\"xaxis\":\"x\",\"y\":[1,1,1],\"yaxis\":\"y\",\"type\":\"bar\"},{\"alignmentgroup\":\"True\",\"hovertemplate\":\"\\u003cb\\u003e%{hovertext}\\u003c\\u002fb\\u003e\\u003cbr\\u003e\\u003cbr\\u003ereason=%{x}\\u003cbr\\u003ecount=%{y}\\u003cextra\\u003e\\u003c\\u002fextra\\u003e\",\"hovertext\":[\"pipeline\\u002fdefaults\\u002fdefaults.go\"],\"legendgroup\":\"Remove\",\"marker\":{\"color\":\"#19d3f3\",\"pattern\":{\"shape\":\"\"}},\"name\":\"Remove\",\"offsetgroup\":\"Remove\",\"orientation\":\"v\",\"showlegend\":true,\"textposition\":\"auto\",\"x\":[\"Remove\"],\"xaxis\":\"x\",\"y\":[1],\"yaxis\":\"y\",\"type\":\"bar\"},{\"alignmentgroup\":\"True\",\"hovertemplate\":\"\\u003cb\\u003e%{hovertext}\\u003c\\u002fb\\u003e\\u003cbr\\u003e\\u003cbr\\u003ereason=%{x}\\u003cbr\\u003ecount=%{y}\\u003cextra\\u003e\\u003c\\u002fextra\\u003e\",\"hovertext\":[\"pipeline\\u002fbrew\\u002fbrew_test.go\"],\"legendgroup\":\"removing\",\"marker\":{\"color\":\"#FF6692\",\"pattern\":{\"shape\":\"\"}},\"name\":\"removing\",\"offsetgroup\":\"removing\",\"orientation\":\"v\",\"showlegend\":true,\"textposition\":\"auto\",\"x\":[\"removing\"],\"xaxis\":\"x\",\"y\":[1],\"yaxis\":\"y\",\"type\":\"bar\"},{\"alignmentgroup\":\"True\",\"hovertemplate\":\"\\u003cb\\u003e%{hovertext}\\u003c\\u002fb\\u003e\\u003cbr\\u003e\\u003cbr\\u003ereason=%{x}\\u003cbr\\u003ecount=%{y}\\u003cextra\\u003e\\u003c\\u002fextra\\u003e\",\"hovertext\":[\"pipeline\\u002fbrew\\u002fbrew_test.go\"],\"legendgroup\":\"unit\",\"marker\":{\"color\":\"#B6E880\",\"pattern\":{\"shape\":\"\"}},\"name\":\"unit\",\"offsetgroup\":\"unit\",\"orientation\":\"v\",\"showlegend\":true,\"textposition\":\"auto\",\"x\":[\"unit\"],\"xaxis\":\"x\",\"y\":[1],\"yaxis\":\"y\",\"type\":\"bar\"},{\"alignmentgroup\":\"True\",\"hovertemplate\":\"\\u003cb\\u003e%{hovertext}\\u003c\\u002fb\\u003e\\u003cbr\\u003e\\u003cbr\\u003ereason=%{x}\\u003cbr\\u003ecount=%{y}\\u003cextra\\u003e\\u003c\\u002fextra\\u003e\",\"hovertext\":[\"pipeline\\u002fbrew\\u002fbrew.go\",\"pipeline\\u002frelease\\u002frelease.go\",\"config\\u002fconfig.go\",\"internal\\u002fclient\\u002fgithub.go\",\"pipeline\\u002ffpm\\u002ffpm.go\",\"pipeline\\u002fbrew\\u002fbrew_test.go\",\"context\\u002fcontext.go\",\"README.md\",\".travis.yml\",\"pipeline\\u002fbuild\\u002fbuild.go\",\"main.go\",\"pipeline\\u002fdefaults\\u002fdefaults.go\"],\"legendgroup\":\"fixed\",\"marker\":{\"color\":\"#FF97FF\",\"pattern\":{\"shape\":\"\"}},\"name\":\"fixed\",\"offsetgroup\":\"fixed\",\"orientation\":\"v\",\"showlegend\":true,\"textposition\":\"auto\",\"x\":[\"fixed\",\"fixed\",\"fixed\",\"fixed\",\"fixed\",\"fixed\",\"fixed\",\"fixed\",\"fixed\",\"fixed\",\"fixed\",\"fixed\"],\"xaxis\":\"x\",\"y\":[8,4,2,1,4,6,2,3,1,4,3,1],\"yaxis\":\"y\",\"type\":\"bar\"},{\"alignmentgroup\":\"True\",\"hovertemplate\":\"\\u003cb\\u003e%{hovertext}\\u003c\\u002fb\\u003e\\u003cbr\\u003e\\u003cbr\\u003ereason=%{x}\\u003cbr\\u003ecount=%{y}\\u003cextra\\u003e\\u003c\\u002fextra\\u003e\",\"hovertext\":[\".travis.yml\",\"pipeline\\u002frelease\\u002frelease.go\"],\"legendgroup\":\"lint\",\"marker\":{\"color\":\"#FECB52\",\"pattern\":{\"shape\":\"\"}},\"name\":\"lint\",\"offsetgroup\":\"lint\",\"orientation\":\"v\",\"showlegend\":true,\"textposition\":\"auto\",\"x\":[\"lint\",\"lint\"],\"xaxis\":\"x\",\"y\":[1,1],\"yaxis\":\"y\",\"type\":\"bar\"},{\"alignmentgroup\":\"True\",\"hovertemplate\":\"\\u003cb\\u003e%{hovertext}\\u003c\\u002fb\\u003e\\u003cbr\\u003e\\u003cbr\\u003ereason=%{x}\\u003cbr\\u003ecount=%{y}\\u003cextra\\u003e\\u003c\\u002fextra\\u003e\",\"hovertext\":[\"config\\u002fconfig.go\",\"internal\\u002fclient\\u002fgithub.go\",\"pipeline\\u002fbrew\\u002fbrew.go\",\"pipeline\\u002frelease\\u002frelease.go\"],\"legendgroup\":\"github\",\"marker\":{\"color\":\"#636efa\",\"pattern\":{\"shape\":\"\"}},\"name\":\"github\",\"offsetgroup\":\"github\",\"orientation\":\"v\",\"showlegend\":true,\"textposition\":\"auto\",\"x\":[\"github\",\"github\",\"github\",\"github\"],\"xaxis\":\"x\",\"y\":[1,1,2,1],\"yaxis\":\"y\",\"type\":\"bar\"},{\"alignmentgroup\":\"True\",\"hovertemplate\":\"\\u003cb\\u003e%{hovertext}\\u003c\\u002fb\\u003e\\u003cbr\\u003e\\u003cbr\\u003ereason=%{x}\\u003cbr\\u003ecount=%{y}\\u003cextra\\u003e\\u003c\\u002fextra\\u003e\",\"hovertext\":[\"config\\u002fconfig.go\"],\"legendgroup\":\"allows\",\"marker\":{\"color\":\"#EF553B\",\"pattern\":{\"shape\":\"\"}},\"name\":\"allows\",\"offsetgroup\":\"allows\",\"orientation\":\"v\",\"showlegend\":true,\"textposition\":\"auto\",\"x\":[\"allows\"],\"xaxis\":\"x\",\"y\":[1],\"yaxis\":\"y\",\"type\":\"bar\"},{\"alignmentgroup\":\"True\",\"hovertemplate\":\"\\u003cb\\u003e%{hovertext}\\u003c\\u002fb\\u003e\\u003cbr\\u003e\\u003cbr\\u003ereason=%{x}\\u003cbr\\u003ecount=%{y}\\u003cextra\\u003e\\u003c\\u002fextra\\u003e\",\"hovertext\":[\"pipeline\\u002fbrew\\u002fbrew_test.go\",\"pipeline\\u002fdefaults\\u002fdefaults.go\",\"config\\u002fconfig.go\",\"pipeline\\u002fbrew\\u002fbrew.go\",\"pipeline\\u002fbuild\\u002fbuild.go\",\"pipeline\\u002ffpm\\u002ffpm.go\"],\"legendgroup\":\"fixing\",\"marker\":{\"color\":\"#00cc96\",\"pattern\":{\"shape\":\"\"}},\"name\":\"fixing\",\"offsetgroup\":\"fixing\",\"orientation\":\"v\",\"showlegend\":true,\"textposition\":\"auto\",\"x\":[\"fixing\",\"fixing\",\"fixing\",\"fixing\",\"fixing\",\"fixing\"],\"xaxis\":\"x\",\"y\":[1,3,1,2,1,2],\"yaxis\":\"y\",\"type\":\"bar\"},{\"alignmentgroup\":\"True\",\"hovertemplate\":\"\\u003cb\\u003e%{hovertext}\\u003c\\u002fb\\u003e\\u003cbr\\u003e\\u003cbr\\u003ereason=%{x}\\u003cbr\\u003ecount=%{y}\\u003cextra\\u003e\\u003c\\u002fextra\\u003e\",\"hovertext\":[\"internal\\u002fclient\\u002fgithub.go\",\"pipeline\\u002fbuild\\u002fbuild.go\"],\"legendgroup\":\"merge\",\"marker\":{\"color\":\"#ab63fa\",\"pattern\":{\"shape\":\"\"}},\"name\":\"merge\",\"offsetgroup\":\"merge\",\"orientation\":\"v\",\"showlegend\":true,\"textposition\":\"auto\",\"x\":[\"merge\",\"merge\"],\"xaxis\":\"x\",\"y\":[1,1],\"yaxis\":\"y\",\"type\":\"bar\"},{\"alignmentgroup\":\"True\",\"hovertemplate\":\"\\u003cb\\u003e%{hovertext}\\u003c\\u002fb\\u003e\\u003cbr\\u003e\\u003cbr\\u003ereason=%{x}\\u003cbr\\u003ecount=%{y}\\u003cextra\\u003e\\u003c\\u002fextra\\u003e\",\"hovertext\":[\"config\\u002fconfig.go\",\"internal\\u002fclient\\u002fgithub.go\",\"pipeline\\u002fbrew\\u002fbrew.go\",\"pipeline\\u002frelease\\u002frelease.go\",\"pipeline\\u002fbuild\\u002fbuild.go\",\"pipeline\\u002fdefaults\\u002fdefaults.go\",\"README.md\"],\"legendgroup\":\"support\",\"marker\":{\"color\":\"#FFA15A\",\"pattern\":{\"shape\":\"\"}},\"name\":\"support\",\"offsetgroup\":\"support\",\"orientation\":\"v\",\"showlegend\":true,\"textposition\":\"auto\",\"x\":[\"support\",\"support\",\"support\",\"support\",\"support\",\"support\",\"support\"],\"xaxis\":\"x\",\"y\":[3,2,2,2,2,1,1],\"yaxis\":\"y\",\"type\":\"bar\"},{\"alignmentgroup\":\"True\",\"hovertemplate\":\"\\u003cb\\u003e%{hovertext}\\u003c\\u002fb\\u003e\\u003cbr\\u003e\\u003cbr\\u003ereason=%{x}\\u003cbr\\u003ecount=%{y}\\u003cextra\\u003e\\u003c\\u002fextra\\u003e\",\"hovertext\":[\".goreleaser.yml\"],\"legendgroup\":\"push\",\"marker\":{\"color\":\"#19d3f3\",\"pattern\":{\"shape\":\"\"}},\"name\":\"push\",\"offsetgroup\":\"push\",\"orientation\":\"v\",\"showlegend\":true,\"textposition\":\"auto\",\"x\":[\"push\"],\"xaxis\":\"x\",\"y\":[1],\"yaxis\":\"y\",\"type\":\"bar\"},{\"alignmentgroup\":\"True\",\"hovertemplate\":\"\\u003cb\\u003e%{hovertext}\\u003c\\u002fb\\u003e\\u003cbr\\u003e\\u003cbr\\u003ereason=%{x}\\u003cbr\\u003ecount=%{y}\\u003cextra\\u003e\\u003c\\u002fextra\\u003e\",\"hovertext\":[\"context\\u002fcontext.go\",\"README.md\",\"config\\u002fconfig.go\",\"pipeline\\u002fbrew\\u002fbrew.go\",\"pipeline\\u002fbuild\\u002fbuild.go\",\"pipeline\\u002fdefaults\\u002fdefaults.go\",\"pipeline\\u002ffpm\\u002ffpm.go\",\"pipeline\\u002frelease\\u002frelease.go\"],\"legendgroup\":\"adding\",\"marker\":{\"color\":\"#FF6692\",\"pattern\":{\"shape\":\"\"}},\"name\":\"adding\",\"offsetgroup\":\"adding\",\"orientation\":\"v\",\"showlegend\":true,\"textposition\":\"auto\",\"x\":[\"adding\",\"adding\",\"adding\",\"adding\",\"adding\",\"adding\",\"adding\",\"adding\"],\"xaxis\":\"x\",\"y\":[2,2,1,1,2,1,1,1],\"yaxis\":\"y\",\"type\":\"bar\"},{\"alignmentgroup\":\"True\",\"hovertemplate\":\"\\u003cb\\u003e%{hovertext}\\u003c\\u002fb\\u003e\\u003cbr\\u003e\\u003cbr\\u003ereason=%{x}\\u003cbr\\u003ecount=%{y}\\u003cextra\\u003e\\u003c\\u002fextra\\u003e\",\"hovertext\":[\"config\\u002fconfig.go\",\"context\\u002fcontext.go\",\"main.go\"],\"legendgroup\":\"rm\",\"marker\":{\"color\":\"#B6E880\",\"pattern\":{\"shape\":\"\"}},\"name\":\"rm\",\"offsetgroup\":\"rm\",\"orientation\":\"v\",\"showlegend\":true,\"textposition\":\"auto\",\"x\":[\"rm\",\"rm\",\"rm\"],\"xaxis\":\"x\",\"y\":[1,1,1],\"yaxis\":\"y\",\"type\":\"bar\"},{\"alignmentgroup\":\"True\",\"hovertemplate\":\"\\u003cb\\u003e%{hovertext}\\u003c\\u002fb\\u003e\\u003cbr\\u003e\\u003cbr\\u003ereason=%{x}\\u003cbr\\u003ecount=%{y}\\u003cextra\\u003e\\u003c\\u002fextra\\u003e\",\"hovertext\":[\"internal\\u002fclient\\u002fgithub.go\"],\"legendgroup\":\"todo\",\"marker\":{\"color\":\"#FF97FF\",\"pattern\":{\"shape\":\"\"}},\"name\":\"todo\",\"offsetgroup\":\"todo\",\"orientation\":\"v\",\"showlegend\":true,\"textposition\":\"auto\",\"x\":[\"todo\"],\"xaxis\":\"x\",\"y\":[1],\"yaxis\":\"y\",\"type\":\"bar\"},{\"alignmentgroup\":\"True\",\"hovertemplate\":\"\\u003cb\\u003e%{hovertext}\\u003c\\u002fb\\u003e\\u003cbr\\u003e\\u003cbr\\u003ereason=%{x}\\u003cbr\\u003ecount=%{y}\\u003cextra\\u003e\\u003c\\u002fextra\\u003e\",\"hovertext\":[\"pipeline\\u002fdefaults\\u002fdefaults.go\",\"pipeline\\u002ffpm\\u002ffpm.go\"],\"legendgroup\":\"enabled\",\"marker\":{\"color\":\"#FECB52\",\"pattern\":{\"shape\":\"\"}},\"name\":\"enabled\",\"offsetgroup\":\"enabled\",\"orientation\":\"v\",\"showlegend\":true,\"textposition\":\"auto\",\"x\":[\"enabled\",\"enabled\"],\"xaxis\":\"x\",\"y\":[1,1],\"yaxis\":\"y\",\"type\":\"bar\"},{\"alignmentgroup\":\"True\",\"hovertemplate\":\"\\u003cb\\u003e%{hovertext}\\u003c\\u002fb\\u003e\\u003cbr\\u003e\\u003cbr\\u003ereason=%{x}\\u003cbr\\u003ecount=%{y}\\u003cextra\\u003e\\u003c\\u002fextra\\u003e\",\"hovertext\":[\"config\\u002fconfig.go\"],\"legendgroup\":\"also\",\"marker\":{\"color\":\"#636efa\",\"pattern\":{\"shape\":\"\"}},\"name\":\"also\",\"offsetgroup\":\"also\",\"orientation\":\"v\",\"showlegend\":true,\"textposition\":\"auto\",\"x\":[\"also\"],\"xaxis\":\"x\",\"y\":[1],\"yaxis\":\"y\",\"type\":\"bar\"},{\"alignmentgroup\":\"True\",\"hovertemplate\":\"\\u003cb\\u003e%{hovertext}\\u003c\\u002fb\\u003e\\u003cbr\\u003e\\u003cbr\\u003ereason=%{x}\\u003cbr\\u003ecount=%{y}\\u003cextra\\u003e\\u003c\\u002fextra\\u003e\",\"hovertext\":[\".travis.yml\",\"internal\\u002fclient\\u002fgithub.go\",\"pipeline\\u002fbuild\\u002fbuild.go\",\"pipeline\\u002ffpm\\u002ffpm.go\"],\"legendgroup\":\"using\",\"marker\":{\"color\":\"#EF553B\",\"pattern\":{\"shape\":\"\"}},\"name\":\"using\",\"offsetgroup\":\"using\",\"orientation\":\"v\",\"showlegend\":true,\"textposition\":\"auto\",\"x\":[\"using\",\"using\",\"using\",\"using\"],\"xaxis\":\"x\",\"y\":[1,1,4,2],\"yaxis\":\"y\",\"type\":\"bar\"},{\"alignmentgroup\":\"True\",\"hovertemplate\":\"\\u003cb\\u003e%{hovertext}\\u003c\\u002fb\\u003e\\u003cbr\\u003e\\u003cbr\\u003ereason=%{x}\\u003cbr\\u003ecount=%{y}\\u003cextra\\u003e\\u003c\\u002fextra\\u003e\",\"hovertext\":[\".travis.yml\"],\"legendgroup\":\"enable\",\"marker\":{\"color\":\"#00cc96\",\"pattern\":{\"shape\":\"\"}},\"name\":\"enable\",\"offsetgroup\":\"enable\",\"orientation\":\"v\",\"showlegend\":true,\"textposition\":\"auto\",\"x\":[\"enable\"],\"xaxis\":\"x\",\"y\":[1],\"yaxis\":\"y\",\"type\":\"bar\"},{\"alignmentgroup\":\"True\",\"hovertemplate\":\"\\u003cb\\u003e%{hovertext}\\u003c\\u002fb\\u003e\\u003cbr\\u003e\\u003cbr\\u003ereason=%{x}\\u003cbr\\u003ecount=%{y}\\u003cextra\\u003e\\u003c\\u002fextra\\u003e\",\"hovertext\":[\".goreleaser.yml\"],\"legendgroup\":\"restore\",\"marker\":{\"color\":\"#ab63fa\",\"pattern\":{\"shape\":\"\"}},\"name\":\"restore\",\"offsetgroup\":\"restore\",\"orientation\":\"v\",\"showlegend\":true,\"textposition\":\"auto\",\"x\":[\"restore\"],\"xaxis\":\"x\",\"y\":[1],\"yaxis\":\"y\",\"type\":\"bar\"},{\"alignmentgroup\":\"True\",\"hovertemplate\":\"\\u003cb\\u003e%{hovertext}\\u003c\\u002fb\\u003e\\u003cbr\\u003e\\u003cbr\\u003ereason=%{x}\\u003cbr\\u003ecount=%{y}\\u003cextra\\u003e\\u003c\\u002fextra\\u003e\",\"hovertext\":[\".goreleaser.yml\",\"config\\u002fconfig.go\",\"pipeline\\u002fdefaults\\u002fdefaults.go\",\"main.go\",\"context\\u002fcontext.go\"],\"legendgroup\":\"improvements\",\"marker\":{\"color\":\"#FFA15A\",\"pattern\":{\"shape\":\"\"}},\"name\":\"improvements\",\"offsetgroup\":\"improvements\",\"orientation\":\"v\",\"showlegend\":true,\"textposition\":\"auto\",\"x\":[\"improvements\",\"improvements\",\"improvements\",\"improvements\",\"improvements\"],\"xaxis\":\"x\",\"y\":[1,1,1,3,1],\"yaxis\":\"y\",\"type\":\"bar\"},{\"alignmentgroup\":\"True\",\"hovertemplate\":\"\\u003cb\\u003e%{hovertext}\\u003c\\u002fb\\u003e\\u003cbr\\u003e\\u003cbr\\u003ereason=%{x}\\u003cbr\\u003ecount=%{y}\\u003cextra\\u003e\\u003c\\u002fextra\\u003e\",\"hovertext\":[\".goreleaser.yml\",\"Dockerfile\",\"config\\u002fconfig.go\"],\"legendgroup\":\"draft\",\"marker\":{\"color\":\"#19d3f3\",\"pattern\":{\"shape\":\"\"}},\"name\":\"draft\",\"offsetgroup\":\"draft\",\"orientation\":\"v\",\"showlegend\":true,\"textposition\":\"auto\",\"x\":[\"draft\",\"draft\",\"draft\"],\"xaxis\":\"x\",\"y\":[1,1,1],\"yaxis\":\"y\",\"type\":\"bar\"},{\"alignmentgroup\":\"True\",\"hovertemplate\":\"\\u003cb\\u003e%{hovertext}\\u003c\\u002fb\\u003e\\u003cbr\\u003e\\u003cbr\\u003ereason=%{x}\\u003cbr\\u003ecount=%{y}\\u003cextra\\u003e\\u003c\\u002fextra\\u003e\",\"hovertext\":[\"README.md\"],\"legendgroup\":\"readme\",\"marker\":{\"color\":\"#FF6692\",\"pattern\":{\"shape\":\"\"}},\"name\":\"readme\",\"offsetgroup\":\"readme\",\"orientation\":\"v\",\"showlegend\":true,\"textposition\":\"auto\",\"x\":[\"readme\"],\"xaxis\":\"x\",\"y\":[13],\"yaxis\":\"y\",\"type\":\"bar\"},{\"alignmentgroup\":\"True\",\"hovertemplate\":\"\\u003cb\\u003e%{hovertext}\\u003c\\u002fb\\u003e\\u003cbr\\u003e\\u003cbr\\u003ereason=%{x}\\u003cbr\\u003ecount=%{y}\\u003cextra\\u003e\\u003c\\u002fextra\\u003e\",\"hovertext\":[\"README.md\"],\"legendgroup\":\"new\",\"marker\":{\"color\":\"#B6E880\",\"pattern\":{\"shape\":\"\"}},\"name\":\"new\",\"offsetgroup\":\"new\",\"orientation\":\"v\",\"showlegend\":true,\"textposition\":\"auto\",\"x\":[\"new\"],\"xaxis\":\"x\",\"y\":[1],\"yaxis\":\"y\",\"type\":\"bar\"},{\"alignmentgroup\":\"True\",\"hovertemplate\":\"\\u003cb\\u003e%{hovertext}\\u003c\\u002fb\\u003e\\u003cbr\\u003e\\u003cbr\\u003ereason=%{x}\\u003cbr\\u003ecount=%{y}\\u003cextra\\u003e\\u003c\\u002fextra\\u003e\",\"hovertext\":[\".goreleaser.yml\",\"README.md\",\"config\\u002fconfig.go\",\"pipeline\\u002fdefaults\\u002fdefaults.go\"],\"legendgroup\":\"checksums\",\"marker\":{\"color\":\"#FF97FF\",\"pattern\":{\"shape\":\"\"}},\"name\":\"checksums\",\"offsetgroup\":\"checksums\",\"orientation\":\"v\",\"showlegend\":true,\"textposition\":\"auto\",\"x\":[\"checksums\",\"checksums\",\"checksums\",\"checksums\"],\"xaxis\":\"x\",\"y\":[1,1,1,1],\"yaxis\":\"y\",\"type\":\"bar\"},{\"alignmentgroup\":\"True\",\"hovertemplate\":\"\\u003cb\\u003e%{hovertext}\\u003c\\u002fb\\u003e\\u003cbr\\u003e\\u003cbr\\u003ereason=%{x}\\u003cbr\\u003ecount=%{y}\\u003cextra\\u003e\\u003c\\u002fextra\\u003e\",\"hovertext\":[\"README.md\",\"context\\u002fcontext.go\",\"pipeline\\u002ffpm\\u002ffpm.go\",\"pipeline\\u002fbrew\\u002fbrew.go\",\"pipeline\\u002fbrew\\u002fbrew_test.go\",\"main.go\",\"pipeline\\u002fbuild\\u002fbuild.go\",\"internal\\u002fclient\\u002fgithub.go\",\"pipeline\\u002frelease\\u002frelease.go\",\"config\\u002fconfig.go\",\"pipeline\\u002fdefaults\\u002fdefaults.go\"],\"legendgroup\":\"improved\",\"marker\":{\"color\":\"#FECB52\",\"pattern\":{\"shape\":\"\"}},\"name\":\"improved\",\"offsetgroup\":\"improved\",\"orientation\":\"v\",\"showlegend\":true,\"textposition\":\"auto\",\"x\":[\"improved\",\"improved\",\"improved\",\"improved\",\"improved\",\"improved\",\"improved\",\"improved\",\"improved\",\"improved\",\"improved\"],\"xaxis\":\"x\",\"y\":[5,3,2,5,3,4,3,1,1,2,1],\"yaxis\":\"y\",\"type\":\"bar\"},{\"alignmentgroup\":\"True\",\"hovertemplate\":\"\\u003cb\\u003e%{hovertext}\\u003c\\u002fb\\u003e\\u003cbr\\u003e\\u003cbr\\u003ereason=%{x}\\u003cbr\\u003ecount=%{y}\\u003cextra\\u003e\\u003c\\u002fextra\\u003e\",\"hovertext\":[\"pipeline\\u002fbrew\\u002fbrew.go\",\"pipeline\\u002ffpm\\u002ffpm.go\",\"pipeline\\u002frelease\\u002frelease.go\",\"pipeline\\u002fbrew\\u002fbrew_test.go\"],\"legendgroup\":\"skipped\",\"marker\":{\"color\":\"#636efa\",\"pattern\":{\"shape\":\"\"}},\"name\":\"skipped\",\"offsetgroup\":\"skipped\",\"orientation\":\"v\",\"showlegend\":true,\"textposition\":\"auto\",\"x\":[\"skipped\",\"skipped\",\"skipped\",\"skipped\"],\"xaxis\":\"x\",\"y\":[1,1,1,1],\"yaxis\":\"y\",\"type\":\"bar\"},{\"alignmentgroup\":\"True\",\"hovertemplate\":\"\\u003cb\\u003e%{hovertext}\\u003c\\u002fb\\u003e\\u003cbr\\u003e\\u003cbr\\u003ereason=%{x}\\u003cbr\\u003ecount=%{y}\\u003cextra\\u003e\\u003c\\u002fextra\\u003e\",\"hovertext\":[\".travis.yml\"],\"legendgroup\":\"testing\",\"marker\":{\"color\":\"#EF553B\",\"pattern\":{\"shape\":\"\"}},\"name\":\"testing\",\"offsetgroup\":\"testing\",\"orientation\":\"v\",\"showlegend\":true,\"textposition\":\"auto\",\"x\":[\"testing\"],\"xaxis\":\"x\",\"y\":[1],\"yaxis\":\"y\",\"type\":\"bar\"},{\"alignmentgroup\":\"True\",\"hovertemplate\":\"\\u003cb\\u003e%{hovertext}\\u003c\\u002fb\\u003e\\u003cbr\\u003e\\u003cbr\\u003ereason=%{x}\\u003cbr\\u003ecount=%{y}\\u003cextra\\u003e\\u003c\\u002fextra\\u003e\",\"hovertext\":[\".goreleaser.yml\",\".travis.yml\",\"pipeline\\u002ffpm\\u002ffpm.go\"],\"legendgroup\":\"building\",\"marker\":{\"color\":\"#00cc96\",\"pattern\":{\"shape\":\"\"}},\"name\":\"building\",\"offsetgroup\":\"building\",\"orientation\":\"v\",\"showlegend\":true,\"textposition\":\"auto\",\"x\":[\"building\",\"building\",\"building\"],\"xaxis\":\"x\",\"y\":[1,1,1],\"yaxis\":\"y\",\"type\":\"bar\"},{\"alignmentgroup\":\"True\",\"hovertemplate\":\"\\u003cb\\u003e%{hovertext}\\u003c\\u002fb\\u003e\\u003cbr\\u003e\\u003cbr\\u003ereason=%{x}\\u003cbr\\u003ecount=%{y}\\u003cextra\\u003e\\u003c\\u002fextra\\u003e\",\"hovertext\":[\"pipeline\\u002ffpm\\u002ffpm.go\",\"config\\u002fconfig.go\",\"pipeline\\u002frelease\\u002frelease.go\",\"pipeline\\u002fbrew\\u002fbrew.go\"],\"legendgroup\":\"code\",\"marker\":{\"color\":\"#ab63fa\",\"pattern\":{\"shape\":\"\"}},\"name\":\"code\",\"offsetgroup\":\"code\",\"orientation\":\"v\",\"showlegend\":true,\"textposition\":\"auto\",\"x\":[\"code\",\"code\",\"code\",\"code\"],\"xaxis\":\"x\",\"y\":[2,1,2,1],\"yaxis\":\"y\",\"type\":\"bar\"},{\"alignmentgroup\":\"True\",\"hovertemplate\":\"\\u003cb\\u003e%{hovertext}\\u003c\\u002fb\\u003e\\u003cbr\\u003e\\u003cbr\\u003ereason=%{x}\\u003cbr\\u003ecount=%{y}\\u003cextra\\u003e\\u003c\\u002fextra\\u003e\",\"hovertext\":[\"README.md\",\"config\\u002fconfig.go\",\"context\\u002fcontext.go\",\"main.go\",\"pipeline\\u002fbuild\\u002fbuild.go\",\"pipeline\\u002frelease\\u002frelease.go\"],\"legendgroup\":\"allow\",\"marker\":{\"color\":\"#FFA15A\",\"pattern\":{\"shape\":\"\"}},\"name\":\"allow\",\"offsetgroup\":\"allow\",\"orientation\":\"v\",\"showlegend\":true,\"textposition\":\"auto\",\"x\":[\"allow\",\"allow\",\"allow\",\"allow\",\"allow\",\"allow\"],\"xaxis\":\"x\",\"y\":[1,3,1,2,2,1],\"yaxis\":\"y\",\"type\":\"bar\"},{\"alignmentgroup\":\"True\",\"hovertemplate\":\"\\u003cb\\u003e%{hovertext}\\u003c\\u002fb\\u003e\\u003cbr\\u003e\\u003cbr\\u003ereason=%{x}\\u003cbr\\u003ecount=%{y}\\u003cextra\\u003e\\u003c\\u002fextra\\u003e\",\"hovertext\":[\"README.md\"],\"legendgroup\":\"spaces\",\"marker\":{\"color\":\"#19d3f3\",\"pattern\":{\"shape\":\"\"}},\"name\":\"spaces\",\"offsetgroup\":\"spaces\",\"orientation\":\"v\",\"showlegend\":true,\"textposition\":\"auto\",\"x\":[\"spaces\"],\"xaxis\":\"x\",\"y\":[1],\"yaxis\":\"y\",\"type\":\"bar\"},{\"alignmentgroup\":\"True\",\"hovertemplate\":\"\\u003cb\\u003e%{hovertext}\\u003c\\u002fb\\u003e\\u003cbr\\u003e\\u003cbr\\u003ereason=%{x}\\u003cbr\\u003ecount=%{y}\\u003cextra\\u003e\\u003c\\u002fextra\\u003e\",\"hovertext\":[\"config\\u002fconfig.go\"],\"legendgroup\":\"Allow\",\"marker\":{\"color\":\"#FF6692\",\"pattern\":{\"shape\":\"\"}},\"name\":\"Allow\",\"offsetgroup\":\"Allow\",\"orientation\":\"v\",\"showlegend\":true,\"textposition\":\"auto\",\"x\":[\"Allow\"],\"xaxis\":\"x\",\"y\":[4],\"yaxis\":\"y\",\"type\":\"bar\"},{\"alignmentgroup\":\"True\",\"hovertemplate\":\"\\u003cb\\u003e%{hovertext}\\u003c\\u002fb\\u003e\\u003cbr\\u003e\\u003cbr\\u003ereason=%{x}\\u003cbr\\u003ecount=%{y}\\u003cextra\\u003e\\u003c\\u002fextra\\u003e\",\"hovertext\":[\"config\\u002fconfig.go\",\"pipeline\\u002fbuild\\u002fbuild.go\",\"context\\u002fcontext.go\",\"pipeline\\u002ffpm\\u002ffpm.go\",\"README.md\",\"pipeline\\u002fbrew\\u002fbrew.go\",\"pipeline\\u002fbrew\\u002fbrew_test.go\",\"pipeline\\u002frelease\\u002frelease.go\",\"main.go\"],\"legendgroup\":\"fixes\",\"marker\":{\"color\":\"#B6E880\",\"pattern\":{\"shape\":\"\"}},\"name\":\"fixes\",\"offsetgroup\":\"fixes\",\"orientation\":\"v\",\"showlegend\":true,\"textposition\":\"auto\",\"x\":[\"fixes\",\"fixes\",\"fixes\",\"fixes\",\"fixes\",\"fixes\",\"fixes\",\"fixes\",\"fixes\"],\"xaxis\":\"x\",\"y\":[4,2,1,1,2,2,2,1,1],\"yaxis\":\"y\",\"type\":\"bar\"},{\"alignmentgroup\":\"True\",\"hovertemplate\":\"\\u003cb\\u003e%{hovertext}\\u003c\\u002fb\\u003e\\u003cbr\\u003e\\u003cbr\\u003ereason=%{x}\\u003cbr\\u003ecount=%{y}\\u003cextra\\u003e\\u003c\\u002fextra\\u003e\",\"hovertext\":[\".travis.yml\"],\"legendgroup\":\"export\",\"marker\":{\"color\":\"#FF97FF\",\"pattern\":{\"shape\":\"\"}},\"name\":\"export\",\"offsetgroup\":\"export\",\"orientation\":\"v\",\"showlegend\":true,\"textposition\":\"auto\",\"x\":[\"export\"],\"xaxis\":\"x\",\"y\":[1],\"yaxis\":\"y\",\"type\":\"bar\"},{\"alignmentgroup\":\"True\",\"hovertemplate\":\"\\u003cb\\u003e%{hovertext}\\u003c\\u002fb\\u003e\\u003cbr\\u003e\\u003cbr\\u003ereason=%{x}\\u003cbr\\u003ecount=%{y}\\u003cextra\\u003e\\u003c\\u002fextra\\u003e\",\"hovertext\":[\".travis.yml\"],\"legendgroup\":\"install\",\"marker\":{\"color\":\"#FECB52\",\"pattern\":{\"shape\":\"\"}},\"name\":\"install\",\"offsetgroup\":\"install\",\"orientation\":\"v\",\"showlegend\":true,\"textposition\":\"auto\",\"x\":[\"install\"],\"xaxis\":\"x\",\"y\":[1],\"yaxis\":\"y\",\"type\":\"bar\"},{\"alignmentgroup\":\"True\",\"hovertemplate\":\"\\u003cb\\u003e%{hovertext}\\u003c\\u002fb\\u003e\\u003cbr\\u003e\\u003cbr\\u003ereason=%{x}\\u003cbr\\u003ecount=%{y}\\u003cextra\\u003e\\u003c\\u002fextra\\u003e\",\"hovertext\":[\"pipeline\\u002fbrew\\u002fbrew.go\",\"pipeline\\u002fbrew\\u002fbrew_test.go\",\"config\\u002fconfig.go\",\"main.go\",\"pipeline\\u002fdefaults\\u002fdefaults.go\",\"pipeline\\u002fbuild\\u002fbuild.go\"],\"legendgroup\":\"cleanup\",\"marker\":{\"color\":\"#636efa\",\"pattern\":{\"shape\":\"\"}},\"name\":\"cleanup\",\"offsetgroup\":\"cleanup\",\"orientation\":\"v\",\"showlegend\":true,\"textposition\":\"auto\",\"x\":[\"cleanup\",\"cleanup\",\"cleanup\",\"cleanup\",\"cleanup\",\"cleanup\"],\"xaxis\":\"x\",\"y\":[1,2,1,1,1,1],\"yaxis\":\"y\",\"type\":\"bar\"},{\"alignmentgroup\":\"True\",\"hovertemplate\":\"\\u003cb\\u003e%{hovertext}\\u003c\\u002fb\\u003e\\u003cbr\\u003e\\u003cbr\\u003ereason=%{x}\\u003cbr\\u003ecount=%{y}\\u003cextra\\u003e\\u003c\\u002fextra\\u003e\",\"hovertext\":[\".goreleaser.yml\",\".travis.yml\",\"main.go\"],\"legendgroup\":\"git\",\"marker\":{\"color\":\"#EF553B\",\"pattern\":{\"shape\":\"\"}},\"name\":\"git\",\"offsetgroup\":\"git\",\"orientation\":\"v\",\"showlegend\":true,\"textposition\":\"auto\",\"x\":[\"git\",\"git\",\"git\"],\"xaxis\":\"x\",\"y\":[1,1,1],\"yaxis\":\"y\",\"type\":\"bar\"},{\"alignmentgroup\":\"True\",\"hovertemplate\":\"\\u003cb\\u003e%{hovertext}\\u003c\\u002fb\\u003e\\u003cbr\\u003e\\u003cbr\\u003ereason=%{x}\\u003cbr\\u003ecount=%{y}\\u003cextra\\u003e\\u003c\\u002fextra\\u003e\",\"hovertext\":[\"pipeline\\u002fbrew\\u002fbrew.go\",\"pipeline\\u002fbrew\\u002fbrew_test.go\"],\"legendgroup\":\"template\",\"marker\":{\"color\":\"#00cc96\",\"pattern\":{\"shape\":\"\"}},\"name\":\"template\",\"offsetgroup\":\"template\",\"orientation\":\"v\",\"showlegend\":true,\"textposition\":\"auto\",\"x\":[\"template\",\"template\"],\"xaxis\":\"x\",\"y\":[2,1],\"yaxis\":\"y\",\"type\":\"bar\"},{\"alignmentgroup\":\"True\",\"hovertemplate\":\"\\u003cb\\u003e%{hovertext}\\u003c\\u002fb\\u003e\\u003cbr\\u003e\\u003cbr\\u003ereason=%{x}\\u003cbr\\u003ecount=%{y}\\u003cextra\\u003e\\u003c\\u002fextra\\u003e\",\"hovertext\":[\".goreleaser.yml\",\"README.md\",\"config\\u002fconfig.go\",\"pipeline\\u002fbrew\\u002fbrew.go\",\"pipeline\\u002fbrew\\u002fbrew_test.go\",\"pipeline\\u002fdefaults\\u002fdefaults.go\"],\"legendgroup\":\"homebrew\",\"marker\":{\"color\":\"#ab63fa\",\"pattern\":{\"shape\":\"\"}},\"name\":\"homebrew\",\"offsetgroup\":\"homebrew\",\"orientation\":\"v\",\"showlegend\":true,\"textposition\":\"auto\",\"x\":[\"homebrew\",\"homebrew\",\"homebrew\",\"homebrew\",\"homebrew\",\"homebrew\"],\"xaxis\":\"x\",\"y\":[1,2,2,4,3,1],\"yaxis\":\"y\",\"type\":\"bar\"},{\"alignmentgroup\":\"True\",\"hovertemplate\":\"\\u003cb\\u003e%{hovertext}\\u003c\\u002fb\\u003e\\u003cbr\\u003e\\u003cbr\\u003ereason=%{x}\\u003cbr\\u003ecount=%{y}\\u003cextra\\u003e\\u003c\\u002fextra\\u003e\",\"hovertext\":[\"main.go\"],\"legendgroup\":\"Fixes\",\"marker\":{\"color\":\"#FFA15A\",\"pattern\":{\"shape\":\"\"}},\"name\":\"Fixes\",\"offsetgroup\":\"Fixes\",\"orientation\":\"v\",\"showlegend\":true,\"textposition\":\"auto\",\"x\":[\"Fixes\"],\"xaxis\":\"x\",\"y\":[1],\"yaxis\":\"y\",\"type\":\"bar\"},{\"alignmentgroup\":\"True\",\"hovertemplate\":\"\\u003cb\\u003e%{hovertext}\\u003c\\u002fb\\u003e\\u003cbr\\u003e\\u003cbr\\u003ereason=%{x}\\u003cbr\\u003ecount=%{y}\\u003cextra\\u003e\\u003c\\u002fextra\\u003e\",\"hovertext\":[\"context\\u002fcontext.go\",\"pipeline\\u002fbrew\\u002fbrew_test.go\"],\"legendgroup\":\"coverage\",\"marker\":{\"color\":\"#19d3f3\",\"pattern\":{\"shape\":\"\"}},\"name\":\"coverage\",\"offsetgroup\":\"coverage\",\"orientation\":\"v\",\"showlegend\":true,\"textposition\":\"auto\",\"x\":[\"coverage\",\"coverage\"],\"xaxis\":\"x\",\"y\":[1,1],\"yaxis\":\"y\",\"type\":\"bar\"},{\"alignmentgroup\":\"True\",\"hovertemplate\":\"\\u003cb\\u003e%{hovertext}\\u003c\\u002fb\\u003e\\u003cbr\\u003e\\u003cbr\\u003ereason=%{x}\\u003cbr\\u003ecount=%{y}\\u003cextra\\u003e\\u003c\\u002fextra\\u003e\",\"hovertext\":[\"context\\u002fcontext.go\",\"pipeline\\u002fbrew\\u002fbrew.go\",\"pipeline\\u002ffpm\\u002ffpm.go\",\"config\\u002fconfig.go\",\"pipeline\\u002fbuild\\u002fbuild.go\",\"pipeline\\u002fdefaults\\u002fdefaults.go\",\"pipeline\\u002frelease\\u002frelease.go\",\"README.md\",\"pipeline\\u002fbrew\\u002fbrew_test.go\",\"main.go\"],\"legendgroup\":\"renamed\",\"marker\":{\"color\":\"#FF6692\",\"pattern\":{\"shape\":\"\"}},\"name\":\"renamed\",\"offsetgroup\":\"renamed\",\"orientation\":\"v\",\"showlegend\":true,\"textposition\":\"auto\",\"x\":[\"renamed\",\"renamed\",\"renamed\",\"renamed\",\"renamed\",\"renamed\",\"renamed\",\"renamed\",\"renamed\",\"renamed\"],\"xaxis\":\"x\",\"y\":[4,5,3,2,4,4,3,3,1,2],\"yaxis\":\"y\",\"type\":\"bar\"},{\"alignmentgroup\":\"True\",\"hovertemplate\":\"\\u003cb\\u003e%{hovertext}\\u003c\\u002fb\\u003e\\u003cbr\\u003e\\u003cbr\\u003ereason=%{x}\\u003cbr\\u003ecount=%{y}\\u003cextra\\u003e\\u003c\\u002fextra\\u003e\",\"hovertext\":[\"context\\u002fcontext.go\",\"pipeline\\u002fbrew\\u002fbrew.go\",\"pipeline\\u002fbuild\\u002fbuild.go\",\"pipeline\\u002ffpm\\u002ffpm.go\"],\"legendgroup\":\"multiple\",\"marker\":{\"color\":\"#B6E880\",\"pattern\":{\"shape\":\"\"}},\"name\":\"multiple\",\"offsetgroup\":\"multiple\",\"orientation\":\"v\",\"showlegend\":true,\"textposition\":\"auto\",\"x\":[\"multiple\",\"multiple\",\"multiple\",\"multiple\"],\"xaxis\":\"x\",\"y\":[1,1,1,1],\"yaxis\":\"y\",\"type\":\"bar\"},{\"alignmentgroup\":\"True\",\"hovertemplate\":\"\\u003cb\\u003e%{hovertext}\\u003c\\u002fb\\u003e\\u003cbr\\u003e\\u003cbr\\u003ereason=%{x}\\u003cbr\\u003ecount=%{y}\\u003cextra\\u003e\\u003c\\u002fextra\\u003e\",\"hovertext\":[\"pipeline\\u002fbuild\\u002fbuild.go\",\"internal\\u002fclient\\u002fgithub.go\",\"pipeline\\u002fbrew\\u002fbrew.go\",\"pipeline\\u002frelease\\u002frelease.go\",\".travis.yml\"],\"legendgroup\":\"moving\",\"marker\":{\"color\":\"#FF97FF\",\"pattern\":{\"shape\":\"\"}},\"name\":\"moving\",\"offsetgroup\":\"moving\",\"orientation\":\"v\",\"showlegend\":true,\"textposition\":\"auto\",\"x\":[\"moving\",\"moving\",\"moving\",\"moving\",\"moving\"],\"xaxis\":\"x\",\"y\":[1,1,1,1,1],\"yaxis\":\"y\",\"type\":\"bar\"},{\"alignmentgroup\":\"True\",\"hovertemplate\":\"\\u003cb\\u003e%{hovertext}\\u003c\\u002fb\\u003e\\u003cbr\\u003e\\u003cbr\\u003ereason=%{x}\\u003cbr\\u003ecount=%{y}\\u003cextra\\u003e\\u003c\\u002fextra\\u003e\",\"hovertext\":[\"config\\u002fconfig.go\"],\"legendgroup\":\"format\",\"marker\":{\"color\":\"#FECB52\",\"pattern\":{\"shape\":\"\"}},\"name\":\"format\",\"offsetgroup\":\"format\",\"orientation\":\"v\",\"showlegend\":true,\"textposition\":\"auto\",\"x\":[\"format\"],\"xaxis\":\"x\",\"y\":[1],\"yaxis\":\"y\",\"type\":\"bar\"},{\"alignmentgroup\":\"True\",\"hovertemplate\":\"\\u003cb\\u003e%{hovertext}\\u003c\\u002fb\\u003e\\u003cbr\\u003e\\u003cbr\\u003ereason=%{x}\\u003cbr\\u003ecount=%{y}\\u003cextra\\u003e\\u003c\\u002fextra\\u003e\",\"hovertext\":[\".goreleaser.yml\",\"config\\u002fconfig.go\",\"README.md\"],\"legendgroup\":\"breaking\",\"marker\":{\"color\":\"#636efa\",\"pattern\":{\"shape\":\"\"}},\"name\":\"breaking\",\"offsetgroup\":\"breaking\",\"orientation\":\"v\",\"showlegend\":true,\"textposition\":\"auto\",\"x\":[\"breaking\",\"breaking\",\"breaking\"],\"xaxis\":\"x\",\"y\":[1,1,1],\"yaxis\":\"y\",\"type\":\"bar\"},{\"alignmentgroup\":\"True\",\"hovertemplate\":\"\\u003cb\\u003e%{hovertext}\\u003c\\u002fb\\u003e\\u003cbr\\u003e\\u003cbr\\u003ereason=%{x}\\u003cbr\\u003ecount=%{y}\\u003cextra\\u003e\\u003c\\u002fextra\\u003e\",\"hovertext\":[\"README.md\",\".travis.yml\"],\"legendgroup\":\"Update\",\"marker\":{\"color\":\"#EF553B\",\"pattern\":{\"shape\":\"\"}},\"name\":\"Update\",\"offsetgroup\":\"Update\",\"orientation\":\"v\",\"showlegend\":true,\"textposition\":\"auto\",\"x\":[\"Update\",\"Update\"],\"xaxis\":\"x\",\"y\":[24,1],\"yaxis\":\"y\",\"type\":\"bar\"},{\"alignmentgroup\":\"True\",\"hovertemplate\":\"\\u003cb\\u003e%{hovertext}\\u003c\\u002fb\\u003e\\u003cbr\\u003e\\u003cbr\\u003ereason=%{x}\\u003cbr\\u003ecount=%{y}\\u003cextra\\u003e\\u003c\\u002fextra\\u003e\",\"hovertext\":[\"pipeline\\u002fbrew\\u002fbrew_test.go\",\"pipeline\\u002fbuild\\u002fbuild.go\",\".travis.yml\",\"config\\u002fconfig.go\"],\"legendgroup\":\"gometalinter\",\"marker\":{\"color\":\"#00cc96\",\"pattern\":{\"shape\":\"\"}},\"name\":\"gometalinter\",\"offsetgroup\":\"gometalinter\",\"orientation\":\"v\",\"showlegend\":true,\"textposition\":\"auto\",\"x\":[\"gometalinter\",\"gometalinter\",\"gometalinter\",\"gometalinter\"],\"xaxis\":\"x\",\"y\":[1,1,1,1],\"yaxis\":\"y\",\"type\":\"bar\"},{\"alignmentgroup\":\"True\",\"hovertemplate\":\"\\u003cb\\u003e%{hovertext}\\u003c\\u002fb\\u003e\\u003cbr\\u003e\\u003cbr\\u003ereason=%{x}\\u003cbr\\u003ecount=%{y}\\u003cextra\\u003e\\u003c\\u002fextra\\u003e\",\"hovertext\":[\"pipeline\\u002fbuild\\u002fbuild.go\"],\"legendgroup\":\"refactoring\",\"marker\":{\"color\":\"#ab63fa\",\"pattern\":{\"shape\":\"\"}},\"name\":\"refactoring\",\"offsetgroup\":\"refactoring\",\"orientation\":\"v\",\"showlegend\":true,\"textposition\":\"auto\",\"x\":[\"refactoring\"],\"xaxis\":\"x\",\"y\":[1],\"yaxis\":\"y\",\"type\":\"bar\"},{\"alignmentgroup\":\"True\",\"hovertemplate\":\"\\u003cb\\u003e%{hovertext}\\u003c\\u002fb\\u003e\\u003cbr\\u003e\\u003cbr\\u003ereason=%{x}\\u003cbr\\u003ecount=%{y}\\u003cextra\\u003e\\u003c\\u002fextra\\u003e\",\"hovertext\":[\".goreleaser.yml\",\"config\\u002fconfig.go\",\"main.go\"],\"legendgroup\":\"defaulting\",\"marker\":{\"color\":\"#FFA15A\",\"pattern\":{\"shape\":\"\"}},\"name\":\"defaulting\",\"offsetgroup\":\"defaulting\",\"orientation\":\"v\",\"showlegend\":true,\"textposition\":\"auto\",\"x\":[\"defaulting\",\"defaulting\",\"defaulting\"],\"xaxis\":\"x\",\"y\":[1,1,1],\"yaxis\":\"y\",\"type\":\"bar\"},{\"alignmentgroup\":\"True\",\"hovertemplate\":\"\\u003cb\\u003e%{hovertext}\\u003c\\u002fb\\u003e\\u003cbr\\u003e\\u003cbr\\u003ereason=%{x}\\u003cbr\\u003ecount=%{y}\\u003cextra\\u003e\\u003c\\u002fextra\\u003e\",\"hovertext\":[\"pipeline\\u002frelease\\u002frelease.go\"],\"legendgroup\":\"throttling\",\"marker\":{\"color\":\"#19d3f3\",\"pattern\":{\"shape\":\"\"}},\"name\":\"throttling\",\"offsetgroup\":\"throttling\",\"orientation\":\"v\",\"showlegend\":true,\"textposition\":\"auto\",\"x\":[\"throttling\"],\"xaxis\":\"x\",\"y\":[1],\"yaxis\":\"y\",\"type\":\"bar\"},{\"alignmentgroup\":\"True\",\"hovertemplate\":\"\\u003cb\\u003e%{hovertext}\\u003c\\u002fb\\u003e\\u003cbr\\u003e\\u003cbr\\u003ereason=%{x}\\u003cbr\\u003ecount=%{y}\\u003cextra\\u003e\\u003c\\u002fextra\\u003e\",\"hovertext\":[\"pipeline\\u002fbrew\\u002fbrew.go\",\"pipeline\\u002fbrew\\u002fbrew_test.go\",\"context\\u002fcontext.go\",\"pipeline\\u002fbuild\\u002fbuild.go\"],\"legendgroup\":\"archive\",\"marker\":{\"color\":\"#FF6692\",\"pattern\":{\"shape\":\"\"}},\"name\":\"archive\",\"offsetgroup\":\"archive\",\"orientation\":\"v\",\"showlegend\":true,\"textposition\":\"auto\",\"x\":[\"archive\",\"archive\",\"archive\",\"archive\"],\"xaxis\":\"x\",\"y\":[1,1,1,1],\"yaxis\":\"y\",\"type\":\"bar\"},{\"alignmentgroup\":\"True\",\"hovertemplate\":\"\\u003cb\\u003e%{hovertext}\\u003c\\u002fb\\u003e\\u003cbr\\u003e\\u003cbr\\u003ereason=%{x}\\u003cbr\\u003ecount=%{y}\\u003cextra\\u003e\\u003c\\u002fextra\\u003e\",\"hovertext\":[\"README.md\",\"config\\u002fconfig.go\",\"internal\\u002fclient\\u002fgithub.go\",\"pipeline\\u002fbrew\\u002fbrew.go\",\"pipeline\\u002fdefaults\\u002fdefaults.go\",\"pipeline\\u002ffpm\\u002ffpm.go\"],\"legendgroup\":\"project\",\"marker\":{\"color\":\"#B6E880\",\"pattern\":{\"shape\":\"\"}},\"name\":\"project\",\"offsetgroup\":\"project\",\"orientation\":\"v\",\"showlegend\":true,\"textposition\":\"auto\",\"x\":[\"project\",\"project\",\"project\",\"project\",\"project\",\"project\"],\"xaxis\":\"x\",\"y\":[1,1,1,1,1,1],\"yaxis\":\"y\",\"type\":\"bar\"},{\"alignmentgroup\":\"True\",\"hovertemplate\":\"\\u003cb\\u003e%{hovertext}\\u003c\\u002fb\\u003e\\u003cbr\\u003e\\u003cbr\\u003ereason=%{x}\\u003cbr\\u003ecount=%{y}\\u003cextra\\u003e\\u003c\\u002fextra\\u003e\",\"hovertext\":[\"pipeline\\u002fdefaults\\u002fdefaults.go\",\"context\\u002fcontext.go\",\"pipeline\\u002fbuild\\u002fbuild.go\"],\"legendgroup\":\"cleaning\",\"marker\":{\"color\":\"#FF97FF\",\"pattern\":{\"shape\":\"\"}},\"name\":\"cleaning\",\"offsetgroup\":\"cleaning\",\"orientation\":\"v\",\"showlegend\":true,\"textposition\":\"auto\",\"x\":[\"cleaning\",\"cleaning\",\"cleaning\"],\"xaxis\":\"x\",\"y\":[1,1,1],\"yaxis\":\"y\",\"type\":\"bar\"},{\"alignmentgroup\":\"True\",\"hovertemplate\":\"\\u003cb\\u003e%{hovertext}\\u003c\\u002fb\\u003e\\u003cbr\\u003e\\u003cbr\\u003ereason=%{x}\\u003cbr\\u003ecount=%{y}\\u003cextra\\u003e\\u003c\\u002fextra\\u003e\",\"hovertext\":[\"config\\u002fconfig.go\",\"pipeline\\u002fdefaults\\u002fdefaults.go\",\"README.md\",\"pipeline\\u002fbuild\\u002fbuild.go\",\"pipeline\\u002fbrew\\u002fbrew_test.go\",\"context\\u002fcontext.go\",\"main.go\",\"pipeline\\u002frelease\\u002frelease.go\",\".travis.yml\",\"pipeline\\u002ffpm\\u002ffpm.go\",\"pipeline\\u002fbrew\\u002fbrew.go\"],\"legendgroup\":\"added\",\"marker\":{\"color\":\"#FECB52\",\"pattern\":{\"shape\":\"\"}},\"name\":\"added\",\"offsetgroup\":\"added\",\"orientation\":\"v\",\"showlegend\":true,\"textposition\":\"auto\",\"x\":[\"added\",\"added\",\"added\",\"added\",\"added\",\"added\",\"added\",\"added\",\"added\",\"added\",\"added\"],\"xaxis\":\"x\",\"y\":[9,4,8,3,2,2,4,3,2,2,3],\"yaxis\":\"y\",\"type\":\"bar\"},{\"alignmentgroup\":\"True\",\"hovertemplate\":\"\\u003cb\\u003e%{hovertext}\\u003c\\u002fb\\u003e\\u003cbr\\u003e\\u003cbr\\u003ereason=%{x}\\u003cbr\\u003ecount=%{y}\\u003cextra\\u003e\\u003c\\u002fextra\\u003e\",\"hovertext\":[\"pipeline\\u002fdefaults\\u002fdefaults.go\"],\"legendgroup\":\"defaults\",\"marker\":{\"color\":\"#636efa\",\"pattern\":{\"shape\":\"\"}},\"name\":\"defaults\",\"offsetgroup\":\"defaults\",\"orientation\":\"v\",\"showlegend\":true,\"textposition\":\"auto\",\"x\":[\"defaults\"],\"xaxis\":\"x\",\"y\":[2],\"yaxis\":\"y\",\"type\":\"bar\"},{\"alignmentgroup\":\"True\",\"hovertemplate\":\"\\u003cb\\u003e%{hovertext}\\u003c\\u002fb\\u003e\\u003cbr\\u003e\\u003cbr\\u003ereason=%{x}\\u003cbr\\u003ecount=%{y}\\u003cextra\\u003e\\u003c\\u002fextra\\u003e\",\"hovertext\":[\"pipeline\\u002fbrew\\u002fbrew.go\",\"pipeline\\u002fbrew\\u002fbrew_test.go\",\"main.go\"],\"legendgroup\":\"brew\",\"marker\":{\"color\":\"#EF553B\",\"pattern\":{\"shape\":\"\"}},\"name\":\"brew\",\"offsetgroup\":\"brew\",\"orientation\":\"v\",\"showlegend\":true,\"textposition\":\"auto\",\"x\":[\"brew\",\"brew\",\"brew\"],\"xaxis\":\"x\",\"y\":[2,2,1],\"yaxis\":\"y\",\"type\":\"bar\"},{\"alignmentgroup\":\"True\",\"hovertemplate\":\"\\u003cb\\u003e%{hovertext}\\u003c\\u002fb\\u003e\\u003cbr\\u003e\\u003cbr\\u003ereason=%{x}\\u003cbr\\u003ecount=%{y}\\u003cextra\\u003e\\u003c\\u002fextra\\u003e\",\"hovertext\":[\"pipeline\\u002ffpm\\u002ffpm.go\"],\"legendgroup\":\"fpm\",\"marker\":{\"color\":\"#00cc96\",\"pattern\":{\"shape\":\"\"}},\"name\":\"fpm\",\"offsetgroup\":\"fpm\",\"orientation\":\"v\",\"showlegend\":true,\"textposition\":\"auto\",\"x\":[\"fpm\"],\"xaxis\":\"x\",\"y\":[1],\"yaxis\":\"y\",\"type\":\"bar\"},{\"alignmentgroup\":\"True\",\"hovertemplate\":\"\\u003cb\\u003e%{hovertext}\\u003c\\u002fb\\u003e\\u003cbr\\u003e\\u003cbr\\u003ereason=%{x}\\u003cbr\\u003ecount=%{y}\\u003cextra\\u003e\\u003c\\u002fextra\\u003e\",\"hovertext\":[\"pipeline\\u002fbrew\\u002fbrew.go\",\"pipeline\\u002fbuild\\u002fbuild.go\",\"pipeline\\u002ffpm\\u002ffpm.go\"],\"legendgroup\":\"logs\",\"marker\":{\"color\":\"#ab63fa\",\"pattern\":{\"shape\":\"\"}},\"name\":\"logs\",\"offsetgroup\":\"logs\",\"orientation\":\"v\",\"showlegend\":true,\"textposition\":\"auto\",\"x\":[\"logs\",\"logs\",\"logs\"],\"xaxis\":\"x\",\"y\":[1,1,1],\"yaxis\":\"y\",\"type\":\"bar\"},{\"alignmentgroup\":\"True\",\"hovertemplate\":\"\\u003cb\\u003e%{hovertext}\\u003c\\u002fb\\u003e\\u003cbr\\u003e\\u003cbr\\u003ereason=%{x}\\u003cbr\\u003ecount=%{y}\\u003cextra\\u003e\\u003c\\u002fextra\\u003e\",\"hovertext\":[\"main.go\",\"pipeline\\u002fbrew\\u002fbrew.go\",\"pipeline\\u002fbuild\\u002fbuild.go\",\"pipeline\\u002frelease\\u002frelease.go\"],\"legendgroup\":\"debug,\",\"marker\":{\"color\":\"#FFA15A\",\"pattern\":{\"shape\":\"\"}},\"name\":\"debug,\",\"offsetgroup\":\"debug,\",\"orientation\":\"v\",\"showlegend\":true,\"textposition\":\"auto\",\"x\":[\"debug,\",\"debug,\",\"debug,\",\"debug,\"],\"xaxis\":\"x\",\"y\":[2,2,2,2],\"yaxis\":\"y\",\"type\":\"bar\"},{\"alignmentgroup\":\"True\",\"hovertemplate\":\"\\u003cb\\u003e%{hovertext}\\u003c\\u002fb\\u003e\\u003cbr\\u003e\\u003cbr\\u003ereason=%{x}\\u003cbr\\u003ecount=%{y}\\u003cextra\\u003e\\u003c\\u002fextra\\u003e\",\"hovertext\":[\"context\\u002fcontext.go\",\"internal\\u002fclient\\u002fgithub.go\",\"main.go\",\"pipeline\\u002fbrew\\u002fbrew.go\",\"pipeline\\u002fbuild\\u002fbuild.go\",\"pipeline\\u002ffpm\\u002ffpm.go\",\"pipeline\\u002frelease\\u002frelease.go\"],\"legendgroup\":\"apex\",\"marker\":{\"color\":\"#19d3f3\",\"pattern\":{\"shape\":\"\"}},\"name\":\"apex\",\"offsetgroup\":\"apex\",\"orientation\":\"v\",\"showlegend\":true,\"textposition\":\"auto\",\"x\":[\"apex\",\"apex\",\"apex\",\"apex\",\"apex\",\"apex\",\"apex\"],\"xaxis\":\"x\",\"y\":[2,2,2,2,2,2,2],\"yaxis\":\"y\",\"type\":\"bar\"},{\"alignmentgroup\":\"True\",\"hovertemplate\":\"\\u003cb\\u003e%{hovertext}\\u003c\\u002fb\\u003e\\u003cbr\\u003e\\u003cbr\\u003ereason=%{x}\\u003cbr\\u003ecount=%{y}\\u003cextra\\u003e\\u003c\\u002fextra\\u003e\",\"hovertext\":[\"README.md\",\"config\\u002fconfig.go\",\"pipeline\\u002fbrew\\u002fbrew.go\",\"pipeline\\u002fdefaults\\u002fdefaults.go\",\".travis.yml\",\"pipeline\\u002frelease\\u002frelease.go\",\"pipeline\\u002fbuild\\u002fbuild.go\",\"main.go\",\"context\\u002fcontext.go\"],\"legendgroup\":\"removed\",\"marker\":{\"color\":\"#FF6692\",\"pattern\":{\"shape\":\"\"}},\"name\":\"removed\",\"offsetgroup\":\"removed\",\"orientation\":\"v\",\"showlegend\":true,\"textposition\":\"auto\",\"x\":[\"removed\",\"removed\",\"removed\",\"removed\",\"removed\",\"removed\",\"removed\",\"removed\",\"removed\"],\"xaxis\":\"x\",\"y\":[1,1,2,1,2,3,1,1,1],\"yaxis\":\"y\",\"type\":\"bar\"},{\"alignmentgroup\":\"True\",\"hovertemplate\":\"\\u003cb\\u003e%{hovertext}\\u003c\\u002fb\\u003e\\u003cbr\\u003e\\u003cbr\\u003ereason=%{x}\\u003cbr\\u003ecount=%{y}\\u003cextra\\u003e\\u003c\\u002fextra\\u003e\",\"hovertext\":[\"pipeline\\u002fbrew\\u002fbrew_test.go\"],\"legendgroup\":\"Improve\",\"marker\":{\"color\":\"#B6E880\",\"pattern\":{\"shape\":\"\"}},\"name\":\"Improve\",\"offsetgroup\":\"Improve\",\"orientation\":\"v\",\"showlegend\":true,\"textposition\":\"auto\",\"x\":[\"Improve\"],\"xaxis\":\"x\",\"y\":[1],\"yaxis\":\"y\",\"type\":\"bar\"},{\"alignmentgroup\":\"True\",\"hovertemplate\":\"\\u003cb\\u003e%{hovertext}\\u003c\\u002fb\\u003e\\u003cbr\\u003e\\u003cbr\\u003ereason=%{x}\\u003cbr\\u003ecount=%{y}\\u003cextra\\u003e\\u003c\\u002fextra\\u003e\",\"hovertext\":[\"README.md\"],\"legendgroup\":\"typo,\",\"marker\":{\"color\":\"#FF97FF\",\"pattern\":{\"shape\":\"\"}},\"name\":\"typo,\",\"offsetgroup\":\"typo,\",\"orientation\":\"v\",\"showlegend\":true,\"textposition\":\"auto\",\"x\":[\"typo,\"],\"xaxis\":\"x\",\"y\":[1],\"yaxis\":\"y\",\"type\":\"bar\"},{\"alignmentgroup\":\"True\",\"hovertemplate\":\"\\u003cb\\u003e%{hovertext}\\u003c\\u002fb\\u003e\\u003cbr\\u003e\\u003cbr\\u003ereason=%{x}\\u003cbr\\u003ecount=%{y}\\u003cextra\\u003e\\u003c\\u002fextra\\u003e\",\"hovertext\":[\"pipeline\\u002fbuild\\u002fbuild.go\"],\"legendgroup\":\"Clearify\",\"marker\":{\"color\":\"#FECB52\",\"pattern\":{\"shape\":\"\"}},\"name\":\"Clearify\",\"offsetgroup\":\"Clearify\",\"orientation\":\"v\",\"showlegend\":true,\"textposition\":\"auto\",\"x\":[\"Clearify\"],\"xaxis\":\"x\",\"y\":[1],\"yaxis\":\"y\",\"type\":\"bar\"},{\"alignmentgroup\":\"True\",\"hovertemplate\":\"\\u003cb\\u003e%{hovertext}\\u003c\\u002fb\\u003e\\u003cbr\\u003e\\u003cbr\\u003ereason=%{x}\\u003cbr\\u003ecount=%{y}\\u003cextra\\u003e\\u003c\\u002fextra\\u003e\",\"hovertext\":[\"README.md\"],\"legendgroup\":\"Mention\",\"marker\":{\"color\":\"#636efa\",\"pattern\":{\"shape\":\"\"}},\"name\":\"Mention\",\"offsetgroup\":\"Mention\",\"orientation\":\"v\",\"showlegend\":true,\"textposition\":\"auto\",\"x\":[\"Mention\"],\"xaxis\":\"x\",\"y\":[3],\"yaxis\":\"y\",\"type\":\"bar\"},{\"alignmentgroup\":\"True\",\"hovertemplate\":\"\\u003cb\\u003e%{hovertext}\\u003c\\u002fb\\u003e\\u003cbr\\u003e\\u003cbr\\u003ereason=%{x}\\u003cbr\\u003ecount=%{y}\\u003cextra\\u003e\\u003c\\u002fextra\\u003e\",\"hovertext\":[\"pipeline\\u002fdefaults\\u002fdefaults.go\"],\"legendgroup\":\"deleting\",\"marker\":{\"color\":\"#EF553B\",\"pattern\":{\"shape\":\"\"}},\"name\":\"deleting\",\"offsetgroup\":\"deleting\",\"orientation\":\"v\",\"showlegend\":true,\"textposition\":\"auto\",\"x\":[\"deleting\"],\"xaxis\":\"x\",\"y\":[1],\"yaxis\":\"y\",\"type\":\"bar\"},{\"alignmentgroup\":\"True\",\"hovertemplate\":\"\\u003cb\\u003e%{hovertext}\\u003c\\u002fb\\u003e\\u003cbr\\u003e\\u003cbr\\u003ereason=%{x}\\u003cbr\\u003ecount=%{y}\\u003cextra\\u003e\\u003c\\u002fextra\\u003e\",\"hovertext\":[\"config\\u002fconfig.go\",\"pipeline\\u002fbuild\\u002fbuild.go\",\"pipeline\\u002frelease\\u002frelease.go\"],\"legendgroup\":\"imports\",\"marker\":{\"color\":\"#00cc96\",\"pattern\":{\"shape\":\"\"}},\"name\":\"imports\",\"offsetgroup\":\"imports\",\"orientation\":\"v\",\"showlegend\":true,\"textposition\":\"auto\",\"x\":[\"imports\",\"imports\",\"imports\"],\"xaxis\":\"x\",\"y\":[1,1,1],\"yaxis\":\"y\",\"type\":\"bar\"},{\"alignmentgroup\":\"True\",\"hovertemplate\":\"\\u003cb\\u003e%{hovertext}\\u003c\\u002fb\\u003e\\u003cbr\\u003e\\u003cbr\\u003ereason=%{x}\\u003cbr\\u003ecount=%{y}\\u003cextra\\u003e\\u003c\\u002fextra\\u003e\",\"hovertext\":[\"pipeline\\u002fbuild\\u002fbuild.go\"],\"legendgroup\":\"reorder\",\"marker\":{\"color\":\"#ab63fa\",\"pattern\":{\"shape\":\"\"}},\"name\":\"reorder\",\"offsetgroup\":\"reorder\",\"orientation\":\"v\",\"showlegend\":true,\"textposition\":\"auto\",\"x\":[\"reorder\"],\"xaxis\":\"x\",\"y\":[1],\"yaxis\":\"y\",\"type\":\"bar\"},{\"alignmentgroup\":\"True\",\"hovertemplate\":\"\\u003cb\\u003e%{hovertext}\\u003c\\u002fb\\u003e\\u003cbr\\u003e\\u003cbr\\u003ereason=%{x}\\u003cbr\\u003ecount=%{y}\\u003cextra\\u003e\\u003c\\u002fextra\\u003e\",\"hovertext\":[\"README.md\",\"config\\u002fconfig.go\",\"pipeline\\u002fbuild\\u002fbuild.go\"],\"legendgroup\":\"custom\",\"marker\":{\"color\":\"#FFA15A\",\"pattern\":{\"shape\":\"\"}},\"name\":\"custom\",\"offsetgroup\":\"custom\",\"orientation\":\"v\",\"showlegend\":true,\"textposition\":\"auto\",\"x\":[\"custom\",\"custom\",\"custom\"],\"xaxis\":\"x\",\"y\":[1,1,1],\"yaxis\":\"y\",\"type\":\"bar\"},{\"alignmentgroup\":\"True\",\"hovertemplate\":\"\\u003cb\\u003e%{hovertext}\\u003c\\u002fb\\u003e\\u003cbr\\u003e\\u003cbr\\u003ereason=%{x}\\u003cbr\\u003ecount=%{y}\\u003cextra\\u003e\\u003c\\u002fextra\\u003e\",\"hovertext\":[\"config\\u002fconfig.go\"],\"legendgroup\":\"gofmt,\",\"marker\":{\"color\":\"#19d3f3\",\"pattern\":{\"shape\":\"\"}},\"name\":\"gofmt,\",\"offsetgroup\":\"gofmt,\",\"orientation\":\"v\",\"showlegend\":true,\"textposition\":\"auto\",\"x\":[\"gofmt,\"],\"xaxis\":\"x\",\"y\":[1],\"yaxis\":\"y\",\"type\":\"bar\"},{\"alignmentgroup\":\"True\",\"hovertemplate\":\"\\u003cb\\u003e%{hovertext}\\u003c\\u002fb\\u003e\\u003cbr\\u003e\\u003cbr\\u003ereason=%{x}\\u003cbr\\u003ecount=%{y}\\u003cextra\\u003e\\u003c\\u002fextra\\u003e\",\"hovertext\":[\"pipeline\\u002fbuild\\u002fbuild.go\"],\"legendgroup\":\"detailed\",\"marker\":{\"color\":\"#FF6692\",\"pattern\":{\"shape\":\"\"}},\"name\":\"detailed\",\"offsetgroup\":\"detailed\",\"orientation\":\"v\",\"showlegend\":true,\"textposition\":\"auto\",\"x\":[\"detailed\"],\"xaxis\":\"x\",\"y\":[1],\"yaxis\":\"y\",\"type\":\"bar\"},{\"alignmentgroup\":\"True\",\"hovertemplate\":\"\\u003cb\\u003e%{hovertext}\\u003c\\u002fb\\u003e\\u003cbr\\u003e\\u003cbr\\u003ereason=%{x}\\u003cbr\\u003ecount=%{y}\\u003cextra\\u003e\\u003c\\u002fextra\\u003e\",\"hovertext\":[\"README.md\"],\"legendgroup\":\"updated\",\"marker\":{\"color\":\"#B6E880\",\"pattern\":{\"shape\":\"\"}},\"name\":\"updated\",\"offsetgroup\":\"updated\",\"orientation\":\"v\",\"showlegend\":true,\"textposition\":\"auto\",\"x\":[\"updated\"],\"xaxis\":\"x\",\"y\":[1],\"yaxis\":\"y\",\"type\":\"bar\"},{\"alignmentgroup\":\"True\",\"hovertemplate\":\"\\u003cb\\u003e%{hovertext}\\u003c\\u002fb\\u003e\\u003cbr\\u003e\\u003cbr\\u003ereason=%{x}\\u003cbr\\u003ecount=%{y}\\u003cextra\\u003e\\u003c\\u002fextra\\u003e\",\"hovertext\":[\"config\\u002fconfig.go\",\"pipeline\\u002fbrew\\u002fbrew.go\",\"pipeline\\u002fbrew\\u002fbrew_test.go\",\".travis.yml\",\"main.go\",\"pipeline\\u002frelease\\u002frelease.go\"],\"legendgroup\":\"gofmt\",\"marker\":{\"color\":\"#FF97FF\",\"pattern\":{\"shape\":\"\"}},\"name\":\"gofmt\",\"offsetgroup\":\"gofmt\",\"orientation\":\"v\",\"showlegend\":true,\"textposition\":\"auto\",\"x\":[\"gofmt\",\"gofmt\",\"gofmt\",\"gofmt\",\"gofmt\",\"gofmt\"],\"xaxis\":\"x\",\"y\":[1,1,1,1,1,1],\"yaxis\":\"y\",\"type\":\"bar\"},{\"alignmentgroup\":\"True\",\"hovertemplate\":\"\\u003cb\\u003e%{hovertext}\\u003c\\u002fb\\u003e\\u003cbr\\u003e\\u003cbr\\u003ereason=%{x}\\u003cbr\\u003ecount=%{y}\\u003cextra\\u003e\\u003c\\u002fextra\\u003e\",\"hovertext\":[\"README.md\",\"pipeline\\u002fbrew\\u002fbrew.go\",\"pipeline\\u002fbrew\\u002fbrew_test.go\"],\"legendgroup\":\"simplify\",\"marker\":{\"color\":\"#FECB52\",\"pattern\":{\"shape\":\"\"}},\"name\":\"simplify\",\"offsetgroup\":\"simplify\",\"orientation\":\"v\",\"showlegend\":true,\"textposition\":\"auto\",\"x\":[\"simplify\",\"simplify\",\"simplify\"],\"xaxis\":\"x\",\"y\":[1,1,1],\"yaxis\":\"y\",\"type\":\"bar\"},{\"alignmentgroup\":\"True\",\"hovertemplate\":\"\\u003cb\\u003e%{hovertext}\\u003c\\u002fb\\u003e\\u003cbr\\u003e\\u003cbr\\u003ereason=%{x}\\u003cbr\\u003ecount=%{y}\\u003cextra\\u003e\\u003c\\u002fextra\\u003e\",\"hovertext\":[\"README.md\",\"pipeline\\u002fbuild\\u002fbuild.go\"],\"legendgroup\":\"improving\",\"marker\":{\"color\":\"#636efa\",\"pattern\":{\"shape\":\"\"}},\"name\":\"improving\",\"offsetgroup\":\"improving\",\"orientation\":\"v\",\"showlegend\":true,\"textposition\":\"auto\",\"x\":[\"improving\",\"improving\"],\"xaxis\":\"x\",\"y\":[2,1],\"yaxis\":\"y\",\"type\":\"bar\"},{\"alignmentgroup\":\"True\",\"hovertemplate\":\"\\u003cb\\u003e%{hovertext}\\u003c\\u002fb\\u003e\\u003cbr\\u003e\\u003cbr\\u003ereason=%{x}\\u003cbr\\u003ecount=%{y}\\u003cextra\\u003e\\u003c\\u002fextra\\u003e\",\"hovertext\":[\".travis.yml\",\"README.md\",\"config\\u002fconfig.go\"],\"legendgroup\":\"go\",\"marker\":{\"color\":\"#EF553B\",\"pattern\":{\"shape\":\"\"}},\"name\":\"go\",\"offsetgroup\":\"go\",\"orientation\":\"v\",\"showlegend\":true,\"textposition\":\"auto\",\"x\":[\"go\",\"go\",\"go\"],\"xaxis\":\"x\",\"y\":[2,2,1],\"yaxis\":\"y\",\"type\":\"bar\"},{\"alignmentgroup\":\"True\",\"hovertemplate\":\"\\u003cb\\u003e%{hovertext}\\u003c\\u002fb\\u003e\\u003cbr\\u003e\\u003cbr\\u003ereason=%{x}\\u003cbr\\u003ecount=%{y}\\u003cextra\\u003e\\u003c\\u002fextra\\u003e\",\"hovertext\":[\"config\\u002fconfig.go\",\"pipeline\\u002fbuild\\u002fbuild.go\"],\"legendgroup\":\"cleaner\",\"marker\":{\"color\":\"#00cc96\",\"pattern\":{\"shape\":\"\"}},\"name\":\"cleaner\",\"offsetgroup\":\"cleaner\",\"orientation\":\"v\",\"showlegend\":true,\"textposition\":\"auto\",\"x\":[\"cleaner\",\"cleaner\"],\"xaxis\":\"x\",\"y\":[1,1],\"yaxis\":\"y\",\"type\":\"bar\"},{\"alignmentgroup\":\"True\",\"hovertemplate\":\"\\u003cb\\u003e%{hovertext}\\u003c\\u002fb\\u003e\\u003cbr\\u003e\\u003cbr\\u003ereason=%{x}\\u003cbr\\u003ecount=%{y}\\u003cextra\\u003e\\u003c\\u002fextra\\u003e\",\"hovertext\":[\"main.go\"],\"legendgroup\":\"Incorporate\",\"marker\":{\"color\":\"#ab63fa\",\"pattern\":{\"shape\":\"\"}},\"name\":\"Incorporate\",\"offsetgroup\":\"Incorporate\",\"orientation\":\"v\",\"showlegend\":true,\"textposition\":\"auto\",\"x\":[\"Incorporate\"],\"xaxis\":\"x\",\"y\":[1],\"yaxis\":\"y\",\"type\":\"bar\"},{\"alignmentgroup\":\"True\",\"hovertemplate\":\"\\u003cb\\u003e%{hovertext}\\u003c\\u002fb\\u003e\\u003cbr\\u003e\\u003cbr\\u003ereason=%{x}\\u003cbr\\u003ecount=%{y}\\u003cextra\\u003e\\u003c\\u002fextra\\u003e\",\"hovertext\":[\"config\\u002fconfig.go\",\"main.go\"],\"legendgroup\":\"Run\",\"marker\":{\"color\":\"#FFA15A\",\"pattern\":{\"shape\":\"\"}},\"name\":\"Run\",\"offsetgroup\":\"Run\",\"orientation\":\"v\",\"showlegend\":true,\"textposition\":\"auto\",\"x\":[\"Run\",\"Run\"],\"xaxis\":\"x\",\"y\":[1,1],\"yaxis\":\"y\",\"type\":\"bar\"},{\"alignmentgroup\":\"True\",\"hovertemplate\":\"\\u003cb\\u003e%{hovertext}\\u003c\\u002fb\\u003e\\u003cbr\\u003e\\u003cbr\\u003ereason=%{x}\\u003cbr\\u003ecount=%{y}\\u003cextra\\u003e\\u003c\\u002fextra\\u003e\",\"hovertext\":[\"config\\u002fconfig.go\",\"main.go\"],\"legendgroup\":\"Draft\",\"marker\":{\"color\":\"#19d3f3\",\"pattern\":{\"shape\":\"\"}},\"name\":\"Draft\",\"offsetgroup\":\"Draft\",\"orientation\":\"v\",\"showlegend\":true,\"textposition\":\"auto\",\"x\":[\"Draft\",\"Draft\"],\"xaxis\":\"x\",\"y\":[1,1],\"yaxis\":\"y\",\"type\":\"bar\"},{\"alignmentgroup\":\"True\",\"hovertemplate\":\"\\u003cb\\u003e%{hovertext}\\u003c\\u002fb\\u003e\\u003cbr\\u003e\\u003cbr\\u003ereason=%{x}\\u003cbr\\u003ecount=%{y}\\u003cextra\\u003e\\u003c\\u002fextra\\u003e\",\"hovertext\":[\"README.md\"],\"legendgroup\":\"broken\",\"marker\":{\"color\":\"#FF6692\",\"pattern\":{\"shape\":\"\"}},\"name\":\"broken\",\"offsetgroup\":\"broken\",\"orientation\":\"v\",\"showlegend\":true,\"textposition\":\"auto\",\"x\":[\"broken\"],\"xaxis\":\"x\",\"y\":[1],\"yaxis\":\"y\",\"type\":\"bar\"},{\"alignmentgroup\":\"True\",\"hovertemplate\":\"\\u003cb\\u003e%{hovertext}\\u003c\\u002fb\\u003e\\u003cbr\\u003e\\u003cbr\\u003ereason=%{x}\\u003cbr\\u003ecount=%{y}\\u003cextra\\u003e\\u003c\\u002fextra\\u003e\",\"hovertext\":[\"README.md\"],\"legendgroup\":\"h3\",\"marker\":{\"color\":\"#B6E880\",\"pattern\":{\"shape\":\"\"}},\"name\":\"h3\",\"offsetgroup\":\"h3\",\"orientation\":\"v\",\"showlegend\":true,\"textposition\":\"auto\",\"x\":[\"h3\"],\"xaxis\":\"x\",\"y\":[1],\"yaxis\":\"y\",\"type\":\"bar\"},{\"alignmentgroup\":\"True\",\"hovertemplate\":\"\\u003cb\\u003e%{hovertext}\\u003c\\u002fb\\u003e\\u003cbr\\u003e\\u003cbr\\u003ereason=%{x}\\u003cbr\\u003ecount=%{y}\\u003cextra\\u003e\\u003c\\u002fextra\\u003e\",\"hovertext\":[\"README.md\"],\"legendgroup\":\"a\",\"marker\":{\"color\":\"#FF97FF\",\"pattern\":{\"shape\":\"\"}},\"name\":\"a\",\"offsetgroup\":\"a\",\"orientation\":\"v\",\"showlegend\":true,\"textposition\":\"auto\",\"x\":[\"a\"],\"xaxis\":\"x\",\"y\":[1],\"yaxis\":\"y\",\"type\":\"bar\"},{\"alignmentgroup\":\"True\",\"hovertemplate\":\"\\u003cb\\u003e%{hovertext}\\u003c\\u002fb\\u003e\\u003cbr\\u003e\\u003cbr\\u003ereason=%{x}\\u003cbr\\u003ecount=%{y}\\u003cextra\\u003e\\u003c\\u002fextra\\u003e\",\"hovertext\":[\".travis.yml\",\"main.go\",\"README.md\",\"config\\u002fconfig.go\",\"pipeline\\u002fbrew\\u002fbrew.go\",\"pipeline\\u002fbrew\\u002fbrew_test.go\",\"pipeline\\u002ffpm\\u002ffpm.go\"],\"legendgroup\":\"make\",\"marker\":{\"color\":\"#FECB52\",\"pattern\":{\"shape\":\"\"}},\"name\":\"make\",\"offsetgroup\":\"make\",\"orientation\":\"v\",\"showlegend\":true,\"textposition\":\"auto\",\"x\":[\"make\",\"make\",\"make\",\"make\",\"make\",\"make\",\"make\"],\"xaxis\":\"x\",\"y\":[1,1,1,1,1,1,1],\"yaxis\":\"y\",\"type\":\"bar\"},{\"alignmentgroup\":\"True\",\"hovertemplate\":\"\\u003cb\\u003e%{hovertext}\\u003c\\u002fb\\u003e\\u003cbr\\u003e\\u003cbr\\u003ereason=%{x}\\u003cbr\\u003ecount=%{y}\\u003cextra\\u003e\\u003c\\u002fextra\\u003e\",\"hovertext\":[\"README.md\"],\"legendgroup\":\"badge\",\"marker\":{\"color\":\"#636efa\",\"pattern\":{\"shape\":\"\"}},\"name\":\"badge\",\"offsetgroup\":\"badge\",\"orientation\":\"v\",\"showlegend\":true,\"textposition\":\"auto\",\"x\":[\"badge\"],\"xaxis\":\"x\",\"y\":[1],\"yaxis\":\"y\",\"type\":\"bar\"},{\"alignmentgroup\":\"True\",\"hovertemplate\":\"\\u003cb\\u003e%{hovertext}\\u003c\\u002fb\\u003e\\u003cbr\\u003e\\u003cbr\\u003ereason=%{x}\\u003cbr\\u003ecount=%{y}\\u003cextra\\u003e\\u003c\\u002fextra\\u003e\",\"hovertext\":[\".travis.yml\"],\"legendgroup\":\"switching\",\"marker\":{\"color\":\"#EF553B\",\"pattern\":{\"shape\":\"\"}},\"name\":\"switching\",\"offsetgroup\":\"switching\",\"orientation\":\"v\",\"showlegend\":true,\"textposition\":\"auto\",\"x\":[\"switching\"],\"xaxis\":\"x\",\"y\":[1],\"yaxis\":\"y\",\"type\":\"bar\"},{\"alignmentgroup\":\"True\",\"hovertemplate\":\"\\u003cb\\u003e%{hovertext}\\u003c\\u002fb\\u003e\\u003cbr\\u003e\\u003cbr\\u003ereason=%{x}\\u003cbr\\u003ecount=%{y}\\u003cextra\\u003e\\u003c\\u002fextra\\u003e\",\"hovertext\":[\"README.md\",\"config\\u002fconfig.go\",\"pipeline\\u002fbrew\\u002fbrew.go\",\"pipeline\\u002fbrew\\u002fbrew_test.go\"],\"legendgroup\":\"allowing\",\"marker\":{\"color\":\"#00cc96\",\"pattern\":{\"shape\":\"\"}},\"name\":\"allowing\",\"offsetgroup\":\"allowing\",\"orientation\":\"v\",\"showlegend\":true,\"textposition\":\"auto\",\"x\":[\"allowing\",\"allowing\",\"allowing\",\"allowing\"],\"xaxis\":\"x\",\"y\":[1,1,1,1],\"yaxis\":\"y\",\"type\":\"bar\"},{\"alignmentgroup\":\"True\",\"hovertemplate\":\"\\u003cb\\u003e%{hovertext}\\u003c\\u002fb\\u003e\\u003cbr\\u003e\\u003cbr\\u003ereason=%{x}\\u003cbr\\u003ecount=%{y}\\u003cextra\\u003e\\u003c\\u002fextra\\u003e\",\"hovertext\":[\".travis.yml\"],\"legendgroup\":\"avoid\",\"marker\":{\"color\":\"#ab63fa\",\"pattern\":{\"shape\":\"\"}},\"name\":\"avoid\",\"offsetgroup\":\"avoid\",\"orientation\":\"v\",\"showlegend\":true,\"textposition\":\"auto\",\"x\":[\"avoid\"],\"xaxis\":\"x\",\"y\":[1],\"yaxis\":\"y\",\"type\":\"bar\"},{\"alignmentgroup\":\"True\",\"hovertemplate\":\"\\u003cb\\u003e%{hovertext}\\u003c\\u002fb\\u003e\\u003cbr\\u003e\\u003cbr\\u003ereason=%{x}\\u003cbr\\u003ecount=%{y}\\u003cextra\\u003e\\u003c\\u002fextra\\u003e\",\"hovertext\":[\".travis.yml\",\"main.go\"],\"legendgroup\":\"covered\",\"marker\":{\"color\":\"#FFA15A\",\"pattern\":{\"shape\":\"\"}},\"name\":\"covered\",\"offsetgroup\":\"covered\",\"orientation\":\"v\",\"showlegend\":true,\"textposition\":\"auto\",\"x\":[\"covered\",\"covered\"],\"xaxis\":\"x\",\"y\":[1,1],\"yaxis\":\"y\",\"type\":\"bar\"},{\"alignmentgroup\":\"True\",\"hovertemplate\":\"\\u003cb\\u003e%{hovertext}\\u003c\\u002fb\\u003e\\u003cbr\\u003e\\u003cbr\\u003ereason=%{x}\\u003cbr\\u003ecount=%{y}\\u003cextra\\u003e\\u003c\\u002fextra\\u003e\",\"hovertext\":[\".travis.yml\",\"config\\u002fconfig.go\"],\"legendgroup\":\"typo\",\"marker\":{\"color\":\"#19d3f3\",\"pattern\":{\"shape\":\"\"}},\"name\":\"typo\",\"offsetgroup\":\"typo\",\"orientation\":\"v\",\"showlegend\":true,\"textposition\":\"auto\",\"x\":[\"typo\",\"typo\"],\"xaxis\":\"x\",\"y\":[2,2],\"yaxis\":\"y\",\"type\":\"bar\"},{\"alignmentgroup\":\"True\",\"hovertemplate\":\"\\u003cb\\u003e%{hovertext}\\u003c\\u002fb\\u003e\\u003cbr\\u003e\\u003cbr\\u003ereason=%{x}\\u003cbr\\u003ecount=%{y}\\u003cextra\\u003e\\u003c\\u002fextra\\u003e\",\"hovertext\":[\".travis.yml\"],\"legendgroup\":\"actually\",\"marker\":{\"color\":\"#FF6692\",\"pattern\":{\"shape\":\"\"}},\"name\":\"actually\",\"offsetgroup\":\"actually\",\"orientation\":\"v\",\"showlegend\":true,\"textposition\":\"auto\",\"x\":[\"actually\"],\"xaxis\":\"x\",\"y\":[1],\"yaxis\":\"y\",\"type\":\"bar\"},{\"alignmentgroup\":\"True\",\"hovertemplate\":\"\\u003cb\\u003e%{hovertext}\\u003c\\u002fb\\u003e\\u003cbr\\u003e\\u003cbr\\u003ereason=%{x}\\u003cbr\\u003ecount=%{y}\\u003cextra\\u003e\\u003c\\u002fextra\\u003e\",\"hovertext\":[\"pipeline\\u002fbrew\\u002fbrew.go\",\"pipeline\\u002frelease\\u002frelease.go\"],\"legendgroup\":\"logging\",\"marker\":{\"color\":\"#B6E880\",\"pattern\":{\"shape\":\"\"}},\"name\":\"logging\",\"offsetgroup\":\"logging\",\"orientation\":\"v\",\"showlegend\":true,\"textposition\":\"auto\",\"x\":[\"logging\",\"logging\"],\"xaxis\":\"x\",\"y\":[1,1],\"yaxis\":\"y\",\"type\":\"bar\"},{\"alignmentgroup\":\"True\",\"hovertemplate\":\"\\u003cb\\u003e%{hovertext}\\u003c\\u002fb\\u003e\\u003cbr\\u003e\\u003cbr\\u003ereason=%{x}\\u003cbr\\u003ecount=%{y}\\u003cextra\\u003e\\u003c\\u002fextra\\u003e\",\"hovertext\":[\"pipeline\\u002fbuild\\u002fbuild.go\"],\"legendgroup\":\"Reduce\",\"marker\":{\"color\":\"#FF97FF\",\"pattern\":{\"shape\":\"\"}},\"name\":\"Reduce\",\"offsetgroup\":\"Reduce\",\"orientation\":\"v\",\"showlegend\":true,\"textposition\":\"auto\",\"x\":[\"Reduce\"],\"xaxis\":\"x\",\"y\":[1],\"yaxis\":\"y\",\"type\":\"bar\"},{\"alignmentgroup\":\"True\",\"hovertemplate\":\"\\u003cb\\u003e%{hovertext}\\u003c\\u002fb\\u003e\\u003cbr\\u003e\\u003cbr\\u003ereason=%{x}\\u003cbr\\u003ecount=%{y}\\u003cextra\\u003e\\u003c\\u002fextra\\u003e\",\"hovertext\":[\"main.go\"],\"legendgroup\":\"log\",\"marker\":{\"color\":\"#FECB52\",\"pattern\":{\"shape\":\"\"}},\"name\":\"log\",\"offsetgroup\":\"log\",\"orientation\":\"v\",\"showlegend\":true,\"textposition\":\"auto\",\"x\":[\"log\"],\"xaxis\":\"x\",\"y\":[2],\"yaxis\":\"y\",\"type\":\"bar\"},{\"alignmentgroup\":\"True\",\"hovertemplate\":\"\\u003cb\\u003e%{hovertext}\\u003c\\u002fb\\u003e\\u003cbr\\u003e\\u003cbr\\u003ereason=%{x}\\u003cbr\\u003ecount=%{y}\\u003cextra\\u003e\\u003c\\u002fextra\\u003e\",\"hovertext\":[\"context\\u002fcontext.go\",\"main.go\",\"pipeline\\u002fbrew\\u002fbrew.go\",\"pipeline\\u002fbrew\\u002fbrew_test.go\",\"pipeline\\u002frelease\\u002frelease.go\",\"pipeline\\u002fbuild\\u002fbuild.go\"],\"legendgroup\":\"skip\",\"marker\":{\"color\":\"#636efa\",\"pattern\":{\"shape\":\"\"}},\"name\":\"skip\",\"offsetgroup\":\"skip\",\"orientation\":\"v\",\"showlegend\":true,\"textposition\":\"auto\",\"x\":[\"skip\",\"skip\",\"skip\",\"skip\",\"skip\",\"skip\"],\"xaxis\":\"x\",\"y\":[1,2,1,1,1,1],\"yaxis\":\"y\",\"type\":\"bar\"},{\"alignmentgroup\":\"True\",\"hovertemplate\":\"\\u003cb\\u003e%{hovertext}\\u003c\\u002fb\\u003e\\u003cbr\\u003e\\u003cbr\\u003ereason=%{x}\\u003cbr\\u003ecount=%{y}\\u003cextra\\u003e\\u003c\\u002fextra\\u003e\",\"hovertext\":[\"main.go\"],\"legendgroup\":\"checksum\",\"marker\":{\"color\":\"#EF553B\",\"pattern\":{\"shape\":\"\"}},\"name\":\"checksum\",\"offsetgroup\":\"checksum\",\"orientation\":\"v\",\"showlegend\":true,\"textposition\":\"auto\",\"x\":[\"checksum\"],\"xaxis\":\"x\",\"y\":[1],\"yaxis\":\"y\",\"type\":\"bar\"},{\"alignmentgroup\":\"True\",\"hovertemplate\":\"\\u003cb\\u003e%{hovertext}\\u003c\\u002fb\\u003e\\u003cbr\\u003e\\u003cbr\\u003ereason=%{x}\\u003cbr\\u003ecount=%{y}\\u003cextra\\u003e\\u003c\\u002fextra\\u003e\",\"hovertext\":[\"main.go\"],\"legendgroup\":\"moved\",\"marker\":{\"color\":\"#00cc96\",\"pattern\":{\"shape\":\"\"}},\"name\":\"moved\",\"offsetgroup\":\"moved\",\"orientation\":\"v\",\"showlegend\":true,\"textposition\":\"auto\",\"x\":[\"moved\"],\"xaxis\":\"x\",\"y\":[1],\"yaxis\":\"y\",\"type\":\"bar\"},{\"alignmentgroup\":\"True\",\"hovertemplate\":\"\\u003cb\\u003e%{hovertext}\\u003c\\u002fb\\u003e\\u003cbr\\u003e\\u003cbr\\u003ereason=%{x}\\u003cbr\\u003ecount=%{y}\\u003cextra\\u003e\\u003c\\u002fextra\\u003e\",\"hovertext\":[\".travis.yml\"],\"legendgroup\":\"oops\",\"marker\":{\"color\":\"#ab63fa\",\"pattern\":{\"shape\":\"\"}},\"name\":\"oops\",\"offsetgroup\":\"oops\",\"orientation\":\"v\",\"showlegend\":true,\"textposition\":\"auto\",\"x\":[\"oops\"],\"xaxis\":\"x\",\"y\":[1],\"yaxis\":\"y\",\"type\":\"bar\"},{\"alignmentgroup\":\"True\",\"hovertemplate\":\"\\u003cb\\u003e%{hovertext}\\u003c\\u002fb\\u003e\\u003cbr\\u003e\\u003cbr\\u003ereason=%{x}\\u003cbr\\u003ecount=%{y}\\u003cextra\\u003e\\u003c\\u002fextra\\u003e\",\"hovertext\":[\".travis.yml\"],\"legendgroup\":\"sudo\",\"marker\":{\"color\":\"#FFA15A\",\"pattern\":{\"shape\":\"\"}},\"name\":\"sudo\",\"offsetgroup\":\"sudo\",\"orientation\":\"v\",\"showlegend\":true,\"textposition\":\"auto\",\"x\":[\"sudo\"],\"xaxis\":\"x\",\"y\":[1],\"yaxis\":\"y\",\"type\":\"bar\"},{\"alignmentgroup\":\"True\",\"hovertemplate\":\"\\u003cb\\u003e%{hovertext}\\u003c\\u002fb\\u003e\\u003cbr\\u003e\\u003cbr\\u003ereason=%{x}\\u003cbr\\u003ecount=%{y}\\u003cextra\\u003e\\u003c\\u002fextra\\u003e\",\"hovertext\":[\"pipeline\\u002fbrew\\u002fbrew.go\",\"pipeline\\u002fbrew\\u002fbrew_test.go\",\"pipeline\\u002frelease\\u002frelease.go\"],\"legendgroup\":\"singularized\",\"marker\":{\"color\":\"#19d3f3\",\"pattern\":{\"shape\":\"\"}},\"name\":\"singularized\",\"offsetgroup\":\"singularized\",\"orientation\":\"v\",\"showlegend\":true,\"textposition\":\"auto\",\"x\":[\"singularized\",\"singularized\",\"singularized\"],\"xaxis\":\"x\",\"y\":[1,1,1],\"yaxis\":\"y\",\"type\":\"bar\"},{\"alignmentgroup\":\"True\",\"hovertemplate\":\"\\u003cb\\u003e%{hovertext}\\u003c\\u002fb\\u003e\\u003cbr\\u003e\\u003cbr\\u003ereason=%{x}\\u003cbr\\u003ecount=%{y}\\u003cextra\\u003e\\u003c\\u002fextra\\u003e\",\"hovertext\":[\"main.go\"],\"legendgroup\":\"checksumming\",\"marker\":{\"color\":\"#FF6692\",\"pattern\":{\"shape\":\"\"}},\"name\":\"checksumming\",\"offsetgroup\":\"checksumming\",\"orientation\":\"v\",\"showlegend\":true,\"textposition\":\"auto\",\"x\":[\"checksumming\"],\"xaxis\":\"x\",\"y\":[1],\"yaxis\":\"y\",\"type\":\"bar\"},{\"alignmentgroup\":\"True\",\"hovertemplate\":\"\\u003cb\\u003e%{hovertext}\\u003c\\u002fb\\u003e\\u003cbr\\u003e\\u003cbr\\u003ereason=%{x}\\u003cbr\\u003ecount=%{y}\\u003cextra\\u003e\\u003c\\u002fextra\\u003e\",\"hovertext\":[\".travis.yml\"],\"legendgroup\":\"trying\",\"marker\":{\"color\":\"#B6E880\",\"pattern\":{\"shape\":\"\"}},\"name\":\"trying\",\"offsetgroup\":\"trying\",\"orientation\":\"v\",\"showlegend\":true,\"textposition\":\"auto\",\"x\":[\"trying\"],\"xaxis\":\"x\",\"y\":[1],\"yaxis\":\"y\",\"type\":\"bar\"},{\"alignmentgroup\":\"True\",\"hovertemplate\":\"\\u003cb\\u003e%{hovertext}\\u003c\\u002fb\\u003e\\u003cbr\\u003e\\u003cbr\\u003ereason=%{x}\\u003cbr\\u003ecount=%{y}\\u003cextra\\u003e\\u003c\\u002fextra\\u003e\",\"hovertext\":[\"pipeline\\u002frelease\\u002frelease.go\",\"pipeline\\u002fbrew\\u002fbrew.go\",\"main.go\"],\"legendgroup\":\"release\",\"marker\":{\"color\":\"#FF97FF\",\"pattern\":{\"shape\":\"\"}},\"name\":\"release\",\"offsetgroup\":\"release\",\"orientation\":\"v\",\"showlegend\":true,\"textposition\":\"auto\",\"x\":[\"release\",\"release\",\"release\"],\"xaxis\":\"x\",\"y\":[3,1,1],\"yaxis\":\"y\",\"type\":\"bar\"},{\"alignmentgroup\":\"True\",\"hovertemplate\":\"\\u003cb\\u003e%{hovertext}\\u003c\\u002fb\\u003e\\u003cbr\\u003e\\u003cbr\\u003ereason=%{x}\\u003cbr\\u003ecount=%{y}\\u003cextra\\u003e\\u003c\\u002fextra\\u003e\",\"hovertext\":[\"pipeline\\u002fbrew\\u002fbrew.go\",\"pipeline\\u002frelease\\u002frelease.go\"],\"legendgroup\":\"client\",\"marker\":{\"color\":\"#FECB52\",\"pattern\":{\"shape\":\"\"}},\"name\":\"client\",\"offsetgroup\":\"client\",\"orientation\":\"v\",\"showlegend\":true,\"textposition\":\"auto\",\"x\":[\"client\",\"client\"],\"xaxis\":\"x\",\"y\":[1,1],\"yaxis\":\"y\",\"type\":\"bar\"},{\"alignmentgroup\":\"True\",\"hovertemplate\":\"\\u003cb\\u003e%{hovertext}\\u003c\\u002fb\\u003e\\u003cbr\\u003e\\u003cbr\\u003ereason=%{x}\\u003cbr\\u003ecount=%{y}\\u003cextra\\u003e\\u003c\\u002fextra\\u003e\",\"hovertext\":[\"README.md\",\"context\\u002fcontext.go\",\"main.go\",\"pipeline\\u002fbuild\\u002fbuild.go\",\"pipeline\\u002fdefaults\\u002fdefaults.go\"],\"legendgroup\":\"ldflags\",\"marker\":{\"color\":\"#636efa\",\"pattern\":{\"shape\":\"\"}},\"name\":\"ldflags\",\"offsetgroup\":\"ldflags\",\"orientation\":\"v\",\"showlegend\":true,\"textposition\":\"auto\",\"x\":[\"ldflags\",\"ldflags\",\"ldflags\",\"ldflags\",\"ldflags\"],\"xaxis\":\"x\",\"y\":[1,1,1,1,1],\"yaxis\":\"y\",\"type\":\"bar\"},{\"alignmentgroup\":\"True\",\"hovertemplate\":\"\\u003cb\\u003e%{hovertext}\\u003c\\u002fb\\u003e\\u003cbr\\u003e\\u003cbr\\u003ereason=%{x}\\u003cbr\\u003ecount=%{y}\\u003cextra\\u003e\\u003c\\u002fextra\\u003e\",\"hovertext\":[\"pipeline\\u002fbuild\\u002fbuild.go\"],\"legendgroup\":\"err\",\"marker\":{\"color\":\"#EF553B\",\"pattern\":{\"shape\":\"\"}},\"name\":\"err\",\"offsetgroup\":\"err\",\"orientation\":\"v\",\"showlegend\":true,\"textposition\":\"auto\",\"x\":[\"err\"],\"xaxis\":\"x\",\"y\":[1],\"yaxis\":\"y\",\"type\":\"bar\"},{\"alignmentgroup\":\"True\",\"hovertemplate\":\"\\u003cb\\u003e%{hovertext}\\u003c\\u002fb\\u003e\\u003cbr\\u003e\\u003cbr\\u003ereason=%{x}\\u003cbr\\u003ecount=%{y}\\u003cextra\\u003e\\u003c\\u002fextra\\u003e\",\"hovertext\":[\"pipeline\\u002fbrew\\u002fbrew_test.go\"],\"legendgroup\":\"govet\",\"marker\":{\"color\":\"#00cc96\",\"pattern\":{\"shape\":\"\"}},\"name\":\"govet\",\"offsetgroup\":\"govet\",\"orientation\":\"v\",\"showlegend\":true,\"textposition\":\"auto\",\"x\":[\"govet\"],\"xaxis\":\"x\",\"y\":[1],\"yaxis\":\"y\",\"type\":\"bar\"},{\"alignmentgroup\":\"True\",\"hovertemplate\":\"\\u003cb\\u003e%{hovertext}\\u003c\\u002fb\\u003e\\u003cbr\\u003e\\u003cbr\\u003ereason=%{x}\\u003cbr\\u003ecount=%{y}\\u003cextra\\u003e\\u003c\\u002fextra\\u003e\",\"hovertext\":[\".travis.yml\"],\"legendgroup\":\"temporarely\",\"marker\":{\"color\":\"#ab63fa\",\"pattern\":{\"shape\":\"\"}},\"name\":\"temporarely\",\"offsetgroup\":\"temporarely\",\"orientation\":\"v\",\"showlegend\":true,\"textposition\":\"auto\",\"x\":[\"temporarely\"],\"xaxis\":\"x\",\"y\":[1],\"yaxis\":\"y\",\"type\":\"bar\"},{\"alignmentgroup\":\"True\",\"hovertemplate\":\"\\u003cb\\u003e%{hovertext}\\u003c\\u002fb\\u003e\\u003cbr\\u003e\\u003cbr\\u003ereason=%{x}\\u003cbr\\u003ecount=%{y}\\u003cextra\\u003e\\u003c\\u002fextra\\u003e\",\"hovertext\":[\"README.md\",\"config\\u002fconfig.go\",\"context\\u002fcontext.go\",\"main.go\",\"pipeline\\u002fbrew\\u002fbrew.go\",\"pipeline\\u002fbrew\\u002fbrew_test.go\",\"pipeline\\u002fdefaults\\u002fdefaults.go\",\"pipeline\\u002frelease\\u002frelease.go\"],\"legendgroup\":\"changing\",\"marker\":{\"color\":\"#FFA15A\",\"pattern\":{\"shape\":\"\"}},\"name\":\"changing\",\"offsetgroup\":\"changing\",\"orientation\":\"v\",\"showlegend\":true,\"textposition\":\"auto\",\"x\":[\"changing\",\"changing\",\"changing\",\"changing\",\"changing\",\"changing\",\"changing\",\"changing\"],\"xaxis\":\"x\",\"y\":[2,1,1,1,1,1,2,1],\"yaxis\":\"y\",\"type\":\"bar\"},{\"alignmentgroup\":\"True\",\"hovertemplate\":\"\\u003cb\\u003e%{hovertext}\\u003c\\u002fb\\u003e\\u003cbr\\u003e\\u003cbr\\u003ereason=%{x}\\u003cbr\\u003ecount=%{y}\\u003cextra\\u003e\\u003c\\u002fextra\\u003e\",\"hovertext\":[\"context\\u002fcontext.go\",\"pipeline\\u002fbrew\\u002fbrew.go\",\"pipeline\\u002frelease\\u002frelease.go\"],\"legendgroup\":\"context\",\"marker\":{\"color\":\"#19d3f3\",\"pattern\":{\"shape\":\"\"}},\"name\":\"context\",\"offsetgroup\":\"context\",\"orientation\":\"v\",\"showlegend\":true,\"textposition\":\"auto\",\"x\":[\"context\",\"context\",\"context\"],\"xaxis\":\"x\",\"y\":[1,1,1],\"yaxis\":\"y\",\"type\":\"bar\"},{\"alignmentgroup\":\"True\",\"hovertemplate\":\"\\u003cb\\u003e%{hovertext}\\u003c\\u002fb\\u003e\\u003cbr\\u003e\\u003cbr\\u003ereason=%{x}\\u003cbr\\u003ecount=%{y}\\u003cextra\\u003e\\u003c\\u002fextra\\u003e\",\"hovertext\":[\"README.md\",\"config\\u002fconfig.go\",\"pipeline\\u002fbrew\\u002fbrew.go\",\"pipeline\\u002fbrew\\u002fbrew_test.go\"],\"legendgroup\":\"First\",\"marker\":{\"color\":\"#FF6692\",\"pattern\":{\"shape\":\"\"}},\"name\":\"First\",\"offsetgroup\":\"First\",\"orientation\":\"v\",\"showlegend\":true,\"textposition\":\"auto\",\"x\":[\"First\",\"First\",\"First\",\"First\"],\"xaxis\":\"x\",\"y\":[1,1,1,1],\"yaxis\":\"y\",\"type\":\"bar\"},{\"alignmentgroup\":\"True\",\"hovertemplate\":\"\\u003cb\\u003e%{hovertext}\\u003c\\u002fb\\u003e\\u003cbr\\u003e\\u003cbr\\u003ereason=%{x}\\u003cbr\\u003ecount=%{y}\\u003cextra\\u003e\\u003c\\u002fextra\\u003e\",\"hovertext\":[\"README.md\"],\"legendgroup\":\"coveralls\",\"marker\":{\"color\":\"#B6E880\",\"pattern\":{\"shape\":\"\"}},\"name\":\"coveralls\",\"offsetgroup\":\"coveralls\",\"orientation\":\"v\",\"showlegend\":true,\"textposition\":\"auto\",\"x\":[\"coveralls\"],\"xaxis\":\"x\",\"y\":[1],\"yaxis\":\"y\",\"type\":\"bar\"},{\"alignmentgroup\":\"True\",\"hovertemplate\":\"\\u003cb\\u003e%{hovertext}\\u003c\\u002fb\\u003e\\u003cbr\\u003e\\u003cbr\\u003ereason=%{x}\\u003cbr\\u003ecount=%{y}\\u003cextra\\u003e\\u003c\\u002fextra\\u003e\",\"hovertext\":[\".travis.yml\"],\"legendgroup\":\"goveralls\",\"marker\":{\"color\":\"#FF97FF\",\"pattern\":{\"shape\":\"\"}},\"name\":\"goveralls\",\"offsetgroup\":\"goveralls\",\"orientation\":\"v\",\"showlegend\":true,\"textposition\":\"auto\",\"x\":[\"goveralls\"],\"xaxis\":\"x\",\"y\":[1],\"yaxis\":\"y\",\"type\":\"bar\"},{\"alignmentgroup\":\"True\",\"hovertemplate\":\"\\u003cb\\u003e%{hovertext}\\u003c\\u002fb\\u003e\\u003cbr\\u003e\\u003cbr\\u003ereason=%{x}\\u003cbr\\u003ecount=%{y}\\u003cextra\\u003e\\u003c\\u002fextra\\u003e\",\"hovertext\":[\"config\\u002fconfig.go\",\"pipeline\\u002fbrew\\u002fbrew.go\",\"pipeline\\u002fbrew\\u002fbrew_test.go\",\"pipeline\\u002ffpm\\u002ffpm.go\"],\"legendgroup\":\"adds\",\"marker\":{\"color\":\"#FECB52\",\"pattern\":{\"shape\":\"\"}},\"name\":\"adds\",\"offsetgroup\":\"adds\",\"orientation\":\"v\",\"showlegend\":true,\"textposition\":\"auto\",\"x\":[\"adds\",\"adds\",\"adds\",\"adds\"],\"xaxis\":\"x\",\"y\":[1,1,1,1],\"yaxis\":\"y\",\"type\":\"bar\"},{\"alignmentgroup\":\"True\",\"hovertemplate\":\"\\u003cb\\u003e%{hovertext}\\u003c\\u002fb\\u003e\\u003cbr\\u003e\\u003cbr\\u003ereason=%{x}\\u003cbr\\u003ecount=%{y}\\u003cextra\\u003e\\u003c\\u002fextra\\u003e\",\"hovertext\":[\"pipeline\\u002ffpm\\u002ffpm.go\"],\"legendgroup\":\"concurrency\",\"marker\":{\"color\":\"#636efa\",\"pattern\":{\"shape\":\"\"}},\"name\":\"concurrency\",\"offsetgroup\":\"concurrency\",\"orientation\":\"v\",\"showlegend\":true,\"textposition\":\"auto\",\"x\":[\"concurrency\"],\"xaxis\":\"x\",\"y\":[1],\"yaxis\":\"y\",\"type\":\"bar\"},{\"alignmentgroup\":\"True\",\"hovertemplate\":\"\\u003cb\\u003e%{hovertext}\\u003c\\u002fb\\u003e\\u003cbr\\u003e\\u003cbr\\u003ereason=%{x}\\u003cbr\\u003ecount=%{y}\\u003cextra\\u003e\\u003c\\u002fextra\\u003e\",\"hovertext\":[\".travis.yml\"],\"legendgroup\":\"debug\",\"marker\":{\"color\":\"#EF553B\",\"pattern\":{\"shape\":\"\"}},\"name\":\"debug\",\"offsetgroup\":\"debug\",\"orientation\":\"v\",\"showlegend\":true,\"textposition\":\"auto\",\"x\":[\"debug\"],\"xaxis\":\"x\",\"y\":[3],\"yaxis\":\"y\",\"type\":\"bar\"},{\"alignmentgroup\":\"True\",\"hovertemplate\":\"\\u003cb\\u003e%{hovertext}\\u003c\\u002fb\\u003e\\u003cbr\\u003e\\u003cbr\\u003ereason=%{x}\\u003cbr\\u003ecount=%{y}\\u003cextra\\u003e\\u003c\\u002fextra\\u003e\",\"hovertext\":[\"README.md\"],\"legendgroup\":\"note\",\"marker\":{\"color\":\"#00cc96\",\"pattern\":{\"shape\":\"\"}},\"name\":\"note\",\"offsetgroup\":\"note\",\"orientation\":\"v\",\"showlegend\":true,\"textposition\":\"auto\",\"x\":[\"note\"],\"xaxis\":\"x\",\"y\":[1],\"yaxis\":\"y\",\"type\":\"bar\"},{\"alignmentgroup\":\"True\",\"hovertemplate\":\"\\u003cb\\u003e%{hovertext}\\u003c\\u002fb\\u003e\\u003cbr\\u003e\\u003cbr\\u003ereason=%{x}\\u003cbr\\u003ecount=%{y}\\u003cextra\\u003e\\u003c\\u002fextra\\u003e\",\"hovertext\":[\"pipeline\\u002frelease\\u002frelease.go\"],\"legendgroup\":\"comment\",\"marker\":{\"color\":\"#ab63fa\",\"pattern\":{\"shape\":\"\"}},\"name\":\"comment\",\"offsetgroup\":\"comment\",\"orientation\":\"v\",\"showlegend\":true,\"textposition\":\"auto\",\"x\":[\"comment\"],\"xaxis\":\"x\",\"y\":[1],\"yaxis\":\"y\",\"type\":\"bar\"},{\"alignmentgroup\":\"True\",\"hovertemplate\":\"\\u003cb\\u003e%{hovertext}\\u003c\\u002fb\\u003e\\u003cbr\\u003e\\u003cbr\\u003ereason=%{x}\\u003cbr\\u003ecount=%{y}\\u003cextra\\u003e\\u003c\\u002fextra\\u003e\",\"hovertext\":[\".travis.yml\"],\"legendgroup\":\"travis\",\"marker\":{\"color\":\"#FFA15A\",\"pattern\":{\"shape\":\"\"}},\"name\":\"travis\",\"offsetgroup\":\"travis\",\"orientation\":\"v\",\"showlegend\":true,\"textposition\":\"auto\",\"x\":[\"travis\"],\"xaxis\":\"x\",\"y\":[1],\"yaxis\":\"y\",\"type\":\"bar\"},{\"alignmentgroup\":\"True\",\"hovertemplate\":\"\\u003cb\\u003e%{hovertext}\\u003c\\u002fb\\u003e\\u003cbr\\u003e\\u003cbr\\u003ereason=%{x}\\u003cbr\\u003ecount=%{y}\\u003cextra\\u003e\\u003c\\u002fextra\\u003e\",\"hovertext\":[\"README.md\"],\"legendgroup\":\"Link\",\"marker\":{\"color\":\"#19d3f3\",\"pattern\":{\"shape\":\"\"}},\"name\":\"Link\",\"offsetgroup\":\"Link\",\"orientation\":\"v\",\"showlegend\":true,\"textposition\":\"auto\",\"x\":[\"Link\"],\"xaxis\":\"x\",\"y\":[2],\"yaxis\":\"y\",\"type\":\"bar\"},{\"alignmentgroup\":\"True\",\"hovertemplate\":\"\\u003cb\\u003e%{hovertext}\\u003c\\u002fb\\u003e\\u003cbr\\u003e\\u003cbr\\u003ereason=%{x}\\u003cbr\\u003ecount=%{y}\\u003cextra\\u003e\\u003c\\u002fextra\\u003e\",\"hovertext\":[\"main.go\"],\"legendgroup\":\"source\",\"marker\":{\"color\":\"#FF6692\",\"pattern\":{\"shape\":\"\"}},\"name\":\"source\",\"offsetgroup\":\"source\",\"orientation\":\"v\",\"showlegend\":true,\"textposition\":\"auto\",\"x\":[\"source\"],\"xaxis\":\"x\",\"y\":[1],\"yaxis\":\"y\",\"type\":\"bar\"},{\"alignmentgroup\":\"True\",\"hovertemplate\":\"\\u003cb\\u003e%{hovertext}\\u003c\\u002fb\\u003e\\u003cbr\\u003e\\u003cbr\\u003ereason=%{x}\\u003cbr\\u003ecount=%{y}\\u003cextra\\u003e\\u003c\\u002fextra\\u003e\",\"hovertext\":[\"pipeline\\u002fbuild\\u002fbuild.go\",\"config\\u002fconfig.go\"],\"legendgroup\":\"changed\",\"marker\":{\"color\":\"#B6E880\",\"pattern\":{\"shape\":\"\"}},\"name\":\"changed\",\"offsetgroup\":\"changed\",\"orientation\":\"v\",\"showlegend\":true,\"textposition\":\"auto\",\"x\":[\"changed\",\"changed\"],\"xaxis\":\"x\",\"y\":[1,1],\"yaxis\":\"y\",\"type\":\"bar\"},{\"alignmentgroup\":\"True\",\"hovertemplate\":\"\\u003cb\\u003e%{hovertext}\\u003c\\u002fb\\u003e\\u003cbr\\u003e\\u003cbr\\u003ereason=%{x}\\u003cbr\\u003ecount=%{y}\\u003cextra\\u003e\\u003c\\u002fextra\\u003e\",\"hovertext\":[\"pipeline\\u002fbuild\\u002fbuild.go\",\"config\\u002fconfig.go\"],\"legendgroup\":\"simplified\",\"marker\":{\"color\":\"#FF97FF\",\"pattern\":{\"shape\":\"\"}},\"name\":\"simplified\",\"offsetgroup\":\"simplified\",\"orientation\":\"v\",\"showlegend\":true,\"textposition\":\"auto\",\"x\":[\"simplified\",\"simplified\"],\"xaxis\":\"x\",\"y\":[1,1],\"yaxis\":\"y\",\"type\":\"bar\"},{\"alignmentgroup\":\"True\",\"hovertemplate\":\"\\u003cb\\u003e%{hovertext}\\u003c\\u002fb\\u003e\\u003cbr\\u003e\\u003cbr\\u003ereason=%{x}\\u003cbr\\u003ecount=%{y}\\u003cextra\\u003e\\u003c\\u002fextra\\u003e\",\"hovertext\":[\"README.md\",\"pipeline\\u002frelease\\u002frelease.go\"],\"legendgroup\":\"better\",\"marker\":{\"color\":\"#FECB52\",\"pattern\":{\"shape\":\"\"}},\"name\":\"better\",\"offsetgroup\":\"better\",\"orientation\":\"v\",\"showlegend\":true,\"textposition\":\"auto\",\"x\":[\"better\",\"better\"],\"xaxis\":\"x\",\"y\":[1,1],\"yaxis\":\"y\",\"type\":\"bar\"},{\"alignmentgroup\":\"True\",\"hovertemplate\":\"\\u003cb\\u003e%{hovertext}\\u003c\\u002fb\\u003e\\u003cbr\\u003e\\u003cbr\\u003ereason=%{x}\\u003cbr\\u003ecount=%{y}\\u003cextra\\u003e\\u003c\\u002fextra\\u003e\",\"hovertext\":[\"README.md\"],\"legendgroup\":\"formulae\",\"marker\":{\"color\":\"#636efa\",\"pattern\":{\"shape\":\"\"}},\"name\":\"formulae\",\"offsetgroup\":\"formulae\",\"orientation\":\"v\",\"showlegend\":true,\"textposition\":\"auto\",\"x\":[\"formulae\"],\"xaxis\":\"x\",\"y\":[1],\"yaxis\":\"y\",\"type\":\"bar\"},{\"alignmentgroup\":\"True\",\"hovertemplate\":\"\\u003cb\\u003e%{hovertext}\\u003c\\u002fb\\u003e\\u003cbr\\u003e\\u003cbr\\u003ereason=%{x}\\u003cbr\\u003ecount=%{y}\\u003cextra\\u003e\\u003c\\u002fextra\\u003e\",\"hovertext\":[\"main.go\"],\"legendgroup\":\"dont\",\"marker\":{\"color\":\"#EF553B\",\"pattern\":{\"shape\":\"\"}},\"name\":\"dont\",\"offsetgroup\":\"dont\",\"orientation\":\"v\",\"showlegend\":true,\"textposition\":\"auto\",\"x\":[\"dont\"],\"xaxis\":\"x\",\"y\":[1],\"yaxis\":\"y\",\"type\":\"bar\"},{\"alignmentgroup\":\"True\",\"hovertemplate\":\"\\u003cb\\u003e%{hovertext}\\u003c\\u002fb\\u003e\\u003cbr\\u003e\\u003cbr\\u003ereason=%{x}\\u003cbr\\u003ecount=%{y}\\u003cextra\\u003e\\u003c\\u002fextra\\u003e\",\"hovertext\":[\"README.md\"],\"legendgroup\":\"small\",\"marker\":{\"color\":\"#00cc96\",\"pattern\":{\"shape\":\"\"}},\"name\":\"small\",\"offsetgroup\":\"small\",\"orientation\":\"v\",\"showlegend\":true,\"textposition\":\"auto\",\"x\":[\"small\"],\"xaxis\":\"x\",\"y\":[2],\"yaxis\":\"y\",\"type\":\"bar\"},{\"alignmentgroup\":\"True\",\"hovertemplate\":\"\\u003cb\\u003e%{hovertext}\\u003c\\u002fb\\u003e\\u003cbr\\u003e\\u003cbr\\u003ereason=%{x}\\u003cbr\\u003ecount=%{y}\\u003cextra\\u003e\\u003c\\u002fextra\\u003e\",\"hovertext\":[\"README.md\"],\"legendgroup\":\"mv\",\"marker\":{\"color\":\"#ab63fa\",\"pattern\":{\"shape\":\"\"}},\"name\":\"mv\",\"offsetgroup\":\"mv\",\"orientation\":\"v\",\"showlegend\":true,\"textposition\":\"auto\",\"x\":[\"mv\"],\"xaxis\":\"x\",\"y\":[1],\"yaxis\":\"y\",\"type\":\"bar\"},{\"alignmentgroup\":\"True\",\"hovertemplate\":\"\\u003cb\\u003e%{hovertext}\\u003c\\u002fb\\u003e\\u003cbr\\u003e\\u003cbr\\u003ereason=%{x}\\u003cbr\\u003ecount=%{y}\\u003cextra\\u003e\\u003c\\u002fextra\\u003e\",\"hovertext\":[\"README.md\"],\"legendgroup\":\"Typo\",\"marker\":{\"color\":\"#FFA15A\",\"pattern\":{\"shape\":\"\"}},\"name\":\"Typo\",\"offsetgroup\":\"Typo\",\"orientation\":\"v\",\"showlegend\":true,\"textposition\":\"auto\",\"x\":[\"Typo\"],\"xaxis\":\"x\",\"y\":[1],\"yaxis\":\"y\",\"type\":\"bar\"},{\"alignmentgroup\":\"True\",\"hovertemplate\":\"\\u003cb\\u003e%{hovertext}\\u003c\\u002fb\\u003e\\u003cbr\\u003e\\u003cbr\\u003ereason=%{x}\\u003cbr\\u003ecount=%{y}\\u003cextra\\u003e\\u003c\\u002fextra\\u003e\",\"hovertext\":[\"pipeline\\u002fbrew\\u002fbrew.go\",\"pipeline\\u002fbrew\\u002fbrew_test.go\",\"pipeline\\u002fbuild\\u002fbuild.go\",\"pipeline\\u002fdefaults\\u002fdefaults.go\",\"pipeline\\u002frelease\\u002frelease.go\"],\"legendgroup\":\"Clean\",\"marker\":{\"color\":\"#19d3f3\",\"pattern\":{\"shape\":\"\"}},\"name\":\"Clean\",\"offsetgroup\":\"Clean\",\"orientation\":\"v\",\"showlegend\":true,\"textposition\":\"auto\",\"x\":[\"Clean\",\"Clean\",\"Clean\",\"Clean\",\"Clean\"],\"xaxis\":\"x\",\"y\":[1,1,1,1,1],\"yaxis\":\"y\",\"type\":\"bar\"},{\"alignmentgroup\":\"True\",\"hovertemplate\":\"\\u003cb\\u003e%{hovertext}\\u003c\\u002fb\\u003e\\u003cbr\\u003e\\u003cbr\\u003ereason=%{x}\\u003cbr\\u003ecount=%{y}\\u003cextra\\u003e\\u003c\\u002fextra\\u003e\",\"hovertext\":[\"main.go\"],\"legendgroup\":\"Always\",\"marker\":{\"color\":\"#FF6692\",\"pattern\":{\"shape\":\"\"}},\"name\":\"Always\",\"offsetgroup\":\"Always\",\"orientation\":\"v\",\"showlegend\":true,\"textposition\":\"auto\",\"x\":[\"Always\"],\"xaxis\":\"x\",\"y\":[1],\"yaxis\":\"y\",\"type\":\"bar\"},{\"alignmentgroup\":\"True\",\"hovertemplate\":\"\\u003cb\\u003e%{hovertext}\\u003c\\u002fb\\u003e\\u003cbr\\u003e\\u003cbr\\u003ereason=%{x}\\u003cbr\\u003ecount=%{y}\\u003cextra\\u003e\\u003c\\u002fextra\\u003e\",\"hovertext\":[\"pipeline\\u002fbrew\\u002fbrew.go\",\"pipeline\\u002fbrew\\u002fbrew_test.go\"],\"legendgroup\":\"missing\",\"marker\":{\"color\":\"#B6E880\",\"pattern\":{\"shape\":\"\"}},\"name\":\"missing\",\"offsetgroup\":\"missing\",\"orientation\":\"v\",\"showlegend\":true,\"textposition\":\"auto\",\"x\":[\"missing\",\"missing\"],\"xaxis\":\"x\",\"y\":[1,1],\"yaxis\":\"y\",\"type\":\"bar\"},{\"alignmentgroup\":\"True\",\"hovertemplate\":\"\\u003cb\\u003e%{hovertext}\\u003c\\u002fb\\u003e\\u003cbr\\u003e\\u003cbr\\u003ereason=%{x}\\u003cbr\\u003ecount=%{y}\\u003cextra\\u003e\\u003c\\u002fextra\\u003e\",\"hovertext\":[\"pipeline\\u002fbrew\\u002fbrew.go\"],\"legendgroup\":\"fail\",\"marker\":{\"color\":\"#FF97FF\",\"pattern\":{\"shape\":\"\"}},\"name\":\"fail\",\"offsetgroup\":\"fail\",\"orientation\":\"v\",\"showlegend\":true,\"textposition\":\"auto\",\"x\":[\"fail\"],\"xaxis\":\"x\",\"y\":[1],\"yaxis\":\"y\",\"type\":\"bar\"},{\"alignmentgroup\":\"True\",\"hovertemplate\":\"\\u003cb\\u003e%{hovertext}\\u003c\\u002fb\\u003e\\u003cbr\\u003e\\u003cbr\\u003ereason=%{x}\\u003cbr\\u003ecount=%{y}\\u003cextra\\u003e\\u003c\\u002fextra\\u003e\",\"hovertext\":[\"config\\u002fconfig.go\",\"context\\u002fcontext.go\"],\"legendgroup\":\"strip\",\"marker\":{\"color\":\"#FECB52\",\"pattern\":{\"shape\":\"\"}},\"name\":\"strip\",\"offsetgroup\":\"strip\",\"orientation\":\"v\",\"showlegend\":true,\"textposition\":\"auto\",\"x\":[\"strip\",\"strip\"],\"xaxis\":\"x\",\"y\":[1,1],\"yaxis\":\"y\",\"type\":\"bar\"},{\"alignmentgroup\":\"True\",\"hovertemplate\":\"\\u003cb\\u003e%{hovertext}\\u003c\\u002fb\\u003e\\u003cbr\\u003e\\u003cbr\\u003ereason=%{x}\\u003cbr\\u003ecount=%{y}\\u003cextra\\u003e\\u003c\\u002fextra\\u003e\",\"hovertext\":[\"context\\u002fcontext.go\",\"config\\u002fconfig.go\",\"main.go\",\"pipeline\\u002fbrew\\u002fbrew.go\",\"pipeline\\u002fbuild\\u002fbuild.go\",\"pipeline\\u002frelease\\u002frelease.go\"],\"legendgroup\":\"golint\",\"marker\":{\"color\":\"#636efa\",\"pattern\":{\"shape\":\"\"}},\"name\":\"golint\",\"offsetgroup\":\"golint\",\"orientation\":\"v\",\"showlegend\":true,\"textposition\":\"auto\",\"x\":[\"golint\",\"golint\",\"golint\",\"golint\",\"golint\",\"golint\"],\"xaxis\":\"x\",\"y\":[1,1,1,1,1,1],\"yaxis\":\"y\",\"type\":\"bar\"},{\"alignmentgroup\":\"True\",\"hovertemplate\":\"\\u003cb\\u003e%{hovertext}\\u003c\\u002fb\\u003e\\u003cbr\\u003e\\u003cbr\\u003ereason=%{x}\\u003cbr\\u003ecount=%{y}\\u003cextra\\u003e\\u003c\\u002fextra\\u003e\",\"hovertext\":[\"main.go\"],\"legendgroup\":\"goimports\",\"marker\":{\"color\":\"#EF553B\",\"pattern\":{\"shape\":\"\"}},\"name\":\"goimports\",\"offsetgroup\":\"goimports\",\"orientation\":\"v\",\"showlegend\":true,\"textposition\":\"auto\",\"x\":[\"goimports\"],\"xaxis\":\"x\",\"y\":[1],\"yaxis\":\"y\",\"type\":\"bar\"},{\"alignmentgroup\":\"True\",\"hovertemplate\":\"\\u003cb\\u003e%{hovertext}\\u003c\\u002fb\\u003e\\u003cbr\\u003e\\u003cbr\\u003ereason=%{x}\\u003cbr\\u003ecount=%{y}\\u003cextra\\u003e\\u003c\\u002fextra\\u003e\",\"hovertext\":[\"config\\u002fconfig.go\",\"context\\u002fcontext.go\",\"main.go\",\"pipeline\\u002fbrew\\u002fbrew.go\",\"pipeline\\u002fbuild\\u002fbuild.go\",\"pipeline\\u002fdefaults\\u002fdefaults.go\",\"pipeline\\u002frelease\\u002frelease.go\"],\"legendgroup\":\"organized\",\"marker\":{\"color\":\"#00cc96\",\"pattern\":{\"shape\":\"\"}},\"name\":\"organized\",\"offsetgroup\":\"organized\",\"orientation\":\"v\",\"showlegend\":true,\"textposition\":\"auto\",\"x\":[\"organized\",\"organized\",\"organized\",\"organized\",\"organized\",\"organized\",\"organized\"],\"xaxis\":\"x\",\"y\":[1,1,2,1,1,1,1],\"yaxis\":\"y\",\"type\":\"bar\"},{\"alignmentgroup\":\"True\",\"hovertemplate\":\"\\u003cb\\u003e%{hovertext}\\u003c\\u002fb\\u003e\\u003cbr\\u003e\\u003cbr\\u003ereason=%{x}\\u003cbr\\u003ecount=%{y}\\u003cextra\\u003e\\u003c\\u002fextra\\u003e\",\"hovertext\":[\"pipeline\\u002fbrew\\u002fbrew.go\",\"pipeline\\u002frelease\\u002frelease.go\"],\"legendgroup\":\"Github\",\"marker\":{\"color\":\"#ab63fa\",\"pattern\":{\"shape\":\"\"}},\"name\":\"Github\",\"offsetgroup\":\"Github\",\"orientation\":\"v\",\"showlegend\":true,\"textposition\":\"auto\",\"x\":[\"Github\",\"Github\"],\"xaxis\":\"x\",\"y\":[1,1],\"yaxis\":\"y\",\"type\":\"bar\"},{\"alignmentgroup\":\"True\",\"hovertemplate\":\"\\u003cb\\u003e%{hovertext}\\u003c\\u002fb\\u003e\\u003cbr\\u003e\\u003cbr\\u003ereason=%{x}\\u003cbr\\u003ecount=%{y}\\u003cextra\\u003e\\u003c\\u002fextra\\u003e\",\"hovertext\":[\"README.md\"],\"legendgroup\":\"Improved\",\"marker\":{\"color\":\"#FFA15A\",\"pattern\":{\"shape\":\"\"}},\"name\":\"Improved\",\"offsetgroup\":\"Improved\",\"orientation\":\"v\",\"showlegend\":true,\"textposition\":\"auto\",\"x\":[\"Improved\"],\"xaxis\":\"x\",\"y\":[1],\"yaxis\":\"y\",\"type\":\"bar\"},{\"alignmentgroup\":\"True\",\"hovertemplate\":\"\\u003cb\\u003e%{hovertext}\\u003c\\u002fb\\u003e\\u003cbr\\u003e\\u003cbr\\u003ereason=%{x}\\u003cbr\\u003ecount=%{y}\\u003cextra\\u003e\\u003c\\u002fextra\\u003e\",\"hovertext\":[\"pipeline\\u002fbrew\\u002fbrew.go\",\"pipeline\\u002fbuild\\u002fbuild.go\",\"pipeline\\u002fdefaults\\u002fdefaults.go\",\"pipeline\\u002frelease\\u002frelease.go\"],\"legendgroup\":\"Fixing\",\"marker\":{\"color\":\"#19d3f3\",\"pattern\":{\"shape\":\"\"}},\"name\":\"Fixing\",\"offsetgroup\":\"Fixing\",\"orientation\":\"v\",\"showlegend\":true,\"textposition\":\"auto\",\"x\":[\"Fixing\",\"Fixing\",\"Fixing\",\"Fixing\"],\"xaxis\":\"x\",\"y\":[1,1,1,1],\"yaxis\":\"y\",\"type\":\"bar\"},{\"alignmentgroup\":\"True\",\"hovertemplate\":\"\\u003cb\\u003e%{hovertext}\\u003c\\u002fb\\u003e\\u003cbr\\u003e\\u003cbr\\u003ereason=%{x}\\u003cbr\\u003ecount=%{y}\\u003cextra\\u003e\\u003c\\u002fextra\\u003e\",\"hovertext\":[\"main.go\"],\"legendgroup\":\"Config\",\"marker\":{\"color\":\"#FF6692\",\"pattern\":{\"shape\":\"\"}},\"name\":\"Config\",\"offsetgroup\":\"Config\",\"orientation\":\"v\",\"showlegend\":true,\"textposition\":\"auto\",\"x\":[\"Config\"],\"xaxis\":\"x\",\"y\":[1],\"yaxis\":\"y\",\"type\":\"bar\"},{\"alignmentgroup\":\"True\",\"hovertemplate\":\"\\u003cb\\u003e%{hovertext}\\u003c\\u002fb\\u003e\\u003cbr\\u003e\\u003cbr\\u003ereason=%{x}\\u003cbr\\u003ecount=%{y}\\u003cextra\\u003e\\u003c\\u002fextra\\u003e\",\"hovertext\":[\"pipeline\\u002fdefaults\\u002fdefaults.go\"],\"legendgroup\":\"Default\",\"marker\":{\"color\":\"#B6E880\",\"pattern\":{\"shape\":\"\"}},\"name\":\"Default\",\"offsetgroup\":\"Default\",\"orientation\":\"v\",\"showlegend\":true,\"textposition\":\"auto\",\"x\":[\"Default\"],\"xaxis\":\"x\",\"y\":[2],\"yaxis\":\"y\",\"type\":\"bar\"},{\"alignmentgroup\":\"True\",\"hovertemplate\":\"\\u003cb\\u003e%{hovertext}\\u003c\\u002fb\\u003e\\u003cbr\\u003e\\u003cbr\\u003ereason=%{x}\\u003cbr\\u003ecount=%{y}\\u003cextra\\u003e\\u003c\\u002fextra\\u003e\",\"hovertext\":[\"pipeline\\u002fdefaults\\u002fdefaults.go\"],\"legendgroup\":\"lowercase\",\"marker\":{\"color\":\"#FF97FF\",\"pattern\":{\"shape\":\"\"}},\"name\":\"lowercase\",\"offsetgroup\":\"lowercase\",\"orientation\":\"v\",\"showlegend\":true,\"textposition\":\"auto\",\"x\":[\"lowercase\"],\"xaxis\":\"x\",\"y\":[1],\"yaxis\":\"y\",\"type\":\"bar\"},{\"alignmentgroup\":\"True\",\"hovertemplate\":\"\\u003cb\\u003e%{hovertext}\\u003c\\u002fb\\u003e\\u003cbr\\u003e\\u003cbr\\u003ereason=%{x}\\u003cbr\\u003ecount=%{y}\\u003cextra\\u003e\\u003c\\u002fextra\\u003e\",\"hovertext\":[\"context\\u002fcontext.go\",\"pipeline\\u002fbrew\\u002fbrew.go\",\"pipeline\\u002fbuild\\u002fbuild.go\"],\"legendgroup\":\"even\",\"marker\":{\"color\":\"#FECB52\",\"pattern\":{\"shape\":\"\"}},\"name\":\"even\",\"offsetgroup\":\"even\",\"orientation\":\"v\",\"showlegend\":true,\"textposition\":\"auto\",\"x\":[\"even\",\"even\",\"even\"],\"xaxis\":\"x\",\"y\":[1,2,1],\"yaxis\":\"y\",\"type\":\"bar\"},{\"alignmentgroup\":\"True\",\"hovertemplate\":\"\\u003cb\\u003e%{hovertext}\\u003c\\u002fb\\u003e\\u003cbr\\u003e\\u003cbr\\u003ereason=%{x}\\u003cbr\\u003ecount=%{y}\\u003cextra\\u003e\\u003c\\u002fextra\\u003e\",\"hovertext\":[\"pipeline\\u002fdefaults\\u002fdefaults.go\"],\"legendgroup\":\"tests\",\"marker\":{\"color\":\"#636efa\",\"pattern\":{\"shape\":\"\"}},\"name\":\"tests\",\"offsetgroup\":\"tests\",\"orientation\":\"v\",\"showlegend\":true,\"textposition\":\"auto\",\"x\":[\"tests\"],\"xaxis\":\"x\",\"y\":[1],\"yaxis\":\"y\",\"type\":\"bar\"},{\"alignmentgroup\":\"True\",\"hovertemplate\":\"\\u003cb\\u003e%{hovertext}\\u003c\\u002fb\\u003e\\u003cbr\\u003e\\u003cbr\\u003ereason=%{x}\\u003cbr\\u003ecount=%{y}\\u003cextra\\u003e\\u003c\\u002fextra\\u003e\",\"hovertext\":[\"pipeline\\u002fbuild\\u002fbuild.go\"],\"legendgroup\":\"buidl\",\"marker\":{\"color\":\"#EF553B\",\"pattern\":{\"shape\":\"\"}},\"name\":\"buidl\",\"offsetgroup\":\"buidl\",\"orientation\":\"v\",\"showlegend\":true,\"textposition\":\"auto\",\"x\":[\"buidl\"],\"xaxis\":\"x\",\"y\":[1],\"yaxis\":\"y\",\"type\":\"bar\"},{\"alignmentgroup\":\"True\",\"hovertemplate\":\"\\u003cb\\u003e%{hovertext}\\u003c\\u002fb\\u003e\\u003cbr\\u003e\\u003cbr\\u003ereason=%{x}\\u003cbr\\u003ecount=%{y}\\u003cextra\\u003e\\u003c\\u002fextra\\u003e\",\"hovertext\":[\"README.md\",\"config\\u002fconfig.go\",\"pipeline\\u002fbrew\\u002fbrew.go\"],\"legendgroup\":\"create\",\"marker\":{\"color\":\"#00cc96\",\"pattern\":{\"shape\":\"\"}},\"name\":\"create\",\"offsetgroup\":\"create\",\"orientation\":\"v\",\"showlegend\":true,\"textposition\":\"auto\",\"x\":[\"create\",\"create\",\"create\"],\"xaxis\":\"x\",\"y\":[1,1,1],\"yaxis\":\"y\",\"type\":\"bar\"},{\"alignmentgroup\":\"True\",\"hovertemplate\":\"\\u003cb\\u003e%{hovertext}\\u003c\\u002fb\\u003e\\u003cbr\\u003e\\u003cbr\\u003ereason=%{x}\\u003cbr\\u003ecount=%{y}\\u003cextra\\u003e\\u003c\\u002fextra\\u003e\",\"hovertext\":[\"README.md\"],\"legendgroup\":\"document\",\"marker\":{\"color\":\"#ab63fa\",\"pattern\":{\"shape\":\"\"}},\"name\":\"document\",\"offsetgroup\":\"document\",\"orientation\":\"v\",\"showlegend\":true,\"textposition\":\"auto\",\"x\":[\"document\"],\"xaxis\":\"x\",\"y\":[2],\"yaxis\":\"y\",\"type\":\"bar\"},{\"alignmentgroup\":\"True\",\"hovertemplate\":\"\\u003cb\\u003e%{hovertext}\\u003c\\u002fb\\u003e\\u003cbr\\u003e\\u003cbr\\u003ereason=%{x}\\u003cbr\\u003ecount=%{y}\\u003cextra\\u003e\\u003c\\u002fextra\\u003e\",\"hovertext\":[\"README.md\"],\"legendgroup\":\"homebrew-formulae\",\"marker\":{\"color\":\"#FFA15A\",\"pattern\":{\"shape\":\"\"}},\"name\":\"homebrew-formulae\",\"offsetgroup\":\"homebrew-formulae\",\"orientation\":\"v\",\"showlegend\":true,\"textposition\":\"auto\",\"x\":[\"homebrew-formulae\"],\"xaxis\":\"x\",\"y\":[1],\"yaxis\":\"y\",\"type\":\"bar\"},{\"alignmentgroup\":\"True\",\"hovertemplate\":\"\\u003cb\\u003e%{hovertext}\\u003c\\u002fb\\u003e\\u003cbr\\u003e\\u003cbr\\u003ereason=%{x}\\u003cbr\\u003ecount=%{y}\\u003cextra\\u003e\\u003c\\u002fextra\\u003e\",\"hovertext\":[\"README.md\",\"config\\u002fconfig.go\",\"pipeline\\u002fbuild\\u002fbuild.go\"],\"legendgroup\":\"customize\",\"marker\":{\"color\":\"#19d3f3\",\"pattern\":{\"shape\":\"\"}},\"name\":\"customize\",\"offsetgroup\":\"customize\",\"orientation\":\"v\",\"showlegend\":true,\"textposition\":\"auto\",\"x\":[\"customize\",\"customize\",\"customize\"],\"xaxis\":\"x\",\"y\":[1,1,1],\"yaxis\":\"y\",\"type\":\"bar\"},{\"alignmentgroup\":\"True\",\"hovertemplate\":\"\\u003cb\\u003e%{hovertext}\\u003c\\u002fb\\u003e\\u003cbr\\u003e\\u003cbr\\u003ereason=%{x}\\u003cbr\\u003ecount=%{y}\\u003cextra\\u003e\\u003c\\u002fextra\\u003e\",\"hovertext\":[\"README.md\"],\"legendgroup\":\"tabs\",\"marker\":{\"color\":\"#FF6692\",\"pattern\":{\"shape\":\"\"}},\"name\":\"tabs\",\"offsetgroup\":\"tabs\",\"orientation\":\"v\",\"showlegend\":true,\"textposition\":\"auto\",\"x\":[\"tabs\"],\"xaxis\":\"x\",\"y\":[1],\"yaxis\":\"y\",\"type\":\"bar\"},{\"alignmentgroup\":\"True\",\"hovertemplate\":\"\\u003cb\\u003e%{hovertext}\\u003c\\u002fb\\u003e\\u003cbr\\u003e\\u003cbr\\u003ereason=%{x}\\u003cbr\\u003ecount=%{y}\\u003cextra\\u003e\\u003c\\u002fextra\\u003e\",\"hovertext\":[\"config\\u002fconfig.go\",\"README.md\"],\"legendgroup\":\"zip\",\"marker\":{\"color\":\"#B6E880\",\"pattern\":{\"shape\":\"\"}},\"name\":\"zip\",\"offsetgroup\":\"zip\",\"orientation\":\"v\",\"showlegend\":true,\"textposition\":\"auto\",\"x\":[\"zip\",\"zip\"],\"xaxis\":\"x\",\"y\":[2,1],\"yaxis\":\"y\",\"type\":\"bar\"},{\"alignmentgroup\":\"True\",\"hovertemplate\":\"\\u003cb\\u003e%{hovertext}\\u003c\\u002fb\\u003e\\u003cbr\\u003e\\u003cbr\\u003ereason=%{x}\\u003cbr\\u003ecount=%{y}\\u003cextra\\u003e\\u003c\\u002fextra\\u003e\",\"hovertext\":[\"config\\u002fconfig.go\",\"main.go\"],\"legendgroup\":\"config\",\"marker\":{\"color\":\"#FF97FF\",\"pattern\":{\"shape\":\"\"}},\"name\":\"config\",\"offsetgroup\":\"config\",\"orientation\":\"v\",\"showlegend\":true,\"textposition\":\"auto\",\"x\":[\"config\",\"config\"],\"xaxis\":\"x\",\"y\":[3,1],\"yaxis\":\"y\",\"type\":\"bar\"},{\"alignmentgroup\":\"True\",\"hovertemplate\":\"\\u003cb\\u003e%{hovertext}\\u003c\\u002fb\\u003e\\u003cbr\\u003e\\u003cbr\\u003ereason=%{x}\\u003cbr\\u003ecount=%{y}\\u003cextra\\u003e\\u003c\\u002fextra\\u003e\",\"hovertext\":[\"config\\u002fconfig.go\",\"pipeline\\u002fbrew\\u002fbrew.go\",\"pipeline\\u002fbrew\\u002fbrew_test.go\",\"pipeline\\u002fbuild\\u002fbuild.go\",\"pipeline\\u002frelease\\u002frelease.go\"],\"legendgroup\":\"continuing\",\"marker\":{\"color\":\"#FECB52\",\"pattern\":{\"shape\":\"\"}},\"name\":\"continuing\",\"offsetgroup\":\"continuing\",\"orientation\":\"v\",\"showlegend\":true,\"textposition\":\"auto\",\"x\":[\"continuing\",\"continuing\",\"continuing\",\"continuing\",\"continuing\"],\"xaxis\":\"x\",\"y\":[1,1,1,1,1],\"yaxis\":\"y\",\"type\":\"bar\"},{\"alignmentgroup\":\"True\",\"hovertemplate\":\"\\u003cb\\u003e%{hovertext}\\u003c\\u002fb\\u003e\\u003cbr\\u003e\\u003cbr\\u003ereason=%{x}\\u003cbr\\u003ecount=%{y}\\u003cextra\\u003e\\u003c\\u002fextra\\u003e\",\"hovertext\":[\"config\\u002fconfig.go\",\"pipeline\\u002fbuild\\u002fbuild.go\",\"pipeline\\u002frelease\\u002frelease.go\"],\"legendgroup\":\"name\",\"marker\":{\"color\":\"#636efa\",\"pattern\":{\"shape\":\"\"}},\"name\":\"name\",\"offsetgroup\":\"name\",\"orientation\":\"v\",\"showlegend\":true,\"textposition\":\"auto\",\"x\":[\"name\",\"name\",\"name\"],\"xaxis\":\"x\",\"y\":[1,1,1],\"yaxis\":\"y\",\"type\":\"bar\"},{\"alignmentgroup\":\"True\",\"hovertemplate\":\"\\u003cb\\u003e%{hovertext}\\u003c\\u002fb\\u003e\\u003cbr\\u003e\\u003cbr\\u003ereason=%{x}\\u003cbr\\u003ecount=%{y}\\u003cextra\\u003e\\u003c\\u002fextra\\u003e\",\"hovertext\":[\".travis.yml\"],\"legendgroup\":\"?\",\"marker\":{\"color\":\"#EF553B\",\"pattern\":{\"shape\":\"\"}},\"name\":\"?\",\"offsetgroup\":\"?\",\"orientation\":\"v\",\"showlegend\":true,\"textposition\":\"auto\",\"x\":[\"?\"],\"xaxis\":\"x\",\"y\":[1],\"yaxis\":\"y\",\"type\":\"bar\"},{\"alignmentgroup\":\"True\",\"hovertemplate\":\"\\u003cb\\u003e%{hovertext}\\u003c\\u002fb\\u003e\\u003cbr\\u003e\\u003cbr\\u003ereason=%{x}\\u003cbr\\u003ecount=%{y}\\u003cextra\\u003e\\u003c\\u002fextra\\u003e\",\"hovertext\":[\".travis.yml\",\"README.md\"],\"legendgroup\":\"makefile\",\"marker\":{\"color\":\"#00cc96\",\"pattern\":{\"shape\":\"\"}},\"name\":\"makefile\",\"offsetgroup\":\"makefile\",\"orientation\":\"v\",\"showlegend\":true,\"textposition\":\"auto\",\"x\":[\"makefile\",\"makefile\"],\"xaxis\":\"x\",\"y\":[1,1],\"yaxis\":\"y\",\"type\":\"bar\"},{\"alignmentgroup\":\"True\",\"hovertemplate\":\"\\u003cb\\u003e%{hovertext}\\u003c\\u002fb\\u003e\\u003cbr\\u003e\\u003cbr\\u003ereason=%{x}\\u003cbr\\u003ecount=%{y}\\u003cextra\\u003e\\u003c\\u002fextra\\u003e\",\"hovertext\":[\".travis.yml\"],\"legendgroup\":\"misspell\",\"marker\":{\"color\":\"#ab63fa\",\"pattern\":{\"shape\":\"\"}},\"name\":\"misspell\",\"offsetgroup\":\"misspell\",\"orientation\":\"v\",\"showlegend\":true,\"textposition\":\"auto\",\"x\":[\"misspell\"],\"xaxis\":\"x\",\"y\":[1],\"yaxis\":\"y\",\"type\":\"bar\"},{\"alignmentgroup\":\"True\",\"hovertemplate\":\"\\u003cb\\u003e%{hovertext}\\u003c\\u002fb\\u003e\\u003cbr\\u003e\\u003cbr\\u003ereason=%{x}\\u003cbr\\u003ecount=%{y}\\u003cextra\\u003e\\u003c\\u002fextra\\u003e\",\"hovertext\":[\".travis.yml\"],\"legendgroup\":\"duplicated\",\"marker\":{\"color\":\"#FFA15A\",\"pattern\":{\"shape\":\"\"}},\"name\":\"duplicated\",\"offsetgroup\":\"duplicated\",\"orientation\":\"v\",\"showlegend\":true,\"textposition\":\"auto\",\"x\":[\"duplicated\"],\"xaxis\":\"x\",\"y\":[1],\"yaxis\":\"y\",\"type\":\"bar\"},{\"alignmentgroup\":\"True\",\"hovertemplate\":\"\\u003cb\\u003e%{hovertext}\\u003c\\u002fb\\u003e\\u003cbr\\u003e\\u003cbr\\u003ereason=%{x}\\u003cbr\\u003ecount=%{y}\\u003cextra\\u003e\\u003c\\u002fextra\\u003e\",\"hovertext\":[\"README.md\"],\"legendgroup\":\":lipstick:\",\"marker\":{\"color\":\"#19d3f3\",\"pattern\":{\"shape\":\"\"}},\"name\":\":lipstick:\",\"offsetgroup\":\":lipstick:\",\"orientation\":\"v\",\"showlegend\":true,\"textposition\":\"auto\",\"x\":[\":lipstick:\"],\"xaxis\":\"x\",\"y\":[1],\"yaxis\":\"y\",\"type\":\"bar\"},{\"alignmentgroup\":\"True\",\"hovertemplate\":\"\\u003cb\\u003e%{hovertext}\\u003c\\u002fb\\u003e\\u003cbr\\u003e\\u003cbr\\u003ereason=%{x}\\u003cbr\\u003ecount=%{y}\\u003cextra\\u003e\\u003c\\u002fextra\\u003e\",\"hovertext\":[\"pipeline\\u002fbrew\\u002fbrew_test.go\"],\"legendgroup\":\"empty\",\"marker\":{\"color\":\"#FF6692\",\"pattern\":{\"shape\":\"\"}},\"name\":\"empty\",\"offsetgroup\":\"empty\",\"orientation\":\"v\",\"showlegend\":true,\"textposition\":\"auto\",\"x\":[\"empty\"],\"xaxis\":\"x\",\"y\":[1],\"yaxis\":\"y\",\"type\":\"bar\"},{\"alignmentgroup\":\"True\",\"hovertemplate\":\"\\u003cb\\u003e%{hovertext}\\u003c\\u002fb\\u003e\\u003cbr\\u003e\\u003cbr\\u003ereason=%{x}\\u003cbr\\u003ecount=%{y}\\u003cextra\\u003e\\u003c\\u002fextra\\u003e\",\"hovertext\":[\"pipeline\\u002fbrew\\u002fbrew.go\"],\"legendgroup\":\"got\",\"marker\":{\"color\":\"#B6E880\",\"pattern\":{\"shape\":\"\"}},\"name\":\"got\",\"offsetgroup\":\"got\",\"orientation\":\"v\",\"showlegend\":true,\"textposition\":\"auto\",\"x\":[\"got\"],\"xaxis\":\"x\",\"y\":[1],\"yaxis\":\"y\",\"type\":\"bar\"},{\"alignmentgroup\":\"True\",\"hovertemplate\":\"\\u003cb\\u003e%{hovertext}\\u003c\\u002fb\\u003e\\u003cbr\\u003e\\u003cbr\\u003ereason=%{x}\\u003cbr\\u003ecount=%{y}\\u003cextra\\u003e\\u003c\\u002fextra\\u003e\",\"hovertext\":[\"pipeline\\u002fbrew\\u002fbrew.go\"],\"legendgroup\":\"url\",\"marker\":{\"color\":\"#FF97FF\",\"pattern\":{\"shape\":\"\"}},\"name\":\"url\",\"offsetgroup\":\"url\",\"orientation\":\"v\",\"showlegend\":true,\"textposition\":\"auto\",\"x\":[\"url\"],\"xaxis\":\"x\",\"y\":[1],\"yaxis\":\"y\",\"type\":\"bar\"},{\"alignmentgroup\":\"True\",\"hovertemplate\":\"\\u003cb\\u003e%{hovertext}\\u003c\\u002fb\\u003e\\u003cbr\\u003e\\u003cbr\\u003ereason=%{x}\\u003cbr\\u003ecount=%{y}\\u003cextra\\u003e\\u003c\\u002fextra\\u003e\",\"hovertext\":[\"config\\u002fconfig.go\"],\"legendgroup\":\"Glob\",\"marker\":{\"color\":\"#FECB52\",\"pattern\":{\"shape\":\"\"}},\"name\":\"Glob\",\"offsetgroup\":\"Glob\",\"orientation\":\"v\",\"showlegend\":true,\"textposition\":\"auto\",\"x\":[\"Glob\"],\"xaxis\":\"x\",\"y\":[1],\"yaxis\":\"y\",\"type\":\"bar\"},{\"alignmentgroup\":\"True\",\"hovertemplate\":\"\\u003cb\\u003e%{hovertext}\\u003c\\u002fb\\u003e\\u003cbr\\u003e\\u003cbr\\u003ereason=%{x}\\u003cbr\\u003ecount=%{y}\\u003cextra\\u003e\\u003c\\u002fextra\\u003e\",\"hovertext\":[\"README.md\"],\"legendgroup\":\"grammar\",\"marker\":{\"color\":\"#636efa\",\"pattern\":{\"shape\":\"\"}},\"name\":\"grammar\",\"offsetgroup\":\"grammar\",\"orientation\":\"v\",\"showlegend\":true,\"textposition\":\"auto\",\"x\":[\"grammar\"],\"xaxis\":\"x\",\"y\":[1],\"yaxis\":\"y\",\"type\":\"bar\"},{\"alignmentgroup\":\"True\",\"hovertemplate\":\"\\u003cb\\u003e%{hovertext}\\u003c\\u002fb\\u003e\\u003cbr\\u003e\\u003cbr\\u003ereason=%{x}\\u003cbr\\u003ecount=%{y}\\u003cextra\\u003e\\u003c\\u002fextra\\u003e\",\"hovertext\":[\"pipeline\\u002fbrew\\u002fbrew.go\"],\"legendgroup\":\"wrong\",\"marker\":{\"color\":\"#EF553B\",\"pattern\":{\"shape\":\"\"}},\"name\":\"wrong\",\"offsetgroup\":\"wrong\",\"orientation\":\"v\",\"showlegend\":true,\"textposition\":\"auto\",\"x\":[\"wrong\"],\"xaxis\":\"x\",\"y\":[1],\"yaxis\":\"y\",\"type\":\"bar\"},{\"alignmentgroup\":\"True\",\"hovertemplate\":\"\\u003cb\\u003e%{hovertext}\\u003c\\u002fb\\u003e\\u003cbr\\u003e\\u003cbr\\u003ereason=%{x}\\u003cbr\\u003ecount=%{y}\\u003cextra\\u003e\\u003c\\u002fextra\\u003e\",\"hovertext\":[\"pipeline\\u002fbuild\\u002fbuild.go\"],\"legendgroup\":\"bos\",\"marker\":{\"color\":\"#00cc96\",\"pattern\":{\"shape\":\"\"}},\"name\":\"bos\",\"offsetgroup\":\"bos\",\"orientation\":\"v\",\"showlegend\":true,\"textposition\":\"auto\",\"x\":[\"bos\"],\"xaxis\":\"x\",\"y\":[1],\"yaxis\":\"y\",\"type\":\"bar\"},{\"alignmentgroup\":\"True\",\"hovertemplate\":\"\\u003cb\\u003e%{hovertext}\\u003c\\u002fb\\u003e\\u003cbr\\u003e\\u003cbr\\u003ereason=%{x}\\u003cbr\\u003ecount=%{y}\\u003cextra\\u003e\\u003c\\u002fextra\\u003e\",\"hovertext\":[\"config\\u002fconfig.go\",\"main.go\",\"pipeline\\u002fbrew\\u002fbrew.go\",\"pipeline\\u002fbrew\\u002fbrew_test.go\",\"pipeline\\u002fbuild\\u002fbuild.go\",\"pipeline\\u002frelease\\u002frelease.go\"],\"legendgroup\":\"reorganized\",\"marker\":{\"color\":\"#ab63fa\",\"pattern\":{\"shape\":\"\"}},\"name\":\"reorganized\",\"offsetgroup\":\"reorganized\",\"orientation\":\"v\",\"showlegend\":true,\"textposition\":\"auto\",\"x\":[\"reorganized\",\"reorganized\",\"reorganized\",\"reorganized\",\"reorganized\",\"reorganized\"],\"xaxis\":\"x\",\"y\":[1,1,1,1,1,1],\"yaxis\":\"y\",\"type\":\"bar\"},{\"alignmentgroup\":\"True\",\"hovertemplate\":\"\\u003cb\\u003e%{hovertext}\\u003c\\u002fb\\u003e\\u003cbr\\u003e\\u003cbr\\u003ereason=%{x}\\u003cbr\\u003ecount=%{y}\\u003cextra\\u003e\\u003c\\u002fextra\\u003e\",\"hovertext\":[\"config\\u002fconfig.go\"],\"legendgroup\":\"main.go\",\"marker\":{\"color\":\"#FFA15A\",\"pattern\":{\"shape\":\"\"}},\"name\":\"main.go\",\"offsetgroup\":\"main.go\",\"orientation\":\"v\",\"showlegend\":true,\"textposition\":\"auto\",\"x\":[\"main.go\"],\"xaxis\":\"x\",\"y\":[1],\"yaxis\":\"y\",\"type\":\"bar\"},{\"alignmentgroup\":\"True\",\"hovertemplate\":\"\\u003cb\\u003e%{hovertext}\\u003c\\u002fb\\u003e\\u003cbr\\u003e\\u003cbr\\u003ereason=%{x}\\u003cbr\\u003ecount=%{y}\\u003cextra\\u003e\\u003c\\u002fextra\\u003e\",\"hovertext\":[\"config\\u002fconfig.go\",\"main.go\"],\"legendgroup\":\"wtfff\",\"marker\":{\"color\":\"#19d3f3\",\"pattern\":{\"shape\":\"\"}},\"name\":\"wtfff\",\"offsetgroup\":\"wtfff\",\"orientation\":\"v\",\"showlegend\":true,\"textposition\":\"auto\",\"x\":[\"wtfff\",\"wtfff\"],\"xaxis\":\"x\",\"y\":[1,1],\"yaxis\":\"y\",\"type\":\"bar\"},{\"alignmentgroup\":\"True\",\"hovertemplate\":\"\\u003cb\\u003e%{hovertext}\\u003c\\u002fb\\u003e\\u003cbr\\u003e\\u003cbr\\u003ereason=%{x}\\u003cbr\\u003ecount=%{y}\\u003cextra\\u003e\\u003c\\u002fextra\\u003e\",\"hovertext\":[\"README.md\"],\"legendgroup\":\"readme,\",\"marker\":{\"color\":\"#FF6692\",\"pattern\":{\"shape\":\"\"}},\"name\":\"readme,\",\"offsetgroup\":\"readme,\",\"orientation\":\"v\",\"showlegend\":true,\"textposition\":\"auto\",\"x\":[\"readme,\"],\"xaxis\":\"x\",\"y\":[1],\"yaxis\":\"y\",\"type\":\"bar\"},{\"alignmentgroup\":\"True\",\"hovertemplate\":\"\\u003cb\\u003e%{hovertext}\\u003c\\u002fb\\u003e\\u003cbr\\u003e\\u003cbr\\u003ereason=%{x}\\u003cbr\\u003ecount=%{y}\\u003cextra\\u003e\\u003c\\u002fextra\\u003e\",\"hovertext\":[\"main.go\"],\"legendgroup\":\"main\",\"marker\":{\"color\":\"#B6E880\",\"pattern\":{\"shape\":\"\"}},\"name\":\"main\",\"offsetgroup\":\"main\",\"orientation\":\"v\",\"showlegend\":true,\"textposition\":\"auto\",\"x\":[\"main\"],\"xaxis\":\"x\",\"y\":[1],\"yaxis\":\"y\",\"type\":\"bar\"}],                        {\"template\":{\"data\":{\"histogram2dcontour\":[{\"type\":\"histogram2dcontour\",\"colorbar\":{\"outlinewidth\":0,\"ticks\":\"\"},\"colorscale\":[[0.0,\"#0d0887\"],[0.1111111111111111,\"#46039f\"],[0.2222222222222222,\"#7201a8\"],[0.3333333333333333,\"#9c179e\"],[0.4444444444444444,\"#bd3786\"],[0.5555555555555556,\"#d8576b\"],[0.6666666666666666,\"#ed7953\"],[0.7777777777777778,\"#fb9f3a\"],[0.8888888888888888,\"#fdca26\"],[1.0,\"#f0f921\"]]}],\"choropleth\":[{\"type\":\"choropleth\",\"colorbar\":{\"outlinewidth\":0,\"ticks\":\"\"}}],\"histogram2d\":[{\"type\":\"histogram2d\",\"colorbar\":{\"outlinewidth\":0,\"ticks\":\"\"},\"colorscale\":[[0.0,\"#0d0887\"],[0.1111111111111111,\"#46039f\"],[0.2222222222222222,\"#7201a8\"],[0.3333333333333333,\"#9c179e\"],[0.4444444444444444,\"#bd3786\"],[0.5555555555555556,\"#d8576b\"],[0.6666666666666666,\"#ed7953\"],[0.7777777777777778,\"#fb9f3a\"],[0.8888888888888888,\"#fdca26\"],[1.0,\"#f0f921\"]]}],\"heatmap\":[{\"type\":\"heatmap\",\"colorbar\":{\"outlinewidth\":0,\"ticks\":\"\"},\"colorscale\":[[0.0,\"#0d0887\"],[0.1111111111111111,\"#46039f\"],[0.2222222222222222,\"#7201a8\"],[0.3333333333333333,\"#9c179e\"],[0.4444444444444444,\"#bd3786\"],[0.5555555555555556,\"#d8576b\"],[0.6666666666666666,\"#ed7953\"],[0.7777777777777778,\"#fb9f3a\"],[0.8888888888888888,\"#fdca26\"],[1.0,\"#f0f921\"]]}],\"heatmapgl\":[{\"type\":\"heatmapgl\",\"colorbar\":{\"outlinewidth\":0,\"ticks\":\"\"},\"colorscale\":[[0.0,\"#0d0887\"],[0.1111111111111111,\"#46039f\"],[0.2222222222222222,\"#7201a8\"],[0.3333333333333333,\"#9c179e\"],[0.4444444444444444,\"#bd3786\"],[0.5555555555555556,\"#d8576b\"],[0.6666666666666666,\"#ed7953\"],[0.7777777777777778,\"#fb9f3a\"],[0.8888888888888888,\"#fdca26\"],[1.0,\"#f0f921\"]]}],\"contourcarpet\":[{\"type\":\"contourcarpet\",\"colorbar\":{\"outlinewidth\":0,\"ticks\":\"\"}}],\"contour\":[{\"type\":\"contour\",\"colorbar\":{\"outlinewidth\":0,\"ticks\":\"\"},\"colorscale\":[[0.0,\"#0d0887\"],[0.1111111111111111,\"#46039f\"],[0.2222222222222222,\"#7201a8\"],[0.3333333333333333,\"#9c179e\"],[0.4444444444444444,\"#bd3786\"],[0.5555555555555556,\"#d8576b\"],[0.6666666666666666,\"#ed7953\"],[0.7777777777777778,\"#fb9f3a\"],[0.8888888888888888,\"#fdca26\"],[1.0,\"#f0f921\"]]}],\"surface\":[{\"type\":\"surface\",\"colorbar\":{\"outlinewidth\":0,\"ticks\":\"\"},\"colorscale\":[[0.0,\"#0d0887\"],[0.1111111111111111,\"#46039f\"],[0.2222222222222222,\"#7201a8\"],[0.3333333333333333,\"#9c179e\"],[0.4444444444444444,\"#bd3786\"],[0.5555555555555556,\"#d8576b\"],[0.6666666666666666,\"#ed7953\"],[0.7777777777777778,\"#fb9f3a\"],[0.8888888888888888,\"#fdca26\"],[1.0,\"#f0f921\"]]}],\"mesh3d\":[{\"type\":\"mesh3d\",\"colorbar\":{\"outlinewidth\":0,\"ticks\":\"\"}}],\"scatter\":[{\"fillpattern\":{\"fillmode\":\"overlay\",\"size\":10,\"solidity\":0.2},\"type\":\"scatter\"}],\"parcoords\":[{\"type\":\"parcoords\",\"line\":{\"colorbar\":{\"outlinewidth\":0,\"ticks\":\"\"}}}],\"scatterpolargl\":[{\"type\":\"scatterpolargl\",\"marker\":{\"colorbar\":{\"outlinewidth\":0,\"ticks\":\"\"}}}],\"bar\":[{\"error_x\":{\"color\":\"#2a3f5f\"},\"error_y\":{\"color\":\"#2a3f5f\"},\"marker\":{\"line\":{\"color\":\"#E5ECF6\",\"width\":0.5},\"pattern\":{\"fillmode\":\"overlay\",\"size\":10,\"solidity\":0.2}},\"type\":\"bar\"}],\"scattergeo\":[{\"type\":\"scattergeo\",\"marker\":{\"colorbar\":{\"outlinewidth\":0,\"ticks\":\"\"}}}],\"scatterpolar\":[{\"type\":\"scatterpolar\",\"marker\":{\"colorbar\":{\"outlinewidth\":0,\"ticks\":\"\"}}}],\"histogram\":[{\"marker\":{\"pattern\":{\"fillmode\":\"overlay\",\"size\":10,\"solidity\":0.2}},\"type\":\"histogram\"}],\"scattergl\":[{\"type\":\"scattergl\",\"marker\":{\"colorbar\":{\"outlinewidth\":0,\"ticks\":\"\"}}}],\"scatter3d\":[{\"type\":\"scatter3d\",\"line\":{\"colorbar\":{\"outlinewidth\":0,\"ticks\":\"\"}},\"marker\":{\"colorbar\":{\"outlinewidth\":0,\"ticks\":\"\"}}}],\"scattermapbox\":[{\"type\":\"scattermapbox\",\"marker\":{\"colorbar\":{\"outlinewidth\":0,\"ticks\":\"\"}}}],\"scatterternary\":[{\"type\":\"scatterternary\",\"marker\":{\"colorbar\":{\"outlinewidth\":0,\"ticks\":\"\"}}}],\"scattercarpet\":[{\"type\":\"scattercarpet\",\"marker\":{\"colorbar\":{\"outlinewidth\":0,\"ticks\":\"\"}}}],\"carpet\":[{\"aaxis\":{\"endlinecolor\":\"#2a3f5f\",\"gridcolor\":\"white\",\"linecolor\":\"white\",\"minorgridcolor\":\"white\",\"startlinecolor\":\"#2a3f5f\"},\"baxis\":{\"endlinecolor\":\"#2a3f5f\",\"gridcolor\":\"white\",\"linecolor\":\"white\",\"minorgridcolor\":\"white\",\"startlinecolor\":\"#2a3f5f\"},\"type\":\"carpet\"}],\"table\":[{\"cells\":{\"fill\":{\"color\":\"#EBF0F8\"},\"line\":{\"color\":\"white\"}},\"header\":{\"fill\":{\"color\":\"#C8D4E3\"},\"line\":{\"color\":\"white\"}},\"type\":\"table\"}],\"barpolar\":[{\"marker\":{\"line\":{\"color\":\"#E5ECF6\",\"width\":0.5},\"pattern\":{\"fillmode\":\"overlay\",\"size\":10,\"solidity\":0.2}},\"type\":\"barpolar\"}],\"pie\":[{\"automargin\":true,\"type\":\"pie\"}]},\"layout\":{\"autotypenumbers\":\"strict\",\"colorway\":[\"#636efa\",\"#EF553B\",\"#00cc96\",\"#ab63fa\",\"#FFA15A\",\"#19d3f3\",\"#FF6692\",\"#B6E880\",\"#FF97FF\",\"#FECB52\"],\"font\":{\"color\":\"#2a3f5f\"},\"hovermode\":\"closest\",\"hoverlabel\":{\"align\":\"left\"},\"paper_bgcolor\":\"white\",\"plot_bgcolor\":\"#E5ECF6\",\"polar\":{\"bgcolor\":\"#E5ECF6\",\"angularaxis\":{\"gridcolor\":\"white\",\"linecolor\":\"white\",\"ticks\":\"\"},\"radialaxis\":{\"gridcolor\":\"white\",\"linecolor\":\"white\",\"ticks\":\"\"}},\"ternary\":{\"bgcolor\":\"#E5ECF6\",\"aaxis\":{\"gridcolor\":\"white\",\"linecolor\":\"white\",\"ticks\":\"\"},\"baxis\":{\"gridcolor\":\"white\",\"linecolor\":\"white\",\"ticks\":\"\"},\"caxis\":{\"gridcolor\":\"white\",\"linecolor\":\"white\",\"ticks\":\"\"}},\"coloraxis\":{\"colorbar\":{\"outlinewidth\":0,\"ticks\":\"\"}},\"colorscale\":{\"sequential\":[[0.0,\"#0d0887\"],[0.1111111111111111,\"#46039f\"],[0.2222222222222222,\"#7201a8\"],[0.3333333333333333,\"#9c179e\"],[0.4444444444444444,\"#bd3786\"],[0.5555555555555556,\"#d8576b\"],[0.6666666666666666,\"#ed7953\"],[0.7777777777777778,\"#fb9f3a\"],[0.8888888888888888,\"#fdca26\"],[1.0,\"#f0f921\"]],\"sequentialminus\":[[0.0,\"#0d0887\"],[0.1111111111111111,\"#46039f\"],[0.2222222222222222,\"#7201a8\"],[0.3333333333333333,\"#9c179e\"],[0.4444444444444444,\"#bd3786\"],[0.5555555555555556,\"#d8576b\"],[0.6666666666666666,\"#ed7953\"],[0.7777777777777778,\"#fb9f3a\"],[0.8888888888888888,\"#fdca26\"],[1.0,\"#f0f921\"]],\"diverging\":[[0,\"#8e0152\"],[0.1,\"#c51b7d\"],[0.2,\"#de77ae\"],[0.3,\"#f1b6da\"],[0.4,\"#fde0ef\"],[0.5,\"#f7f7f7\"],[0.6,\"#e6f5d0\"],[0.7,\"#b8e186\"],[0.8,\"#7fbc41\"],[0.9,\"#4d9221\"],[1,\"#276419\"]]},\"xaxis\":{\"gridcolor\":\"white\",\"linecolor\":\"white\",\"ticks\":\"\",\"title\":{\"standoff\":15},\"zerolinecolor\":\"white\",\"automargin\":true,\"zerolinewidth\":2},\"yaxis\":{\"gridcolor\":\"white\",\"linecolor\":\"white\",\"ticks\":\"\",\"title\":{\"standoff\":15},\"zerolinecolor\":\"white\",\"automargin\":true,\"zerolinewidth\":2},\"scene\":{\"xaxis\":{\"backgroundcolor\":\"#E5ECF6\",\"gridcolor\":\"white\",\"linecolor\":\"white\",\"showbackground\":true,\"ticks\":\"\",\"zerolinecolor\":\"white\",\"gridwidth\":2},\"yaxis\":{\"backgroundcolor\":\"#E5ECF6\",\"gridcolor\":\"white\",\"linecolor\":\"white\",\"showbackground\":true,\"ticks\":\"\",\"zerolinecolor\":\"white\",\"gridwidth\":2},\"zaxis\":{\"backgroundcolor\":\"#E5ECF6\",\"gridcolor\":\"white\",\"linecolor\":\"white\",\"showbackground\":true,\"ticks\":\"\",\"zerolinecolor\":\"white\",\"gridwidth\":2}},\"shapedefaults\":{\"line\":{\"color\":\"#2a3f5f\"}},\"annotationdefaults\":{\"arrowcolor\":\"#2a3f5f\",\"arrowhead\":0,\"arrowwidth\":1},\"geo\":{\"bgcolor\":\"white\",\"landcolor\":\"#E5ECF6\",\"subunitcolor\":\"white\",\"showland\":true,\"showlakes\":true,\"lakecolor\":\"white\"},\"title\":{\"x\":0.05},\"mapbox\":{\"style\":\"light\"}}},\"xaxis\":{\"anchor\":\"y\",\"domain\":[0.0,1.0],\"title\":{\"text\":\"reason\"},\"categoryorder\":\"array\",\"categoryarray\":[\"ci\",\"chore\",\"docs\",\"feat\",\"Merge\",\"fix\",\"chore(deps):\",\"test\",\"refactor\",\"build\",\"Revert\",\"adjusted\",\"switched\",\"more\",\"Support\",\"revert\",\"feat:\",\"refactory\",\"Add\",\"Do\",\"add\",\"Use\",\"Fix\",\"clean\",\"&base\",\"Set\",\"refactor\\u002ffix:\",\"Optimized\",\"wip\",\"bump\",\"style\",\"*\",\"update\",\"Added\",\"remove\",\"Remove\",\"removing\",\"unit\",\"fixed\",\"lint\",\"github\",\"allows\",\"fixing\",\"merge\",\"support\",\"push\",\"adding\",\"rm\",\"todo\",\"enabled\",\"also\",\"using\",\"enable\",\"restore\",\"improvements\",\"draft\",\"readme\",\"new\",\"checksums\",\"improved\",\"skipped\",\"testing\",\"building\",\"code\",\"allow\",\"spaces\",\"Allow\",\"fixes\",\"export\",\"install\",\"cleanup\",\"git\",\"template\",\"homebrew\",\"Fixes\",\"coverage\",\"renamed\",\"multiple\",\"moving\",\"format\",\"breaking\",\"Update\",\"gometalinter\",\"refactoring\",\"defaulting\",\"throttling\",\"archive\",\"project\",\"cleaning\",\"added\",\"defaults\",\"brew\",\"fpm\",\"logs\",\"debug,\",\"apex\",\"removed\",\"Improve\",\"typo,\",\"Clearify\",\"Mention\",\"deleting\",\"imports\",\"reorder\",\"custom\",\"gofmt,\",\"detailed\",\"updated\",\"gofmt\",\"simplify\",\"improving\",\"go\",\"cleaner\",\"Incorporate\",\"Run\",\"Draft\",\"broken\",\"h3\",\"a\",\"make\",\"badge\",\"switching\",\"allowing\",\"avoid\",\"covered\",\"typo\",\"actually\",\"logging\",\"Reduce\",\"log\",\"skip\",\"checksum\",\"moved\",\"oops\",\"sudo\",\"singularized\",\"checksumming\",\"trying\",\"release\",\"client\",\"ldflags\",\"err\",\"govet\",\"temporarely\",\"changing\",\"context\",\"First\",\"coveralls\",\"goveralls\",\"adds\",\"concurrency\",\"debug\",\"note\",\"comment\",\"travis\",\"Link\",\"source\",\"changed\",\"simplified\",\"better\",\"formulae\",\"dont\",\"small\",\"mv\",\"Typo\",\"Clean\",\"Always\",\"missing\",\"fail\",\"strip\",\"golint\",\"goimports\",\"organized\",\"Github\",\"Improved\",\"Fixing\",\"Config\",\"Default\",\"lowercase\",\"even\",\"tests\",\"buidl\",\"create\",\"document\",\"homebrew-formulae\",\"customize\",\"tabs\",\"zip\",\"config\",\"continuing\",\"name\",\"?\",\"makefile\",\"misspell\",\"duplicated\",\":lipstick:\",\"empty\",\"got\",\"url\",\"Glob\",\"grammar\",\"wrong\",\"bos\",\"reorganized\",\"main.go\",\"wtfff\",\"readme,\",\"main\"]},\"yaxis\":{\"anchor\":\"x\",\"domain\":[0.0,1.0],\"title\":{\"text\":\"count\"}},\"legend\":{\"title\":{\"text\":\"reason\"},\"tracegroupgap\":0},\"margin\":{\"t\":60},\"barmode\":\"relative\",\"height\":500},                        {\"responsive\": true}                    ).then(function(){\n                            \nvar gd = document.getElementById('d11391ae-3c9d-417f-abd3-1a4f7bf7a25d');\nvar x = new MutationObserver(function (mutations, observer) {{\n        var display = window.getComputedStyle(gd).display;\n        if (!display || display === 'none') {{\n            console.log([gd, 'removed!']);\n            Plotly.purge(gd);\n            observer.disconnect();\n        }}\n}});\n\n// Listen for the removal of the full notebook cells\nvar notebookContainer = gd.closest('#notebook-container');\nif (notebookContainer) {{\n    x.observe(notebookContainer, {childList: true});\n}}\n\n// Listen for the clearing of the current output cell\nvar outputEl = gd.closest('.output');\nif (outputEl) {{\n    x.observe(outputEl, {childList: true});\n}}\n\n                        })                };                });            </script>        </div>"
     },
     "metadata": {},
     "output_type": "display_data"
    }
   ],
   "source": [
    "figure = px.bar(df, x=\"reason\", y=\"count\", color=\"reason\", hover_name=\"file\", height=500)\n",
    "figure.show()"
   ],
   "metadata": {
    "collapsed": false,
    "ExecuteTime": {
     "end_time": "2024-08-13T10:54:07.843324Z",
     "start_time": "2024-08-13T10:54:07.641073Z"
    }
   },
   "id": "59596c5e0058faf7",
   "execution_count": 92
  }
 ],
 "metadata": {
  "kernelspec": {
   "display_name": "miner-kernel",
   "language": "python",
   "name": "miner-kernel"
  },
  "language_info": {
   "codemirror_mode": {
    "name": "ipython",
    "version": 3
   },
   "file_extension": ".py",
   "mimetype": "text/x-python",
   "name": "python",
   "nbconvert_exporter": "python",
   "pygments_lexer": "ipython3",
   "version": "3.11.9"
  }
 },
 "nbformat": 4,
 "nbformat_minor": 5
}
