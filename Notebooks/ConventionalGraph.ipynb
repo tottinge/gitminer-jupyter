{
 "cells": [
  {
   "cell_type": "code",
   "execution_count": 61,
   "id": "6869fafd-76d9-4603-9125-65be07fd4cb3",
   "metadata": {
    "ExecuteTime": {
     "end_time": "2024-08-12T18:27:06.462801Z",
     "start_time": "2024-08-12T18:27:06.453869Z"
    }
   },
   "outputs": [],
   "source": [
    "import re\n",
    "from collections import Counter\n",
    "\n",
    "import git\n",
    "import pandas as pd\n",
    "import plotly.express as px"
   ]
  },
  {
   "cell_type": "code",
   "execution_count": 62,
   "id": "30d3b19c-ff85-4d96-97c8-208dcb2a7b16",
   "metadata": {
    "ExecuteTime": {
     "end_time": "2024-08-12T18:27:06.472006Z",
     "start_time": "2024-08-12T18:27:06.465274Z"
    }
   },
   "outputs": [],
   "source": [
    "repo = git.Repo(\"/Users/timottinger/Projects/siemens-wfx\")\n"
   ]
  },
  {
   "cell_type": "code",
   "execution_count": 63,
   "id": "28bcc83f-be2d-4013-b9d7-94471a3c30f3",
   "metadata": {
    "ExecuteTime": {
     "end_time": "2024-08-12T18:27:06.472244Z",
     "start_time": "2024-08-12T18:27:06.469369Z"
    }
   },
   "outputs": [
    {
     "name": "stdout",
     "output_type": "stream",
     "text": [
      "feat\n",
      "feat\n",
      "doc\n",
      "fix\n"
     ]
    }
   ],
   "source": [
    "\n",
    "pattern = re.compile(r'^(\\w+)[\\!(:]')\n",
    "for text in [\"feat(this):\", \"feat:\", \"doc(readme): blah\", \"fix(that): cozectify the flimble\"]:\n",
    "    print(pattern.search(text).group(1))"
   ]
  },
  {
   "cell_type": "code",
   "execution_count": 64,
   "id": "42c65157-35fa-4f32-a057-4ebf703587cf",
   "metadata": {
    "ExecuteTime": {
     "end_time": "2024-08-12T18:27:08.538682Z",
     "start_time": "2024-08-12T18:27:06.472272Z"
    }
   },
   "outputs": [
    {
     "data": {
      "text/plain": "Counter({('.github/workflows/chore.yml', 'fix'): 1,\n         ('.github/workflows/ci.yml', 'fix'): 2,\n         ('.github/workflows/pages.yml', 'fix'): 2,\n         ('.gitlab-ci.yml', 'fix'): 1,\n         ('contrib/config-deployment/client/go.mod', 'fix'): 2,\n         ('contrib/remote-access/client/go.mod', 'fix'): 2,\n         ('go.mod', 'fix'): 3,\n         ('hugo/package-lock.json', 'fix'): 1,\n         ('.ci/packages/versions.env', 'chore'): 10,\n         ('renovate.json5', 'chore'): 1,\n         ('.github/workflows/chore.yml', 'chore'): 2,\n         ('.github/workflows/ci.yml', 'chore'): 19,\n         ('.github/workflows/pages.yml', 'chore'): 11,\n         ('.github/workflows/pr.yml', 'chore'): 4,\n         ('.github/workflows/release.yml', 'chore'): 10,\n         ('.gitlab-ci.yml', 'chore'): 5,\n         ('generated/ent/ent.go', 'chore'): 1,\n         ('generated/ent/history_query.go', 'chore'): 1,\n         ('generated/ent/job_query.go', 'chore'): 1,\n         ('generated/ent/runtime/runtime.go', 'chore'): 4,\n         ('generated/ent/tag_query.go', 'chore'): 1,\n         ('generated/ent/workflow_query.go', 'chore'): 1,\n         ('go.mod', 'chore'): 73,\n         ('hugo/package-lock.json', 'chore'): 13,\n         ('shell.nix', 'chore'): 2,\n         ('CHANGELOG.md', 'fix'): 6,\n         ('cmd/wfx/cmd/root/plugins.go', 'fix'): 1,\n         ('cmd/wfx/cmd/root/plugins_disabled.go', 'fix'): 1,\n         ('cmd/wfx/cmd/root/plugins_disabled_test.go', 'fix'): 1,\n         ('cmd/wfx/cmd/root/plugins_enabled.go', 'fix'): 1,\n         ('example/plugin/go.mod', 'fix'): 1,\n         ('CHANGELOG.md', 'chore'): 7,\n         ('.goreleaser.yml', 'chore'): 2,\n         ('.github/workflows/release.yml', 'ci'): 3,\n         ('.github/workflows/chore.yml', 'ci'): 1,\n         ('Dockerfile', 'chore'): 2,\n         ('contrib/config-deployment/client/go.mod', 'chore'): 6,\n         ('contrib/remote-access/client/go.mod', 'chore'): 6,\n         ('example/plugin/go.mod', 'chore'): 4,\n         ('generated/client/jobs/delete_jobs_id_responses.go', 'chore'): 1,\n         ('generated/client/jobs/delete_jobs_id_tags_responses.go',\n          'chore'): 1,\n         ('generated/client/jobs/get_jobs_events_responses.go', 'chore'): 1,\n         ('generated/client/jobs/get_jobs_id_definition_responses.go',\n          'chore'): 1,\n         ('generated/client/jobs/get_jobs_id_responses.go', 'chore'): 1,\n         ('generated/client/jobs/get_jobs_id_status_responses.go', 'chore'): 1,\n         ('generated/client/jobs/get_jobs_id_tags_responses.go', 'chore'): 1,\n         ('generated/client/jobs/get_jobs_responses.go', 'chore'): 1,\n         ('generated/client/jobs/jobs_client.go', 'chore'): 1,\n         ('generated/client/jobs/post_jobs_id_tags_responses.go', 'chore'): 1,\n         ('generated/client/jobs/post_jobs_responses.go', 'chore'): 1,\n         ('generated/client/jobs/put_jobs_id_definition_responses.go',\n          'chore'): 1,\n         ('generated/client/jobs/put_jobs_id_status_responses.go', 'chore'): 1,\n         ('generated/client/workflows/delete_workflows_name_responses.go',\n          'chore'): 1,\n         ('generated/client/workflows/get_workflows_name_responses.go',\n          'chore'): 1,\n         ('generated/client/workflows/get_workflows_responses.go', 'chore'): 1,\n         ('generated/client/workflows/post_workflows_responses.go',\n          'chore'): 1,\n         ('generated/client/workflows/workflows_client.go', 'chore'): 1,\n         ('justfile', 'chore'): 1,\n         ('persistence/mock_Storage.go', 'chore'): 3,\n         ('hugo/config.toml', 'chore'): 2,\n         ('hugo/content/_index.html', 'chore'): 1,\n         ('hugo/go.mod', 'chore'): 6,\n         ('.github/dependabot.yml', 'ci'): 2,\n         ('.github/workflows/update.yml', 'ci'): 2,\n         ('.ci/packages/versions.env', 'ci'): 2,\n         ('renovate.json5', 'ci'): 1,\n         ('.ci/packages/flatbuffers.sh', 'ci'): 1,\n         ('.ci/packages/go-swagger.sh', 'ci'): 1,\n         ('.ci/packages/gofumpt.sh', 'ci'): 1,\n         ('.ci/packages/golangci-lint.sh', 'ci'): 1,\n         ('.ci/packages/goreleaser.sh', 'ci'): 1,\n         ('.ci/packages/hugo.sh', 'ci'): 1,\n         ('.ci/packages/just.sh', 'ci'): 1,\n         ('.ci/packages/markdown-link-check.sh', 'ci'): 1,\n         ('.ci/packages/mockery.sh', 'ci'): 1,\n         ('.ci/packages/pandoc.sh', 'ci'): 1,\n         ('.ci/packages/staticcheck.sh', 'ci'): 1,\n         ('.ci/packages/zig.sh', 'ci'): 1,\n         ('.ci/setup-build.sh', 'ci'): 1,\n         ('.ci/setup-cli-tests.sh', 'ci'): 1,\n         ('.ci/setup-generate.sh', 'ci'): 1,\n         ('.ci/setup-lint.sh', 'ci'): 1,\n         ('.ci/setup-mysql.sh', 'ci'): 1,\n         ('.ci/setup-pages.sh', 'ci'): 1,\n         ('.ci/setup-postgres.sh', 'ci'): 1,\n         ('.github/workflows/ci.yml', 'ci'): 7,\n         ('.github/workflows/hugo.yml', 'ci'): 1,\n         ('.github/workflows/pages.yml', 'ci'): 3,\n         ('.gitlab-ci.yml', 'ci'): 2,\n         ('Dockerfile', 'ci'): 1,\n         ('justfile', 'ci'): 4,\n         ('contrib/remote-access/client/main.go', 'feat'): 2,\n         ('contrib/remote-access/client/unix.go', 'feat'): 1,\n         ('contrib/remote-access/client/windows.go', 'feat'): 1,\n         ('contrib/config-deployment/Makefile', 'chore'): 1,\n         ('contrib/remote-access/Makefile', 'chore'): 1,\n         ('go.work', 'chore'): 2,\n         ('.goreleaser.yml', 'feat'): 2,\n         ('CHANGELOG.md', 'feat'): 5,\n         ('.github/workflows/hugo.yml', 'chore'): 3,\n         ('hugo/package.json', 'chore'): 10,\n         ('persistence/mock_Storage.go', 'ci'): 1,\n         ('.goreleaser.yml', 'ci'): 7,\n         ('generated/ent/history.go', 'chore'): 1,\n         ('generated/ent/job.go', 'chore'): 1,\n         ('cmd/wfx/cmd/root/plugins.go', 'feat'): 2,\n         ('cmd/wfx/cmd/root/plugins_disabled.go', 'feat'): 2,\n         ('cmd/wfx/cmd/root/plugins_disabled_test.go', 'feat'): 1,\n         ('cmd/wfx/cmd/root/plugins_flag.go', 'feat'): 1,\n         ('cmd/wfx-viewer/cmd.go', 'test'): 1,\n         ('cmd/wfx-viewer/cmd_test.go', 'test'): 1,\n         ('cmd/wfx-viewer/flags.go', 'test'): 1,\n         ('cmd/wfx-viewer/main.go', 'test'): 1,\n         ('cmd/wfx-viewer/main_test.go', 'test'): 1,\n         ('cmd/wfx-viewer/output/all_test.go', 'test'): 1,\n         ('cmd/wfx-viewer/testdata/cmd_test.TestPlantUML_File.approved.txt',\n          'test'): 1,\n         ('cmd/wfx-viewer/testdata/cmd_test.TestPlantUML_Stdout.approved.txt',\n          'test'): 1,\n         ('cmd/wfx-viewer/flags.go', 'feat'): 1,\n         ('cmd/wfx-viewer/main.go', 'feat'): 1,\n         ('cmd/wfx-viewer/output/mermaid/mermaid.go', 'feat'): 2,\n         ('cmd/wfx-viewer/output/mermaid/testdata/mermaid_test.TestGenerate.approved.txt',\n          'feat'): 2,\n         ('cmd/wfx-viewer/output/svg/svg.go', 'feat'): 1,\n         ('cmd/wfx-viewer/output/svg/svg_test.go', 'feat'): 1,\n         ('codecov.yml', 'ci'): 5,\n         ('cmd/wfx-viewer/output/svg/main_test.go', 'test'): 1,\n         ('cmd/wfx-viewer/output/svg/svg_test.go', 'test'): 1,\n         ('cmd/wfx-viewer/io.go', 'refactor'): 1,\n         ('cmd/wfx-viewer/main.go', 'refactor'): 2,\n         ('.golangci.yml', 'test'): 1,\n         ('cmd/wfx-viewer/output/plantuml/main_test.go', 'test'): 1,\n         ('cmd/wfx-viewer/output/plantuml/plantuml.go', 'test'): 1,\n         ('cmd/wfx-viewer/output/plantuml/plantuml_test.go', 'test'): 1,\n         ('cmd/wfx-viewer/output/plantuml/testdata/plantuml_test.TestGenerate.approved.txt',\n          'test'): 1,\n         ('cmd/wfx-viewer/output/all.go', 'feat'): 2,\n         ('cmd/wfx-viewer/output/mermaid/main_test.go', 'feat'): 1,\n         ('cmd/wfx-viewer/output/mermaid/mermaid_test.go', 'feat'): 1,\n         ('docs/installation.md', 'feat'): 2,\n         ('cmd/wfx-viewer/output/smcat/main_test.go', 'feat'): 1,\n         ('cmd/wfx-viewer/output/smcat/smcat.go', 'feat'): 1,\n         ('cmd/wfx-viewer/output/smcat/smcat_test.go', 'feat'): 1,\n         ('cmd/wfx-viewer/output/smcat/testdata/smcat_test.TestGenerate.approved.txt',\n          'feat'): 1,\n         ('go.mod', 'feat'): 5,\n         ('internal/handler/job/create.go', 'feat'): 2,\n         ('internal/handler/job/create_test.go', 'feat'): 2,\n         ('internal/workflow/workflow.go', 'feat'): 2,\n         ('internal/workflow/workflow_test.go', 'feat'): 2,\n         ('cmd/wfx-viewer/colors/colors.go', 'refactor'): 1,\n         ('cmd/wfx-viewer/colors/colors_test.go', 'refactor'): 1,\n         ('cmd/wfx-viewer/colors/main_test.go', 'refactor'): 1,\n         ('cmd/wfx-viewer/output/plantuml/plantuml.go', 'refactor'): 2,\n         ('cmd/wfx-viewer/flags.go', 'refactor'): 1,\n         ('cmd/wfx-viewer/output/all.go', 'refactor'): 1,\n         ('cmd/wfx-viewer/output/svg/svg.go', 'refactor'): 1,\n         ('cmd/wfx-viewer/plantuml.go', 'refactor'): 1,\n         ('cmd/wfx-viewer/svg.go', 'refactor'): 1,\n         ('cmd/wfx-loadtest/root.go', 'chore'): 1,\n         ('cmd/wfx-viewer/flags.go', 'chore'): 1,\n         ('cmd/wfx-viewer/main.go', 'chore'): 1,\n         ('cmd/wfx/cmd/root/cmd.go', 'chore'): 2,\n         ('cmd/wfx/cmd/root/cmd_test.go', 'chore'): 1,\n         ('cmd/wfx/cmd/root/flags.go', 'chore'): 1,\n         ('cmd/wfx/cmd/root/server_test.go', 'chore'): 1,\n         ('cmd/wfxctl/cmd/health/health.go', 'chore'): 1,\n         ('cmd/wfxctl/cmd/job/delete/delete.go', 'chore'): 1,\n         ('cmd/wfxctl/cmd/job/events/events.go', 'chore'): 3,\n         ('cmd/wfxctl/cmd/job/get/get.go', 'chore'): 1,\n         ('cmd/wfxctl/cmd/job/getdefinition/get_definition.go', 'chore'): 1,\n         ('cmd/wfxctl/cmd/job/getstatus/get_status.go', 'chore'): 1,\n         ('cmd/wfxctl/cmd/job/gettags/get_tags.go', 'chore'): 1,\n         ('cmd/wfxctl/cmd/job/query/query.go', 'chore'): 1,\n         ('cmd/wfxctl/cmd/job/updatedefinition/update_definition.go',\n          'chore'): 1,\n         ('cmd/wfxctl/cmd/job/updatestatus/update_status.go', 'chore'): 1,\n         ('cmd/wfxctl/cmd/root.go', 'chore'): 1,\n         ('cmd/wfxctl/cmd/version/version.go', 'chore'): 1,\n         ('cmd/wfxctl/cmd/workflow/create/create.go', 'chore'): 1,\n         ('cmd/wfxctl/cmd/workflow/get/get.go', 'chore'): 1,\n         ('cmd/wfxctl/cmd/workflow/query/query.go', 'chore'): 1,\n         ('cmd/wfxctl/cmd/workflow/validate/validate.go', 'chore'): 2,\n         ('internal/server/http_test.go', 'chore'): 1,\n         ('middleware/fileserver/fileserver_test.go', 'chore'): 1,\n         ('middleware/health/health.go', 'chore'): 1,\n         ('middleware/jq/gojq_test.go', 'chore'): 1,\n         ('middleware/logging/log_test.go', 'chore'): 1,\n         ('middleware/plugin/middleware_test.go', 'chore'): 1,\n         ('middleware/responder/sse/responder.go', 'chore'): 1,\n         ('workflow/dfs.go', 'chore'): 1,\n         ('cmd/wfxctl/errutil/util.go', 'chore'): 1,\n         ('middleware/logging/log.go', 'chore'): 1,\n         ('middleware/logging/writer.go', 'chore'): 1,\n         ('middleware/logging/writer_test.go', 'chore'): 1,\n         ('middleware/plugin/middleware.go', 'chore'): 1,\n         ('Makefile', 'fix'): 1,\n         ('docs/workflows.md', 'docs'): 2,\n         ('generated/model/job.go', 'docs'): 1,\n         ('generated/northbound/restapi/embedded_spec.go', 'docs'): 1,\n         ('generated/southbound/restapi/embedded_spec.go', 'docs'): 1,\n         ('spec/wfx.swagger.yml', 'docs'): 1,\n         ('internal/handler/job/create_test.go', 'fix'): 2,\n         ('internal/persistence/entgo/job_create.go', 'fix'): 1,\n         ('.gitignore', 'fix'): 1,\n         ('middleware/plugin/fbplugin.go', 'fix'): 1,\n         ('middleware/plugin/process_unix.go', 'fix'): 1,\n         ('middleware/plugin/process_windows.go', 'fix'): 1,\n         ('cmd/wfx/main.go', 'chore'): 1,\n         ('.golangci.yml', 'chore'): 2,\n         ('Makefile', 'chore'): 1,\n         ('cmd/wfxctl/cmd/job/events/events_test.go', 'chore'): 1,\n         ('docs/installation.md', 'chore'): 2,\n         ('.github/workflows/ci.yml', 'feat'): 2,\n         ('.gitlab-ci.yml', 'feat'): 2,\n         ('.golangci.yml', 'feat'): 2,\n         ('Makefile', 'feat'): 1,\n         ('cmd/wfx/cmd/root/cmd.go', 'feat'): 2,\n         ('cmd/wfx/cmd/root/cmd_test.go', 'feat'): 1,\n         ('cmd/wfx/cmd/root/northbound.go', 'feat'): 1,\n         ('cmd/wfx/cmd/root/plugins_test.go', 'feat'): 1,\n         ('cmd/wfx/cmd/root/southbound.go', 'feat'): 1,\n         ('docs/operations.md', 'feat'): 2,\n         ('example/plugin/.gitignore', 'feat'): 1,\n         ('example/plugin/go.mod', 'feat'): 1,\n         ('example/plugin/main.go', 'feat'): 1,\n         ('fbs/client/header.fbs', 'feat'): 1,\n         ('fbs/client/request.fbs', 'feat'): 1,\n         ('fbs/client/response.fbs', 'feat'): 1,\n         ('fbs/request.fbs', 'feat'): 1,\n         ('fbs/response.fbs', 'feat'): 1,\n         ('generated/plugin/Payload.go', 'feat'): 1,\n         ('generated/plugin/PluginRequest.go', 'feat'): 1,\n         ('generated/plugin/PluginResponse.go', 'feat'): 1,\n         ('generated/plugin/client/Action.go', 'feat'): 1,\n         ('generated/plugin/client/Envelope.go', 'feat'): 1,\n         ('generated/plugin/client/Request.go', 'feat'): 1,\n         ('generated/plugin/client/Response.go', 'feat'): 1,\n         ('generated/plugin/client/ResponseStatus.go', 'feat'): 1,\n         ('go.work', 'feat'): 3,\n         ('justfile', 'feat'): 2,\n         ('middleware/logging/log.go', 'feat'): 1,\n         ('middleware/logging/log_test.go', 'feat'): 1,\n         ('middleware/logging/reader.go', 'feat'): 1,\n         ('middleware/logging/reader_test.go', 'feat'): 1,\n         ('middleware/plugin/fbplugin.go', 'feat'): 1,\n         ('middleware/plugin/fbplugin_test.go', 'feat'): 1,\n         ('middleware/plugin/ioutil/io.go', 'feat'): 1,\n         ('middleware/plugin/ioutil/io_test.go', 'feat'): 1,\n         ('middleware/plugin/ioutil/main_test.go', 'feat'): 1,\n         ('middleware/plugin/main_test.go', 'feat'): 1,\n         ('middleware/plugin/middleware.go', 'feat'): 1,\n         ('middleware/plugin/middleware_test.go', 'feat'): 1,\n         ('middleware/plugin/plugin.go', 'feat'): 1,\n         ('middleware/plugin/process_unix.go', 'feat'): 1,\n         ('middleware/plugin/process_unix_test.go', 'feat'): 1,\n         ('middleware/plugin/process_windows.go', 'feat'): 1,\n         ('shell.nix', 'feat'): 1,\n         ('api/job_events_test.go', 'feat'): 1,\n         ('api/job_status_test.go', 'feat'): 1,\n         ('api/northbound.go', 'feat'): 1,\n         ('api/northbound_test.go', 'feat'): 1,\n         ('api/southbound.go', 'feat'): 1,\n         ('api/southbound_test.go', 'feat'): 1,\n         ('api/workflow_test.go', 'feat'): 1,\n         ('cmd/wfxctl/cmd/job/events/events.go', 'feat'): 1,\n         ('cmd/wfxctl/cmd/job/events/events_test.go', 'feat'): 1,\n         ('cmd/wfxctl/cmd/job/events/main_test.go', 'feat'): 1,\n         ('cmd/wfxctl/cmd/job/job.go', 'feat'): 1,\n         ('cmd/wfxctl/cmd/job/updatestatus/update_status_test.go', 'feat'): 1,\n         ('cmd/wfxctl/flags/basecmd.go', 'feat'): 1,\n         ('generated/client/jobs/get_jobs_events_parameters.go', 'feat'): 1,\n         ('generated/client/jobs/get_jobs_events_responses.go', 'feat'): 1,\n         ('generated/client/jobs/jobs_client.go', 'feat'): 1,\n         ('generated/model/job.go', 'feat'): 1,\n         ('generated/model/workflow.go', 'feat'): 2,\n         ('generated/northbound/restapi/configure_workflow_executor.go',\n          'feat'): 1,\n         ('generated/northbound/restapi/doc.go', 'feat'): 1,\n         ('generated/northbound/restapi/embedded_spec.go', 'feat'): 2,\n         ('generated/northbound/restapi/operations/northbound/get_jobs_events.go',\n          'feat'): 1,\n         ('generated/northbound/restapi/operations/northbound/get_jobs_events_parameters.go',\n          'feat'): 1,\n         ('generated/northbound/restapi/operations/northbound/get_jobs_events_responses.go',\n          'feat'): 1,\n         ('generated/northbound/restapi/operations/northbound/get_jobs_events_urlbuilder.go',\n          'feat'): 1,\n         ('generated/northbound/restapi/operations/workflow_executor_api.go',\n          'feat'): 1,\n         ('generated/southbound/restapi/configure_workflow_executor.go',\n          'feat'): 1,\n         ('generated/southbound/restapi/doc.go', 'feat'): 1,\n         ('generated/southbound/restapi/embedded_spec.go', 'feat'): 2,\n         ('generated/southbound/restapi/operations/southbound/get_jobs_events.go',\n          'feat'): 1,\n         ('generated/southbound/restapi/operations/southbound/get_jobs_events_parameters.go',\n          'feat'): 1,\n         ('generated/southbound/restapi/operations/southbound/get_jobs_events_responses.go',\n          'feat'): 1,\n         ('generated/southbound/restapi/operations/southbound/get_jobs_events_urlbuilder.go',\n          'feat'): 1,\n         ('generated/southbound/restapi/operations/workflow_executor_api.go',\n          'feat'): 1,\n         ('internal/errutil/wrap_test.go', 'feat'): 1,\n         ('internal/handler/job/definition/update.go', 'feat'): 1,\n         ('internal/handler/job/definition/update_test.go', 'feat'): 1,\n         ('internal/handler/job/delete.go', 'feat'): 1,\n         ('internal/handler/job/delete_test.go', 'feat'): 1,\n         ('internal/handler/job/events/events.go', 'feat'): 1,\n         ('internal/handler/job/events/events_test.go', 'feat'): 1,\n         ('internal/handler/job/events/main_test.go', 'feat'): 1,\n         ('internal/handler/job/get.go', 'feat'): 1,\n         ('internal/handler/job/get_test.go', 'feat'): 1,\n         ('internal/handler/job/status/get_test.go', 'feat'): 1,\n         ('internal/handler/job/status/update.go', 'feat'): 1,\n         ('internal/handler/job/status/update_test.go', 'feat'): 1,\n         ('internal/handler/job/tags/add.go', 'feat'): 1,\n         ('internal/handler/job/tags/add_test.go', 'feat'): 1,\n         ('internal/handler/job/tags/delete.go', 'feat'): 1,\n         ('internal/handler/job/tags/delete_test.go', 'feat'): 1,\n         ('internal/handler/job/tags/get_test.go', 'feat'): 1,\n         ('internal/persistence/entgo/job_create.go', 'feat'): 1,\n         ('internal/persistence/entgo/job_get.go', 'feat'): 1,\n         ('internal/persistence/entgo/job_update.go', 'feat'): 1,\n         ('internal/persistence/tests/job_get.go', 'feat'): 1,\n         ('internal/persistence/tests/job_query.go', 'feat'): 1,\n         ('internal/persistence/tests/job_update_definition.go', 'feat'): 1,\n         ('internal/persistence/tests/job_update_status.go', 'feat'): 1,\n         ('internal/producer/text_event_stream.go', 'feat'): 1,\n         ('internal/producer/text_event_stream_test.go', 'feat'): 1,\n         ('middleware/logging/writer.go', 'feat'): 1,\n         ('middleware/logging/writer_test.go', 'feat'): 1,\n         ('middleware/responder/sse/main_test.go', 'feat'): 1,\n         ('middleware/responder/sse/responder.go', 'feat'): 1,\n         ('middleware/responder/sse/responder_test.go', 'feat'): 1,\n         ('middleware/responder/util/content_type.go', 'feat'): 1,\n         ('middleware/responder/util/content_type_test.go', 'feat'): 1,\n         ('middleware/responder/util/main_test.go', 'feat'): 1,\n         ('persistence/all_test.go', 'feat'): 1,\n         ('spec/wfx.swagger.yml', 'feat'): 2,\n         ('test/05-workflows.bats', 'feat'): 1,\n         ('README.md', 'docs'): 3,\n         ('docs/use-cases.md', 'docs'): 1,\n         ('hugo/.gitignore', 'docs'): 1,\n         ('hugo/Makefile', 'docs'): 1,\n         ('hugo/filters/fix-links-post.lua', 'docs'): 1,\n         ('hugo/filters/fix-links-pre.lua', 'docs'): 1,\n         ('contrib/config-deployment/README.md', 'chore'): 1,\n         ('generated/ent/client.go', 'chore'): 2,\n         ('generated/ent/history_update.go', 'chore'): 1,\n         ('generated/ent/job_update.go', 'chore'): 1,\n         ('generated/ent/tag_update.go', 'chore'): 1,\n         ('generated/ent/workflow_update.go', 'chore'): 1,\n         ('.github/dependabot.yml', 'chore'): 3,\n         ('contrib/config-deployment/.gitignore', 'feat'): 1,\n         ('contrib/config-deployment/Makefile', 'feat'): 1,\n         ('contrib/config-deployment/README.md', 'feat'): 1,\n         ('contrib/config-deployment/client/download.go', 'feat'): 1,\n         ('contrib/config-deployment/client/go.mod', 'feat'): 1,\n         ('contrib/config-deployment/client/main.go', 'feat'): 1,\n         ('contrib/config-deployment/client/worker.go', 'feat'): 1,\n         ('contrib/config-deployment/create-job.sh', 'feat'): 1,\n         ('contrib/config-deployment/wfx.workflow.config.deployment.yml',\n          'feat'): 1,\n         ('share/demo/config-deployment/01-start-wfx.sh', 'feat'): 1,\n         ('share/demo/config-deployment/02-create-workflow.sh', 'feat'): 1,\n         ('share/demo/config-deployment/03-start-client.sh', 'feat'): 1,\n         ('share/demo/config-deployment/04-create-job.sh', 'feat'): 1,\n         ('share/demo/config-deployment/definition.json', 'feat'): 1,\n         ('share/demo/config-deployment/files/example.ini', 'feat'): 1,\n         ('share/demo/config-deployment/wfx.workflow.config.deployment.yml',\n          'feat'): 1,\n         ('share/demo/config-deployment/zellij.kdl', 'feat'): 1,\n         ('contrib/remote-access/.gitignore', 'feat'): 1,\n         ('contrib/remote-access/Makefile', 'feat'): 1,\n         ('contrib/remote-access/README.md', 'feat'): 1,\n         ('contrib/remote-access/client/go.mod', 'feat'): 1,\n         ('contrib/remote-access/create-job.sh', 'feat'): 1,\n         ('contrib/remote-access/shell.nix', 'feat'): 1,\n         ('contrib/remote-access/wfx.workflow.remote.access.yml', 'feat'): 1,\n         ('cmd/wfx/main.go', 'feat'): 1,\n         ('middleware/fileserver/fileserver.go', 'chore'): 1,\n         ('share/demo/demo.sh', 'refactor'): 1,\n         ('share/demo/kanban/01-start-wfx.sh', 'refactor'): 1,\n         ('share/demo/kanban/02-create-workflow.sh', 'refactor'): 1,\n         ('share/demo/kanban/03-producer.sh', 'refactor'): 1,\n         ('share/demo/kanban/04-consumer.sh', 'refactor'): 1,\n         ('share/demo/kanban/demo.sh', 'refactor'): 1,\n         ('share/demo/demo.sh', 'chore'): 1,\n         ('share/demo/wfx.inc.sh', 'chore'): 1,\n         ('share/demo/wfxctl.inc.sh', 'chore'): 1,\n         ('internal/handler/workflow/get.go', 'style'): 1,\n         ('internal/handler/workflow/get_test.go', 'style'): 1,\n         ('internal/producer/json.go', 'test'): 1,\n         ('internal/producer/json_test.go', 'test'): 1,\n         ('api/northbound.go', 'refactor'): 2,\n         ('internal/handler/job/definition/update.go', 'refactor'): 1,\n         ('internal/handler/job/delete.go', 'refactor'): 1,\n         ('internal/handler/job/status/update.go', 'refactor'): 1,\n         ('internal/handler/job/tags/add.go', 'refactor'): 1,\n         ('internal/handler/job/tags/add_test.go', 'refactor'): 1,\n         ('internal/handler/job/tags/delete.go', 'refactor'): 1,\n         ('internal/handler/job/tags/delete_test.go', 'refactor'): 1,\n         ('internal/handler/workflow/create.go', 'refactor'): 1,\n         ('internal/handler/workflow/delete.go', 'refactor'): 1,\n         ('.ci/mockery_header.txt', 'test'): 1,\n         ('.github/workflows/ci.yml', 'test'): 1,\n         ('.mockery.yaml', 'test'): 1,\n         ('codecov.yml', 'test'): 1,\n         ('go.mod', 'test'): 1,\n         ('justfile', 'test'): 2,\n         ('persistence/.mockery.yaml', 'test'): 1,\n         ('persistence/mock_Storage.go', 'test'): 1,\n         ('shell.nix', 'test'): 1,\n         ('CHANGELOG.md', 'refactor'): 1,\n         ('cmd/wfxctl/cmd/workflow/delete/delete.go', 'refactor'): 1,\n         ('cmd/wfxctl/cmd/workflow/delete/delete_test.go', 'refactor'): 1,\n         ('generated/ent/migrate/schema.go', 'feat'): 1,\n         ('generated/ent/mutation.go', 'feat'): 1,\n         ('generated/ent/runtime.go', 'feat'): 1,\n         ('generated/ent/schema/workflow.go', 'feat'): 1,\n         ('generated/ent/workflow.go', 'feat'): 1,\n         ('generated/ent/workflow/where.go', 'feat'): 1,\n         ('generated/ent/workflow/workflow.go', 'feat'): 1,\n         ('generated/ent/workflow_create.go', 'feat'): 1,\n         ('generated/ent/workflow_update.go', 'feat'): 1,\n         ('internal/persistence/entgo/migrations/mysql/20231026152159_add-workflow-description.down.sql',\n          'feat'): 1,\n         ('internal/persistence/entgo/migrations/mysql/20231026152159_add-workflow-description.up.sql',\n          'feat'): 1,\n         ('internal/persistence/entgo/migrations/postgres/20231026152156_add-workflow-description.down.sql',\n          'feat'): 1,\n         ('internal/persistence/entgo/migrations/postgres/20231026152156_add-workflow-description.up.sql',\n          'feat'): 1,\n         ('internal/persistence/entgo/migrations/sqlite/20231026152143_add-workflow-description.down.sql',\n          'feat'): 1,\n         ('internal/persistence/entgo/migrations/sqlite/20231026152143_add-workflow-description.up.sql',\n          'feat'): 1,\n         ('internal/persistence/entgo/workflow_create.go', 'feat'): 1,\n         ('internal/persistence/entgo/workflow_get.go', 'feat'): 1,\n         ('workflow/dau/wfx.workflow.dau.direct.yml', 'feat'): 1,\n         ('workflow/dau/wfx.workflow.dau.phased.yml', 'feat'): 1,\n         ('shell.nix', 'ci'): 1,\n         ('.markdown-link-check.json', 'ci'): 1,\n         ('docs/configuration.md', 'ci'): 1,\n         ('cmd/wfxctl/cmd/job/query/query.go', 'fix'): 1,\n         ('test/05-workflows.bats', 'fix'): 1,\n         ('.golangci.yml', 'fix'): 1,\n         ('api/northbound.go', 'fix'): 1,\n         ('api/northbound_test.go', 'fix'): 1,\n         ('api/southbound.go', 'fix'): 1,\n         ('api/southbound_test.go', 'fix'): 1,\n         ('api/workflow_test.go', 'fix'): 2,\n         ('cmd/wfx/cmd/root/cmd.go', 'fix'): 3,\n         ('cmd/wfx/cmd/root/cmd_test.go', 'fix'): 1,\n         ('cmd/wfx/cmd/root/northbound.go', 'fix'): 2,\n         ('cmd/wfx/cmd/root/server.go', 'fix'): 3,\n         ('cmd/wfx/cmd/root/southbound.go', 'fix'): 3,\n         ('internal/errutil/main_test.go', 'fix'): 1,\n         ('internal/errutil/wrap.go', 'fix'): 1,\n         ('internal/errutil/wrap_test.go', 'fix'): 1,\n         ('generated/ent/history/where.go', 'chore'): 1,\n         ('generated/ent/history_create.go', 'chore'): 1,\n         ('generated/ent/job/where.go', 'chore'): 1,\n         ('generated/ent/job_create.go', 'chore'): 1,\n         ('generated/ent/tag/where.go', 'chore'): 1,\n         ('generated/ent/tag_create.go', 'chore'): 1,\n         ('generated/ent/workflow/where.go', 'chore'): 1,\n         ('generated/ent/workflow_create.go', 'chore'): 1,\n         ('justfile', 'refactor'): 1,\n         ('internal/persistence/entgo/sqlite_test.go', 'refactor'): 1,\n         ('middleware/fileserver/fileserver_test.go', 'refactor'): 1,\n         ('middleware/logging/writer_test.go', 'refactor'): 1,\n         ('cmd/wfx/cmd/root/main_test.go', 'test'): 1,\n         ('cmd/wfxctl/cmd/health/main_test.go', 'test'): 1,\n         ('cmd/wfxctl/cmd/job/addtags/main_test.go', 'test'): 1,\n         ('cmd/wfxctl/cmd/job/create/main_test.go', 'test'): 1,\n         ('cmd/wfxctl/cmd/job/delete/main_test.go', 'test'): 1,\n         ('cmd/wfxctl/cmd/job/deltags/main_test.go', 'test'): 1,\n         ('cmd/wfxctl/cmd/job/get/main_test.go', 'test'): 1,\n         ('cmd/wfxctl/cmd/job/getdefinition/main_test.go', 'test'): 1,\n         ('cmd/wfxctl/cmd/job/getstatus/main_test.go', 'test'): 1,\n         ('cmd/wfxctl/cmd/job/gettags/main_test.go', 'test'): 1,\n         ('cmd/wfxctl/cmd/job/main_test.go', 'test'): 1,\n         ('cmd/wfxctl/cmd/job/query/main_test.go', 'test'): 1,\n         ('cmd/wfxctl/cmd/job/updatedefinition/main_test.go', 'test'): 1,\n         ('cmd/wfxctl/cmd/job/updatestatus/main_test.go', 'test'): 1,\n         ('cmd/wfxctl/cmd/main_test.go', 'test'): 1,\n         ('cmd/wfxctl/cmd/version/main_test.go', 'test'): 1,\n         ('cmd/wfxctl/cmd/workflow/create/main_test.go', 'test'): 1,\n         ('cmd/wfxctl/cmd/workflow/delete/main_test.go', 'test'): 1,\n         ('cmd/wfxctl/cmd/workflow/get/main_test.go', 'test'): 1,\n         ('cmd/wfxctl/cmd/workflow/main_test.go', 'test'): 1,\n         ('cmd/wfxctl/cmd/workflow/query/main_test.go', 'test'): 1,\n         ('cmd/wfxctl/cmd/workflow/validate/main_test.go', 'test'): 1,\n         ('cmd/wfxctl/errutil/main_test.go', 'test'): 1,\n         ('cmd/wfxctl/flags/main_test.go', 'test'): 1,\n         ('internal/config/main_test.go', 'test'): 1,\n         ('internal/producer/main_test.go', 'test'): 1,\n         ('internal/server/main_test.go', 'test'): 1,\n         ('internal/workflow/main_test.go', 'test'): 1,\n         ('middleware/fileserver/main_test.go', 'test'): 1,\n         ('middleware/health/main_test.go', 'test'): 1,\n         ('middleware/jq/main_test.go', 'test'): 1,\n         ('middleware/logging/main_test.go', 'test'): 1,\n         ('middleware/swagger/main_test.go', 'test'): 1,\n         ('middleware/version/main_test.go', 'test'): 1,\n         ('persistence/main_test.go', 'test'): 1,\n         ('workflow/dau/main_test.go', 'test'): 1,\n         ('workflow/main_test.go', 'test'): 1,\n         ('cmd/wfx/cmd/root/systemd.go', 'fix'): 2,\n         ('cmd/wfx/cmd/root/systemd_test.go', 'fix'): 1,\n         ('api/job_id_test.go', 'fix'): 1,\n         ('cmd/wfxctl/cmd/version/version_test.go', 'fix'): 1,\n         ('middleware/fileserver/fileserver.go', 'fix'): 2,\n         ('middleware/fileserver/fileserver_test.go', 'fix'): 2,\n         ('middleware/health/health.go', 'fix'): 1,\n         ('middleware/health/health_test.go', 'fix'): 1,\n         ('middleware/jq/gojq.go', 'fix'): 1,\n         ('middleware/jq/gojq_test.go', 'fix'): 1,\n         ('middleware/logging/log.go', 'fix'): 1,\n         ('middleware/logging/log_test.go', 'fix'): 1,\n         ('middleware/setup.go', 'fix'): 1,\n         ('middleware/swagger/hint.go', 'fix'): 1,\n         ('middleware/swagger/hint_test.go', 'fix'): 1,\n         ('middleware/swagger/middleware.go', 'fix'): 1,\n         ('middleware/swagger/middleware_test.go', 'fix'): 1,\n         ('middleware/version/version.go', 'fix'): 1,\n         ('middleware/version/version_test.go', 'fix'): 1,\n         ('test/04-operations.bats', 'test'): 2,\n         ('api/main_test.go', 'fix'): 1,\n         ('internal/handler/job/definition/get_test.go', 'fix'): 1,\n         ('internal/handler/job/definition/main_test.go', 'fix'): 1,\n         ('internal/handler/job/main_test.go', 'fix'): 1,\n         ('internal/handler/job/status/get_test.go', 'fix'): 1,\n         ('internal/handler/job/status/main_test.go', 'fix'): 1,\n         ('internal/handler/job/tags/add_test.go', 'fix'): 1,\n         ('internal/handler/job/tags/main_test.go', 'fix'): 1,\n         ('internal/handler/workflow/create_test.go', 'fix'): 1,\n         ('internal/handler/workflow/main_test.go', 'fix'): 1,\n         ('internal/persistence/entgo/main_test.go', 'fix'): 1,\n         ('internal/persistence/entgo/mysql.go', 'fix'): 1,\n         ('internal/persistence/entgo/mysql_test.go', 'fix'): 1,\n         ('internal/persistence/entgo/postgres_test.go', 'fix'): 1,\n         ('internal/persistence/entgo/sqlite.go', 'fix'): 1,\n         ('internal/persistence/entgo/sqlite_test.go', 'fix'): 1,\n         ('shell.nix', 'fix'): 1,\n         ('Makefile', 'refactor'): 1,\n         ('test/05-workflows.bats', 'test'): 1,\n         ('.ci/setup/just.sh', 'ci'): 1,\n         ('.ci/setup/staticcheck.sh', 'ci'): 1,\n         ('.ci/setup/swagger.sh', 'ci'): 1,\n         ('generated/ent/generate.go', 'ci'): 1,\n         ('generated/generate.go', 'ci'): 1,\n         ('share/demo/kanban/02-create-workflow.sh', 'fix'): 1,\n         ('share/demo/kanban/03-producer.sh', 'fix'): 1,\n         ('cmd/wfx/cmd/root/cmd.go', 'refactor'): 2,\n         ('cmd/wfx/cmd/root/northbound.go', 'refactor'): 2,\n         ('cmd/wfx/cmd/root/server.go', 'refactor'): 1,\n         ('cmd/wfx/cmd/root/server_test.go', 'refactor'): 1,\n         ('cmd/wfx/cmd/root/southbound.go', 'refactor'): 2,\n         ('cmd/wfx/cmd/root/systemd.go', 'refactor'): 1,\n         ('internal/server/http.go', 'refactor'): 1,\n         ('.golangci.yml', 'ci'): 1,\n         ('test/02-configuration.bats', 'ci'): 1,\n         ('test/Makefile', 'ci'): 1,\n         ('.ci/setup/swagger.sh', 'chore'): 1,\n         ('generated/model/error_response.go', 'chore'): 1,\n         ('generated/model/history.go', 'chore'): 1,\n         ('generated/model/job.go', 'chore'): 1,\n         ('generated/model/paginated_job_list.go', 'chore'): 1,\n         ('generated/model/paginated_workflow_list.go', 'chore'): 1,\n         ('generated/model/transition.go', 'chore'): 1,\n         ('generated/model/workflow.go', 'chore'): 1,\n         ('generated/northbound/restapi/operations/workflow_executor_api.go',\n          'chore'): 1,\n         ('generated/southbound/restapi/operations/workflow_executor_api.go',\n          'chore'): 1,\n         ('internal/config/koanf.go', 'refactor'): 1,\n         ('api/northbound_test.go', 'refactor'): 1,\n         ('api/southbound_test.go', 'refactor'): 1,\n         ('generated/northbound/restapi/configure_workflow_executor.go',\n          'refactor'): 1,\n         ('generated/southbound/restapi/configure_workflow_executor.go',\n          'refactor'): 1,\n         ('internal/jsonutil/producer.go', 'refactor'): 1,\n         ('internal/jsonutil/producer_test.go', 'refactor'): 1,\n         ('internal/producer/json.go', 'refactor'): 1,\n         ('internal/producer/json_test.go', 'refactor'): 1,\n         ('docs/configuration.md', 'docs'): 1,\n         ('workflow/dau/README.md', 'docs'): 3,\n         ('test/04-operations.bats', 'fix'): 1,\n         ('docs/configuration.md', 'feat'): 1,\n         ('internal/persistence/entgo/postgres.go', 'feat'): 1,\n         ('.ignore', 'chore'): 1,\n         ('.golangci.yml', 'style'): 1,\n         ('cmd/wfxctl/errutil/util.go', 'style'): 1,\n         ('hugo/content/_index.html', 'style'): 1,\n         ('.github/ISSUE_TEMPLATE/bug_report.md', 'refactor'): 1,\n         ('.github/ISSUE_TEMPLATE/bug_report.yml', 'refactor'): 1,\n         ('.github/ISSUE_TEMPLATE/feature_request.md', 'refactor'): 1,\n         ('.github/ISSUE_TEMPLATE/feature_request.yml', 'refactor'): 1,\n         ('README.md', 'style'): 1,\n         ('hugo/static/images/logo.svg', 'style'): 1,\n         ('docs/installation.md', 'docs'): 1,\n         ('.github/ISSUE_TEMPLATE.md', 'ci'): 1,\n         ('.github/ISSUE_TEMPLATE/bug_report.md', 'ci'): 1,\n         ('.github/ISSUE_TEMPLATE/feature_request.md', 'ci'): 1,\n         ('.ci/goreleaser/hook.sh', 'wfx'): 1,\n         ('.ci/goreleaser/postinstall.sh', 'wfx'): 1,\n         ('.ci/goreleaser/postremove.sh', 'wfx'): 1,\n         ('.ci/setup/just.sh', 'wfx'): 1,\n         ('.ci/setup/staticcheck.sh', 'wfx'): 1,\n         ('.ci/setup/swagger.sh', 'wfx'): 1,\n         ('.ci/zcc', 'wfx'): 1,\n         ('.editorconfig', 'wfx'): 1,\n         ('.gitattributes', 'wfx'): 1,\n         ('.github/CODEOWNERS', 'wfx'): 1,\n         ('.github/ISSUE_TEMPLATE.md', 'wfx'): 1,\n         ('.github/PULL_REQUEST_TEMPLATE.md', 'wfx'): 1,\n         ('.github/dependabot.yml', 'wfx'): 1,\n         ('.github/workflows/ci.yml', 'wfx'): 1,\n         ('.github/workflows/pages.yml', 'wfx'): 1,\n         ('.github/workflows/pr.yml', 'wfx'): 1,\n         ('.github/workflows/release.yml', 'wfx'): 1,\n         ('.gitignore', 'wfx'): 1,\n         ('.gitlab-ci.yml', 'wfx'): 1,\n         ('.gitmodules', 'wfx'): 1,\n         ('.golangci.yml', 'wfx'): 1,\n         ('.goreleaser.yml', 'wfx'): 1,\n         ('.ignore', 'wfx'): 1,\n         ('.markdown-link-check.json', 'wfx'): 1,\n         ('.markdownlintrc', 'wfx'): 1,\n         ('.pre-commit-config.yaml', 'wfx'): 1,\n         ('.prettierignore', 'wfx'): 1,\n         ('CHANGELOG.md', 'wfx'): 1,\n         ('CONTRIBUTING.md', 'wfx'): 1,\n         ('DEVELOPMENT.md', 'wfx'): 1,\n         ('Dockerfile', 'wfx'): 1,\n         ('LICENSES/Apache-2.0.txt', 'wfx'): 1,\n         ('Makefile', 'wfx'): 1,\n         ('README.md', 'wfx'): 1,\n         ('SECURITY.md', 'wfx'): 1,\n         ('api/errors.go', 'wfx'): 1,\n         ('api/job_definition_test.go', 'wfx'): 1,\n         ('api/job_id_test.go', 'wfx'): 1,\n         ('api/job_status_test.go', 'wfx'): 1,\n         ('api/job_tag_test.go', 'wfx'): 1,\n         ('api/jobs_test.go', 'wfx'): 1,\n         ('api/northbound.go', 'wfx'): 1,\n         ('api/northbound_test.go', 'wfx'): 1,\n         ('api/southbound.go', 'wfx'): 1,\n         ('api/southbound_test.go', 'wfx'): 1,\n         ('api/workflow_test.go', 'wfx'): 1,\n         ('cmd/wfx-loadtest/loadtest/dump.go', 'wfx'): 1,\n         ('cmd/wfx-loadtest/loadtest/loadtest.go', 'wfx'): 1,\n         ('cmd/wfx-loadtest/loadtest/write.go', 'wfx'): 1,\n         ('cmd/wfx-loadtest/main.go', 'wfx'): 1,\n         ('cmd/wfx-loadtest/root.go', 'wfx'): 1,\n         ('cmd/wfx-loadtest/wfx/workflow.go', 'wfx'): 1,\n         ('cmd/wfx-viewer/flags.go', 'wfx'): 1,\n         ('cmd/wfx-viewer/io.go', 'wfx'): 1,\n         ('cmd/wfx-viewer/main.go', 'wfx'): 1,\n         ('cmd/wfx-viewer/metadata/metadata.go', 'wfx'): 1,\n         ('cmd/wfx-viewer/plantuml.go', 'wfx'): 1,\n         ('cmd/wfx-viewer/svg.go', 'wfx'): 1,\n         ('cmd/wfx/cmd/root/cmd.go', 'wfx'): 1,\n         ('cmd/wfx/cmd/root/cmd_test.go', 'wfx'): 1,\n         ('cmd/wfx/cmd/root/config.go', 'wfx'): 1,\n         ('cmd/wfx/cmd/root/config_test.go', 'wfx'): 1,\n         ('cmd/wfx/cmd/root/flags.go', 'wfx'): 1,\n         ('cmd/wfx/cmd/root/northbound.go', 'wfx'): 1,\n         ('cmd/wfx/cmd/root/server.go', 'wfx'): 1,\n         ('cmd/wfx/cmd/root/server_test.go', 'wfx'): 1,\n         ('cmd/wfx/cmd/root/setup.go', 'wfx'): 1,\n         ('cmd/wfx/cmd/root/southbound.go', 'wfx'): 1,\n         ('cmd/wfx/cmd/root/systemd.go', 'wfx'): 1,\n         ('cmd/wfx/cmd/root/systemd_test.go', 'wfx'): 1,\n         ('cmd/wfx/main.go', 'wfx'): 1,\n         ('cmd/wfx/metadata/config/config.go', 'wfx'): 1,\n         ('cmd/wfx/metadata/metadata.go', 'wfx'): 1,\n         ('cmd/wfxctl/cmd/health/health.go', 'wfx'): 1,\n         ('cmd/wfxctl/cmd/health/health_test.go', 'wfx'): 1,\n         ('cmd/wfxctl/cmd/job/addtags/add_tags.go', 'wfx'): 1,\n         ('cmd/wfxctl/cmd/job/addtags/add_tags_test.go', 'wfx'): 1,\n         ('cmd/wfxctl/cmd/job/create/create.go', 'wfx'): 1,\n         ('cmd/wfxctl/cmd/job/create/create_test.go', 'wfx'): 1,\n         ('cmd/wfxctl/cmd/job/delete/delete.go', 'wfx'): 1,\n         ('cmd/wfxctl/cmd/job/delete/delete_test.go', 'wfx'): 1,\n         ('cmd/wfxctl/cmd/job/deltags/del_tags.go', 'wfx'): 1,\n         ('cmd/wfxctl/cmd/job/deltags/del_tags_test.go', 'wfx'): 1,\n         ('cmd/wfxctl/cmd/job/get/get.go', 'wfx'): 1,\n         ('cmd/wfxctl/cmd/job/get/get_test.go', 'wfx'): 1,\n         ('cmd/wfxctl/cmd/job/getdefinition/get_definition.go', 'wfx'): 1,\n         ('cmd/wfxctl/cmd/job/getdefinition/get_definition_test.go', 'wfx'): 1,\n         ('cmd/wfxctl/cmd/job/getstatus/get_status.go', 'wfx'): 1,\n         ('cmd/wfxctl/cmd/job/getstatus/get_status_test.go', 'wfx'): 1,\n         ('cmd/wfxctl/cmd/job/gettags/get_tags.go', 'wfx'): 1,\n         ('cmd/wfxctl/cmd/job/gettags/get_tags_test.go', 'wfx'): 1,\n         ('cmd/wfxctl/cmd/job/job.go', 'wfx'): 1,\n         ('cmd/wfxctl/cmd/job/job_test.go', 'wfx'): 1,\n         ('cmd/wfxctl/cmd/job/query/query.go', 'wfx'): 1,\n         ('cmd/wfxctl/cmd/job/query/query_test.go', 'wfx'): 1,\n         ('cmd/wfxctl/cmd/job/updatedefinition/update_definition.go',\n          'wfx'): 1,\n         ('cmd/wfxctl/cmd/job/updatedefinition/update_definition_test.go',\n          'wfx'): 1,\n         ('cmd/wfxctl/cmd/job/updatestatus/update_status.go', 'wfx'): 1,\n         ('cmd/wfxctl/cmd/job/updatestatus/update_status_test.go', 'wfx'): 1,\n         ('cmd/wfxctl/cmd/root.go', 'wfx'): 1,\n         ('cmd/wfxctl/cmd/root_test.go', 'wfx'): 1,\n         ('cmd/wfxctl/cmd/version/version.go', 'wfx'): 1,\n         ('cmd/wfxctl/cmd/version/version_test.go', 'wfx'): 1,\n         ('cmd/wfxctl/cmd/workflow/create/create.go', 'wfx'): 1,\n         ('cmd/wfxctl/cmd/workflow/create/create_test.go', 'wfx'): 1,\n         ('cmd/wfxctl/cmd/workflow/delete/delete.go', 'wfx'): 1,\n         ('cmd/wfxctl/cmd/workflow/delete/delete_test.go', 'wfx'): 1,\n         ('cmd/wfxctl/cmd/workflow/get/get.go', 'wfx'): 1,\n         ('cmd/wfxctl/cmd/workflow/get/get_test.go', 'wfx'): 1,\n         ('cmd/wfxctl/cmd/workflow/query/query.go', 'wfx'): 1,\n         ('cmd/wfxctl/cmd/workflow/query/query_test.go', 'wfx'): 1,\n         ('cmd/wfxctl/cmd/workflow/validate/validate.go', 'wfx'): 1,\n         ('cmd/wfxctl/cmd/workflow/validate/validate_test.go', 'wfx'): 1,\n         ('cmd/wfxctl/cmd/workflow/workflow.go', 'wfx'): 1,\n         ('cmd/wfxctl/cmd/workflow/workflow_test.go', 'wfx'): 1,\n         ('cmd/wfxctl/errutil/util.go', 'wfx'): 1,\n         ('cmd/wfxctl/errutil/util_test.go', 'wfx'): 1,\n         ('cmd/wfxctl/flags/basecmd.go', 'wfx'): 1,\n         ('cmd/wfxctl/flags/basecmd_test.go', 'wfx'): 1,\n         ('cmd/wfxctl/flags/flags.go', 'wfx'): 1,\n         ('cmd/wfxctl/main.go', 'wfx'): 1,\n         ('cmd/wfxctl/metadata/metadata.go', 'wfx'): 1,\n         ('docs/configuration.md', 'wfx'): 1,\n         ('docs/images/benchmark.png', 'wfx'): 1,\n         ('docs/installation.md', 'wfx'): 1,\n         ('docs/operations.md', 'wfx'): 1,\n         ('docs/workflows.md', 'wfx'): 1,\n         ('generated/client/jobs/delete_jobs_id_parameters.go', 'wfx'): 1,\n         ('generated/client/jobs/delete_jobs_id_responses.go', 'wfx'): 1,\n         ('generated/client/jobs/delete_jobs_id_tags_parameters.go', 'wfx'): 1,\n         ('generated/client/jobs/delete_jobs_id_tags_responses.go', 'wfx'): 1,\n         ('generated/client/jobs/get_jobs_id_definition_parameters.go',\n          'wfx'): 1,\n         ('generated/client/jobs/get_jobs_id_definition_responses.go',\n          'wfx'): 1,\n         ('generated/client/jobs/get_jobs_id_parameters.go', 'wfx'): 1,\n         ('generated/client/jobs/get_jobs_id_responses.go', 'wfx'): 1,\n         ('generated/client/jobs/get_jobs_id_status_parameters.go', 'wfx'): 1,\n         ('generated/client/jobs/get_jobs_id_status_responses.go', 'wfx'): 1,\n         ('generated/client/jobs/get_jobs_id_tags_parameters.go', 'wfx'): 1,\n         ('generated/client/jobs/get_jobs_id_tags_responses.go', 'wfx'): 1,\n         ('generated/client/jobs/get_jobs_parameters.go', 'wfx'): 1,\n         ('generated/client/jobs/get_jobs_responses.go', 'wfx'): 1,\n         ('generated/client/jobs/jobs_client.go', 'wfx'): 1,\n         ('generated/client/jobs/post_jobs_id_tags_parameters.go', 'wfx'): 1,\n         ('generated/client/jobs/post_jobs_id_tags_responses.go', 'wfx'): 1,\n         ('generated/client/jobs/post_jobs_parameters.go', 'wfx'): 1,\n         ('generated/client/jobs/post_jobs_responses.go', 'wfx'): 1,\n         ('generated/client/jobs/put_jobs_id_definition_parameters.go',\n          'wfx'): 1,\n         ('generated/client/jobs/put_jobs_id_definition_responses.go',\n          'wfx'): 1,\n         ('generated/client/jobs/put_jobs_id_status_parameters.go', 'wfx'): 1,\n         ('generated/client/jobs/put_jobs_id_status_responses.go', 'wfx'): 1,\n         ('generated/client/workflow_executor_client.go', 'wfx'): 1,\n         ('generated/client/workflows/delete_workflows_name_parameters.go',\n          'wfx'): 1,\n         ('generated/client/workflows/delete_workflows_name_responses.go',\n          'wfx'): 1,\n         ('generated/client/workflows/get_workflows_name_parameters.go',\n          'wfx'): 1,\n         ('generated/client/workflows/get_workflows_name_responses.go',\n          'wfx'): 1,\n         ('generated/client/workflows/get_workflows_parameters.go', 'wfx'): 1,\n         ('generated/client/workflows/get_workflows_responses.go', 'wfx'): 1,\n         ('generated/client/workflows/post_workflows_parameters.go', 'wfx'): 1,\n         ('generated/client/workflows/post_workflows_responses.go', 'wfx'): 1,\n         ('generated/client/workflows/workflows_client.go', 'wfx'): 1,\n         ('generated/ent/client.go', 'wfx'): 1,\n         ('generated/ent/ent.go', 'wfx'): 1,\n         ('generated/ent/enttest/enttest.go', 'wfx'): 1,\n         ('generated/ent/generate.go', 'wfx'): 1,\n         ('generated/ent/history.go', 'wfx'): 1,\n         ('generated/ent/history/history.go', 'wfx'): 1,\n         ('generated/ent/history/where.go', 'wfx'): 1,\n         ('generated/ent/history_create.go', 'wfx'): 1,\n         ('generated/ent/history_delete.go', 'wfx'): 1,\n         ('generated/ent/history_query.go', 'wfx'): 1,\n         ('generated/ent/history_update.go', 'wfx'): 1,\n         ('generated/ent/hook/hook.go', 'wfx'): 1,\n         ('generated/ent/job.go', 'wfx'): 1,\n         ('generated/ent/job/job.go', 'wfx'): 1,\n         ('generated/ent/job/where.go', 'wfx'): 1,\n         ('generated/ent/job_create.go', 'wfx'): 1,\n         ('generated/ent/job_delete.go', 'wfx'): 1,\n         ('generated/ent/job_query.go', 'wfx'): 1,\n         ('generated/ent/job_update.go', 'wfx'): 1,\n         ('generated/ent/migrate/main.go', 'wfx'): 1,\n         ('generated/ent/migrate/migrate.go', 'wfx'): 1,\n         ('generated/ent/migrate/schema.go', 'wfx'): 1,\n         ('generated/ent/mutation.go', 'wfx'): 1,\n         ('generated/ent/predicate/predicate.go', 'wfx'): 1,\n         ('generated/ent/runtime.go', 'wfx'): 1,\n         ('generated/ent/runtime/runtime.go', 'wfx'): 1,\n         ('generated/ent/schema/history.go', 'wfx'): 1,\n         ('generated/ent/schema/job.go', 'wfx'): 1,\n         ('generated/ent/schema/tag.go', 'wfx'): 1,\n         ('generated/ent/schema/workflow.go', 'wfx'): 1,\n         ('generated/ent/tag.go', 'wfx'): 1,\n         ('generated/ent/tag/tag.go', 'wfx'): 1,\n         ('generated/ent/tag/where.go', 'wfx'): 1,\n         ('generated/ent/tag_create.go', 'wfx'): 1,\n         ('generated/ent/tag_delete.go', 'wfx'): 1,\n         ('generated/ent/tag_query.go', 'wfx'): 1,\n         ('generated/ent/tag_update.go', 'wfx'): 1,\n         ('generated/ent/tx.go', 'wfx'): 1,\n         ('generated/ent/workflow.go', 'wfx'): 1,\n         ('generated/ent/workflow/where.go', 'wfx'): 1,\n         ('generated/ent/workflow/workflow.go', 'wfx'): 1,\n         ('generated/ent/workflow_create.go', 'wfx'): 1,\n         ('generated/ent/workflow_delete.go', 'wfx'): 1,\n         ('generated/ent/workflow_query.go', 'wfx'): 1,\n         ('generated/ent/workflow_update.go', 'wfx'): 1,\n         ('generated/generate.go', 'wfx'): 1,\n         ('generated/model/action_enum.go', 'wfx'): 1,\n         ('generated/model/eligible_enum.go', 'wfx'): 1,\n         ('generated/model/error.go', 'wfx'): 1,\n         ('generated/model/error_response.go', 'wfx'): 1,\n         ('generated/model/group.go', 'wfx'): 1,\n         ('generated/model/history.go', 'wfx'): 1,\n         ('generated/model/job.go', 'wfx'): 1,\n         ('generated/model/job_request.go', 'wfx'): 1,\n         ('generated/model/job_status.go', 'wfx'): 1,\n         ('generated/model/paginated_job_list.go', 'wfx'): 1,\n         ('generated/model/paginated_workflow_list.go', 'wfx'): 1,\n         ('generated/model/state.go', 'wfx'): 1,\n         ('generated/model/transition.go', 'wfx'): 1,\n         ('generated/model/workflow.go', 'wfx'): 1,\n         ('generated/northbound/restapi/configure_workflow_executor.go',\n          'wfx'): 1,\n         ('generated/northbound/restapi/doc.go', 'wfx'): 1,\n         ('generated/northbound/restapi/embedded_spec.go', 'wfx'): 1,\n         ('generated/northbound/restapi/operations/northbound/delete_jobs_id.go',\n          'wfx'): 1,\n         ('generated/northbound/restapi/operations/northbound/delete_jobs_id_parameters.go',\n          'wfx'): 1,\n         ('generated/northbound/restapi/operations/northbound/delete_jobs_id_responses.go',\n          'wfx'): 1,\n         ('generated/northbound/restapi/operations/northbound/delete_jobs_id_tags.go',\n          'wfx'): 1,\n         ('generated/northbound/restapi/operations/northbound/delete_jobs_id_tags_parameters.go',\n          'wfx'): 1,\n         ('generated/northbound/restapi/operations/northbound/delete_jobs_id_tags_responses.go',\n          'wfx'): 1,\n         ('generated/northbound/restapi/operations/northbound/delete_jobs_id_tags_urlbuilder.go',\n          'wfx'): 1,\n         ('generated/northbound/restapi/operations/northbound/delete_jobs_id_urlbuilder.go',\n          'wfx'): 1,\n         ('generated/northbound/restapi/operations/northbound/delete_workflows_name.go',\n          'wfx'): 1,\n         ('generated/northbound/restapi/operations/northbound/delete_workflows_name_parameters.go',\n          'wfx'): 1,\n         ('generated/northbound/restapi/operations/northbound/delete_workflows_name_responses.go',\n          'wfx'): 1,\n         ('generated/northbound/restapi/operations/northbound/delete_workflows_name_urlbuilder.go',\n          'wfx'): 1,\n         ('generated/northbound/restapi/operations/northbound/get_jobs.go',\n          'wfx'): 1,\n         ('generated/northbound/restapi/operations/northbound/get_jobs_id.go',\n          'wfx'): 1,\n         ('generated/northbound/restapi/operations/northbound/get_jobs_id_definition.go',\n          'wfx'): 1,\n         ('generated/northbound/restapi/operations/northbound/get_jobs_id_definition_parameters.go',\n          'wfx'): 1,\n         ('generated/northbound/restapi/operations/northbound/get_jobs_id_definition_responses.go',\n          'wfx'): 1,\n         ('generated/northbound/restapi/operations/northbound/get_jobs_id_definition_urlbuilder.go',\n          'wfx'): 1,\n         ('generated/northbound/restapi/operations/northbound/get_jobs_id_parameters.go',\n          'wfx'): 1,\n         ('generated/northbound/restapi/operations/northbound/get_jobs_id_responses.go',\n          'wfx'): 1,\n         ('generated/northbound/restapi/operations/northbound/get_jobs_id_status.go',\n          'wfx'): 1,\n         ('generated/northbound/restapi/operations/northbound/get_jobs_id_status_parameters.go',\n          'wfx'): 1,\n         ('generated/northbound/restapi/operations/northbound/get_jobs_id_status_responses.go',\n          'wfx'): 1,\n         ('generated/northbound/restapi/operations/northbound/get_jobs_id_status_urlbuilder.go',\n          'wfx'): 1,\n         ('generated/northbound/restapi/operations/northbound/get_jobs_id_tags.go',\n          'wfx'): 1,\n         ('generated/northbound/restapi/operations/northbound/get_jobs_id_tags_parameters.go',\n          'wfx'): 1,\n         ('generated/northbound/restapi/operations/northbound/get_jobs_id_tags_responses.go',\n          'wfx'): 1,\n         ('generated/northbound/restapi/operations/northbound/get_jobs_id_tags_urlbuilder.go',\n          'wfx'): 1,\n         ('generated/northbound/restapi/operations/northbound/get_jobs_id_urlbuilder.go',\n          'wfx'): 1,\n         ('generated/northbound/restapi/operations/northbound/get_jobs_parameters.go',\n          'wfx'): 1,\n         ('generated/northbound/restapi/operations/northbound/get_jobs_responses.go',\n          'wfx'): 1,\n         ('generated/northbound/restapi/operations/northbound/get_jobs_urlbuilder.go',\n          'wfx'): 1,\n         ('generated/northbound/restapi/operations/northbound/get_workflows.go',\n          'wfx'): 1,\n         ('generated/northbound/restapi/operations/northbound/get_workflows_name.go',\n          'wfx'): 1,\n         ('generated/northbound/restapi/operations/northbound/get_workflows_name_parameters.go',\n          'wfx'): 1,\n         ('generated/northbound/restapi/operations/northbound/get_workflows_name_responses.go',\n          'wfx'): 1,\n         ('generated/northbound/restapi/operations/northbound/get_workflows_name_urlbuilder.go',\n          'wfx'): 1,\n         ('generated/northbound/restapi/operations/northbound/get_workflows_parameters.go',\n          'wfx'): 1,\n         ('generated/northbound/restapi/operations/northbound/get_workflows_responses.go',\n          'wfx'): 1,\n         ('generated/northbound/restapi/operations/northbound/get_workflows_urlbuilder.go',\n          'wfx'): 1,\n         ('generated/northbound/restapi/operations/northbound/post_jobs.go',\n          'wfx'): 1,\n         ('generated/northbound/restapi/operations/northbound/post_jobs_id_tags.go',\n          'wfx'): 1,\n         ('generated/northbound/restapi/operations/northbound/post_jobs_id_tags_parameters.go',\n          'wfx'): 1,\n         ('generated/northbound/restapi/operations/northbound/post_jobs_id_tags_responses.go',\n          'wfx'): 1,\n         ('generated/northbound/restapi/operations/northbound/post_jobs_id_tags_urlbuilder.go',\n          'wfx'): 1,\n         ('generated/northbound/restapi/operations/northbound/post_jobs_parameters.go',\n          'wfx'): 1,\n         ('generated/northbound/restapi/operations/northbound/post_jobs_responses.go',\n          'wfx'): 1,\n         ('generated/northbound/restapi/operations/northbound/post_jobs_urlbuilder.go',\n          'wfx'): 1,\n         ('generated/northbound/restapi/operations/northbound/post_workflows.go',\n          'wfx'): 1,\n         ('generated/northbound/restapi/operations/northbound/post_workflows_parameters.go',\n          'wfx'): 1,\n         ('generated/northbound/restapi/operations/northbound/post_workflows_responses.go',\n          'wfx'): 1,\n         ('generated/northbound/restapi/operations/northbound/post_workflows_urlbuilder.go',\n          'wfx'): 1,\n         ('generated/northbound/restapi/operations/northbound/put_jobs_id_definition.go',\n          'wfx'): 1,\n         ('generated/northbound/restapi/operations/northbound/put_jobs_id_definition_parameters.go',\n          'wfx'): 1,\n         ('generated/northbound/restapi/operations/northbound/put_jobs_id_definition_responses.go',\n          'wfx'): 1,\n         ('generated/northbound/restapi/operations/northbound/put_jobs_id_definition_urlbuilder.go',\n          'wfx'): 1,\n         ('generated/northbound/restapi/operations/northbound/put_jobs_id_status.go',\n          'wfx'): 1,\n         ('generated/northbound/restapi/operations/northbound/put_jobs_id_status_parameters.go',\n          'wfx'): 1,\n         ('generated/northbound/restapi/operations/northbound/put_jobs_id_status_responses.go',\n          'wfx'): 1,\n         ('generated/northbound/restapi/operations/northbound/put_jobs_id_status_urlbuilder.go',\n          'wfx'): 1,\n         ('generated/northbound/restapi/operations/workflow_executor_api.go',\n          'wfx'): 1,\n         ('generated/southbound/restapi/configure_workflow_executor.go',\n          'wfx'): 1,\n         ('generated/southbound/restapi/doc.go', 'wfx'): 1,\n         ('generated/southbound/restapi/embedded_spec.go', 'wfx'): 1,\n         ('generated/southbound/restapi/operations/southbound/get_jobs.go',\n          'wfx'): 1,\n         ('generated/southbound/restapi/operations/southbound/get_jobs_id.go',\n          'wfx'): 1,\n         ('generated/southbound/restapi/operations/southbound/get_jobs_id_definition.go',\n          'wfx'): 1,\n         ('generated/southbound/restapi/operations/southbound/get_jobs_id_definition_parameters.go',\n          'wfx'): 1,\n         ('generated/southbound/restapi/operations/southbound/get_jobs_id_definition_responses.go',\n          'wfx'): 1,\n         ('generated/southbound/restapi/operations/southbound/get_jobs_id_definition_urlbuilder.go',\n          'wfx'): 1,\n         ('generated/southbound/restapi/operations/southbound/get_jobs_id_parameters.go',\n          'wfx'): 1,\n         ('generated/southbound/restapi/operations/southbound/get_jobs_id_responses.go',\n          'wfx'): 1,\n         ('generated/southbound/restapi/operations/southbound/get_jobs_id_status.go',\n          'wfx'): 1,\n         ('generated/southbound/restapi/operations/southbound/get_jobs_id_status_parameters.go',\n          'wfx'): 1,\n         ('generated/southbound/restapi/operations/southbound/get_jobs_id_status_responses.go',\n          'wfx'): 1,\n         ('generated/southbound/restapi/operations/southbound/get_jobs_id_status_urlbuilder.go',\n          'wfx'): 1,\n         ('generated/southbound/restapi/operations/southbound/get_jobs_id_tags.go',\n          'wfx'): 1,\n         ('generated/southbound/restapi/operations/southbound/get_jobs_id_tags_parameters.go',\n          'wfx'): 1,\n         ('generated/southbound/restapi/operations/southbound/get_jobs_id_tags_responses.go',\n          'wfx'): 1,\n         ('generated/southbound/restapi/operations/southbound/get_jobs_id_tags_urlbuilder.go',\n          'wfx'): 1,\n         ('generated/southbound/restapi/operations/southbound/get_jobs_id_urlbuilder.go',\n          'wfx'): 1,\n         ('generated/southbound/restapi/operations/southbound/get_jobs_parameters.go',\n          'wfx'): 1,\n         ('generated/southbound/restapi/operations/southbound/get_jobs_responses.go',\n          'wfx'): 1,\n         ('generated/southbound/restapi/operations/southbound/get_jobs_urlbuilder.go',\n          'wfx'): 1,\n         ('generated/southbound/restapi/operations/southbound/get_workflows.go',\n          'wfx'): 1,\n         ('generated/southbound/restapi/operations/southbound/get_workflows_name.go',\n          'wfx'): 1,\n         ('generated/southbound/restapi/operations/southbound/get_workflows_name_parameters.go',\n          'wfx'): 1,\n         ('generated/southbound/restapi/operations/southbound/get_workflows_name_responses.go',\n          'wfx'): 1,\n         ('generated/southbound/restapi/operations/southbound/get_workflows_name_urlbuilder.go',\n          'wfx'): 1,\n         ('generated/southbound/restapi/operations/southbound/get_workflows_parameters.go',\n          'wfx'): 1,\n         ('generated/southbound/restapi/operations/southbound/get_workflows_responses.go',\n          'wfx'): 1,\n         ('generated/southbound/restapi/operations/southbound/get_workflows_urlbuilder.go',\n          'wfx'): 1,\n         ('generated/southbound/restapi/operations/southbound/put_jobs_id_definition.go',\n          'wfx'): 1,\n         ('generated/southbound/restapi/operations/southbound/put_jobs_id_definition_parameters.go',\n          'wfx'): 1,\n         ('generated/southbound/restapi/operations/southbound/put_jobs_id_definition_responses.go',\n          'wfx'): 1,\n         ('generated/southbound/restapi/operations/southbound/put_jobs_id_definition_urlbuilder.go',\n          'wfx'): 1,\n         ('generated/southbound/restapi/operations/southbound/put_jobs_id_status.go',\n          'wfx'): 1,\n         ('generated/southbound/restapi/operations/southbound/put_jobs_id_status_parameters.go',\n          'wfx'): 1,\n         ('generated/southbound/restapi/operations/southbound/put_jobs_id_status_responses.go',\n          'wfx'): 1,\n         ('generated/southbound/restapi/operations/southbound/put_jobs_id_status_urlbuilder.go',\n          'wfx'): 1,\n         ('generated/southbound/restapi/operations/workflow_executor_api.go',\n          'wfx'): 1,\n         ('go.mod', 'wfx'): 1,\n         ('hugo/.gitignore', 'wfx'): 1,\n         ('hugo/.htmltest.yml', 'wfx'): 1,\n         ('hugo/Makefile', 'wfx'): 1,\n         ('hugo/assets/icons/logo.svg', 'wfx'): 1,\n         ('hugo/assets/scss/_styles_project.scss', 'wfx'): 1,\n         ('hugo/assets/scss/_variables_project.scss', 'wfx'): 1,\n         ('hugo/config.toml', 'wfx'): 1,\n         ('hugo/content/_index.html', 'wfx'): 1,\n         ('hugo/content/docs/_index.md', 'wfx'): 1,\n         ('hugo/content/docs/api.md', 'wfx'): 1,\n         ('hugo/filters/fix-links-post.lua', 'wfx'): 1,\n         ('hugo/filters/fix-links-pre.lua', 'wfx'): 1,\n         ('hugo/go.mod', 'wfx'): 1,\n         ('hugo/justfile', 'wfx'): 1,\n         ('hugo/layouts/_default/_markup/render-image.html', 'wfx'): 1,\n         ('hugo/layouts/_default/_markup/render-link.html', 'wfx'): 1,\n         ('hugo/package-lock.json', 'wfx'): 1,\n         ('hugo/package.json', 'wfx'): 1,\n         ('hugo/scripts/convert_markdown.sh', 'wfx'): 1,\n         ('hugo/scripts/postprocess.sh', 'wfx'): 1,\n         ('hugo/scripts/titleblock.awk', 'wfx'): 1,\n         ('internal/config/koanf.go', 'wfx'): 1,\n         ('internal/config/koanf_test.go', 'wfx'): 1,\n         ('internal/handler/job/create.go', 'wfx'): 1,\n         ('internal/handler/job/create_test.go', 'wfx'): 1,\n         ('internal/handler/job/definition/get.go', 'wfx'): 1,\n         ('internal/handler/job/definition/get_test.go', 'wfx'): 1,\n         ('internal/handler/job/definition/update.go', 'wfx'): 1,\n         ('internal/handler/job/definition/update_test.go', 'wfx'): 1,\n         ('internal/handler/job/delete.go', 'wfx'): 1,\n         ('internal/handler/job/delete_test.go', 'wfx'): 1,\n         ('internal/handler/job/get.go', 'wfx'): 1,\n         ('internal/handler/job/get_test.go', 'wfx'): 1,\n         ('internal/handler/job/query.go', 'wfx'): 1,\n         ('internal/handler/job/query_test.go', 'wfx'): 1,\n         ('internal/handler/job/status/get.go', 'wfx'): 1,\n         ('internal/handler/job/status/get_test.go', 'wfx'): 1,\n         ('internal/handler/job/status/update.go', 'wfx'): 1,\n         ('internal/handler/job/status/update_test.go', 'wfx'): 1,\n         ('internal/handler/job/tags/add.go', 'wfx'): 1,\n         ('internal/handler/job/tags/add_test.go', 'wfx'): 1,\n         ('internal/handler/job/tags/delete.go', 'wfx'): 1,\n         ('internal/handler/job/tags/delete_test.go', 'wfx'): 1,\n         ('internal/handler/job/tags/get.go', 'wfx'): 1,\n         ('internal/handler/job/tags/get_test.go', 'wfx'): 1,\n         ('internal/handler/workflow/create.go', 'wfx'): 1,\n         ('internal/handler/workflow/create_test.go', 'wfx'): 1,\n         ('internal/handler/workflow/delete.go', 'wfx'): 1,\n         ('internal/handler/workflow/delete_test.go', 'wfx'): 1,\n         ('internal/handler/workflow/get.go', 'wfx'): 1,\n         ('internal/handler/workflow/get_test.go', 'wfx'): 1,\n         ('internal/handler/workflow/query.go', 'wfx'): 1,\n         ('internal/handler/workflow/query_test.go', 'wfx'): 1,\n         ('internal/jsonutil/producer.go', 'wfx'): 1,\n         ('internal/jsonutil/producer_test.go', 'wfx'): 1,\n         ('internal/persistence/entgo/db.go', 'wfx'): 1,\n         ('internal/persistence/entgo/db_test.go', 'wfx'): 1,\n         ('internal/persistence/entgo/health.go', 'wfx'): 1,\n         ('internal/persistence/entgo/job_create.go', 'wfx'): 1,\n         ('internal/persistence/entgo/job_delete.go', 'wfx'): 1,\n         ('internal/persistence/entgo/job_get.go', 'wfx'): 1,\n         ('internal/persistence/entgo/job_query.go', 'wfx'): 1,\n         ('internal/persistence/entgo/job_update.go', 'wfx'): 1,\n         ('internal/persistence/entgo/migrate.go', 'wfx'): 1,\n         ('internal/persistence/entgo/migrations/mysql/20230404121019_initial.down.sql',\n          'wfx'): 1,\n         ('internal/persistence/entgo/migrations/mysql/20230404121019_initial.up.sql',\n          'wfx'): 1,\n         ('internal/persistence/entgo/migrations/postgres/20230404121326_initial.down.sql',\n          'wfx'): 1,\n         ('internal/persistence/entgo/migrations/postgres/20230404121326_initial.up.sql',\n          'wfx'): 1,\n         ('internal/persistence/entgo/migrations/sqlite/20230404114557_initial.down.sql',\n          'wfx'): 1,\n         ('internal/persistence/entgo/migrations/sqlite/20230404114557_initial.up.sql',\n          'wfx'): 1,\n         ('internal/persistence/entgo/mysql.go', 'wfx'): 1,\n         ('internal/persistence/entgo/mysql_test.go', 'wfx'): 1,\n         ('internal/persistence/entgo/postgres.go', 'wfx'): 1,\n         ('internal/persistence/entgo/postgres_test.go', 'wfx'): 1,\n         ('internal/persistence/entgo/sqlite.go', 'wfx'): 1,\n         ('internal/persistence/entgo/sqlite_test.go', 'wfx'): 1,\n         ('internal/persistence/entgo/workflow_create.go', 'wfx'): 1,\n         ('internal/persistence/entgo/workflow_delete.go', 'wfx'): 1,\n         ('internal/persistence/entgo/workflow_get.go', 'wfx'): 1,\n         ('internal/persistence/entgo/workflow_query.go', 'wfx'): 1,\n         ('internal/persistence/tests/all.go', 'wfx'): 1,\n         ('internal/persistence/tests/generate.go', 'wfx'): 1,\n         ('internal/persistence/tests/generator.go', 'wfx'): 1,\n         ('internal/persistence/tests/job_delete.go', 'wfx'): 1,\n         ('internal/persistence/tests/job_get.go', 'wfx'): 1,\n         ('internal/persistence/tests/job_query.go', 'wfx'): 1,\n         ('internal/persistence/tests/job_update_definition.go', 'wfx'): 1,\n         ('internal/persistence/tests/job_update_status.go', 'wfx'): 1,\n         ('internal/persistence/tests/job_update_tag.go', 'wfx'): 1,\n         ('internal/persistence/tests/workflow.go', 'wfx'): 1,\n         ('internal/server/http.go', 'wfx'): 1,\n         ('internal/server/http_test.go', 'wfx'): 1,\n         ('internal/server/tls.go', 'wfx'): 1,\n         ('internal/server/tls_test.go', 'wfx'): 1,\n         ('internal/workflow/workflow.go', 'wfx'): 1,\n         ...})"
     },
     "execution_count": 64,
     "metadata": {},
     "output_type": "execute_result"
    }
   ],
   "source": [
    "counter = Counter()\n",
    "for commit in repo.iter_commits():\n",
    "    match = pattern.match(commit.message)\n",
    "    intent = match.group(1) if match else commit.message.split()[0]\n",
    "    for filename in commit.stats.files.keys():\n",
    "        if filename.endswith(\".sum\"):\n",
    "            continue\n",
    "        counter[(filename, intent)] += 1\n",
    "\n",
    "counter"
   ]
  },
  {
   "cell_type": "code",
   "execution_count": 65,
   "id": "20ab1f8b-ea77-46fa-acc9-b6fc78763d4f",
   "metadata": {
    "ExecuteTime": {
     "end_time": "2024-08-12T18:27:08.555890Z",
     "start_time": "2024-08-12T18:27:08.544392Z"
    }
   },
   "outputs": [
    {
     "data": {
      "text/plain": "[(('go.mod', 'chore'), 73),\n (('.github/workflows/ci.yml', 'chore'), 19),\n (('hugo/package-lock.json', 'chore'), 13),\n (('.github/workflows/pages.yml', 'chore'), 11),\n (('.ci/packages/versions.env', 'chore'), 10),\n (('.github/workflows/release.yml', 'chore'), 10),\n (('hugo/package.json', 'chore'), 10),\n (('CHANGELOG.md', 'chore'), 7),\n (('.github/workflows/ci.yml', 'ci'), 7),\n (('.goreleaser.yml', 'ci'), 7),\n (('CHANGELOG.md', 'fix'), 6),\n (('contrib/config-deployment/client/go.mod', 'chore'), 6),\n (('contrib/remote-access/client/go.mod', 'chore'), 6),\n (('hugo/go.mod', 'chore'), 6),\n (('.gitlab-ci.yml', 'chore'), 5),\n (('CHANGELOG.md', 'feat'), 5),\n (('codecov.yml', 'ci'), 5),\n (('go.mod', 'feat'), 5),\n (('.github/workflows/pr.yml', 'chore'), 4),\n (('generated/ent/runtime/runtime.go', 'chore'), 4),\n (('example/plugin/go.mod', 'chore'), 4),\n (('justfile', 'ci'), 4),\n (('go.mod', 'fix'), 3),\n (('.github/workflows/release.yml', 'ci'), 3),\n (('persistence/mock_Storage.go', 'chore'), 3),\n (('.github/workflows/pages.yml', 'ci'), 3),\n (('.github/workflows/hugo.yml', 'chore'), 3),\n (('cmd/wfxctl/cmd/job/events/events.go', 'chore'), 3),\n (('go.work', 'feat'), 3),\n (('README.md', 'docs'), 3),\n (('.github/dependabot.yml', 'chore'), 3),\n (('cmd/wfx/cmd/root/cmd.go', 'fix'), 3),\n (('cmd/wfx/cmd/root/server.go', 'fix'), 3),\n (('cmd/wfx/cmd/root/southbound.go', 'fix'), 3),\n (('workflow/dau/README.md', 'docs'), 3),\n (('.github/workflows/ci.yml', 'fix'), 2),\n (('.github/workflows/pages.yml', 'fix'), 2),\n (('contrib/config-deployment/client/go.mod', 'fix'), 2),\n (('contrib/remote-access/client/go.mod', 'fix'), 2),\n (('.github/workflows/chore.yml', 'chore'), 2),\n (('shell.nix', 'chore'), 2),\n (('.goreleaser.yml', 'chore'), 2),\n (('Dockerfile', 'chore'), 2),\n (('hugo/config.toml', 'chore'), 2),\n (('.github/dependabot.yml', 'ci'), 2),\n (('.github/workflows/update.yml', 'ci'), 2),\n (('.ci/packages/versions.env', 'ci'), 2),\n (('.gitlab-ci.yml', 'ci'), 2),\n (('contrib/remote-access/client/main.go', 'feat'), 2),\n (('go.work', 'chore'), 2),\n (('.goreleaser.yml', 'feat'), 2),\n (('cmd/wfx/cmd/root/plugins.go', 'feat'), 2),\n (('cmd/wfx/cmd/root/plugins_disabled.go', 'feat'), 2),\n (('cmd/wfx-viewer/output/mermaid/mermaid.go', 'feat'), 2),\n (('cmd/wfx-viewer/output/mermaid/testdata/mermaid_test.TestGenerate.approved.txt',\n   'feat'),\n  2),\n (('cmd/wfx-viewer/main.go', 'refactor'), 2),\n (('cmd/wfx-viewer/output/all.go', 'feat'), 2),\n (('docs/installation.md', 'feat'), 2),\n (('internal/handler/job/create.go', 'feat'), 2),\n (('internal/handler/job/create_test.go', 'feat'), 2),\n (('internal/workflow/workflow.go', 'feat'), 2),\n (('internal/workflow/workflow_test.go', 'feat'), 2),\n (('cmd/wfx-viewer/output/plantuml/plantuml.go', 'refactor'), 2),\n (('cmd/wfx/cmd/root/cmd.go', 'chore'), 2),\n (('cmd/wfxctl/cmd/workflow/validate/validate.go', 'chore'), 2),\n (('docs/workflows.md', 'docs'), 2),\n (('internal/handler/job/create_test.go', 'fix'), 2),\n (('.golangci.yml', 'chore'), 2),\n (('docs/installation.md', 'chore'), 2),\n (('.github/workflows/ci.yml', 'feat'), 2),\n (('.gitlab-ci.yml', 'feat'), 2),\n (('.golangci.yml', 'feat'), 2),\n (('cmd/wfx/cmd/root/cmd.go', 'feat'), 2),\n (('docs/operations.md', 'feat'), 2),\n (('justfile', 'feat'), 2),\n (('generated/model/workflow.go', 'feat'), 2),\n (('generated/northbound/restapi/embedded_spec.go', 'feat'), 2),\n (('generated/southbound/restapi/embedded_spec.go', 'feat'), 2),\n (('spec/wfx.swagger.yml', 'feat'), 2),\n (('generated/ent/client.go', 'chore'), 2),\n (('api/northbound.go', 'refactor'), 2),\n (('justfile', 'test'), 2),\n (('api/workflow_test.go', 'fix'), 2),\n (('cmd/wfx/cmd/root/northbound.go', 'fix'), 2),\n (('cmd/wfx/cmd/root/systemd.go', 'fix'), 2),\n (('middleware/fileserver/fileserver.go', 'fix'), 2),\n (('middleware/fileserver/fileserver_test.go', 'fix'), 2),\n (('test/04-operations.bats', 'test'), 2),\n (('cmd/wfx/cmd/root/cmd.go', 'refactor'), 2),\n (('cmd/wfx/cmd/root/northbound.go', 'refactor'), 2),\n (('cmd/wfx/cmd/root/southbound.go', 'refactor'), 2),\n (('.github/workflows/chore.yml', 'fix'), 1),\n (('.gitlab-ci.yml', 'fix'), 1),\n (('hugo/package-lock.json', 'fix'), 1),\n (('renovate.json5', 'chore'), 1),\n (('generated/ent/ent.go', 'chore'), 1),\n (('generated/ent/history_query.go', 'chore'), 1),\n (('generated/ent/job_query.go', 'chore'), 1),\n (('generated/ent/tag_query.go', 'chore'), 1),\n (('generated/ent/workflow_query.go', 'chore'), 1),\n (('cmd/wfx/cmd/root/plugins.go', 'fix'), 1),\n (('cmd/wfx/cmd/root/plugins_disabled.go', 'fix'), 1),\n (('cmd/wfx/cmd/root/plugins_disabled_test.go', 'fix'), 1),\n (('cmd/wfx/cmd/root/plugins_enabled.go', 'fix'), 1),\n (('example/plugin/go.mod', 'fix'), 1),\n (('.github/workflows/chore.yml', 'ci'), 1),\n (('generated/client/jobs/delete_jobs_id_responses.go', 'chore'), 1),\n (('generated/client/jobs/delete_jobs_id_tags_responses.go', 'chore'), 1),\n (('generated/client/jobs/get_jobs_events_responses.go', 'chore'), 1),\n (('generated/client/jobs/get_jobs_id_definition_responses.go', 'chore'), 1),\n (('generated/client/jobs/get_jobs_id_responses.go', 'chore'), 1),\n (('generated/client/jobs/get_jobs_id_status_responses.go', 'chore'), 1),\n (('generated/client/jobs/get_jobs_id_tags_responses.go', 'chore'), 1),\n (('generated/client/jobs/get_jobs_responses.go', 'chore'), 1),\n (('generated/client/jobs/jobs_client.go', 'chore'), 1),\n (('generated/client/jobs/post_jobs_id_tags_responses.go', 'chore'), 1),\n (('generated/client/jobs/post_jobs_responses.go', 'chore'), 1),\n (('generated/client/jobs/put_jobs_id_definition_responses.go', 'chore'), 1),\n (('generated/client/jobs/put_jobs_id_status_responses.go', 'chore'), 1),\n (('generated/client/workflows/delete_workflows_name_responses.go', 'chore'),\n  1),\n (('generated/client/workflows/get_workflows_name_responses.go', 'chore'), 1),\n (('generated/client/workflows/get_workflows_responses.go', 'chore'), 1),\n (('generated/client/workflows/post_workflows_responses.go', 'chore'), 1),\n (('generated/client/workflows/workflows_client.go', 'chore'), 1),\n (('justfile', 'chore'), 1),\n (('hugo/content/_index.html', 'chore'), 1),\n (('renovate.json5', 'ci'), 1),\n (('.ci/packages/flatbuffers.sh', 'ci'), 1),\n (('.ci/packages/go-swagger.sh', 'ci'), 1),\n (('.ci/packages/gofumpt.sh', 'ci'), 1),\n (('.ci/packages/golangci-lint.sh', 'ci'), 1),\n (('.ci/packages/goreleaser.sh', 'ci'), 1),\n (('.ci/packages/hugo.sh', 'ci'), 1),\n (('.ci/packages/just.sh', 'ci'), 1),\n (('.ci/packages/markdown-link-check.sh', 'ci'), 1),\n (('.ci/packages/mockery.sh', 'ci'), 1),\n (('.ci/packages/pandoc.sh', 'ci'), 1),\n (('.ci/packages/staticcheck.sh', 'ci'), 1),\n (('.ci/packages/zig.sh', 'ci'), 1),\n (('.ci/setup-build.sh', 'ci'), 1),\n (('.ci/setup-cli-tests.sh', 'ci'), 1),\n (('.ci/setup-generate.sh', 'ci'), 1),\n (('.ci/setup-lint.sh', 'ci'), 1),\n (('.ci/setup-mysql.sh', 'ci'), 1),\n (('.ci/setup-pages.sh', 'ci'), 1),\n (('.ci/setup-postgres.sh', 'ci'), 1),\n (('.github/workflows/hugo.yml', 'ci'), 1),\n (('Dockerfile', 'ci'), 1),\n (('contrib/remote-access/client/unix.go', 'feat'), 1),\n (('contrib/remote-access/client/windows.go', 'feat'), 1),\n (('contrib/config-deployment/Makefile', 'chore'), 1),\n (('contrib/remote-access/Makefile', 'chore'), 1),\n (('persistence/mock_Storage.go', 'ci'), 1),\n (('generated/ent/history.go', 'chore'), 1),\n (('generated/ent/job.go', 'chore'), 1),\n (('cmd/wfx/cmd/root/plugins_disabled_test.go', 'feat'), 1),\n (('cmd/wfx/cmd/root/plugins_flag.go', 'feat'), 1),\n (('cmd/wfx-viewer/cmd.go', 'test'), 1),\n (('cmd/wfx-viewer/cmd_test.go', 'test'), 1),\n (('cmd/wfx-viewer/flags.go', 'test'), 1),\n (('cmd/wfx-viewer/main.go', 'test'), 1),\n (('cmd/wfx-viewer/main_test.go', 'test'), 1),\n (('cmd/wfx-viewer/output/all_test.go', 'test'), 1),\n (('cmd/wfx-viewer/testdata/cmd_test.TestPlantUML_File.approved.txt', 'test'),\n  1),\n (('cmd/wfx-viewer/testdata/cmd_test.TestPlantUML_Stdout.approved.txt',\n   'test'),\n  1),\n (('cmd/wfx-viewer/flags.go', 'feat'), 1),\n (('cmd/wfx-viewer/main.go', 'feat'), 1),\n (('cmd/wfx-viewer/output/svg/svg.go', 'feat'), 1),\n (('cmd/wfx-viewer/output/svg/svg_test.go', 'feat'), 1),\n (('cmd/wfx-viewer/output/svg/main_test.go', 'test'), 1),\n (('cmd/wfx-viewer/output/svg/svg_test.go', 'test'), 1),\n (('cmd/wfx-viewer/io.go', 'refactor'), 1),\n (('.golangci.yml', 'test'), 1),\n (('cmd/wfx-viewer/output/plantuml/main_test.go', 'test'), 1),\n (('cmd/wfx-viewer/output/plantuml/plantuml.go', 'test'), 1),\n (('cmd/wfx-viewer/output/plantuml/plantuml_test.go', 'test'), 1),\n (('cmd/wfx-viewer/output/plantuml/testdata/plantuml_test.TestGenerate.approved.txt',\n   'test'),\n  1),\n (('cmd/wfx-viewer/output/mermaid/main_test.go', 'feat'), 1),\n (('cmd/wfx-viewer/output/mermaid/mermaid_test.go', 'feat'), 1),\n (('cmd/wfx-viewer/output/smcat/main_test.go', 'feat'), 1),\n (('cmd/wfx-viewer/output/smcat/smcat.go', 'feat'), 1),\n (('cmd/wfx-viewer/output/smcat/smcat_test.go', 'feat'), 1),\n (('cmd/wfx-viewer/output/smcat/testdata/smcat_test.TestGenerate.approved.txt',\n   'feat'),\n  1),\n (('cmd/wfx-viewer/colors/colors.go', 'refactor'), 1),\n (('cmd/wfx-viewer/colors/colors_test.go', 'refactor'), 1),\n (('cmd/wfx-viewer/colors/main_test.go', 'refactor'), 1),\n (('cmd/wfx-viewer/flags.go', 'refactor'), 1),\n (('cmd/wfx-viewer/output/all.go', 'refactor'), 1),\n (('cmd/wfx-viewer/output/svg/svg.go', 'refactor'), 1),\n (('cmd/wfx-viewer/plantuml.go', 'refactor'), 1),\n (('cmd/wfx-viewer/svg.go', 'refactor'), 1),\n (('cmd/wfx-loadtest/root.go', 'chore'), 1),\n (('cmd/wfx-viewer/flags.go', 'chore'), 1),\n (('cmd/wfx-viewer/main.go', 'chore'), 1),\n (('cmd/wfx/cmd/root/cmd_test.go', 'chore'), 1),\n (('cmd/wfx/cmd/root/flags.go', 'chore'), 1),\n (('cmd/wfx/cmd/root/server_test.go', 'chore'), 1),\n (('cmd/wfxctl/cmd/health/health.go', 'chore'), 1),\n (('cmd/wfxctl/cmd/job/delete/delete.go', 'chore'), 1),\n (('cmd/wfxctl/cmd/job/get/get.go', 'chore'), 1),\n (('cmd/wfxctl/cmd/job/getdefinition/get_definition.go', 'chore'), 1),\n (('cmd/wfxctl/cmd/job/getstatus/get_status.go', 'chore'), 1),\n (('cmd/wfxctl/cmd/job/gettags/get_tags.go', 'chore'), 1),\n (('cmd/wfxctl/cmd/job/query/query.go', 'chore'), 1),\n (('cmd/wfxctl/cmd/job/updatedefinition/update_definition.go', 'chore'), 1),\n (('cmd/wfxctl/cmd/job/updatestatus/update_status.go', 'chore'), 1),\n (('cmd/wfxctl/cmd/root.go', 'chore'), 1),\n (('cmd/wfxctl/cmd/version/version.go', 'chore'), 1),\n (('cmd/wfxctl/cmd/workflow/create/create.go', 'chore'), 1),\n (('cmd/wfxctl/cmd/workflow/get/get.go', 'chore'), 1),\n (('cmd/wfxctl/cmd/workflow/query/query.go', 'chore'), 1),\n (('internal/server/http_test.go', 'chore'), 1),\n (('middleware/fileserver/fileserver_test.go', 'chore'), 1),\n (('middleware/health/health.go', 'chore'), 1),\n (('middleware/jq/gojq_test.go', 'chore'), 1),\n (('middleware/logging/log_test.go', 'chore'), 1),\n (('middleware/plugin/middleware_test.go', 'chore'), 1),\n (('middleware/responder/sse/responder.go', 'chore'), 1),\n (('workflow/dfs.go', 'chore'), 1),\n (('cmd/wfxctl/errutil/util.go', 'chore'), 1),\n (('middleware/logging/log.go', 'chore'), 1),\n (('middleware/logging/writer.go', 'chore'), 1),\n (('middleware/logging/writer_test.go', 'chore'), 1),\n (('middleware/plugin/middleware.go', 'chore'), 1),\n (('Makefile', 'fix'), 1),\n (('generated/model/job.go', 'docs'), 1),\n (('generated/northbound/restapi/embedded_spec.go', 'docs'), 1),\n (('generated/southbound/restapi/embedded_spec.go', 'docs'), 1),\n (('spec/wfx.swagger.yml', 'docs'), 1),\n (('internal/persistence/entgo/job_create.go', 'fix'), 1),\n (('.gitignore', 'fix'), 1),\n (('middleware/plugin/fbplugin.go', 'fix'), 1),\n (('middleware/plugin/process_unix.go', 'fix'), 1),\n (('middleware/plugin/process_windows.go', 'fix'), 1),\n (('cmd/wfx/main.go', 'chore'), 1),\n (('Makefile', 'chore'), 1),\n (('cmd/wfxctl/cmd/job/events/events_test.go', 'chore'), 1),\n (('Makefile', 'feat'), 1),\n (('cmd/wfx/cmd/root/cmd_test.go', 'feat'), 1),\n (('cmd/wfx/cmd/root/northbound.go', 'feat'), 1),\n (('cmd/wfx/cmd/root/plugins_test.go', 'feat'), 1),\n (('cmd/wfx/cmd/root/southbound.go', 'feat'), 1),\n (('example/plugin/.gitignore', 'feat'), 1),\n (('example/plugin/go.mod', 'feat'), 1),\n (('example/plugin/main.go', 'feat'), 1),\n (('fbs/client/header.fbs', 'feat'), 1),\n (('fbs/client/request.fbs', 'feat'), 1),\n (('fbs/client/response.fbs', 'feat'), 1),\n (('fbs/request.fbs', 'feat'), 1),\n (('fbs/response.fbs', 'feat'), 1),\n (('generated/plugin/Payload.go', 'feat'), 1),\n (('generated/plugin/PluginRequest.go', 'feat'), 1),\n (('generated/plugin/PluginResponse.go', 'feat'), 1),\n (('generated/plugin/client/Action.go', 'feat'), 1),\n (('generated/plugin/client/Envelope.go', 'feat'), 1),\n (('generated/plugin/client/Request.go', 'feat'), 1),\n (('generated/plugin/client/Response.go', 'feat'), 1),\n (('generated/plugin/client/ResponseStatus.go', 'feat'), 1),\n (('middleware/logging/log.go', 'feat'), 1),\n (('middleware/logging/log_test.go', 'feat'), 1),\n (('middleware/logging/reader.go', 'feat'), 1),\n (('middleware/logging/reader_test.go', 'feat'), 1),\n (('middleware/plugin/fbplugin.go', 'feat'), 1),\n (('middleware/plugin/fbplugin_test.go', 'feat'), 1),\n (('middleware/plugin/ioutil/io.go', 'feat'), 1),\n (('middleware/plugin/ioutil/io_test.go', 'feat'), 1),\n (('middleware/plugin/ioutil/main_test.go', 'feat'), 1),\n (('middleware/plugin/main_test.go', 'feat'), 1),\n (('middleware/plugin/middleware.go', 'feat'), 1),\n (('middleware/plugin/middleware_test.go', 'feat'), 1),\n (('middleware/plugin/plugin.go', 'feat'), 1),\n (('middleware/plugin/process_unix.go', 'feat'), 1),\n (('middleware/plugin/process_unix_test.go', 'feat'), 1),\n (('middleware/plugin/process_windows.go', 'feat'), 1),\n (('shell.nix', 'feat'), 1),\n (('api/job_events_test.go', 'feat'), 1),\n (('api/job_status_test.go', 'feat'), 1),\n (('api/northbound.go', 'feat'), 1),\n (('api/northbound_test.go', 'feat'), 1),\n (('api/southbound.go', 'feat'), 1),\n (('api/southbound_test.go', 'feat'), 1),\n (('api/workflow_test.go', 'feat'), 1),\n (('cmd/wfxctl/cmd/job/events/events.go', 'feat'), 1),\n (('cmd/wfxctl/cmd/job/events/events_test.go', 'feat'), 1),\n (('cmd/wfxctl/cmd/job/events/main_test.go', 'feat'), 1),\n (('cmd/wfxctl/cmd/job/job.go', 'feat'), 1),\n (('cmd/wfxctl/cmd/job/updatestatus/update_status_test.go', 'feat'), 1),\n (('cmd/wfxctl/flags/basecmd.go', 'feat'), 1),\n (('generated/client/jobs/get_jobs_events_parameters.go', 'feat'), 1),\n (('generated/client/jobs/get_jobs_events_responses.go', 'feat'), 1),\n (('generated/client/jobs/jobs_client.go', 'feat'), 1),\n (('generated/model/job.go', 'feat'), 1),\n (('generated/northbound/restapi/configure_workflow_executor.go', 'feat'), 1),\n (('generated/northbound/restapi/doc.go', 'feat'), 1),\n (('generated/northbound/restapi/operations/northbound/get_jobs_events.go',\n   'feat'),\n  1),\n (('generated/northbound/restapi/operations/northbound/get_jobs_events_parameters.go',\n   'feat'),\n  1),\n (('generated/northbound/restapi/operations/northbound/get_jobs_events_responses.go',\n   'feat'),\n  1),\n (('generated/northbound/restapi/operations/northbound/get_jobs_events_urlbuilder.go',\n   'feat'),\n  1),\n (('generated/northbound/restapi/operations/workflow_executor_api.go', 'feat'),\n  1),\n (('generated/southbound/restapi/configure_workflow_executor.go', 'feat'), 1),\n (('generated/southbound/restapi/doc.go', 'feat'), 1),\n (('generated/southbound/restapi/operations/southbound/get_jobs_events.go',\n   'feat'),\n  1),\n (('generated/southbound/restapi/operations/southbound/get_jobs_events_parameters.go',\n   'feat'),\n  1),\n (('generated/southbound/restapi/operations/southbound/get_jobs_events_responses.go',\n   'feat'),\n  1),\n (('generated/southbound/restapi/operations/southbound/get_jobs_events_urlbuilder.go',\n   'feat'),\n  1),\n (('generated/southbound/restapi/operations/workflow_executor_api.go', 'feat'),\n  1),\n (('internal/errutil/wrap_test.go', 'feat'), 1),\n (('internal/handler/job/definition/update.go', 'feat'), 1),\n (('internal/handler/job/definition/update_test.go', 'feat'), 1),\n (('internal/handler/job/delete.go', 'feat'), 1),\n (('internal/handler/job/delete_test.go', 'feat'), 1),\n (('internal/handler/job/events/events.go', 'feat'), 1),\n (('internal/handler/job/events/events_test.go', 'feat'), 1),\n (('internal/handler/job/events/main_test.go', 'feat'), 1),\n (('internal/handler/job/get.go', 'feat'), 1),\n (('internal/handler/job/get_test.go', 'feat'), 1),\n (('internal/handler/job/status/get_test.go', 'feat'), 1),\n (('internal/handler/job/status/update.go', 'feat'), 1),\n (('internal/handler/job/status/update_test.go', 'feat'), 1),\n (('internal/handler/job/tags/add.go', 'feat'), 1),\n (('internal/handler/job/tags/add_test.go', 'feat'), 1),\n (('internal/handler/job/tags/delete.go', 'feat'), 1),\n (('internal/handler/job/tags/delete_test.go', 'feat'), 1),\n (('internal/handler/job/tags/get_test.go', 'feat'), 1),\n (('internal/persistence/entgo/job_create.go', 'feat'), 1),\n (('internal/persistence/entgo/job_get.go', 'feat'), 1),\n (('internal/persistence/entgo/job_update.go', 'feat'), 1),\n (('internal/persistence/tests/job_get.go', 'feat'), 1),\n (('internal/persistence/tests/job_query.go', 'feat'), 1),\n (('internal/persistence/tests/job_update_definition.go', 'feat'), 1),\n (('internal/persistence/tests/job_update_status.go', 'feat'), 1),\n (('internal/producer/text_event_stream.go', 'feat'), 1),\n (('internal/producer/text_event_stream_test.go', 'feat'), 1),\n (('middleware/logging/writer.go', 'feat'), 1),\n (('middleware/logging/writer_test.go', 'feat'), 1),\n (('middleware/responder/sse/main_test.go', 'feat'), 1),\n (('middleware/responder/sse/responder.go', 'feat'), 1),\n (('middleware/responder/sse/responder_test.go', 'feat'), 1),\n (('middleware/responder/util/content_type.go', 'feat'), 1),\n (('middleware/responder/util/content_type_test.go', 'feat'), 1),\n (('middleware/responder/util/main_test.go', 'feat'), 1),\n (('persistence/all_test.go', 'feat'), 1),\n (('test/05-workflows.bats', 'feat'), 1),\n (('docs/use-cases.md', 'docs'), 1),\n (('hugo/.gitignore', 'docs'), 1),\n (('hugo/Makefile', 'docs'), 1),\n (('hugo/filters/fix-links-post.lua', 'docs'), 1),\n (('hugo/filters/fix-links-pre.lua', 'docs'), 1),\n (('contrib/config-deployment/README.md', 'chore'), 1),\n (('generated/ent/history_update.go', 'chore'), 1),\n (('generated/ent/job_update.go', 'chore'), 1),\n (('generated/ent/tag_update.go', 'chore'), 1),\n (('generated/ent/workflow_update.go', 'chore'), 1),\n (('contrib/config-deployment/.gitignore', 'feat'), 1),\n (('contrib/config-deployment/Makefile', 'feat'), 1),\n (('contrib/config-deployment/README.md', 'feat'), 1),\n (('contrib/config-deployment/client/download.go', 'feat'), 1),\n (('contrib/config-deployment/client/go.mod', 'feat'), 1),\n (('contrib/config-deployment/client/main.go', 'feat'), 1),\n (('contrib/config-deployment/client/worker.go', 'feat'), 1),\n (('contrib/config-deployment/create-job.sh', 'feat'), 1),\n (('contrib/config-deployment/wfx.workflow.config.deployment.yml', 'feat'), 1),\n (('share/demo/config-deployment/01-start-wfx.sh', 'feat'), 1),\n (('share/demo/config-deployment/02-create-workflow.sh', 'feat'), 1),\n (('share/demo/config-deployment/03-start-client.sh', 'feat'), 1),\n (('share/demo/config-deployment/04-create-job.sh', 'feat'), 1),\n (('share/demo/config-deployment/definition.json', 'feat'), 1),\n (('share/demo/config-deployment/files/example.ini', 'feat'), 1),\n (('share/demo/config-deployment/wfx.workflow.config.deployment.yml', 'feat'),\n  1),\n (('share/demo/config-deployment/zellij.kdl', 'feat'), 1),\n (('contrib/remote-access/.gitignore', 'feat'), 1),\n (('contrib/remote-access/Makefile', 'feat'), 1),\n (('contrib/remote-access/README.md', 'feat'), 1),\n (('contrib/remote-access/client/go.mod', 'feat'), 1),\n (('contrib/remote-access/create-job.sh', 'feat'), 1),\n (('contrib/remote-access/shell.nix', 'feat'), 1),\n (('contrib/remote-access/wfx.workflow.remote.access.yml', 'feat'), 1),\n (('cmd/wfx/main.go', 'feat'), 1),\n (('middleware/fileserver/fileserver.go', 'chore'), 1),\n (('share/demo/demo.sh', 'refactor'), 1),\n (('share/demo/kanban/01-start-wfx.sh', 'refactor'), 1),\n (('share/demo/kanban/02-create-workflow.sh', 'refactor'), 1),\n (('share/demo/kanban/03-producer.sh', 'refactor'), 1),\n (('share/demo/kanban/04-consumer.sh', 'refactor'), 1),\n (('share/demo/kanban/demo.sh', 'refactor'), 1),\n (('share/demo/demo.sh', 'chore'), 1),\n (('share/demo/wfx.inc.sh', 'chore'), 1),\n (('share/demo/wfxctl.inc.sh', 'chore'), 1),\n (('internal/handler/workflow/get.go', 'style'), 1),\n (('internal/handler/workflow/get_test.go', 'style'), 1),\n (('internal/producer/json.go', 'test'), 1),\n (('internal/producer/json_test.go', 'test'), 1),\n (('internal/handler/job/definition/update.go', 'refactor'), 1),\n (('internal/handler/job/delete.go', 'refactor'), 1),\n (('internal/handler/job/status/update.go', 'refactor'), 1),\n (('internal/handler/job/tags/add.go', 'refactor'), 1),\n (('internal/handler/job/tags/add_test.go', 'refactor'), 1),\n (('internal/handler/job/tags/delete.go', 'refactor'), 1),\n (('internal/handler/job/tags/delete_test.go', 'refactor'), 1),\n (('internal/handler/workflow/create.go', 'refactor'), 1),\n (('internal/handler/workflow/delete.go', 'refactor'), 1),\n (('.ci/mockery_header.txt', 'test'), 1),\n (('.github/workflows/ci.yml', 'test'), 1),\n (('.mockery.yaml', 'test'), 1),\n (('codecov.yml', 'test'), 1),\n (('go.mod', 'test'), 1),\n (('persistence/.mockery.yaml', 'test'), 1),\n (('persistence/mock_Storage.go', 'test'), 1),\n (('shell.nix', 'test'), 1),\n (('CHANGELOG.md', 'refactor'), 1),\n (('cmd/wfxctl/cmd/workflow/delete/delete.go', 'refactor'), 1),\n (('cmd/wfxctl/cmd/workflow/delete/delete_test.go', 'refactor'), 1),\n (('generated/ent/migrate/schema.go', 'feat'), 1),\n (('generated/ent/mutation.go', 'feat'), 1),\n (('generated/ent/runtime.go', 'feat'), 1),\n (('generated/ent/schema/workflow.go', 'feat'), 1),\n (('generated/ent/workflow.go', 'feat'), 1),\n (('generated/ent/workflow/where.go', 'feat'), 1),\n (('generated/ent/workflow/workflow.go', 'feat'), 1),\n (('generated/ent/workflow_create.go', 'feat'), 1),\n (('generated/ent/workflow_update.go', 'feat'), 1),\n (('internal/persistence/entgo/migrations/mysql/20231026152159_add-workflow-description.down.sql',\n   'feat'),\n  1),\n (('internal/persistence/entgo/migrations/mysql/20231026152159_add-workflow-description.up.sql',\n   'feat'),\n  1),\n (('internal/persistence/entgo/migrations/postgres/20231026152156_add-workflow-description.down.sql',\n   'feat'),\n  1),\n (('internal/persistence/entgo/migrations/postgres/20231026152156_add-workflow-description.up.sql',\n   'feat'),\n  1),\n (('internal/persistence/entgo/migrations/sqlite/20231026152143_add-workflow-description.down.sql',\n   'feat'),\n  1),\n (('internal/persistence/entgo/migrations/sqlite/20231026152143_add-workflow-description.up.sql',\n   'feat'),\n  1),\n (('internal/persistence/entgo/workflow_create.go', 'feat'), 1),\n (('internal/persistence/entgo/workflow_get.go', 'feat'), 1),\n (('workflow/dau/wfx.workflow.dau.direct.yml', 'feat'), 1),\n (('workflow/dau/wfx.workflow.dau.phased.yml', 'feat'), 1),\n (('shell.nix', 'ci'), 1),\n (('.markdown-link-check.json', 'ci'), 1),\n (('docs/configuration.md', 'ci'), 1),\n (('cmd/wfxctl/cmd/job/query/query.go', 'fix'), 1),\n (('test/05-workflows.bats', 'fix'), 1),\n (('.golangci.yml', 'fix'), 1),\n (('api/northbound.go', 'fix'), 1),\n (('api/northbound_test.go', 'fix'), 1),\n (('api/southbound.go', 'fix'), 1),\n (('api/southbound_test.go', 'fix'), 1),\n (('cmd/wfx/cmd/root/cmd_test.go', 'fix'), 1),\n (('internal/errutil/main_test.go', 'fix'), 1),\n (('internal/errutil/wrap.go', 'fix'), 1),\n (('internal/errutil/wrap_test.go', 'fix'), 1),\n (('generated/ent/history/where.go', 'chore'), 1),\n (('generated/ent/history_create.go', 'chore'), 1),\n (('generated/ent/job/where.go', 'chore'), 1),\n (('generated/ent/job_create.go', 'chore'), 1),\n (('generated/ent/tag/where.go', 'chore'), 1),\n (('generated/ent/tag_create.go', 'chore'), 1),\n (('generated/ent/workflow/where.go', 'chore'), 1),\n (('generated/ent/workflow_create.go', 'chore'), 1),\n (('justfile', 'refactor'), 1),\n (('internal/persistence/entgo/sqlite_test.go', 'refactor'), 1),\n (('middleware/fileserver/fileserver_test.go', 'refactor'), 1),\n (('middleware/logging/writer_test.go', 'refactor'), 1),\n (('cmd/wfx/cmd/root/main_test.go', 'test'), 1),\n (('cmd/wfxctl/cmd/health/main_test.go', 'test'), 1),\n (('cmd/wfxctl/cmd/job/addtags/main_test.go', 'test'), 1),\n (('cmd/wfxctl/cmd/job/create/main_test.go', 'test'), 1),\n (('cmd/wfxctl/cmd/job/delete/main_test.go', 'test'), 1),\n (('cmd/wfxctl/cmd/job/deltags/main_test.go', 'test'), 1),\n (('cmd/wfxctl/cmd/job/get/main_test.go', 'test'), 1),\n (('cmd/wfxctl/cmd/job/getdefinition/main_test.go', 'test'), 1),\n (('cmd/wfxctl/cmd/job/getstatus/main_test.go', 'test'), 1),\n (('cmd/wfxctl/cmd/job/gettags/main_test.go', 'test'), 1),\n (('cmd/wfxctl/cmd/job/main_test.go', 'test'), 1),\n (('cmd/wfxctl/cmd/job/query/main_test.go', 'test'), 1),\n (('cmd/wfxctl/cmd/job/updatedefinition/main_test.go', 'test'), 1),\n (('cmd/wfxctl/cmd/job/updatestatus/main_test.go', 'test'), 1),\n (('cmd/wfxctl/cmd/main_test.go', 'test'), 1),\n (('cmd/wfxctl/cmd/version/main_test.go', 'test'), 1),\n (('cmd/wfxctl/cmd/workflow/create/main_test.go', 'test'), 1),\n (('cmd/wfxctl/cmd/workflow/delete/main_test.go', 'test'), 1),\n (('cmd/wfxctl/cmd/workflow/get/main_test.go', 'test'), 1),\n (('cmd/wfxctl/cmd/workflow/main_test.go', 'test'), 1),\n (('cmd/wfxctl/cmd/workflow/query/main_test.go', 'test'), 1),\n (('cmd/wfxctl/cmd/workflow/validate/main_test.go', 'test'), 1),\n (('cmd/wfxctl/errutil/main_test.go', 'test'), 1),\n (('cmd/wfxctl/flags/main_test.go', 'test'), 1),\n (('internal/config/main_test.go', 'test'), 1),\n (('internal/producer/main_test.go', 'test'), 1),\n (('internal/server/main_test.go', 'test'), 1),\n (('internal/workflow/main_test.go', 'test'), 1),\n (('middleware/fileserver/main_test.go', 'test'), 1),\n (('middleware/health/main_test.go', 'test'), 1),\n (('middleware/jq/main_test.go', 'test'), 1),\n (('middleware/logging/main_test.go', 'test'), 1),\n (('middleware/swagger/main_test.go', 'test'), 1),\n (('middleware/version/main_test.go', 'test'), 1),\n (('persistence/main_test.go', 'test'), 1),\n (('workflow/dau/main_test.go', 'test'), 1),\n (('workflow/main_test.go', 'test'), 1),\n (('cmd/wfx/cmd/root/systemd_test.go', 'fix'), 1),\n (('api/job_id_test.go', 'fix'), 1),\n (('cmd/wfxctl/cmd/version/version_test.go', 'fix'), 1),\n (('middleware/health/health.go', 'fix'), 1),\n (('middleware/health/health_test.go', 'fix'), 1),\n (('middleware/jq/gojq.go', 'fix'), 1),\n (('middleware/jq/gojq_test.go', 'fix'), 1),\n (('middleware/logging/log.go', 'fix'), 1),\n (('middleware/logging/log_test.go', 'fix'), 1),\n (('middleware/setup.go', 'fix'), 1),\n (('middleware/swagger/hint.go', 'fix'), 1),\n (('middleware/swagger/hint_test.go', 'fix'), 1),\n (('middleware/swagger/middleware.go', 'fix'), 1),\n (('middleware/swagger/middleware_test.go', 'fix'), 1),\n (('middleware/version/version.go', 'fix'), 1),\n (('middleware/version/version_test.go', 'fix'), 1),\n (('api/main_test.go', 'fix'), 1),\n (('internal/handler/job/definition/get_test.go', 'fix'), 1),\n (('internal/handler/job/definition/main_test.go', 'fix'), 1),\n (('internal/handler/job/main_test.go', 'fix'), 1),\n (('internal/handler/job/status/get_test.go', 'fix'), 1),\n (('internal/handler/job/status/main_test.go', 'fix'), 1),\n (('internal/handler/job/tags/add_test.go', 'fix'), 1),\n (('internal/handler/job/tags/main_test.go', 'fix'), 1),\n (('internal/handler/workflow/create_test.go', 'fix'), 1),\n (('internal/handler/workflow/main_test.go', 'fix'), 1),\n (('internal/persistence/entgo/main_test.go', 'fix'), 1),\n (('internal/persistence/entgo/mysql.go', 'fix'), 1),\n (('internal/persistence/entgo/mysql_test.go', 'fix'), 1),\n (('internal/persistence/entgo/postgres_test.go', 'fix'), 1),\n (('internal/persistence/entgo/sqlite.go', 'fix'), 1),\n (('internal/persistence/entgo/sqlite_test.go', 'fix'), 1),\n (('shell.nix', 'fix'), 1),\n (('Makefile', 'refactor'), 1),\n (('test/05-workflows.bats', 'test'), 1),\n (('.ci/setup/just.sh', 'ci'), 1),\n (('.ci/setup/staticcheck.sh', 'ci'), 1),\n (('.ci/setup/swagger.sh', 'ci'), 1),\n (('generated/ent/generate.go', 'ci'), 1),\n (('generated/generate.go', 'ci'), 1),\n (('share/demo/kanban/02-create-workflow.sh', 'fix'), 1),\n (('share/demo/kanban/03-producer.sh', 'fix'), 1),\n (('cmd/wfx/cmd/root/server.go', 'refactor'), 1),\n (('cmd/wfx/cmd/root/server_test.go', 'refactor'), 1),\n (('cmd/wfx/cmd/root/systemd.go', 'refactor'), 1),\n (('internal/server/http.go', 'refactor'), 1),\n (('.golangci.yml', 'ci'), 1),\n (('test/02-configuration.bats', 'ci'), 1),\n (('test/Makefile', 'ci'), 1),\n (('.ci/setup/swagger.sh', 'chore'), 1),\n (('generated/model/error_response.go', 'chore'), 1),\n (('generated/model/history.go', 'chore'), 1),\n (('generated/model/job.go', 'chore'), 1),\n (('generated/model/paginated_job_list.go', 'chore'), 1),\n (('generated/model/paginated_workflow_list.go', 'chore'), 1),\n (('generated/model/transition.go', 'chore'), 1),\n (('generated/model/workflow.go', 'chore'), 1),\n (('generated/northbound/restapi/operations/workflow_executor_api.go',\n   'chore'),\n  1),\n (('generated/southbound/restapi/operations/workflow_executor_api.go',\n   'chore'),\n  1),\n (('internal/config/koanf.go', 'refactor'), 1),\n (('api/northbound_test.go', 'refactor'), 1),\n (('api/southbound_test.go', 'refactor'), 1),\n (('generated/northbound/restapi/configure_workflow_executor.go', 'refactor'),\n  1),\n (('generated/southbound/restapi/configure_workflow_executor.go', 'refactor'),\n  1),\n (('internal/jsonutil/producer.go', 'refactor'), 1),\n (('internal/jsonutil/producer_test.go', 'refactor'), 1),\n (('internal/producer/json.go', 'refactor'), 1),\n (('internal/producer/json_test.go', 'refactor'), 1),\n (('docs/configuration.md', 'docs'), 1),\n (('test/04-operations.bats', 'fix'), 1),\n (('docs/configuration.md', 'feat'), 1),\n (('internal/persistence/entgo/postgres.go', 'feat'), 1),\n (('.ignore', 'chore'), 1),\n (('.golangci.yml', 'style'), 1),\n (('cmd/wfxctl/errutil/util.go', 'style'), 1),\n (('hugo/content/_index.html', 'style'), 1),\n (('.github/ISSUE_TEMPLATE/bug_report.md', 'refactor'), 1),\n (('.github/ISSUE_TEMPLATE/bug_report.yml', 'refactor'), 1),\n (('.github/ISSUE_TEMPLATE/feature_request.md', 'refactor'), 1),\n (('.github/ISSUE_TEMPLATE/feature_request.yml', 'refactor'), 1),\n (('README.md', 'style'), 1),\n (('hugo/static/images/logo.svg', 'style'), 1),\n (('docs/installation.md', 'docs'), 1),\n (('.github/ISSUE_TEMPLATE.md', 'ci'), 1),\n (('.github/ISSUE_TEMPLATE/bug_report.md', 'ci'), 1),\n (('.github/ISSUE_TEMPLATE/feature_request.md', 'ci'), 1),\n (('.ci/goreleaser/hook.sh', 'wfx'), 1),\n (('.ci/goreleaser/postinstall.sh', 'wfx'), 1),\n (('.ci/goreleaser/postremove.sh', 'wfx'), 1),\n (('.ci/setup/just.sh', 'wfx'), 1),\n (('.ci/setup/staticcheck.sh', 'wfx'), 1),\n (('.ci/setup/swagger.sh', 'wfx'), 1),\n (('.ci/zcc', 'wfx'), 1),\n (('.editorconfig', 'wfx'), 1),\n (('.gitattributes', 'wfx'), 1),\n (('.github/CODEOWNERS', 'wfx'), 1),\n (('.github/ISSUE_TEMPLATE.md', 'wfx'), 1),\n (('.github/PULL_REQUEST_TEMPLATE.md', 'wfx'), 1),\n (('.github/dependabot.yml', 'wfx'), 1),\n (('.github/workflows/ci.yml', 'wfx'), 1),\n (('.github/workflows/pages.yml', 'wfx'), 1),\n (('.github/workflows/pr.yml', 'wfx'), 1),\n (('.github/workflows/release.yml', 'wfx'), 1),\n (('.gitignore', 'wfx'), 1),\n (('.gitlab-ci.yml', 'wfx'), 1),\n (('.gitmodules', 'wfx'), 1),\n (('.golangci.yml', 'wfx'), 1),\n (('.goreleaser.yml', 'wfx'), 1),\n (('.ignore', 'wfx'), 1),\n (('.markdown-link-check.json', 'wfx'), 1),\n (('.markdownlintrc', 'wfx'), 1),\n (('.pre-commit-config.yaml', 'wfx'), 1),\n (('.prettierignore', 'wfx'), 1),\n (('CHANGELOG.md', 'wfx'), 1),\n (('CONTRIBUTING.md', 'wfx'), 1),\n (('DEVELOPMENT.md', 'wfx'), 1),\n (('Dockerfile', 'wfx'), 1),\n (('LICENSES/Apache-2.0.txt', 'wfx'), 1),\n (('Makefile', 'wfx'), 1),\n (('README.md', 'wfx'), 1),\n (('SECURITY.md', 'wfx'), 1),\n (('api/errors.go', 'wfx'), 1),\n (('api/job_definition_test.go', 'wfx'), 1),\n (('api/job_id_test.go', 'wfx'), 1),\n (('api/job_status_test.go', 'wfx'), 1),\n (('api/job_tag_test.go', 'wfx'), 1),\n (('api/jobs_test.go', 'wfx'), 1),\n (('api/northbound.go', 'wfx'), 1),\n (('api/northbound_test.go', 'wfx'), 1),\n (('api/southbound.go', 'wfx'), 1),\n (('api/southbound_test.go', 'wfx'), 1),\n (('api/workflow_test.go', 'wfx'), 1),\n (('cmd/wfx-loadtest/loadtest/dump.go', 'wfx'), 1),\n (('cmd/wfx-loadtest/loadtest/loadtest.go', 'wfx'), 1),\n (('cmd/wfx-loadtest/loadtest/write.go', 'wfx'), 1),\n (('cmd/wfx-loadtest/main.go', 'wfx'), 1),\n (('cmd/wfx-loadtest/root.go', 'wfx'), 1),\n (('cmd/wfx-loadtest/wfx/workflow.go', 'wfx'), 1),\n (('cmd/wfx-viewer/flags.go', 'wfx'), 1),\n (('cmd/wfx-viewer/io.go', 'wfx'), 1),\n (('cmd/wfx-viewer/main.go', 'wfx'), 1),\n (('cmd/wfx-viewer/metadata/metadata.go', 'wfx'), 1),\n (('cmd/wfx-viewer/plantuml.go', 'wfx'), 1),\n (('cmd/wfx-viewer/svg.go', 'wfx'), 1),\n (('cmd/wfx/cmd/root/cmd.go', 'wfx'), 1),\n (('cmd/wfx/cmd/root/cmd_test.go', 'wfx'), 1),\n (('cmd/wfx/cmd/root/config.go', 'wfx'), 1),\n (('cmd/wfx/cmd/root/config_test.go', 'wfx'), 1),\n (('cmd/wfx/cmd/root/flags.go', 'wfx'), 1),\n (('cmd/wfx/cmd/root/northbound.go', 'wfx'), 1),\n (('cmd/wfx/cmd/root/server.go', 'wfx'), 1),\n (('cmd/wfx/cmd/root/server_test.go', 'wfx'), 1),\n (('cmd/wfx/cmd/root/setup.go', 'wfx'), 1),\n (('cmd/wfx/cmd/root/southbound.go', 'wfx'), 1),\n (('cmd/wfx/cmd/root/systemd.go', 'wfx'), 1),\n (('cmd/wfx/cmd/root/systemd_test.go', 'wfx'), 1),\n (('cmd/wfx/main.go', 'wfx'), 1),\n (('cmd/wfx/metadata/config/config.go', 'wfx'), 1),\n (('cmd/wfx/metadata/metadata.go', 'wfx'), 1),\n (('cmd/wfxctl/cmd/health/health.go', 'wfx'), 1),\n (('cmd/wfxctl/cmd/health/health_test.go', 'wfx'), 1),\n (('cmd/wfxctl/cmd/job/addtags/add_tags.go', 'wfx'), 1),\n (('cmd/wfxctl/cmd/job/addtags/add_tags_test.go', 'wfx'), 1),\n (('cmd/wfxctl/cmd/job/create/create.go', 'wfx'), 1),\n (('cmd/wfxctl/cmd/job/create/create_test.go', 'wfx'), 1),\n (('cmd/wfxctl/cmd/job/delete/delete.go', 'wfx'), 1),\n (('cmd/wfxctl/cmd/job/delete/delete_test.go', 'wfx'), 1),\n (('cmd/wfxctl/cmd/job/deltags/del_tags.go', 'wfx'), 1),\n (('cmd/wfxctl/cmd/job/deltags/del_tags_test.go', 'wfx'), 1),\n (('cmd/wfxctl/cmd/job/get/get.go', 'wfx'), 1),\n (('cmd/wfxctl/cmd/job/get/get_test.go', 'wfx'), 1),\n (('cmd/wfxctl/cmd/job/getdefinition/get_definition.go', 'wfx'), 1),\n (('cmd/wfxctl/cmd/job/getdefinition/get_definition_test.go', 'wfx'), 1),\n (('cmd/wfxctl/cmd/job/getstatus/get_status.go', 'wfx'), 1),\n (('cmd/wfxctl/cmd/job/getstatus/get_status_test.go', 'wfx'), 1),\n (('cmd/wfxctl/cmd/job/gettags/get_tags.go', 'wfx'), 1),\n (('cmd/wfxctl/cmd/job/gettags/get_tags_test.go', 'wfx'), 1),\n (('cmd/wfxctl/cmd/job/job.go', 'wfx'), 1),\n (('cmd/wfxctl/cmd/job/job_test.go', 'wfx'), 1),\n (('cmd/wfxctl/cmd/job/query/query.go', 'wfx'), 1),\n (('cmd/wfxctl/cmd/job/query/query_test.go', 'wfx'), 1),\n (('cmd/wfxctl/cmd/job/updatedefinition/update_definition.go', 'wfx'), 1),\n (('cmd/wfxctl/cmd/job/updatedefinition/update_definition_test.go', 'wfx'), 1),\n (('cmd/wfxctl/cmd/job/updatestatus/update_status.go', 'wfx'), 1),\n (('cmd/wfxctl/cmd/job/updatestatus/update_status_test.go', 'wfx'), 1),\n (('cmd/wfxctl/cmd/root.go', 'wfx'), 1),\n (('cmd/wfxctl/cmd/root_test.go', 'wfx'), 1),\n (('cmd/wfxctl/cmd/version/version.go', 'wfx'), 1),\n (('cmd/wfxctl/cmd/version/version_test.go', 'wfx'), 1),\n (('cmd/wfxctl/cmd/workflow/create/create.go', 'wfx'), 1),\n (('cmd/wfxctl/cmd/workflow/create/create_test.go', 'wfx'), 1),\n (('cmd/wfxctl/cmd/workflow/delete/delete.go', 'wfx'), 1),\n (('cmd/wfxctl/cmd/workflow/delete/delete_test.go', 'wfx'), 1),\n (('cmd/wfxctl/cmd/workflow/get/get.go', 'wfx'), 1),\n (('cmd/wfxctl/cmd/workflow/get/get_test.go', 'wfx'), 1),\n (('cmd/wfxctl/cmd/workflow/query/query.go', 'wfx'), 1),\n (('cmd/wfxctl/cmd/workflow/query/query_test.go', 'wfx'), 1),\n (('cmd/wfxctl/cmd/workflow/validate/validate.go', 'wfx'), 1),\n (('cmd/wfxctl/cmd/workflow/validate/validate_test.go', 'wfx'), 1),\n (('cmd/wfxctl/cmd/workflow/workflow.go', 'wfx'), 1),\n (('cmd/wfxctl/cmd/workflow/workflow_test.go', 'wfx'), 1),\n (('cmd/wfxctl/errutil/util.go', 'wfx'), 1),\n (('cmd/wfxctl/errutil/util_test.go', 'wfx'), 1),\n (('cmd/wfxctl/flags/basecmd.go', 'wfx'), 1),\n (('cmd/wfxctl/flags/basecmd_test.go', 'wfx'), 1),\n (('cmd/wfxctl/flags/flags.go', 'wfx'), 1),\n (('cmd/wfxctl/main.go', 'wfx'), 1),\n (('cmd/wfxctl/metadata/metadata.go', 'wfx'), 1),\n (('docs/configuration.md', 'wfx'), 1),\n (('docs/images/benchmark.png', 'wfx'), 1),\n (('docs/installation.md', 'wfx'), 1),\n (('docs/operations.md', 'wfx'), 1),\n (('docs/workflows.md', 'wfx'), 1),\n (('generated/client/jobs/delete_jobs_id_parameters.go', 'wfx'), 1),\n (('generated/client/jobs/delete_jobs_id_responses.go', 'wfx'), 1),\n (('generated/client/jobs/delete_jobs_id_tags_parameters.go', 'wfx'), 1),\n (('generated/client/jobs/delete_jobs_id_tags_responses.go', 'wfx'), 1),\n (('generated/client/jobs/get_jobs_id_definition_parameters.go', 'wfx'), 1),\n (('generated/client/jobs/get_jobs_id_definition_responses.go', 'wfx'), 1),\n (('generated/client/jobs/get_jobs_id_parameters.go', 'wfx'), 1),\n (('generated/client/jobs/get_jobs_id_responses.go', 'wfx'), 1),\n (('generated/client/jobs/get_jobs_id_status_parameters.go', 'wfx'), 1),\n (('generated/client/jobs/get_jobs_id_status_responses.go', 'wfx'), 1),\n (('generated/client/jobs/get_jobs_id_tags_parameters.go', 'wfx'), 1),\n (('generated/client/jobs/get_jobs_id_tags_responses.go', 'wfx'), 1),\n (('generated/client/jobs/get_jobs_parameters.go', 'wfx'), 1),\n (('generated/client/jobs/get_jobs_responses.go', 'wfx'), 1),\n (('generated/client/jobs/jobs_client.go', 'wfx'), 1),\n (('generated/client/jobs/post_jobs_id_tags_parameters.go', 'wfx'), 1),\n (('generated/client/jobs/post_jobs_id_tags_responses.go', 'wfx'), 1),\n (('generated/client/jobs/post_jobs_parameters.go', 'wfx'), 1),\n (('generated/client/jobs/post_jobs_responses.go', 'wfx'), 1),\n (('generated/client/jobs/put_jobs_id_definition_parameters.go', 'wfx'), 1),\n (('generated/client/jobs/put_jobs_id_definition_responses.go', 'wfx'), 1),\n (('generated/client/jobs/put_jobs_id_status_parameters.go', 'wfx'), 1),\n (('generated/client/jobs/put_jobs_id_status_responses.go', 'wfx'), 1),\n (('generated/client/workflow_executor_client.go', 'wfx'), 1),\n (('generated/client/workflows/delete_workflows_name_parameters.go', 'wfx'),\n  1),\n (('generated/client/workflows/delete_workflows_name_responses.go', 'wfx'), 1),\n (('generated/client/workflows/get_workflows_name_parameters.go', 'wfx'), 1),\n (('generated/client/workflows/get_workflows_name_responses.go', 'wfx'), 1),\n (('generated/client/workflows/get_workflows_parameters.go', 'wfx'), 1),\n (('generated/client/workflows/get_workflows_responses.go', 'wfx'), 1),\n (('generated/client/workflows/post_workflows_parameters.go', 'wfx'), 1),\n (('generated/client/workflows/post_workflows_responses.go', 'wfx'), 1),\n (('generated/client/workflows/workflows_client.go', 'wfx'), 1),\n (('generated/ent/client.go', 'wfx'), 1),\n (('generated/ent/ent.go', 'wfx'), 1),\n (('generated/ent/enttest/enttest.go', 'wfx'), 1),\n (('generated/ent/generate.go', 'wfx'), 1),\n (('generated/ent/history.go', 'wfx'), 1),\n (('generated/ent/history/history.go', 'wfx'), 1),\n (('generated/ent/history/where.go', 'wfx'), 1),\n (('generated/ent/history_create.go', 'wfx'), 1),\n (('generated/ent/history_delete.go', 'wfx'), 1),\n (('generated/ent/history_query.go', 'wfx'), 1),\n (('generated/ent/history_update.go', 'wfx'), 1),\n (('generated/ent/hook/hook.go', 'wfx'), 1),\n (('generated/ent/job.go', 'wfx'), 1),\n (('generated/ent/job/job.go', 'wfx'), 1),\n (('generated/ent/job/where.go', 'wfx'), 1),\n (('generated/ent/job_create.go', 'wfx'), 1),\n (('generated/ent/job_delete.go', 'wfx'), 1),\n (('generated/ent/job_query.go', 'wfx'), 1),\n (('generated/ent/job_update.go', 'wfx'), 1),\n (('generated/ent/migrate/main.go', 'wfx'), 1),\n (('generated/ent/migrate/migrate.go', 'wfx'), 1),\n (('generated/ent/migrate/schema.go', 'wfx'), 1),\n (('generated/ent/mutation.go', 'wfx'), 1),\n (('generated/ent/predicate/predicate.go', 'wfx'), 1),\n (('generated/ent/runtime.go', 'wfx'), 1),\n (('generated/ent/runtime/runtime.go', 'wfx'), 1),\n (('generated/ent/schema/history.go', 'wfx'), 1),\n (('generated/ent/schema/job.go', 'wfx'), 1),\n (('generated/ent/schema/tag.go', 'wfx'), 1),\n (('generated/ent/schema/workflow.go', 'wfx'), 1),\n (('generated/ent/tag.go', 'wfx'), 1),\n (('generated/ent/tag/tag.go', 'wfx'), 1),\n (('generated/ent/tag/where.go', 'wfx'), 1),\n (('generated/ent/tag_create.go', 'wfx'), 1),\n (('generated/ent/tag_delete.go', 'wfx'), 1),\n (('generated/ent/tag_query.go', 'wfx'), 1),\n (('generated/ent/tag_update.go', 'wfx'), 1),\n (('generated/ent/tx.go', 'wfx'), 1),\n (('generated/ent/workflow.go', 'wfx'), 1),\n (('generated/ent/workflow/where.go', 'wfx'), 1),\n (('generated/ent/workflow/workflow.go', 'wfx'), 1),\n (('generated/ent/workflow_create.go', 'wfx'), 1),\n (('generated/ent/workflow_delete.go', 'wfx'), 1),\n (('generated/ent/workflow_query.go', 'wfx'), 1),\n (('generated/ent/workflow_update.go', 'wfx'), 1),\n (('generated/generate.go', 'wfx'), 1),\n (('generated/model/action_enum.go', 'wfx'), 1),\n (('generated/model/eligible_enum.go', 'wfx'), 1),\n (('generated/model/error.go', 'wfx'), 1),\n (('generated/model/error_response.go', 'wfx'), 1),\n (('generated/model/group.go', 'wfx'), 1),\n (('generated/model/history.go', 'wfx'), 1),\n (('generated/model/job.go', 'wfx'), 1),\n (('generated/model/job_request.go', 'wfx'), 1),\n (('generated/model/job_status.go', 'wfx'), 1),\n (('generated/model/paginated_job_list.go', 'wfx'), 1),\n (('generated/model/paginated_workflow_list.go', 'wfx'), 1),\n (('generated/model/state.go', 'wfx'), 1),\n (('generated/model/transition.go', 'wfx'), 1),\n (('generated/model/workflow.go', 'wfx'), 1),\n (('generated/northbound/restapi/configure_workflow_executor.go', 'wfx'), 1),\n (('generated/northbound/restapi/doc.go', 'wfx'), 1),\n (('generated/northbound/restapi/embedded_spec.go', 'wfx'), 1),\n (('generated/northbound/restapi/operations/northbound/delete_jobs_id.go',\n   'wfx'),\n  1),\n (('generated/northbound/restapi/operations/northbound/delete_jobs_id_parameters.go',\n   'wfx'),\n  1),\n (('generated/northbound/restapi/operations/northbound/delete_jobs_id_responses.go',\n   'wfx'),\n  1),\n (('generated/northbound/restapi/operations/northbound/delete_jobs_id_tags.go',\n   'wfx'),\n  1),\n (('generated/northbound/restapi/operations/northbound/delete_jobs_id_tags_parameters.go',\n   'wfx'),\n  1),\n (('generated/northbound/restapi/operations/northbound/delete_jobs_id_tags_responses.go',\n   'wfx'),\n  1),\n (('generated/northbound/restapi/operations/northbound/delete_jobs_id_tags_urlbuilder.go',\n   'wfx'),\n  1),\n (('generated/northbound/restapi/operations/northbound/delete_jobs_id_urlbuilder.go',\n   'wfx'),\n  1),\n (('generated/northbound/restapi/operations/northbound/delete_workflows_name.go',\n   'wfx'),\n  1),\n (('generated/northbound/restapi/operations/northbound/delete_workflows_name_parameters.go',\n   'wfx'),\n  1),\n (('generated/northbound/restapi/operations/northbound/delete_workflows_name_responses.go',\n   'wfx'),\n  1),\n (('generated/northbound/restapi/operations/northbound/delete_workflows_name_urlbuilder.go',\n   'wfx'),\n  1),\n (('generated/northbound/restapi/operations/northbound/get_jobs.go', 'wfx'),\n  1),\n (('generated/northbound/restapi/operations/northbound/get_jobs_id.go', 'wfx'),\n  1),\n (('generated/northbound/restapi/operations/northbound/get_jobs_id_definition.go',\n   'wfx'),\n  1),\n (('generated/northbound/restapi/operations/northbound/get_jobs_id_definition_parameters.go',\n   'wfx'),\n  1),\n (('generated/northbound/restapi/operations/northbound/get_jobs_id_definition_responses.go',\n   'wfx'),\n  1),\n (('generated/northbound/restapi/operations/northbound/get_jobs_id_definition_urlbuilder.go',\n   'wfx'),\n  1),\n (('generated/northbound/restapi/operations/northbound/get_jobs_id_parameters.go',\n   'wfx'),\n  1),\n (('generated/northbound/restapi/operations/northbound/get_jobs_id_responses.go',\n   'wfx'),\n  1),\n (('generated/northbound/restapi/operations/northbound/get_jobs_id_status.go',\n   'wfx'),\n  1),\n (('generated/northbound/restapi/operations/northbound/get_jobs_id_status_parameters.go',\n   'wfx'),\n  1),\n (('generated/northbound/restapi/operations/northbound/get_jobs_id_status_responses.go',\n   'wfx'),\n  1),\n (('generated/northbound/restapi/operations/northbound/get_jobs_id_status_urlbuilder.go',\n   'wfx'),\n  1),\n (('generated/northbound/restapi/operations/northbound/get_jobs_id_tags.go',\n   'wfx'),\n  1),\n (('generated/northbound/restapi/operations/northbound/get_jobs_id_tags_parameters.go',\n   'wfx'),\n  1),\n (('generated/northbound/restapi/operations/northbound/get_jobs_id_tags_responses.go',\n   'wfx'),\n  1),\n (('generated/northbound/restapi/operations/northbound/get_jobs_id_tags_urlbuilder.go',\n   'wfx'),\n  1),\n (('generated/northbound/restapi/operations/northbound/get_jobs_id_urlbuilder.go',\n   'wfx'),\n  1),\n (('generated/northbound/restapi/operations/northbound/get_jobs_parameters.go',\n   'wfx'),\n  1),\n (('generated/northbound/restapi/operations/northbound/get_jobs_responses.go',\n   'wfx'),\n  1),\n (('generated/northbound/restapi/operations/northbound/get_jobs_urlbuilder.go',\n   'wfx'),\n  1),\n (('generated/northbound/restapi/operations/northbound/get_workflows.go',\n   'wfx'),\n  1),\n (('generated/northbound/restapi/operations/northbound/get_workflows_name.go',\n   'wfx'),\n  1),\n (('generated/northbound/restapi/operations/northbound/get_workflows_name_parameters.go',\n   'wfx'),\n  1),\n (('generated/northbound/restapi/operations/northbound/get_workflows_name_responses.go',\n   'wfx'),\n  1),\n (('generated/northbound/restapi/operations/northbound/get_workflows_name_urlbuilder.go',\n   'wfx'),\n  1),\n (('generated/northbound/restapi/operations/northbound/get_workflows_parameters.go',\n   'wfx'),\n  1),\n (('generated/northbound/restapi/operations/northbound/get_workflows_responses.go',\n   'wfx'),\n  1),\n (('generated/northbound/restapi/operations/northbound/get_workflows_urlbuilder.go',\n   'wfx'),\n  1),\n (('generated/northbound/restapi/operations/northbound/post_jobs.go', 'wfx'),\n  1),\n (('generated/northbound/restapi/operations/northbound/post_jobs_id_tags.go',\n   'wfx'),\n  1),\n (('generated/northbound/restapi/operations/northbound/post_jobs_id_tags_parameters.go',\n   'wfx'),\n  1),\n (('generated/northbound/restapi/operations/northbound/post_jobs_id_tags_responses.go',\n   'wfx'),\n  1),\n (('generated/northbound/restapi/operations/northbound/post_jobs_id_tags_urlbuilder.go',\n   'wfx'),\n  1),\n (('generated/northbound/restapi/operations/northbound/post_jobs_parameters.go',\n   'wfx'),\n  1),\n (('generated/northbound/restapi/operations/northbound/post_jobs_responses.go',\n   'wfx'),\n  1),\n (('generated/northbound/restapi/operations/northbound/post_jobs_urlbuilder.go',\n   'wfx'),\n  1),\n (('generated/northbound/restapi/operations/northbound/post_workflows.go',\n   'wfx'),\n  1),\n (('generated/northbound/restapi/operations/northbound/post_workflows_parameters.go',\n   'wfx'),\n  1),\n (('generated/northbound/restapi/operations/northbound/post_workflows_responses.go',\n   'wfx'),\n  1),\n (('generated/northbound/restapi/operations/northbound/post_workflows_urlbuilder.go',\n   'wfx'),\n  1),\n (('generated/northbound/restapi/operations/northbound/put_jobs_id_definition.go',\n   'wfx'),\n  1),\n (('generated/northbound/restapi/operations/northbound/put_jobs_id_definition_parameters.go',\n   'wfx'),\n  1),\n (('generated/northbound/restapi/operations/northbound/put_jobs_id_definition_responses.go',\n   'wfx'),\n  1),\n (('generated/northbound/restapi/operations/northbound/put_jobs_id_definition_urlbuilder.go',\n   'wfx'),\n  1),\n (('generated/northbound/restapi/operations/northbound/put_jobs_id_status.go',\n   'wfx'),\n  1),\n (('generated/northbound/restapi/operations/northbound/put_jobs_id_status_parameters.go',\n   'wfx'),\n  1),\n (('generated/northbound/restapi/operations/northbound/put_jobs_id_status_responses.go',\n   'wfx'),\n  1),\n (('generated/northbound/restapi/operations/northbound/put_jobs_id_status_urlbuilder.go',\n   'wfx'),\n  1),\n (('generated/northbound/restapi/operations/workflow_executor_api.go', 'wfx'),\n  1),\n (('generated/southbound/restapi/configure_workflow_executor.go', 'wfx'), 1),\n (('generated/southbound/restapi/doc.go', 'wfx'), 1),\n (('generated/southbound/restapi/embedded_spec.go', 'wfx'), 1),\n (('generated/southbound/restapi/operations/southbound/get_jobs.go', 'wfx'),\n  1),\n (('generated/southbound/restapi/operations/southbound/get_jobs_id.go', 'wfx'),\n  1),\n (('generated/southbound/restapi/operations/southbound/get_jobs_id_definition.go',\n   'wfx'),\n  1),\n (('generated/southbound/restapi/operations/southbound/get_jobs_id_definition_parameters.go',\n   'wfx'),\n  1),\n (('generated/southbound/restapi/operations/southbound/get_jobs_id_definition_responses.go',\n   'wfx'),\n  1),\n (('generated/southbound/restapi/operations/southbound/get_jobs_id_definition_urlbuilder.go',\n   'wfx'),\n  1),\n (('generated/southbound/restapi/operations/southbound/get_jobs_id_parameters.go',\n   'wfx'),\n  1),\n (('generated/southbound/restapi/operations/southbound/get_jobs_id_responses.go',\n   'wfx'),\n  1),\n (('generated/southbound/restapi/operations/southbound/get_jobs_id_status.go',\n   'wfx'),\n  1),\n (('generated/southbound/restapi/operations/southbound/get_jobs_id_status_parameters.go',\n   'wfx'),\n  1),\n (('generated/southbound/restapi/operations/southbound/get_jobs_id_status_responses.go',\n   'wfx'),\n  1),\n (('generated/southbound/restapi/operations/southbound/get_jobs_id_status_urlbuilder.go',\n   'wfx'),\n  1),\n (('generated/southbound/restapi/operations/southbound/get_jobs_id_tags.go',\n   'wfx'),\n  1),\n (('generated/southbound/restapi/operations/southbound/get_jobs_id_tags_parameters.go',\n   'wfx'),\n  1),\n (('generated/southbound/restapi/operations/southbound/get_jobs_id_tags_responses.go',\n   'wfx'),\n  1),\n (('generated/southbound/restapi/operations/southbound/get_jobs_id_tags_urlbuilder.go',\n   'wfx'),\n  1),\n (('generated/southbound/restapi/operations/southbound/get_jobs_id_urlbuilder.go',\n   'wfx'),\n  1),\n (('generated/southbound/restapi/operations/southbound/get_jobs_parameters.go',\n   'wfx'),\n  1),\n (('generated/southbound/restapi/operations/southbound/get_jobs_responses.go',\n   'wfx'),\n  1),\n (('generated/southbound/restapi/operations/southbound/get_jobs_urlbuilder.go',\n   'wfx'),\n  1),\n (('generated/southbound/restapi/operations/southbound/get_workflows.go',\n   'wfx'),\n  1),\n (('generated/southbound/restapi/operations/southbound/get_workflows_name.go',\n   'wfx'),\n  1),\n (('generated/southbound/restapi/operations/southbound/get_workflows_name_parameters.go',\n   'wfx'),\n  1),\n (('generated/southbound/restapi/operations/southbound/get_workflows_name_responses.go',\n   'wfx'),\n  1),\n (('generated/southbound/restapi/operations/southbound/get_workflows_name_urlbuilder.go',\n   'wfx'),\n  1),\n (('generated/southbound/restapi/operations/southbound/get_workflows_parameters.go',\n   'wfx'),\n  1),\n (('generated/southbound/restapi/operations/southbound/get_workflows_responses.go',\n   'wfx'),\n  1),\n (('generated/southbound/restapi/operations/southbound/get_workflows_urlbuilder.go',\n   'wfx'),\n  1),\n (('generated/southbound/restapi/operations/southbound/put_jobs_id_definition.go',\n   'wfx'),\n  1),\n (('generated/southbound/restapi/operations/southbound/put_jobs_id_definition_parameters.go',\n   'wfx'),\n  1),\n (('generated/southbound/restapi/operations/southbound/put_jobs_id_definition_responses.go',\n   'wfx'),\n  1),\n (('generated/southbound/restapi/operations/southbound/put_jobs_id_definition_urlbuilder.go',\n   'wfx'),\n  1),\n (('generated/southbound/restapi/operations/southbound/put_jobs_id_status.go',\n   'wfx'),\n  1),\n (('generated/southbound/restapi/operations/southbound/put_jobs_id_status_parameters.go',\n   'wfx'),\n  1),\n (('generated/southbound/restapi/operations/southbound/put_jobs_id_status_responses.go',\n   'wfx'),\n  1),\n (('generated/southbound/restapi/operations/southbound/put_jobs_id_status_urlbuilder.go',\n   'wfx'),\n  1),\n (('generated/southbound/restapi/operations/workflow_executor_api.go', 'wfx'),\n  1),\n (('go.mod', 'wfx'), 1),\n (('hugo/.gitignore', 'wfx'), 1),\n (('hugo/.htmltest.yml', 'wfx'), 1),\n (('hugo/Makefile', 'wfx'), 1),\n (('hugo/assets/icons/logo.svg', 'wfx'), 1),\n (('hugo/assets/scss/_styles_project.scss', 'wfx'), 1),\n (('hugo/assets/scss/_variables_project.scss', 'wfx'), 1),\n (('hugo/config.toml', 'wfx'), 1),\n (('hugo/content/_index.html', 'wfx'), 1),\n (('hugo/content/docs/_index.md', 'wfx'), 1),\n (('hugo/content/docs/api.md', 'wfx'), 1),\n (('hugo/filters/fix-links-post.lua', 'wfx'), 1),\n (('hugo/filters/fix-links-pre.lua', 'wfx'), 1),\n (('hugo/go.mod', 'wfx'), 1),\n (('hugo/justfile', 'wfx'), 1),\n (('hugo/layouts/_default/_markup/render-image.html', 'wfx'), 1),\n (('hugo/layouts/_default/_markup/render-link.html', 'wfx'), 1),\n (('hugo/package-lock.json', 'wfx'), 1),\n (('hugo/package.json', 'wfx'), 1),\n (('hugo/scripts/convert_markdown.sh', 'wfx'), 1),\n (('hugo/scripts/postprocess.sh', 'wfx'), 1),\n (('hugo/scripts/titleblock.awk', 'wfx'), 1),\n (('internal/config/koanf.go', 'wfx'), 1),\n (('internal/config/koanf_test.go', 'wfx'), 1),\n (('internal/handler/job/create.go', 'wfx'), 1),\n (('internal/handler/job/create_test.go', 'wfx'), 1),\n (('internal/handler/job/definition/get.go', 'wfx'), 1),\n (('internal/handler/job/definition/get_test.go', 'wfx'), 1),\n (('internal/handler/job/definition/update.go', 'wfx'), 1),\n (('internal/handler/job/definition/update_test.go', 'wfx'), 1),\n (('internal/handler/job/delete.go', 'wfx'), 1),\n (('internal/handler/job/delete_test.go', 'wfx'), 1),\n (('internal/handler/job/get.go', 'wfx'), 1),\n (('internal/handler/job/get_test.go', 'wfx'), 1),\n (('internal/handler/job/query.go', 'wfx'), 1),\n (('internal/handler/job/query_test.go', 'wfx'), 1),\n (('internal/handler/job/status/get.go', 'wfx'), 1),\n (('internal/handler/job/status/get_test.go', 'wfx'), 1),\n (('internal/handler/job/status/update.go', 'wfx'), 1),\n (('internal/handler/job/status/update_test.go', 'wfx'), 1),\n (('internal/handler/job/tags/add.go', 'wfx'), 1),\n (('internal/handler/job/tags/add_test.go', 'wfx'), 1),\n (('internal/handler/job/tags/delete.go', 'wfx'), 1),\n (('internal/handler/job/tags/delete_test.go', 'wfx'), 1),\n (('internal/handler/job/tags/get.go', 'wfx'), 1),\n (('internal/handler/job/tags/get_test.go', 'wfx'), 1),\n (('internal/handler/workflow/create.go', 'wfx'), 1),\n (('internal/handler/workflow/create_test.go', 'wfx'), 1),\n (('internal/handler/workflow/delete.go', 'wfx'), 1),\n (('internal/handler/workflow/delete_test.go', 'wfx'), 1),\n (('internal/handler/workflow/get.go', 'wfx'), 1),\n (('internal/handler/workflow/get_test.go', 'wfx'), 1),\n (('internal/handler/workflow/query.go', 'wfx'), 1),\n (('internal/handler/workflow/query_test.go', 'wfx'), 1),\n (('internal/jsonutil/producer.go', 'wfx'), 1),\n (('internal/jsonutil/producer_test.go', 'wfx'), 1),\n (('internal/persistence/entgo/db.go', 'wfx'), 1),\n (('internal/persistence/entgo/db_test.go', 'wfx'), 1),\n (('internal/persistence/entgo/health.go', 'wfx'), 1),\n (('internal/persistence/entgo/job_create.go', 'wfx'), 1),\n (('internal/persistence/entgo/job_delete.go', 'wfx'), 1),\n (('internal/persistence/entgo/job_get.go', 'wfx'), 1),\n (('internal/persistence/entgo/job_query.go', 'wfx'), 1),\n (('internal/persistence/entgo/job_update.go', 'wfx'), 1),\n (('internal/persistence/entgo/migrate.go', 'wfx'), 1),\n (('internal/persistence/entgo/migrations/mysql/20230404121019_initial.down.sql',\n   'wfx'),\n  1),\n (('internal/persistence/entgo/migrations/mysql/20230404121019_initial.up.sql',\n   'wfx'),\n  1),\n (('internal/persistence/entgo/migrations/postgres/20230404121326_initial.down.sql',\n   'wfx'),\n  1),\n (('internal/persistence/entgo/migrations/postgres/20230404121326_initial.up.sql',\n   'wfx'),\n  1),\n (('internal/persistence/entgo/migrations/sqlite/20230404114557_initial.down.sql',\n   'wfx'),\n  1),\n (('internal/persistence/entgo/migrations/sqlite/20230404114557_initial.up.sql',\n   'wfx'),\n  1),\n (('internal/persistence/entgo/mysql.go', 'wfx'), 1),\n (('internal/persistence/entgo/mysql_test.go', 'wfx'), 1),\n (('internal/persistence/entgo/postgres.go', 'wfx'), 1),\n (('internal/persistence/entgo/postgres_test.go', 'wfx'), 1),\n (('internal/persistence/entgo/sqlite.go', 'wfx'), 1),\n (('internal/persistence/entgo/sqlite_test.go', 'wfx'), 1),\n (('internal/persistence/entgo/workflow_create.go', 'wfx'), 1),\n (('internal/persistence/entgo/workflow_delete.go', 'wfx'), 1),\n (('internal/persistence/entgo/workflow_get.go', 'wfx'), 1),\n (('internal/persistence/entgo/workflow_query.go', 'wfx'), 1),\n (('internal/persistence/tests/all.go', 'wfx'), 1),\n (('internal/persistence/tests/generate.go', 'wfx'), 1),\n (('internal/persistence/tests/generator.go', 'wfx'), 1),\n (('internal/persistence/tests/job_delete.go', 'wfx'), 1),\n (('internal/persistence/tests/job_get.go', 'wfx'), 1),\n (('internal/persistence/tests/job_query.go', 'wfx'), 1),\n (('internal/persistence/tests/job_update_definition.go', 'wfx'), 1),\n (('internal/persistence/tests/job_update_status.go', 'wfx'), 1),\n (('internal/persistence/tests/job_update_tag.go', 'wfx'), 1),\n (('internal/persistence/tests/workflow.go', 'wfx'), 1),\n (('internal/server/http.go', 'wfx'), 1),\n (('internal/server/http_test.go', 'wfx'), 1),\n (('internal/server/tls.go', 'wfx'), 1),\n (('internal/server/tls_test.go', 'wfx'), 1),\n (('internal/workflow/workflow.go', 'wfx'), 1),\n ...]"
     },
     "execution_count": 65,
     "metadata": {},
     "output_type": "execute_result"
    }
   ],
   "source": [
    "counter.most_common()"
   ]
  },
  {
   "cell_type": "code",
   "execution_count": 66,
   "id": "8df51897a0ba5522",
   "metadata": {
    "collapsed": false,
    "ExecuteTime": {
     "end_time": "2024-08-12T18:27:08.577840Z",
     "start_time": "2024-08-12T18:27:08.556295Z"
    }
   },
   "outputs": [
    {
     "data": {
      "text/plain": "{'.ci/packages/versions.env',\n '.github/dependabot.yml',\n '.github/workflows/ci.yml',\n '.github/workflows/pages.yml',\n '.github/workflows/pr.yml',\n '.github/workflows/release.yml',\n '.gitlab-ci.yml',\n '.golangci.yml',\n '.goreleaser.yml',\n 'CHANGELOG.md',\n 'README.md',\n 'cmd/wfx-viewer/flags.go',\n 'cmd/wfx-viewer/main.go',\n 'cmd/wfx/cmd/root/cmd.go',\n 'cmd/wfx/cmd/root/northbound.go',\n 'cmd/wfx/cmd/root/southbound.go',\n 'codecov.yml',\n 'contrib/config-deployment/client/go.mod',\n 'contrib/remote-access/client/go.mod',\n 'docs/installation.md',\n 'example/plugin/go.mod',\n 'generated/ent/runtime/runtime.go',\n 'go.mod',\n 'go.work',\n 'hugo/go.mod',\n 'hugo/package-lock.json',\n 'hugo/package.json',\n 'justfile',\n 'persistence/mock_Storage.go',\n 'shell.nix'}"
     },
     "execution_count": 66,
     "metadata": {},
     "output_type": "execute_result"
    }
   ],
   "source": [
    "most_changed_counter = Counter()\n",
    "for (filename, _), count in counter.items():\n",
    "    most_changed_counter[filename] += count\n",
    "file_set = {file for file, reason in most_changed_counter.most_common(30)}\n",
    "file_set"
   ]
  },
  {
   "cell_type": "code",
   "execution_count": 67,
   "id": "ad2d9bd4-e907-4942-85bb-a722bbd303a7",
   "metadata": {
    "ExecuteTime": {
     "end_time": "2024-08-12T18:27:08.578572Z",
     "start_time": "2024-08-12T18:27:08.560545Z"
    }
   },
   "outputs": [
    {
     "data": {
      "text/plain": "[('.github/workflows/ci.yml', 'fix', 2),\n ('.github/workflows/pages.yml', 'fix', 2),\n ('.gitlab-ci.yml', 'fix', 1),\n ('contrib/config-deployment/client/go.mod', 'fix', 2),\n ('contrib/remote-access/client/go.mod', 'fix', 2),\n ('go.mod', 'fix', 3),\n ('hugo/package-lock.json', 'fix', 1),\n ('.ci/packages/versions.env', 'chore', 10),\n ('.github/workflows/ci.yml', 'chore', 19),\n ('.github/workflows/pages.yml', 'chore', 11),\n ('.github/workflows/pr.yml', 'chore', 4),\n ('.github/workflows/release.yml', 'chore', 10),\n ('.gitlab-ci.yml', 'chore', 5),\n ('generated/ent/runtime/runtime.go', 'chore', 4),\n ('go.mod', 'chore', 73),\n ('hugo/package-lock.json', 'chore', 13),\n ('shell.nix', 'chore', 2),\n ('CHANGELOG.md', 'fix', 6),\n ('example/plugin/go.mod', 'fix', 1),\n ('CHANGELOG.md', 'chore', 7),\n ('.goreleaser.yml', 'chore', 2),\n ('.github/workflows/release.yml', 'ci', 3),\n ('contrib/config-deployment/client/go.mod', 'chore', 6),\n ('contrib/remote-access/client/go.mod', 'chore', 6),\n ('example/plugin/go.mod', 'chore', 4),\n ('justfile', 'chore', 1),\n ('persistence/mock_Storage.go', 'chore', 3),\n ('hugo/go.mod', 'chore', 6),\n ('.github/dependabot.yml', 'ci', 2),\n ('.ci/packages/versions.env', 'ci', 2),\n ('.github/workflows/ci.yml', 'ci', 7),\n ('.github/workflows/pages.yml', 'ci', 3),\n ('.gitlab-ci.yml', 'ci', 2),\n ('justfile', 'ci', 4),\n ('go.work', 'chore', 2),\n ('.goreleaser.yml', 'feat', 2),\n ('CHANGELOG.md', 'feat', 5),\n ('hugo/package.json', 'chore', 10),\n ('persistence/mock_Storage.go', 'ci', 1),\n ('.goreleaser.yml', 'ci', 7),\n ('cmd/wfx-viewer/flags.go', 'test', 1),\n ('cmd/wfx-viewer/main.go', 'test', 1),\n ('cmd/wfx-viewer/flags.go', 'feat', 1),\n ('cmd/wfx-viewer/main.go', 'feat', 1),\n ('codecov.yml', 'ci', 5),\n ('cmd/wfx-viewer/main.go', 'refactor', 2),\n ('.golangci.yml', 'test', 1),\n ('docs/installation.md', 'feat', 2),\n ('go.mod', 'feat', 5),\n ('cmd/wfx-viewer/flags.go', 'refactor', 1),\n ('cmd/wfx-viewer/flags.go', 'chore', 1),\n ('cmd/wfx-viewer/main.go', 'chore', 1),\n ('cmd/wfx/cmd/root/cmd.go', 'chore', 2),\n ('.golangci.yml', 'chore', 2),\n ('docs/installation.md', 'chore', 2),\n ('.github/workflows/ci.yml', 'feat', 2),\n ('.gitlab-ci.yml', 'feat', 2),\n ('.golangci.yml', 'feat', 2),\n ('cmd/wfx/cmd/root/cmd.go', 'feat', 2),\n ('cmd/wfx/cmd/root/northbound.go', 'feat', 1),\n ('cmd/wfx/cmd/root/southbound.go', 'feat', 1),\n ('example/plugin/go.mod', 'feat', 1),\n ('go.work', 'feat', 3),\n ('justfile', 'feat', 2),\n ('shell.nix', 'feat', 1),\n ('README.md', 'docs', 3),\n ('.github/dependabot.yml', 'chore', 3),\n ('contrib/config-deployment/client/go.mod', 'feat', 1),\n ('contrib/remote-access/client/go.mod', 'feat', 1),\n ('.github/workflows/ci.yml', 'test', 1),\n ('codecov.yml', 'test', 1),\n ('go.mod', 'test', 1),\n ('justfile', 'test', 2),\n ('persistence/mock_Storage.go', 'test', 1),\n ('shell.nix', 'test', 1),\n ('CHANGELOG.md', 'refactor', 1),\n ('shell.nix', 'ci', 1),\n ('.golangci.yml', 'fix', 1),\n ('cmd/wfx/cmd/root/cmd.go', 'fix', 3),\n ('cmd/wfx/cmd/root/northbound.go', 'fix', 2),\n ('cmd/wfx/cmd/root/southbound.go', 'fix', 3),\n ('justfile', 'refactor', 1),\n ('shell.nix', 'fix', 1),\n ('cmd/wfx/cmd/root/cmd.go', 'refactor', 2),\n ('cmd/wfx/cmd/root/northbound.go', 'refactor', 2),\n ('cmd/wfx/cmd/root/southbound.go', 'refactor', 2),\n ('.golangci.yml', 'ci', 1),\n ('.golangci.yml', 'style', 1),\n ('README.md', 'style', 1),\n ('docs/installation.md', 'docs', 1),\n ('.github/dependabot.yml', 'wfx', 1),\n ('.github/workflows/ci.yml', 'wfx', 1),\n ('.github/workflows/pages.yml', 'wfx', 1),\n ('.github/workflows/pr.yml', 'wfx', 1),\n ('.github/workflows/release.yml', 'wfx', 1),\n ('.gitlab-ci.yml', 'wfx', 1),\n ('.golangci.yml', 'wfx', 1),\n ('.goreleaser.yml', 'wfx', 1),\n ('CHANGELOG.md', 'wfx', 1),\n ('README.md', 'wfx', 1),\n ('cmd/wfx-viewer/flags.go', 'wfx', 1),\n ('cmd/wfx-viewer/main.go', 'wfx', 1),\n ('cmd/wfx/cmd/root/cmd.go', 'wfx', 1),\n ('cmd/wfx/cmd/root/northbound.go', 'wfx', 1),\n ('cmd/wfx/cmd/root/southbound.go', 'wfx', 1),\n ('docs/installation.md', 'wfx', 1),\n ('generated/ent/runtime/runtime.go', 'wfx', 1),\n ('go.mod', 'wfx', 1),\n ('hugo/go.mod', 'wfx', 1),\n ('hugo/package-lock.json', 'wfx', 1),\n ('hugo/package.json', 'wfx', 1),\n ('justfile', 'wfx', 1),\n ('shell.nix', 'wfx', 1),\n ('README.md', 'Initial', 1)]"
     },
     "execution_count": 67,
     "metadata": {},
     "output_type": "execute_result"
    }
   ],
   "source": [
    "data_source = [\n",
    "    (filename, reason, value)\n",
    "    for ((filename, reason), value) in counter.items()\n",
    "    if filename in file_set\n",
    "]\n",
    "data_source"
   ]
  },
  {
   "cell_type": "code",
   "execution_count": 68,
   "id": "8b689f85-73fa-470c-b1e2-1a70d7656d3d",
   "metadata": {
    "ExecuteTime": {
     "end_time": "2024-08-12T18:27:08.578975Z",
     "start_time": "2024-08-12T18:27:08.565666Z"
    }
   },
   "outputs": [
    {
     "data": {
      "text/plain": "                                        file   reason  count\n0                   .github/workflows/ci.yml      fix      2\n1                .github/workflows/pages.yml      fix      2\n2                             .gitlab-ci.yml      fix      1\n3    contrib/config-deployment/client/go.mod      fix      2\n4        contrib/remote-access/client/go.mod      fix      2\n..                                       ...      ...    ...\n109                   hugo/package-lock.json      wfx      1\n110                        hugo/package.json      wfx      1\n111                                 justfile      wfx      1\n112                                shell.nix      wfx      1\n113                                README.md  Initial      1\n\n[114 rows x 3 columns]",
      "text/html": "<div>\n<style scoped>\n    .dataframe tbody tr th:only-of-type {\n        vertical-align: middle;\n    }\n\n    .dataframe tbody tr th {\n        vertical-align: top;\n    }\n\n    .dataframe thead th {\n        text-align: right;\n    }\n</style>\n<table border=\"1\" class=\"dataframe\">\n  <thead>\n    <tr style=\"text-align: right;\">\n      <th></th>\n      <th>file</th>\n      <th>reason</th>\n      <th>count</th>\n    </tr>\n  </thead>\n  <tbody>\n    <tr>\n      <th>0</th>\n      <td>.github/workflows/ci.yml</td>\n      <td>fix</td>\n      <td>2</td>\n    </tr>\n    <tr>\n      <th>1</th>\n      <td>.github/workflows/pages.yml</td>\n      <td>fix</td>\n      <td>2</td>\n    </tr>\n    <tr>\n      <th>2</th>\n      <td>.gitlab-ci.yml</td>\n      <td>fix</td>\n      <td>1</td>\n    </tr>\n    <tr>\n      <th>3</th>\n      <td>contrib/config-deployment/client/go.mod</td>\n      <td>fix</td>\n      <td>2</td>\n    </tr>\n    <tr>\n      <th>4</th>\n      <td>contrib/remote-access/client/go.mod</td>\n      <td>fix</td>\n      <td>2</td>\n    </tr>\n    <tr>\n      <th>...</th>\n      <td>...</td>\n      <td>...</td>\n      <td>...</td>\n    </tr>\n    <tr>\n      <th>109</th>\n      <td>hugo/package-lock.json</td>\n      <td>wfx</td>\n      <td>1</td>\n    </tr>\n    <tr>\n      <th>110</th>\n      <td>hugo/package.json</td>\n      <td>wfx</td>\n      <td>1</td>\n    </tr>\n    <tr>\n      <th>111</th>\n      <td>justfile</td>\n      <td>wfx</td>\n      <td>1</td>\n    </tr>\n    <tr>\n      <th>112</th>\n      <td>shell.nix</td>\n      <td>wfx</td>\n      <td>1</td>\n    </tr>\n    <tr>\n      <th>113</th>\n      <td>README.md</td>\n      <td>Initial</td>\n      <td>1</td>\n    </tr>\n  </tbody>\n</table>\n<p>114 rows × 3 columns</p>\n</div>"
     },
     "execution_count": 68,
     "metadata": {},
     "output_type": "execute_result"
    }
   ],
   "source": [
    "df = pd.DataFrame(data_source, columns=[\"file\", \"reason\", \"count\"])\n",
    "df"
   ]
  },
  {
   "cell_type": "code",
   "execution_count": 69,
   "id": "f8a663e1-fb22-458c-9008-53007e7b92d7",
   "metadata": {
    "ExecuteTime": {
     "end_time": "2024-08-12T18:27:08.620288Z",
     "start_time": "2024-08-12T18:27:08.568460Z"
    }
   },
   "outputs": [
    {
     "data": {
      "application/vnd.plotly.v1+json": {
       "data": [
        {
         "alignmentgroup": "True",
         "hovertemplate": "reason=fix<br>file=%{x}<br>count=%{y}<extra></extra>",
         "legendgroup": "fix",
         "marker": {
          "color": "#636efa",
          "pattern": {
           "shape": ""
          }
         },
         "name": "fix",
         "offsetgroup": "fix",
         "orientation": "v",
         "showlegend": true,
         "textposition": "auto",
         "x": [
          ".github/workflows/ci.yml",
          ".github/workflows/pages.yml",
          ".gitlab-ci.yml",
          "contrib/config-deployment/client/go.mod",
          "contrib/remote-access/client/go.mod",
          "go.mod",
          "hugo/package-lock.json",
          "CHANGELOG.md",
          "example/plugin/go.mod",
          ".golangci.yml",
          "cmd/wfx/cmd/root/cmd.go",
          "cmd/wfx/cmd/root/northbound.go",
          "cmd/wfx/cmd/root/southbound.go",
          "shell.nix"
         ],
         "xaxis": "x",
         "y": [
          2,
          2,
          1,
          2,
          2,
          3,
          1,
          6,
          1,
          1,
          3,
          2,
          3,
          1
         ],
         "yaxis": "y",
         "type": "bar"
        },
        {
         "alignmentgroup": "True",
         "hovertemplate": "reason=chore<br>file=%{x}<br>count=%{y}<extra></extra>",
         "legendgroup": "chore",
         "marker": {
          "color": "#EF553B",
          "pattern": {
           "shape": ""
          }
         },
         "name": "chore",
         "offsetgroup": "chore",
         "orientation": "v",
         "showlegend": true,
         "textposition": "auto",
         "x": [
          ".ci/packages/versions.env",
          ".github/workflows/ci.yml",
          ".github/workflows/pages.yml",
          ".github/workflows/pr.yml",
          ".github/workflows/release.yml",
          ".gitlab-ci.yml",
          "generated/ent/runtime/runtime.go",
          "go.mod",
          "hugo/package-lock.json",
          "shell.nix",
          "CHANGELOG.md",
          ".goreleaser.yml",
          "contrib/config-deployment/client/go.mod",
          "contrib/remote-access/client/go.mod",
          "example/plugin/go.mod",
          "justfile",
          "persistence/mock_Storage.go",
          "hugo/go.mod",
          "go.work",
          "hugo/package.json",
          "cmd/wfx-viewer/flags.go",
          "cmd/wfx-viewer/main.go",
          "cmd/wfx/cmd/root/cmd.go",
          ".golangci.yml",
          "docs/installation.md",
          ".github/dependabot.yml"
         ],
         "xaxis": "x",
         "y": [
          10,
          19,
          11,
          4,
          10,
          5,
          4,
          73,
          13,
          2,
          7,
          2,
          6,
          6,
          4,
          1,
          3,
          6,
          2,
          10,
          1,
          1,
          2,
          2,
          2,
          3
         ],
         "yaxis": "y",
         "type": "bar"
        },
        {
         "alignmentgroup": "True",
         "hovertemplate": "reason=ci<br>file=%{x}<br>count=%{y}<extra></extra>",
         "legendgroup": "ci",
         "marker": {
          "color": "#00cc96",
          "pattern": {
           "shape": ""
          }
         },
         "name": "ci",
         "offsetgroup": "ci",
         "orientation": "v",
         "showlegend": true,
         "textposition": "auto",
         "x": [
          ".github/workflows/release.yml",
          ".github/dependabot.yml",
          ".ci/packages/versions.env",
          ".github/workflows/ci.yml",
          ".github/workflows/pages.yml",
          ".gitlab-ci.yml",
          "justfile",
          "persistence/mock_Storage.go",
          ".goreleaser.yml",
          "codecov.yml",
          "shell.nix",
          ".golangci.yml"
         ],
         "xaxis": "x",
         "y": [
          3,
          2,
          2,
          7,
          3,
          2,
          4,
          1,
          7,
          5,
          1,
          1
         ],
         "yaxis": "y",
         "type": "bar"
        },
        {
         "alignmentgroup": "True",
         "hovertemplate": "reason=feat<br>file=%{x}<br>count=%{y}<extra></extra>",
         "legendgroup": "feat",
         "marker": {
          "color": "#ab63fa",
          "pattern": {
           "shape": ""
          }
         },
         "name": "feat",
         "offsetgroup": "feat",
         "orientation": "v",
         "showlegend": true,
         "textposition": "auto",
         "x": [
          ".goreleaser.yml",
          "CHANGELOG.md",
          "cmd/wfx-viewer/flags.go",
          "cmd/wfx-viewer/main.go",
          "docs/installation.md",
          "go.mod",
          ".github/workflows/ci.yml",
          ".gitlab-ci.yml",
          ".golangci.yml",
          "cmd/wfx/cmd/root/cmd.go",
          "cmd/wfx/cmd/root/northbound.go",
          "cmd/wfx/cmd/root/southbound.go",
          "example/plugin/go.mod",
          "go.work",
          "justfile",
          "shell.nix",
          "contrib/config-deployment/client/go.mod",
          "contrib/remote-access/client/go.mod"
         ],
         "xaxis": "x",
         "y": [
          2,
          5,
          1,
          1,
          2,
          5,
          2,
          2,
          2,
          2,
          1,
          1,
          1,
          3,
          2,
          1,
          1,
          1
         ],
         "yaxis": "y",
         "type": "bar"
        },
        {
         "alignmentgroup": "True",
         "hovertemplate": "reason=test<br>file=%{x}<br>count=%{y}<extra></extra>",
         "legendgroup": "test",
         "marker": {
          "color": "#FFA15A",
          "pattern": {
           "shape": ""
          }
         },
         "name": "test",
         "offsetgroup": "test",
         "orientation": "v",
         "showlegend": true,
         "textposition": "auto",
         "x": [
          "cmd/wfx-viewer/flags.go",
          "cmd/wfx-viewer/main.go",
          ".golangci.yml",
          ".github/workflows/ci.yml",
          "codecov.yml",
          "go.mod",
          "justfile",
          "persistence/mock_Storage.go",
          "shell.nix"
         ],
         "xaxis": "x",
         "y": [
          1,
          1,
          1,
          1,
          1,
          1,
          2,
          1,
          1
         ],
         "yaxis": "y",
         "type": "bar"
        },
        {
         "alignmentgroup": "True",
         "hovertemplate": "reason=refactor<br>file=%{x}<br>count=%{y}<extra></extra>",
         "legendgroup": "refactor",
         "marker": {
          "color": "#19d3f3",
          "pattern": {
           "shape": ""
          }
         },
         "name": "refactor",
         "offsetgroup": "refactor",
         "orientation": "v",
         "showlegend": true,
         "textposition": "auto",
         "x": [
          "cmd/wfx-viewer/main.go",
          "cmd/wfx-viewer/flags.go",
          "CHANGELOG.md",
          "justfile",
          "cmd/wfx/cmd/root/cmd.go",
          "cmd/wfx/cmd/root/northbound.go",
          "cmd/wfx/cmd/root/southbound.go"
         ],
         "xaxis": "x",
         "y": [
          2,
          1,
          1,
          1,
          2,
          2,
          2
         ],
         "yaxis": "y",
         "type": "bar"
        },
        {
         "alignmentgroup": "True",
         "hovertemplate": "reason=docs<br>file=%{x}<br>count=%{y}<extra></extra>",
         "legendgroup": "docs",
         "marker": {
          "color": "#FF6692",
          "pattern": {
           "shape": ""
          }
         },
         "name": "docs",
         "offsetgroup": "docs",
         "orientation": "v",
         "showlegend": true,
         "textposition": "auto",
         "x": [
          "README.md",
          "docs/installation.md"
         ],
         "xaxis": "x",
         "y": [
          3,
          1
         ],
         "yaxis": "y",
         "type": "bar"
        },
        {
         "alignmentgroup": "True",
         "hovertemplate": "reason=style<br>file=%{x}<br>count=%{y}<extra></extra>",
         "legendgroup": "style",
         "marker": {
          "color": "#B6E880",
          "pattern": {
           "shape": ""
          }
         },
         "name": "style",
         "offsetgroup": "style",
         "orientation": "v",
         "showlegend": true,
         "textposition": "auto",
         "x": [
          ".golangci.yml",
          "README.md"
         ],
         "xaxis": "x",
         "y": [
          1,
          1
         ],
         "yaxis": "y",
         "type": "bar"
        },
        {
         "alignmentgroup": "True",
         "hovertemplate": "reason=wfx<br>file=%{x}<br>count=%{y}<extra></extra>",
         "legendgroup": "wfx",
         "marker": {
          "color": "#FF97FF",
          "pattern": {
           "shape": ""
          }
         },
         "name": "wfx",
         "offsetgroup": "wfx",
         "orientation": "v",
         "showlegend": true,
         "textposition": "auto",
         "x": [
          ".github/dependabot.yml",
          ".github/workflows/ci.yml",
          ".github/workflows/pages.yml",
          ".github/workflows/pr.yml",
          ".github/workflows/release.yml",
          ".gitlab-ci.yml",
          ".golangci.yml",
          ".goreleaser.yml",
          "CHANGELOG.md",
          "README.md",
          "cmd/wfx-viewer/flags.go",
          "cmd/wfx-viewer/main.go",
          "cmd/wfx/cmd/root/cmd.go",
          "cmd/wfx/cmd/root/northbound.go",
          "cmd/wfx/cmd/root/southbound.go",
          "docs/installation.md",
          "generated/ent/runtime/runtime.go",
          "go.mod",
          "hugo/go.mod",
          "hugo/package-lock.json",
          "hugo/package.json",
          "justfile",
          "shell.nix"
         ],
         "xaxis": "x",
         "y": [
          1,
          1,
          1,
          1,
          1,
          1,
          1,
          1,
          1,
          1,
          1,
          1,
          1,
          1,
          1,
          1,
          1,
          1,
          1,
          1,
          1,
          1,
          1
         ],
         "yaxis": "y",
         "type": "bar"
        },
        {
         "alignmentgroup": "True",
         "hovertemplate": "reason=Initial<br>file=%{x}<br>count=%{y}<extra></extra>",
         "legendgroup": "Initial",
         "marker": {
          "color": "#FECB52",
          "pattern": {
           "shape": ""
          }
         },
         "name": "Initial",
         "offsetgroup": "Initial",
         "orientation": "v",
         "showlegend": true,
         "textposition": "auto",
         "x": [
          "README.md"
         ],
         "xaxis": "x",
         "y": [
          1
         ],
         "yaxis": "y",
         "type": "bar"
        }
       ],
       "layout": {
        "template": {
         "data": {
          "histogram2dcontour": [
           {
            "type": "histogram2dcontour",
            "colorbar": {
             "outlinewidth": 0,
             "ticks": ""
            },
            "colorscale": [
             [
              0.0,
              "#0d0887"
             ],
             [
              0.1111111111111111,
              "#46039f"
             ],
             [
              0.2222222222222222,
              "#7201a8"
             ],
             [
              0.3333333333333333,
              "#9c179e"
             ],
             [
              0.4444444444444444,
              "#bd3786"
             ],
             [
              0.5555555555555556,
              "#d8576b"
             ],
             [
              0.6666666666666666,
              "#ed7953"
             ],
             [
              0.7777777777777778,
              "#fb9f3a"
             ],
             [
              0.8888888888888888,
              "#fdca26"
             ],
             [
              1.0,
              "#f0f921"
             ]
            ]
           }
          ],
          "choropleth": [
           {
            "type": "choropleth",
            "colorbar": {
             "outlinewidth": 0,
             "ticks": ""
            }
           }
          ],
          "histogram2d": [
           {
            "type": "histogram2d",
            "colorbar": {
             "outlinewidth": 0,
             "ticks": ""
            },
            "colorscale": [
             [
              0.0,
              "#0d0887"
             ],
             [
              0.1111111111111111,
              "#46039f"
             ],
             [
              0.2222222222222222,
              "#7201a8"
             ],
             [
              0.3333333333333333,
              "#9c179e"
             ],
             [
              0.4444444444444444,
              "#bd3786"
             ],
             [
              0.5555555555555556,
              "#d8576b"
             ],
             [
              0.6666666666666666,
              "#ed7953"
             ],
             [
              0.7777777777777778,
              "#fb9f3a"
             ],
             [
              0.8888888888888888,
              "#fdca26"
             ],
             [
              1.0,
              "#f0f921"
             ]
            ]
           }
          ],
          "heatmap": [
           {
            "type": "heatmap",
            "colorbar": {
             "outlinewidth": 0,
             "ticks": ""
            },
            "colorscale": [
             [
              0.0,
              "#0d0887"
             ],
             [
              0.1111111111111111,
              "#46039f"
             ],
             [
              0.2222222222222222,
              "#7201a8"
             ],
             [
              0.3333333333333333,
              "#9c179e"
             ],
             [
              0.4444444444444444,
              "#bd3786"
             ],
             [
              0.5555555555555556,
              "#d8576b"
             ],
             [
              0.6666666666666666,
              "#ed7953"
             ],
             [
              0.7777777777777778,
              "#fb9f3a"
             ],
             [
              0.8888888888888888,
              "#fdca26"
             ],
             [
              1.0,
              "#f0f921"
             ]
            ]
           }
          ],
          "heatmapgl": [
           {
            "type": "heatmapgl",
            "colorbar": {
             "outlinewidth": 0,
             "ticks": ""
            },
            "colorscale": [
             [
              0.0,
              "#0d0887"
             ],
             [
              0.1111111111111111,
              "#46039f"
             ],
             [
              0.2222222222222222,
              "#7201a8"
             ],
             [
              0.3333333333333333,
              "#9c179e"
             ],
             [
              0.4444444444444444,
              "#bd3786"
             ],
             [
              0.5555555555555556,
              "#d8576b"
             ],
             [
              0.6666666666666666,
              "#ed7953"
             ],
             [
              0.7777777777777778,
              "#fb9f3a"
             ],
             [
              0.8888888888888888,
              "#fdca26"
             ],
             [
              1.0,
              "#f0f921"
             ]
            ]
           }
          ],
          "contourcarpet": [
           {
            "type": "contourcarpet",
            "colorbar": {
             "outlinewidth": 0,
             "ticks": ""
            }
           }
          ],
          "contour": [
           {
            "type": "contour",
            "colorbar": {
             "outlinewidth": 0,
             "ticks": ""
            },
            "colorscale": [
             [
              0.0,
              "#0d0887"
             ],
             [
              0.1111111111111111,
              "#46039f"
             ],
             [
              0.2222222222222222,
              "#7201a8"
             ],
             [
              0.3333333333333333,
              "#9c179e"
             ],
             [
              0.4444444444444444,
              "#bd3786"
             ],
             [
              0.5555555555555556,
              "#d8576b"
             ],
             [
              0.6666666666666666,
              "#ed7953"
             ],
             [
              0.7777777777777778,
              "#fb9f3a"
             ],
             [
              0.8888888888888888,
              "#fdca26"
             ],
             [
              1.0,
              "#f0f921"
             ]
            ]
           }
          ],
          "surface": [
           {
            "type": "surface",
            "colorbar": {
             "outlinewidth": 0,
             "ticks": ""
            },
            "colorscale": [
             [
              0.0,
              "#0d0887"
             ],
             [
              0.1111111111111111,
              "#46039f"
             ],
             [
              0.2222222222222222,
              "#7201a8"
             ],
             [
              0.3333333333333333,
              "#9c179e"
             ],
             [
              0.4444444444444444,
              "#bd3786"
             ],
             [
              0.5555555555555556,
              "#d8576b"
             ],
             [
              0.6666666666666666,
              "#ed7953"
             ],
             [
              0.7777777777777778,
              "#fb9f3a"
             ],
             [
              0.8888888888888888,
              "#fdca26"
             ],
             [
              1.0,
              "#f0f921"
             ]
            ]
           }
          ],
          "mesh3d": [
           {
            "type": "mesh3d",
            "colorbar": {
             "outlinewidth": 0,
             "ticks": ""
            }
           }
          ],
          "scatter": [
           {
            "fillpattern": {
             "fillmode": "overlay",
             "size": 10,
             "solidity": 0.2
            },
            "type": "scatter"
           }
          ],
          "parcoords": [
           {
            "type": "parcoords",
            "line": {
             "colorbar": {
              "outlinewidth": 0,
              "ticks": ""
             }
            }
           }
          ],
          "scatterpolargl": [
           {
            "type": "scatterpolargl",
            "marker": {
             "colorbar": {
              "outlinewidth": 0,
              "ticks": ""
             }
            }
           }
          ],
          "bar": [
           {
            "error_x": {
             "color": "#2a3f5f"
            },
            "error_y": {
             "color": "#2a3f5f"
            },
            "marker": {
             "line": {
              "color": "#E5ECF6",
              "width": 0.5
             },
             "pattern": {
              "fillmode": "overlay",
              "size": 10,
              "solidity": 0.2
             }
            },
            "type": "bar"
           }
          ],
          "scattergeo": [
           {
            "type": "scattergeo",
            "marker": {
             "colorbar": {
              "outlinewidth": 0,
              "ticks": ""
             }
            }
           }
          ],
          "scatterpolar": [
           {
            "type": "scatterpolar",
            "marker": {
             "colorbar": {
              "outlinewidth": 0,
              "ticks": ""
             }
            }
           }
          ],
          "histogram": [
           {
            "marker": {
             "pattern": {
              "fillmode": "overlay",
              "size": 10,
              "solidity": 0.2
             }
            },
            "type": "histogram"
           }
          ],
          "scattergl": [
           {
            "type": "scattergl",
            "marker": {
             "colorbar": {
              "outlinewidth": 0,
              "ticks": ""
             }
            }
           }
          ],
          "scatter3d": [
           {
            "type": "scatter3d",
            "line": {
             "colorbar": {
              "outlinewidth": 0,
              "ticks": ""
             }
            },
            "marker": {
             "colorbar": {
              "outlinewidth": 0,
              "ticks": ""
             }
            }
           }
          ],
          "scattermapbox": [
           {
            "type": "scattermapbox",
            "marker": {
             "colorbar": {
              "outlinewidth": 0,
              "ticks": ""
             }
            }
           }
          ],
          "scatterternary": [
           {
            "type": "scatterternary",
            "marker": {
             "colorbar": {
              "outlinewidth": 0,
              "ticks": ""
             }
            }
           }
          ],
          "scattercarpet": [
           {
            "type": "scattercarpet",
            "marker": {
             "colorbar": {
              "outlinewidth": 0,
              "ticks": ""
             }
            }
           }
          ],
          "carpet": [
           {
            "aaxis": {
             "endlinecolor": "#2a3f5f",
             "gridcolor": "white",
             "linecolor": "white",
             "minorgridcolor": "white",
             "startlinecolor": "#2a3f5f"
            },
            "baxis": {
             "endlinecolor": "#2a3f5f",
             "gridcolor": "white",
             "linecolor": "white",
             "minorgridcolor": "white",
             "startlinecolor": "#2a3f5f"
            },
            "type": "carpet"
           }
          ],
          "table": [
           {
            "cells": {
             "fill": {
              "color": "#EBF0F8"
             },
             "line": {
              "color": "white"
             }
            },
            "header": {
             "fill": {
              "color": "#C8D4E3"
             },
             "line": {
              "color": "white"
             }
            },
            "type": "table"
           }
          ],
          "barpolar": [
           {
            "marker": {
             "line": {
              "color": "#E5ECF6",
              "width": 0.5
             },
             "pattern": {
              "fillmode": "overlay",
              "size": 10,
              "solidity": 0.2
             }
            },
            "type": "barpolar"
           }
          ],
          "pie": [
           {
            "automargin": true,
            "type": "pie"
           }
          ]
         },
         "layout": {
          "autotypenumbers": "strict",
          "colorway": [
           "#636efa",
           "#EF553B",
           "#00cc96",
           "#ab63fa",
           "#FFA15A",
           "#19d3f3",
           "#FF6692",
           "#B6E880",
           "#FF97FF",
           "#FECB52"
          ],
          "font": {
           "color": "#2a3f5f"
          },
          "hovermode": "closest",
          "hoverlabel": {
           "align": "left"
          },
          "paper_bgcolor": "white",
          "plot_bgcolor": "#E5ECF6",
          "polar": {
           "bgcolor": "#E5ECF6",
           "angularaxis": {
            "gridcolor": "white",
            "linecolor": "white",
            "ticks": ""
           },
           "radialaxis": {
            "gridcolor": "white",
            "linecolor": "white",
            "ticks": ""
           }
          },
          "ternary": {
           "bgcolor": "#E5ECF6",
           "aaxis": {
            "gridcolor": "white",
            "linecolor": "white",
            "ticks": ""
           },
           "baxis": {
            "gridcolor": "white",
            "linecolor": "white",
            "ticks": ""
           },
           "caxis": {
            "gridcolor": "white",
            "linecolor": "white",
            "ticks": ""
           }
          },
          "coloraxis": {
           "colorbar": {
            "outlinewidth": 0,
            "ticks": ""
           }
          },
          "colorscale": {
           "sequential": [
            [
             0.0,
             "#0d0887"
            ],
            [
             0.1111111111111111,
             "#46039f"
            ],
            [
             0.2222222222222222,
             "#7201a8"
            ],
            [
             0.3333333333333333,
             "#9c179e"
            ],
            [
             0.4444444444444444,
             "#bd3786"
            ],
            [
             0.5555555555555556,
             "#d8576b"
            ],
            [
             0.6666666666666666,
             "#ed7953"
            ],
            [
             0.7777777777777778,
             "#fb9f3a"
            ],
            [
             0.8888888888888888,
             "#fdca26"
            ],
            [
             1.0,
             "#f0f921"
            ]
           ],
           "sequentialminus": [
            [
             0.0,
             "#0d0887"
            ],
            [
             0.1111111111111111,
             "#46039f"
            ],
            [
             0.2222222222222222,
             "#7201a8"
            ],
            [
             0.3333333333333333,
             "#9c179e"
            ],
            [
             0.4444444444444444,
             "#bd3786"
            ],
            [
             0.5555555555555556,
             "#d8576b"
            ],
            [
             0.6666666666666666,
             "#ed7953"
            ],
            [
             0.7777777777777778,
             "#fb9f3a"
            ],
            [
             0.8888888888888888,
             "#fdca26"
            ],
            [
             1.0,
             "#f0f921"
            ]
           ],
           "diverging": [
            [
             0,
             "#8e0152"
            ],
            [
             0.1,
             "#c51b7d"
            ],
            [
             0.2,
             "#de77ae"
            ],
            [
             0.3,
             "#f1b6da"
            ],
            [
             0.4,
             "#fde0ef"
            ],
            [
             0.5,
             "#f7f7f7"
            ],
            [
             0.6,
             "#e6f5d0"
            ],
            [
             0.7,
             "#b8e186"
            ],
            [
             0.8,
             "#7fbc41"
            ],
            [
             0.9,
             "#4d9221"
            ],
            [
             1,
             "#276419"
            ]
           ]
          },
          "xaxis": {
           "gridcolor": "white",
           "linecolor": "white",
           "ticks": "",
           "title": {
            "standoff": 15
           },
           "zerolinecolor": "white",
           "automargin": true,
           "zerolinewidth": 2
          },
          "yaxis": {
           "gridcolor": "white",
           "linecolor": "white",
           "ticks": "",
           "title": {
            "standoff": 15
           },
           "zerolinecolor": "white",
           "automargin": true,
           "zerolinewidth": 2
          },
          "scene": {
           "xaxis": {
            "backgroundcolor": "#E5ECF6",
            "gridcolor": "white",
            "linecolor": "white",
            "showbackground": true,
            "ticks": "",
            "zerolinecolor": "white",
            "gridwidth": 2
           },
           "yaxis": {
            "backgroundcolor": "#E5ECF6",
            "gridcolor": "white",
            "linecolor": "white",
            "showbackground": true,
            "ticks": "",
            "zerolinecolor": "white",
            "gridwidth": 2
           },
           "zaxis": {
            "backgroundcolor": "#E5ECF6",
            "gridcolor": "white",
            "linecolor": "white",
            "showbackground": true,
            "ticks": "",
            "zerolinecolor": "white",
            "gridwidth": 2
           }
          },
          "shapedefaults": {
           "line": {
            "color": "#2a3f5f"
           }
          },
          "annotationdefaults": {
           "arrowcolor": "#2a3f5f",
           "arrowhead": 0,
           "arrowwidth": 1
          },
          "geo": {
           "bgcolor": "white",
           "landcolor": "#E5ECF6",
           "subunitcolor": "white",
           "showland": true,
           "showlakes": true,
           "lakecolor": "white"
          },
          "title": {
           "x": 0.05
          },
          "mapbox": {
           "style": "light"
          }
         }
        },
        "xaxis": {
         "anchor": "y",
         "domain": [
          0.0,
          1.0
         ],
         "title": {
          "text": "file"
         }
        },
        "yaxis": {
         "anchor": "x",
         "domain": [
          0.0,
          1.0
         ],
         "title": {
          "text": "count"
         }
        },
        "legend": {
         "title": {
          "text": "reason"
         },
         "tracegroupgap": 0
        },
        "margin": {
         "t": 60
        },
        "barmode": "relative",
        "height": 700
       },
       "config": {
        "plotlyServerURL": "https://plot.ly"
       }
      },
      "text/html": "<div>                            <div id=\"783764ed-5b0a-4d14-acde-2cebc744ccef\" class=\"plotly-graph-div\" style=\"height:700px; width:100%;\"></div>            <script type=\"text/javascript\">                require([\"plotly\"], function(Plotly) {                    window.PLOTLYENV=window.PLOTLYENV || {};                                    if (document.getElementById(\"783764ed-5b0a-4d14-acde-2cebc744ccef\")) {                    Plotly.newPlot(                        \"783764ed-5b0a-4d14-acde-2cebc744ccef\",                        [{\"alignmentgroup\":\"True\",\"hovertemplate\":\"reason=fix\\u003cbr\\u003efile=%{x}\\u003cbr\\u003ecount=%{y}\\u003cextra\\u003e\\u003c\\u002fextra\\u003e\",\"legendgroup\":\"fix\",\"marker\":{\"color\":\"#636efa\",\"pattern\":{\"shape\":\"\"}},\"name\":\"fix\",\"offsetgroup\":\"fix\",\"orientation\":\"v\",\"showlegend\":true,\"textposition\":\"auto\",\"x\":[\".github\\u002fworkflows\\u002fci.yml\",\".github\\u002fworkflows\\u002fpages.yml\",\".gitlab-ci.yml\",\"contrib\\u002fconfig-deployment\\u002fclient\\u002fgo.mod\",\"contrib\\u002fremote-access\\u002fclient\\u002fgo.mod\",\"go.mod\",\"hugo\\u002fpackage-lock.json\",\"CHANGELOG.md\",\"example\\u002fplugin\\u002fgo.mod\",\".golangci.yml\",\"cmd\\u002fwfx\\u002fcmd\\u002froot\\u002fcmd.go\",\"cmd\\u002fwfx\\u002fcmd\\u002froot\\u002fnorthbound.go\",\"cmd\\u002fwfx\\u002fcmd\\u002froot\\u002fsouthbound.go\",\"shell.nix\"],\"xaxis\":\"x\",\"y\":[2,2,1,2,2,3,1,6,1,1,3,2,3,1],\"yaxis\":\"y\",\"type\":\"bar\"},{\"alignmentgroup\":\"True\",\"hovertemplate\":\"reason=chore\\u003cbr\\u003efile=%{x}\\u003cbr\\u003ecount=%{y}\\u003cextra\\u003e\\u003c\\u002fextra\\u003e\",\"legendgroup\":\"chore\",\"marker\":{\"color\":\"#EF553B\",\"pattern\":{\"shape\":\"\"}},\"name\":\"chore\",\"offsetgroup\":\"chore\",\"orientation\":\"v\",\"showlegend\":true,\"textposition\":\"auto\",\"x\":[\".ci\\u002fpackages\\u002fversions.env\",\".github\\u002fworkflows\\u002fci.yml\",\".github\\u002fworkflows\\u002fpages.yml\",\".github\\u002fworkflows\\u002fpr.yml\",\".github\\u002fworkflows\\u002frelease.yml\",\".gitlab-ci.yml\",\"generated\\u002fent\\u002fruntime\\u002fruntime.go\",\"go.mod\",\"hugo\\u002fpackage-lock.json\",\"shell.nix\",\"CHANGELOG.md\",\".goreleaser.yml\",\"contrib\\u002fconfig-deployment\\u002fclient\\u002fgo.mod\",\"contrib\\u002fremote-access\\u002fclient\\u002fgo.mod\",\"example\\u002fplugin\\u002fgo.mod\",\"justfile\",\"persistence\\u002fmock_Storage.go\",\"hugo\\u002fgo.mod\",\"go.work\",\"hugo\\u002fpackage.json\",\"cmd\\u002fwfx-viewer\\u002fflags.go\",\"cmd\\u002fwfx-viewer\\u002fmain.go\",\"cmd\\u002fwfx\\u002fcmd\\u002froot\\u002fcmd.go\",\".golangci.yml\",\"docs\\u002finstallation.md\",\".github\\u002fdependabot.yml\"],\"xaxis\":\"x\",\"y\":[10,19,11,4,10,5,4,73,13,2,7,2,6,6,4,1,3,6,2,10,1,1,2,2,2,3],\"yaxis\":\"y\",\"type\":\"bar\"},{\"alignmentgroup\":\"True\",\"hovertemplate\":\"reason=ci\\u003cbr\\u003efile=%{x}\\u003cbr\\u003ecount=%{y}\\u003cextra\\u003e\\u003c\\u002fextra\\u003e\",\"legendgroup\":\"ci\",\"marker\":{\"color\":\"#00cc96\",\"pattern\":{\"shape\":\"\"}},\"name\":\"ci\",\"offsetgroup\":\"ci\",\"orientation\":\"v\",\"showlegend\":true,\"textposition\":\"auto\",\"x\":[\".github\\u002fworkflows\\u002frelease.yml\",\".github\\u002fdependabot.yml\",\".ci\\u002fpackages\\u002fversions.env\",\".github\\u002fworkflows\\u002fci.yml\",\".github\\u002fworkflows\\u002fpages.yml\",\".gitlab-ci.yml\",\"justfile\",\"persistence\\u002fmock_Storage.go\",\".goreleaser.yml\",\"codecov.yml\",\"shell.nix\",\".golangci.yml\"],\"xaxis\":\"x\",\"y\":[3,2,2,7,3,2,4,1,7,5,1,1],\"yaxis\":\"y\",\"type\":\"bar\"},{\"alignmentgroup\":\"True\",\"hovertemplate\":\"reason=feat\\u003cbr\\u003efile=%{x}\\u003cbr\\u003ecount=%{y}\\u003cextra\\u003e\\u003c\\u002fextra\\u003e\",\"legendgroup\":\"feat\",\"marker\":{\"color\":\"#ab63fa\",\"pattern\":{\"shape\":\"\"}},\"name\":\"feat\",\"offsetgroup\":\"feat\",\"orientation\":\"v\",\"showlegend\":true,\"textposition\":\"auto\",\"x\":[\".goreleaser.yml\",\"CHANGELOG.md\",\"cmd\\u002fwfx-viewer\\u002fflags.go\",\"cmd\\u002fwfx-viewer\\u002fmain.go\",\"docs\\u002finstallation.md\",\"go.mod\",\".github\\u002fworkflows\\u002fci.yml\",\".gitlab-ci.yml\",\".golangci.yml\",\"cmd\\u002fwfx\\u002fcmd\\u002froot\\u002fcmd.go\",\"cmd\\u002fwfx\\u002fcmd\\u002froot\\u002fnorthbound.go\",\"cmd\\u002fwfx\\u002fcmd\\u002froot\\u002fsouthbound.go\",\"example\\u002fplugin\\u002fgo.mod\",\"go.work\",\"justfile\",\"shell.nix\",\"contrib\\u002fconfig-deployment\\u002fclient\\u002fgo.mod\",\"contrib\\u002fremote-access\\u002fclient\\u002fgo.mod\"],\"xaxis\":\"x\",\"y\":[2,5,1,1,2,5,2,2,2,2,1,1,1,3,2,1,1,1],\"yaxis\":\"y\",\"type\":\"bar\"},{\"alignmentgroup\":\"True\",\"hovertemplate\":\"reason=test\\u003cbr\\u003efile=%{x}\\u003cbr\\u003ecount=%{y}\\u003cextra\\u003e\\u003c\\u002fextra\\u003e\",\"legendgroup\":\"test\",\"marker\":{\"color\":\"#FFA15A\",\"pattern\":{\"shape\":\"\"}},\"name\":\"test\",\"offsetgroup\":\"test\",\"orientation\":\"v\",\"showlegend\":true,\"textposition\":\"auto\",\"x\":[\"cmd\\u002fwfx-viewer\\u002fflags.go\",\"cmd\\u002fwfx-viewer\\u002fmain.go\",\".golangci.yml\",\".github\\u002fworkflows\\u002fci.yml\",\"codecov.yml\",\"go.mod\",\"justfile\",\"persistence\\u002fmock_Storage.go\",\"shell.nix\"],\"xaxis\":\"x\",\"y\":[1,1,1,1,1,1,2,1,1],\"yaxis\":\"y\",\"type\":\"bar\"},{\"alignmentgroup\":\"True\",\"hovertemplate\":\"reason=refactor\\u003cbr\\u003efile=%{x}\\u003cbr\\u003ecount=%{y}\\u003cextra\\u003e\\u003c\\u002fextra\\u003e\",\"legendgroup\":\"refactor\",\"marker\":{\"color\":\"#19d3f3\",\"pattern\":{\"shape\":\"\"}},\"name\":\"refactor\",\"offsetgroup\":\"refactor\",\"orientation\":\"v\",\"showlegend\":true,\"textposition\":\"auto\",\"x\":[\"cmd\\u002fwfx-viewer\\u002fmain.go\",\"cmd\\u002fwfx-viewer\\u002fflags.go\",\"CHANGELOG.md\",\"justfile\",\"cmd\\u002fwfx\\u002fcmd\\u002froot\\u002fcmd.go\",\"cmd\\u002fwfx\\u002fcmd\\u002froot\\u002fnorthbound.go\",\"cmd\\u002fwfx\\u002fcmd\\u002froot\\u002fsouthbound.go\"],\"xaxis\":\"x\",\"y\":[2,1,1,1,2,2,2],\"yaxis\":\"y\",\"type\":\"bar\"},{\"alignmentgroup\":\"True\",\"hovertemplate\":\"reason=docs\\u003cbr\\u003efile=%{x}\\u003cbr\\u003ecount=%{y}\\u003cextra\\u003e\\u003c\\u002fextra\\u003e\",\"legendgroup\":\"docs\",\"marker\":{\"color\":\"#FF6692\",\"pattern\":{\"shape\":\"\"}},\"name\":\"docs\",\"offsetgroup\":\"docs\",\"orientation\":\"v\",\"showlegend\":true,\"textposition\":\"auto\",\"x\":[\"README.md\",\"docs\\u002finstallation.md\"],\"xaxis\":\"x\",\"y\":[3,1],\"yaxis\":\"y\",\"type\":\"bar\"},{\"alignmentgroup\":\"True\",\"hovertemplate\":\"reason=style\\u003cbr\\u003efile=%{x}\\u003cbr\\u003ecount=%{y}\\u003cextra\\u003e\\u003c\\u002fextra\\u003e\",\"legendgroup\":\"style\",\"marker\":{\"color\":\"#B6E880\",\"pattern\":{\"shape\":\"\"}},\"name\":\"style\",\"offsetgroup\":\"style\",\"orientation\":\"v\",\"showlegend\":true,\"textposition\":\"auto\",\"x\":[\".golangci.yml\",\"README.md\"],\"xaxis\":\"x\",\"y\":[1,1],\"yaxis\":\"y\",\"type\":\"bar\"},{\"alignmentgroup\":\"True\",\"hovertemplate\":\"reason=wfx\\u003cbr\\u003efile=%{x}\\u003cbr\\u003ecount=%{y}\\u003cextra\\u003e\\u003c\\u002fextra\\u003e\",\"legendgroup\":\"wfx\",\"marker\":{\"color\":\"#FF97FF\",\"pattern\":{\"shape\":\"\"}},\"name\":\"wfx\",\"offsetgroup\":\"wfx\",\"orientation\":\"v\",\"showlegend\":true,\"textposition\":\"auto\",\"x\":[\".github\\u002fdependabot.yml\",\".github\\u002fworkflows\\u002fci.yml\",\".github\\u002fworkflows\\u002fpages.yml\",\".github\\u002fworkflows\\u002fpr.yml\",\".github\\u002fworkflows\\u002frelease.yml\",\".gitlab-ci.yml\",\".golangci.yml\",\".goreleaser.yml\",\"CHANGELOG.md\",\"README.md\",\"cmd\\u002fwfx-viewer\\u002fflags.go\",\"cmd\\u002fwfx-viewer\\u002fmain.go\",\"cmd\\u002fwfx\\u002fcmd\\u002froot\\u002fcmd.go\",\"cmd\\u002fwfx\\u002fcmd\\u002froot\\u002fnorthbound.go\",\"cmd\\u002fwfx\\u002fcmd\\u002froot\\u002fsouthbound.go\",\"docs\\u002finstallation.md\",\"generated\\u002fent\\u002fruntime\\u002fruntime.go\",\"go.mod\",\"hugo\\u002fgo.mod\",\"hugo\\u002fpackage-lock.json\",\"hugo\\u002fpackage.json\",\"justfile\",\"shell.nix\"],\"xaxis\":\"x\",\"y\":[1,1,1,1,1,1,1,1,1,1,1,1,1,1,1,1,1,1,1,1,1,1,1],\"yaxis\":\"y\",\"type\":\"bar\"},{\"alignmentgroup\":\"True\",\"hovertemplate\":\"reason=Initial\\u003cbr\\u003efile=%{x}\\u003cbr\\u003ecount=%{y}\\u003cextra\\u003e\\u003c\\u002fextra\\u003e\",\"legendgroup\":\"Initial\",\"marker\":{\"color\":\"#FECB52\",\"pattern\":{\"shape\":\"\"}},\"name\":\"Initial\",\"offsetgroup\":\"Initial\",\"orientation\":\"v\",\"showlegend\":true,\"textposition\":\"auto\",\"x\":[\"README.md\"],\"xaxis\":\"x\",\"y\":[1],\"yaxis\":\"y\",\"type\":\"bar\"}],                        {\"template\":{\"data\":{\"histogram2dcontour\":[{\"type\":\"histogram2dcontour\",\"colorbar\":{\"outlinewidth\":0,\"ticks\":\"\"},\"colorscale\":[[0.0,\"#0d0887\"],[0.1111111111111111,\"#46039f\"],[0.2222222222222222,\"#7201a8\"],[0.3333333333333333,\"#9c179e\"],[0.4444444444444444,\"#bd3786\"],[0.5555555555555556,\"#d8576b\"],[0.6666666666666666,\"#ed7953\"],[0.7777777777777778,\"#fb9f3a\"],[0.8888888888888888,\"#fdca26\"],[1.0,\"#f0f921\"]]}],\"choropleth\":[{\"type\":\"choropleth\",\"colorbar\":{\"outlinewidth\":0,\"ticks\":\"\"}}],\"histogram2d\":[{\"type\":\"histogram2d\",\"colorbar\":{\"outlinewidth\":0,\"ticks\":\"\"},\"colorscale\":[[0.0,\"#0d0887\"],[0.1111111111111111,\"#46039f\"],[0.2222222222222222,\"#7201a8\"],[0.3333333333333333,\"#9c179e\"],[0.4444444444444444,\"#bd3786\"],[0.5555555555555556,\"#d8576b\"],[0.6666666666666666,\"#ed7953\"],[0.7777777777777778,\"#fb9f3a\"],[0.8888888888888888,\"#fdca26\"],[1.0,\"#f0f921\"]]}],\"heatmap\":[{\"type\":\"heatmap\",\"colorbar\":{\"outlinewidth\":0,\"ticks\":\"\"},\"colorscale\":[[0.0,\"#0d0887\"],[0.1111111111111111,\"#46039f\"],[0.2222222222222222,\"#7201a8\"],[0.3333333333333333,\"#9c179e\"],[0.4444444444444444,\"#bd3786\"],[0.5555555555555556,\"#d8576b\"],[0.6666666666666666,\"#ed7953\"],[0.7777777777777778,\"#fb9f3a\"],[0.8888888888888888,\"#fdca26\"],[1.0,\"#f0f921\"]]}],\"heatmapgl\":[{\"type\":\"heatmapgl\",\"colorbar\":{\"outlinewidth\":0,\"ticks\":\"\"},\"colorscale\":[[0.0,\"#0d0887\"],[0.1111111111111111,\"#46039f\"],[0.2222222222222222,\"#7201a8\"],[0.3333333333333333,\"#9c179e\"],[0.4444444444444444,\"#bd3786\"],[0.5555555555555556,\"#d8576b\"],[0.6666666666666666,\"#ed7953\"],[0.7777777777777778,\"#fb9f3a\"],[0.8888888888888888,\"#fdca26\"],[1.0,\"#f0f921\"]]}],\"contourcarpet\":[{\"type\":\"contourcarpet\",\"colorbar\":{\"outlinewidth\":0,\"ticks\":\"\"}}],\"contour\":[{\"type\":\"contour\",\"colorbar\":{\"outlinewidth\":0,\"ticks\":\"\"},\"colorscale\":[[0.0,\"#0d0887\"],[0.1111111111111111,\"#46039f\"],[0.2222222222222222,\"#7201a8\"],[0.3333333333333333,\"#9c179e\"],[0.4444444444444444,\"#bd3786\"],[0.5555555555555556,\"#d8576b\"],[0.6666666666666666,\"#ed7953\"],[0.7777777777777778,\"#fb9f3a\"],[0.8888888888888888,\"#fdca26\"],[1.0,\"#f0f921\"]]}],\"surface\":[{\"type\":\"surface\",\"colorbar\":{\"outlinewidth\":0,\"ticks\":\"\"},\"colorscale\":[[0.0,\"#0d0887\"],[0.1111111111111111,\"#46039f\"],[0.2222222222222222,\"#7201a8\"],[0.3333333333333333,\"#9c179e\"],[0.4444444444444444,\"#bd3786\"],[0.5555555555555556,\"#d8576b\"],[0.6666666666666666,\"#ed7953\"],[0.7777777777777778,\"#fb9f3a\"],[0.8888888888888888,\"#fdca26\"],[1.0,\"#f0f921\"]]}],\"mesh3d\":[{\"type\":\"mesh3d\",\"colorbar\":{\"outlinewidth\":0,\"ticks\":\"\"}}],\"scatter\":[{\"fillpattern\":{\"fillmode\":\"overlay\",\"size\":10,\"solidity\":0.2},\"type\":\"scatter\"}],\"parcoords\":[{\"type\":\"parcoords\",\"line\":{\"colorbar\":{\"outlinewidth\":0,\"ticks\":\"\"}}}],\"scatterpolargl\":[{\"type\":\"scatterpolargl\",\"marker\":{\"colorbar\":{\"outlinewidth\":0,\"ticks\":\"\"}}}],\"bar\":[{\"error_x\":{\"color\":\"#2a3f5f\"},\"error_y\":{\"color\":\"#2a3f5f\"},\"marker\":{\"line\":{\"color\":\"#E5ECF6\",\"width\":0.5},\"pattern\":{\"fillmode\":\"overlay\",\"size\":10,\"solidity\":0.2}},\"type\":\"bar\"}],\"scattergeo\":[{\"type\":\"scattergeo\",\"marker\":{\"colorbar\":{\"outlinewidth\":0,\"ticks\":\"\"}}}],\"scatterpolar\":[{\"type\":\"scatterpolar\",\"marker\":{\"colorbar\":{\"outlinewidth\":0,\"ticks\":\"\"}}}],\"histogram\":[{\"marker\":{\"pattern\":{\"fillmode\":\"overlay\",\"size\":10,\"solidity\":0.2}},\"type\":\"histogram\"}],\"scattergl\":[{\"type\":\"scattergl\",\"marker\":{\"colorbar\":{\"outlinewidth\":0,\"ticks\":\"\"}}}],\"scatter3d\":[{\"type\":\"scatter3d\",\"line\":{\"colorbar\":{\"outlinewidth\":0,\"ticks\":\"\"}},\"marker\":{\"colorbar\":{\"outlinewidth\":0,\"ticks\":\"\"}}}],\"scattermapbox\":[{\"type\":\"scattermapbox\",\"marker\":{\"colorbar\":{\"outlinewidth\":0,\"ticks\":\"\"}}}],\"scatterternary\":[{\"type\":\"scatterternary\",\"marker\":{\"colorbar\":{\"outlinewidth\":0,\"ticks\":\"\"}}}],\"scattercarpet\":[{\"type\":\"scattercarpet\",\"marker\":{\"colorbar\":{\"outlinewidth\":0,\"ticks\":\"\"}}}],\"carpet\":[{\"aaxis\":{\"endlinecolor\":\"#2a3f5f\",\"gridcolor\":\"white\",\"linecolor\":\"white\",\"minorgridcolor\":\"white\",\"startlinecolor\":\"#2a3f5f\"},\"baxis\":{\"endlinecolor\":\"#2a3f5f\",\"gridcolor\":\"white\",\"linecolor\":\"white\",\"minorgridcolor\":\"white\",\"startlinecolor\":\"#2a3f5f\"},\"type\":\"carpet\"}],\"table\":[{\"cells\":{\"fill\":{\"color\":\"#EBF0F8\"},\"line\":{\"color\":\"white\"}},\"header\":{\"fill\":{\"color\":\"#C8D4E3\"},\"line\":{\"color\":\"white\"}},\"type\":\"table\"}],\"barpolar\":[{\"marker\":{\"line\":{\"color\":\"#E5ECF6\",\"width\":0.5},\"pattern\":{\"fillmode\":\"overlay\",\"size\":10,\"solidity\":0.2}},\"type\":\"barpolar\"}],\"pie\":[{\"automargin\":true,\"type\":\"pie\"}]},\"layout\":{\"autotypenumbers\":\"strict\",\"colorway\":[\"#636efa\",\"#EF553B\",\"#00cc96\",\"#ab63fa\",\"#FFA15A\",\"#19d3f3\",\"#FF6692\",\"#B6E880\",\"#FF97FF\",\"#FECB52\"],\"font\":{\"color\":\"#2a3f5f\"},\"hovermode\":\"closest\",\"hoverlabel\":{\"align\":\"left\"},\"paper_bgcolor\":\"white\",\"plot_bgcolor\":\"#E5ECF6\",\"polar\":{\"bgcolor\":\"#E5ECF6\",\"angularaxis\":{\"gridcolor\":\"white\",\"linecolor\":\"white\",\"ticks\":\"\"},\"radialaxis\":{\"gridcolor\":\"white\",\"linecolor\":\"white\",\"ticks\":\"\"}},\"ternary\":{\"bgcolor\":\"#E5ECF6\",\"aaxis\":{\"gridcolor\":\"white\",\"linecolor\":\"white\",\"ticks\":\"\"},\"baxis\":{\"gridcolor\":\"white\",\"linecolor\":\"white\",\"ticks\":\"\"},\"caxis\":{\"gridcolor\":\"white\",\"linecolor\":\"white\",\"ticks\":\"\"}},\"coloraxis\":{\"colorbar\":{\"outlinewidth\":0,\"ticks\":\"\"}},\"colorscale\":{\"sequential\":[[0.0,\"#0d0887\"],[0.1111111111111111,\"#46039f\"],[0.2222222222222222,\"#7201a8\"],[0.3333333333333333,\"#9c179e\"],[0.4444444444444444,\"#bd3786\"],[0.5555555555555556,\"#d8576b\"],[0.6666666666666666,\"#ed7953\"],[0.7777777777777778,\"#fb9f3a\"],[0.8888888888888888,\"#fdca26\"],[1.0,\"#f0f921\"]],\"sequentialminus\":[[0.0,\"#0d0887\"],[0.1111111111111111,\"#46039f\"],[0.2222222222222222,\"#7201a8\"],[0.3333333333333333,\"#9c179e\"],[0.4444444444444444,\"#bd3786\"],[0.5555555555555556,\"#d8576b\"],[0.6666666666666666,\"#ed7953\"],[0.7777777777777778,\"#fb9f3a\"],[0.8888888888888888,\"#fdca26\"],[1.0,\"#f0f921\"]],\"diverging\":[[0,\"#8e0152\"],[0.1,\"#c51b7d\"],[0.2,\"#de77ae\"],[0.3,\"#f1b6da\"],[0.4,\"#fde0ef\"],[0.5,\"#f7f7f7\"],[0.6,\"#e6f5d0\"],[0.7,\"#b8e186\"],[0.8,\"#7fbc41\"],[0.9,\"#4d9221\"],[1,\"#276419\"]]},\"xaxis\":{\"gridcolor\":\"white\",\"linecolor\":\"white\",\"ticks\":\"\",\"title\":{\"standoff\":15},\"zerolinecolor\":\"white\",\"automargin\":true,\"zerolinewidth\":2},\"yaxis\":{\"gridcolor\":\"white\",\"linecolor\":\"white\",\"ticks\":\"\",\"title\":{\"standoff\":15},\"zerolinecolor\":\"white\",\"automargin\":true,\"zerolinewidth\":2},\"scene\":{\"xaxis\":{\"backgroundcolor\":\"#E5ECF6\",\"gridcolor\":\"white\",\"linecolor\":\"white\",\"showbackground\":true,\"ticks\":\"\",\"zerolinecolor\":\"white\",\"gridwidth\":2},\"yaxis\":{\"backgroundcolor\":\"#E5ECF6\",\"gridcolor\":\"white\",\"linecolor\":\"white\",\"showbackground\":true,\"ticks\":\"\",\"zerolinecolor\":\"white\",\"gridwidth\":2},\"zaxis\":{\"backgroundcolor\":\"#E5ECF6\",\"gridcolor\":\"white\",\"linecolor\":\"white\",\"showbackground\":true,\"ticks\":\"\",\"zerolinecolor\":\"white\",\"gridwidth\":2}},\"shapedefaults\":{\"line\":{\"color\":\"#2a3f5f\"}},\"annotationdefaults\":{\"arrowcolor\":\"#2a3f5f\",\"arrowhead\":0,\"arrowwidth\":1},\"geo\":{\"bgcolor\":\"white\",\"landcolor\":\"#E5ECF6\",\"subunitcolor\":\"white\",\"showland\":true,\"showlakes\":true,\"lakecolor\":\"white\"},\"title\":{\"x\":0.05},\"mapbox\":{\"style\":\"light\"}}},\"xaxis\":{\"anchor\":\"y\",\"domain\":[0.0,1.0],\"title\":{\"text\":\"file\"}},\"yaxis\":{\"anchor\":\"x\",\"domain\":[0.0,1.0],\"title\":{\"text\":\"count\"}},\"legend\":{\"title\":{\"text\":\"reason\"},\"tracegroupgap\":0},\"margin\":{\"t\":60},\"barmode\":\"relative\",\"height\":700},                        {\"responsive\": true}                    ).then(function(){\n                            \nvar gd = document.getElementById('783764ed-5b0a-4d14-acde-2cebc744ccef');\nvar x = new MutationObserver(function (mutations, observer) {{\n        var display = window.getComputedStyle(gd).display;\n        if (!display || display === 'none') {{\n            console.log([gd, 'removed!']);\n            Plotly.purge(gd);\n            observer.disconnect();\n        }}\n}});\n\n// Listen for the removal of the full notebook cells\nvar notebookContainer = gd.closest('#notebook-container');\nif (notebookContainer) {{\n    x.observe(notebookContainer, {childList: true});\n}}\n\n// Listen for the clearing of the current output cell\nvar outputEl = gd.closest('.output');\nif (outputEl) {{\n    x.observe(outputEl, {childList: true});\n}}\n\n                        })                };                });            </script>        </div>"
     },
     "metadata": {},
     "output_type": "display_data"
    }
   ],
   "source": [
    "figure = px.bar(df, x=\"file\", y=\"count\", color=\"reason\", height=700)\n",
    "figure.show()"
   ]
  },
  {
   "cell_type": "code",
   "outputs": [
    {
     "data": {
      "application/vnd.plotly.v1+json": {
       "data": [
        {
         "alignmentgroup": "True",
         "hovertemplate": "<b>%{hovertext}</b><br><br>reason=%{x}<br>count=%{y}<extra></extra>",
         "hovertext": [
          ".github/workflows/ci.yml",
          ".github/workflows/pages.yml",
          ".gitlab-ci.yml",
          "contrib/config-deployment/client/go.mod",
          "contrib/remote-access/client/go.mod",
          "go.mod",
          "hugo/package-lock.json",
          "CHANGELOG.md",
          "example/plugin/go.mod",
          ".golangci.yml",
          "cmd/wfx/cmd/root/cmd.go",
          "cmd/wfx/cmd/root/northbound.go",
          "cmd/wfx/cmd/root/southbound.go",
          "shell.nix"
         ],
         "legendgroup": "fix",
         "marker": {
          "color": "#636efa",
          "pattern": {
           "shape": ""
          }
         },
         "name": "fix",
         "offsetgroup": "fix",
         "orientation": "v",
         "showlegend": true,
         "textposition": "auto",
         "x": [
          "fix",
          "fix",
          "fix",
          "fix",
          "fix",
          "fix",
          "fix",
          "fix",
          "fix",
          "fix",
          "fix",
          "fix",
          "fix",
          "fix"
         ],
         "xaxis": "x",
         "y": [
          2,
          2,
          1,
          2,
          2,
          3,
          1,
          6,
          1,
          1,
          3,
          2,
          3,
          1
         ],
         "yaxis": "y",
         "type": "bar"
        },
        {
         "alignmentgroup": "True",
         "hovertemplate": "<b>%{hovertext}</b><br><br>reason=%{x}<br>count=%{y}<extra></extra>",
         "hovertext": [
          ".ci/packages/versions.env",
          ".github/workflows/ci.yml",
          ".github/workflows/pages.yml",
          ".github/workflows/pr.yml",
          ".github/workflows/release.yml",
          ".gitlab-ci.yml",
          "generated/ent/runtime/runtime.go",
          "go.mod",
          "hugo/package-lock.json",
          "shell.nix",
          "CHANGELOG.md",
          ".goreleaser.yml",
          "contrib/config-deployment/client/go.mod",
          "contrib/remote-access/client/go.mod",
          "example/plugin/go.mod",
          "justfile",
          "persistence/mock_Storage.go",
          "hugo/go.mod",
          "go.work",
          "hugo/package.json",
          "cmd/wfx-viewer/flags.go",
          "cmd/wfx-viewer/main.go",
          "cmd/wfx/cmd/root/cmd.go",
          ".golangci.yml",
          "docs/installation.md",
          ".github/dependabot.yml"
         ],
         "legendgroup": "chore",
         "marker": {
          "color": "#EF553B",
          "pattern": {
           "shape": ""
          }
         },
         "name": "chore",
         "offsetgroup": "chore",
         "orientation": "v",
         "showlegend": true,
         "textposition": "auto",
         "x": [
          "chore",
          "chore",
          "chore",
          "chore",
          "chore",
          "chore",
          "chore",
          "chore",
          "chore",
          "chore",
          "chore",
          "chore",
          "chore",
          "chore",
          "chore",
          "chore",
          "chore",
          "chore",
          "chore",
          "chore",
          "chore",
          "chore",
          "chore",
          "chore",
          "chore",
          "chore"
         ],
         "xaxis": "x",
         "y": [
          10,
          19,
          11,
          4,
          10,
          5,
          4,
          73,
          13,
          2,
          7,
          2,
          6,
          6,
          4,
          1,
          3,
          6,
          2,
          10,
          1,
          1,
          2,
          2,
          2,
          3
         ],
         "yaxis": "y",
         "type": "bar"
        },
        {
         "alignmentgroup": "True",
         "hovertemplate": "<b>%{hovertext}</b><br><br>reason=%{x}<br>count=%{y}<extra></extra>",
         "hovertext": [
          ".github/workflows/release.yml",
          ".github/dependabot.yml",
          ".ci/packages/versions.env",
          ".github/workflows/ci.yml",
          ".github/workflows/pages.yml",
          ".gitlab-ci.yml",
          "justfile",
          "persistence/mock_Storage.go",
          ".goreleaser.yml",
          "codecov.yml",
          "shell.nix",
          ".golangci.yml"
         ],
         "legendgroup": "ci",
         "marker": {
          "color": "#00cc96",
          "pattern": {
           "shape": ""
          }
         },
         "name": "ci",
         "offsetgroup": "ci",
         "orientation": "v",
         "showlegend": true,
         "textposition": "auto",
         "x": [
          "ci",
          "ci",
          "ci",
          "ci",
          "ci",
          "ci",
          "ci",
          "ci",
          "ci",
          "ci",
          "ci",
          "ci"
         ],
         "xaxis": "x",
         "y": [
          3,
          2,
          2,
          7,
          3,
          2,
          4,
          1,
          7,
          5,
          1,
          1
         ],
         "yaxis": "y",
         "type": "bar"
        },
        {
         "alignmentgroup": "True",
         "hovertemplate": "<b>%{hovertext}</b><br><br>reason=%{x}<br>count=%{y}<extra></extra>",
         "hovertext": [
          ".goreleaser.yml",
          "CHANGELOG.md",
          "cmd/wfx-viewer/flags.go",
          "cmd/wfx-viewer/main.go",
          "docs/installation.md",
          "go.mod",
          ".github/workflows/ci.yml",
          ".gitlab-ci.yml",
          ".golangci.yml",
          "cmd/wfx/cmd/root/cmd.go",
          "cmd/wfx/cmd/root/northbound.go",
          "cmd/wfx/cmd/root/southbound.go",
          "example/plugin/go.mod",
          "go.work",
          "justfile",
          "shell.nix",
          "contrib/config-deployment/client/go.mod",
          "contrib/remote-access/client/go.mod"
         ],
         "legendgroup": "feat",
         "marker": {
          "color": "#ab63fa",
          "pattern": {
           "shape": ""
          }
         },
         "name": "feat",
         "offsetgroup": "feat",
         "orientation": "v",
         "showlegend": true,
         "textposition": "auto",
         "x": [
          "feat",
          "feat",
          "feat",
          "feat",
          "feat",
          "feat",
          "feat",
          "feat",
          "feat",
          "feat",
          "feat",
          "feat",
          "feat",
          "feat",
          "feat",
          "feat",
          "feat",
          "feat"
         ],
         "xaxis": "x",
         "y": [
          2,
          5,
          1,
          1,
          2,
          5,
          2,
          2,
          2,
          2,
          1,
          1,
          1,
          3,
          2,
          1,
          1,
          1
         ],
         "yaxis": "y",
         "type": "bar"
        },
        {
         "alignmentgroup": "True",
         "hovertemplate": "<b>%{hovertext}</b><br><br>reason=%{x}<br>count=%{y}<extra></extra>",
         "hovertext": [
          "cmd/wfx-viewer/flags.go",
          "cmd/wfx-viewer/main.go",
          ".golangci.yml",
          ".github/workflows/ci.yml",
          "codecov.yml",
          "go.mod",
          "justfile",
          "persistence/mock_Storage.go",
          "shell.nix"
         ],
         "legendgroup": "test",
         "marker": {
          "color": "#FFA15A",
          "pattern": {
           "shape": ""
          }
         },
         "name": "test",
         "offsetgroup": "test",
         "orientation": "v",
         "showlegend": true,
         "textposition": "auto",
         "x": [
          "test",
          "test",
          "test",
          "test",
          "test",
          "test",
          "test",
          "test",
          "test"
         ],
         "xaxis": "x",
         "y": [
          1,
          1,
          1,
          1,
          1,
          1,
          2,
          1,
          1
         ],
         "yaxis": "y",
         "type": "bar"
        },
        {
         "alignmentgroup": "True",
         "hovertemplate": "<b>%{hovertext}</b><br><br>reason=%{x}<br>count=%{y}<extra></extra>",
         "hovertext": [
          "cmd/wfx-viewer/main.go",
          "cmd/wfx-viewer/flags.go",
          "CHANGELOG.md",
          "justfile",
          "cmd/wfx/cmd/root/cmd.go",
          "cmd/wfx/cmd/root/northbound.go",
          "cmd/wfx/cmd/root/southbound.go"
         ],
         "legendgroup": "refactor",
         "marker": {
          "color": "#19d3f3",
          "pattern": {
           "shape": ""
          }
         },
         "name": "refactor",
         "offsetgroup": "refactor",
         "orientation": "v",
         "showlegend": true,
         "textposition": "auto",
         "x": [
          "refactor",
          "refactor",
          "refactor",
          "refactor",
          "refactor",
          "refactor",
          "refactor"
         ],
         "xaxis": "x",
         "y": [
          2,
          1,
          1,
          1,
          2,
          2,
          2
         ],
         "yaxis": "y",
         "type": "bar"
        },
        {
         "alignmentgroup": "True",
         "hovertemplate": "<b>%{hovertext}</b><br><br>reason=%{x}<br>count=%{y}<extra></extra>",
         "hovertext": [
          "README.md",
          "docs/installation.md"
         ],
         "legendgroup": "docs",
         "marker": {
          "color": "#FF6692",
          "pattern": {
           "shape": ""
          }
         },
         "name": "docs",
         "offsetgroup": "docs",
         "orientation": "v",
         "showlegend": true,
         "textposition": "auto",
         "x": [
          "docs",
          "docs"
         ],
         "xaxis": "x",
         "y": [
          3,
          1
         ],
         "yaxis": "y",
         "type": "bar"
        },
        {
         "alignmentgroup": "True",
         "hovertemplate": "<b>%{hovertext}</b><br><br>reason=%{x}<br>count=%{y}<extra></extra>",
         "hovertext": [
          ".golangci.yml",
          "README.md"
         ],
         "legendgroup": "style",
         "marker": {
          "color": "#B6E880",
          "pattern": {
           "shape": ""
          }
         },
         "name": "style",
         "offsetgroup": "style",
         "orientation": "v",
         "showlegend": true,
         "textposition": "auto",
         "x": [
          "style",
          "style"
         ],
         "xaxis": "x",
         "y": [
          1,
          1
         ],
         "yaxis": "y",
         "type": "bar"
        },
        {
         "alignmentgroup": "True",
         "hovertemplate": "<b>%{hovertext}</b><br><br>reason=%{x}<br>count=%{y}<extra></extra>",
         "hovertext": [
          ".github/dependabot.yml",
          ".github/workflows/ci.yml",
          ".github/workflows/pages.yml",
          ".github/workflows/pr.yml",
          ".github/workflows/release.yml",
          ".gitlab-ci.yml",
          ".golangci.yml",
          ".goreleaser.yml",
          "CHANGELOG.md",
          "README.md",
          "cmd/wfx-viewer/flags.go",
          "cmd/wfx-viewer/main.go",
          "cmd/wfx/cmd/root/cmd.go",
          "cmd/wfx/cmd/root/northbound.go",
          "cmd/wfx/cmd/root/southbound.go",
          "docs/installation.md",
          "generated/ent/runtime/runtime.go",
          "go.mod",
          "hugo/go.mod",
          "hugo/package-lock.json",
          "hugo/package.json",
          "justfile",
          "shell.nix"
         ],
         "legendgroup": "wfx",
         "marker": {
          "color": "#FF97FF",
          "pattern": {
           "shape": ""
          }
         },
         "name": "wfx",
         "offsetgroup": "wfx",
         "orientation": "v",
         "showlegend": true,
         "textposition": "auto",
         "x": [
          "wfx",
          "wfx",
          "wfx",
          "wfx",
          "wfx",
          "wfx",
          "wfx",
          "wfx",
          "wfx",
          "wfx",
          "wfx",
          "wfx",
          "wfx",
          "wfx",
          "wfx",
          "wfx",
          "wfx",
          "wfx",
          "wfx",
          "wfx",
          "wfx",
          "wfx",
          "wfx"
         ],
         "xaxis": "x",
         "y": [
          1,
          1,
          1,
          1,
          1,
          1,
          1,
          1,
          1,
          1,
          1,
          1,
          1,
          1,
          1,
          1,
          1,
          1,
          1,
          1,
          1,
          1,
          1
         ],
         "yaxis": "y",
         "type": "bar"
        },
        {
         "alignmentgroup": "True",
         "hovertemplate": "<b>%{hovertext}</b><br><br>reason=%{x}<br>count=%{y}<extra></extra>",
         "hovertext": [
          "README.md"
         ],
         "legendgroup": "Initial",
         "marker": {
          "color": "#FECB52",
          "pattern": {
           "shape": ""
          }
         },
         "name": "Initial",
         "offsetgroup": "Initial",
         "orientation": "v",
         "showlegend": true,
         "textposition": "auto",
         "x": [
          "Initial"
         ],
         "xaxis": "x",
         "y": [
          1
         ],
         "yaxis": "y",
         "type": "bar"
        }
       ],
       "layout": {
        "template": {
         "data": {
          "histogram2dcontour": [
           {
            "type": "histogram2dcontour",
            "colorbar": {
             "outlinewidth": 0,
             "ticks": ""
            },
            "colorscale": [
             [
              0.0,
              "#0d0887"
             ],
             [
              0.1111111111111111,
              "#46039f"
             ],
             [
              0.2222222222222222,
              "#7201a8"
             ],
             [
              0.3333333333333333,
              "#9c179e"
             ],
             [
              0.4444444444444444,
              "#bd3786"
             ],
             [
              0.5555555555555556,
              "#d8576b"
             ],
             [
              0.6666666666666666,
              "#ed7953"
             ],
             [
              0.7777777777777778,
              "#fb9f3a"
             ],
             [
              0.8888888888888888,
              "#fdca26"
             ],
             [
              1.0,
              "#f0f921"
             ]
            ]
           }
          ],
          "choropleth": [
           {
            "type": "choropleth",
            "colorbar": {
             "outlinewidth": 0,
             "ticks": ""
            }
           }
          ],
          "histogram2d": [
           {
            "type": "histogram2d",
            "colorbar": {
             "outlinewidth": 0,
             "ticks": ""
            },
            "colorscale": [
             [
              0.0,
              "#0d0887"
             ],
             [
              0.1111111111111111,
              "#46039f"
             ],
             [
              0.2222222222222222,
              "#7201a8"
             ],
             [
              0.3333333333333333,
              "#9c179e"
             ],
             [
              0.4444444444444444,
              "#bd3786"
             ],
             [
              0.5555555555555556,
              "#d8576b"
             ],
             [
              0.6666666666666666,
              "#ed7953"
             ],
             [
              0.7777777777777778,
              "#fb9f3a"
             ],
             [
              0.8888888888888888,
              "#fdca26"
             ],
             [
              1.0,
              "#f0f921"
             ]
            ]
           }
          ],
          "heatmap": [
           {
            "type": "heatmap",
            "colorbar": {
             "outlinewidth": 0,
             "ticks": ""
            },
            "colorscale": [
             [
              0.0,
              "#0d0887"
             ],
             [
              0.1111111111111111,
              "#46039f"
             ],
             [
              0.2222222222222222,
              "#7201a8"
             ],
             [
              0.3333333333333333,
              "#9c179e"
             ],
             [
              0.4444444444444444,
              "#bd3786"
             ],
             [
              0.5555555555555556,
              "#d8576b"
             ],
             [
              0.6666666666666666,
              "#ed7953"
             ],
             [
              0.7777777777777778,
              "#fb9f3a"
             ],
             [
              0.8888888888888888,
              "#fdca26"
             ],
             [
              1.0,
              "#f0f921"
             ]
            ]
           }
          ],
          "heatmapgl": [
           {
            "type": "heatmapgl",
            "colorbar": {
             "outlinewidth": 0,
             "ticks": ""
            },
            "colorscale": [
             [
              0.0,
              "#0d0887"
             ],
             [
              0.1111111111111111,
              "#46039f"
             ],
             [
              0.2222222222222222,
              "#7201a8"
             ],
             [
              0.3333333333333333,
              "#9c179e"
             ],
             [
              0.4444444444444444,
              "#bd3786"
             ],
             [
              0.5555555555555556,
              "#d8576b"
             ],
             [
              0.6666666666666666,
              "#ed7953"
             ],
             [
              0.7777777777777778,
              "#fb9f3a"
             ],
             [
              0.8888888888888888,
              "#fdca26"
             ],
             [
              1.0,
              "#f0f921"
             ]
            ]
           }
          ],
          "contourcarpet": [
           {
            "type": "contourcarpet",
            "colorbar": {
             "outlinewidth": 0,
             "ticks": ""
            }
           }
          ],
          "contour": [
           {
            "type": "contour",
            "colorbar": {
             "outlinewidth": 0,
             "ticks": ""
            },
            "colorscale": [
             [
              0.0,
              "#0d0887"
             ],
             [
              0.1111111111111111,
              "#46039f"
             ],
             [
              0.2222222222222222,
              "#7201a8"
             ],
             [
              0.3333333333333333,
              "#9c179e"
             ],
             [
              0.4444444444444444,
              "#bd3786"
             ],
             [
              0.5555555555555556,
              "#d8576b"
             ],
             [
              0.6666666666666666,
              "#ed7953"
             ],
             [
              0.7777777777777778,
              "#fb9f3a"
             ],
             [
              0.8888888888888888,
              "#fdca26"
             ],
             [
              1.0,
              "#f0f921"
             ]
            ]
           }
          ],
          "surface": [
           {
            "type": "surface",
            "colorbar": {
             "outlinewidth": 0,
             "ticks": ""
            },
            "colorscale": [
             [
              0.0,
              "#0d0887"
             ],
             [
              0.1111111111111111,
              "#46039f"
             ],
             [
              0.2222222222222222,
              "#7201a8"
             ],
             [
              0.3333333333333333,
              "#9c179e"
             ],
             [
              0.4444444444444444,
              "#bd3786"
             ],
             [
              0.5555555555555556,
              "#d8576b"
             ],
             [
              0.6666666666666666,
              "#ed7953"
             ],
             [
              0.7777777777777778,
              "#fb9f3a"
             ],
             [
              0.8888888888888888,
              "#fdca26"
             ],
             [
              1.0,
              "#f0f921"
             ]
            ]
           }
          ],
          "mesh3d": [
           {
            "type": "mesh3d",
            "colorbar": {
             "outlinewidth": 0,
             "ticks": ""
            }
           }
          ],
          "scatter": [
           {
            "fillpattern": {
             "fillmode": "overlay",
             "size": 10,
             "solidity": 0.2
            },
            "type": "scatter"
           }
          ],
          "parcoords": [
           {
            "type": "parcoords",
            "line": {
             "colorbar": {
              "outlinewidth": 0,
              "ticks": ""
             }
            }
           }
          ],
          "scatterpolargl": [
           {
            "type": "scatterpolargl",
            "marker": {
             "colorbar": {
              "outlinewidth": 0,
              "ticks": ""
             }
            }
           }
          ],
          "bar": [
           {
            "error_x": {
             "color": "#2a3f5f"
            },
            "error_y": {
             "color": "#2a3f5f"
            },
            "marker": {
             "line": {
              "color": "#E5ECF6",
              "width": 0.5
             },
             "pattern": {
              "fillmode": "overlay",
              "size": 10,
              "solidity": 0.2
             }
            },
            "type": "bar"
           }
          ],
          "scattergeo": [
           {
            "type": "scattergeo",
            "marker": {
             "colorbar": {
              "outlinewidth": 0,
              "ticks": ""
             }
            }
           }
          ],
          "scatterpolar": [
           {
            "type": "scatterpolar",
            "marker": {
             "colorbar": {
              "outlinewidth": 0,
              "ticks": ""
             }
            }
           }
          ],
          "histogram": [
           {
            "marker": {
             "pattern": {
              "fillmode": "overlay",
              "size": 10,
              "solidity": 0.2
             }
            },
            "type": "histogram"
           }
          ],
          "scattergl": [
           {
            "type": "scattergl",
            "marker": {
             "colorbar": {
              "outlinewidth": 0,
              "ticks": ""
             }
            }
           }
          ],
          "scatter3d": [
           {
            "type": "scatter3d",
            "line": {
             "colorbar": {
              "outlinewidth": 0,
              "ticks": ""
             }
            },
            "marker": {
             "colorbar": {
              "outlinewidth": 0,
              "ticks": ""
             }
            }
           }
          ],
          "scattermapbox": [
           {
            "type": "scattermapbox",
            "marker": {
             "colorbar": {
              "outlinewidth": 0,
              "ticks": ""
             }
            }
           }
          ],
          "scatterternary": [
           {
            "type": "scatterternary",
            "marker": {
             "colorbar": {
              "outlinewidth": 0,
              "ticks": ""
             }
            }
           }
          ],
          "scattercarpet": [
           {
            "type": "scattercarpet",
            "marker": {
             "colorbar": {
              "outlinewidth": 0,
              "ticks": ""
             }
            }
           }
          ],
          "carpet": [
           {
            "aaxis": {
             "endlinecolor": "#2a3f5f",
             "gridcolor": "white",
             "linecolor": "white",
             "minorgridcolor": "white",
             "startlinecolor": "#2a3f5f"
            },
            "baxis": {
             "endlinecolor": "#2a3f5f",
             "gridcolor": "white",
             "linecolor": "white",
             "minorgridcolor": "white",
             "startlinecolor": "#2a3f5f"
            },
            "type": "carpet"
           }
          ],
          "table": [
           {
            "cells": {
             "fill": {
              "color": "#EBF0F8"
             },
             "line": {
              "color": "white"
             }
            },
            "header": {
             "fill": {
              "color": "#C8D4E3"
             },
             "line": {
              "color": "white"
             }
            },
            "type": "table"
           }
          ],
          "barpolar": [
           {
            "marker": {
             "line": {
              "color": "#E5ECF6",
              "width": 0.5
             },
             "pattern": {
              "fillmode": "overlay",
              "size": 10,
              "solidity": 0.2
             }
            },
            "type": "barpolar"
           }
          ],
          "pie": [
           {
            "automargin": true,
            "type": "pie"
           }
          ]
         },
         "layout": {
          "autotypenumbers": "strict",
          "colorway": [
           "#636efa",
           "#EF553B",
           "#00cc96",
           "#ab63fa",
           "#FFA15A",
           "#19d3f3",
           "#FF6692",
           "#B6E880",
           "#FF97FF",
           "#FECB52"
          ],
          "font": {
           "color": "#2a3f5f"
          },
          "hovermode": "closest",
          "hoverlabel": {
           "align": "left"
          },
          "paper_bgcolor": "white",
          "plot_bgcolor": "#E5ECF6",
          "polar": {
           "bgcolor": "#E5ECF6",
           "angularaxis": {
            "gridcolor": "white",
            "linecolor": "white",
            "ticks": ""
           },
           "radialaxis": {
            "gridcolor": "white",
            "linecolor": "white",
            "ticks": ""
           }
          },
          "ternary": {
           "bgcolor": "#E5ECF6",
           "aaxis": {
            "gridcolor": "white",
            "linecolor": "white",
            "ticks": ""
           },
           "baxis": {
            "gridcolor": "white",
            "linecolor": "white",
            "ticks": ""
           },
           "caxis": {
            "gridcolor": "white",
            "linecolor": "white",
            "ticks": ""
           }
          },
          "coloraxis": {
           "colorbar": {
            "outlinewidth": 0,
            "ticks": ""
           }
          },
          "colorscale": {
           "sequential": [
            [
             0.0,
             "#0d0887"
            ],
            [
             0.1111111111111111,
             "#46039f"
            ],
            [
             0.2222222222222222,
             "#7201a8"
            ],
            [
             0.3333333333333333,
             "#9c179e"
            ],
            [
             0.4444444444444444,
             "#bd3786"
            ],
            [
             0.5555555555555556,
             "#d8576b"
            ],
            [
             0.6666666666666666,
             "#ed7953"
            ],
            [
             0.7777777777777778,
             "#fb9f3a"
            ],
            [
             0.8888888888888888,
             "#fdca26"
            ],
            [
             1.0,
             "#f0f921"
            ]
           ],
           "sequentialminus": [
            [
             0.0,
             "#0d0887"
            ],
            [
             0.1111111111111111,
             "#46039f"
            ],
            [
             0.2222222222222222,
             "#7201a8"
            ],
            [
             0.3333333333333333,
             "#9c179e"
            ],
            [
             0.4444444444444444,
             "#bd3786"
            ],
            [
             0.5555555555555556,
             "#d8576b"
            ],
            [
             0.6666666666666666,
             "#ed7953"
            ],
            [
             0.7777777777777778,
             "#fb9f3a"
            ],
            [
             0.8888888888888888,
             "#fdca26"
            ],
            [
             1.0,
             "#f0f921"
            ]
           ],
           "diverging": [
            [
             0,
             "#8e0152"
            ],
            [
             0.1,
             "#c51b7d"
            ],
            [
             0.2,
             "#de77ae"
            ],
            [
             0.3,
             "#f1b6da"
            ],
            [
             0.4,
             "#fde0ef"
            ],
            [
             0.5,
             "#f7f7f7"
            ],
            [
             0.6,
             "#e6f5d0"
            ],
            [
             0.7,
             "#b8e186"
            ],
            [
             0.8,
             "#7fbc41"
            ],
            [
             0.9,
             "#4d9221"
            ],
            [
             1,
             "#276419"
            ]
           ]
          },
          "xaxis": {
           "gridcolor": "white",
           "linecolor": "white",
           "ticks": "",
           "title": {
            "standoff": 15
           },
           "zerolinecolor": "white",
           "automargin": true,
           "zerolinewidth": 2
          },
          "yaxis": {
           "gridcolor": "white",
           "linecolor": "white",
           "ticks": "",
           "title": {
            "standoff": 15
           },
           "zerolinecolor": "white",
           "automargin": true,
           "zerolinewidth": 2
          },
          "scene": {
           "xaxis": {
            "backgroundcolor": "#E5ECF6",
            "gridcolor": "white",
            "linecolor": "white",
            "showbackground": true,
            "ticks": "",
            "zerolinecolor": "white",
            "gridwidth": 2
           },
           "yaxis": {
            "backgroundcolor": "#E5ECF6",
            "gridcolor": "white",
            "linecolor": "white",
            "showbackground": true,
            "ticks": "",
            "zerolinecolor": "white",
            "gridwidth": 2
           },
           "zaxis": {
            "backgroundcolor": "#E5ECF6",
            "gridcolor": "white",
            "linecolor": "white",
            "showbackground": true,
            "ticks": "",
            "zerolinecolor": "white",
            "gridwidth": 2
           }
          },
          "shapedefaults": {
           "line": {
            "color": "#2a3f5f"
           }
          },
          "annotationdefaults": {
           "arrowcolor": "#2a3f5f",
           "arrowhead": 0,
           "arrowwidth": 1
          },
          "geo": {
           "bgcolor": "white",
           "landcolor": "#E5ECF6",
           "subunitcolor": "white",
           "showland": true,
           "showlakes": true,
           "lakecolor": "white"
          },
          "title": {
           "x": 0.05
          },
          "mapbox": {
           "style": "light"
          }
         }
        },
        "xaxis": {
         "anchor": "y",
         "domain": [
          0.0,
          1.0
         ],
         "title": {
          "text": "reason"
         },
         "categoryorder": "array",
         "categoryarray": [
          "fix",
          "chore",
          "ci",
          "feat",
          "test",
          "refactor",
          "docs",
          "style",
          "wfx",
          "Initial"
         ]
        },
        "yaxis": {
         "anchor": "x",
         "domain": [
          0.0,
          1.0
         ],
         "title": {
          "text": "count"
         }
        },
        "legend": {
         "title": {
          "text": "reason"
         },
         "tracegroupgap": 0
        },
        "margin": {
         "t": 60
        },
        "barmode": "relative",
        "height": 500
       },
       "config": {
        "plotlyServerURL": "https://plot.ly"
       }
      },
      "text/html": "<div>                            <div id=\"582faade-09b3-44a0-b5b9-adad7961d44a\" class=\"plotly-graph-div\" style=\"height:500px; width:100%;\"></div>            <script type=\"text/javascript\">                require([\"plotly\"], function(Plotly) {                    window.PLOTLYENV=window.PLOTLYENV || {};                                    if (document.getElementById(\"582faade-09b3-44a0-b5b9-adad7961d44a\")) {                    Plotly.newPlot(                        \"582faade-09b3-44a0-b5b9-adad7961d44a\",                        [{\"alignmentgroup\":\"True\",\"hovertemplate\":\"\\u003cb\\u003e%{hovertext}\\u003c\\u002fb\\u003e\\u003cbr\\u003e\\u003cbr\\u003ereason=%{x}\\u003cbr\\u003ecount=%{y}\\u003cextra\\u003e\\u003c\\u002fextra\\u003e\",\"hovertext\":[\".github\\u002fworkflows\\u002fci.yml\",\".github\\u002fworkflows\\u002fpages.yml\",\".gitlab-ci.yml\",\"contrib\\u002fconfig-deployment\\u002fclient\\u002fgo.mod\",\"contrib\\u002fremote-access\\u002fclient\\u002fgo.mod\",\"go.mod\",\"hugo\\u002fpackage-lock.json\",\"CHANGELOG.md\",\"example\\u002fplugin\\u002fgo.mod\",\".golangci.yml\",\"cmd\\u002fwfx\\u002fcmd\\u002froot\\u002fcmd.go\",\"cmd\\u002fwfx\\u002fcmd\\u002froot\\u002fnorthbound.go\",\"cmd\\u002fwfx\\u002fcmd\\u002froot\\u002fsouthbound.go\",\"shell.nix\"],\"legendgroup\":\"fix\",\"marker\":{\"color\":\"#636efa\",\"pattern\":{\"shape\":\"\"}},\"name\":\"fix\",\"offsetgroup\":\"fix\",\"orientation\":\"v\",\"showlegend\":true,\"textposition\":\"auto\",\"x\":[\"fix\",\"fix\",\"fix\",\"fix\",\"fix\",\"fix\",\"fix\",\"fix\",\"fix\",\"fix\",\"fix\",\"fix\",\"fix\",\"fix\"],\"xaxis\":\"x\",\"y\":[2,2,1,2,2,3,1,6,1,1,3,2,3,1],\"yaxis\":\"y\",\"type\":\"bar\"},{\"alignmentgroup\":\"True\",\"hovertemplate\":\"\\u003cb\\u003e%{hovertext}\\u003c\\u002fb\\u003e\\u003cbr\\u003e\\u003cbr\\u003ereason=%{x}\\u003cbr\\u003ecount=%{y}\\u003cextra\\u003e\\u003c\\u002fextra\\u003e\",\"hovertext\":[\".ci\\u002fpackages\\u002fversions.env\",\".github\\u002fworkflows\\u002fci.yml\",\".github\\u002fworkflows\\u002fpages.yml\",\".github\\u002fworkflows\\u002fpr.yml\",\".github\\u002fworkflows\\u002frelease.yml\",\".gitlab-ci.yml\",\"generated\\u002fent\\u002fruntime\\u002fruntime.go\",\"go.mod\",\"hugo\\u002fpackage-lock.json\",\"shell.nix\",\"CHANGELOG.md\",\".goreleaser.yml\",\"contrib\\u002fconfig-deployment\\u002fclient\\u002fgo.mod\",\"contrib\\u002fremote-access\\u002fclient\\u002fgo.mod\",\"example\\u002fplugin\\u002fgo.mod\",\"justfile\",\"persistence\\u002fmock_Storage.go\",\"hugo\\u002fgo.mod\",\"go.work\",\"hugo\\u002fpackage.json\",\"cmd\\u002fwfx-viewer\\u002fflags.go\",\"cmd\\u002fwfx-viewer\\u002fmain.go\",\"cmd\\u002fwfx\\u002fcmd\\u002froot\\u002fcmd.go\",\".golangci.yml\",\"docs\\u002finstallation.md\",\".github\\u002fdependabot.yml\"],\"legendgroup\":\"chore\",\"marker\":{\"color\":\"#EF553B\",\"pattern\":{\"shape\":\"\"}},\"name\":\"chore\",\"offsetgroup\":\"chore\",\"orientation\":\"v\",\"showlegend\":true,\"textposition\":\"auto\",\"x\":[\"chore\",\"chore\",\"chore\",\"chore\",\"chore\",\"chore\",\"chore\",\"chore\",\"chore\",\"chore\",\"chore\",\"chore\",\"chore\",\"chore\",\"chore\",\"chore\",\"chore\",\"chore\",\"chore\",\"chore\",\"chore\",\"chore\",\"chore\",\"chore\",\"chore\",\"chore\"],\"xaxis\":\"x\",\"y\":[10,19,11,4,10,5,4,73,13,2,7,2,6,6,4,1,3,6,2,10,1,1,2,2,2,3],\"yaxis\":\"y\",\"type\":\"bar\"},{\"alignmentgroup\":\"True\",\"hovertemplate\":\"\\u003cb\\u003e%{hovertext}\\u003c\\u002fb\\u003e\\u003cbr\\u003e\\u003cbr\\u003ereason=%{x}\\u003cbr\\u003ecount=%{y}\\u003cextra\\u003e\\u003c\\u002fextra\\u003e\",\"hovertext\":[\".github\\u002fworkflows\\u002frelease.yml\",\".github\\u002fdependabot.yml\",\".ci\\u002fpackages\\u002fversions.env\",\".github\\u002fworkflows\\u002fci.yml\",\".github\\u002fworkflows\\u002fpages.yml\",\".gitlab-ci.yml\",\"justfile\",\"persistence\\u002fmock_Storage.go\",\".goreleaser.yml\",\"codecov.yml\",\"shell.nix\",\".golangci.yml\"],\"legendgroup\":\"ci\",\"marker\":{\"color\":\"#00cc96\",\"pattern\":{\"shape\":\"\"}},\"name\":\"ci\",\"offsetgroup\":\"ci\",\"orientation\":\"v\",\"showlegend\":true,\"textposition\":\"auto\",\"x\":[\"ci\",\"ci\",\"ci\",\"ci\",\"ci\",\"ci\",\"ci\",\"ci\",\"ci\",\"ci\",\"ci\",\"ci\"],\"xaxis\":\"x\",\"y\":[3,2,2,7,3,2,4,1,7,5,1,1],\"yaxis\":\"y\",\"type\":\"bar\"},{\"alignmentgroup\":\"True\",\"hovertemplate\":\"\\u003cb\\u003e%{hovertext}\\u003c\\u002fb\\u003e\\u003cbr\\u003e\\u003cbr\\u003ereason=%{x}\\u003cbr\\u003ecount=%{y}\\u003cextra\\u003e\\u003c\\u002fextra\\u003e\",\"hovertext\":[\".goreleaser.yml\",\"CHANGELOG.md\",\"cmd\\u002fwfx-viewer\\u002fflags.go\",\"cmd\\u002fwfx-viewer\\u002fmain.go\",\"docs\\u002finstallation.md\",\"go.mod\",\".github\\u002fworkflows\\u002fci.yml\",\".gitlab-ci.yml\",\".golangci.yml\",\"cmd\\u002fwfx\\u002fcmd\\u002froot\\u002fcmd.go\",\"cmd\\u002fwfx\\u002fcmd\\u002froot\\u002fnorthbound.go\",\"cmd\\u002fwfx\\u002fcmd\\u002froot\\u002fsouthbound.go\",\"example\\u002fplugin\\u002fgo.mod\",\"go.work\",\"justfile\",\"shell.nix\",\"contrib\\u002fconfig-deployment\\u002fclient\\u002fgo.mod\",\"contrib\\u002fremote-access\\u002fclient\\u002fgo.mod\"],\"legendgroup\":\"feat\",\"marker\":{\"color\":\"#ab63fa\",\"pattern\":{\"shape\":\"\"}},\"name\":\"feat\",\"offsetgroup\":\"feat\",\"orientation\":\"v\",\"showlegend\":true,\"textposition\":\"auto\",\"x\":[\"feat\",\"feat\",\"feat\",\"feat\",\"feat\",\"feat\",\"feat\",\"feat\",\"feat\",\"feat\",\"feat\",\"feat\",\"feat\",\"feat\",\"feat\",\"feat\",\"feat\",\"feat\"],\"xaxis\":\"x\",\"y\":[2,5,1,1,2,5,2,2,2,2,1,1,1,3,2,1,1,1],\"yaxis\":\"y\",\"type\":\"bar\"},{\"alignmentgroup\":\"True\",\"hovertemplate\":\"\\u003cb\\u003e%{hovertext}\\u003c\\u002fb\\u003e\\u003cbr\\u003e\\u003cbr\\u003ereason=%{x}\\u003cbr\\u003ecount=%{y}\\u003cextra\\u003e\\u003c\\u002fextra\\u003e\",\"hovertext\":[\"cmd\\u002fwfx-viewer\\u002fflags.go\",\"cmd\\u002fwfx-viewer\\u002fmain.go\",\".golangci.yml\",\".github\\u002fworkflows\\u002fci.yml\",\"codecov.yml\",\"go.mod\",\"justfile\",\"persistence\\u002fmock_Storage.go\",\"shell.nix\"],\"legendgroup\":\"test\",\"marker\":{\"color\":\"#FFA15A\",\"pattern\":{\"shape\":\"\"}},\"name\":\"test\",\"offsetgroup\":\"test\",\"orientation\":\"v\",\"showlegend\":true,\"textposition\":\"auto\",\"x\":[\"test\",\"test\",\"test\",\"test\",\"test\",\"test\",\"test\",\"test\",\"test\"],\"xaxis\":\"x\",\"y\":[1,1,1,1,1,1,2,1,1],\"yaxis\":\"y\",\"type\":\"bar\"},{\"alignmentgroup\":\"True\",\"hovertemplate\":\"\\u003cb\\u003e%{hovertext}\\u003c\\u002fb\\u003e\\u003cbr\\u003e\\u003cbr\\u003ereason=%{x}\\u003cbr\\u003ecount=%{y}\\u003cextra\\u003e\\u003c\\u002fextra\\u003e\",\"hovertext\":[\"cmd\\u002fwfx-viewer\\u002fmain.go\",\"cmd\\u002fwfx-viewer\\u002fflags.go\",\"CHANGELOG.md\",\"justfile\",\"cmd\\u002fwfx\\u002fcmd\\u002froot\\u002fcmd.go\",\"cmd\\u002fwfx\\u002fcmd\\u002froot\\u002fnorthbound.go\",\"cmd\\u002fwfx\\u002fcmd\\u002froot\\u002fsouthbound.go\"],\"legendgroup\":\"refactor\",\"marker\":{\"color\":\"#19d3f3\",\"pattern\":{\"shape\":\"\"}},\"name\":\"refactor\",\"offsetgroup\":\"refactor\",\"orientation\":\"v\",\"showlegend\":true,\"textposition\":\"auto\",\"x\":[\"refactor\",\"refactor\",\"refactor\",\"refactor\",\"refactor\",\"refactor\",\"refactor\"],\"xaxis\":\"x\",\"y\":[2,1,1,1,2,2,2],\"yaxis\":\"y\",\"type\":\"bar\"},{\"alignmentgroup\":\"True\",\"hovertemplate\":\"\\u003cb\\u003e%{hovertext}\\u003c\\u002fb\\u003e\\u003cbr\\u003e\\u003cbr\\u003ereason=%{x}\\u003cbr\\u003ecount=%{y}\\u003cextra\\u003e\\u003c\\u002fextra\\u003e\",\"hovertext\":[\"README.md\",\"docs\\u002finstallation.md\"],\"legendgroup\":\"docs\",\"marker\":{\"color\":\"#FF6692\",\"pattern\":{\"shape\":\"\"}},\"name\":\"docs\",\"offsetgroup\":\"docs\",\"orientation\":\"v\",\"showlegend\":true,\"textposition\":\"auto\",\"x\":[\"docs\",\"docs\"],\"xaxis\":\"x\",\"y\":[3,1],\"yaxis\":\"y\",\"type\":\"bar\"},{\"alignmentgroup\":\"True\",\"hovertemplate\":\"\\u003cb\\u003e%{hovertext}\\u003c\\u002fb\\u003e\\u003cbr\\u003e\\u003cbr\\u003ereason=%{x}\\u003cbr\\u003ecount=%{y}\\u003cextra\\u003e\\u003c\\u002fextra\\u003e\",\"hovertext\":[\".golangci.yml\",\"README.md\"],\"legendgroup\":\"style\",\"marker\":{\"color\":\"#B6E880\",\"pattern\":{\"shape\":\"\"}},\"name\":\"style\",\"offsetgroup\":\"style\",\"orientation\":\"v\",\"showlegend\":true,\"textposition\":\"auto\",\"x\":[\"style\",\"style\"],\"xaxis\":\"x\",\"y\":[1,1],\"yaxis\":\"y\",\"type\":\"bar\"},{\"alignmentgroup\":\"True\",\"hovertemplate\":\"\\u003cb\\u003e%{hovertext}\\u003c\\u002fb\\u003e\\u003cbr\\u003e\\u003cbr\\u003ereason=%{x}\\u003cbr\\u003ecount=%{y}\\u003cextra\\u003e\\u003c\\u002fextra\\u003e\",\"hovertext\":[\".github\\u002fdependabot.yml\",\".github\\u002fworkflows\\u002fci.yml\",\".github\\u002fworkflows\\u002fpages.yml\",\".github\\u002fworkflows\\u002fpr.yml\",\".github\\u002fworkflows\\u002frelease.yml\",\".gitlab-ci.yml\",\".golangci.yml\",\".goreleaser.yml\",\"CHANGELOG.md\",\"README.md\",\"cmd\\u002fwfx-viewer\\u002fflags.go\",\"cmd\\u002fwfx-viewer\\u002fmain.go\",\"cmd\\u002fwfx\\u002fcmd\\u002froot\\u002fcmd.go\",\"cmd\\u002fwfx\\u002fcmd\\u002froot\\u002fnorthbound.go\",\"cmd\\u002fwfx\\u002fcmd\\u002froot\\u002fsouthbound.go\",\"docs\\u002finstallation.md\",\"generated\\u002fent\\u002fruntime\\u002fruntime.go\",\"go.mod\",\"hugo\\u002fgo.mod\",\"hugo\\u002fpackage-lock.json\",\"hugo\\u002fpackage.json\",\"justfile\",\"shell.nix\"],\"legendgroup\":\"wfx\",\"marker\":{\"color\":\"#FF97FF\",\"pattern\":{\"shape\":\"\"}},\"name\":\"wfx\",\"offsetgroup\":\"wfx\",\"orientation\":\"v\",\"showlegend\":true,\"textposition\":\"auto\",\"x\":[\"wfx\",\"wfx\",\"wfx\",\"wfx\",\"wfx\",\"wfx\",\"wfx\",\"wfx\",\"wfx\",\"wfx\",\"wfx\",\"wfx\",\"wfx\",\"wfx\",\"wfx\",\"wfx\",\"wfx\",\"wfx\",\"wfx\",\"wfx\",\"wfx\",\"wfx\",\"wfx\"],\"xaxis\":\"x\",\"y\":[1,1,1,1,1,1,1,1,1,1,1,1,1,1,1,1,1,1,1,1,1,1,1],\"yaxis\":\"y\",\"type\":\"bar\"},{\"alignmentgroup\":\"True\",\"hovertemplate\":\"\\u003cb\\u003e%{hovertext}\\u003c\\u002fb\\u003e\\u003cbr\\u003e\\u003cbr\\u003ereason=%{x}\\u003cbr\\u003ecount=%{y}\\u003cextra\\u003e\\u003c\\u002fextra\\u003e\",\"hovertext\":[\"README.md\"],\"legendgroup\":\"Initial\",\"marker\":{\"color\":\"#FECB52\",\"pattern\":{\"shape\":\"\"}},\"name\":\"Initial\",\"offsetgroup\":\"Initial\",\"orientation\":\"v\",\"showlegend\":true,\"textposition\":\"auto\",\"x\":[\"Initial\"],\"xaxis\":\"x\",\"y\":[1],\"yaxis\":\"y\",\"type\":\"bar\"}],                        {\"template\":{\"data\":{\"histogram2dcontour\":[{\"type\":\"histogram2dcontour\",\"colorbar\":{\"outlinewidth\":0,\"ticks\":\"\"},\"colorscale\":[[0.0,\"#0d0887\"],[0.1111111111111111,\"#46039f\"],[0.2222222222222222,\"#7201a8\"],[0.3333333333333333,\"#9c179e\"],[0.4444444444444444,\"#bd3786\"],[0.5555555555555556,\"#d8576b\"],[0.6666666666666666,\"#ed7953\"],[0.7777777777777778,\"#fb9f3a\"],[0.8888888888888888,\"#fdca26\"],[1.0,\"#f0f921\"]]}],\"choropleth\":[{\"type\":\"choropleth\",\"colorbar\":{\"outlinewidth\":0,\"ticks\":\"\"}}],\"histogram2d\":[{\"type\":\"histogram2d\",\"colorbar\":{\"outlinewidth\":0,\"ticks\":\"\"},\"colorscale\":[[0.0,\"#0d0887\"],[0.1111111111111111,\"#46039f\"],[0.2222222222222222,\"#7201a8\"],[0.3333333333333333,\"#9c179e\"],[0.4444444444444444,\"#bd3786\"],[0.5555555555555556,\"#d8576b\"],[0.6666666666666666,\"#ed7953\"],[0.7777777777777778,\"#fb9f3a\"],[0.8888888888888888,\"#fdca26\"],[1.0,\"#f0f921\"]]}],\"heatmap\":[{\"type\":\"heatmap\",\"colorbar\":{\"outlinewidth\":0,\"ticks\":\"\"},\"colorscale\":[[0.0,\"#0d0887\"],[0.1111111111111111,\"#46039f\"],[0.2222222222222222,\"#7201a8\"],[0.3333333333333333,\"#9c179e\"],[0.4444444444444444,\"#bd3786\"],[0.5555555555555556,\"#d8576b\"],[0.6666666666666666,\"#ed7953\"],[0.7777777777777778,\"#fb9f3a\"],[0.8888888888888888,\"#fdca26\"],[1.0,\"#f0f921\"]]}],\"heatmapgl\":[{\"type\":\"heatmapgl\",\"colorbar\":{\"outlinewidth\":0,\"ticks\":\"\"},\"colorscale\":[[0.0,\"#0d0887\"],[0.1111111111111111,\"#46039f\"],[0.2222222222222222,\"#7201a8\"],[0.3333333333333333,\"#9c179e\"],[0.4444444444444444,\"#bd3786\"],[0.5555555555555556,\"#d8576b\"],[0.6666666666666666,\"#ed7953\"],[0.7777777777777778,\"#fb9f3a\"],[0.8888888888888888,\"#fdca26\"],[1.0,\"#f0f921\"]]}],\"contourcarpet\":[{\"type\":\"contourcarpet\",\"colorbar\":{\"outlinewidth\":0,\"ticks\":\"\"}}],\"contour\":[{\"type\":\"contour\",\"colorbar\":{\"outlinewidth\":0,\"ticks\":\"\"},\"colorscale\":[[0.0,\"#0d0887\"],[0.1111111111111111,\"#46039f\"],[0.2222222222222222,\"#7201a8\"],[0.3333333333333333,\"#9c179e\"],[0.4444444444444444,\"#bd3786\"],[0.5555555555555556,\"#d8576b\"],[0.6666666666666666,\"#ed7953\"],[0.7777777777777778,\"#fb9f3a\"],[0.8888888888888888,\"#fdca26\"],[1.0,\"#f0f921\"]]}],\"surface\":[{\"type\":\"surface\",\"colorbar\":{\"outlinewidth\":0,\"ticks\":\"\"},\"colorscale\":[[0.0,\"#0d0887\"],[0.1111111111111111,\"#46039f\"],[0.2222222222222222,\"#7201a8\"],[0.3333333333333333,\"#9c179e\"],[0.4444444444444444,\"#bd3786\"],[0.5555555555555556,\"#d8576b\"],[0.6666666666666666,\"#ed7953\"],[0.7777777777777778,\"#fb9f3a\"],[0.8888888888888888,\"#fdca26\"],[1.0,\"#f0f921\"]]}],\"mesh3d\":[{\"type\":\"mesh3d\",\"colorbar\":{\"outlinewidth\":0,\"ticks\":\"\"}}],\"scatter\":[{\"fillpattern\":{\"fillmode\":\"overlay\",\"size\":10,\"solidity\":0.2},\"type\":\"scatter\"}],\"parcoords\":[{\"type\":\"parcoords\",\"line\":{\"colorbar\":{\"outlinewidth\":0,\"ticks\":\"\"}}}],\"scatterpolargl\":[{\"type\":\"scatterpolargl\",\"marker\":{\"colorbar\":{\"outlinewidth\":0,\"ticks\":\"\"}}}],\"bar\":[{\"error_x\":{\"color\":\"#2a3f5f\"},\"error_y\":{\"color\":\"#2a3f5f\"},\"marker\":{\"line\":{\"color\":\"#E5ECF6\",\"width\":0.5},\"pattern\":{\"fillmode\":\"overlay\",\"size\":10,\"solidity\":0.2}},\"type\":\"bar\"}],\"scattergeo\":[{\"type\":\"scattergeo\",\"marker\":{\"colorbar\":{\"outlinewidth\":0,\"ticks\":\"\"}}}],\"scatterpolar\":[{\"type\":\"scatterpolar\",\"marker\":{\"colorbar\":{\"outlinewidth\":0,\"ticks\":\"\"}}}],\"histogram\":[{\"marker\":{\"pattern\":{\"fillmode\":\"overlay\",\"size\":10,\"solidity\":0.2}},\"type\":\"histogram\"}],\"scattergl\":[{\"type\":\"scattergl\",\"marker\":{\"colorbar\":{\"outlinewidth\":0,\"ticks\":\"\"}}}],\"scatter3d\":[{\"type\":\"scatter3d\",\"line\":{\"colorbar\":{\"outlinewidth\":0,\"ticks\":\"\"}},\"marker\":{\"colorbar\":{\"outlinewidth\":0,\"ticks\":\"\"}}}],\"scattermapbox\":[{\"type\":\"scattermapbox\",\"marker\":{\"colorbar\":{\"outlinewidth\":0,\"ticks\":\"\"}}}],\"scatterternary\":[{\"type\":\"scatterternary\",\"marker\":{\"colorbar\":{\"outlinewidth\":0,\"ticks\":\"\"}}}],\"scattercarpet\":[{\"type\":\"scattercarpet\",\"marker\":{\"colorbar\":{\"outlinewidth\":0,\"ticks\":\"\"}}}],\"carpet\":[{\"aaxis\":{\"endlinecolor\":\"#2a3f5f\",\"gridcolor\":\"white\",\"linecolor\":\"white\",\"minorgridcolor\":\"white\",\"startlinecolor\":\"#2a3f5f\"},\"baxis\":{\"endlinecolor\":\"#2a3f5f\",\"gridcolor\":\"white\",\"linecolor\":\"white\",\"minorgridcolor\":\"white\",\"startlinecolor\":\"#2a3f5f\"},\"type\":\"carpet\"}],\"table\":[{\"cells\":{\"fill\":{\"color\":\"#EBF0F8\"},\"line\":{\"color\":\"white\"}},\"header\":{\"fill\":{\"color\":\"#C8D4E3\"},\"line\":{\"color\":\"white\"}},\"type\":\"table\"}],\"barpolar\":[{\"marker\":{\"line\":{\"color\":\"#E5ECF6\",\"width\":0.5},\"pattern\":{\"fillmode\":\"overlay\",\"size\":10,\"solidity\":0.2}},\"type\":\"barpolar\"}],\"pie\":[{\"automargin\":true,\"type\":\"pie\"}]},\"layout\":{\"autotypenumbers\":\"strict\",\"colorway\":[\"#636efa\",\"#EF553B\",\"#00cc96\",\"#ab63fa\",\"#FFA15A\",\"#19d3f3\",\"#FF6692\",\"#B6E880\",\"#FF97FF\",\"#FECB52\"],\"font\":{\"color\":\"#2a3f5f\"},\"hovermode\":\"closest\",\"hoverlabel\":{\"align\":\"left\"},\"paper_bgcolor\":\"white\",\"plot_bgcolor\":\"#E5ECF6\",\"polar\":{\"bgcolor\":\"#E5ECF6\",\"angularaxis\":{\"gridcolor\":\"white\",\"linecolor\":\"white\",\"ticks\":\"\"},\"radialaxis\":{\"gridcolor\":\"white\",\"linecolor\":\"white\",\"ticks\":\"\"}},\"ternary\":{\"bgcolor\":\"#E5ECF6\",\"aaxis\":{\"gridcolor\":\"white\",\"linecolor\":\"white\",\"ticks\":\"\"},\"baxis\":{\"gridcolor\":\"white\",\"linecolor\":\"white\",\"ticks\":\"\"},\"caxis\":{\"gridcolor\":\"white\",\"linecolor\":\"white\",\"ticks\":\"\"}},\"coloraxis\":{\"colorbar\":{\"outlinewidth\":0,\"ticks\":\"\"}},\"colorscale\":{\"sequential\":[[0.0,\"#0d0887\"],[0.1111111111111111,\"#46039f\"],[0.2222222222222222,\"#7201a8\"],[0.3333333333333333,\"#9c179e\"],[0.4444444444444444,\"#bd3786\"],[0.5555555555555556,\"#d8576b\"],[0.6666666666666666,\"#ed7953\"],[0.7777777777777778,\"#fb9f3a\"],[0.8888888888888888,\"#fdca26\"],[1.0,\"#f0f921\"]],\"sequentialminus\":[[0.0,\"#0d0887\"],[0.1111111111111111,\"#46039f\"],[0.2222222222222222,\"#7201a8\"],[0.3333333333333333,\"#9c179e\"],[0.4444444444444444,\"#bd3786\"],[0.5555555555555556,\"#d8576b\"],[0.6666666666666666,\"#ed7953\"],[0.7777777777777778,\"#fb9f3a\"],[0.8888888888888888,\"#fdca26\"],[1.0,\"#f0f921\"]],\"diverging\":[[0,\"#8e0152\"],[0.1,\"#c51b7d\"],[0.2,\"#de77ae\"],[0.3,\"#f1b6da\"],[0.4,\"#fde0ef\"],[0.5,\"#f7f7f7\"],[0.6,\"#e6f5d0\"],[0.7,\"#b8e186\"],[0.8,\"#7fbc41\"],[0.9,\"#4d9221\"],[1,\"#276419\"]]},\"xaxis\":{\"gridcolor\":\"white\",\"linecolor\":\"white\",\"ticks\":\"\",\"title\":{\"standoff\":15},\"zerolinecolor\":\"white\",\"automargin\":true,\"zerolinewidth\":2},\"yaxis\":{\"gridcolor\":\"white\",\"linecolor\":\"white\",\"ticks\":\"\",\"title\":{\"standoff\":15},\"zerolinecolor\":\"white\",\"automargin\":true,\"zerolinewidth\":2},\"scene\":{\"xaxis\":{\"backgroundcolor\":\"#E5ECF6\",\"gridcolor\":\"white\",\"linecolor\":\"white\",\"showbackground\":true,\"ticks\":\"\",\"zerolinecolor\":\"white\",\"gridwidth\":2},\"yaxis\":{\"backgroundcolor\":\"#E5ECF6\",\"gridcolor\":\"white\",\"linecolor\":\"white\",\"showbackground\":true,\"ticks\":\"\",\"zerolinecolor\":\"white\",\"gridwidth\":2},\"zaxis\":{\"backgroundcolor\":\"#E5ECF6\",\"gridcolor\":\"white\",\"linecolor\":\"white\",\"showbackground\":true,\"ticks\":\"\",\"zerolinecolor\":\"white\",\"gridwidth\":2}},\"shapedefaults\":{\"line\":{\"color\":\"#2a3f5f\"}},\"annotationdefaults\":{\"arrowcolor\":\"#2a3f5f\",\"arrowhead\":0,\"arrowwidth\":1},\"geo\":{\"bgcolor\":\"white\",\"landcolor\":\"#E5ECF6\",\"subunitcolor\":\"white\",\"showland\":true,\"showlakes\":true,\"lakecolor\":\"white\"},\"title\":{\"x\":0.05},\"mapbox\":{\"style\":\"light\"}}},\"xaxis\":{\"anchor\":\"y\",\"domain\":[0.0,1.0],\"title\":{\"text\":\"reason\"},\"categoryorder\":\"array\",\"categoryarray\":[\"fix\",\"chore\",\"ci\",\"feat\",\"test\",\"refactor\",\"docs\",\"style\",\"wfx\",\"Initial\"]},\"yaxis\":{\"anchor\":\"x\",\"domain\":[0.0,1.0],\"title\":{\"text\":\"count\"}},\"legend\":{\"title\":{\"text\":\"reason\"},\"tracegroupgap\":0},\"margin\":{\"t\":60},\"barmode\":\"relative\",\"height\":500},                        {\"responsive\": true}                    ).then(function(){\n                            \nvar gd = document.getElementById('582faade-09b3-44a0-b5b9-adad7961d44a');\nvar x = new MutationObserver(function (mutations, observer) {{\n        var display = window.getComputedStyle(gd).display;\n        if (!display || display === 'none') {{\n            console.log([gd, 'removed!']);\n            Plotly.purge(gd);\n            observer.disconnect();\n        }}\n}});\n\n// Listen for the removal of the full notebook cells\nvar notebookContainer = gd.closest('#notebook-container');\nif (notebookContainer) {{\n    x.observe(notebookContainer, {childList: true});\n}}\n\n// Listen for the clearing of the current output cell\nvar outputEl = gd.closest('.output');\nif (outputEl) {{\n    x.observe(outputEl, {childList: true});\n}}\n\n                        })                };                });            </script>        </div>"
     },
     "metadata": {},
     "output_type": "display_data"
    }
   ],
   "source": [
    "figure = px.bar(df, x=\"reason\", y=\"count\", color=\"reason\", hover_name=\"file\", height=500)\n",
    "figure.show()"
   ],
   "metadata": {
    "collapsed": false,
    "ExecuteTime": {
     "end_time": "2024-08-12T18:29:52.117411Z",
     "start_time": "2024-08-12T18:29:52.003852Z"
    }
   },
   "id": "59596c5e0058faf7",
   "execution_count": 73
  }
 ],
 "metadata": {
  "kernelspec": {
   "display_name": "miner-kernel",
   "language": "python",
   "name": "miner-kernel"
  },
  "language_info": {
   "codemirror_mode": {
    "name": "ipython",
    "version": 3
   },
   "file_extension": ".py",
   "mimetype": "text/x-python",
   "name": "python",
   "nbconvert_exporter": "python",
   "pygments_lexer": "ipython3",
   "version": "3.11.9"
  }
 },
 "nbformat": 4,
 "nbformat_minor": 5
}
