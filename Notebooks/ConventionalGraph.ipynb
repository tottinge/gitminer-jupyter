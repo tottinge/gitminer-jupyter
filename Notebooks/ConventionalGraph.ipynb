{
 "cells": [
  {
   "cell_type": "code",
   "execution_count": null,
   "id": "6869fafd-76d9-4603-9125-65be07fd4cb3",
   "metadata": {},
   "outputs": [],
   "source": [
    "import re\n",
    "from collections import Counter\n",
    "from datetime import datetime, timedelta\n",
    "\n",
    "import git\n",
    "import pandas as pd\n",
    "import plotly.express as px\n",
    "\n",
    "categories = {\"build\", \"chore\", \"ci\", \"docs\", \"feat\", \"fix\", \"merge\", \"perf\", \"refactor\", \"revert\", \"style\", \"test\"}"
   ]
  },
  {
   "cell_type": "code",
   "execution_count": null,
   "id": "30d3b19c-ff85-4d96-97c8-208dcb2a7b16",
   "metadata": {},
   "outputs": [],
   "source": [
    "wfx = \"/Users/timottinger/Projects/siemens-wfx\"\n",
    "goreleaser = \"/Users/timottinger/Projects/goreleaser\"\n",
    "repo = git.Repo(goreleaser)\n"
   ]
  },
  {
   "cell_type": "code",
   "execution_count": null,
   "id": "28bcc83f-be2d-4013-b9d7-94471a3c30f3",
   "metadata": {},
   "outputs": [],
   "source": [
    "\n",
    "conventional_commit_match_pattern = re.compile(r'^(\\w+)[\\!\\(:]')\n",
    "for text in [\"feat(this):\", \"feat:\", \"doc(readme): blah\", \"fix(that)!: cozectify the flimble\"]:\n",
    "    print(conventional_commit_match_pattern.search(text).group(1))"
   ]
  },
  {
   "cell_type": "code",
   "outputs": [],
   "source": [
    "exclusions = {\"go.mod\", \"go.sum\", \"Makefile\", \"makefile\"}"
   ],
   "metadata": {
    "collapsed": false
   },
   "id": "133af1463af56595",
   "execution_count": null
  },
  {
   "cell_type": "code",
   "execution_count": null,
   "id": "cecab7f1a7cc7169",
   "metadata": {
    "collapsed": false
   },
   "outputs": [],
   "source": [
    "start = datetime.now().astimezone() - timedelta(weeks=52)"
   ]
  },
  {
   "cell_type": "code",
   "outputs": [],
   "source": [
    "\n",
    "counter = Counter()\n",
    "for commit in repo.iter_commits():\n",
    "    if commit.committed_datetime < start:\n",
    "        continue\n",
    "    match = conventional_commit_match_pattern.match(commit.message)\n",
    "    intent = \"unknown\"\n",
    "    if match and match.group(1) in categories:\n",
    "        intent = match.group(1)\n",
    "    for filename in commit.stats.files.keys():\n",
    "        if filename in exclusions:\n",
    "            continue\n",
    "        counter[(filename, intent)] += 1\n",
    "\n",
    "counter"
   ],
   "metadata": {},
   "id": "42c65157-35fa-4f32-a057-4ebf703587cf",
   "execution_count": null
  },
  {
   "cell_type": "code",
   "execution_count": null,
   "id": "20ab1f8b-ea77-46fa-acc9-b6fc78763d4f",
   "metadata": {},
   "outputs": [],
   "source": [
    "counter.most_common()"
   ]
  },
  {
   "cell_type": "code",
   "execution_count": null,
   "id": "8df51897a0ba5522",
   "metadata": {
    "collapsed": false
   },
   "outputs": [],
   "source": [
    "most_changed_counter = Counter()\n",
    "for (filename, _), count in counter.items():\n",
    "    most_changed_counter[filename] += count\n",
    "file_set = {file for file, reason in most_changed_counter.most_common(30)}\n",
    "file_set"
   ]
  },
  {
   "cell_type": "code",
   "execution_count": null,
   "id": "ad2d9bd4-e907-4942-85bb-a722bbd303a7",
   "metadata": {},
   "outputs": [],
   "source": [
    "data_source = [\n",
    "    (filename, reason, value)\n",
    "    for ((filename, reason), value) in counter.items()\n",
    "    if filename in file_set\n",
    "]\n",
    "data_source"
   ]
  },
  {
   "cell_type": "code",
   "execution_count": null,
   "id": "8b689f85-73fa-470c-b1e2-1a70d7656d3d",
   "metadata": {},
   "outputs": [],
   "source": [
    "df = pd.DataFrame(data_source, columns=[\"file\", \"reason\", \"count\"])\n",
    "df"
   ]
  },
  {
   "cell_type": "code",
   "outputs": [],
   "source": [
    "\n",
    "\n",
    "sorted(df['reason'].unique())"
   ],
   "metadata": {
    "collapsed": false
   },
   "id": "363f3a65cf53b0b6",
   "execution_count": null
  },
  {
   "cell_type": "code",
   "execution_count": null,
   "id": "f8a663e1-fb22-458c-9008-53007e7b92d7",
   "metadata": {},
   "outputs": [],
   "source": [
    "color_choices = {\n",
    "    \"feat\": \"rgb(141,211,199)\",\n",
    "    \"ci\": \"rgb(255,255,179)\",\n",
    "    \"fix\": \"rgb(251,128,114)\",\n",
    "    \"chore\": \"rgb(190,186,218)\",\n",
    "    \"build\": \"rgb(128,177,211)\",\n",
    "    \"docs\": \"rgb(253,180,98)\",\n",
    "    \"test\": \"rgb(179,222,105)\",\n",
    "    \"refactor\": \"rgb(252,205,229)\",\n",
    "    \"unknown\": \"rgb(188,128,189)\",\n",
    "}\n",
    "figure = px.bar(df, x=\"file\", y=\"count\", color=\"reason\", width=1200, height=700,\n",
    "                color_discrete_map=color_choices)\n",
    "figure.show()"
   ]
  },
  {
   "cell_type": "code",
   "outputs": [],
   "source": [
    "figure = px.bar(df,\n",
    "                x=\"reason\", y=\"count\",\n",
    "                color=\"reason\",\n",
    "                color_discrete_map=color_choices,\n",
    "                hover_name=\"file\",\n",
    "                height=500\n",
    "                )\n",
    "figure.show()"
   ],
   "metadata": {
    "collapsed": false
   },
   "id": "59596c5e0058faf7",
   "execution_count": null
  }
 ],
 "metadata": {
  "kernelspec": {
   "display_name": "miner-kernel",
   "language": "python",
   "name": "miner-kernel"
  },
  "language_info": {
   "codemirror_mode": {
    "name": "ipython",
    "version": 3
   },
   "file_extension": ".py",
   "mimetype": "text/x-python",
   "name": "python",
   "nbconvert_exporter": "python",
   "pygments_lexer": "ipython3",
   "version": "3.11.9"
  }
 },
 "nbformat": 4,
 "nbformat_minor": 5
}
