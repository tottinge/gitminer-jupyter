{
 "cells": [
  {
   "cell_type": "code",
   "execution_count": 7,
   "id": "6d0d1047-6266-43a7-ae7d-cea0e7082c1b",
   "metadata": {
    "tags": []
   },
   "outputs": [],
   "source": [
    "import datetime\n",
    "from itertools import combinations\n",
    "from typing import NamedTuple\n",
    "from matplotlib import pyplot as plot\n",
    "from git import Repo\n",
    "import networkx as nx\n",
    "from pprint import pprint\n"
   ]
  },
  {
   "cell_type": "code",
   "execution_count": 8,
   "id": "ef4b2c0b-b7f0-46bc-9988-d69f85cc8e5c",
   "metadata": {},
   "outputs": [],
   "source": [
    "repo = Repo(\"../quizzology\")"
   ]
  },
  {
   "cell_type": "code",
   "execution_count": 9,
   "id": "2bbb9d4e-34ee-486e-9d25-ec14ba913d88",
   "metadata": {
    "tags": []
   },
   "outputs": [],
   "source": [
    "repo_graph = nx.Graph()\n",
    "for commit in repo.iter_commits():\n",
    "    for (left,right) in combinations(commit.stats.files,2):\n",
    "        if (left,right) in repo_graph.edges:\n",
    "            data = repo_graph.get_edge_data(left,right)\n",
    "            data['count'] = data.get('count',1) + 1\n",
    "        else:\n",
    "            repo_graph.add_edge(left,right)\n"
   ]
  },
  {
   "cell_type": "code",
   "execution_count": 10,
   "id": "446c2b47-3545-493d-9759-e42bd662fc33",
   "metadata": {
    "tags": []
   },
   "outputs": [
    {
     "data": {
      "image/png": "[encoded data removed]",
      "text/plain": [
       "<Figure size 640x480 with 1 Axes>"
      ]
     },
     "metadata": {},
     "output_type": "display_data"
    }
   ],
   "source": [
    "# Create a plot \n",
    "\n",
    "x = [5, 2, 9, 4, 7]\n",
    "y = [10, 5, 8, 4, 2]\n",
    "plot.plot(x, y)\n",
    "plot.show()"
   ]
  },
  {
   "cell_type": "code",
   "execution_count": 11,
   "id": "c485d55a-de95-4d59-9a12-79a64d28aceb",
   "metadata": {
    "tags": []
   },
   "outputs": [],
   "source": [
    "# Draw a network plot of some kind\n",
    "\n",
    "# graph = nx.petersen_graph() # well known sample data \n",
    "# subax = plot.subplot(121)\n",
    "# nx.draw(graph)\n",
    "\n",
    "# repo_plot = plot.subplot(122)\n",
    "# nx.draw(repo_graph, with_labels=True)\n",
    "\n"
   ]
  },
  {
   "cell_type": "code",
   "execution_count": 12,
   "id": "db55842a",
   "metadata": {},
   "outputs": [
    {
     "name": "stdout",
     "output_type": "stream",
     "text": [
      "[{'.dockerignore',\n",
      "  '.github/workflows/quizzology-ci.yml',\n",
      "  '.gitignore',\n",
      "  '.pylintrc',\n",
      "  'Dockerfile',\n",
      "  'README.md',\n",
      "  'TestDockerfile',\n",
      "  'apps/__init__.py',\n",
      "  'apps/author.py',\n",
      "  'apps/author/__init__.py',\n",
      "  'apps/author/author.py',\n",
      "  'apps/author/author_controller.py',\n",
      "  'apps/author/tests/__init__.py',\n",
      "  'apps/author/tests/test_authorcontroller.py',\n",
      "  'apps/author/tests/test_controller.py',\n",
      "  'apps/author/tests/test_quiz_authoring_form.py',\n",
      "  'apps/author/tests/test_quiz_schema.py',\n",
      "  'apps/author/views/quiz_author_home.tpl',\n",
      "  'apps/author/views/quiz_authoring_form.tpl',\n",
      "  'apps/authoring/__init__.py',\n",
      "  'apps/authoring/author.py',\n",
      "  'apps/authoring/views/quiz_authoring_form.tpl',\n",
      "  'apps/study.py',\n",
      "  'apps/study/__init__.py',\n",
      "  'apps/study/session_store.py',\n",
      "  'apps/study/session_store_mongodb.py',\n",
      "  'apps/study/session_store_tinydb.py',\n",
      "  'apps/study/study.py',\n",
      "  'apps/study/studycontroller.py',\n",
      "  'apps/study/tests/__init__.py',\n",
      "  'apps/study/tests/test_quiz_question.py',\n",
      "  'apps/study/tests/test_quiz_rendering.py',\n",
      "  'apps/study/tests/test_quiz_selection.py',\n",
      "  'apps/study/tests/test_quiz_session.py',\n",
      "  'apps/study/tests/test_routes.py',\n",
      "  'apps/study/tests/test_session_store_mongo.py',\n",
      "  'apps/study/tests/test_webtest.py',\n",
      "  'apps/study/views/quiz_judgment.tpl',\n",
      "  'apps/study/views/quiz_question.tpl',\n",
      "  'apps/study/views/quiz_selection.tpl',\n",
      "  'apps/study/views/sub_progress.tpl',\n",
      "  'apps/studying/__init__.py',\n",
      "  'apps/studying/study.py',\n",
      "  'apps/studying/views/quiz_judgment.tpl',\n",
      "  'apps/studying/views/quiz_question.tpl',\n",
      "  'apps/studying/views/quiz_selection.tpl',\n",
      "  'apps/studying/views/sub_progress.tpl',\n",
      "  'behave-report.html',\n",
      "  'behave.ini',\n",
      "  'devtools.txt',\n",
      "  'features/AnswerQuestions.feature',\n",
      "  'features/Authenticate/AuthenticateUser.feature',\n",
      "  'features/Author/AddNewQuiz.feature',\n",
      "  'features/Author/EditQuiz.feature',\n",
      "  'features/Authoring/AddNewQuiz.feature',\n",
      "  'features/Authoring/EditQuiz.feature',\n",
      "  'features/Authoring/steps/AddNewQuiz.py',\n",
      "  'features/BasicQuizOperations.feature',\n",
      "  'features/Learning/StudentAnswerQuestion.feature',\n",
      "  'features/Learning/StudentInitiatesQuiz.feature',\n",
      "  'features/PyCharmWorkaround.feature',\n",
      "  'features/Research/StudentResearchesQuestion.feature',\n",
      "  'features/StudentAnswerQuestion.feature',\n",
      "  'features/StudentInitiatesQuiz.feature',\n",
      "  'features/StudentResearchesQuestion.feature',\n",
      "  'features/Study/StudentAnswerQuestion.feature',\n",
      "  'features/Study/StudentInitiatesQuiz.feature',\n",
      "  'features/environment.py',\n",
      "  'features/steps/AddNewQuiz.py',\n",
      "  'features/steps/AuthenticateUser.py',\n",
      "  'features/steps/BasicQuizOperations.py',\n",
      "  'features/steps/EditQuiz.py',\n",
      "  'features/steps/authenticate_user.py',\n",
      "  'features/steps/edit_quiz.py',\n",
      "  'features/steps/tutorial.py',\n",
      "  'features/tutorial.feature',\n",
      "  'main.py',\n",
      "  'prepare',\n",
      "  'question.py',\n",
      "  'quiz.py',\n",
      "  'quiz_content/cats.json',\n",
      "  'quiz_content/html-beginners.json',\n",
      "  'quiz_content/html.json',\n",
      "  'quiz_content/quiz_doc.json',\n",
      "  'quiz_content/simple_html.json',\n",
      "  'quiz_doc.txt',\n",
      "  'quiz_store.py',\n",
      "  'quizzes/__init__.py',\n",
      "  'quizzes/cats.json',\n",
      "  'quizzes/question.py',\n",
      "  'quizzes/quiz.py',\n",
      "  'quizzes/quiz_doc.json',\n",
      "  'quizzes/quiz_doc.txt',\n",
      "  'quizzes/quiz_file_store.py',\n",
      "  'quizzes/quiz_store.py',\n",
      "  'quizzes/quiz_store_file.py',\n",
      "  'quizzes/quiz_store_mongo.py',\n",
      "  'quizzes/simple_html.json',\n",
      "  'quizzes/tests/__init__.py',\n",
      "  'quizzes/tests/test_filename_generation.py',\n",
      "  'quizzes/tests/test_quiz_selection.py',\n",
      "  'quizzes/tests/test_quiz_store.py',\n",
      "  'quizzes/tests/test_quiz_store_file.py',\n",
      "  'quizzes/tests/test_quiz_store_mongo.py',\n",
      "  'quizzology.py',\n",
      "  'requirements.txt',\n",
      "  'runtime.txt',\n",
      "  'scanme',\n",
      "  'security/__init__.py',\n",
      "  'security/authn.py',\n",
      "  'security/authz.py',\n",
      "  'security/register.json',\n",
      "  'security/roles.json',\n",
      "  'security/tests/__init__.py',\n",
      "  'security/tests/test_authn.py',\n",
      "  'security/tests/test_authz.py',\n",
      "  'security/tests/test_login_page_rendering.py',\n",
      "  'security/users.json',\n",
      "  'session_scratch.py',\n",
      "  'session_store.py',\n",
      "  'sessions/__init__.py',\n",
      "  'sessions/session_id.py',\n",
      "  'sessions/session_store.py',\n",
      "  'sessions/tests/__init__.py',\n",
      "  'sessions/tests/test_quiz_session_store.py',\n",
      "  'sessions/tests/test_quiz_session_store_tinydb.py',\n",
      "  'sessions/tests/test_session_cookie_handling.py',\n",
      "  'setup.cfg',\n",
      "  'shared/UserStore_Mongo.py',\n",
      "  'shared/__init__.py',\n",
      "  'shared/mongo_connection.py',\n",
      "  'shared/quizzology.py',\n",
      "  'shared/user.py',\n",
      "  'shared/user_store.py',\n",
      "  'shared/user_store_file.py',\n",
      "  'shared/user_store_mongo.py',\n",
      "  'static/favicon.ico',\n",
      "  'static/images/html5.png',\n",
      "  'static/images/joker.png',\n",
      "  'static/images/kitten.jpeg',\n",
      "  'static/quiz_schema.json',\n",
      "  'static/quizzology.css',\n",
      "  'studycontroller.py',\n",
      "  'test_enabler.py',\n",
      "  'test_me.py',\n",
      "  'test_quiz_question.py',\n",
      "  'test_quiz_rendering.py',\n",
      "  'test_quiz_selection.py',\n",
      "  'test_quiz_session.py',\n",
      "  'test_quiz_session_store.py',\n",
      "  'test_quiz_store.py',\n",
      "  'test_security_scratch.py',\n",
      "  'test_session_cookie_handling.py',\n",
      "  'test_ui.py',\n",
      "  'tests/__init__.py',\n",
      "  'tests/test_filename_generation.py',\n",
      "  'tests/test_quiz_authoring_form.py',\n",
      "  'tests/test_quiz_question.py',\n",
      "  'tests/test_quiz_rendering.py',\n",
      "  'tests/test_quiz_selection.py',\n",
      "  'tests/test_quiz_session.py',\n",
      "  'tests/test_quiz_session_store.py',\n",
      "  'tests/test_quiz_store.py',\n",
      "  'tests/test_session_cookie_handling.py',\n",
      "  'tests/test_webtest.py',\n",
      "  'tests/ui_tests/__init__.py',\n",
      "  'tests/ui_tests/ui_base_url.py',\n",
      "  'ui_tests/__init__.py',\n",
      "  'ui_tests/helpers.py',\n",
      "  'ui_tests/test_base_url.py',\n",
      "  'ui_tests/test_navigation.py',\n",
      "  'views/login.tpl',\n",
      "  'views/main_quiz.tpl',\n",
      "  'views/quiz_authoring_form.tpl',\n",
      "  'views/quiz_choice.tpl',\n",
      "  'views/quiz_judgment.jinja',\n",
      "  'views/quiz_judgment.tpl',\n",
      "  'views/quiz_question.tpl',\n",
      "  'views/quiz_selection.tpl',\n",
      "  'views/session_progress.tpl',\n",
      "  'views/skeleton.tpl',\n",
      "  'views/sub_progress.tpl',\n",
      "  'webdrivers/chromedriver',\n",
      "  'webdrivers/darwin/chromedriver'},\n",
      " {'static/images/kitten.png', 'static/images/plus-sign.png'},\n",
      " {'static/images/quizzical_cat.jpeg', 'static/quizzical_cat.jpeg'}]\n"
     ]
    }
   ],
   "source": [
    "\n",
    "pprint(list(nx.connected_components(repo_graph)))\n"
   ]
  },
  {
   "cell_type": "code",
   "execution_count": 31,
   "id": "fff34a7d-fefd-49e9-8339-2db14210450c",
   "metadata": {},
   "outputs": [
    {
     "ename": "NameError",
     "evalue": "name 'repograph' is not defined",
     "output_type": "error",
     "traceback": [
      "\u001b[0;31m---------------------------------------------------------------------------\u001b[0m",
      "\u001b[0;31mNameError\u001b[0m                                 Traceback (most recent call last)",
      "Cell \u001b[0;32mIn[31], line 10\u001b[0m\n\u001b[1;32m      4\u001b[0m busiest_graph \u001b[38;5;241m=\u001b[39m nx\u001b[38;5;241m.\u001b[39mGraph()\n\u001b[1;32m      5\u001b[0m \u001b[38;5;66;03m# for (l,r) in repo_graph.edges:\u001b[39;00m\n\u001b[1;32m      6\u001b[0m \u001b[38;5;66;03m#     data = repo_graph.get_edge_data(l,r)\u001b[39;00m\n\u001b[1;32m      7\u001b[0m \u001b[38;5;66;03m#     ordinal = data.get('count',0)\u001b[39;00m\n\u001b[1;32m      8\u001b[0m \u001b[38;5;66;03m#     if ordinal > 7:\u001b[39;00m\n\u001b[1;32m      9\u001b[0m \u001b[38;5;66;03m#         busiest_graph.add_edge(l,r)\u001b[39;00m\n\u001b[0;32m---> 10\u001b[0m \u001b[43mbusiest_graph\u001b[49m\u001b[38;5;241;43m.\u001b[39;49m\u001b[43madd_edges_from\u001b[49m\u001b[43m(\u001b[49m\u001b[43medge\u001b[49m\u001b[43m \u001b[49m\u001b[38;5;28;43;01mfor\u001b[39;49;00m\u001b[43m \u001b[49m\u001b[43medge\u001b[49m\u001b[43m \u001b[49m\u001b[38;5;129;43;01min\u001b[39;49;00m\u001b[43m \u001b[49m\u001b[43mrepo_graph\u001b[49m\u001b[38;5;241;43m.\u001b[39;49m\u001b[43medges\u001b[49m\u001b[43m \u001b[49m\u001b[38;5;28;43;01mif\u001b[39;49;00m\u001b[43m \u001b[49m\u001b[43mrepograph\u001b[49m\u001b[38;5;241;43m.\u001b[39;49m\u001b[43mget_edge_data\u001b[49m\u001b[43m(\u001b[49m\u001b[38;5;241;43m*\u001b[39;49m\u001b[43medge\u001b[49m\u001b[43m)\u001b[49m\u001b[38;5;241;43m.\u001b[39;49m\u001b[43mget\u001b[49m\u001b[43m(\u001b[49m\u001b[38;5;124;43m'\u001b[39;49m\u001b[38;5;124;43mcount\u001b[39;49m\u001b[38;5;124;43m'\u001b[39;49m\u001b[43m,\u001b[49m\u001b[38;5;241;43m0\u001b[39;49m\u001b[43m)\u001b[49m\u001b[43m \u001b[49m\u001b[38;5;241;43m>\u001b[39;49m\u001b[43m \u001b[49m\u001b[38;5;241;43m2\u001b[39;49m\u001b[43m)\u001b[49m\n\u001b[1;32m     11\u001b[0m \u001b[38;5;28;01mfrom\u001b[39;00m \u001b[38;5;21;01mnetworkx\u001b[39;00m \u001b[38;5;28;01mimport\u001b[39;00m spring_layout \n\u001b[1;32m     12\u001b[0m layout\u001b[38;5;241m=\u001b[39m spring_layout(busiest_graph, k\u001b[38;5;241m=\u001b[39m\u001b[38;5;241m0.8\u001b[39m, iterations\u001b[38;5;241m=\u001b[39m\u001b[38;5;241m50\u001b[39m)\n",
      "File \u001b[0;32m~/Projects/gitminer-jupyter/venv/lib/python3.11/site-packages/networkx/classes/graph.py:1016\u001b[0m, in \u001b[0;36mGraph.add_edges_from\u001b[0;34m(self, ebunch_to_add, **attr)\u001b[0m\n\u001b[1;32m    961\u001b[0m \u001b[38;5;28;01mdef\u001b[39;00m \u001b[38;5;21madd_edges_from\u001b[39m(\u001b[38;5;28mself\u001b[39m, ebunch_to_add, \u001b[38;5;241m*\u001b[39m\u001b[38;5;241m*\u001b[39mattr):\n\u001b[1;32m    962\u001b[0m \u001b[38;5;250m    \u001b[39m\u001b[38;5;124;03m\"\"\"Add all the edges in ebunch_to_add.\u001b[39;00m\n\u001b[1;32m    963\u001b[0m \n\u001b[1;32m    964\u001b[0m \u001b[38;5;124;03m    Parameters\u001b[39;00m\n\u001b[0;32m   (...)\u001b[0m\n\u001b[1;32m   1014\u001b[0m \u001b[38;5;124;03m    >>> G.add_edges_from(list((5, n) for n in G.nodes))\u001b[39;00m\n\u001b[1;32m   1015\u001b[0m \u001b[38;5;124;03m    \"\"\"\u001b[39;00m\n\u001b[0;32m-> 1016\u001b[0m     \u001b[38;5;28;01mfor\u001b[39;00m e \u001b[38;5;129;01min\u001b[39;00m ebunch_to_add:\n\u001b[1;32m   1017\u001b[0m         ne \u001b[38;5;241m=\u001b[39m \u001b[38;5;28mlen\u001b[39m(e)\n\u001b[1;32m   1018\u001b[0m         \u001b[38;5;28;01mif\u001b[39;00m ne \u001b[38;5;241m==\u001b[39m \u001b[38;5;241m3\u001b[39m:\n",
      "Cell \u001b[0;32mIn[31], line 10\u001b[0m, in \u001b[0;36m<genexpr>\u001b[0;34m(.0)\u001b[0m\n\u001b[1;32m      4\u001b[0m busiest_graph \u001b[38;5;241m=\u001b[39m nx\u001b[38;5;241m.\u001b[39mGraph()\n\u001b[1;32m      5\u001b[0m \u001b[38;5;66;03m# for (l,r) in repo_graph.edges:\u001b[39;00m\n\u001b[1;32m      6\u001b[0m \u001b[38;5;66;03m#     data = repo_graph.get_edge_data(l,r)\u001b[39;00m\n\u001b[1;32m      7\u001b[0m \u001b[38;5;66;03m#     ordinal = data.get('count',0)\u001b[39;00m\n\u001b[1;32m      8\u001b[0m \u001b[38;5;66;03m#     if ordinal > 7:\u001b[39;00m\n\u001b[1;32m      9\u001b[0m \u001b[38;5;66;03m#         busiest_graph.add_edge(l,r)\u001b[39;00m\n\u001b[0;32m---> 10\u001b[0m busiest_graph\u001b[38;5;241m.\u001b[39madd_edges_from(edge \u001b[38;5;28;01mfor\u001b[39;00m edge \u001b[38;5;129;01min\u001b[39;00m repo_graph\u001b[38;5;241m.\u001b[39medges \u001b[38;5;28;01mif\u001b[39;00m \u001b[43mrepograph\u001b[49m\u001b[38;5;241m.\u001b[39mget_edge_data(\u001b[38;5;241m*\u001b[39medge)\u001b[38;5;241m.\u001b[39mget(\u001b[38;5;124m'\u001b[39m\u001b[38;5;124mcount\u001b[39m\u001b[38;5;124m'\u001b[39m,\u001b[38;5;241m0\u001b[39m) \u001b[38;5;241m>\u001b[39m \u001b[38;5;241m2\u001b[39m)\n\u001b[1;32m     11\u001b[0m \u001b[38;5;28;01mfrom\u001b[39;00m \u001b[38;5;21;01mnetworkx\u001b[39;00m \u001b[38;5;28;01mimport\u001b[39;00m spring_layout \n\u001b[1;32m     12\u001b[0m layout\u001b[38;5;241m=\u001b[39m spring_layout(busiest_graph, k\u001b[38;5;241m=\u001b[39m\u001b[38;5;241m0.8\u001b[39m, iterations\u001b[38;5;241m=\u001b[39m\u001b[38;5;241m50\u001b[39m)\n",
      "\u001b[0;31mNameError\u001b[0m: name 'repograph' is not defined"
     ]
    }
   ],
   "source": [
    "# Perhaps we should trim the data set so that we don't plot every single \n",
    "# edge and node in one ugly graph.\n",
    "\n",
    "busiest_graph = nx.Graph()\n",
    "# for (l,r) in repo_graph.edges:\n",
    "#     data = repo_graph.get_edge_data(l,r)\n",
    "#     ordinal = data.get('count',0)\n",
    "#     if ordinal > 7:\n",
    "#         busiest_graph.add_edge(l,r)\n",
    "busiest_graph.add_edges_from(edge \n",
    "                             for edge in repo_graph.edges \n",
    "                             if repo_graph.get_edge_data(*edge).get('count',0) > 2)\n",
    "from networkx import spring_layout \n",
    "layout= spring_layout(busiest_graph, k=0.8, iterations=50)\n",
    "\n",
    "nx.draw(busiest_graph, layout, with_labels=True, font_size=7, node_size=50)\n",
    "\n",
    "\n",
    "    \n",
    "    "
   ]
  },
  {
   "cell_type": "code",
   "execution_count": 14,
   "id": "b1cfe45a",
   "metadata": {
    "tags": []
   },
   "outputs": [
    {
     "name": "stdout",
     "output_type": "stream",
     "text": [
      "Help on function draw in module networkx.drawing.nx_pylab:\n",
      "\n",
      "draw(G, pos=None, ax=None, **kwds)\n",
      "    Draw the graph G with Matplotlib.\n",
      "    \n",
      "    Draw the graph as a simple representation with no node\n",
      "    labels or edge labels and using the full Matplotlib figure area\n",
      "    and no axis labels by default.  See draw_networkx() for more\n",
      "    full-featured drawing that allows title, axis labels etc.\n",
      "    \n",
      "    Parameters\n",
      "    ----------\n",
      "    G : graph\n",
      "        A networkx graph\n",
      "    \n",
      "    pos : dictionary, optional\n",
      "        A dictionary with nodes as keys and positions as values.\n",
      "        If not specified a spring layout positioning will be computed.\n",
      "        See :py:mod:`networkx.drawing.layout` for functions that\n",
      "        compute node positions.\n",
      "    \n",
      "    ax : Matplotlib Axes object, optional\n",
      "        Draw the graph in specified Matplotlib axes.\n",
      "    \n",
      "    kwds : optional keywords\n",
      "        See networkx.draw_networkx() for a description of optional keywords.\n",
      "    \n",
      "    Examples\n",
      "    --------\n",
      "    >>> G = nx.dodecahedral_graph()\n",
      "    >>> nx.draw(G)\n",
      "    >>> nx.draw(G, pos=nx.spring_layout(G))  # use spring layout\n",
      "    \n",
      "    See Also\n",
      "    --------\n",
      "    draw_networkx\n",
      "    draw_networkx_nodes\n",
      "    draw_networkx_edges\n",
      "    draw_networkx_labels\n",
      "    draw_networkx_edge_labels\n",
      "    \n",
      "    Notes\n",
      "    -----\n",
      "    This function has the same name as pylab.draw and pyplot.draw\n",
      "    so beware when using `from networkx import *`\n",
      "    \n",
      "    since you might overwrite the pylab.draw function.\n",
      "    \n",
      "    With pyplot use\n",
      "    \n",
      "    >>> import matplotlib.pyplot as plt\n",
      "    >>> G = nx.dodecahedral_graph()\n",
      "    >>> nx.draw(G)  # networkx draw()\n",
      "    >>> plt.draw()  # pyplot draw()\n",
      "    \n",
      "    Also see the NetworkX drawing examples at\n",
      "    https://networkx.org/documentation/latest/auto_examples/index.html\n",
      "\n"
     ]
    }
   ],
   "source": [
    "help(nx.draw)\n"
   ]
  },
  {
   "cell_type": "code",
   "execution_count": 15,
   "id": "0813eae6",
   "metadata": {
    "tags": []
   },
   "outputs": [
    {
     "ename": "NameError",
     "evalue": "name 'plot_params' is not defined",
     "output_type": "error",
     "traceback": [
      "\u001b[0;31m---------------------------------------------------------------------------\u001b[0m",
      "\u001b[0;31mNameError\u001b[0m                                 Traceback (most recent call last)",
      "Cell \u001b[0;32mIn[15], line 1\u001b[0m\n\u001b[0;32m----> 1\u001b[0m \u001b[43mplot_params\u001b[49m\u001b[38;5;241m.\u001b[39mupdate({\u001b[38;5;124m'\u001b[39m\u001b[38;5;124mfont.size\u001b[39m\u001b[38;5;124m'\u001b[39m: \u001b[38;5;241m8\u001b[39m})\n\u001b[1;32m      2\u001b[0m nx\u001b[38;5;241m.\u001b[39mdraw_circular(busiest_graph, with_labels\u001b[38;5;241m=\u001b[39m\u001b[38;5;28;01mTrue\u001b[39;00m)\n",
      "\u001b[0;31mNameError\u001b[0m: name 'plot_params' is not defined"
     ]
    }
   ],
   "source": [
    "plot_params.update({'font.size': 8})\n",
    "nx.draw_circular(busiest_graph, with_labels=True)\n"
   ]
  },
  {
   "cell_type": "code",
   "execution_count": null,
   "id": "f0dcdaef-a0a0-40c3-9510-5c1351856080",
   "metadata": {
    "tags": []
   },
   "outputs": [],
   "source": [
    "nx.draw_spectral(busiest_graph, with_labels=True)\n"
   ]
  },
  {
   "cell_type": "code",
   "execution_count": null,
   "id": "b653c81e-9352-4ed0-9085-f018eaabaf2c",
   "metadata": {
    "tags": []
   },
   "outputs": [],
   "source": [
    "nx.draw_random(busiest_graph, with_labels=True)\n"
   ]
  },
  {
   "cell_type": "code",
   "execution_count": null,
   "id": "1373f7ea-7a0c-4c70-880a-6722cf678793",
   "metadata": {
    "tags": []
   },
   "outputs": [],
   "source": [
    "for group in nx.connected_components(repo_graph):\n",
    "    size = len(group)\n",
    "    print(f'a disjoint group of {len(group)} are connected')\n",
    "    list = \"\\n\".join(group[:8]Of ) \n"
   ]
  },
  {
   "cell_type": "markdown",
   "id": "01ae6eed-20e6-4aa6-b92d-3942671187b5",
   "metadata": {
    "tags": []
   },
   "source": [
    "Interesting ideas\n",
    "* Average commit size\n",
    "* Tests included in commits?\n",
    "* Connected groups\n",
    "* Most edited files\n",
    "* Commit frequency\n",
    "* Defects vs Features vs Refactors vs Other (conventional commits?)\n",
    "* Ticket numbers and clustering of same"
   ]
  },
  {
   "cell_type": "code",
   "execution_count": null,
   "id": "1dc203d5-d305-4fb5-b702-5d5075582993",
   "metadata": {},
   "outputs": [],
   "source": []
  }
 ],
 "metadata": {
  "kernelspec": {
   "display_name": "myenv",
   "language": "python",
   "name": "myenv"
  },
  "language_info": {
   "codemirror_mode": {
    "name": "ipython",
    "version": 3
   },
   "file_extension": ".py",
   "mimetype": "text/x-python",
   "name": "python",
   "nbconvert_exporter": "python",
   "pygments_lexer": "ipython3",
   "version": "3.11.2"
  },
  "toc-autonumbering": true,
  "toc-showmarkdowntxt": false
 },
 "nbformat": 4,
 "nbformat_minor": 5
}
