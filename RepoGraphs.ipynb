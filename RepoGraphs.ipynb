{
 "cells": [
  {
   "cell_type": "code",
   "execution_count": 1,
   "id": "6d0d1047-6266-43a7-ae7d-cea0e7082c1b",
   "metadata": {
    "tags": [],
    "ExecuteTime": {
     "end_time": "2023-08-25T20:33:52.632372Z",
     "start_time": "2023-08-25T20:33:52.209375Z"
    }
   },
   "outputs": [],
   "source": [
    "from itertools import combinations\n",
    "from pprint import pprint\n",
    "\n",
    "import networkx as nx\n",
    "from git import Repo\n",
    "from matplotlib import pyplot as plot\n",
    "\n",
    "from gitminer import (\n",
    "    graph_commit_to_file,\n",
    "    graph_file_to_file,\n",
    "    print_most_connected,\n",
    "    print_most_common_commits,\n",
    "    count_commits,\n",
    "    count_connections\n",
    ")"
   ]
  },
  {
   "cell_type": "code",
   "execution_count": 2,
   "id": "ef4b2c0b-b7f0-46bc-9988-d69f85cc8e5c",
   "metadata": {
    "ExecuteTime": {
     "end_time": "2023-08-25T20:33:52.638366Z",
     "start_time": "2023-08-25T20:33:52.632230Z"
    }
   },
   "outputs": [],
   "source": [
    "repo = Repo(\"../api\")"
   ]
  },
  {
   "cell_type": "code",
   "execution_count": 3,
   "id": "e2e92286-1362-4639-8f80-b1ca0cb97a0e",
   "metadata": {
    "tags": [],
    "ExecuteTime": {
     "end_time": "2023-08-25T20:33:52.641728Z",
     "start_time": "2023-08-25T20:33:52.638972Z"
    }
   },
   "outputs": [],
   "source": [
    "little_labels = dict(with_labels=True, font_size=7)\n",
    "medium_labels = dict(with_labels=True, font_size=7)"
   ]
  },
  {
   "cell_type": "code",
   "execution_count": 4,
   "id": "2bbb9d4e-34ee-486e-9d25-ec14ba913d88",
   "metadata": {
    "tags": [],
    "ExecuteTime": {
     "end_time": "2023-08-25T20:52:23.616030Z",
     "start_time": "2023-08-25T20:33:52.641624Z"
    }
   },
   "outputs": [],
   "source": [
    "repo_graph = graph_file_to_file(repo)"
   ]
  },
  {
   "cell_type": "markdown",
   "id": "19869f62",
   "metadata": {},
   "source": [
    "# Neighbors\n",
    "## Who are the top 10 most-connected nodes?\n",
    "\n",
    "This is basically handed to us by the degree accessor, which gives us the file and its number of edges.\n"
   ]
  },
  {
   "cell_type": "code",
   "execution_count": 5,
   "id": "957bc6f3",
   "metadata": {
    "ExecuteTime": {
     "end_time": "2023-08-25T20:52:24.384212Z",
     "start_time": "2023-08-25T20:52:23.624293Z"
    }
   },
   "outputs": [
    {
     "name": "stdout",
     "output_type": "stream",
     "text": [
      "Top ten most connected files\n",
      ".gitignore 22324\n",
      "Makefile 21306\n",
      "node_modules/analytics-node/.gitignore 16763\n",
      "node_modules/analytics-node/.travis.yml 16763\n",
      "node_modules/analytics-node/Makefile 16763\n",
      "node_modules/analytics-node/README.md 16763\n",
      "node_modules/analytics-node/package.json 16763\n",
      "node_modules/analytics-node/test/analytics.js 16763\n",
      "node_modules/analytics-node/test/client.js 16763\n",
      "node_modules/analytics-node/test/options.js 16763\n"
     ]
    }
   ],
   "source": [
    "print_most_connected(repo_graph)"
   ]
  },
  {
   "cell_type": "markdown",
   "id": "1ef8a202",
   "metadata": {},
   "source": [
    "# Top 20\n",
    "\n",
    "What are the top 20 most-changed files? We used to get this with a complicated git/sort/uniq script. Here it's much easier."
   ]
  },
  {
   "cell_type": "code",
   "execution_count": 6,
   "id": "c6cc33dc",
   "metadata": {
    "ExecuteTime": {
     "end_time": "2023-08-25T20:52:24.619187Z",
     "start_time": "2023-08-25T20:52:24.380360Z"
    }
   },
   "outputs": [
    {
     "ename": "TypeError",
     "evalue": "unhashable type: 'CommitNode'",
     "output_type": "error",
     "traceback": [
      "\u001B[0;31m---------------------------------------------------------------------------\u001B[0m",
      "\u001B[0;31mTypeError\u001B[0m                                 Traceback (most recent call last)",
      "Cell \u001B[0;32mIn[6], line 1\u001B[0m\n\u001B[0;32m----> 1\u001B[0m commit_graph \u001B[38;5;241m=\u001B[39m \u001B[43mgraph_commit_to_file\u001B[49m\u001B[43m(\u001B[49m\u001B[43mrepo\u001B[49m\u001B[43m)\u001B[49m\n",
      "File \u001B[0;32m~/Projects/gitminer-jupyter/gitminer.py:67\u001B[0m, in \u001B[0;36mgraph_commit_to_file\u001B[0;34m(repo, earliest, latest)\u001B[0m\n\u001B[1;32m     65\u001B[0m     item \u001B[38;5;241m=\u001B[39m CommitNode(commit\u001B[38;5;241m.\u001B[39mhexsha, commit\u001B[38;5;241m.\u001B[39mmessage, commit\u001B[38;5;241m.\u001B[39mcommitted_datetime)\n\u001B[1;32m     66\u001B[0m     \u001B[38;5;28;01mfor\u001B[39;00m filename \u001B[38;5;129;01min\u001B[39;00m commit\u001B[38;5;241m.\u001B[39mstats\u001B[38;5;241m.\u001B[39mfiles:\n\u001B[0;32m---> 67\u001B[0m         \u001B[43mgraph\u001B[49m\u001B[38;5;241;43m.\u001B[39;49m\u001B[43madd_edge\u001B[49m\u001B[43m(\u001B[49m\u001B[43mitem\u001B[49m\u001B[43m,\u001B[49m\u001B[43m \u001B[49m\u001B[43mfilename\u001B[49m\u001B[43m)\u001B[49m\n\u001B[1;32m     68\u001B[0m \u001B[38;5;28;01mreturn\u001B[39;00m graph\n",
      "File \u001B[0;32m~/Projects/gitminer-jupyter/venv/lib/python3.11/site-packages/networkx/classes/digraph.py:695\u001B[0m, in \u001B[0;36mDiGraph.add_edge\u001B[0;34m(self, u_of_edge, v_of_edge, **attr)\u001B[0m\n\u001B[1;32m    693\u001B[0m u, v \u001B[38;5;241m=\u001B[39m u_of_edge, v_of_edge\n\u001B[1;32m    694\u001B[0m \u001B[38;5;66;03m# add nodes\u001B[39;00m\n\u001B[0;32m--> 695\u001B[0m \u001B[38;5;28;01mif\u001B[39;00m \u001B[43mu\u001B[49m\u001B[43m \u001B[49m\u001B[38;5;129;43;01mnot\u001B[39;49;00m\u001B[43m \u001B[49m\u001B[38;5;129;43;01min\u001B[39;49;00m\u001B[43m \u001B[49m\u001B[38;5;28;43mself\u001B[39;49m\u001B[38;5;241;43m.\u001B[39;49m\u001B[43m_succ\u001B[49m:\n\u001B[1;32m    696\u001B[0m     \u001B[38;5;28;01mif\u001B[39;00m u \u001B[38;5;129;01mis\u001B[39;00m \u001B[38;5;28;01mNone\u001B[39;00m:\n\u001B[1;32m    697\u001B[0m         \u001B[38;5;28;01mraise\u001B[39;00m \u001B[38;5;167;01mValueError\u001B[39;00m(\u001B[38;5;124m\"\u001B[39m\u001B[38;5;124mNone cannot be a node\u001B[39m\u001B[38;5;124m\"\u001B[39m)\n",
      "\u001B[0;31mTypeError\u001B[0m: unhashable type: 'CommitNode'"
     ]
    }
   ],
   "source": [
    "commit_graph = graph_commit_to_file(repo)"
   ]
  },
  {
   "cell_type": "code",
   "execution_count": null,
   "id": "ae9f1fc3",
   "metadata": {
    "ExecuteTime": {
     "end_time": "2023-08-25T20:52:24.621326Z",
     "start_time": "2023-08-25T20:52:24.620032Z"
    }
   },
   "outputs": [],
   "source": [
    "print_most_common_commits(commit_graph)\n"
   ]
  },
  {
   "cell_type": "markdown",
   "id": "34e05771",
   "metadata": {},
   "source": [
    "# Create a plot \n",
    "\n",
    "x = [5, 2, 9, 4, 7]\n",
    "y = [10, 5, 8, 4, 2]\n",
    "plot.plot(x, y)\n",
    "plot.show()"
   ]
  },
  {
   "cell_type": "markdown",
   "id": "cdbdd493",
   "metadata": {},
   "source": [
    "# Draw a network plot of some kind\n",
    "\n",
    "graph = nx.petersen_graph()  # well known sample data\n",
    "subax = plot.subplot(121)\n",
    "nx.draw(graph)\n",
    "\n",
    "repo_plot = plot.subplot(122)\n",
    "nx.draw(repo_graph, **little_labels)\n",
    "\n"
   ]
  },
  {
   "cell_type": "markdown",
   "id": "3d5159fe",
   "metadata": {},
   "source": [
    "help(nx.draw)\n"
   ]
  },
  {
   "cell_type": "code",
   "execution_count": null,
   "id": "db55842a",
   "metadata": {
    "ExecuteTime": {
     "start_time": "2023-08-25T20:52:24.621889Z"
    }
   },
   "outputs": [],
   "source": [
    "# This produces three lists - when we look at the whole repo, everything\n",
    "# is connected except some images. This is reasonable given the entire\n",
    "# history of a small project. We need to try this time-limited.\n",
    "pprint(list(nx.connected_components(repo_graph)))\n"
   ]
  },
  {
   "cell_type": "code",
   "execution_count": null,
   "id": "fff34a7d-fefd-49e9-8339-2db14210450c",
   "metadata": {
    "ExecuteTime": {
     "start_time": "2023-08-25T20:52:24.622965Z"
    }
   },
   "outputs": [],
   "source": [
    "# Perhaps we should trim the data set so that we don't plot every single \n",
    "# edge and node in one ugly graph.\n",
    "\n",
    "# Here we limit the data set only to edges that have been connected \n",
    "# at most 12 times (that's 1/10th of the busiest from the prior run)\n",
    "one_tenth_of_busiest = 12\n",
    "busiest_graph = nx.Graph()\n",
    "busiest_graph.add_edges_from(\n",
    "    edge\n",
    "    for edge in repo_graph.edges\n",
    "    if repo_graph.get_edge_data(*edge).get('count', 0) > one_tenth_of_busiest\n",
    ")\n"
   ]
  },
  {
   "cell_type": "code",
   "execution_count": null,
   "id": "fa81003b-0e5e-47b7-b02c-32a734c8dfbe",
   "metadata": {
    "tags": [],
    "ExecuteTime": {
     "start_time": "2023-08-25T20:52:24.624650Z"
    }
   },
   "outputs": [],
   "source": [
    "# Here we try graphing this smaller set...\n",
    "from networkx import spring_layout\n",
    "\n",
    "layout = spring_layout(busiest_graph, k=0.8, iterations=50)\n",
    "nx.draw(busiest_graph, layout, **little_labels, node_size=50)\n",
    "\n",
    "# As expected, \"main.py\" is the spider at the center of the web. \n",
    "# There are some other connections such as between forms and the data\n",
    "# they display or gherkin tests and the module they are testing."
   ]
  },
  {
   "cell_type": "code",
   "execution_count": null,
   "id": "a737e759-984c-473f-a3bb-3b469844f300",
   "metadata": {
    "tags": [],
    "ExecuteTime": {
     "start_time": "2023-08-25T20:52:24.625574Z"
    }
   },
   "outputs": [],
   "source": [
    "# nx.draw_random(busiest_graph, **little_labels)\n",
    "nx.draw_spring(busiest_graph, **little_labels)\n",
    "# Same data, different visualization algo..."
   ]
  },
  {
   "cell_type": "markdown",
   "id": "dedb5bcb-2f49-4d8c-a6ff-ca4a11c9700c",
   "metadata": {},
   "source": [
    "# Concept\n",
    "\n",
    "If we combine *most committed*, and *most connected*, and some *complexity* measure, then we should end up with a basis for a ranked \"refactoring candidate\" list. \n",
    "\n",
    "## Hypothesis: TARGET SELECTION\n",
    "Imagine pointing a tool at a codebase, and it tells you where to concentrate your efforts on code renewal, and maybe you re-run it monthly or weekly? Would this make a significant difference in fluidity, fluency, speed, and quality? \n",
    "\n",
    "## Notes\n",
    "\n",
    "- This needs to be time-limited, or it will be based on all-time, not recent activity.\n",
    "- When you first rework a file, it will still show up in the list\n",
    "- Maybe when we refactor a file, it can drop it out of the candidate list. If it is still a problem, it will reappear later, when that refactoring commit \"ages out.\"\n",
    "- if this only works with \"conventional commits,\" that's probably okay. We could also support Belshee's cryptic commit trickery.\n"
   ]
  },
  {
   "cell_type": "code",
   "execution_count": null,
   "id": "15fd2a66",
   "metadata": {
    "ExecuteTime": {
     "start_time": "2023-08-25T20:52:24.626510Z"
    }
   },
   "outputs": [],
   "source": [
    "commit_dict = dict(count_commits(commit_graph))\n",
    "connect_dict = dict(count_connections(repo_graph))\n",
    "for file in commit_dict.keys():\n",
    "    print(f' {file}, {commit_dict[file]}  commits, {connect_dict.get(file, 0)} relations')"
   ]
  },
  {
   "cell_type": "markdown",
   "id": "01ae6eed-20e6-4aa6-b92d-3942671187b5",
   "metadata": {
    "tags": []
   },
   "source": [
    "Interesting ideas\n",
    "* Average commit size\n",
    "* Tests included in commits?\n",
    "* Connected groups\n",
    "* Most edited files\n",
    "* Commit frequency\n",
    "* Defects vs Features vs Refactors vs Other (conventional commits?)\n",
    "* Ticket numbers and clustering of same"
   ]
  },
  {
   "cell_type": "code",
   "execution_count": null,
   "id": "1dc203d5-d305-4fb5-b702-5d5075582993",
   "metadata": {
    "ExecuteTime": {
     "start_time": "2023-08-25T20:52:24.628004Z"
    }
   },
   "outputs": [],
   "source": [
    "# Average commit size\n",
    "repo = Repo('quizzology')\n",
    "commits = [(commit.author.name, commit.authored_datetime, len(commit.stats.files))\n",
    "           for commit\n",
    "           in repo.iter_commits()\n",
    "           ]\n",
    "pprint(commits[:3])"
   ]
  },
  {
   "cell_type": "code",
   "execution_count": null,
   "id": "1cc41f59-624c-46f5-9ea0-6de5ba4112ec",
   "metadata": {
    "tags": [],
    "ExecuteTime": {
     "start_time": "2023-08-25T20:52:24.629242Z"
    }
   },
   "outputs": [],
   "source": [
    "# How to break into separate components? "
   ]
  },
  {
   "cell_type": "code",
   "execution_count": null,
   "id": "7f0a22aa-fb96-4bff-a966-a2d0f0964642",
   "metadata": {
    "tags": [],
    "ExecuteTime": {
     "start_time": "2023-08-25T20:52:24.630825Z"
    }
   },
   "outputs": [],
   "source": [
    "fig, ax = plot.subplots(figsize=(24, 24))\n",
    "nx.draw_kamada_kawai(busiest_graph, **medium_labels)"
   ]
  },
  {
   "cell_type": "code",
   "execution_count": null,
   "id": "7a3dfa4b-b16d-4599-b6ba-700cd60af2b4",
   "metadata": {
    "tags": [],
    "ExecuteTime": {
     "start_time": "2023-08-25T20:52:24.631476Z"
    }
   },
   "outputs": [],
   "source": [
    "#What if we remove the most heavily connected items instead of the least-heavily?\n"
   ]
  },
  {
   "cell_type": "code",
   "execution_count": null,
   "id": "37c81f70-c00c-44fc-b0ca-b93b28a018cf",
   "metadata": {
    "tags": [],
    "ExecuteTime": {
     "start_time": "2023-08-25T20:52:24.631992Z"
    }
   },
   "outputs": [],
   "source": [
    "from statistics import mean, stdev, variance, multimode\n",
    "\n",
    "\n",
    "def print_stats(file_counts):\n",
    "    print(f'  Largest commit is {max(file_counts)} files')\n",
    "    print(f'  Average commit is {mean(file_counts)} files')\n",
    "    print(f'  Standard Deviation is {stdev(file_counts)}')\n",
    "    print(f'  Variance is {variance(file_counts)}')\n",
    "    print(f'  Multimode is {multimode(file_counts)}')"
   ]
  },
  {
   "cell_type": "code",
   "execution_count": null,
   "id": "225c5915-08e9-4f10-a425-2ee00ea356af",
   "metadata": {
    "tags": [],
    "ExecuteTime": {
     "start_time": "2023-08-25T20:52:24.632461Z"
    }
   },
   "outputs": [],
   "source": [
    "print(\"FULL repository Data Set\")\n",
    "print_stats([x for (_, _, x) in commits])"
   ]
  },
  {
   "cell_type": "code",
   "execution_count": null,
   "id": "fce493b7-27ec-4de4-ad86-3eb44f3cd518",
   "metadata": {
    "tags": [],
    "ExecuteTime": {
     "start_time": "2023-08-25T20:52:24.632930Z"
    }
   },
   "outputs": [],
   "source": [
    "# Maybe a multigraph is wise?\n",
    "repo = Repo(\"quizzology\")\n",
    "repo_multigraph = nx.MultiGraph()\n",
    "for commit in repo.iter_commits():\n",
    "    for (left, right) in combinations(commit.stats.files, 2):\n",
    "        repo_multigraph.add_edge(left, right)"
   ]
  },
  {
   "cell_type": "markdown",
   "id": "abbe8bcc-f4b4-416a-98dc-05d0be2afa13",
   "metadata": {},
   "source": [
    "# Activity Graph Concept\n",
    "A graph of the number of commits per day might be useful - a stacked bar graph if you can tell what kinds of commits.\n",
    "I imagine coloring the stack by 'conventional commit' topics: fixes on bottom, then feature, then whatever else.\n",
    "'Commit Cadence'\n",
    "\n",
    "Can we discern the kinds of commits we're looking at via ticket names, conventional commits, or Belshee commits?\n",
    "\n",
    "Can we eliminate trivial commits (less than one line of change, less than 10 characters, etc.)?"
   ]
  },
  {
   "cell_type": "code",
   "execution_count": null,
   "id": "bffa7099-bca7-4d37-9427-1be0c8c92258",
   "metadata": {
    "tags": [],
    "ExecuteTime": {
     "start_time": "2023-08-25T20:52:24.633433Z"
    }
   },
   "outputs": [],
   "source": [
    "# This is probably the wrong visualization. \n",
    "for topic in nx.connected_components(repo_multigraph):\n",
    "    nx.draw(repo_multigraph, **little_labels)\n",
    "    # Kittens appear more than once, as do quizzical cats. I think this provides too much info."
   ]
  },
  {
   "cell_type": "code",
   "execution_count": null,
   "id": "630de221-4e91-4e20-9133-28b775dd4bb0",
   "metadata": {
    "tags": [],
    "ExecuteTime": {
     "start_time": "2023-08-25T20:52:24.633998Z"
    }
   },
   "outputs": [],
   "source": [
    "from datetime import datetime, timedelta\n",
    "\n",
    "\n",
    "def within_dates(start_date: datetime, end_date: datetime):\n",
    "    return [count\n",
    "            for (_, timestamp, count) in commits\n",
    "            if start_date <= timestamp.date() <= end_date\n",
    "            ]\n",
    "\n",
    "\n",
    "end_date = datetime.today().astimezone().date()\n",
    "start_date = end_date - timedelta(days=400)\n",
    "print(f'From {start_date} to {end_date}')\n",
    "\n",
    "dataset = within_dates(start_date, end_date)\n",
    "print(f'commits: {len(dataset)}')\n",
    "print_stats(dataset)"
   ]
  },
  {
   "cell_type": "markdown",
   "id": "8a738546-d41b-4e9e-bc4d-a790eac26d2b",
   "metadata": {},
   "source": [
    "# Rolling graph of just the past N days\n",
    "\n",
    "Use the timestamp from the repo_graph to filter down the commits\n",
    "\n",
    "Graph the commits as of a certain day, with a window of N days prior\n",
    "Graph repeatedly, show maybe bar graphs and such? \n",
    "\n"
   ]
  },
  {
   "cell_type": "markdown",
   "id": "8b470f6a",
   "metadata": {
    "ExecuteTime": {
     "end_time": "2023-04-13T08:08:30.331910Z",
     "start_time": "2023-04-13T08:08:11.071401Z"
    }
   },
   "source": [
    "# Drill down Notes\n",
    "\n",
    "It seems that we could produce a heatmap as a treemap, with drill-down.\n",
    "\n",
    "* At the top it would have perhaps the connected components.\n",
    "* Under that, the directories.\n",
    "* Under directories, the files.\n",
    "* Under a file, the file's strongest associations\n",
    "* Under each association, a list of the commits (hash & message)\n",
    "* Under the list item, a diff from git.\n"
   ]
  },
  {
   "cell_type": "code",
   "execution_count": null,
   "id": "a42d3d17",
   "metadata": {
    "ExecuteTime": {
     "start_time": "2023-08-25T20:52:24.634836Z"
    }
   },
   "outputs": [],
   "source": [
    "# New focus:\n",
    "# given file 'main.py'\n",
    "given = 'main.py'\n"
   ]
  },
  {
   "cell_type": "code",
   "execution_count": null,
   "outputs": [],
   "source": [],
   "metadata": {
    "collapsed": false,
    "ExecuteTime": {
     "start_time": "2023-08-25T20:52:24.635505Z"
    }
   },
   "id": "dc73278d328a2a3e"
  }
 ],
 "metadata": {
  "kernelspec": {
   "display_name": "myenv",
   "language": "python",
   "name": "myenv"
  },
  "language_info": {
   "codemirror_mode": {
    "name": "ipython",
    "version": 3
   },
   "file_extension": ".py",
   "mimetype": "text/x-python",
   "name": "python",
   "nbconvert_exporter": "python",
   "pygments_lexer": "ipython3",
   "version": "3.11.2"
  },
  "toc-autonumbering": true,
  "toc-showmarkdowntxt": false
 },
 "nbformat": 4,
 "nbformat_minor": 5
}
