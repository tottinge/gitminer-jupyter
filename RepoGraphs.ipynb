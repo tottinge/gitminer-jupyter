{
 "cells": [
  {
   "cell_type": "code",
   "execution_count": null,
   "id": "6d0d1047-6266-43a7-ae7d-cea0e7082c1b",
   "metadata": {
    "tags": [],
    "ExecuteTime": {
     "start_time": "2023-04-12T08:20:04.624859Z",
     "end_time": "2023-04-12T08:20:04.682193Z"
    }
   },
   "outputs": [],
   "source": [
    "from pprint import pprint\n",
    "from matplotlib import pyplot as plot\n",
    "from gitminer import (\n",
    "    graph_commit_to_file,\n",
    "    graph_file_to_file,\n",
    "    print_most_connected,\n",
    "    print_most_common_commits,\n",
    "    count_commits,\n",
    "    count_connections\n",
    ")\n",
    "from git import Repo\n",
    "from collections import Counter\n",
    "import networkx as nx\n",
    "from itertools import combinations"
   ]
  },
  {
   "cell_type": "code",
   "execution_count": null,
   "id": "ef4b2c0b-b7f0-46bc-9988-d69f85cc8e5c",
   "metadata": {
    "ExecuteTime": {
     "start_time": "2023-04-12T08:20:04.629068Z",
     "end_time": "2023-04-12T08:20:04.682731Z"
    }
   },
   "outputs": [],
   "source": [
    "repo = Repo(\"quizzology\")"
   ]
  },
  {
   "cell_type": "code",
   "execution_count": null,
   "id": "e2e92286-1362-4639-8f80-b1ca0cb97a0e",
   "metadata": {
    "tags": [],
    "ExecuteTime": {
     "start_time": "2023-04-12T08:20:04.632708Z",
     "end_time": "2023-04-12T08:20:04.682800Z"
    }
   },
   "outputs": [],
   "source": [
    "little_labels = dict(with_labels=True, font_size=7)\n",
    "medium_labels = dict(with_labels=True, font_size=7)"
   ]
  },
  {
   "cell_type": "code",
   "execution_count": null,
   "id": "2bbb9d4e-34ee-486e-9d25-ec14ba913d88",
   "metadata": {
    "tags": [],
    "ExecuteTime": {
     "start_time": "2023-04-12T08:20:04.635691Z",
     "end_time": "2023-04-12T08:20:08.746571Z"
    }
   },
   "outputs": [],
   "source": [
    "repo_graph = graph_file_to_file(repo)"
   ]
  },
  {
   "cell_type": "markdown",
   "id": "19869f62",
   "metadata": {},
   "source": [
    "# Neighbors\n",
    "## Who are the top 10 most-connected nodes?\n",
    "\n",
    "This is basically handed to us by the degree accessor, which gives us the file and its number of edges.\n"
   ]
  },
  {
   "cell_type": "code",
   "execution_count": null,
   "id": "957bc6f3",
   "metadata": {
    "ExecuteTime": {
     "start_time": "2023-04-12T08:20:08.748225Z",
     "end_time": "2023-04-12T08:20:08.750065Z"
    }
   },
   "outputs": [],
   "source": [
    "print_most_connected(repo_graph)"
   ]
  },
  {
   "cell_type": "markdown",
   "id": "1ef8a202",
   "metadata": {},
   "source": [
    "# Top 20\n",
    "\n",
    "What are the top 20 most-changed files? We used to get this with a complicated git/sort/uniq script. Here it's much easier."
   ]
  },
  {
   "cell_type": "code",
   "execution_count": null,
   "id": "c6cc33dc",
   "metadata": {
    "ExecuteTime": {
     "start_time": "2023-04-12T08:20:08.750557Z",
     "end_time": "2023-04-12T08:20:12.866893Z"
    }
   },
   "outputs": [],
   "source": [
    "commit_graph = graph_commit_to_file(repo)"
   ]
  },
  {
   "cell_type": "code",
   "execution_count": null,
   "id": "ae9f1fc3",
   "metadata": {
    "ExecuteTime": {
     "start_time": "2023-04-12T08:20:12.868195Z",
     "end_time": "2023-04-12T08:20:12.869971Z"
    }
   },
   "outputs": [],
   "source": [
    "print_most_common_commits(commit_graph)\n"
   ]
  },
  {
   "cell_type": "markdown",
   "id": "34e05771",
   "metadata": {},
   "source": [
    "# Create a plot \n",
    "\n",
    "x = [5, 2, 9, 4, 7]\n",
    "y = [10, 5, 8, 4, 2]\n",
    "plot.plot(x, y)\n",
    "plot.show()"
   ]
  },
  {
   "cell_type": "markdown",
   "id": "cdbdd493",
   "metadata": {},
   "source": [
    "# Draw a network plot of some kind\n",
    "\n",
    "graph = nx.petersen_graph()  # well known sample data\n",
    "subax = plot.subplot(121)\n",
    "nx.draw(graph)\n",
    "\n",
    "repo_plot = plot.subplot(122)\n",
    "nx.draw(repo_graph, **little_labels)\n",
    "\n"
   ]
  },
  {
   "cell_type": "markdown",
   "id": "3d5159fe",
   "metadata": {},
   "source": [
    "help(nx.draw)\n"
   ]
  },
  {
   "cell_type": "code",
   "execution_count": null,
   "id": "db55842a",
   "metadata": {
    "ExecuteTime": {
     "start_time": "2023-04-12T08:20:12.870973Z",
     "end_time": "2023-04-12T08:20:12.873258Z"
    }
   },
   "outputs": [],
   "source": [
    "\n",
    "pprint(list(nx.connected_components(repo_graph)))\n"
   ]
  },
  {
   "cell_type": "code",
   "execution_count": null,
   "id": "fff34a7d-fefd-49e9-8339-2db14210450c",
   "metadata": {
    "ExecuteTime": {
     "start_time": "2023-04-12T08:20:12.874603Z",
     "end_time": "2023-04-12T08:20:12.876037Z"
    }
   },
   "outputs": [],
   "source": [
    "# Perhaps we should trim the data set so that we don't plot every single \n",
    "# edge and node in one ugly graph.\n",
    "\n",
    "busiest_graph = nx.Graph()\n",
    "busiest_graph.add_edges_from(\n",
    "    edge\n",
    "    for edge in repo_graph.edges\n",
    "    if repo_graph.get_edge_data(*edge).get('count', 0) > 10\n",
    ")\n"
   ]
  },
  {
   "cell_type": "code",
   "execution_count": null,
   "id": "fa81003b-0e5e-47b7-b02c-32a734c8dfbe",
   "metadata": {
    "tags": [],
    "ExecuteTime": {
     "start_time": "2023-04-12T08:20:12.878746Z",
     "end_time": "2023-04-12T08:20:13.019069Z"
    }
   },
   "outputs": [],
   "source": [
    "from networkx import spring_layout\n",
    "\n",
    "layout = spring_layout(busiest_graph, k=0.8, iterations=50)\n",
    "nx.draw(busiest_graph, layout, **little_labels, node_size=50)\n"
   ]
  },
  {
   "cell_type": "code",
   "execution_count": null,
   "id": "a737e759-984c-473f-a3bb-3b469844f300",
   "metadata": {
    "tags": [],
    "ExecuteTime": {
     "start_time": "2023-04-12T08:20:13.032558Z",
     "end_time": "2023-04-12T08:20:13.158136Z"
    }
   },
   "outputs": [],
   "source": [
    "nx.draw_random(busiest_graph, **little_labels)\n"
   ]
  },
  {
   "cell_type": "markdown",
   "id": "dedb5bcb-2f49-4d8c-a6ff-ca4a11c9700c",
   "metadata": {},
   "source": [
    "# Concept\n",
    "\n",
    "If we combine *most committed*, and *most connected*, and some *complexity* measure, then we should end up with a basis for a ranked \"refactoring candidate\" list. \n",
    "\n",
    "## Hypothesis: TARGET SELECTION\n",
    "Imagine pointing a tool at a codebase, and it tells you where to concentrate your efforts on code renewal, and maybe you re-run it monthly or weekly? Would this make a significant difference in fluidity, fluency, speed, and quality? \n",
    "\n",
    "## Notes\n",
    "\n",
    "- This needs to be time-limited, or it will be based on all-time, not recent activity.\n",
    "- When you first rework a file, it will still show up in the list\n",
    "- Maybe when we refactor a file, it can drop it out of the candidate list. If it is still a problem, it will reappear later, when that refactoring commit \"ages out.\"\n",
    "- if this only works with \"conventional commits,\" that's probably okay. We could also support Belshee's cryptic commit trickery.\n"
   ]
  },
  {
   "cell_type": "code",
   "execution_count": null,
   "outputs": [],
   "source": [
    "commit_dict = dict(count_commits(commit_graph))\n",
    "connect_dict = dict(count_connections(repo_graph))\n",
    "for file in commit_dict.keys():\n",
    "    print(f' {file}, {commit_dict[file]}  commits, {connect_dict.get(file, 0)} relations')"
   ],
   "metadata": {
    "collapsed": false,
    "ExecuteTime": {
     "start_time": "2023-04-12T08:20:13.159336Z",
     "end_time": "2023-04-12T08:20:13.161007Z"
    }
   }
  },
  {
   "cell_type": "markdown",
   "id": "01ae6eed-20e6-4aa6-b92d-3942671187b5",
   "metadata": {
    "tags": []
   },
   "source": [
    "Interesting ideas\n",
    "* Average commit size\n",
    "* Tests included in commits?\n",
    "* Connected groups\n",
    "* Most edited files\n",
    "* Commit frequency\n",
    "* Defects vs Features vs Refactors vs Other (conventional commits?)\n",
    "* Ticket numbers and clustering of same"
   ]
  },
  {
   "cell_type": "code",
   "execution_count": null,
   "id": "1dc203d5-d305-4fb5-b702-5d5075582993",
   "metadata": {
    "ExecuteTime": {
     "start_time": "2023-04-12T08:20:13.163314Z",
     "end_time": "2023-04-12T08:20:17.201778Z"
    }
   },
   "outputs": [],
   "source": [
    "# Average commit size\n",
    "repo = Repo('quizzology')\n",
    "commits = [(commit.author.name, commit.authored_datetime, len(commit.stats.files))\n",
    "           for commit\n",
    "           in repo.iter_commits()\n",
    "           ]\n",
    "pprint(commits[:3])"
   ]
  },
  {
   "cell_type": "code",
   "execution_count": null,
   "id": "1cc41f59-624c-46f5-9ea0-6de5ba4112ec",
   "metadata": {
    "tags": [],
    "ExecuteTime": {
     "start_time": "2023-04-12T08:20:17.202230Z",
     "end_time": "2023-04-12T08:20:17.203659Z"
    }
   },
   "outputs": [],
   "source": [
    "# How to break into separate components? "
   ]
  },
  {
   "cell_type": "code",
   "execution_count": null,
   "id": "7f0a22aa-fb96-4bff-a966-a2d0f0964642",
   "metadata": {
    "tags": [],
    "ExecuteTime": {
     "start_time": "2023-04-12T08:20:17.208640Z",
     "end_time": "2023-04-12T08:20:17.578630Z"
    }
   },
   "outputs": [],
   "source": [
    "fig, ax = plot.subplots(figsize=(24, 24))\n",
    "nx.draw_kamada_kawai(busiest_graph, **medium_labels)"
   ]
  },
  {
   "cell_type": "code",
   "execution_count": null,
   "id": "7a3dfa4b-b16d-4599-b6ba-700cd60af2b4",
   "metadata": {
    "tags": [],
    "ExecuteTime": {
     "start_time": "2023-04-12T08:20:17.578276Z",
     "end_time": "2023-04-12T08:20:17.579499Z"
    }
   },
   "outputs": [],
   "source": [
    "#What if we remove the most heavily connected items instead of the least-heavily?\n"
   ]
  },
  {
   "cell_type": "code",
   "execution_count": null,
   "id": "37c81f70-c00c-44fc-b0ca-b93b28a018cf",
   "metadata": {
    "tags": [],
    "ExecuteTime": {
     "start_time": "2023-04-12T08:20:17.580272Z",
     "end_time": "2023-04-12T08:20:17.581807Z"
    }
   },
   "outputs": [],
   "source": [
    "from statistics import mean, stdev, variance, multimode\n",
    "\n",
    "\n",
    "def print_stats(file_counts):\n",
    "    print(f'  Largest commit is {max(file_counts)} files')\n",
    "    print(f'  Average commit is {mean(file_counts)} files')\n",
    "    print(f'  Standard Deviation is {stdev(file_counts)}')\n",
    "    print(f'  Variance is {variance(file_counts)}')\n",
    "    print(f'  Multimode is {multimode(file_counts)}')"
   ]
  },
  {
   "cell_type": "code",
   "execution_count": null,
   "id": "225c5915-08e9-4f10-a425-2ee00ea356af",
   "metadata": {
    "tags": [],
    "ExecuteTime": {
     "start_time": "2023-04-12T08:20:17.582825Z",
     "end_time": "2023-04-12T08:20:17.584162Z"
    }
   },
   "outputs": [],
   "source": [
    "print(\"FULL repository Data Set\")\n",
    "print_stats([x for (_, _, x) in commits])"
   ]
  },
  {
   "cell_type": "code",
   "execution_count": null,
   "id": "fce493b7-27ec-4de4-ad86-3eb44f3cd518",
   "metadata": {
    "tags": [],
    "ExecuteTime": {
     "start_time": "2023-04-12T08:20:17.584674Z",
     "end_time": "2023-04-12T08:20:21.692148Z"
    }
   },
   "outputs": [],
   "source": [
    "# Maybe a multigraph is wise?\n",
    "repo = Repo(\"quizzology\")\n",
    "repo_multigraph = nx.MultiGraph()\n",
    "for commit in repo.iter_commits():\n",
    "    for (left, right) in combinations(commit.stats.files, 2):\n",
    "        repo_multigraph.add_edge(left, right)"
   ]
  },
  {
   "cell_type": "markdown",
   "id": "abbe8bcc-f4b4-416a-98dc-05d0be2afa13",
   "metadata": {},
   "source": [
    "# Activity Graph Concept\n",
    "A graph of the number of commits per day might be useful - a stacked bar graph if you can tell what kinds of commits.\n",
    "I imagine coloring the stack by 'conventional commit' topics: fixes on bottom, then feature, then whatever else.\n",
    "'Commit Cadence'\n",
    "\n",
    "Can we discern the kinds of commits we're looking at via ticket names, conventional commits, or Belshee commits?\n",
    "\n",
    "Can we eliminate trivial commits (less than one line of change, less than 10 characters, etc.)?"
   ]
  },
  {
   "cell_type": "code",
   "execution_count": null,
   "id": "bffa7099-bca7-4d37-9427-1be0c8c92258",
   "metadata": {
    "tags": [],
    "ExecuteTime": {
     "start_time": "2023-04-12T08:20:21.701251Z",
     "end_time": "2023-04-12T08:20:22.481151Z"
    }
   },
   "outputs": [],
   "source": [
    "# This is probably the wrong visualization. \n",
    "for topic in nx.connected_components(repo_multigraph):\n",
    "    nx.draw(repo_multigraph, **little_labels)\n",
    "    # Kittens appear more than once, as do quizzical cats. I think this provides too much info."
   ]
  },
  {
   "cell_type": "code",
   "execution_count": null,
   "id": "630de221-4e91-4e20-9133-28b775dd4bb0",
   "metadata": {
    "tags": [],
    "ExecuteTime": {
     "start_time": "2023-04-12T08:20:22.482230Z",
     "end_time": "2023-04-12T08:20:22.484029Z"
    }
   },
   "outputs": [],
   "source": [
    "from datetime import datetime, timedelta\n",
    "\n",
    "\n",
    "def within_dates(start_date, end_date):\n",
    "    return [count\n",
    "            for (_, timestamp, count) in commits\n",
    "            if start_date <= timestamp.date() <= end_date\n",
    "            ]\n",
    "\n",
    "\n",
    "end_date = datetime.today().astimezone().date()\n",
    "start_date = end_date - timedelta(days=400)\n",
    "print(f'From {start_date} to {end_date}')\n",
    "\n",
    "dataset = within_dates(start_date, end_date)\n",
    "print(f'commits: {len(dataset)}')\n",
    "print_stats(dataset)"
   ]
  },
  {
   "cell_type": "markdown",
   "id": "8a738546-d41b-4e9e-bc4d-a790eac26d2b",
   "metadata": {},
   "source": [
    "# Rolling graph of just the past N days\n",
    "\n",
    "Use the timestamp from the repo_graph to filter down the commits\n",
    "\n",
    "Graph the commits as of a certain day, with a window of N days prior\n",
    "Graph repeatedly, show maybe bar graphs and such? \n",
    "\n"
   ]
  },
  {
   "cell_type": "markdown",
   "source": [
    "# Drill down Notes\n",
    "\n",
    "It seems that we could produce a heatmap as a treemap, with drill-down.\n",
    "\n",
    "* At the top it would have perhaps the connected components.\n",
    "* Under that, the directories.\n",
    "* Under directories, the files.\n",
    "* Under a file, the file's strongest associations\n",
    "* Under each association, a list of the commits (hash & message)\n",
    "* Under the list item, a diff from git.\n"
   ],
   "metadata": {
    "collapsed": false
   }
  },
  {
   "cell_type": "code",
   "execution_count": null,
   "outputs": [],
   "source": [],
   "metadata": {
    "collapsed": false,
    "ExecuteTime": {
     "start_time": "2023-04-12T08:20:22.484182Z",
     "end_time": "2023-04-12T08:20:22.485393Z"
    }
   }
  }
 ],
 "metadata": {
  "kernelspec": {
   "display_name": "myenv",
   "language": "python",
   "name": "myenv"
  },
  "language_info": {
   "codemirror_mode": {
    "name": "ipython",
    "version": 3
   },
   "file_extension": ".py",
   "mimetype": "text/x-python",
   "name": "python",
   "nbconvert_exporter": "python",
   "pygments_lexer": "ipython3",
   "version": "3.11.2"
  },
  "toc-autonumbering": true,
  "toc-showmarkdowntxt": false
 },
 "nbformat": 4,
 "nbformat_minor": 5
}
