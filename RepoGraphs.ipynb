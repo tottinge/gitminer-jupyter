{
 "cells": [
  {
   "cell_type": "code",
   "execution_count": 1,
   "id": "6d0d1047-6266-43a7-ae7d-cea0e7082c1b",
   "metadata": {
    "tags": [],
    "ExecuteTime": {
     "end_time": "2023-11-17T18:57:53.465904Z",
     "start_time": "2023-11-17T18:57:52.578278Z"
    }
   },
   "outputs": [],
   "source": [
    "from itertools import combinations\n",
    "from pprint import pprint\n",
    "\n",
    "import networkx as nx\n",
    "from git import Repo\n",
    "from matplotlib import pyplot as plot\n",
    "\n",
    "from gitminer import (\n",
    "    graph_commit_to_file,\n",
    "    graph_file_to_file,\n",
    "    print_most_connected,\n",
    "    print_most_common_commits,\n",
    "    count_commits,\n",
    "    count_connections\n",
    ")"
   ]
  },
  {
   "cell_type": "code",
   "execution_count": 2,
   "id": "ef4b2c0b-b7f0-46bc-9988-d69f85cc8e5c",
   "metadata": {
    "ExecuteTime": {
     "end_time": "2023-11-17T18:57:53.477123Z",
     "start_time": "2023-11-17T18:57:53.468559Z"
    }
   },
   "outputs": [],
   "source": [
    "repo = Repo(\"../../quizzology\")"
   ]
  },
  {
   "cell_type": "code",
   "execution_count": 3,
   "id": "e2e92286-1362-4639-8f80-b1ca0cb97a0e",
   "metadata": {
    "tags": [],
    "ExecuteTime": {
     "end_time": "2023-11-17T18:57:53.481902Z",
     "start_time": "2023-11-17T18:57:53.477588Z"
    }
   },
   "outputs": [],
   "source": [
    "little_labels = dict(with_labels=True, font_size=7)\n",
    "medium_labels = dict(with_labels=True, font_size=7)"
   ]
  },
  {
   "cell_type": "code",
   "execution_count": 4,
   "id": "2bbb9d4e-34ee-486e-9d25-ec14ba913d88",
   "metadata": {
    "tags": [],
    "ExecuteTime": {
     "end_time": "2023-11-17T18:58:00.586923Z",
     "start_time": "2023-11-17T18:57:53.486997Z"
    }
   },
   "outputs": [],
   "source": [
    "repo_graph = graph_file_to_file(repo)"
   ]
  },
  {
   "cell_type": "markdown",
   "id": "19869f62",
   "metadata": {},
   "source": [
    "# Neighbors\n",
    "## Who are the top 10 most-connected nodes?\n",
    "\n",
    "This is basically handed to us by the degree accessor, which gives us the file and its number of edges.\n"
   ]
  },
  {
   "cell_type": "code",
   "execution_count": 5,
   "id": "957bc6f3",
   "metadata": {
    "ExecuteTime": {
     "end_time": "2023-11-17T18:58:00.594601Z",
     "start_time": "2023-11-17T18:58:00.589448Z"
    }
   },
   "outputs": [
    {
     "name": "stdout",
     "output_type": "stream",
     "text": [
      "Top ten most connected files\n",
      "main.py 128\n",
      "features/steps/BasicQuizOperations.py 93\n",
      "quizzes/quiz.py 67\n",
      "quizzes/question.py 63\n",
      "tests/test_quiz_rendering.py 62\n",
      "quizzes/quiz_store.py 60\n",
      "tests/test_quiz_session.py 60\n",
      "ui_tests/test_navigation.py 59\n",
      "quiz_content/cats.json 57\n",
      "tests/test_quiz_selection.py 57\n"
     ]
    }
   ],
   "source": [
    "print_most_connected(repo_graph)"
   ]
  },
  {
   "cell_type": "markdown",
   "id": "1ef8a202",
   "metadata": {},
   "source": [
    "# Top 20\n",
    "\n",
    "What are the top 20 most-changed files? We used to get this with a complicated git/sort/uniq script. Here it's much easier."
   ]
  },
  {
   "cell_type": "code",
   "execution_count": 6,
   "id": "c6cc33dc",
   "metadata": {
    "ExecuteTime": {
     "end_time": "2023-11-17T18:58:07.648285Z",
     "start_time": "2023-11-17T18:58:00.593185Z"
    }
   },
   "outputs": [],
   "source": [
    "commit_graph = graph_commit_to_file(repo)"
   ]
  },
  {
   "cell_type": "code",
   "execution_count": 7,
   "id": "ae9f1fc3",
   "metadata": {
    "ExecuteTime": {
     "end_time": "2023-11-17T18:58:07.652996Z",
     "start_time": "2023-11-17T18:58:07.650081Z"
    }
   },
   "outputs": [
    {
     "name": "stdout",
     "output_type": "stream",
     "text": [
      "Most commits (top 10):\n",
      "main.py: 240\n",
      "features/steps/BasicQuizOperations.py: 73\n",
      "test_quiz_session.py: 37\n",
      "ui_tests/test_navigation.py: 32\n",
      "test_quiz_selection.py: 32\n",
      "apps/author/author.py: 31\n",
      "features/steps/authenticate_user.py: 31\n",
      "quizzes/quiz_store.py: 30\n",
      "quizzology.py: 30\n",
      "test_quiz_rendering.py: 30\n"
     ]
    }
   ],
   "source": [
    "print_most_common_commits(commit_graph)\n"
   ]
  },
  {
   "cell_type": "markdown",
   "id": "34e05771",
   "metadata": {},
   "source": [
    "# Create a plot \n",
    "\n",
    "x = [5, 2, 9, 4, 7]\n",
    "y = [10, 5, 8, 4, 2]\n",
    "plot.plot(x, y)\n",
    "plot.show()"
   ]
  },
  {
   "cell_type": "markdown",
   "id": "cdbdd493",
   "metadata": {},
   "source": [
    "# Draw a network plot of some kind\n",
    "\n",
    "graph = nx.petersen_graph()  # well known sample data\n",
    "subax = plot.subplot(121)\n",
    "nx.draw(graph)\n",
    "\n",
    "repo_plot = plot.subplot(122)\n",
    "nx.draw(repo_graph, **little_labels)\n",
    "\n"
   ]
  },
  {
   "cell_type": "markdown",
   "id": "3d5159fe",
   "metadata": {},
   "source": [
    "help(nx.draw)\n"
   ]
  },
  {
   "cell_type": "code",
   "execution_count": 8,
   "id": "db55842a",
   "metadata": {
    "ExecuteTime": {
     "end_time": "2023-11-17T18:58:07.657731Z",
     "start_time": "2023-11-17T18:58:07.654390Z"
    }
   },
   "outputs": [
    {
     "name": "stdout",
     "output_type": "stream",
     "text": [
      "[{'.dockerignore',\n",
      "  '.github/workflows/quizzology-ci.yml',\n",
      "  '.gitignore',\n",
      "  '.pre-commit-config.yaml',\n",
      "  '.pylintrc',\n",
      "  'Dockerfile',\n",
      "  'README.md',\n",
      "  'TestDockerfile',\n",
      "  'apps/__init__.py',\n",
      "  'apps/author.py',\n",
      "  'apps/author/__init__.py',\n",
      "  'apps/author/author.py',\n",
      "  'apps/author/author_controller.py',\n",
      "  'apps/author/tests/__init__.py',\n",
      "  'apps/author/tests/test_authorcontroller.py',\n",
      "  'apps/author/tests/test_controller.py',\n",
      "  'apps/author/tests/test_quiz_authoring_form.py',\n",
      "  'apps/author/tests/test_quiz_schema.py',\n",
      "  'apps/author/views/quiz_author_home.tpl',\n",
      "  'apps/author/views/quiz_authoring_form.tpl',\n",
      "  'apps/authoring/__init__.py',\n",
      "  'apps/authoring/author.py',\n",
      "  'apps/authoring/views/quiz_authoring_form.tpl',\n",
      "  'apps/study.py',\n",
      "  'apps/study/__init__.py',\n",
      "  'apps/study/session_store.py',\n",
      "  'apps/study/session_store_mongodb.py',\n",
      "  'apps/study/session_store_tinydb.py',\n",
      "  'apps/study/study.py',\n",
      "  'apps/study/studycontroller.py',\n",
      "  'apps/study/tests/__init__.py',\n",
      "  'apps/study/tests/test_quiz_question.py',\n",
      "  'apps/study/tests/test_quiz_rendering.py',\n",
      "  'apps/study/tests/test_quiz_selection.py',\n",
      "  'apps/study/tests/test_quiz_session.py',\n",
      "  'apps/study/tests/test_routes.py',\n",
      "  'apps/study/tests/test_session_store_mongo.py',\n",
      "  'apps/study/tests/test_webtest.py',\n",
      "  'apps/study/views/quiz_judgment.tpl',\n",
      "  'apps/study/views/quiz_question.tpl',\n",
      "  'apps/study/views/quiz_selection.tpl',\n",
      "  'apps/study/views/sub_progress.tpl',\n",
      "  'apps/studying/__init__.py',\n",
      "  'apps/studying/study.py',\n",
      "  'apps/studying/views/quiz_judgment.tpl',\n",
      "  'apps/studying/views/quiz_question.tpl',\n",
      "  'apps/studying/views/quiz_selection.tpl',\n",
      "  'apps/studying/views/sub_progress.tpl',\n",
      "  'behave-report.html',\n",
      "  'behave.ini',\n",
      "  'devtools.txt',\n",
      "  'features/AnswerQuestions.feature',\n",
      "  'features/Authenticate/AuthenticateUser.feature',\n",
      "  'features/Author/AddNewQuiz.feature',\n",
      "  'features/Author/EditQuiz.feature',\n",
      "  'features/Authoring/AddNewQuiz.feature',\n",
      "  'features/Authoring/EditQuiz.feature',\n",
      "  'features/Authoring/steps/AddNewQuiz.py',\n",
      "  'features/BasicQuizOperations.feature',\n",
      "  'features/Learning/StudentAnswerQuestion.feature',\n",
      "  'features/Learning/StudentInitiatesQuiz.feature',\n",
      "  'features/PyCharmWorkaround.feature',\n",
      "  'features/Research/StudentResearchesQuestion.feature',\n",
      "  'features/StudentAnswerQuestion.feature',\n",
      "  'features/StudentInitiatesQuiz.feature',\n",
      "  'features/StudentResearchesQuestion.feature',\n",
      "  'features/Study/StudentAnswerQuestion.feature',\n",
      "  'features/Study/StudentInitiatesQuiz.feature',\n",
      "  'features/environment.py',\n",
      "  'features/steps/AddNewQuiz.py',\n",
      "  'features/steps/AuthenticateUser.py',\n",
      "  'features/steps/BasicQuizOperations.py',\n",
      "  'features/steps/EditQuiz.py',\n",
      "  'features/steps/authenticate_user.py',\n",
      "  'features/steps/edit_quiz.py',\n",
      "  'features/steps/tutorial.py',\n",
      "  'features/tutorial.feature',\n",
      "  'main.py',\n",
      "  'precommit.md',\n",
      "  'prepare',\n",
      "  'question.py',\n",
      "  'quiz.py',\n",
      "  'quiz_content/cats.json',\n",
      "  'quiz_content/html-beginners.json',\n",
      "  'quiz_content/html.json',\n",
      "  'quiz_content/quiz_doc.json',\n",
      "  'quiz_content/simple_html.json',\n",
      "  'quiz_doc.txt',\n",
      "  'quiz_store.py',\n",
      "  'quizzes/__init__.py',\n",
      "  'quizzes/cats.json',\n",
      "  'quizzes/question.py',\n",
      "  'quizzes/quiz.py',\n",
      "  'quizzes/quiz_doc.json',\n",
      "  'quizzes/quiz_doc.txt',\n",
      "  'quizzes/quiz_file_store.py',\n",
      "  'quizzes/quiz_store.py',\n",
      "  'quizzes/quiz_store_file.py',\n",
      "  'quizzes/quiz_store_mongo.py',\n",
      "  'quizzes/simple_html.json',\n",
      "  'quizzes/tests/__init__.py',\n",
      "  'quizzes/tests/test_filename_generation.py',\n",
      "  'quizzes/tests/test_quiz_selection.py',\n",
      "  'quizzes/tests/test_quiz_store.py',\n",
      "  'quizzes/tests/test_quiz_store_file.py',\n",
      "  'quizzes/tests/test_quiz_store_mongo.py',\n",
      "  'quizzology.py',\n",
      "  'requirements.txt',\n",
      "  'runtests',\n",
      "  'runtime.txt',\n",
      "  'scanme',\n",
      "  'security/__init__.py',\n",
      "  'security/authn.py',\n",
      "  'security/authz.py',\n",
      "  'security/register.json',\n",
      "  'security/roles.json',\n",
      "  'security/tests/__init__.py',\n",
      "  'security/tests/test_authn.py',\n",
      "  'security/tests/test_authz.py',\n",
      "  'security/tests/test_login_page_rendering.py',\n",
      "  'security/users.json',\n",
      "  'session_scratch.py',\n",
      "  'session_store.py',\n",
      "  'sessions/__init__.py',\n",
      "  'sessions/session_id.py',\n",
      "  'sessions/session_store.py',\n",
      "  'sessions/tests/__init__.py',\n",
      "  'sessions/tests/test_quiz_session_store.py',\n",
      "  'sessions/tests/test_quiz_session_store_tinydb.py',\n",
      "  'sessions/tests/test_session_cookie_handling.py',\n",
      "  'setup.cfg',\n",
      "  'shared/UserStore_Mongo.py',\n",
      "  'shared/__init__.py',\n",
      "  'shared/mongo_connection.py',\n",
      "  'shared/quizzology.py',\n",
      "  'shared/user.py',\n",
      "  'shared/user_store.py',\n",
      "  'shared/user_store_file.py',\n",
      "  'shared/user_store_mongo.py',\n",
      "  'static/favicon.ico',\n",
      "  'static/images/html5.png',\n",
      "  'static/images/joker.png',\n",
      "  'static/images/kitten.jpeg',\n",
      "  'static/quiz_schema.json',\n",
      "  'static/quizzology.css',\n",
      "  'studycontroller.py',\n",
      "  'test_delme.py',\n",
      "  'test_enabler.py',\n",
      "  'test_me.py',\n",
      "  'test_quiz_question.py',\n",
      "  'test_quiz_rendering.py',\n",
      "  'test_quiz_selection.py',\n",
      "  'test_quiz_session.py',\n",
      "  'test_quiz_session_store.py',\n",
      "  'test_quiz_store.py',\n",
      "  'test_security_scratch.py',\n",
      "  'test_session_cookie_handling.py',\n",
      "  'test_ui.py',\n",
      "  'tests/__init__.py',\n",
      "  'tests/test_filename_generation.py',\n",
      "  'tests/test_quiz_authoring_form.py',\n",
      "  'tests/test_quiz_question.py',\n",
      "  'tests/test_quiz_rendering.py',\n",
      "  'tests/test_quiz_selection.py',\n",
      "  'tests/test_quiz_session.py',\n",
      "  'tests/test_quiz_session_store.py',\n",
      "  'tests/test_quiz_store.py',\n",
      "  'tests/test_session_cookie_handling.py',\n",
      "  'tests/test_webtest.py',\n",
      "  'tests/ui_tests/__init__.py',\n",
      "  'tests/ui_tests/ui_base_url.py',\n",
      "  'ui_tests/__init__.py',\n",
      "  'ui_tests/helpers.py',\n",
      "  'ui_tests/test_base_url.py',\n",
      "  'ui_tests/test_navigation.py',\n",
      "  'views/login.tpl',\n",
      "  'views/main_quiz.tpl',\n",
      "  'views/quiz_authoring_form.tpl',\n",
      "  'views/quiz_choice.tpl',\n",
      "  'views/quiz_judgment.jinja',\n",
      "  'views/quiz_judgment.tpl',\n",
      "  'views/quiz_question.tpl',\n",
      "  'views/quiz_selection.tpl',\n",
      "  'views/session_progress.tpl',\n",
      "  'views/skeleton.tpl',\n",
      "  'views/sub_progress.tpl',\n",
      "  'webdrivers/chromedriver',\n",
      "  'webdrivers/darwin/.DS_Store',\n",
      "  'webdrivers/darwin/chromedriver'},\n",
      " {'static/images/plus-sign.png', 'static/images/kitten.png'},\n",
      " {'static/quizzical_cat.jpeg', 'static/images/quizzical_cat.jpeg'}]\n"
     ]
    }
   ],
   "source": [
    "# This produces three lists - when we look at the whole repo, everything\n",
    "# is connected except some images. This is reasonable given the entire\n",
    "# history of a small project. We need to try this time-limited.\n",
    "pprint(list(nx.connected_components(repo_graph)))\n"
   ]
  },
  {
   "cell_type": "code",
   "execution_count": 9,
   "id": "fff34a7d-fefd-49e9-8339-2db14210450c",
   "metadata": {
    "ExecuteTime": {
     "end_time": "2023-11-17T18:58:07.662025Z",
     "start_time": "2023-11-17T18:58:07.659591Z"
    }
   },
   "outputs": [],
   "source": [
    "# Perhaps we should trim the data set so that we don't plot every single \n",
    "# edge and node in one ugly graph.\n",
    "\n",
    "# Here we limit the data set only to edges that have been connected \n",
    "# at most 12 times (that's 1/10th of the busiest from the prior run)\n",
    "one_tenth_of_busiest = 12\n",
    "busiest_graph = nx.Graph()\n",
    "busiest_graph.add_edges_from(\n",
    "    edge\n",
    "    for edge in repo_graph.edges\n",
    "    if repo_graph.get_edge_data(*edge).get('count', 0) > one_tenth_of_busiest\n",
    ")\n"
   ]
  },
  {
   "cell_type": "code",
   "execution_count": 10,
   "id": "fa81003b-0e5e-47b7-b02c-32a734c8dfbe",
   "metadata": {
    "tags": [],
    "ExecuteTime": {
     "end_time": "2023-11-17T18:58:07.844873Z",
     "start_time": "2023-11-17T18:58:07.665415Z"
    }
   },
   "outputs": [
    {
     "data": {
      "text/plain": "<Figure size 640x480 with 1 Axes>",
      "image/png": "[encoded data removed]"
     },
     "metadata": {},
     "output_type": "display_data"
    }
   ],
   "source": [
    "# Here we try graphing this smaller set...\n",
    "from networkx import spring_layout\n",
    "\n",
    "layout = spring_layout(busiest_graph, k=0.8, iterations=50)\n",
    "nx.draw(busiest_graph, layout, **little_labels, node_size=50)\n",
    "\n",
    "# As expected, \"main.py\" is the spider at the center of the web. \n",
    "# There are some other connections such as between forms and the data\n",
    "# they display or gherkin tests and the module they are testing."
   ]
  },
  {
   "cell_type": "code",
   "execution_count": 11,
   "id": "a737e759-984c-473f-a3bb-3b469844f300",
   "metadata": {
    "tags": [],
    "ExecuteTime": {
     "end_time": "2023-11-17T18:58:07.997649Z",
     "start_time": "2023-11-17T18:58:07.845938Z"
    }
   },
   "outputs": [
    {
     "data": {
      "text/plain": "<Figure size 640x480 with 1 Axes>",
      "image/png": "[encoded data removed]"
     },
     "metadata": {},
     "output_type": "display_data"
    }
   ],
   "source": [
    "# nx.draw_random(busiest_graph, **little_labels)\n",
    "nx.draw_spring(busiest_graph, **little_labels)\n",
    "# Same data, different visualization algo..."
   ]
  },
  {
   "cell_type": "markdown",
   "id": "dedb5bcb-2f49-4d8c-a6ff-ca4a11c9700c",
   "metadata": {},
   "source": [
    "# Concept\n",
    "\n",
    "If we combine *most committed*, and *most connected*, and some *complexity* measure, then we should end up with a basis for a ranked \"refactoring candidate\" list. \n",
    "\n",
    "## Hypothesis: TARGET SELECTION\n",
    "Imagine pointing a tool at a codebase, and it tells you where to concentrate your efforts on code renewal, and maybe you re-run it monthly or weekly? Would this make a significant difference in fluidity, fluency, speed, and quality? \n",
    "\n",
    "## Notes\n",
    "\n",
    "- This needs to be time-limited, or it will be based on all-time, not recent activity.\n",
    "- When you first rework a file, it will still show up in the list\n",
    "- Maybe when we refactor a file, it can drop it out of the candidate list. If it is still a problem, it will reappear later, when that refactoring commit \"ages out.\"\n",
    "- if this only works with \"conventional commits,\" that's probably okay. We could also support Belshee's cryptic commit trickery.\n"
   ]
  },
  {
   "cell_type": "code",
   "execution_count": 12,
   "id": "15fd2a66",
   "metadata": {
    "ExecuteTime": {
     "end_time": "2023-11-17T18:58:08.030113Z",
     "start_time": "2023-11-17T18:58:07.995645Z"
    }
   },
   "outputs": [
    {
     "name": "stdout",
     "output_type": "stream",
     "text": [
      " .gitignore, 6  commits, 9 relations\n",
      " webdrivers/darwin/.DS_Store, 1  commits, 1 relations\n",
      " main.py, 240  commits, 128 relations\n",
      " webdrivers/darwin/chromedriver, 11  commits, 4 relations\n",
      " apps/author/author.py, 31  commits, 26 relations\n",
      " precommit.md, 2  commits, 3 relations\n",
      " .pre-commit-config.yaml, 3  commits, 5 relations\n",
      " devtools.txt, 13  commits, 11 relations\n",
      " test_delme.py, 2  commits, 3 relations\n",
      " runtests, 1  commits, 1 relations\n",
      " session_scratch.py, 3  commits, 31 relations\n",
      " ui_tests/test_base_url.py, 29  commits, 54 relations\n",
      " apps/study/tests/test_quiz_question.py, 3  commits, 28 relations\n",
      " README.md, 13  commits, 32 relations\n",
      " apps/study/session_store_mongodb.py, 9  commits, 16 relations\n",
      " apps/study/tests/test_session_store_mongo.py, 3  commits, 2 relations\n",
      " sessions/tests/test_quiz_session_store.py, 9  commits, 34 relations\n",
      " sessions/tests/test_quiz_session_store_tinydb.py, 1  commits, 2 relations\n",
      " apps/study/session_store.py, 8  commits, 18 relations\n",
      " apps/study/session_store_tinydb.py, 6  commits, 18 relations\n",
      " apps/study/study.py, 14  commits, 52 relations\n",
      " apps/study/tests/test_routes.py, 8  commits, 25 relations\n",
      " apps/study/views/quiz_judgment.tpl, 2  commits, 27 relations\n",
      " features/steps/authenticate_user.py, 31  commits, 40 relations\n",
      " quizzes/quiz.py, 17  commits, 67 relations\n",
      " quizzes/quiz_store_mongo.py, 19  commits, 23 relations\n",
      " quizzes/tests/test_quiz_store_mongo.py, 12  commits, 22 relations\n",
      " shared/mongo_connection.py, 3  commits, 15 relations\n",
      " ui_tests/test_navigation.py, 32  commits, 59 relations\n",
      " .vscode/settings.json, 2  commits, 0 relations\n",
      " apps/study/studycontroller.py, 14  commits, 14 relations\n",
      " apps/study/tests/test_quiz_session.py, 18  commits, 45 relations\n",
      " features/steps/BasicQuizOperations.py, 73  commits, 93 relations\n",
      " shared/quizzology.py, 11  commits, 35 relations\n",
      " quizzes/quiz_store.py, 30  commits, 60 relations\n",
      " quizzes/question.py, 16  commits, 63 relations\n",
      " scanme, 2  commits, 2 relations\n",
      " security/authn.py, 11  commits, 21 relations\n",
      " shared/user_store_mongo.py, 7  commits, 7 relations\n",
      " static/quizzology.css, 11  commits, 9 relations\n",
      " shared/user_store_file.py, 10  commits, 9 relations\n",
      " shared/user.py, 11  commits, 12 relations\n",
      " shared/user_store.py, 4  commits, 6 relations\n",
      " .github/workflows/quizzology-ci.yml, 22  commits, 39 relations\n",
      " security/users.json, 11  commits, 16 relations\n",
      " shared/UserStore_Mongo.py, 2  commits, 3 relations\n",
      " security/tests/test_authn.py, 17  commits, 27 relations\n",
      " security/authz.py, 9  commits, 6 relations\n",
      " apps/author/tests/test_quiz_authoring_form.py, 16  commits, 45 relations\n",
      " apps/author/views/quiz_authoring_form.tpl, 21  commits, 27 relations\n",
      " features/environment.py, 6  commits, 40 relations\n",
      " quizzes/tests/test_quiz_selection.py, 2  commits, 8 relations\n",
      " requirements.txt, 22  commits, 25 relations\n",
      " apps/study/tests/test_quiz_selection.py, 4  commits, 28 relations\n",
      " apps/study/views/quiz_selection.tpl, 11  commits, 33 relations\n",
      " ui_tests/helpers.py, 20  commits, 33 relations\n",
      " static/images/kitten.png, 1  commits, 1 relations\n",
      " static/images/plus-sign.png, 1  commits, 1 relations\n",
      " views/quiz_choice.tpl, 8  commits, 8 relations\n",
      " views/skeleton.tpl, 25  commits, 37 relations\n",
      " views/quiz_selection.tpl, 22  commits, 40 relations\n",
      " sessions/session_id.py, 7  commits, 13 relations\n",
      " sessions/tests/test_session_cookie_handling.py, 4  commits, 16 relations\n",
      " static/images/quizzical_cat.jpeg, 1  commits, 1 relations\n",
      " static/quizzical_cat.jpeg, 2  commits, 1 relations\n",
      " static/images/html5.png, 1  commits, 4 relations\n",
      " static/images/joker.png, 1  commits, 4 relations\n",
      " static/images/kitten.jpeg, 1  commits, 4 relations\n",
      " static/quiz_schema.json, 3  commits, 20 relations\n",
      " quizzes/tests/test_quiz_store_file.py, 2  commits, 2 relations\n",
      " quizzes/quiz_store_file.py, 3  commits, 10 relations\n",
      " runtime.txt, 6  commits, 13 relations\n",
      " quizzes/tests/test_quiz_store.py, 7  commits, 33 relations\n",
      " features/Author/EditQuiz.feature, 9  commits, 18 relations\n",
      " apps/author/tests/test_authorcontroller.py, 10  commits, 25 relations\n",
      " quizzes/quiz_file_store.py, 4  commits, 10 relations\n",
      " quizzes/tests/test_filename_generation.py, 9  commits, 35 relations\n",
      " behave-report.html, 2  commits, 7 relations\n",
      " quiz_content/html-beginners.json, 2  commits, 7 relations\n",
      " prepare, 15  commits, 4 relations\n",
      " features/steps/edit_quiz.py, 4  commits, 11 relations\n",
      " apps/author/tests/test_quiz_schema.py, 5  commits, 4 relations\n",
      " features/steps/AddNewQuiz.py, 20  commits, 36 relations\n",
      " apps/author/author_controller.py, 8  commits, 27 relations\n",
      " apps/study/tests/test_quiz_rendering.py, 6  commits, 43 relations\n",
      " apps/study/views/quiz_question.tpl, 4  commits, 33 relations\n",
      " features/Research/StudentResearchesQuestion.feature, 6  commits, 47 relations\n",
      " features/Study/StudentAnswerQuestion.feature, 2  commits, 24 relations\n",
      " features/Study/StudentInitiatesQuiz.feature, 2  commits, 24 relations\n",
      " quiz_content/cats.json, 7  commits, 57 relations\n",
      " quiz_content/html.json, 8  commits, 47 relations\n",
      " quiz_content/quiz_doc.json, 5  commits, 54 relations\n",
      " quiz_content/simple_html.json, 6  commits, 54 relations\n",
      " apps/author/views/quiz_author_home.tpl, 5  commits, 7 relations\n",
      " features/steps/EditQuiz.py, 16  commits, 22 relations\n",
      " features/Author/AddNewQuiz.feature, 3  commits, 12 relations\n",
      " security/tests/test_authz.py, 1  commits, 1 relations\n",
      " features/Authenticate/AuthenticateUser.feature, 18  commits, 6 relations\n",
      " views/login.tpl, 9  commits, 3 relations\n",
      " security/tests/test_login_page_rendering.py, 7  commits, 2 relations\n",
      " .pylintrc, 1  commits, 3 relations\n",
      " features/steps/AuthenticateUser.py, 17  commits, 9 relations\n",
      " security/__init__.py, 1  commits, 2 relations\n",
      " security/tests/__init__.py, 1  commits, 2 relations\n",
      " security/register.json, 2  commits, 5 relations\n",
      " security/roles.json, 2  commits, 5 relations\n",
      " webdrivers/linux/chromedriver, 1  commits, 0 relations\n",
      " TestDockerfile, 2  commits, 1 relations\n",
      " webdrivers/chromedriver, 5  commits, 4 relations\n",
      " Dockerfile, 4  commits, 2 relations\n",
      " apps/study/tests/test_webtest.py, 6  commits, 24 relations\n",
      " sessions/session_store.py, 13  commits, 51 relations\n",
      " apps/author/tests/test_controller.py, 3  commits, 2 relations\n",
      " shared/__init__.py, 1  commits, 4 relations\n",
      " behave.ini, 1  commits, 2 relations\n",
      " features/Authoring/AddNewQuiz.feature, 10  commits, 14 relations\n",
      " features/Authoring/EditQuiz.feature, 5  commits, 12 relations\n",
      " features/Learning/StudentAnswerQuestion.feature, 3  commits, 12 relations\n",
      " features/Learning/StudentInitiatesQuiz.feature, 3  commits, 12 relations\n",
      " test_enabler.py, 3  commits, 30 relations\n",
      " tests/__init__.py, 2  commits, 8 relations\n",
      " test_security_scratch.py, 12  commits, 35 relations\n",
      " quizzes/tests/__init__.py, 1  commits, 9 relations\n",
      " sessions/tests/__init__.py, 1  commits, 9 relations\n",
      " tests/test_filename_generation.py, 3  commits, 10 relations\n",
      " tests/test_quiz_session_store.py, 5  commits, 42 relations\n",
      " tests/test_quiz_store.py, 9  commits, 20 relations\n",
      " tests/test_session_cookie_handling.py, 5  commits, 24 relations\n",
      " apps/author/tests/__init__.py, 1  commits, 13 relations\n",
      " apps/study/tests/__init__.py, 1  commits, 13 relations\n",
      " tests/test_quiz_authoring_form.py, 16  commits, 27 relations\n",
      " tests/test_quiz_question.py, 4  commits, 44 relations\n",
      " tests/test_quiz_rendering.py, 10  commits, 62 relations\n",
      " tests/test_quiz_selection.py, 7  commits, 57 relations\n",
      " tests/test_quiz_session.py, 12  commits, 60 relations\n",
      " tests/test_webtest.py, 4  commits, 18 relations\n",
      " studycontroller.py, 2  commits, 9 relations\n",
      " apps/study/__init__.py, 1  commits, 16 relations\n",
      " apps/study/views/sub_progress.tpl, 1  commits, 16 relations\n",
      " apps/studying/__init__.py, 2  commits, 18 relations\n",
      " apps/studying/study.py, 4  commits, 19 relations\n",
      " apps/studying/views/quiz_judgment.tpl, 2  commits, 17 relations\n",
      " apps/studying/views/quiz_question.tpl, 2  commits, 17 relations\n",
      " apps/studying/views/quiz_selection.tpl, 2  commits, 18 relations\n",
      " apps/studying/views/sub_progress.tpl, 2  commits, 17 relations\n",
      " views/quiz_judgment.jinja, 3  commits, 17 relations\n",
      " views/sub_progress.tpl, 8  commits, 32 relations\n",
      " views/quiz_question.tpl, 27  commits, 40 relations\n",
      " views/quiz_judgment.tpl, 24  commits, 39 relations\n",
      " apps/author/__init__.py, 1  commits, 8 relations\n",
      " apps/authoring/__init__.py, 2  commits, 10 relations\n",
      " apps/authoring/author.py, 3  commits, 10 relations\n",
      " apps/authoring/views/quiz_authoring_form.tpl, 2  commits, 10 relations\n",
      " apps/study.py, 7  commits, 18 relations\n",
      " apps/author.py, 3  commits, 9 relations\n",
      " views/quiz_authoring_form.tpl, 10  commits, 13 relations\n",
      " quizzology.py, 30  commits, 53 relations\n",
      " apps/__init__.py, 1  commits, 3 relations\n",
      " setup.cfg, 1  commits, 1 relations\n",
      " features/Authoring/steps/AddNewQuiz.py, 3  commits, 2 relations\n",
      " features/PyCharmWorkaround.feature, 1  commits, 4 relations\n",
      " features/StudentAnswerQuestion.feature, 14  commits, 12 relations\n",
      " features/StudentInitiatesQuiz.feature, 2  commits, 7 relations\n",
      " features/StudentResearchesQuestion.feature, 2  commits, 6 relations\n",
      " features/AnswerQuestions.feature, 2  commits, 4 relations\n",
      " features/BasicQuizOperations.feature, 16  commits, 19 relations\n",
      " tests/ui_tests/__init__.py, 2  commits, 6 relations\n",
      " tests/ui_tests/ui_base_url.py, 2  commits, 6 relations\n",
      " ui_tests/__init__.py, 1  commits, 4 relations\n",
      " test_ui.py, 6  commits, 5 relations\n",
      " test_quiz_session.py, 37  commits, 32 relations\n",
      " test_quiz_session_store.py, 12  commits, 20 relations\n",
      " test_quiz_store.py, 16  commits, 27 relations\n",
      " test_session_cookie_handling.py, 3  commits, 7 relations\n",
      " test_quiz_question.py, 3  commits, 24 relations\n",
      " test_quiz_rendering.py, 30  commits, 31 relations\n",
      " test_quiz_selection.py, 32  commits, 20 relations\n",
      " question.py, 3  commits, 19 relations\n",
      " quiz.py, 14  commits, 26 relations\n",
      " quiz_store.py, 19  commits, 25 relations\n",
      " quizzes/__init__.py, 1  commits, 19 relations\n",
      " quizzes/cats.json, 7  commits, 24 relations\n",
      " quizzes/quiz_doc.json, 8  commits, 23 relations\n",
      " quizzes/simple_html.json, 4  commits, 22 relations\n",
      " session_store.py, 19  commits, 15 relations\n",
      " sessions/__init__.py, 1  commits, 6 relations\n",
      " features/steps/tutorial.py, 2  commits, 4 relations\n",
      " features/tutorial.feature, 3  commits, 4 relations\n",
      " views/session_progress.tpl, 4  commits, 8 relations\n",
      " static/favicon.ico, 2  commits, 2 relations\n",
      " Procfile, 1  commits, 0 relations\n",
      " .dockerignore, 1  commits, 2 relations\n",
      " views/main_quiz.tpl, 8  commits, 7 relations\n",
      " test_me.py, 8  commits, 10 relations\n",
      " quizzes/quiz_doc.txt, 2  commits, 5 relations\n",
      " quiz_doc.txt, 2  commits, 4 relations\n"
     ]
    }
   ],
   "source": [
    "commit_dict = dict(count_commits(commit_graph))\n",
    "connect_dict = dict(count_connections(repo_graph))\n",
    "for file in commit_dict.keys():\n",
    "    print(f' {file}, {commit_dict[file]}  commits, {connect_dict.get(file, 0)} relations')"
   ]
  },
  {
   "cell_type": "markdown",
   "id": "01ae6eed-20e6-4aa6-b92d-3942671187b5",
   "metadata": {
    "tags": []
   },
   "source": [
    "Interesting ideas\n",
    "* Average commit size\n",
    "* Tests included in commits?\n",
    "* Connected groups\n",
    "* Most edited files\n",
    "* Commit frequency\n",
    "* Defects vs Features vs Refactors vs Other (conventional commits?)\n",
    "* Ticket numbers and clustering of same"
   ]
  },
  {
   "cell_type": "code",
   "execution_count": 13,
   "id": "1dc203d5-d305-4fb5-b702-5d5075582993",
   "metadata": {
    "ExecuteTime": {
     "end_time": "2023-11-17T18:58:08.236399Z",
     "start_time": "2023-11-17T18:58:08.006648Z"
    }
   },
   "outputs": [
    {
     "ename": "NoSuchPathError",
     "evalue": "/Users/wpreid/Dropbox/Projects/Training/Fun_With_Programming/gitminer/gitminer-jupyter/quizzology",
     "output_type": "error",
     "traceback": [
      "\u001B[0;31m---------------------------------------------------------------------------\u001B[0m",
      "\u001B[0;31mNoSuchPathError\u001B[0m                           Traceback (most recent call last)",
      "Cell \u001B[0;32mIn[13], line 2\u001B[0m\n\u001B[1;32m      1\u001B[0m \u001B[38;5;66;03m# Average commit size\u001B[39;00m\n\u001B[0;32m----> 2\u001B[0m repo \u001B[38;5;241m=\u001B[39m \u001B[43mRepo\u001B[49m\u001B[43m(\u001B[49m\u001B[38;5;124;43m'\u001B[39;49m\u001B[38;5;124;43mquizzology\u001B[39;49m\u001B[38;5;124;43m'\u001B[39;49m\u001B[43m)\u001B[49m\n\u001B[1;32m      3\u001B[0m commits \u001B[38;5;241m=\u001B[39m [(commit\u001B[38;5;241m.\u001B[39mauthor\u001B[38;5;241m.\u001B[39mname, commit\u001B[38;5;241m.\u001B[39mauthored_datetime, \u001B[38;5;28mlen\u001B[39m(commit\u001B[38;5;241m.\u001B[39mstats\u001B[38;5;241m.\u001B[39mfiles))\n\u001B[1;32m      4\u001B[0m            \u001B[38;5;28;01mfor\u001B[39;00m commit\n\u001B[1;32m      5\u001B[0m            \u001B[38;5;129;01min\u001B[39;00m repo\u001B[38;5;241m.\u001B[39miter_commits()\n\u001B[1;32m      6\u001B[0m            ]\n\u001B[1;32m      7\u001B[0m pprint(commits[:\u001B[38;5;241m3\u001B[39m])\n",
      "File \u001B[0;32m~/Dropbox/Projects/Training/Fun_With_Programming/gitminer/gitminer-jupyter/venv/lib/python3.9/site-packages/git/repo/base.py:215\u001B[0m, in \u001B[0;36mRepo.__init__\u001B[0;34m(self, path, odbt, search_parent_directories, expand_vars)\u001B[0m\n\u001B[1;32m    213\u001B[0m \u001B[38;5;28;01mif\u001B[39;00m epath \u001B[38;5;129;01mis\u001B[39;00m \u001B[38;5;129;01mnot\u001B[39;00m \u001B[38;5;28;01mNone\u001B[39;00m:\n\u001B[1;32m    214\u001B[0m     \u001B[38;5;28;01mif\u001B[39;00m \u001B[38;5;129;01mnot\u001B[39;00m os\u001B[38;5;241m.\u001B[39mpath\u001B[38;5;241m.\u001B[39mexists(epath):\n\u001B[0;32m--> 215\u001B[0m         \u001B[38;5;28;01mraise\u001B[39;00m NoSuchPathError(epath)\n\u001B[1;32m    217\u001B[0m \u001B[38;5;66;03m## Walk up the path to find the `.git` dir.\u001B[39;00m\n\u001B[1;32m    218\u001B[0m \u001B[38;5;66;03m#\u001B[39;00m\n\u001B[1;32m    219\u001B[0m curpath \u001B[38;5;241m=\u001B[39m epath\n",
      "\u001B[0;31mNoSuchPathError\u001B[0m: /Users/wpreid/Dropbox/Projects/Training/Fun_With_Programming/gitminer/gitminer-jupyter/quizzology"
     ]
    }
   ],
   "source": [
    "# Average commit size\n",
    "repo = Repo('quizzology')\n",
    "commits = [(commit.author.name, commit.authored_datetime, len(commit.stats.files))\n",
    "           for commit\n",
    "           in repo.iter_commits()\n",
    "           ]\n",
    "pprint(commits[:3])"
   ]
  },
  {
   "cell_type": "code",
   "execution_count": null,
   "id": "1cc41f59-624c-46f5-9ea0-6de5ba4112ec",
   "metadata": {
    "tags": [],
    "ExecuteTime": {
     "end_time": "2023-11-17T18:58:08.240867Z",
     "start_time": "2023-11-17T18:58:08.238655Z"
    }
   },
   "outputs": [],
   "source": [
    "# How to break into separate components? "
   ]
  },
  {
   "cell_type": "code",
   "execution_count": null,
   "id": "7f0a22aa-fb96-4bff-a966-a2d0f0964642",
   "metadata": {
    "tags": [],
    "ExecuteTime": {
     "start_time": "2023-11-17T18:58:08.240186Z"
    }
   },
   "outputs": [],
   "source": [
    "fig, ax = plot.subplots(figsize=(24, 24))\n",
    "nx.draw_kamada_kawai(busiest_graph, **medium_labels)"
   ]
  },
  {
   "cell_type": "code",
   "execution_count": null,
   "id": "7a3dfa4b-b16d-4599-b6ba-700cd60af2b4",
   "metadata": {
    "tags": [],
    "ExecuteTime": {
     "start_time": "2023-11-17T18:58:08.242146Z"
    }
   },
   "outputs": [],
   "source": [
    "#What if we remove the most heavily connected items instead of the least-heavily?\n"
   ]
  },
  {
   "cell_type": "code",
   "execution_count": null,
   "id": "37c81f70-c00c-44fc-b0ca-b93b28a018cf",
   "metadata": {
    "tags": [],
    "ExecuteTime": {
     "end_time": "2023-11-17T18:58:08.245556Z",
     "start_time": "2023-11-17T18:58:08.244085Z"
    }
   },
   "outputs": [],
   "source": [
    "from statistics import mean, stdev, variance, multimode\n",
    "\n",
    "\n",
    "def print_stats(file_counts):\n",
    "    print(f'  Largest commit is {max(file_counts)} files')\n",
    "    print(f'  Average commit is {mean(file_counts)} files')\n",
    "    print(f'  Standard Deviation is {stdev(file_counts)}')\n",
    "    print(f'  Variance is {variance(file_counts)}')\n",
    "    print(f'  Multimode is {multimode(file_counts)}')"
   ]
  },
  {
   "cell_type": "code",
   "execution_count": null,
   "id": "225c5915-08e9-4f10-a425-2ee00ea356af",
   "metadata": {
    "tags": [],
    "ExecuteTime": {
     "start_time": "2023-11-17T18:58:08.246105Z"
    }
   },
   "outputs": [],
   "source": [
    "print(\"FULL repository Data Set\")\n",
    "print_stats([x for (_, _, x) in commits])"
   ]
  },
  {
   "cell_type": "code",
   "execution_count": null,
   "id": "fce493b7-27ec-4de4-ad86-3eb44f3cd518",
   "metadata": {
    "tags": [],
    "ExecuteTime": {
     "start_time": "2023-11-17T18:58:08.247592Z"
    }
   },
   "outputs": [],
   "source": [
    "# Maybe a multigraph is wise?\n",
    "repo = Repo(\"quizzology\")\n",
    "repo_multigraph = nx.MultiGraph()\n",
    "for commit in repo.iter_commits():\n",
    "    for (left, right) in combinations(commit.stats.files, 2):\n",
    "        repo_multigraph.add_edge(left, right)"
   ]
  },
  {
   "cell_type": "markdown",
   "id": "abbe8bcc-f4b4-416a-98dc-05d0be2afa13",
   "metadata": {},
   "source": [
    "# Activity Graph Concept\n",
    "A graph of the number of commits per day might be useful - a stacked bar graph if you can tell what kinds of commits.\n",
    "I imagine coloring the stack by 'conventional commit' topics: fixes on bottom, then feature, then whatever else.\n",
    "'Commit Cadence'\n",
    "\n",
    "Can we discern the kinds of commits we're looking at via ticket names, conventional commits, or Belshee commits?\n",
    "\n",
    "Can we eliminate trivial commits (less than one line of change, less than 10 characters, etc.)?"
   ]
  },
  {
   "cell_type": "code",
   "execution_count": null,
   "id": "bffa7099-bca7-4d37-9427-1be0c8c92258",
   "metadata": {
    "tags": [],
    "ExecuteTime": {
     "start_time": "2023-11-17T18:58:08.249037Z"
    }
   },
   "outputs": [],
   "source": [
    "# This is probably the wrong visualization. \n",
    "for topic in nx.connected_components(repo_multigraph):\n",
    "    nx.draw(repo_multigraph, **little_labels)\n",
    "    # Kittens appear more than once, as do quizzical cats. I think this provides too much info."
   ]
  },
  {
   "cell_type": "code",
   "execution_count": null,
   "id": "630de221-4e91-4e20-9133-28b775dd4bb0",
   "metadata": {
    "tags": [],
    "ExecuteTime": {
     "start_time": "2023-11-17T18:58:08.250136Z"
    }
   },
   "outputs": [],
   "source": [
    "from datetime import datetime, timedelta\n",
    "\n",
    "\n",
    "def within_dates(start_date: datetime, end_date: datetime):\n",
    "    return [count\n",
    "            for (_, timestamp, count) in commits\n",
    "            if start_date <= timestamp.date() <= end_date\n",
    "            ]\n",
    "\n",
    "\n",
    "end_date = datetime.today().astimezone().date()\n",
    "start_date = end_date - timedelta(days=400)\n",
    "print(f'From {start_date} to {end_date}')\n",
    "\n",
    "dataset = within_dates(start_date, end_date)\n",
    "print(f'commits: {len(dataset)}')\n",
    "print_stats(dataset)"
   ]
  },
  {
   "cell_type": "markdown",
   "id": "8a738546-d41b-4e9e-bc4d-a790eac26d2b",
   "metadata": {},
   "source": [
    "# Rolling graph of just the past N days\n",
    "\n",
    "Use the timestamp from the repo_graph to filter down the commits\n",
    "\n",
    "Graph the commits as of a certain day, with a window of N days prior\n",
    "Graph repeatedly, show maybe bar graphs and such? \n",
    "\n"
   ]
  },
  {
   "cell_type": "markdown",
   "id": "8b470f6a",
   "metadata": {
    "ExecuteTime": {
     "end_time": "2023-04-13T08:08:30.331910Z",
     "start_time": "2023-04-13T08:08:11.071401Z"
    }
   },
   "source": [
    "# Drill down Notes\n",
    "\n",
    "It seems that we could produce a heatmap as a treemap, with drill-down.\n",
    "\n",
    "* At the top it would have perhaps the connected components.\n",
    "* Under that, the directories.\n",
    "* Under directories, the files.\n",
    "* Under a file, the file's strongest associations\n",
    "* Under each association, a list of the commits (hash & message)\n",
    "* Under the list item, a diff from git.\n"
   ]
  },
  {
   "cell_type": "code",
   "execution_count": null,
   "id": "a42d3d17",
   "metadata": {
    "ExecuteTime": {
     "start_time": "2023-11-17T18:58:08.251542Z"
    }
   },
   "outputs": [],
   "source": [
    "# New focus:\n",
    "# given file 'main.py'\n",
    "given = 'main.py'\n"
   ]
  },
  {
   "cell_type": "code",
   "execution_count": null,
   "outputs": [],
   "source": [],
   "metadata": {
    "collapsed": false,
    "ExecuteTime": {
     "start_time": "2023-11-17T18:58:08.252908Z"
    }
   },
   "id": "dc73278d328a2a3e"
  }
 ],
 "metadata": {
  "kernelspec": {
   "name": "python3",
   "language": "python",
   "display_name": "Python 3 (ipykernel)"
  },
  "language_info": {
   "codemirror_mode": {
    "name": "ipython",
    "version": 3
   },
   "file_extension": ".py",
   "mimetype": "text/x-python",
   "name": "python",
   "nbconvert_exporter": "python",
   "pygments_lexer": "ipython3",
   "version": "3.11.2"
  },
  "toc-autonumbering": true,
  "toc-showmarkdowntxt": false
 },
 "nbformat": 4,
 "nbformat_minor": 5
}
